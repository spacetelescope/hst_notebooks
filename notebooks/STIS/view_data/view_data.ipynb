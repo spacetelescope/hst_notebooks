{
 "cells": [
  {
   "cell_type": "markdown",
   "id": "dfbecb61",
   "metadata": {},
   "source": [
    "<a id=top></a>\n",
    "# Viewing STIS Data"
   ]
  },
  {
   "cell_type": "markdown",
   "id": "4becbe23",
   "metadata": {},
   "source": [
    "## Learning Goals\n",
    "By the end of this tutorial, you will go through: \n",
    "- [0.Introduction](#section0)\n",
    "    - [0.1 Import necessary packages](#section0.1) \n",
    "- [1. Downloading STIS data from MAST using astroquery](#section1) \n",
    "- [2. Reading in the data](#section2)\n",
    "    - [2.1 Investigating the data - Basics](#section2.1)\n",
    "    - [2.2 Reading the table data](#section2.2)\n",
    "- [3. Plotting the spectrum](#section3)\n",
    "    - [3.1 Making a simple plot of the spectrum](#section3.1)\n",
    "- [4. Working with data quality flags](#section4)\n",
    "    - [4.1 Data quality frequencies histogram](#section4.1)\n",
    "    - [4.2 Removing \"Serious Data Quality\"](#section4.2)\n",
    "- [5. Visualizing STIS Image](#section5)\n",
    "    - [5.1 Exploring image file structure](#section5.1)\n",
    "    - [5.2 Showing the image](#section5.2)\n",
    "    - [5.3 Removing serious data quality pixels](#section5.3)\n",
    "- [6.Working with Time-Tag Data](#section6)\n",
    "    - [6.1 Investigating the _tag Data](#section6.1)\n",
    "    - [6.2 Converting Time_Tag into ACCUM image](#section6.2)\n",
    "- [7.Working with STIS Echelle data](#section7)\n",
    "    - [7.1 Showing Echelle Image](#section7.1)\n",
    "    - [7.2 Plotting Echelle Spectrum](#section7.2)"
   ]
  },
  {
   "cell_type": "markdown",
   "id": "c0aecc8c",
   "metadata": {},
   "source": [
    "<a id=section0></a>\n",
    "## 0. Introduction"
   ]
  },
  {
   "cell_type": "markdown",
   "id": "2ac4824c",
   "metadata": {},
   "source": [
    "**The Space Telescope Imaging Spectrograph ([STIS](https://www.stsci.edu/hst/instrumentation/stis)) is a versatile imaging spectrograph installed on the Hubble Space Telescope ([HST](https://www.stsci.edu/hst/about)), covering a wide range of wavelengths from the near-infrared region into the ultraviolet.**\n",
    "\n",
    "**This tutorial aims to prepare new users to begin analyzing STIS data by going through downloading data, reading and viewing spectra, and viewing STIS images.**\n",
    "\n",
    "**There are three detectors on STIS: FUV-MAMA, NUV-MAMA, and CCD. While the detectors are designed for different scientific purposes and operate at a different wavelength, their data are organized in the same structure. Thus we are using FUV-MAMA data as an example in this notebook.**\n",
    "\n",
    "For a detailed overview of the STIS instrument, see the [STIS Instrument Handbook](https://hst-docs.stsci.edu/stisihb). \\\n",
    "For more information on STIS data analysis and operations, see the [STIS Data Handbook](https://hst-docs.stsci.edu/stisdhb).\n",
    "\n",
    "**Defining some terms:**\n",
    "\n",
    "* **HST:** Hubble Space Telescope\n",
    "* **STIS:** Space Telescope Imaging Spectrograph on HST (https://www.stsci.edu/hst/instrumentation/stis)\n",
    "* **STIS/NUV-MAMA:** Cs2Te Multi-Anode Microchannel Array (MAMA) detector for observing mainly in the near ultraviolet (NUV)\n",
    "* **STIS/FUV-MAMA:** Solar-blind CsI Multi-Anode Microchannel Array (MAMA) detector for observing mainly in the far ultraviolet (FUV)\n",
    "* **CCD:** Charge Coupled Device \n",
    "* **FITS:** Flexible Image Transport System (https://fits.gsfc.nasa.gov/fits_primer.html)\n",
    "* **HDU:** Header/Data Unit in a FITS file"
   ]
  },
  {
   "cell_type": "markdown",
   "id": "d339b7c0",
   "metadata": {},
   "source": [
    "<a id=section0.1></a>\n",
    "### 0.1 Import necessary packages\n",
    "\n",
    "**We will import the following packages:**\n",
    "\n",
    "- `astropy.io.fits` for accessing FITS files\n",
    "- `astropy.table.Table` for creating tidy tables of the data\n",
    "- `astroquery.mast.Observations` for finding and downloading data from the [MAST](https://mast.stsci.edu/portal/Mashup/Clients/Mast/Portal.html) archive\n",
    "- `pathlib` for managing system paths\n",
    "- `matplotlib.pyplot` for plotting data\n",
    "- `IPython.display` for formatting display\n",
    "- `numpy` to handle array functions\n",
    "- `pandas` to make basic tables and dataframes\n",
    "- `stistools` for operations on STIS data"
   ]
  },
  {
   "cell_type": "code",
   "execution_count": null,
   "id": "8bc0759e",
   "metadata": {},
   "outputs": [],
   "source": [
    "# Import for: Reading in fits file\n",
    "from astropy.table import Table\n",
    "from astropy.io import fits\n",
    "\n",
    "# Import for: Downloading necessary files. (Not necessary if you choose to collect data from MAST)\n",
    "from astroquery.mast import Observations\n",
    "\n",
    "# Import for: Managing system variables and paths\n",
    "from pathlib import Path\n",
    "\n",
    "# Import for: Plotting and specifying plotting parameters\n",
    "import matplotlib.pyplot as plt\n",
    "import matplotlib\n",
    "import matplotlib.cm as cm\n",
    "from IPython.display import display\n",
    "\n",
    "# Import for: Quick Calculation and Data Analysis\n",
    "import numpy as np\n",
    "import pandas as pd\n",
    "\n",
    "# Import for operations on STIS Data\n",
    "import stistools"
   ]
  },
  {
   "cell_type": "markdown",
   "id": "54143267",
   "metadata": {},
   "source": [
    "<a id=section1></a>\n",
    "## 1. Downloading STIS data from [MAST](https://archive.stsci.edu/) using [`astroquery`](https://astroquery.readthedocs.io/en/latest/)\n",
    "There are other ways to download data from MAST such as using CyberDuck. We are only showing how to use astroquery in this notebook"
   ]
  },
  {
   "cell_type": "code",
   "execution_count": null,
   "id": "8a6b6c99",
   "metadata": {},
   "outputs": [],
   "source": [
    "# make directory for downloading data\n",
    "datadir = Path('./data')\n",
    "datadir.mkdir(exist_ok=True)"
   ]
  },
  {
   "cell_type": "code",
   "execution_count": null,
   "id": "fc037ab0",
   "metadata": {},
   "outputs": [],
   "source": [
    "# Search target object by obs_id\n",
    "target = Observations.query_criteria(obs_id='ODJ102010')\n",
    "# get a list of files assiciated with that target\n",
    "FUV_list = Observations.get_product_list(target)\n",
    "# Download only the SCIENCE fits files\n",
    "downloads = Observations.download_products(\n",
    "    FUV_list,\n",
    "    productType='SCIENCE',\n",
    "    extension='fits',\n",
    "    download_dir=str(datadir))\n",
    "downloads"
   ]
  },
  {
   "cell_type": "markdown",
   "id": "7c3830eb",
   "metadata": {},
   "source": [
    "<a id=section2></a>\n",
    "## 2. Reading in the data"
   ]
  },
  {
   "cell_type": "markdown",
   "id": "8f1f668b",
   "metadata": {},
   "source": [
    "<a id=section2.1></a>\n",
    "### 2.1 Investigating the data - Basics\n",
    "Before doing any operations on the data, we want to first explore the basics and data file structures."
   ]
  },
  {
   "cell_type": "markdown",
   "id": "3ea98fa6",
   "metadata": {},
   "source": [
    "The 1D-extracted, background subtracted, flux and wavelength calibrated spectra data are stored in a FITS file with suffix `_x1d` (note that for the CCD it is `_sx1`). While we are using the `_x1d` FITS file as an example of investigating STIS data, the following methods for reading in data and viewing a spectra or other fields can be applied to the other STIS data, either calibrated or uncalibrated. For more information on STIS file naming conventions, see [Types of STIS Files](https://hst-docs.stsci.edu/stisdhb/chapter-2-stis-data-structure/2-2-types-of-stis-files) in the STIS Data Handbook.\n",
    "\n",
    "Open the `x1d` fits file and explore its info and header:"
   ]
  },
  {
   "cell_type": "code",
   "execution_count": null,
   "id": "e1283079",
   "metadata": {},
   "outputs": [],
   "source": [
    "# get information about the fits file\n",
    "x1d_file = Path('./data/mastDownload/HST/odj102010/odj102010_x1d.fits')\n",
    "fits.info(x1d_file)"
   ]
  },
  {
   "cell_type": "markdown",
   "id": "cb79c794",
   "metadata": {},
   "source": [
    "The primary header that stores keyword information describing the global properties of all of the exposures in the file "
   ]
  },
  {
   "cell_type": "code",
   "execution_count": null,
   "id": "1f20c403",
   "metadata": {},
   "outputs": [],
   "source": [
    "# get header of the fits file\n",
    "x1d_header_0 = fits.getheader(x1d_file, ext=0)\n",
    "\n",
    "for key in [\"INSTRUME\", \"DETECTOR\", \"OBSMODE\", \"OPT_ELEM\", \"CENWAVE\", \"PROPAPER\", \"TARGNAME\"]:\n",
    "    print(f\"{key}:\\t{x1d_header_0[key]}\")   "
   ]
  },
  {
   "cell_type": "markdown",
   "id": "5bae7077",
   "metadata": {},
   "source": [
    "You can change the keys to check for other fields and metadata, or directly print the x1d_header_0 to get all header information.\n",
    "\n",
    "Some other metadata, such as exposure data and time, are stored in the first extension."
   ]
  },
  {
   "cell_type": "code",
   "execution_count": null,
   "id": "45cad422",
   "metadata": {},
   "outputs": [],
   "source": [
    "x1d_header_1 = fits.getheader(x1d_file, ext=1)\n",
    "\n",
    "date = x1d_header_1[\"DATE-OBS\"]\n",
    "time = x1d_header_1[\"Time-OBS\"]\n",
    "exptime = x1d_header_1[\"EXPTIME\"]\n",
    "\n",
    "print(f\"The data were taken on {date}, starting at {time}, with the exposure time of {exptime} seconds\")"
   ]
  },
  {
   "cell_type": "markdown",
   "id": "bad0e258",
   "metadata": {},
   "source": [
    "<a id=section2.2></a>\n",
    "### 2.2 Reading table data\n",
    "The main science data is stored in the first extension of the x1d FITS file. We first read in the data as an astropy Table."
   ]
  },
  {
   "cell_type": "code",
   "execution_count": null,
   "id": "5386d0c9",
   "metadata": {},
   "outputs": [],
   "source": [
    "# Get data\n",
    "x1d_data = Table.read(x1d_file, hdu=1)\n",
    "# Display a representation of the data:\n",
    "x1d_data"
   ]
  },
  {
   "cell_type": "code",
   "execution_count": null,
   "id": "05623858",
   "metadata": {
    "scrolled": true
   },
   "outputs": [],
   "source": [
    "# We can also get the columns of this table:\n",
    "columns = x1d_data.colnames\n",
    "columns"
   ]
  },
  {
   "cell_type": "markdown",
   "id": "6b601daa",
   "metadata": {},
   "source": [
    "Another common way of reading in FITS data from an HDU list as \"FITS_rec\":"
   ]
  },
  {
   "cell_type": "code",
   "execution_count": null,
   "id": "ecae0309",
   "metadata": {},
   "outputs": [],
   "source": [
    "with fits.open(x1d_file) as hdulist:\n",
    "    fuv_x1d_data = hdulist[1].data\n",
    "    \n",
    "type(fuv_x1d_data)"
   ]
  },
  {
   "cell_type": "markdown",
   "id": "2719dc37",
   "metadata": {},
   "source": [
    "<a id=section3></a>\n",
    "## 3. Plotting the spectrum"
   ]
  },
  {
   "cell_type": "markdown",
   "id": "cb546bf3",
   "metadata": {},
   "source": [
    "<a id=section3.1></a>\n",
    "### 3.1 Making a simple plot of the spectrum\n",
    "The actual data of each column are stored in arrays within each row with equal lengths. We collect the spectrum data and plot them with corresponding error bars."
   ]
  },
  {
   "cell_type": "code",
   "execution_count": null,
   "id": "cc4523c9",
   "metadata": {},
   "outputs": [],
   "source": [
    "# From the astropy table, we first get all the data we need: wavelength, flux, and error\n",
    "# notice that for astropy table, the column name is case sensitive\n",
    "# First-order data have data in only the 0th row, so we extract this sparse dimension.\n",
    "wl, flux, err = x1d_data[0]['WAVELENGTH', 'FLUX', 'ERROR']\n",
    "\n",
    "# Make a plot of the data, use this cell to specify the format of the plot.\n",
    "matplotlib.rcParams['figure.figsize'] = [20, 7]\n",
    "plt.style.use('bmh')\n",
    "\n",
    "plt.plot(wl, flux,  # the x-data & y-data\n",
    "         marker='.', markersize=2, markerfacecolor='w', markeredgewidth=0) # specifies the data points style\n",
    "plt.fill_between(wl, flux - err, flux + err, alpha=0.5)  # shade regions by width of error array\n",
    "plt.title('STIS FUV Spectrum')\n",
    "plt.xlabel('Wavelength (Å)')\n",
    "plt.ylabel('Flux (ergs/s/cm$^2$/Å)')"
   ]
  },
  {
   "cell_type": "markdown",
   "id": "66b1640d",
   "metadata": {},
   "source": [
    "You can zoom in to a specific wavelength range"
   ]
  },
  {
   "cell_type": "code",
   "execution_count": null,
   "id": "60464c79",
   "metadata": {},
   "outputs": [],
   "source": [
    "# plot the spectrum between 1540 and 1560 Å:\n",
    "plt.plot(wl, flux,  # the x-data & y-data\n",
    "         marker='.', markersize=2, markerfacecolor='w', markeredgewidth=0,  # specifies the data point style\n",
    "         color='blue')  # specifies the format of lines\n",
    "plt.fill_between(wl, flux - err, flux + err, alpha=0.5)  # shade regions by width of error array\n",
    "plt.title('STIS FUV Spectrum')\n",
    "plt.xlabel('Wavelength (Å)')\n",
    "plt.ylabel(\"Flux (ergs/s/cm$^2$/Å)\")\n",
    "plt.xlim(1540, 1560)"
   ]
  },
  {
   "cell_type": "markdown",
   "id": "661630d5",
   "metadata": {},
   "source": [
    "You can also plot the error bar together with the spectrum. For more errorbar styling options, see [`matplotlib.pyplot.errorbar`](https://matplotlib.org/stable/api/_as_gen/matplotlib.pyplot.errorbar.html)"
   ]
  },
  {
   "cell_type": "code",
   "execution_count": null,
   "id": "1acac452",
   "metadata": {},
   "outputs": [],
   "source": [
    "plt.errorbar(wl, flux, err,  # the x-data, y-data, and y-axis error\n",
    "             marker='.', markersize=2, markerfacecolor='w', markeredgewidth=0, color='blue',  # specifies the data points style\n",
    "             ecolor='dodgerblue', capsize=0.1)  # specifies the format of lines and error bar\n",
    "plt.title('STIS FUV Spectrum')\n",
    "plt.xlabel('Wavelength (Å)')\n",
    "plt.ylabel('Flux (ergs/s/cm$^2$/Å)')\n",
    "plt.xlim(1540, 1560)"
   ]
  },
  {
   "cell_type": "markdown",
   "id": "67a53751",
   "metadata": {},
   "source": [
    "For more information on formatting the plots using matplotlib, see [`matplotlib.pyplot.plot`](https://matplotlib.org/stable/api/_as_gen/matplotlib.pyplot.plot.html), [`matplotlib.pyplot.errorbar`](https://matplotlib.org/stable/api/_as_gen/matplotlib.pyplot.errorbar.html)."
   ]
  },
  {
   "cell_type": "markdown",
   "id": "86f8d96f",
   "metadata": {},
   "source": [
    "<a id=section4></a>\n",
    "## 4.Working with data quality flags\n",
    "\n",
    "Data quality flags are assigned to each pixel in the data quality extension. Each flag has a true (set) or false (unset) state. Flagged conditions are set as specific bits in a 16-bit integer word. For a single pixel, this allows for up to 15 data quality conditions to be flagged simultaneously, using the bitwise logical OR operation. Note that the data quality flags cannot be interpreted simply as integers but may be converted to base-2 and interpreted as flags. These flags are set and used during the course of calibration, and may likewise be interpreted and used by downstream analysis applications."
   ]
  },
  {
   "cell_type": "markdown",
   "id": "c18509ad",
   "metadata": {},
   "source": [
    "<a id=section4.1></a>\n",
    "### 4.1 Data quality frequencies histogram\n",
    "Make a histogram according to the data quality flags, and label the bins by what each data quality values actually means.\n",
    "More info: https://hst-docs.stsci.edu/stisdhb/chapter-2-stis-data-structure/2-5-error-and-data-quality-array"
   ]
  },
  {
   "cell_type": "code",
   "execution_count": null,
   "id": "747924e2",
   "metadata": {},
   "outputs": [],
   "source": [
    "# First get the possible data quality flag values to bitwise-and with the data quality flag:\n",
    "dq_flags = ['Exclusively 0'] + list(1 << np.arange(0, 15))\n",
    "\n",
    "dq_bits = {}\n",
    "# In the Table representation, the data quality flag is a masked array that \"hides\" the pixels\n",
    "# with no data quality issue. We fill those \"good points\" with 0 here when counting:\n",
    "dq_bits[0] = np.count_nonzero(x1d_data[0]['DQ'].filled(0) == 0)  # exclusively 0\n",
    "\n",
    "# Loop over non-zero flag values and count each:\n",
    "for dq_flag in dq_flags[1:]:\n",
    "    dq_bits[dq_flag] = np.count_nonzero((x1d_data[0]['DQ'] & dq_flag))\n",
    "\n",
    "dq_bits"
   ]
  },
  {
   "cell_type": "code",
   "execution_count": null,
   "id": "7b9f06a8",
   "metadata": {},
   "outputs": [],
   "source": [
    "# Assign the meaning of each data quality and make a histogram\n",
    "meanings = {\n",
    "    0:  \"No Anomalies\",\n",
    "    1:  \"Error in the Reed Solomon decoding\",\n",
    "    2:  \"Lost data replaced by fill values\",\n",
    "    3:  \"Bad detector pixel (e.g., bad column or row, mixed science and bias for overscan, or beyond aperture)\",\n",
    "    4:  \"Data masked by occulting bar\",\n",
    "    5:  \"Pixel having dark rate > 5 σ times the median dark level\",\n",
    "    6:  \"Large blemish, depth > 40% of the normalized p-flat (repeller wire)\",\n",
    "    7:  \"Vignetted pixel\",\n",
    "    8:  \"Pixel in the overscan region\",\n",
    "    9:  \"Saturated pixel, count rate at 90% of max possible—local non-linearity turns over and is multi-valued; \"\n",
    "        \"pixels within 10% of turnover and all pixels within 4 pixels of that pixel are flagged.\",\n",
    "    10: \"Bad pixel in reference file\",\n",
    "    11: \"Small blemish, depth between 40% and 70% of the normalized flat. Applies to MAMA and CCD p-flats\",\n",
    "    12: \">30% of background pixels rejected by sigma-clip, or flagged, during 1-D spectral extraction\",\n",
    "    13: \"Extracted flux affected by bad input data\",\n",
    "    14: \"Data rejected in input pixel during image combination for cosmic ray rejection\",\n",
    "    15: \"Extracted flux not CTI corrected because gross counts are ≤ 0\"}\n",
    "\n",
    "plt.bar(meanings.keys(), height=dq_bits.values(), tick_label=dq_flags)\n",
    "plt.gca().set_xticklabels(dq_flags, rotation=-45, fontsize=15)\n",
    "plt.yscale('log')\n",
    "plt.ylim(0.5, 2000)\n",
    "plt.show()\n",
    "\n",
    "bits = [f'{0:015b}'] + [f'{1 << x:015b}' for x in range(0, 15)]\n",
    "\n",
    "dq_table = pd.DataFrame({\n",
    "    \"Flag Value\": dq_flags,\n",
    "    \"Bit Setting\": bits,\n",
    "    \"Quality Condition Indicated\": meanings.values()})\n",
    "dq_table.set_index('Flag Value', drop=True, inplace=True)\n",
    "\n",
    "pd.set_option('display.max_colwidth', None)\n",
    "display(dq_table)"
   ]
  },
  {
   "cell_type": "markdown",
   "id": "ea272859",
   "metadata": {},
   "source": [
    "<a id=section4.2></a>\n",
    "### 4.2 Removing \"Serious Data Quality Flags\"\n",
    "Through the calibaration pipeline, some data qualities are marked \"serious\". The value of serious data qualities are marked through \"SDQFLAGS\". We can decompose that value according to the bits in order to see the specific data quality flags that are marked serious."
   ]
  },
  {
   "cell_type": "code",
   "execution_count": null,
   "id": "5e902822",
   "metadata": {
    "scrolled": true
   },
   "outputs": [],
   "source": [
    "sdqFlags_fuv = fits.getval(x1d_file, ext=1, keyword=\"SDQFLAGS\")\n",
    "print(f'The SDQFLAGS is {sdqFlags_fuv}, which is in binary {sdqFlags_fuv:015b},')\n",
    "print('Therefore the following data qualities are marked \"serious\":')\n",
    "for i in range(15):\n",
    "    if 2**i & sdqFlags_fuv:\n",
    "        print(f'\\t{i+1:2.0f}: ' + meanings[i+1])"
   ]
  },
  {
   "cell_type": "markdown",
   "id": "1e945244",
   "metadata": {},
   "source": [
    "We can now remove the data points with SDQ flags. In the plots below, the first one is the same as the spectrum in which we do not handle the SDQ flags. The second one is the spectrum with SDQ flagged data removed, and the SDQ flagged data points are marked with red '+'."
   ]
  },
  {
   "cell_type": "code",
   "execution_count": null,
   "id": "09d4befa",
   "metadata": {},
   "outputs": [],
   "source": [
    "fig, axes = plt.subplots(2, 1)\n",
    "fig.set_size_inches(20, 10)\n",
    "plt.style.use('bmh')\n",
    "\n",
    "# First zoom in to the region where SDQ got removed\n",
    "wl, flux, err, dq = x1d_data[0]['WAVELENGTH', 'FLUX', 'ERROR', 'DQ']\n",
    "\n",
    "# Filter the datapoints to where there are no serious DQ flags\n",
    "mask_noSDQ = (dq & sdqFlags_fuv) == 0\n",
    "\n",
    "# get the spectrum without SDQ using the mask we just created\n",
    "wvln_noSDQ, flux_noSDQ, err_noSDQ = wl[mask_noSDQ], flux[mask_noSDQ], err[mask_noSDQ]\n",
    "# inverse the _noSDQ mask to collect the data points with SDQ flags\n",
    "wvln_SDQ, flux_SDQ = wl[~mask_noSDQ], flux[~mask_noSDQ]  # apply the bitwise-not of mask\n",
    "\n",
    "# plot1: the spectrum with SDQ flagged data included\n",
    "# plt.subplot(2,1,1)\n",
    "axes[0].plot(wl, flux,  # the x-data, y-data\n",
    "             marker='.', markersize=2, markerfacecolor='w', markeredgewidth=0)  # specifies the data points style\n",
    "\n",
    "# plot2: plot the spectrum without SDQ flagged data, then mark the SDQ data points with +\n",
    "# Plot the filtered datapoints\n",
    "axes[1].plot(wvln_noSDQ, flux_noSDQ,  # the x-data, y-data\n",
    "             marker='.', markersize=2, markerfacecolor='w', markeredgewidth=0, label=\"SDQ cleaned spectrum\")\n",
    "axes[1].plot(wvln_SDQ, flux_SDQ, 'r+', label='SDQ-flagged data')\n",
    "axes[1].legend(loc='best')\n",
    "\n",
    "# Format the figures:\n",
    "axes[0].set_title('FUV with SDQ-flagged data')\n",
    "axes[1].set_title('FUV without SDQ flagged data')\n",
    "for ax in axes:\n",
    "    ax.set_xlabel('Wavelength (Å)')\n",
    "    ax.set_ylabel('Flux (ergs/s/cm$^2$/Å)')\n",
    "    ax.set_xlim(wl.min() - 0.5, 1520)  # zoom in on left edge"
   ]
  },
  {
   "cell_type": "markdown",
   "id": "799cc510",
   "metadata": {},
   "source": [
    "<a id=section5></a>\n",
    "## 5. Visualizing STIS Image\n",
    "\n",
    "The STIS images are stored as two-dimensional arrays in FITS image extension files. For more information on STIS image files and extension, see [STIS FITS Image Extension Files](https://hst-docs.stsci.edu/stisdhb/chapter-2-stis-data-structure/2-3-stis-file-structures#id-2.3STISFileStructures-2.3.12.3.1STISFITSImageExtensionFiles)"
   ]
  },
  {
   "cell_type": "markdown",
   "id": "b4bdad56",
   "metadata": {},
   "source": [
    "<a id=section5.1></a>\n",
    "### 5.1 Exploring image file structure\n",
    "The rectified, wavelength and flux calibrated first order spectra or Geometrically corrected imaging data is stored in the fits file with the x2d extension (note that for the CCD the similar extension is sx2). Similar to what we did to the x1d file, we first open the fits file to explore its file structure."
   ]
  },
  {
   "cell_type": "code",
   "execution_count": null,
   "id": "ee6bb885",
   "metadata": {},
   "outputs": [],
   "source": [
    "# read in the x2d file and get its info\n",
    "x2d_file = Path('./data/mastDownload/HST/odj102010/odj102010_x2d.fits')\n",
    "fits.info(x2d_file)"
   ]
  },
  {
   "attachments": {
    "ch2_stis_data4.1.jpg": {
     "image/jpeg": "[encoded data removed]"
    }
   },
   "cell_type": "markdown",
   "id": "f054546f",
   "metadata": {},
   "source": [
    "- The first, of extension type SCI, stores the science count/flux values.\n",
    "- The second, of extension type ERR, contains the statistical errors, which are propagated through the calibration process. It is unpopulated in raw data files.\n",
    "- The third, of extension type DQ, stores the data quality values, which flag suspect pixels in the corresponding SCI data. It is unpopulated in raw data files.\n",
    "\n",
    "![ch2_stis_data4.1.jpg](attachment:ch2_stis_data4.1.jpg)"
   ]
  },
  {
   "cell_type": "markdown",
   "id": "e65d4836",
   "metadata": {},
   "source": [
    "Similarly, we can also get the header from this FITS file to see the scientific metadata."
   ]
  },
  {
   "cell_type": "code",
   "execution_count": null,
   "id": "4df19935",
   "metadata": {},
   "outputs": [],
   "source": [
    "# get header of the fits file\n",
    "x2d_header = fits.getheader(x2d_file, ext=0)\n",
    "x2d_header[:15]  # additional lines are not displayed here"
   ]
  },
  {
   "cell_type": "markdown",
   "id": "de1753da",
   "metadata": {},
   "source": [
    "<a id=section5.2></a>\n",
    "### 5.2 Showing the image\n",
    "Now we collect the science image data from the fits file and show the image."
   ]
  },
  {
   "cell_type": "code",
   "execution_count": null,
   "id": "7df3e9f9",
   "metadata": {},
   "outputs": [],
   "source": [
    "# get data as a numpy array\n",
    "with fits.open(x2d_file) as hdu_list:\n",
    "    x2d_data = hdu_list[1].data"
   ]
  },
  {
   "cell_type": "markdown",
   "id": "3b05fdc3",
   "metadata": {},
   "source": [
    "Make a histogram of the magnitude of the image data so that we have a general idea on the distribution. Knowing the distribution is essential for us to normalize the data when showing the image."
   ]
  },
  {
   "cell_type": "code",
   "execution_count": null,
   "id": "7d04df6b",
   "metadata": {},
   "outputs": [],
   "source": [
    "# remove infinities and NaNs from the data when making the histogram\n",
    "filtered_data = [v for row in np.log10(x2d_data) for v in row if not (np.isinf(v) or np.isnan(v))]\n",
    "\n",
    "fig, ax = plt.subplots(1, 1)\n",
    "fig.set_size_inches(15, 5)\n",
    "\n",
    "ax.hist(filtered_data, range=[-20.5, -8.5], bins=12)\n",
    "ax.set_xlabel('Magnitude order of _x2d image data')\n",
    "ax.set_ylabel('count')\n",
    "ax.set_title('_x2d Data Magnitude Order frequencies')"
   ]
  },
  {
   "cell_type": "markdown",
   "id": "40d3076e",
   "metadata": {},
   "source": [
    "When showing the image, we normalize the color of each pixel to a specific range through vmin and vmax to make the features of image clear. These values typically matches the magnitude of the `x2d` data according to the histogram above, but can be experimented and changed to bring out features at different levels."
   ]
  },
  {
   "cell_type": "code",
   "execution_count": null,
   "id": "3d6d5527",
   "metadata": {},
   "outputs": [],
   "source": [
    "# show the image\n",
    "matplotlib.rcParams['figure.figsize'] = (10, 10)\n",
    "plt.imshow(x2d_data, origin='lower', vmin=0, vmax=1e-13, cmap=\"viridis\")"
   ]
  },
  {
   "cell_type": "markdown",
   "id": "20adbab9",
   "metadata": {},
   "source": [
    "For more color map and normalizing options, see: [`Choosing Colormaps in Matplotlib`](https://matplotlib.org/stable/tutorials/colors/colormaps.html), [`matplotlib.pyplot.imshow`](https://matplotlib.org/stable/api/_as_gen/matplotlib.pyplot.imshow.html)."
   ]
  },
  {
   "cell_type": "markdown",
   "id": "a649a5b8",
   "metadata": {},
   "source": [
    "<a id=section5.3></a>\n",
    "### 5.3 Removing serious data quality pixels\n",
    "Now we are going to remove the pixels with series data quality flags as described above. The removed pixels will appear grey like the background. The horizontal stripes of removed data are from the bar (top) and repeller wire shadow (middle)."
   ]
  },
  {
   "cell_type": "code",
   "execution_count": null,
   "id": "f87726da",
   "metadata": {},
   "outputs": [],
   "source": [
    "# get the serious data quality flag\n",
    "sdqFlags_fuv = fits.getheader(x2d_file, 1)[\"SDQFLAGS\"]\n",
    "# get data quality flags of each pixels\n",
    "with fits.open(x2d_file) as hdu_list:\n",
    "    x2d_dq = hdu_list[3].data\n",
    "    \n",
    "    \n",
    "# create a mask of bad pixels and set them to nan\n",
    "def check_dq(dq):\n",
    "    return bool(dq & sdqFlags_fuv)\n",
    "\n",
    "\n",
    "mask = np.vectorize(check_dq)(x2d_dq)\n",
    "x2d_mask = np.ma.array(x2d_data, mask=mask, fill_value=np.nan)\n",
    "# plot the image\n",
    "plt.imshow(x2d_mask, origin='lower', vmin=0, vmax=1e-13, cmap=\"viridis\")"
   ]
  },
  {
   "cell_type": "markdown",
   "id": "ddf14105",
   "metadata": {},
   "source": [
    "<a id=section6></a>\n",
    "## 6.Working with Time-Tag data\n",
    "\n",
    "The MAMA detecters have a unique Time-Tag mode besides ACCUM mode. TIME-TAG mode is used for high-time-resolution spectroscopy and imaging in the UV. In TIME-TAG mode, the position and detection time of every photon is recorded in an event list. The Time-Tag mode operation for the MAMA detectors can be found at: [MAMA TIME-TAG Mode](https://hst-docs.stsci.edu/stisihb/chapter-11-data-taking/11-1-basic-operating-modes#id-11.1BasicOperatingModes-Section11.1.311.1.3MAMATIME-TAGMode).\n",
    "\n",
    "In TIME-TAG mode, the position and detection time of every photon is recorded in an event list.\n",
    "First download the _tag data:"
   ]
  },
  {
   "cell_type": "code",
   "execution_count": null,
   "id": "d16b6763",
   "metadata": {},
   "outputs": [],
   "source": [
    "# Search target objscy by obs_id\n",
    "target = Observations.query_criteria(obs_id='odgxt9010')\n",
    "# get a list of files assiciated with that target\n",
    "NUV_list = Observations.get_product_list(target)\n",
    "# Download only the SCIENCE fits files\n",
    "Observations.download_products(NUV_list, extension='fits', download_dir=str(datadir))"
   ]
  },
  {
   "cell_type": "markdown",
   "id": "daa7c2d4",
   "metadata": {},
   "source": [
    "<a id=section6.1></a>\n",
    "### 6.1 Investigating the _tag data"
   ]
  },
  {
   "cell_type": "code",
   "execution_count": null,
   "id": "53f74f5c",
   "metadata": {},
   "outputs": [],
   "source": [
    "# get info about the tag extension fits file\n",
    "tag = Path(\"./data/mastDownload/HST/odgxt9010/odgxt9010_tag.fits\")\n",
    "fits.info(tag)"
   ]
  },
  {
   "cell_type": "markdown",
   "id": "e6b20200",
   "metadata": {},
   "source": [
    "The _tag fits file has two binary table extensions: EVENTS and GTI (Good Time Interval)."
   ]
  },
  {
   "cell_type": "code",
   "execution_count": null,
   "id": "18c97e0c",
   "metadata": {},
   "outputs": [],
   "source": [
    "# get header of the EVENTS extension\n",
    "# print only the TIMETAG EVENTS TABLE COLUMNS (line 130-147)\n",
    "fits.getheader(tag, 1)[130:147]"
   ]
  },
  {
   "cell_type": "markdown",
   "id": "1b913811",
   "metadata": {},
   "source": [
    "Columns in the EVENTS extension:\n",
    "- TIME: the time each event was recorded relative to the start time\n",
    "- AXIS1: pixel coordinate along the spectral axis with the corretion term on Doppler shifts\n",
    "- AXIS2: pixel coordinate along the spatial axis\n",
    "- DETAXIS1: pixel coordinate along the spectral axis without the corretion term on Doppler shifts"
   ]
  },
  {
   "cell_type": "code",
   "execution_count": null,
   "id": "fc938281",
   "metadata": {},
   "outputs": [],
   "source": [
    "# get header of the GTI extension\n",
    "fits.getheader(tag, 2)"
   ]
  },
  {
   "cell_type": "code",
   "execution_count": null,
   "id": "1c2051f4",
   "metadata": {},
   "outputs": [],
   "source": [
    "Table.read(tag, 2)"
   ]
  },
  {
   "cell_type": "markdown",
   "id": "5531109a",
   "metadata": {},
   "source": [
    "Columns in the GTI extension:\n",
    "- START: start of good time interval\n",
    "- STOP: end of good time interval\n",
    "\n",
    "Now we make a time series plot of the total flux over all wavelengths to see how the flux changes over the time interval:"
   ]
  },
  {
   "cell_type": "code",
   "execution_count": null,
   "id": "24b9a069",
   "metadata": {},
   "outputs": [],
   "source": [
    "# read the events data as a pandas dataframe for easier manipulation\n",
    "events = Table.read(tag, 1).to_pandas()\n",
    "# get the good time interval from the GTI extension\n",
    "start, stop = Table.read(tag, 2)[\"START\"], Table.read(tag, 2)[\"STOP\"]\n",
    "# group the events by time with bin = 3 seconds\n",
    "time = np.arange(int(start), int(stop), 3)\n",
    "ind = np.digitize(events['TIME'], time)\n",
    "total_flux = events.groupby(ind).count()[\"TIME\"]\n",
    "# plot the flux as a function of time\n",
    "# notice here that the unit of flux is counts since we are counting the number of events in a time series\n",
    "matplotlib.rcParams['figure.figsize'] = (20, 7)\n",
    "plt.plot(time, total_flux, marker=\".\", mfc=\"w\")\n",
    "plt.xlabel(\"Time [s]\")\n",
    "plt.ylabel(\"Total Flux [counts]\")"
   ]
  },
  {
   "cell_type": "markdown",
   "id": "78b601c3",
   "metadata": {},
   "source": [
    "As the plot shows, though the total flux fluctuates, it is roughly a constant over the good time interval."
   ]
  },
  {
   "cell_type": "markdown",
   "id": "bcbd68e4",
   "metadata": {},
   "source": [
    "<a id=section6.2></a>\n",
    "### 6.2 Converting Time_Tag into ACCUM image\n",
    "Time tag data can be converted into ACCUM image using the inttag method in stistools.\n",
    "More information: [inttag](https://stistools.readthedocs.io/en/latest/inttag.html)"
   ]
  },
  {
   "cell_type": "code",
   "execution_count": null,
   "id": "daba6888",
   "metadata": {},
   "outputs": [],
   "source": [
    "# define the output file\n",
    "accum = \"./data/mastDownload/HST/odgxt9010/odgxt9010_accum.fits\"\n",
    "# convert Time_Tag into ACCUM\n",
    "# the first parameter is the path to the _tag fits file, the second parameter is the output directory\n",
    "stistools.inttag.inttag(tag, accum)"
   ]
  },
  {
   "cell_type": "markdown",
   "id": "e454132a",
   "metadata": {},
   "source": [
    "Then the output file is in the same structure as a STIS image fits file, which we can open and plot in the same way we explored above:"
   ]
  },
  {
   "cell_type": "code",
   "execution_count": null,
   "id": "8b78fcd1",
   "metadata": {},
   "outputs": [],
   "source": [
    "with fits.open(accum) as hdul:\n",
    "    im = hdul[1].data\n",
    "plt.imshow(im, origin='lower', vmin=0, vmax=6, cmap=\"viridis\")"
   ]
  },
  {
   "cell_type": "markdown",
   "id": "9f85500e",
   "metadata": {},
   "source": [
    "inttag can be run to produce multiple output imsets: rcount specifies the number of imsets, imcrements specifies the time interval for each imsets in seconds"
   ]
  },
  {
   "cell_type": "code",
   "execution_count": null,
   "id": "ada753e8",
   "metadata": {},
   "outputs": [],
   "source": [
    "stistools.inttag.inttag(tag, accum, rcount=3, increment=700)\n",
    "fits.info(accum)"
   ]
  },
  {
   "cell_type": "markdown",
   "id": "be00acd6",
   "metadata": {},
   "source": [
    "Compare the 3 accum images produced by inttag, using the same scale and colormap:"
   ]
  },
  {
   "cell_type": "code",
   "execution_count": null,
   "id": "8c5bf184",
   "metadata": {},
   "outputs": [],
   "source": [
    "for i in range(1, 8, 3):\n",
    "    with fits.open(accum) as hdul:\n",
    "        im = hdul[i].data\n",
    "    plt.subplot(1, 3, int(i/3)+1)\n",
    "    plt.imshow(im, origin='lower', vmin=0, vmax=2, cmap=\"viridis\")\n",
    "    plt.title(\"extension {}\".format(i))\n",
    "plt.tight_layout()"
   ]
  },
  {
   "cell_type": "markdown",
   "id": "45c2bce9",
   "metadata": {},
   "source": [
    "The output file is a series of extensions with each imset having a SCI, ERR, and DQ extension, as shown above."
   ]
  },
  {
   "cell_type": "markdown",
   "id": "ef405ebe",
   "metadata": {},
   "source": [
    "<a id=section7></a>\n",
    "## 7.Working with STIS Echelle data\n",
    "\n",
    "The STIS Echelle mode uses diffraction and interference to separate a spectrum into different spectral orders (the keyword in the headers is SPORDER), with each spectral order covering different wavelength range. The echelle were designed to maximize the spectral range covered in a single echellogram. For more information, see [Echelle Spectroscopy in the Ultraviolet](https://hst-docs.stsci.edu/stisihb/chapter-4-spectroscopy/4-3-echelle-spectroscopy-in-the-ultraviolet).\n",
    "\n",
    "We first download data taken with an echelle:"
   ]
  },
  {
   "cell_type": "code",
   "execution_count": null,
   "id": "c27864b6",
   "metadata": {},
   "outputs": [],
   "source": [
    "# Search target objscy by obs_id\n",
    "target = Observations.query_criteria(obs_id='OCTX01030')\n",
    "# get a list of files assiciated with that target\n",
    "NUV_list = Observations.get_product_list(target)\n",
    "# Download only the SCIENCE fits files\n",
    "Observations.download_products(NUV_list, productType=\"SCIENCE\", extension='fits', download_dir=str(datadir))"
   ]
  },
  {
   "cell_type": "markdown",
   "id": "f0e94951",
   "metadata": {},
   "source": [
    "<a id=section7.1></a>\n",
    "### 7.1 Showing Echelle Image\n",
    "\n",
    "Open the _flt (Flat-fielded science) image in the same way we open other image files, and show the image:"
   ]
  },
  {
   "cell_type": "code",
   "execution_count": null,
   "id": "4cb49218",
   "metadata": {},
   "outputs": [],
   "source": [
    "flt_file = \"./data/mastDownload/HST/octx01030/octx01030_flt.fits\"\n",
    "with fits.open(flt_file) as hdu:\n",
    "    image = hdu[1].data\n",
    "    plt.imshow(image, origin='lower', vmin=0, vmax=1, cmap=\"viridis\")"
   ]
  },
  {
   "cell_type": "markdown",
   "id": "542b74d7",
   "metadata": {},
   "source": [
    "As shown in the image above, there are multiple horizontal bands with different spectral orders. Each spectral order also has distinct wavelength range, which we will explore in the next section."
   ]
  },
  {
   "cell_type": "markdown",
   "id": "63159516",
   "metadata": {},
   "source": [
    "<a id=section7.2></a>\n",
    "### 7.2 Plotting Echelle Spectrum\n",
    "\n",
    "We first read in the _x1d data as an astropy table. Notice that when we read in the FUV _x1d data in [section2.2](#section2.2), the table has a single row with SPORDER = 1. But for echelle mode data, the data is separated into multiple rows, with each row having a distinct order."
   ]
  },
  {
   "cell_type": "code",
   "execution_count": null,
   "id": "d8798b30",
   "metadata": {},
   "outputs": [],
   "source": [
    "echelle_file = \"./data/mastDownload/HST/octx01030/octx01030_x1d.fits\"\n",
    "echelle_data = Table.read(echelle_file, 1)\n",
    "echelle_data"
   ]
  },
  {
   "cell_type": "markdown",
   "id": "a673cd68",
   "metadata": {},
   "source": [
    "Now we can plot the spectrum of all spectral orders in one plot, with each spectral order having a distinct color:"
   ]
  },
  {
   "cell_type": "code",
   "execution_count": null,
   "id": "19ea85fd",
   "metadata": {},
   "outputs": [],
   "source": [
    "# plot the spectrum; the color of each SPORDER is specified through a matplotlib built-in colormap\n",
    "matplotlib.rcParams['figure.figsize'] = (20, 7)\n",
    "\n",
    "for i in range(len(echelle_data)):\n",
    "    plt.plot(echelle_data[i]['WAVELENGTH'], echelle_data[i]['FLUX'], color=cm.get_cmap('prism')(i/len(echelle_data)), label=echelle_data[i]['SPORDER'], alpha=0.7)\n",
    "plt.xlabel('Wavelength [' + chr(197) + ']')\n",
    "plt.ylabel(\"Flux [ergs/s/cm$^2$/\" + chr(197) + \"]\")\n",
    "plt.legend(loc='best')\n",
    "plt.title(\"STIS Echelle Mode Spectrum\")"
   ]
  },
  {
   "cell_type": "markdown",
   "id": "23c0759f",
   "metadata": {},
   "source": [
    "As the spectrum illustrates, each spectral order covers a specific wavelength range. Notice that some of the wavelength ranges overlap."
   ]
  },
  {
   "cell_type": "markdown",
   "id": "1a9aee6b",
   "metadata": {},
   "source": [
    "\n",
    "---\n",
    "## About this Notebook\n",
    "**Author:** [Keyi Ding](kding@stsci.edu)\n",
    "\n",
    "**Updated On:** 2023-01-05\n",
    "\n",
    "\n",
    "> *This tutorial was generated to be in compliance with the [STScI style guides](https://github.com/spacetelescope/style-guides) and would like to cite the [Jupyter guide](https://github.com/spacetelescope/style-guides/blob/master/templates/example_notebook.ipynb) in particular.*\n",
    "## Citations\n",
    "\n",
    "If you use `astropy`, `matplotlib`, `astroquery`, or `numpy` for published research, please cite the\n",
    "authors. Follow these links for more information about citations:\n",
    "\n",
    "* [Citing `astropy`/`numpy`/`matplotlib`](https://www.scipy.org/citing.html)\n",
    "* [Citing `astroquery`](https://astroquery.readthedocs.io/en/latest/)\n",
    "\n",
    "---\n",
    "\n",
    "[Top of Page](#top)\n",
    "<img style=\"float: right;\" src=\"https://raw.githubusercontent.com/spacetelescope/notebooks/master/assets/stsci_pri_combo_mark_horizonal_white_bkgd.png\" alt=\"Space Telescope Logo\" width=\"200px\"/> \n"
   ]
  },
  {
   "cell_type": "code",
   "execution_count": null,
   "id": "d154e315",
   "metadata": {},
   "outputs": [],
   "source": []
  }
 ],
 "metadata": {
  "kernelspec": {
   "display_name": "Python 3 (ipykernel)",
   "language": "python",
   "name": "python3"
  },
  "language_info": {
   "codemirror_mode": {
    "name": "ipython",
    "version": 3
   },
   "file_extension": ".py",
   "mimetype": "text/x-python",
   "name": "python",
   "nbconvert_exporter": "python",
   "pygments_lexer": "ipython3",
   "version": "3.9.13"
  },
  "toc": {
   "base_numbering": 1,
   "nav_menu": {},
   "number_sections": false,
   "sideBar": true,
   "skip_h1_title": true,
   "title_cell": "Table of Contents",
   "title_sidebar": "Contents",
   "toc_cell": false,
   "toc_position": {},
   "toc_section_display": true,
   "toc_window_display": true
  }
 },
 "nbformat": 4,
 "nbformat_minor": 5
}
