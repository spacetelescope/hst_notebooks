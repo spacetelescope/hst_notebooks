{
 "cells": [
  {
   "cell_type": "markdown",
   "id": "dfbecb61",
   "metadata": {},
   "source": [
    "<a id=top></a>\n",
    "# Viewing STIS Data"
   ]
  },
  {
   "cell_type": "markdown",
   "id": "4becbe23",
   "metadata": {},
   "source": [
    "## Learning Goals\n",
    "By the end of this tutorial, you will go through: \n",
    "- [0.Introduction](#section0)\n",
    "    - [0.1 Import necessary packages](#section0.1) \n",
    "- [1. Downloading STIS data from MAST using astroquery](#section1) \n",
    "- [2. Reading in the data](#section2)\n",
    "    - [2.1 Investigating the data - Basics](#section2.1)\n",
    "    - [2.2 Reading the table data](#section2.2)\n",
    "- [3. Plotting the spectrum](#section3)\n",
    "    - [3.1 Making a simple plot of the spectrum](#section3.1)\n",
    "- [4. Working with data quality flags](#section4)\n",
    "    - [4.1 Data quality frequencies histogram](#section4.1)\n",
    "    - [4.2 Removing \"Serious Data Quality\"](#section4.2)\n",
    "- [5. Visualizing STIS Image](#section5)\n",
    "    - [5.1 Exploring image file structure](#section5.1)\n",
    "    - [5.2 Showing the image](#section5.2)\n",
    "    - [5.3 Removing serious data quality pixels](#section5.3)\n",
    "- [6.Working with Time-Tag Data](#section6)\n",
    "    - [6.1 Investigating the _tag Data](#section6.1)\n",
    "    - [6.2 Converting Time_Tag into ACCUM image](#section6.2)\n",
    "- [7.Working with STIS Echelle data](#section7)\n",
    "    - [7.1 Showing Echelle Image](#section7.1)\n",
    "    - [7.2 Plotting Echelle Spectrum](#section7.2)"
   ]
  },
  {
   "cell_type": "markdown",
   "id": "c0aecc8c",
   "metadata": {},
   "source": [
    "<a id=section0></a>\n",
    "## 0. Introduction"
   ]
  },
  {
   "cell_type": "markdown",
   "id": "2ac4824c",
   "metadata": {},
   "source": [
    "**The Space Telescope Imaging Spectrograph ([STIS](https://www.stsci.edu/hst/instrumentation/stis)) is a versatile imaging spectrograph installed on the Hubble Space Telescope ([HST](https://www.stsci.edu/hst/about)), covering a wide range of wavelengths from the near-infrared region into the ultraviolet.**\n",
    "\n",
    "**This tutorial aims to prepare new users to begin analyzing STIS data by going through downloading data, reading and viewing spectra, and viewing STIS images.**\n",
    "\n",
    "**There are three detectors on STIS: FUV-MAMA, NUV-MAMA, and CCD. While the detectors are designed for different scientific purposes and operate at a different wavelength, their data are organized in the same structure. Thus we are using FUV-MAMA data as an example in this notebook.**\n",
    "\n",
    "For a detailed overview of the STIS instrument, see the [STIS Instrument Handbook](https://hst-docs.stsci.edu/stisihb). \\\n",
    "For more information on STIS data analysis and operations, see the [STIS Data Handbook](https://hst-docs.stsci.edu/stisdhb).\n",
    "\n",
    "**Defining some terms:**\n",
    "\n",
    "* **HST:** Hubble Space Telescope \n",
    "* **STIS:** Space Telescope Imaging Spectrograph on HST (https://www.stsci.edu/hst/instrumentation/stis)\n",
    "* **STIS/NUV-MAMA:** Cs2Te Multi-Anode Microchannel Array (MAMA) detector for observing mainly in the near ultraviolet (NUV)\n",
    "* **STIS/FUV-MAMA:** Solar-blind CsI Multi-Anode Microchannel Array (MAMA) detector for observing mainly in the far ultraviolet (FUV)\n",
    "* **CCD:** Charge Coupled Device \n",
    "* **FITS:** Flexible Image Transport System (https://fits.gsfc.nasa.gov/fits_primer.html)\n",
    "* **HDU:** Header/Data Unit in a FITS file"
   ]
  },
  {
   "cell_type": "markdown",
   "id": "d339b7c0",
   "metadata": {},
   "source": [
    "<a id=section0.1></a>\n",
    "### 0.1 Import necessary packages\n",
    "\n",
    "**We will import the following packages:**\n",
    "\n",
    "- `astropy.io.fits` for accessing FITS files\n",
    "- `astropy.table.Table` for creating tidy tables of the data\n",
    "- `astroquery.mast.Observations` for finding and downloading data from the [MAST](https://mast.stsci.edu/portal/Mashup/Clients/Mast/Portal.html) archive\n",
    "- `pathlib` for managing system paths\n",
    "- `matplotlib.pyplot` for plotting data\n",
    "- `IPython.display` for formatting display\n",
    "- `numpy` to handle array functions\n",
    "- `pandas` to make basic tables and dataframes\n",
    "- `stistools` for operations on STIS data"
   ]
  },
  {
   "cell_type": "code",
   "execution_count": 1,
   "id": "8bc0759e",
   "metadata": {
    "execution": {
     "iopub.execute_input": "2025-10-09T18:36:23.636418Z",
     "iopub.status.busy": "2025-10-09T18:36:23.636202Z",
     "iopub.status.idle": "2025-10-09T18:36:31.098044Z",
     "shell.execute_reply": "2025-10-09T18:36:31.097555Z"
    }
   },
   "outputs": [
    {
     "name": "stderr",
     "output_type": "stream",
     "text": [
      "/home/runner/micromamba/envs/hstcal/lib/python3.11/site-packages/stsci/tools/nmpfit.py:8: UserWarning: NMPFIT is deprecated - stsci.tools v 3.5 is the last version to contain it.\n",
      "  warnings.warn(\"NMPFIT is deprecated - stsci.tools v 3.5 is the last version to contain it.\")\n",
      "/home/runner/micromamba/envs/hstcal/lib/python3.11/site-packages/stsci/tools/gfit.py:18: UserWarning: GFIT is deprecated - stsci.tools v 3.4.12 is the last version to contain it.Use astropy.modeling instead.\n",
      "  warnings.warn(\"GFIT is deprecated - stsci.tools v 3.4.12 is the last version to contain it.\"\n"
     ]
    },
    {
     "name": "stdout",
     "output_type": "stream",
     "text": [
      "The following tasks in the stistools package can be run with TEAL:\n",
      "   basic2d      calstis     ocrreject     wavecal        x1d          x2d\n"
     ]
    }
   ],
   "source": [
    "# Import for: Reading in fits file\n",
    "from astropy.table import Table\n",
    "from astropy.io import fits\n",
    "\n",
    "# Import for: Downloading necessary files. (Not necessary if you choose to collect data from MAST)\n",
    "from astroquery.mast import Observations\n",
    "\n",
    "# Import for: Managing system variables and paths\n",
    "from pathlib import Path\n",
    "\n",
    "# Import for: Plotting and specifying plotting parameters\n",
    "import matplotlib.pyplot as plt\n",
    "import matplotlib\n",
    "import matplotlib.cm as cm\n",
    "from IPython.display import display\n",
    "\n",
    "# Import for: Quick Calculation and Data Analysis\n",
    "import numpy as np\n",
    "import pandas as pd\n",
    "\n",
    "# Import for operations on STIS Data\n",
    "import stistools"
   ]
  },
  {
   "cell_type": "markdown",
   "id": "54143267",
   "metadata": {},
   "source": [
    "<a id=section1></a>\n",
    "## 1. Downloading STIS data from [MAST](https://archive.stsci.edu/) using [`astroquery`](https://astroquery.readthedocs.io/en/latest/)\n",
    "There are other ways to download data from MAST such as using CyberDuck. We are only showing how to use astroquery in this notebook"
   ]
  },
  {
   "cell_type": "code",
   "execution_count": 2,
   "id": "8a6b6c99",
   "metadata": {
    "execution": {
     "iopub.execute_input": "2025-10-09T18:36:31.099734Z",
     "iopub.status.busy": "2025-10-09T18:36:31.099471Z",
     "iopub.status.idle": "2025-10-09T18:36:31.102204Z",
     "shell.execute_reply": "2025-10-09T18:36:31.101701Z"
    }
   },
   "outputs": [],
   "source": [
    "# make directory for downloading data\n",
    "datadir = Path('./data')\n",
    "datadir.mkdir(exist_ok=True)"
   ]
  },
  {
   "cell_type": "code",
   "execution_count": 3,
   "id": "fc037ab0",
   "metadata": {
    "execution": {
     "iopub.execute_input": "2025-10-09T18:36:31.103661Z",
     "iopub.status.busy": "2025-10-09T18:36:31.103506Z",
     "iopub.status.idle": "2025-10-09T18:36:35.720777Z",
     "shell.execute_reply": "2025-10-09T18:36:35.720246Z"
    }
   },
   "outputs": [
    {
     "name": "stdout",
     "output_type": "stream",
     "text": [
      "Downloading URL https://mast.stsci.edu/api/v0.1/Download/file?uri=mast:HST/product/odj102010_raw.fits to data/mastDownload/HST/odj102010/odj102010_raw.fits ..."
     ]
    },
    {
     "name": "stdout",
     "output_type": "stream",
     "text": [
      " [Done]\n"
     ]
    },
    {
     "name": "stdout",
     "output_type": "stream",
     "text": [
      "Downloading URL https://mast.stsci.edu/api/v0.1/Download/file?uri=mast:HST/product/odj102010_x2d.fits to data/mastDownload/HST/odj102010/odj102010_x2d.fits ..."
     ]
    },
    {
     "name": "stdout",
     "output_type": "stream",
     "text": [
      " [Done]\n"
     ]
    },
    {
     "name": "stdout",
     "output_type": "stream",
     "text": [
      "Downloading URL https://mast.stsci.edu/api/v0.1/Download/file?uri=mast:HST/product/odj102010_flt.fits to data/mastDownload/HST/odj102010/odj102010_flt.fits ..."
     ]
    },
    {
     "name": "stdout",
     "output_type": "stream",
     "text": [
      " [Done]\n"
     ]
    },
    {
     "name": "stdout",
     "output_type": "stream",
     "text": [
      "Downloading URL https://mast.stsci.edu/api/v0.1/Download/file?uri=mast:HST/product/odj102010_x1d.fits to data/mastDownload/HST/odj102010/odj102010_x1d.fits ..."
     ]
    },
    {
     "name": "stdout",
     "output_type": "stream",
     "text": [
      " [Done]\n"
     ]
    },
    {
     "name": "stdout",
     "output_type": "stream",
     "text": [
      "Downloading URL https://mast.stsci.edu/api/v0.1/Download/file?uri=mast:HST/product/hasp/hst_15168_stis_-alf-cep_g140m_odj1_cspec.fits to data/mastDownload/HST/hst_hasp_15168_stis_-alf-cep_odj1/hst_15168_stis_-alf-cep_g140m_odj1_cspec.fits ..."
     ]
    },
    {
     "name": "stdout",
     "output_type": "stream",
     "text": [
      " [Done]\n"
     ]
    },
    {
     "name": "stdout",
     "output_type": "stream",
     "text": [
      "Downloading URL https://mast.stsci.edu/api/v0.1/Download/file?uri=mast:HST/product/hasp/hst_15168_stis_-alf-cep_g140m_odj102_cspec.fits to data/mastDownload/HST/hst_hasp_15168_stis_-alf-cep_odj1/hst_15168_stis_-alf-cep_g140m_odj102_cspec.fits ..."
     ]
    },
    {
     "name": "stdout",
     "output_type": "stream",
     "text": [
      " [Done]\n"
     ]
    },
    {
     "data": {
      "text/html": [
       "<div><i>Table length=6</i>\n",
       "<table id=\"table139631490120144\" class=\"table-striped table-bordered table-condensed\">\n",
       "<thead><tr><th>Local Path</th><th>Status</th><th>Message</th><th>URL</th></tr></thead>\n",
       "<thead><tr><th>str103</th><th>str8</th><th>object</th><th>object</th></tr></thead>\n",
       "<tr><td>data/mastDownload/HST/odj102010/odj102010_raw.fits</td><td>COMPLETE</td><td>None</td><td>None</td></tr>\n",
       "<tr><td>data/mastDownload/HST/odj102010/odj102010_x2d.fits</td><td>COMPLETE</td><td>None</td><td>None</td></tr>\n",
       "<tr><td>data/mastDownload/HST/odj102010/odj102010_flt.fits</td><td>COMPLETE</td><td>None</td><td>None</td></tr>\n",
       "<tr><td>data/mastDownload/HST/odj102010/odj102010_x1d.fits</td><td>COMPLETE</td><td>None</td><td>None</td></tr>\n",
       "<tr><td>data/mastDownload/HST/hst_hasp_15168_stis_-alf-cep_odj1/hst_15168_stis_-alf-cep_g140m_odj1_cspec.fits</td><td>COMPLETE</td><td>None</td><td>None</td></tr>\n",
       "<tr><td>data/mastDownload/HST/hst_hasp_15168_stis_-alf-cep_odj1/hst_15168_stis_-alf-cep_g140m_odj102_cspec.fits</td><td>COMPLETE</td><td>None</td><td>None</td></tr>\n",
       "</table></div>"
      ],
      "text/plain": [
       "<Table length=6>\n",
       "                                               Local Path                                               ...\n",
       "                                                 str103                                                 ...\n",
       "------------------------------------------------------------------------------------------------------- ...\n",
       "                                                     data/mastDownload/HST/odj102010/odj102010_raw.fits ...\n",
       "                                                     data/mastDownload/HST/odj102010/odj102010_x2d.fits ...\n",
       "                                                     data/mastDownload/HST/odj102010/odj102010_flt.fits ...\n",
       "                                                     data/mastDownload/HST/odj102010/odj102010_x1d.fits ...\n",
       "  data/mastDownload/HST/hst_hasp_15168_stis_-alf-cep_odj1/hst_15168_stis_-alf-cep_g140m_odj1_cspec.fits ...\n",
       "data/mastDownload/HST/hst_hasp_15168_stis_-alf-cep_odj1/hst_15168_stis_-alf-cep_g140m_odj102_cspec.fits ..."
      ]
     },
     "execution_count": 3,
     "metadata": {},
     "output_type": "execute_result"
    }
   ],
   "source": [
    "# Search target object by obs_id\n",
    "target = Observations.query_criteria(obs_id='ODJ102010')\n",
    "# get a list of files assiciated with that target\n",
    "FUV_list = Observations.get_product_list(target)\n",
    "# Download only the SCIENCE fits files\n",
    "downloads = Observations.download_products(\n",
    "    FUV_list,\n",
    "    productType='SCIENCE',\n",
    "    extension='fits',\n",
    "    download_dir=str(datadir))\n",
    "downloads"
   ]
  },
  {
   "cell_type": "markdown",
   "id": "7c3830eb",
   "metadata": {},
   "source": [
    "<a id=section2></a>\n",
    "## 2. Reading in the data"
   ]
  },
  {
   "cell_type": "markdown",
   "id": "8f1f668b",
   "metadata": {},
   "source": [
    "<a id=section2.1></a>\n",
    "### 2.1 Investigating the data - Basics\n",
    "Before doing any operations on the data, we want to first explore the basics and data file structures."
   ]
  },
  {
   "cell_type": "markdown",
   "id": "3ea98fa6",
   "metadata": {},
   "source": [
    "The 1D-extracted, background subtracted, flux and wavelength calibrated spectra data are stored in a FITS file with suffix `_x1d` (note that for the CCD it is `_sx1`). While we are using the `_x1d` FITS file as an example of investigating STIS data, the following methods for reading in data and viewing a spectra or other fields can be applied to the other STIS data, either calibrated or uncalibrated. For more information on STIS file naming conventions, see [Types of STIS Files](https://hst-docs.stsci.edu/stisdhb/chapter-2-stis-data-structure/2-2-types-of-stis-files) in the STIS Data Handbook.\n",
    "\n",
    "Open the `x1d` fits file and explore its info and header:"
   ]
  },
  {
   "cell_type": "code",
   "execution_count": 4,
   "id": "e1283079",
   "metadata": {
    "execution": {
     "iopub.execute_input": "2025-10-09T18:36:35.722419Z",
     "iopub.status.busy": "2025-10-09T18:36:35.722256Z",
     "iopub.status.idle": "2025-10-09T18:36:35.728426Z",
     "shell.execute_reply": "2025-10-09T18:36:35.727971Z"
    }
   },
   "outputs": [
    {
     "name": "stdout",
     "output_type": "stream",
     "text": [
      "Filename: data/mastDownload/HST/odj102010/odj102010_x1d.fits\n",
      "No.    Name      Ver    Type      Cards   Dimensions   Format\n",
      "  0  PRIMARY       1 PrimaryHDU     275   ()      \n",
      "  1  SCI           1 BinTableHDU    157   1R x 19C   [1I, 1I, 1024D, 1024E, 1024E, 1024E, 1024E, 1024E, 1024E, 1024I, 1E, 1E, 1I, 1E, 1E, 1E, 1E, 1024E, 1E]   \n"
     ]
    }
   ],
   "source": [
    "# get information about the fits file\n",
    "x1d_file = Path('./data/mastDownload/HST/odj102010/odj102010_x1d.fits')\n",
    "fits.info(x1d_file)"
   ]
  },
  {
   "cell_type": "markdown",
   "id": "cb79c794",
   "metadata": {},
   "source": [
    "The primary header that stores keyword information describing the global properties of all of the exposures in the file "
   ]
  },
  {
   "cell_type": "code",
   "execution_count": 5,
   "id": "1f20c403",
   "metadata": {
    "execution": {
     "iopub.execute_input": "2025-10-09T18:36:35.729899Z",
     "iopub.status.busy": "2025-10-09T18:36:35.729734Z",
     "iopub.status.idle": "2025-10-09T18:36:35.734621Z",
     "shell.execute_reply": "2025-10-09T18:36:35.734121Z"
    }
   },
   "outputs": [
    {
     "name": "stdout",
     "output_type": "stream",
     "text": [
      "INSTRUME:\tSTIS\n",
      "DETECTOR:\tFUV-MAMA\n",
      "OBSMODE:\tACCUM\n",
      "OPT_ELEM:\tG140M\n",
      "CENWAVE:\t1540\n",
      "PROPAPER:\t52X0.2\n",
      "TARGNAME:\t-ALF-CEP\n"
     ]
    }
   ],
   "source": [
    "# get header of the fits file\n",
    "x1d_header_0 = fits.getheader(x1d_file, ext=0)\n",
    "\n",
    "for key in [\"INSTRUME\", \"DETECTOR\", \"OBSMODE\", \"OPT_ELEM\", \"CENWAVE\", \"PROPAPER\", \"TARGNAME\"]:\n",
    "    print(f\"{key}:\\t{x1d_header_0[key]}\")   "
   ]
  },
  {
   "cell_type": "markdown",
   "id": "5bae7077",
   "metadata": {},
   "source": [
    "You can change the keys to check for other fields and metadata, or directly print the x1d_header_0 to get all header information.\n",
    "\n",
    "Some other metadata, such as exposure data and time, are stored in the first extension."
   ]
  },
  {
   "cell_type": "code",
   "execution_count": 6,
   "id": "45cad422",
   "metadata": {
    "execution": {
     "iopub.execute_input": "2025-10-09T18:36:35.736185Z",
     "iopub.status.busy": "2025-10-09T18:36:35.736005Z",
     "iopub.status.idle": "2025-10-09T18:36:35.741583Z",
     "shell.execute_reply": "2025-10-09T18:36:35.741195Z"
    }
   },
   "outputs": [
    {
     "name": "stdout",
     "output_type": "stream",
     "text": [
      "The data were taken on 2018-01-14, starting at 08:31:01, with the exposure time of 900.0 seconds\n"
     ]
    }
   ],
   "source": [
    "x1d_header_1 = fits.getheader(x1d_file, ext=1)\n",
    "\n",
    "date = x1d_header_1[\"DATE-OBS\"]\n",
    "time = x1d_header_1[\"Time-OBS\"]\n",
    "exptime = x1d_header_1[\"EXPTIME\"]\n",
    "\n",
    "print(f\"The data were taken on {date}, starting at {time}, with the exposure time of {exptime} seconds\")"
   ]
  },
  {
   "cell_type": "markdown",
   "id": "bad0e258",
   "metadata": {},
   "source": [
    "<a id=section2.2></a>\n",
    "### 2.2 Reading table data\n",
    "The main science data is stored in the first extension of the x1d FITS file. We first read in the data as an astropy Table."
   ]
  },
  {
   "cell_type": "code",
   "execution_count": 7,
   "id": "5386d0c9",
   "metadata": {
    "execution": {
     "iopub.execute_input": "2025-10-09T18:36:35.743025Z",
     "iopub.status.busy": "2025-10-09T18:36:35.742870Z",
     "iopub.status.idle": "2025-10-09T18:36:35.801424Z",
     "shell.execute_reply": "2025-10-09T18:36:35.800905Z"
    }
   },
   "outputs": [
    {
     "name": "stderr",
     "output_type": "stream",
     "text": [
      "WARNING: UnitsWarning: 'Angstroms' did not parse as fits unit: At col 0, Unit 'Angstroms' not supported by the FITS standard. Did you mean Angstrom or angstrom? If this is meant to be a custom unit, define it with 'u.def_unit'. To have it recognized inside a file reader or other code, enable it with 'u.add_enabled_units'. For details, see https://docs.astropy.org/en/latest/units/combining_and_defining.html [astropy.units.core]\n",
      "WARNING: UnitsWarning: 'Counts/s' did not parse as fits unit: At col 0, Unit 'Counts' not supported by the FITS standard. Did you mean count? If this is meant to be a custom unit, define it with 'u.def_unit'. To have it recognized inside a file reader or other code, enable it with 'u.add_enabled_units'. For details, see https://docs.astropy.org/en/latest/units/combining_and_defining.html [astropy.units.core]\n",
      "WARNING: UnitsWarning: 'Counts/s' did not parse as fits unit: At col 0, Unit 'Counts' not supported by the FITS standard. Did you mean count? If this is meant to be a custom unit, define it with 'u.def_unit'. To have it recognized inside a file reader or other code, enable it with 'u.add_enabled_units'. For details, see https://docs.astropy.org/en/latest/units/combining_and_defining.html [astropy.units.core]\n",
      "WARNING: UnitsWarning: 'Counts/s' did not parse as fits unit: At col 0, Unit 'Counts' not supported by the FITS standard. Did you mean count? If this is meant to be a custom unit, define it with 'u.def_unit'. To have it recognized inside a file reader or other code, enable it with 'u.add_enabled_units'. For details, see https://docs.astropy.org/en/latest/units/combining_and_defining.html [astropy.units.core]\n",
      "WARNING: UnitsWarning: 'Counts/s' did not parse as fits unit: At col 0, Unit 'Counts' not supported by the FITS standard. Did you mean count? If this is meant to be a custom unit, define it with 'u.def_unit'. To have it recognized inside a file reader or other code, enable it with 'u.add_enabled_units'. For details, see https://docs.astropy.org/en/latest/units/combining_and_defining.html [astropy.units.core]\n"
     ]
    },
    {
     "data": {
      "text/html": [
       "<div><i>Table length=1</i>\n",
       "<table id=\"table139631486874128\" class=\"table-striped table-bordered table-condensed\">\n",
       "<thead><tr><th>SPORDER</th><th>NELEM</th><th>WAVELENGTH</th><th>GROSS</th><th>BACKGROUND</th><th>NET</th><th>FLUX</th><th>ERROR</th><th>NET_ERROR</th><th>DQ</th><th>A2CENTER</th><th>EXTRSIZE</th><th>MAXSRCH</th><th>BK1SIZE</th><th>BK2SIZE</th><th>BK1OFFST</th><th>BK2OFFST</th><th>EXTRLOCY</th><th>OFFSET</th></tr></thead>\n",
       "<thead><tr><th></th><th></th><th>Angstroms</th><th>Counts/s</th><th>Counts/s</th><th>Counts/s</th><th>erg / (Angstrom s cm2)</th><th>erg / (Angstrom s cm2)</th><th>Counts/s</th><th></th><th>pix</th><th>pix</th><th>pix</th><th>pix</th><th>pix</th><th>pix</th><th>pix</th><th>pix</th><th>pix</th></tr></thead>\n",
       "<thead><tr><th>int16</th><th>int16</th><th>float64[1024]</th><th>float32[1024]</th><th>float32[1024]</th><th>float32[1024]</th><th>float32[1024]</th><th>float32[1024]</th><th>float32[1024]</th><th>int16[1024]</th><th>float32</th><th>float32</th><th>int16</th><th>float32</th><th>float32</th><th>float32</th><th>float32</th><th>float32[1024]</th><th>float32</th></tr></thead>\n",
       "<tr><td>1</td><td>1024</td><td>1513.611692349868 ..         1567.668670092399</td><td>1.423279 ..      0.04860059</td><td>0.0008550065 ..    -6.92308e-05</td><td>1.422424 ..      0.04866982</td><td>1.969044e-12 ..    9.896183e-14</td><td>5.50753e-14 ..    1.495939e-14</td><td>0.03978601 ..     0.007357089</td><td>2564 ..        2564</td><td>389.5777</td><td>11</td><td>1024</td><td>5</td><td>5</td><td>-300</td><td>300</td><td>382.2857 ..        397.2364</td><td>351.8867</td></tr>\n",
       "</table></div>"
      ],
      "text/plain": [
       "<Table length=1>\n",
       "  SPORDER      NELEM    ...              EXTRLOCY                   OFFSET    \n",
       "                        ...                pix                       pix      \n",
       "   int16       int16    ...           float32[1024]                float32    \n",
       "----------- ----------- ... ---------------------------------- ---------------\n",
       "          1        1024 ...        382.2857 ..        397.2364        351.8867"
      ]
     },
     "execution_count": 7,
     "metadata": {},
     "output_type": "execute_result"
    }
   ],
   "source": [
    "# Get data\n",
    "x1d_data = Table.read(x1d_file, hdu=1)\n",
    "# Display a representation of the data:\n",
    "x1d_data"
   ]
  },
  {
   "cell_type": "code",
   "execution_count": 8,
   "id": "05623858",
   "metadata": {
    "execution": {
     "iopub.execute_input": "2025-10-09T18:36:35.802994Z",
     "iopub.status.busy": "2025-10-09T18:36:35.802832Z",
     "iopub.status.idle": "2025-10-09T18:36:35.806087Z",
     "shell.execute_reply": "2025-10-09T18:36:35.805711Z"
    },
    "scrolled": true
   },
   "outputs": [
    {
     "data": {
      "text/plain": [
       "['SPORDER',\n",
       " 'NELEM',\n",
       " 'WAVELENGTH',\n",
       " 'GROSS',\n",
       " 'BACKGROUND',\n",
       " 'NET',\n",
       " 'FLUX',\n",
       " 'ERROR',\n",
       " 'NET_ERROR',\n",
       " 'DQ',\n",
       " 'A2CENTER',\n",
       " 'EXTRSIZE',\n",
       " 'MAXSRCH',\n",
       " 'BK1SIZE',\n",
       " 'BK2SIZE',\n",
       " 'BK1OFFST',\n",
       " 'BK2OFFST',\n",
       " 'EXTRLOCY',\n",
       " 'OFFSET']"
      ]
     },
     "execution_count": 8,
     "metadata": {},
     "output_type": "execute_result"
    }
   ],
   "source": [
    "# We can also get the columns of this table:\n",
    "columns = x1d_data.colnames\n",
    "columns"
   ]
  },
  {
   "cell_type": "markdown",
   "id": "6b601daa",
   "metadata": {},
   "source": [
    "Another common way of reading in FITS data from an HDU list as \"FITS_rec\":"
   ]
  },
  {
   "cell_type": "code",
   "execution_count": 9,
   "id": "ecae0309",
   "metadata": {
    "execution": {
     "iopub.execute_input": "2025-10-09T18:36:35.807491Z",
     "iopub.status.busy": "2025-10-09T18:36:35.807336Z",
     "iopub.status.idle": "2025-10-09T18:36:35.818922Z",
     "shell.execute_reply": "2025-10-09T18:36:35.818523Z"
    }
   },
   "outputs": [
    {
     "data": {
      "text/plain": [
       "astropy.io.fits.fitsrec.FITS_rec"
      ]
     },
     "execution_count": 9,
     "metadata": {},
     "output_type": "execute_result"
    }
   ],
   "source": [
    "with fits.open(x1d_file) as hdulist:\n",
    "    fuv_x1d_data = hdulist[1].data\n",
    "    \n",
    "type(fuv_x1d_data)"
   ]
  },
  {
   "cell_type": "markdown",
   "id": "2719dc37",
   "metadata": {},
   "source": [
    "<a id=section3></a>\n",
    "## 3. Plotting the spectrum"
   ]
  },
  {
   "cell_type": "markdown",
   "id": "cb546bf3",
   "metadata": {},
   "source": [
    "<a id=section3.1></a>\n",
    "### 3.1 Making a simple plot of the spectrum\n",
    "The actual data of each column are stored in arrays within each row with equal lengths. We collect the spectrum data and plot them with corresponding error bars."
   ]
  },
  {
   "cell_type": "code",
   "execution_count": 10,
   "id": "cc4523c9",
   "metadata": {
    "execution": {
     "iopub.execute_input": "2025-10-09T18:36:35.820468Z",
     "iopub.status.busy": "2025-10-09T18:36:35.820323Z",
     "iopub.status.idle": "2025-10-09T18:36:35.835686Z",
     "shell.execute_reply": "2025-10-09T18:36:35.835249Z"
    }
   },
   "outputs": [
    {
     "data": {
      "text/plain": [
       "Text(0, 0.5, 'Flux (ergs/s/cm$^2$/Å)')"
      ]
     },
     "execution_count": 10,
     "metadata": {},
     "output_type": "execute_result"
    }
   ],
   "source": [
    "# From the astropy table, we first get all the data we need: wavelength, flux, and error\n",
    "# notice that for astropy table, the column name is case sensitive\n",
    "# First-order data have data in only the 0th row, so we extract this sparse dimension.\n",
    "wl, flux, err = x1d_data[0]['WAVELENGTH', 'FLUX', 'ERROR']\n",
    "\n",
    "# Make a plot of the data, use this cell to specify the format of the plot.\n",
    "matplotlib.rcParams['figure.figsize'] = [20, 7]\n",
    "plt.style.use('bmh')\n",
    "\n",
    "plt.plot(wl, flux,  # the x-data & y-data\n",
    "         marker='.', markersize=2, markerfacecolor='w', markeredgewidth=0) # specifies the data points style\n",
    "plt.fill_between(wl, flux - err, flux + err, alpha=0.5)  # shade regions by width of error array\n",
    "plt.title('STIS FUV Spectrum')\n",
    "plt.xlabel('Wavelength (Å)')\n",
    "plt.ylabel('Flux (ergs/s/cm$^2$/Å)')"
   ]
  },
  {
   "cell_type": "markdown",
   "id": "66b1640d",
   "metadata": {},
   "source": [
    "You can zoom in to a specific wavelength range"
   ]
  },
  {
   "cell_type": "code",
   "execution_count": 11,
   "id": "60464c79",
   "metadata": {
    "execution": {
     "iopub.execute_input": "2025-10-09T18:36:35.837273Z",
     "iopub.status.busy": "2025-10-09T18:36:35.837094Z",
     "iopub.status.idle": "2025-10-09T18:36:35.843917Z",
     "shell.execute_reply": "2025-10-09T18:36:35.843513Z"
    }
   },
   "outputs": [
    {
     "data": {
      "text/plain": [
       "(1540.0, 1560.0)"
      ]
     },
     "execution_count": 11,
     "metadata": {},
     "output_type": "execute_result"
    }
   ],
   "source": [
    "# plot the spectrum between 1540 and 1560 Å:\n",
    "plt.plot(wl, flux,  # the x-data & y-data\n",
    "         marker='.', markersize=2, markerfacecolor='w', markeredgewidth=0,  # specifies the data point style\n",
    "         color='blue')  # specifies the format of lines\n",
    "plt.fill_between(wl, flux - err, flux + err, alpha=0.5)  # shade regions by width of error array\n",
    "plt.title('STIS FUV Spectrum')\n",
    "plt.xlabel('Wavelength (Å)')\n",
    "plt.ylabel(\"Flux (ergs/s/cm$^2$/Å)\")\n",
    "plt.xlim(1540, 1560)"
   ]
  },
  {
   "cell_type": "markdown",
   "id": "661630d5",
   "metadata": {},
   "source": [
    "You can also plot the error bar together with the spectrum. For more errorbar styling options, see [`matplotlib.pyplot.errorbar`](https://matplotlib.org/stable/api/_as_gen/matplotlib.pyplot.errorbar.html)"
   ]
  },
  {
   "cell_type": "code",
   "execution_count": 12,
   "id": "1acac452",
   "metadata": {
    "execution": {
     "iopub.execute_input": "2025-10-09T18:36:35.845330Z",
     "iopub.status.busy": "2025-10-09T18:36:35.845186Z",
     "iopub.status.idle": "2025-10-09T18:36:35.951548Z",
     "shell.execute_reply": "2025-10-09T18:36:35.951065Z"
    }
   },
   "outputs": [
    {
     "data": {
      "text/plain": [
       "(1540.0, 1560.0)"
      ]
     },
     "execution_count": 12,
     "metadata": {},
     "output_type": "execute_result"
    }
   ],
   "source": [
    "plt.errorbar(wl, flux, err,  # the x-data, y-data, and y-axis error\n",
    "             marker='.', markersize=2, markerfacecolor='w', markeredgewidth=0, color='blue',  # specifies the data points style\n",
    "             ecolor='dodgerblue', capsize=0.1)  # specifies the format of lines and error bar\n",
    "plt.title('STIS FUV Spectrum')\n",
    "plt.xlabel('Wavelength (Å)')\n",
    "plt.ylabel('Flux (ergs/s/cm$^2$/Å)')\n",
    "plt.xlim(1540, 1560)"
   ]
  },
  {
   "cell_type": "markdown",
   "id": "67a53751",
   "metadata": {},
   "source": [
    "For more information on formatting the plots using matplotlib, see [`matplotlib.pyplot.plot`](https://matplotlib.org/stable/api/_as_gen/matplotlib.pyplot.plot.html), [`matplotlib.pyplot.errorbar`](https://matplotlib.org/stable/api/_as_gen/matplotlib.pyplot.errorbar.html)."
   ]
  },
  {
   "cell_type": "markdown",
   "id": "86f8d96f",
   "metadata": {},
   "source": [
    "<a id=section4></a>\n",
    "## 4.Working with data quality flags\n",
    "\n",
    "Data quality flags are assigned to each pixel in the data quality extension. Each flag has a true (set) or false (unset) state. Flagged conditions are set as specific bits in a 16-bit integer word. For a single pixel, this allows for up to 15 data quality conditions to be flagged simultaneously, using the bitwise logical OR operation. Note that the data quality flags cannot be interpreted simply as integers but may be converted to base-2 and interpreted as flags. These flags are set and used during the course of calibration, and may likewise be interpreted and used by downstream analysis applications."
   ]
  },
  {
   "cell_type": "markdown",
   "id": "c18509ad",
   "metadata": {},
   "source": [
    "<a id=section4.1></a>\n",
    "### 4.1 Data quality frequencies histogram\n",
    "Make a histogram according to the data quality flags, and label the bins by what each data quality values actually means.\n",
    "More info: https://hst-docs.stsci.edu/stisdhb/chapter-2-stis-data-structure/2-5-error-and-data-quality-array"
   ]
  },
  {
   "cell_type": "code",
   "execution_count": 13,
   "id": "747924e2",
   "metadata": {
    "execution": {
     "iopub.execute_input": "2025-10-09T18:36:35.953287Z",
     "iopub.status.busy": "2025-10-09T18:36:35.953098Z",
     "iopub.status.idle": "2025-10-09T18:36:35.959576Z",
     "shell.execute_reply": "2025-10-09T18:36:35.959037Z"
    }
   },
   "outputs": [
    {
     "data": {
      "text/plain": [
       "{0: 960,\n",
       " 1: 0,\n",
       " 2: 0,\n",
       " 4: 8,\n",
       " 8: 0,\n",
       " 16: 43,\n",
       " 32: 0,\n",
       " 64: 0,\n",
       " 128: 0,\n",
       " 256: 0,\n",
       " 512: 9,\n",
       " 1024: 0,\n",
       " 2048: 22,\n",
       " 4096: 0,\n",
       " 8192: 0,\n",
       " 16384: 0}"
      ]
     },
     "execution_count": 13,
     "metadata": {},
     "output_type": "execute_result"
    }
   ],
   "source": [
    "# First get the possible data quality flag values to bitwise-and with the data quality flag:\n",
    "dq_flags = ['Exclusively 0'] + list(1 << np.arange(0, 15))\n",
    "\n",
    "dq_bits = {}\n",
    "# In the Table representation, the data quality flag is a masked array that \"hides\" the pixels\n",
    "# with no data quality issue. We fill those \"good points\" with 0 here when counting:\n",
    "dq_bits[0] = np.count_nonzero(x1d_data[0]['DQ'].filled(0) == 0)  # exclusively 0\n",
    "\n",
    "# Loop over non-zero flag values and count each:\n",
    "for dq_flag in dq_flags[1:]:\n",
    "    dq_bits[dq_flag] = np.count_nonzero((x1d_data[0]['DQ'] & dq_flag))\n",
    "\n",
    "dq_bits"
   ]
  },
  {
   "cell_type": "code",
   "execution_count": 14,
   "id": "7b9f06a8",
   "metadata": {
    "execution": {
     "iopub.execute_input": "2025-10-09T18:36:35.961038Z",
     "iopub.status.busy": "2025-10-09T18:36:35.960891Z",
     "iopub.status.idle": "2025-10-09T18:36:35.995928Z",
     "shell.execute_reply": "2025-10-09T18:36:35.995490Z"
    }
   },
   "outputs": [
    {
     "data": {
      "text/html": [
       "<div>\n",
       "<style scoped>\n",
       "    .dataframe tbody tr th:only-of-type {\n",
       "        vertical-align: middle;\n",
       "    }\n",
       "\n",
       "    .dataframe tbody tr th {\n",
       "        vertical-align: top;\n",
       "    }\n",
       "\n",
       "    .dataframe thead th {\n",
       "        text-align: right;\n",
       "    }\n",
       "</style>\n",
       "<table border=\"1\" class=\"dataframe\">\n",
       "  <thead>\n",
       "    <tr style=\"text-align: right;\">\n",
       "      <th></th>\n",
       "      <th>Bit Setting</th>\n",
       "      <th>Quality Condition Indicated</th>\n",
       "    </tr>\n",
       "    <tr>\n",
       "      <th>Flag Value</th>\n",
       "      <th></th>\n",
       "      <th></th>\n",
       "    </tr>\n",
       "  </thead>\n",
       "  <tbody>\n",
       "    <tr>\n",
       "      <th>Exclusively 0</th>\n",
       "      <td>000000000000000</td>\n",
       "      <td>No Anomalies</td>\n",
       "    </tr>\n",
       "    <tr>\n",
       "      <th>1</th>\n",
       "      <td>000000000000001</td>\n",
       "      <td>Error in the Reed Solomon decoding</td>\n",
       "    </tr>\n",
       "    <tr>\n",
       "      <th>2</th>\n",
       "      <td>000000000000010</td>\n",
       "      <td>Lost data replaced by fill values</td>\n",
       "    </tr>\n",
       "    <tr>\n",
       "      <th>4</th>\n",
       "      <td>000000000000100</td>\n",
       "      <td>Bad detector pixel (e.g., bad column or row, mixed science and bias for overscan, or beyond aperture)</td>\n",
       "    </tr>\n",
       "    <tr>\n",
       "      <th>8</th>\n",
       "      <td>000000000001000</td>\n",
       "      <td>Data masked by occulting bar</td>\n",
       "    </tr>\n",
       "    <tr>\n",
       "      <th>16</th>\n",
       "      <td>000000000010000</td>\n",
       "      <td>Pixel having dark rate &gt; 5 σ times the median dark level</td>\n",
       "    </tr>\n",
       "    <tr>\n",
       "      <th>32</th>\n",
       "      <td>000000000100000</td>\n",
       "      <td>Large blemish, depth &gt; 40% of the normalized p-flat (repeller wire)</td>\n",
       "    </tr>\n",
       "    <tr>\n",
       "      <th>64</th>\n",
       "      <td>000000001000000</td>\n",
       "      <td>Vignetted pixel</td>\n",
       "    </tr>\n",
       "    <tr>\n",
       "      <th>128</th>\n",
       "      <td>000000010000000</td>\n",
       "      <td>Pixel in the overscan region</td>\n",
       "    </tr>\n",
       "    <tr>\n",
       "      <th>256</th>\n",
       "      <td>000000100000000</td>\n",
       "      <td>Saturated pixel, count rate at 90% of max possible—local non-linearity turns over and is multi-valued; pixels within 10% of turnover and all pixels within 4 pixels of that pixel are flagged.</td>\n",
       "    </tr>\n",
       "    <tr>\n",
       "      <th>512</th>\n",
       "      <td>000001000000000</td>\n",
       "      <td>Bad pixel in reference file</td>\n",
       "    </tr>\n",
       "    <tr>\n",
       "      <th>1024</th>\n",
       "      <td>000010000000000</td>\n",
       "      <td>Small blemish, depth between 40% and 70% of the normalized flat. Applies to MAMA and CCD p-flats</td>\n",
       "    </tr>\n",
       "    <tr>\n",
       "      <th>2048</th>\n",
       "      <td>000100000000000</td>\n",
       "      <td>&gt;30% of background pixels rejected by sigma-clip, or flagged, during 1-D spectral extraction</td>\n",
       "    </tr>\n",
       "    <tr>\n",
       "      <th>4096</th>\n",
       "      <td>001000000000000</td>\n",
       "      <td>Extracted flux affected by bad input data</td>\n",
       "    </tr>\n",
       "    <tr>\n",
       "      <th>8192</th>\n",
       "      <td>010000000000000</td>\n",
       "      <td>Data rejected in input pixel during image combination for cosmic ray rejection</td>\n",
       "    </tr>\n",
       "    <tr>\n",
       "      <th>16384</th>\n",
       "      <td>100000000000000</td>\n",
       "      <td>Extracted flux not CTI corrected because gross counts are ≤ 0</td>\n",
       "    </tr>\n",
       "  </tbody>\n",
       "</table>\n",
       "</div>"
      ],
      "text/plain": [
       "                   Bit Setting  \\\n",
       "Flag Value                       \n",
       "Exclusively 0  000000000000000   \n",
       "1              000000000000001   \n",
       "2              000000000000010   \n",
       "4              000000000000100   \n",
       "8              000000000001000   \n",
       "16             000000000010000   \n",
       "32             000000000100000   \n",
       "64             000000001000000   \n",
       "128            000000010000000   \n",
       "256            000000100000000   \n",
       "512            000001000000000   \n",
       "1024           000010000000000   \n",
       "2048           000100000000000   \n",
       "4096           001000000000000   \n",
       "8192           010000000000000   \n",
       "16384          100000000000000   \n",
       "\n",
       "                                                                                                                                                                                  Quality Condition Indicated  \n",
       "Flag Value                                                                                                                                                                                                     \n",
       "Exclusively 0                                                                                                                                                                                    No Anomalies  \n",
       "1                                                                                                                                                                          Error in the Reed Solomon decoding  \n",
       "2                                                                                                                                                                           Lost data replaced by fill values  \n",
       "4                                                                                                       Bad detector pixel (e.g., bad column or row, mixed science and bias for overscan, or beyond aperture)  \n",
       "8                                                                                                                                                                                Data masked by occulting bar  \n",
       "16                                                                                                                                                   Pixel having dark rate > 5 σ times the median dark level  \n",
       "32                                                                                                                                        Large blemish, depth > 40% of the normalized p-flat (repeller wire)  \n",
       "64                                                                                                                                                                                            Vignetted pixel  \n",
       "128                                                                                                                                                                              Pixel in the overscan region  \n",
       "256            Saturated pixel, count rate at 90% of max possible—local non-linearity turns over and is multi-valued; pixels within 10% of turnover and all pixels within 4 pixels of that pixel are flagged.  \n",
       "512                                                                                                                                                                               Bad pixel in reference file  \n",
       "1024                                                                                                         Small blemish, depth between 40% and 70% of the normalized flat. Applies to MAMA and CCD p-flats  \n",
       "2048                                                                                                             >30% of background pixels rejected by sigma-clip, or flagged, during 1-D spectral extraction  \n",
       "4096                                                                                                                                                                Extracted flux affected by bad input data  \n",
       "8192                                                                                                                           Data rejected in input pixel during image combination for cosmic ray rejection  \n",
       "16384                                                                                                                                           Extracted flux not CTI corrected because gross counts are ≤ 0  "
      ]
     },
     "metadata": {},
     "output_type": "display_data"
    }
   ],
   "source": [
    "# Assign the meaning of each data quality and make a histogram\n",
    "meanings = {\n",
    "    0:  \"No Anomalies\",\n",
    "    1:  \"Error in the Reed Solomon decoding\",\n",
    "    2:  \"Lost data replaced by fill values\",\n",
    "    3:  \"Bad detector pixel (e.g., bad column or row, mixed science and bias for overscan, or beyond aperture)\",\n",
    "    4:  \"Data masked by occulting bar\",\n",
    "    5:  \"Pixel having dark rate > 5 σ times the median dark level\",\n",
    "    6:  \"Large blemish, depth > 40% of the normalized p-flat (repeller wire)\",\n",
    "    7:  \"Vignetted pixel\",\n",
    "    8:  \"Pixel in the overscan region\",\n",
    "    9:  \"Saturated pixel, count rate at 90% of max possible—local non-linearity turns over and is multi-valued; \"\n",
    "        \"pixels within 10% of turnover and all pixels within 4 pixels of that pixel are flagged.\",\n",
    "    10: \"Bad pixel in reference file\",\n",
    "    11: \"Small blemish, depth between 40% and 70% of the normalized flat. Applies to MAMA and CCD p-flats\",\n",
    "    12: \">30% of background pixels rejected by sigma-clip, or flagged, during 1-D spectral extraction\",\n",
    "    13: \"Extracted flux affected by bad input data\",\n",
    "    14: \"Data rejected in input pixel during image combination for cosmic ray rejection\",\n",
    "    15: \"Extracted flux not CTI corrected because gross counts are ≤ 0\"}\n",
    "\n",
    "plt.bar(meanings.keys(), height=dq_bits.values(), tick_label=dq_flags)\n",
    "plt.gca().set_xticklabels(dq_flags, rotation=-45, fontsize=15)\n",
    "plt.yscale('log')\n",
    "plt.ylim(0.5, 2000)\n",
    "plt.show()\n",
    "\n",
    "bits = [f'{0:015b}'] + [f'{1 << x:015b}' for x in range(0, 15)]\n",
    "\n",
    "dq_table = pd.DataFrame({\n",
    "    \"Flag Value\": dq_flags,\n",
    "    \"Bit Setting\": bits,\n",
    "    \"Quality Condition Indicated\": meanings.values()})\n",
    "dq_table.set_index('Flag Value', drop=True, inplace=True)\n",
    "\n",
    "pd.set_option('display.max_colwidth', None)\n",
    "display(dq_table)"
   ]
  },
  {
   "cell_type": "markdown",
   "id": "ea272859",
   "metadata": {},
   "source": [
    "<a id=section4.2></a>\n",
    "### 4.2 Removing \"Serious Data Quality Flags\"\n",
    "Through the calibaration pipeline, some data qualities are marked \"serious\". The value of serious data qualities are marked through \"SDQFLAGS\". We can decompose that value according to the bits in order to see the specific data quality flags that are marked serious."
   ]
  },
  {
   "cell_type": "code",
   "execution_count": 15,
   "id": "5e902822",
   "metadata": {
    "execution": {
     "iopub.execute_input": "2025-10-09T18:36:35.997526Z",
     "iopub.status.busy": "2025-10-09T18:36:35.997377Z",
     "iopub.status.idle": "2025-10-09T18:36:36.003448Z",
     "shell.execute_reply": "2025-10-09T18:36:36.002991Z"
    },
    "scrolled": true
   },
   "outputs": [
    {
     "name": "stdout",
     "output_type": "stream",
     "text": [
      "The SDQFLAGS is 31743, which is in binary 111101111111111,\n",
      "Therefore the following data qualities are marked \"serious\":\n",
      "\t 1: Error in the Reed Solomon decoding\n",
      "\t 2: Lost data replaced by fill values\n",
      "\t 3: Bad detector pixel (e.g., bad column or row, mixed science and bias for overscan, or beyond aperture)\n",
      "\t 4: Data masked by occulting bar\n",
      "\t 5: Pixel having dark rate > 5 σ times the median dark level\n",
      "\t 6: Large blemish, depth > 40% of the normalized p-flat (repeller wire)\n",
      "\t 7: Vignetted pixel\n",
      "\t 8: Pixel in the overscan region\n",
      "\t 9: Saturated pixel, count rate at 90% of max possible—local non-linearity turns over and is multi-valued; pixels within 10% of turnover and all pixels within 4 pixels of that pixel are flagged.\n",
      "\t10: Bad pixel in reference file\n",
      "\t12: >30% of background pixels rejected by sigma-clip, or flagged, during 1-D spectral extraction\n",
      "\t13: Extracted flux affected by bad input data\n",
      "\t14: Data rejected in input pixel during image combination for cosmic ray rejection\n",
      "\t15: Extracted flux not CTI corrected because gross counts are ≤ 0\n"
     ]
    }
   ],
   "source": [
    "sdqFlags_fuv = fits.getval(x1d_file, ext=1, keyword=\"SDQFLAGS\")\n",
    "print(f'The SDQFLAGS is {sdqFlags_fuv}, which is in binary {sdqFlags_fuv:015b},')\n",
    "print('Therefore the following data qualities are marked \"serious\":')\n",
    "for i in range(15):\n",
    "    if 2**i & sdqFlags_fuv:\n",
    "        print(f'\\t{i+1:2.0f}: ' + meanings[i+1])"
   ]
  },
  {
   "cell_type": "markdown",
   "id": "1e945244",
   "metadata": {},
   "source": [
    "We can now remove the data points with SDQ flags. In the plots below, the first one is the same as the spectrum in which we do not handle the SDQ flags. The second one is the spectrum with SDQ flagged data removed, and the SDQ flagged data points are marked with red '+'."
   ]
  },
  {
   "cell_type": "code",
   "execution_count": 16,
   "id": "09d4befa",
   "metadata": {
    "execution": {
     "iopub.execute_input": "2025-10-09T18:36:36.004961Z",
     "iopub.status.busy": "2025-10-09T18:36:36.004815Z",
     "iopub.status.idle": "2025-10-09T18:36:36.024675Z",
     "shell.execute_reply": "2025-10-09T18:36:36.024258Z"
    }
   },
   "outputs": [],
   "source": [
    "fig, axes = plt.subplots(2, 1)\n",
    "fig.set_size_inches(20, 10)\n",
    "plt.style.use('bmh')\n",
    "\n",
    "# First zoom in to the region where SDQ got removed\n",
    "wl, flux, err, dq = x1d_data[0]['WAVELENGTH', 'FLUX', 'ERROR', 'DQ']\n",
    "\n",
    "# Filter the datapoints to where there are no serious DQ flags\n",
    "mask_noSDQ = (dq & sdqFlags_fuv) == 0\n",
    "\n",
    "# get the spectrum without SDQ using the mask we just created\n",
    "wvln_noSDQ, flux_noSDQ, err_noSDQ = wl[mask_noSDQ], flux[mask_noSDQ], err[mask_noSDQ]\n",
    "# inverse the _noSDQ mask to collect the data points with SDQ flags\n",
    "wvln_SDQ, flux_SDQ = wl[~mask_noSDQ], flux[~mask_noSDQ]  # apply the bitwise-not of mask\n",
    "\n",
    "# plot1: the spectrum with SDQ flagged data included\n",
    "# plt.subplot(2,1,1)\n",
    "axes[0].plot(wl, flux,  # the x-data, y-data\n",
    "             marker='.', markersize=2, markerfacecolor='w', markeredgewidth=0)  # specifies the data points style\n",
    "\n",
    "# plot2: plot the spectrum without SDQ flagged data, then mark the SDQ data points with +\n",
    "# Plot the filtered datapoints\n",
    "axes[1].plot(wvln_noSDQ, flux_noSDQ,  # the x-data, y-data\n",
    "             marker='.', markersize=2, markerfacecolor='w', markeredgewidth=0, label=\"SDQ cleaned spectrum\")\n",
    "axes[1].plot(wvln_SDQ, flux_SDQ, 'r+', label='SDQ-flagged data')\n",
    "axes[1].legend(loc='best')\n",
    "\n",
    "# Format the figures:\n",
    "axes[0].set_title('FUV with SDQ-flagged data')\n",
    "axes[1].set_title('FUV without SDQ flagged data')\n",
    "for ax in axes:\n",
    "    ax.set_xlabel('Wavelength (Å)')\n",
    "    ax.set_ylabel('Flux (ergs/s/cm$^2$/Å)')\n",
    "    ax.set_xlim(wl.min() - 0.5, 1520)  # zoom in on left edge"
   ]
  },
  {
   "cell_type": "markdown",
   "id": "799cc510",
   "metadata": {},
   "source": [
    "<a id=section5></a>\n",
    "## 5. Visualizing STIS Image\n",
    "\n",
    "The STIS images are stored as two-dimensional arrays in FITS image extension files. For more information on STIS image files and extension, see [STIS FITS Image Extension Files](https://hst-docs.stsci.edu/stisdhb/chapter-2-stis-data-structure/2-3-stis-file-structures#id-2.3STISFileStructures-2.3.12.3.1STISFITSImageExtensionFiles)"
   ]
  },
  {
   "cell_type": "markdown",
   "id": "b4bdad56",
   "metadata": {},
   "source": [
    "<a id=section5.1></a>\n",
    "### 5.1 Exploring image file structure\n",
    "The rectified, wavelength and flux calibrated first order spectra or Geometrically corrected imaging data is stored in the fits file with the x2d extension (note that for the CCD the similar extension is sx2). Similar to what we did to the x1d file, we first open the fits file to explore its file structure."
   ]
  },
  {
   "cell_type": "code",
   "execution_count": 17,
   "id": "ee6bb885",
   "metadata": {
    "execution": {
     "iopub.execute_input": "2025-10-09T18:36:36.026221Z",
     "iopub.status.busy": "2025-10-09T18:36:36.026043Z",
     "iopub.status.idle": "2025-10-09T18:36:36.032594Z",
     "shell.execute_reply": "2025-10-09T18:36:36.032086Z"
    }
   },
   "outputs": [
    {
     "name": "stdout",
     "output_type": "stream",
     "text": [
      "Filename: data/mastDownload/HST/odj102010/odj102010_x2d.fits\n",
      "No.    Name      Ver    Type      Cards   Dimensions   Format\n",
      "  0  PRIMARY       1 PrimaryHDU     278   ()      \n",
      "  1  SCI           1 ImageHDU       121   (1201, 1201)   float32   \n",
      "  2  ERR           1 ImageHDU        61   (1201, 1201)   float32   \n",
      "  3  DQ            1 ImageHDU        44   (1201, 1201)   int16   \n"
     ]
    }
   ],
   "source": [
    "# read in the x2d file and get its info\n",
    "x2d_file = Path('./data/mastDownload/HST/odj102010/odj102010_x2d.fits')\n",
    "fits.info(x2d_file)"
   ]
  },
  {
   "cell_type": "markdown",
   "id": "f054546f",
   "metadata": {},
   "source": [
    "- The first, of extension type SCI, stores the science count/flux values.\n",
    "- The second, of extension type ERR, contains the statistical errors, which are propagated through the calibration process. It is unpopulated in raw data files.\n",
    "- The third, of extension type DQ, stores the data quality values, which flag suspect pixels in the corresponding SCI data. It is unpopulated in raw data files.\n",
    "\n",
    "![ch2_stis_data4.1.jpg](figures/ch2_stis_data4.1.jpg)"
   ]
  },
  {
   "cell_type": "markdown",
   "id": "e65d4836",
   "metadata": {},
   "source": [
    "Similarly, we can also get the header from this FITS file to see the scientific metadata."
   ]
  },
  {
   "cell_type": "code",
   "execution_count": 18,
   "id": "4df19935",
   "metadata": {
    "execution": {
     "iopub.execute_input": "2025-10-09T18:36:36.034125Z",
     "iopub.status.busy": "2025-10-09T18:36:36.033969Z",
     "iopub.status.idle": "2025-10-09T18:36:36.038936Z",
     "shell.execute_reply": "2025-10-09T18:36:36.038453Z"
    }
   },
   "outputs": [
    {
     "data": {
      "text/plain": [
       "SIMPLE  =                    T / file does conform to FITS standard             \n",
       "BITPIX  =                   16 / number of bits per data pixel                  \n",
       "NAXIS   =                    0 / number of data axes                            \n",
       "EXTEND  =                    T / FITS dataset may contain extensions            \n",
       "COMMENT   FITS (Flexible Image Transport System) format is defined in 'Astronomy\n",
       "COMMENT   and Astrophysics', volume 376, page 359; bibcode: 2001A&A...376..359H \n",
       "ORIGIN  = 'HSTIO/CFITSIO March 2010' / FITS file originator                     \n",
       "DATE    = '2025-09-30' / date this file was written (yyyy-mm-dd)                \n",
       "NEXTEND =                    3 / Number of standard extensions                  \n",
       "FILENAME= 'odj102010_x2d.fits' / name of file                                   \n",
       "FILETYPE= 'SCI      '          / type of data found in data file                \n",
       "                                                                                \n",
       "TELESCOP= 'HST'                / telescope used to acquire data                 \n",
       "BSIDEOPS= 'FALSE'              / Post-2021-07-15 B-Side Operations Indicator    \n",
       "INSTRUME= 'STIS  '             / identifier for instrument used to acquire data "
      ]
     },
     "execution_count": 18,
     "metadata": {},
     "output_type": "execute_result"
    }
   ],
   "source": [
    "# get header of the fits file\n",
    "x2d_header = fits.getheader(x2d_file, ext=0)\n",
    "x2d_header[:15]  # additional lines are not displayed here"
   ]
  },
  {
   "cell_type": "markdown",
   "id": "de1753da",
   "metadata": {},
   "source": [
    "<a id=section5.2></a>\n",
    "### 5.2 Showing the image\n",
    "Now we collect the science image data from the fits file and show the image."
   ]
  },
  {
   "cell_type": "code",
   "execution_count": 19,
   "id": "7df3e9f9",
   "metadata": {
    "execution": {
     "iopub.execute_input": "2025-10-09T18:36:36.040299Z",
     "iopub.status.busy": "2025-10-09T18:36:36.040129Z",
     "iopub.status.idle": "2025-10-09T18:36:36.045111Z",
     "shell.execute_reply": "2025-10-09T18:36:36.044726Z"
    }
   },
   "outputs": [],
   "source": [
    "# get data as a numpy array\n",
    "with fits.open(x2d_file) as hdu_list:\n",
    "    x2d_data = hdu_list[1].data"
   ]
  },
  {
   "cell_type": "markdown",
   "id": "3b05fdc3",
   "metadata": {},
   "source": [
    "Make a histogram of the magnitude of the image data so that we have a general idea on the distribution. Knowing the distribution is essential for us to normalize the data when showing the image."
   ]
  },
  {
   "cell_type": "code",
   "execution_count": 20,
   "id": "7d04df6b",
   "metadata": {
    "execution": {
     "iopub.execute_input": "2025-10-09T18:36:36.046497Z",
     "iopub.status.busy": "2025-10-09T18:36:36.046356Z",
     "iopub.status.idle": "2025-10-09T18:36:38.163739Z",
     "shell.execute_reply": "2025-10-09T18:36:38.163157Z"
    }
   },
   "outputs": [
    {
     "name": "stderr",
     "output_type": "stream",
     "text": [
      "/tmp/ipykernel_2801/3318306081.py:2: RuntimeWarning: divide by zero encountered in log10\n",
      "  filtered_data = [v for row in np.log10(x2d_data) for v in row if not (np.isinf(v) or np.isnan(v))]\n",
      "/tmp/ipykernel_2801/3318306081.py:2: RuntimeWarning: invalid value encountered in log10\n",
      "  filtered_data = [v for row in np.log10(x2d_data) for v in row if not (np.isinf(v) or np.isnan(v))]\n"
     ]
    },
    {
     "data": {
      "text/plain": [
       "Text(0.5, 1.0, '_x2d Data Magnitude Order frequencies')"
      ]
     },
     "execution_count": 20,
     "metadata": {},
     "output_type": "execute_result"
    }
   ],
   "source": [
    "# remove infinities and NaNs from the data when making the histogram\n",
    "filtered_data = [v for row in np.log10(x2d_data) for v in row if not (np.isinf(v) or np.isnan(v))]\n",
    "\n",
    "fig, ax = plt.subplots(1, 1)\n",
    "fig.set_size_inches(15, 5)\n",
    "\n",
    "ax.hist(filtered_data, range=[-20.5, -8.5], bins=12)\n",
    "ax.set_xlabel('Magnitude order of _x2d image data')\n",
    "ax.set_ylabel('count')\n",
    "ax.set_title('_x2d Data Magnitude Order frequencies')"
   ]
  },
  {
   "cell_type": "markdown",
   "id": "40d3076e",
   "metadata": {},
   "source": [
    "When showing the image, we normalize the color of each pixel to a specific range through vmin and vmax to make the features of image clear. These values typically matches the magnitude of the `x2d` data according to the histogram above, but can be experimented and changed to bring out features at different levels."
   ]
  },
  {
   "cell_type": "code",
   "execution_count": 21,
   "id": "3d6d5527",
   "metadata": {
    "execution": {
     "iopub.execute_input": "2025-10-09T18:36:38.165440Z",
     "iopub.status.busy": "2025-10-09T18:36:38.165257Z",
     "iopub.status.idle": "2025-10-09T18:36:38.172053Z",
     "shell.execute_reply": "2025-10-09T18:36:38.171592Z"
    }
   },
   "outputs": [
    {
     "data": {
      "text/plain": [
       "<matplotlib.image.AxesImage at 0x7efe7b34ce10>"
      ]
     },
     "execution_count": 21,
     "metadata": {},
     "output_type": "execute_result"
    }
   ],
   "source": [
    "# show the image\n",
    "matplotlib.rcParams['figure.figsize'] = (10, 10)\n",
    "plt.imshow(x2d_data, origin='lower', vmin=0, vmax=1e-13, cmap=\"viridis\")"
   ]
  },
  {
   "cell_type": "markdown",
   "id": "20adbab9",
   "metadata": {},
   "source": [
    "For more color map and normalizing options, see: [`Choosing Colormaps in Matplotlib`](https://matplotlib.org/stable/tutorials/colors/colormaps.html), [`matplotlib.pyplot.imshow`](https://matplotlib.org/stable/api/_as_gen/matplotlib.pyplot.imshow.html)."
   ]
  },
  {
   "cell_type": "markdown",
   "id": "a649a5b8",
   "metadata": {},
   "source": [
    "<a id=section5.3></a>\n",
    "### 5.3 Removing serious data quality pixels\n",
    "Now we are going to remove the pixels with series data quality flags as described above. The removed pixels will appear grey like the background. The horizontal stripes of removed data are from the bar (top) and repeller wire shadow (middle)."
   ]
  },
  {
   "cell_type": "code",
   "execution_count": 22,
   "id": "f87726da",
   "metadata": {
    "execution": {
     "iopub.execute_input": "2025-10-09T18:36:38.173652Z",
     "iopub.status.busy": "2025-10-09T18:36:38.173498Z",
     "iopub.status.idle": "2025-10-09T18:36:38.338067Z",
     "shell.execute_reply": "2025-10-09T18:36:38.337547Z"
    }
   },
   "outputs": [
    {
     "data": {
      "text/plain": [
       "<matplotlib.image.AxesImage at 0x7efe7b34d550>"
      ]
     },
     "execution_count": 22,
     "metadata": {},
     "output_type": "execute_result"
    }
   ],
   "source": [
    "# get the serious data quality flag\n",
    "sdqFlags_fuv = fits.getheader(x2d_file, 1)[\"SDQFLAGS\"]\n",
    "# get data quality flags of each pixels\n",
    "with fits.open(x2d_file) as hdu_list:\n",
    "    x2d_dq = hdu_list[3].data\n",
    "    \n",
    "    \n",
    "# create a mask of bad pixels and set them to nan\n",
    "def check_dq(dq):\n",
    "    return bool(dq & sdqFlags_fuv)\n",
    "\n",
    "\n",
    "mask = np.vectorize(check_dq)(x2d_dq)\n",
    "x2d_mask = np.ma.array(x2d_data, mask=mask, fill_value=np.nan)\n",
    "# plot the image\n",
    "plt.imshow(x2d_mask, origin='lower', vmin=0, vmax=1e-13, cmap=\"viridis\")"
   ]
  },
  {
   "cell_type": "markdown",
   "id": "ddf14105",
   "metadata": {},
   "source": [
    "<a id=section6></a>\n",
    "## 6.Working with Time-Tag data\n",
    "\n",
    "The MAMA detecters have a unique Time-Tag mode besides ACCUM mode. TIME-TAG mode is used for high-time-resolution spectroscopy and imaging in the UV. In TIME-TAG mode, the position and detection time of every photon is recorded in an event list. The Time-Tag mode operation for the MAMA detectors can be found at: [MAMA TIME-TAG Mode](https://hst-docs.stsci.edu/stisihb/chapter-11-data-taking/11-1-basic-operating-modes#id-11.1BasicOperatingModes-Section11.1.311.1.3MAMATIME-TAGMode).\n",
    "\n",
    "In TIME-TAG mode, the position and detection time of every photon is recorded in an event list.\n",
    "First download the _tag data:"
   ]
  },
  {
   "cell_type": "code",
   "execution_count": 23,
   "id": "d16b6763",
   "metadata": {
    "execution": {
     "iopub.execute_input": "2025-10-09T18:36:38.339722Z",
     "iopub.status.busy": "2025-10-09T18:36:38.339557Z",
     "iopub.status.idle": "2025-10-09T18:36:51.379431Z",
     "shell.execute_reply": "2025-10-09T18:36:51.378928Z"
    }
   },
   "outputs": [
    {
     "name": "stdout",
     "output_type": "stream",
     "text": [
      "Downloading URL https://mast.stsci.edu/api/v0.1/Download/file?uri=mast:HST/product/odgxt9010_jif.fits to data/mastDownload/HST/odgxt9010/odgxt9010_jif.fits ..."
     ]
    },
    {
     "name": "stdout",
     "output_type": "stream",
     "text": [
      " [Done]\n"
     ]
    },
    {
     "name": "stdout",
     "output_type": "stream",
     "text": [
      "Downloading URL https://mast.stsci.edu/api/v0.1/Download/file?uri=mast:HST/product/odgxt9010_jit.fits to data/mastDownload/HST/odgxt9010/odgxt9010_jit.fits ..."
     ]
    },
    {
     "name": "stdout",
     "output_type": "stream",
     "text": [
      " [Done]\n"
     ]
    },
    {
     "name": "stdout",
     "output_type": "stream",
     "text": [
      "Downloading URL https://mast.stsci.edu/api/v0.1/Download/file?uri=mast:HST/product/odgxt9010_jwf.fits to data/mastDownload/HST/odgxt9010/odgxt9010_jwf.fits ..."
     ]
    },
    {
     "name": "stdout",
     "output_type": "stream",
     "text": [
      " [Done]\n"
     ]
    },
    {
     "name": "stdout",
     "output_type": "stream",
     "text": [
      "Downloading URL https://mast.stsci.edu/api/v0.1/Download/file?uri=mast:HST/product/odgxt9010_jwt.fits to data/mastDownload/HST/odgxt9010/odgxt9010_jwt.fits ..."
     ]
    },
    {
     "name": "stdout",
     "output_type": "stream",
     "text": [
      " [Done]\n"
     ]
    },
    {
     "name": "stdout",
     "output_type": "stream",
     "text": [
      "Downloading URL https://mast.stsci.edu/api/v0.1/Download/file?uri=mast:HST/product/odgxt9010_spt.fits to data/mastDownload/HST/odgxt9010/odgxt9010_spt.fits ..."
     ]
    },
    {
     "name": "stdout",
     "output_type": "stream",
     "text": [
      " [Done]\n"
     ]
    },
    {
     "name": "stdout",
     "output_type": "stream",
     "text": [
      "Downloading URL https://mast.stsci.edu/api/v0.1/Download/file?uri=mast:HST/product/odgxt9010_tag.fits to data/mastDownload/HST/odgxt9010/odgxt9010_tag.fits ..."
     ]
    },
    {
     "name": "stdout",
     "output_type": "stream",
     "text": [
      " [Done]\n"
     ]
    },
    {
     "name": "stdout",
     "output_type": "stream",
     "text": [
      "Downloading URL https://mast.stsci.edu/api/v0.1/Download/file?uri=mast:HST/product/odgxt9010_trl.fits to data/mastDownload/HST/odgxt9010/odgxt9010_trl.fits ..."
     ]
    },
    {
     "name": "stdout",
     "output_type": "stream",
     "text": [
      " [Done]\n"
     ]
    },
    {
     "name": "stdout",
     "output_type": "stream",
     "text": [
      "Downloading URL https://mast.stsci.edu/api/v0.1/Download/file?uri=mast:HST/product/odgxt9010_wav.fits to data/mastDownload/HST/odgxt9010/odgxt9010_wav.fits ..."
     ]
    },
    {
     "name": "stdout",
     "output_type": "stream",
     "text": [
      " [Done]\n"
     ]
    },
    {
     "name": "stdout",
     "output_type": "stream",
     "text": [
      "Downloading URL https://mast.stsci.edu/api/v0.1/Download/file?uri=mast:HST/product/odgxt9010_wsp.fits to data/mastDownload/HST/odgxt9010/odgxt9010_wsp.fits ..."
     ]
    },
    {
     "name": "stdout",
     "output_type": "stream",
     "text": [
      " [Done]\n"
     ]
    },
    {
     "name": "stdout",
     "output_type": "stream",
     "text": [
      "Downloading URL https://mast.stsci.edu/api/v0.1/Download/file?uri=mast:HST/product/odgxt9010_asn.fits to data/mastDownload/HST/odgxt9010/odgxt9010_asn.fits ..."
     ]
    },
    {
     "name": "stdout",
     "output_type": "stream",
     "text": [
      " [Done]\n"
     ]
    },
    {
     "name": "stdout",
     "output_type": "stream",
     "text": [
      "Downloading URL https://mast.stsci.edu/api/v0.1/Download/file?uri=mast:HST/product/odgxt9010_raw.fits to data/mastDownload/HST/odgxt9010/odgxt9010_raw.fits ..."
     ]
    },
    {
     "name": "stdout",
     "output_type": "stream",
     "text": [
      " [Done]\n"
     ]
    },
    {
     "name": "stdout",
     "output_type": "stream",
     "text": [
      "Downloading URL https://mast.stsci.edu/api/v0.1/Download/file?uri=mast:HST/product/odgxt9010_x2d.fits to data/mastDownload/HST/odgxt9010/odgxt9010_x2d.fits ..."
     ]
    },
    {
     "name": "stdout",
     "output_type": "stream",
     "text": [
      " [Done]\n"
     ]
    },
    {
     "name": "stdout",
     "output_type": "stream",
     "text": [
      "Downloading URL https://mast.stsci.edu/api/v0.1/Download/file?uri=mast:HST/product/odgxt9010_flt.fits to data/mastDownload/HST/odgxt9010/odgxt9010_flt.fits ..."
     ]
    },
    {
     "name": "stdout",
     "output_type": "stream",
     "text": [
      " [Done]\n"
     ]
    },
    {
     "name": "stdout",
     "output_type": "stream",
     "text": [
      "Downloading URL https://mast.stsci.edu/api/v0.1/Download/file?uri=mast:HST/product/odgxt9010_x1d.fits to data/mastDownload/HST/odgxt9010/odgxt9010_x1d.fits ..."
     ]
    },
    {
     "name": "stdout",
     "output_type": "stream",
     "text": [
      " [Done]\n"
     ]
    },
    {
     "name": "stdout",
     "output_type": "stream",
     "text": [
      "Downloading URL https://mast.stsci.edu/api/v0.1/Download/file?uri=mast:HST/product/hasp/hst_15070_stis_v-t-cra_g230m_odgx_cspec.fits to data/mastDownload/HST/hst_hasp_15070_stis_v-t-cra_odgx/hst_15070_stis_v-t-cra_g230m_odgx_cspec.fits ..."
     ]
    },
    {
     "name": "stdout",
     "output_type": "stream",
     "text": [
      " [Done]\n"
     ]
    },
    {
     "name": "stdout",
     "output_type": "stream",
     "text": [
      "Downloading URL https://mast.stsci.edu/api/v0.1/Download/file?uri=mast:HST/product/hasp/hst_15070_stis_v-t-cra_g230m_odgx09_cspec.fits to data/mastDownload/HST/hst_hasp_15070_stis_v-t-cra_odgx/hst_15070_stis_v-t-cra_g230m_odgx09_cspec.fits ..."
     ]
    },
    {
     "name": "stdout",
     "output_type": "stream",
     "text": [
      " [Done]\n"
     ]
    },
    {
     "name": "stdout",
     "output_type": "stream",
     "text": [
      "Downloading URL https://mast.stsci.edu/api/v0.1/Download/file?uri=mast:HST/product/hasp/hst_15070_stis_v-t-cra_g230m_odgxc9_cspec.fits to data/mastDownload/HST/hst_hasp_15070_stis_v-t-cra_odgx/hst_15070_stis_v-t-cra_g230m_odgxc9_cspec.fits ..."
     ]
    },
    {
     "name": "stdout",
     "output_type": "stream",
     "text": [
      " [Done]\n"
     ]
    },
    {
     "name": "stdout",
     "output_type": "stream",
     "text": [
      "Downloading URL https://mast.stsci.edu/api/v0.1/Download/file?uri=mast:HST/product/hasp/hst_15070_stis_v-t-cra_g230m_odgxt9_cspec.fits to data/mastDownload/HST/hst_hasp_15070_stis_v-t-cra_odgx/hst_15070_stis_v-t-cra_g230m_odgxt9_cspec.fits ..."
     ]
    },
    {
     "name": "stdout",
     "output_type": "stream",
     "text": [
      " [Done]\n"
     ]
    },
    {
     "name": "stdout",
     "output_type": "stream",
     "text": [
      "Downloading URL https://mast.stsci.edu/api/v0.1/Download/file?uri=mast:HST/product/hasp/hst_15070_cos-stis_v-t-cra_g130m-g160m-g230m_ldgx_cspec.fits to data/mastDownload/HST/hst_hasp_15070_cos-stis_v-t-cra_ldgx/hst_15070_cos-stis_v-t-cra_g130m-g160m-g230m_ldgx_cspec.fits ..."
     ]
    },
    {
     "name": "stdout",
     "output_type": "stream",
     "text": [
      " [Done]\n"
     ]
    },
    {
     "name": "stdout",
     "output_type": "stream",
     "text": [
      "Downloading URL https://mast.stsci.edu/api/v0.1/Download/file?uri=mast:HST/product/hasp/hst_15070_cos-stis_v-t-cra_g130m-g230m_ldgx_cspec.fits to data/mastDownload/HST/hst_hasp_15070_cos-stis_v-t-cra_ldgx/hst_15070_cos-stis_v-t-cra_g130m-g230m_ldgx_cspec.fits ..."
     ]
    },
    {
     "name": "stdout",
     "output_type": "stream",
     "text": [
      " [Done]\n"
     ]
    },
    {
     "data": {
      "text/html": [
       "<div><i>Table length=20</i>\n",
       "<table id=\"table139631453933072\" class=\"table-striped table-bordered table-condensed\">\n",
       "<thead><tr><th>Local Path</th><th>Status</th><th>Message</th><th>URL</th></tr></thead>\n",
       "<thead><tr><th>str119</th><th>str8</th><th>object</th><th>object</th></tr></thead>\n",
       "<tr><td>data/mastDownload/HST/odgxt9010/odgxt9010_jif.fits</td><td>COMPLETE</td><td>None</td><td>None</td></tr>\n",
       "<tr><td>data/mastDownload/HST/odgxt9010/odgxt9010_jit.fits</td><td>COMPLETE</td><td>None</td><td>None</td></tr>\n",
       "<tr><td>data/mastDownload/HST/odgxt9010/odgxt9010_jwf.fits</td><td>COMPLETE</td><td>None</td><td>None</td></tr>\n",
       "<tr><td>data/mastDownload/HST/odgxt9010/odgxt9010_jwt.fits</td><td>COMPLETE</td><td>None</td><td>None</td></tr>\n",
       "<tr><td>data/mastDownload/HST/odgxt9010/odgxt9010_spt.fits</td><td>COMPLETE</td><td>None</td><td>None</td></tr>\n",
       "<tr><td>data/mastDownload/HST/odgxt9010/odgxt9010_tag.fits</td><td>COMPLETE</td><td>None</td><td>None</td></tr>\n",
       "<tr><td>data/mastDownload/HST/odgxt9010/odgxt9010_trl.fits</td><td>COMPLETE</td><td>None</td><td>None</td></tr>\n",
       "<tr><td>data/mastDownload/HST/odgxt9010/odgxt9010_wav.fits</td><td>COMPLETE</td><td>None</td><td>None</td></tr>\n",
       "<tr><td>data/mastDownload/HST/odgxt9010/odgxt9010_wsp.fits</td><td>COMPLETE</td><td>None</td><td>None</td></tr>\n",
       "<tr><td>data/mastDownload/HST/odgxt9010/odgxt9010_asn.fits</td><td>COMPLETE</td><td>None</td><td>None</td></tr>\n",
       "<tr><td>data/mastDownload/HST/odgxt9010/odgxt9010_raw.fits</td><td>COMPLETE</td><td>None</td><td>None</td></tr>\n",
       "<tr><td>data/mastDownload/HST/odgxt9010/odgxt9010_x2d.fits</td><td>COMPLETE</td><td>None</td><td>None</td></tr>\n",
       "<tr><td>data/mastDownload/HST/odgxt9010/odgxt9010_flt.fits</td><td>COMPLETE</td><td>None</td><td>None</td></tr>\n",
       "<tr><td>data/mastDownload/HST/odgxt9010/odgxt9010_x1d.fits</td><td>COMPLETE</td><td>None</td><td>None</td></tr>\n",
       "<tr><td>data/mastDownload/HST/hst_hasp_15070_stis_v-t-cra_odgx/hst_15070_stis_v-t-cra_g230m_odgx_cspec.fits</td><td>COMPLETE</td><td>None</td><td>None</td></tr>\n",
       "<tr><td>data/mastDownload/HST/hst_hasp_15070_stis_v-t-cra_odgx/hst_15070_stis_v-t-cra_g230m_odgx09_cspec.fits</td><td>COMPLETE</td><td>None</td><td>None</td></tr>\n",
       "<tr><td>data/mastDownload/HST/hst_hasp_15070_stis_v-t-cra_odgx/hst_15070_stis_v-t-cra_g230m_odgxc9_cspec.fits</td><td>COMPLETE</td><td>None</td><td>None</td></tr>\n",
       "<tr><td>data/mastDownload/HST/hst_hasp_15070_stis_v-t-cra_odgx/hst_15070_stis_v-t-cra_g230m_odgxt9_cspec.fits</td><td>COMPLETE</td><td>None</td><td>None</td></tr>\n",
       "<tr><td>data/mastDownload/HST/hst_hasp_15070_cos-stis_v-t-cra_ldgx/hst_15070_cos-stis_v-t-cra_g130m-g160m-g230m_ldgx_cspec.fits</td><td>COMPLETE</td><td>None</td><td>None</td></tr>\n",
       "<tr><td>data/mastDownload/HST/hst_hasp_15070_cos-stis_v-t-cra_ldgx/hst_15070_cos-stis_v-t-cra_g130m-g230m_ldgx_cspec.fits</td><td>COMPLETE</td><td>None</td><td>None</td></tr>\n",
       "</table></div>"
      ],
      "text/plain": [
       "<Table length=20>\n",
       "                                                       Local Path                                                       ...\n",
       "                                                         str119                                                         ...\n",
       "----------------------------------------------------------------------------------------------------------------------- ...\n",
       "                                                                     data/mastDownload/HST/odgxt9010/odgxt9010_jif.fits ...\n",
       "                                                                     data/mastDownload/HST/odgxt9010/odgxt9010_jit.fits ...\n",
       "                                                                     data/mastDownload/HST/odgxt9010/odgxt9010_jwf.fits ...\n",
       "                                                                     data/mastDownload/HST/odgxt9010/odgxt9010_jwt.fits ...\n",
       "                                                                     data/mastDownload/HST/odgxt9010/odgxt9010_spt.fits ...\n",
       "                                                                     data/mastDownload/HST/odgxt9010/odgxt9010_tag.fits ...\n",
       "                                                                     data/mastDownload/HST/odgxt9010/odgxt9010_trl.fits ...\n",
       "                                                                     data/mastDownload/HST/odgxt9010/odgxt9010_wav.fits ...\n",
       "                                                                     data/mastDownload/HST/odgxt9010/odgxt9010_wsp.fits ...\n",
       "                                                                     data/mastDownload/HST/odgxt9010/odgxt9010_asn.fits ...\n",
       "                                                                     data/mastDownload/HST/odgxt9010/odgxt9010_raw.fits ...\n",
       "                                                                     data/mastDownload/HST/odgxt9010/odgxt9010_x2d.fits ...\n",
       "                                                                     data/mastDownload/HST/odgxt9010/odgxt9010_flt.fits ...\n",
       "                                                                     data/mastDownload/HST/odgxt9010/odgxt9010_x1d.fits ...\n",
       "                    data/mastDownload/HST/hst_hasp_15070_stis_v-t-cra_odgx/hst_15070_stis_v-t-cra_g230m_odgx_cspec.fits ...\n",
       "                  data/mastDownload/HST/hst_hasp_15070_stis_v-t-cra_odgx/hst_15070_stis_v-t-cra_g230m_odgx09_cspec.fits ...\n",
       "                  data/mastDownload/HST/hst_hasp_15070_stis_v-t-cra_odgx/hst_15070_stis_v-t-cra_g230m_odgxc9_cspec.fits ...\n",
       "                  data/mastDownload/HST/hst_hasp_15070_stis_v-t-cra_odgx/hst_15070_stis_v-t-cra_g230m_odgxt9_cspec.fits ...\n",
       "data/mastDownload/HST/hst_hasp_15070_cos-stis_v-t-cra_ldgx/hst_15070_cos-stis_v-t-cra_g130m-g160m-g230m_ldgx_cspec.fits ...\n",
       "      data/mastDownload/HST/hst_hasp_15070_cos-stis_v-t-cra_ldgx/hst_15070_cos-stis_v-t-cra_g130m-g230m_ldgx_cspec.fits ..."
      ]
     },
     "execution_count": 23,
     "metadata": {},
     "output_type": "execute_result"
    }
   ],
   "source": [
    "# Search target objscy by obs_id\n",
    "target = Observations.query_criteria(obs_id='odgxt9010')\n",
    "# get a list of files assiciated with that target\n",
    "NUV_list = Observations.get_product_list(target)\n",
    "# Download only the SCIENCE fits files\n",
    "Observations.download_products(NUV_list, extension='fits', download_dir=str(datadir))"
   ]
  },
  {
   "cell_type": "markdown",
   "id": "daa7c2d4",
   "metadata": {},
   "source": [
    "<a id=section6.1></a>\n",
    "### 6.1 Investigating the _tag data"
   ]
  },
  {
   "cell_type": "code",
   "execution_count": 24,
   "id": "53f74f5c",
   "metadata": {
    "execution": {
     "iopub.execute_input": "2025-10-09T18:36:51.381229Z",
     "iopub.status.busy": "2025-10-09T18:36:51.381053Z",
     "iopub.status.idle": "2025-10-09T18:36:51.387502Z",
     "shell.execute_reply": "2025-10-09T18:36:51.387030Z"
    }
   },
   "outputs": [
    {
     "name": "stdout",
     "output_type": "stream",
     "text": [
      "Filename: data/mastDownload/HST/odgxt9010/odgxt9010_tag.fits\n",
      "No.    Name      Ver    Type      Cards   Dimensions   Format\n",
      "  0  PRIMARY       1 PrimaryHDU     219   ()      \n",
      "  1  EVENTS        1 BinTableHDU    148   4802131R x 4C   [1J, 1I, 1I, 1I]   \n",
      "  2  GTI           1 BinTableHDU     22   1R x 2C   [1D, 1D]   \n"
     ]
    }
   ],
   "source": [
    "# get info about the tag extension fits file\n",
    "tag = Path(\"./data/mastDownload/HST/odgxt9010/odgxt9010_tag.fits\")\n",
    "fits.info(tag)"
   ]
  },
  {
   "cell_type": "markdown",
   "id": "e6b20200",
   "metadata": {},
   "source": [
    "The _tag fits file has two binary table extensions: EVENTS and GTI (Good Time Interval)."
   ]
  },
  {
   "cell_type": "code",
   "execution_count": 25,
   "id": "18c97e0c",
   "metadata": {
    "execution": {
     "iopub.execute_input": "2025-10-09T18:36:51.389031Z",
     "iopub.status.busy": "2025-10-09T18:36:51.388876Z",
     "iopub.status.idle": "2025-10-09T18:36:51.394779Z",
     "shell.execute_reply": "2025-10-09T18:36:51.394389Z"
    }
   },
   "outputs": [
    {
     "data": {
      "text/plain": [
       "SHIFTA2 =             0.000000 / Spectrum shift in AXIS2 calculated from WAVECAL\n",
       "                                                                                \n",
       "              / TIMETAG EVENTS TABLE COLUMNS                                    \n",
       "                                                                                \n",
       "TTYPE1  = 'TIME    '           / event clock time                               \n",
       "TFORM1  = '1J      '           / data format for TIME: 32-bit integer           \n",
       "TUNIT1  = 'seconds '           / units for TIME: seconds                        \n",
       "TSCAL1  =             0.000125 / scale factor to convert s/c clock ticks to sec \n",
       "TZERO1  =                  0.0 / TIME zero point: starting time of obs.         \n",
       "TTYPE2  = 'AXIS1   '           / Doppler corrected axis 1 detector coordinate   \n",
       "TFORM2  = '1I      '           / data format for AXIS1: 16-bit integer          \n",
       "TUNIT2  = 'pixels  '           / physical units for AXIS1: pixels               \n",
       "TTYPE3  = 'AXIS2   '           / axis 2 detector coordinate                     \n",
       "TFORM3  = '1I      '           / data format for AXIS2: 16-bit integer          \n",
       "TUNIT3  = 'pixels  '           / physical units for AXIS2: pixels               \n",
       "TTYPE4  = 'DETAXIS1'           / raw 1 detector coordinate                      \n",
       "TFORM4  = '1I      '           / data format for DETAXIS1: 16-bit integer       "
      ]
     },
     "execution_count": 25,
     "metadata": {},
     "output_type": "execute_result"
    }
   ],
   "source": [
    "# get header of the EVENTS extension\n",
    "# print only the TIMETAG EVENTS TABLE COLUMNS (line 130-147)\n",
    "fits.getheader(tag, 1)[130:147]"
   ]
  },
  {
   "cell_type": "markdown",
   "id": "1b913811",
   "metadata": {},
   "source": [
    "Columns in the EVENTS extension:\n",
    "- TIME: the time each event was recorded relative to the start time\n",
    "- AXIS1: pixel coordinate along the spectral axis with the corretion term on Doppler shifts\n",
    "- AXIS2: pixel coordinate along the spatial axis\n",
    "- DETAXIS1: pixel coordinate along the spectral axis without the corretion term on Doppler shifts"
   ]
  },
  {
   "cell_type": "code",
   "execution_count": 26,
   "id": "fc938281",
   "metadata": {
    "execution": {
     "iopub.execute_input": "2025-10-09T18:36:51.396262Z",
     "iopub.status.busy": "2025-10-09T18:36:51.396075Z",
     "iopub.status.idle": "2025-10-09T18:36:51.402372Z",
     "shell.execute_reply": "2025-10-09T18:36:51.401871Z"
    }
   },
   "outputs": [
    {
     "data": {
      "text/plain": [
       "XTENSION= 'BINTABLE'           / extension type                                 \n",
       "BITPIX  =                    8 / bits per data value                            \n",
       "NAXIS   =                    2 / number of data axes                            \n",
       "NAXIS1  =                   16 / length of first data axis                      \n",
       "NAXIS2  =                    1 / length of second data axis                     \n",
       "PCOUNT  =                    0 / number of group parameters                     \n",
       "GCOUNT  =                    1 / number of groups                               \n",
       "TFIELDS =                    2 / number of fields in each table row             \n",
       "INHERIT =                    T / inherit the primary header                     \n",
       "EXTNAME = 'GTI     '           / extension name                                 \n",
       "EXTVER  =                    1 / extension version number                       \n",
       "ROOTNAME= 'odgxt9010                         ' / rootname of the observation set\n",
       "EXPNAME = 'odgxt9rfq                ' / exposure identifier                     \n",
       "                                                                                \n",
       "              / TIMETAG GTI TABLE COLUMN DESCRIPTORS                            \n",
       "                                                                                \n",
       "TTYPE1  = 'START   '           / start of good time interval                    \n",
       "TFORM1  = '1D      '           / data format for START: REAL*8                  \n",
       "TUNIT1  = 'seconds '           / physical units for START                       \n",
       "TTYPE2  = 'STOP    '           / end of good time interval                      \n",
       "TFORM2  = '1D      '           / data format for STOP: REAL*8                   \n",
       "TUNIT2  = 'seconds '           / physical units for STOP                        "
      ]
     },
     "execution_count": 26,
     "metadata": {},
     "output_type": "execute_result"
    }
   ],
   "source": [
    "# get header of the GTI extension\n",
    "fits.getheader(tag, 2)"
   ]
  },
  {
   "cell_type": "code",
   "execution_count": 27,
   "id": "1c2051f4",
   "metadata": {
    "execution": {
     "iopub.execute_input": "2025-10-09T18:36:51.403752Z",
     "iopub.status.busy": "2025-10-09T18:36:51.403613Z",
     "iopub.status.idle": "2025-10-09T18:36:51.427611Z",
     "shell.execute_reply": "2025-10-09T18:36:51.427087Z"
    }
   },
   "outputs": [
    {
     "name": "stderr",
     "output_type": "stream",
     "text": [
      "WARNING: UnitsWarning: 'seconds' did not parse as fits unit: At col 0, Unit 'seconds' not supported by the FITS standard.  If this is meant to be a custom unit, define it with 'u.def_unit'. To have it recognized inside a file reader or other code, enable it with 'u.add_enabled_units'. For details, see https://docs.astropy.org/en/latest/units/combining_and_defining.html [astropy.units.core]\n",
      "WARNING: UnitsWarning: 'seconds' did not parse as fits unit: At col 0, Unit 'seconds' not supported by the FITS standard.  If this is meant to be a custom unit, define it with 'u.def_unit'. To have it recognized inside a file reader or other code, enable it with 'u.add_enabled_units'. For details, see https://docs.astropy.org/en/latest/units/combining_and_defining.html [astropy.units.core]\n"
     ]
    },
    {
     "data": {
      "text/html": [
       "<div><i>Table length=1</i>\n",
       "<table id=\"table139631874944848\" class=\"table-striped table-bordered table-condensed\">\n",
       "<thead><tr><th>START</th><th>STOP</th></tr></thead>\n",
       "<thead><tr><th>seconds</th><th>seconds</th></tr></thead>\n",
       "<thead><tr><th>float64</th><th>float64</th></tr></thead>\n",
       "<tr><td>0.022625</td><td>2380.222</td></tr>\n",
       "</table></div>"
      ],
      "text/plain": [
       "<Table length=1>\n",
       " START     STOP  \n",
       "seconds  seconds \n",
       "float64  float64 \n",
       "-------- --------\n",
       "0.022625 2380.222"
      ]
     },
     "execution_count": 27,
     "metadata": {},
     "output_type": "execute_result"
    }
   ],
   "source": [
    "Table.read(tag, 2)"
   ]
  },
  {
   "cell_type": "markdown",
   "id": "5531109a",
   "metadata": {},
   "source": [
    "Columns in the GTI extension:\n",
    "- START: start of good time interval\n",
    "- STOP: end of good time interval\n",
    "\n",
    "Now we make a time series plot of the total flux over all wavelengths to see how the flux changes over the time interval:"
   ]
  },
  {
   "cell_type": "code",
   "execution_count": 28,
   "id": "24b9a069",
   "metadata": {
    "execution": {
     "iopub.execute_input": "2025-10-09T18:36:51.429166Z",
     "iopub.status.busy": "2025-10-09T18:36:51.428984Z",
     "iopub.status.idle": "2025-10-09T18:36:51.677294Z",
     "shell.execute_reply": "2025-10-09T18:36:51.676793Z"
    }
   },
   "outputs": [
    {
     "name": "stderr",
     "output_type": "stream",
     "text": [
      "WARNING: UnitsWarning: 'seconds' did not parse as fits unit: At col 0, Unit 'seconds' not supported by the FITS standard.  If this is meant to be a custom unit, define it with 'u.def_unit'. To have it recognized inside a file reader or other code, enable it with 'u.add_enabled_units'. For details, see https://docs.astropy.org/en/latest/units/combining_and_defining.html [astropy.units.core]\n",
      "WARNING: UnitsWarning: 'pixels' did not parse as fits unit: At col 0, Unit 'pixels' not supported by the FITS standard. Did you mean pixel? If this is meant to be a custom unit, define it with 'u.def_unit'. To have it recognized inside a file reader or other code, enable it with 'u.add_enabled_units'. For details, see https://docs.astropy.org/en/latest/units/combining_and_defining.html [astropy.units.core]\n",
      "WARNING: UnitsWarning: 'pixels' did not parse as fits unit: At col 0, Unit 'pixels' not supported by the FITS standard. Did you mean pixel? If this is meant to be a custom unit, define it with 'u.def_unit'. To have it recognized inside a file reader or other code, enable it with 'u.add_enabled_units'. For details, see https://docs.astropy.org/en/latest/units/combining_and_defining.html [astropy.units.core]\n",
      "WARNING: UnitsWarning: 'pixels' did not parse as fits unit: At col 0, Unit 'pixels' not supported by the FITS standard. Did you mean pixel? If this is meant to be a custom unit, define it with 'u.def_unit'. To have it recognized inside a file reader or other code, enable it with 'u.add_enabled_units'. For details, see https://docs.astropy.org/en/latest/units/combining_and_defining.html [astropy.units.core]\n",
      "WARNING: UnitsWarning: 'seconds' did not parse as fits unit: At col 0, Unit 'seconds' not supported by the FITS standard.  If this is meant to be a custom unit, define it with 'u.def_unit'. To have it recognized inside a file reader or other code, enable it with 'u.add_enabled_units'. For details, see https://docs.astropy.org/en/latest/units/combining_and_defining.html [astropy.units.core]\n",
      "WARNING: UnitsWarning: 'seconds' did not parse as fits unit: At col 0, Unit 'seconds' not supported by the FITS standard.  If this is meant to be a custom unit, define it with 'u.def_unit'. To have it recognized inside a file reader or other code, enable it with 'u.add_enabled_units'. For details, see https://docs.astropy.org/en/latest/units/combining_and_defining.html [astropy.units.core]\n",
      "WARNING: UnitsWarning: 'seconds' did not parse as fits unit: At col 0, Unit 'seconds' not supported by the FITS standard.  If this is meant to be a custom unit, define it with 'u.def_unit'. To have it recognized inside a file reader or other code, enable it with 'u.add_enabled_units'. For details, see https://docs.astropy.org/en/latest/units/combining_and_defining.html [astropy.units.core]\n",
      "WARNING: UnitsWarning: 'seconds' did not parse as fits unit: At col 0, Unit 'seconds' not supported by the FITS standard.  If this is meant to be a custom unit, define it with 'u.def_unit'. To have it recognized inside a file reader or other code, enable it with 'u.add_enabled_units'. For details, see https://docs.astropy.org/en/latest/units/combining_and_defining.html [astropy.units.core]\n",
      "/tmp/ipykernel_2801/756156116.py:6: DeprecationWarning: Conversion of an array with ndim > 0 to a scalar is deprecated, and will error in future. Ensure you extract a single element from your array before performing this operation. (Deprecated NumPy 1.25.)\n",
      "  time = np.arange(int(start), int(stop), 3)\n"
     ]
    },
    {
     "data": {
      "text/plain": [
       "Text(0, 0.5, 'Total Flux [counts]')"
      ]
     },
     "execution_count": 28,
     "metadata": {},
     "output_type": "execute_result"
    }
   ],
   "source": [
    "# read the events data as a pandas dataframe for easier manipulation\n",
    "events = Table.read(tag, 1).to_pandas()\n",
    "# get the good time interval from the GTI extension\n",
    "start, stop = Table.read(tag, 2)[\"START\"], Table.read(tag, 2)[\"STOP\"]\n",
    "# group the events by time with bin = 3 seconds\n",
    "time = np.arange(int(start), int(stop), 3)\n",
    "ind = np.digitize(events['TIME'], time)\n",
    "total_flux = events.groupby(ind).count()[\"TIME\"]\n",
    "# plot the flux as a function of time\n",
    "# notice here that the unit of flux is counts since we are counting the number of events in a time series\n",
    "matplotlib.rcParams['figure.figsize'] = (20, 7)\n",
    "plt.plot(time, total_flux, marker=\".\", mfc=\"w\")\n",
    "plt.xlabel(\"Time [s]\")\n",
    "plt.ylabel(\"Total Flux [counts]\")"
   ]
  },
  {
   "cell_type": "markdown",
   "id": "78b601c3",
   "metadata": {},
   "source": [
    "As the plot shows, though the total flux fluctuates, it is roughly a constant over the good time interval."
   ]
  },
  {
   "cell_type": "markdown",
   "id": "bcbd68e4",
   "metadata": {},
   "source": [
    "<a id=section6.2></a>\n",
    "### 6.2 Converting Time_Tag into ACCUM image\n",
    "Time tag data can be converted into ACCUM image using the inttag method in stistools.\n",
    "More information: [inttag](https://stistools.readthedocs.io/en/latest/inttag.html)"
   ]
  },
  {
   "cell_type": "code",
   "execution_count": 29,
   "id": "daba6888",
   "metadata": {
    "execution": {
     "iopub.execute_input": "2025-10-09T18:36:51.678875Z",
     "iopub.status.busy": "2025-10-09T18:36:51.678714Z",
     "iopub.status.idle": "2025-10-09T18:36:52.867479Z",
     "shell.execute_reply": "2025-10-09T18:36:52.866883Z"
    }
   },
   "outputs": [
    {
     "name": "stdout",
     "output_type": "stream",
     "text": [
      "imset: 1, start: 0.022625, stop: 2380.222, exposure time: 2380.199375\n"
     ]
    }
   ],
   "source": [
    "# define the output file\n",
    "accum = \"./data/mastDownload/HST/odgxt9010/odgxt9010_accum.fits\"\n",
    "# convert Time_Tag into ACCUM\n",
    "# the first parameter is the path to the _tag fits file, the second parameter is the output directory\n",
    "stistools.inttag.inttag(tag, accum)"
   ]
  },
  {
   "cell_type": "markdown",
   "id": "e454132a",
   "metadata": {},
   "source": [
    "Then the output file is in the same structure as a STIS image fits file, which we can open and plot in the same way we explored above:"
   ]
  },
  {
   "cell_type": "code",
   "execution_count": 30,
   "id": "8b78fcd1",
   "metadata": {
    "execution": {
     "iopub.execute_input": "2025-10-09T18:36:52.869211Z",
     "iopub.status.busy": "2025-10-09T18:36:52.869042Z",
     "iopub.status.idle": "2025-10-09T18:36:52.878542Z",
     "shell.execute_reply": "2025-10-09T18:36:52.878071Z"
    }
   },
   "outputs": [
    {
     "data": {
      "text/plain": [
       "<matplotlib.image.AxesImage at 0x7efe7d4b2e90>"
      ]
     },
     "execution_count": 30,
     "metadata": {},
     "output_type": "execute_result"
    }
   ],
   "source": [
    "with fits.open(accum) as hdul:\n",
    "    im = hdul[1].data\n",
    "plt.imshow(im, origin='lower', vmin=0, vmax=6, cmap=\"viridis\")"
   ]
  },
  {
   "cell_type": "markdown",
   "id": "9f85500e",
   "metadata": {},
   "source": [
    "inttag can be run to produce multiple output imsets: rcount specifies the number of imsets, imcrements specifies the time interval for each imsets in seconds"
   ]
  },
  {
   "cell_type": "code",
   "execution_count": 31,
   "id": "ada753e8",
   "metadata": {
    "execution": {
     "iopub.execute_input": "2025-10-09T18:36:52.879984Z",
     "iopub.status.busy": "2025-10-09T18:36:52.879836Z",
     "iopub.status.idle": "2025-10-09T18:36:54.048618Z",
     "shell.execute_reply": "2025-10-09T18:36:54.048103Z"
    }
   },
   "outputs": [
    {
     "name": "stdout",
     "output_type": "stream",
     "text": [
      "imset: 1, start: 0.022625, stop: 700.022625, exposure time: 700.0\n"
     ]
    },
    {
     "name": "stdout",
     "output_type": "stream",
     "text": [
      "imset: 2, start: 700.022625, stop: 1400.022625, exposure time: 700.0000000000001\n"
     ]
    },
    {
     "name": "stdout",
     "output_type": "stream",
     "text": [
      "imset: 3, start: 1400.022625, stop: 2100.022625, exposure time: 700.0\n"
     ]
    },
    {
     "name": "stdout",
     "output_type": "stream",
     "text": [
      "Filename: ./data/mastDownload/HST/odgxt9010/odgxt9010_accum.fits\n",
      "No.    Name      Ver    Type      Cards   Dimensions   Format\n",
      "  0  PRIMARY       1 PrimaryHDU     219   ()      \n",
      "  1  SCI           1 ImageHDU       139   (1024, 1024)   float64   \n",
      "  2  ERR           1 ImageHDU       140   ()      \n",
      "  3  DQ            1 ImageHDU       140   ()      \n",
      "  4  SCI           2 ImageHDU       139   (1024, 1024)   float64   \n",
      "  5  ERR           2 ImageHDU       140   ()      \n",
      "  6  DQ            2 ImageHDU       140   ()      \n",
      "  7  SCI           3 ImageHDU       139   (1024, 1024)   float64   \n",
      "  8  ERR           3 ImageHDU       140   ()      \n",
      "  9  DQ            3 ImageHDU       140   ()      \n"
     ]
    }
   ],
   "source": [
    "stistools.inttag.inttag(tag, accum, rcount=3, increment=700)\n",
    "fits.info(accum)"
   ]
  },
  {
   "cell_type": "markdown",
   "id": "be00acd6",
   "metadata": {},
   "source": [
    "Compare the 3 accum images produced by inttag, using the same scale and colormap:"
   ]
  },
  {
   "cell_type": "code",
   "execution_count": 32,
   "id": "8c5bf184",
   "metadata": {
    "execution": {
     "iopub.execute_input": "2025-10-09T18:36:54.050202Z",
     "iopub.status.busy": "2025-10-09T18:36:54.050018Z",
     "iopub.status.idle": "2025-10-09T18:36:54.183981Z",
     "shell.execute_reply": "2025-10-09T18:36:54.183413Z"
    }
   },
   "outputs": [],
   "source": [
    "for i in range(1, 8, 3):\n",
    "    with fits.open(accum) as hdul:\n",
    "        im = hdul[i].data\n",
    "    plt.subplot(1, 3, int(i/3)+1)\n",
    "    plt.imshow(im, origin='lower', vmin=0, vmax=2, cmap=\"viridis\")\n",
    "    plt.title(\"extension {}\".format(i))\n",
    "plt.tight_layout()"
   ]
  },
  {
   "cell_type": "markdown",
   "id": "45c2bce9",
   "metadata": {},
   "source": [
    "The output file is a series of extensions with each imset having a SCI, ERR, and DQ extension, as shown above."
   ]
  },
  {
   "cell_type": "markdown",
   "id": "ef405ebe",
   "metadata": {},
   "source": [
    "<a id=section7></a>\n",
    "## 7.Working with STIS Echelle data\n",
    "\n",
    "The STIS Echelle mode uses diffraction and interference to separate a spectrum into different spectral orders (the keyword in the headers is SPORDER), with each spectral order covering different wavelength range. The echelle were designed to maximize the spectral range covered in a single echellogram. For more information, see [Echelle Spectroscopy in the Ultraviolet](https://hst-docs.stsci.edu/stisihb/chapter-4-spectroscopy/4-3-echelle-spectroscopy-in-the-ultraviolet).\n",
    "\n",
    "We first download data taken with an echelle:"
   ]
  },
  {
   "cell_type": "code",
   "execution_count": 33,
   "id": "c27864b6",
   "metadata": {
    "execution": {
     "iopub.execute_input": "2025-10-09T18:36:54.185945Z",
     "iopub.status.busy": "2025-10-09T18:36:54.185781Z",
     "iopub.status.idle": "2025-10-09T18:37:18.663657Z",
     "shell.execute_reply": "2025-10-09T18:37:18.663148Z"
    }
   },
   "outputs": [
    {
     "name": "stdout",
     "output_type": "stream",
     "text": [
      "Downloading URL https://mast.stsci.edu/api/v0.1/Download/file?uri=mast:HST/product/octx01030_raw.fits to data/mastDownload/HST/octx01030/octx01030_raw.fits ..."
     ]
    },
    {
     "name": "stdout",
     "output_type": "stream",
     "text": [
      " [Done]\n"
     ]
    },
    {
     "name": "stdout",
     "output_type": "stream",
     "text": [
      "Downloading URL https://mast.stsci.edu/api/v0.1/Download/file?uri=mast:HST/product/octx01030_flt.fits to data/mastDownload/HST/octx01030/octx01030_flt.fits ..."
     ]
    },
    {
     "name": "stdout",
     "output_type": "stream",
     "text": [
      " [Done]\n"
     ]
    },
    {
     "name": "stdout",
     "output_type": "stream",
     "text": [
      "Downloading URL https://mast.stsci.edu/api/v0.1/Download/file?uri=mast:HST/product/octx01030_x1d.fits to data/mastDownload/HST/octx01030/octx01030_x1d.fits ..."
     ]
    },
    {
     "name": "stdout",
     "output_type": "stream",
     "text": [
      " [Done]\n"
     ]
    },
    {
     "name": "stdout",
     "output_type": "stream",
     "text": [
      "Downloading URL https://mast.stsci.edu/api/v0.1/Download/file?uri=mast:HST/product/hasp/hst_14094_stis_-rho-cnc_e230m_octx_cspec.fits to data/mastDownload/HST/hst_hasp_14094_stis_-rho-cnc_octx/hst_14094_stis_-rho-cnc_e230m_octx_cspec.fits ..."
     ]
    },
    {
     "name": "stdout",
     "output_type": "stream",
     "text": [
      " [Done]\n"
     ]
    },
    {
     "name": "stdout",
     "output_type": "stream",
     "text": [
      "Downloading URL https://mast.stsci.edu/api/v0.1/Download/file?uri=mast:HST/product/hasp/hst_14094_stis_-rho-cnc_e230m_octx01_cspec.fits to data/mastDownload/HST/hst_hasp_14094_stis_-rho-cnc_octx/hst_14094_stis_-rho-cnc_e230m_octx01_cspec.fits ..."
     ]
    },
    {
     "name": "stdout",
     "output_type": "stream",
     "text": [
      " [Done]\n"
     ]
    },
    {
     "name": "stdout",
     "output_type": "stream",
     "text": [
      "Downloading URL https://mast.stsci.edu/api/v0.1/Download/file?uri=mast:HST/product/hasp/hst_14094_stis_-rho-cnc_e230m_octx03_cspec.fits to data/mastDownload/HST/hst_hasp_14094_stis_-rho-cnc_octx/hst_14094_stis_-rho-cnc_e230m_octx03_cspec.fits ..."
     ]
    },
    {
     "name": "stdout",
     "output_type": "stream",
     "text": [
      " [Done]\n"
     ]
    },
    {
     "name": "stdout",
     "output_type": "stream",
     "text": [
      "Downloading URL https://mast.stsci.edu/api/v0.1/Download/file?uri=mast:HST/product/hasp/hst_14094_cos-stis_-rho-cnc_g130m-e230m_lctx_cspec.fits to data/mastDownload/HST/hst_hasp_14094_cos-stis_-rho-cnc_lctx/hst_14094_cos-stis_-rho-cnc_g130m-e230m_lctx_cspec.fits ..."
     ]
    },
    {
     "name": "stdout",
     "output_type": "stream",
     "text": [
      " [Done]\n"
     ]
    },
    {
     "data": {
      "text/html": [
       "<div><i>Table length=7</i>\n",
       "<table id=\"table139631453939984\" class=\"table-striped table-bordered table-condensed\">\n",
       "<thead><tr><th>Local Path</th><th>Status</th><th>Message</th><th>URL</th></tr></thead>\n",
       "<thead><tr><th>str115</th><th>str8</th><th>object</th><th>object</th></tr></thead>\n",
       "<tr><td>data/mastDownload/HST/octx01030/octx01030_raw.fits</td><td>COMPLETE</td><td>None</td><td>None</td></tr>\n",
       "<tr><td>data/mastDownload/HST/octx01030/octx01030_flt.fits</td><td>COMPLETE</td><td>None</td><td>None</td></tr>\n",
       "<tr><td>data/mastDownload/HST/octx01030/octx01030_x1d.fits</td><td>COMPLETE</td><td>None</td><td>None</td></tr>\n",
       "<tr><td>data/mastDownload/HST/hst_hasp_14094_stis_-rho-cnc_octx/hst_14094_stis_-rho-cnc_e230m_octx_cspec.fits</td><td>COMPLETE</td><td>None</td><td>None</td></tr>\n",
       "<tr><td>data/mastDownload/HST/hst_hasp_14094_stis_-rho-cnc_octx/hst_14094_stis_-rho-cnc_e230m_octx01_cspec.fits</td><td>COMPLETE</td><td>None</td><td>None</td></tr>\n",
       "<tr><td>data/mastDownload/HST/hst_hasp_14094_stis_-rho-cnc_octx/hst_14094_stis_-rho-cnc_e230m_octx03_cspec.fits</td><td>COMPLETE</td><td>None</td><td>None</td></tr>\n",
       "<tr><td>data/mastDownload/HST/hst_hasp_14094_cos-stis_-rho-cnc_lctx/hst_14094_cos-stis_-rho-cnc_g130m-e230m_lctx_cspec.fits</td><td>COMPLETE</td><td>None</td><td>None</td></tr>\n",
       "</table></div>"
      ],
      "text/plain": [
       "<Table length=7>\n",
       "                                                     Local Path                                                     ...\n",
       "                                                       str115                                                       ...\n",
       "------------------------------------------------------------------------------------------------------------------- ...\n",
       "                                                                 data/mastDownload/HST/octx01030/octx01030_raw.fits ...\n",
       "                                                                 data/mastDownload/HST/octx01030/octx01030_flt.fits ...\n",
       "                                                                 data/mastDownload/HST/octx01030/octx01030_x1d.fits ...\n",
       "              data/mastDownload/HST/hst_hasp_14094_stis_-rho-cnc_octx/hst_14094_stis_-rho-cnc_e230m_octx_cspec.fits ...\n",
       "            data/mastDownload/HST/hst_hasp_14094_stis_-rho-cnc_octx/hst_14094_stis_-rho-cnc_e230m_octx01_cspec.fits ...\n",
       "            data/mastDownload/HST/hst_hasp_14094_stis_-rho-cnc_octx/hst_14094_stis_-rho-cnc_e230m_octx03_cspec.fits ...\n",
       "data/mastDownload/HST/hst_hasp_14094_cos-stis_-rho-cnc_lctx/hst_14094_cos-stis_-rho-cnc_g130m-e230m_lctx_cspec.fits ..."
      ]
     },
     "execution_count": 33,
     "metadata": {},
     "output_type": "execute_result"
    }
   ],
   "source": [
    "# Search target objscy by obs_id\n",
    "target = Observations.query_criteria(obs_id='OCTX01030')\n",
    "# get a list of files assiciated with that target\n",
    "NUV_list = Observations.get_product_list(target)\n",
    "# Download only the SCIENCE fits files\n",
    "Observations.download_products(NUV_list, productType=\"SCIENCE\", extension='fits', download_dir=str(datadir))"
   ]
  },
  {
   "cell_type": "markdown",
   "id": "f0e94951",
   "metadata": {},
   "source": [
    "<a id=section7.1></a>\n",
    "### 7.1 Showing Echelle Image\n",
    "\n",
    "Open the _flt (Flat-fielded science) image in the same way we open other image files, and show the image:"
   ]
  },
  {
   "cell_type": "code",
   "execution_count": 34,
   "id": "4cb49218",
   "metadata": {
    "execution": {
     "iopub.execute_input": "2025-10-09T18:37:18.665187Z",
     "iopub.status.busy": "2025-10-09T18:37:18.664992Z",
     "iopub.status.idle": "2025-10-09T18:37:18.672785Z",
     "shell.execute_reply": "2025-10-09T18:37:18.672335Z"
    }
   },
   "outputs": [],
   "source": [
    "flt_file = \"./data/mastDownload/HST/octx01030/octx01030_flt.fits\"\n",
    "with fits.open(flt_file) as hdu:\n",
    "    image = hdu[1].data\n",
    "    plt.imshow(image, origin='lower', vmin=0, vmax=1, cmap=\"viridis\")"
   ]
  },
  {
   "cell_type": "markdown",
   "id": "542b74d7",
   "metadata": {},
   "source": [
    "As shown in the image above, there are multiple horizontal bands with different spectral orders. Each spectral order also has distinct wavelength range, which we will explore in the next section."
   ]
  },
  {
   "cell_type": "markdown",
   "id": "63159516",
   "metadata": {},
   "source": [
    "<a id=section7.2></a>\n",
    "### 7.2 Plotting Echelle Spectrum\n",
    "\n",
    "We first read in the _x1d data as an astropy table. Notice that when we read in the FUV _x1d data in [section2.2](#section2.2), the table has a single row with SPORDER = 1. But for echelle mode data, the data is separated into multiple rows, with each row having a distinct order."
   ]
  },
  {
   "cell_type": "code",
   "execution_count": 35,
   "id": "d8798b30",
   "metadata": {
    "execution": {
     "iopub.execute_input": "2025-10-09T18:37:18.674610Z",
     "iopub.status.busy": "2025-10-09T18:37:18.674445Z",
     "iopub.status.idle": "2025-10-09T18:37:18.745072Z",
     "shell.execute_reply": "2025-10-09T18:37:18.744636Z"
    }
   },
   "outputs": [
    {
     "name": "stderr",
     "output_type": "stream",
     "text": [
      "WARNING: UnitsWarning: 'Angstroms' did not parse as fits unit: At col 0, Unit 'Angstroms' not supported by the FITS standard. Did you mean Angstrom or angstrom? If this is meant to be a custom unit, define it with 'u.def_unit'. To have it recognized inside a file reader or other code, enable it with 'u.add_enabled_units'. For details, see https://docs.astropy.org/en/latest/units/combining_and_defining.html [astropy.units.core]\n",
      "WARNING: UnitsWarning: 'Counts/s' did not parse as fits unit: At col 0, Unit 'Counts' not supported by the FITS standard. Did you mean count? If this is meant to be a custom unit, define it with 'u.def_unit'. To have it recognized inside a file reader or other code, enable it with 'u.add_enabled_units'. For details, see https://docs.astropy.org/en/latest/units/combining_and_defining.html [astropy.units.core]\n",
      "WARNING: UnitsWarning: 'Counts/s' did not parse as fits unit: At col 0, Unit 'Counts' not supported by the FITS standard. Did you mean count? If this is meant to be a custom unit, define it with 'u.def_unit'. To have it recognized inside a file reader or other code, enable it with 'u.add_enabled_units'. For details, see https://docs.astropy.org/en/latest/units/combining_and_defining.html [astropy.units.core]\n",
      "WARNING: UnitsWarning: 'Counts/s' did not parse as fits unit: At col 0, Unit 'Counts' not supported by the FITS standard. Did you mean count? If this is meant to be a custom unit, define it with 'u.def_unit'. To have it recognized inside a file reader or other code, enable it with 'u.add_enabled_units'. For details, see https://docs.astropy.org/en/latest/units/combining_and_defining.html [astropy.units.core]\n",
      "WARNING: UnitsWarning: 'Counts/s' did not parse as fits unit: At col 0, Unit 'Counts' not supported by the FITS standard. Did you mean count? If this is meant to be a custom unit, define it with 'u.def_unit'. To have it recognized inside a file reader or other code, enable it with 'u.add_enabled_units'. For details, see https://docs.astropy.org/en/latest/units/combining_and_defining.html [astropy.units.core]\n"
     ]
    },
    {
     "data": {
      "text/html": [
       "<div><i>Table length=24</i>\n",
       "<table id=\"table139631466908688\" class=\"table-striped table-bordered table-condensed\">\n",
       "<thead><tr><th>SPORDER</th><th>NELEM</th><th>WAVELENGTH</th><th>GROSS</th><th>BACKGROUND</th><th>NET</th><th>FLUX</th><th>ERROR</th><th>NET_ERROR</th><th>DQ</th><th>A2CENTER</th><th>EXTRSIZE</th><th>MAXSRCH</th><th>BK1SIZE</th><th>BK2SIZE</th><th>BK1OFFST</th><th>BK2OFFST</th><th>EXTRLOCY</th><th>OFFSET</th></tr></thead>\n",
       "<thead><tr><th></th><th></th><th>Angstroms</th><th>Counts/s</th><th>Counts/s</th><th>Counts/s</th><th>erg / (Angstrom s cm2)</th><th>erg / (Angstrom s cm2)</th><th>Counts/s</th><th></th><th>pix</th><th>pix</th><th>pix</th><th>pix</th><th>pix</th><th>pix</th><th>pix</th><th>pix</th><th>pix</th></tr></thead>\n",
       "<thead><tr><th>int16</th><th>int16</th><th>float64[1024]</th><th>float32[1024]</th><th>float32[1024]</th><th>float32[1024]</th><th>float32[1024]</th><th>float32[1024]</th><th>float32[1024]</th><th>int16[1024]</th><th>float32</th><th>float32</th><th>int16</th><th>float32</th><th>float32</th><th>float32</th><th>float32</th><th>float32[1024]</th><th>float32</th></tr></thead>\n",
       "<tr><td>66</td><td>1024</td><td>3067.682086787238 ..         3119.012536824325</td><td>-0.0002752173 ..       0.4856005</td><td>0.006653455 ..     0.003303319</td><td>-0.006928673 ..       0.4822972</td><td>-2.024925e-14 ..    2.961075e-12</td><td>6.728192e-17 ..     4.64744e-13</td><td>2.302181e-05 ..      0.07569709</td><td>2628 ..        2564</td><td>14.40743</td><td>7</td><td>10</td><td>5</td><td>5</td><td>28.01995</td><td>-28.77343</td><td>19.4528 ..        9.476286</td><td>0.6031421</td></tr>\n",
       "<tr><td>67</td><td>1024</td><td>3021.857426990342 ..         3072.451048939282</td><td>-0.0002702794 ..        0.832027</td><td>0.004700221 ..     0.000911057</td><td>-0.0049705 ..        0.831116</td><td>-1.016979e-14 ..    3.081053e-12</td><td>4.684728e-17 ..    3.703201e-13</td><td>2.289667e-05 ..      0.09989408</td><td>2628 ..        2580</td><td>71.19328</td><td>7</td><td>10</td><td>5</td><td>5</td><td>27.28738</td><td>-28.01995</td><td>75.9551 ..        66.73717</td><td>0.6031421</td></tr>\n",
       "<tr><td>68</td><td>1024</td><td>2977.380919743117 ..         3027.257338436938</td><td>-0.008085039 ..       0.4208066</td><td>0.01313397 ..     0.002160907</td><td>-0.02121901 ..       0.4186457</td><td>-3.668029e-14 ..    1.092327e-12</td><td>2.15723e-16 ..    1.857869e-13</td><td>0.0001247926 ..      0.07120476</td><td>2580 ..        2564</td><td>126.3682</td><td>7</td><td>10</td><td>5</td><td>5</td><td>26.57536</td><td>-27.28738</td><td>131.2862 ..        122.4106</td><td>0.6031421</td></tr>\n",
       "<tr><td>69</td><td>1024</td><td>2934.193937177996 ..         2983.372006753561</td><td>-0.0002734362 ..       0.9764332</td><td>0.01347408 ..     0.002397537</td><td>-0.01374752 ..       0.9740357</td><td>-2.182534e-14 ..    2.149785e-12</td><td>3.654991e-17 ..    2.292959e-13</td><td>2.302235e-05 ..       0.1038906</td><td>2564 ..        2564</td><td>179.9044</td><td>7</td><td>10</td><td>5</td><td>5</td><td>25.88353</td><td>-26.57536</td><td>184.4561 ..        176.3899</td><td>0.5168139</td></tr>\n",
       "<tr><td>70</td><td>1024</td><td>2892.241202224274 ..         2940.739045949361</td><td>-0.00034477 ..        1.414328</td><td>0.01000156 ..      0.00384891</td><td>-0.01034633 ..        1.410479</td><td>-1.473246e-14 ..    3.039156e-12</td><td>3.682563e-17 ..    2.665639e-13</td><td>2.586195e-05 ..       0.1237129</td><td>2564 ..        2564</td><td>232.084</td><td>7</td><td>10</td><td>5</td><td>5</td><td>25.21152</td><td>-25.88353</td><td>236.3518 ..        228.9839</td><td>0.5693105</td></tr>\n",
       "<tr><td>71</td><td>1024</td><td>2851.470552596696 ..         2899.305600156981</td><td>-0.0002438011 ..        1.354866</td><td>0.002504314 ..     0.005019426</td><td>-0.002748115 ..        1.349846</td><td>-3.943758e-15 ..    2.763269e-12</td><td>3.14009e-17 ..    2.479534e-13</td><td>2.188098e-05 ..       0.1211243</td><td>2564 ..        2564</td><td>282.7351</td><td>7</td><td>10</td><td>5</td><td>5</td><td>24.55895</td><td>-25.21152</td><td>286.8198 ..        280.1042</td><td>0.5335838</td></tr>\n",
       "<tr><td>72</td><td>1024</td><td>2811.832724454624 ..         2859.021746892561</td><td>-0.0002620455 ..       0.3707643</td><td>0.005110799 ..      0.00183624</td><td>-0.005372844 ..       0.3689281</td><td>-7.33356e-15 ..    7.601616e-13</td><td>3.062765e-17 ..    1.381673e-13</td><td>2.243897e-05 ..      0.06705654</td><td>2564 ..        2564</td><td>332.0811</td><td>7</td><td>10</td><td>5</td><td>5</td><td>23.92547</td><td>-24.55895</td><td>335.8839 ..        329.9276</td><td>0.5793881</td></tr>\n",
       "<tr><td>73</td><td>1024</td><td>2773.281153845325 ..         2819.840296326157</td><td>-0.007080508 ..       0.7288955</td><td>0.005753997 ..     0.002980709</td><td>-0.01283451 ..       0.7259148</td><td>-1.82008e-14 ..     1.55503e-12</td><td>1.656346e-16 ..    1.939602e-13</td><td>0.0001167992 ..      0.09054399</td><td>2580 ..        2564</td><td>380.1232</td><td>7</td><td>10</td><td>5</td><td>5</td><td>23.31071</td><td>-23.92547</td><td>383.655 ..        378.4149</td><td>0.6562741</td></tr>\n",
       "<tr><td>74</td><td>1024</td><td>2735.771794248858 ..         2781.716606813955</td><td>-0.0002173291 ..       0.3042348</td><td>0.003891864 ..     0.001904726</td><td>-0.004109193 ..       0.3023301</td><td>-6.061262e-15 ..    6.815853e-13</td><td>3.030601e-17 ..    1.387218e-13</td><td>2.054576e-05 ..      0.06153269</td><td>2564 ..        2564</td><td>426.7452</td><td>7</td><td>10</td><td>5</td><td>5</td><td>22.7143</td><td>-23.31071</td><td>430.1284 ..        425.6361</td><td>0.5977532</td></tr>\n",
       "<tr><td>...</td><td>...</td><td>...</td><td>...</td><td>...</td><td>...</td><td>...</td><td>...</td><td>...</td><td>...</td><td>...</td><td>...</td><td>...</td><td>...</td><td>...</td><td>...</td><td>...</td><td>...</td><td>...</td></tr>\n",
       "<tr><td>81</td><td>1024</td><td>2499.145134153861 ..         2541.180702643316</td><td>-0.000323896 ..       0.1212655</td><td>0.001022041 ..    0.0004910827</td><td>-0.001345937 ..       0.1207744</td><td>-2.612488e-15 ..    4.338765e-13</td><td>4.877813e-17 ..    1.543351e-13</td><td>2.513018e-05 ..      0.04296092</td><td>2564 ..        2564</td><td>721.4456</td><td>7</td><td>10</td><td>5</td><td>5</td><td>19.02243</td><td>-19.50066</td><td>723.0333 ..         722.767</td><td>0.6431202</td></tr>\n",
       "<tr><td>82</td><td>1024</td><td>2468.640092303987 ..         2510.167438546871</td><td>-0.0003368225 ..    -0.004896033</td><td>0.0008588951 ..    0.0003851089</td><td>-0.001195718 ..    -0.005281142</td><td>-2.433021e-15 ..   -2.118669e-14</td><td>5.23886e-17 ..    9.378469e-14</td><td>2.574658e-05 ..      0.02337742</td><td>2564 ..        2564</td><td>759.4907</td><td>7</td><td>10</td><td>5</td><td>5</td><td>18.55963</td><td>-19.02243</td><td>760.7409 ..        761.0948</td><td>0.6802197</td></tr>\n",
       "<tr><td>83</td><td>1024</td><td>2438.870300692775 ..         2479.900734218312</td><td>-0.0003547371 ..     0.009568594</td><td>0.0008357177 ..    0.0003162371</td><td>-0.001190455 ..     0.009252357</td><td>-2.507119e-15 ..    4.131679e-14</td><td>5.523122e-17 ..    1.179408e-13</td><td>2.622543e-05 ..      0.02641129</td><td>2564 ..        2564</td><td>796.5957</td><td>7</td><td>10</td><td>5</td><td>5</td><td>18.11187</td><td>-18.55963</td><td>797.6779 ..        798.4939</td><td>0.6858748</td></tr>\n",
       "<tr><td>84</td><td>1024</td><td>2409.809495372872 ..         2450.353954398244</td><td>-0.008670044 ..      -0.0282471</td><td>0.0007384224 ..    0.0002916735</td><td>-0.009408467 ..     -0.02853877</td><td>-2.10243e-14 ..   -1.404878e-13</td><td>2.889771e-16 ..    8.838024e-14</td><td>0.0001293185 ..      0.01795361</td><td>2580 ..        2564</td><td>832.8113</td><td>7</td><td>10</td><td>5</td><td>5</td><td>17.6788</td><td>-18.11187</td><td>833.6879 ..        835.0538</td><td>0.6773117</td></tr>\n",
       "<tr><td>85</td><td>1024</td><td>2381.432648558161 ..         2421.501716060622</td><td>-0.0003633348 ..      0.01136095</td><td>0.0006555443 ..    0.0002394961</td><td>-0.001018879 ..      0.01112145</td><td>-2.435009e-15 ..    5.788485e-14</td><td>6.317231e-17 ..    1.382408e-13</td><td>2.643315e-05 ..      0.02656028</td><td>2564 ..        2564</td><td>868.1069</td><td>7</td><td>10</td><td>5</td><td>5</td><td>17.26004</td><td>-17.6788</td><td>868.6306 ..          870.58</td><td>0.5923263</td></tr>\n",
       "<tr><td>86</td><td>1024</td><td>2353.715896742346 ..         2393.319815671447</td><td>-0.0008927707 ..   -0.0007723463</td><td>0.0005372268 ..    0.0001914641</td><td>-0.001429998 ..   -0.0009638104</td><td>-3.619407e-15 ..   -5.706289e-15</td><td>1.054538e-16 ..    1.443463e-13</td><td>4.166393e-05 ..      0.02438055</td><td>2564 ..        2564</td><td>902.6914</td><td>7</td><td>10</td><td>5</td><td>5</td><td>16.85524</td><td>-17.26004</td><td>903.117 ..        905.5424</td><td>0.6096405</td></tr>\n",
       "<tr><td>87</td><td>1024</td><td>2326.636473776193 ..         2365.785161460157</td><td>-0.000400295 ..     -0.03696871</td><td>0.0004189655 ..     0.000183437</td><td>-0.0008192605 ..     -0.03715215</td><td>-2.211804e-15 ..   -2.487948e-13</td><td>7.499922e-17 ..    9.905844e-14</td><td>2.778e-05 ..      0.01479224</td><td>2628 ..        2564</td><td>936.4827</td><td>7</td><td>10</td><td>5</td><td>5</td><td>16.46401</td><td>-16.85524</td><td>936.3604 ..        939.4835</td><td>0.618917</td></tr>\n",
       "<tr><td>88</td><td>1024</td><td>2300.172648507885 ..         2338.875710305259</td><td>-0.0003517445 ..     -0.02851629</td><td>0.0003215419 ..     0.000134591</td><td>-0.0006732864 ..     -0.02865088</td><td>-2.019401e-15 ..   -1.999815e-13</td><td>7.836038e-17 ..    1.205028e-13</td><td>2.612605e-05 ..      0.01726415</td><td>2628 ..        2564</td><td>969.4632</td><td>7</td><td>10</td><td>5</td><td>5</td><td>16.08601</td><td>-16.46401</td><td>969.1396 ..        972.7735</td><td>0.5758032</td></tr>\n",
       "<tr><td>89</td><td>1024</td><td>2274.303666628806 ..         2312.570408871539</td><td>-0.0004099174 ..     -0.03550519</td><td>7.699389e-05 ..      9.6526e-05</td><td>-0.0004869113 ..     -0.03560172</td><td>-1.739565e-15 ..   -2.858723e-13</td><td>1.012215e-16 ..    1.178059e-13</td><td>2.833231e-05 ..      0.01467121</td><td>2628 ..        2564</td><td>1001.779</td><td>7</td><td>10</td><td>5</td><td>5</td><td>15.72085</td><td>-16.08601</td><td>1001.029 ..        1005.438</td><td>0.6011575</td></tr>\n",
       "</table></div>"
      ],
      "text/plain": [
       "<Table length=24>\n",
       "  SPORDER      NELEM    ...              EXTRLOCY                   OFFSET    \n",
       "                        ...                pix                       pix      \n",
       "   int16       int16    ...           float32[1024]                float32    \n",
       "----------- ----------- ... ---------------------------------- ---------------\n",
       "         66        1024 ...         19.4528 ..        9.476286       0.6031421\n",
       "         67        1024 ...         75.9551 ..        66.73717       0.6031421\n",
       "         68        1024 ...        131.2862 ..        122.4106       0.6031421\n",
       "         69        1024 ...        184.4561 ..        176.3899       0.5168139\n",
       "         70        1024 ...        236.3518 ..        228.9839       0.5693105\n",
       "         71        1024 ...        286.8198 ..        280.1042       0.5335838\n",
       "         72        1024 ...        335.8839 ..        329.9276       0.5793881\n",
       "         73        1024 ...         383.655 ..        378.4149       0.6562741\n",
       "         74        1024 ...        430.1284 ..        425.6361       0.5977532\n",
       "        ...         ... ...                                ...             ...\n",
       "         81        1024 ...        723.0333 ..         722.767       0.6431202\n",
       "         82        1024 ...        760.7409 ..        761.0948       0.6802197\n",
       "         83        1024 ...        797.6779 ..        798.4939       0.6858748\n",
       "         84        1024 ...        833.6879 ..        835.0538       0.6773117\n",
       "         85        1024 ...        868.6306 ..          870.58       0.5923263\n",
       "         86        1024 ...         903.117 ..        905.5424       0.6096405\n",
       "         87        1024 ...        936.3604 ..        939.4835        0.618917\n",
       "         88        1024 ...        969.1396 ..        972.7735       0.5758032\n",
       "         89        1024 ...        1001.029 ..        1005.438       0.6011575"
      ]
     },
     "execution_count": 35,
     "metadata": {},
     "output_type": "execute_result"
    }
   ],
   "source": [
    "echelle_file = \"./data/mastDownload/HST/octx01030/octx01030_x1d.fits\"\n",
    "echelle_data = Table.read(echelle_file, 1)\n",
    "echelle_data"
   ]
  },
  {
   "cell_type": "markdown",
   "id": "a673cd68",
   "metadata": {},
   "source": [
    "Now we can plot the spectrum of all spectral orders in one plot, with each spectral order having a distinct color:"
   ]
  },
  {
   "cell_type": "code",
   "execution_count": 36,
   "id": "19ea85fd",
   "metadata": {
    "execution": {
     "iopub.execute_input": "2025-10-09T18:37:18.746530Z",
     "iopub.status.busy": "2025-10-09T18:37:18.746383Z",
     "iopub.status.idle": "2025-10-09T18:37:18.772211Z",
     "shell.execute_reply": "2025-10-09T18:37:18.771678Z"
    }
   },
   "outputs": [
    {
     "name": "stderr",
     "output_type": "stream",
     "text": [
      "/tmp/ipykernel_2801/1991047114.py:5: MatplotlibDeprecationWarning: The get_cmap function was deprecated in Matplotlib 3.7 and will be removed in 3.11. Use ``matplotlib.colormaps[name]`` or ``matplotlib.colormaps.get_cmap()`` or ``pyplot.get_cmap()`` instead.\n",
      "  plt.plot(echelle_data[i]['WAVELENGTH'], echelle_data[i]['FLUX'], color=cm.get_cmap('prism')(i/len(echelle_data)), label=echelle_data[i]['SPORDER'], alpha=0.7)\n"
     ]
    },
    {
     "data": {
      "text/plain": [
       "Text(0.5, 1.0, 'STIS Echelle Mode Spectrum')"
      ]
     },
     "execution_count": 36,
     "metadata": {},
     "output_type": "execute_result"
    }
   ],
   "source": [
    "# plot the spectrum; the color of each SPORDER is specified through a matplotlib built-in colormap\n",
    "matplotlib.rcParams['figure.figsize'] = (20, 7)\n",
    "\n",
    "for i in range(len(echelle_data)):\n",
    "    plt.plot(echelle_data[i]['WAVELENGTH'], echelle_data[i]['FLUX'], color=cm.get_cmap('prism')(i/len(echelle_data)), label=echelle_data[i]['SPORDER'], alpha=0.7)\n",
    "plt.xlabel('Wavelength [' + chr(197) + ']')\n",
    "plt.ylabel(\"Flux [ergs/s/cm$^2$/\" + chr(197) + \"]\")\n",
    "plt.legend(loc='best')\n",
    "plt.title(\"STIS Echelle Mode Spectrum\")"
   ]
  },
  {
   "cell_type": "markdown",
   "id": "23c0759f",
   "metadata": {},
   "source": [
    "As the spectrum illustrates, each spectral order covers a specific wavelength range. Notice that some of the wavelength ranges overlap."
   ]
  },
  {
   "cell_type": "markdown",
   "id": "1a9aee6b",
   "metadata": {},
   "source": [
    "\n",
    "---\n",
    "## About this Notebook\n",
    "**Author:** [Keyi Ding](kding@stsci.edu)\n",
    "\n",
    "**Updated On:** 2023-01-05\n",
    "\n",
    "\n",
    "> *This tutorial was generated to be in compliance with the [STScI style guides](https://github.com/spacetelescope/style-guides) and would like to cite the [Jupyter guide](https://github.com/spacetelescope/style-guides/blob/master/templates/example_notebook.ipynb) in particular.*\n",
    "## Citations\n",
    "\n",
    "If you use `astropy`, `matplotlib`, `astroquery`, or `numpy` for published research, please cite the\n",
    "authors. Follow these links for more information about citations:\n",
    "\n",
    "* [Citing `matplotlib`](https://matplotlib.org/stable/users/project/citing.html)\n",
    "* [Citing `numpy`](https://numpy.org/citing-numpy/)\n",
    "* [Citing `astroquery`](https://astroquery.readthedocs.io/en/latest/)\n",
    "* [Citing `astropy`](https://www.astropy.org/acknowledging.html)\n",
    "\n",
    "<hr>\n",
    "\n",
    "[Top of Page](#top)\n",
    "<img style=\"float: right;\" src=\"https://raw.githubusercontent.com/spacetelescope/notebooks/master/assets/stsci_pri_combo_mark_horizonal_white_bkgd.png\" alt=\"Space Telescope Logo\" width=\"200px\"/> \n"
   ]
  },
  {
   "cell_type": "code",
   "execution_count": null,
   "id": "d154e315",
   "metadata": {},
   "outputs": [],
   "source": []
  }
 ],
 "metadata": {
  "kernelspec": {
   "display_name": "Python 3 (ipykernel)",
   "language": "python",
   "name": "python3"
  },
  "language_info": {
   "codemirror_mode": {
    "name": "ipython",
    "version": 3
   },
   "file_extension": ".py",
   "mimetype": "text/x-python",
   "name": "python",
   "nbconvert_exporter": "python",
   "pygments_lexer": "ipython3",
   "version": "3.11.13"
  },
  "toc": {
   "base_numbering": 1,
   "nav_menu": {},
   "number_sections": false,
   "sideBar": true,
   "skip_h1_title": true,
   "title_cell": "Table of Contents",
   "title_sidebar": "Contents",
   "toc_cell": false,
   "toc_position": {},
   "toc_section_display": true,
   "toc_window_display": true
  }
 },
 "nbformat": 4,
 "nbformat_minor": 5
}
