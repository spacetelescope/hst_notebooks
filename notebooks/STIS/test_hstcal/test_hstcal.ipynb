{
 "cells": [
  {
   "cell_type": "markdown",
   "id": "04c564b2",
   "metadata": {},
   "source": [
    "# Test `hstcal` Installation\n",
    "\n",
    "`cs0.e` is a binary installed as part of the `hstcal` package in the `pre-requirements.sh` file."
   ]
  },
  {
   "cell_type": "code",
   "execution_count": 1,
   "id": "00f42116",
   "metadata": {},
   "outputs": [],
   "source": [
    "import subprocess"
   ]
  },
  {
   "cell_type": "code",
   "execution_count": 2,
   "id": "ade0b36c",
   "metadata": {},
   "outputs": [
    {
     "name": "stdout",
     "output_type": "stream",
     "text": [
      "/home/lockwood/miniconda3/envs/stenv-Linux-py3.11-2023.04.05/bin/cs0.e\n"
     ]
    },
    {
     "data": {
      "text/plain": [
       "0"
      ]
     },
     "execution_count": 2,
     "metadata": {},
     "output_type": "execute_result"
    }
   ],
   "source": [
    "subprocess.check_call(['which', 'cs0.e'])"
   ]
  },
  {
   "cell_type": "markdown",
   "id": "b0ddd62c",
   "metadata": {},
   "source": [
    "Should be path to the binary in the conda env directory."
   ]
  },
  {
   "cell_type": "code",
   "execution_count": 3,
   "id": "13cb197b",
   "metadata": {},
   "outputs": [
    {
     "name": "stdout",
     "output_type": "stream",
     "text": [
      "3.4.2\n"
     ]
    },
    {
     "data": {
      "text/plain": [
       "0"
      ]
     },
     "execution_count": 3,
     "metadata": {},
     "output_type": "execute_result"
    }
   ],
   "source": [
    "subprocess.check_call(['cs0.e', '--version'])"
   ]
  },
  {
   "cell_type": "markdown",
   "id": "4aeba4ec",
   "metadata": {},
   "source": [
    "Should be `3.4.2`."
   ]
  },
  {
   "cell_type": "code",
   "execution_count": null,
   "id": "b2855526",
   "metadata": {},
   "outputs": [],
   "source": []
  }
 ],
 "metadata": {
  "kernelspec": {
   "display_name": "Python 3 (ipykernel)",
   "language": "python",
   "name": "python3"
  },
  "language_info": {
   "codemirror_mode": {
    "name": "ipython",
    "version": 3
   },
   "file_extension": ".py",
   "mimetype": "text/x-python",
   "name": "python",
   "nbconvert_exporter": "python",
   "pygments_lexer": "ipython3",
   "version": "3.11.3"
  }
 },
 "nbformat": 4,
 "nbformat_minor": 5
}
