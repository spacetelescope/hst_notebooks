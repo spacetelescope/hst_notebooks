{
 "cells": [
  {
   "cell_type": "markdown",
   "id": "27c8076b",
   "metadata": {},
   "source": [
    "<a id=top></a>\n",
    "# 1D Spectra Extraction <a class=\"tocSkip\">"
   ]
  },
  {
   "cell_type": "markdown",
   "id": "e2a9bc3e",
   "metadata": {
    "toc": true
   },
   "source": [
    "<h1>Learning Goals<span class=\"tocSkip\"></span></h1>\n",
    "<div class=\"toc\"><ul class=\"toc-item\"><li><span><a href=\"#0-Introduction\" data-toc-modified-id=\"0-Introduction-0\">0 Introduction</a></span><ul class=\"toc-item\"><li><span><a href=\"#0.1-Import-Necessary-Packages\" data-toc-modified-id=\"0.1-Import-Necessary-Packages-0.1\">0.1 Import Necessary Packages</a></span></li><li><span><a href=\"#0.2-Collect-Data-Set-From-the-MAST-Archive-Using-Astroquery\" data-toc-modified-id=\"0.2-Collect-Data-Set-From-the-MAST-Archive-Using-Astroquery-0.2\">0.2 Collect Data Set From the MAST Archive Using Astroquery</a></span></li></ul></li><li><span><a href=\"#1-x1d-FITS-File-Structure\" data-toc-modified-id=\"1-x1d-FITS-File-Structure-1\">1 <code>x1d</code> FITS File Structure</a></span></li><li><span><a href=\"#2-Plot-the-Extraction-Region\" data-toc-modified-id=\"2-Plot-the-Extraction-Region-2\">2 Plot the Extraction Region</a></span></li><li><span><a href=\"#3-Extracted-Spectra-of-STIS-Echelle\" data-toc-modified-id=\"3-Extracted-Spectra-of-STIS-Echelle-3\">3 Extracted Spectra of STIS Echelle</a></span></li></ul></div>"
   ]
  },
  {
   "cell_type": "markdown",
   "id": "c14e271e",
   "metadata": {},
   "source": [
    "## 0 Introduction\n",
    "\n",
    "The `x1d` FITS file is the one-dimensional extracted spectra for individual imsets of `flt`, `sfl`, or `crj` images. The `x1d` file is in binary table with the science information stored in the 'SCI' extension. In this notebook, we will show how to visualize the extraction regions when generating the `x1d` extracted spectra from a `flt` image. In some cases when users work with images with multiple sources or extended background, they might want to customize extraction. The goal of visualizing extraction region is to help confirm that the proper extraction parameters are selected, and the extraction regions do not overlap.\n",
    "\n",
    "For more information on extracted spectra, see the STIS Data Handbook: [5.5 Working with Extracted Spectra](https://hst-docs.stsci.edu/stisdhb/chapter-5-stis-data-analysis/5-5-working-with-extracted-spectra)"
   ]
  },
  {
   "cell_type": "markdown",
   "id": "0fa8110c",
   "metadata": {},
   "source": [
    "### 0.1 Import Necessary Packages\n",
    "- `astropy.io.fits` and `astropy.table.Table` for accessing FITS files\n",
    "- `astroquery.mast.Observations` for finding and downloading data from the [MAST](https://mast.stsci.edu/portal/Mashup/Clients/Mast/Portal.html) archive\n",
    "- `os` for managing system paths\n",
    "- `numpy` to handle array functions\n",
    "- `stistools` for operations on STIS Data\n",
    "- `matplotlib` for plotting data"
   ]
  },
  {
   "cell_type": "code",
   "execution_count": null,
   "id": "bb98f7e5",
   "metadata": {},
   "outputs": [],
   "source": [
    "# Import for: Reading in fits file\n",
    "from astropy.io import fits\n",
    "from astropy.table import Table\n",
    "\n",
    "# Import for: Downloading necessary files. (Not necessary if you choose to collect data from MAST)\n",
    "from astroquery.mast import Observations\n",
    "\n",
    "# Import for: Managing system variables and paths\n",
    "import os\n",
    "\n",
    "# Import for: Quick Calculation and Data Analysis\n",
    "import numpy as np\n",
    "\n",
    "# Import for: Operations on STIS Data\n",
    "# import stistools\n",
    "\n",
    "# Import for: Plotting and specifying plotting parameters\n",
    "import matplotlib\n",
    "%matplotlib inline\n",
    "from matplotlib import pyplot as plt\n",
    "# from matplotlib.ticker import FixedLocator"
   ]
  },
  {
   "cell_type": "code",
   "execution_count": null,
   "id": "5e44ab86",
   "metadata": {},
   "outputs": [],
   "source": [
    "matplotlib.rcParams['image.origin'] = 'lower'\n",
    "matplotlib.rcParams['image.cmap'] = 'viridis'\n",
    "matplotlib.rcParams['image.interpolation'] = 'none'"
   ]
  },
  {
   "cell_type": "markdown",
   "id": "1e2ab7dc",
   "metadata": {},
   "source": [
    "### 0.2 Collect Data Set From the MAST Archive Using Astroquery\n",
    "There are other ways to download data from MAST such as using CyberDuck. The steps of collecting data is beyond the scope of this notebook, and we are only showing how to use astroquery."
   ]
  },
  {
   "cell_type": "code",
   "execution_count": null,
   "id": "e2f48a51",
   "metadata": {
    "scrolled": true
   },
   "outputs": [],
   "source": [
    "# change this field in you have a specific dataset to be explored\n",
    "obs_id = 'odj102010'\n",
    "# Search target object by obs_id\n",
    "target = Observations.query_criteria(obs_id=obs_id)\n",
    "# get a list of files assiciated with that target\n",
    "target_list = Observations.get_product_list(target)\n",
    "# Download fits files\n",
    "result = Observations.download_products(target_list, extension=['_flt.fits', '_x1d.fits'], productType=['SCIENCE'])\n",
    "flt_filename = os.path.join(f'./mastDownload/HST/{obs_id}/{obs_id}_flt.fits')\n",
    "x1d_filename = os.path.join(f'./mastDownload/HST/{obs_id}/{obs_id}_x1d.fits')"
   ]
  },
  {
   "cell_type": "markdown",
   "id": "bbc6c498",
   "metadata": {},
   "source": [
    "## 1 `x1d` FITS File Structure\n",
    "The `x1d` file is a multi-extension FITS file with header information stored in the primary extension (note that for CCD data the similar extension is `sx1`), and the science data stored in the first extension called \"SCI\"."
   ]
  },
  {
   "cell_type": "code",
   "execution_count": null,
   "id": "21106f78",
   "metadata": {},
   "outputs": [],
   "source": [
    "fits.info(x1d_filename)"
   ]
  },
  {
   "cell_type": "markdown",
   "id": "cb7ef90f",
   "metadata": {},
   "source": [
    "The SCI extension contains the science data of the spectra along the spectral direction such as the wavelength and the flux, and information on the extraction region and the background region when performing the 1D spectra extraction:\n",
    "\n",
    "| Column name   | Description | Data Type |\n",
    "| :---------- | :---------- | :---------- |\n",
    "| EXTRLOCY      | an array that gives the location of the center of the spectral trace for each pixel along the Y direction | float32 array[1024] |\n",
    "| A2CENTER      | row number in the y direction at which the spectral trace is centered | float32 |\n",
    "| EXTRSIZE      | height of extraction region | float32 |\n",
    "| BK1SIZE     | height of background region above the extraction region | float32 |\n",
    "| BK2SIZE     | height of background region below the extraction region | float32 |\n",
    "| BK1OFFST    | background region offset from the center of the extraction region above the extraction region | float32 |\n",
    "| BK2OFFST    | background region offset from the center of the extraction region below the extraction region | float32 |"
   ]
  },
  {
   "cell_type": "code",
   "execution_count": null,
   "id": "52202d02",
   "metadata": {},
   "outputs": [],
   "source": [
    "cols = ['SPORDER', 'WAVELENGTH', 'FLUX', 'EXTRLOCY', 'A2CENTER', 'EXTRSIZE', 'BK1SIZE', 'BK2SIZE', 'BK1OFFST', 'BK2OFFST']\n",
    "Table.read(x1d_filename)[cols]"
   ]
  },
  {
   "cell_type": "markdown",
   "id": "4ffa6cf2",
   "metadata": {},
   "source": [
    "**Note that X1D columns in pixel units (e.g. `EXTRLOCY`) are in one-indexed coordinates. Thus when visualizing the extraction region with Python (zero-indexed), the pixel coordinates need to be subtracted by 1. Additionally, the n-th pixel (in one-index coordinates) ranges from n-0.5 to n+0.5.**"
   ]
  },
  {
   "cell_type": "markdown",
   "id": "e2c0c744",
   "metadata": {},
   "source": [
    "## 2 Plot the Extraction Region\n",
    "\n",
    "**Left:**  The 2D `FLT` image.\n",
    "\n",
    "**Right:**  The 2D `FLT` image with extraction regions over-plotted. The extraction region is plotted in red, and the 2 background regions are plotted in orange.\n",
    "\n",
    "To zoom in to a specific region along the Y axis, pass in the optional parameter yrange."
   ]
  },
  {
   "cell_type": "code",
   "execution_count": null,
   "id": "662f9a54",
   "metadata": {},
   "outputs": [],
   "source": [
    "def show_extraction_regions(x1d_filename, flt_filename, sci_ext=1, row=0, xrange=None, yrange=None):\n",
    "    \n",
    "    fig, axes = plt.subplots(1, 2, sharey=True)\n",
    "    fig.tight_layout()\n",
    "    fig.subplots_adjust(wspace=0.2, hspace=0.2, top=0.88)\n",
    "    fig.set_figwidth(10)\n",
    "    fig.set_figheight(5)\n",
    "    fig.suptitle(os.path.basename(x1d_filename))\n",
    "    \n",
    "    x1d = fits.getdata(x1d_filename, ext=sci_ext)[row]\n",
    "    flt = fits.getdata(flt_filename, ext=('SCI', sci_ext))\n",
    "    \n",
    "    # LEFT & Right PLOTS:\n",
    "    for ax in axes[0:2]:\n",
    "        # Display the 2D FLT spectrum on the left:\n",
    "        ax.imshow(flt, origin='lower', interpolation='none', aspect='auto', vmin=-6, vmax=15)\n",
    "        ax.set_xlabel('X')\n",
    "        ax.set_ylabel('Y')\n",
    "\n",
    "    # Right PLOT:\n",
    "    axes[1].set_title(f\"A2CENTER={x1d['A2CENTER']:.2f}\")\n",
    "    # Extraction region in red:\n",
    "    axes[1].plot(np.arange(1024), \n",
    "                 x1d['EXTRLOCY'] - 1, 'r:', alpha=0.6)\n",
    "    axes[1].plot(np.arange(1024), \n",
    "                 x1d['EXTRLOCY'] - 1 - x1d['EXTRSIZE']//2,\n",
    "                 color='red', alpha=0.6)\n",
    "    axes[1].plot(np.arange(1024), \n",
    "                 x1d['EXTRLOCY'] - 1 + x1d['EXTRSIZE']//2,\n",
    "                 color='red', alpha=0.6)\n",
    "    # Background regions in orange:\n",
    "    axes[1].plot(np.arange(1024), \n",
    "                 x1d['EXTRLOCY'] - 1 + x1d['BK1OFFST'] - x1d['BK1SIZE']//2,\n",
    "                 color='orange', alpha=0.6)\n",
    "    axes[1].plot(np.arange(1024), \n",
    "                 x1d['EXTRLOCY'] - 1 + x1d['BK1OFFST'] + x1d['BK1SIZE']//2,\n",
    "                 color='orange', alpha=0.6)\n",
    "    axes[1].plot(np.arange(1024), \n",
    "                 x1d['EXTRLOCY'] - 1 + x1d['BK2OFFST'] - x1d['BK2SIZE']//2, \n",
    "                 color='orange', alpha=0.6)\n",
    "    axes[1].plot(np.arange(1024), \n",
    "                 x1d['EXTRLOCY'] - 1 + x1d['BK2OFFST'] + x1d['BK2SIZE']//2, \n",
    "                 color='orange', alpha=0.6)\n",
    "    \n",
    "    axes[0].set_xlim(-0.5, 1023.5)\n",
    "    axes[0].set_ylim(-0.5, 1023.5)\n",
    "    axes[1].set_xlim(-0.5, 1023.5)\n",
    "    axes[1].set_ylim(-0.5, 1023.5)\n",
    "    \n",
    "    if xrange is not None:\n",
    "        axes[0].set_xlim(xrange[0], xrange[1])\n",
    "        axes[1].set_xlim(xrange[0], xrange[1])\n",
    "    if yrange is not None:\n",
    "        axes[0].set_ylim(yrange[0], yrange[1])\n",
    "        axes[1].set_ylim(yrange[0], yrange[1])"
   ]
  },
  {
   "cell_type": "code",
   "execution_count": null,
   "id": "bc4be848",
   "metadata": {},
   "outputs": [],
   "source": [
    "show_extraction_regions(x1d_filename, flt_filename)"
   ]
  },
  {
   "cell_type": "markdown",
   "id": "8365a21e",
   "metadata": {},
   "source": [
    "Zoom in to the extraction region:"
   ]
  },
  {
   "cell_type": "code",
   "execution_count": null,
   "id": "7cc99c6f",
   "metadata": {},
   "outputs": [],
   "source": [
    "show_extraction_regions(x1d_filename, flt_filename, yrange=[350, 450])"
   ]
  },
  {
   "cell_type": "markdown",
   "id": "a71c0c7d",
   "metadata": {},
   "source": [
    "Zoom in to the background region above the extraction region:"
   ]
  },
  {
   "cell_type": "code",
   "execution_count": null,
   "id": "88d5c6c3",
   "metadata": {},
   "outputs": [],
   "source": [
    "show_extraction_regions(x1d_filename, flt_filename, yrange=[650, 720])"
   ]
  },
  {
   "cell_type": "markdown",
   "id": "1e3fd1a0",
   "metadata": {},
   "source": [
    "## 3 Extracted Spectra of STIS Echelle\n",
    "The method of visualizing the extracted region also applies to echelle data, except that echelle data has multiple spectra orders, and therefore has multiple `EXTRLOCY` corresponding to each `SPORDER`. In the plotting method, there is a parameter called 'row' which specifies the `SPORDER` we want to extract. We'll show how to visualize the extracted region for STIS echelle data."
   ]
  },
  {
   "cell_type": "code",
   "execution_count": null,
   "id": "f3649ea7",
   "metadata": {},
   "outputs": [],
   "source": [
    "# Download the octx01030 dataset, which is a NUV-MAMA echelle data\n",
    "obs_id = 'octx01030'\n",
    "# Search target objscy by obs_id\n",
    "target = Observations.query_criteria(obs_id=obs_id)\n",
    "# get a list of files assiciated with that target\n",
    "echelle_list = Observations.get_product_list(target)\n",
    "# Download fits files\n",
    "result = Observations.download_products(echelle_list, extension=['_flt.fits', '_x1d.fits'], productType=['SCIENCE',])\n",
    "echelle_flt = os.path.join(f'./mastDownload/HST/{obs_id}/{obs_id}_flt.fits')\n",
    "echelle_x1d = os.path.join(f'./mastDownload/HST/{obs_id}/{obs_id}_x1d.fits')"
   ]
  },
  {
   "cell_type": "markdown",
   "id": "c026a79e",
   "metadata": {},
   "source": [
    "As shown in the table data, there are multiple rows with each row having a different `SPORDER`. Each row also has different `EXTRLOCY`, which corresponds to different extraction regions in the `flt` image for each `SPORDER`."
   ]
  },
  {
   "cell_type": "code",
   "execution_count": null,
   "id": "3f3f2b5c",
   "metadata": {},
   "outputs": [],
   "source": [
    "cols = ['SPORDER', 'WAVELENGTH', 'FLUX', 'EXTRLOCY', 'EXTRSIZE', 'BK1SIZE', 'BK2SIZE', 'BK1OFFST', 'BK2OFFST']\n",
    "Table.read(echelle_x1d, hdu=1)[cols]"
   ]
  },
  {
   "cell_type": "code",
   "execution_count": null,
   "id": "d0b59c1d",
   "metadata": {},
   "outputs": [],
   "source": [
    "show_extraction_regions(echelle_x1d, echelle_flt)"
   ]
  },
  {
   "cell_type": "markdown",
   "id": "1f5268f3",
   "metadata": {},
   "source": [
    "Similarly, we can show the extraction region of the next `SPORDER` by passing the row number into the plotting method:"
   ]
  },
  {
   "cell_type": "code",
   "execution_count": null,
   "id": "ef286da3",
   "metadata": {},
   "outputs": [],
   "source": [
    "show_extraction_regions(echelle_x1d, echelle_flt, row=1)"
   ]
  },
  {
   "cell_type": "markdown",
   "id": "973ad9f8",
   "metadata": {},
   "source": [
    "After visualizing the extraction, we can use the `x1d()` function in stistools to customize extraction. For more information, see [`x1d`](https://stistools.readthedocs.io/en/latest/x1d.html)."
   ]
  },
  {
   "cell_type": "markdown",
   "id": "6c14b652",
   "metadata": {},
   "source": [
    "\n",
    "---\n",
    "## About this Notebook <a class=\"tocSkip\">\n",
    "**Author:** [Keyi Ding](kding@stsci.edu)\n",
    "\n",
    "**Updated On:** 2023-01-05\n",
    "\n",
    "\n",
    "> *This tutorial was generated to be in compliance with the [STScI style guides](https://github.com/spacetelescope/style-guides) and would like to cite the [Jupyter guide](https://github.com/spacetelescope/style-guides/blob/master/templates/example_notebook.ipynb) in particular.*\n",
    "## Citations <a class=\"tocSkip\">\n",
    "\n",
    "If you use `astropy`, `matplotlib`, `astroquery`, or `numpy` for published research, please cite the\n",
    "authors. Follow these links for more information about citations:\n",
    "\n",
    "* [Citing `astropy`/`numpy`/`matplotlib`](https://www.scipy.org/citing.html)\n",
    "* [Citing `astroquery`](https://astroquery.readthedocs.io/en/latest/)\n",
    "\n",
    "---\n",
    "\n",
    "[Top of Page](#top)\n",
    "<img style=\"float: right;\" src=\"https://raw.githubusercontent.com/spacetelescope/notebooks/master/assets/stsci_pri_combo_mark_horizonal_white_bkgd.png\" alt=\"Space Telescope Logo\" width=\"200px\"/> "
   ]
  }
 ],
 "metadata": {
  "kernelspec": {
   "display_name": "Python 3 (ipykernel)",
   "language": "python",
   "name": "python3"
  },
  "language_info": {
   "codemirror_mode": {
    "name": "ipython",
    "version": 3
   },
   "file_extension": ".py",
   "mimetype": "text/x-python",
   "name": "python",
   "nbconvert_exporter": "python",
   "pygments_lexer": "ipython3",
   "version": "3.8.12"
  },
  "toc": {
   "base_numbering": "0",
   "nav_menu": {},
   "number_sections": false,
   "sideBar": true,
   "skip_h1_title": true,
   "title_cell": "Learning Goals",
   "title_sidebar": "Contents",
   "toc_cell": true,
   "toc_position": {
    "height": "calc(100% - 180px)",
    "left": "10px",
    "top": "150px",
    "width": "255.883px"
   },
   "toc_section_display": true,
   "toc_window_display": true
  }
 },
 "nbformat": 4,
 "nbformat_minor": 5
}
