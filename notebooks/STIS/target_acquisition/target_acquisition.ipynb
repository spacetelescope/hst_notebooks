{
 "cells": [
  {
   "cell_type": "markdown",
   "id": "6f4ff43d",
   "metadata": {},
   "source": [
    "<a id=top></a>\n",
    "# Evaluating STIS Target Acquisitions <a class=\"tocSkip\">"
   ]
  },
  {
   "cell_type": "markdown",
   "id": "c1c53d1f",
   "metadata": {
    "toc": true
   },
   "source": [
    "<h1>Learning Goals<span class=\"tocSkip\"></span></h1>\n",
    "<div class=\"toc\"><ul class=\"toc-item\"><li><span><a href=\"#Introduction\" data-toc-modified-id=\"Introduction-1\"><span class=\"toc-item-num\">1&nbsp;&nbsp;</span>Introduction</a></span><ul class=\"toc-item\"><li><span><a href=\"#Import-necessary-packages\" data-toc-modified-id=\"Import-necessary-packages-1.1\"><span class=\"toc-item-num\">1.1&nbsp;&nbsp;</span>Import necessary packages</a></span></li></ul></li><li><span><a href=\"#Define-Function-for-Plotting-Acquisition-Images-and-Performing-Target-Acquisition\" data-toc-modified-id=\"Define-Function-for-Plotting-Acquisition-Images-and-Performing-Target-Acquisition-2\"><span class=\"toc-item-num\">2&nbsp;&nbsp;</span>Define Function for Plotting Acquisition Images and Performing Target Acquisition</a></span></li><li><span><a href=\"#Successful-Target-Acquisition\" data-toc-modified-id=\"Successful-Target-Acquisition-3\"><span class=\"toc-item-num\">3&nbsp;&nbsp;</span>Successful Target Acquisition</a></span></li><li><span><a href=\"#Target-Acquisition-Failure-Cases\" data-toc-modified-id=\"Target-Acquisition-Failure-Cases-4\"><span class=\"toc-item-num\">4&nbsp;&nbsp;</span>Target Acquisition Failure Cases</a></span><ul class=\"toc-item\"><li><span><a href=\"#Guide-Stars-not-Acquired\" data-toc-modified-id=\"Guide-Stars-not-Acquired-4.1\"><span class=\"toc-item-num\">4.1&nbsp;&nbsp;</span>Guide Stars not Acquired</a></span></li><li><span><a href=\"#Guide-Star-Acquisition-Delayed\" data-toc-modified-id=\"Guide-Star-Acquisition-Delayed-4.2\"><span class=\"toc-item-num\">4.2&nbsp;&nbsp;</span>Guide Star Acquisition Delayed</a></span></li><li><span><a href=\"#Lamp-not-illuminated\" data-toc-modified-id=\"Lamp-not-illuminated-4.3\"><span class=\"toc-item-num\">4.3&nbsp;&nbsp;</span>Lamp not illuminated</a></span></li><li><span><a href=\"#Multiple-Bright-Sources\" data-toc-modified-id=\"Multiple-Bright-Sources-4.4\"><span class=\"toc-item-num\">4.4&nbsp;&nbsp;</span>Multiple Bright Sources</a></span></li><li><span><a href=\"#Saturation-of-Pixels\" data-toc-modified-id=\"Saturation-of-Pixels-4.5\"><span class=\"toc-item-num\">4.5&nbsp;&nbsp;</span>Saturation of Pixels</a></span></li><li><span><a href=\"#No-Target-in-the-Acquisition-Image\" data-toc-modified-id=\"No-Target-in-the-Acquisition-Image-4.6\"><span class=\"toc-item-num\">4.6&nbsp;&nbsp;</span>No Target in the Acquisition Image</a></span></li></ul></li></ul></div>"
   ]
  },
  {
   "cell_type": "markdown",
   "id": "add2fc32",
   "metadata": {},
   "source": [
    "## Introduction\n",
    "There are two types of STIS target acquisitions: ACQ and ACQ/PEAKUP. The ACQ is used in almost all STIS observations to center the target. The ACQ/PEAKUP can be taken after the ACQ to further refine the centering and is recommended for observations using slits with widths less than 0.2”. In this notebook, we will go through the steps for ACQ observations, and explore some success and failure cases.\n",
    "\n",
    "\n",
    "For ACQ observations, the target acquisition data has three science extensions:\n",
    "- Before Coarse Slew\n",
    "- Before Fine Slew\n",
    "- 0.2$\\times$0.2 Reference Aperture with HITM lamp\n",
    "\n",
    "The first science extension (Coarse Phase) of the acquisition raw file is an image of target in the target acquisition sub-array based on initial pointing. Then the coarse centering is performed: the software determines the position of the target with a flux weighted pointing algorithm, and calculates the slew needed to place the target at a reference point in the target acquisition sub-array; the coarse centered image is stored in the second science extension (Fine Phase). The next step is to perform fine centering: a 32 $\\times$ 32 pixel image of the reference aperture is obtained and stored in the third science extension (Reference Aperture), the location of the aperture on the detector is determined, and a fine slew is performed to center the taret in the reference aperture (to place the object precisely in a slit).\n",
    "\n",
    "For more information on ACQ target acquisition, see [`Evaluating Target Acquisitions and Guiding`](https://hst-docs.stsci.edu/stisdhb/chapter-5-stis-data-analysis/5-2-evaluating-target-acquisitions-and-guiding)."
   ]
  },
  {
   "cell_type": "markdown",
   "id": "ff831fcf",
   "metadata": {},
   "source": [
    "### Import necessary packages\n",
    "\n",
    "**We will import the following packages:**\n",
    "\n",
    "- `astropy.io fits` for accessing FITS files\n",
    "- `astroquery.mast Observations` for finding and downloading data from the [MAST](https://mast.stsci.edu/portal/Mashup/Clients/Mast/Portal.html) archive\n",
    "- `os` for managing system paths\n",
    "- `matplotlib` for plotting data\n",
    "- `stistools` for quick operations on STIS Data"
   ]
  },
  {
   "cell_type": "code",
   "execution_count": null,
   "id": "5373f06c",
   "metadata": {},
   "outputs": [],
   "source": [
    "# Import for: Reading in fits file\n",
    "from astropy.io import fits\n",
    "\n",
    "# Import for: Downloading necessary files. (Not necessary if you choose to collect data from MAST)\n",
    "from astroquery.mast import Observations\n",
    "\n",
    "# Import for: Managing system variables and paths\n",
    "import os\n",
    "\n",
    "# Import for operations on STIS Data\n",
    "import stistools\n",
    "\n",
    "# Import for: Plotting and specifying plotting parameters\n",
    "import matplotlib.pyplot as plt\n",
    "import matplotlib\n",
    "from astropy.visualization import ZScaleInterval\n",
    "matplotlib.rcParams['image.origin'] = 'lower'\n",
    "matplotlib.rcParams['image.cmap'] = 'plasma'\n",
    "matplotlib.rcParams['image.interpolation'] = 'none'\n",
    "matplotlib.rcParams['figure.figsize'] = (20, 7)"
   ]
  },
  {
   "cell_type": "markdown",
   "id": "f997c065",
   "metadata": {},
   "source": [
    "## Define Function for Plotting Acquisition Images and Performing Target Acquisition\n",
    "\n",
    "We define a function to plot the three science image extensions mentioned above, and run the stistools_tastis target acquisition method to show the result and associated information of target acquisition."
   ]
  },
  {
   "cell_type": "code",
   "execution_count": null,
   "id": "598cbe75",
   "metadata": {},
   "outputs": [],
   "source": [
    "def acq(obs_id):\n",
    "    # Search target object by obs_id\n",
    "    target = Observations.query_criteria(obs_id=obs_id)\n",
    "    # get a list of files assiciated with that target\n",
    "    acq_list = Observations.get_product_list(target)\n",
    "    # Download only the _raw and _spt fits files\n",
    "    Observations.download_products(acq_list, extension=['raw.fits', 'spt.fits'])\n",
    "    raw = os.path.join(\"./mastDownload/HST\", \"{}\".format(obs_id), \"{}_raw.fits\".format(obs_id))\n",
    "    \n",
    "    # plot the acquisition raw images\n",
    "    with fits.open(raw) as hdu:\n",
    "        initial = hdu[1].data\n",
    "        confirm = hdu[4].data\n",
    "        lamp = hdu[7].data\n",
    "    zscaler = ZScaleInterval(contrast=0.10).get_limits \n",
    "    _, initial_max = zscaler(initial)\n",
    "    _, confirm_max = zscaler(confirm)\n",
    "    vmax = max(initial_max, confirm_max)\n",
    "    \n",
    "    # plot the initial target position in coarse phase\n",
    "    TARGA1_1 = fits.getheader(raw, 1)[\"TARGA1\"]\n",
    "    TARGA2_1 = fits.getheader(raw, 1)[\"TARGA2\"]\n",
    "    TARGA1_2 = fits.getheader(raw, 4)[\"TARGA1\"]\n",
    "    TARGA2_2 = fits.getheader(raw, 4)[\"TARGA2\"]\n",
    "    centera1 = fits.getheader(raw, 0)[\"CENTERA1\"]\n",
    "    centera2 = fits.getheader(raw, 0)[\"CENTERA2\"]\n",
    "    sizaxis1 = fits.getheader(raw, 0)[\"sizaxis1\"]\n",
    "    sizaxis2 = fits.getheader(raw, 0)[\"sizaxis2\"]\n",
    "    corner1 = centera1 - sizaxis1/2 \n",
    "    corner2 = centera2 - sizaxis2/2\n",
    "    \n",
    "    plt.subplot(1, 3, 1)\n",
    "    plt.imshow(initial, vmin=0, vmax=vmax)\n",
    "    plt.plot([TARGA1_1-corner1+1], [TARGA2_1-corner2+1], \"x\", c=\"white\", markersize=12)\n",
    "    plt.plot([TARGA1_1-corner1+1], [TARGA2_1-corner2+1], \"x\", c=\"black\", markersize=10)\n",
    "    plt.title(\"Before Coarse Slew\")\n",
    "    plt.subplot(1, 3, 2)\n",
    "    plt.imshow(confirm, vmin=0, vmax=vmax)\n",
    "    plt.plot([TARGA1_2-corner1+1], [TARGA2_2-corner2+1], \"x\", c=\"white\", markersize=12)\n",
    "    plt.plot([TARGA1_2-corner1+1], [TARGA2_2-corner2+1], \"x\", c=\"black\", markersize=10)\n",
    "    plt.title(\"Before Fine Slew\")\n",
    "    plt.subplot(1, 3, 3)\n",
    "    plt.imshow(lamp, vmin=0, vmax=6000)\n",
    "    plt.title(r\"$0.2 \\times 0.2$ Reference Aperture with HITM lamp\")\n",
    "    plt.tight_layout()\n",
    "    \n",
    "    stistools.tastis.tastis(raw)"
   ]
  },
  {
   "cell_type": "markdown",
   "id": "269f033e",
   "metadata": {},
   "source": [
    "The PDQ quality flags of the dataset are indicated in the \"QUALITY\" field of the raw fits file 0th header, and telemetry comments are saved in the \"QUALCOM\" fields of the 0th header. The same comments can also be seen on the Preview page of the dataset on the [`MAST`](https://mast.stsci.edu/search/ui/#/hst) archive. We can get those fields to confirm the potential reasons for acquisition failure:"
   ]
  },
  {
   "cell_type": "code",
   "execution_count": null,
   "id": "1f8e4f61",
   "metadata": {},
   "outputs": [],
   "source": [
    "def get_telemetry(obs_id):\n",
    "    raw_file = \"./mastDownload/HST/{id}/{id}_raw.fits\".format(id=obs_id)\n",
    "    quality = fits.getval(raw_file, \"QUALITY\", ext=0)\n",
    "    QUALCOM1 = fits.getval(raw_file, \"QUALCOM1\", ext=0)\n",
    "    QUALCOM2 = fits.getval(raw_file, \"QUALCOM2\", ext=0)\n",
    "    QUALCOM3 = fits.getval(raw_file, \"QUALCOM3\", ext=0)\n",
    "    print('The quality of this exposure is {}.'.format(quality), QUALCOM1, QUALCOM2, QUALCOM3)"
   ]
  },
  {
   "cell_type": "markdown",
   "id": "a4710f99",
   "metadata": {},
   "source": [
    "## Successful Target Acquisition\n",
    "Here we present a successful target acquisition case in which the target is correctly selected from the initial pointing image, coarse centering and fine centering are successfully performed, and the target is eventually centered in the slit. The target location, coarse slew, and fine slew data are printed by stistools.tastis. Note here that the coordinate system of tastis is 1-indexed while Python is 0-indexed."
   ]
  },
  {
   "cell_type": "code",
   "execution_count": null,
   "id": "f4199c86",
   "metadata": {},
   "outputs": [],
   "source": [
    "acq(\"octka2daq\")"
   ]
  },
  {
   "cell_type": "markdown",
   "id": "0941cbd1",
   "metadata": {},
   "source": [
    "## Target Acquisition Failure Cases\n",
    "The tastis analyzes STIS target acquisitions, and prints warning information if the acquisition fails. The possible tastis failures are: \n",
    " - Telemetry indicates that the intended exposures may not have been performed.  Check the images for signal.\n",
    " - The fine slew (to center the target in the reference aperture) is larger than 4 pixels.  This may indicate a problem with your acquisition.\n",
    " - The fluxes in the maximum checkbox in the fine and coarse stages differ by more than 25%.  This may indicate a problem with your acquisition.\n",
    " - The flux in the third image of the ACQ is lower than the typical value for the lamp; the image should be checked to see if the lamp was illuminated.\n",
    " - Saturation of pixels in the second image may have affected the final centering.\n",
    " \n",
    "Sometimes a failure case might be caused by multiple acquisition warnings. In this section, we will go through several typical cases of acquisition failure. "
   ]
  },
  {
   "cell_type": "markdown",
   "id": "7fc2a958",
   "metadata": {},
   "source": [
    "### Guide Stars not Acquired\n",
    "The Take Data Flag (TDF) is an onboard pointing control system flag which, when ON, indicates that the spacecraft is ready for an observation and that the guide star tracking performance is nomial. If the TDF is down, exposures are not performed until TDF comes up.\n",
    "\n",
    "If the guide stars are not acquired during acquisition, the TDF will be turned down and no exposures will be performed. Therefore all acquisition images will be dark.\n",
    "\n",
    "In this failure case, as telemetry indicates, the TDF is down at the start and no exposure was performed. Thus there is not a clear bright source in the Before Coarse Slew and Before Fine Slew images. Usually,exposure failures can also cause other issues such as fine slew larger than 4 pixels or Ratio of Flux in Max Checkbox in Fine & Coarse Stages Greater than 25%, because the tastis algorithm cannot pick up the proper bright source in the image to perform the following steps of acquisition."
   ]
  },
  {
   "cell_type": "code",
   "execution_count": null,
   "id": "755e15d6",
   "metadata": {},
   "outputs": [],
   "source": [
    "acq(\"oeds03rzq\")"
   ]
  },
  {
   "cell_type": "markdown",
   "id": "f1bf2601",
   "metadata": {},
   "source": [
    "Telemetry of this observation confirms that the guide star acquisition failed and the aperture door was closed throughout the exposure:"
   ]
  },
  {
   "cell_type": "code",
   "execution_count": null,
   "id": "35fd0606",
   "metadata": {},
   "outputs": [],
   "source": [
    "get_telemetry(\"oeds03rzq\")"
   ]
  },
  {
   "cell_type": "markdown",
   "id": "89b1d515",
   "metadata": {},
   "source": [
    "### Guide Star Acquisition Delayed\n",
    "In this failure case, the guide star acquisition is delayed during the coarse phase, but the guide stars are then acquired in the fine phase. Therefore the first acquisition image is dark while the target is in the second acquisition image. Eventually the target will still be centered, but the large fine slews may result in less precise positioning."
   ]
  },
  {
   "cell_type": "code",
   "execution_count": null,
   "id": "b9550b38",
   "metadata": {},
   "outputs": [],
   "source": [
    "acq(\"oe1l55vjq\")"
   ]
  },
  {
   "cell_type": "markdown",
   "id": "40854764",
   "metadata": {},
   "source": [
    "Telemetry of this observation suggests that the guide star acquisition was delayed and the exposure was shortened:"
   ]
  },
  {
   "cell_type": "code",
   "execution_count": null,
   "id": "06354433",
   "metadata": {},
   "outputs": [],
   "source": [
    "get_telemetry(\"oe1l55vjq\")"
   ]
  },
  {
   "cell_type": "markdown",
   "id": "e3eb86d5",
   "metadata": {},
   "source": [
    "### Lamp not illuminated\n",
    "As shown in the reference aperture, the reference aperture HITM lamp is dark and it has a flux smaller than the typical minumun value for the lamp. Usually, this kind of failure occurs if the TDF is down when the lamp image is taken; however, in some rare cases, the lamp might not be functioning. If the lamp image is blank, the target might not be centered in the reference aperture."
   ]
  },
  {
   "cell_type": "code",
   "execution_count": null,
   "id": "51a70119",
   "metadata": {},
   "outputs": [],
   "source": [
    "acq(\"oec62hj6q\")"
   ]
  },
  {
   "cell_type": "markdown",
   "id": "3d26dbed",
   "metadata": {},
   "source": [
    "The LOCKLOST quality flag suggests that guide star was lost during the guide period, and thus the exposure was shortened and the lamp was not illuminated:"
   ]
  },
  {
   "cell_type": "code",
   "execution_count": null,
   "id": "a497ad38",
   "metadata": {},
   "outputs": [],
   "source": [
    "get_telemetry(\"oec62hj6q\")"
   ]
  },
  {
   "cell_type": "markdown",
   "id": "99afd19b",
   "metadata": {},
   "source": [
    "### Multiple Bright Sources\n",
    "If there are multiple bright sources in a single acquisition image, the maximum checkbox will go through the image and find the brightest one. However, the presence of a source brighter than the target might confuse the algorithm and the acquisition might center at the wrong target."
   ]
  },
  {
   "cell_type": "code",
   "execution_count": null,
   "id": "1b76ea7a",
   "metadata": {},
   "outputs": [],
   "source": [
    "acq(\"odkt01bvq\")"
   ]
  },
  {
   "cell_type": "markdown",
   "id": "ed853e94",
   "metadata": {},
   "source": [
    "### Saturation of Pixels\n",
    "For the CCD detector, if a pixel is saturated, the excess charge will leak to adjacent pixels in the column. Saturations of pixels will affect the target flux in the max checkbox and the final centering."
   ]
  },
  {
   "cell_type": "code",
   "execution_count": null,
   "id": "c9ccebc4",
   "metadata": {},
   "outputs": [],
   "source": [
    "acq(\"oe4h03rdq\")"
   ]
  },
  {
   "cell_type": "markdown",
   "id": "bf5a726b",
   "metadata": {},
   "source": [
    "If we zoom in to the center of the second acquisition image and change the color scale, we can see that the pixels in the center are saturated, and the excess charges follow downward along the column so that the pixels below are affected."
   ]
  },
  {
   "cell_type": "code",
   "execution_count": null,
   "id": "b7c1ccae",
   "metadata": {},
   "outputs": [],
   "source": [
    "raw = os.path.join(\"./mastDownload/HST\", \"{}\".format(\"oe4h03rdq\"), \"{}_raw.fits\".format(\"oe4h03rdq\"))\n",
    "with fits.open(raw) as hdu:\n",
    "    confirm = hdu[4].data\n",
    "plt.imshow(confirm, vmin=0, vmax=1e4)\n",
    "plt.xlim(32, 62)\n",
    "plt.ylim(35, 65)"
   ]
  },
  {
   "cell_type": "markdown",
   "id": "3dda1eaa",
   "metadata": {},
   "source": [
    "### No Target in the Acquisition Image\n",
    "In this failure case, the guide stars were acquired successfully, and the TDF is always on through the exposure. However, the first and second acquisition images are blank and no target is acquired. This kind of failure happens if the submitted target location/orientation is wrong, or the source is too faint to be observed."
   ]
  },
  {
   "cell_type": "code",
   "execution_count": null,
   "id": "9d262bfd",
   "metadata": {},
   "outputs": [],
   "source": [
    "acq(\"ocyg39yoq\")"
   ]
  },
  {
   "cell_type": "markdown",
   "id": "9245c4f8",
   "metadata": {},
   "source": [
    "\n",
    "---\n",
    "## About this Notebook <a class=\"tocSkip\">\n",
    "**Author:** [Keyi Ding](kding@stsci.edu)\n",
    "\n",
    "**Updated On:** 2023-04-12\n",
    "\n",
    "\n",
    "> *This tutorial was generated to be in compliance with the [STScI style guides](https://github.com/spacetelescope/style-guides) and would like to cite the [Jupyter guide](https://github.com/spacetelescope/style-guides/blob/master/templates/example_notebook.ipynb) in particular.*\n",
    "## Citations <a class=\"tocSkip\">\n",
    "\n",
    "If you use `astropy`, `matplotlib`, `astroquery`, or `numpy` for published research, please cite the\n",
    "authors. Follow these links for more information about citations:\n",
    "\n",
    "* [Citing `astropy`/`numpy`/`matplotlib`](https://www.scipy.org/citing.html)\n",
    "* [Citing `astroquery`](https://astroquery.readthedocs.io/en/latest/)\n",
    "\n",
    "---\n",
    "\n",
    "[Top of Page](#top)\n",
    "<img style=\"float: right;\" src=\"https://raw.githubusercontent.com/spacetelescope/notebooks/master/assets/stsci_pri_combo_mark_horizonal_white_bkgd.png\" alt=\"Space Telescope Logo\" width=\"200px\"/> "
   ]
  },
  {
   "cell_type": "code",
   "execution_count": null,
   "id": "a4d13e9e",
   "metadata": {},
   "outputs": [],
   "source": []
  }
 ],
 "metadata": {
  "kernelspec": {
   "display_name": "Python 3 (ipykernel)",
   "language": "python",
   "name": "python3"
  },
  "language_info": {
   "codemirror_mode": {
    "name": "ipython",
    "version": 3
   },
   "file_extension": ".py",
   "mimetype": "text/x-python",
   "name": "python",
   "nbconvert_exporter": "python",
   "pygments_lexer": "ipython3",
   "version": "3.11.4"
  },
  "toc": {
   "base_numbering": 1,
   "nav_menu": {},
   "number_sections": true,
   "sideBar": true,
   "skip_h1_title": true,
   "title_cell": "Learning Goals",
   "title_sidebar": "Contents",
   "toc_cell": true,
   "toc_position": {
    "height": "calc(100% - 180px)",
    "left": "10px",
    "top": "150px",
    "width": "409.6px"
   },
   "toc_section_display": true,
   "toc_window_display": true
  }
 },
 "nbformat": 4,
 "nbformat_minor": 5
}
