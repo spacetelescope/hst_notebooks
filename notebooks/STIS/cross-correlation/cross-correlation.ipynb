{
 "cells": [
  {
   "cell_type": "markdown",
   "id": "3def803e",
   "metadata": {},
   "source": [
    "<a id=top></a>\n",
    "# Correcting for Missing Wavecals with Cross-Correlation"
   ]
  },
  {
   "cell_type": "markdown",
   "id": "02c57139",
   "metadata": {
    "toc": true
   },
   "source": [
    "<h1>Learning Goals<span class=\"tocSkip\"></span></h1>\n",
    "<div class=\"toc\"><ul class=\"toc-item\"><li><span><a href=\"#Introduction\" data-toc-modified-id=\"Introduction-1\"><span class=\"toc-item-num\">1&nbsp;&nbsp;</span>Introduction</a></span><ul class=\"toc-item\"><li><span><a href=\"#Import-Necessary-Packages\" data-toc-modified-id=\"Import-Necessary-Packages-1.1\"><span class=\"toc-item-num\">1.1&nbsp;&nbsp;</span>Import Necessary Packages</a></span></li><li><span><a href=\"#Collect-Data-Set-From-the-MAST-Archive-Using-Astroquery\" data-toc-modified-id=\"Collect-Data-Set-From-the-MAST-Archive-Using-Astroquery-1.2\"><span class=\"toc-item-num\">1.2&nbsp;&nbsp;</span>Collect Data Set From the MAST Archive Using Astroquery</a></span></li></ul></li><li><span><a href=\"#_x1d-Spectra-of-the-Observations\" data-toc-modified-id=\"_x1d-Spectra-of-the-Observations-2\"><span class=\"toc-item-num\">2&nbsp;&nbsp;</span>_x1d Spectra of the Observations</a></span><ul class=\"toc-item\"><li><span><a href=\"#Creating-Shifted-Spectrum\" data-toc-modified-id=\"Creating-Shifted-Spectrum-2.1\"><span class=\"toc-item-num\">2.1&nbsp;&nbsp;</span>Creating Shifted Spectrum</a></span></li><li><span><a href=\"#Spectrum-Interpolation\" data-toc-modified-id=\"Spectrum-Interpolation-2.2\"><span class=\"toc-item-num\">2.2&nbsp;&nbsp;</span>Spectrum Interpolation</a></span></li></ul></li><li><span><a href=\"#Cross-Correlation\" data-toc-modified-id=\"Cross-Correlation-3\"><span class=\"toc-item-num\">3&nbsp;&nbsp;</span>Cross-Correlation</a></span><ul class=\"toc-item\"><li><span><a href=\"#Dispersion-per-Pixel\" data-toc-modified-id=\"Dispersion-per-Pixel-3.1\"><span class=\"toc-item-num\">3.1&nbsp;&nbsp;</span>Dispersion per Pixel</a></span></li><li><span><a href=\"#Masking-out-the-Lyman-alpha-line\" data-toc-modified-id=\"Masking-out-the-Lyman-alpha-line-3.2\"><span class=\"toc-item-num\">3.2&nbsp;&nbsp;</span>Masking out the Lyman-alpha line</a></span></li><li><span><a href=\"#Lag-and-Cross-Correlation-Coefficient\" data-toc-modified-id=\"Lag-and-Cross-Correlation-Coefficient-3.3\"><span class=\"toc-item-num\">3.3&nbsp;&nbsp;</span>Lag and Cross-Correlation Coefficient</a></span></li><li><span><a href=\"#Polynimial-Fitting-and-Zero-Point-Shift\" data-toc-modified-id=\"Polynimial-Fitting-and-Zero-Point-Shift-3.4\"><span class=\"toc-item-num\">3.4&nbsp;&nbsp;</span>Polynimial Fitting and Zero Point Shift</a></span></li></ul></li><li><span><a href=\"#Recalibrate-Spectrum\" data-toc-modified-id=\"Recalibrate-Spectrum-4\"><span class=\"toc-item-num\">4&nbsp;&nbsp;</span>Recalibrate Spectrum</a></span></li></ul></div>"
   ]
  },
  {
   "cell_type": "markdown",
   "id": "c8ace7c1",
   "metadata": {},
   "source": [
    "## Introduction\n",
    "If the wavelength calibration fails due to, for example, a bad acquisition, the zero point in the spectral direction of the spectrum might be shifted because of the imprecise target positioning. However, if the target was observed multiple times and at least one has the correct zero point, then this shift can be corrected using cross-correlation. In this notebook, we will go through how to fix the shifted spectrum by cross-correlating it with a calibrated one."
   ]
  },
  {
   "cell_type": "markdown",
   "id": "5c64ec68",
   "metadata": {},
   "source": [
    "### Import Necessary Packages\n",
    "- `astropy.io fits` `astropy.table Table` for accessing FITS files\n",
    "- `astroquery.mast Observations` for finding and downloading data from the [MAST](https://mast.stsci.edu/portal/Mashup/Clients/Mast/Portal.html) archive\n",
    "- `astropy.modeling fitting` `astropy.modeling.models Polynomial1D`for fitting polynomials\n",
    "- `scipy.signal correlate` for performing cross-correlation\n",
    "- `matplotlib` for plotting data\n",
    "- `numpy` for handling array functions\n",
    "- `stistools` for quick operations on STIS Data\n",
    "- `os`,`shutil`,`pathlib` for managing system paths"
   ]
  },
  {
   "cell_type": "code",
   "execution_count": null,
   "id": "b255d566",
   "metadata": {},
   "outputs": [],
   "source": [
    "from astropy.io import fits\n",
    "from astroquery.mast import Observations\n",
    "\n",
    "from astropy.modeling import fitting\n",
    "from astropy.modeling.models import Polynomial1D\n",
    "\n",
    "from scipy.signal import correlate\n",
    "from scipy.signal import correlation_lags\n",
    "\n",
    "import matplotlib.pyplot as plt\n",
    "\n",
    "import numpy as np\n",
    "\n",
    "import os\n",
    "import shutil\n",
    "from pathlib import Path\n",
    "\n",
    "import stistools"
   ]
  },
  {
   "cell_type": "markdown",
   "id": "cab936b0",
   "metadata": {},
   "source": [
    "### Collect Data Set From the MAST Archive Using Astroquery\n",
    "In this notebook, we need to download two datasets and explore their correlation."
   ]
  },
  {
   "cell_type": "code",
   "execution_count": null,
   "id": "90ab9e4b",
   "metadata": {},
   "outputs": [],
   "source": [
    "# remove downlaod directory if it already exists\n",
    "if os.path.exists(\"./mastDownload\"):\n",
    "    shutil.rmtree(\"./mastDownload\")\n",
    "# Search target object by obs_id\n",
    "target_id = \"odj101050\"\n",
    "ref_id = \"odj101060\"\n",
    "target = Observations.query_criteria(obs_id=[target_id, ref_id])\n",
    "# get a list of files assiciated with that target\n",
    "target_list = Observations.get_product_list(target)\n",
    "# Download only the SCIENCE fits files\n",
    "Observations.download_products(target_list, productType=\"SCIENCE\")"
   ]
  },
  {
   "cell_type": "markdown",
   "id": "b0992228",
   "metadata": {},
   "source": [
    "## _x1d Spectra of the Observations\n",
    "### Creating Shifted Spectrum\n",
    "In this notebook, we select two datasets of observations (odj101050, odj101060) with the same target (-PHI-LEO), detector (FUV-MAMA), and grating (G140M). We artificially shift one of the spectra (odj101050) to simulate the wavelength zeropoint shifted spectrum due to target acquisition failures, and use the other spectrum (odj101060) as the reference to conduct cross-correlation. To shift the spectrum, we set the \"WAVECORR\" calibration switch in the raw fits file to \"OMIT\" and recalibrate the spectrum using Calstis. \"WAVECORR\" is the calibration step that determines the shift of the image on the detector along each axis, and therefore by turning off the \"WAVECORR\" calibration switch, wavecal is not performed and the spectrum is systemetically shifted. We will then use the shifted spectrum and the reference spectrum to determine the wavelength zero point shift, recalibrate this shifted spectrum, and compare it with the original pipeline spectrum."
   ]
  },
  {
   "cell_type": "markdown",
   "id": "e838e94a-b6fb-44b5-b2b0-b2e1380104fb",
   "metadata": {},
   "source": [
    "Next, use the [Calibration Reference Data System](https://hst-crds.stsci.edu) (CRDS) [command line tools](https://hst-crds.stsci.edu/static/users_guide/command_line_tools.html) to update and download the reference files."
   ]
  },
  {
   "cell_type": "code",
   "execution_count": null,
   "id": "f97e026d-b3b6-4c80-b557-945828d8a00c",
   "metadata": {},
   "outputs": [],
   "source": [
    "crds_path = os.path.expanduser(\"~\") + \"/crds_cache\"\n",
    "os.environ[\"CRDS_PATH\"] = crds_path\n",
    "os.environ[\"CRDS_SERVER_URL\"] = \"https://hst-crds.stsci.edu\"\n",
    "os.environ[\"oref\"] = os.path.join(crds_path, \"references/hst/oref/\")"
   ]
  },
  {
   "cell_type": "code",
   "execution_count": null,
   "id": "bbc32c7e-a48b-4f82-85c1-5443e89319ac",
   "metadata": {},
   "outputs": [],
   "source": [
    "!crds bestrefs --update-bestrefs --sync-references=1 --files ./mastDownload/HST/odj101050/odj101050_raw.fits"
   ]
  },
  {
   "cell_type": "code",
   "execution_count": null,
   "id": "db2cbd01",
   "metadata": {
    "scrolled": true
   },
   "outputs": [],
   "source": [
    "pip_raw = os.path.join(\"./mastDownload/HST\", \"{}\".format(target_id), \"{}_raw.fits\".format(target_id))\n",
    "# Set the \"WAVECORR\" switch in the raw fits file header to \"OMIT\"\n",
    "fits.setval(pip_raw, \"WAVECORR\", value=\"OMIT\")\n",
    "\n",
    "# Create and clean \"./Shifted\" directory for saving new files\n",
    "shifted_dir = Path(\"./Shifted\")\n",
    "if os.path.exists(shifted_dir):\n",
    "    shutil.rmtree(shifted_dir)\n",
    "Path(shifted_dir).mkdir(exist_ok=True)"
   ]
  },
  {
   "cell_type": "code",
   "execution_count": null,
   "id": "43a31707-1a42-4b97-8db0-4583d056b020",
   "metadata": {},
   "outputs": [],
   "source": [
    "# Recalibration\n",
    "res = stistools.calstis.calstis(pip_raw, verbose=False, outroot=\"./Shifted/\")\n",
    "# calstis returns 0 if calibration completes; if not, raise assertion error\n",
    "assert res == 0, f\"CalSTIS exited with an error:  {res}\""
   ]
  },
  {
   "cell_type": "markdown",
   "id": "0cdffdb7",
   "metadata": {},
   "source": [
    "<a id='shifted'></a>\n",
    "As seen in the plot, the spectrum is now shifted compared to the pipeline spectrum:"
   ]
  },
  {
   "cell_type": "code",
   "execution_count": null,
   "id": "d540b2e8",
   "metadata": {},
   "outputs": [],
   "source": [
    "pip_x1d = os.path.join(\"./mastDownload/HST\", \"{}\".format(target_id), \"{}_x1d.fits\".format(target_id))\n",
    "shifted_x1d = Path(\"./Shifted/{}_x1d.fits\".format(target_id))\n",
    "\n",
    "with fits.open(pip_x1d) as hdu1, fits.open(shifted_x1d) as hdu2:\n",
    "    pip_wl = hdu1[1].data[\"WAVELENGTH\"][0]\n",
    "    pip_flux = hdu1[1].data[\"FLUX\"][0]\n",
    "    \n",
    "    shifted_wl = hdu2[1].data[\"WAVELENGTH\"][0]\n",
    "    shifted_flux = hdu2[1].data[\"FLUX\"][0]\n",
    "\n",
    "fig = plt.figure(figsize=(20, 10))\n",
    "plt.plot(pip_wl, pip_flux, label=\"Pipeline Spectrum ({})\".format(target_id), alpha=0.5)\n",
    "plt.plot(shifted_wl, shifted_flux, label=\"Shifted spectrum ({})\".format(target_id), alpha=0.5)\n",
    "plt.legend(loc=\"best\")\n",
    "plt.xlabel(\"Wavelength [Å]\")\n",
    "plt.ylabel(\"Flux [ergs/s/cm$^2$/Å]\")\n",
    "plt.title(\"Pipeline and Shifted _x1d Spectrum\")"
   ]
  },
  {
   "cell_type": "markdown",
   "id": "485b29c2",
   "metadata": {},
   "source": [
    "### Spectrum Interpolation\n",
    "Since the wavelength range of the pipeline and shifted spectra are different, we interpolate one of the spectra based on the wavelength of the other one so that the two spectra share the same wavelength array. As shown in the plot, the spectrum with \"WAVECORR\" turned off is systemetically shifted to the left."
   ]
  },
  {
   "cell_type": "code",
   "execution_count": null,
   "id": "7ee87e2f",
   "metadata": {},
   "outputs": [],
   "source": [
    "ref_x1d = os.path.join(\"./mastDownload/HST\", \"{}\".format(ref_id), \"{}_x1d.fits\".format(ref_id))\n",
    "\n",
    "with fits.open(ref_x1d) as hdu1, fits.open(shifted_x1d) as hdu2:\n",
    "    wl = hdu1[1].data[\"WAVELENGTH\"][0]\n",
    "    ref_flux = hdu1[1].data[\"FLUX\"][0]\n",
    "    \n",
    "    shifted_wl = hdu2[1].data[\"WAVELENGTH\"][0]\n",
    "    shifted_flux = hdu2[1].data[\"FLUX\"][0]\n",
    "    \n",
    "    shifted_flux = np.interp(wl, shifted_wl, shifted_flux)\n",
    "\n",
    "fig = plt.figure(figsize=(20, 10))\n",
    "plt.plot(wl, ref_flux, alpha=0.5, label=\"Reference spectrum ({})\".format(target_id))\n",
    "plt.plot(wl, shifted_flux, alpha=0.5, label=\"Shifted spectrum ({})\".format(ref_id))\n",
    "plt.legend(loc=\"best\")\n",
    "plt.xlabel(\"Wavelength [Å]\")\n",
    "plt.ylabel(\"Flux [ergs/s/cm$^2$/Å]\")\n",
    "plt.title(\"Reference and Shifted _x1d Spectrum\")"
   ]
  },
  {
   "cell_type": "markdown",
   "id": "20da9962",
   "metadata": {},
   "source": [
    "## Cross-Correlation"
   ]
  },
  {
   "cell_type": "markdown",
   "id": "e11050cf",
   "metadata": {},
   "source": [
    "### Dispersion per Pixel\n",
    "To perform cross-correlation, detemine the shift amount in pixels, and then convert it into wavelength, we first need to determine the dispersion per pixel, i.e., the mean differences of adjacent data points in the wavelength grid."
   ]
  },
  {
   "cell_type": "code",
   "execution_count": null,
   "id": "0307b601",
   "metadata": {},
   "outputs": [],
   "source": [
    "mean_plate_scale = np.mean(wl[1:]-wl[:-1])\n",
    "mean_plate_scale\n",
    "print(\"The dispersion per pixel is {:.3f}\".format(mean_plate_scale) + \" Å/pixel\")"
   ]
  },
  {
   "cell_type": "markdown",
   "id": "b6d67e03",
   "metadata": {},
   "source": [
    "### Masking out the Lyman-alpha line\n",
    "The absorption line at around 1215 Å is from Hydrogen Lyman-alpha, which mostly comes from the atmosphere and so should not shift like the science spectrum. Therefore we need to mask out this region by separating the spectrum into two parts and perform two cross-correlations. There are other airglows lines in the ultraviolet that also does not shift with the science spectrum, including OI line at 1302 Å, OI line at 1305 Å, OI line at 1306 Å. For more information on the Airglow, see: [`AIRGLOW`](https://www.stsci.edu/hst/instrumentation/cos/calibration/airglow)."
   ]
  },
  {
   "cell_type": "code",
   "execution_count": null,
   "id": "fec64825",
   "metadata": {},
   "outputs": [],
   "source": [
    "# the spectrum on the right of Lyman-alpha\n",
    "ref_flux1 = ref_flux[wl > 1220]\n",
    "shifted_flux1 = shifted_flux[wl > 1220]\n",
    "\n",
    "# the spectrum on the left of Lyman-alpha\n",
    "ref_flux2 = ref_flux[wl < 1213]\n",
    "shifted_flux2 = shifted_flux[wl < 1213]"
   ]
  },
  {
   "cell_type": "markdown",
   "id": "7a94762e",
   "metadata": {},
   "source": [
    "### Lag and Cross-Correlation Coefficient\n",
    "\n",
    "The lag is the displacement (in pixels) in the lagged spectrum. If the lag is 0, the spectra are aligned and not shifted.\n",
    "\n",
    "\n",
    "The cross-correlation coefficient decodes how similar two spectra are. The cross-correlation coefficient takes values from -1 to 1: if it's positive, the 2 spectra are positively correlated, if it's negative, the 2 spectra are negatively correlated. \n",
    "\n",
    "The cross-correlation algorithm shifts one of the input spectra according the the lags, and computes the cross-correlation coefficient for each lag. Then we take the lag with the maximum cross-coefficient and compute the corresponding displacement in wavelength space.\n",
    "\n",
    "In general, the cross-correlation can be written as:\n",
    "\n",
    "<p style=\"text-align: center;\">$C_{xy}[k]=\\sum_n x[n] y[n+k]$</p>\n",
    "\n",
    "in which k is the lag, C is the cross-correlation coefficient, and x and y are the input spectra.\n",
    "\n",
    "**Normalization of the input spectra is required to ensure the cross-correlation coefficient is in the [-1,1] range.**"
   ]
  },
  {
   "cell_type": "code",
   "execution_count": null,
   "id": "35d0d87c",
   "metadata": {},
   "outputs": [],
   "source": [
    "def cross_correlate(shifted_flux, ref_flux):\n",
    "    assert len(shifted_flux) == len(ref_flux), \"Arrays must be same size\"\n",
    "    \n",
    "    # Normalize inputs:\n",
    "    shifted_flux = shifted_flux - shifted_flux.mean()\n",
    "    shifted_flux /= shifted_flux.std()\n",
    "    ref_flux = ref_flux - ref_flux.mean()\n",
    "    ref_flux /= ref_flux.std()\n",
    "    \n",
    "    # centered at the median of len(a)\n",
    "    lag = correlation_lags(len(shifted_flux), len(ref_flux), mode=\"same\") \n",
    "    # find the cross-correlation coefficient\n",
    "    cc = correlate(shifted_flux, ref_flux, mode=\"same\") / float(len(ref_flux))\n",
    "        \n",
    "    return lag, cc"
   ]
  },
  {
   "cell_type": "markdown",
   "id": "51a3844b",
   "metadata": {},
   "source": [
    "### Polynimial Fitting and Zero Point Shift\n",
    "After we get the lag and cross-correlation coefficient, we can determine the zero point shift by finding the lag with the maximum cross-correlation coefficient. However, since we only have discrete pixels shifts, we will fit a quadratic curve near the peak, get a fractional pixel shift, and find the maxima of the quadratic curve as the zero point shift. The zero point shift is shown as the green vertical line in the plot.\n",
    "\n",
    "In this specific case, we choose the lag from -3 to 3, and fitted a 2 degree polynomial curve around the maximum cross-correlation coefficient to determine the shift in pixel space.**The lag range and polynomial fitting is not the single solution that can be applied to all cases of wavelength zero point shifts. Users should experiment with the lag range and number of points to fit the polynomial curve based on the use case.**\n",
    "\n",
    "We first find the lag and cross-correlation coefficient of the right part of the spectrum:"
   ]
  },
  {
   "cell_type": "code",
   "execution_count": null,
   "id": "06d43187",
   "metadata": {},
   "outputs": [],
   "source": [
    "fig = plt.figure(figsize=(10, 6))\n",
    "lag, cc = cross_correlate(shifted_flux1, ref_flux1)\n",
    "plt.plot(lag, cc, \".-\", label=\"cross-correlation coefficient\")\n",
    "\n",
    "# fit quadratic near the peak to find the pixel shift\n",
    "fitter = fitting.LinearLSQFitter()\n",
    "# get the 5 points near the peak\n",
    "width = 5\n",
    "low, hi = np.argmax(cc) - width//2, np.argmax(cc) + width//2 + 1\n",
    "fit = fitter(Polynomial1D(degree=2), x=lag[low:hi], y=cc[low:hi])\n",
    "x_c = np.arange(-10, 0, 0.01)\n",
    "plt.plot(x_c, fit(x_c), alpha=0.5, label=\"fitted quadratic curve\")\n",
    "# finding the maxima\n",
    "shift1 = -fit.parameters[1] / (2. * fit.parameters[2])\n",
    "plt.plot([shift1, shift1], [0, 1], alpha=0.5, label=\"quadratic curve maxima\")\n",
    "\n",
    "plt.xlim(-20, 20)\n",
    "plt.ylim(0, 1)\n",
    "plt.xlabel(\"Lag [pix]\")\n",
    "plt.ylabel(\"Cross-correlation coeff\")\n",
    "plt.title(\"15168-01, G140M/C1222 Observations\")\n",
    "plt.legend(loc=\"best\")"
   ]
  },
  {
   "cell_type": "markdown",
   "id": "b213f1c5",
   "metadata": {},
   "source": [
    "Convert the lag back into zero point shift in wavelength space:"
   ]
  },
  {
   "cell_type": "code",
   "execution_count": null,
   "id": "a8598339",
   "metadata": {},
   "outputs": [],
   "source": [
    "print(\"Shift between the G140M/c1222 observations is {:.3f} pix = {:.3f}\".format(shift1, shift1 * mean_plate_scale) + \"Å\")"
   ]
  },
  {
   "cell_type": "markdown",
   "id": "2417f519",
   "metadata": {},
   "source": [
    "Apply the same procedure to the left part of the spectrum:"
   ]
  },
  {
   "cell_type": "code",
   "execution_count": null,
   "id": "ecffe065",
   "metadata": {},
   "outputs": [],
   "source": [
    "fig = plt.figure(figsize=(10, 6))\n",
    "lag, cc = cross_correlate(shifted_flux2, ref_flux2)\n",
    "plt.plot(lag, cc, \".-\", label=\"cross-correlation coefficient\")\n",
    "\n",
    "# fit quadratic near the peak to find the pixel shift\n",
    "fitter = fitting.LinearLSQFitter()\n",
    "# get the 5 points near the peak\n",
    "width = 5\n",
    "low, hi = np.argmax(cc) - width//2, np.argmax(cc) + width//2 + 1\n",
    "fit = fitter(Polynomial1D(degree=2), x=lag[low:hi], y=cc[low:hi])\n",
    "x_c = np.arange(-10, 0, 0.01)\n",
    "plt.plot(x_c, fit(x_c), alpha=0.5, label=\"fitted quadratic curve\")\n",
    "# finding the maxima\n",
    "shift2 = -fit.parameters[1] / (2. * fit.parameters[2])\n",
    "plt.plot([shift2, shift2], [0, 1], alpha=0.5, label=\"quadratic curve maxima\")\n",
    "\n",
    "plt.xlim(-20, 20)\n",
    "plt.ylim(0, 1)\n",
    "plt.xlabel(\"Lag [pix]\")\n",
    "plt.ylabel(\"Cross-correlation coeff\")\n",
    "plt.title(\"15168-01, G140M/C1222 Observations\")\n",
    "plt.legend(loc=\"best\")\n",
    "print(\"shift2 between the G140M/c1222 observations is {:.3f} pix = {:.3f}\".format(shift2, shift2 * mean_plate_scale) + \"Å\")"
   ]
  },
  {
   "cell_type": "markdown",
   "id": "7c79ff5c",
   "metadata": {},
   "source": [
    "However, as shown in the plot, the maximum cross-correlation coefficient (~0.5) is relatively small, which suggests that the spectra are less similar on the left side. With such a small cross-correlation coefficient, we cannot determine a reasonable shift in the pixel space. Therefore, we only take the shift determined by the right part of the spectrum as the shift of the spectrum:"
   ]
  },
  {
   "cell_type": "code",
   "execution_count": null,
   "id": "6e4aec8b",
   "metadata": {},
   "outputs": [],
   "source": [
    "shift = shift1\n",
    "print(\"shift between the G140M/c1222 observations is {:.3f} pix = {:.3f}\".format(shift, shift * mean_plate_scale) + \"Å\")"
   ]
  },
  {
   "cell_type": "markdown",
   "id": "5d1252f0",
   "metadata": {},
   "source": [
    "## Recalibrate Spectrum\n",
    "After we determine the wavelength zero point shift, we can use the value to recalibrate the spectrum.\n",
    "\n",
    "In the Calstis pipeline, \"WAVECORR\" calibration step determines the spectral shift values, and writes the keyword values SHIFTA1, SHIFTA2 for the spectral and spatial shifts, respectively, to the science header. To apply the spectral shift from the cross-correlation, we get the SHIFTA1, SHIFTA2 keywords from the _flt fits file, add the shift (in pixel space) to SHIFTA1, and write the updated keywords to the _raw fits file."
   ]
  },
  {
   "cell_type": "code",
   "execution_count": null,
   "id": "106dd67f",
   "metadata": {},
   "outputs": [],
   "source": [
    "# get SHIFTA1, SHIFTA1 keywords from the first science extension\n",
    "shifted_flt = Path(\"./Shifted/{}_flt.fits\".format(target_id))\n",
    "# since we have turned off WAVECOR at the beginning, SHIFTA1 should be 0\n",
    "SHIFTA1 = fits.getval(shifted_flt, \"SHIFTA1\", 1)\n",
    "SHIFTA2 = fits.getval(shifted_flt, \"SHIFTA2\", 1)\n",
    "assert (SHIFTA1 == 0 and SHIFTA2 == 0)\n",
    "# update SHIFTA1 (only in the spectral direction)\n",
    "SHIFTA1 += shift\n",
    "# update the the SHIFTA1, SHIFTA1 keywords in the _raw fits file first science extension\n",
    "fits.setval(pip_raw, \"SHIFTA1\", value=SHIFTA1, ext=1)\n",
    "fits.setval(pip_raw, \"SHIFTA2\", value=SHIFTA2, ext=1)"
   ]
  },
  {
   "cell_type": "markdown",
   "id": "a8ce2c50",
   "metadata": {},
   "source": [
    "Then we need to turn the \"WAVECORR\" calibration switch to \"omit\" so that the Calstis calibration pipeline takes our new computed value instead of the wavecal returned value as the wavelength zero point shift."
   ]
  },
  {
   "cell_type": "code",
   "execution_count": null,
   "id": "5cc7018d",
   "metadata": {},
   "outputs": [],
   "source": [
    "fits.setval(pip_raw, \"WAVECORR\", value=\"OMIT\", ext=0)\n",
    "assert fits.getval(pip_raw, keyword=\"WAVECORR\", ext=0) == \"OMIT\""
   ]
  },
  {
   "cell_type": "markdown",
   "id": "8a8d5e79",
   "metadata": {},
   "source": [
    "Recalibrate the spectrum using the Calstis pipeline. We create a new folder called \"Recalibration\" to store the recalibrated files. For more information on the Calstis pipeline, see: [STIS Calibration](https://hst-docs.stsci.edu/stisdhb/chapter-3-stis-calibration), [calstis](https://stistools.readthedocs.io/en/latest/calstis.html)."
   ]
  },
  {
   "cell_type": "code",
   "execution_count": null,
   "id": "411921fb",
   "metadata": {},
   "outputs": [],
   "source": [
    "# Create and clean \"./Recalibration\" directory for saving new files\n",
    "if os.path.exists(\"./Recalibration\"):\n",
    "    shutil.rmtree(\"./Recalibration\")\n",
    "Path(\"./Recalibration\").mkdir(exist_ok=True)\n",
    "# Recalibration\n",
    "res = stistools.calstis.calstis(pip_raw, verbose=False, outroot=\"./Recalibration/\")\n",
    "# calstis returns 0 if calibration completes; if not, raise assertion error\n",
    "assert res == 0, f\"CalSTIS exited with an error:  {res}\"\n",
    "recal_x1d = Path(\"./Recalibration/{}_x1d.fits\".format(target_id))"
   ]
  },
  {
   "cell_type": "markdown",
   "id": "524dbf99",
   "metadata": {},
   "source": [
    "We compare the recalibrated spectrum with the pipeline spectrum. The top panel is the shifted spectrum (orange) and the pipeline spectrum (blue) of observation odj101050, which is the same as the plot in [`2.1 Creating Shifted Spectrum`](#shifted). The bottom panel is the recalibrated spectrum (orange) and the pipeline spectrum (blue). The spectra almost overlap in the bottom panel, which suggests that the wavelength shift issue is solved in the recalibrated spectrum. "
   ]
  },
  {
   "cell_type": "code",
   "execution_count": null,
   "id": "9ddc5c5c",
   "metadata": {},
   "outputs": [],
   "source": [
    "fig = plt.figure(figsize=(20, 20))\n",
    "plt.subplot(2, 1, 1)\n",
    "with fits.open(pip_x1d) as hdu1, fits.open(shifted_x1d) as hdu2:\n",
    "    pip_wl = hdu1[1].data[\"WAVELENGTH\"][0]\n",
    "    pip_flux = hdu1[1].data[\"FLUX\"][0]\n",
    "    \n",
    "    shifted_wl = hdu2[1].data[\"WAVELENGTH\"][0]\n",
    "    shifted_flux = hdu2[1].data[\"FLUX\"][0]\n",
    "    \n",
    "plt.plot(pip_wl, pip_flux, label=\"Pipeline Spectrum ({})\".format(target_id), alpha=0.5)\n",
    "plt.plot(shifted_wl, shifted_flux, label=\"Shifted spectrum ({})\".format(target_id), alpha=0.5)\n",
    "plt.legend(loc=\"best\")\n",
    "plt.xlabel(\"Wavelength [Å]\")\n",
    "plt.ylabel(\"Flux [ergs/s/cm$^2$/Å]\")\n",
    "plt.title(\"Pipeline and Shifted _x1d Spectrum\")\n",
    "\n",
    "plt.subplot(2, 1, 2)\n",
    "with fits.open(pip_x1d) as hdu1, fits.open(recal_x1d) as hdu2:\n",
    "    wl1 = hdu1[1].data[\"WAVELENGTH\"][0][10:-10]\n",
    "    wl2 = hdu2[1].data[\"WAVELENGTH\"][0][10:-10]\n",
    "    \n",
    "    flux1 = hdu1[1].data[\"FLUX\"][0][10:-10]\n",
    "    flux2 = hdu2[1].data[\"FLUX\"][0][10:-10]\n",
    "plt.plot(wl1, flux1, label=\"Pipeline Spectrum ({})\".format(target_id), alpha=0.3)\n",
    "plt.plot(wl2, flux2, label=\"Recalibrated Spectrum ({})\".format(target_id), alpha=0.3)\n",
    "plt.legend(loc=\"best\")\n",
    "plt.xlabel(\"Wavelength [Å]\")\n",
    "plt.ylabel(\"Flux [ergs/s/cm$^2$/Å]\")\n",
    "plt.title(\"Pipeline and Recalibrated _x1d Spectrum\")\n",
    "plt.tight_layout()"
   ]
  },
  {
   "cell_type": "markdown",
   "id": "b0b3ba26",
   "metadata": {},
   "source": [
    "\n",
    "---\n",
    "## About this Notebook <a class=\"tocSkip\">\n",
    "**Author:** [Keyi Ding](kding@stsci.edu)\n",
    "\n",
    "**Updated On:** 2023-04-14\n",
    "\n",
    "\n",
    "> *This tutorial was generated to be in compliance with the [STScI style guides](https://github.com/spacetelescope/style-guides) and would like to cite the [Jupyter guide](https://github.com/spacetelescope/style-guides/blob/master/templates/example_notebook.ipynb) in particular.*\n",
    "## Citations <a class=\"tocSkip\">\n",
    "\n",
    "If you use `astropy`, `matplotlib`, `astroquery`, or `numpy` for published research, please cite the\n",
    "authors. Follow these links for more information about citations:\n",
    "\n",
    "* [Citing `astropy`/`numpy`/`matplotlib`](https://www.scipy.org/citing.html)\n",
    "* [Citing `astroquery`](https://astroquery.readthedocs.io/en/latest/)\n",
    "\n",
    "---\n",
    "\n",
    "[Top of Page](#top)\n",
    "<img style=\"float: right;\" src=\"https://raw.githubusercontent.com/spacetelescope/notebooks/master/assets/stsci_pri_combo_mark_horizonal_white_bkgd.png\" alt=\"Space Telescope Logo\" width=\"200px\"/> "
   ]
  },
  {
   "cell_type": "code",
   "execution_count": null,
   "id": "cae29c9c",
   "metadata": {},
   "outputs": [],
   "source": []
  }
 ],
 "metadata": {
  "kernelspec": {
   "display_name": "Python 3 (ipykernel)",
   "language": "python",
   "name": "python3"
  },
  "language_info": {
   "codemirror_mode": {
    "name": "ipython",
    "version": 3
   },
   "file_extension": ".py",
   "mimetype": "text/x-python",
   "name": "python",
   "nbconvert_exporter": "python",
   "pygments_lexer": "ipython3",
   "version": "3.11.5"
  },
  "toc": {
   "base_numbering": 1,
   "nav_menu": {},
   "number_sections": true,
   "sideBar": true,
   "skip_h1_title": true,
   "title_cell": "Learning Goals",
   "title_sidebar": "Contents",
   "toc_cell": true,
   "toc_position": {
    "height": "calc(100% - 180px)",
    "left": "10px",
    "top": "150px",
    "width": "211.067px"
   },
   "toc_section_display": true,
   "toc_window_display": true
  }
 },
 "nbformat": 4,
 "nbformat_minor": 5
}
