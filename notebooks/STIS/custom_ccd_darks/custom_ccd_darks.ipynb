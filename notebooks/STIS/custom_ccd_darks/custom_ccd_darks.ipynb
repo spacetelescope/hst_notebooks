{
 "cells": [
  {
   "cell_type": "markdown",
   "id": "4d24ef99",
   "metadata": {},
   "source": [
    "<a id=top></a>\n",
    "# Custom CCD Darks <a class=\"tocSkip\">"
   ]
  },
  {
   "cell_type": "markdown",
   "id": "987a0967",
   "metadata": {
    "toc": true
   },
   "source": [
    "<h1>Learning Goals<span class=\"tocSkip\"></span></h1>\n",
    "<div class=\"toc\"><ul class=\"toc-item\"><li><span><a href=\"#Introduction\" data-toc-modified-id=\"Introduction-1\"><span class=\"toc-item-num\">1&nbsp;&nbsp;</span>Introduction</a></span><ul class=\"toc-item\"><li><span><a href=\"#Import-Necessary-Packages\" data-toc-modified-id=\"Import-Necessary-Packages-1.1\"><span class=\"toc-item-num\">1.1&nbsp;&nbsp;</span>Import Necessary Packages</a></span></li><li><span><a href=\"#Collect-Data-Set-From-the-MAST-Archive-Using-Astroquery\" data-toc-modified-id=\"Collect-Data-Set-From-the-MAST-Archive-Using-Astroquery-1.2\"><span class=\"toc-item-num\">1.2&nbsp;&nbsp;</span>Collect Data Set From the MAST Archive Using Astroquery</a></span></li></ul></li><li><span><a href=\"#Default-Dark-File\" data-toc-modified-id=\"Default-Dark-File-2\"><span class=\"toc-item-num\">2&nbsp;&nbsp;</span>Default Dark File</a></span></li><li><span><a href=\"#Make-Basedark\" data-toc-modified-id=\"Make-Basedark-3\"><span class=\"toc-item-num\">3&nbsp;&nbsp;</span>Make Basedark</a></span></li><li><span><a href=\"#Make-Weekdark\" data-toc-modified-id=\"Make-Weekdark-4\"><span class=\"toc-item-num\">4&nbsp;&nbsp;</span>Make Weekdark</a></span></li><li><span><a href=\"#Calibrate-with-New-Weekdark\" data-toc-modified-id=\"Calibrate-with-New-Weekdark-5\"><span class=\"toc-item-num\">5&nbsp;&nbsp;</span>Calibrate with New Weekdark</a></span><ul class=\"toc-item\"><li><span><a href=\"#Calibration\" data-toc-modified-id=\"Calibration-5.1\"><span class=\"toc-item-num\">5.1&nbsp;&nbsp;</span>Calibration</a></span></li><li><span><a href=\"#Comparison-With-the-Default-Dark-File\" data-toc-modified-id=\"Comparison-With-the-Default-Dark-File-5.2\"><span class=\"toc-item-num\">5.2&nbsp;&nbsp;</span>Comparison With the Default Dark File</a></span></li></ul></li></ul></div>"
   ]
  },
  {
   "cell_type": "markdown",
   "id": "71747693",
   "metadata": {},
   "source": [
    "## Introduction\n",
    "In the Calstis pipline for calibrating STIS CCD data, one of the steps is dark signal substraction, which removes the dark signal (count rate created in the detector in the absence of photons from the sky) from the uncalibrated science image based on reference file. Usually, the Calstis pipline uses the default dark reference file specified in the 0-extension header of the uncalibrated science image fits file. But for some faint sources, it is necessary to customize the dark reference for the observations to remove the hot pixels in the science image. In this notebook, we will go through how to create dark reference files using the Python refstis library.\n",
    "\n",
    "**Notice: this notebook demonstrates a squence of steps to customize dark reference file. If any of the intermediate steps fail or need to rerun, please restart the ipython kernel and start from the first step.**"
   ]
  },
  {
   "cell_type": "markdown",
   "id": "4ae8a6cd",
   "metadata": {},
   "source": [
    "### Import Necessary Packages\n",
    "- `astropy.io fits` `astropy.table` for accessing FITS files\n",
    "- `astroquery.mast Observations` for finding and downloading data from the [MAST](https://mast.stsci.edu/portal/Mashup/Clients/Mast/Portal.html) archive\n",
    "- `os`,`shutil`,`pathlib` for managing system paths\n",
    "- `numpy` to handle array functions\n",
    "- `stistools` for calibrating STIS data\n",
    "- `refstis` for creating STIS reference files\n",
    "- `matplotlib` for plotting data\n",
    "\n",
    "For more information on installing refstis, see: [`Refstis: Superdarks and Superbiases for STIS`](https://refstis.readthedocs.io/en/latest/)"
   ]
  },
  {
   "cell_type": "code",
   "execution_count": null,
   "id": "ecc93c3f",
   "metadata": {},
   "outputs": [],
   "source": [
    "# Import for: Reading in fits file\n",
    "from astropy.io import fits\n",
    "from astropy.table import Table\n",
    "\n",
    "# Import for: Downloading necessary files. (Not necessary if you choose to collect data from MAST)\n",
    "from astroquery.mast import Observations\n",
    "\n",
    "# Import for: Managing system variables and paths\n",
    "import os\n",
    "import shutil\n",
    "from pathlib import Path\n",
    "\n",
    "# Import for: Quick Calculation and Data Analysis\n",
    "import numpy as np\n",
    "\n",
    "# Import for: Operations on STIS Data\n",
    "import stistools\n",
    "from refstis.basedark import make_basedark\n",
    "from refstis.weekdark import make_weekdark\n",
    "\n",
    "# Import for: Plotting and specifying plotting parameters\n",
    "import matplotlib\n",
    "%matplotlib inline\n",
    "from matplotlib import pyplot as plt\n",
    "\n",
    "matplotlib.rcParams['image.origin'] = 'lower'\n",
    "matplotlib.rcParams['image.cmap'] = 'plasma'\n",
    "matplotlib.rcParams['image.interpolation'] = 'none'\n",
    "matplotlib.rcParams['figure.figsize'] = (20, 10)"
   ]
  },
  {
   "cell_type": "markdown",
   "id": "2357845c",
   "metadata": {},
   "source": [
    "### Collect Data Set From the MAST Archive Using Astroquery\n",
    "There are other ways to download data from MAST such as using CyberDuck. The steps of collecting data is beyond the scope of this notebook, and we are only showing how to use astroquery and CRDS."
   ]
  },
  {
   "cell_type": "code",
   "execution_count": null,
   "id": "25ee6e15",
   "metadata": {},
   "outputs": [],
   "source": [
    "%%capture --no-display\n",
    "# cleanup download directory\n",
    "if os.path.exists('./mastDownload'):\n",
    "    shutil.rmtree('./mastDownload')\n",
    "\n",
    "# change this field in you have a specific dataset to be explored\n",
    "obs_id = \"oeik1s030\"\n",
    "# Search target by obs_id\n",
    "target = Observations.query_criteria(obs_id=obs_id)\n",
    "# get a list of files assiciated with that target\n",
    "FUV_list = Observations.get_product_list(target)\n",
    "# Download fits files\n",
    "result = Observations.download_products(FUV_list, extension='fits')\n",
    "crj = os.path.join(\"./mastDownload/HST\", \"{}\".format(obs_id), \"{}_crj.fits\".format(obs_id))"
   ]
  },
  {
   "cell_type": "markdown",
   "id": "4820db20",
   "metadata": {},
   "source": [
    "Next, use the [Calibration Reference Data System](https://hst-crds.stsci.edu) (CRDS) [command line tools](https://hst-crds.stsci.edu/static/users_guide/command_line_tools.html) to update and download the reference files for creating the basedark. "
   ]
  },
  {
   "cell_type": "code",
   "execution_count": null,
   "id": "10974f8e",
   "metadata": {},
   "outputs": [],
   "source": [
    "crds_path = os.path.expanduser(\"~\") + \"/crds_cache\"\n",
    "os.environ[\"CRDS_PATH\"] = crds_path\n",
    "os.environ[\"CRDS_SERVER_URL\"] = \"https://hst-crds.stsci.edu\"\n",
    "os.environ[\"oref\"] = os.path.join(crds_path, \"references/hst/oref/\")"
   ]
  },
  {
   "cell_type": "code",
   "execution_count": null,
   "id": "3e3e7665",
   "metadata": {},
   "outputs": [],
   "source": [
    "!crds bestrefs --update-bestrefs --sync-references=1 --files ./mastDownload/HST/oeik1s030/oeik1s030_raw.fits"
   ]
  },
  {
   "cell_type": "markdown",
   "id": "09e9d926",
   "metadata": {},
   "source": [
    "## Default Dark File\n",
    "The default dark file is specified in the 0th extension of an uncalibrated science image through a field called 'DARKFILE'. We will later replace this default dark file with the customized dark file we created using refstis."
   ]
  },
  {
   "cell_type": "code",
   "execution_count": null,
   "id": "e962ea88",
   "metadata": {},
   "outputs": [],
   "source": [
    "darkfile = fits.getval(crj, ext=0, keyword='DARKFILE')\n",
    "print(\"The default dark file of observation {id} is: {df}\".format(id=obs_id, df=darkfile))"
   ]
  },
  {
   "cell_type": "markdown",
   "id": "a369ebbb",
   "metadata": {},
   "source": [
    "## Make Basedark\n",
    "Every month, a high signal-to-noise superdark frame is created from a combination of typically 40-60 “long” darks. These monthly superdark frames are not actually delivered to the calibration data base, but used as “baseline” dark for the next steps. When creating the Basedark, the input imsets are joined and combined into a single file, and the cosmic ray rejection is performed. Then the hot pixels in the combined image frame are identified and labeled in the DQ array using an iterative sigma clip method, and those hot pixels will later be updated with values in the Weekdark. In this section, we'll show how to create the basedark file.\n",
    "\n",
    "These superdark frames are not taken exactly each month, but during a roughly 30 days period called \"annealing period\". The duration of each annealing period, together with the superdark frames taken, can be found here: [STIS Annealing Periods](https://www.stsci.edu/~STIS/monitors/anneals/anneal_periods.html).\n",
    "\n",
    "We first get the observation date of our sample data, and find the corresponding anneal period:"
   ]
  },
  {
   "cell_type": "code",
   "execution_count": null,
   "id": "0635002b",
   "metadata": {},
   "outputs": [],
   "source": [
    "TDATEOBS = fits.getval(crj, ext=0, keyword='TDATEOBS')\n",
    "TTIMEOBS = fits.getval(crj, ext=0, keyword='TTIMEOBS')\n",
    "print(\"UT date of start of first exposure in file is {}\".format(TDATEOBS))\n",
    "print(\"UT time of start of first exposure in file is {}\".format(TTIMEOBS))"
   ]
  },
  {
   "cell_type": "markdown",
   "id": "636bcf0f",
   "metadata": {},
   "source": [
    "According to the STIS Annealing Periods, this observation was taken during the annealing period from 2021-04-07 02:35:41 to 2021-05-05 14:00:22. We collect all the long component dark flt data during that annealing period:"
   ]
  },
  {
   "cell_type": "code",
   "execution_count": null,
   "id": "f02543fd",
   "metadata": {},
   "outputs": [],
   "source": [
    "%%capture --no-display\n",
    "# copy the dark file obs_id from the STIS Annealing Periods table, and put them into a list\n",
    "rootnames = \"oeen8lqwq, oeen8ms5q, oeen8nvcq, oeen8oxnq, oeen8pa3q, oeen8qckq, oeen8reyq, oeen8sguq, \"\\\n",
    "            \"oeen8taaq, oeen8udiq, oeen8vh3q, oeen8wicq, oeen8xkaq, oeen8yn4q, oeen8zpyq, oeen90rtq, oeen91u0q, oeen92wdq, \"\\\n",
    "            \"oeen93ysq, oeen94arq, oeen95dlq, oeen96g4q, oeen97b7q, oeen98c4q, oeen99gxq, oeen9ah3q, oeen9bm7q, oeen9cmkq, \"\\\n",
    "            \"oeen9dryq, oeen9et6q, oeen9fxwq, oeen9gy4q, oeen9icqq, oeen9hcwq, oeen9jgwq, oeen9kh4q, oeen9lafq, oeen9majq, \"\\\n",
    "            \"oeen9nh9q, oeen9ohiq, oeen9qovq, oeen9ppcq, oeen9rucq, oeen9supq, oeen9tydq, oeen9uytq, oeen9velq, oeen9wf3q, \"\\\n",
    "            \"oeen9xjeq, oeen9yjmq, oeen9za2q, oeena0aaq, oeena1g5q, oeena2gcq, oeena3kjq, oeena4knq\".split(', ')\n",
    "# search in astroquery based on obs_id\n",
    "search = Observations.query_criteria(obs_id=rootnames)\n",
    "pl = Observations.get_product_list(search)\n",
    "# we only need the _flt fits files\n",
    "pl = pl[pl['productSubGroupDescription'] == 'FLT']\n",
    "# download the data\n",
    "download_status = Observations.download_products(pl, mrp_only=False)\n",
    "# store all the paths to the superdark frames into a list\n",
    "anneal_dark = []\n",
    "for root in rootnames:\n",
    "    file_path = os.path.join(\"./mastDownload/HST\", \"{}\".format(root), \"{}_flt.fits\".format(root))\n",
    "    # check CCD amplifier\n",
    "    CCDAMP = fits.getval(file_path, keyword='CCDAMP', ext=0)\n",
    "    assert (CCDAMP == 'D')\n",
    "    anneal_dark.append(file_path)\n",
    "\n",
    "filename_mapping = {os.path.basename(x).rsplit('_', 1)[0]: x for x in download_status['Local Path']}"
   ]
  },
  {
   "cell_type": "markdown",
   "id": "412c71cb",
   "metadata": {},
   "source": [
    "Then we put the list of input dark files into refstis.make_basedark. The second parameter, refdark_name, is the name of the output basedark file. For detailed information on make_basedark, see: [Basedark](https://refstis.readthedocs.io/en/latest/api/basedark.html)."
   ]
  },
  {
   "cell_type": "code",
   "execution_count": null,
   "id": "981f9aac",
   "metadata": {
    "scrolled": false
   },
   "outputs": [],
   "source": [
    "new_basedark = 'new_basedark.fits'\n",
    "# remove the new_basefark file if it already exists\n",
    "if os.path.exists(new_basedark):\n",
    "    os.remove(new_basedark)\n",
    "make_basedark(anneal_dark, refdark_name=new_basedark, bias_file=None)"
   ]
  },
  {
   "cell_type": "code",
   "execution_count": null,
   "id": "4d528904",
   "metadata": {},
   "outputs": [],
   "source": [
    "with fits.open(new_basedark) as hdu:\n",
    "    new_basedark_data = hdu[1].data\n",
    "cb = plt.imshow(new_basedark_data, cmap='plasma', vmax=1)\n",
    "plt.colorbar(cb)"
   ]
  },
  {
   "cell_type": "markdown",
   "id": "3339d374",
   "metadata": {},
   "source": [
    "## Make Weekdark\n",
    "The Weekdark is the combination of all \"long\" dark files from the week of the science observation, which is eventually passed into the Calstis pipline as the DARKFILE for the DARKCORR calibration. After the darks during a given week is combined and normalized to produce a weekly superdark, those hotpixels in the monthly Basedark are replaced by those of the normalized weekly superdark. The resulting dark has the high signal-to-noise ratio of the monthly baseline superdark, updated with the hot pixels of the current week."
   ]
  },
  {
   "cell_type": "markdown",
   "id": "6b968861",
   "metadata": {},
   "source": [
    "We first search for the darks taken during the given week. We take the weekly period as the observation date ± 3 days in this demonstration, \n",
    "**but notice here that since the observation time is 2021-05-05 12:29:54 while the ending time of the annealing period is 2021-05-05 14:00:22, observation date + 3 days will cross the annealing boundary.** Therefore, in our case, we only take the observation date - 3 days as the weekly period. When you work with your own dataset, pay attention to the week boundary and annealing boundary to see if they completely overlap."
   ]
  },
  {
   "cell_type": "code",
   "execution_count": null,
   "id": "08d000f6",
   "metadata": {},
   "outputs": [],
   "source": [
    "# search for darks taken during the weekly period (observation date, observation date + 3 days)\n",
    "hdr = fits.getheader(crj, 0)\n",
    "component_darks = Observations.query_criteria(\n",
    "    target_name='DARK',\n",
    "    t_min=[hdr['TEXPSTRT']-3, hdr['TEXPSTRT']],\n",
    "    t_exptime=[1099, 1101])\n",
    "# get a list of files assiciated with that target\n",
    "dark_list = Observations.get_product_list(component_darks)\n",
    "dark_list = dark_list[dark_list['productSubGroupDescription'] == 'FLT']\n",
    "# store all the paths to the superdark frames into a list\n",
    "component_flt = [filename_mapping[x] for x in component_darks['obs_id']]\n",
    "component_flt"
   ]
  },
  {
   "cell_type": "markdown",
   "id": "814ecbdb",
   "metadata": {},
   "source": [
    "Now we have all the dark files we need to create the new weekdark reference file. Pass the list of the weekly component darks as the first parameter, the name of the new weekdark file as the second parameter, and the new basedark file we created above as the third parameter into refstis.make_weekdark. For more information on make_weekdark, see: [Weekdark](https://refstis.readthedocs.io/en/latest/api/weekdark.html)."
   ]
  },
  {
   "cell_type": "code",
   "execution_count": null,
   "id": "026ead83",
   "metadata": {},
   "outputs": [],
   "source": [
    "new_weekdark = \"new_weekdark.fits\"\n",
    "# remove the new_basedark file if it already exists\n",
    "if os.path.exists(new_weekdark):\n",
    "    os.remove(new_weekdark)\n",
    "make_weekdark(component_flt, new_weekdark, thebasedark=new_basedark)"
   ]
  },
  {
   "cell_type": "markdown",
   "id": "5a0c4387",
   "metadata": {},
   "source": [
    "## Calibrate with New Weekdark\n",
    "### Calibration\n",
    "Now we have created the new weekdark reference file for our specific dataset, we can use it to calibrate the raw data using Calstis. To change the dark reference file, we first set the value of DARKFILE in the _raw data 0th header using fits.setval. Calstis will then look for the DARKFILE value and use it as the reference file for DARKCORR."
   ]
  },
  {
   "cell_type": "code",
   "execution_count": null,
   "id": "96bcd035",
   "metadata": {},
   "outputs": [],
   "source": [
    "raw = os.path.join(\"./mastDownload/HST\", \"{}\".format(obs_id), \"{}_raw.fits\".format(obs_id))\n",
    "wav = os.path.join(\"./mastDownload/HST\", \"{}\".format(obs_id), \"{}_wav.fits\".format(obs_id))"
   ]
  },
  {
   "cell_type": "code",
   "execution_count": null,
   "id": "6263097e",
   "metadata": {},
   "outputs": [],
   "source": [
    "# set the value of DARKFILE to the filename of the new week dark\n",
    "fits.setval(raw, ext=0, keyword='DARKFILE', value=new_weekdark)\n",
    "# make sure that the value is set correctly\n",
    "fits.getval(raw, ext=0, keyword='DARKFILE')"
   ]
  },
  {
   "cell_type": "markdown",
   "id": "5aaa5a2d",
   "metadata": {},
   "source": [
    "Calibrate the _raw data using the new weekdark reference file:"
   ]
  },
  {
   "cell_type": "code",
   "execution_count": null,
   "id": "fcbc54ca",
   "metadata": {
    "scrolled": true
   },
   "outputs": [],
   "source": [
    "# create a new folder to store the calibrated data\n",
    "if os.path.exists('./new_dark'):\n",
    "    shutil.rmtree('./new_dark')\n",
    "Path('./new_dark').mkdir(exist_ok=True)\n",
    "res = stistools.calstis.calstis(raw, wavecal=wav, outroot=\"./new_dark/\")\n",
    "assert res == 0, 'CalSTIS returned an error!'"
   ]
  },
  {
   "cell_type": "code",
   "execution_count": null,
   "id": "394582cf",
   "metadata": {},
   "outputs": [],
   "source": [
    "with fits.open('new_weekdark.fits') as hdu:\n",
    "    new_weekdark_data = hdu[1].data\n",
    "cb = plt.imshow(new_weekdark_data, cmap='plasma', vmax=1)\n",
    "plt.colorbar(cb)"
   ]
  },
  {
   "cell_type": "markdown",
   "id": "60dc469e",
   "metadata": {},
   "source": [
    "To compare the new weekdark science image with the old weekdark science image, we divide the new weekdark science image frame by that of the old weekdark, and use a diverging colormap to visulize the ratio. The colormap is normalized to center at 1, and the red pixels suggests that the ratio is greater than 1 while the blue pixels suggests that the ratio is less than 1. In general there are more blue pixels in the image, which means we are removing more hot pixels compared with the old weekdark."
   ]
  },
  {
   "cell_type": "code",
   "execution_count": null,
   "id": "c3f85f5c",
   "metadata": {},
   "outputs": [],
   "source": [
    "with fits.open(\"55a20445o_drk.fits\") as hdu:\n",
    "    old_weekdark_data = hdu[1].data\n",
    "cb = plt.imshow(new_weekdark_data/old_weekdark_data, cmap='RdBu_r', vmin=0.5, vmax=1.5)\n",
    "plt.colorbar(cb, label=\"new weekdark/pipeline weekdark\")"
   ]
  },
  {
   "cell_type": "markdown",
   "id": "4a3629c8",
   "metadata": {},
   "source": [
    "### Comparison With the Default Dark File\n",
    "When we collected the science data from MAST, the _crj and _sx1 data files are already calibrated using the default dark reference file. We can make a comparison between the calibrated images and spectra of the defualt dark file and our new Weekdark. As shown in the comparison, a hot pixel is removed from the _crj image at x $\\approx$ 605 and y $\\approx$ 185."
   ]
  },
  {
   "cell_type": "code",
   "execution_count": null,
   "id": "7ba3a2f2",
   "metadata": {},
   "outputs": [],
   "source": [
    "# Plot the calibrated _crj images\n",
    "# The left panel is the defalt _crj image from the pipline\n",
    "# the right panel is calibrated with our customized dark file\n",
    "plt.subplot(1, 2, 1)\n",
    "with fits.open(crj) as hdu:\n",
    "    ex1 = hdu[1].data\n",
    "    cb = plt.imshow(ex1, vmin=0, vmax=100)\n",
    "    plt.colorbar(cb, fraction=0.046, pad=0.04)\n",
    "    plt.xlim(550, 650)\n",
    "    plt.ylim(150, 250)\n",
    "    plt.title(\"Pipeline\")\n",
    "plt.subplot(1, 2, 2)\n",
    "with fits.open(\"./new_dark/oeik1s030_crj.fits\") as hdu:\n",
    "    ex1 = hdu[1].data\n",
    "    cb = plt.imshow(ex1, vmin=0, vmax=100)\n",
    "    plt.colorbar(cb, fraction=0.046, pad=0.04)\n",
    "    plt.xlim(550, 650)\n",
    "    plt.ylim(150, 250)\n",
    "    plt.title(\"Customized Dark\")\n",
    "plt.tight_layout()"
   ]
  },
  {
   "cell_type": "markdown",
   "id": "66a3b090",
   "metadata": {},
   "source": [
    "We can also visualize the flux difference in the _sx1 spectra in which we substrct the recalibrated spectrum by the pipeline spectrum:"
   ]
  },
  {
   "cell_type": "code",
   "execution_count": null,
   "id": "3ee9bd6f",
   "metadata": {},
   "outputs": [],
   "source": [
    "plt.figure(figsize=(20, 25))\n",
    "# get the spectrum of the default pipline _sx1 data\n",
    "pip = Table.read(\"./mastDownload/HST/oeik1s030/oeik1s030_sx1.fits\", 1)\n",
    "wl, pip_flux = pip[0][\"WAVELENGTH\", \"FLUX\"]\n",
    "# get the flux of the customized new_dark _sx1 data\n",
    "cus = Table.read(\"./new_dark/oeik1s030_sx1.fits\", 1)\n",
    "cus_wl, cus_flux = cus[0][\"WAVELENGTH\", \"FLUX\"]\n",
    "# interpolant flux so that the wavelengths matches\n",
    "interp_flux = np.interp(wl, cus_wl, cus_flux)\n",
    "# plot the pipeline spectrum\n",
    "plt.subplot(3, 1, 1)\n",
    "plt.plot(wl, pip_flux)\n",
    "plt.xlabel(\"Wavelength [Å]\")\n",
    "plt.ylabel(\"Flux [ergs/s/cm$^2$/Å]\")\n",
    "plt.title(\"Pipeline Spectrum\")\n",
    "# plot the pipeline spectrum\n",
    "plt.subplot(3, 1, 2)\n",
    "plt.plot(cus_wl, cus_flux)\n",
    "plt.xlabel(\"Wavelength [Å]\")\n",
    "plt.ylabel(\"Flux [ergs/s/cm$^2$/Å]\")\n",
    "plt.title(\"Recalibrated Spectrum\")\n",
    "# plot the spectra difference\n",
    "plt.subplot(3, 1, 3)\n",
    "plt.plot(wl, interp_flux-pip_flux)\n",
    "plt.xlabel(\"Wavelength [Å]\")\n",
    "plt.ylabel(\"Flux Difference [ergs/s/cm$^2$/Å]\")\n",
    "plt.title(\"Difference\")\n",
    "plt.tight_layout()"
   ]
  },
  {
   "cell_type": "markdown",
   "id": "c555ed6a",
   "metadata": {},
   "source": [
    "\n",
    "---\n",
    "## About this Notebook <a class=\"tocSkip\">\n",
    "**Author:** [Keyi Ding](kding@stsci.edu)\n",
    "\n",
    "**Updated On:** 2023-04-14\n",
    "\n",
    "\n",
    "> *This tutorial was generated to be in compliance with the [STScI style guides](https://github.com/spacetelescope/style-guides) and would like to cite the [Jupyter guide](https://github.com/spacetelescope/style-guides/blob/master/templates/example_notebook.ipynb) in particular.*\n",
    "## Citations <a class=\"tocSkip\">\n",
    "\n",
    "If you use `astropy`, `matplotlib`, `astroquery`, or `numpy` for published research, please cite the\n",
    "authors. Follow these links for more information about citations:\n",
    "\n",
    "* [Citing `astropy`/`numpy`/`matplotlib`](https://www.scipy.org/citing.html)\n",
    "* [Citing `astroquery`](https://astroquery.readthedocs.io/en/latest/)\n",
    "\n",
    "---\n",
    "\n",
    "[Top of Page](#top)\n",
    "<img style=\"float: right;\" src=\"https://raw.githubusercontent.com/spacetelescope/notebooks/master/assets/stsci_pri_combo_mark_horizonal_white_bkgd.png\" alt=\"Space Telescope Logo\" width=\"200px\"/> "
   ]
  }
 ],
 "metadata": {
  "kernelspec": {
   "display_name": "Python 3 (ipykernel)",
   "language": "python",
   "name": "python3"
  },
  "language_info": {
   "codemirror_mode": {
    "name": "ipython",
    "version": 3
   },
   "file_extension": ".py",
   "mimetype": "text/x-python",
   "name": "python",
   "nbconvert_exporter": "python",
   "pygments_lexer": "ipython3",
   "version": "3.7.10"
  },
  "toc": {
   "base_numbering": "1",
   "nav_menu": {},
   "number_sections": true,
   "sideBar": true,
   "skip_h1_title": true,
   "title_cell": "Learning Goals",
   "title_sidebar": "Contents",
   "toc_cell": true,
   "toc_position": {
    "height": "calc(100% - 180px)",
    "left": "10px",
    "top": "150px",
    "width": "409.6px"
   },
   "toc_section_display": true,
   "toc_window_display": true
  }
 },
 "nbformat": 4,
 "nbformat_minor": 5
}
