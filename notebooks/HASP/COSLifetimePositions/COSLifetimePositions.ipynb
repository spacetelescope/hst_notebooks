{
 "cells": [
  {
   "cell_type": "markdown",
   "id": "8346a078",
   "metadata": {},
   "source": [
    "# Combining COS Data from Multiple Lifetime Positions and Central Wavelengths"
   ]
  },
  {
   "cell_type": "markdown",
   "id": "1d2e317b",
   "metadata": {},
   "source": [
    "### <span style=\"font-weight:normal\">In this notebook, we will explore the implications of combining COS data taken at different lifetime positions and central wavelengths.</span>"
   ]
  },
  {
   "cell_type": "markdown",
   "id": "ad4bc17b",
   "metadata": {},
   "source": [
    "## Learning Goals: \n",
    "\n",
    "In this tutorial, you will learn \n",
    "\n",
    "- How the COS line-spread functions (LSFs) vary with central wavelength and lifetime position\n",
    "\n",
    "- How to smooth one COS spectrum to the resolution of another -- and the limits of this approach \n",
    "\n",
    "- How to construct a bespoke line-spread function appropriate for particular combination of spectra\n"
   ]
  },
  {
   "cell_type": "markdown",
   "id": "75d6e2e4",
   "metadata": {},
   "source": [
    "## Table of Contents\n",
    "**0. [Introduction](#introduction)**\n",
    "\n",
    "**1. [Download the COS Line-Spread Functions](#lsfdownload)**\n",
    "\n",
    "**2. [Define Functions for Later Use](#definitions)**\n",
    "\n",
    "**3. [Compare LSFs from Various Lifetime Positions and CENWAVEs](#comparelsfs)**\n",
    "\n",
    "\\- 3.1 [LSFs from Various Central Wavelenths](#cenwaves)\n",
    "\n",
    "\\- 3.2 [LSFs from Various Lifetime Positions](#lifetimes)\n",
    "\n",
    "**4. [Techniques for Combining Spectra with Different LSFs](#combining)**\n",
    "\n",
    "\\- 4.1 [Retrieve and Combine the Spectra](#getdata)\n",
    "\n",
    "\\- 4.2 [Fit each combination of grating, LSF, and CENWAVE separately](#separate)\n",
    "\n",
    "\\- 4.3 [Convolve the LP1 Spectrum to Match LP4](#convolve)\n",
    "\n",
    "\\- 4.4 [Construct a bespoke LSF for this spectral combination](#bespoke)"
   ]
  },
  {
   "cell_type": "markdown",
   "id": "a73ce7ef",
   "metadata": {},
   "source": [
    "<a id = introduction></a>\n",
    "## 0. Introduction"
   ]
  },
  {
   "cell_type": "markdown",
   "id": "40af9618",
   "metadata": {},
   "source": [
    "The [Hubble Advanced Spectral Products (HASP)](https://archive.stsci.edu/missions-and-data/hst/hasp) program provides co-added spectra within individual observing programs that use the [Space Telescope Imaging Spectrograph (STIS)](https://www.stsci.edu/hst/instrumentation/stis) and the [Cosmic Origins Spectrograph (COS)](https://www.stsci.edu/hst/instrumentation/cos) instruments onboard the [Hubble Space Telescope (HST)](https://www.stsci.edu/hst). The [Hubble Spectroscopic Legacy Archive (HSLA)](https://archive.stsci.edu/missions-and-data/hsla), goes one step farther, combining data from multiple instruments and observing programs to create spectra with the highest possible signal-to-noise and wavelength range.\n",
    "\n",
    "When analyzing any scientific measurement, it is important to consider all of the instrumental effects to which your data are subject.  In the case of imaging, point sources in the sky are broadened by the telescope and instrument optics.  In the case of spectroscopy, narrow absorption lines are broadened by the line-spread function (LSF; the shape imposed on an infinitely narrow line by the optics) of the spectrograph.  In most cases, the LSF of a spectrograph can be approximated by a Gaussian of known FHWM. For COS, the LSF is not a Gaussian; it has more power in the wings than a Gaussian of the same FWHM.  Ignoring this effect could lead one to under-estimate the flux in an emission line or the equivalent width of an absorption feature.  The COS LSF is described in [Section 3.3.1 of the COS Instrument Handbook](https://hst-docs.stsci.edu/cosihb/chapter-3-description-and-performance-of-the-cos-optics/3-3-the-cos-line-spread-function#id-3.3TheCOSLineSpreadFunction-Section3.3.13.3.1Non-GaussianityoftheCOSLSF).\n",
    "\n",
    "A second effect comes into play with both HASP and HSLA: the LSFs of spectra taken in the blue modes (CENWAVES 1055, 1096, and 1222) are considerably broader than those of spectra with CENWAVE 1291 and higher.  For full wavelength coverage, observers are instructed to use both CENWAVE 1222 and CENWAVE 1291.  But in the region where the resulting spectra overlap (from about 1100 to 1350 A), both HASP and HSLA simply co-add the two spectra, resulting in a hybrid LSF that complicates the analysis.\n",
    "\n",
    "A third effect:  Because the COS detector is susceptible to gain sag, the instrument is adjusted at regular intervals so that spectra fall on previously unilluminated regions of the detector, called lifetime positions (LPs).  Spectra taken at LP1 have the highest spectral resolution, while spectra taken at other LPs have successively lower resolution. The final product of the HSLA, a spectrum made by co-adding data from multiple observing programs, may contain data taken at multiple LPs, again resulting in a hybrid LSF.  These effects are illustrated in [Figure 3.7 of the COS Instrument Handbook](https://hst-docs.stsci.edu/cosihb/chapter-3-description-and-performance-of-the-cos-optics/3-3-the-cos-line-spread-function#id-3.3TheCOSLineSpreadFunction-Section3.3.23.3.2QuantifyingtheResolution).\n",
    "\n",
    "In this notebook, we will compare the COS LSFs from multiple CENWAVEs and lifetime positions to better understand these effects.  Then we will consider three ways to deal with them.  The first is not to use the final HASP and HSLA products at all, but to create products that contain data from a single grating, LP, and CENWAVE and fit them separately.  The second is to combine these single-configuration products into a co-added spectrum, first smoothing the higher-resolution spectra to the resolution of the lowest-resolution spectrum.  The third approach is to use the HASP/HSLA final products, but to scale and combine the relevant LSFs to match your data.\n",
    "\n",
    "By the way, the G130M and G160M gratings have different LSFs in the region of overlap, so everything in this notebook applies to the case of multiple gratings.  The difference is that neither HASP nor HSLA co-adds data from different instruments or gratings, so the final data products are immune to this effect."
   ]
  },
  {
   "cell_type": "markdown",
   "id": "2cbdc832",
   "metadata": {},
   "source": [
    "### Imports\n",
    "\n",
    "We will be using multiple libraries to retrieve and analyze data: \n",
    "* `astropy.units` to assign units to various quantities\n",
    "* `astropy.convolution.convolve` to convolve functions with a Gaussian\n",
    "* `astropy.io.ascii` and `fits` to work with ASCII and FITS files\n",
    "* `astropy.visualization.quantity_support` to put units on our plots\n",
    "* `astroquery.mast.Observations` to retrieve COS spectra from MAST\n",
    "* `glob` to work with multiple files in our directories\n",
    "* `matplotlib.pyplot` to plot spectra\n",
    "* `numpy` to calculate various values\n",
    "* `os` to interact with the operating system\n",
    "* `pathlib.Path` to create a data directory \n",
    "* `scipy.optimize.curve_fit` to fit a function to a spectrum\n",
    "* `shutil` to perform directory and file operations\n",
    "* `specutils.Spectrum1d` to create Spectrum1d objects\n",
    "\n",
    "We recommend creating a HASP-specific `conda` environment. You can check out our [Setup.ipynb](https://github.com/spacetelescope/hst_notebooks/tree/main/notebooks/HASP/Setup) notebook to create such an environment. \n",
    "\n",
    "Let's import all of the packages that we will use in this notebook by running the next cell:"
   ]
  },
  {
   "cell_type": "code",
   "execution_count": null,
   "id": "4334aa1c",
   "metadata": {},
   "outputs": [],
   "source": [
    "%matplotlib inline\n",
    "\n",
    "import glob\n",
    "import matplotlib\n",
    "import numpy as np\n",
    "import os\n",
    "import shutil\n",
    "import urllib\n",
    "\n",
    "from astropy.convolution import convolve\n",
    "from astropy.io import ascii, fits\n",
    "from astropy.visualization import quantity_support\n",
    "from astroquery.mast import Observations\n",
    "from matplotlib import pyplot as plt\n",
    "from pathlib import Path\n",
    "from scipy.optimize import curve_fit\n",
    "\n",
    "# Specify plot parameters.\n",
    "quantity_support()  # to put units on the axes below \n",
    "matplotlib.rcParams['figure.figsize'] = [15, 5]"
   ]
  },
  {
   "cell_type": "markdown",
   "id": "6dd2dbfd",
   "metadata": {},
   "source": [
    "<a id = lsfdownload></a>\n",
    "## 1. Download the COS Line-Spread Functions"
   ]
  },
  {
   "cell_type": "markdown",
   "id": "6bdca358",
   "metadata": {},
   "source": [
    "From the [COS homepage](https://www.stsci.edu/hst/instrumentation/cos/performance/spectral-resolution), you can find all the [COS Line Spread Functions](https://www.stsci.edu/hst/instrumentation/cos/performance/spectral-resolution).  They are all located in tables containing the various LSFs entitled \"Tabulated Theoretical Line Spread Functions\" for each individual lifetime position. We will use Python to create a directory to store the LSFs we need, and then download the following LSF files: \n",
    "\n",
    "- The LSFs for grating G130M across all lifetime positions (1-5) for central wavelength 1291\n",
    "- The LSFs for grating G130M for LP2 and central wavelengths 1055, 1096, 1222, and 1327\n",
    "- The LSF for G130M for LP4 and central wavelength 1309\n"
   ]
  },
  {
   "cell_type": "code",
   "execution_count": null,
   "id": "ec66bb25",
   "metadata": {},
   "outputs": [],
   "source": [
    "# Define the LSF directory to hold the files.\n",
    "lsf_dir = Path(\"./LSF/\")\n",
    "\n",
    "# If the directory doesn't exist, then create it.\n",
    "lsf_dir.mkdir(exist_ok=True)"
   ]
  },
  {
   "cell_type": "code",
   "execution_count": null,
   "id": "028c2e9b",
   "metadata": {},
   "outputs": [],
   "source": [
    "# Create a function that downloads the LSF files we need based on grating, lifetime position, and cenwave. \n",
    "\n",
    "def fetch_files(grating, lpPos, cenwave):\n",
    "    # Link to where all the files live\n",
    "    COS_site_rootname = (\n",
    "        \"https://www.stsci.edu/files/live/sites/www/files/home/hst/instrumentation/cos/\"\n",
    "        \"performance/spectral-resolution/_documents/\")\n",
    "    \n",
    "    LSF_file_name = f\"aa_LSFTable_{grating}_{cenwave}_LP{lpPos}_cn.dat\"\n",
    "    \n",
    "    LSF_file_webpath = COS_site_rootname + LSF_file_name  # Where to find file online\n",
    "    urllib.request.urlretrieve(\n",
    "        LSF_file_webpath, str(lsf_dir / LSF_file_name)\n",
    "    )  # Where to save file to locally"
   ]
  },
  {
   "cell_type": "code",
   "execution_count": null,
   "id": "383efd04",
   "metadata": {},
   "outputs": [],
   "source": [
    "# Use this function to download the LSF files \n",
    "# LSFs for grating G130M and central wavelength 1291, across all lifetime positions (1-5)\n",
    "fetch_files('G130M', '1', '1291')\n",
    "fetch_files('G130M', '2', '1291')\n",
    "fetch_files('G130M', '3', '1291')\n",
    "fetch_files('G130M', '4', '1291')\n",
    "fetch_files('G130M', '5', '1291')\n",
    "\n",
    "# LSFs for G130M LP2 central wavelengths 1055, 1096, 1222, and 1327\n",
    "fetch_files('G130M', '2', '1055')\n",
    "fetch_files('G130M', '2', '1096')\n",
    "fetch_files('G130M', '2', '1222')\n",
    "fetch_files('G130M', '2', '1327')\n",
    "\n",
    "# LSFs for G130M LP1/LP4 central wavelength 1309\n",
    "fetch_files('G130M', '1', '1309')\n",
    "fetch_files('G130M', '4', '1309')"
   ]
  },
  {
   "cell_type": "markdown",
   "id": "0829f7ad",
   "metadata": {},
   "source": [
    "<a id = definitions></a>\n",
    "## 2. Define Functions for Later Use\n",
    "Here we define a handful of functions that we will use later."
   ]
  },
  {
   "cell_type": "code",
   "execution_count": null,
   "id": "b39eb8c8",
   "metadata": {},
   "outputs": [],
   "source": [
    "# Function to compute emperical FWHM of a LSF\n",
    "def get_fwhm(x, y):\n",
    "    xprime = np.arange(x.size * 10.) / 10.\n",
    "    yprime = np.interp(xprime, x, y)\n",
    "    center = np.argmax(yprime)\n",
    "    \n",
    "    half = np.max(y) / 2.\n",
    "    diff = abs(yprime - half)\n",
    "    x1 = np.argmin(diff[:center])\n",
    "    x2 = np.argmin(diff[center:]) + center\n",
    "    return (x2 - x1)/10"
   ]
  },
  {
   "cell_type": "code",
   "execution_count": null,
   "id": "18da9f05",
   "metadata": {},
   "outputs": [],
   "source": [
    "# Function to compute a Gaussian given the value of sigma\n",
    "def get_gaussian(sigma):\n",
    "    length = int(8 * sigma)\n",
    "    # Kernel length must be odd.\n",
    "    if (length % 2 == 0):\n",
    "        length += 1\n",
    "    xx = np.arange(length)\n",
    "    mu = int(length / 2)\n",
    "    x = (xx - mu)/sigma\n",
    "    return np.exp(-0.5 * x**2)"
   ]
  },
  {
   "cell_type": "code",
   "execution_count": null,
   "id": "7c5bdce0",
   "metadata": {},
   "outputs": [],
   "source": [
    "# Function to read an LSF file\n",
    "def get_lsf(filename, wave):\n",
    "    table = ascii.read(filename, format='basic')\n",
    "    lsf = table[str(wave)]\n",
    "    x = np.arange(lsf.size)\n",
    "\n",
    "    fwhm = get_fwhm(x, lsf)\n",
    "    d130 = 0.01\n",
    "    resolution = wave / fwhm / d130\n",
    "\n",
    "    return lsf, resolution, fwhm"
   ]
  },
  {
   "cell_type": "code",
   "execution_count": null,
   "id": "1b0aee36",
   "metadata": {},
   "outputs": [],
   "source": [
    "# Define an LSF object, which we will use when convolving an LSF with a Gaussian.\n",
    "class LSF(object):\n",
    "    def __init__(self):\n",
    "        self.lsf = []\n",
    "\n",
    "    def add_lsf(self, wave, lsf):\n",
    "        self.wave = wave\n",
    "        self.lsf = lsf\n",
    "\n",
    "    def my_func(self, data_wave, sigma):\n",
    "        \"\"\"\n",
    "        This function convolves a line-spread function with a Gaussian of a given width (sigma).\n",
    "        \"\"\"     \n",
    "        gauss = get_gaussian(sigma)              # Compute Gaussian in LP1 pixels.\n",
    "        a = convolve(self.lsf, gauss)            # Convolve LP1 LSF with Gaussian.\n",
    "        return a/np.sum(a)                       # Normalize new LSF."
   ]
  },
  {
   "cell_type": "markdown",
   "id": "8734b09c",
   "metadata": {},
   "source": [
    "<a id = comparelsfs></a>\n",
    "## 3. Compare LSFs from Various Lifetime Positions and CENWAVEs"
   ]
  },
  {
   "cell_type": "markdown",
   "id": "a71b9526",
   "metadata": {},
   "source": [
    "<a id = cenwaves></a>\n",
    "### 3.1 LSFs from Various Central Wavelenths\n",
    "\n",
    "First, let's see how much the LSF changes from one CENWAVE to another.  We'll start at 1200 A, then move to 1350 A."
   ]
  },
  {
   "cell_type": "code",
   "execution_count": null,
   "id": "2c8a1c82",
   "metadata": {},
   "outputs": [],
   "source": [
    "# Read LSF file for G130M, LP2, cenwave = 1222, lambda = 1194\n",
    "\n",
    "lsf_1055, res_1055, fwhm_1055 = get_lsf('LSF/aa_LSFTable_G130M_1055_LP2_cn.dat', 1194)\n",
    "\n",
    "# Read LSF file for G130M, LP2, cenwave = 1222, lambda = 1195\n",
    "\n",
    "lsf_1096, res_1096, fwhm_1096 = get_lsf('LSF/aa_LSFTable_G130M_1096_LP2_cn.dat', 1195)\n",
    "\n",
    "# Read LSF file for G130M, LP2, cenwave = 1222, lambda = 1197\n",
    "\n",
    "lsf_1222, res_1222, fwhm_1222 = get_lsf('LSF/aa_LSFTable_G130M_1222_LP2_cn.dat', 1197)\n",
    "\n",
    "# Read LSF file for G130M, LP2, cenwave = 1291, lambda = 1194\n",
    "\n",
    "lsf_1291, res_1291, fwhm_1291 = get_lsf('LSF/aa_LSFTable_G130M_1291_LP2_cn.dat', 1194)\n",
    "\n",
    "# Read LSF files for G130M, LP2, cenwave = 1327, lambda = 1197\n",
    "\n",
    "lsf_1327, res_1327, fwhm_1327 = get_lsf('LSF/aa_LSFTable_G130M_1327_LP2_cn.dat', 1197)\n",
    "\n",
    "x = np.arange(lsf_1291.size)\n",
    "\n",
    "print('CENWAVE Res  FWHM (pix)     ')\n",
    "print('1055   ', int(res_1055), fwhm_1055)\n",
    "print('1096   ', int(res_1096), fwhm_1096)\n",
    "print('1222   ', int(res_1222), fwhm_1222)\n",
    "print('1291   ', int(res_1291), fwhm_1291)\n",
    "print('1327   ', int(res_1327), fwhm_1327)\n",
    "\n",
    "f, ax = plt.subplots() \n",
    "plt.plot(x, lsf_1055, label='1055')\n",
    "plt.plot(x, lsf_1096, label='1096')\n",
    "plt.plot(x, lsf_1222, label='1222')\n",
    "plt.plot(x, lsf_1291, label='1291')\n",
    "plt.plot(x, lsf_1327, label='1327')\n",
    "plt.title('COS LSFs at 1200 Angstroms')\n",
    "ax.legend()\n",
    "ax.set_xlim([120, 200])"
   ]
  },
  {
   "cell_type": "markdown",
   "id": "9a7a1670",
   "metadata": {},
   "source": [
    "1200 A represents the red end of the CENWAVE 1055 and 1096 spectra.  In this region, their LSFs are completely different from those of the bluer modes.  This matters because HASP and HSLA co-add spectra with all available CENWAVEs.  At wavelengths where the LSFs differ, spectral lines in the combined spectra could have unexpected shapes."
   ]
  },
  {
   "cell_type": "code",
   "execution_count": null,
   "id": "6e218305",
   "metadata": {},
   "outputs": [],
   "source": [
    "# Read LSF file for G130M, LP2, cenwave = 1222, lambda = 1352\n",
    "\n",
    "lsf_1222, res_1222, fwhm_1222 = get_lsf('LSF/aa_LSFTable_G130M_1222_LP2_cn.dat', 1352)\n",
    "\n",
    "# Read LSF file for G130M, LP2, cenwave = 1291, lambda = 1350\n",
    "\n",
    "lsf_1291, res_1291, fwhm_1291 = get_lsf('LSF/aa_LSFTable_G130M_1291_LP2_cn.dat', 1350)\n",
    "\n",
    "# Read LSF files for G130M, LP2, cenwave = 1327, lambda = 1351\n",
    "\n",
    "lsf_1327, res_1327, fwhm_1327 = get_lsf('LSF/aa_LSFTable_G130M_1327_LP2_cn.dat', 1351)\n",
    "\n",
    "x = np.arange(lsf_1291.size)\n",
    "\n",
    "print('CENWAVE Res  FWHM (pix)     ')\n",
    "print('1222   ', int(res_1222), fwhm_1222)\n",
    "print('1291   ', int(res_1291), fwhm_1291)\n",
    "print('1327   ', int(res_1327), fwhm_1327)\n",
    "\n",
    "f, ax = plt.subplots() \n",
    "plt.plot(x, lsf_1222, label='1222')\n",
    "plt.plot(x, lsf_1291, label='1291')\n",
    "plt.plot(x, lsf_1327, label='1327')\n",
    "plt.title('COS LSFs at 1350 Angstroms')\n",
    "ax.legend()\n",
    "ax.set_xlim([140, 180])"
   ]
  },
  {
   "cell_type": "markdown",
   "id": "2b311527",
   "metadata": {},
   "source": [
    "At 1350 A, we are at the red end of the CENWAVE 1222 spectrum.  Again, its LSF is much broader than those of the redder CENWAVEs.  If you need the highest possible spectral resolution, then you don't want to co-add spectra taken in the blue modes (CENWAVE 1055, 1096, or 1222) with those taken in the standard modes (CENWAVE >= 1291).\n",
    "\n",
    "Which CENWAVEs contribute to the final HASP/HSLA spectrum?  Information about the CENWAVE is lost early in HASP processing.  It is not included in the HSLA metadata files.  The metadata files do list the minimum wavelength contributed by each grating/LP combination; values smaller than 1400 A indicate that at least one of the input spectra has CENWAVE <= 1222."
   ]
  },
  {
   "cell_type": "markdown",
   "id": "32c256a4",
   "metadata": {},
   "source": [
    "<a id = lifetimes></a>\n",
    "### 3.2 LSFs from Various Lifetime Positions"
   ]
  },
  {
   "cell_type": "markdown",
   "id": "f37e1500",
   "metadata": {},
   "source": [
    "The COS LSF varies with lifetime position as well as with CENWAVE.  To explore this effect, we read the LSFs for lifetime positions 1 through 5, compute their resolution and FWHM, and plot them."
   ]
  },
  {
   "cell_type": "code",
   "execution_count": null,
   "id": "b1dd71f3",
   "metadata": {},
   "outputs": [],
   "source": [
    "# Read LSF files for G130M, cenwave = 1291, lambda = 1300\n",
    "\n",
    "lsf_lp1, res_lp1, fwhm_lp1 = get_lsf('LSF/aa_LSFTable_G130M_1291_LP1_cn.dat', 1300)\n",
    "lsf_lp2, res_lp2, fwhm_lp2 = get_lsf('LSF/aa_LSFTable_G130M_1291_LP2_cn.dat', 1300)\n",
    "lsf_lp3, res_lp3, fwhm_lp3 = get_lsf('LSF/aa_LSFTable_G130M_1291_LP3_cn.dat', 1300)\n",
    "lsf_lp4, res_lp4, fwhm_lp4 = get_lsf('LSF/aa_LSFTable_G130M_1291_LP4_cn.dat', 1300)\n",
    "lsf_lp5, res_lp5, fwhm_lp5 = get_lsf('LSF/aa_LSFTable_G130M_1291_LP5_cn.dat', 1300)\n",
    "\n",
    "print('LP  Res  FWHM (pixels)')\n",
    "print('1  ', int(res_lp1), fwhm_lp1)\n",
    "print('2  ', int(res_lp2), fwhm_lp2)\n",
    "print('3  ', int(res_lp3), fwhm_lp3)\n",
    "print('4  ', int(res_lp4), fwhm_lp4)\n",
    "print('5  ', int(res_lp5), fwhm_lp5)\n",
    "\n",
    "f, ax = plt.subplots() \n",
    "x = np.arange(lsf_lp1.size)\n",
    "plt.plot(x, lsf_lp1, label='LP1')\n",
    "plt.plot(x, lsf_lp2, label='LP2')\n",
    "plt.plot(x, lsf_lp3, label='LP3')\n",
    "plt.plot(x, lsf_lp4, label='LP4')\n",
    "plt.plot(x, lsf_lp5, label='LP5')\n",
    "plt.title('COS LSFs at 1300 Angstroms')\n",
    "ax.legend()\n",
    "ax.set_xlim([140, 180])"
   ]
  },
  {
   "cell_type": "markdown",
   "id": "0361f8f3",
   "metadata": {},
   "source": [
    "We see that there are three families of LSF curves, corresponding to their distance from LP1.  LP1 itself has the highest resolution.  LP2 and LP3, which lie immediately above and below LP1 on the COS detector, have slightly lower resolution.  LP4 and LP5, which are still farther from LP1, have the lowest resolution.\n",
    "\n",
    "While the peaks of these curves shift to the left with increasing LP number, all five have the same mean value.  This is because, as the curves broaden, more of the flux moves into the wings on the right-hand side of the distribution.\n",
    "\n",
    "If your science requires that you understand the subtleties of the instrumental line-spread function, then you should proceed carefully when combining data taken at multiple lifetime positions.  We consider two techniques for doing this below."
   ]
  },
  {
   "cell_type": "markdown",
   "id": "a832e923",
   "metadata": {},
   "source": [
    "<a id = combining></a>\n",
    "## 4. Techniques for Combining Spectra with Different LSFs"
   ]
  },
  {
   "cell_type": "markdown",
   "id": "acf5a4e7",
   "metadata": {
    "execution": {
     "iopub.execute_input": "2024-04-19T16:53:08.527855Z",
     "iopub.status.busy": "2024-04-19T16:53:08.527492Z",
     "iopub.status.idle": "2024-04-19T16:53:11.166493Z",
     "shell.execute_reply": "2024-04-19T16:53:11.165925Z"
    }
   },
   "source": [
    "<a id = getdata></a>\n",
    "### 4.1 Retrieve and Combine the Spectra\n",
    "The star WD0308-565 (WG 7) is a calibration standard.  Let's use spectra taken at two lifetime positions.  For maximum contrast, we will use LP1 and LP4.  \n",
    "We begin by setting up our directory structure and querying the MAST database for all COS spectra of the star. This will give us a list of all observations for the program."
   ]
  },
  {
   "cell_type": "code",
   "execution_count": null,
   "id": "d5a4b2a1",
   "metadata": {},
   "outputs": [],
   "source": [
    "# Define the data-download directory.\n",
    "cos_data_dir = Path(\"./cos_data/\")\n",
    "# Define the products directory to hold the output.\n",
    "cos_products_dir = Path(\"./cos_products/\")\n",
    "\n",
    "# If the directories doesn't exist, then create them.\n",
    "cos_data_dir.mkdir(exist_ok=True)\n",
    "cos_products_dir.mkdir(exist_ok=True)"
   ]
  },
  {
   "cell_type": "code",
   "execution_count": null,
   "id": "77469be9",
   "metadata": {},
   "outputs": [],
   "source": [
    "# Conduct the query\n",
    "wg7_products = Observations.get_product_list(\n",
    "    Observations.query_criteria(\n",
    "        instrument_name='COS',\n",
    "        target_name='WD*0308-565',\n",
    "        dataproduct_type=\"SPECTRUM\"\n",
    "    )\n",
    ")"
   ]
  },
  {
   "cell_type": "markdown",
   "id": "aa19d244",
   "metadata": {},
   "source": [
    "This query returns all available data, but we want only the x1d files of spectra taken with the G130M grating.  (This takes a few minutes, so be patient.)"
   ]
  },
  {
   "cell_type": "code",
   "execution_count": null,
   "id": "b390c561",
   "metadata": {},
   "outputs": [],
   "source": [
    "Observations.download_products(\n",
    "    wg7_products,\n",
    "    download_dir=str(cos_data_dir),\n",
    "    filters='G130M',\n",
    "    productSubGroupDescription=[\"X1D\"]\n",
    ")"
   ]
  },
  {
   "cell_type": "markdown",
   "id": "902f9ce3",
   "metadata": {},
   "source": [
    "When we download data using astroquery, it creates a directory called mastDownload/HST. Each dataset goes into a separate subfolder within that directory.  Before running the combination script, we must move all of the x1d files into a single directory. "
   ]
  },
  {
   "cell_type": "code",
   "execution_count": null,
   "id": "d6e26ca4",
   "metadata": {},
   "outputs": [],
   "source": [
    "# The path to all obs_id folders\n",
    "mast_path = f\"{cos_data_dir}/mastDownload/HST/\"\n",
    "\n",
    "# Check if mastDownload exists\n",
    "if not os.path.exists(mast_path):\n",
    "    print(f\"Directory {mast_path} doesn't exist.\")\n",
    "\n",
    "# Getting a list of all obs_id folders. Each folder contains the FITS files\n",
    "obs_id_dirs = os.listdir(mast_path)\n",
    "\n",
    "# Iterating through sub-folders to change the path of each FITS file\n",
    "for obs_id in obs_id_dirs:\n",
    "    # This is the path to each obs_id folder\n",
    "    obs_id_path = os.path.join(mast_path, obs_id)\n",
    "\n",
    "    # Getting list of FITS files in /mastDownload/HST/<obs_id> folder\n",
    "    cos_files = glob.glob(obs_id_path + \"/*fits\")\n",
    "\n",
    "    # Iterating through each of these files to change their path individually\n",
    "    # We will be moving them to /cos_data\n",
    "    for file in cos_files:\n",
    "        file_path = Path(file)\n",
    "        new_path = cos_data_dir / file_path.name\n",
    "        shutil.move(file, new_path)\n",
    "\n",
    "# Now we can remove the mastDownload directory\n",
    "if os.path.exists(mast_path):\n",
    "    shutil.rmtree(f\"{cos_data_dir}/mastDownload/\")"
   ]
  },
  {
   "cell_type": "markdown",
   "id": "ce316550",
   "metadata": {},
   "source": [
    "We want only the files taken at lifetime positions 1 and 4 and with CENWAVE > 1250, so delete everything else."
   ]
  },
  {
   "cell_type": "code",
   "execution_count": null,
   "id": "4a7f73cf",
   "metadata": {},
   "outputs": [],
   "source": [
    "cos_files = glob.glob('./cos_data/*fits')\n",
    "\n",
    "for file in cos_files:\n",
    "    hdr = fits.getheader(file)\n",
    "    cenwave = hdr['CENWAVE']\n",
    "    life_adj = hdr['LIFE_ADJ']\n",
    "\n",
    "    if (cenwave < 1250):\n",
    "        os.remove(file)\n",
    "        continue\n",
    "        \n",
    "    if not ((life_adj == 1) or (life_adj == 4)):\n",
    "        os.remove(file)"
   ]
  },
  {
   "cell_type": "markdown",
   "id": "6a16a077",
   "metadata": {},
   "source": [
    "Now that we’ve retrieved and filtered the spectra, we can run the co-add script.\n",
    "\n",
    "In a terminal window, execute the following command (or run the cell below). \n",
    "\n",
    "`swrapper -i cos_data -o cos_products -x`\n",
    "\n",
    "The -i parameter is the input directory (i.e, where the FITS files are located), while -o indicates the directory that will contain the newly created co-added products.  -x tells the program to keep the intermediate products.\n",
    "\n",
    "Make sure that you are in the hasp-env conda environment that we created at the beginning of the notebook."
   ]
  },
  {
   "cell_type": "code",
   "execution_count": null,
   "id": "f6d8abe6-e4a9-4541-842d-06fc5fd61210",
   "metadata": {},
   "outputs": [],
   "source": [
    "! swrapper -i cos_data -o cos_products -x"
   ]
  },
  {
   "cell_type": "code",
   "execution_count": null,
   "id": "c3409b7c",
   "metadata": {},
   "outputs": [],
   "source": [
    "# Read the combined spectra for each lifetime position.\n",
    "\n",
    "tbdata = fits.getdata('cos_products/hst_cos_cos-data_g130m-lp01_cspec.fits')\n",
    "lp1_wave = tbdata['wavelength'][0]\n",
    "lp1_flux = tbdata['flux'][0]\n",
    "lp1_exp = tbdata['eff_exptime'][0]\n",
    "\n",
    "tbdata = fits.getdata('cos_products/hst_cos_cos-data_g130m-lp04_cspec.fits')\n",
    "lp4_wave = tbdata['wavelength'][0]\n",
    "lp4_flux = tbdata['flux'][0]\n",
    "lp4_exp = tbdata['eff_exptime'][0]"
   ]
  },
  {
   "cell_type": "code",
   "execution_count": null,
   "id": "fbb268e2",
   "metadata": {},
   "outputs": [],
   "source": [
    "# Plot the spectra.\n",
    "\n",
    "f, ax = plt.subplots()\n",
    "ax.plot(lp1_wave, lp1_flux, label='LP1') \n",
    "ax.plot(lp4_wave, lp4_flux, label='LP4') \n",
    "ax.legend()\n",
    "ax.set_xlim(1333, 1338)\n",
    "ax.set_ylim([0, 3e-13])\n",
    "ax.set_xlabel('Wavelength ($\\\\mathrm{\\\\AA}$)')\n",
    "ax.set_ylabel('Flux (erg cm$^{-2}$ s$^{-1}$ $\\\\mathrm{\\\\AA}^{-1}$)')"
   ]
  },
  {
   "cell_type": "markdown",
   "id": "e15ac434",
   "metadata": {},
   "source": [
    "<a id = separate></a>\n",
    "### 4.2 Fit each combination of grating, LSF, and CENWAVE separately\n",
    "When dealing with spectra obtained using multiple instrument configurations, the most accurate results are produced, not by summing the spectra to maximize the S/N ratio, but by fitting each spectrum separately, using the LSF appropriate for that configuration.  In this example, we could either fit our models to the LP1 and LP4 spectra separately and average the results or tweak our code to fit the two spectra simultaneously.  In either case, we would use the LSF for CENWAVE 1339 (the average CENWAVE for the red modes) and the appropriate lifetime position."
   ]
  },
  {
   "cell_type": "markdown",
   "id": "bff8a585",
   "metadata": {},
   "source": [
    "<a id = convolve></a>\n",
    "### 4.3 Convolve the LP1 Spectrum to Match LP4\n",
    "Another approach is to reduce the resolution of the LP1 spectrum to match that of the LP4 spectrum.  We use the LSFs of the two spectra to derive a Gaussian that converts the LSF for LP1 into that for LP2, then convolve the LP1 spectrum with this Gaussian."
   ]
  },
  {
   "cell_type": "code",
   "execution_count": null,
   "id": "2cf37476",
   "metadata": {},
   "outputs": [],
   "source": [
    "# We are interested in lines near 1335 A, so let's read the corresponding LSFs.\n",
    "\n",
    "lsf_lp1, res_lp1, fwhm_lp1 = get_lsf('LSF/aa_LSFTable_G130M_1309_LP1_cn.dat', 1333)\n",
    "lsf_lp4, res_lp4, fwhm_lp4 = get_lsf('LSF/aa_LSFTable_G130M_1309_LP4_cn.dat', 1333)\n",
    "lsf_wave = 0.01 * (np.arange(321) - 160)\n",
    "\n",
    "f, ax = plt.subplots()\n",
    "ax.plot(lsf_wave, lsf_lp1, label='LP1') \n",
    "ax.plot(lsf_wave, lsf_lp4, label='LP4') \n",
    "ax.legend()\n",
    "ax.set_xlim(-0.3, 0.3)"
   ]
  },
  {
   "cell_type": "code",
   "execution_count": null,
   "id": "df8f9f02",
   "metadata": {},
   "outputs": [],
   "source": [
    "# Construct an LSF object to hold the LP1 LSF,  Then find the Gaussian that, \n",
    "# when convolved with the LP1 LSF, best reproduces LP4.\n",
    "\n",
    "s = LSF()\n",
    "s.add_lsf(lsf_wave, lsf_lp1)\n",
    "\n",
    "p0 = [1.]\n",
    "popt, pcov = curve_fit(s.my_func, lsf_wave, lsf_lp4, p0=p0)\n",
    "sigma = popt[0]\n",
    "convolution = s.my_func(lsf_wave, sigma)\n",
    "print('sigma = ', sigma)"
   ]
  },
  {
   "cell_type": "code",
   "execution_count": null,
   "id": "25bbf8dc",
   "metadata": {},
   "outputs": [],
   "source": [
    "# In this plot, the curve labeled \"Convolution\" is the LP1 LSF convolved with a Gaussian to reproduce the LP4 LSF.\n",
    "\n",
    "f, ax = plt.subplots()\n",
    "ax.plot(lsf_wave, lsf_lp1, label='LP1') \n",
    "ax.plot(lsf_wave, lsf_lp4, label='LP4') \n",
    "ax.plot(lsf_wave, convolution, label='Convolution')\n",
    "ax.legend()\n",
    "ax.set_xlabel('Wavelength ($\\\\mathrm{\\\\AA}$)')\n",
    "ax.set_xlim(-0.3, 0.3)"
   ]
  },
  {
   "cell_type": "code",
   "execution_count": null,
   "id": "20ed966a",
   "metadata": {},
   "outputs": [],
   "source": [
    "# Plot the residuals.\n",
    "\n",
    "res = lsf_lp4 - convolution\n",
    "\n",
    "f, ax = plt.subplots() \n",
    "plt.plot(lsf_wave, res)\n",
    "ax.set_xlim([-0.3, 0.3])\n",
    "ax.set_xlabel('Wavelength ($\\\\mathrm{\\\\AA}$)')\n",
    "r1 = res\n",
    "\n",
    "# The largest deviation is about 8%.\n",
    "# It may be possible to devise a kernel that does a better job, but this is fine for now."
   ]
  },
  {
   "cell_type": "code",
   "execution_count": null,
   "id": "bc5a7ed5",
   "metadata": {},
   "outputs": [],
   "source": [
    "# Now convolve the LP1 spectrum with our best-fit Gaussian.\n",
    "   \n",
    "gauss = get_gaussian(sigma)\n",
    "out = convolve(lp1_flux, gauss)\n",
    "\n",
    "# Plot the smoothed LP1 spectrum and the LP4 spectrum.\n",
    "\n",
    "f, ax = plt.subplots() \n",
    "plt.plot(lp1_wave, out, label='Smoothed LP1')\n",
    "plt.plot(lp4_wave, lp4_flux, label='LP4')\n",
    "ax.legend()\n",
    "ax.set_xlim(1333, 1338)\n",
    "ax.set_ylim([0, 3e-13])\n",
    "ax.set_ylabel('Flux ($10^{-13}$ erg cm$^{-2}$ s$^{-1}$ $\\\\mathrm{\\\\AA}^{-1}$)')\n",
    "ax.set_xlabel('Wavelength ($\\\\mathrm{\\\\AA}$)')"
   ]
  },
  {
   "cell_type": "markdown",
   "id": "0df7e969",
   "metadata": {},
   "source": [
    "The good thing about this approach is that, in the region of overlap, the tabulated LP4 LSF functions can be used without modification.  The bad thing is that convolution by a Gaussian this broad smooths the data to an unacceptable degree.  Also, when the data are smoothed, the pixel values are no longer independent, and the errors are correlated.  Given these problems, this approach is not recommended."
   ]
  },
  {
   "cell_type": "markdown",
   "id": "ce64cd4e",
   "metadata": {},
   "source": [
    "<a id = bespoke></a>\n",
    "### 4.4 Construct a bespoke LSF for this spectral combination\n",
    "The third option is to sum the two spectra and construct a new LSF to match.  We already have the summed spectrum.  It is the final product of the coadd script.  \n",
    "Note that this spectrum contains only LP1 and LP4 data taken in the standard modes (CENWAVE > 1250 A).  A spectrum retrieved from MAST would contain data from all lifetime positions and central wavelengths."
   ]
  },
  {
   "cell_type": "code",
   "execution_count": null,
   "id": "a82df9b1",
   "metadata": {},
   "outputs": [],
   "source": [
    "tbdata = fits.getdata('cos_products/hst_cos-data_aspec.fits')\n",
    "combo_wave = tbdata['wavelength'][0]\n",
    "combo_flux = tbdata['flux'][0]"
   ]
  },
  {
   "cell_type": "code",
   "execution_count": null,
   "id": "08e0fb77",
   "metadata": {},
   "outputs": [],
   "source": [
    "# Determine the exposure times for each lifetime position.\n",
    "\n",
    "lp1_exptime = np.mean(lp1_exp[np.where((lp1_wave > 1333) & (lp1_wave < 1338))])\n",
    "lp4_exptime = np.mean(lp4_exp[np.where((lp4_wave > 1333) & (lp4_wave < 1338))])\n",
    "print('LP1 exposure time:', lp1_exptime)\n",
    "print('LP4 exposure time:', lp4_exptime)"
   ]
  },
  {
   "cell_type": "code",
   "execution_count": null,
   "id": "ec7eb779",
   "metadata": {},
   "outputs": [],
   "source": [
    "# Plot the individual and combined spectra.\n",
    "\n",
    "f, ax = plt.subplots()  \n",
    "ax.plot(combo_wave, combo_flux, label='Combo') \n",
    "ax.plot(lp1_wave, lp1_flux, label='LP1') \n",
    "ax.plot(lp4_wave, lp4_flux, label='LP4') \n",
    "ax.set_xlim(1333, 1338)\n",
    "ax.set_ylim([0, 3e-13])\n",
    "ax.set_ylabel('Flux ($10^{-13}$ erg cm$^{-2}$ s$^{-1}$ $\\\\mathrm{\\\\AA}^{-1}$)')\n",
    "ax.set_xlabel('Wavelength ($\\\\mathrm{\\\\AA}$)')\n",
    "ax.legend()"
   ]
  },
  {
   "cell_type": "markdown",
   "id": "578f33aa",
   "metadata": {},
   "source": [
    "In this case, the exposure time of the LP4 spectrum is four times that of the LP1 spectrum, so the combined spectrum looks a lot like the (lower-resolution) LP4 spectrum, but you get the idea.\n",
    "\n",
    "This approach maintains the full resolution of the LP1 spectrum and the statistical independence of each pixel.  To construct an LSF for the combined spectrum, we scale and combine the LSFs, weighting by the exposure time."
   ]
  },
  {
   "cell_type": "code",
   "execution_count": null,
   "id": "a3d467a0",
   "metadata": {},
   "outputs": [],
   "source": [
    "lsf_combo = (lsf_lp1 * lp1_exptime + lsf_lp4 * lp4_exptime) / (lp1_exptime + lp4_exptime)\n",
    "\n",
    "f, ax = plt.subplots() \n",
    "plt.plot(lsf_wave, lsf_lp1, label='LP1')\n",
    "plt.plot(lsf_wave, lsf_lp4, label='LP4')\n",
    "plt.plot(lsf_wave, lsf_combo, label='Combo')\n",
    "ax.legend()\n",
    "ax.set_xlim([-0.3, 0.3])\n",
    "ax.set_xlabel('Wavelength ($\\\\mathrm{\\\\AA}$)')"
   ]
  },
  {
   "cell_type": "markdown",
   "id": "31e2772d",
   "metadata": {},
   "source": [
    "If you have a synthetic spectrum, you can convolve it with the combined LSF to reproduce the features in the combined spectrum.  Of course, this LSF is valid only for the region around 1335 A.  You must construct separate LSFs for each spectral feature."
   ]
  },
  {
   "cell_type": "markdown",
   "id": "c85800c3",
   "metadata": {},
   "source": [
    "# Congrats on completing the notebook!\n",
    "\n",
    "### There are more tutorial notebooks in [this notebooks repo](https://github.com/spacetelescope/hst_notebooks/tree/main/notebooks/HASP).  Check them out!"
   ]
  },
  {
   "cell_type": "markdown",
   "id": "551c86c8",
   "metadata": {},
   "source": [
    "## About this Notebook\n",
    "**Authors:** Van Dixon (dixon@stsci.edu)\n",
    "\n",
    "**Editor:** Anna Payne (apayne@stsci.edu\n",
    "\n",
    "**Updated on:** May 2025 \n",
    "\n",
    "*This tutorial was generated to be in compliance with the [STScI style guides](https://github.com/spacetelescope/style-guides) and would like to cite the [Jupyter guide](https://github.com/spacetelescope/style-guides/blob/master/templates/example_notebook.ipynb) in particular.*\n"
   ]
  },
  {
   "cell_type": "markdown",
   "id": "4b21e475",
   "metadata": {},
   "source": [
    "## Citations\n",
    "\n",
    "If you use `astropy`, `astroquery`, `numpy`, or `matplotlib`, for published research, please cite the authors. Follow these links for more information about citations:\n",
    "\n",
    "* [Citing `astropy`](https://docs.astropy.org/en/stable/index.html)\n",
    "\n",
    "* [Citing `astroquery`](https://astroquery.readthedocs.io/en/latest/)\n",
    "\n",
    "* [Citing `matplotlib`](https://matplotlib.org/stable/users/project/citing.html)\n",
    "\n",
    "* [Citing `numpy`](https://numpy.org/citing-numpy/)"
   ]
  },
  {
   "cell_type": "markdown",
   "id": "164f5842",
   "metadata": {},
   "source": [
    "<img style=\"float: right;\" src=\"https://raw.githubusercontent.com/spacetelescope/notebooks/master/assets/stsci_pri_combo_mark_horizonal_white_bkgd.png\" alt=\"Space Telescope Logo\" width=\"200px\"/>"
   ]
  }
 ],
 "metadata": {
  "kernelspec": {
   "display_name": "Python 3 (ipykernel)",
   "language": "python",
   "name": "python3"
  },
  "language_info": {
   "codemirror_mode": {
    "name": "ipython",
    "version": 3
   },
   "file_extension": ".py",
   "mimetype": "text/x-python",
   "name": "python",
   "nbconvert_exporter": "python",
   "pygments_lexer": "ipython3",
   "version": "3.13.3"
  }
 },
 "nbformat": 4,
 "nbformat_minor": 5
}
