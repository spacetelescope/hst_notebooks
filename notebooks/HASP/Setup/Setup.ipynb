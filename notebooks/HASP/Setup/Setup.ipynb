{
 "cells": [
  {
   "attachments": {},
   "cell_type": "markdown",
   "id": "8346a078",
   "metadata": {},
   "source": [
    "# Inputting User Data using the Hubble Advanced Spectral Products Script"
   ]
  },
  {
   "attachments": {},
   "cell_type": "markdown",
   "id": "1d2e317b",
   "metadata": {},
   "source": [
    "### <span style=\"font-weight:normal\">This Notebook is designed to walk you through downloading, installing, and using the **Hubble Advanced Spectral Products (HASP)** co-add script.</span>"
   ]
  },
  {
   "attachments": {},
   "cell_type": "markdown",
   "id": "01e97a32",
   "metadata": {},
   "source": [
    "## Learning Goals: "
   ]
  },
  {
   "attachments": {},
   "cell_type": "markdown",
   "id": "ad4bc17b",
   "metadata": {},
   "source": [
    "By the end of this tutorial, you will: \n",
    "\n",
    "* Download `conda` and create a `conda` environment\n",
    "\n",
    "* Download and install the co-add script\n",
    "\n",
    "* Learn how to run the script\n",
    "\n",
    "* Understand the naming conventions of the co-added output files\n"
   ]
  },
  {
   "attachments": {},
   "cell_type": "markdown",
   "id": "75d6e2e4",
   "metadata": {},
   "source": [
    "## Table of Contents\n",
    "**0. [Introduction](#introduction)**\n",
    "\n",
    "**1. [Downloading and Installing `conda`](#conda)**\n",
    "\n",
    "\\- 1.1 [Installing `conda`](#installconda)\n",
    "\n",
    "\\- 1.2 [Creating a `conda` Environment](#createenv)\n",
    "\n",
    "**2. [Downloading and Installing the HASP Script](#downloadcode)**\n",
    "\n",
    "**3. [Running the Co-add Script](#runscript)**\n",
    "\n",
    "\\- 3.1 [Running the Script](#runscript31)\n",
    "\n",
    "\\- 3.2 [Understanding the Output Files](#inspectoutput)\n"
   ]
  },
  {
   "attachments": {},
   "cell_type": "markdown",
   "id": "a73ce7ef",
   "metadata": {},
   "source": [
    "<a id = introduction></a>\n",
    "## 0. Introduction"
   ]
  },
  {
   "cell_type": "markdown",
   "id": "40af9618",
   "metadata": {},
   "source": [
    "The Hubble Advanced Spectral Products (HASP) code is a script that co-adds spectra of the same target within programs. This software is able to co-add data taken with the spectrographs onboard the Hubble Space Telescope (HST); the Space Telescope Imaging Spectrograph (STIS) and the Cosmic Origins Spectrograph (COS). The Hubble Spectroscopic Legacy Archive (HSLA) uses this script to co-add these instruments’ data from the MAST archive to create high-quality spectra with a broad wavelength coverate (whenever possible from the ultraviolet to the near-infrared) that is publicly available for the scientific community. These custom co-addition notebooks will instruct users on how to produce their own co-adds in cases where the MAST archive data needs special processing or is rejected by the default filters used in the co-add script.\n",
    "\n",
    "The script first co-adds the observations for each grating for a given program, then it combines all gratings for the observation set. Finally, it co-adds the spectra of each observation set in the program to produce a fully co-added spectra for each target in a program. \n",
    "\n",
    "This notebook focuses primarily on the installation of the co-add code, and provides a quick overview on its usage. To see an example of downloading COS and STIS datasets, running the script, and analyzing the output, please check out our notebook CoaddTutorial.ipynb."
   ]
  },
  {
   "cell_type": "markdown",
   "id": "ecc750bf",
   "metadata": {},
   "source": [
    "<a id = conda></a>\n",
    "## 1. Downloading and Installing `conda`"
   ]
  },
  {
   "cell_type": "markdown",
   "id": "47e1c12b",
   "metadata": {},
   "source": [
    "<a id = installconda></a>\n",
    "### 1.1 Installing `conda`\n",
    "\n",
    "Conda is a package, dependency, and environment manager that runs on Windows, Mac, and Linux. Conda allows us to easily install Python packages and create isolated conda environments, each with their own packages and dependencies. By switching between conda environments, we avoid conflicts between different versions of packages.\n",
    "\n",
    "We will create a conda environment to install the packages needed for the HASP script. We can first check if you have conda already installed by running the command in the terminal:"
   ]
  },
  {
   "cell_type": "code",
   "execution_count": null,
   "id": "cdee82a9",
   "metadata": {},
   "outputs": [],
   "source": [
    "!conda --version"
   ]
  },
  {
   "cell_type": "markdown",
   "id": "63221b8d",
   "metadata": {},
   "source": [
    "Running the command should print out the version of conda that you have installed (e.g. `conda 23.7.2`). If the command returns a statement saying that the package is unknown, then you do not have conda installed on your machine. You will need to download one of the conda distributions. \n",
    "\n",
    "There are a few different distributions of conda that you can install, depending on your preferences. [`Anaconda`](https://docs.anaconda.com/anaconda/install/index.html) is one distribution that carries a lot of pre-installed packages, some of which you won't use. [`Miniconda`](https://docs.conda.io/en/main/miniconda.html) is another distribution of conda that contains only the minimum packages. Finally, the [`Mamba`](https://mamba.readthedocs.io/en/latest/installation/mamba-installation.html) disctribution of conda is similar to `Miniconda`, but uses different parallelization and cache algorithms to increase speed and optimize memory.\n",
    "\n",
    "Once you have installed one of these clients, try running the above cell again to confirm that conda is installed."
   ]
  },
  {
   "cell_type": "markdown",
   "id": "49d07c7e",
   "metadata": {},
   "source": [
    "<a id = createenv></a>\n",
    "### 1.2 Creating a Conda Environment\n",
    "\n",
    "Once you've installed conda, we can create a conda environment. We will download all of the packages needed to run the HASP script in a new environment that we will create, called `hasp-env`. We will use this environment for all of the tutorial notebooks.\n",
    "\n",
    "The first step is to add the `conda-forge` channel to the list of avaible conda channels. Channels are where conda packages are stored and downloaded from, and `conda-forge` allows us to download additional packages for the code that the default conda channel may not have available. We can add this channel by running the following command in the terminal:"
   ]
  },
  {
   "cell_type": "code",
   "execution_count": null,
   "id": "2b4274ee",
   "metadata": {},
   "outputs": [],
   "source": [
    "!conda config --add channels conda-forge"
   ]
  },
  {
   "cell_type": "markdown",
   "id": "7d741f45",
   "metadata": {},
   "source": [
    "We can now create the conda environment, `hasp-env`. Note that this can take several minutes to run:"
   ]
  },
  {
   "cell_type": "code",
   "execution_count": null,
   "id": "dd8a8c1b",
   "metadata": {},
   "outputs": [],
   "source": [
    "!yes | conda create --name hasp-env python=3.11 notebook jupyterlab numpy astropy astroquery matplotlib"
   ]
  },
  {
   "cell_type": "markdown",
   "id": "db8a4820",
   "metadata": {},
   "source": [
    "We also downloaded some additional packages that we will need outside of the HASP script to analyze the data. Once we activate the `conda` environment, as seen below, we can download the HASP script and run it. Note that you should run this in a terminal rather than in the cell below. Depending on your shell and operating system settings, you may need to restart your Jupyter notebook application in order for your environment to be fully activated in your notebook."
   ]
  },
  {
   "cell_type": "code",
   "execution_count": null,
   "id": "be54962c",
   "metadata": {},
   "outputs": [],
   "source": [
    "!conda activate hasp-env"
   ]
  },
  {
   "cell_type": "markdown",
   "id": "3f1ec997",
   "metadata": {},
   "source": [
    "Now that we created and activated a `conda` environment, we can now begin to download the HASP code."
   ]
  },
  {
   "attachments": {},
   "cell_type": "markdown",
   "id": "095e154d",
   "metadata": {},
   "source": [
    "<a id = downloadcode></a>\n",
    "## 2. Downloading and Installing the HASP Script"
   ]
  },
  {
   "attachments": {},
   "cell_type": "markdown",
   "id": "c3ced7eb",
   "metadata": {},
   "source": [
    "We will download the HASP wrapper script from [the HASP Github repository](https://github.com/spacetelescope/hasp). Downloading this script will create a `hasp` directory, which will contain all of the required code. \n",
    "\n",
    "**You will only have to run **one** of the two options below, depending on your computer and Git settings.**\n",
    "\n",
    "#### Option A, using `pip`:\n",
    "\n",
    "`pip install` clones the reposoitory and install the packages according to the setup configuration of the repository. You may need to create a Personal Access Token (PAT) to use instead of your Github account's password, since support for password authentication was removed in 2021. You can learn how to create a PAT [here](https://docs.github.com/en/authentication/keeping-your-account-and-data-secure/creating-a-personal-access-token).\n",
    "\n",
    "```\n",
    "pip install git+https://github.com/spacetelescope/hasp.git\n",
    "```"
   ]
  },
  {
   "attachments": {},
   "cell_type": "markdown",
   "id": "f4e25e36",
   "metadata": {},
   "source": [
    "#### Option B, using `git clone`:\n",
    "\n",
    "While `git clone` still downloads the repository, it differs from `pip` in that it also downloads all of the history and files of the repository. If you have a password-protected SSH key, rather than a PAT, you can clone the repo by running the following code in your terminal. If you want to setup a SSH key, you can learn how to do so [here](https://docs.github.com/en/authentication/connecting-to-github-with-ssh/adding-a-new-ssh-key-to-your-github-account).\n",
    "\n",
    "```\n",
    "git clone git@github.com:spacetelescope/hasp.git\n",
    "```"
   ]
  },
  {
   "attachments": {},
   "cell_type": "markdown",
   "id": "0615ee7f",
   "metadata": {},
   "source": [
    "#### After you've downloaded the code using Options A or B, run the command below to download the script's dependencies:"
   ]
  },
  {
   "cell_type": "code",
   "execution_count": null,
   "id": "c16e5246",
   "metadata": {},
   "outputs": [],
   "source": [
    "!pip install ./hasp/."
   ]
  },
  {
   "attachments": {},
   "cell_type": "markdown",
   "id": "a0386593",
   "metadata": {},
   "source": [
    "This will install additional dependencies using the `pyproject.toml` file. "
   ]
  },
  {
   "attachments": {},
   "cell_type": "markdown",
   "id": "01628f8c",
   "metadata": {},
   "source": [
    "To run the wrapper, We only need to download the following COS and/or STIS files:\n",
    "\n",
    "*    [X1D](https://hst-docs.stsci.edu/cosdhb/chapter-2-cos-data-files/2-4-cos-data-products#:~:text=in%20the%20association.-,One%2DDimensional%20Extracted%20Spectra%20(x1d%2C%20x1dsum),-The%20COS%20pipeline) - the one-dimensional extracted product spectra.\n",
    "  \n",
    "*    [SX1](https://hst-docs.stsci.edu/stisdhb/chapter-2-stis-data-structure/2-2-types-of-stis-files#:~:text=corrected%20imaging%20data.-,_sx1,-table) - the one-dimensional extracted spectra from combined or cosmic-ray rejected images. This file is only produced with STIS data. \n",
    "\n",
    "Make sure that all of these files, for every spectra you wish to abut, are in the same directory. The script will only co-add the files within this directory."
   ]
  },
  {
   "attachments": {},
   "cell_type": "markdown",
   "id": "9cd6cbc4",
   "metadata": {},
   "source": [
    "<a id = runscript></a>\n",
    "## 3. Running the Co-add Script\n",
    "\n",
    "<a id = runscript31></a>\n",
    "### 3.1 Running the Script\n",
    "\n",
    "Now that we have the wrapper installed, we can now run the co-add script.\n",
    "\n",
    "| Command-line Option | Value |\n",
    "|----------|----------|\n",
    "| `--input_directory` (`-i`) | The path to the directory that contains the data to be co-added (_required_)|\n",
    "| `--output_directory` (`-o`) | The path to the directory that will contain the newly co-added products\\*\\* (_required_) |\n",
    "| `--threshold` (`-t`) | The threshold for flux-based filtering (_optional_) |\n",
    "| `--snrmax` (`-s`) | The maximum SNR for flux-based filtering (_optional_) |\n",
    "| `--no_keyword_filtering` (`-k`) | Disable keyword based filtering (except for STIS PRISM data, which is always filtered) (_optional_) |\n",
    "\n",
    "\\*\\***Note:** If you wish to exclude certain data files from the co-add, you can just remove them from your input directory before you run the script.\n",
    "\n",
    "To finally run the script, open your terminal, activate your `conda` environment, and run:\n",
    "\n",
    "```\n",
    "swrapper -i <YOUR_DATA_DIR> -o <YOUR_PRODUCT_DIR>\n",
    "```"
   ]
  },
  {
   "attachments": {},
   "cell_type": "markdown",
   "id": "5a5dae88",
   "metadata": {},
   "source": [
    "You should now have created the co-added spectra for your desired program."
   ]
  },
  {
   "cell_type": "markdown",
   "id": "7e368a5c",
   "metadata": {},
   "source": [
    "<a id = inspectoutput></a>\n",
    "### 3.2 Understanding the Output Files\n",
    "\n",
    "The script produces multiple different files with abutted spectra. Currently, the script outputs abutted products for a single program. It first creates co-added spectra for each grating of a single observation set:\n",
    "\n",
    "`hst_programID_instrument_targetname_grating_obset_cspec.fits`\n",
    "\n",
    "It then co-adds the spectra of all gratings for a single observation set:\n",
    "\n",
    "`hst_programID_instrument_targetname_allGratings_obset_cspec.fits`\n",
    "\n",
    "Finally, it co-adds all abutted observation sets' spectra to create a final co-added product for a single target:\n",
    "\n",
    "`hst_programID_instrument_targetname_allGratings_cspec.fits`\n",
    "\n",
    "An example of this will be below. These filenames are the output files for a STIS GD71 dataset that is co-added in the CoaddTutorial.ipynb notebook example. Here, the `programID` is `7656`, the `instrument` is `STIS`, and the `targetname` is `gd71`.\n",
    "\n",
    "| Step | Filename | Description |\n",
    "|----------|----------|----------|\n",
    "| 1 | `hst_7656_stis_gd71_g140l_o4a520_cspec.fits` | Co-adding all `G140L` observations for the observation set, `O4A520`. |\n",
    "| 2 | `hst_7656_stis_gd71_g140l-g230l-g430l-g750l_o4a520_cspec.fits` | Co-adding all observations taken at every grating for the observation set, `O4A520`. |\n",
    "| 3 | `hst_7656_stis_gd71_g140l-g230l-g430l-g750l_o4a5_cspec.fits` | Co-adding all GD71 observations at each grating for this program, `O4A5`. |\n",
    "\n",
    "***Note: HST file naming conventions use a combination of three letters and/or numbers to have a unique association between a PI's proposal ID and program ID, meaning that `o4a5` at the end of `hst_7656_stis_gd71_g140l-g230l-g430l-g750l_o4a5_cspec.fits` is essentially the program ID for our example. Check out more information on the [MAST HST file naming convention page](https://archive.stsci.edu/hlsp/ipppssoot.html)*** \n"
   ]
  },
  {
   "attachments": {},
   "cell_type": "markdown",
   "id": "551c86c8",
   "metadata": {},
   "source": [
    "## About this Notebook\n",
    "**Author:** Sierra Gomez (sigomez@stsci.edu)\n",
    "\n",
    "**Updated on:** 12/04/2023\n",
    "\n",
    "*This tutorial was generated to be in compliance with the [STScI style guides](https://github.com/spacetelescope/style-guides) and would like to cite the [Jupyter guide](https://github.com/spacetelescope/style-guides/blob/master/templates/example_notebook.ipynb) in particular.*\n"
   ]
  },
  {
   "attachments": {},
   "cell_type": "markdown",
   "id": "164f5842",
   "metadata": {},
   "source": [
    "<img style=\"float: right;\" src=\"https://raw.githubusercontent.com/spacetelescope/notebooks/master/assets/stsci_pri_combo_mark_horizonal_white_bkgd.png\" alt=\"Space Telescope Logo\" width=\"200px\"/>"
   ]
  }
 ],
 "metadata": {
  "kernelspec": {
   "display_name": "Python 3 (ipykernel)",
   "language": "python",
   "name": "python3"
  },
  "language_info": {
   "codemirror_mode": {
    "name": "ipython",
    "version": 3
   },
   "file_extension": ".py",
   "mimetype": "text/x-python",
   "name": "python",
   "nbconvert_exporter": "python",
   "pygments_lexer": "ipython3",
   "version": "3.8.12"
  }
 },
 "nbformat": 4,
 "nbformat_minor": 5
}
