{
 "cells": [
  {
   "cell_type": "markdown",
   "metadata": {},
   "source": [
    "# TWEAKREG Tips - Using DS9 Regions for Source Inclusion/Exclusion"
   ]
  },
  {
   "cell_type": "markdown",
   "metadata": {},
   "source": [
    "<div class=\"alert alert-block alert-warning\" style=\"color:black\"><b>This notebook requires creating and activating a virtual environment using the requirements file in this notebook's repository. Please also review the README file before using the notebook.</b><br></div>\n",
    "\n",
    "<a id='toc'></a>\n",
    "## Table of Contents\n",
    "\n",
    "[Introduction](#intro)<br>\n",
    "[Import packages](#imports)<br>\n",
    "\n",
    "[1. Download observations](#download) <br>\n",
    "\n",
    "[2. Use TweakReg to create source catalogs](#catalogs) <br>\n",
    "\n",
    "[3. DS9 regions in TweakReg](#regions) <br>\n",
    "\n",
    "[4. Exclusion regions](#exclusions) <br>\n",
    "\n",
    "[5. Inclusion regions](#inclusions) <br>\n",
    "\n",
    "[6. Combining exclusions and inclusion regions](#combining) <br>\n",
    "\n",
    "[7. Final thoughts](#final) <br>\n",
    "\n",
    "[About this notebook](#about)<br>\n",
    "[Additional resources](#add)<br>"
   ]
  },
  {
   "cell_type": "markdown",
   "metadata": {},
   "source": [
    "<a id=\"intro\"></a>\n",
    "## Introduction\n",
    "[Table of Contents](#toc)"
   ]
  },
  {
   "cell_type": "markdown",
   "metadata": {},
   "source": [
    "SAOImageDS9 (DS9) is a popular [image visualization program](http://ds9.si.edu/site/Home.html) used in astronomy. [DS9 regions](http://ds9.si.edu/doc/ref/region.html) are interactive, user generated shapes which mark areas of interest on an astronomical image. For users with no experience with DS9, many resources exist online. One such example is [this AstroBites page](https://astrobites.org/2011/03/09/how-to-use-sao-ds9-to-examine-astronomical-images/) which summarizes the most common DS9 features. \n",
    "\n",
    "In this example we show how [TweakReg](https://drizzlepac.readthedocs.io/en/deployment/tweakreg.html) can include and exclude sources identified by DS9 regions during image alignment. The use of \"excluded\" regions prevents spurious detections and ignores parts of the input images that might hinder a proper identification of sources for alignment. \"Included\" regions is particularly useful for images that have few good sources that can be used for image alignment and need all other sources not contained within these regions to be ignored. \n",
    "\n",
    "Please direct inquires about this notebook to the [HST help desk](https://stsci.service-now.com/hst), selecting the DrizzlePac category. "
   ]
  },
  {
   "cell_type": "markdown",
   "metadata": {},
   "source": [
    "<a id=\"imports\"></a>\n",
    "## Import packages \n",
    "[Table of Contents](#toc)\n",
    "\n",
    "The following Python packages are required to run the Jupyter Notebook:\n",
    " - [**os**](https://docs.python.org/3/library/os.html) - change and make directories\n",
    " - [**glob**](https://docs.python.org/3/library/glob.html) - gather lists of filenames\n",
    " - [**shutil**](https://docs.python.org/3/library/shutil.html#module-shutil) - remove directories and files\n",
    " - [**matplotlib**](https://matplotlib.org/stable/tutorials/pyplot.html) - make figures and graphics\n",
    " - [**astropy**](https://www.astropy.org) - file handling, tables, units, WCS, statistics\n",
    " - [**astroquery**](https://astroquery.readthedocs.io/en/latest/) - download data and query databases\n",
    " - [**drizzlepac**](https://www.stsci.edu/scientific-community/software/drizzlepac) - align and combine HST images\n",
    " - [**photutils**](https://photutils.readthedocs.io/en/stable/) - tools for detecting sources and performing photometry\n",
    " - [**regions**](https://astropy-regions.readthedocs.io/en/stable/) - region handling"
   ]
  },
  {
   "cell_type": "code",
   "execution_count": null,
   "metadata": {},
   "outputs": [],
   "source": [
    "import os\n",
    "import glob\n",
    "import shutil\n",
    "\n",
    "import matplotlib.pyplot as plt\n",
    "from astropy.table import Table\n",
    "from astropy.io import fits\n",
    "from astroquery.mast import Observations\n",
    "\n",
    "from drizzlepac import tweakreg\n",
    "from photutils import CircularAperture\n",
    "from regions import Regions\n",
    "\n",
    "# set plotting details for notebooks\n",
    "%matplotlib inline\n",
    "%config InlineBackend.figure_format = 'retina' # Greatly improves the resolution of figures rendered in notebooks.\n",
    "plt.rcParams['figure.figsize'] = (20, 20)"
   ]
  },
  {
   "cell_type": "markdown",
   "metadata": {},
   "source": [
    "<a id=\"download\"></a>\n",
    "## 1. Download the data\n",
    "[Table of contents](#toc)"
   ]
  },
  {
   "attachments": {},
   "cell_type": "markdown",
   "metadata": {},
   "source": [
    "This example uses observations of 'MACSJ1149.5+2223-HFFPAR' ([proposal ID 13504](http://www.stsci.edu/cgi-bin/get-proposal-info?id=13504&observatory=HST), files `jcdua3f4q_flc.fits` and `jcdua3f8q_flc.fits`). We provide code below to retrieve the ACS/WFC calibrated FLC files. \n",
    "\n",
    "Data are downloaded using the `astroquery` API to access the [MAST](http://archive.stsci.edu/) archive. The `astroquery.mast` [documentation](http://astroquery.readthedocs.io/en/latest/mast/mast.html) has more examples for how to find and download data from MAST.\n",
    "\n",
    "It is unusual to download individual files instead of all the related files in an association, but it can be done. First, we need to find the IDs for these two specific FLC files. \n",
    "\n",
    "**Note:** `astroquery` uses both `obs_id` and `obsID`. Be careful not to confuse them. "
   ]
  },
  {
   "cell_type": "code",
   "execution_count": null,
   "metadata": {},
   "outputs": [],
   "source": [
    "# Retrieve the observation information.\n",
    "obs_table = Observations.query_criteria(obs_id=['JCDUA3010', 'JCDUA3020'])\n",
    "\n",
    "# Find obsID for specific FLC images.\n",
    "product_list = Observations.get_product_list(obs_table['obsid'])\n",
    "mask = (product_list['productFilename'] == 'jcdua3f4q_flc.fits') | (product_list['productFilename'] == 'jcdua3f8q_flc.fits')\n",
    "product_list['obsID', 'productFilename'][mask]"
   ]
  },
  {
   "cell_type": "markdown",
   "metadata": {},
   "source": [
    "Based on this table, the `obsID` values for `jcdua3f4q_flc.fits` and `jcdua3f8q_flc.fits` are 24127375 and 24127376. We use this information to download these two FITS files. \n",
    "\n",
    "<div class=\"alert alert-block alert-warning\" style=\"color:black\" >  Depending on your connection speed, this cell may take a few minutes to execute. </div>"
   ]
  },
  {
   "cell_type": "code",
   "execution_count": null,
   "metadata": {},
   "outputs": [],
   "source": [
    "# Download jcdua3f4q_flc.fits and jcdua3f8q_flc.fits from MAST.\n",
    "\n",
    "products_to_download = product_list[mask]\n",
    "\n",
    "data_prod = ['FLC']                                 # ['FLC','FLT','DRC','DRZ']                  \n",
    "data_type = ['CALACS']                              # ['CALACS','CALWF3','CALWP2','HAP-SVM']    \n",
    "\n",
    "Observations.download_products(products_to_download, productSubGroupDescription=data_prod, project=data_type, cache=True)"
   ]
  },
  {
   "cell_type": "markdown",
   "metadata": {},
   "source": [
    "**If the cell above produces an error, try running it again.** Connection issues can cause errors on the first try. "
   ]
  },
  {
   "cell_type": "code",
   "execution_count": null,
   "metadata": {},
   "outputs": [],
   "source": [
    "# Move the files from the mastDownload directory to the current working directory.\n",
    "\n",
    "for flc in glob.glob('mastDownload/HST/*/jcdua3f[48]q_flc.fits'):\n",
    "    flc_name = os.path.split(flc)[-1]\n",
    "    os.rename(flc, flc_name)\n",
    "    \n",
    "# Delete the mastDownload directory and all subdirectories it contains.\n",
    "shutil.rmtree('mastDownload')"
   ]
  },
  {
   "cell_type": "markdown",
   "metadata": {},
   "source": [
    "<a id=\"catalogs\"></a>\n",
    "## 2. Use TweakReg to create source catalogs\n",
    "[Table of contents](#toc)\n"
   ]
  },
  {
   "cell_type": "markdown",
   "metadata": {},
   "source": [
    "Run `TweakReg` on one of the FLC files downloaded into this directory, `jcdua3f4q_flc.fits`. By limiting the input list to one file `TweakReg` makes the source catalog for this image, but performs no matching or aligning. Using a slightly larger `conv_width` of 4.5 pixels (versus the default of 3.5 for ACS/WFC) means `TweakReg` will be able to utilize small compact objects for alignment. \n",
    "\n",
    "**Note**: This notebook is only concerned with the source detection capabilities of `TweakReg`, and so to prevent any changes being saved to the images, the `updatehdr` parameter is set to **False**. "
   ]
  },
  {
   "cell_type": "code",
   "execution_count": null,
   "metadata": {},
   "outputs": [],
   "source": [
    "tweakreg.TweakReg('jcdua3f4q_flc.fits', \n",
    "                  imagefindcfg=dict(threshold=50, conv_width=4.5),\n",
    "                  updatehdr=False)"
   ]
  },
  {
   "cell_type": "markdown",
   "metadata": {},
   "source": [
    "This creates four output files:\n",
    "- *jcdua3f4q_flc_sci1_xy_catalog.coo* contains the X and Y positions, flux, and IDs for all detected sources in the SCI1 extention \n",
    "- *jcdua3f4q_flc_sci2_xy_catalog.coo* contains the X and Y positions, flux, and IDs for all detected sources in the SCI2 extention\n",
    "- *jcdua3f4q_flc_sky_catalog.coo* has the RA and DEC of all the sources from both extensions \n",
    "- *tweakreg.log* is the log file output from `TweakReg`"
   ]
  },
  {
   "cell_type": "markdown",
   "metadata": {},
   "source": [
    "Read in the the SCI1 catalog file and print the first 5 rows to show the column names. "
   ]
  },
  {
   "cell_type": "code",
   "execution_count": null,
   "metadata": {},
   "outputs": [],
   "source": [
    "# Read in the SCI1 catalog file\n",
    "coords_tab = Table.read('jcdua3f4q_flc_sci1_xy_catalog.coo', \n",
    "                        format='ascii.no_header', names=['X', 'Y', 'Flux', 'ID'])\n",
    "\n",
    "# Output the first five rows to display the table format\n",
    "coords_tab[0:5]"
   ]
  },
  {
   "cell_type": "markdown",
   "metadata": {},
   "source": [
    "Now read in the FITS image. This step will be used for demonstrative plots and is not necessary to run `TweakReg`."
   ]
  },
  {
   "cell_type": "code",
   "execution_count": null,
   "metadata": {},
   "outputs": [],
   "source": [
    "data = fits.getdata('jcdua3f4q_flc.fits', 1)"
   ]
  },
  {
   "cell_type": "markdown",
   "metadata": {},
   "source": [
    "Then use `photutils` to generate apertures in order to display the source catalog positions detected by `TweakReg` on the FITS image. A fair number of spurious detections are found, but these are generally cosmic-rays which fall in random positions across the detector and will therefore not make it through into the matched catalogs (frame to frame). \n",
    "\n",
    "**Note**: This step may take a few seconds to run due to the large number of apertures plotted."
   ]
  },
  {
   "cell_type": "code",
   "execution_count": null,
   "metadata": {},
   "outputs": [],
   "source": [
    "# Make the apertures with photutils. \n",
    "# One pixel offset corrects for differences between (0,0) and (1,1) origin systems. \n",
    "positions = [(x-1., y-1.) for x, y in coords_tab.group_by(['X', 'Y']).groups.keys]\n",
    "apertures = CircularAperture(positions, r=10.)\n",
    "\n",
    "# Plot a region of the image with pyplot\n",
    "plt.imshow(data, cmap='Greys', origin='lower', vmin=0, vmax=400)\n",
    "plt.axis([3200, 4000, 250, 1000])\n",
    "\n",
    "# Overplot the apertures onto the image\n",
    "apertures.plot(color='blue', lw=1)\n",
    "plt.show()"
   ]
  },
  {
   "cell_type": "markdown",
   "metadata": {},
   "source": [
    "<a id=\"regions\"></a>\n",
    "## 3. DS9 Regions in TweakReg\n",
    "[Table of contents](#toc)"
   ]
  },
  {
   "cell_type": "markdown",
   "metadata": {},
   "source": [
    "`TweakReg` allows the following DS9 region shapes: circle, ellipse, polygon, and box. All other shapes are ignored. All region files must comply with the [DS9 region file format](https://ds9.si.edu/doc/ref/region.html#RegionFileFormat) and all regions must be provided in *image* coordinates.\n",
    "\n",
    "This demonstration uses one of each type of shape possible. In the region file, they look like this (in image coordinates): \n",
    "\n",
    "```ds9\n",
    "polygon(3702,845,3819,890,3804,797,3734,720,3671,745,3592,735,3602,770,3660,782)\n",
    "ellipse(3512,809,26,67,0)\n",
    "circle(3613,396,75)\n",
    "box(3541,393,113,96,0)\n",
    "```\n",
    "\n",
    "Next the DS9 regions are read in and parsed with the [astropy regions package](https://astropy-regions.readthedocs.io/en/latest/getting_started.html) and then added to the plot to show how they look on the image. "
   ]
  },
  {
   "cell_type": "code",
   "execution_count": null,
   "metadata": {},
   "outputs": [],
   "source": [
    "# Read in and parse the DS9 region file with the regions package\n",
    "ds9_regions_file = 'jcdua3f4q_sci1_exclude.reg'\n",
    "regions = Regions.read(ds9_regions_file)\n",
    "\n",
    "# Plot previous figure with DS9 region shapes\n",
    "fig, ax = plt.subplots()\n",
    "ax.imshow(data, cmap='Greys', origin='lower', vmin=0, vmax=400)\n",
    "ax.axis([3200, 4000, 250, 1000])\n",
    "apertures.plot(color='blue', lw=1.)\n",
    "for regs in range(4):\n",
    "    regions[regs].plot(ax=ax, edgecolor='red', lw=2, fill=False)\n",
    "plt.show()"
   ]
  },
  {
   "cell_type": "markdown",
   "metadata": {},
   "source": [
    "You can see the polygon outlining a galaxy, including the extended tidal stream. The other shapes are placed randomly as demonstration.\n",
    "\n",
    "This figure will be remade several times with different `TweakReg` outputs, so a function has been defined below to automatically read in the TweakReg source catalog and reproduce this figure."
   ]
  },
  {
   "cell_type": "code",
   "execution_count": null,
   "metadata": {},
   "outputs": [],
   "source": [
    "# Define a function to remake this figure after subsequent TweakReg runs.\n",
    "def read_tweak_cat_and_plot():\n",
    "    '''\n",
    "    This function reads in the TweakReg coordinate catalog for\n",
    "    SCI1 of image JCDUA3F4Q, creates apertures for all the sources\n",
    "    detected, then plots the apertures on the FITS image along\n",
    "    with the DS9 region files defined previously in the notebook.\n",
    "    '''\n",
    "\n",
    "    # Read in the SCI1 catalog file with the exclusions\n",
    "    coords_tab = Table.read('jcdua3f4q_flc_sci1_xy_catalog.coo', \n",
    "                            format='ascii.no_header', \n",
    "                            names=['X', 'Y', 'Flux', 'ID'])\n",
    "    \n",
    "    # Define apertures for TweakReg identified sources\n",
    "    positions = [(x-1., y-1.) for x, y in coords_tab.group_by(['X', 'Y']).groups.keys]\n",
    "    apertures = CircularAperture(positions, r=10.)\n",
    "    \n",
    "    # Plot\n",
    "    fig, ax = plt.subplots()\n",
    "    ax.imshow(data, cmap='Greys', origin='lower', vmin=0, vmax=400)\n",
    "    ax.axis([3200, 4000, 250, 1000])\n",
    "    apertures.plot(color='blue', lw=1.)\n",
    "    for regs in range(4):\n",
    "        regions[regs].plot(ax=ax, edgecolor='red', lw=2, fill=False)\n",
    "    plt.show()"
   ]
  },
  {
   "cell_type": "markdown",
   "metadata": {},
   "source": [
    "<a id=\"exclusions\"></a>\n",
    "## 4. Exclusion regions\n",
    "[Table of contents](#toc)"
   ]
  },
  {
   "cell_type": "markdown",
   "metadata": {},
   "source": [
    "`TweakReg` identifies the DS9 region files from a plain text file provided to the `exclusions` parameter. This text file must give the filename of the images and the name of the DS9 region files that should be applied to the SCI1 and SCI2 extensions, respectively. The format is important, and for our example would look like:\n",
    "\n",
    "```\n",
    "jcdua3f4q_flc.fits jcdua3f4q_sci1_exclude.reg None\n",
    "jcdua3f8q_flc.fits None None\n",
    "```\n",
    "\n",
    "'None' serves the function of an empty placeholder. Since the exclusions are applied only to SCI1, the syntax can be simplified to the following. \n",
    "\n",
    "```\n",
    "jcdua3f4q_flc.fits jcdua3f4q_sci1_exclude.reg\n",
    "jcdua3f8q_flc.fits\n",
    "```\n",
    "\n",
    "**NOTE**: If an image needs DS9 regions applied to the SCI2 extension only, then 'None' **must** be written after the filename and before the SCI2 region.  \n",
    "\n",
    "The git repo for this notebook contains a file `exclusions.txt` to use as input to `TweakReg`. "
   ]
  },
  {
   "cell_type": "markdown",
   "metadata": {},
   "source": [
    "To exclude the sources within a DS9 region shape, a minus sign (-) is put before the shape. This time, all four shapes will be exluded from source detection. The corresponding DS9 region `jcdua3f4q_sci1_exclude.reg` therefore has the syntax:\n",
    "\n",
    "```ds9\n",
    "# Region file format: DS9 version 4.1\n",
    "global color=yellow dashlist=8 3 width=2 font=\"helvetica 10 normal roman\" \n",
    "select=1 highlite=1 dash=0 fixed=0 edit=1 move=1 delete=1 include=1 source=1\n",
    "image\n",
    "-polygon(3702,845,3819,890,3804,797,3734,720,3671,745,3592,735,3602,770,3660,782)\n",
    "-ellipse(3512,809,26,67,0)\n",
    "-circle(3613,396,75)\n",
    "-box(3541,393,113,96,0)\n",
    "```"
   ]
  },
  {
   "cell_type": "markdown",
   "metadata": {},
   "source": [
    "Now `TweakReg` is run again, this time with the DS9 regions provided by the `exclusions` parameter."
   ]
  },
  {
   "cell_type": "code",
   "execution_count": null,
   "metadata": {},
   "outputs": [],
   "source": [
    "# tweakreg run with DS9 regions excluded from source detection\n",
    "tweakreg.TweakReg('jcdua3f4q_flc.fits', \n",
    "                  imagefindcfg=dict(threshold=50, conv_width=4.5),\n",
    "                  exclusions='exclusions.txt',\n",
    "                  updatehdr=False)"
   ]
  },
  {
   "cell_type": "code",
   "execution_count": null,
   "metadata": {},
   "outputs": [],
   "source": [
    "read_tweak_cat_and_plot()"
   ]
  },
  {
   "cell_type": "markdown",
   "metadata": {},
   "source": [
    "As expected, sources within the defined DS9 exlusion regions are no longer in the `TweakReg` source catalog. "
   ]
  },
  {
   "cell_type": "markdown",
   "metadata": {},
   "source": [
    "<a id=\"inclusions\"></a>\n",
    "## 5. Inclusion Regions\n",
    "[Table of Contents](#toc)"
   ]
  },
  {
   "cell_type": "markdown",
   "metadata": {},
   "source": [
    "Now we will look at inclusions, where only sources inside the DS9 regions are detected by `TweakReg`. The `exclusions` parameter name doesn't change, but in this example we give it `inclusions.txt` now instead. \n",
    "\n",
    "```\n",
    "jcdua3f4q_flc.fits jcdua3f4q_sci1_include.reg\n",
    "jcdua3f8q_flc.fits\n",
    "```\n",
    "\n",
    "From the information from the last section, the file syntax indicates that `jcdua3f4q_sci1_include.reg` is applied to the SCI1 extention of `jcdua3f4q_flc.fits`, and no DS9 regions are given for the SCI2 extention, or for the second image `jcdua3f8q_flc.fits`. "
   ]
  },
  {
   "cell_type": "markdown",
   "metadata": {},
   "source": [
    "Looking at `jcdua3f4q_sci1_include.reg`, it shows the same shapes as before, but the minus signs (-) at the beginning of the lines are removed. \n",
    "\n",
    "```ds9\n",
    "# Region file format: DS9 version 4.1\n",
    "global color=yellow dashlist=8 3 width=2 font=\"helvetica 10 normal roman\" \n",
    "select=1 highlite=1 dash=0 fixed=0 edit=1 move=1 delete=1 include=1 source=1\n",
    "image\n",
    "polygon(3702,845,3819,890,3804,797,3734,720,3671,745,3592,735,3602,770,3660,782)\n",
    "ellipse(3512,809,26,67,0)\n",
    "circle(3613,396,75)\n",
    "box(3541,393,113,96,0)\n",
    "```\n",
    "\n",
    "There is no symbol associated with inclusion regions. If there is no symbol before the shape, then it is treated as an inclusion region. If there is a minus sign (-), then it is treated as an exclusion region. "
   ]
  },
  {
   "cell_type": "code",
   "execution_count": null,
   "metadata": {},
   "outputs": [],
   "source": [
    "# tweakreg run with source detection only inside the DS9 regions \n",
    "tweakreg.TweakReg('jcdua3f4q_flc.fits', \n",
    "                  imagefindcfg=dict(threshold=50, conv_width=4.5),\n",
    "                  exclusions='inclusions.txt',\n",
    "                  updatehdr=False)"
   ]
  },
  {
   "cell_type": "code",
   "execution_count": null,
   "metadata": {},
   "outputs": [],
   "source": [
    "read_tweak_cat_and_plot()"
   ]
  },
  {
   "cell_type": "markdown",
   "metadata": {},
   "source": [
    "This shows that only sources in the DS9 regions are included in the `TweakReg` source catalog. Note that only $\\approx60$ objects were found by `TweakReg` for SCI1, compared to $\\approx10,000$ found in the original catalog. The number of objects for SCI2 is unchanged. "
   ]
  },
  {
   "cell_type": "markdown",
   "metadata": {},
   "source": [
    "<a id=\"combining\"></a>\n",
    "## 6. Combining Exclusion and Inclusion Regions\n",
    "[Table of contents](#toc)"
   ]
  },
  {
   "cell_type": "markdown",
   "metadata": {},
   "source": [
    "The inclusion and exclusion regions can be used at the same time. For this example, the `inclusions_no_box.txt` file is fed to the exclusions parameter in `TweakReg`. \n",
    "\n",
    "```\n",
    "jcdua3f4q_flc.fits jcdua3f4q_sci1_include_no_box.reg\n",
    "jcdua3f8q_flc.fits\n",
    "```"
   ]
  },
  {
   "cell_type": "markdown",
   "metadata": {},
   "source": [
    "`jcdua3f4q_sci1_include_no_box.reg` has only a minus sign (-) on the last line. \n",
    "\n",
    "```ds9\n",
    "# Region file format: DS9 version 4.1\n",
    "global color=yellow dashlist=8 3 width=2 font=\"helvetica 10 normal roman\" \n",
    "select=1 highlite=1 dash=0 fixed=0 edit=1 move=1 delete=1 include=1 source=1\n",
    "image\n",
    "polygon(3702,845,3819,890,3804,797,3734,720,3671,745,3592,735,3602,770,3660,782)\n",
    "ellipse(3512,809,26,67,0)\n",
    "circle(3613,396,75)\n",
    "-box(3541,393,113,96,0)\n",
    "```\n",
    "\n",
    "This means that all the shapes will be treated as inclusion regions except for the box, which will be excluded from the source detection. "
   ]
  },
  {
   "cell_type": "code",
   "execution_count": null,
   "metadata": {},
   "outputs": [],
   "source": [
    "# tweakreg run with a mix of included/excluded DS9 regions\n",
    "tweakreg.TweakReg('jcdua3f4q_flc.fits', \n",
    "                  imagefindcfg=dict(threshold=50, conv_width=4.5),\n",
    "                  exclusions='inclusions_no_box.txt',\n",
    "                  updatehdr=False)"
   ]
  },
  {
   "cell_type": "code",
   "execution_count": null,
   "metadata": {},
   "outputs": [],
   "source": [
    "read_tweak_cat_and_plot()"
   ]
  },
  {
   "cell_type": "markdown",
   "metadata": {},
   "source": [
    "This shows the sources detected within the inclusion regions except for those excluded from the box. "
   ]
  },
  {
   "cell_type": "markdown",
   "metadata": {},
   "source": [
    "**NOTE**: The order of the DS9 regions is important! \n",
    "\n",
    "`TweakReg` applies the DS9 region requirements in the order in which they appear in the DS9 region file. To demonstrate this, the excluded box shape is moved to the beginning of the region list, so that it is the first processed instead of the last. This is seen by inputing `inclusions_no_box_first.txt` which specifies the region file `jcdua3f4q_sci1_include_no_box_first.reg`:\n",
    "\n",
    "```ds9\n",
    "# Region file format: DS9 version 4.1\n",
    "global color=yellow dashlist=8 3 width=2 font=\"helvetica 10 normal roman\" \n",
    "select=1 highlite=1 dash=0 fixed=0 edit=1 move=1 delete=1 include=1 source=1\n",
    "image\n",
    "-box(3541,393,113,96,0)\n",
    "polygon(3702,845,3819,890,3804,797,3734,720,3671,745,3592,735,3602,770,3660,782)\n",
    "ellipse(3512,809,26,67,0)\n",
    "circle(3613,396,75)\n",
    "```"
   ]
  },
  {
   "cell_type": "code",
   "execution_count": null,
   "metadata": {},
   "outputs": [],
   "source": [
    "# tweakreg run with excluded box first to show order of operations\n",
    "tweakreg.TweakReg('jcdua3f4q_flc.fits', \n",
    "                  imagefindcfg=dict(threshold=50, conv_width=4.5),\n",
    "                  exclusions='inclusions_no_box_first.txt',\n",
    "                  updatehdr=False)"
   ]
  },
  {
   "cell_type": "code",
   "execution_count": null,
   "metadata": {},
   "outputs": [],
   "source": [
    "read_tweak_cat_and_plot()"
   ]
  },
  {
   "cell_type": "markdown",
   "metadata": {},
   "source": [
    "Now the circle is given precedence because it is the last region shape processed, and therefore the section of overlap with the box is not removed as it was in the previous figure. \n",
    "\n",
    "Due to this behavior, **remember to be careful with the order in the DS9 region file when combining inclusion and exclusion requirements.**"
   ]
  },
  {
   "cell_type": "markdown",
   "metadata": {},
   "source": [
    "<a id=\"final\"></a>\n",
    "## 7. Final Thoughts\n",
    "[Table of Contents](#toc)"
   ]
  },
  {
   "cell_type": "markdown",
   "metadata": {},
   "source": [
    "Once you are happy with the sources being used for alignment, `TweakReg` may be used to align the two HST images `jcdua3f4q_flc.fits` and `jcdua3f8q_flc.fits` to one another or to an external reference catalog.  For more information, see the alignment notebooks in this repository. "
   ]
  },
  {
   "cell_type": "markdown",
   "metadata": {},
   "source": [
    "## About this Notebook\n",
    "\n",
    "    Created: 14 Dec 2018; S. Hoffmann\n",
    "    Updated: 17 Jan 2024; F. Dauphin \n",
    "             30 Apr 2024; R. Avila & J. Mack\n",
    "    \n",
    "**Source:** GitHub [spacetelescope/hst_notebooks](https://github.com/spacetelescope/hst_notebooks)\n",
    "\n",
    "<a id=\"add\"></a>\n",
    "## Additional Resources\n",
    "\n",
    "Below are some additional resources that may be helpful. Please send any questions through the [HST Help Desk](https://github.com/spacetelescope/hst_notebooks), selecting the Drizzlepac category.\n",
    "\n",
    "- [TweakReg keywords documentation](https://drizzlepac.readthedocs.io/en/deployment/tweakreg.html)\n",
    "- [Drizzlepac Handbook](https://hst-docs.stsci.edu/drizzpac)\n",
    "- [ACS Data Handbook](https://hst-docs.stsci.edu/acsdhb)\n",
    "\n",
    "<a id=\"cite\"></a>\n",
    "## Citations\n",
    "If you use Python packages such as `astropy`, `astroquery`, `drizzlepac`, `matplotlib`, or `numpy` for published research, please cite the authors.\n",
    "\n",
    "Follow these links for more information about citing various packages:\n",
    "\n",
    "* [Citing `astropy`](https://www.astropy.org/acknowledging.html)\n",
    "* [Citing `astroquery`](https://github.com/astropy/astroquery/blob/main/astroquery/CITATION)\n",
    "* [Citing `drizzlepac`](https://zenodo.org/records/3743274)\n",
    "* [Citing `photutils`](https://photutils.readthedocs.io/en/stable/citation.html)\n",
    "* [Citing `matplotlib`](https://matplotlib.org/stable/users/project/citing.html)\n",
    "* [Citing `numpy`](https://numpy.org/citing-numpy/)"
   ]
  },
  {
   "cell_type": "markdown",
   "metadata": {},
   "source": [
    "[Top of Page](#top)"
   ]
  }
 ],
 "metadata": {
  "kernelspec": {
   "display_name": "Python 3 (ipykernel)",
   "language": "python",
   "name": "python3"
  },
  "language_info": {
   "codemirror_mode": {
    "name": "ipython",
    "version": 3
   },
   "file_extension": ".py",
   "mimetype": "text/x-python",
   "name": "python",
   "nbconvert_exporter": "python",
   "pygments_lexer": "ipython3",
   "version": "3.11.9"
  }
 },
 "nbformat": 4,
 "nbformat_minor": 4
}
