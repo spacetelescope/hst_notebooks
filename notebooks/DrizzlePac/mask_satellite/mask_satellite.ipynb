{
 "cells": [
  {
   "cell_type": "markdown",
   "metadata": {},
   "source": [
    "# Satellite Trail Masking Techniques"
   ]
  },
  {
   "cell_type": "markdown",
   "metadata": {},
   "source": [
    "<div class=\"alert alert-block alert-warning\" style=\"color:black\" > <b> This notebook assumes you have created and activated a virtual environment using the requirements file in this notebook's repository. Please make sure you have read the contents of the README file before continuing the notebook.</b> </div>"
   ]
  },
  {
   "cell_type": "markdown",
   "metadata": {},
   "source": [
    "<a id=\"toc\"></a>\n",
    "## Table of Contents\n",
    "[Introduction](#intro_ID) <br>\n",
    "\n",
    "[Import modules](#import) <br>\n",
    "\n",
    "\n",
    "[1. Download the Observations with `astroquery`](#download) <br>\n",
    "\n",
    " - [1.1 Download the ACS data](#acs_download) <br>\n",
    " - [1.2 Download the WFC3 data](#wfc3_download) <br>\n",
    "\n",
    "[2. ACS/WFC Example](#acs_wfc)\n",
    "\n",
    " - [2.1 Option A: Using findsat_mrt](#acs_findsat_mrt)\n",
    " - [2.2 Option B: Using satdet](#acs_satdet)\n",
    " - [2.3 Running AstroDrizzle](#acs_adriz)\n",
    " - [2.4 Manual Masking of Satellites and Other Anomalies](#acs_manual)\n",
    " \n",
    "[3. WFC3/UVIS Example](#wfc3_uvis)\n",
    "\n",
    " - [3.1 Option A: Using findsat_mrt](#wfc3_findsat_mrt)\n",
    " - [3.2 Option B: Using satdet](#wfc3_satdet)\n",
    " - [3.3 Running AstroDrizzle](#wfc3_adriz)\n",
    " \n",
    "[About this notebook](#about)"
   ]
  },
  {
   "cell_type": "markdown",
   "metadata": {},
   "source": [
    "## Introduction <a id=\"intro_ID\"></a>\n",
    "[Table of Contents](#toc)\n",
    "\n",
    "Even though Hubble has a small field of view, satellites are commonly captured in images. The cosmic ray rejection algorithm in Astrodrizzle is not well suited to eliminate satellite trails, and the affected adjacent pixels that make up their wings leave ugly blemishes in stacked images. \n",
    "\n",
    "To fix this problem, the pixels around satellite trails need to be marked as bad in the affected images. There are several ways to accomplish this goal. The ACS Team developed multiple algorithms to automatically detect and mask satellite trails. The newest is a module called `findsat_mrt` and is decribed in [ISR ACS 2022-08](https://www.stsci.edu/files/live/sites/www/files/home/hst/instrumentation/acs/documentation/instrument-science-reports-isrs/_documents/isr2208.pdf). The 'readthedocs' page can be found here: [MRT-based Satellite Trail Detection](https://acstools.readthedocs.io/en/latest/findsat_mrt.html). The second module is called `satdet` and is described in [ISR ACS 2016-01](http://www.stsci.edu/hst/acs/documents/isrs/isr1601.pdf).  The 'readthedocs' page for the software can be found here: [Satellite Trails Detection](https://acstools.readthedocs.io/en/stable/satdet.html). `findsat_mrt` has the benefit of significantly improved sensitivity over `satdet` but it is more computationally demanding. \n",
    "\n",
    "Masks can also be made manually using DS9 regions. While not as convenient, making masks manually allows you to mask not only satellites, but also any other anomalies with odd shapes (e.g. dragon's breath, glint, blooming). \n",
    "\n",
    "All of these methods are demonstrated below. To aid users, we have provided examples using both ACS/WFC and WFC3/UVIS imaging data, although most of the tools shown in this notebook can be applied to any imaging data."
   ]
  },
  {
   "cell_type": "markdown",
   "metadata": {},
   "source": [
    "## Import Modules  <a id=\"import\"></a>\n",
    "[Table of Contents](#toc)\n",
    "\n",
    "***\n",
    "\n",
    "The following Python packages are required to run the Jupyter Notebook:\n",
    " - [**os**](https://docs.python.org/3/library/os.html) - change and make directories\n",
    " - [**glob**](https://docs.python.org/3/library/glob.html) - gather lists of filenames\n",
    " - [**shutil**](https://docs.python.org/3/library/shutil.html#module-shutil) - remove directories and files\n",
    " - [**matplotlib**](https://matplotlib.org/stable/tutorials/pyplot.html) - make figures and graphics\n",
    " - [**astropy**](https://www.astropy.org) - file handling, tables, units, WCS, statistics\n",
    " - [**astroquery**](https://astroquery.readthedocs.io/en/latest/) - download data and query databases\n",
    " - [**drizzlepac**](https://www.stsci.edu/scientific-community/software/drizzlepac) - align and combine HST images\n",
    " - [**IPython**](https://ipython.readthedocs.io/en/stable/index.html) - to display images\n",
    " - [**skimage**](https://scikit-image.org/) - for image processing\n",
    " - [**acstools**](https://acstools.readthedocs.io/en/latest/) - for HST/ACS image processing\n",
    " - [**regions**](https://astropy-regions.readthedocs.io/en/stable/) - parse DS9 region files"
   ]
  },
  {
   "cell_type": "code",
   "execution_count": null,
   "metadata": {},
   "outputs": [],
   "source": [
    "import os\n",
    "import glob\n",
    "import shutil\n",
    "\n",
    "import matplotlib.pyplot as plt\n",
    "from regions import Regions             \n",
    "\n",
    "from astropy.io import fits\n",
    "from astroquery.mast import Observations\n",
    "from astropy.visualization import astropy_mpl_style, ImageNormalize, LinearStretch\n",
    "\n",
    "from IPython.display import Image, clear_output\n",
    "\n",
    "from acstools.findsat_mrt import WfcWrapper\n",
    "from acstools.utils_findsat_mrt import update_dq\n",
    "from acstools.satdet import detsat, make_mask\n",
    "\n",
    "from skimage.morphology import dilation\n",
    "from skimage.morphology import square\n",
    "\n",
    "from drizzlepac.astrodrizzle import AstroDrizzle as adriz\n",
    "from drizzlepac.processInput import getMdriztabPars\n",
    "\n",
    "\n",
    "# configure the plot output\n",
    "%matplotlib inline\n",
    "%config InlineBackend.figure_format = 'retina' # Improves the resolution of figures rendered in notebooks."
   ]
  },
  {
   "cell_type": "markdown",
   "metadata": {},
   "source": [
    "## 1. Download the Observations with `astroquery` <a id=\"download\"></a>\n",
    "[Table of Contents](#toc)\n",
    "\n",
    "\n",
    "---\n",
    "MAST queries may be done using <a href=\"https://astroquery.readthedocs.io/en/latest/mast/mast_obsquery.html#observation-criteria-queries\"> `query_criteria`</a>, where we specify: <br>\n",
    "\n",
    "&nbsp;&nbsp;&nbsp;&nbsp;--> obs_id, proposal_id, and filters \n",
    "\n",
    "MAST data products may be downloaded by using <a href=\"https://astroquery.readthedocs.io/en/latest/mast/mast_obsquery.html#downloading-data\"> `download_products`</a>, where we specify:<br> \n",
    "\n",
    "&nbsp;&nbsp;&nbsp;&nbsp;--> products = calibrated (FLT, FLC) or drizzled (DRZ, DRC) files\n",
    "\n",
    "&nbsp;&nbsp;&nbsp;&nbsp;--> type = standard products (CALxxx) or advanced products (HAP-SVM)\n",
    "___"
   ]
  },
  {
   "cell_type": "markdown",
   "metadata": {},
   "source": [
    "### 1.1 Download the ACS data <a id=\"acs_download\"></a>\n",
    "\n",
    "The ACS/WFC images to be used are the F814W images of visit B7 from GO program [13498](http://www.stsci.edu/cgi-bin/get-proposal-info?id=13498&observatory=HST). These come from the Hubble Frontier Fields program and are images of the the galaxy cluster MACSJ0717.5+3745. \n",
    "\n",
    "The four FLC images have been processed by the HST ACS pipeline (calacs), which includes bias subtraction, dark current correction, cte-correction, cosmic-ray rejection, and flatfielding: \n",
    "\n",
    "            jc8mb7sqq_flc.fits\n",
    "            jc8mb7sxq_flc.fits\n",
    "            jc8mb7t5q_flc.fits\n",
    "            jc8mb7tcq_flc.fits\n",
    "Additionally we will download the JPG preview images and keep only the DRC file:\n",
    "\n",
    "            jc8mb7020_drc.jpg\n",
    "<div class=\"alert alert-block alert-warning\" style=\"color:black\" >  Depending on your connection speed, this cell may take a few minutes to execute. </div>"
   ]
  },
  {
   "cell_type": "code",
   "execution_count": null,
   "metadata": {},
   "outputs": [],
   "source": [
    "obs_id_acs = 'JC8MB7020'\n",
    "\n",
    "obsTable = Observations.query_criteria(obs_id=obs_id_acs)\n",
    "products = Observations.get_product_list(obsTable)\n",
    "\n",
    "data_type = 'CALACS'                             # ['CALACS','CALWF3','CALWP2','HAP-SVM']   \n",
    "data_prod = 'FLC'                                # ['FLC','FLT','DRC','DRZ']                  \n",
    "\n",
    "flc_download = Observations.download_products(products, project=data_type, productSubGroupDescription=data_prod)\n",
    "jpg_download = Observations.download_products(products, project=data_type, extension=['jpg'])\n",
    "\n",
    "clear_output()"
   ]
  },
  {
   "cell_type": "markdown",
   "metadata": {},
   "source": [
    "Move to the files to the local working directory, and print the files"
   ]
  },
  {
   "cell_type": "code",
   "execution_count": null,
   "metadata": {},
   "outputs": [],
   "source": [
    "if os.path.exists('mastDownload'):\n",
    "    for file in jpg_download['Local Path']:\n",
    "        if 'drc' in file:\n",
    "            os.rename(file, os.path.basename(file))\n",
    "    for file in flc_download['Local Path']:\n",
    "        os.rename(file, os.path.basename(file))\n",
    "    shutil.rmtree('mastDownload')\n",
    "else:\n",
    "    pass"
   ]
  },
  {
   "cell_type": "code",
   "execution_count": null,
   "metadata": {},
   "outputs": [],
   "source": [
    "list = sorted(glob.glob('j*.*'))\n",
    "list"
   ]
  },
  {
   "cell_type": "markdown",
   "metadata": {},
   "source": [
    "### 1.2 Download the WFC3 data <a id=\"wfc3_download\"></a>\n",
    "\n",
    "The WFC3/UVIS images to be used are F350LP images from visit 11 of  NGC 4051 from GO program [14697](https://www.stsci.edu/cgi-bin/get-proposal-info?id=14697&observatory=HST). \n",
    "\n",
    "The three FLC images have been processed by the HST WFC3 pipeline (calwf3), which includes bias subtraction, dark current correction, cte-correction, cosmic-ray rejection, and flatfielding. \n",
    "\n",
    "            id8m11g1q_flc.fits\n",
    "            id8m11g2q_flc.fits\n",
    "            id8m11g4q_flc.fits\n",
    "Additionally we will download the JPG preview images and keep only the DRC file:\n",
    "\n",
    "            id8m11010_drc.jpg\n",
    "<div class=\"alert alert-block alert-warning\" style=\"color:black\" >  Depending on your connection speed, this cell may take a few minutes to execute. </div>"
   ]
  },
  {
   "cell_type": "code",
   "execution_count": null,
   "metadata": {},
   "outputs": [],
   "source": [
    "obs_id_wfc3 = 'ID8M11010'\n",
    "\n",
    "obsTable = Observations.query_criteria(obs_id=obs_id_wfc3)\n",
    "products = Observations.get_product_list(obsTable)\n",
    "\n",
    "data_type = ['CALWF3']                             # ['CALACS','CALWF3','CALWP2','HAP-SVM']   \n",
    "data_prod = ['FLC']                                # ['FLC','FLT','DRC','DRZ']                  \n",
    "\n",
    "flc_download = Observations.download_products(products, project=data_type, productSubGroupDescription=data_prod)\n",
    "jpg_download = Observations.download_products(products, project=data_type, extension=['jpg'])\n",
    "\n",
    "clear_output()"
   ]
  },
  {
   "cell_type": "markdown",
   "metadata": {},
   "source": [
    "Move to the files to the local working directory, and print them"
   ]
  },
  {
   "cell_type": "code",
   "execution_count": null,
   "metadata": {},
   "outputs": [],
   "source": [
    "if os.path.exists('mastDownload'):\n",
    "    for file in jpg_download['Local Path']:\n",
    "        if 'drc' in file:\n",
    "            os.rename(file, os.path.basename(file))\n",
    "    for file in flc_download['Local Path']:\n",
    "        os.rename(file, os.path.basename(file))\n",
    "    shutil.rmtree('mastDownload')\n",
    "else:\n",
    "    pass"
   ]
  },
  {
   "cell_type": "code",
   "execution_count": null,
   "metadata": {},
   "outputs": [],
   "source": [
    "list = sorted(glob.glob('i*.*'))\n",
    "list"
   ]
  },
  {
   "cell_type": "markdown",
   "metadata": {},
   "source": [
    "## 2. ACS/WFC Example  <a id=\"acs_wfc\"></a>\n",
    "[Table of Contents](#toc)"
   ]
  },
  {
   "cell_type": "markdown",
   "metadata": {},
   "source": [
    "The image below shows the combined drizzled image from this association. The satellite trail can be seen going across the image from left to right, just above the center of the image. It is partially masked by the routines in Drizzlepac that mask cosmic rays, but the wings of the satellite trail are still noticeable."
   ]
  },
  {
   "cell_type": "code",
   "execution_count": null,
   "metadata": {},
   "outputs": [],
   "source": [
    "Image(filename=obs_id_acs.lower() + '_drc.jpg', width=800, height=800)"
   ]
  },
  {
   "cell_type": "markdown",
   "metadata": {},
   "source": [
    "The bright satellite trail that caused this came from the image *jc8mb7cq_flc.fits*. The figure below shows the top chip which is referred to as SCI,2 (or extension 4). "
   ]
  },
  {
   "cell_type": "code",
   "execution_count": null,
   "metadata": {},
   "outputs": [],
   "source": [
    "flc_file = 'jc8mb7tcq_flc.fits'        # defining this variable since we'll use it a lot"
   ]
  },
  {
   "cell_type": "code",
   "execution_count": null,
   "metadata": {},
   "outputs": [],
   "source": [
    "img = fits.getdata(flc_file, ext=4)\n",
    "plt.style.use(astropy_mpl_style)\n",
    "\n",
    "norm1 = ImageNormalize(img, vmin=100, vmax=200, stretch=LinearStretch())\n",
    "fig, ax = plt.subplots(figsize=(16, 16))\n",
    "c = ax.imshow(img, norm=norm1, cmap='gray_r', origin='lower')\n",
    "ax.set_xlabel('X')\n",
    "ax.set_ylabel('Y')\n",
    "ax.set_title(flc_file+'[4]')\n",
    "plt.grid()"
   ]
  },
  {
   "cell_type": "markdown",
   "metadata": {},
   "source": [
    "### 2.1 Option A: Using findsat_mrt <a id=\"acs_findsat_mrt\"></a>\n",
    "\n",
    "The `WfcWrapper` class provides a simple one-line approach to creating a mask for satellite trails. In this example, we run `WfcWrapper` on the top chip only (SCI,1 or extension 4). `WfcWrapper` loads the data, prepares the image (applies rebinning, removes a background, and masks already identified bad pixels), and executes the detection routines. In this example, we rebin the data by 2 pixels in each direction and use 8 processes. You may want to adjust the binning and/or number of processes depending on your system. We also set a maximum trail width of 75 pixels (this can also be adjusted depending on your binning)."
   ]
  },
  {
   "cell_type": "code",
   "execution_count": null,
   "metadata": {
    "scrolled": true
   },
   "outputs": [],
   "source": [
    "w = WfcWrapper(flc_file,\n",
    "               extension=4,\n",
    "               binsize=2,\n",
    "               processes=8,\n",
    "               max_width=75,\n",
    "               preprocess=True,\n",
    "               execute=True)\n",
    "\n",
    "clear_output()"
   ]
  },
  {
   "cell_type": "markdown",
   "metadata": {},
   "source": [
    "We can plot the mask on its own, or overlaid on the input image. "
   ]
  },
  {
   "cell_type": "code",
   "execution_count": null,
   "metadata": {},
   "outputs": [],
   "source": [
    "w.plot_mask()\n",
    "w.plot_image(overlay_mask=True)"
   ]
  },
  {
   "cell_type": "markdown",
   "metadata": {},
   "source": [
    "We clearly see the mask covering the satellite trail. The call to `WfcWrapper` above works well for most ACS/WFC data, but if you want to adjust the parameters, please see the documentation for `acstools.findsat_mrt`."
   ]
  },
  {
   "cell_type": "markdown",
   "metadata": {},
   "source": [
    "The mask created by `WfcWrapper` casts a pretty wide net around the trail it finds, but there may be situations where you need to broaden it further, especially for very bright satellite trails. The `skimage.morphology.dilation` routine is one way to do this."
   ]
  },
  {
   "cell_type": "code",
   "execution_count": null,
   "metadata": {},
   "outputs": [],
   "source": [
    "mask_mrt = dilation(w.mask, square(10))  # adjust the box size to whatever you need\n",
    "w.mask = mask_mrt  # update the mask attribute in the WfcWrapper instance"
   ]
  },
  {
   "cell_type": "markdown",
   "metadata": {},
   "source": [
    "It is important to keep in mind that the mask we have created has the dimensions of the *binned* input image. It will need to be expanded before it can be used. This will be done in a later step"
   ]
  },
  {
   "cell_type": "markdown",
   "metadata": {},
   "source": [
    "### 2.2 Option B: Using satdet <a id=\"acs_satdet\"></a>\n",
    "\n",
    "The first command below runs the detection algorithm on the top chip only (extension 4) and generates some diagnostic plots. Note that the images are shown upside down from the figure above. "
   ]
  },
  {
   "cell_type": "code",
   "execution_count": null,
   "metadata": {},
   "outputs": [],
   "source": [
    "results, errors = detsat(flc_file,\n",
    "                         chips=[4],\n",
    "                         n_processes=4,\n",
    "                         plot=True,\n",
    "                         verbose=True)\n",
    "clear_output()"
   ]
  },
  {
   "cell_type": "markdown",
   "metadata": {},
   "source": [
    "The diagnostic plots can be used to verify that the satellite was properly detected. Changing parameters to adjust this task is beyond the scope of this notebook, but please consult the package documentation indicated above for instructions on how to do this. \n",
    "\n",
    "Assuming that the satellite trail was properly detected, masks can be made to flag the satellite in the data quality array (DQ) of the image. Below, we generate the satellite trail mask. The DQ array is updated in a later step.\n",
    "\n",
    "<div class=\"alert-warning\">Note: Users may see the satellite mask \"flare\" near the edges of the CCD. This is a known issue.</div>"
   ]
  },
  {
   "cell_type": "code",
   "execution_count": null,
   "metadata": {},
   "outputs": [],
   "source": [
    "trail_coords = results[(flc_file, 4)]\n",
    "trail_segment = trail_coords[0]\n",
    "trail_segment\n",
    "mask_satdet = make_mask(flc_file, 4, trail_segment, plot=True, verbose=True)"
   ]
  },
  {
   "cell_type": "markdown",
   "metadata": {},
   "source": [
    "### 2.3 Running AstroDrizzle <a id=\"acs_adriz\"></a>"
   ]
  },
  {
   "cell_type": "markdown",
   "metadata": {},
   "source": [
    "The next step is to run AstroDrizzle to combine the flc files into a final image, but first, we need to update the DQ array in the input fits file that contained the satellite trail. Once this information is in the DQ array, AstroDrizzle knows to ignore the flagged pixels when making the combined image. Below is one possible command to update the DQ array with one of the masks we created above using the `update_dq`, which sets the flagged pixels to 16384 in the DQ array. By default, we use the mask generated by findsat_mrt, but this can be changed. Note that if using the mask created by findsat_mrt, which was generated on a binned image, update_dq will automatically expand it to the original image dimensions.\n",
    "\n",
    "Here, we are updating pixels in the DQ array of SCI,2 (extension 6). If we were flagging a satellite on the bottom chip (SCI,1 or extension 1), the `update_dq` function would instead be used to modify extension 3. More detail on the ACS file structure may be found in the [ACS Data Handbook](http://www.stsci.edu/hst/acs/documents/handbooks/currentDHB/acs_Ch23.html)."
   ]
  },
  {
   "cell_type": "code",
   "execution_count": null,
   "metadata": {},
   "outputs": [],
   "source": [
    "final_mask = mask_mrt       # uncomment this line to use the mask from findsat_mrt\n",
    "# final_mask = mask_satdet  # uncomment this line to use the mask from satdet\n",
    "\n",
    "update_dq(flc_file, 6, final_mask, verbose=True, expand_mask=True)\n",
    "\n",
    "# note: if running findsat_mrt, you could also update the DQ array with:\n",
    "# w.updatedq()"
   ]
  },
  {
   "cell_type": "markdown",
   "metadata": {},
   "source": [
    " With the satellite masked, the images can be drizzled again. For brevity, only the top chip (SCI,2) of the image stack will be drizzled together to make a combined product. This is controlled in `AstroDrizzle` via the `group` parameter.\n",
    " \n",
    "Here, we get some recommended values for drizzling from the MDRIZTAB reference file.  The parameters in this file are different for each detector and are based on the number of input frames. These are a good starting point for drizzling and may be adjusted accordingly."
   ]
  },
  {
   "cell_type": "code",
   "execution_count": null,
   "metadata": {},
   "outputs": [],
   "source": [
    "# Set the locations of reference files to your local computer.\n",
    "os.environ['CRDS_SERVER_URL'] = 'https://hst-crds.stsci.edu'\n",
    "os.environ['CRDS_SERVER'] = 'https://hst-crds.stsci.edu'\n",
    "os.environ['CRDS_PATH'] = './crds_cache'\n",
    "os.environ['iref'] = './crds_cache/references/hst/wfc3/'\n",
    "os.environ['jref'] = './crds_cache/references/hst/acs/'"
   ]
  },
  {
   "cell_type": "code",
   "execution_count": null,
   "metadata": {},
   "outputs": [],
   "source": [
    "# The following lines of code find and download the MDRIZTAB reference file.\n",
    "input_images = sorted(glob.glob('j*_flc.fits'))\n",
    "\n",
    "mdz = fits.getval(input_images[0], 'MDRIZTAB', ext=0).split('$')[1]\n",
    "print('Searching for the MDRIZTAB file:', mdz)\n",
    "get_mdriztab = os.system('crds sync --hst --files ' + mdz + ' --output-dir '+os.environ['jref'])"
   ]
  },
  {
   "cell_type": "code",
   "execution_count": null,
   "metadata": {},
   "outputs": [],
   "source": [
    "input_images = sorted(glob.glob('j*_flc.fits'))\n",
    "\n",
    "\n",
    "def get_vals_from_mdriztab(input_images, kw_list=['driz_sep_bits', \n",
    "                                                  'combine_type', \n",
    "                                                  'driz_cr_snr', \n",
    "                                                  'driz_cr_scale', \n",
    "                                                  'final_bits']):\n",
    "    '''Get only selected parameters from. the MDRIZTAB'''\n",
    "\n",
    "    mdriz_dict = getMdriztabPars(input_images)\n",
    "    \n",
    "    requested_params = {}\n",
    "    \n",
    "    print('Outputting the following parameters:')\n",
    "    for k in kw_list:\n",
    "        requested_params[k] = mdriz_dict[k]\n",
    "        print(k, mdriz_dict[k])\n",
    "    \n",
    "    return requested_params"
   ]
  },
  {
   "cell_type": "code",
   "execution_count": null,
   "metadata": {},
   "outputs": [],
   "source": [
    "selected_params = get_vals_from_mdriztab(input_images)"
   ]
  },
  {
   "cell_type": "markdown",
   "metadata": {},
   "source": [
    "Note that the parameter `final_bits`= '336' is equivalend to `final_bits`= '256, 64, 16'\n",
    "We can now the drizzling step and show the output."
   ]
  },
  {
   "cell_type": "code",
   "execution_count": null,
   "metadata": {},
   "outputs": [],
   "source": [
    "# To override any of the above values, e.g.,\n",
    "# selected_params['final_bits']    = '64, 32'    #to treat saturated pixels 256 as bad and fill with NaN\n",
    "# selected_params['driz_cr_snr']   = '4.0 3.5'   #less aggressive cr-rejection threshold\n",
    "\n",
    "adriz(input_images,\n",
    "      output='automatic',\n",
    "      group='4',\n",
    "      preserve=False,\n",
    "      clean=True,\n",
    "      build=False,\n",
    "      context=False,\n",
    "      skymethod='match',\n",
    "      **selected_params)\n",
    "\n",
    "clear_output()"
   ]
  },
  {
   "cell_type": "code",
   "execution_count": null,
   "metadata": {},
   "outputs": [],
   "source": [
    "# Display the combined science and weight images \n",
    "\n",
    "sci = fits.getdata('automatic_drc_sci.fits')\n",
    "wht = fits.getdata('automatic_drc_wht.fits')\n",
    "\n",
    "fig = plt.figure(figsize=(15, 15))\n",
    "ax1 = fig.add_subplot(2, 1, 1)\n",
    "ax2 = fig.add_subplot(2, 1, 2)\n",
    "\n",
    "ax1.imshow(sci, vmin=0.09, vmax=0.15, cmap='Greys_r', origin='lower')\n",
    "ax1.set_xlabel('X')\n",
    "ax1.set_ylabel('Y')\n",
    "ax1.set_title('Drizzled science image')\n",
    "ax2.imshow(wht, vmin=2000, vmax=5000, cmap='Greys_r', origin='lower')\n",
    "ax2.set_xlabel('X')\n",
    "ax2.set_xlabel('Y')\n",
    "ax2.set_title('Drizzled weight image')"
   ]
  },
  {
   "cell_type": "markdown",
   "metadata": {},
   "source": [
    "The final drizzled product shows that the bright satellite trail and its wings have been removed. If you don't see the full trail removed, you may need to broaden the dilate the trail further, and make sure only the four original `j*_flc.fits` images are getting incorporated into the drizzled image (if you are rerunning AstroDrizzle and are not careful with the inputs, files from previous runs could be used by accident).  \n",
    "\n",
    "A second, fainter satellite can be seen from a different image in the stack, and this will be masked in the steps below. "
   ]
  },
  {
   "cell_type": "markdown",
   "metadata": {
    "collapsed": true,
    "jupyter": {
     "outputs_hidden": true
    }
   },
   "source": [
    "### 2.4. Manual masking of satellites and other anomalies <a id=\"acs_manual\"></a>\n",
    "\n",
    "While the automatic detection algorithm flagged and masked the large satellite trail, the image above shows a second trail from a different image in the stack. \n",
    "\n",
    "To get rid of this trail, we will demonstrate how a DS9 regions can be used. The example image displayed below shows a region around a satellite trail. \n",
    "\n",
    "This region was saved in image coordinates. **NOTE THAT REGIONS SAVED IN SKY COORDINATES WILL NOT WORK FOR THIS EXAMPLE**. Below is the contents of the region file.\n",
    "\n",
    "```\n",
    "# Region file format: DS9 version 4.1\n",
    "global color=green dashlist=8 3 width=1 font=\"helvetica 10 normal roman\" select=1 highlite=1 dash=0 fixed=0 edit=1 move=1 delete=1 include=1 source=1\n",
    "image\n",
    "polygon(1476.9255,1816.4415,1545.7465,1818.5921,2825.3869,485.1853,2765.1685,480.88399)\n",
    "```\n",
    "\n",
    "The `regions` package will be used to make masks out of region files. For details on how to use this package go [here](https://astropy-regions.readthedocs.io/en/stable/)."
   ]
  },
  {
   "cell_type": "code",
   "execution_count": null,
   "metadata": {},
   "outputs": [],
   "source": [
    "Image(filename='sat.jpeg')"
   ]
  },
  {
   "cell_type": "code",
   "execution_count": null,
   "metadata": {},
   "outputs": [],
   "source": [
    "# Reading region file\n",
    "region_string = '''# Region file format: DS9 version 4.1\n",
    "global color=green dashlist=8 3 width=1 font=\"helvetica 10 normal roman\" select=1 highlite=1 dash=0 fixed=0 edit=1 move=1 delete=1 include=1 source=1\n",
    "image\n",
    "polygon(1476.9255,1816.4415,1545.7465,1818.5921,2825.3869,485.1853,2765.1685,480.88399)'''\n",
    "region1 = Regions.parse(region_string, format='ds9')[0]\n",
    "\n",
    "# Making mask out of region file and masking DQ array\n",
    "with fits.open('jc8mb7t5q_flc.fits', mode='update') as hdu:\n",
    "\n",
    "    dq = hdu[6].data\n",
    "    mask = region1.to_mask().to_image(dq.shape)\n",
    "    mask = mask.astype(bool)\n",
    "    dq[mask] |= 16384      \n",
    "        \n",
    "norm1 = ImageNormalize(img, vmin=0, vmax=1000, stretch=LinearStretch())\n",
    "plt.figure(figsize=(16, 10))\n",
    "plt.imshow(dq, norm=norm1, cmap='gray_r', origin='lower')\n",
    "plt.title('DQ array of jc8mb7t5q_flc.fits[6] showing masked pixels', fontsize=20)"
   ]
  },
  {
   "cell_type": "markdown",
   "metadata": {},
   "source": [
    "With the satellite masked, the full set of images can be drizzled once more. "
   ]
  },
  {
   "cell_type": "code",
   "execution_count": null,
   "metadata": {},
   "outputs": [],
   "source": [
    "adriz(input_images,\n",
    "      output='manual',\n",
    "      group='4',\n",
    "      preserve=False,\n",
    "      clean=True,\n",
    "      build=False,\n",
    "      context=False,\n",
    "      skymethod='match',\n",
    "      **selected_params)\n",
    "\n",
    "clear_output()"
   ]
  },
  {
   "cell_type": "markdown",
   "metadata": {},
   "source": [
    "The new drizzled product shows that the second satellite trail and its wings have been removed."
   ]
  },
  {
   "cell_type": "code",
   "execution_count": null,
   "metadata": {
    "scrolled": true
   },
   "outputs": [],
   "source": [
    "# Display the combined science and weight images \n",
    "\n",
    "sci = fits.getdata('manual_drc_sci.fits')\n",
    "wht = fits.getdata('manual_drc_wht.fits')\n",
    "\n",
    "fig = plt.figure(figsize=(15, 15))\n",
    "ax1 = fig.add_subplot(2, 1, 1)\n",
    "ax2 = fig.add_subplot(2, 1, 2)\n",
    "\n",
    "ax1.imshow(sci, vmin=0.09, vmax=0.15, cmap='Greys_r', origin='lower')\n",
    "ax1.set_xlabel('X')\n",
    "ax1.set_ylabel('Y')\n",
    "ax1.set_title('Drizzled science image')\n",
    "ax2.imshow(wht, vmin=2000, vmax=5000, cmap='Greys_r', origin='lower')\n",
    "ax2.set_xlabel('X')\n",
    "ax2.set_ylabel('Y')\n",
    "ax2.set_title('Drizzled weight image')"
   ]
  },
  {
   "cell_type": "markdown",
   "metadata": {},
   "source": [
    "## 3. WFC3/UVIS Example  <a id=\"wfc3_uvis\"></a>\n",
    "[Table of Contents](#toc)\n",
    "\n",
    "\n",
    "The WFC3/UVIS images to be used are F350LP images from visit 11 of  NGC 4051 from GO program [14697](https://www.stsci.edu/cgi-bin/get-proposal-info?id=14697&observatory=HST). \n",
    "\n",
    "Although the both `findsat_mrt` and `satdet` were initially designed for use with ACS/WFC imaging data, they both also work well for WFC3/UVIS data. Thanks for the similar file structure, most calls to these programs are identical to the example above aside from modifying the file names. "
   ]
  },
  {
   "cell_type": "markdown",
   "metadata": {},
   "source": [
    "The image below shows the combined drizzled image from this association. The satellite trail can be seen going across the image from left to right.  It is partially masked by the routines in Drizzlepac that mask cosmic rays, but the wings of the satellite trail are still noticeable."
   ]
  },
  {
   "cell_type": "code",
   "execution_count": null,
   "metadata": {},
   "outputs": [],
   "source": [
    "Image(filename=obs_id_wfc3.lower() + '_drc.jpg', width=800, height=800)"
   ]
  },
  {
   "cell_type": "markdown",
   "metadata": {},
   "source": [
    "The bright satellite trail that caused this came from the image *id8m11g4q_flc.fits*. The figure below shows the top chip which is referred to as SCI,2 (or extension 4). "
   ]
  },
  {
   "cell_type": "code",
   "execution_count": null,
   "metadata": {},
   "outputs": [],
   "source": [
    "flc_file = 'id8m11g4q_flc.fits'  # defining this variable since we'll use it a lot"
   ]
  },
  {
   "cell_type": "code",
   "execution_count": null,
   "metadata": {},
   "outputs": [],
   "source": [
    "plt.style.use(astropy_mpl_style)\n",
    "img = fits.getdata(flc_file, ext=4)\n",
    "\n",
    "norm1 = ImageNormalize(img, vmin=100, vmax=200, stretch=LinearStretch())\n",
    "fig, ax = plt.subplots(figsize=(16, 16))\n",
    "c = ax.imshow(img, norm=norm1, cmap='gray_r', origin='lower')\n",
    "ax.set_xlabel('X')\n",
    "ax.set_ylabel('Y')\n",
    "ax.set_title(flc_file+'[4]')\n",
    "plt.grid()"
   ]
  },
  {
   "cell_type": "markdown",
   "metadata": {},
   "source": [
    "### 3.1 Option A: Using findsat_mrt <a id=\"wfc3_findsat_mrt\"></a>\n",
    "\n",
    "The `WfcWrapper` class is designed to make processing of ACS/WFC data quick and easy, but thanks for the identical file structure for WFC3/UVIS data, we can use this functionality again. In this example, we run `WfcWrapper` on the top chip only (SCI,1 or extension 4). `WfcWrapper` loads the data, prepares the image (applies rebinning, removes a background, and masks already identified bad pixels), and executes the detection routines. In this example, we rebin the data by 2 pixels in each direction and use 8 processes. You may want to adjust the binning and/or number of processes depending on your system. We also set a maximum trail width of 75 pixels (this can also be adjusted depending on your binning)."
   ]
  },
  {
   "cell_type": "code",
   "execution_count": null,
   "metadata": {},
   "outputs": [],
   "source": [
    "w = WfcWrapper(flc_file,\n",
    "               extension=4,\n",
    "               binsize=2,\n",
    "               processes=8,\n",
    "               max_width=75,\n",
    "               preprocess=True,\n",
    "               execute=True)\n",
    "\n",
    "clear_output()"
   ]
  },
  {
   "cell_type": "markdown",
   "metadata": {},
   "source": [
    "We can plot the mask on its own, or overlaid on the input image, where it can be seen on top of the input image"
   ]
  },
  {
   "cell_type": "code",
   "execution_count": null,
   "metadata": {},
   "outputs": [],
   "source": [
    "w.plot_mask()\n",
    "w.plot_image(overlay_mask=True)"
   ]
  },
  {
   "cell_type": "markdown",
   "metadata": {},
   "source": [
    "The mask created by `WfcWrapper` casts a pretty wide net around the trail it finds, but there may be situations where you need to broaden it further, especially for very bright satellite trails. The `skimage.morphology.dilation` is one way to do this."
   ]
  },
  {
   "cell_type": "code",
   "execution_count": null,
   "metadata": {},
   "outputs": [],
   "source": [
    "mask_mrt = dilation(w.mask, square(20))  # adjust the box size to whatever you need\n",
    "w.mask = mask_mrt                       # update the mask attribute in the WfcWrapper instance"
   ]
  },
  {
   "cell_type": "markdown",
   "metadata": {},
   "source": [
    "It is important to keep in mind that the mask we have created has the dimensions of the *binned* input image. It will need to be expanded before it can be used. This will be done in a later step."
   ]
  },
  {
   "cell_type": "markdown",
   "metadata": {},
   "source": [
    "### 3.2 Option B: Using satdet  <a id=\"wfc3_satdet\"></a>\n",
    "\n",
    "The first command below runs the detection algorithm on the top chip only (extension 4) and generates some diagnostic plots. Note that the images are shown upside down from the figure above. \n",
    "\n",
    "<div class=\"alert-danger\">Note: For this example WFC3/UVIS image, the values for the \"percentile\" keyword need to be adjusted from their defaults for the trail to be detected.</div>"
   ]
  },
  {
   "cell_type": "code",
   "execution_count": null,
   "metadata": {},
   "outputs": [],
   "source": [
    "results, errors = detsat(flc_file,\n",
    "                         chips=[4],\n",
    "                         n_processes=4,\n",
    "                         plot=True,\n",
    "                         verbose=True,\n",
    "                         percentile=(1, 99))\n",
    "clear_output()"
   ]
  },
  {
   "cell_type": "markdown",
   "metadata": {},
   "source": [
    "The diagnostic plots can be used to verify that the satellite was properly detected. Further changing the parameters to adjust this task is beyond the scope of this notebook, but please consult the package documentation indicated above for instructions on how to do this. \n",
    "\n",
    "Assuming that the satellite trail was properly detected, masks can be made to flag the satellite in the data quality array (DQ) of the image. Below, we generate the satellite trail mask. The DQ array is updated in a later step.\n",
    "\n",
    "<div class=\"alert-warning\">Note: Users may see the satellite mask \"flare\" near the edges of the CCD. This is a known issue.</div>"
   ]
  },
  {
   "cell_type": "code",
   "execution_count": null,
   "metadata": {},
   "outputs": [],
   "source": [
    "trail_coords = results[(flc_file, 4)]\n",
    "trail_segment = trail_coords[0]\n",
    "trail_segment\n",
    "mask_satdet = make_mask(flc_file, 4, trail_segment, plot=True, verbose=True)"
   ]
  },
  {
   "cell_type": "markdown",
   "metadata": {},
   "source": [
    "### 3.3 Running AstroDrizzle <a id=\"wfc3_adriz\"></a>\n",
    "\n",
    "The next step is to run AstroDrizzle to combine the flc files into a final image, but first, we need to update the DQ array in the input fits file that contained the satellite trail. Once this information is in the DQ array, AstroDrizzle knows to ignore the flagged pixels when making the combined image. Below is one possible command to update the DQ array with one of the masks we created above using the `update_dq`, which sets the flagged pixels to 16384 in the DQ array. By default, we use the mask generated by findsat_mrt, but this can be changed. Note that if using the mask created by findsat_mrt, which was generated on a binned image, update_dq will automatically expand it to the original image dimensions.\n",
    "\n",
    "Here, we are updating pixels in the DQ array of SCI,2 (extension 6). If we were flagging a satellite on the bottom chip (SCI,1 or extension 1), the `update_dq` function would instead be used to modify extension 3. More detail on the ACS file structure may be found in the [ACS Data Handbook](http://www.stsci.edu/hst/acs/documents/handbooks/currentDHB/acs_Ch23.html)."
   ]
  },
  {
   "cell_type": "code",
   "execution_count": null,
   "metadata": {},
   "outputs": [],
   "source": [
    "final_mask = mask_mrt  # uncomment this line to use the mask from findsat_mrt\n",
    "# final_mask = mask_satdet  # uncomment this line to use the mask from satdet\n",
    "\n",
    "update_dq(flc_file, 6, final_mask, verbose=True, expand_mask=True)\n",
    "\n",
    "# note: if running findsat_mrt, you could also update the DQ array with:\n",
    "# w.updatedq()"
   ]
  },
  {
   "cell_type": "markdown",
   "metadata": {},
   "source": [
    " With the satellite masked, the images can be drizzled again. For brevity, only the top chip (SCI,2) of the image stack will be drizzled together to make a combined product. This is controlled in `AstroDrizzle` via the `group` parameter. In case you did not run the ACS example, you also need to define some environment variables."
   ]
  },
  {
   "cell_type": "code",
   "execution_count": null,
   "metadata": {},
   "outputs": [],
   "source": [
    "# Set the locations of reference files to your local computer.\n",
    "os.environ['CRDS_SERVER_URL'] = 'https://hst-crds.stsci.edu'\n",
    "os.environ['CRDS_SERVER'] = 'https://hst-crds.stsci.edu'\n",
    "os.environ['CRDS_PATH'] = './crds_cache'\n",
    "os.environ['iref'] = './crds_cache/references/hst/wfc3/'\n",
    "os.environ['jref'] = './crds_cache/references/hst/acs/'"
   ]
  },
  {
   "cell_type": "code",
   "execution_count": null,
   "metadata": {},
   "outputs": [],
   "source": [
    "# The following lines of code find and download the MDRIZTAB reference file.\n",
    "input_images = sorted(glob.glob('i*_flc.fits'))\n",
    "\n",
    "mdz = fits.getval(input_images[0], 'MDRIZTAB', ext=0).split('$')[1]\n",
    "print('Searching for the MDRIZTAB file:', mdz)\n",
    "get_mdriztab = os.system('crds sync --hst --files '+mdz+' --output-dir '+os.environ['iref'])"
   ]
  },
  {
   "cell_type": "code",
   "execution_count": null,
   "metadata": {},
   "outputs": [],
   "source": [
    "input_uvis_images = sorted(glob.glob('i*_flc.fits'))\n",
    "\n",
    "\n",
    "def get_vals_from_mdriztab(input_uvis_images, kw_list=['driz_sep_bits',\n",
    "                                                       'combine_type',\n",
    "                                                       'driz_cr_snr',\n",
    "                                                       'driz_cr_scale',\n",
    "                                                       'final_bits']):\n",
    "    \n",
    "    '''Get only selected parameters from. the MDRIZTAB'''\n",
    "    mdriz_dict = getMdriztabPars(input_uvis_images)\n",
    "    \n",
    "    requested_params = {}\n",
    "    \n",
    "    print('Outputting the following parameters:')\n",
    "    for k in kw_list:\n",
    "        requested_params[k] = mdriz_dict[k]\n",
    "        print(k, mdriz_dict[k])\n",
    "    \n",
    "    return requested_params"
   ]
  },
  {
   "cell_type": "code",
   "execution_count": null,
   "metadata": {},
   "outputs": [],
   "source": [
    "selected_params = get_vals_from_mdriztab(input_uvis_images)"
   ]
  },
  {
   "cell_type": "markdown",
   "metadata": {},
   "source": [
    "We can now run the drizzling step and show the output"
   ]
  },
  {
   "cell_type": "code",
   "execution_count": null,
   "metadata": {},
   "outputs": [],
   "source": [
    "# To override any of the above values\n",
    "# selected_params['final_bits']    = '64, 32'    #to treat saturated pixels 256 as bad and fill with NaN\n",
    "# selected_params['driz_cr_snr']   = '4.0 3.5'   #less aggressive cr-rejection threshold\n",
    "\n",
    "adriz(input_uvis_images,\n",
    "      output='automatic_uvis',\n",
    "      group='4',\n",
    "      preserve=False,\n",
    "      clean=True,\n",
    "      build=False,\n",
    "      context=False,\n",
    "      skymethod='match',\n",
    "      **selected_params)\n",
    "\n",
    "clear_output()"
   ]
  },
  {
   "cell_type": "code",
   "execution_count": null,
   "metadata": {},
   "outputs": [],
   "source": [
    "# Display the combined science and weight images \n",
    "\n",
    "sci = fits.getdata('automatic_uvis_drc_sci.fits')\n",
    "wht = fits.getdata('automatic_uvis_drc_wht.fits')\n",
    "\n",
    "fig = plt.figure(figsize=(15, 15))\n",
    "ax1 = fig.add_subplot(2, 1, 1)\n",
    "ax2 = fig.add_subplot(2, 1, 2)\n",
    "\n",
    "ax1.imshow(sci, vmin=0.1, vmax=0.5, cmap='Greys_r', origin='lower')\n",
    "ax1.set_xlabel('X')\n",
    "ax1.set_ylabel('Y')\n",
    "ax1.set_title('Drizzled science image')\n",
    "ax2.imshow(wht, vmin=0, vmax=1000, cmap='Greys_r', origin='lower')\n",
    "ax2.set_xlabel('X')\n",
    "ax2.set_ylabel('Y')\n",
    "ax2.set_title('Drizzled weight image')"
   ]
  },
  {
   "cell_type": "markdown",
   "metadata": {},
   "source": [
    "The final drizzled product shows that the bright satellite trail and its wings have been removed. If you don't see the full trail removed, you may need to dilate the trail further, and make sure only the original `i*_flc.fits` images are getting incorporated into the drizzled image (if you are rerunning AstroDrizzle and are not careful with the inputs, files from previous runs could be used by accident)."
   ]
  },
  {
   "cell_type": "markdown",
   "metadata": {},
   "source": [
    "## About this Notebook <a id=\"about\"></a>\n",
    "[Table of Contents](#toc)\n",
    "\n",
    "\n",
    "    Created: 14 Dec 2018; R. Avila\n",
    "    Updated: 12 Jun 2023; A. O'Connor\n",
    "    Updated: 12 Mar 2024; D. Stark\n",
    "    Updated: 15 May 2024; D. Stark, R. Avila, & J. Mack\n",
    "\n",
    "**Source:** GitHub [spacetelescope/hst_notebooks](https://github.com/spacetelescope/hst_notebooks)\n",
    "\n",
    "## Additional Resources <a id=\"add\"></a>\n",
    "\n",
    "Below are some additional resources that may be helpful. Please send any questions through the [HST Help Desk](https://stsci.service-now.com/hst), selecting the DrizzlePac category. \n",
    "\n",
    "- [ACS Website](https://www.stsci.edu/hst/instrumentation/acs)\n",
    "- [ACS Instrument Handbook](https://hst-docs.stsci.edu/acsihb)\n",
    "- [ACS Data Handbook](https://hst-docs.stsci.edu/acsdhb)\n",
    "- [WFC3 Website](https://www.stsci.edu/hst/instrumentation/wfc3)\n",
    "- [WFC3 Instrument Handbook](https://hst-docs.stsci.edu/wfc3ihb)\n",
    "- [WFC3 Data Handbook](https://hst-docs.stsci.edu/wfc3dhb)\n",
    "- [Description of acstools.satdet](https://www.stsci.edu/files/live/sites/www/files/home/hst/instrumentation/acs/documentation/instrument-science-reports-isrs/_documents/isr1601.pdf)\n",
    "- [Description of acstools.findsat_mrt](https://www.stsci.edu/files/live/sites/www/files/home/hst/instrumentation/acs/documentation/instrument-science-reports-isrs/_documents/isr2208.pdf)\n",
    "- [Documentation for `regions` package](https://astropy-regions.readthedocs.io/en/stable/index.html)\n",
    "\n",
    "\n",
    "## Citations <a id=\"cite\"></a>\n",
    "If you use public Python packages (e.g., `astropy`, `astroquery`, `drizzlepac`, `matplotlib`) for published research, please cite the authors. Follow these links for more information about citing various packages.\n",
    "\n",
    "* [Citing `astropy`](https://www.astropy.org/acknowledging.html)\n",
    "* [Citing `astroquery`](https://github.com/astropy/astroquery/blob/main/astroquery/CITATION)\n",
    "* [Citing `drizzlepac`](https://zenodo.org/records/3743274)\n",
    "* [Citing `matplotlib`](https://matplotlib.org/stable/users/project/citing.html)\n",
    "* [Citing `skimage`](https://scikit-image.org/)\n",
    "* [Citing `acstools`](https://ui.adsabs.harvard.edu/abs/2020ascl.soft11024L/abstract)\n",
    "***\n",
    "\n",
    "[Top of Page](#top)\n",
    "<img style=\"float: right;\" src=\"https://raw.githubusercontent.com/spacetelescope/notebooks/master/assets/stsci_pri_combo_mark_horizonal_white_bkgd.png\" alt=\"Space Telescope Logo\" width=\"200px\"/> "
   ]
  }
 ],
 "metadata": {
  "kernelspec": {
   "display_name": "Python 3 (ipykernel)",
   "language": "python",
   "name": "python3"
  },
  "language_info": {
   "codemirror_mode": {
    "name": "ipython",
    "version": 3
   },
   "file_extension": ".py",
   "mimetype": "text/x-python",
   "name": "python",
   "nbconvert_exporter": "python",
   "pygments_lexer": "ipython3",
   "version": "3.11.7"
  }
 },
 "nbformat": 4,
 "nbformat_minor": 4
}
