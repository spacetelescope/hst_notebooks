{
 "cells": [
  {
   "cell_type": "markdown",
   "metadata": {},
   "source": [
    "# Satellite Trail Masking Techniques"
   ]
  },
  {
   "cell_type": "markdown",
   "metadata": {},
   "source": [
    "<div class=\"alert-danger\">Note: The notebook in this repository 'Initializtion.ipynb' goes over many of the basic concepts such as the setup of the environment/package installation and should be read first if you are new to HST images, DrizzlePac, or Astroquery.</div>"
   ]
  },
  {
   "cell_type": "markdown",
   "metadata": {},
   "source": [
    "## Introduction\n",
    "\n",
    "Even though Hubble has a small field of view, satellites are commonly captured in images. The cosmic ray rejection algorithm in Astrodrizzle is not well suited to eliminate satellite trails, and the affected adjacent pixels that make up their wings leave ugly blemishes in stacked images. \n",
    "\n",
    "To fix this problem, the pixels around satellite trails need to be marked as bad in the affected images. There are several ways to do this. The ACS Team has developed multiple algorithms to automatically detect and mask satellite trails. This is the easiest and most convenient way. Masks can also be made manually using DS9 regions. While not as convenient, making masks manually allows you to mask not only satellites, but also any other anomalies with odd shapes (e.g. dragon's breath, glint, blooming). \n",
    "\n",
    "Both methods are explained below. "
   ]
  },
  {
   "cell_type": "code",
   "execution_count": null,
   "metadata": {},
   "outputs": [],
   "source": [
    "import os\n",
    "import shutil\n",
    "\n",
    "from astropy.io import fits\n",
    "from astroquery.mast import Observations\n",
    "from astropy.visualization import astropy_mpl_style, ImageNormalize, LinearStretch\n",
    "from IPython.display import Image\n",
    "import matplotlib.pyplot as plt\n",
    "import pyregion\n",
    "\n",
    "import acstools\n",
    "from acstools.findsat_mrt import WfcWrapper\n",
    "from acstools.utils_findsat_mrt import update_dq\n",
    "from acstools.satdet import detsat, make_mask\n",
    "from astropy.nddata import block_replicate\n",
    "from drizzlepac.astrodrizzle import AstroDrizzle as adriz\n",
    "\n",
    "%matplotlib inline"
   ]
  },
  {
   "cell_type": "markdown",
   "metadata": {},
   "source": [
    "## 1. Dowload the Data\n",
    "\n",
    "The images to be used are the F814W images of visit B7 from GO program [13498](http://www.stsci.edu/cgi-bin/get-proposal-info?id=13498&observatory=HST). These come from the Hubble Frontier Fields program and are images of the the galaxy cluster MACSJ0717.5+3745. \n",
    "\n",
    "There are four dithered exposures in the association to be downloaded."
   ]
  },
  {
   "cell_type": "code",
   "execution_count": null,
   "metadata": {},
   "outputs": [],
   "source": [
    "# Searching for the observsation\n",
    "results = Observations.query_criteria(obs_id='JC8MB7020', obstype='all')\n",
    "\n",
    "# Downloading previews and FLC files\n",
    "jpg_download = Observations.download_products(results['obsid'], mrp_only=False, extension=['jpg'])\n",
    "flc_download = Observations.download_products(results['obsid'], productSubGroupDescription=['FLC'], mrp_only=False)"
   ]
  },
  {
   "cell_type": "code",
   "execution_count": null,
   "metadata": {},
   "outputs": [],
   "source": [
    "# Cleaning up directories after downloading from MAST\n",
    "if os.path.exists('mastDownload'):\n",
    "    for file in jpg_download['Local Path']:\n",
    "        if 'drc' in file:\n",
    "            os.rename(file, os.path.basename(file))\n",
    "\n",
    "    for file in flc_download['Local Path']:\n",
    "        os.rename(file, os.path.basename(file))\n",
    "\n",
    "    shutil.rmtree('mastDownload')\n",
    "\n",
    "else:\n",
    "    pass"
   ]
  },
  {
   "cell_type": "markdown",
   "metadata": {},
   "source": [
    "The image below shows the combined drizzled image from this association. The satellite trail can be seen going across the image from left to right, just above the center of the image. "
   ]
  },
  {
   "cell_type": "code",
   "execution_count": null,
   "metadata": {},
   "outputs": [],
   "source": [
    "Image(filename='jc8mb7020_drc.jpg', width=900, height=900)"
   ]
  },
  {
   "cell_type": "markdown",
   "metadata": {},
   "source": [
    "The bright satellite trail that caused this came from the image *jc8mb7cq_flc.fits*. The figure below shows the top chip which is referred to as SCI,2 (or extension 4). "
   ]
  },
  {
   "cell_type": "code",
   "execution_count": null,
   "metadata": {},
   "outputs": [],
   "source": [
    "plt.style.use(astropy_mpl_style)\n",
    "img = fits.getdata('jc8mb7tcq_flc.fits', ext=4)\n",
    "\n",
    "norm1 = ImageNormalize(img, vmin=100, vmax=200, stretch=LinearStretch())\n",
    "#plt.figure(figsize=(16, 16))\n",
    "fig,ax=plt.subplots(figsize=(16,16))\n",
    "c=ax.imshow(img, norm=norm1, cmap='gray_r', origin='lower')\n",
    "plt.colorbar(c,orientation='horizontal')\n",
    "plt.grid()\n"
   ]
  },
  {
   "cell_type": "markdown",
   "metadata": {},
   "source": [
    "## 2. Automated tools for masking satellites\n",
    "\n",
    "The ACS Team developed multiple algorithms to automatically detect and mask satellite trails. The newest is a module called `findsat_mrt` and is decribed in [ISR ACS 2022-08](https://www.stsci.edu/files/live/sites/www/files/home/hst/instrumentation/acs/documentation/instrument-science-reports-isrs/_documents/isr2208.pdf). The 'readthedocs' page can be found here: [MRT-based Satellite Trail Detection](https://acstools.readthedocs.io/en/latest/findsat_mrt.html). The second module is called `satdet` and is described in [ISR ACS 2016-01](http://www.stsci.edu/hst/acs/documents/isrs/isr1601.pdf).  The 'readthedocs' page for the software can be found here: [Satellite Trails Detection](https://acstools.readthedocs.io/en/stable/satdet.html). `findsat_mrt` has the benefit of significantly improved sensitivity over `satdet` but it is more computationally demanding. We demonstrate both approaches below."
   ]
  },
  {
   "cell_type": "markdown",
   "metadata": {},
   "source": [
    "### 2a. Using findsat_mrt\n",
    "\n",
    "The `WfcWrapper` class provides a simple one-line approach to creating a mask for satellite trails. In this example, we run `WfcWrapper` on the top chip only (SCI,1 or extension 4). `WfcWrapper` loads the data, prepares the image (applies rebinning, removes a background, and masks already identified bad pixels), and executes the detection routines. In this example, we rebin the data by 2 pixels in each direction and use 8 processes. You may want to adjust the binning and/or number of processes depending on your system. We also set a maximum trail width of 75 pixels (this can also be adjusted depending on your binning)."
   ]
  },
  {
   "cell_type": "code",
   "execution_count": null,
   "metadata": {
    "scrolled": true
   },
   "outputs": [],
   "source": [
    "w = WfcWrapper('jc8mb7tcq_flc.fits', \n",
    "               extension=4, \n",
    "               binsize=2, \n",
    "               processes=8, \n",
    "               max_width=75,\n",
    "               preprocess=True, \n",
    "               execute=True)"
   ]
  },
  {
   "cell_type": "markdown",
   "metadata": {},
   "source": [
    "We can plot the mask on its own, or overlaid on the input image. "
   ]
  },
  {
   "cell_type": "code",
   "execution_count": null,
   "metadata": {},
   "outputs": [],
   "source": [
    "w.plot_mask()\n",
    "w.plot_image(overlay_mask=True)"
   ]
  },
  {
   "cell_type": "markdown",
   "metadata": {},
   "source": [
    "We clearly see the mask covering the satellite trail. The call to `WfcWrapper` above works well for most ACS/WFC data, but if you want to adjust the parameters, please see the documentation for `acstools.findsat_mrt`.\n",
    "\n",
    "The routine `update_dq` can be used to include the satellite mask in the data quality (DQ) array for this image. Note that the mask has the dimensions of the rebinned image, so you will need to first expand the mask to the original dimensions. This can be easily accomplished using the `astropy.nddata.block_replicate` routine."
   ]
  },
  {
   "cell_type": "code",
   "execution_count": null,
   "metadata": {
    "scrolled": false
   },
   "outputs": [],
   "source": [
    "w.mask = block_replicate(w.mask, 2, conserve_sum=False)\n",
    "w.update_dq()"
   ]
  },
  {
   "cell_type": "code",
   "execution_count": null,
   "metadata": {},
   "outputs": [],
   "source": [
    "fig,ax=plt.subplots(figsize=(16,16))\n",
    "#plt.figure(figsize=(16, 16))\n",
    "ax.imshow(w.mask, cmap='gray_r', origin='lower')\n",
    "ax.set_title('Satellite Trail Mask')\n",
    "#plt.colorbar(orientation='horizontal')"
   ]
  },
  {
   "cell_type": "markdown",
   "metadata": {},
   "source": [
    "The mask created by `WfcWrapper` casts a pretty wide net around the trail it finds, but there may be situations where you need to broaden it further. The `skimage.morphology.dilation` is one way to do this."
   ]
  },
  {
   "cell_type": "code",
   "execution_count": null,
   "metadata": {},
   "outputs": [],
   "source": [
    "from skimage.morphology import dilation\n",
    "from skimage.morphology import square\n",
    "dilated = dilation(w.mask,square(10))  # adjust the box size to whatever you need\n",
    "w.mask = dilated\n",
    "w.update_dq()"
   ]
  },
  {
   "cell_type": "markdown",
   "metadata": {},
   "source": [
    "### 2b. Using satdet\n",
    "\n",
    "The first command below runs the detection algorithm on the top chip only (extension 4) and generates some diagnostic plots. Note that the images are shown upside down from the figure above. "
   ]
  },
  {
   "cell_type": "code",
   "execution_count": null,
   "metadata": {},
   "outputs": [],
   "source": [
    "results, errors = detsat('jc8mb7tcq_flc.fits',\n",
    "                         chips=[4],\n",
    "                         n_processes=4,\n",
    "                         plot=True,\n",
    "                         verbose=True)"
   ]
  },
  {
   "cell_type": "markdown",
   "metadata": {},
   "source": [
    "The diagnostic plots can be used to verify that the satellite was properly detected. Changing parameters to adjust this task is beyond the scope of this notebook, but please consult the package documentation indicated above for instructions on how to do this. \n",
    "\n",
    "Assuming that the satellite trail was properly detected, masks can be made to flag the satellite in the data quality array (DQ) of the image. Once this information is in the DQ array, AstroDrizzle knows to ignore the flagged pixels when making the combined image.  The function `update_dq` is used to flag pixels in the DQ array of SCI,2 (extension 6) using the default flag value of 16384. \n",
    "\n",
    "If the satellite were instead on the bottom chip (SCI,1 or extension 1), the `update_dq` function would instead be used to modify extension 3. More detail on the ACS file structure may be found in the [ACS Data Handbook](http://www.stsci.edu/hst/acs/documents/handbooks/currentDHB/acs_Ch23.html)."
   ]
  },
  {
   "cell_type": "code",
   "execution_count": null,
   "metadata": {},
   "outputs": [],
   "source": [
    "trail_coords = results[('jc8mb7tcq_flc.fits', 4)]\n",
    "trail_segment = trail_coords[0]\n",
    "trail_segment\n",
    "mask = make_mask('jc8mb7tcq_flc.fits', 4, trail_segment, plot=True, verbose=True)\n",
    "update_dq('jc8mb7tcq_flc.fits', 6, mask, verbose=True)"
   ]
  },
  {
   "cell_type": "markdown",
   "metadata": {},
   "source": [
    "With the satellite masked, the images can be drizzled again. For brevity, only the top chip (SCI,2) of the image stack will be drizzled together to make a combined product. This is controlled in `AstroDrizzle` via the `group` parameter."
   ]
  },
  {
   "cell_type": "code",
   "execution_count": null,
   "metadata": {},
   "outputs": [],
   "source": [
    "adriz('j*flc.fits',\n",
    "      output='automatic',\n",
    "      runfile='',\n",
    "      context=False,\n",
    "      group='4',\n",
    "      overwrite=True,\n",
    "      build=True,\n",
    "      num_cores=1,\n",
    "      preserve=False,\n",
    "      clean=True,\n",
    "      driz_sep_bits='64,16',\n",
    "      final_bits='64,16')"
   ]
  },
  {
   "cell_type": "code",
   "execution_count": null,
   "metadata": {},
   "outputs": [],
   "source": [
    "img = fits.getdata('automatic_drc.fits', ext=1)\n",
    "\n",
    "norm1 = ImageNormalize(img, vmin=-0.01, vmax=0.02, stretch=LinearStretch())\n",
    "plt.figure(figsize=(20, 20))\n",
    "plt.imshow(img, norm=norm1, cmap='gray_r', origin='lower')\n",
    "plt.colorbar(orientation='horizontal')"
   ]
  },
  {
   "cell_type": "markdown",
   "metadata": {},
   "source": [
    "The final drizzled product shows that the bright satellite trail and its wings have been removed. If you don't see the full trail removed, you may need to broaden the dilate the trail further, and make sure only the four original `j*_flc.fits` images are getting incorporated into the drizzled image (if you are rerunning AstroDrizzle and are not careful with the inputs, files from previous runs could be used by accident).  \n",
    "\n",
    "A second, fainter satellite can be seen from a different image in the stack, and this will be masked in the steps below. "
   ]
  },
  {
   "cell_type": "markdown",
   "metadata": {
    "collapsed": true
   },
   "source": [
    "## 3. Manual masking of satellites and other anomalies\n",
    "\n",
    "While the automatic detection algorithm flagged and masked the large satellite trail, the image above shows a second trail from a different image in the stack. \n",
    "\n",
    "To get rid of this trail, we will demonstrate how a DS9 regions can be used. The example image displayed below shows a region around a satellite trail. \n",
    "\n",
    "This region was saved in image coordinates. **NOTE THAT REGIONS SAVED IN SKY COORDINATES WILL NOT WORK FOR THIS EXAMPLE**. Below is the contents of the region file.\n",
    "\n",
    "```\n",
    "# Region file format: DS9 version 4.1\n",
    "global color=green dashlist=8 3 width=1 font=\"helvetica 10 normal roman\" select=1 highlite=1 dash=0 fixed=0 edit=1 move=1 delete=1 include=1 source=1\n",
    "image\n",
    "polygon(1476.9255,1816.4415,1545.7465,1818.5921,2825.3869,485.1853,2765.1685,480.88399)\n",
    "```\n",
    "\n",
    "The `pyregion` package will be used to make masks out of region files. For details on how to use this package go [here](https://pyregion.readthedocs.io/en/latest/). (*This package will eventually be superseded by the astropy affiliated `regions` package*.)"
   ]
  },
  {
   "cell_type": "code",
   "execution_count": null,
   "metadata": {},
   "outputs": [],
   "source": [
    "Image(filename='sat.jpeg')"
   ]
  },
  {
   "cell_type": "code",
   "execution_count": null,
   "metadata": {},
   "outputs": [],
   "source": [
    "# Reading region file\n",
    "reg_file = pyregion.parse('''# Region file format: DS9 version 4.1\n",
    "global color=green dashlist=8 3 width=1 font=\"helvetica 10 normal roman\" select=1 highlite=1 dash=0 fixed=0 edit=1 move=1 delete=1 include=1 source=1\n",
    "image\n",
    "polygon(1476.9255,1816.4415,1545.7465,1818.5921,2825.3869,485.1853,2765.1685,480.88399)''')\n",
    "\n",
    "# Making mask out of region file and masking DQ array\n",
    "with fits.open('jc8mb7t5q_flc.fits', mode='update') as hdu:\n",
    "\n",
    "    dq = hdu[6].data\n",
    "    mask = reg_file.get_mask(shape=dq.shape)\n",
    "    dq[mask] |= 16384      \n",
    "        \n",
    "norm1 = ImageNormalize(img, vmin=0, vmax=1000, stretch=LinearStretch())\n",
    "plt.figure(figsize=(16, 10))\n",
    "plt.imshow(dq, norm=norm1, cmap='gray_r', origin='lower')\n",
    "plt.title('DQ array of jc8mb7t5q_flc.fits[6] showing masked pixels', fontsize=20)"
   ]
  },
  {
   "cell_type": "markdown",
   "metadata": {},
   "source": [
    "With the satellite masked, the full set of images can be drizzled once more. "
   ]
  },
  {
   "cell_type": "code",
   "execution_count": null,
   "metadata": {},
   "outputs": [],
   "source": [
    "adriz('j*flc.fits',\n",
    "      output='manual',\n",
    "      runfile='',\n",
    "      context=False,\n",
    "      group='4',\n",
    "      build=True,\n",
    "      num_cores=1,\n",
    "      preserve=False,\n",
    "      clean=True,\n",
    "      driz_sep_bits='16, 64',\n",
    "      final_bits='16, 64')"
   ]
  },
  {
   "cell_type": "markdown",
   "metadata": {},
   "source": [
    "The new drizzled product shows that the second satellite trail and its wings have been removed."
   ]
  },
  {
   "cell_type": "code",
   "execution_count": null,
   "metadata": {},
   "outputs": [],
   "source": [
    "img = fits.getdata('manual_drc.fits', ext=1)\n",
    "\n",
    "norm1 = ImageNormalize(img, vmin=-0.01, vmax=0.02, stretch=LinearStretch())\n",
    "plt.figure(figsize=(20, 20))\n",
    "plt.imshow(img, norm=norm1, cmap='gray_r', origin='lower')\n",
    "plt.colorbar(orientation='horizontal')\n",
    "plt.grid()"
   ]
  },
  {
   "cell_type": "markdown",
   "metadata": {},
   "source": [
    "## About this Notebook\n",
    "\n",
    "    Author: R. Avila, STScI ACS Team  \n",
    "    Updated: December 14, 2018\n",
    "    Updated: June 12, 2023 by A. O'Connor, STScI WFC3 Team "
   ]
  },
  {
   "cell_type": "code",
   "execution_count": null,
   "metadata": {},
   "outputs": [],
   "source": []
  }
 ],
 "metadata": {
  "kernelspec": {
   "display_name": "Python 3 (ipykernel)",
   "language": "python",
   "name": "python3"
  },
  "language_info": {
   "codemirror_mode": {
    "name": "ipython",
    "version": 3
   },
   "file_extension": ".py",
   "mimetype": "text/x-python",
   "name": "python",
   "nbconvert_exporter": "python",
   "pygments_lexer": "ipython3",
   "version": "3.10.11"
  }
 },
 "nbformat": 4,
 "nbformat_minor": 2
}
