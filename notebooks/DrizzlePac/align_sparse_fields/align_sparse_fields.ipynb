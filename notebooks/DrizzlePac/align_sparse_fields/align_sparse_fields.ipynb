{
 "cells": [
  {
   "cell_type": "markdown",
   "metadata": {},
   "source": [
    "# Aligning Deep Exposures of Sparse Fields "
   ]
  },
  {
   "cell_type": "markdown",
   "metadata": {},
   "source": [
    "<div class=\"alert alert-block alert-warning\" style=\"color:black\" > <b> This notebook requires creating and activating a virtual environment using the requirements file in this notebook's repository. Please also review the README file before using the notebook.</b> <br> </div>"
   ]
  },
  {
   "cell_type": "markdown",
   "metadata": {},
   "source": [
    "<a id=\"toc\"></a>\n",
    "## Table of Contents\n",
    "\n",
    "[Introduction](#intro) <br>\n",
    "\n",
    "[1. Download the Observations with `astroquery`](#download) <br>\n",
    "&nbsp;&nbsp;&nbsp;&nbsp;[1.1 Check image header data](#check_keywords) <br>\n",
    "&nbsp;&nbsp;&nbsp;&nbsp;[1.2 Inspect the alignment](#check_wcs) <br>\n",
    "\n",
    "[2. Align with `TweakReg`](#tweakreg) <br>\n",
    "\n",
    "&nbsp;&nbsp;&nbsp;&nbsp;[2.1 Use 'default' parameters (Test1)](#test1) <br>\n",
    "&nbsp;&nbsp;&nbsp;&nbsp;[2.2 Adjust conv_width to find extended objects (Test 2)](#test2) <br>\n",
    "&nbsp;&nbsp;&nbsp;&nbsp;[2.3 Exclude flagged pixels with `dqbits` (Test 3)](#test3) <br>\n",
    "&nbsp;&nbsp;&nbsp;&nbsp;[2.4 Overplot Matched Sources on the Image](#overplot) <br>\n",
    "&nbsp;&nbsp;&nbsp;&nbsp;[2.5 Rerun TweakReg to update the header WCS](#updatehdr) <br>\n",
    "\n",
    "[3. Combine the Images using `AstroDrizzle`](#adriz) <br>\n",
    "\n",
    "[4. Inspect the drizzled science and weight images](#display) <br>\n",
    "\n",
    "The following Python packages are required to run the Jupyter Notebook:\n",
    " - [**collections**](https://docs.python.org/3/library/collections.html) - include specialized datatypes\n",
    " - [**glob**](https://docs.python.org/3/library/glob.html) - gather lists of filenames\n",
    " - [**os**](https://docs.python.org/3/library/os.html) - change and make directories \n",
    " - [**shutil**](https://docs.python.org/3/library/shutil.html) - perform high-level file operations\n",
    " - [**iPython**](https://ipython.readthedocs.io/en/stable/) - interactive handling\n",
    " - [**matplotlib**](https://matplotlib.org) - create graphics\n",
    " - [**numpy**](https://numpy.org) - math and array functions\n",
    " - [**astropy**](https://www.astropy.org) - FITS file handling and related operations\n",
    " - [**astroquery**](https://astroquery.readthedocs.io/en/latest/) - download data and query databases\n",
    " - [**drizzlepac**](https://drizzlepac.readthedocs.io/en/latest/) - align and combine HST images"
   ]
  },
  {
   "cell_type": "markdown",
   "metadata": {
    "nbpresent": {
     "id": "0d33cc02-bd22-422e-974b-893db4bc8a2e"
    }
   },
   "source": [
    "## Introduction <a id=\"intro\"></a>\n",
    "[Table of Contents](#toc)\n",
    "\n",
    "This notebook demonstrates aligning long exposures which have relatively few stars and a large number of cosmic rays. It is based on the example described in the ISR linked here ([ACS ISR 2015-04: Basic Use of SExtractor Catalogs With TweakReg - I](https://ui.adsabs.harvard.edu/abs/2015acs..rept....4L/abstract)), but uses a much simpler methodology.\n",
    "\n",
    "Rather than making use of external software (e.g. [SExtractor](http://www.astromatic.net/software/sextractor)) and going through the extra steps to create 'cosmic-ray cleaned' images for each visit, this notebook demonstrates new features in `TweakReg` designed to mitigate false detections.\n",
    "\n",
    "`TweakReg`’s source finding task `imagefind` includes parameters to exclude false detections and allows the software to more easily solve for the image offsets using matched sources lists. For example, `dqbits` is a list of DQ flag values to include as 'good' or to exclude as 'bad' before generating and matching source lists. For ACS/WFC, setting `dqbits=-16` will mask hot pixels flagged by the instrument team, eliminating a common problem where `TweakReg` locks onto hot pixels and solves for the dither pattern. This can occur when users set the detection threshold value too low and hot pixels outnumber astronomical sources. Other new parameters allow selection for sharpness and roundness, which give users better control over source selection criteria and the mitigation of artifacts. More details on imagefindpars options may be found on the following [webpage](https://drizzlepac.readthedocs.io/en/latest/user_reprocessing/imagefindpars.html)."
   ]
  },
  {
   "cell_type": "markdown",
   "metadata": {},
   "source": [
    "Please also make sure to appropriately set your environment variables to allow Python to locate the appropriate reference files."
   ]
  },
  {
   "cell_type": "code",
   "execution_count": null,
   "metadata": {
    "nbpresent": {
     "id": "6c8b2858-62fe-40bd-a114-8257661e0b0b"
    }
   },
   "outputs": [],
   "source": [
    "import glob\n",
    "import os\n",
    "import shutil\n",
    "\n",
    "from collections import defaultdict\n",
    "from IPython.display import Image, clear_output\n",
    "\n",
    "import matplotlib.pyplot as plt\n",
    "import numpy as np\n",
    "\n",
    "from astropy.io import ascii, fits\n",
    "from astropy.table import Table\n",
    "from astropy.visualization import ZScaleInterval\n",
    "\n",
    "from astroquery.mast import Observations\n",
    "\n",
    "from drizzlepac import tweakreg, astrodrizzle\n",
    "\n",
    "%matplotlib inline\n",
    "%config InlineBackend.figure_format = 'retina' # Improves the resolution of figures rendered in notebooks."
   ]
  },
  {
   "cell_type": "markdown",
   "metadata": {},
   "source": [
    "Along with the above imports, we also set up the required local reference files."
   ]
  },
  {
   "cell_type": "code",
   "execution_count": null,
   "metadata": {},
   "outputs": [],
   "source": [
    "# Set the locations of reference files to your local computer.\n",
    "os.environ['CRDS_SERVER_URL'] = 'https://hst-crds.stsci.edu'\n",
    "os.environ['CRDS_SERVER'] = 'https://hst-crds.stsci.edu'\n",
    "os.environ['CRDS_PATH'] = './crds_cache'\n",
    "os.environ['iref'] = './crds_cache/references/hst/wfc3/'\n",
    "os.environ['jref'] = './crds_cache/references/hst/acs/'"
   ]
  },
  {
   "cell_type": "markdown",
   "metadata": {
    "nbpresent": {
     "id": "71a61091-6c4e-4567-880e-8d9908e4dfa4"
    }
   },
   "source": [
    "## 1. Download the Observations with `astroquery` <a id=\"download\"></a>\n",
    "[Table of Contents](#toc)\n",
    "\n",
    "---\n",
    "MAST queries may be done using <a href=\"https://astroquery.readthedocs.io/en/latest/mast/mast_obsquery.html#observation-criteria-queries\"> `query_criteria`</a>, where we specify: <br>\n",
    "\n",
    "&nbsp;&nbsp;&nbsp;&nbsp;--> obs_id, proposal_id, and filters \n",
    "\n",
    "MAST data products may be downloaded by using <a href=\"https://astroquery.readthedocs.io/en/latest/mast/mast_obsquery.html#downloading-data\"> `download_products`</a>, where we specify:<br> \n",
    "\n",
    "&nbsp;&nbsp;&nbsp;&nbsp;--> products = calibrated (FLT, FLC) or drizzled (DRZ, DRC) files\n",
    "\n",
    "&nbsp;&nbsp;&nbsp;&nbsp;--> type = standard products (CALxxx) or advanced products (HAP-SVM)\n",
    "____\n",
    "The data in this example are comprised of 4 exposures in the F814W filter, all from Visit 0X of HST program 10092. Each exposure was dithered by ~60 pixels along the y-axis in order to obtain coverage in the area of the CCD chip gap. The X and Y dithers are given in arcseconds by the `POSTARG1` and `POSTARG2` keywords recorded in the image header.\n",
    "\n",
    "The following commands query MAST, download the calibrated, CTE-corrected FLC files, and place them in the same 'working' directory as this notebook. \n",
    "\n",
    "                j8xi0xs0q_flc.fits\n",
    "                j8xi0xs3q_flc.fits\n",
    "                j8xi0xs6q_flc.fits\n",
    "                j8xi0xsaq_flc.fits\n",
    "<div class=\"alert alert-block alert-warning\" style=\"color:black\" >  Depending on your connection speed, this cell may take a few minutes to execute. </div>"
   ]
  },
  {
   "cell_type": "code",
   "execution_count": null,
   "metadata": {},
   "outputs": [],
   "source": [
    "obs_ids = [\"j8xi0x*\"]\n",
    "props = [\"10092\"]\n",
    "filts = [\"F814W\"]\n",
    "\n",
    "obsTable = Observations.query_criteria(obs_id=obs_ids, proposal_id=props, filters=filts)\n",
    "products = Observations.get_product_list(obsTable)\n",
    "\n",
    "data_prod = [\"FLC\"]  # ['FLC','FLT','DRC','DRZ']\n",
    "data_type = [\"CALACS\"]  # ['CALACS','CALWF3','CALWP2','HAP-SVM']\n",
    "\n",
    "Observations.download_products(\n",
    "    products, productSubGroupDescription=data_prod, project=data_type, cache=True\n",
    ")"
   ]
  },
  {
   "cell_type": "code",
   "execution_count": null,
   "metadata": {},
   "outputs": [],
   "source": [
    "# Move the files to the local working directory\n",
    "for flc in glob.glob(\"./mastDownload/HST/*/*flc.fits\"):\n",
    "    flc_name = os.path.basename(flc)\n",
    "    os.rename(flc, flc_name)\n",
    "if os.path.exists(\"mastDownload\"):\n",
    "    shutil.rmtree(\"mastDownload\")"
   ]
  },
  {
   "cell_type": "markdown",
   "metadata": {},
   "source": [
    "### 1.1 Check image header data <a id=\"check_keywords\"></a>\n",
    "\n",
    "Here we will look at important keywords in the image headers."
   ]
  },
  {
   "cell_type": "code",
   "execution_count": null,
   "metadata": {},
   "outputs": [],
   "source": [
    "input_files = sorted(glob.glob(\"*flc.fits\"))\n",
    "data = []\n",
    "keywords_ext0 = [\n",
    "    \"ROOTNAME\",\n",
    "    \"ASN_ID\",\n",
    "    \"TARGNAME\",\n",
    "    \"DETECTOR\",\n",
    "    \"FILTER2\",\n",
    "    \"exptime\",\n",
    "    \"ra_targ\",\n",
    "    \"dec_targ\",\n",
    "    \"postarg1\",\n",
    "    \"postarg2\",\n",
    "    \"DATE-OBS\",\n",
    "]\n",
    "keywords_ext1 = [\"orientat\"]\n",
    "\n",
    "for path in input_files:\n",
    "    path_data = []\n",
    "    for keyword in keywords_ext0:\n",
    "        path_data.append(fits.getval(path, keyword, ext=0))\n",
    "    for keyword in keywords_ext1:\n",
    "        path_data.append(fits.getval(path, keyword, ext=1))\n",
    "    data.append(path_data)\n",
    "\n",
    "keywords = keywords_ext0 + keywords_ext1\n",
    "table = Table(\n",
    "    np.array(data),\n",
    "    names=keywords,\n",
    "    dtype=[\n",
    "        \"str\",\n",
    "        \"str\",\n",
    "        \"str\",\n",
    "        \"str\",\n",
    "        \"str\",\n",
    "        \"f8\",\n",
    "        \"f8\",\n",
    "        \"f8\",\n",
    "        \"f8\",\n",
    "        \"f8\",\n",
    "        \"str\",\n",
    "        \"f8\",\n",
    "    ],\n",
    ")\n",
    "table[\"exptime\"].format = \"7.1f\"\n",
    "table[\"ra_targ\"].format = table[\"dec_targ\"].format = \"7.4f\"\n",
    "table[\"postarg1\"].format = table[\"postarg2\"].format = \"7.3f\"\n",
    "table[\"orientat\"].format = \"7.2f\"\n",
    "table"
   ]
  },
  {
   "cell_type": "markdown",
   "metadata": {},
   "source": [
    "### 1.2 Inspect the Alignment <a id=\"check_wcs\"></a>\n",
    "\n",
    "Check the active WCS solution in the image header. If the image is aligned to a catalog, list the number of matches and the fit RMS in mas. <br>\n",
    "\n",
    "Convert the fit RMS values to pixels for comparison with the alignment results performed later in this notebook."
   ]
  },
  {
   "cell_type": "code",
   "execution_count": null,
   "metadata": {},
   "outputs": [],
   "source": [
    "ext_0_kws = [\"DETECTOR\", \"EXPTIME\"]\n",
    "ext_1_kws = [\"WCSNAME\", \"NMATCHES\", \"RMS_RA\", \"RMS_DEC\"]\n",
    "\n",
    "det_scale = {\"IR\": 0.1283, \"UVIS\": 0.0396, \"WFC\": 0.05}  # plate scale (arcsec/pixel)\n",
    "\n",
    "format_dict = {}\n",
    "col_dict = defaultdict(list)\n",
    "\n",
    "for f in sorted(glob.glob(\"*flc.fits\")):\n",
    "    col_dict[\"filename\"].append(f)\n",
    "    hdr0 = fits.getheader(f, 0)\n",
    "    hdr1 = fits.getheader(f, 1)\n",
    "\n",
    "    for kw in ext_0_kws:  # extension 0 keywords\n",
    "        col_dict[kw].append(hdr0[kw])\n",
    "    for kw in ext_1_kws:  # extension 1 keywords\n",
    "        if \"RMS\" in kw:\n",
    "            val = np.around(hdr1[kw], 1)\n",
    "        else:\n",
    "            val = hdr1[kw]\n",
    "        col_dict[kw].append(val)\n",
    "\n",
    "    for kw in [\"RMS_RA\", \"RMS_DEC\"]:\n",
    "        val = np.round(\n",
    "            hdr1[kw] / 1000.0 / det_scale[hdr0[\"DETECTOR\"]], 2\n",
    "        )  # convert RMS from mas to pixels\n",
    "        col_dict[f\"{kw}_pix\"].append(val)\n",
    "\n",
    "wcstable = Table(col_dict)\n",
    "wcstable"
   ]
  },
  {
   "cell_type": "markdown",
   "metadata": {},
   "source": [
    "Here we see that the four FLC images have a \"FIT_REL_GSC242\" WCS solution, which means they were aligned as a set to the reference catalog 'GSC v2.4.2' using the combined drizzled image and that WCS was propogated back to the original FLCs.  This is reflected in the fact that the number of matches and fit rms values are the same for each FLC frame.\n",
    "\n",
    "For more details on absolute astrometry in HST images, see [Section 4.5 in the DrizzlePac Handbook](https://hst-docs.stsci.edu/drizzpac/chapter-4-astrometric-information-in-the-header/4-5-absolute-astrometry).\n",
    "\n",
    "---"
   ]
  },
  {
   "cell_type": "markdown",
   "metadata": {
    "nbpresent": {
     "id": "927b9c58-0191-49a0-a5fd-faa64b7b800e"
    }
   },
   "source": [
    "## 2. Align with `TweakReg`  <a id=\"tweakreg\"></a>\n",
    "[Table of Contents](#toc)\n",
    "\n",
    "Here we use `TweakReg` to test the relative alignment of the FLC frames based on sources in the image. \n",
    "\n",
    "Typically, observations taken as part of a dither pattern with small POSTARG offsets (e.g. a few pixels) will have excellent relative astrometry and will not need further tweaks to the alignment. Instead the typical workflow would be to align the combined DRC frames from different visits or filters and then run TweakBack to propogate those solutions back to the FLC frames.   This is recommended when there are not enough point sources to get an accurate FLC solution for each individual frame and ensures that any commanded dithers which carefully subsample the detector pixels are not corrupted with due to uncertainties in alignment of FLC frames.\n",
    "\n",
    "For this dataset, however, the commanded dithers are large (up to ~120 pixels), and small pointing errors may need to be corrected between FLC frames.  \n",
    "\n",
    "Here, we build on the existing absolute positions based on GSC v2.4.2 and then test for additional errors in the alignment between frames. \n",
    "\n",
    "The `TweakReg` parameter `conv_width` specifies the convolution kernel width in pixels, with recommended values ~2x the PSF FWHM for detecting point sources in the FLC frame. For ACS/WFC & WFC3/UVIS, this parameter is typically set to 3.5 pixels and for WFC3/IR to 2.5 pixels, but the value can be increased in order to use compact objects such as small galaxies for alignment."
   ]
  },
  {
   "cell_type": "markdown",
   "metadata": {},
   "source": [
    "### 2.1 Use 'default' parameters (Test1)  <a id=\"test1\"></a>"
   ]
  },
  {
   "cell_type": "code",
   "execution_count": null,
   "metadata": {},
   "outputs": [],
   "source": [
    "tweakreg.TweakReg(\n",
    "    input_files,\n",
    "    imagefindcfg={\"threshold\": 100, \"conv_width\": 3.5},\n",
    "    shiftfile=True,\n",
    "    outshifts=\"shift814_flc_test1.txt\",\n",
    "    updatehdr=False,\n",
    "    interactive=False,\n",
    "    ylimit=0.4,\n",
    "    searchrad=0.1,\n",
    ")\n",
    "clear_output()"
   ]
  },
  {
   "cell_type": "code",
   "execution_count": null,
   "metadata": {},
   "outputs": [],
   "source": [
    "# If the alignment is unsuccessful, stop the notebook\n",
    "with open(\"shift814_flc_test1.txt\", \"r\") as shift:\n",
    "    for line_number, line in enumerate(shift, start=1):\n",
    "        if \"nan\" in line:\n",
    "            raise ValueError(\"nan found in line {} in shift file\".format(line_number))\n",
    "        else:\n",
    "            continue"
   ]
  },
  {
   "cell_type": "code",
   "execution_count": null,
   "metadata": {},
   "outputs": [],
   "source": [
    "# Inspect the shift file for Test 1\n",
    "shift_table = Table.read(\n",
    "    \"shift814_flc_test1.txt\",\n",
    "    format=\"ascii.no_header\",\n",
    "    names=[\"file\", \"dx\", \"dy\", \"rot\", \"scale\", \"xrms\", \"yrms\"],\n",
    ")\n",
    "formats = [\".2f\", \".2f\", \".3f\", \".5f\", \".2f\", \".2f\"]\n",
    "for i, col in enumerate(shift_table.colnames[1:]):\n",
    "    shift_table[col].format = formats[i]\n",
    "shift_table"
   ]
  },
  {
   "cell_type": "markdown",
   "metadata": {},
   "source": [
    "To verify that `TweakReg` has found a good fit, it is important to look at the shift file and the fit residuals. \n",
    "\n",
    "Below are the dx,dy residuals for each FLC file with respect to the reference image `j8xi0xsaq_flc.fits`. \n",
    "\n",
    "`TweakReg` finds ~75 matches per frame, but the RMS of the fit residuals is large at ~0.3 pixels, and the points are not nicely clustered around dx,dy=0.0, as expected for a good fit."
   ]
  },
  {
   "cell_type": "code",
   "execution_count": null,
   "metadata": {},
   "outputs": [],
   "source": [
    "# Give the 'fit residual plots' a unique name for comparison with other tests.\n",
    "residual_pngs = glob.glob(\"residual*png\")\n",
    "for png in residual_pngs:\n",
    "    path = os.path.abspath(os.path.join(os.curdir, png))\n",
    "    new_path = os.path.abspath(os.path.join(os.curdir, \"test1_{}\".format(png)))\n",
    "    os.rename(path, new_path)"
   ]
  },
  {
   "cell_type": "code",
   "execution_count": null,
   "metadata": {},
   "outputs": [],
   "source": [
    "Image(filename=\"test1_residuals_j8xi0xs3q_flc.png\")"
   ]
  },
  {
   "cell_type": "code",
   "execution_count": null,
   "metadata": {},
   "outputs": [],
   "source": [
    "Image(filename=\"test1_residuals_j8xi0xs6q_flc.png\")"
   ]
  },
  {
   "cell_type": "code",
   "execution_count": null,
   "metadata": {},
   "outputs": [],
   "source": [
    "Image(filename=\"test1_residuals_j8xi0xsaq_flc.png\")"
   ]
  },
  {
   "cell_type": "markdown",
   "metadata": {},
   "source": [
    "### 2.2 Adjust `conv_width` to find extended objects (Test 2) <a id=\"test2\"></a>\n",
    "\n",
    "In order for `TweakReg` to use compact galaxies rather than point sources for alignment, we increase the convolution kernel width parameter `conv_width` from 3.5 to 6.0 pixels in order to find sources with a FWHM ~3 pixels in the FLC frames."
   ]
  },
  {
   "cell_type": "code",
   "execution_count": null,
   "metadata": {},
   "outputs": [],
   "source": [
    "tweakreg.TweakReg(\n",
    "    input_files,\n",
    "    imagefindcfg={\"threshold\": 100, \"conv_width\": 6.0},\n",
    "    shiftfile=True,\n",
    "    outshifts=\"shift814_flc_test2.txt\",\n",
    "    updatehdr=False,\n",
    "    interactive=False,\n",
    "    ylimit=0.4,\n",
    "    searchrad=0.1,\n",
    ")\n",
    "clear_output()"
   ]
  },
  {
   "cell_type": "code",
   "execution_count": null,
   "metadata": {},
   "outputs": [],
   "source": [
    "# Inspect the shift file for Test2\n",
    "shift_table2 = Table.read(\n",
    "    \"shift814_flc_test2.txt\",\n",
    "    format=\"ascii.no_header\",\n",
    "    names=[\"file\", \"dx\", \"dy\", \"rot\", \"scale\", \"xrms\", \"yrms\"],\n",
    ")\n",
    "formats = [\".2f\", \".2f\", \".3f\", \".5f\", \".2f\", \".2f\"]\n",
    "for i, col in enumerate(shift_table2.colnames[1:]):\n",
    "    shift_table2[col].format = formats[i]\n",
    "shift_table2"
   ]
  },
  {
   "cell_type": "markdown",
   "metadata": {},
   "source": [
    "`TweakReg` now matches ~40 objects per frame, and the fit for images 2 and 4 look good, with an RMS ~0.1 pixels and with the residuals dx,dy clustered around 0.0.  For the third image `j8xi0xs6q_flc.fits`, the XRMS is ~0.2 pixels, and the points are not centered around dx,dy=0 pixels."
   ]
  },
  {
   "cell_type": "code",
   "execution_count": null,
   "metadata": {},
   "outputs": [],
   "source": [
    "# Give the 'fit residual plots' a unique name for comparison with subsequent tests.\n",
    "residual_pngs = glob.glob(\"residual*png\")\n",
    "for png in residual_pngs:\n",
    "    path = os.path.abspath(os.path.join(os.curdir, png))\n",
    "    new_path = os.path.abspath(os.path.join(os.curdir, \"test2_{}\".format(png)))\n",
    "    os.rename(path, new_path)"
   ]
  },
  {
   "cell_type": "code",
   "execution_count": null,
   "metadata": {},
   "outputs": [],
   "source": [
    "Image(filename=\"test2_residuals_j8xi0xs3q_flc.png\")"
   ]
  },
  {
   "cell_type": "code",
   "execution_count": null,
   "metadata": {},
   "outputs": [],
   "source": [
    "Image(filename=\"test2_residuals_j8xi0xs6q_flc.png\")"
   ]
  },
  {
   "cell_type": "code",
   "execution_count": null,
   "metadata": {},
   "outputs": [],
   "source": [
    "Image(filename=\"test2_residuals_j8xi0xsaq_flc.png\")"
   ]
  },
  {
   "cell_type": "markdown",
   "metadata": {},
   "source": [
    "### 2.3 Exclude flagged pixels with `dqbits` (Test 3) <a id=\"test3\"></a>\n",
    "\n",
    "To further improve the alignment, we make use of flags in the DQ array of the FLC files. The source finding parameters in `TweakReg` may be modified to exclude flagged pixels when generating lists of objects in each image.\n",
    "\n",
    "Setting the parameter `dqbits=0` will consider all non-zero pixels in the DQ mask to be “bad” pixels, and the corresponding image pixels will not be used for source finding. The default value of `None` will turn off the use of image’s DQ array for source finding. \n",
    "\n",
    "In this case, `AstroDrizzle` was already run by MAST on visit 0X, and cosmic-ray flags were populated in the DQ array of the FLC frames. Since the exposures within this visit were already well aligned, the 4096 flags for cosmic rays are useful for excluding false detections.\n",
    "\n",
    "Detailed definitions of the ACS DQ flags can be found at [this webpage.](https://www.stsci.edu/hst/instrumentation/acs/data-analysis/dq-flag-definitions)"
   ]
  },
  {
   "cell_type": "code",
   "execution_count": null,
   "metadata": {},
   "outputs": [],
   "source": [
    "tweakreg.TweakReg(\n",
    "    input_files,\n",
    "    imagefindcfg={\"threshold\": 100, \"conv_width\": 6.0, \"dqbits\": 0},\n",
    "    shiftfile=True,\n",
    "    outshifts=\"shift814_flc_test3.txt\",\n",
    "    updatehdr=False,\n",
    "    interactive=False,\n",
    "    ylimit=0.4,\n",
    "    searchrad=0.1,\n",
    ")\n",
    "clear_output()"
   ]
  },
  {
   "cell_type": "code",
   "execution_count": null,
   "metadata": {},
   "outputs": [],
   "source": [
    "# Inspect the shift file for Test2\n",
    "shift_table3 = Table.read(\n",
    "    \"shift814_flc_test3.txt\",\n",
    "    format=\"ascii.no_header\",\n",
    "    names=[\"file\", \"dx\", \"dy\", \"rot\", \"scale\", \"xrms\", \"yrms\"],\n",
    ")\n",
    "formats = [\".2f\", \".2f\", \".3f\", \".5f\", \".2f\", \".2f\"]\n",
    "for i, col in enumerate(shift_table3.colnames[1:]):\n",
    "    shift_table3[col].format = formats[i]\n",
    "shift_table3"
   ]
  },
  {
   "cell_type": "markdown",
   "metadata": {},
   "source": [
    "In this third test, `TweakReg` again finds ~40 matches per frame, but with spurious detections eliminated has an easier time locking onto the correct solution.  The fit residuals below all have an RMS ~0.1 pixels and the points are all clustered around dx,dy=0."
   ]
  },
  {
   "cell_type": "code",
   "execution_count": null,
   "metadata": {},
   "outputs": [],
   "source": [
    "# Give the 'fit residual plots' a unique name for comparison with other tests.\n",
    "residual_pngs = glob.glob(\"residual*png\")\n",
    "for png in residual_pngs:\n",
    "    path = os.path.abspath(os.path.join(os.curdir, png))\n",
    "    new_path = os.path.abspath(os.path.join(os.curdir, \"test3_{}\".format(png)))\n",
    "    os.rename(path, new_path)"
   ]
  },
  {
   "cell_type": "code",
   "execution_count": null,
   "metadata": {},
   "outputs": [],
   "source": [
    "Image(filename=\"test3_residuals_j8xi0xs3q_flc.png\")"
   ]
  },
  {
   "cell_type": "code",
   "execution_count": null,
   "metadata": {},
   "outputs": [],
   "source": [
    "Image(filename=\"test3_residuals_j8xi0xs6q_flc.png\")"
   ]
  },
  {
   "cell_type": "code",
   "execution_count": null,
   "metadata": {},
   "outputs": [],
   "source": [
    "Image(filename=\"test3_residuals_j8xi0xsaq_flc.png\")"
   ]
  },
  {
   "cell_type": "markdown",
   "metadata": {},
   "source": [
    "Here we compare the accuracy of the `TweakReg` solution with the MAST alignment results.  \n",
    "\n",
    "First, we print the number of matches per image and compare with MAST WCS fitting results. Note that MAST finds a larger number of matches but also has a much larger fit RMS ~0.8 pixels. "
   ]
  },
  {
   "cell_type": "code",
   "execution_count": null,
   "metadata": {},
   "outputs": [],
   "source": [
    "match_files = glob.glob('*_flc_catalog_fit.match')\n",
    "for f in match_files:\n",
    "    input = ascii.read(f)\n",
    "    print('Number of Matches for', f, ' = ', len(input))"
   ]
  },
  {
   "cell_type": "code",
   "execution_count": null,
   "metadata": {},
   "outputs": [],
   "source": [
    "wcstable"
   ]
  },
  {
   "cell_type": "code",
   "execution_count": null,
   "metadata": {},
   "outputs": [],
   "source": [
    "shift_table3"
   ]
  },
  {
   "cell_type": "markdown",
   "metadata": {},
   "source": [
    "These results show that the images with large dithers have small pointing errors ~0.1 pixels which will need to be corrected before recombining the FLC frames.  Before doing that, we do one last quality check to verify that the matched sources used for the fit correspond to real astronomical sources and not image artifacts. "
   ]
  },
  {
   "cell_type": "markdown",
   "metadata": {},
   "source": [
    "### 2.4 Overplot Matched Sources on the Image <a id=\"overplot\"></a>\n",
    "\n",
    "Let's plot the sources that were matched between two FLC frames. \n",
    "\n",
    "The cell below shows how to read in the `*_fit.match` file as an `astropy` table. Unfortunately, it doesn't automatically name columns so you'll have to look at the header to grab the columns.\n",
    "\n",
    "To verify that `TweakReg` obtained a good fit between matched source catalogs, it is useful to inspect the results before updating the image header WCS. Below sources matched with Gaia are overplotted on one of the input FLC frames (with the two chips merged together). \n",
    "\n",
    "It can be useful to check that `TweakReg` locked onto stars and not hot pixels or other detector artifacts before proceeding to update the image header. "
   ]
  },
  {
   "cell_type": "code",
   "execution_count": null,
   "metadata": {
    "scrolled": true
   },
   "outputs": [],
   "source": [
    "rootname = \"j8xi0xsaq\"\n",
    "\n",
    "plt.figure(figsize=(7, 7), dpi=140)\n",
    "chip1_data = fits.getdata(rootname + \"_flc.fits\", \"SCI\", 2)\n",
    "chip2_data = fits.getdata(rootname + \"_flc.fits\", \"SCI\", 1)\n",
    "fullsci = np.concatenate([chip2_data, chip1_data])\n",
    "zscale = ZScaleInterval()\n",
    "z1, z2 = zscale.get_limits(fullsci)\n",
    "plt.imshow(fullsci, cmap=\"Greys\", origin=\"lower\", vmin=z1, vmax=z2)\n",
    "\n",
    "match_tab = ascii.read(\n",
    "    rootname + \"_flc_catalog_fit.match\"\n",
    ")  # load match file in astropy table\n",
    "match_tab_chip1 = match_tab[\n",
    "    match_tab[\"col15\"] == 2\n",
    "]  # filter table for sources on chip 1 (on ext 4)\n",
    "match_tab_chip2 = match_tab[\n",
    "    match_tab[\"col15\"] == 1\n",
    "]  # filter table for sources on chip 1 (on ext 4)\n",
    "x_cord1, y_cord1 = match_tab_chip1[\"col11\"], match_tab_chip1[\"col12\"]\n",
    "x_cord2, y_cord2 = match_tab_chip2[\"col11\"], match_tab_chip2[\"col12\"]\n",
    "\n",
    "plt.scatter(\n",
    "    x_cord1,\n",
    "    y_cord1 + 2051,\n",
    "    s=50,\n",
    "    edgecolor=\"r\",\n",
    "    facecolor=\"None\",\n",
    "    label=\"Matched Sources\",\n",
    ")\n",
    "plt.scatter(x_cord2, y_cord2, s=50, edgecolor=\"r\", facecolor=\"None\")\n",
    "plt.title(f\"Matched sources FLC to FLC: N = {len(match_tab)}\", fontsize=14)\n",
    "plt.show()"
   ]
  },
  {
   "cell_type": "markdown",
   "metadata": {},
   "source": [
    "### 2.5 Rerun TweakReg to update the header WCS <a id=\"updatehdr\"></a>\n",
    "\n",
    "Now run that we are happy with the alignment, we run `TweakReg` a final time with `updatehdr=True` to update the image header WCS with the improved solution."
   ]
  },
  {
   "cell_type": "code",
   "execution_count": null,
   "metadata": {},
   "outputs": [],
   "source": [
    "tweakreg.TweakReg(\n",
    "    input_files,\n",
    "    imagefindcfg={\"threshold\": 100, \"conv_width\": 6.0, \"dqbits\": 0},\n",
    "    shiftfile=False,\n",
    "    updatehdr=True,  # update the WCS\n",
    "    interactive=False,\n",
    "    ylimit=0.4,\n",
    "    searchrad=0.1,\n",
    ")\n",
    "clear_output()"
   ]
  },
  {
   "cell_type": "markdown",
   "metadata": {},
   "source": [
    "##  3. Combine the Images using `AstroDrizzle` <a id=\"adriz\"></a>\n",
    "[Table of Contents](#toc)\n",
    "\n",
    "Finally, we combine the aligned FLC files with `AstroDrizzle`. Before starting, we get some recommended values for drizzling from the MDRIZTAB reference file.  The parameters in this file are different for each detector and are based on the number of input frames. These are a good starting point for drizzling and may be adjusted accordingly."
   ]
  },
  {
   "cell_type": "code",
   "execution_count": null,
   "metadata": {},
   "outputs": [],
   "source": [
    "# The following lines of code find and download the MDRIZTAB reference file.\n",
    "mdz = fits.getval(input_files[0], 'MDRIZTAB', ext=0).split('$')[1]\n",
    "print('Searching for the MDRIZTAB file:', mdz)\n",
    "get_mdriztab = os.system('crds sync --hst --files ' + mdz + ' --output-dir '+os.environ['jref'])"
   ]
  },
  {
   "cell_type": "code",
   "execution_count": null,
   "metadata": {},
   "outputs": [],
   "source": [
    "from drizzlepac.processInput import getMdriztabPars"
   ]
  },
  {
   "cell_type": "code",
   "execution_count": null,
   "metadata": {},
   "outputs": [],
   "source": [
    "def get_vals_from_mdriztab(\n",
    "    input_files,\n",
    "    kw_list=[\n",
    "        \"driz_sep_bits\",\n",
    "        \"combine_type\",\n",
    "        \"driz_cr_snr\",\n",
    "        \"driz_cr_scale\",\n",
    "        \"final_bits\",\n",
    "    ],\n",
    "):\n",
    "    \"\"\"Get only selected parameters from. the MDRIZTAB\"\"\"\n",
    "    mdriz_dict = getMdriztabPars(input_files)\n",
    "\n",
    "    requested_params = {}\n",
    "\n",
    "    print(\"Outputting the following parameters:\")\n",
    "    for k in kw_list:\n",
    "        requested_params[k] = mdriz_dict[k]\n",
    "        print(k, mdriz_dict[k])\n",
    "\n",
    "    return requested_params"
   ]
  },
  {
   "cell_type": "code",
   "execution_count": null,
   "metadata": {},
   "outputs": [],
   "source": [
    "selected_params = get_vals_from_mdriztab(input_files)"
   ]
  },
  {
   "cell_type": "code",
   "execution_count": null,
   "metadata": {},
   "outputs": [],
   "source": [
    "selected_params"
   ]
  },
  {
   "cell_type": "markdown",
   "metadata": {},
   "source": [
    "Note that the parameter final_bits= '336' is equivalent to `final_bits`= '256, 64, 16'.   \n",
    "\n",
    "The ACS team now corrects for stable hot pixels (DQ flag=16) via the dark reference files, so these pixels can be considered 'good'. Full well saturated pixels (DQ flag=256) and warm pixels (DQ flag=64) may also be treated as good. More details on the recommended drizzle parameters for ACS may be found in [ISR 2017-02](https://ui.adsabs.harvard.edu/abs/2017acs..rept....2H/abstract).\n",
    "\n",
    "Next we run `AstroDrizzle` to remove the sky, flag cosmic rays, and combine the image using the selected parameters.  Note that these may be further refined in the cell below by uncommenting the line in the example shown below."
   ]
  },
  {
   "cell_type": "code",
   "execution_count": null,
   "metadata": {
    "scrolled": true
   },
   "outputs": [],
   "source": [
    "# To override any of the above values:\n",
    "# selected_params['driz_cr_snr']   = '4.0 3.5'\n",
    "\n",
    "astrodrizzle.AstroDrizzle(\n",
    "    input_files,\n",
    "    output=\"f814w\",\n",
    "    **selected_params,\n",
    "    preserve=False,\n",
    "    clean=True,\n",
    "    build=False,\n",
    "    context=False,\n",
    "    skymethod=\"match\",\n",
    "    runfile=\"f814w_driz.log\"\n",
    ")\n",
    "clear_output()"
   ]
  },
  {
   "cell_type": "markdown",
   "metadata": {},
   "source": [
    "## 4. Inspect the drizzled science and weight images  <a id=\"display\"></a>\n",
    "[Table of Contents](#toc)"
   ]
  },
  {
   "cell_type": "markdown",
   "metadata": {},
   "source": [
    "Finally, we inspect the science and weight images and inspect their data quality.  An imprint of sources in the weight image may indicate an error with the alignment and subsequent cosmic-ray rejection. \n",
    "\n",
    "For more details on inspecting the drizzled products after reprocessing, see [Section 7.3 in the DrizzlePac Handbook](https://hst-docs.stsci.edu/drizzpac/chapter-7-data-quality-checks-and-trouble-shooting-problems/7-3-inspecting-drizzled-products-after-user-reprocessing)"
   ]
  },
  {
   "cell_type": "code",
   "execution_count": null,
   "metadata": {},
   "outputs": [],
   "source": [
    "sci = fits.getdata(\"f814w_drc_sci.fits\")\n",
    "fig = plt.figure(figsize=(10, 10))\n",
    "plt.imshow(sci, vmin=0.05, vmax=0.3, cmap=\"Greys_r\", origin=\"lower\")\n",
    "plt.show()"
   ]
  },
  {
   "cell_type": "code",
   "execution_count": null,
   "metadata": {},
   "outputs": [],
   "source": [
    "sci = fits.getdata(\"f814w_drc_wht.fits\")\n",
    "fig = plt.figure(figsize=(10, 10))\n",
    "plt.imshow(sci, vmin=500, vmax=2000, cmap=\"Greys_r\", origin=\"lower\")\n",
    "plt.show()"
   ]
  },
  {
   "cell_type": "markdown",
   "metadata": {
    "nbpresent": {
     "id": "6413c886-77af-4d74-9609-dbcc47d6a0b1"
    }
   },
   "source": [
    "## Summary\n",
    "[Table of Contents](#toc)\n",
    "\n",
    "TweakReg may be used to align HST images based on the position of objects in the frame. Point sources are typically used for this purpose, but compact sources such as background galaxies may also be used by increasing the value of the parameter `conv_width` in `imagefindpars`. The data quality arrays of the input calibrated frames may also be used to further improve the fits by telling TweakReg to ignore pixels with specific flags inthe DQ array via the parameter `dqbits` in `imagefindpars`. "
   ]
  },
  {
   "cell_type": "markdown",
   "metadata": {},
   "source": [
    "## About this Notebook\n",
    "\n",
    "    Created: 08 Jan 2019;     J. Mack\n",
    "    Updated: 20 May 2024;     G. Anand, R. Avila, & J. Mack\n",
    "\n",
    "**Source:** GitHub [spacetelescope/hst_notebooks](https://github.com/spacetelescope/hst_notebooks)\n",
    "\n",
    "### Additional Resources <a id=\"add\"></a>\n",
    "\n",
    "Below are some additional resources that may be helpful. Please send questions through the [HST Help Desk](https://stsci.service-now.com/hst), selecting the DrizzlePac category.\n",
    "\n",
    "- [ACS Website](https://www.stsci.edu/hst/instrumentation/acs)\n",
    "- [ACS Instrument Handbook](https://hst-docs.stsci.edu/acsihb)\n",
    "- [ACS Data Handbook](https://hst-docs.stsci.edu/acsdhb)\n",
    "\n",
    "- [WFC3 Website](https://www.stsci.edu/hst/instrumentation/wfc3)\n",
    "- [WFC3 Instrument Handbook](https://hst-docs.stsci.edu/wfc3ihb)\n",
    "- [WFC3 Data Handbook](https://hst-docs.stsci.edu/wfc3dhb)\n",
    "\n",
    "\n",
    "### Citations <a id=\"cite\"></a>\n",
    "If you use Python packages such as `astropy`, `astroquery`, `drizzlepac`, `matplotlib`, or `numpy` for published research, please cite the authors. Follow these links for more information about citing various packages.\n",
    "\n",
    "* [Citing `astropy`](https://www.astropy.org/acknowledging.html)\n",
    "* [Citing `astroquery`](https://github.com/astropy/astroquery/blob/main/astroquery/CITATION)\n",
    "* [Citing `drizzlepac`](https://zenodo.org/records/3743274)\n",
    "* [Citing `matplotlib`](https://matplotlib.org/stable/users/project/citing.html)\n",
    "* [Citing `numpy`](https://numpy.org/citing-numpy/)\n",
    "***\n",
    "\n",
    "[Top of Page](#top)\n",
    "<img style=\"float: right;\" src=\"https://raw.githubusercontent.com/spacetelescope/notebooks/master/assets/stsci_pri_combo_mark_horizonal_white_bkgd.png\" alt=\"Space Telescope Logo\" width=\"200px\"/> "
   ]
  },
  {
   "cell_type": "code",
   "execution_count": null,
   "metadata": {},
   "outputs": [],
   "source": []
  }
 ],
 "metadata": {
  "kernelspec": {
   "display_name": "Python 3 (ipykernel)",
   "language": "python",
   "name": "python3"
  },
  "language_info": {
   "codemirror_mode": {
    "name": "ipython",
    "version": 3
   },
   "file_extension": ".py",
   "mimetype": "text/x-python",
   "name": "python",
   "nbconvert_exporter": "python",
   "pygments_lexer": "ipython3",
   "version": "3.12.4"
  }
 },
 "nbformat": 4,
 "nbformat_minor": 4
}
