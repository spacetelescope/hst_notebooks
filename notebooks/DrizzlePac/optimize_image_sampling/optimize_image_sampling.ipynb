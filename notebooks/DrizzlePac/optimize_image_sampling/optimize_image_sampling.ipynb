{
 "cells": [
  {
   "cell_type": "markdown",
   "metadata": {},
   "source": [
    "# Optimizing the Image Sampling\n",
    "<a id=\"top\"></a>"
   ]
  },
  {
   "cell_type": "markdown",
   "metadata": {},
   "source": [
    "<div class=\"alert alert-block alert-warning\" style=\"color:black\" > <b> This notebook requires creating and activating a virtual environment using the requirements file in this notebook's repository. Please also review the README file before using the notebook.</b> <br> </div>\n",
    "<a id=\"toc\"></a>\n",
    "\n",
    "## Table of Contents\n",
    "\n",
    "[Introduction](#intro) <br>\n",
    "[Import Packages](#imports)<br>\n",
    "\n",
    "[1. Retrieve Observations](#retrieve) <br>\n",
    "\n",
    "[2. Check image header data](#inspection) <br>\n",
    "&nbsp;&nbsp;&nbsp;&nbsp;[2.1 Inspect useful keywords](#inspect_keywords)<br>\n",
    "&nbsp;&nbsp;&nbsp;&nbsp;[2.2 Inspect the dither pattern](#inspect_dither)<br>\n",
    "&nbsp;&nbsp;&nbsp;&nbsp;[2.3 Inspect the alignment](#inspect_wcs)<br>\n",
    "\n",
    "[3. Drizzling](#drizzle) <br>\n",
    "\n",
    "[4. Results](#results) <br>\n",
    "\n",
    "[5. Optimizing the final_pixfrac parameter](#pixfrac) <br>\n",
    "\n",
    "[6. Final Thoughts](#final) <br>\n",
    "\n",
    "[About this notebook](#about)<br>\n",
    "[Additional resources](#add)<br>\n"
   ]
  },
  {
   "cell_type": "markdown",
   "metadata": {},
   "source": [
    "<a id=\"intro\"></a>\n",
    "## Introduction \n",
    "[Table of Contents](#toc)\n",
    "\n",
    "This example was written to help users better understand the subtleties in improving image sampling for dithered data. One of the powers of the *drizzling* algorithm is that, given properly dithered images, it can restore much of the information lost due to undersampled images ([Fruchter and Hook, 2002](http://iopscience.iop.org/article/10.1086/338393/pdf)). \n",
    "\n",
    "This work is based on [ISR ACS 2015-01](https://www.stsci.edu/files/live/sites/www/files/home/hst/instrumentation/acs/documentation/instrument-science-reports-isrs/_documents/isr1501.pdf), which contains a more detailed discussion than presented here.\n",
    "\n",
    "In practice, this requires the use of `Astrodrizzle` task within the `Drizzlepac` package. This example will:\n",
    "\n",
    "    - Run astrodrizzle several times using different parameter settings for 'final_pixfrac' and 'final_scale'\n",
    "    - Compare and evaluate results of using different 'final_pixfrac' and 'final_scale' values"
   ]
  },
  {
   "cell_type": "markdown",
   "metadata": {},
   "source": [
    "<a id=\"imports\"></a>\n",
    "## Import packages \n",
    "[Table of Contents](#toc)\n",
    "\n",
    "The following Python packages are required to run the Jupyter Notebook:\n",
    " - [**os**](https://docs.python.org/3/library/os.html) - change and make directories\n",
    " - [**glob**](https://docs.python.org/3/library/glob.html) - gather lists of filenames\n",
    " - [**shutil**](https://docs.python.org/3/library/shutil.html#module-shutil) - remove directories and files\n",
    " - [**numpy**](https://numpy.org) - math and array functions\n",
    " - [**matplotlib**](https://matplotlib.org/stable/tutorials/pyplot.html) - make figures and graphics\n",
    " - [**astropy**](https://www.astropy.org) - file handling, tables, units, WCS, statistics\n",
    " - [**astroquery**](https://astroquery.readthedocs.io/en/latest/) - download data and query databases\n",
    " - [**drizzlepac**](https://www.stsci.edu/scientific-community/software/drizzlepac) - align and combine HST images"
   ]
  },
  {
   "cell_type": "code",
   "execution_count": null,
   "metadata": {},
   "outputs": [],
   "source": [
    "import os\n",
    "import glob\n",
    "import shutil\n",
    "\n",
    "import numpy as np\n",
    "import matplotlib.pyplot as plt\n",
    "from collections import defaultdict\n",
    "from IPython.display import clear_output\n",
    "\n",
    "from astropy.io import fits\n",
    "from astroquery.mast import Observations\n",
    "from astropy.visualization import LogStretch, ImageNormalize, LinearStretch\n",
    "from astropy import wcs\n",
    "from astropy.table import Table\n",
    "\n",
    "import drizzlepac\n",
    "\n",
    "%matplotlib inline\n",
    "%config InlineBackend.figure_format = 'retina' # Greatly improves the resolution of figures rendered in notebooks.\n",
    "\n",
    "# Set the locations of reference files.  and retrieve the MDRIZTAB recommended drizzle parameters.\n",
    "os.environ['CRDS_SERVER_URL'] = 'https://hst-crds.stsci.edu'\n",
    "os.environ['CRDS_SERVER'] = 'https://hst-crds.stsci.edu'\n",
    "os.environ['CRDS_PATH'] = './crds_cache'\n",
    "os.environ['iref'] = './crds_cache/references/hst/wfc3/'\n",
    "os.environ['jref'] = './crds_cache/references/hst/acs/'"
   ]
  },
  {
   "cell_type": "markdown",
   "metadata": {},
   "source": [
    "<a id=\"download\"></a>\n",
    "## 1. Download the Observations with `astroquery`\n",
    "[Table of Contents](#toc)\n",
    "\n",
    "---\n",
    "MAST queries may be done using <a href=\"https://astroquery.readthedocs.io/en/latest/mast/mast_obsquery.html#observation-criteria-queries\"> `query_criteria`</a>, where we specify: <br>\n",
    "\n",
    "&nbsp;&nbsp;&nbsp;&nbsp;--> obs_id, proposal_id, and filters \n",
    "\n",
    "MAST data products may be downloaded by using <a href=\"https://astroquery.readthedocs.io/en/latest/mast/mast_obsquery.html#downloading-data\"> `download_products`</a>, where we specify:<br> \n",
    "\n",
    "&nbsp;&nbsp;&nbsp;&nbsp;--> products = calibrated (FLT, FLC) or drizzled (DRZ, DRC) files\n",
    "\n",
    "&nbsp;&nbsp;&nbsp;&nbsp;--> type = standard products (CALxxx) or advanced products (HAP-SVM)\n",
    "____\n",
    "\n",
    "\n",
    "Observations of the spiral galaxy NGC 3370 (Program 11570) were acquired using the WFC3/IR F160W imaging filter. The `WFC3-IR-DITHERBOX-MIN` dither pattern designed to provide optimal sampling of the PSF was used.\n",
    "\n",
    "For this example, the four calibrated FLT exposures from visit 19 will be downloaded and moved to the local directory.\n",
    "\n",
    "            ib1f19l6q_flt.fits\n",
    "            ib1f19l7q_flt.fits\n",
    "            ib1f19l8q_flt.fits\n",
    "            ib1f19l9q_flt.fits\n",
    "            \n",
    "<div class=\"alert alert-block alert-warning\" style=\"color:black\" >  Depending on your connection speed, this cell may take a few minutes to execute. </div>"
   ]
  },
  {
   "cell_type": "code",
   "execution_count": null,
   "metadata": {},
   "outputs": [],
   "source": [
    "obs_ids = ['ib1f19010']\n",
    "\n",
    "obsTable = Observations.query_criteria(obs_id=obs_ids)\n",
    "products = Observations.get_product_list(obsTable)\n",
    "\n",
    "data_prod = ['FLT']                                 # ['FLC','FLT','DRC','DRZ']                  \n",
    "data_type = ['CALWF3']                              # ['CALACS','CALWF3','CALWP2','HAP-SVM']    \n",
    "\n",
    "Observations.download_products(products, productSubGroupDescription=data_prod, project=data_type, cache=True)"
   ]
  },
  {
   "cell_type": "code",
   "execution_count": null,
   "metadata": {},
   "outputs": [],
   "source": [
    "# Move to the files to the local working directory\n",
    "\n",
    "for flt in glob.glob('./mastDownload/HST/*/*fl?.fits'):     \n",
    "    flt_name = os.path.split(flt)[-1]\n",
    "    os.rename(flt, flt_name)\n",
    "shutil.rmtree('mastDownload/')"
   ]
  },
  {
   "cell_type": "markdown",
   "metadata": {},
   "source": [
    "<a id=\"inspection\"></a>\n",
    "## 2. Check image header data\n",
    "[Table of Contents](#toc)\n",
    "\n",
    "Here we will look at important keywords in the image headers to summarize the observation strategy."
   ]
  },
  {
   "cell_type": "markdown",
   "metadata": {},
   "source": [
    "<a id=\"inspect_keywords\"></a>\n",
    "### 2.1 Inspect useful keywords  \n"
   ]
  },
  {
   "cell_type": "code",
   "execution_count": null,
   "metadata": {},
   "outputs": [],
   "source": [
    "flt_files = sorted(glob.glob('*fl?.fits'))\n",
    "data = []\n",
    "keywords_ext0 = [\"ROOTNAME\", \"ASN_ID\", \"TARGNAME\", \"DETECTOR\", \"FILTER\", \"EXPTIME\", \n",
    "                 \"RA_TARG\", \"DEC_TARG\", \"POSTARG1\", \"POSTARG2\", \"DATE-OBS\"]\n",
    "keywords_ext1 = [\"ORIENTAT\"]\n",
    "\n",
    "for flt_file in flt_files:\n",
    "    path_data = []\n",
    "    for keyword in keywords_ext0:\n",
    "        path_data.append(fits.getval(flt_file, keyword, ext=0))\n",
    "    for keyword in keywords_ext1:\n",
    "        path_data.append(fits.getval(flt_file, keyword, ext=1))\n",
    "    data.append(path_data)\n",
    "    \n",
    "keywords = keywords_ext0 + keywords_ext1\n",
    "table = Table(np.array(data), names=keywords, dtype=['str', 'str', 'str', 'str', 'str', 'f8', 'f8', 'f8', 'f8', 'f8', 'str', 'f8'])\n",
    "table['EXPTIME'].format = '7.1f' \n",
    "table['RA_TARG'].format = table['DEC_TARG'].format = '7.4f'\n",
    "table['POSTARG1'].format = table['POSTARG2'].format = '7.3f' \n",
    "table['ORIENTAT'].format = '7.2f'\n",
    "table"
   ]
  },
  {
   "cell_type": "markdown",
   "metadata": {},
   "source": [
    "<a id=\"inspect_dither\"></a>\n",
    "### 2.2 Inspect the dither pattern  \n",
    "\n",
    "For the *drizzle* algorithm to work optimally, observations need to be dithered so that the PSF is appropriately sampled. The code below creates plots to show the dithering of each of the images in the association. The plot on the left shows how the images were dithered on the sky (the POSTARG). The plot on the right shows how the offsets translate to pixel phase (e.g. subpixel position). "
   ]
  },
  {
   "cell_type": "code",
   "execution_count": null,
   "metadata": {},
   "outputs": [],
   "source": [
    "plate_scale = fits.getval(flt_files[0], 'idcscale', ext=1)\n",
    "print('Detector Plate scale: {:>6.4f}'.format(plate_scale))\n",
    "postarg1 = np.empty(len(flt_files), dtype=np.float16)\n",
    "postarg2 = np.empty(len(flt_files), dtype=np.float16)\n",
    "x_phase = np.empty(len(flt_files), dtype=np.float16)\n",
    "y_phase = np.empty(len(flt_files), dtype=np.float16)\n",
    "\n",
    "for i, im in enumerate(flt_files):\n",
    "    with fits.open(im) as hdu:\n",
    "        postarg1[i] = hdu[0].header['postarg1']\n",
    "        postarg2[i] = hdu[0].header['postarg2']\n",
    "        x_phase[i] = abs(np.modf(postarg1[i] / plate_scale)[0])\n",
    "        y_phase[i] = abs(np.modf(postarg2[i] / plate_scale)[0])\n",
    "        \n",
    "fig, ax = plt.subplots(1, 2, figsize=(12, 6))\n",
    "\n",
    "ax[0].plot(postarg1, postarg2, 'k+-', ms=15, lw=1)\n",
    "ax[0].set_xlabel('POSTARG1 RA [arcsec]', fontsize='large')\n",
    "ax[0].set_ylabel('POSTARG2 DEC [arcsec]', fontsize='large')\n",
    "\n",
    "ax[1].plot(x_phase, y_phase, 'k+-', ms=15, lw=1)\n",
    "ax[1].set_xlim(-0.05, 1)\n",
    "ax[1].set_ylim(-0.05, 1)\n",
    "ax[1].set_xlabel('X pixel phase', fontsize='large')\n",
    "ax[1].set_ylabel('Y pixel phase', fontsize='large')"
   ]
  },
  {
   "cell_type": "markdown",
   "metadata": {},
   "source": [
    "<a id=\"inspect_wcs\"></a>\n",
    "### 2.3 Inspect the alignment \n",
    "\n",
    "Check the active WCS solution in the image header. If the image is aligned to a catalog, list the number of matches and the fit RMS in mas. <br> \n",
    "Convert the fit RMS values to pixels for comparison with the alignment results performed later in this notebook."
   ]
  },
  {
   "cell_type": "code",
   "execution_count": null,
   "metadata": {},
   "outputs": [],
   "source": [
    "ext_0_kws = ['DETECTOR', 'EXPTIME']\n",
    "ext_1_kws = ['WCSNAME', 'NMATCHES', 'RMS_RA', 'RMS_DEC']\n",
    "\n",
    "det_scale = {'IR': 0.1283, 'UVIS': 0.0396, 'WFC': 0.05}                    # plate scale (arcsec/pixel)\n",
    "\n",
    "format_dict = {}\n",
    "col_dict = defaultdict(list)\n",
    "\n",
    "for f in flt_files:\n",
    "    col_dict['filename'].append(f)\n",
    "    hdr0 = fits.getheader(f, 0)\n",
    "    hdr1 = fits.getheader(f, 1)\n",
    "    \n",
    "    for kw in ext_0_kws:                                                # extension 0 keywords\n",
    "        col_dict[kw].append(hdr0[kw])\n",
    "    for kw in ext_1_kws:                                                # extension 1 keywords\n",
    "        if 'RMS' in kw:\n",
    "            val = np.around(hdr1[kw], 1)\n",
    "        else: \n",
    "            val = hdr1[kw]\n",
    "        col_dict[kw].append(val)\n",
    "        \n",
    "    for kw in ['RMS_RA', 'RMS_DEC']:\n",
    "        val = np.round(hdr1[kw]/1000./det_scale[hdr0['DETECTOR']], 2)  # convert RMS from mas to pixels\n",
    "        col_dict[f'{kw}_pix'].append(val)\n",
    "\n",
    "wcstable = Table(col_dict)\n",
    "wcstable"
   ]
  },
  {
   "cell_type": "markdown",
   "metadata": {},
   "source": [
    "Here we see that the four FLC images have a \"FIT_REL_GSC242\" WCS solution, which means they were aligned as a set to the reference catalog 'GSC v2.4.2' using the drizzled-combined (DRC) image, and that WCS was propogated back to the original FLCs.  This is reflected in the fact that the number of matches and fit rms values are the same for each FLC frame.  \n",
    "\n",
    "For more details on absolute astrometry in HST images, see [Section 4.5 in the DrizzlePac Handbook](https://hst-docs.stsci.edu/drizzpac/chapter-4-astrometric-information-in-the-header/4-5-absolute-astrometry)\n",
    "\n",
    "Since the relative alignment of the individual FLC frames is preserved, we do not need run `TweakReg` before drizzling the images."
   ]
  },
  {
   "cell_type": "markdown",
   "metadata": {},
   "source": [
    "<a id=\"drizzle\"></a>\n",
    "## 3. Drizzling \n",
    "[Table of Contents](#toc)\n",
    "\n",
    "Before drizzling can be performed, a plate scale for the output image should be chosen. This will usually be dictated by the science needs. In theory, critical sampling of a PSF occurs with 2.355 pixels. The FWHM of the WFC3/IR detector at 1600 nm is ~0.151\" (Table 7.5 of [WFC Instrument Handbook](https://hst-docs.stsci.edu/wfc3ihb/chapter-7-ir-imaging-with-wfc3/7-6-ir-optical-performance)). Using these values, a plate scale of 0.065\"/pix will be selected for the drizzled output frame, approximately half of the native plate scale (0.1283\"/pix). \n",
    "\n",
    "The mechanism by which the *drizzle* algorithm improves sampling in the output image is by shrinking the input pixels before adding them to the output pixel grid (see Figure 2 in [Fruchter and Hook (2002)](http://iopscience.iop.org/article/10.1086/338393/pdf)). In practice this process is controlled in the `AstroDrizzle` package by adjusting the `final_pixfrac` parameter, which is the fractional size of the pixel to be used. \n",
    "Below `AstroDrizzle` is called twice. The first time, no changes are made to the plate scale or the size of the drop. In the second call, the plate scale and pixfrac are reduced. For a four point dither stack, a `final_pixfrac` value of 0.8 is usually optimal.\n",
    "\n",
    "Next, we get some recommended values for drizzling from the MDRIZTAB reference file.  The parameters in this file are different for each detector and are based on the number of input frames. These are a good starting point for drizzling and may be adjusted accordingly.\n",
    "\n",
    "To see the full list of `AstroDrizzle` parameters, consult the [DrizzlePac readthedocs](https://drizzlepac.readthedocs.io/en/latest/drizzlepac_api/astrodrizzle.html) page. "
   ]
  },
  {
   "cell_type": "code",
   "execution_count": null,
   "metadata": {},
   "outputs": [],
   "source": [
    "mdz = fits.getval(flt_files[0], 'MDRIZTAB', ext=0).split('$')[1]\n",
    "print('Searching for the MDRIZTAB file:', mdz)\n",
    "get_mdriztab = os.system('crds sync --hst --files '+mdz+' --output-dir '+os.environ['iref'])"
   ]
  },
  {
   "cell_type": "code",
   "execution_count": null,
   "metadata": {},
   "outputs": [],
   "source": [
    "def get_vals_from_mdriztab(input_images, kw_list=['driz_sep_bits', \n",
    "                                                  'combine_type', \n",
    "                                                  'driz_cr_snr', \n",
    "                                                  'driz_cr_scale', \n",
    "                                                  'final_bits']):\n",
    "    \n",
    "    '''Get only selected parameters from. the MDRIZTAB'''\n",
    "    mdriz_dict = drizzlepac.processInput.getMdriztabPars(input_images)\n",
    "    \n",
    "    requested_params = {}\n",
    "    \n",
    "    print('Outputting the following parameters:')\n",
    "    for k in kw_list:\n",
    "        requested_params[k] = mdriz_dict[k]\n",
    "        print(k, mdriz_dict[k])\n",
    "    \n",
    "    return requested_params"
   ]
  },
  {
   "cell_type": "code",
   "execution_count": null,
   "metadata": {},
   "outputs": [],
   "source": [
    "selected_params = get_vals_from_mdriztab(flt_files)"
   ]
  },
  {
   "cell_type": "markdown",
   "metadata": {},
   "source": [
    "In this example, we have turned off the four `AstroDrizzle` steps used for performing CR-rejection. For WFC3/IR frames this is done in the up-the-ramp fitting in `calwf3`.  If desired, the CR-rejection may be turned on if the user wishes to further the flagging of bad pixels. "
   ]
  },
  {
   "cell_type": "code",
   "execution_count": null,
   "metadata": {
    "scrolled": true
   },
   "outputs": [],
   "source": [
    "drizzlepac.astrodrizzle.AstroDrizzle(flt_files,\n",
    "                                     output='f160w_noopt',\n",
    "                                     context=False, build=True, preserve=False,\n",
    "                                     **selected_params,\n",
    "                                     skymethod='match',\n",
    "                                     driz_separate=False, median=False, blot=False, driz_cr=False, # CR-rej off\n",
    "                                     final_wcs=True,\n",
    "                                     final_rot=0.,\n",
    "                                     final_scale=None)\n",
    "\n",
    "drizzlepac.astrodrizzle.AstroDrizzle(flt_files,\n",
    "                                     output='f160w_opt',\n",
    "                                     context=False, build=True, preserve=False,\n",
    "                                     **selected_params,\n",
    "                                     skymethod='match',\n",
    "                                     driz_separate=False, median=False, blot=False, driz_cr=False, # CR-rej off\n",
    "                                     final_wcs=True,\n",
    "                                     final_rot=0.,\n",
    "                                     final_scale=0.065,\n",
    "                                     final_pixfrac=0.8)\n",
    "\n",
    "clear_output()    "
   ]
  },
  {
   "cell_type": "markdown",
   "metadata": {},
   "source": [
    "<a id=\"results\"></a>\n",
    "## 4. Results \n",
    "[Table of Contents](#toc)\n",
    "\n",
    "The drizzled science and weight images produced from the first call to AstroDrizzle with no optimization of the plate scale and pixfrac are plotted below. "
   ]
  },
  {
   "cell_type": "code",
   "execution_count": null,
   "metadata": {},
   "outputs": [],
   "source": [
    "with fits.open('f160w_noopt_drz.fits') as hdu:\n",
    "    im1wcs = wcs.WCS(hdu[1].header)\n",
    "    sci1 = hdu[1].data\n",
    "    wht1 = hdu[2].data\n",
    "        \n",
    "norm1 = ImageNormalize(sci1, vmin=-0.05, vmax=100, stretch=LogStretch())\n",
    "fig, ax = plt.subplots(1, 2, figsize=(20, 15), subplot_kw={'projection': im1wcs})\n",
    "ax[0].imshow(sci1, norm=norm1, cmap='gray', origin='lower')\n",
    "ax[1].imshow(wht1, cmap='gray', origin='lower')"
   ]
  },
  {
   "cell_type": "markdown",
   "metadata": {},
   "source": [
    "The drizzled science image is on the left and the associated weight image is on the right, both without optimization of the plate scale and pixfrac."
   ]
  },
  {
   "cell_type": "markdown",
   "metadata": {},
   "source": [
    "To compare, the figure plotted below shows close ups of the same part of the sky from the two drizzled products. "
   ]
  },
  {
   "cell_type": "code",
   "execution_count": null,
   "metadata": {},
   "outputs": [],
   "source": [
    "radeclims = wcs.utils.pixel_to_skycoord([825, 875], [930, 980], im1wcs)\n",
    "\n",
    "with fits.open('f160w_opt_drz.fits') as hdu:\n",
    "    im2wcs = wcs.WCS(hdu[1].header)\n",
    "    sci2 = hdu[1].data\n",
    "    wht2 = hdu[2].data\n",
    "\n",
    "norm1 = ImageNormalize(sci2, vmin=0.70, vmax=4.0, stretch=LogStretch())\n",
    "norm2 = ImageNormalize(sci2, vmin=0.18, vmax=1.0, stretch=LogStretch())\n",
    "    \n",
    "fig = plt.figure(figsize=(16, 8))\n",
    "\n",
    "ax = fig.add_subplot(1, 2, 1, projection=im1wcs)\n",
    "ax.imshow(sci1, norm=norm1, cmap='gray')\n",
    "ax.set_xlim(radeclims.to_pixel(im1wcs)[0])\n",
    "ax.set_ylim(radeclims.to_pixel(im1wcs)[1])\n",
    "\n",
    "ax = fig.add_subplot(1, 2, 2, projection=im2wcs)\n",
    "ax.imshow(sci2, norm=norm2, cmap='gray')\n",
    "ax.set_xlim(radeclims.to_pixel(im2wcs)[0])\n",
    "ax.set_ylim(radeclims.to_pixel(im2wcs)[1])                  "
   ]
  },
  {
   "cell_type": "markdown",
   "metadata": {},
   "source": [
    "The image on the left is without improved plate scale and pixfrac, and shows that the detector undersamples the PSF. The image on the right is the image with optimized parameters where the resolution is greatly improved. "
   ]
  },
  {
   "cell_type": "markdown",
   "metadata": {},
   "source": [
    "<a id=\"pixfrac\"></a>\n",
    "## 5. Optimizing the `final_pixfrac` parameter \n",
    "[Table of Contents](#toc)\n",
    "\n",
    "While the optimized `final_pixfrac` in the example above was chosen from experience with using a four-point dither, the value that should be used is not known *a priori*. The value could be different depending on several factors. For example, if the number of images is greater than four, the value used for `final_pixfrac` could be smaller since more images are available to fill in holes in the output grid. On the other hand, it is possible that no dithering was used during the observations. In that case, `final_pixfrac` should be left at 1.0, since shrinking the size of the drop could be detrimental. \n",
    "\n",
    "Below, a series of experiments will be run to determine the best `final_pixfrac` value for the selected output plate scale, by varying pixfrac in steps of 0.1 over a range of values from 0.1 to 1.0.\n",
    "\n",
    "<div class=\"alert alert-block alert-warning\" style=\"color:black\" >  This cell may take a few minutes to execute. </div>"
   ]
  },
  {
   "cell_type": "code",
   "execution_count": null,
   "metadata": {
    "scrolled": true
   },
   "outputs": [],
   "source": [
    "pixfracs = np.arange(0.1, 1.1, 0.1)\n",
    "\n",
    "for pixfrac in pixfracs:\n",
    "    outname = 'f160w_{:.1f}'.format(pixfrac)\n",
    "    drizzlepac.astrodrizzle.AstroDrizzle(flt_files,\n",
    "                                         output=outname,\n",
    "                                         **selected_params,\n",
    "                                         context=False, build=True, preserve=False,      \n",
    "                                         skymethod='match',\n",
    "                                         driz_separate=False, median=False, blot=False, driz_cr=False,\n",
    "                                         final_pixfrac=pixfrac,\n",
    "                                         final_wcs=True,\n",
    "                                         final_rot=0.,\n",
    "                                         final_scale=0.065)\n",
    "clear_output()    "
   ]
  },
  {
   "cell_type": "markdown",
   "metadata": {},
   "source": [
    "When evaluating what value to use for `final_pixfrac`, *THERE IS NO SINGLE METRIC THAT INDICATES WHAT VALUE TO USE*, and several factors should be taken into account. The general philosophy is that the chosen value should improve the resolution of the image as much as possible, without causing any adverse effects. \n",
    "\n",
    "The first thing to look for is an excessive number of holes in the science and weight images. The figure below shows the central region of the science and weight images produced by three different `final_pixfrac` values."
   ]
  },
  {
   "cell_type": "code",
   "execution_count": null,
   "metadata": {},
   "outputs": [],
   "source": [
    "with fits.open('f160w_0.1_drz.fits') as hdu1:\n",
    "    sci1 = hdu1[1].data\n",
    "    wht1 = hdu1[2].data\n",
    "    \n",
    "with fits.open('f160w_0.8_drz.fits') as hdu2:\n",
    "    sci2 = hdu2[1].data\n",
    "    wht2 = hdu2[2].data\n",
    "    \n",
    "with fits.open('f160w_1.0_drz.fits') as hdu3:\n",
    "    sci3 = hdu3[1].data\n",
    "    wht3 = hdu3[2].data\n",
    "\n",
    "fig, ax = plt.subplots(2, 3, figsize=(16, 10), sharex=True, sharey=True)\n",
    "fig.subplots_adjust(hspace=0, wspace=0)\n",
    "\n",
    "norm3 = ImageNormalize(wht2, vmin=400, vmax=600, stretch=LinearStretch())\n",
    "ax[0, 0].imshow(sci1, norm=norm2, cmap='gray')\n",
    "ax[0, 0].text(1640, 1920, 'final_pixfrac=0.1', fontsize='20', color='maroon')\n",
    "ax[0, 1].imshow(sci2, norm=norm2, cmap='gray')\n",
    "ax[0, 1].text(1640, 1920, 'final_pixfrac=0.8', fontsize='20', color='maroon')\n",
    "ax[0, 2].imshow(sci3, norm=norm2, cmap='gray')\n",
    "ax[0, 2].text(1640, 1920, 'final_pixfrac=1.0', fontsize='20', color='maroon')\n",
    "ax[1, 0].imshow(wht1, norm=norm3, cmap='gray')\n",
    "ax[1, 1].imshow(wht2, norm=norm3, cmap='gray')\n",
    "ax[1, 2].imshow(wht3, norm=norm3, cmap='gray')\n",
    "ax[0, 0].set_xlim(radeclims.to_pixel(im2wcs)[0])\n",
    "ax[0, 0].set_ylim(radeclims.to_pixel(im2wcs)[1])"
   ]
  },
  {
   "cell_type": "markdown",
   "metadata": {},
   "source": [
    "This figure above shows the central region of the science and weight images produced by `final_pixfrac` values (left to right) of 0.1, 0.8 and 1.0. The top row is the science frame, the bottom is the weight image. The science image with the smallest `final_pixfrac` value of 0.1 shows a noisy background and holes in the image where no input pixels fall into the output grid because pixfrac is too small. Inspection of the weight map corresponding to the smallest `final_pixfrac` value shows many places with weights of zero, indicating that a `final_pixfrac` value of 0.1 is clearly too small and was only included in this example for illustrative purposes."
   ]
  },
  {
   "cell_type": "markdown",
   "metadata": {},
   "source": [
    "Another piece of information that can be useful is the amount of noise in the weight image. As suggested in the [DrizzlePac Handbook](https://hst-docs.stsci.edu/drizzpac/chapter-7-data-quality-checks-and-trouble-shooting-problems/7-3-inspecting-drizzled-products-after-user-reprocessing) Section 7.3, statistics performed on the drizzled weight image should yield a RMS/median value less than ~0.2. This threshold controls the trade-off between improving image resolution versus increasing background noise due to pixel resampling.\n",
    " \n",
    "The figure below shows the RMS/median as a function of `final_pixfrac`. One should take care to use the same region in the weight image as the region where the object of interest is located in the science image. If one is using the entire image for scientific analysis, then one should measure the statistics of the weight image where there is more variance. "
   ]
  },
  {
   "cell_type": "code",
   "execution_count": null,
   "metadata": {},
   "outputs": [],
   "source": [
    "whtlist = glob.glob('f160w_0.[0-9]*drz.fits')\n",
    "\n",
    "std_med = np.empty(len(whtlist), dtype=float)\n",
    "fraclist = np.empty(len(whtlist), dtype=float)\n",
    "xlims = radeclims.to_pixel(im1wcs)[0].astype(int)\n",
    "ylims = radeclims.to_pixel(im1wcs)[1].astype(int)\n",
    "\n",
    "# Loop that measures statistics, also some information gathering\n",
    "for i, im in enumerate(whtlist):\n",
    "    with fits.open(im) as hdu:\n",
    "        hdr = hdu[0].header\n",
    "        wht = hdu[2].data\n",
    "    if i == 0:\n",
    "        target = hdr['TARGNAME']\n",
    "        scale = str(hdr['D001SCAL'])\n",
    "        nimg = hdr['NDRIZIM']\n",
    "    wht_std = np.std(wht[ylims[0]: ylims[1], xlims[0]: xlims[1]])\n",
    "    wht_med = np.median(wht[ylims[0]: ylims[1], xlims[0]: xlims[1]])\n",
    "    std_med[i] = wht_std / wht_med\n",
    "    fraclist[i] = hdr['D001PIXF']\n",
    "\n",
    "# Plotting commands              \n",
    "plt.clf()\n",
    "plt.xlim(1.025, -0.025)\n",
    "plt.ylim(0., 0.9)\n",
    "plt.scatter(fraclist, std_med, s=50)\n",
    "plt.axhline(0.2, ls='--', lw=3, c='r')\n",
    "plt.xlabel('pixfrac', fontsize=18)\n",
    "plt.ylabel('rms/median', fontsize=18)\n",
    "plt.text(1.0, 0.85, target, fontsize=16, horizontalalignment='left')\n",
    "plt.text(1.0, 0.80, 'Scale=' + str(scale) + '\"', fontsize=16, horizontalalignment='left')\n",
    "plt.text(1.0, 0.75, str(nimg) + ' images', fontsize=16, horizontalalignment='left')"
   ]
  },
  {
   "cell_type": "markdown",
   "metadata": {},
   "source": [
    "The RMS/median increases steadily down to `final_pixfrac` value of 0.3, where there is a change in the slope of the function, indicating that something odd might be happening beyond that point. The RMS remains below 20% of the median all the way down to `final_pixfrac` of 0.8, but the science and weight images should be inspected at all values to ensure no quality degradation has occurred. "
   ]
  },
  {
   "cell_type": "markdown",
   "metadata": {
    "collapsed": true,
    "jupyter": {
     "outputs_hidden": true
    }
   },
   "source": [
    "<a id=\"final\"></a>\n",
    "## 6. Final thoughts \n",
    "[Table of Contents](#toc)\n",
    "\n",
    "The `final_pixfrac` value has to be small enough to avoid degrading the combined output image, but large enough that when all images are \"dropped\" onto the final frame, coverage of the output frame is fairly uniform. In general, `final_pixfrac` should be slightly larger than the final output scale to allow some \"spillover\" to adjacent pixels. This will help avoid \"holes\" in the final product when a given pixel has been flagged as \"bad\" in several frames. As a rule of thumb, statistics performed on the drizzled weight image in the region of interest should yield an RMS value (standard deviation) that is less than 20% of the median value. This threshold is a balance between the benefits of improving the image resolution at the expense of increasing noise in the background."
   ]
  },
  {
   "cell_type": "markdown",
   "metadata": {},
   "source": [
    "<a id=\"about\"></a>\n",
    "## About this Notebook\n",
    "\n",
    "    Created: 12 Dec 2018;     R. Avila\n",
    "    Updated: 29 Apr 2024;     R. Avila & J. Mack\n",
    "\n",
    "**Source:** GitHub [spacetelescope/hst_notebooks](https://github.com/spacetelescope/hst_notebooks)\n",
    "\n",
    "<a id=\"add\"></a>\n",
    "## Additional Resources\n",
    "\n",
    "Below are some additional resources that may be helpful. Please send any questions through the [HST Help Desk](https://stsci.service-now.com/hst).\n",
    "\n",
    "- [WFC3 Website](https://www.stsci.edu/hst/instrumentation/wfc3)\n",
    "- [ACS Website](https://www.stsci.edu/hst/instrumentation/acs)\n",
    "- [WFC3 Instrument Handbook](https://hst-docs.stsci.edu/wfc3ihb)\n",
    "- [WFC3 Data Handbook](https://hst-docs.stsci.edu/wfc3dhb)\n",
    "- [Drizzlepac Handbook](https://hst-docs.stsci.edu/drizzpac)\n",
    "- [Astrodrizzle keywords documentation](https://drizzlepac.readthedocs.io/en/latest/drizzlepac_api/astrodrizzle.html)\n",
    "\n",
    "<a id=\"cite\"></a>\n",
    "## Citations\n",
    "If you use Python packages such as `astropy`, `astroquery`, `drizzlepac`, `matplotlib`, or `numpy` for published research, please cite the authors.\n",
    "\n",
    "Follow these links for more information about citing various packages:\n",
    "\n",
    "* [Citing `astropy`](https://www.astropy.org/acknowledging.html)\n",
    "* [Citing `astroquery`](https://github.com/astropy/astroquery/blob/main/astroquery/CITATION)\n",
    "* [Citing `drizzlepac`](https://zenodo.org/records/3743274)\n",
    "* [Citing `matplotlib`](https://matplotlib.org/stable/users/project/citing.html)\n",
    "* [Citing `numpy`](https://numpy.org/citing-numpy/)\n",
    "***"
   ]
  },
  {
   "cell_type": "markdown",
   "metadata": {},
   "source": [
    "[Top of Page](#top)"
   ]
  },
  {
   "cell_type": "code",
   "execution_count": null,
   "metadata": {},
   "outputs": [],
   "source": []
  }
 ],
 "metadata": {
  "kernelspec": {
   "display_name": "Python 3 (ipykernel)",
   "language": "python",
   "name": "python3"
  },
  "language_info": {
   "codemirror_mode": {
    "name": "ipython",
    "version": 3
   },
   "file_extension": ".py",
   "mimetype": "text/x-python",
   "name": "python",
   "nbconvert_exporter": "python",
   "pygments_lexer": "ipython3",
   "version": "3.11.9"
  }
 },
 "nbformat": 4,
 "nbformat_minor": 4
}
