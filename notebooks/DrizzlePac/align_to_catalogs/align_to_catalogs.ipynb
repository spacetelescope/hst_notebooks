{
 "cells": [
  {
   "cell_type": "markdown",
   "metadata": {},
   "source": [
    "<a id=\"top\"></a>\n",
    "# Aligning HST images to an Absolute Reference Catalog"
   ]
  },
  {
   "cell_type": "markdown",
   "metadata": {},
   "source": [
    "<div class=\"alert alert-block alert-warning\" style=\"color:black\" > <b> This notebook requires creating and activating a virtual environment using the requirements file in this notebook's repository. Please also review the README file before using the notebook.</b> <br> </div>\n",
    "\n",
    "## Table of Contents\n",
    "<a id=\"toc\"></a>\n",
    "\n",
    "[Introduction](#intro) <br>\n",
    "[Import Packages](#import) <br>\n",
    "\n",
    "[1. Download the Observations with `astroquery`](#download) <br>\n",
    "&nbsp;&nbsp;&nbsp;&nbsp;[1.1 Check image header data](#check_keywords) <br>\n",
    "&nbsp;&nbsp;&nbsp;&nbsp;[1.2 Inspect the alignment](#check_wcs) <br>\n",
    "\n",
    "[2. Query the Reference Catalogs](#query) <br>\n",
    "&nbsp;&nbsp;&nbsp;&nbsp;[2.1 Identify Coordinates](#coords) <br>\n",
    "&nbsp;&nbsp;&nbsp;&nbsp;[2.2 SDSS Query](#sdss_query) <br>\n",
    "&nbsp;&nbsp;&nbsp;&nbsp;[2.3 Gaia Query](#gaia_query) <br>\n",
    "\n",
    "[3. Align images with `TweakReg`](#tweakreg) <br>\n",
    "&nbsp;&nbsp;&nbsp;&nbsp;[3.1 SDSS Alignment](#sdss_align) <br>\n",
    "&nbsp;&nbsp;&nbsp;&nbsp;[3.2 Inspect the shift file and fit residuals](#fit_quality_sdss) <br>\n",
    "&nbsp;&nbsp;&nbsp;&nbsp;[3.3 Gaia Alignment](#gaia_align) <br>\n",
    "&nbsp;&nbsp;&nbsp;&nbsp;[3.4 Inspect the shift file and fit residuals](#fit_quality_gaia) <br>\n",
    "&nbsp;&nbsp;&nbsp;&nbsp;[3.5 Overplot Matched Sources on the image](#overplot) <br>\n",
    "&nbsp;&nbsp;&nbsp;&nbsp;[3.6 Update header with optimal parameters](#updatehdr) <br>\n",
    "\n",
    "[4. Combine the images using `AstroDrizzle`](#adriz) <br>\n",
    "\n",
    "[Conclusions](#conclude) <br>\n",
    "[About this Notebook](#about) <br>"
   ]
  },
  {
   "cell_type": "markdown",
   "metadata": {},
   "source": [
    "<a id=\"intro\"></a>\n",
    "## Introduction\n",
    "The alignment of HST exposures is a critical step in image stacking or combination performed with software such as `AstroDrizzle`.  Generally, a *relative* alignment is performed to align one or multiple images to another image that is designated as the reference image. The reference image is generally the deepest exposure and/or that covering the largest area of all the exposures.  This process aligns the images to each other, but the pointing error of the observatory can still cause the images to have incorrect *absolute* astrometry. When absolute astrometry is desired, the images can be aligned to an external catalog with an absolute world coordinate system (WCS). In this example, we will provide a workflow to query catalogs such as SDSS and Gaia using the astroquery package, and then align the images to that catalog using TweakReg.\n",
    "\n",
    "The workflow in this notebook for aligning images to [Gaia](https://www.cosmos.esa.int/web/gaia/home) is based on [WFC3 ISR 2017-19: Aligning HST Images to Gaia: a Faster Mosaicking Workflow](https://www.stsci.edu/files/live/sites/www/files/home/hst/instrumentation/wfc3/documentation/instrument-science-reports-isrs/_documents/2017/WFC3-2017-19.pdf) and contains a subset of the information and code found in [this repository](https://github.com/spacetelescope/gaia_alignment).  For more information, see the notebook in that repository titled [Gaia_alignment.ipynb](https://github.com/spacetelescope/gaia_alignment/blob/master/Gaia_alignment.ipynb).\n",
    "\n",
    "For more information about TweakReg, see the other notebooks in this repository or the [TweakReg Documentation](https://drizzlepac.readthedocs.io/en/latest/user_reprocessing/tweakreg_api.html).\n",
    "\n",
    "For more information on Astroquery, see the other notebooks in this repository or the [Astroquery Documentation](https://astroquery.readthedocs.io/en/latest/).\n",
    "\n"
   ]
  },
  {
   "cell_type": "markdown",
   "metadata": {},
   "source": [
    "<a id=\"import\"></a>\n",
    "## Import Packages\n",
    "[Table of Contents](#toc)\n",
    "\n",
    "***\n",
    "\n",
    "The following Python packages are required to run the Jupyter Notebook:\n",
    " - [**os**](https://docs.python.org/3/library/os.html) - change and make directories\n",
    " - [**glob**](https://docs.python.org/3/library/glob.html) - gather lists of filenames\n",
    " - [**shutil**](https://docs.python.org/3/library/shutil.html#module-shutil) - remove directories and files\n",
    " - [**numpy**](https://numpy.org) - math and array functions\n",
    " - [**matplotlib**](https://matplotlib.org/stable/tutorials/pyplot.html) - make figures and graphics\n",
    " - [**astropy**](https://www.astropy.org) - file handling, tables, units, WCS, statistics\n",
    " - [**astroquery**](https://astroquery.readthedocs.io/en/latest/) - download data and query databases\n",
    " - [**drizzlepac**](https://www.stsci.edu/scientific-community/software/drizzlepac) - align and combine HST images"
   ]
  },
  {
   "cell_type": "code",
   "execution_count": null,
   "metadata": {},
   "outputs": [],
   "source": [
    "import os\n",
    "import glob\n",
    "import shutil\n",
    "import numpy as np\n",
    "import matplotlib.pyplot as plt\n",
    "from collections import defaultdict\n",
    "from IPython.display import Image, clear_output\n",
    "import astropy.units as u\n",
    "from astropy.io import ascii, fits\n",
    "from astropy.table import Table\n",
    "from astropy.units import Quantity\n",
    "from astropy.coordinates import SkyCoord\n",
    "from astropy.visualization import ZScaleInterval\n",
    "from astroquery.mast import Observations\n",
    "from astroquery.sdss import SDSS\n",
    "from astroquery.gaia import Gaia\n",
    "from drizzlepac import tweakreg, astrodrizzle\n",
    "from drizzlepac.processInput import getMdriztabPars\n",
    "\n",
    "%config InlineBackend.figure_format = 'retina' # Greatly improves the resolution of figures rendered in notebooks.\n",
    "Gaia.MAIN_GAIA_TABLE = 'gaiadr3.gaia_source' # Change this to the desired Gaia data release.\n",
    "Gaia.ROW_LIMIT = 100000 # Show all of the matched sources in the printed tables.\n",
    "\n",
    "# Set the locations of reference files and retrieve the MDRIZTAB recommended drizzle parameters.\n",
    "os.environ['CRDS_SERVER_URL'] = 'https://hst-crds.stsci.edu'\n",
    "os.environ['CRDS_SERVER'] = 'https://hst-crds.stsci.edu'\n",
    "os.environ['CRDS_PATH'] = './crds_cache'\n",
    "os.environ['iref'] = './crds_cache/references/hst/wfc3/'"
   ]
  },
  {
   "cell_type": "markdown",
   "metadata": {},
   "source": [
    "<a id=\"download\"></a>\n",
    "## 1. Download the Observations with `astroquery`\n",
    "[Table of Contents](#toc)\n",
    "\n",
    "For this notebook, we will download WFC3/UVIS images of NGC 6791 from \n",
    "program [12692](http://www.stsci.edu/cgi-bin/get-proposal-info?id=12692&observatory=HST) \n",
    "in the F606W filter acquired in Visit 01. The three FLC images have been processed by the HST WFC3 pipeline (calwf3), which includes bias subtraction, dark current and CTE correction, cosmic-ray rejection, and flatfielding:\n",
    "\n",
    "            ibwb01xqq_flc.fits\n",
    "            ibwb01xrq_flc.fits\n",
    "            ibwb01xxq_flc.fits\n",
    "\n",
    "---\n",
    "MAST queries may be done using <a href=\"https://astroquery.readthedocs.io/en/latest/mast/mast_obsquery.html#observation-criteria-queries\"> `query_criteria`</a>, where we specify: <br>\n",
    "\n",
    "&nbsp;&nbsp;&nbsp;&nbsp;$\\rightarrow$ obs_id, proposal_id, and filters \n",
    "\n",
    "MAST data products may be downloaded by using <a href=\"https://astroquery.readthedocs.io/en/latest/mast/mast_obsquery.html#downloading-data\"> `download_products`</a>, where we specify:<br> \n",
    "\n",
    "&nbsp;&nbsp;&nbsp;&nbsp;$\\rightarrow$ products = calibrated (FLT, FLC) or drizzled (DRZ, DRC) files\n",
    "\n",
    "&nbsp;&nbsp;&nbsp;&nbsp;$\\rightarrow$ type = standard products (CALxxx) or advanced products (HAP-SVM)\n",
    "\n",
    "<div class=\"alert alert-block alert-warning\" style=\"color:black\" >  Depending on your connection speed this cell may take a few minutes to execute. </div>"
   ]
  },
  {
   "cell_type": "code",
   "execution_count": null,
   "metadata": {},
   "outputs": [],
   "source": [
    "obs_ids = ['ibwb01*']\n",
    "props = ['12692']\n",
    "filts = ['F606W']\n",
    "\n",
    "obsTable = Observations.query_criteria(obs_id=obs_ids, proposal_id=props, filters=filts)\n",
    "products = Observations.get_product_list(obsTable)\n",
    "\n",
    "data_prod = ['FLC']    # ['FLC','FLT','DRC','DRZ']                  \n",
    "data_type = ['CALWF3'] # ['CALACS','CALWF3','CALWP2','HAP-SVM']    \n",
    "\n",
    "Observations.download_products(products, productSubGroupDescription=data_prod, project=data_type, cache=True)"
   ]
  },
  {
   "cell_type": "markdown",
   "metadata": {},
   "source": [
    "Move to the files to the local working directory:"
   ]
  },
  {
   "cell_type": "code",
   "execution_count": null,
   "metadata": {},
   "outputs": [],
   "source": [
    "for flc in glob.glob('./mastDownload/HST/*/*flc.fits'):\n",
    "    flc_name = os.path.basename(flc)\n",
    "    os.rename(flc, flc_name)\n",
    "    \n",
    "if os.path.exists('mastDownload'):\n",
    "    shutil.rmtree('mastDownload')"
   ]
  },
  {
   "cell_type": "markdown",
   "metadata": {},
   "source": [
    "<a id=\"check_keywords\"></a>\n",
    "### 1.1 Check image header data\n",
    "\n",
    "The cell below retrieves values for specific keywords from the first and second extensions of the image header. We see that the 1st exposure is 30 seconds and the 2nd and 3rd exposures are 360 seconds in duration. The 3rd exposure is dithered by approximately 82 arcseconds in the y-direction which is approximately the width of one WFC3 UVIS detector chip. A full list of header keywords is available in [Section 2.4](https://hst-docs.stsci.edu/wfc3dhb/chapter-2-wfc3-data-structure/2-4-headers-and-keywords) of the WFC3 Data Handbook."
   ]
  },
  {
   "cell_type": "code",
   "execution_count": null,
   "metadata": {},
   "outputs": [],
   "source": [
    "paths = sorted(glob.glob('*flc.fits'))\n",
    "data = []\n",
    "keywords_ext0 = [\"ROOTNAME\", \"ASN_ID\", \"TARGNAME\", \"DETECTOR\", \"FILTER\", \"exptime\", \n",
    "                 \"ra_targ\", \"dec_targ\", \"postarg1\", \"postarg2\", \"DATE-OBS\"]\n",
    "keywords_ext1 = [\"orientat\"]\n",
    "\n",
    "for path in paths:\n",
    "    path_data = []\n",
    "    for keyword in keywords_ext0:\n",
    "        path_data.append(fits.getval(path, keyword, ext=0))\n",
    "    for keyword in keywords_ext1:\n",
    "        path_data.append(fits.getval(path, keyword, ext=1))\n",
    "    data.append(path_data)\n",
    "    \n",
    "keywords = keywords_ext0 + keywords_ext1\n",
    "table = Table(np.array(data), names=keywords, dtype=['str', 'str', 'str', 'str', 'str', 'f8', 'f8', 'f8', 'f8', 'f8', 'str', 'f8'])\n",
    "table['exptime'].format = '7.1f'\n",
    "table['ra_targ'].format = table['dec_targ'].format = '7.4f'\n",
    "table['postarg1'].format = table['postarg2'].format = '7.3f'\n",
    "table['orientat'].format = '7.2f'\n",
    "table"
   ]
  },
  {
   "cell_type": "markdown",
   "metadata": {},
   "source": [
    "<a id=\"check_wcs\"></a>\n",
    "### 1.2 Inspect the Alignment\n",
    "\n",
    "Check the active WCS solution in the image header. If the image is aligned to a catalog, the list the number of matches and the fit RMS in milli-arcseconds. Next, convert the fit RMS values to pixels for comparison with the alignment results performed later in this notebook using `Tweakreg`."
   ]
  },
  {
   "cell_type": "code",
   "execution_count": null,
   "metadata": {},
   "outputs": [],
   "source": [
    "ext_0_keywords = ['DETECTOR', 'EXPTIME'] # extension 0 keywords.\n",
    "ext_1_keywords = ['WCSNAME', 'NMATCHES', 'RMS_RA', 'RMS_DEC'] # extension 1 keywords.\n",
    "\n",
    "# Define the detector plate scales in arcsec per pixel.\n",
    "DETECTOR_SCALES = {\n",
    "  'IR': 0.1283, \n",
    "  'UVIS': 0.0396, \n",
    "  'WFC': 0.05\n",
    "}\n",
    "\n",
    "formatted_data = {}\n",
    "column_data = defaultdict(list)\n",
    "\n",
    "for fits_file in sorted(glob.glob('*flc.fits')):\n",
    "    column_data['filename'].append(fits_file)\n",
    "    header0 = fits.getheader(fits_file, 0)\n",
    "    header1 = fits.getheader(fits_file, 1)\n",
    "    \n",
    "    for keyword in ext_0_keywords:\n",
    "        column_data[keyword].append(header0[keyword])\n",
    "    for keyword in ext_1_keywords:\n",
    "        if 'RMS' in keyword:\n",
    "            value = np.around(header1[keyword], decimals=1)\n",
    "        else:\n",
    "            value = header1[keyword]\n",
    "            column_data[keyword].append(value)\n",
    "            \n",
    "    for keyword in ['RMS_RA', 'RMS_DEC']:\n",
    "        rms_value = header1[keyword] / 1000 / DETECTOR_SCALES[header0['DETECTOR']]\n",
    "        column_data[f'{keyword}_pix'].append(np.round(rms_value, decimals=2))\n",
    "\n",
    "wcstable = Table(column_data)\n",
    "wcstable"
   ]
  },
  {
   "cell_type": "markdown",
   "metadata": {},
   "source": [
    "<a id=\"query\"></a>\n",
    "## 2. Query the Reference Catalogs\n",
    "\n",
    "[Table of Contents](#toc)\n",
    "\n",
    "Now that we have the FITS images, we will download the reference catalogs from both SDSS and Gaia using `astroquery`.\n",
    "\n",
    "<a id=\"coords\"></a>\n",
    "### 2.1 Identify Coordinates\n",
    "We will first create a SkyCoord Object to point astroquery to where we are looking on the sky.  Since our example uses data from NGC 6791, we will use the `ra_targ` and `dec_targ` keywords from the first image to get the coordinates of the object."
   ]
  },
  {
   "cell_type": "code",
   "execution_count": null,
   "metadata": {},
   "outputs": [],
   "source": [
    "RA = table['ra_targ'][0]\n",
    "Dec = table['dec_targ'][0]"
   ]
  },
  {
   "cell_type": "markdown",
   "metadata": {},
   "source": [
    "<a id=\"sdss_query\"></a>\n",
    "### 2.2 SDSS Query\n",
    "We now give the RA and Dec values to an astropy `SkyCoord` object, which we will pass to the SDSS query.  Additionally, we use an astropy `Quantity` object to create a radius for the SDSS query in physical units.  We set the radius to 5 arcminutes to comfortably cover the area of our images. For reference, the UVIS detector field of view is approximately 2.7'$\\times$2.7' and a y-dither of 82 arcseconds covers a total area on the sky of approximately 2.7'$\\times$4.1'."
   ]
  },
  {
   "cell_type": "code",
   "execution_count": null,
   "metadata": {},
   "outputs": [],
   "source": [
    "coord = SkyCoord(ra=RA, dec=Dec, unit=(u.deg, u.deg))\n",
    "radius = Quantity(5., u.arcmin)"
   ]
  },
  {
   "cell_type": "markdown",
   "metadata": {},
   "source": [
    "Next, we perform the query via the `SDSS.query_region` method of `astroquery.sdss`. The `spectro=False` keyword argument means we want to exclude spectroscopic objects, as we are looking for objects to match with an image. In the fields parameter, we specify a list of fields we want returned by the query. In this case we only need the position, as well as a *g*-band magnitude if we want to remove very dim and/or bright objects from the catalog, as those are likely measured poorly. Details on selecting objects by magnitude may be found in the ['Gaia_alignment' notebook](https://github.com/spacetelescope/gaia_alignment). Many other fields are available in the SDSS query and are [documented on this webpage](http://cas.sdss.org/dr7/en/help/browser/description.asp?n=PhotoObj&t=V)."
   ]
  },
  {
   "cell_type": "code",
   "execution_count": null,
   "metadata": {},
   "outputs": [],
   "source": [
    "sdss_query = SDSS.query_region(coord, radius=radius, spectro=False, fields=['ra', 'dec', 'g'])\n",
    "sdss_query"
   ]
  },
  {
   "cell_type": "markdown",
   "metadata": {},
   "source": [
    "We then need to save the catalog to use with `TweakReg`. As the returned value of the query is an `astropy.Table`, saving the file is straightforward:"
   ]
  },
  {
   "cell_type": "code",
   "execution_count": null,
   "metadata": {},
   "outputs": [],
   "source": [
    "sdss_query.write('sdss.cat', format='ascii.commented_header', overwrite=True)"
   ]
  },
  {
   "cell_type": "markdown",
   "metadata": {},
   "source": [
    "<a id=\"gaia_query\"></a>\n",
    "### 2.3 Gaia Query\n",
    "Similarly to SDSS, we can query Gaia catalogs for our target via `astroquery.gaia`. This may be preferable in many cases because the spaced-based astrometry from Gaia is generally very accurate and precise. We can use the same `coord` and  `radius` search parameters from our earlier SDSS query."
   ]
  },
  {
   "cell_type": "code",
   "execution_count": null,
   "metadata": {},
   "outputs": [],
   "source": [
    "gaia_query = Gaia.query_object_async(coordinate=coord, radius=radius)\n",
    "gaia_query"
   ]
  },
  {
   "cell_type": "markdown",
   "metadata": {},
   "source": [
    "This query has returned very large number of columns, so we select the most useful columns to make the catalog easier to use with `TweakReg`."
   ]
  },
  {
   "cell_type": "code",
   "execution_count": null,
   "metadata": {},
   "outputs": [],
   "source": [
    "reduced_query = gaia_query['ra', 'dec', 'phot_g_mean_mag']\n",
    "reduced_query"
   ]
  },
  {
   "cell_type": "markdown",
   "metadata": {},
   "source": [
    "Then we write this catalog to an ascii file for use with `TweakReg`."
   ]
  },
  {
   "cell_type": "code",
   "execution_count": null,
   "metadata": {},
   "outputs": [],
   "source": [
    "reduced_query.write('gaia.cat', format='ascii.commented_header', overwrite=True)"
   ]
  },
  {
   "cell_type": "markdown",
   "metadata": {},
   "source": [
    "<a id=\"tweakreg\"></a>\n",
    "## 3. Align with `TweakReg`\n",
    "[Table of Contents](#toc)\n",
    "\n",
    "With the catalogs downloaded and the headers populated, we now need to run `TweakReg` with each catalog passed into the `refcat` parameter. The steps below compare the astrometric residuals obtained from aligning to each `refcat`. In each case, we set the `updatehdr` parameter to False to avoid altering the WCS of the images until we are satisfied with the alignment by inspecting both the `TweakReg` shift file and the astrometric residual plots.\n",
    "\n",
    "<a id=\"sdss_align\"></a>\n",
    "### 3.1 SDSS Alignment"
   ]
  },
  {
   "cell_type": "code",
   "execution_count": null,
   "metadata": {
    "scrolled": true
   },
   "outputs": [],
   "source": [
    "refcat = 'sdss.cat'\n",
    "wcsname = 'SDSS' # Specify the WCS name for this alignment.\n",
    "cw = 3.5         # 2x the FWHM of the PSF = 3.5 pixels for ACS/WFC, WFC3/UVIS or 2.5 for WFC3/IR.\n",
    "\n",
    "tweakreg.TweakReg('*flc.fits', # Pass the input images to tweakreg.\n",
    "                  imagefindcfg={'threshold': 500., 'conv_width': cw},  # Detection parameters that vary for different datasets.\n",
    "                  refcat=refcat,                # Use user supplied catalog (Gaia).\n",
    "                  interactive=False,            # Don't show the interactive interface.\n",
    "                  see2dplot=False,              # Suppress additional figures in this test.\n",
    "                  shiftfile=True,               # Save output shift file to examine shifts later.\n",
    "                  outshifts='SDSS_shifts.txt',  # Name of the shift file that will be saved.\n",
    "                  wcsname=wcsname,              # Give our WCS a new name defined above.\n",
    "                  reusename=True,               # Overwrite the WCS if it exists.\n",
    "                  ylimit=1.5,\n",
    "                  fitgeometry='rscale',         # Allow for translation, rotation, and plate scaling.\n",
    "                  updatehdr=False)              # Don't update the header with new WCS until later.\n",
    "clear_output()"
   ]
  },
  {
   "cell_type": "code",
   "execution_count": null,
   "metadata": {},
   "outputs": [],
   "source": [
    "# If the alignment is unsuccessful then stop the notebook.\n",
    "\n",
    "with open('SDSS_shifts.txt', 'r') as shift:\n",
    "    for line_number, line in enumerate(shift, start=1):\n",
    "        if \"nan\" in line:\n",
    "            raise ValueError('nan found in line {} in shift file'.format(line_number))\n",
    "        else:\n",
    "            continue"
   ]
  },
  {
   "cell_type": "markdown",
   "metadata": {},
   "source": [
    "<a id=\"fit_quality_sdss\"></a>\n",
    "### 3.2 Inspect the shift file and fit residuals\n",
    "\n",
    "We can look at the shift file to see how well the fit did (or we could open the output png images for more information). The columns are:\n",
    "- Filename, X Shift [pixels], Y Shift [pixels], Rotation [degrees], Scale, X RMS [pixels], Y RMS [pixels]"
   ]
  },
  {
   "cell_type": "code",
   "execution_count": null,
   "metadata": {},
   "outputs": [],
   "source": [
    "shift_table = Table.read('SDSS_shifts.txt',\n",
    "                         format='ascii.no_header', \n",
    "                         names=['file', 'dx', 'dy', 'rot', 'scale', 'xrms', 'yrms'])\n",
    "\n",
    "formats = ['.2f', '.2f', '.3f', '.5f', '.2f', '.2f']\n",
    "for i, col in enumerate(shift_table.colnames[1:]):\n",
    "    shift_table[col].format = formats[i]\n",
    "shift_table"
   ]
  },
  {
   "cell_type": "markdown",
   "metadata": {},
   "source": [
    "Show the astrometric residual plots."
   ]
  },
  {
   "cell_type": "code",
   "execution_count": null,
   "metadata": {},
   "outputs": [],
   "source": [
    "Image(filename='residuals_ibwb01xqq_flc.png', width=500, height=300)"
   ]
  },
  {
   "cell_type": "code",
   "execution_count": null,
   "metadata": {},
   "outputs": [],
   "source": [
    "Image(filename='residuals_ibwb01xrq_flc.png', width=500, height=300)"
   ]
  },
  {
   "cell_type": "code",
   "execution_count": null,
   "metadata": {},
   "outputs": [],
   "source": [
    "Image(filename='residuals_ibwb01xxq_flc.png', width=500, height=300)"
   ]
  },
  {
   "cell_type": "markdown",
   "metadata": {},
   "source": [
    "We can see in the plots above that the RMS is fairly large at about 0.5 pixels. This is generally considered a poor fit, with the desired RMS being < 0.1 pixels depending on the number of sources. This is likely because the SDSS astrometric precision is insufficient for a high-quality HST alignment. One approach would be to align the first image to SDSS and then align the remaining HST images to one another. This would improve both the absolute and relative alignment of the individual frames.\n",
    "\n",
    "<a id=\"gaia_align\"></a>\n",
    "### 3.3 Gaia Alignment"
   ]
  },
  {
   "cell_type": "code",
   "execution_count": null,
   "metadata": {
    "scrolled": true
   },
   "outputs": [],
   "source": [
    "refcat = 'gaia.cat'\n",
    "wcsname = 'Gaia' # Specify the WCS name for this alignment.\n",
    "cw = 3.5         # 2x the FWHM of the PSF = 3.5 pixels for ACS/WFC, WFC3/UVIS or 2.5 for WFC3/IR.\n",
    "\n",
    "tweakreg.TweakReg('*flc.fits', # Pass the input images to tweakreg.\n",
    "                  imagefindcfg={'threshold': 500., 'conv_width': cw},  # Detection parameters that vary for different datasets.\n",
    "                  refcat=refcat,                # Use user supplied catalog (Gaia).\n",
    "                  interactive=False,            # Don't show the interactive interface.\n",
    "                  see2dplot=False,              # Suppress additional figures in this test.\n",
    "                  shiftfile=True,               # Save output shift file to examine shifts later.\n",
    "                  outshifts='Gaia_shifts.txt',  # Name of the shift file that will be saved.\n",
    "                  wcsname=wcsname,              # Give our WCS a new name defined above.\n",
    "                  reusename=True,               # Overwrite the WCS if it exists.\n",
    "                  ylimit=0.3,\n",
    "                  fitgeometry='rscale',         # Allow for translation, rotation, and plate scaling.\n",
    "                  searchrad=0.1,                # With many sources use a smaller search radius for convergence.\n",
    "                  updatehdr=False)              # Don't update the header with new WCS until later.\n",
    "clear_output()"
   ]
  },
  {
   "cell_type": "code",
   "execution_count": null,
   "metadata": {},
   "outputs": [],
   "source": [
    "# If the alignment is unsuccessful then stop the notebook.\n",
    "\n",
    "with open('Gaia_shifts.txt', 'r') as shift:\n",
    "    for line_number, line in enumerate(shift, start=1):\n",
    "        if \"nan\" in line:\n",
    "            raise ValueError('nan found in line {} in shift file'.format(line_number))\n",
    "        else:\n",
    "            continue"
   ]
  },
  {
   "cell_type": "markdown",
   "metadata": {},
   "source": [
    "<a id=\"fit_quality_gaia\"></a>\n",
    "### 3.4 Inspect the shift file and fit residuals\n",
    "\n",
    "We can similarly look at the shift file from alignment to the Gaia catalog. As expected, the Gaia catalog does quite a bit better, with rms residuals ~0.05 pixels.  \n",
    "\n",
    "The columns are: Filename, X Shift [pixels], Y Shift [pixels], Rotation [degrees], Scale, X RMS [pixels], Y RMS [pixels]"
   ]
  },
  {
   "cell_type": "code",
   "execution_count": null,
   "metadata": {},
   "outputs": [],
   "source": [
    "shift_table = Table.read('Gaia_shifts.txt',\n",
    "                         format='ascii.no_header', \n",
    "                         names=['file', 'dx', 'dy', 'rot', 'scale', 'xrms', 'yrms'])\n",
    "\n",
    "formats = ['.2f', '.2f', '.3f', '.5f', '.2f', '.2f']\n",
    "for i, col in enumerate(shift_table.colnames[1:]):\n",
    "    shift_table[col].format = formats[i]\n",
    "shift_table"
   ]
  },
  {
   "cell_type": "markdown",
   "metadata": {},
   "source": [
    "Print the Number of Gaia Matches per image from the TweakReg output."
   ]
  },
  {
   "cell_type": "code",
   "execution_count": null,
   "metadata": {},
   "outputs": [],
   "source": [
    "rootname1 = 'ibwb01xqq'\n",
    "rootname2 = 'ibwb01xrq'\n",
    "rootname3 = 'ibwb01xxq'\n",
    "match_tab1 = ascii.read(rootname1+'_flc_catalog_fit.match')  # load match file in astropy table\n",
    "match_tab2 = ascii.read(rootname2+'_flc_catalog_fit.match')  # load match file in astropy table\n",
    "match_tab3 = ascii.read(rootname3+'_flc_catalog_fit.match')  # load match file in astropy table\n",
    "print(rootname1+': Number of Gaia Matches =', len(match_tab1))\n",
    "print(rootname2+': Number of Gaia Matches =', len(match_tab2))\n",
    "print(rootname3+': Number of Gaia Matches =', len(match_tab3))"
   ]
  },
  {
   "cell_type": "markdown",
   "metadata": {},
   "source": [
    "Compare the RMS and number of matches from `TweakReg` with the MAST alignment results. "
   ]
  },
  {
   "cell_type": "code",
   "execution_count": null,
   "metadata": {},
   "outputs": [],
   "source": [
    "wcstable"
   ]
  },
  {
   "cell_type": "markdown",
   "metadata": {},
   "source": [
    "<b>The new Gaia solution looks better than the MAST solution, so we rerun `TweakReg` below and update the image headers with the new WCS solution.<b>\n",
    "\n",
    "For more details on absolute astrometry in HST images, see [Section 4.5](https://hst-docs.stsci.edu/drizzpac/chapter-4-astrometric-information-in-the-header/4-5-absolute-astrometry) in the DrizzlePac Handbook. Show the astrometric residual plots:"
   ]
  },
  {
   "cell_type": "code",
   "execution_count": null,
   "metadata": {},
   "outputs": [],
   "source": [
    "Image(filename='residuals_ibwb01xqq_flc.png', width=500, height=300)"
   ]
  },
  {
   "cell_type": "code",
   "execution_count": null,
   "metadata": {},
   "outputs": [],
   "source": [
    "Image(filename='residuals_ibwb01xrq_flc.png', width=500, height=300)"
   ]
  },
  {
   "cell_type": "code",
   "execution_count": null,
   "metadata": {},
   "outputs": [],
   "source": [
    "Image(filename='residuals_ibwb01xxq_flc.png', width=500, height=300)"
   ]
  },
  {
   "cell_type": "markdown",
   "metadata": {},
   "source": [
    "<a id=\"overplot\"></a>\n",
    "### 3.5 Overplot Matched Sources on the Image\n",
    "\n",
    "Now, let's plot the sources that were matched between all images on the \"bottom\" UVIS chip. This is referred to as chip 2 or SCI, 1 or extension 1.  The cell below reads in the `*_fit.match` file as an `astropy` table. Unfortunatley, it doesn't automatically name columns so we look at the header to grab the columns.\n",
    "\n",
    "To verify that TweakReg obtained an acceptable fit between matched source catalogs, it is useful to inspect the results before updating the image header WCS. In the figure below, sources that are matched with Gaia are overplotted on one of the input FLC frames with the two chips merged together. \n",
    "\n",
    "It can be useful to check that `TweakReg` locked onto stars and not hot pixels or other detector artifacts before proceeding to update the image header. "
   ]
  },
  {
   "cell_type": "code",
   "execution_count": null,
   "metadata": {},
   "outputs": [],
   "source": [
    "# Choose one of the files to view.\n",
    "# rootname = 'ibwb01xqq'\n",
    "rootname = 'ibwb01xrq'\n",
    "# rootname = 'ibwb01xxq'\n",
    "\n",
    "plt.figure(figsize=(7, 7), dpi=140)\n",
    "chip1_data = fits.open(rootname+'_flc.fits')['SCI', 2].data\n",
    "chip2_data = fits.open(rootname+'_flc.fits')['SCI', 1].data\n",
    "fullsci = np.concatenate([chip2_data, chip1_data])\n",
    "z1, z2 = ZScaleInterval().get_limits(fullsci)\n",
    "plt.imshow(fullsci, cmap='Greys', origin='lower', vmin=z1, vmax=z2)\n",
    "\n",
    "match_tab = ascii.read(rootname+'_flc_catalog_fit.match')  # Load the match file in astropy table.\n",
    "match_tab_chip1 = match_tab[match_tab['col15'] == 2]  # Filter the table for sources on chip 1 (on ext 4).\n",
    "match_tab_chip2 = match_tab[match_tab['col15'] == 1]  # Filter he table for sources on chip 1 (on ext 4).\n",
    "x_cord1, y_cord1 = match_tab_chip1['col11'], match_tab_chip1['col12']\n",
    "x_cord2, y_cord2 = match_tab_chip2['col11'], match_tab_chip2['col12']\n",
    "\n",
    "plt.scatter(x_cord1, y_cord1+2051, s=50, edgecolor='r', facecolor='None', label='Matched Sources')\n",
    "plt.scatter(x_cord2, y_cord2, s=50, edgecolor='r', facecolor='None')\n",
    "plt.title(f'Matched sources UVIS to Gaia: N = {len(match_tab)}', fontsize=14)\n",
    "plt.show()"
   ]
  },
  {
   "cell_type": "markdown",
   "metadata": {},
   "source": [
    "<a id=\"updatehdr\"></a>\n",
    "### 3.6 Update header with optimal parameters\n",
    "\n",
    "Once you've decided on the optimal set of parameters for your alignment, it is safe to update the header of the input data, (assuming that the new solution is better than the MAST alignment.) To apply these transformations to the image, we simply need to run TweakReg the same as before, but set the parameter `updatehdr` equal to `True`:"
   ]
  },
  {
   "cell_type": "code",
   "execution_count": null,
   "metadata": {},
   "outputs": [],
   "source": [
    "refcat = 'gaia.cat'\n",
    "wcsname = 'Gaia'                   # Specify the WCS name for this alignment\n",
    "cw = 3.5                           # 2x the FWHM of the PSF = 3.5 for ACS/WFC, WFC3/UVIS or 2.5 for WFC3/IR \n",
    "\n",
    "tweakreg.TweakReg('*flc.fits', # Pass the input images to tweakreg.\n",
    "                  imagefindcfg={'threshold': 500., 'conv_width': cw},  # Detection parameters that vary for different datasets.\n",
    "                  refcat=refcat,                # Use user supplied catalog (Gaia).\n",
    "                  interactive=False,            # Don't show the interactive interface.\n",
    "                  see2dplot=False,              # Suppress additional figures in this test.\n",
    "                  shiftfile=True,               # Save output shift file to examine shifts later.\n",
    "                  outshifts='Gaia_shifts.txt',  # Name of the shift file that will be saved.\n",
    "                  wcsname=wcsname,              # Give our WCS a new name defined above.\n",
    "                  reusename=True,               # Overwrite the WCS if it exists.\n",
    "                  ylimit=0.3,\n",
    "                  fitgeometry='rscale',         # Allow for translation, rotation, and plate scaling.\n",
    "                  searchrad=0.1,                # With many sources use a smaller search radius for convergence.\n",
    "                  updatehdr=True)               # Update the header with new WCS solution.\n",
    "\n",
    "clear_output()"
   ]
  },
  {
   "cell_type": "markdown",
   "metadata": {},
   "source": [
    "<a id=\"adriz\"></a>\n",
    "## 4. Combine the Images using `AstroDrizzle`\n",
    "\n",
    "[Table of Contents](#toc)\n",
    "\n",
    "While the three sets of FLC files are now aligned, in this example we drizzle together only the two long exposures. When exposures are very different lengths, drizzling them together doesn't work well when 'EXP' weighting is used. For objects that saturate in the long exposures, the problem occurs at the boundary where the signal transitions from only being present in short exposures near the core to being present at larger radii in the longer exposures. The result is a discontinuity in the PSF radial profile and a resulting flux that is too low in some regions. <b>For photometry of saturated objects, the short exposures should be drizzled separately from the long exposures.<b> \n",
    "    \n",
    "Next, we combine the images throught drizzling, and retrieve some recommended values for this process from the MDRIZTAB reference file.  The parameters in this file are different for each detector and are based on the number of input frames. These are a good starting point for drizzling and may be adjusted based on your science goals."
   ]
  },
  {
   "cell_type": "code",
   "execution_count": null,
   "metadata": {},
   "outputs": [],
   "source": [
    "input_images = sorted(glob.glob('ibwb01x[rx]q_flc.fits'))\n",
    "\n",
    "mdz = fits.getval(input_images[0], 'MDRIZTAB', ext=0).split('$')[1]\n",
    "\n",
    "print('Searching for the MDRIZTAB file:', mdz)\n",
    "\n",
    "get_mdriztab = os.system('crds sync --hst --files '+mdz+' --output-dir '+os.environ['iref'])"
   ]
  },
  {
   "cell_type": "code",
   "execution_count": null,
   "metadata": {},
   "outputs": [],
   "source": [
    "def get_vals_from_mdriztab(input_images, \n",
    "                           kw_list=[\n",
    "                               'driz_sep_bits', \n",
    "                               'combine_type', \n",
    "                               'driz_cr_snr', \n",
    "                               'driz_cr_scale', \n",
    "                               'final_bits']):\n",
    "    \n",
    "    'Get only selected parameters from the MDRIZTAB.'\n",
    "    mdriz_dict = getMdriztabPars(input_images)\n",
    "    \n",
    "    requested_params = {}\n",
    "    \n",
    "    print('Outputting the following parameters:')\n",
    "    for k in kw_list:\n",
    "        requested_params[k] = mdriz_dict[k]\n",
    "        print(k, mdriz_dict[k])\n",
    "    \n",
    "    return requested_params"
   ]
  },
  {
   "cell_type": "code",
   "execution_count": null,
   "metadata": {},
   "outputs": [],
   "source": [
    "selected_params = get_vals_from_mdriztab(input_images)"
   ]
  },
  {
   "cell_type": "markdown",
   "metadata": {},
   "source": [
    "Note that the parameter `final_bits`= '96' is equivalent to `final_bits`= '64, 32' because they are added in a bit-wise manner."
   ]
  },
  {
   "cell_type": "code",
   "execution_count": null,
   "metadata": {},
   "outputs": [],
   "source": [
    "# To override any of the above values:\n",
    "selected_params['driz_sep_bits'] = '256, 64, 32'\n",
    "selected_params['final_bits'] = '256, 64, 32'\n",
    "# selected_params['combine_type']  = 'median'\n",
    "# selected_params['driz_cr_snr']   = '4.0 3.5'\n",
    "# selected_params['driz_cr_scale'] = '1.5 1.2'\n",
    "\n",
    "astrodrizzle.AstroDrizzle(input_images, \n",
    "                          output='f606w',\n",
    "                          preserve=False,\n",
    "                          clean=True, \n",
    "                          build=False,\n",
    "                          context=False,\n",
    "                          skymethod='match',\n",
    "                          **selected_params)\n",
    "\n",
    "clear_output()"
   ]
  },
  {
   "cell_type": "markdown",
   "metadata": {},
   "source": [
    "Display the combined science and weight images. In this example there appear to be three detector chips due to the large dither that was used in the observations. We note that the exposures overlapped in the center region, as evidenced by the increased value of the weight map corresponding to a longer effective exposure time. In addition, the resulting mosaic is better cleaned of artifacts and cosmic rays in this region due to the multiple exposures, as seen by the uniform background in the science mosaic."
   ]
  },
  {
   "cell_type": "code",
   "execution_count": null,
   "metadata": {},
   "outputs": [],
   "source": [
    "sci = fits.getdata('f606w_drc_sci.fits')\n",
    "wht = fits.getdata('f606w_drc_wht.fits')\n",
    "\n",
    "fig = plt.figure(figsize=(20, 20))\n",
    "ax1 = fig.add_subplot(1, 2, 1)\n",
    "ax2 = fig.add_subplot(1, 2, 2)\n",
    "\n",
    "ax1.imshow(sci, vmin=-0.05, vmax=0.4, cmap='Greys_r', origin='lower')\n",
    "ax2.imshow(wht, vmin=0.0, vmax=1000, cmap='Greys_r', origin='lower')\n",
    "\n",
    "ax1.title.set_text('Science Image')\n",
    "ax2.title.set_text('Weight Image')\n",
    "ax1.set_xlabel('X (pixels)')\n",
    "ax1.set_ylabel('Y (pixels)')\n",
    "ax2.set_xlabel('X (pixels)')\n",
    "ax2.set_ylabel('Y (pixels)')"
   ]
  },
  {
   "cell_type": "markdown",
   "metadata": {},
   "source": [
    "For more details on inspecting the drizzled products after reprocessing, see [Section 7.3](https://hst-docs.stsci.edu/drizzpac/chapter-7-data-quality-checks-and-trouble-shooting-problems/7-3-inspecting-drizzled-products-after-user-reprocessing) in the DrizzlePac Handbook."
   ]
  },
  {
   "cell_type": "markdown",
   "metadata": {},
   "source": [
    "<a id=\"conclude\"></a>\n",
    "## Conclusions\n",
    "\n",
    "[Table of Contents](#toc)\n",
    "\n",
    "Many other services have interfaces for querying catalogs that can also be used to align HST images.  In general, Gaia works very well for HST due to it's high precision, but can have a low number of sources in some regions, especially at high galactic latitudes.  Aligning images to an absolute frame provides a way to make data comparable across many epochs/detectors/observatories, and in many cases, makes the alignment easier to complete."
   ]
  },
  {
   "cell_type": "markdown",
   "metadata": {},
   "source": [
    "<a id=\"about\"></a>\n",
    "## About this Notebook\n",
    "    \n",
    "    Created: 14 Dec 2018;     V. Bajaj\n",
    "    Updated: 13 May 2024;     M. Revalski, V. Bajaj, & J. Mack\n",
    "\n",
    "**Source:** GitHub [spacetelescope/hst_notebooks](https://github.com/spacetelescope/hst_notebooks)\n",
    "\n",
    "<a id=\"add\"></a>\n",
    "## Additional Resources\n",
    "\n",
    "Below are some additional resources that may be helpful. Please send any questions through the [HST Help Desk](https://stsci.service-now.com/hst), selecting the DrizzlePac category.\n",
    "\n",
    "- [WFC3 Website](https://www.stsci.edu/hst/instrumentation/wfc3)\n",
    "- [WFC3 Data Handbook](https://hst-docs.stsci.edu/wfc3dhb)\n",
    "- [WFC3 Instrument Handbook](https://hst-docs.stsci.edu/wfc3ihb)\n",
    "\n",
    "<a id=\"cite\"></a>\n",
    "## Citations\n",
    "If you use Python packages such as `astropy`, `astroquery`, `drizzlepac`, `matplotlib`, or `numpy` for published research, please cite the authors.\n",
    "\n",
    "Follow these links for more information about citing various packages:\n",
    "\n",
    "* [Citing `astropy`](https://www.astropy.org/acknowledging.html)\n",
    "* [Citing `astroquery`](https://github.com/astropy/astroquery/blob/main/astroquery/CITATION)\n",
    "* [Citing `drizzlepac`](https://zenodo.org/records/3743274)\n",
    "* [Citing `matplotlib`](https://matplotlib.org/stable/users/project/citing.html)\n",
    "* [Citing `numpy`](https://numpy.org/citing-numpy/)\n",
    "***\n",
    "\n",
    "[Top of Page](#top)\n",
    "<img style=\"float: right;\" src=\"https://raw.githubusercontent.com/spacetelescope/notebooks/master/assets/stsci_pri_combo_mark_horizonal_white_bkgd.png\" alt=\"Space Telescope Logo\" width=\"200px\"/> "
   ]
  }
 ],
 "metadata": {
  "kernelspec": {
   "display_name": "Python 3 (ipykernel)",
   "language": "python",
   "name": "python3"
  },
  "language_info": {
   "codemirror_mode": {
    "name": "ipython",
    "version": 3
   },
   "file_extension": ".py",
   "mimetype": "text/x-python",
   "name": "python",
   "nbconvert_exporter": "python",
   "pygments_lexer": "ipython3",
   "version": "3.11.7"
  }
 },
 "nbformat": 4,
 "nbformat_minor": 4
}
