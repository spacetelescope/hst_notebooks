{
 "cells": [
  {
   "cell_type": "markdown",
   "metadata": {},
   "source": [
    "# Optimizing Image Alignment for Multiple HST Visits "
   ]
  },
  {
   "cell_type": "markdown",
   "metadata": {},
   "source": [
    "<div class=\"alert alert-block alert-warning\" style=\"color:black\" > <b> This notebook requires creating and activating a virtual environment using the requirements file in this notebook's repository. Please also review the README file before using the notebook.</b> <br> </div>"
   ]
  },
  {
   "cell_type": "markdown",
   "metadata": {},
   "source": [
    "<a id=\"toc\"></a>\n",
    "## Table of Contents\n",
    "\n",
    "[Introduction](#intro) <br>\n",
    "\n",
    "[1. Download the Observations with `astroquery`](#download) <br>\n",
    "\n",
    "&nbsp;&nbsp;&nbsp;&nbsp;[1.1 Check image header data](#check_keywords) <br>\n",
    "&nbsp;&nbsp;&nbsp;&nbsp;[1.2 Inspect the alignment](#check_wcs) <br>\n",
    "\n",
    "[2. Align with `TweakReg`](#tweakreg) <br>\n",
    "\n",
    "&nbsp;&nbsp;&nbsp;&nbsp;[2.1 First test: Use 'default' parameters](#default) <br>\n",
    "&nbsp;&nbsp;&nbsp;&nbsp;[2.2 Second test: Set parameters for source finding](#sources) <br>\n",
    "&nbsp;&nbsp;&nbsp;&nbsp;[2.3 Inspect the quality of the fit](#fit_quality) <br>\n",
    "\n",
    "[3. Combine the Images using `AstroDrizzle`](#adriz) <br>\n",
    "\n",
    "&nbsp;&nbsp;&nbsp;&nbsp;[3.1 Inspect the drizzled science image](#science) <br>\n",
    "&nbsp;&nbsp;&nbsp;&nbsp;[3.2 Inspect the final weight image](#wht) <br>\n",
    "&nbsp;&nbsp;&nbsp;&nbsp;[3.3 Discussion of `AstroDrizzle`](#discussion) <br>\n",
    "\n",
    "The following Python packages are required to run the Jupyter Notebook:\n",
    " - [**glob**](https://docs.python.org/3/library/glob.html) - gather lists of filenames\n",
    " - [**os**](https://docs.python.org/3/library/os.html) - change and make directories\n",
    " - [**shutil**](https://docs.python.org/3/library/shutil.html) - perform high-level file operations\n",
    "\n",
    " - [**iPython**](https://ipython.readthedocs.io/en/stable/) - interactive handling\n",
    " - [**matplotlib**](https://matplotlib.org) - create graphics\n",
    " - [**numpy**](https://numpy.org) - math and array functions\n",
    " \n",
    " - [**astropy**](https://www.astropy.org) - FITS file handling and related operations\n",
    " - [**astroquery**](https://astroquery.readthedocs.io/en/latest/) - download data and query databases\n",
    " - [**drizzlepac**](https://drizzlepac.readthedocs.io/en/latest/) - align and combine HST images"
   ]
  },
  {
   "cell_type": "markdown",
   "metadata": {},
   "source": [
    "## Introduction <a id=\"intro\"></a>\n",
    "[Table of Contents](#toc)\n",
    "\n",
    "This notebook demonstrates how to use `TweakReg` and `AstroDrizzle` tasks to align and combine images. While this example focuses on ACS/WFC data, the procedure can be almost identically applied to WFC3/UVIS images. This notebook is based on [a prior example](http://documents.stsci.edu/hst/HST_overview/documents/DrizzlePac/ch75.html) from the 2012 [DrizzlePac Handbook](http://documents.stsci.edu/hst/HST_overview/documents/DrizzlePac/toc.html), but has been updated for compatibility with the latest STScI software distribution.  \n",
    "\n",
    "There is a good deal of explanatory text in this notebook, and users new to DrizzlePac are encouraged to start with this tutorial. Additional `DrizzlePac` software documentation is available at the [readthedocs webpage](https://drizzlepac.readthedocs.io).\n",
    "\n",
    "Before running the notebook, you will need to install the `astroquery` package, which is used to retrieve the data from the MAST archive. "
   ]
  },
  {
   "cell_type": "markdown",
   "metadata": {},
   "source": [
    "Please also make sure to appropriately set your environment variables to allow Python to locate the appropriate reference files."
   ]
  },
  {
   "cell_type": "code",
   "execution_count": null,
   "metadata": {},
   "outputs": [],
   "source": [
    "import glob\n",
    "import os \n",
    "import shutil\n",
    "\n",
    "from collections import defaultdict\n",
    "from IPython.display import clear_output\n",
    "\n",
    "import matplotlib.image as mpimg\n",
    "import matplotlib.pyplot as plt\n",
    "import numpy as np\n",
    "\n",
    "from astropy.io import ascii, fits\n",
    "from astropy.table import Table\n",
    "from astropy.visualization import ZScaleInterval\n",
    "\n",
    "from astroquery.mast import Observations\n",
    "\n",
    "from drizzlepac import tweakreg, astrodrizzle\n",
    "from drizzlepac.processInput import getMdriztabPars\n",
    "\n",
    "%matplotlib inline\n",
    "%config InlineBackend.figure_format='retina'"
   ]
  },
  {
   "cell_type": "markdown",
   "metadata": {},
   "source": [
    "Along with the above imports, we also set up the required local reference files."
   ]
  },
  {
   "cell_type": "code",
   "execution_count": null,
   "metadata": {},
   "outputs": [],
   "source": [
    "# Set the locations of reference files to your local computer.\n",
    "os.environ['CRDS_SERVER_URL'] = 'https://hst-crds.stsci.edu'\n",
    "os.environ['CRDS_SERVER'] = 'https://hst-crds.stsci.edu'\n",
    "os.environ['CRDS_PATH'] = './crds_cache'\n",
    "os.environ['iref'] = './crds_cache/references/hst/wfc3/'\n",
    "os.environ['jref'] = './crds_cache/references/hst/acs/'"
   ]
  },
  {
   "cell_type": "markdown",
   "metadata": {},
   "source": [
    "## 1. Download the Observations with `astroquery` <a id=\"download\"></a>\n",
    "[Table of Contents](#toc)\n",
    "\n",
    "<hr>\n",
    "MAST queries may be done using <a href=\"https://astroquery.readthedocs.io/en/latest/mast/mast_obsquery.html#observation-criteria-queries\"> `query_criteria`</a>, where we specify: <br>\n",
    "\n",
    "&nbsp;&nbsp;&nbsp;&nbsp;--> obs_id, proposal_id, and filters \n",
    "\n",
    "MAST data products may be downloaded by using <a href=\"https://astroquery.readthedocs.io/en/latest/mast/mast_obsquery.html#downloading-data\"> `download_products`</a>, where we specify:<br> \n",
    "\n",
    "&nbsp;&nbsp;&nbsp;&nbsp;--> products = calibrated (FLT, FLC) or drizzled (DRZ, DRC) files\n",
    "\n",
    "&nbsp;&nbsp;&nbsp;&nbsp;--> type = standard products (CALxxx) or advanced products (HAP-SVM)\n",
    "<hr>\n",
    "\n",
    "\n",
    "In this example, we align three F606W full-frame 339 second ACS/WFC images of the globular cluster NGC 104 from ACS/CAL Program [10737](http://www.stsci.edu/cgi-bin/get-proposal-info?id=10737&observatory=HST).  These observations were acquired over a 3-month period in separate visits and at different orientations. We will use calibrated, CTE-corrected `*_flc.fits` files. \n",
    "\n",
    "            j9irw3fwq_flc.fits\n",
    "            j9irw4b1q_flc.fits\n",
    "            j9irw5kaq_flc.fits\n",
    "            \n",
    "<div class=\"alert alert-block alert-warning\" style=\"color:black\" >  Depending on your connection speed, this cell may take a few minutes to execute. </div>"
   ]
  },
  {
   "cell_type": "code",
   "execution_count": null,
   "metadata": {},
   "outputs": [],
   "source": [
    "# Because the second 'FLC' file in visit W4 is part of a dithered association,\n",
    "# the 'obs_id' for that assocation will need to be used instead of the individual filename.\n",
    "\n",
    "obs_ids = [\"j9irw3fwq\", \"j9irw4040\", \"j9irw5kaq\"]\n",
    "props = [\"10737\"]\n",
    "filts = [\"F606W\"]\n",
    "\n",
    "obsTable = Observations.query_criteria(obs_id=obs_ids, proposal_id=props, filters=filts)\n",
    "products = Observations.get_product_list(obsTable)\n",
    "\n",
    "data_prod = [\"FLC\"]  # ['FLC','FLT','DRC','DRZ']\n",
    "data_type = [\"CALACS\"]  # ['CALACS','CALWF3','CALWP2','HAP-SVM']\n",
    "\n",
    "Observations.download_products(\n",
    "    products, productSubGroupDescription=data_prod, project=data_type, cache=True\n",
    ")"
   ]
  },
  {
   "cell_type": "markdown",
   "metadata": {},
   "source": [
    "Move the files to the local working directory."
   ]
  },
  {
   "cell_type": "code",
   "execution_count": null,
   "metadata": {},
   "outputs": [],
   "source": [
    "for flc in glob.glob(\"./mastDownload/HST/*/*flc.fits\"):\n",
    "    flc_name = os.path.basename(flc)\n",
    "    os.rename(flc, flc_name)\n",
    "if os.path.exists(\"mastDownload/\"):\n",
    "    shutil.rmtree(\"mastDownload/\")"
   ]
  },
  {
   "cell_type": "markdown",
   "metadata": {},
   "source": [
    "Remove the second FLC file in the W4 visit to simplify the example."
   ]
  },
  {
   "cell_type": "code",
   "execution_count": null,
   "metadata": {},
   "outputs": [],
   "source": [
    "if os.path.exists(\"j9irw4b3q_flc.fits\"):\n",
    "    os.remove(\"j9irw4b3q_flc.fits\")\n",
    "input_flcs = glob.glob(\"*flc.fits\")\n",
    "print(input_flcs)"
   ]
  },
  {
   "cell_type": "markdown",
   "metadata": {},
   "source": [
    "### 1.1 Check image header data <a id=\"check_keywords\"></a>\n",
    "\n",
    "Here we will look at important keywords in the image headers"
   ]
  },
  {
   "cell_type": "code",
   "execution_count": null,
   "metadata": {},
   "outputs": [],
   "source": [
    "paths = sorted(glob.glob(\"*flc.fits\"))\n",
    "data = []\n",
    "\n",
    "# select desired keywords\n",
    "\n",
    "ext_0_kws = [\n",
    "    \"rootname\",\n",
    "    \"ASN_ID\",\n",
    "    \"TARGNAME\",\n",
    "    \"detector\",\n",
    "    \"filter1\",\n",
    "    \"exptime\",\n",
    "    \"ra_targ\",\n",
    "    \"dec_targ\",\n",
    "    \"date-obs\",\n",
    "    \"postarg1\",\n",
    "    \"postarg2\",\n",
    "]\n",
    "ext_1_kws = [\"orientat\"]\n",
    "\n",
    "#grab keywords from data\n",
    "\n",
    "for path in paths:\n",
    "    path_data = []\n",
    "    for keyword in ext_0_kws:\n",
    "        path_data.append(fits.getval(path, keyword, ext=0))\n",
    "    for keyword in ext_1_kws:\n",
    "        path_data.append(fits.getval(path, keyword, ext=1))\n",
    "    data.append(path_data)\n",
    "\n",
    "# assign keywords to Table\n",
    "\n",
    "keywords = ext_0_kws + ext_1_kws\n",
    "table = Table(\n",
    "    np.array(data),\n",
    "    names=keywords,\n",
    "    dtype=[\n",
    "        \"str\",\n",
    "        \"str\",\n",
    "        \"str\",\n",
    "        \"str\",\n",
    "        \"str\",\n",
    "        \"f8\",\n",
    "        \"f8\",\n",
    "        \"f8\",\n",
    "        \"str\",\n",
    "        \"f8\",\n",
    "        \"f8\",\n",
    "        \"f8\",\n",
    "    ],\n",
    ")\n",
    "\n",
    "table[\"exptime\"].format = \"7.1f\"\n",
    "table[\"ra_targ\"].format = table[\"dec_targ\"].format = \"7.4f\"\n",
    "table[\"postarg1\"].format = table[\"postarg2\"].format = \"7.3f\"\n",
    "table[\"orientat\"].format = \"7.2f\"\n",
    "table"
   ]
  },
  {
   "cell_type": "markdown",
   "metadata": {},
   "source": [
    "### 1.2 Inspect the Alignment <a id=\"check_wcs\"></a>\n",
    "\n",
    "Check the active WCS solution in the image header. If the image is aligned to a catalog, list the number of matches and the fit RMS in mas. <br> \n",
    "Convert the fit RMS values to pixels for comparison with the alignment results performed later in this notebook."
   ]
  },
  {
   "cell_type": "code",
   "execution_count": null,
   "metadata": {},
   "outputs": [],
   "source": [
    "# select keywords needed for alignment inspections\n",
    "ext_0_kws = [\"DETECTOR\"]\n",
    "ext_1_kws = [\"WCSNAME\", \"NMATCHES\", \"RMS_RA\", \"RMS_DEC\"]\n",
    "\n",
    "det_scale = {\"IR\": 0.1283, \"UVIS\": 0.0396, \"WFC\": 0.05}  # plate scale (arcsec/pixel)\n",
    "\n",
    "# create dictionary to store alignment keywords\n",
    "format_dict = {}\n",
    "col_dict = defaultdict(list)\n",
    "\n",
    "for f in sorted(glob.glob(\"*fl?.fits\")):\n",
    "    col_dict[\"filename\"].append(f)\n",
    "    hdr0 = fits.getheader(f, 0)\n",
    "    hdr1 = fits.getheader(f, 1)\n",
    "\n",
    "    for kw in ext_0_kws:  # extension 0 keywords\n",
    "        col_dict[kw].append(hdr0[kw])\n",
    "    for kw in ext_1_kws:  # extension 1 keywords\n",
    "        if \"RMS\" in kw:\n",
    "            val = np.around(hdr1[kw], 1)\n",
    "        else:\n",
    "            val = hdr1[kw]\n",
    "        col_dict[kw].append(val)\n",
    "\n",
    "    for kw in [\"RMS_RA\", \"RMS_DEC\"]:\n",
    "        val = np.round(\n",
    "            hdr1[kw] / 1000.0 / det_scale[hdr0[\"DETECTOR\"]], 2\n",
    "        )  # convert RMS from mas to pixels\n",
    "        col_dict[f\"{kw}_pix\"].append(val)\n",
    "\n",
    "wcstable = Table(col_dict)\n",
    "wcstable"
   ]
  },
  {
   "cell_type": "markdown",
   "metadata": {},
   "source": [
    "Here we see that the FLC images from each separate visit have each been fit to the reference catalog GAIA eDR3. \n",
    "\n",
    "For visits w3 and w5, the WCSNAME 'FIT_IMG_catalog' implies that each FLC was aligned separately, whereas for visit w4, the drizzle combined image 'j9irw4040_drc.fits' was aligned to GAIA and the solution was propogated back to the FLC exposures. (Note that the number of matches and fit rms values are different for each FLC frame.)\n",
    "\n",
    "For more details on absolute astrometry in HST images, see [Section 4.5 in the DrizzlePac Handbook](https://hst-docs.stsci.edu/drizzpac/chapter-4-astrometric-information-in-the-header/4-5-absolute-astrometry).\n",
    "\n",
    "<hr>\n"
   ]
  },
  {
   "cell_type": "markdown",
   "metadata": {},
   "source": [
    "## 2. Align with `TweakReg`  <a id=\"tweakreg\"></a>\n",
    "[Table of Contents](#toc)\n",
    "\n",
    "In order to combine multiple images into a distortion-free final drizzled product, `AstroDrizzle` relies on the World Coordinate System (WCS) information stored in the header of each image. Because the WCS information for an image is tied to the positions of guide stars used for the observation, each visit will have small pointing errors offsets due to the uncertainty in guide star positions. \n",
    "\n",
    "The `TweakReg` software can align a set of HST images to one another with subpixel accuracy (<0.1 pixel). All input images are aligned to one chosen reference image's WCS. The reference image is typically selected as the first image in the input list, but can be chosen explicitly via the `refimage` parameter, if desired.\n",
    "\n",
    "Note that since these images are already aligned to GAIA with ~400 matches and fit RMS values ~0.2 pixels.  Therefore, we simply want to check the relative alignment of the FLC frame in the individual visits W3, W4 and W5, building on the eDR3 WCS solution and then testing for any residual offsets between frames. "
   ]
  },
  {
   "cell_type": "markdown",
   "metadata": {},
   "source": [
    "The `TweakReg` algorithm consists of a few steps:\n",
    "\n",
    "    1. Makes a catalog of source positions for each input (and reference) image using a source finding algorithm        similar to DAOFind. \n",
    "    2. Converts the pixel position catalogs to sky position catalogs.\n",
    "    3. Finds common source positions between reference and input image catalogs.\n",
    "    4. Calculates the shifts, rotation, and scale needed to align sky positions of sources in the input images.\n",
    "    5. (Optionally) Updates the input image headers with the newly calculated WCS information.\n",
    "    \n",
    "    \n",
    "`TweakReg` has numerous parameters that are listed in the documentation. For this first pass, we will run `TweakReg` with default parameters and show how it fails for this dataset. In subsequent attempts, we will change critical parameters and show how this improves the alignment. The 5 parameters listed below are commented out when left at their default values and uncommented when set to non-defaults. \n",
    "\n",
    "    'conv_width' : 2x FWHM (~3.5 pix for point sources in ACS/WFC or WFC3/UVIS, ~2.5 pix for WFC3/IR)\n",
    "    'threshold'  : Signal-to-noise above bkg. Start large and reduce until number of objects is acceptable.\n",
    "    'peakmax'    : Source brightness cutoff, set to avoid saturated sources. \n",
    "    'searchrad'  : Search radius for finding common sources between images.\n",
    "    'fitgeometry': Geometry used to fit offsets, rotations and/or scale changes from the matched object lists. \n",
    "                   The default `fitgeometry` of 'rscale' allows for an x/y shift, scale and rotation, and the \n",
    "                   'general' fit allows for an xy/shift and an independent scale and rotation for each axis.\n",
    "    \n",
    "Note that both `TweakReg` and `AstroDrizzle` will by default load in settings from any existing `.cfg` files if you've run them before. Default parameters are restored by setting `configobj = None`. "
   ]
  },
  {
   "cell_type": "markdown",
   "metadata": {},
   "source": [
    "### 2.1 First test: Use 'default' parameters. <a id=\"default\"></a>\n",
    "\n",
    "<div class=\"alert alert-block alert-warning\" style=\"color:black\" >  NOTE: Do not actually run the cells in this example, as they will use too much memory! </div>\n",
    "\n",
    "The most basic, out-of-the-box call to TweakReg looks like this. You `TweakReg` on your list of input files."
   ]
  },
  {
   "cell_type": "code",
   "execution_count": null,
   "metadata": {},
   "outputs": [],
   "source": [
    "# tweakreg.TweakReg(input_flcs)"
   ]
  },
  {
   "cell_type": "markdown",
   "metadata": {},
   "source": [
    "Normally, you'll want to do some customization though. There are a variety of parameters that can be set, see the documenation for all possibilities. Here we will set a few that are helpful. Again, because we aren't setting any souce finding parameters in showing the basic call to TweakReg, this will likely crash your computer so don't proceed with caution if you choose to uncomment and run the cell below.\n",
    "       \n",
    "       > 'interactive' is False by default. This switch controls whether the program stops and waits for the user to examine any generated plots before continuing on to the next image. If turned off, plots will still be displayed, but they will also be saved to disk automatically as a PNG image with an autogenerated name without requiring any user input.\n",
    "\n",
    "       > `shiftfile` is False by default, here we have set it to true to produce an intermediate output product of a file containing the shifts.\n",
    "       \n",
    "       > 'outshifts' is the name of the output file created when `shiftfile` is set to True.\n",
    "       \n",
    "       > 'updatehdr' is False by default, and specifies whether or not to update the headers of each input image directly with the shifts that were determined. This will allow the input images to be combined by AstroDrizzle without having to provide the shiftfile as well.\n",
    "      \n",
    "There are many more parameters that can be set, but the example below shows how to run `TweakReg` and override some of these defaults."
   ]
  },
  {
   "cell_type": "code",
   "execution_count": null,
   "metadata": {},
   "outputs": [],
   "source": [
    "# Running tweakreg with some parameters changed from their defaults.\n",
    "#\n",
    "# tweakreg.TweakReg(input_flcs,\n",
    "#                     interactive=True,\n",
    "#                     shiftfile=True,\n",
    "#                     outshifts='shift_default.txt',\n",
    "#                     updatehdr=False)"
   ]
  },
  {
   "cell_type": "markdown",
   "metadata": {},
   "source": [
    "### 2.2 Second test: Set parameters for source finding <a id=\"sources\"></a>\n",
    "\n",
    "One of the crucial steps for aligning images is creating a catalog of common sources in each image to do the alignment. `TweakReg` uses a set of default parameters to do this source finding, but you will likely want to override these and tailor them to your dataset. As described above, using the defaults on this dataset of a cluster will simply produce too many sources and use too much memory for the average user's machine. In this example, we will adjust some of these to parameters.\n",
    "\n",
    "In the above example, none of the source finding parameters were adjusted. `TweakReg`, by default, looks for sources which are 4-sigma above the background, but this `threshold` value is too low, since the catalogs contain ~60,000 objects per chip in each frame, and ~6500 matched sources between each exposure. Setting the `threshold` to a very low value generally does *not* translate to a better solution, since all sources are weighted equally when computing fits to match catalogs. This is especially relevant for ACS/WFC and WFC3/UVIS data where CTE tails can shift the centroid position slightly along the readout direction for faint sources and potentially bias the fit.\n",
    "\n",
    "In this test, the `threshold` value is adjusted to a larger value, and the `peakmax` value is set to 70,000 electrons to exclude full-well saturated objects for gain=2. `TweakReg` now finds a more reasonable number of sources per ACS chip (~700).\n",
    "\n",
    "Note that there are other source finding parameters that can be adjusted and that you may need to adjust. For example, you may need to also adjust `searchrad` if your images have large offsets."
   ]
  },
  {
   "cell_type": "code",
   "execution_count": null,
   "metadata": {
    "scrolled": true
   },
   "outputs": [],
   "source": [
    "tweakreg.TweakReg(\n",
    "    input_flcs,\n",
    "    threshold=4000,\n",
    "    peakmax=70000,\n",
    "    configobj=None,\n",
    "    interactive=False,\n",
    "    shiftfile=True,\n",
    "    outshifts=\"shift_rscale.txt\",\n",
    "    ylimit=0.2,\n",
    "    fitgeometry=\"rscale\",\n",
    "    updatehdr=False,\n",
    "    reusename=True,\n",
    ")\n",
    "#clear_output()"
   ]
  },
  {
   "cell_type": "code",
   "execution_count": null,
   "metadata": {},
   "outputs": [],
   "source": [
    "# If the alignment is unsuccessful, stop the notebook\n",
    "with open(\"shift_rscale.txt\", \"r\") as shift:\n",
    "    for line_number, line in enumerate(shift, start=1):\n",
    "        if \"nan\" in line:\n",
    "            raise ValueError(\"nan found in line {} in shift file\".format(line_number))"
   ]
  },
  {
   "cell_type": "markdown",
   "metadata": {},
   "source": [
    "### 2.3 Inspect the quality of the fit <a id=\"fit_quality\"></a>\n",
    "\n",
    "In your work, you will likely have to play around with TweakReg parameters to find the optimal set for your data. This requires inspecting the quality of the fit after each run. If you scroll to the bottom of the last cell run, you can see some diagnostic plots there including a residual and vector plot that show the quality of fit. Here, we will inspect some of the outputs that are saved.\n",
    "\n",
    "\n",
    "The shift file below shows that the xrms and yrms of the computed fit are excellent, around ~0.04 pixels."
   ]
  },
  {
   "cell_type": "code",
   "execution_count": null,
   "metadata": {},
   "outputs": [],
   "source": [
    "# create Table from shift_rscale.txt\n",
    "shift_tab = Table.read(\n",
    "    \"shift_rscale.txt\",\n",
    "    format=\"ascii.no_header\",\n",
    "    names=[\"file\", \"dx\", \"dy\", \"rot\", \"scale\", \"xrms\", \"yrms\"],\n",
    ")\n",
    "\n",
    "formats = [\".2f\", \".2f\", \".3f\", \".5f\", \".2f\", \".2f\"]\n",
    "for i, col in enumerate(shift_tab.colnames[1:]):\n",
    "    shift_tab[col].format = formats[i]\n",
    "shift_tab"
   ]
  },
  {
   "cell_type": "markdown",
   "metadata": {},
   "source": [
    "When `interactive` = False, `TweakReg` outputs several diagnostic plots in the working directory for you to inspect the fit quality. For each input file, except the reference file, TweakReg creates an x/y plot of fit residuals and a vector plot. Let's take a look at these. "
   ]
  },
  {
   "cell_type": "code",
   "execution_count": null,
   "metadata": {},
   "outputs": [],
   "source": [
    "# Give the 'fit residual plots' a unique name for comparison with other tests.\n",
    "rootname_A = \"j9irw4b1q\"\n",
    "rootname_B = \"j9irw5kaq\"\n",
    "\n",
    "# make a subdirectory for storing images\n",
    "os.makedirs(\"images\", exist_ok=True)\n",
    "shutil.copy(f\"residuals_{rootname_A}_flc.png\", f\"images/residuals_{rootname_A}_flc_rscale.png\")\n",
    "shutil.copy(f\"residuals_{rootname_B}_flc.png\", f\"images/residuals_{rootname_B}_flc_rscale.png\")\n",
    "\n",
    "shutil.copy(f\"vector_{rootname_A}_flc.png\", f\"images/vector_{rootname_A}_flc_rscale.png\")\n",
    "shutil.copy(f\"vector_{rootname_B}_flc.png\", f\"images/vector_{rootname_B}_flc_rscale.png\")"
   ]
  },
  {
   "cell_type": "code",
   "execution_count": null,
   "metadata": {},
   "outputs": [],
   "source": [
    "# read images\n",
    "img_A = mpimg.imread(f\"images/residuals_{rootname_A}_flc_rscale.png\")\n",
    "img_B = mpimg.imread(f\"images/residuals_{rootname_B}_flc_rscale.png\")\n",
    "\n",
    "# display images\n",
    "fig, axs = plt.subplots(1, 2, figsize=(10, 10), dpi=200)\n",
    "axs[0].imshow(img_A)\n",
    "axs[1].imshow(img_B)\n",
    "axs[0].axis(\"off\")\n",
    "axs[1].axis(\"off\")\n",
    "fig.tight_layout()\n",
    "\n",
    "plt.show()"
   ]
  },
  {
   "cell_type": "code",
   "execution_count": null,
   "metadata": {},
   "outputs": [],
   "source": [
    "# read images\n",
    "img_A = mpimg.imread(f\"images/vector_{rootname_A}_flc_rscale.png\")\n",
    "img_B = mpimg.imread(f\"images/vector_{rootname_B}_flc_rscale.png\")\n",
    "\n",
    "# display images\n",
    "fig, axs = plt.subplots(1, 2, figsize=(10, 10), dpi=100)\n",
    "axs[0].imshow(img_A)\n",
    "axs[1].imshow(img_B)\n",
    "axs[0].axis(\"off\")\n",
    "axs[1].axis(\"off\")\n",
    "fig.tight_layout()\n",
    "plt.show()"
   ]
  },
  {
   "cell_type": "markdown",
   "metadata": {},
   "source": [
    "The residual plots show a fit RMS of ~0.04 pixels, but there is still a systematic skew in the fit residuals, which is believed to be caused by an uncorrected 'skew' in the ACS distortion solution.  \n",
    "\n",
    "As of creation of this notebook in 2024, the following calibration reference files were used:\n",
    "\n",
    "- IDCTAB   = 'jref$4bb1536oj_idc.fits' / Image Distortion Correction Table\n",
    "\n",
    "- D2IMFILE = 'jref$4bb15371j_d2i.fits' / Column Correction Reference File \n",
    "\n",
    "- NPOLFILE = 'jref$4bb1536ej_npl.fits' / Non-polynomial Offsets Reference File (F606W) \n",
    "    \n",
    "New distortion solutions are in the process of being derived by the ACS team, so observations retrieved from MAST at a later date may or may not show these systematic skew residuals.  Fortunately, these can be corrected by allowing for a higher order `fitgeometry` as shown in the next test.\n",
    "\n",
    "More information about the distortion reference files used by `AstroDrizzle` may be found in the DrizzlePac Handbook [Section 4.3](https://hst-docs.stsci.edu/drizzpac/chapter-4-astrometric-information-in-the-header/4-3-distortion-information-in-pipeline-calibrated-images)."
   ]
  },
  {
   "cell_type": "markdown",
   "metadata": {},
   "source": [
    "### 2.4 Fourth test: Adjust the `fitgeometry` <a id=\"fit_geom\"></a>\n",
    "\n",
    "In this test, the `fitgeometry` parameter is changed from the default `rscale` (shift, rotation, scale) to `general` (shift, xrot, yrot, xscale, yscale) in order to correct for residual skew terms."
   ]
  },
  {
   "cell_type": "code",
   "execution_count": null,
   "metadata": {},
   "outputs": [],
   "source": [
    "# run TweakReg\n",
    "tweakreg.TweakReg(\n",
    "    input_flcs,\n",
    "    threshold=4000,\n",
    "    peakmax=70000,\n",
    "    configobj=None,\n",
    "    interactive=False,\n",
    "    shiftfile=True,\n",
    "    outshifts=\"shift_general.txt\",\n",
    "    ylimit=0.2,\n",
    "    fitgeometry=\"general\",\n",
    "    updatehdr=False,\n",
    "    reusename=True\n",
    ")\n",
    "clear_output()"
   ]
  },
  {
   "cell_type": "code",
   "execution_count": null,
   "metadata": {},
   "outputs": [],
   "source": [
    "# create Table from shift_rscale.txt\n",
    "shift_tab = Table.read(\n",
    "    \"shift_general.txt\",\n",
    "    format=\"ascii.no_header\",\n",
    "    names=[\"file\", \"dx\", \"dy\", \"rot\", \"scale\", \"xrms\", \"yrms\"],\n",
    ")\n",
    "\n",
    "formats = [\".2f\", \".2f\", \".3f\", \".5f\", \".2f\", \".2f\"]\n",
    "for i, col in enumerate(shift_tab.colnames[1:]):\n",
    "    shift_tab[col].format = formats[i]\n",
    "shift_tab"
   ]
  },
  {
   "cell_type": "code",
   "execution_count": null,
   "metadata": {},
   "outputs": [],
   "source": [
    "# Print the number of matches for images 2 and 3 with respect to image1\n",
    "rootname2 = \"j9irw4b1q\"\n",
    "rootname3 = \"j9irw5kaq\"\n",
    "match_tab2 = ascii.read(\n",
    "    rootname2 + \"_flc_catalog_fit.match\"\n",
    ")  # load match file in astropy table\n",
    "match_tab3 = ascii.read(\n",
    "    rootname3 + \"_flc_catalog_fit.match\"\n",
    ")  # load match file in astropy table\n",
    "print(rootname2, \"     Number of Gaia Matches=\", {len(match_tab2)})\n",
    "print(rootname3, \"     Number of Gaia Matches=\", {len(match_tab3)})"
   ]
  },
  {
   "cell_type": "code",
   "execution_count": null,
   "metadata": {},
   "outputs": [],
   "source": [
    "# Compare with the MAST solutions\n",
    "wcstable"
   ]
  },
  {
   "cell_type": "markdown",
   "metadata": {},
   "source": [
    "While the shift file looks nearly identical to the prior run, this is because the axis-dependent rotation and scale values are averaged together in the shiftfile.  To determine the actual values, it is necessary to inspect the 'tweakreg.log' logfile.\n",
    "\n",
    "    j9irw4b1q  SCALE_X: 0.9999720117  SCALE_Y: 1.000014811  ROT_X: 359.9999  ROT_Y:   0.0014   SKEW: -359.9985\n",
    "    j9irw5kaq  SCALE_X: 0.9999851345  SCALE_Y: 1.000030317  ROT_X:   0.0015  ROT_Y: 359.9989   SKEW:  359.9974\n",
    "\n",
    "The 'general' fit reduces the fit rms to ~0.03 pixels from the prior value of ~0.05 pixels and removes systematics from the residuals in the plots below. "
   ]
  },
  {
   "cell_type": "code",
   "execution_count": null,
   "metadata": {},
   "outputs": [],
   "source": [
    "# Give the 'fit residual plots' a unique name for comparison with other tests.\n",
    "shutil.copy(f\"residuals_{rootname_A}_flc.png\", f\"images/residuals_{rootname_A}_flc_general.png\")\n",
    "shutil.copy(f\"residuals_{rootname_B}_flc.png\", f\"images/residuals_{rootname_B}_flc_general.png\")\n",
    "\n",
    "shutil.copy(f\"vector_{rootname_A}_flc.png\", f\"images/vector_{rootname_A}_flc_general.png\")\n",
    "shutil.copy(f\"vector_{rootname_B}_flc.png\", f\"images/vector_{rootname_B}_flc_general.png\")"
   ]
  },
  {
   "cell_type": "markdown",
   "metadata": {},
   "source": [
    "The plots below shows residuals in X and Y plotted as functions of X and Y. Each point represents a source that was used for the alignment. The residuals should look fairly random - if any correlation is seen, this is an indicator of a poor alignment solution. In some cases you will notice a wavy pattern in the residuals in X and Y. This is often seen for UVIS images and is a result of lithographic patterns of the detector that are not fully corrected for in the distortion solutions. The RMS in X and Y are also printed. For a good alignment, we are looking for an RMS on the order of 0.1 pixel or less."
   ]
  },
  {
   "cell_type": "code",
   "execution_count": null,
   "metadata": {},
   "outputs": [],
   "source": [
    "# read images\n",
    "img_A = mpimg.imread(f\"images/residuals_{rootname_A}_flc_general.png\")\n",
    "img_B = mpimg.imread(f\"images/residuals_{rootname_B}_flc_general.png\")\n",
    "\n",
    "# display images\n",
    "fig, axs = plt.subplots(1, 2, figsize=(20, 10), dpi=200)\n",
    "axs[0].imshow(img_A)\n",
    "axs[1].imshow(img_B)\n",
    "axs[0].axis(\"off\")\n",
    "axs[1].axis(\"off\")\n",
    "fig.tight_layout()\n",
    "plt.show()"
   ]
  },
  {
   "cell_type": "code",
   "execution_count": null,
   "metadata": {},
   "outputs": [],
   "source": [
    "# read images\n",
    "img_A = mpimg.imread(f\"images/vector_{rootname_A}_flc_general.png\")\n",
    "img_B = mpimg.imread(f\"images/vector_{rootname_B}_flc_general.png\")\n",
    "\n",
    "# display images\n",
    "fig, axs = plt.subplots(1, 2, figsize=(10, 10), dpi=100)\n",
    "axs[0].imshow(img_A)\n",
    "axs[1].imshow(img_B)\n",
    "axs[0].axis(\"off\")\n",
    "axs[1].axis(\"off\")\n",
    "fig.tight_layout()\n",
    "plt.show()"
   ]
  },
  {
   "cell_type": "markdown",
   "metadata": {},
   "source": [
    "The direction and the magnitude of the arrows in the vector plot above represent the offsets in the source position between the image in question and the reference image. These should visually appear random if the alignment was sucessful."
   ]
  },
  {
   "cell_type": "markdown",
   "metadata": {},
   "source": [
    "You may need to run `TweakReg` run several times with varying parameters until a good fit is found. Notice in the above tests that `updatehdr = False`. This allows you to attempt the alignment and inspect the results without actually updating the WCS to solidify the alignment. Once you are satisfied with the results, `TweakReg` is run a final time with `updatehdr = True`, and a new WCS will be inserted in the file. The default name of this new WCS is 'TWEAK', but can be changed by setting the `wcsname`."
   ]
  },
  {
   "cell_type": "markdown",
   "metadata": {},
   "source": [
    "### 2.5 Overplot Matched Sources on the Image <a id=\"overplot\"></a>\n",
    "\n",
    "As a final quality check before updating the image header WCS, we plot the sources that were matched between FLC images in visits W3 and W4.\n",
    "\n",
    "The cell below shows how to read in the `*_fit.match` file as an `astropy` table. Unfortunately, it doesn't automatically name columns so you'll have to look at the header to grab the columns."
   ]
  },
  {
   "cell_type": "code",
   "execution_count": null,
   "metadata": {},
   "outputs": [],
   "source": [
    "rootname = \"j9irw4b1q\"\n",
    "\n",
    "plt.figure(figsize=(7, 7), dpi=140)\n",
    "\n",
    "with fits.open(rootname + \"_flc.fits\") as hdulist: \n",
    "    chip1_data = hdulist[\"SCI\", 2].data \n",
    "    chip2_data = hdulist[\"SCI\", 1].data\n",
    "    fullsci = np.concatenate([chip2_data, chip1_data])\n",
    "    zscale = ZScaleInterval()\n",
    "    z1, z2 = zscale.get_limits(fullsci)\n",
    "    plt.imshow(fullsci, cmap=\"Greys\", origin=\"lower\", vmin=z1, vmax=z2)\n",
    "    \n",
    "    match_tab = ascii.read(\n",
    "        rootname + \"_flc_catalog_fit.match\"\n",
    "    )  # load match file in astropy table\n",
    "    match_tab_chip1 = match_tab[\n",
    "        match_tab[\"col15\"] == 2\n",
    "    ]  # filter table for sources on chip 1 (on ext 4)\n",
    "    match_tab_chip2 = match_tab[\n",
    "        match_tab[\"col15\"] == 1\n",
    "    ]  # filter table for sources on chip 1 (on ext 4)\n",
    "    x_cord1, y_cord1 = match_tab_chip1[\"col11\"], match_tab_chip1[\"col12\"]\n",
    "    x_cord2, y_cord2 = match_tab_chip2[\"col11\"], match_tab_chip2[\"col12\"]\n",
    "    \n",
    "    plt.scatter(\n",
    "        x_cord1,\n",
    "        y_cord1 + 2051,\n",
    "        s=50,\n",
    "        edgecolor=\"r\",\n",
    "        facecolor=\"None\",\n",
    "        label=\"Matched Sources\",\n",
    "    )\n",
    "    plt.scatter(x_cord2, y_cord2, s=50, edgecolor=\"r\", facecolor=\"None\")\n",
    "    plt.title(\n",
    "        f\"Matched sources W4 to W3: N = {len(match_tab)}\", fontsize=14\n",
    "    )\n",
    "    plt.show()"
   ]
  },
  {
   "cell_type": "markdown",
   "metadata": {},
   "source": [
    "### 2.6 Update header once optimal parameters are found  <a id=\"updatehdr\"></a>\n",
    "\n",
    "Once you've decided on the optimal set of parameters for your alignment, it is safe to update the header of the input data. Note that because the first image is already aligned to Gaia, this does not need to be done again and we focus only on improving the relative alignment."
   ]
  },
  {
   "cell_type": "code",
   "execution_count": null,
   "metadata": {},
   "outputs": [],
   "source": [
    "tweakreg.TweakReg(\n",
    "    input_flcs,\n",
    "    threshold=4000,\n",
    "    peakmax=70000,\n",
    "    configobj=None,\n",
    "    interactive=False,\n",
    "    shiftfile=False,\n",
    "    ylimit=0.2,\n",
    "    fitgeometry=\"general\",\n",
    "    updatehdr=True, # update the header with the new solution\n",
    "    reusename=True\n",
    ")  \n",
    "\n",
    "clear_output()"
   ]
  },
  {
   "cell_type": "markdown",
   "metadata": {},
   "source": [
    "##  3. Combine the Images using `AstroDrizzle` <a id=\"adriz\"></a>\n",
    "[Table of Contents](#toc)\n",
    "\n",
    "Now that the images are aligned to a common WCS, they are ready for combination with `AstroDrizzle`. All of the input exposures taken in a single filter will contribute to a single drizzled output file.\n",
    "\n",
    "The `AstroDrizzle` steps after alignment are summarized below.\n",
    "\n",
    "    1. A static pixel mask is created to flag bad detector pixels.\n",
    "    2. Sky subtraction is performed on masked images. \n",
    "    3. Each image is individually drizzled, with geometric distortion corrections, to a common reference frame.\n",
    "    4. The distortion-free drizzled images are combined to create a median image.\n",
    "    5. The median image is blotted, or reverse-drizzled, back to the frame of each input image.\n",
    "    6. By comparing each input image with its counterpart blotted median image, the software locates bad pixels in each of the original frames & creates bad pixel masks (typically CR's and bad pixels in the detector)\n",
    "    7. In the final step, input images are drizzled together onto a single output image."
   ]
  },
  {
   "cell_type": "markdown",
   "metadata": {},
   "source": [
    "Let's first run `AstroDrizzle` on the aligned input images in the next cell to create a combined image `f606w_combined_drc`, then go into further detail about the drizzle process. \n",
    "\n",
    "Note that astrodrizzle supports the loading of a custom configuration file (`.cfg`) files, but we will be using the command-line syntax interface to set the parameters in this example, where parameters are passed into the function directly. Any existing `.cfg` file will be overridden by setting `configobj = None` so that unless explicitly set, parameters will be reset to default."
   ]
  },
  {
   "cell_type": "markdown",
   "metadata": {},
   "source": [
    "First, we get some recommended values for drizzling from the MDRIZTAB reference file.  The parameters in this file are different for each detector and are based on the number of input frames. These are a good starting point for drizzling and may be adjusted accordingly."
   ]
  },
  {
   "cell_type": "code",
   "execution_count": null,
   "metadata": {},
   "outputs": [],
   "source": [
    "# The following lines of code find and download the MDRIZTAB reference file.\n",
    "mdz = fits.getval(input_flcs[0], 'MDRIZTAB', ext=0).split('$')[1]\n",
    "jref = os.environ['jref']\n",
    "print('Searching for the MDRIZTAB file:', mdz)\n",
    "!crds sync --hst --files {mdz} --output-dir {jref}"
   ]
  },
  {
   "cell_type": "code",
   "execution_count": null,
   "metadata": {},
   "outputs": [],
   "source": [
    "def get_vals_from_mdriztab(\n",
    "    input_flcs,\n",
    "    kw_list=[\n",
    "        \"driz_sep_bits\",\n",
    "        \"combine_type\",\n",
    "        \"driz_cr_snr\",\n",
    "        \"driz_cr_scale\",\n",
    "        \"final_bits\",\n",
    "    ],\n",
    "):\n",
    "    \"\"\"Get only selected parameters from. the MDRIZTAB\"\"\"\n",
    "    mdriz_dict = getMdriztabPars(input_flcs)\n",
    "\n",
    "    requested_params = {}\n",
    "\n",
    "    print(\"Outputting the following parameters:\")\n",
    "    for k in kw_list:\n",
    "        requested_params[k] = mdriz_dict[k]\n",
    "        print(k, mdriz_dict[k])\n",
    "\n",
    "    return requested_params"
   ]
  },
  {
   "cell_type": "code",
   "execution_count": null,
   "metadata": {},
   "outputs": [],
   "source": [
    "selected_params = get_vals_from_mdriztab(input_flcs)"
   ]
  },
  {
   "cell_type": "markdown",
   "metadata": {},
   "source": [
    "Note that the parameter `final_bits`= '336' is equivalent to `final_bits`= '256, 64, 16'.  \n",
    "\n",
    "Since the ACS team now corrects for stable hot pixels (DQ flag=16) via the dark reference files, these pixels can be considered 'good'. Full well saturated pixels (DQ flag=256) and warm pixels (DQ flag=64) may also be treated as good. More details on the recommended drizzle parameters for ACS may be found in [ISR 2017-02](https://ui.adsabs.harvard.edu/abs/2017acs..rept....2H/abstract).\n",
    "\n",
    "Next we run `AstroDrizzle` to remove the sky, flag cosmic rays, and combine the image using the selected parameters.  Note that these may be further refined by uncommenting the lines in the example shown below."
   ]
  },
  {
   "cell_type": "code",
   "execution_count": null,
   "metadata": {
    "scrolled": true
   },
   "outputs": [],
   "source": [
    "# To override any of the above values, e.g.:\n",
    "# selected_params[\"driz_sep_bits\"] = \"256, 64, 16\"\n",
    "# selected_params[\"final_bits\"] = \"256, 64, 16\"\n",
    "\n",
    "astrodrizzle.AstroDrizzle(\n",
    "    input_flcs,\n",
    "    output=\"f606w_combined\",\n",
    "    preserve=False,\n",
    "    build=True,\n",
    "    skymethod=\"match\",\n",
    "    driz_sep_bits=selected_params[\"driz_sep_bits\"],\n",
    "    driz_cr_corr=True,\n",
    "    clean=False,\n",
    "    final_bits=selected_params[\"final_bits\"],\n",
    "    configobj=None,\n",
    ")\n",
    "clear_output()"
   ]
  },
  {
   "cell_type": "markdown",
   "metadata": {},
   "source": [
    "You will see the following files (among others) output by `AstroDrizzle` in the working directory. \n",
    "1. 'f606w_combined_drc.fits' : Multi-extension FITS file. \n",
    "\n",
    "    When `build = True`, the drizzled science image, context image, weight image, and median image will be combined into a single multi-extension fits file.  This file contains the following extensions:\n",
    "        \n",
    "        Final drizzled science image is contained in ['SCI', 1].\n",
    "        Final drizzled weight  image is contained in ['WHT', 1].\n",
    "        Final drizzled context image is contained in ['CTX', 1].\n",
    "        \n",
    "    When `build = False`, these will be output as separate files (`_sci.fits`, `_wht.fits`, `_ctx.fits`).\n",
    "\n",
    "    When `final_wht_type = EXP` (default), the weight image it is effectively an exposure time map of each pixel in the final drizzled image. Other options are error 'ERR' and inverse variance 'IVM' weighting, as described [in more detail here](https://drizzlepac.readthedocs.io/en/latest/drizzlepac_api/astrodrizzle.html).\n",
    "        \n",
    "    The context image is a map showing which images contribute to the final drizzled stack. Each input image chip is identified by a bit in a 32-bit integer. For example, image1/chip1 = 2^0 = 1, image1/chip2 = 2^1 = 2. Each context image pixel is an additive combination of these bits, depending on which images contributed to the corresponding pixel in the drizzled image.\n",
    "   \n",
    "    \n",
    "2. astrodrizzle.log : Log file containing details of the drizzle processing steps.\n",
    "\n",
    "\n",
    "3. f606w_combined_med.fits : Median image computed from the sky-subtracted, separately-drizzled input images. \n",
    "\n",
    "\n",
    "4. j*_crclean.fits : Cosmic-ray cleaned versions of the original input flc images.\n",
    "\n",
    "Because we set `clean = False`, there will be various other intermediate output files in the directory, including masks, blotted frames, etc. This behavior can be modified with the `clean` and `in_memory` parameters."
   ]
  },
  {
   "cell_type": "markdown",
   "metadata": {},
   "source": [
    "### 3.1 Inspect the drizzled science image <a id=\"science\"></a>"
   ]
  },
  {
   "cell_type": "markdown",
   "metadata": {},
   "source": [
    "Finally, we inspect the science and weight images and inspect their data quality.  An imprint of sources in the weight image may indicate an error with the alignment and subsequent cosmic-ray rejection. \n",
    "\n",
    "For more details on inspecting the drizzled products after reprocessing, see [Section 7.3 in the DrizzlePac Handbook](https://hst-docs.stsci.edu/drizzpac/chapter-7-data-quality-checks-and-trouble-shooting-problems/7-3-inspecting-drizzled-products-after-user-reprocessing)"
   ]
  },
  {
   "cell_type": "code",
   "execution_count": null,
   "metadata": {},
   "outputs": [],
   "source": [
    "plt.figure(figsize=(8, 8))\n",
    "\n",
    "with fits.open(\"f606w_combined_drc.fits\") as hdulist: \n",
    "    drc_dat = hdulist[\"SCI\", 1].data # final drizzled image in SCI,1 extension\n",
    "    \n",
    "    z1, z2 = zscale.get_limits(drc_dat)\n",
    "    plt.imshow(drc_dat, origin=\"lower\", vmin=z1, vmax=z2, cmap=\"Greys\")\n",
    "    plt.title(\"F606W drizzled science image\", fontsize=20)\n",
    "    plt.show()"
   ]
  },
  {
   "cell_type": "markdown",
   "metadata": {},
   "source": [
    "### 3.2 Inspect the final weight image <a id=\"wht\"></a>"
   ]
  },
  {
   "cell_type": "code",
   "execution_count": null,
   "metadata": {},
   "outputs": [],
   "source": [
    "plt.figure(figsize=(8, 8))\n",
    "\n",
    "with fits.open(\"f606w_combined_drc.fits\") as hdulist: \n",
    "    drc_dat = hdulist[\"WHT\", 1].data # final drizzled image in WHT,1 extension\n",
    "\n",
    "    z1, z2 = zscale.get_limits(drc_dat)\n",
    "    plt.imshow(drc_dat, origin=\"lower\", vmin=z1, vmax=z2, cmap=\"Greys\")\n",
    "    plt.title(\"F606W drizzled weight image\", fontsize=20)\n",
    "    plt.show()"
   ]
  },
  {
   "cell_type": "markdown",
   "metadata": {},
   "source": [
    "### 3.3 Discussion of AstroDrizzle and Summary <a id=\"discussion\"></a>"
   ]
  },
  {
   "cell_type": "markdown",
   "metadata": {},
   "source": [
    "In this example, we imported and ran the `AstroDrizzle` task on our input images, which were previously aligned with `TweakReg`. By setting `configobj` to None, we ensured that `AstroDrizzle` was not picking up any existing configuration files and parameters were restored to default values. We then set a select few parameters to non-default values:\n",
    "   1. `output = 'f606w_combined'` : Output file name root (which will be appended with various suffixes). Defaults to input file name.\n",
    "   2. `driz_sep_bits = '256, 64, 16'` : Data quality flags in the `flt.fits` file, which were set during calibration, can be used as bit mask when drizzling. The user may specify which bit values should actually be considered \"good\" and included in image combination. In `astrodrizzle`, this parameter may be given as the sum of those DQ flags or as a comma-separated list, as shown in this example. In this example, 64 and 16 are set, so that both warm pixels and stable hot pixels, which are corrected by the dark, are treated as valid input pixels. To avoid flagging saturated pixels as CR's, dq 256 is also set as a valid input pixel.\n",
    "   3. `driz_cr_corr = True` : When set to True, the task will create both a cosmic ray mask image (suffix `crmask.fits`) and a clean version of the original input images (suffix `crclean.fits`), where flagged pixels are replaced by pixels from the blotted median. It is strongly recommended that the quality of the cosmic ray masks be verified by blinking the original `flt.fits` input image with both the cosmic ray-cleaned image (`crclean.fits`) and the cosmic-ray mask (`crmask.fits`).\n",
    "   4. `final_bits = '256, 64, 16'` : Similar to `driz_sep_bits`, but for the last step when all the input images are combined. To avoid filling the cores of saturated pixels with NaN, dq 256 is set as a valid input pixel.\n",
    "   5. `clean = False` : intermediate output files (e.g masks) will be kept. If True, only main outputs will be kept. Also see `in_memory` to control this behavior.\n",
    "   6. `configobj = None` : ignore any custom config files and refresh all parameters to default values.\n",
    "   \n",
    "`AstroDrizzle` has a large number of parameters, which are [described here](https://drizzlepac.readthedocs.io/en/latest/drizzlepac_api/astrodrizzle.html). Running `AstroDrizzle` using default parameter values is not recommended, as these defaults may not provide optimal science products. Users should also inspect the quality of the sky subtraction and cosmic ray rejection. For dithered data, users may experiment with the output `final_scale` and `final_pixfrac` parameters in the `final_drizzle` step. For more details, see the notebook in this repository to 'Optimize Image Sampling'."
   ]
  },
  {
   "cell_type": "markdown",
   "metadata": {},
   "source": [
    "## About this Notebook\n",
    "\n",
    "\n",
    "    Created: 14 Dec 2018;     C. Shanahan & J. Mack\n",
    "    Updated: 17 Sep 2024;     G. Anand & J. Mack \n",
    "\n",
    "\n",
    "**Source:** GitHub [spacetelescope/hst_notebooks](https://github.com/spacetelescope/hst_notebooks)\n",
    "\n",
    "### Additional Resources <a id=\"add\"></a>\n",
    "\n",
    "Below are some additional resources that may be helpful. Please send any questions through the [HST Help Desk](https://stsci.service-now.com/hst), selecting the DrizzlePac category.\n",
    "\n",
    "- [ACS Website](https://www.stsci.edu/hst/instrumentation/acs)\n",
    "- [ACS Instrument Handbook](https://hst-docs.stsci.edu/acsihb)\n",
    "- [ACS Data Handbook](https://hst-docs.stsci.edu/acsdhb)\n",
    "\n",
    "- [WFC3 Website](https://www.stsci.edu/hst/instrumentation/wfc3)\n",
    "- [WFC3 Instrument Handbook](https://hst-docs.stsci.edu/wfc3ihb)\n",
    "- [WFC3 Data Handbook](https://hst-docs.stsci.edu/wfc3dhb)\n",
    "\n",
    "\n",
    "### Citations <a id=\"cite\"></a>\n",
    "If you use Python packages such as `astropy`, `astroquery`, `drizzlepac`, `matplotlib`, or `numpy` for published research, please cite the authors. Follow these links for more information about citing various packages.\n",
    "\n",
    "* [Citing `astropy`](https://www.astropy.org/acknowledging.html)\n",
    "* [Citing `astroquery`](https://github.com/astropy/astroquery/blob/main/astroquery/CITATION)\n",
    "* [Citing `drizzlepac`](https://zenodo.org/records/3743274)\n",
    "* [Citing `matplotlib`](https://matplotlib.org/stable/users/project/citing.html)\n",
    "* [Citing `numpy`](https://numpy.org/citing-numpy/)\n",
    "<hr>\n",
    "\n",
    "[Top of Page](#top)\n",
    "<img style=\"float: right;\" src=\"https://raw.githubusercontent.com/spacetelescope/notebooks/master/assets/stsci_pri_combo_mark_horizonal_white_bkgd.png\" alt=\"Space Telescope Logo\" width=\"200px\"/> "
   ]
  },
  {
   "cell_type": "code",
   "execution_count": null,
   "metadata": {},
   "outputs": [],
   "source": []
  }
 ],
 "metadata": {
  "kernelspec": {
   "display_name": "Python 3 (ipykernel)",
   "language": "python",
   "name": "python3"
  },
  "language_info": {
   "codemirror_mode": {
    "name": "ipython",
    "version": 3
   },
   "file_extension": ".py",
   "mimetype": "text/x-python",
   "name": "python",
   "nbconvert_exporter": "python",
   "pygments_lexer": "ipython3",
   "version": "3.11.10"
  }
 },
 "nbformat": 4,
 "nbformat_minor": 4
}
