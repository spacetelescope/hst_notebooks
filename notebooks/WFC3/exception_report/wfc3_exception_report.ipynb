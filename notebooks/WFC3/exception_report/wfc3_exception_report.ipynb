{
 "cells": [
  {
   "cell_type": "markdown",
   "metadata": {
    "slideshow": {
     "slide_type": "slide"
    }
   },
   "source": [
    "<a id=\"top\"></a>\n",
    "# Exception Report Checklist - WFC3\n",
    "***\n",
    "## Learning Goals\n",
    "In this notebook, you will walk through the procedure for addressing a HST/WFC3 exception report and <br> \n",
    "determining if a HOPR and/or Help Desk Ticket should be filed. \n",
    "\n",
    "By the end of this notebook, you will:\n",
    "\n",
    "- Download your data.\n",
    "- Display the data.\n",
    "- Investigate data quality & check for anomalies.\n",
    "- Inspect JIF (jitter/observing log) header keywords for problems.\n",
    "- Determine if a HOPR is warranted.\n",
    "\n",
    "## Table of Contents\n",
    "\n",
    "[Introduction](#intro) <br>\n",
    "[1. Imports](#import) <br>\n",
    "[2. Download Data](#download) <br>\n",
    "[3. View Data](#viewdata) <br>\n",
    "[4. Header Keywords from `_jif.fits`](#keywords) <br>\n",
    "[5. Plotting Data from `_jit.fits`](#jit) <br>\n",
    "&nbsp;&nbsp;&nbsp;&nbsp;&nbsp;&nbsp;[5.1 Interpreting the Jitter Plots](#interpret)<br>\n",
    "[6. Further Analysis](#morework)<br>\n",
    "&nbsp;&nbsp;&nbsp;&nbsp;&nbsp;&nbsp;[6.1 Radial Profile Plots](#radprof)<br>\n",
    "[7. Should I submit a HOPR or Help Desk Ticket?](#HOPR)<br>\n",
    "[8. Conclusions](#conclusions) <br>\n",
    "[Additional Resources](#add) <br>\n",
    "[About this Notebook](#about) <br>\n",
    "[Citations](#cite) <br>\n"
   ]
  },
  {
   "cell_type": "markdown",
   "metadata": {
    "slideshow": {
     "slide_type": "slide"
    },
    "tags": []
   },
   "source": [
    "## Introduction <a id=\"intro\"></a>\n",
    "\n",
    "This is a dedicated, stand-alone, notebook to help you look into your HST/WFC3 [Exception Report](https://www.stsci.edu/hst/observing/post-observation/exception-reports). <br>\n",
    "HST observations go through a series of automated data quality checks. If a problem is found, an <br> \n",
    "Exception Report email will be sent to the Principal Investigator (PI). It is then the responsibility of the <br> \n",
    "PI to assess the data quality and determine whether or not the observations need to be repeated to <br> \n",
    "accomplish the science goals. <br>\n",
    "\n",
    "Before starting this notebook, you should have received an Exception Report email from the STScI <br>\n",
    "Automatic  AlertPI Exception Report Generator detailing which of your Exposure IDs were  affected. <br>\n",
    "In this notebook, we provide all the necessary steps for directly downloading your data (including <br>\n",
    "observing logs i.e. [JIF and JIT files](https://www.stsci.edu/hst/instrumentation/focus-and-pointing/pointing/jitter-file-format-definition)), displaying and analyzing it, and determining if a [Hubble <br> Observation Problem Report (HOPR)](https://www.stsci.edu/hst/observing/post-observation/reporting-problems) is warranted.\n",
    "**There is a 90-day time limit from the date that <br> the data were delivered to file a HOPR.** Please keep in mind that when filing a HOPR, you will be <br>\n",
    "required to show justification as to why the scientific goal(s) will be unattainable. If you run into any <br>\n",
    "problems trying to use this notebook please contact the [WFC3 Help Desk](https://stsci.service-now.com/hst).<br>\n",
    "\n"
   ]
  },
  {
   "cell_type": "markdown",
   "metadata": {},
   "source": [
    "## Examples of Nominal UVIS and IR Staring Mode Images  "
   ]
  },
  {
   "cell_type": "markdown",
   "metadata": {},
   "source": [
    "<img align=\"left\" width=\"1500\" height=\"1200\" src=\"docs/typical_images.png\">"
   ]
  },
  {
   "cell_type": "markdown",
   "metadata": {},
   "source": [
    "## Comparison of Nominal UVIS `_flt.fits` and `_flc.fits` Files <br> \n",
    "### &nbsp;&nbsp;&nbsp;&nbsp;&nbsp;&nbsp; `_flt.fits` are calibrated with no CTE correction  <br> \n",
    "### &nbsp;&nbsp;&nbsp;&nbsp;&nbsp;&nbsp;  `_flc.fits` are calibrated with a CTE correction (UVIS only)"
   ]
  },
  {
   "cell_type": "markdown",
   "metadata": {},
   "source": [
    "<img align=\"left\" width=\"600\" height=\"600\" src=\"docs/flt_vs_flc.gif\">\n"
   ]
  },
  {
   "cell_type": "markdown",
   "metadata": {},
   "source": [
    "**Note: The above animated GIF is generated from a 500x500 pixel subsection of the full-frame image. For** <br>\n",
    "**more information about UVIS CTE please see** [Chapter 6](https://hst-docs.stsci.edu/wfc3dhb/chapter-6-wfc3-uvis-charge-transfer-efficiency-cte) **of the WFC3 Data Handbook and our** [WFC3 CTE <br>Performance Webpage](https://www.stsci.edu/hst/instrumentation/wfc3/performance/cte)."
   ]
  },
  {
   "cell_type": "markdown",
   "metadata": {
    "slideshow": {
     "slide_type": "slide"
    }
   },
   "source": [
    "## 1. Imports <a id=\"import\"></a>\n",
    "\n",
    "Installation instructions for this notebook are in a `README.md` attached to the repository. <br>\n",
    "Please make sure you have read the contents of the `README.md` before continuing the notebook\n",
    "    \n",
    "We import: \n",
    "\n",
    "- *glob* to make lists of files\n",
    "- *os* to name files and remove directories \n",
    "- *astropy.io.fits* for accessing FITS files\n",
    "- *astropy.table Table* for creating tidy tables of the data\n",
    "- *astroquery.mast.Observations* for downloading data from MAST\n",
    "- *matplotlib.pyplot* for plotting data\n",
    "- *display_image* for displaying any type of WFC3 image"
   ]
  },
  {
   "cell_type": "code",
   "execution_count": null,
   "metadata": {
    "slideshow": {
     "slide_type": "fragment"
    }
   },
   "outputs": [],
   "source": [
    "%matplotlib inline\n",
    "import glob \n",
    "import os\n",
    "\n",
    "from astropy.io import fits\n",
    "from astropy.table import Table\n",
    "from astroquery.mast import Observations\n",
    "import matplotlib.pyplot as plt\n",
    "\n",
    "from docs.display_image import display_image\n"
   ]
  },
  {
   "cell_type": "markdown",
   "metadata": {},
   "source": [
    "## 2. Download Data <a id=\"download\"></a>\n",
    "\n",
    "Here, we download the example images via `astroquery`. For more information, please look at the <br>\n",
    "documentation for \n",
    "[Astroquery](https://astroquery.readthedocs.io/en/latest/),\n",
    "[Astroquery.mast](https://astroquery.readthedocs.io/en/latest/mast/mast.html), and \n",
    "[CAOM Field Descriptions](https://mast.stsci.edu/api/v0/_c_a_o_mfields.html), which is used for the <br>\n",
    "`obs_table` variable. Additionally, you may download the data from MAST using either the [HST MAST<br>\n",
    "Search Engine](https://mast.stsci.edu/search/hst/ui/#/) or the more general [MAST Portal](https://mast.stsci.edu/portal/Mashup/Clients/Mast/Portal.html).\n",
    "\n",
    "We download `_flt.fits` images of star cluster NGC-1898 located in the Large Magellanic Cloud, <br>\n",
    "from GO program [16748](https://www.stsci.edu/cgi-bin/get-proposal-info?id=16748&submit=Go&observatory=HST) as well as the corresponding `_jif.fits` and `_jit.fits` files. After <br>\n",
    "downloading the images, we move them to a sub-directory within the current working directory. The <br>\n",
    "data used in this notebook are courteous of PI Dr. Florian Niederhofer. <br>\n",
    "\n",
    "If you would like to use this notebook to download your own data, edit line 1 in the cell below<br>\n",
    "with your Exposure ID number from the exception report email. If your data are from WFC3/IR,<br>\n",
    "you should also download the `_ima.fits` files by editing the variable `file_types` on line 4 <br>\n",
    "to include `'IMA'` along with the `'FLT', 'JIF','JIT'` files. If your data are proprietary, <br>\n",
    "you may need to take additional steps to download the data with astroquery.\n"
   ]
  },
  {
   "cell_type": "code",
   "execution_count": null,
   "metadata": {},
   "outputs": [],
   "source": [
    "exp_ids = ['IEPP01010'] # Edit with exposure ID(s)\n",
    "\n",
    "# Specify flle types to download\n",
    "file_types = ['FLT', 'JIF','JIT']\n",
    "\n",
    "#loop through exposure id\n",
    "for obsid in exp_ids: \n",
    "    # make new directory to hold fits files - named by exposure id\n",
    "    try:\n",
    "        newdir = os.getcwd()+'/'+ obsid.lower()+'/'\n",
    "        mkdir = os.mkdir(newdir)\n",
    "        print(f'Making new directory {newdir}')\n",
    "    except FileExistsError: \n",
    "        pass\n",
    "    \n",
    "    # loop through to get FLTs, JIFs, and JITs\n",
    "    for file_type in file_types:\n",
    "        print(f'Working on getting {file_type} files for Exposure ID {obsid}')\n",
    "        obs_table = Observations.query_criteria(obs_id=obsid.lower())\n",
    "        products = Observations.get_product_list(obs_table)\n",
    "        filtered_products = Observations.filter_products(products, productSubGroupDescription=file_type, project='CALWF3')\n",
    "        download_table = Observations.download_products(filtered_products, mrp_only=False)\n",
    "    \n",
    "        # For convenience move raws to cwd and remove empty download dir\n",
    "        for file in download_table['Local Path']:\n",
    "            filename = file.split('/')[-1]\n",
    "            print(f'Moving {file} to {newdir+filename}')\n",
    "            os.rename(file, newdir+filename)\n",
    "            try:\n",
    "                os.rmdir(f'mastDownload/HST/{filename[:9]}')\n",
    "                print(f'Removing mastDownload/HST/{filename[:9]}')   \n",
    "                os.rmdir(f'mastDownload/HST/{obsid.lower()}')\n",
    "                print(f'Remvoing mastDownload/HST/{obsid.lower()}') \n",
    "            except (OSError, FileNotFoundError): \n",
    "                pass\n",
    "            \n",
    "    print(f'Remvoing mastDownload/HST/')    \n",
    "    os.rmdir(f'mastDownload/HST/')\n",
    "    print(f'Remvoing mastDownload/')\n",
    "    os.rmdir('mastDownload/')\n",
    "    "
   ]
  },
  {
   "cell_type": "markdown",
   "metadata": {},
   "source": [
    "## 3. View Data <a id=\"viewdata\"></a>\n",
    "\n",
    "Below we use the imported [`display_image`](https://github.com/spacetelescope/WFC3Library/blob/master/notebooks/image_displayer_analyzer/display_image.py) function to display the data downloaded above. This <br> \n",
    "function will display the SCI, ERR, and DQ array for any full-frame or subarray WFC3 UVIS or IR image. <br> \n",
    "See our [notebook on displaying and analyzing data](https://github.com/spacetelescope/WFC3Library/tree/master/notebooks/image_displayer_analyzer) for different use cases and functionality. Additionally, <br>\n",
    "the docstring for the function is available by running the command `display_image?`. The speed at <br>\n",
    "which the images are displayed will depend partly on the number of files and their sizes.<br>\n",
    "\n",
    "While viewing your data and assessing the quality, please keep in mind that the UVIS and IR detectors <br>\n",
    "both have their own unique anomalies. For a full listing of all known WFC3 anomalies, as well as their <br>\n",
    "description and example image, please see [WFC3 ISR 2017-22](https://www.stsci.edu/files/live/sites/www/files/home/hst/instrumentation/wfc3/documentation/instrument-science-reports-isrs/_documents/2017/WFC3-2017-22.pdf). Additionally, there is a [WFC3 Anomalies <br>webpage](https://www.stsci.edu/hst/instrumentation/wfc3/performance/anomalies), which also provides examples as well as linked documentation to various WFC3 Instrument <br>\n",
    "Science Reports.\n",
    "\n",
    "Please keep in mind that while the data may look OK to the eye, further analysis into any available PSFs <br>\n",
    "as well as the S/N and/or flux achieved in the images may be required. For example, this notebook only <br>\n",
    "shows images from the UVIS detector; if your data are from WFC3/IR please also download the <br>\n",
    "Intermediate MultiAccum files (`_ima.fits`). These files contain the full stack of calibrated readouts, <br>\n",
    "while the final calibrated image (`_flt.fits`) file is the single image fully processed and trimmed. <br>\n",
    "For more information about the `_ima.fits` files see [Chapter 3.3](https://hst-docs.stsci.edu/wfc3dhb/chapter-3-wfc3-data-calibration/3-3-ir-data-calibration-steps) of the WFC3 Data Handbook. To <br>\n",
    "display each individual read of the `_ima.fits` file, turn the `ima_multiread` keyword to `True` in <br>\n",
    "the `display_image` function. If you would like to remove one of the reads from the `_ima.fits` <br>\n",
    "files and recalibrate with `calwf3` please see our [Jupyter Notebook](https://github.com/spacetelescope/WFC3Library/tree/master/notebooks/calwf3_recalibration) and [WFC3 ISR 2016-16](https://www.stsci.edu/files/live/sites/www/files/home/hst/instrumentation/wfc3/documentation/instrument-science-reports-isrs/_documents/2016/WFC3-2016-16.pdf) on manual <br>\n",
    "recalibration.  "
   ]
  },
  {
   "cell_type": "code",
   "execution_count": null,
   "metadata": {},
   "outputs": [],
   "source": [
    "# only run this cell if you would like to see the docscring for the function\n",
    "display_image?"
   ]
  },
  {
   "cell_type": "code",
   "execution_count": null,
   "metadata": {
    "scrolled": true
   },
   "outputs": [],
   "source": [
    "# Edit fltfiles if you would like to use your own files\n",
    "fltfiles = sorted(glob.glob(f'{exp_ids[0].lower()}/*flt.fits'))\n",
    "\n",
    "for f in fltfiles:\n",
    "    display_image(f,\n",
    "                colormaps=['Greys_r', 'Greys_r', 'inferno_r'],\n",
    "                scaling=[(-10, 130), (None, None), (None, None)],\n",
    "                printmeta=True,\n",
    "                ima_multiread=False,\n",
    "                figsize=(16, 16),\n",
    "                dpi=150)"
   ]
  },
  {
   "cell_type": "markdown",
   "metadata": {},
   "source": [
    "<a id= \"keywords\"> </a> \n",
    "## 4. Header Keywords from `_jif.fits`\n",
    "In the example above, we can see that the telescope guiding failed in at least 4 of the 7 images <br> \n",
    "from dataset IEPP01010. Since this is not a SNAP program  (which does not get repeat observations <br> per STScI policy) there is already enough evidence to file a [HOPR](https://www.stsci.edu/hst/observing/post-observation/reporting-problems) and request that the exposures <br> \n",
    "get repeated.\n",
    "\n",
    "But, if you are still unsure if the data were affected, the next step is to look at the header keywords <br> \n",
    "The [jitter files](https://www.stsci.edu/hst/instrumentation/focus-and-pointing/pointing/jitter-file-format-definition) `_jif.fits`, also known as observing logs, record a lot of information including <br> \n",
    "Jitter, Pointing Control System data, World Coordinate System parameters, and spacecraft data <br> \n",
    "taken during the observations. <br> \n",
    "\n",
    "One of the sections in the header of the jitter file is called \"Problem Flags and Warnings\" where <br> \n",
    "a majority of the keywords will help assess if there were problems with guide star lock and tracking.<br>\n",
    "\n",
    "If you would like to use your own `_jif.fits` file please edit line 1 in the cell below. The indexing<br>\n",
    "on line 2 may also need to be modified.\n"
   ]
  },
  {
   "cell_type": "code",
   "execution_count": null,
   "metadata": {},
   "outputs": [],
   "source": [
    "jif_file = f'{exp_ids[0].lower()}/{exp_ids[0].lower()}_jif.fits'  # Edit with the path to your own _jif.fits file\n",
    "fits.getheader(jif_file,0)[-21:-6]"
   ]
  },
  {
   "cell_type": "markdown",
   "metadata": {},
   "source": [
    "<br>Specifically from the keywords above, `T_GSFAIL` indicates one or more exposures had a guide <br>\n",
    "star acquisition failure. "
   ]
  },
  {
   "cell_type": "code",
   "execution_count": null,
   "metadata": {},
   "outputs": [],
   "source": [
    "fits.getheader(jif_file,0)['T_GSFAIL*']"
   ]
  },
  {
   "cell_type": "markdown",
   "metadata": {},
   "source": [
    "<br>Next, we loop through each extension of the `_jif.fits` file, and display various keywords that help <br> \n",
    "identify which exposures were affected. In the `_jif.fits` files, each extension number corresponds <br> \n",
    "to a given science exposure through the header keyword `EXPNAME`. In this example, the most relevant <br>\n",
    "keywords that show something went wrong are `GUIDEACT`, `GSACQ`, `GSFAIL`, as well as `V2_RMS` <br>\n",
    "and `V3_RMS`."
   ]
  },
  {
   "cell_type": "code",
   "execution_count": null,
   "metadata": {
    "tags": []
   },
   "outputs": [],
   "source": [
    "numexts = fits.getheader(jif_file,0)['NEXTEND'] # number of extensions i.e. exposures\n",
    "\n",
    "keywords = ['EXPNAME*','GUIDEACT*','GSACQ*','ACTGSSEP*',\n",
    "            'GSSEPRMS*','NLOSSES*','CRVAL1*','CRVAL2*',\n",
    "            'V2_RMS*','V3_RMS*','GSFAIL*']\n",
    "\n",
    "for ext in range(1,numexts+1):\n",
    "    print(\"JIF Header Ext Number:\",ext)\n",
    "    print('-'*80)\n",
    "    for keyword in keywords:\n",
    "        # try to display keyword because it may not be present \n",
    "        try: \n",
    "            print(fits.getheader(jif_file,ext)[keyword])\n",
    "        except KeyError: \n",
    "            pass\n",
    "    print('\\n')"
   ]
  },
  {
   "cell_type": "markdown",
   "metadata": {},
   "source": [
    "Above, we see that the `_jif.fits` file is reporting that exposures 4 through 7 failed to acquire a <br>\n",
    "guide star. In extensions 4-7, the `GSACQ` keyword is blank, `GSFAIL` is set to `NOLOCK`, and the <br> \n",
    "values for `GSSEPRMS`, `V2_RMS`, `V3_RMS` are nonphysical at -32767 mas. <br> "
   ]
  },
  {
   "cell_type": "markdown",
   "metadata": {},
   "source": [
    "<a id= \"jit\"> </a> \n",
    "## 5. Plotting Data from `_jit.fits`\n",
    "\n",
    "Next, we will use the data inside of the `_jit.fits` file to make plots of the jitter for each individual<br>\n",
    "exposure. Specifically, we plot the V2 and V3 average jitter (over 3 seconds) as well as the V2 and V3 <br>\n",
    "jitter RMS. The HST-based, or vehicle (V2, V3) system is an orthogonal reference frame tied to the <br>\n",
    "telescope and is used operationally for alignment, pointing, and slewing purposes (V2 = -U2 and V3 <br>\n",
    "= –U3). For more information about the coordinate systems, and UVIS and IR field geometries see the <br>\n",
    "WFC3 Instrument Handbook [Chapter 6.4](https://hst-docs.stsci.edu/wfc3ihb/chapter-6-uvis-imaging-with-wfc3/6-4-uvis-field-geometry) and [Chapter 7.4](https://hst-docs.stsci.edu/wfc3ihb/chapter-7-ir-imaging-with-wfc3/7-4-ir-field-geometry) respectively. A description of each column,<br>\n",
    "as well as the corresponding unit, can be found in the headers of the JIT file.<br>\n",
    "\n",
    "If you would like to use your own `_jit.fits` file please edit line 1 in the cell below. Additionally, <br>\n",
    "if you need to change the figure size and/or resolution please edit lines 4 and/or 5."
   ]
  },
  {
   "cell_type": "code",
   "execution_count": null,
   "metadata": {
    "scrolled": true
   },
   "outputs": [],
   "source": [
    "jit_file = f'{exp_ids[0].lower()}/{exp_ids[0].lower()}_jit.fits' # Edit with the path to your own _jit.fits file\n",
    "numexts = fits.getheader(jit_file,0)['NEXTEND'] # number of extensions i.e. exposures\n",
    "\n",
    "figure_size = (7,5) # Edit if you want to chage the figure size\n",
    "dotsperinch = 115   # Edit if you want to change the figure resolution\n",
    "\n",
    "for ext in range(1,numexts+1):\n",
    "\n",
    "    jit_tbl = Table(fits.getdata(jit_file,ext))\n",
    "    expname = fits.getheader(jit_file,ext)['EXPNAME']\n",
    "    flt_file = glob.glob(f\"{exp_ids[0].lower()}/{expname[:8]}*flt.fits\")\n",
    "    \n",
    "    plt.figure(figsize=figure_size, dpi=dotsperinch)\n",
    "    plt.grid(alpha=0.5)\n",
    "    plt.scatter(jit_tbl['Seconds'],jit_tbl['SI_V2_AVG'],15,alpha=.5,marker='o',label='V2_AVG')\n",
    "    plt.scatter(jit_tbl['Seconds'],jit_tbl['SI_V3_AVG'],15,alpha=.5,marker='o',label='V3_AVG')\n",
    "    plt.scatter(jit_tbl['Seconds'],jit_tbl['SI_V2_RMS'],10,alpha=.5,marker='s',label='V2_RMS')\n",
    "    plt.scatter(jit_tbl['Seconds'],jit_tbl['SI_V3_RMS'],10,alpha=.5,marker='s',label='V3_RMS')\n",
    "    \n",
    "    \n",
    "    plt.xlabel('Exposure Time [Seconds]',size=13)\n",
    "    plt.ylabel('Coordinate Axis [Arcsec]',size=13)\n",
    "    plt.title(f\"Jitter File Ext Number: {ext}\\n Corresponding FLT: {flt_file[0].split('/')[-1]}\",size=14)\n",
    "    plt.legend(prop={'size':12},ncol=2)\n",
    "    plt.minorticks_on()"
   ]
  },
  {
   "cell_type": "markdown",
   "metadata": {},
   "source": [
    "<a id=\"interpret\"></a>\n",
    "### 5.1 Interpreting the Jitter Plots \n",
    "In the plots above, there is more confirmation that exposures 4-7 failed to acquire a guide star. Every<br>\n",
    "value in the V2 & V3 average and RMS columns inside of the `_jit.fits` file for those exposures <br>\n",
    "are reporting an erroneous value of 1.6 x 10<sup>38</sup>. However, rather than having every value set to 1.6 x 10<sup>38</sup>, <br>\n",
    "exposures 1-3 above have real jitter data reported. In this example, the average V2 & V3 jitter values <br>\n",
    "vary by about +/- 0.5 - 2 mas and the RMS values are at a 1.5 - 2 mas level. \n",
    "\n",
    "At the time this notebook was written, the [HST Primer](https://hst-docs.stsci.edu/hsp/the-hubble-space-telescope-primer-for-cycle-30) section on [Optical Performance, Guiding <br> Performance, and Observing Efficiency](https://hst-docs.stsci.edu/hsp/the-hubble-space-telescope-primer-for-cycle-30/hst-primer-optical-performance-guiding-performance-and-observing-efficiency) states the dual guide star \"pointing control method was <br>\n",
    "designed to keep telescope jitter below 0.007 arcsec rms, but the current performance has jitter of <br>\n",
    "0.008 arcsec rms.\" If the exposure had single guide star tracking, the Primer section explains that \"a <br>\n",
    "gyro drift around the guide star will be present that can be as large as 17 milliarcsec (mas) of roll <br> angle per second.\" "
   ]
  },
  {
   "cell_type": "markdown",
   "metadata": {},
   "source": [
    "<a id=\"morework\"></a>\n",
    "## 6. Further Analysis \n",
    "While we have determined that four of the exposures failed in this example, further analysis may be <br>\n",
    "needed to access your data quality. <br>\n",
    "\n",
    "If you are still unsure whether or not your data quality was affected (such as in exposures 1-3 above),<br>\n",
    "we kindly ask that you complete a couple more verification steps:\n",
    "1. Determine whether the signal-to-noise and/or flux of your data reached the expected levels\n",
    "2. Analyze any point spread functions or sources that appear in your exposures for signs of drifting\n",
    "<br> \n",
    "\n",
    "For analyzing the S/N and/or flux in your image using Python, we recommend the Astropy package for <br>\n",
    "photometry, [photutils](https://photutils.readthedocs.io/en/stable/), and [imexam](https://imexam.readthedocs.io/en/0.9.1/#). Some of the methods offered by photutils are [source detection](https://photutils.readthedocs.io/en/stable/detection.html), <br>\n",
    "[aperture photometry](https://photutils.readthedocs.io/en/stable/aperture.html), and [PSF photometry](https://photutils.readthedocs.io/en/stable/psf.html). The imexam method offers many useful diagnostic plots <br>\n",
    "such as [radial profile](https://imexam.readthedocs.io/en/0.9.1/imexam/imexam_command.html#radial-profile-plot), [curve of growth](https://imexam.readthedocs.io/en/0.9.1/imexam/imexam_command.html#curve-of-growth-plot), and [contours](https://imexam.readthedocs.io/en/0.9.1/imexam/imexam_command.html#contour-plots). For more information about WFC3 PSF analysis <br>\n",
    "please see our [PSF data analysis webpage](https://www.stsci.edu/hst/instrumentation/wfc3/data-analysis/psf).\n"
   ]
  },
  {
   "cell_type": "markdown",
   "metadata": {},
   "source": [
    "<a id=\"radprof\"></a>\n",
    "### 6.1 Radial Profile Plots\n",
    "\n",
    "Below, we show an example of searching for sources with `photutils.detection.DAOStarFinder` <br>\n",
    "in a 100x100 pixel subsection and subsequently plotting their radial profiles using the `RadialProfile` <br> class within the file `rad_prof.py`. \n",
    "\n",
    "We also import:\n",
    "- *numpy* for handling arrays\n",
    "- *astropy.stats.sigma_clipped_stats* for sigma clipping statistics\n",
    "- *ginga.util.zscale* for scaling images\n",
    "- *matplotlib.colors.LogNorm* for logarithmic normalization\n",
    "- *photutils.detection.CircularAperture* for aperture photometry"
   ]
  },
  {
   "cell_type": "code",
   "execution_count": null,
   "metadata": {},
   "outputs": [],
   "source": [
    "import numpy as np\n",
    "\n",
    "from astropy.stats import sigma_clipped_stats\n",
    "from ginga.util import zscale\n",
    "from matplotlib.colors import LogNorm\n",
    "from photutils.aperture import CircularAperture\n",
    "from photutils.detection import DAOStarFinder\n",
    "\n",
    "from docs.rad_prof import RadialProfile"
   ]
  },
  {
   "cell_type": "markdown",
   "metadata": {},
   "source": [
    "<br>\n",
    "\n",
    "First, we open the data and 3 sigma clip it to get the median and standard deviation values. We then use <br>\n",
    "those values to help search for sources using `photutils.detection.DAOStarFinder`. We truncate <br>\n",
    "the list of sources to those with `flux > 10` and well within the x & y border of the 100x100 pixel <br>\n",
    "subsection. Lastly, we create `photutils.aperture` objects so we can easily display the subsection <br>\n",
    "with each source marked. "
   ]
  },
  {
   "cell_type": "code",
   "execution_count": null,
   "metadata": {},
   "outputs": [],
   "source": [
    "# Read in data\n",
    "filename = 'iepp01010/iepp01uvq_flt.fits'\n",
    "uvis2 = fits.getdata(filename,'SCI',1)\n",
    "header = fits.getheader(filename)\n",
    "\n",
    "# Trim data to 100x100 subsection\n",
    "data = uvis2[:100,65:165]\n",
    "\n",
    "# 3 sigma clip data to get median and std values\n",
    "mean, median, std = sigma_clipped_stats(data, sigma=3.0) \n",
    "\n",
    "# Search for sources\n",
    "daofind = DAOStarFinder(fwhm=2.5, threshold=3*std)  \n",
    "sources = daofind(data - median)  \n",
    "\n",
    "# Truncate list to show just a few sources  \n",
    "sources = sources[(sources['flux'] > 10) &\\\n",
    "                  (sources['xcentroid'] > 10) & (sources['xcentroid'] < 90) &\\\n",
    "                  (sources['ycentroid'] > 18) & (sources['ycentroid'] < 90) ]\n",
    "\n",
    "# Create circular apertures to plot\n",
    "positions = np.transpose((sources['xcentroid'],sources['ycentroid']))\n",
    "apertures = CircularAperture(positions, r=5.)\n",
    "\n",
    "# Get zscale image min and max limits\n",
    "z1,z2 = zscale.zscale(data)\n",
    "\n",
    "# Plot 100x100 subsection and apertures\n",
    "plt.figure(figsize=(15,10))\n",
    "im1 = plt.imshow(data-z1+.01, origin='lower', cmap='Greys', norm = LogNorm(vmin=.01, vmax=z2*100.-z1) )\n",
    "apertures.plot(color='red', lw=1.5, alpha=0.5)\n",
    "plt.title(filename,size=14)\n",
    "plt.colorbar(im1,pad=0.01)\n"
   ]
  },
  {
   "cell_type": "markdown",
   "metadata": {},
   "source": [
    "<br>\n",
    "\n",
    "Now that we have the x & y coordinates for several (12) sources in the image, we loop through each one and<br>\n",
    "calculate and display the radial profile, which provides the measured FWHM value in the legend of the plot. <br>\n",
    "**For more information about UVIS and IR optical performance, such as nominal PSF FWHM values, please <br> \n",
    "see WFC3 Instrument Handbook Chapters [6.6](https://hst-docs.stsci.edu/wfc3ihb/chapter-6-uvis-imaging-with-wfc3/6-6-uvis-optical-performance) and [7.6](https://hst-docs.stsci.edu/wfc3ihb/chapter-7-ir-imaging-with-wfc3/7-6-ir-optical-performance) respectively.**"
   ]
  },
  {
   "cell_type": "code",
   "execution_count": null,
   "metadata": {},
   "outputs": [],
   "source": [
    "# Loop through sources and plot star stamp next to corresponding radial profile plot\n",
    "for xy in zip(sources['xcentroid'],sources['ycentroid']):\n",
    "    \n",
    "    fig, [ax1,ax2] = plt.subplots(1,2,figsize=(11,5))\n",
    "    \n",
    "    # Calculate radial profile and plot on ax2\n",
    "    my_prof = RadialProfile(xy[0],xy[1],data,\n",
    "                  r=5,\n",
    "                  fit=True,\n",
    "                  recenter=True,\n",
    "                  show=True,\n",
    "                  ax=ax2)\n",
    "    \n",
    "    # Create boundaries for stamp \n",
    "    x1 = int(round(my_prof.x-7))\n",
    "    x2 = int(round(my_prof.x+7))\n",
    "    y1 = int(round(my_prof.y-7))\n",
    "    y2 = int(round(my_prof.y+7))\n",
    "    \n",
    "    # Plot star stamp \n",
    "    im1 = ax1.imshow(data[y1:y2,x1:x2]-z1+.01, origin='lower', cmap='Greys', extent= [x1,x2,y1,y2],norm = LogNorm(vmin=.01, vmax=z2*100.-z1) )\n",
    "\n",
    "    ax1.set_title(f\"x = {my_prof.x:.3f}, y = {my_prof.y:.3f}\",size=13)\n",
    "    ax2.set_title(header['filter'],size=13)\n",
    "    ax2.grid(alpha=0.5)\n",
    "    fig.tight_layout()"
   ]
  },
  {
   "cell_type": "markdown",
   "metadata": {},
   "source": [
    "**Radial Profile Plot Note:** The scatter points that trend above the fitted line between pixel distances ~2-4, and<br>\n",
    "then below the fitted line between ~4-7 pixels are due to the Airy rings surrounding the PSF. "
   ]
  },
  {
   "cell_type": "markdown",
   "metadata": {},
   "source": [
    "<a id=\"HOPR\"></a>\n",
    "## 7. Should I submit a [HOPR](https://www.stsci.edu/hst/observing/post-observation/reporting-problems) or [Help Desk Ticket](https://stsci.service-now.com/hst)? \n",
    "\n",
    "If your data from the exception report are affected by a problem, as in the example above, please file a [HOPR](https://www.stsci.edu/hst/observing/post-observation/reporting-problems)<br>\n",
    "and begin the process of requesting a repeat observation. If you are still unsure whether or not your data are <br>\n",
    "affected by an issue after displaying it, checking the header keywords in the observing logs, plotting the jitter<br>\n",
    "data, a quick-look determination of the S/N, and checking any PSFs for signs of drift, please reach out to the  <br>\n",
    "[WFC3 Help Desk](https://stsci.service-now.com/hst). Lastly, please do not forget that **there is a 90-day time limit from the date that the data <br>\n",
    "were delivered to file a HOPR.**"
   ]
  },
  {
   "cell_type": "markdown",
   "metadata": {},
   "source": [
    "<a id=\"conclusions\"></a>\n",
    "## 8. Conclusions \n",
    "\n",
    "Thank you for going through this notebook. You should now have all the necessary tools for accessing the <br>\n",
    "data from your exception report. After completing this notebook you should be more familiar with: <br>\n",
    "\n",
    "- Downloading your data.\n",
    "- Displaying your data.\n",
    "- Viewing the `_jif.fits` file header.\n",
    "- Plotting data from the `_jit.fits` file.\n",
    "- Determining if a HOPR should be filed.\n",
    "\n",
    "**Congratulations, you have completed the notebook.**"
   ]
  },
  {
   "cell_type": "markdown",
   "metadata": {},
   "source": [
    "## Additional Resources <a id=\"add\"></a>\n",
    "\n",
    "Below are some additional resources that may be helpful. Please feel free to contact the [WFC3 Helpdesk](https://stsci.service-now.com/hst)<br>\n",
    "with any questions.\n",
    "\n",
    "- [WFC3 Website](https://www.stsci.edu/hst/instrumentation/wfc3)\n",
    "- [WFC3 Instrument Handbook](https://hst-docs.stsci.edu/wfc3ihb)\n",
    "- [WFC3 Data Handbook](https://hst-docs.stsci.edu/wfc3dhb)\n",
    "- [WFC3 Anomalies](https://www.stsci.edu/hst/instrumentation/wfc3/performance/anomalies)\n",
    "- [WFC3 PSF Data Analysis](https://www.stsci.edu/hst/instrumentation/wfc3/data-analysis/psf)\n",
    "- [Jitter File and Format](https://www.stsci.edu/hst/instrumentation/focus-and-pointing/pointing/jitter-file-format-definition)\n",
    "\n",
    "## About this Notebook <a id=\"about\"></a>\n",
    "\n",
    "**Author:** Benjamin Kuhn, WFC3 Instrument\n",
    "\n",
    "**Updated On:** January 20, 2023\n",
    "\n",
    "## Citations <a id=\"cite\"></a>\n",
    "\n",
    "If you use Python packages for published research, please cite the authors. Follow these links for more <br>\n",
    "information about citing packages such as `astropy`, `astroquery`, `matplotlib`, or `photutils`:\n",
    "\n",
    "* [Citing `astropy`](https://www.astropy.org/acknowledging.html)\n",
    "* [Citing `astroquery`](https://github.com/astropy/astroquery/blob/main/astroquery/CITATION)\n",
    "* [Citing `matplotlib`](https://matplotlib.org/stable/users/project/citing.html)\n",
    "* [Citing `photutils`](https://photutils.readthedocs.io/en/stable/citation.html)\n",
    "<br>\n",
    "***"
   ]
  },
  {
   "cell_type": "markdown",
   "metadata": {},
   "source": [
    "[Top of Page](#top)\n",
    "<img style=\"float: right;\" src=\"https://raw.githubusercontent.com/spacetelescope/notebooks/master/assets/stsci_pri_combo_mark_horizonal_white_bkgd.png\" alt=\"Space Telescope Logo\" width=\"200px\"/> "
   ]
  }
 ],
 "metadata": {
  "kernelspec": {
   "display_name": "Python 3",
   "language": "python",
   "name": "python3"
  },
  "language_info": {
   "codemirror_mode": {
    "name": "ipython",
    "version": 3
   },
   "file_extension": ".py",
   "mimetype": "text/x-python",
   "name": "python",
   "nbconvert_exporter": "python",
   "pygments_lexer": "ipython3",
   "version": "3.7.5"
  }
 },
 "nbformat": 4,
 "nbformat_minor": 4
}
