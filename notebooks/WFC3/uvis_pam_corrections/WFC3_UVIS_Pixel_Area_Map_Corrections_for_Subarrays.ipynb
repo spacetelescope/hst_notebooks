{
 "cells": [
  {
   "cell_type": "markdown",
   "metadata": {
    "slideshow": {
     "slide_type": "slide"
    }
   },
   "source": [
    "<a id=\"top\"></a>\n",
    "# WFC3/UVIS Pixel Area Map Corrections for Subarrays\n",
    "\n",
    "\n",
    "***\n",
    "## Learning Goals\n",
    "\n",
    "By the end of this tutorial, you will:\n",
    "\n",
    "Learn how to implement pixel area map corrections on UVIS subarray images:\n",
    "- 512 x 512 pixels\n",
    "- 1024 x 1024 pixels\n",
    "- 2048 x 2048 pixels\n",
    "\n",
    "## Table of Contents\n",
    "\n",
    "[Introduction](#intro) <br>\n",
    "[1. Imports](#import) <br>\n",
    "[2. Downloading Data](#main) <br>\n",
    "- [2.1 Download Subarray Images](#load) <br>\n",
    "- [2.2 WFC3 File Information](#file) <br>\n",
    "\n",
    "[3. Determining the \"Size\" of the Data Image](#ex) <br>\n",
    "[4. Downloading the Correct Pixel Area Map](#pam) <br>\n",
    "- [4.1 Download PAM Files from the WFC3 Website](#PAMload) <br>\n",
    "- [4.2 Perform PAM Corrections](#correct) <br>\n",
    "\n",
    "[5. Putting It All Together ](#function) <br>\n",
    "[6. Conclusions](#conclusions) <br>\n",
    "[Additional Resources](#add) <br>\n",
    "[About this Notebook](#about) <br>\n",
    "[Citations](#cite) <br>"
   ]
  },
  {
   "cell_type": "markdown",
   "metadata": {
    "slideshow": {
     "slide_type": "slide"
    }
   },
   "source": [
    "## Introduction <a id=\"intro\"></a>\n",
    "\n",
    "\n",
    "The WFC3/UVIS CCDs contain pixels that vary in their area on the sky as a result of the geometric distortion. Some pixels are larger and others are smaller. This means that there will be an overall gradient in an image of an intrinsically uniform background, because a larger pixel will collect more photons relative to a smaller one. \n",
    "\n",
    "The flat-fielding process in the HST [calwf3](https://wfc3tools.readthedocs.io/en/latest/wfc3tools/calwf3.html) pipeline is designed to correct for that gradient and produce images that have a flat background. As a result, while surface photometry measurements on flat-fielded science data (FLT) will be correct, the measured total brightness of sources will vary depending on the position of the object i.e. the areas of the pixels underlying the source. \n",
    "\n",
    "To achieve uniform aperture photometry of point sources across the detector, observers may either use FLT or FLC (charge transfer efficiency, or CTE, corrected) images, corrected by a pixel area map (PAM), or distortion-free drizzled (DRZ) images (see WFC3 [Pixel Area Maps](https://www.stsci.edu/hst/instrumentation/wfc3/data-analysis/pixel-area-maps) for more information). \n",
    "\n",
    "Photometry measured on a calibration pipeline (FLT or FLC) image requires a field-dependent correction factor to achieve uniformity in the measured count rate of an object across the field. This correction, in the form of an image, is called the Pixel Area Map (PAM) (see the [WFC3 ISR 2010-08 on PAMs](https://www.stsci.edu/files/live/sites/www/files/home/hst/instrumentation/wfc3/documentation/instrument-science-reports-isrs/_documents/2010/WFC3-2010-08.pdf).) The size of the PAM image is the same as the calibrated (FLT or FLC) image and each pixel value is set to the normalized area of that pixel.\n",
    "\n",
    "In this tutorial, we will walk through the process of applying PAM corrections to FLT images. The process is the same for FLC images. \n",
    "\n",
    "\n",
    "\n"
   ]
  },
  {
   "cell_type": "markdown",
   "metadata": {
    "slideshow": {
     "slide_type": "slide"
    }
   },
   "source": [
    "## 1. Imports <a id=\"import\"></a>\n",
    "\n",
    "This notebook assumes you have created the virtual environment in [WFC3 Library's](https://github.com/spacetelescope/WFC3Library) installation instructions.\n",
    "\n",
    "We import:\n",
    "    \n",
    "- *numpy* for handling array functions\n",
    "- *astropy.io fits* for accessing FITS files\n",
    "- *astroquery* for downloading data from MAST\n",
    "- *matplotlib.pyplot* for plotting data\n",
    "- *ginga* for finding min/max outlier pixels\n",
    "- *shutil* for copying files from one directory to another"
   ]
  },
  {
   "cell_type": "code",
   "execution_count": null,
   "metadata": {
    "slideshow": {
     "slide_type": "fragment"
    }
   },
   "outputs": [],
   "source": [
    "%matplotlib inline\n",
    "import shutil\n",
    "import matplotlib.pyplot as plt\n",
    "import numpy as np\n",
    "from astropy.io import fits\n",
    "from astroquery.mast import Mast\n",
    "from astroquery.mast import Observations\n",
    "from ginga.util.zscale import zscale"
   ]
  },
  {
   "cell_type": "markdown",
   "metadata": {},
   "source": [
    "## 2. Downloading Data <a id=\"main\"></a>\n",
    "\n",
    "Throughout this notebook, we will walk through the steps of applying pixel area map corrections to images taken in 3 different UVIS subarrays:\n",
    "- 512 x 512 pixels\n",
    "- 1024 x 1024 pixels\n",
    "- 2048 x 2048 pixels"
   ]
  },
  {
   "cell_type": "markdown",
   "metadata": {
    "slideshow": {
     "slide_type": "slide"
    }
   },
   "source": [
    "### 2.1 Download Subarray Images <a id=\"load\"></a>\n",
    "\n",
    "Here, we will download example images to use in this tutorial. These would be replaced with your own images, in practice. "
   ]
  },
  {
   "cell_type": "markdown",
   "metadata": {
    "slideshow": {
     "slide_type": "slide"
    }
   },
   "source": [
    "Let's query the data using MAST."
   ]
  },
  {
   "cell_type": "code",
   "execution_count": null,
   "metadata": {
    "slideshow": {
     "slide_type": "fragment"
    }
   },
   "outputs": [],
   "source": [
    "subarray512x512_Obs = Observations.query_criteria(obs_id='ICJD05SAQ')\n",
    "subarray512x512_Prods = Observations.get_product_list(subarray512x512_Obs)\n",
    "yourProd_512 = Observations.filter_products(subarray512x512_Prods, extension=[\"_flt.fits\"])"
   ]
  },
  {
   "cell_type": "code",
   "execution_count": null,
   "metadata": {},
   "outputs": [],
   "source": [
    "subarray1024x1024_Obs = Observations.query_criteria(obs_id='ICW201020')\n",
    "subarray1024x1024_Prods = Observations.get_product_list(subarray1024x1024_Obs)\n",
    "yourProd_1024 = Observations.filter_products(subarray1024x1024_Prods, extension=[\"_flt.fits\"])"
   ]
  },
  {
   "cell_type": "code",
   "execution_count": null,
   "metadata": {},
   "outputs": [],
   "source": [
    "subarray2048x2048_Obs = Observations.query_criteria(obs_id='ICHZ02AYQ')\n",
    "subarray2048x2048_Prods = Observations.get_product_list(subarray2048x2048_Obs)\n",
    "yourProd_2048 = Observations.filter_products(subarray2048x2048_Prods, extension=[\"_flt.fits\"])"
   ]
  },
  {
   "cell_type": "code",
   "execution_count": null,
   "metadata": {},
   "outputs": [],
   "source": [
    "yourProd_512"
   ]
  },
  {
   "cell_type": "code",
   "execution_count": null,
   "metadata": {},
   "outputs": [],
   "source": [
    "yourProd_1024"
   ]
  },
  {
   "cell_type": "code",
   "execution_count": null,
   "metadata": {},
   "outputs": [],
   "source": [
    "yourProd_2048"
   ]
  },
  {
   "cell_type": "markdown",
   "metadata": {},
   "source": [
    "Now we can download our data."
   ]
  },
  {
   "cell_type": "code",
   "execution_count": null,
   "metadata": {},
   "outputs": [],
   "source": [
    "Download_512 = Observations.download_products(yourProd_512, mrp_only=False, cache=False)"
   ]
  },
  {
   "cell_type": "code",
   "execution_count": null,
   "metadata": {},
   "outputs": [],
   "source": [
    "Download_1024 = Observations.download_products(yourProd_1024, mrp_only=False, cache=False)"
   ]
  },
  {
   "cell_type": "code",
   "execution_count": null,
   "metadata": {},
   "outputs": [],
   "source": [
    "Download_2048 = Observations.download_products(yourProd_2048, mrp_only=False, cache=False)"
   ]
  },
  {
   "cell_type": "markdown",
   "metadata": {},
   "source": [
    "### 2.2 WFC3 File Information <a id=\"file\"></a>\n",
    "\n",
    "Below are some potentially helpful diagrams of WFC3/UVIS image file information:\n",
    "\n",
    "WFC3/UVIS Data Structure\n",
    "\n",
    "\n",
    "![WFC3/UVIS](uvis_data_format.png \"uvis\")\n",
    "\n",
    "\n",
    "WFC3/UVIS Subarray Diagram \n",
    "\n",
    "\n",
    "![WFC3/UVIS/Subarray](UVIS_Subarrays.jpg)\n",
    "\n"
   ]
  },
  {
   "cell_type": "markdown",
   "metadata": {},
   "source": [
    "## 3. Determining the \"Size\" of the Data Image <a id=\"ex\"></a>\n"
   ]
  },
  {
   "cell_type": "markdown",
   "metadata": {},
   "source": [
    "First, let's retrieve our data and headers using `astropy.io.fits()`. \n",
    "We start by opening the FLT file and reviewing the data structure:"
   ]
  },
  {
   "cell_type": "code",
   "execution_count": null,
   "metadata": {},
   "outputs": [],
   "source": [
    "file_loc_512 = 'mastDownload/HST/icjd05saq/icjd05saq_flt.fits'\n",
    "hdu_512 = fits.open(file_loc_512)\n",
    "hdu_512.info()"
   ]
  },
  {
   "cell_type": "markdown",
   "metadata": {},
   "source": [
    "We need the science data and the science header. We view the data and print the first 10 lines of each to peek at their contents:"
   ]
  },
  {
   "cell_type": "code",
   "execution_count": null,
   "metadata": {},
   "outputs": [],
   "source": [
    "data_512 = hdu_512[1].data\n",
    "\n",
    "#We use zcale to find the min and max for plotting\n",
    "vmin_512, vmax_512 = zscale(data_512)\n",
    "\n",
    "im = plt.imshow(data_512, vmin=vmin_512, vmax=vmax_512, origin='lower')\n",
    "clb = plt.colorbar(im)\n",
    "_= clb.ax.set_title('Electrons')"
   ]
  },
  {
   "cell_type": "code",
   "execution_count": null,
   "metadata": {
    "scrolled": true
   },
   "outputs": [],
   "source": [
    "scihdr_512 = hdu_512[1].header\n",
    "scihdr_512[0:10]"
   ]
  },
  {
   "cell_type": "markdown",
   "metadata": {},
   "source": [
    "To determine what units our science data is in, we can check the \"BUNIT\" key word of the science header."
   ]
  },
  {
   "cell_type": "code",
   "execution_count": null,
   "metadata": {},
   "outputs": [],
   "source": [
    "scihdr_512['BUNIT']"
   ]
  },
  {
   "cell_type": "markdown",
   "metadata": {},
   "source": [
    "Now, to define the subarray coordinates that we will 'cut' out of the Pixel Area Map, we look at certain keywords.\\\n",
    "Namely, we look at:\n",
    "- scihdr['LTV1']: 'offset in X to subsection start' \n",
    "\n",
    "- scihdr['LTV2']: 'offset in Y to subsection start'\n",
    "\n",
    "- scihdr['NAXIS1']: 'length of data axis 1'\n",
    "\n",
    "- scihdr['NAXIS2']: 'length of data axis 2'\n",
    "\n",
    "These define the x and y pixel coordinates of the four corners of the science image."
   ]
  },
  {
   "cell_type": "code",
   "execution_count": null,
   "metadata": {},
   "outputs": [],
   "source": [
    "x0 = int(np.abs(scihdr_512['LTV1']))\n",
    "y0 = int(np.abs(scihdr_512['LTV2']))\n",
    "x1 = int(x0 + scihdr_512['NAXIS1'])\n",
    "y1 = int(y0 + scihdr_512['NAXIS2'])\n",
    "\n",
    "print (f'(x0, y0, x1, y1) = ({x0}, {y0}, {x1}, {y1})')"
   ]
  },
  {
   "cell_type": "markdown",
   "metadata": {},
   "source": [
    "## 4. Downloading the Correct Pixel Area Map<a id=\"pam\"></a>"
   ]
  },
  {
   "cell_type": "markdown",
   "metadata": {},
   "source": [
    "### 4.1 Download PAM Files from the WFC3 Website <a id=\"PAMload\"></a>"
   ]
  },
  {
   "cell_type": "markdown",
   "metadata": {},
   "source": [
    "The UVIS CCD has two chips: UVIS1 and UVIS2.\n",
    "\n",
    "First, please go to the [WFC3 PAM website](https://www.stsci.edu/hst/instrumentation/wfc3/data-analysis/pixel-area-maps) and download the UVIS1 and UVIS2 PAMs under the \"Download Pixel Area Maps\" header. "
   ]
  },
  {
   "cell_type": "markdown",
   "metadata": {},
   "source": [
    "Now, we will use `shutil.copy` to copy the PAMs from your Downloads directory to the present working directory. "
   ]
  },
  {
   "cell_type": "code",
   "execution_count": null,
   "metadata": {},
   "outputs": [],
   "source": [
    "#Please add the path to your local directory in place of \"pwd\" below\n",
    "#Please add the path to your Downloads folder in place of \"downloads\" below\n",
    "downloads = '/Users/yourHomeDirectory/Downloads/'\n",
    "pwd = '/Users/yourHomeDirectory/PAM_notebook/'"
   ]
  },
  {
   "cell_type": "code",
   "execution_count": null,
   "metadata": {},
   "outputs": [],
   "source": [
    "# Copy the content of source to destination\n",
    "source_1 = downloads + 'UVIS1wfc3_map.fits'\n",
    "source_2 = downloads + 'UVIS2wfc3_map.fits'\n",
    "\n",
    "dest_path1 = shutil.copy(source_1, pwd) \n",
    "dest_path2 = shutil.copy(source_2, pwd) \n",
    "\n",
    "# Print path of newly created file\n",
    "print(\"Destination path for the UVIS1 PAM:\", dest_path1)\n",
    "print(\"Destination path for the UVIS2 PAM:\", dest_path2)"
   ]
  },
  {
   "cell_type": "markdown",
   "metadata": {},
   "source": [
    "Now we have our WFC3/UVIS PAM files in our working directory."
   ]
  },
  {
   "cell_type": "markdown",
   "metadata": {},
   "source": [
    "### 4.2 Perform PAM Corrections <a id=\"correct\"></a>"
   ]
  },
  {
   "cell_type": "markdown",
   "metadata": {},
   "source": [
    "\n",
    "We search the science header (scihdr) for the 'CCDCHIP' keyword to determine whether our subarray is on UVIS1 or UVIS2 (see WFC3 UVIS Subarray Diagram // [figure 6.2 in the WFC Instrument Handbook](https://hst-docs.stsci.edu/wfc3ihb/chapter-6-uvis-imaging-with-wfc3/6-4-uvis-field-geometry)).\n",
    "\n",
    "The PAM corrected data would be the product of the original data and the pixel area map (cut to the correct pixel dimensions). "
   ]
  },
  {
   "cell_type": "code",
   "execution_count": null,
   "metadata": {},
   "outputs": [],
   "source": [
    "if scihdr_512['CCDCHIP'] == 1:\n",
    "        pam = fits.getdata('UVIS1wfc3_map.fits')\n",
    "        pamcorr_data_512 = data_512 * pam[y0:y1, x0:x1]\n",
    "\n",
    "elif scihdr_512['CCDCHIP'] == 2:\n",
    "        pam = fits.getdata('UVIS2wfc3_map.fits')\n",
    "        pamcorr_data_512 = data_512 * pam[y0:y1, x0:x1]\n",
    "else:\n",
    "        raise Exception('Chip case not handled.')\n"
   ]
  },
  {
   "cell_type": "markdown",
   "metadata": {},
   "source": [
    "We now have pamcorr_data, our pixel area map corrected FLT image data! We can see the difference between the original image and tha pamcorr image below. "
   ]
  },
  {
   "cell_type": "code",
   "execution_count": null,
   "metadata": {},
   "outputs": [],
   "source": [
    "diff_data_512 = (pamcorr_data_512 - data_512)\n",
    "\n",
    "\n",
    "#We use zcale to find the min and max for plotting\n",
    "vmin_diff_512, vmax_diff_512 = zscale(diff_data_512)\n",
    "\n",
    "im = plt.imshow(diff_data_512, vmin=vmin_diff_512, vmax=vmax_diff_512, origin='lower')\n",
    "\n",
    "clb = plt.colorbar(im)\n",
    "_= clb.ax.set_title('Electrons')"
   ]
  },
  {
   "cell_type": "markdown",
   "metadata": {},
   "source": [
    "## 5. Putting It All Together <a id=\"function\"></a>"
   ]
  },
  {
   "cell_type": "markdown",
   "metadata": {},
   "source": [
    "Now that we have worked through applying PAM corrections step by step, we apply these corrections to our next two subarrays using a function combining all the steps. "
   ]
  },
  {
   "cell_type": "code",
   "execution_count": null,
   "metadata": {},
   "outputs": [],
   "source": [
    "def make_PAMcorr_image_UVIS(data, scihdr, pamdir):\n",
    "    \"\"\"\n",
    "    Corrects the geometric distortion of the input image\n",
    "    data by multiplying by the correct UVIS PAM.\n",
    "    Parameters\n",
    "    ----------\n",
    "    data : array\n",
    "        Image data before correction.\n",
    "    scihdr : header\n",
    "        Header from science extension of data.\n",
    "    pamdir : str\n",
    "        Path to where pixel area maps for UVIS1 and/or\n",
    "        UVIS2 are located.\n",
    "    Returns\n",
    "    -------\n",
    "    pamcorr_data : array\n",
    "        PAM-corrected data.\n",
    "    \"\"\"\n",
    "\n",
    "    data = np.copy(data)\n",
    "    x0 = int(np.abs(scihdr['LTV1']))\n",
    "    y0 = int(np.abs(scihdr['LTV2']))\n",
    "    x1 = int(x0 + scihdr['NAXIS1'])\n",
    "    y1 = int(y0 + scihdr['NAXIS2'])\n",
    "    \n",
    "\n",
    "    if scihdr['CCDCHIP'] == 1:\n",
    "        pam = fits.getdata(pamdir + 'UVIS1wfc3_map.fits')\n",
    "        pamcorr_data = data * pam[y0:y1, x0:x1]\n",
    "\n",
    "    elif scihdr['CCDCHIP'] == 2:\n",
    "        pam = fits.getdata(pamdir + 'UVIS2wfc3_map.fits')\n",
    "        pamcorr_data = data * pam[y0:y1, x0:x1]\n",
    "    else:\n",
    "        raise Exception('Chip case not handled.')\n",
    "\n",
    "    return pamcorr_data"
   ]
  },
  {
   "cell_type": "markdown",
   "metadata": {},
   "source": [
    "First, we will implement pixel area map corrections on the 1024x1024 subarray image."
   ]
  },
  {
   "cell_type": "code",
   "execution_count": null,
   "metadata": {},
   "outputs": [],
   "source": [
    "file_loc_1024 = 'mastDownload/HST/icw201ciq/icw201ciq_flt.fits'\n",
    "hdu_1024 = fits.open(file_loc_1024)\n",
    "data_1024 = hdu_1024[1].data\n",
    "scihdr_1024 = hdu_1024[1].header"
   ]
  },
  {
   "cell_type": "code",
   "execution_count": null,
   "metadata": {},
   "outputs": [],
   "source": [
    "#We use zcale to find the min and max for plotting\n",
    "vmin_1024, vmax_1024 = zscale(data_1024)\n",
    "\n",
    "im = plt.imshow(data_1024, vmin=vmin_1024, vmax=vmax_1024, origin='lower')\n",
    "clb = plt.colorbar(im)\n",
    "_= clb.ax.set_title('Electrons')"
   ]
  },
  {
   "cell_type": "code",
   "execution_count": null,
   "metadata": {},
   "outputs": [],
   "source": [
    "pamcorr_data_1024 = make_PAMcorr_image_UVIS(data=data_1024, scihdr=scihdr_1024, pamdir='')"
   ]
  },
  {
   "cell_type": "code",
   "execution_count": null,
   "metadata": {},
   "outputs": [],
   "source": [
    "diff_data_1024 = (pamcorr_data_1024-data_1024)\n",
    "\n",
    "#We use zcale to find the min and max for plotting\n",
    "vmin_diff_1024, vmax_diff_1024 = zscale(diff_data_1024)\n",
    "\n",
    "im = plt.imshow(diff_data_1024, vmin=vmin_diff_1024, vmax=vmax_diff_1024, origin='lower')\n",
    "\n",
    "clb = plt.colorbar(im)\n",
    "_= clb.ax.set_title('Electrons')"
   ]
  },
  {
   "cell_type": "markdown",
   "metadata": {},
   "source": [
    "Finally, we will apply the pixel area map corrections to the 2048x2048 subarray image."
   ]
  },
  {
   "cell_type": "code",
   "execution_count": null,
   "metadata": {},
   "outputs": [],
   "source": [
    "file_loc_2048 = 'mastDownload/HST/ichz02ayq/ichz02ayq_flt.fits'\n",
    "hdu_2048 = fits.open(file_loc_2048)\n",
    "data_2048 = hdu_2048[1].data\n",
    "scihdr_2048 = hdu_2048[1].header"
   ]
  },
  {
   "cell_type": "code",
   "execution_count": null,
   "metadata": {},
   "outputs": [],
   "source": [
    "#We use zcale to find the min and max for plotting\n",
    "vmin_2048, vmax_2048 = zscale(data_2048)\n",
    "\n",
    "im = plt.imshow(data_2048, vmin=vmin_2048, vmax=vmax_2048, origin='lower')\n",
    "clb = plt.colorbar(im)\n",
    "_= clb.ax.set_title('Electrons')"
   ]
  },
  {
   "cell_type": "code",
   "execution_count": null,
   "metadata": {},
   "outputs": [],
   "source": [
    "pamcorr_data_2048 = make_PAMcorr_image_UVIS(data=data_2048, scihdr=scihdr_2048, pamdir='')"
   ]
  },
  {
   "cell_type": "code",
   "execution_count": null,
   "metadata": {},
   "outputs": [],
   "source": [
    "diff_data_2048 = (pamcorr_data_2048-data_2048)\n",
    "\n",
    "#We use zcale to find the min and max for plotting\n",
    "vmin_diff_2048, vmax_diff_2048 = zscale(diff_data_2048)\n",
    "\n",
    "im = plt.imshow(diff_data_2048, vmin=vmin_diff_2048, vmax=vmax_diff_2048, origin='lower')\n",
    "\n",
    "clb = plt.colorbar(im)\n",
    "_= clb.ax.set_title('Electrons')"
   ]
  },
  {
   "cell_type": "markdown",
   "metadata": {},
   "source": [
    "## 6.  Conclusions <a id=\"conclusions\"></a>\n",
    "\n",
    "Thank you for walking through this notebook. Now with WFC3/UVIS data, you should be familiar with:\n",
    "\n",
    "- Downloading image data.\n",
    "- Downloading the Pixel Area Maps.\n",
    "- \"Cutting\" the correct subarray out of the PAM image.\n",
    "- Applying the pixel corrections to the data image.\n",
    "\n",
    "**Congratulations, you have completed the notebook.**"
   ]
  },
  {
   "cell_type": "markdown",
   "metadata": {},
   "source": [
    "## Additional Resources <a id=\"add\"></a>\n",
    "\n",
    "Below are some additional resources that may be helpful. Please send any questions through the [HST Help Desk](https://stsci.service-now.com/hst).\n",
    "\n",
    "- [WFC3 Website](https://www.stsci.edu/hst/instrumentation/wfc3)\n",
    "- [WFC3 Instrument Handbook](https://hst-docs.stsci.edu/wfc3ihb)\n",
    "- [WFC3 Data Handbook](https://hst-docs.stsci.edu/wfc3dhb)\n",
    "\n",
    "\n",
    "## About this Notebook <a id=\"about\"></a>\n",
    "\n",
    "\n",
    "**Authors:** \n",
    "Anne O'Connor 2022 (notebook), \n",
    "\n",
    "Mariarosa Marinelli 2022 (code),\n",
    "\n",
    "& Clare Shanahan 2019 (code), \n",
    "\n",
    "WFC3 Instrument \n",
    "\n",
    "\n",
    "**Updated On:** 2023-01-25\n",
    "\n",
    "## Citations <a id=\"cite\"></a>\n",
    "\n",
    "If you use `numpy` or `astropy` for published research, please cite the\n",
    "authors. Follow these links for more information about citing `numpy` and\n",
    "`astropy`:\n",
    "\n",
    "* [Citing `numpy`](https://numpy.org/citing-numpy/)\n",
    "* [Citing `astropy`](https://www.astropy.org/acknowledging.html)\n",
    "* [Citing `astroquery`](https://astroquery.readthedocs.io/en/latest/)\n",
    "***"
   ]
  },
  {
   "cell_type": "markdown",
   "metadata": {},
   "source": [
    "[Top of Page](#top)\n",
    "<img style=\"float: right;\" src=\"https://raw.githubusercontent.com/spacetelescope/notebooks/master/assets/stsci_pri_combo_mark_horizonal_white_bkgd.png\" alt=\"Space Telescope Logo\" width=\"200px\"/> "
   ]
  },
  {
   "cell_type": "code",
   "execution_count": null,
   "metadata": {},
   "outputs": [],
   "source": []
  }
 ],
 "metadata": {
  "kernelspec": {
   "display_name": "Python 3 (ipykernel)",
   "language": "python",
   "name": "python3"
  },
  "language_info": {
   "codemirror_mode": {
    "name": "ipython",
    "version": 3
   },
   "file_extension": ".py",
   "mimetype": "text/x-python",
   "name": "python",
   "nbconvert_exporter": "python",
   "pygments_lexer": "ipython3",
   "version": "3.11.0"
  }
 },
 "nbformat": 4,
 "nbformat_minor": 2
}
