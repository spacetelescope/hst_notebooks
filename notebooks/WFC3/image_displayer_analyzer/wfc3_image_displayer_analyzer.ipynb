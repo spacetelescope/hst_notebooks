{
 "cells": [
  {
   "cell_type": "markdown",
   "metadata": {},
   "source": [
    "<a id=\"top\"></a>\n",
    "# WFC3 Image Displayer & Analyzer  \n",
    "***\n",
    "## Learning Goals\n",
    "\n",
    "By the end of this tutorial, you will:\n",
    "\n",
    "- Download two WFC3 images from MAST.\n",
    "- Learn how to use the `display_image` tool to display any WFC3 fits file.\n",
    "- Learn how to use the `row_column_stats` tool to plot row or column statistics for any WFC3 fits file.\n",
    "\n",
    "This notebook provides a method to quickly display images from the Hubble Space Telescope’s Wide Field Camera 3 (WFC3) instrument. This tool also allows the user to derive statistics by row or column in the image. <br>\n",
    "Please make sure you have read the `README.md` file before continuing. \n",
    "\n",
    "## Table of Contents\n",
    " [Introduction](#intro)<br>\n",
    " [1. Imports](#imports) <br>\n",
    " [2. Query MAST and download a WFC3 `flt.fits` and `ima.fits` image](#download) <br>\n",
    " [3. display_image](#display) <br>\n",
    " &nbsp;&nbsp;&nbsp;&nbsp;&nbsp;&nbsp;[3.1 Display the full images with metadata](#displayfull) <br>\n",
    " &nbsp;&nbsp;&nbsp;&nbsp;&nbsp;&nbsp;[3.2 Display UVIS1 & UVIS2 separately](#perchip) <br>\n",
    " &nbsp;&nbsp;&nbsp;&nbsp;&nbsp;&nbsp;[3.3 Display an image section and change the `SCI` array colormap](#colormap) <br>\n",
    " &nbsp;&nbsp;&nbsp;&nbsp;&nbsp;&nbsp;[3.4 Change the scaling of the `SCI` and `ERR` arrays](#scaling) <br>\n",
    " &nbsp;&nbsp;&nbsp;&nbsp;&nbsp;&nbsp;[3.5 Display each read of `ima` image section](#allreads) <br>\n",
    " [4. row_column_stats](#row_col) <br>\n",
    " &nbsp;&nbsp;&nbsp;&nbsp;&nbsp;&nbsp;[4.1 Compute column median and column standard deviation for a full image](#columnmedian) <br>\n",
    " &nbsp;&nbsp;&nbsp;&nbsp;&nbsp;&nbsp;[4.2 Measure UVIS1 & UVIS2 column medians separately and overplot on one figure](#overplotccds) <br>\n",
    " &nbsp;&nbsp;&nbsp;&nbsp;&nbsp;&nbsp;[4.3 Display image section and compute column & row mean](#imgsectionmean) <br>\n",
    " &nbsp;&nbsp;&nbsp;&nbsp;&nbsp;&nbsp;[4.4 Compute column mean for each read of `ima` image section](#columnavgima)<br>\n",
    "[5. Conclusions](#conclusions) <br>\n",
    "[Additional Resources](#resources) <br>\n",
    "[About the Notebook](#about) <br>\n",
    "[Citations](#cite) \n"
   ]
  },
  {
   "cell_type": "markdown",
   "metadata": {},
   "source": [
    "<a id=\"intro\"></a>\n",
    "\n",
    "## Introduction \n",
    "\n",
    "One of the crucial steps in any analysis of WFC3 data is to visually inspect the <br>\n",
    "images. Whether you are viewing every image in the dataset or just a few <br>\n",
    "suspected outliers, displaying fits images takes time. To speed up the process <br>\n",
    "of displaying WFC3 images, we have created a tool in Python, `display_image()`, <br>\n",
    "that is meant to be used in a Jupyter Notebook. Once the function is imported <br>\n",
    "into your Jupyter Notebook session, you enter the WFC3 fits image you <br>\n",
    "want to display and it shows the full science, error, and data quality arrays <br>\n",
    "with a good scaling and colorbar. If the observation is a full frame UVIS <br>\n",
    "exposure, then the two CCDs are displayed together as one image (i.e. a 4kx4k <br>\n",
    "image). The `display_image()` tool allows for some customization, such as <br>\n",
    "displaying only a section of the image as well as changing the colormap or scaling. <br>\n",
    "\n",
    "In addition to visually inspecting WFC3 exposures, it can be helpful to compute <br>\n",
    "and plot statistics of the image as well. One common technique to quantify WFC3 <br>\n",
    "images during analysis is to measure statistics of each individual column or row. <br>\n",
    "In this notebook we present a tool in Python, `row_column_stats()`, that is <br>\n",
    "meant to be used in a Jupyter Notebook. After importing the function into your <br>\n",
    "notebook session, you enter a WFC3 fits image along with the axis and <br>\n",
    "statistic you are interested in measuring. The function returns a plot of the <br>\n",
    "row (or column) statistic as a function of row (or column) number. In addition <br>\n",
    "to the plot, the function returns the row/column values and statistics being plotted. <br>\n",
    "This is useful if you want to plot multiple images on one figure. The <br>\n",
    "`row_column_stats()` tool allows for some customization, such as measuring <br>\n",
    "only a section of the image as well as choosing the axis (row or column) and the <br>\n",
    "statistic (mean, median, mode, or, standard deviation). <br>\n"
   ]
  },
  {
   "cell_type": "markdown",
   "metadata": {},
   "source": [
    "<a id=\"imports\"></a>\n",
    "## 1. Imports\n",
    "\n",
    "This notebook assumes you have created the virtual environment in [WFC3 Library's](https://github.com/spacetelescope/WFC3Library) installation instructions.\n",
    "\n",
    "We import: <br>\n",
    " <br>\n",
    "**•** *os* for setting environment variables <br>\n",
    " \n",
    "**•** *astroquery.mast Observations* for downloading data from MAST <br>\n",
    "**•** *matplotlib.pyplot* for plotting data\n",
    " \n",
    "**•** *display_image* for displaying a WFC3 image <br>\n",
    "**•** *row_column_stats* for computing statistics on a WFC3 image"
   ]
  },
  {
   "cell_type": "code",
   "execution_count": null,
   "metadata": {},
   "outputs": [],
   "source": [
    "import os\n",
    "\n",
    "from astroquery.mast import Observations\n",
    "import matplotlib.pyplot as plt\n",
    "\n",
    "from display_image import display_image\n",
    "from row_column_stats import row_column_stats\n",
    "\n",
    "%matplotlib inline"
   ]
  },
  {
   "cell_type": "markdown",
   "metadata": {},
   "source": [
    "<a id=\"download\"></a>\n",
    "## 2. Query MAST and download a WFC3 `flt.fits` and `ima.fits` image \n",
    "You may download the data from MAST using either the [Archive Search Engine](https://archive.stsci.edu/hst/search.php) or the [MAST Portal](https://mast.stsci.edu/portal/Mashup/Clients/Mast/Portal.html).\n",
    "\n",
    "Here, we download our images via `astroquery`. For more information, please look at the documentation for [Astroquery](https://astroquery.readthedocs.io/en/latest/),\n",
    "[Astroquery.mast](https://astroquery.readthedocs.io/en/latest/mast/mast.html), and \n",
    "[CAOM Field Descriptions](https://mast.stsci.edu/api/v0/_c_a_o_mfields.html), which is used for the `obs_table` variable.\n",
    "\n",
    "We download images of N2525 from proposal 15145, one being a `flt.fits` in WFC3/UVIS and the other being a `ima.fits` in WFC3/IR. After downloading the images, we move them to our current working directory (cwd)."
   ]
  },
  {
   "cell_type": "code",
   "execution_count": null,
   "metadata": {},
   "outputs": [],
   "source": [
    "query = [('idgga5*','UVIS','FLT',(2,3)),\n",
    "         ('i*','IR','IMA',(10,11))]\n",
    "\n",
    "for criteria in query:\n",
    "    # Get the observation records\n",
    "    obs_table = Observations.query_criteria(obs_id=criteria[0], proposal_id=15145, target_name='N2525', instrument_name=f\"WFC3/{criteria[1]}\")\n",
    "\n",
    "    # Get the listing of data products\n",
    "    products = Observations.get_product_list(obs_table)\n",
    "\n",
    "    # Filter the products for the file type\n",
    "    filtered_products = Observations.filter_products(products, productSubGroupDescription=criteria[2], dataproduct_type='image')\n",
    "\n",
    "    # Display the table\n",
    "    filtered_products[criteria[3][0]:criteria[3][1]]\n",
    "\n",
    "    # Download the images above\n",
    "    download_table = Observations.download_products(filtered_products[criteria[3][0]:criteria[3][1]], mrp_only=False)\n",
    "\n",
    "    # For convenience move file to cwd and remove empty download dir\n",
    "    for file in download_table['Local Path']:\n",
    "        filename = file.split('/')[-1]\n",
    "        os.rename(file, os.path.basename(file))\n",
    "        os.rmdir('mastDownload/HST/'+filename[:9])\n",
    "        \n",
    "    os.rmdir('mastDownload/HST/')\n",
    "    os.rmdir('mastDownload/')\n",
    "    "
   ]
  },
  {
   "cell_type": "markdown",
   "metadata": {},
   "source": [
    "List the fits files to verify they were moved properly"
   ]
  },
  {
   "cell_type": "code",
   "execution_count": null,
   "metadata": {},
   "outputs": [],
   "source": [
    "!ls -ltr *.fits"
   ]
  },
  {
   "cell_type": "markdown",
   "metadata": {},
   "source": [
    "<a id=\"display\"></a>\n",
    "## 3. `display_image`\n",
    "In this section, we demonstrate the functionality of `display_image`, a useful tool for quickly analyzing WFC3 images. The subsections explain how to display full images with metadata, individual WFC3/UVIS chip images, a section of an image with various colormaps/scaling, and individual WFC3/IR `ima` reads."
   ]
  },
  {
   "cell_type": "markdown",
   "metadata": {},
   "source": [
    "<a id=\"displayfull\"></a>\n",
    "### 3.1 Display the full images with metadata\n",
    "First, we display the `SCI`, `ERR`, and `DQ` arrays for each image and print header info. The default value for `printmeta` is `False`. In the cell below, we set the keyword `printmeta` to `True` to print useful information from the header of the file to the screen. The WFC3/UVIS image is in electrons and the WFC3/IR image is in electrons/second. See Section 2.2.3 of the [WFC3 Data Handbook](https://hst-docs.stsci.edu/wfc3dhb) for full descriptions of `SCI`, `ERR`, and `DQ` arrays."
   ]
  },
  {
   "cell_type": "code",
   "execution_count": null,
   "metadata": {},
   "outputs": [],
   "source": [
    "display_image('idgga5m1q_flt.fits',printmeta=True)\n",
    "display_image('idggabk1q_ima.fits',printmeta=True)"
   ]
  },
  {
   "cell_type": "markdown",
   "metadata": {},
   "source": [
    "<a id=\"perchip\"></a>\n",
    "### 3.2 Display UVIS1 & UVIS2 separately\n",
    "Next, we display the WFC3/UVIS chips separately. To select a section of an image, append [xstart:xend,ystart:yend] to the image name as shown below. <br>\n",
    "Notice how we need to specify the full axis range `[0:4096,0:2051]` and not simply just `[:,:2051]` as in standard `numpy` notation."
   ]
  },
  {
   "cell_type": "code",
   "execution_count": null,
   "metadata": {},
   "outputs": [],
   "source": [
    "print ('Display UVIS1')\n",
    "display_image('idgga5m1q_flt.fits[0:4096,2051:4102]') "
   ]
  },
  {
   "cell_type": "code",
   "execution_count": null,
   "metadata": {},
   "outputs": [],
   "source": [
    "print ('Display UVIS2')\n",
    "display_image('idgga5m1q_flt.fits[0:4096,0:2051]') "
   ]
  },
  {
   "cell_type": "markdown",
   "metadata": {},
   "source": [
    "<a id=\"colormap\"></a>\n",
    "### 3.3 Display an image section and change the `SCI` array colormap\n",
    "Then, we display `SCI` arrays with a different colormap. Regardless of how many colormaps are being changed, all three colormaps must be provided. The elements of `colormaps` sequentially correspond with the `SCI`, `ERR`, and `DQ` arrays."
   ]
  },
  {
   "cell_type": "code",
   "execution_count": null,
   "metadata": {},
   "outputs": [],
   "source": [
    "display_image('idgga5m1q_flt.fits[3420:3575,2590:2770]',\n",
    "              colormaps = [\"viridis\",\"Greys_r\",\"inferno_r\"])"
   ]
  },
  {
   "cell_type": "markdown",
   "metadata": {},
   "source": [
    "<a id=\"scaling\"></a>\n",
    "### 3.4 Change the scaling of the `SCI` and `ERR` arrays\n",
    "Now, we change the scaling of the `SCI` and `ERR` arrays. Regardless of how many scalings are being changed, all three scalings must be provided. The elements of `scaling` sequentially correspond with the `SCI`, `ERR`, and `DQ` arrays. The default scaling value of `None` uses `ginga.util.zscale.zscale()` for scaling (see [documentation](https://ginga.readthedocs.io/en/stable/) for more information). "
   ]
  },
  {
   "cell_type": "code",
   "execution_count": null,
   "metadata": {},
   "outputs": [],
   "source": [
    "display_image('idgga5m1q_flt.fits[3420:3575,2590:2770]',\n",
    "              colormaps = [\"viridis\",\"viridis\",\"inferno_r\"],\n",
    "              scaling = [(50000,80000),(None,400),(None,None)])"
   ]
  },
  {
   "cell_type": "markdown",
   "metadata": {},
   "source": [
    "<a id=\"allreads\"></a>\n",
    "### 3.5 Display each read of `ima` image section \n",
    "In addition to changing each `SCI` array's colormap and scaling, we display each read of the `ima` by setting `ima_multiread=True`."
   ]
  },
  {
   "cell_type": "code",
   "execution_count": null,
   "metadata": {},
   "outputs": [],
   "source": [
    "display_image('idggabk1q_ima.fits[43:55,299:311]',\n",
    "              colormaps = [\"viridis\",\"Greys_r\",\"inferno_r\"],\n",
    "              scaling=[(2,18),(None,None),(None,None)],\n",
    "              ima_multiread=True)"
   ]
  },
  {
   "cell_type": "markdown",
   "metadata": {},
   "source": [
    "<a id=\"row_col\"></a>\n",
    "## 4. `row_column_stats`\n",
    "In this section, we demonstrate the functionality of `row_column_stats`, a useful tool for quickly computing WFC3 statistics. The subsections explain how to compute row and column statistics for a full image, individual WFC3/UVIS chips, a section of an image, and individual `ima` reads. The row/column numbers are on the x-axis and the statistics are on the y-axis."
   ]
  },
  {
   "cell_type": "markdown",
   "metadata": {},
   "source": [
    "<a id=\"columnmedian\"></a>\n",
    "### 4.1 Compute column median and column standard deviation for a full image\n",
    "First, we plot the column median and standard deviations for our WFC3/UVIS image."
   ]
  },
  {
   "cell_type": "code",
   "execution_count": null,
   "metadata": {},
   "outputs": [],
   "source": [
    "# plot column median for the full image\n",
    "x,y = row_column_stats('idgga5m1q_flt.fits',\n",
    "                       stat='median',\n",
    "                       axis='column')\n",
    "\n",
    "# plot column standard deviation for the full image\n",
    "x,y = row_column_stats('idgga5m1q_flt.fits',\n",
    "                       stat='stddev',\n",
    "                       axis='column')"
   ]
  },
  {
   "cell_type": "markdown",
   "metadata": {},
   "source": [
    "<a id=\"overplotccds\"></a>\n",
    "### 4.2 Measure UVIS1 & UVIS2 column medians separately and overplot on one figure \n",
    "\n",
    "Next, we plot the column medians for each individual WFC3/UVIS chip."
   ]
  },
  {
   "cell_type": "code",
   "execution_count": null,
   "metadata": {},
   "outputs": [],
   "source": [
    "# get column median values for UVIS2 but don't plot \n",
    "x2,y2 = row_column_stats('idgga5m1q_flt.fits[0:4096,0:2051]',\n",
    "                         stat='median',\n",
    "                         axis='column',\n",
    "                         plot=False)\n",
    "\n",
    "# get column median values for UVIS1 but don't plot \n",
    "x1,y1 = row_column_stats('idgga5m1q_flt.fits[0:4096,2051:4102]',\n",
    "                         stat='median',\n",
    "                         axis='column',\n",
    "                         plot=False)\n",
    "\n",
    "# overplot UVIS1 and UVIS2 data on one figure \n",
    "plt.figure(figsize=(8,6),dpi=130)\n",
    "plt.grid(alpha=.5)\n",
    "plt.plot(x1,y1,marker='.',label='UVIS 1',color='k')\n",
    "plt.plot(x2,y2,marker='.',label='UVIS 2',color='C3')\n",
    "plt.title('WFC3/UVIS idgga5m1q_flt.fits')\n",
    "plt.xlabel('Column Number')\n",
    "plt.ylabel('Column Median [e-]')\n",
    "plt.legend()"
   ]
  },
  {
   "cell_type": "markdown",
   "metadata": {},
   "source": [
    "<a id=\"imgsectionmean\"></a>\n",
    "### 4.3 Display image section and compute row & column mean\n",
    "\n",
    "Now, we compute the row and column means for a section of our WFC3/UVIS image."
   ]
  },
  {
   "cell_type": "code",
   "execution_count": null,
   "metadata": {},
   "outputs": [],
   "source": [
    "# Display a section of the image\n",
    "display_image('idgga5m1q_flt.fits[3420:3575,2590:2770]')\n",
    "\n",
    "# plot row mean for a section of the image\n",
    "x,y= row_column_stats('idgga5m1q_flt.fits[3420:3575,2590:2770]',\n",
    "                      stat='mean',\n",
    "                      axis='row')\n",
    "\n",
    "# plot column mean for a section of the image\n",
    "x,y= row_column_stats('idgga5m1q_flt.fits[3420:3575,2590:2770]',\n",
    "                      stat='mean',\n",
    "                      axis='column')"
   ]
  },
  {
   "cell_type": "markdown",
   "metadata": {},
   "source": [
    "**Note: Without specifying `ylim`, the y-axis limits (above) are set to `matplotlib` defaults. <br>\n",
    "Set `ylim` to `(y1,y2)` (below) to create custom y-axis limits from the previous example.** <br>"
   ]
  },
  {
   "cell_type": "code",
   "execution_count": null,
   "metadata": {},
   "outputs": [],
   "source": [
    "y1 = 50\n",
    "y2 = 220\n",
    "\n",
    "# Display a section of the image\n",
    "display_image('idgga5m1q_flt.fits[3420:3575,2590:2770]')\n",
    "\n",
    "# plot row mean for single source with custom yaxis limits\n",
    "x,y= row_column_stats('idgga5m1q_flt.fits[3420:3575,2590:2770]',\n",
    "                      stat='mean',\n",
    "                      axis='row',\n",
    "                      ylim=(y1,y2))\n",
    "\n",
    "# plot column mean for single source with custom yaxis limits\n",
    "x,y= row_column_stats('idgga5m1q_flt.fits[3420:3575,2590:2770]',\n",
    "                      stat='mean',\n",
    "                      axis='column',\n",
    "                      ylim=(y1,y2))"
   ]
  },
  {
   "cell_type": "markdown",
   "metadata": {},
   "source": [
    "<a id=\"columnavgima\"></a>\n",
    "### 4.4 Compute column mean for each read of `ima` image section \n",
    "\n",
    "Finally, we compute the column means for the same section of each `ima` read."
   ]
  },
  {
   "cell_type": "code",
   "execution_count": null,
   "metadata": {},
   "outputs": [],
   "source": [
    "# Display a section of the image\n",
    "display_image('idggabk1q_ima.fits[43:55,299:311]')\n",
    "\n",
    "# plot column mean for section of ima\n",
    "x,y = row_column_stats('idggabk1q_ima.fits[43:55,299:311]',\n",
    "                       stat='mean',\n",
    "                       axis='column',\n",
    "                       ima_multiread=True)"
   ]
  },
  {
   "cell_type": "markdown",
   "metadata": {},
   "source": [
    "<a id=\"conclusions\"></a>\n",
    "## 5. Conclusions\n",
    "\n",
    "Thank you for walking through this notebook. Now while analyzing WFC3 data, you should be more familiar with:\n",
    "\n",
    "- Using `display_image` to quickly inspect the `SCI`, `ERR`, and `DQ` arrays of an image or image section. \n",
    "- Using `row_column_stats` to compute statistics on each individual column (or row) of an image or image section. \n",
    "\n",
    "\n",
    "#### Congratulations, you have completed the notebook!"
   ]
  },
  {
   "cell_type": "markdown",
   "metadata": {},
   "source": [
    "<a id=\"resources\"></a>\n",
    "## Additional Resources\n",
    "Below are some additional resources that may be helpful. Please send any questions through the [HST Helpdesk](https://stsci.service-now.com/hst).\n",
    "\n",
    "- [WFC3 Website](https://www.stsci.edu/hst/instrumentation/wfc3)\n",
    "- [WFC3 Instrument Handbook](https://hst-docs.stsci.edu/wfc3ihb)\n",
    "- [WFC3 Data Handbook](https://hst-docs.stsci.edu/wfc3dhb)\n",
    "- [Matplotlib.pyplot Colormaps](https://matplotlib.org/stable/tutorials/colors/colormaps.html)\n",
    "\n",
    "<a id=\"about\"></a>\n",
    "## About this Notebook\n",
    "\n",
    "**Author:** Benjamin Kuhn; WFC3 Instrument Team\n",
    "\n",
    "**Updated on:** 2021-10-04\n",
    "\n",
    "<a id=\"cite\"></a>\n",
    "## Citations\n",
    "\n",
    "If you use `numpy`, `matplotlib`, `astropy`, or `astroquery` for published research, please cite the authors.<br>\n",
    "Follow these links for more information about citing the libraries below:\n",
    "\n",
    "* [Citing `numpy`](https://numpy.org/citing-numpy/)\n",
    "* [Citing `matplotlib`](https://matplotlib.org/stable/users/project/citing.html)\n",
    "* [Citing `astropy`](https://www.astropy.org/acknowledging.html)\n",
    "* [Citing `astroquery`](https://astroquery.readthedocs.io/en/latest/license.html)\n",
    "<br>\n",
    "***\n",
    "[Top of Page](#top)\n",
    "<img style=\"float: right;\" src=\"https://raw.githubusercontent.com/spacetelescope/notebooks/master/assets/stsci_pri_combo_mark_horizonal_white_bkgd.png\" alt=\"Space Telescope Logo\" width=\"200px\"/> "
   ]
  },
  {
   "cell_type": "code",
   "execution_count": null,
   "metadata": {},
   "outputs": [],
   "source": []
  }
 ],
 "metadata": {
  "kernelspec": {
   "display_name": "Python 3",
   "language": "python",
   "name": "python3"
  },
  "language_info": {
   "codemirror_mode": {
    "name": "ipython",
    "version": 3
   },
   "file_extension": ".py",
   "mimetype": "text/x-python",
   "name": "python",
   "nbconvert_exporter": "python",
   "pygments_lexer": "ipython3",
   "version": "3.7.5"
  }
 },
 "nbformat": 4,
 "nbformat_minor": 4
}
