{
 "cells": [
  {
   "cell_type": "markdown",
   "metadata": {},
   "source": [
    "<a id=\"title\"></a>\n",
    "# Manual Recalibration with calwf3: Turning off the IR Linear Ramp Fit\n",
    "***\n",
    "\n",
    "## Learning Goals\n",
    "\n",
    "This notebook shows two reprocessing examples for WFC3/IR observations impacted by time-variable background (TVB).\n",
    "\n",
    "By the end of this tutorial, you will:\n",
    "- Analyze exposure statistics for each read in an IMA file using `pstat`.\n",
    "- Reprocess a single exposure and an image association using `calwf3`.\n",
    "- Combine the reprocessed exposures using `astrodrizzle`.\n",
    "\n",
    "## Table of Contents\n",
    "\n",
    "[Introduction](#intro) <br>\n",
    "[1. Imports](#imports) <br>\n",
    "[2. Download the data](#download) <br>\n",
    "[3. Query CRDS for reference files](#query) <br>\n",
    "[4. Diagnose TVB and reprocess a single exposure](#exec1) <br>\n",
    "[5. Reprocess multiple exposures in an association](#exec2) <br>\n",
    "[6. Conclusions](#conclusion) <br>\n",
    "[Additional Resources](#resources) <br>\n",
    "[About the Notebook](#about) <br>\n",
    "[Citations](#cite) <br>"
   ]
  },
  {
   "cell_type": "markdown",
   "metadata": {},
   "source": [
    "<a id=\"intro\"></a>\n",
    "## Introduction\n",
    "\n",
    "Exposures in the F105W and F110W filters may be impacted by Helium I emission from the Earth's atmosphere at 1.083 microns. This typically affects the reads taken closest in time to Earth occultation. The emission produces a flat background signal which is added to the total background in a subset of reads. In some cases, this non-linear signal may be strong enough to compromise the ramp fitting performed by ``calwf3``, which is designed to flag and remove cosmic rays and saturated reads. The affected calibrated FLT data products will have much larger noise and a non-gaussian sky background. \n",
    "\n",
    "This notebook demonstrates how to diagnose and correct for a non-linear background and is based on the 'Last-minus-first' technique described in WFC3 ISR 2016-16: [Reprocessing WFC3/IR Exposures Affected by Time-Variable Backgrounds](https://www.stsci.edu/files/live/sites/www/files/home/hst/instrumentation/wfc3/documentation/instrument-science-reports-isrs/_documents/2016/WFC3-2016-16.pdf). This turns off the ramp fitting step in ``calwf3`` and treats the IR detector like a CCD that accumulates charge and is read out only at the end of the exposure. In this case, the observed count rate is determined by simply subtracting the first from the last read of the detector and dividing by the time elapsed between the two reads.\n",
    "\n",
    "While non-linear background also impacts the IR grisms, the method described here should not be used to correct G102 and G141 observations, which are affected by a combination of Helium I, Zodiacal background, and scattered Earth light, each of which varies spatially across the detector. More detail on correcting grism data is provided in WFC3 ISR 2020-04: [The dispersed infrared background in WFC3 G102 and G141 observations](https://www.stsci.edu/files/live/sites/www/files/home/hst/instrumentation/wfc3/documentation/instrument-science-reports-isrs/_documents/2020/WFC3_IR_2020-04.pdf)."
   ]
  },
  {
   "cell_type": "markdown",
   "metadata": {},
   "source": [
    "<a id=\"imports\"></a>\n",
    "## 1. Imports\n",
    "\n",
    "This notebook assumes you have created the virtual environment in [WFC3 Library's](https://github.com/spacetelescope/WFC3Library) installation instructions.\n",
    "\n",
    "We import:\n",
    "- *os* for setting environment variables\n",
    "- *glob* for finding lists of files\n",
    "- *shutil* for managing directories\n",
    "\n",
    "- *numpy* for handling array functions\n",
    "- *matplotlib.pyplot* for plotting data\n",
    "- *astropy.io fits* for accessing FITS files\n",
    "- *astroquery.mast Observations* for downloading data from MAST\n",
    "\n",
    "- *wfc3tools pstat* for plotting statistics of WFC3 data\n",
    "- *wfc3tools calwf3* for calibrating WFC3 data\n",
    "- *ccdproc* for building the association\n",
    "- *stwcs* for updating the World Coordinate System\n",
    "- *drizzlepac astrodrizzle* for combining images"
   ]
  },
  {
   "cell_type": "code",
   "execution_count": null,
   "metadata": {},
   "outputs": [],
   "source": [
    "%matplotlib inline\n",
    "\n",
    "import os\n",
    "import glob\n",
    "import shutil \n",
    "\n",
    "import numpy as np\n",
    "import matplotlib.pyplot as plt\n",
    "from astropy.io import fits\n",
    "from astroquery.mast import Observations\n",
    "\n",
    "from wfc3tools import pstat\n",
    "from wfc3tools import calwf3\n",
    "from ccdproc import ImageFileCollection\n",
    "from stwcs import updatewcs\n",
    "from drizzlepac import astrodrizzle"
   ]
  },
  {
   "cell_type": "markdown",
   "metadata": {},
   "source": [
    "<a id=\"download\"></a>\n",
    "## 2. Download the data\n",
    "\n",
    "The following commands query MAST for the necessary products and then downloads them to the current directory. Here we obtain WFC3/IR observations from CANDELS program [12242](http://www.stsci.edu/cgi-bin/get-proposal-info?id=12442&observatory=HST), Visit BF. The data products requested are the ASN, RAW, IMA, FLT, and DRZ files.\n",
    "\n",
    "#### Warning: this cell may take a few minutes to complete."
   ]
  },
  {
   "cell_type": "code",
   "execution_count": null,
   "metadata": {
    "scrolled": true
   },
   "outputs": [],
   "source": [
    "data_list = Observations.query_criteria(obs_id='IBOHBF040')\n",
    "\n",
    "Observations.download_products(data_list['obsid'],project='CALWF3',download_dir='./data',\n",
    "                mrp_only=False,productSubGroupDescription=['ASN','RAW','IMA','FLT','DRZ'])\n",
    "\n",
    "science_files = glob.glob('data/mastDownload/HST/*/*fits')\n",
    "\n",
    "for im in science_files:\n",
    "    root = im.split('/')[-1]\n",
    "    os.rename(im,'./'+root)\n",
    "shutil.rmtree('data/')"
   ]
  },
  {
   "cell_type": "markdown",
   "metadata": {},
   "source": [
    "The association file for visit BF comprises six consecutive exposures in F105W acquired in a single visit over 3 orbits. Each orbit consists of two 1600 sec exposures, followed by the Earth occultation. Each exposure is dithered by a small fraction of the field of view, where the POSTARG values listed below are in arseconds."
   ]
  },
  {
   "cell_type": "code",
   "execution_count": null,
   "metadata": {},
   "outputs": [],
   "source": [
    "collec = ImageFileCollection('./',\n",
    "                             keywords=[\"asn_id\",\"targname\",\"filter\",\"samp_seq\",\"nsamp\",\"exptime\",\n",
    "                             \"postarg1\",\"postarg2\",\"date-obs\",\"time-obs\",], glob_include=\"*flt.fits\", ext=0)\n",
    "out_table = collec.summary\n",
    "out_table"
   ]
  },
  {
   "cell_type": "markdown",
   "metadata": {},
   "source": [
    "<a id=\"query\"></a>\n",
    "## 3. Query CRDS for reference files \n",
    "\n",
    "Before running `calwf3`, we need to set some environment variables for several subsequent calibration tasks.\n",
    "\n",
    "We will point to a subdirectory called `crds_cache/` using the IREF environment variable. The IREF variable is used for WFC3 reference files. Other instruments use other variables, e.g., JREF for ACS."
   ]
  },
  {
   "cell_type": "code",
   "execution_count": null,
   "metadata": {},
   "outputs": [],
   "source": [
    "os.environ['CRDS_SERVER_URL'] = 'https://hst-crds.stsci.edu'\n",
    "os.environ['CRDS_SERVER'] = 'https://hst-crds.stsci.edu'\n",
    "os.environ['CRDS_PATH'] = './crds_cache'\n",
    "os.environ['iref'] = './crds_cache/references/hst/wfc3/'"
   ]
  },
  {
   "cell_type": "markdown",
   "metadata": {},
   "source": [
    "The code block below will query CRDS for the best reference files currently available for these datasets and update the header keywords to point to these new files. We will use the Python package `os` to run terminal commands. In the terminal, the line would be:\n",
    "\n",
    "```crds bestrefs --files [filename] --sync-references=1 --update-bestrefs```\n",
    "\n",
    "...where 'filename' is the name of your fits file.\n",
    "\n",
    "#### Warning: this cell may take a few minutes to complete."
   ]
  },
  {
   "cell_type": "code",
   "execution_count": null,
   "metadata": {},
   "outputs": [],
   "source": [
    "raw_files = glob.glob('*_raw.fits')\n",
    "\n",
    "for file in raw_files:\n",
    "    command_line_input = 'crds bestrefs --files {:} --sync-references=1 --update-bestrefs'.format(file)\n",
    "    os.system(command_line_input)"
   ]
  },
  {
   "cell_type": "markdown",
   "metadata": {},
   "source": [
    "<a id=\"exec1\"></a>\n",
    "## 4. Diagnose TVB and reprocess a single exposure"
   ]
  },
  {
   "cell_type": "markdown",
   "metadata": {},
   "source": [
    "In this example, we assume that the observer desires to reprocess only a single exposure with the ramp fitting step turned off. This is done by setting the CRCORR switch to OMIT from the default value (PERFORM)."
   ]
  },
  {
   "cell_type": "markdown",
   "metadata": {},
   "source": [
    "First, we list the contents of the image association 'ibohbf040'. This provides the rootnames of the six dithered exposures. "
   ]
  },
  {
   "cell_type": "code",
   "execution_count": null,
   "metadata": {},
   "outputs": [],
   "source": [
    "fits.getdata('ibohbf040_asn.fits',1)"
   ]
  },
  {
   "cell_type": "markdown",
   "metadata": {},
   "source": [
    "Here, we compare the first two images in the set: 'ibohbfb7q' and 'ibohbfb9q'. The first is has a nominal background with a constant rate and the second has a strongly non-linear background."
   ]
  },
  {
   "cell_type": "code",
   "execution_count": null,
   "metadata": {},
   "outputs": [],
   "source": [
    "b7q_data = fits.getdata('ibohbfb7q_flt.fits', ext=1)\n",
    "b9q_data = fits.getdata('ibohbfb9q_flt.fits', ext=1)\n",
    "\n",
    "fig = plt.figure(figsize=(15,8))\n",
    "ax1 = fig.add_subplot(1,2,1)\n",
    "ax2 = fig.add_subplot(1,2,2)\n",
    "\n",
    "ax1.imshow(b7q_data, vmin=0.25,vmax=1.25,cmap='Greys_r',origin='lower')\n",
    "ax2.imshow(b9q_data, vmin=1.25,vmax=2.25,cmap='Greys_r',origin='lower')\n",
    "\n",
    "ax1.set_title('ibohbfb7q (Linear Bkg)',fontsize=20)\n",
    "ax2.set_title('ibohbfb9q (Non-linear Bkg)',fontsize=20)"
   ]
  },
  {
   "cell_type": "markdown",
   "metadata": {},
   "source": [
    "Next, we compare histograms of the two FLT frames.  Exposure 'ibohbfb9q' has a strongly non-gaussian background with three separate peaks due to a poor ramp fit during `calwf3` processing."
   ]
  },
  {
   "cell_type": "code",
   "execution_count": null,
   "metadata": {
    "scrolled": true
   },
   "outputs": [],
   "source": [
    "fig = plt.figure(figsize=(15,3))\n",
    "ax1 = fig.add_subplot(1,2,1)\n",
    "ax2 = fig.add_subplot(1,2,2)\n",
    "\n",
    "n, bins, patches = ax1.hist(b7q_data.flatten(),bins=200,range=(0,1))\n",
    "n, bins, patches = ax2.hist(b9q_data.flatten(),bins=200,range=(1,2))\n",
    "\n",
    "ax1.set_title('ibohbfb7q (Linear Bkg)',fontsize=15)\n",
    "ax2.set_title('ibohbfb9q (Non-linear Bkg)',fontsize=15)"
   ]
  },
  {
   "cell_type": "markdown",
   "metadata": {},
   "source": [
    "Next, we use `pstat` in `wfc3tools` to plot statistics for the individual reads in each IMA file. \n",
    "Here, we plot the midpoint of each read in units of count rate. For the first image, the background is relatively constant throughout the exposure at 0.5 e/s. In the second image, the background quickly increases from a value of 0.5 e/s and levels off at ~1.5 e/s toward the end of the exposure. "
   ]
  },
  {
   "cell_type": "code",
   "execution_count": null,
   "metadata": {
    "scrolled": true
   },
   "outputs": [],
   "source": [
    "imafiles = ('ibohbfb7q_ima.fits', 'ibohbfb9q_ima.fits')\n",
    "fig, axarr = plt.subplots(1, 2)\n",
    "axarr = axarr.reshape(-1)\n",
    "fig.set_size_inches(10, 3)\n",
    "fig.set_dpi(100)\n",
    "\n",
    "for i, ima in enumerate(imafiles):\n",
    "    time, counts = pstat(ima, stat='midpt', units='rate', plot=False)\n",
    "    axarr[i].plot(time, counts, '+', markersize=10)\n",
    "    axarr[i].set_title(ima)\n",
    "    axarr[i].set_xlabel('Exposure time (s)')\n",
    "    axarr[i].set_ylabel('Count Rate (e-/s)')"
   ]
  },
  {
   "cell_type": "markdown",
   "metadata": {},
   "source": [
    "To reprocess this image, we set the value of the header keyword CRCORR to \"OMIT\". This will perform all steps in the calibration pipeline except for the ramp fitting.  To see the current value of CRCORR, we use `astropy.io.fits.getval( ) `."
   ]
  },
  {
   "cell_type": "code",
   "execution_count": null,
   "metadata": {},
   "outputs": [],
   "source": [
    "fits.getval('ibohbfb9q_raw.fits', 'CRCORR', 0)"
   ]
  },
  {
   "cell_type": "markdown",
   "metadata": {},
   "source": [
    "Next, we edit the primary image header of the raw file to reflect the new value of CRCORR."
   ]
  },
  {
   "cell_type": "code",
   "execution_count": null,
   "metadata": {},
   "outputs": [],
   "source": [
    "fits.setval('ibohbfb9q_raw.fits', 'CRCORR', value='OMIT')"
   ]
  },
  {
   "cell_type": "markdown",
   "metadata": {},
   "source": [
    "Before running `calwf3`, we move the original pipeline products to a directory called `orig/`."
   ]
  },
  {
   "cell_type": "code",
   "execution_count": null,
   "metadata": {},
   "outputs": [],
   "source": [
    "os.mkdir('orig/')\n",
    "\n",
    "for imas in glob.glob('ibohbf*_ima.fits'):\n",
    "    shutil.move(imas,'orig/')\n",
    "for flts in glob.glob('ibohbf*_flt.fits'):\n",
    "    shutil.move(flts,'orig/') \n",
    "for driz in glob.glob('ibohbf*_drz.fits'):\n",
    "    shutil.move(driz,'orig/')     "
   ]
  },
  {
   "cell_type": "markdown",
   "metadata": {},
   "source": [
    "Finally, we run `calwf3` on the single raw exposure."
   ]
  },
  {
   "cell_type": "code",
   "execution_count": null,
   "metadata": {
    "scrolled": true
   },
   "outputs": [],
   "source": [
    "calwf3('ibohbfb9q_raw.fits')"
   ]
  },
  {
   "cell_type": "markdown",
   "metadata": {},
   "source": [
    "The product will be a single calibrated IMA and FLT image. We now compare the original FLT and the reprocessed FLT for a small 200x200 pixel region of the detector. "
   ]
  },
  {
   "cell_type": "code",
   "execution_count": null,
   "metadata": {},
   "outputs": [],
   "source": [
    "b9q_data    = fits.getdata('orig/ibohbfb9q_flt.fits', ext=1)\n",
    "b9q_newdata = fits.getdata('ibohbfb9q_flt.fits',      ext=1)\n",
    "\n",
    "fig = plt.figure(figsize=(15,8))\n",
    "ax1 = fig.add_subplot(1,2,1)\n",
    "ax2 = fig.add_subplot(1,2,2)\n",
    "\n",
    "ax1.imshow(b9q_data[520:720,750:970],    vmin=1.25,vmax=2.25,cmap='Greys_r',origin='lower')\n",
    "ax2.imshow(b9q_newdata[520:720,750:970], vmin=1.25,vmax=2.25,cmap='Greys_r',origin='lower')\n",
    "\n",
    "ax1.set_title('ibohbfb9q (Original)',   fontsize=20)\n",
    "ax2.set_title('ibohbfb9q (Reprocessed)',fontsize=20)"
   ]
  },
  {
   "cell_type": "markdown",
   "metadata": {},
   "source": [
    "Here we plot the image histogram showing the background in the original and reprocessed images."
   ]
  },
  {
   "cell_type": "code",
   "execution_count": null,
   "metadata": {
    "scrolled": true
   },
   "outputs": [],
   "source": [
    "fig = plt.figure(figsize=(15,3))\n",
    "ax1 = fig.add_subplot(1,2,1)\n",
    "ax2 = fig.add_subplot(1,2,2)\n",
    "\n",
    "n, bins, patches = ax1.hist(b9q_data.flatten(),   bins=200,range=(1,2))\n",
    "n, bins, patches = ax2.hist(b9q_newdata.flatten(),bins=200,range=(1,2))\n",
    "\n",
    "ax1.set_title('ibohbfb9q (Original FLT)',   fontsize=15)\n",
    "ax2.set_title('ibohbfb9q (Reprocessed FLT)',fontsize=15)"
   ]
  },
  {
   "cell_type": "markdown",
   "metadata": {},
   "source": [
    "The non-gaussian image histogram is now corrected in the reprocessed FLT and the distribution is centered at a mean background of 1.5 e/s. One caveat of this approach is that cosmic-rays are not cleaned in the reprocessed image and will need to be corrected when combining the six FLT frames with AstroDrizzle. This is demonstrated in the next example."
   ]
  },
  {
   "cell_type": "markdown",
   "metadata": {},
   "source": [
    "<a id=\"exec2\"></a>\n",
    "## 5. Reprocess multiple exposures in an association"
   ]
  },
  {
   "cell_type": "markdown",
   "metadata": {},
   "source": [
    "In this example, we inspect the other images in the association to determine which are impacted by time-variable background, and we reprocess all six images with `calwf3` and `astrodrizzle`.  \n",
    "\n",
    "Again, we list the contents of the association (asn) table."
   ]
  },
  {
   "cell_type": "code",
   "execution_count": null,
   "metadata": {},
   "outputs": [],
   "source": [
    "dat = fits.getdata('ibohbf040_asn.fits',1)\n",
    "dat"
   ]
  },
  {
   "cell_type": "markdown",
   "metadata": {},
   "source": [
    "We can also print only the rootnames (ipppssoots) in the association."
   ]
  },
  {
   "cell_type": "code",
   "execution_count": null,
   "metadata": {},
   "outputs": [],
   "source": [
    "dat['MEMNAME']"
   ]
  },
  {
   "cell_type": "markdown",
   "metadata": {},
   "source": [
    "Using `pstat`, we can identify which of the six images are impacted by time-variable background.\n",
    "\n",
    "Individual exposures b9q, bgq, and bkq show signs of strong time-variable background, where the change is more than a factor of 2. We will turn off the ramp fitting for these images and rerun `calwf3`.  "
   ]
  },
  {
   "cell_type": "code",
   "execution_count": null,
   "metadata": {},
   "outputs": [],
   "source": [
    "imafiles = sorted(glob.glob('orig/*ima.fits'))\n",
    "fig, axarr = plt.subplots(2, 3)\n",
    "axarr = axarr.reshape(-1)\n",
    "fig.set_size_inches(15, 8)\n",
    "fig.set_dpi(80)\n",
    "\n",
    "for i, ima in enumerate(imafiles):\n",
    "    time, counts = pstat(ima, stat='midpt', units='rate', plot=False)\n",
    "    axarr[i].plot(time, counts, '+', markersize=10)\n",
    "    axarr[i].set_title(ima[5:], fontsize=12)\n",
    "    axarr[i].set_ylabel('Count Rate (e-/s)')"
   ]
  },
  {
   "cell_type": "markdown",
   "metadata": {},
   "source": [
    "Here we edit the primary image header of the three RAW images to set CRCORR to the value OMIT."
   ]
  },
  {
   "cell_type": "code",
   "execution_count": null,
   "metadata": {},
   "outputs": [],
   "source": [
    "for rawfile in ['ibohbfb9q_raw.fits', 'ibohbfbgq_raw.fits', 'ibohbfbkq_raw.fits']:\n",
    "    fits.setval(rawfile, 'CRCORR', value='OMIT')"
   ]
  },
  {
   "cell_type": "markdown",
   "metadata": {},
   "source": [
    "Next, we remove the calibrated products from the first example and then run `calwf3` on the image association. "
   ]
  },
  {
   "cell_type": "code",
   "execution_count": null,
   "metadata": {},
   "outputs": [],
   "source": [
    "os.remove('ibohbfb9q_ima.fits')\n",
    "os.remove('ibohbfb9q_flt.fits')"
   ]
  },
  {
   "cell_type": "code",
   "execution_count": null,
   "metadata": {},
   "outputs": [],
   "source": [
    "calwf3('ibohbf040_asn.fits')\n",
    "\n",
    "#Alternatively, calwf3 may be run on a list of RAW files rather than the ASN\n",
    "\n",
    "#for raws in glob.glob('ibohbf*_raw.fits'):\n",
    "#    calwf3(raws)"
   ]
  },
  {
   "cell_type": "markdown",
   "metadata": {},
   "source": [
    "Finally we combine the reprocessed FLTs with AstroDrizzle.\n",
    "\n",
    "First, the World Coordinate System (WCS) of the calibrated images must be updated using `updatewcs`. This prepares the image for `astrodrizzle` to apply the various components of geometric distortion correction. \n",
    "\n",
    "When the parameter `use_db=False`, the WCS will be based on the coordinates of the Guide Star Catalogs in use at the time. No realignment of the images is performed, and this typically gives the best 'relative' astrometry between exposures in a visit, either in the same filter or across multiple filters. \n",
    "\n",
    "When `use_db=True`, the software will connect to the astrometry database and update the WCS to an absolute frame of reference, typically based on an external catalog such as Gaia. Here, the quality of the fit is dependent on the number of bright sources in each image, and in some cased the relative astrometry may not be optimal. "
   ]
  },
  {
   "cell_type": "code",
   "execution_count": null,
   "metadata": {},
   "outputs": [],
   "source": [
    "for flts in glob.glob('ibohbf*_flt.fits'):\n",
    "    updatewcs.updatewcs(input=flts, use_db=False)          "
   ]
  },
  {
   "cell_type": "markdown",
   "metadata": {},
   "source": [
    "Next, we use AstroDrizzle to combine the FLT frames, making use of internal CR-flagging algorithms to clean the images. "
   ]
  },
  {
   "cell_type": "code",
   "execution_count": null,
   "metadata": {},
   "outputs": [],
   "source": [
    "astrodrizzle.AstroDrizzle(input='ibohbf040_asn.fits', mdriztab=True, preserve=False, clean=True)"
   ]
  },
  {
   "cell_type": "markdown",
   "metadata": {},
   "source": [
    "The quality of the reprocessed DRZ product is significantly improved and the histogram of the background is narrower. Cosmic-rays which were present in the three reprocessed FLTs are effectively cleaned from the combined image. "
   ]
  },
  {
   "cell_type": "code",
   "execution_count": null,
   "metadata": {},
   "outputs": [],
   "source": [
    "drz_origdata = fits.getdata('orig/ibohbf040_drz.fits', ext=1)\n",
    "drz_newdata  = fits.getdata('ibohbf040_drz.fits',      ext=1)\n",
    "\n",
    "fig = plt.figure(figsize=(15,8))\n",
    "ax1 = fig.add_subplot(1,2,1)\n",
    "ax2 = fig.add_subplot(1,2,2)\n",
    "\n",
    "ax1.imshow(drz_origdata[520:720,750:970], vmin=0.4,vmax=0.6,cmap='Greys_r',origin='lower')\n",
    "ax2.imshow(drz_newdata[520:720,750:970],  vmin=0.4,vmax=0.6,cmap='Greys_r',origin='lower')\n",
    "\n",
    "ax1.set_title('Original DRZ',fontsize=20)\n",
    "ax2.set_title('Reprocessed DRZ',fontsize=20)"
   ]
  },
  {
   "cell_type": "code",
   "execution_count": null,
   "metadata": {},
   "outputs": [],
   "source": [
    "fig = plt.figure(figsize=(15,3))\n",
    "ax1 = fig.add_subplot(1,2,1)\n",
    "ax2 = fig.add_subplot(1,2,2)\n",
    "\n",
    "n, bins, patches = ax1.hist(drz_origdata.flatten(),bins=200,range=(0.4,0.52))\n",
    "n, bins, patches = ax2.hist(drz_newdata.flatten(), bins=200,range=(0.4,0.52))\n",
    "\n",
    "ax1.set_title('Original DRZ', fontsize=15)\n",
    "ax2.set_title('Reprocessed DRZ',fontsize=15)"
   ]
  },
  {
   "cell_type": "markdown",
   "metadata": {},
   "source": [
    "<a id=\"conclusion\"></a>\n",
    "## 6. Conclusions\n",
    "\n",
    "Thank you for walking through this notebook. Now using WFC3 data, you should be more familiar with:\n",
    "\n",
    "- Analyzing exposure statistics for each read in an IMA file using `pstat`.\n",
    "- Reprocessing a single exposure and an image association using `calwf3`.\n",
    "- Combining the reprocessed exposures using `astrodrizzle`.\n",
    "\n",
    "#### Congratulations, you have completed the notebook!"
   ]
  },
  {
   "cell_type": "markdown",
   "metadata": {},
   "source": [
    "<a id=\"resources\"></a>\n",
    "## Additional Resources\n",
    "Below are some additional resources that may be helpful. Please send any questions through the [HST Helpdesk](https://stsci.service-now.com/hst).\n",
    "\n",
    "- [WFC3 Website](https://www.stsci.edu/hst/instrumentation/wfc3)\n",
    "- [WFC3 Instrument Handbook](https://hst-docs.stsci.edu/wfc3ihb)\n",
    "- [WFC3 Data Handbook](https://hst-docs.stsci.edu/wfc3dhb)\n",
    "    - see section 3.5.2 for reference to this notebook\n",
    "    - see section 7.10 for further discussion of time-variable background\n",
    "\n",
    "    \n",
    "<a id=\"about\"></a>\n",
    "## About this Notebook\n",
    "\n",
    "**Authors:** Jennifer Mack, Harish Khandrika; WFC3 Instrument Team\n",
    "\n",
    "**Updated on:** 2021-09-13\n",
    "\n",
    "<a id=\"cite\"></a>\n",
    "## Citations\n",
    "\n",
    "If you use `numpy`, `astropy`, `astroquery`, `wfc3tools`, or `drizzlepac` for published research, please cite the\n",
    "authors. Follow these links for more information about citing the libraries below:\n",
    "\n",
    "* [Citing `numpy`](https://numpy.org/citing-numpy/)\n",
    "* [Citing `astropy`](https://www.astropy.org/acknowledging.html)\n",
    "* [Citing `astroquery`](https://astroquery.readthedocs.io/en/latest/)\n",
    "* [Citing `wfc3tools`](https://wfc3tools.readthedocs.io/en/latest/)\n",
    "* [Citing `drizzlepac`](https://drizzlepac.readthedocs.io/en/latest/LICENSE.html)\n",
    "\n",
    "***\n",
    "[Top of Page](#title)\n",
    "<img style=\"float: right;\" src=\"https://raw.githubusercontent.com/spacetelescope/notebooks/master/assets/stsci_pri_combo_mark_horizonal_white_bkgd.png\" alt=\"Space Telescope Logo\" width=\"200px\"/> "
   ]
  },
  {
   "cell_type": "code",
   "execution_count": null,
   "metadata": {},
   "outputs": [],
   "source": []
  }
 ],
 "metadata": {
  "kernelspec": {
   "display_name": "Python 3",
   "language": "python",
   "name": "python3"
  },
  "language_info": {
   "codemirror_mode": {
    "name": "ipython",
    "version": 3
   },
   "file_extension": ".py",
   "mimetype": "text/x-python",
   "name": "python",
   "nbconvert_exporter": "python",
   "pygments_lexer": "ipython3",
   "version": "3.7.5"
  }
 },
 "nbformat": 4,
 "nbformat_minor": 4
}
