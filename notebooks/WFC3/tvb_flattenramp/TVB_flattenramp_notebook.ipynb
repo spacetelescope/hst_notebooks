{
 "cells": [
  {
   "cell_type": "markdown",
   "metadata": {
    "slideshow": {
     "slide_type": "slide"
    }
   },
   "source": [
    "<a id=\"top\"></a>\n",
    "# Correcting for Helium Line Emission Background in IR Exposures using the \"Flatten-Ramp\" Technique\n",
    "***\n",
    "## Learning Goals\n",
    "This notebook shows how to identify IR exposures with time-variable Helium (1.083 micron) line emission background, and how to correct for it using the \"flatten-ramp\" technique. This method can be used to correct images affected by a sky background that does not vary across the field of view.  For recommendations on correcting for spatially variable background due to scattered light, see the [IR IMA Visualization Notebook](https://github.com/spacetelescope/WFC3Library/tree/master/notebooks/ir_ima_visualization) (O'Connor 2023).\n",
    "\n",
    "By the end of this tutorial, you will be able to:\n",
    "\n",
    "- Identify exposures with time-variable background.\n",
    "- Compute and analyze statistics for each read of an IMA file. \n",
    "- Reprocess a single exposure without cosmic ray corrections through `calwf3`.\n",
    "- Correct for time-variable background by subtracting the median background per read and rerunning the ramp-fitting step with `calwf3` turned back on.\n",
    "\n",
    "## Table of Contents\n",
    "\n",
    "[Introduction](#intro) <br>\n",
    "\n",
    "[1. Imports](#import) <br>\n",
    "\n",
    "[2. Download the Data](#downloaddata) <br>\n",
    "\n",
    "[3. Identifying Exposures with Time Variable Background](#3) <br>\n",
    "- [3.1 Displaying the Images](#3.1) <br>\n",
    "- [3.2 Plotting a Histogram of the Sky Background](#3.2) <br>\n",
    "- [3.3 Inspecting the IR Ramps](#3.3) <br>\n",
    "\n",
    "[4. Reprocessing a Single Exposure for Time Variable Background](#4.0)<br>\n",
    "- [4.1 Query CRDS for best reference files](#4.1)<br>\n",
    "- [4.2 Recalibrating affected data with 'ramp fitting' step turned off in `calwf3`](#4.2) <br>\n",
    "- [4.3 Remove Median Background per read from resulting IMA](#4.3) <br>\n",
    "- [4.4 Rerun `calwf3` on the corrected IMA with 'ramp fitting' turned back on](#4.4)\n",
    "\n",
    "[5. Comparing Original and Corrected FLT Products](#5)\n",
    "- [5.1 Displaying the Images](#5.1) <br>\n",
    "- [5.2 Plotting a Histogram of the Sky Background](#5.2) <br>\n",
    "- [5.3 Inspecting the IR Ramps](#5.3) <br>\n",
    "- [5.4 Comparing the Background Noise](#5.4) <br>\n",
    "- [5.5 Morphology](#5.5) <br>\n",
    "\n",
    "[6. Conclusion](#conclusions) <br>\n",
    "\n",
    "[Additional Resources](#add) <br>\n",
    "[About this Notebook](#about) <br>\n",
    "[Citations](#cite) <br>"
   ]
  },
  {
   "cell_type": "markdown",
   "metadata": {
    "slideshow": {
     "slide_type": "slide"
    }
   },
   "source": [
    "## Introduction <a id=\"intro\"></a>\n",
    "\n",
    "Helium I emission from the Earth's atmosphere may affect exposures taken in the F105W and F110W filters. Affected  reads are typically taken closest in time to when the spacecraft leaves the Earth's shadow and enters the illuminated atmosphere. The 1.083 micron emission produces a flat background signal which is added to the total background in affected reads. The strength of the emission background signal depends on the observed path-length through the illuminated atmosphere, and in some cases is strong enough to compromise the ramp fitting calibration performed by `calwf3`, which is initially designed to flag and remove cosmic rays and saturated reads as they come through. This results in the FLT image to have much larger noise and a non-gaussian sky background.\n",
    "\n",
    "This notebook demonstrates multiple ways on how to identify exposures with time variable background, and how to correct for these additional noise through the usage of the \"flatten-ramp\" technique described in [WFC3 ISR 2016-16](https://www.stsci.edu/files/live/sites/www/files/home/hst/instrumentation/wfc3/documentation/instrument-science-reports-isrs/_documents/2016/WFC3-2016-16.pdf). This technique turns off ramp fitting in `calwf3` and treats the IR detector like a CCD detector to avoid flagging and removing cosmic rays. We then remove the median background per read and add back in the full exposure countrate to preserve pixel statistics and then rerun `calwf3` on the resulting IMA file with ramp fitting turned back on. This results in a cosmic-ray and time variable background corrected FLT file.\n",
    "\n",
    "An alternate approach is the 'last-minus-first' technique described in the following [CALWF3 notebook](https://github.com/spacetelescope/WFC3Library/tree/master/notebooks/calwf3_recalibration). This turns off the ramp fitting step in `calwf3` (CRCORR=omit), treating the IR detector like a CCD accumulating charge and read out only at the end of the exposure. In this approach, the observed count rate is determined by simply subtracting the first read from the last of the detector and dividing by the time elapsed between the two reads. A disadvantage of this method is that this leaves cosmic-rays in the calibrated FLT frames which must be rejected with other software, such as AstroDrizzle.  However, this approach may be used for extended targets and crowded stellar fields where it may be difficult to detangle the sky background from the light from astronomical sources using simple median statistics.\n",
    "\n",
    "Time variable background also affects IR grisms. However, the method in this notebook should not be used to correct G102 and G141 observations, as they are affected by a combination of Helium I and Zodiacal background. Details on correcting grism data is provided in [WFC3 ISR 2017-05: Variable He I emission in grism data](https://www.stsci.edu/files/live/sites/www/files/home/hst/instrumentation/wfc3/documentation/instrument-science-reports-isrs/_documents/2017/WFC3-2017-05.pdf).\n",
    "\n",
    "\n"
   ]
  },
  {
   "cell_type": "markdown",
   "metadata": {
    "slideshow": {
     "slide_type": "slide"
    }
   },
   "source": [
    "## 1. Imports <a id=\"import\"></a>\n",
    "\n",
    "This notebook assumes you have created the virtual environment in [WFC3 Library's](https://github.com/spacetelescope/WFC3Library) installation instructions.\n",
    "\n",
    "Imports:\n",
    "- *os* for setting environment variables\n",
    "\n",
    "\n",
    "- *glob* for filtering out list of files\n",
    "\n",
    "\n",
    "- *shutil* for managing directories\n",
    "\n",
    "\n",
    "- *numpy* for array functionality\n",
    "\n",
    "\n",
    "- *pandas* for organizing data into a dataframe\n",
    "\n",
    "\n",
    "- *matplotlib.pyplot* for plotting data and images\n",
    "\n",
    "\n",
    "- *astropy.io fits* for opening FITS files \n",
    "\n",
    "\n",
    "- *astroquery.mast Observations* for downloading data from MAST\n",
    "\n",
    "\n",
    "- *ccdproc ImageFileCollection* for building the association. \n",
    "\n",
    "\n",
    "- *wfc3tools* for computing statistics on IMA files."
   ]
  },
  {
   "cell_type": "code",
   "execution_count": null,
   "metadata": {
    "slideshow": {
     "slide_type": "fragment"
    }
   },
   "outputs": [],
   "source": [
    "import os \n",
    "import glob \n",
    "import shutil\n",
    "\n",
    "import numpy as np\n",
    "import pandas as pd\n",
    "import matplotlib.pyplot as plt\n",
    "%matplotlib inline\n",
    "\n",
    "from astropy.io import fits\n",
    "from astroquery.mast import Observations\n",
    "from ccdproc import ImageFileCollection\n",
    "import wfc3tools\n"
   ]
  },
  {
   "cell_type": "markdown",
   "metadata": {},
   "source": [
    "## 2. Download the Data <a id=\"downloaddata\"></a>\n",
    "\n",
    "First, we query MAST for the necessary data and download them to the current directory.\n",
    "\n",
    "We obtain WFC3/IR observations from Visit BF of CANDELS program [12242](https://www.stsci.edu/cgi-bin/get-proposal-info?id=12442&observatory=HST). ASN, RAW, IMA, and FLT files are requested.\n",
    "\n",
    "**Warning**: This cell may take a few minutes to complete depending on computer speed and storage."
   ]
  },
  {
   "cell_type": "code",
   "execution_count": null,
   "metadata": {},
   "outputs": [],
   "source": [
    "data_list = Observations.query_criteria(obs_id='IBOHBF*');\n",
    "Observations.download_products(data_list['obsid'],project='CALWF3',mrp_only=False,download_dir='./data',\n",
    "                               productSubGroupDescription=['ASN','RAW','IMA','FLT']);\n",
    "\n",
    "science_files = glob.glob('data/mastDownload/HST/*/*fits');\n",
    "\n",
    "for im in science_files:\n",
    "    root = im.split('/')[-1];\n",
    "    os.rename(im,'./'+root);\n",
    "shutil.rmtree('data/');"
   ]
  },
  {
   "cell_type": "markdown",
   "metadata": {},
   "source": [
    "Visit BF association file *ibohbf040_asn.fits* contains a single visit over 3 orbits with 6 consecutive exposures in F105W dithered by a small fraction of the field of view. Each orbit consists of 2 back-to-back 1600 second exposure followed by the Earth occulation."
   ]
  },
  {
   "cell_type": "code",
   "execution_count": null,
   "metadata": {},
   "outputs": [],
   "source": [
    "collec = ImageFileCollection('./',\n",
    "                             keywords=[\"asn_id\",\"targname\",\"filter\",\"samp_seq\",\"nsamp\",\"exptime\",\n",
    "                             \"postarg1\",\"postarg2\",\"date-obs\",\"time-obs\",], glob_include=\"*flt.fits\", ext=0)\n",
    "out_table = collec.summary\n",
    "out_table"
   ]
  },
  {
   "cell_type": "markdown",
   "metadata": {},
   "source": [
    "## 3. Identifying Exposures with Time Variable Background <a id=\"3\"></a>\n",
    "\n",
    "There are three ways to identify exposures with poor ramp fitting due to time variable background:\n",
    "1. Display the FLT images and look for unusually large noise.\n",
    "\n",
    "\n",
    "2. Plot a histogram of the FLT sky background and look for a non-gaussian distribution.\n",
    "\n",
    "\n",
    "3. Look for non-linearity in the median background of each ramp in the IMA file.\n",
    "\n",
    "\n",
    "There are several exposures in this visit that are impacted by time variable background. For conciseness, this notebook will focus only on the first two exposures in the visit. Both exposures make up a single orbit. The first exposure *ibohbfb7q* is not impacted, while the second exposure *ibohbfb9q* suffers from additional time variable background."
   ]
  },
  {
   "cell_type": "markdown",
   "metadata": {},
   "source": [
    "### 3.1 Displaying the Images <a id=\"3.1\"></a>\n",
    "An FLT exposure with a poor ramp fit will have a noisier background than a FLT exposure with a good ramp fitting."
   ]
  },
  {
   "cell_type": "code",
   "execution_count": null,
   "metadata": {},
   "outputs": [],
   "source": [
    "flt1=fits.getdata('ibohbfb7q_flt.fits',ext=1)\n",
    "flt2=fits.getdata('ibohbfb9q_flt.fits',ext=1)\n",
    "\n",
    "fig=plt.figure(figsize=(20,8))\n",
    "ax1=fig.add_subplot(1,2,1)\n",
    "ax2=fig.add_subplot(1,2,2)\n",
    "\n",
    "A = ax1.imshow(flt1, vmin=0.25,vmax=1.25,cmap='Greys_r',origin='lower')\n",
    "B = ax2.imshow(flt2, vmin=1.25,vmax=2.25,cmap='Greys_r',origin='lower')\n",
    "ax1.set_title('ibohbfb7q (Linear Bkg)',fontsize=20)\n",
    "ax2.set_title('ibohbfb9q (Time Variable Bkg)',fontsize=20)\n",
    "fig.colorbar(A,ax=ax1)\n",
    "fig.colorbar(B,ax=ax2)"
   ]
  },
  {
   "cell_type": "markdown",
   "metadata": {},
   "source": [
    "### 3.2 Plotting a Histogram of the Background <a id=\"3.2\"></a>\n",
    "\n",
    "Impacted FLT exposures will typically have a non-gaussian background, often consisting of a double peak and a large sigma."
   ]
  },
  {
   "cell_type": "code",
   "execution_count": null,
   "metadata": {
    "scrolled": true
   },
   "outputs": [],
   "source": [
    "flt1f = flt1.flatten()\n",
    "flt2f = flt2.flatten()\n",
    "\n",
    "fig=plt.figure(figsize=(20,5))\n",
    "ax1=fig.add_subplot(1,2,1)\n",
    "ax2=fig.add_subplot(1,2,2)\n",
    "\n",
    "n, bins, patches = ax1.hist(flt1f,bins=200,range=(0,1))\n",
    "n, bins, patches = ax2.hist(flt2f,bins=200,range=(1,2))\n",
    "\n",
    "ax1.set_title('ibohbfb7q (Linear Bkg)',fontsize=15)\n",
    "ax2.set_title('ibohbfb9q (Time Variable Bkg)',fontsize=15)"
   ]
  },
  {
   "cell_type": "markdown",
   "metadata": {},
   "source": [
    "### 3.3 Inspecting the IR Ramps <a id=\"3.3\"></a>\n",
    "We use the *pstat* task in wfc3tools to compute statistics up the stack of each IMA image. We use the midpoint of each ramp as a good representation of the total background, due to the target being mostly blank sky."
   ]
  },
  {
   "cell_type": "markdown",
   "metadata": {},
   "source": [
    "#### Plotting Count vs. Time\n",
    "\n",
    "The median signal in the first image accumulates linearly, while the affected image's median signal accumulates non-linearly over the exposure."
   ]
  },
  {
   "cell_type": "code",
   "execution_count": null,
   "metadata": {},
   "outputs": [],
   "source": [
    "imafiles = ('ibohbfb7q_ima.fits','ibohbfb9q_ima.fits')\n",
    "fig, axarr = plt.subplots(1,2,figsize=(15,5))\n",
    "fig.set_dpi(100)\n",
    "\n",
    "for i, ima in enumerate(imafiles):\n",
    "    time, counts = wfc3tools.pstat(ima,stat='midpt',units='counts',plot=False)\n",
    "    axarr[i].plot(time,counts,'+',markersize=8)\n",
    "    axarr[i].set_title(ima)\n",
    "    axarr[i].set_xlabel('Exposure Time (s)')\n",
    "    axarr[i].set_ylabel('Counts (e-)')"
   ]
  },
  {
   "cell_type": "markdown",
   "metadata": {},
   "source": [
    "#### Plotting Count Rate versus Time\n",
    "The median count rate of the first image is relatively flat at ~0.5 electrons/sec, which is primarily zodiacal light. There is a small excess signal seen in the first few ramps, but this is unlikely to impact `calwf3`'s ramp fitting step. The median count rate of the affected image varies from ~0.5 electrons/sec at the beginning of the exposure to ~1.5 electrons/sec at the end of the exposure, nearly a change by a factor of ~3. Inspecting the ramp of *ibohbfb9q_ima* reveals that the background signal due to the helium line emission increased rapidly in the middle of the exposure then flattens at the end."
   ]
  },
  {
   "cell_type": "code",
   "execution_count": null,
   "metadata": {},
   "outputs": [],
   "source": [
    "imafiles = ('ibohbfb7q_ima.fits','ibohbfb9q_ima.fits')\n",
    "ylim = [(0.3,0.7),(0.3,1.8)]\n",
    "fig, axarr = plt.subplots(1,2,figsize=(15,5))\n",
    "fig.set_dpi(100)\n",
    "\n",
    "for i, ima in enumerate(imafiles):\n",
    "    time, counts = wfc3tools.pstat(ima,stat='midpt',units='rate',plot=False)\n",
    "    axarr[i].plot(time,counts,'+',markersize=8)\n",
    "    axarr[i].set_title(ima)\n",
    "    axarr[i].set_xlabel('Exposure Time (s)')\n",
    "    axarr[i].set_ylabel('Count Rate (e-/s)')\n",
    "    axarr[i].set_ylim(ylim[i])"
   ]
  },
  {
   "cell_type": "markdown",
   "metadata": {},
   "source": [
    "## 4. Reprocessing a Single Exposure for Time Variable Background <a id=\"4.0\"></a>\n",
    "\n",
    "Now that we have identified signs of time variable background, the next step is to reprocess the data to improve the quality of the FLT data product.\n",
    "In brief, the steps are as follows:\n",
    "\n",
    "1. Query CRDS for best reference files.\n",
    "\n",
    "\n",
    "2. Recalibrate affected raw data with 'ramp fitting' step turned off using `calwf3`.\n",
    "\n",
    "\n",
    "3. Remove the median background per read from the resulting IMA file.\n",
    "\n",
    "\n",
    "4. Rerun `calwf3` on the corrected IMA, with 'ramp fitting' turned back on."
   ]
  },
  {
   "cell_type": "markdown",
   "metadata": {},
   "source": [
    "### 4.1 Query CRDS for Best Reference Files <a id=\"4.1\"></a>\n",
    "\n",
    "We first set environment variables for several calibration tasks.\n",
    "\n",
    "We point to subdirectory `crds_cache/` using the IREF environment variable. The IREF variable is used for WFC3 reference files. "
   ]
  },
  {
   "cell_type": "code",
   "execution_count": null,
   "metadata": {},
   "outputs": [],
   "source": [
    "os.environ['CRDS_SERVER_URL'] = 'https://hst-crds.stsci.edu'\n",
    "os.environ['CRDS_SERVER'] = 'https://hst-crds.stsci.edu'\n",
    "os.environ['CRDS_PATH'] = './crds_cache'\n",
    "os.environ['iref'] = './crds_cache/references/hst/wfc3/'"
   ]
  },
  {
   "cell_type": "markdown",
   "metadata": {},
   "source": [
    "We now download the \"bestrefs\" for these RAW files.\n",
    "\n",
    "The code block belows queries CRDS for the current best reference files for the dataset and updates the header keyword to point to these new files. The python package `os` is used to run terminal commands.\n",
    "\n",
    "**Warning**: This cell may take a few minutes to complete depending on computer speed and storage."
   ]
  },
  {
   "cell_type": "code",
   "execution_count": null,
   "metadata": {},
   "outputs": [],
   "source": [
    "raw_files = glob.glob('*_raw.fits')\n",
    "\n",
    "for fil in raw_files:\n",
    "    !crds bestrefs --files $fil --sync-references=1 --update-bestrefs;"
   ]
  },
  {
   "cell_type": "markdown",
   "metadata": {},
   "source": [
    "### 4.2 Recalibrating affected data with 'ramp fitting' step turned off in `calwf3` <a id=\"4.2\"></a>\n",
    "\n",
    "Next, we run `calwf3` on the affected file *ibohbfb9q* with CRCORR=OMIT to perform all steps except the ramp fitting."
   ]
  },
  {
   "cell_type": "code",
   "execution_count": null,
   "metadata": {},
   "outputs": [],
   "source": [
    "os.rename('ibohbfb9q_ima.fits', 'ibohbfb9q_ima_orig.fits')\n",
    "os.rename('ibohbfb9q_flt.fits', 'ibohbfb9q_flt_orig.fits')\n",
    "\n",
    "raw_file = 'ibohbfb9q_raw.fits'\n",
    "raw=fits.open(raw_file,mode='update')\n",
    "raw[0].header['CRCORR'] ='OMIT'\n",
    "raw.flush()\n",
    "\n",
    "wfc3tools.calwf3(raw_file );\n",
    "\n",
    "os.rename('ibohbfb9q_flt.fits', 'ibohbfb9q_flt_norampfit.fits')"
   ]
  },
  {
   "cell_type": "markdown",
   "metadata": {},
   "source": [
    "### 4.3 Remove Median Background per read from resulting IMA <a id=\"4.3\"></a>\n",
    "Next, the median background level from each read of the resulting IMA is subtracted from the read, and is later added back to the full exposure to preserve pixel statistics.\n",
    "\n",
    "You can define a specific subregion for stats, as well as add additional lower or upper thresholds to fine-tune the calculation of the sky median value. Here, we use the median value of the entire image minus the 5 pixel wide overscan regions with no sigma clipping.\n",
    "\n",
    "This technique works best for relatively sparse fields, where the median value of the ramp is equivalent to the sky level."
   ]
  },
  {
   "cell_type": "code",
   "execution_count": null,
   "metadata": {},
   "outputs": [],
   "source": [
    "ima = fits.open(raw_file.replace('raw','ima'), mode ='update')\n",
    "\n",
    "# You can define a subregion for stats. Here we use the whole image, minus the 5 pixel wide overscan regions\n",
    "stats_region =[[5,1014], [5,1014]]\n",
    "slx = slice(stats_region[0][0], stats_region[0][1])\n",
    "sly = slice(stats_region[1][0], stats_region[1][1])\n",
    "\n",
    "# Subtract the median countrate from each read and add back the full exposure countrate to preserve pixel statistics\n",
    "   \n",
    "total_countrate = np.median(ima['SCI',1].data[sly, slx])\n",
    "median = []\n",
    "sci_num = []\n",
    "for i in range(ima[0].header['NSAMP'] -1):\n",
    "    med = np.median(ima['SCI',i+1].data[sly, slx])\n",
    "    ima['SCI',i+1].data += total_countrate - med\n",
    "    print('%s, [SCI,%d], median_bkg: %.2f' %(raw_file, i+1, med))\n",
    "    sci_num.append(i+1)\n",
    "    median.append(med)\n",
    "    \n",
    "plt.figure(figsize=(8,5))\n",
    "plt.plot(sci_num,median)\n",
    "plt.gca().invert_xaxis()\n",
    "plt.title(\"Median Background vs. SCI Exposure Number\")\n",
    "plt.xlabel('SCI Exposure Number')\n",
    "plt.ylabel('Median Background Value (e-)')\n",
    "# Turn back on the ramp fitting for running calwf3 in the next step\n",
    "ima[0].header['CRCORR'] ='PERFORM'\n",
    "\n",
    "# Write the updated IMA\n",
    "ima.flush()"
   ]
  },
  {
   "cell_type": "markdown",
   "metadata": {},
   "source": [
    "**Note**: [SCI,15] is the first read and [SCI,1] is the last read of the IR image.\n",
    "\n",
    "From the printed median background values, we can see that the increased background signal occured in the middle and the end of the exposure, just prior to Earth occulation."
   ]
  },
  {
   "cell_type": "markdown",
   "metadata": {},
   "source": [
    "### 4.4 Rerun `calwf3` on the corrected IMA, with 'ramp fitting' turned back on <a id=\"4.4\"></a>\n",
    "\n",
    "We resume `calwf3` on the cleaned IMA with the CRCORR step turned on. This will produce a corrected IMA and FLT image."
   ]
  },
  {
   "cell_type": "code",
   "execution_count": null,
   "metadata": {},
   "outputs": [],
   "source": [
    "wfc3tools.calwf3(raw_file.replace('raw','ima'));\n",
    "\n",
    "### Clean up and rename files\n",
    "os.remove('ibohbfb9q_ima.fits')\n",
    "os.rename('ibohbfb9q_ima_ima.fits','ibohbfb9q_ima.fits')\n",
    "os.rename('ibohbfb9q_ima_flt.fits','ibohbfb9q_flt.fits')"
   ]
  },
  {
   "cell_type": "markdown",
   "metadata": {},
   "source": [
    "## 5. Comparing Original and Corrected FLT products <a id=\"5\"></a>\n",
    "\n",
    "Here we compare the original and corrected FLT products of *ibogbfb9q* and the unaffected *ibohbfb7q*."
   ]
  },
  {
   "cell_type": "markdown",
   "metadata": {},
   "source": [
    "### 5.1 Displaying the Images <a id=\"5.1\"></a>\n",
    "Here we see that the corrected FLT image has reduced in visible noise."
   ]
  },
  {
   "cell_type": "code",
   "execution_count": null,
   "metadata": {},
   "outputs": [],
   "source": [
    "##Display the images\n",
    "flt1    =fits.getdata('ibohbfb7q_flt.fits'     ,ext=1)\n",
    "flt2    =fits.getdata('ibohbfb9q_flt_orig.fits',ext=1)\n",
    "flt2corr=fits.getdata('ibohbfb9q_flt.fits'     ,ext=1)\n",
    "\n",
    "fig=plt.figure(figsize=(20,10))\n",
    "ax1=fig.add_subplot(1,3,1)\n",
    "ax2=fig.add_subplot(1,3,2)\n",
    "ax3=fig.add_subplot(1,3,3)\n",
    "\n",
    "A = ax1.imshow(flt1,    vmin=0.25,vmax=1.25,cmap='Greys_r',origin='lower')\n",
    "B = ax2.imshow(flt2,    vmin=1.30,vmax=2.30,cmap='Greys_r',origin='lower')\n",
    "C = ax3.imshow(flt2corr,vmin=1.30,vmax=2.30,cmap='Greys_r',origin='lower')\n",
    "\n",
    "ax1.set_title('ibohbfb7q (Linear Bkg)'     ,fontsize=20)\n",
    "ax2.set_title('ibohbfb9q (Time Variable Bkg)' ,fontsize=20)\n",
    "ax3.set_title('ibohbfb9q (Corrected Bkg)',fontsize=20)\n",
    "\n",
    "fig.colorbar(A,ax=ax1,shrink=.5)\n",
    "fig.colorbar(B,ax=ax2,shrink=.49)\n",
    "fig.colorbar(C,ax=ax3,shrink=.5)"
   ]
  },
  {
   "cell_type": "markdown",
   "metadata": {},
   "source": [
    "### 5.2 Plotting a Histogram of the Sky Background <a id=\"5.2\"></a>\n",
    "The corrected FLT product of the affected image now has a gaussian distribution that is expected from the sky background."
   ]
  },
  {
   "cell_type": "code",
   "execution_count": null,
   "metadata": {},
   "outputs": [],
   "source": [
    "### Plot the histograms\n",
    "flt1f     = flt1.flatten()\n",
    "flt2f     = flt2.flatten()\n",
    "flt2fcorr = flt2corr.flatten()\n",
    "\n",
    "fig=plt.figure(figsize=(20,5))\n",
    "ax1=fig.add_subplot(1,3,1)\n",
    "ax2=fig.add_subplot(1,3,2)\n",
    "ax3=fig.add_subplot(1,3,3)\n",
    "\n",
    "n, bins, patches = ax1.hist(flt1f,    bins=200,range=(0,1))\n",
    "n, bins, patches = ax2.hist(flt2f,    bins=200,range=(1,2))\n",
    "n, bins, patches = ax3.hist(flt2fcorr,bins=200,range=(1,2))\n",
    "\n",
    "ax1.set_title('ibohbfb7q (Linear Bkg)',fontsize=20)\n",
    "ax2.set_title('ibohbfb9q (Time Variable Bkg)',fontsize=20)\n",
    "ax3.set_title('ibohbfb9q (Corrected)',fontsize=20)"
   ]
  },
  {
   "cell_type": "markdown",
   "metadata": {},
   "source": [
    "### 5.3 Inspecting the IR Ramps <a id=\"5.3\"></a>\n",
    "\n",
    "Below we plot the counts versus time for the original and corrected ramp of the affected exposure *ibohbfb9q*. The median background rate is now linear across all of the ramps."
   ]
  },
  {
   "cell_type": "code",
   "execution_count": null,
   "metadata": {},
   "outputs": [],
   "source": [
    "imafiles = ('ibohbfb9q_ima_orig.fits','ibohbfb9q_ima.fits')\n",
    "ylim = [(0.3,0.7),(0.3,1.8)]\n",
    "fig, axarr = plt.subplots(1,2,figsize=(15,5))\n",
    "fig.set_dpi(100)\n",
    "\n",
    "for i, ima in enumerate(imafiles):\n",
    "    time, counts = wfc3tools.pstat(ima,stat='midpt',units='counts',plot=False)\n",
    "    axarr[i].plot(time,counts,'+',markersize=8)\n",
    "    axarr[i].set_title(ima)\n",
    "    axarr[i].set_xlabel('Exposure Time (s)')\n",
    "    axarr[i].set_ylabel('counts (e-)')"
   ]
  },
  {
   "cell_type": "markdown",
   "metadata": {},
   "source": [
    "Here we plot the  median count rate versus time for the original and corrected ramp. We see the corrected image now has a flat median count rate."
   ]
  },
  {
   "cell_type": "code",
   "execution_count": null,
   "metadata": {},
   "outputs": [],
   "source": [
    "imafiles = ('ibohbfb9q_ima_orig.fits','ibohbfb9q_ima.fits')\n",
    "ylim = [(0.3,1.8),(0.3,1.8)]\n",
    "fig, axarr = plt.subplots(1,2,figsize=(15,5))\n",
    "fig.set_dpi(100)\n",
    "\n",
    "for i, ima in enumerate(imafiles):\n",
    "    time, counts = wfc3tools.pstat(ima,stat='midpt',units='rate',plot=False)\n",
    "    axarr[i].plot(time,counts,'+',markersize=8)\n",
    "    axarr[i].set_title(ima)\n",
    "    axarr[i].set_xlabel('Exposure Time (s)')\n",
    "    axarr[i].set_ylabel('Count Rate (e-/s)')\n",
    "    axarr[i].set_ylim(ylim[i])"
   ]
  },
  {
   "cell_type": "markdown",
   "metadata": {},
   "source": [
    "### 5.4 Comparing the Background Noise <a id=\"5.4\"></a>\n",
    "Below we compute the mean, median, and standard deviation (electrons/sec) of the different FLT data products."
   ]
  },
  {
   "cell_type": "code",
   "execution_count": null,
   "metadata": {},
   "outputs": [],
   "source": [
    "w=np.where((0. < flt1f) & (flt1f < 1.))\n",
    "flt1_mean=  np.mean(flt1f[w])\n",
    "flt1_med =np.median(flt1f[w])\n",
    "flt1_std =   np.std(flt1f[w])\n",
    "\n",
    "w=np.where((1. < flt2f) & (flt2f < 2.))\n",
    "flt2_mean=  np.mean(flt2f[w])\n",
    "flt2_med =np.median(flt2f[w])\n",
    "flt2_std =   np.std(flt2f[w])\n",
    "\n",
    "w=np.where((1. < flt2fcorr) & (flt2fcorr < 2.))\n",
    "flt2f_mean=  np.mean(flt2fcorr[w])\n",
    "flt2f_med =np.median(flt2fcorr[w])\n",
    "flt2f_std =   np.std(flt2fcorr[w])\n",
    "\n",
    "ramp = ['Linear Bkg','Time Variable Bkg','Corrected Bkg']\n",
    "filename = ['ibohbfb7q_flt','ibohbfb9q_flt_orig.fits','ibohbfb9q_flt.fits']\n",
    "mean = [flt1_mean,flt2_mean,flt2f_mean]\n",
    "med = [flt1_med,flt2_med,flt2f_med]\n",
    "std = [flt1_std,flt2_std,flt2f_std]\n",
    "\n",
    "Table = {\n",
    "    \"RAMP\" : ramp,\n",
    "    \"Filename\" : filename,\n",
    "    \"Mean\": mean,\n",
    "    \"Median\": med,\n",
    "    \"Stdev\": std,\n",
    "}\n",
    "df = pd.DataFrame(Table)\n",
    "df"
   ]
  },
  {
   "cell_type": "markdown",
   "metadata": {},
   "source": [
    "Here we can see that the corrected background of the affected FLT file has a standard deviation that improved by a factor of ~4. This corrected standard deviation is also more agreeable with the standard deviation of the linear background of the unaffected image *ibohbfb7q*."
   ]
  },
  {
   "cell_type": "markdown",
   "metadata": {},
   "source": [
    "### 5.5 Morphology <a id=\"5.5\"></a>\n",
    "The improved FLT products can be useful for studies on faint, extended sources.\n",
    "Here, we plot 25\"x25\" cutouts of the original and corrected FLT data product. The corrected FLT product no longer shows a bimodal distribution in the pixel values (due to poor ramp fit) and therefore appears less noisy. The reprocessed image will now produce more accurate photometry and have reduced systematic errors."
   ]
  },
  {
   "cell_type": "code",
   "execution_count": null,
   "metadata": {},
   "outputs": [],
   "source": [
    "##Display the images\n",
    "flt2    =fits.getdata('ibohbfb9q_flt_orig.fits',ext=1)\n",
    "flt2corr=fits.getdata('ibohbfb9q_flt.fits',ext=1)\n",
    "\n",
    "fig=plt.figure(figsize=(20,8))\n",
    "ax1=fig.add_subplot(1,2,1)\n",
    "ax2=fig.add_subplot(1,2,2)\n",
    "\n",
    "ax1.imshow(    flt2[520:720,750:970], vmin=1.3,vmax=2.5,cmap='Greys_r',origin='lower')\n",
    "ax2.imshow(flt2corr[520:720,750:970], vmin=1.3,vmax=2.5,cmap='Greys_r',origin='lower')\n",
    "\n",
    "ax1.set_title('ibohbfb9q (Time Variable Bkg)',fontsize=20)\n",
    "ax2.set_title('ibohbfb9q (Corrected Bkg)',fontsize=20)"
   ]
  },
  {
   "cell_type": "markdown",
   "metadata": {},
   "source": [
    "## 6. Conclusion <a id=\"conclusions\"></a>\n",
    "\n",
    "Thank you for walking through this notebook. When working with WFC3/IR data, you should be more familiar with:\n",
    "- Identifying IR exposures with time variable background.\n",
    "- Compute and analyze statistics on IMA files.\n",
    "- Reprocess a single exposure without cosmic ray corrections through `calwfc3`.\n",
    "- Correct for spatially uniform time variable background by flattening IR ramps.\n",
    "\n",
    "#### **Congratulations! You have completed the notebook!**"
   ]
  },
  {
   "cell_type": "markdown",
   "metadata": {},
   "source": [
    "## Additional Resources <a id=\"add\"></a>\n",
    "Below are some additional resources that may be helpful. Please send any questions through the [HST Help Desk](https://stsci.service-now.com/hst).\n",
    "\n",
    "- [WFC3 Website](https://www.stsci.edu/hst/instrumentation/wfc3)\n",
    "- [WFC3 Instrument Handbook](https://hst-docs.stsci.edu/wfc3ihb)\n",
    "- [WFC3 Data Handbook](https://hst-docs.stsci.edu/wfc3dhb)\n",
    "    - see section 7.10 for more information on time-variable background.\n",
    "- [WFC3 IR Photometric Calibration Page](https://www.stsci.edu/hst/instrumentation/wfc3/data-analysis/photometric-calibration/ir-photometric-calibration)\n",
    "- [WFC3 ISR 2016-16](https://www.stsci.edu/files/live/sites/www/files/home/hst/instrumentation/wfc3/documentation/instrument-science-reports-isrs/_documents/2016/WFC3-2016-16.pdf)\n",
    "\n",
    "\n",
    "## About this Notebook <a id=\"about\"></a>\n",
    "\n",
    "**Author:** Ky Huynh, Jennifer Mack, WFC3 Instrument Team\n",
    "\n",
    "**Updated On:** 2023-05-25\n",
    "\n",
    "## Citations <a id=\"cite\"></a>\n",
    "\n",
    "If you use `numpy`, `astropy`, `astroquery`, or `wfc3tools` for published research, please cite the\n",
    "authors. Follow these links for more information about citing the libraries below:\n",
    "\n",
    "* [Citing `numpy`](https://numpy.org/citing-numpy/)\n",
    "* [Citing `astropy`](https://www.astropy.org/acknowledging.html)\n",
    "* [Citing `astroquery`](https://astroquery.readthedocs.io/en/latest/)\n",
    "* [Citing `wfc3tools`](https://wfc3tools.readthedocs.io/en/latest/)"
   ]
  },
  {
   "cell_type": "markdown",
   "metadata": {},
   "source": [
    "[Top of Page](#top)\n",
    "<img style=\"float: right;\" src=\"https://raw.githubusercontent.com/spacetelescope/notebooks/master/assets/stsci_pri_combo_mark_horizonal_white_bkgd.png\" alt=\"Space Telescope Logo\" width=\"200px\"/> "
   ]
  },
  {
   "cell_type": "code",
   "execution_count": null,
   "metadata": {},
   "outputs": [],
   "source": []
  }
 ],
 "metadata": {
  "kernelspec": {
   "display_name": "Python 3 (ipykernel)",
   "language": "python",
   "name": "python3"
  },
  "language_info": {
   "codemirror_mode": {
    "name": "ipython",
    "version": 3
   },
   "file_extension": ".py",
   "mimetype": "text/x-python",
   "name": "python",
   "nbconvert_exporter": "python",
   "pygments_lexer": "ipython3",
   "version": "3.9.13"
  },
  "varInspector": {
   "cols": {
    "lenName": 16,
    "lenType": 16,
    "lenVar": 40
   },
   "kernels_config": {
    "python": {
     "delete_cmd_postfix": "",
     "delete_cmd_prefix": "del ",
     "library": "var_list.py",
     "varRefreshCmd": "print(var_dic_list())"
    },
    "r": {
     "delete_cmd_postfix": ") ",
     "delete_cmd_prefix": "rm(",
     "library": "var_list.r",
     "varRefreshCmd": "cat(var_dic_list()) "
    }
   },
   "types_to_exclude": [
    "module",
    "function",
    "builtin_function_or_method",
    "instance",
    "_Feature"
   ],
   "window_display": false
  }
 },
 "nbformat": 4,
 "nbformat_minor": 2
}
