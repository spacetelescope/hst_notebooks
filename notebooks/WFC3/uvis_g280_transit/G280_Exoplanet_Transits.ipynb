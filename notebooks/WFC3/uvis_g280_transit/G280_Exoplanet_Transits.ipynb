{
 "cells": [
  {
   "cell_type": "markdown",
   "id": "2c69e3e1-ee4c-475d-9b92-bf4fd8eb1074",
   "metadata": {},
   "source": [
    "<a id=\"top\"></a>\n",
    "# Analyzing WFC3/UVIS G280 Exoplanet Transit Observations\n",
    "\n",
    "<hr>\n",
    "## Learning Goals\n",
    "This notebook demonstrates reduction and analysis of exoplanet transit observations of the \n",
    "hot Jupiter HAT-P-41b taken with the WFC3/UVIS G280 grism. By the end of this tutorial, you will be able to do the following for G280 time-series transit observations: \n",
    "\n",
    "- Perform a background subtraction.\n",
    "- Remove cosmic rays spatially and temporally.\n",
    "- Perform trace fitting to extract the 1D time-series of stellar spectra.\n",
    "- Produce light curves for transit fitting.\n",
    "\n",
    "## Table of Contents\n",
    "\n",
    "[Introduction](#intro) <br>\n",
    "[1. Imports](#import) <br>\n",
    "[2. Downloading Grism Observations from MAST](#data_download) <br>\n",
    "- [2.1 Direct Image](#direct_image) <br>\n",
    "- [2.2 Example G280 Spectrum](#spectrum) <br>\n",
    "- [2.3 Examining the Time-Series](#time_series) <br>\n",
    "\n",
    "[3. Background Subtraction](#bkgd_sub) <br>\n",
    "[4. Cosmic Ray Correction](#cr_corr) <br>\n",
    "[5. Embedding Subarrays](#embed_sub) <br>\n",
    "[6. Spectral Trace Fitting](#trace_fitting) <br> \n",
    "[7. G280 Spectral Extraction](#extraction) <br> \n",
    "[8. Extracting 1D Time-Series Stellar Spectra](#spectra) <br> \n",
    "[9. Generating Transit Light Curves](#lc) <br> \n",
    "[10. Conclusions](#summary) <br> \n",
    "\n",
    "[Additional Resources](#add) <br>\n",
    "[About this Notebook](#about) <br>\n",
    "[Citations](#cite) <br>"
   ]
  },
  {
   "cell_type": "markdown",
   "id": "2b7fa19c-2430-4fb4-80b5-2b1cf33f1551",
   "metadata": {},
   "source": [
    "## Introduction\n",
    "<a id=\"intro\"></a>\n",
    "\n",
    "Time-series observations of transiting exoplanets can allow us to measure their atmospheric compositions. Hubble has paved the way for such observations, where STIS (G430L, G750L) and WFC3 (G102, G141) served as the workhorse instruments for transit spectroscopy over the past two decades. Recently, however, WFC3's G280 grism  has become popular among the exoplanet community thanks to recent studies demonstrating its usefulness for transit observations (e.g., [Wakeford et al. 2020](https://arxiv.org/abs/2003.00536), [Lothringer et al. 2022](https://arxiv.org/abs/2204.03639), [Boehm et al. 2024](https://arxiv.org/abs/2410.17368)). In particular, G280's blue-optical wavelength range (0.2-0.8 $\\mu$m) can yield critical information about the cloud and haze properties in exoplanets' atmospheres. "
   ]
  },
  {
   "cell_type": "markdown",
   "id": "94c6acab-f5b0-4835-a2dd-c5bdda5cdda4",
   "metadata": {},
   "source": [
    "## 1. Imports\n",
    "<a id=\"import\"></a>\n",
    "\n",
    "This notebook assumes you have installed the required libraries as described [here](https://github.com/spacetelescope/hst_notebooks/blob/main/notebooks/WFC3/uvis_g280_transit/requirements.txt).\n",
    "\n",
    "- `glob` for finding directories & files\n",
    "- `os` for operating system operations\n",
    "- `shutil` for file operations\n",
    "- `tqdm` for loading bars\n",
    "    \n",
    "- `numpy` for handling array functions\n",
    "- `matplotlib` for plotting data\n",
    "  \n",
    "- `astropy.io fits` for accessing FITS files\n",
    "- `astropy.stats sigma_clipped_stats` for outlier removal \n",
    "- `astroquery.mast Observations` for downloading data from MAST\n",
    "- `photutils.detection DAOStarFinder` for source detection in an image\n",
    "\n",
    "We also import a custom module `g280_transit_tools.py` for G280-specific reduction & analysis tools."
   ]
  },
  {
   "cell_type": "code",
   "execution_count": null,
   "id": "c045febb-7033-44d7-b4f7-40ec4f0f15db",
   "metadata": {},
   "outputs": [],
   "source": [
    "import glob\n",
    "import os\n",
    "import shutil\n",
    "import tqdm\n",
    "\n",
    "import numpy as np\n",
    "import matplotlib.cm as cm\n",
    "import matplotlib.pyplot as plt\n",
    "\n",
    "from astropy.io import fits\n",
    "from astropy.stats import sigma_clipped_stats\n",
    "from astroquery.mast import Observations\n",
    "from photutils.detection import DAOStarFinder\n",
    "\n",
    "import g280_transit_tools\n",
    "\n",
    "%matplotlib inline"
   ]
  },
  {
   "cell_type": "markdown",
   "id": "90f697c1-f5ba-467f-8ec9-960525ddf845",
   "metadata": {},
   "source": [
    "## 2. Downloading Grism Observations from MAST\n",
    "<a id=\"data_download\"></a>\n",
    "\n",
    "First, we query the observations necessary to complete the tutorial from the [Mikulski Archive for Space Telescopes (MAST)](https://archive.stsci.edu/). Using the G280 grism, [GO 15288](https://www.stsci.edu/hst-program-info/program/?program=15288) observed transits of the giant exoplanet HAT-P-41b, which was the first exoplanet planet transit data set ever taken with G280. The results of this analysis are published in Wakeford et al. (2020). To query only the first visit of the proposal and reject bias frames, we use a wildcard for `obs_id` and specify `target_name`."
   ]
  },
  {
   "cell_type": "code",
   "execution_count": null,
   "id": "97edcbad-cc75-4f59-95ba-7f665c91fbb2",
   "metadata": {},
   "outputs": [],
   "source": [
    "transit_obs = Observations.query_criteria(obs_id='idps01*', target_name='HAT-P-41B')"
   ]
  },
  {
   "cell_type": "markdown",
   "id": "82606a55-a889-4b02-9591-60e58e83597b",
   "metadata": {},
   "source": [
    "Next, we retrieve a filtered product list of our observations. For our analysis, we use the `_flt.fits` (i.e. calibrated, flat-fielded exposure) files produced using the `calwf3` pipeline."
   ]
  },
  {
   "cell_type": "code",
   "execution_count": null,
   "id": "271abdfc-d4f6-4ab5-80a8-36343c048d94",
   "metadata": {},
   "outputs": [],
   "source": [
    "transit_prods = Observations.get_product_list(transit_obs)\n",
    "transit_prods_filtered = Observations.filter_products(transit_prods, extension=[\"_flt.fits\"], type='S')"
   ]
  },
  {
   "cell_type": "markdown",
   "id": "5d08bf07-fc4a-419e-9d6f-a66f85e147f9",
   "metadata": {},
   "source": [
    "Now, we download the `_flt.fits` files from MAST."
   ]
  },
  {
   "cell_type": "code",
   "execution_count": null,
   "id": "59f00769-0cc4-4676-80a7-29f275aba28f",
   "metadata": {
    "scrolled": true
   },
   "outputs": [],
   "source": [
    "Observations.download_products(transit_prods_filtered, mrp_only=False, cache=False)"
   ]
  },
  {
   "cell_type": "markdown",
   "id": "1cbc7825-baf1-4e10-b0f8-5c25032b580d",
   "metadata": {},
   "source": [
    "The `_flt.fits` files for HAT-P-41b are now in our current working directory under `mastDownload`. We organize this data into separate directories for the `_flt.fits` and remove the `mastDownload` directory. \n",
    "\n",
    "We define all the subdirectories for MAST, data, direct image, and `_flt.fits` (calibrated, clean, and full frame)."
   ]
  },
  {
   "cell_type": "code",
   "execution_count": null,
   "id": "b31115d3-9bc4-46dc-9b2a-bccd99edd825",
   "metadata": {},
   "outputs": [],
   "source": [
    "cwd = os.getcwd()\n",
    "download_dir = os.path.join(cwd, 'mastDownload/HST')\n",
    "data_dir = os.path.join(cwd, 'data')\n",
    "image_dir = os.path.join(cwd, 'direct_image')\n",
    "flt_dir = os.path.join(data_dir, 'flt')\n",
    "flt_clean_dir = os.path.join(data_dir, 'flt_clean')\n",
    "flt_full_dir = os.path.join(data_dir, 'flt_full')"
   ]
  },
  {
   "cell_type": "markdown",
   "id": "6929ebf7-feb7-4693-afcc-b3bab4b2bfba",
   "metadata": {},
   "source": [
    "We create each subdirectory."
   ]
  },
  {
   "cell_type": "code",
   "execution_count": null,
   "id": "e026b0a1-aabe-4cd4-9e02-6b485437254f",
   "metadata": {},
   "outputs": [],
   "source": [
    "for sub_dir in [data_dir, image_dir, flt_dir, flt_clean_dir, flt_full_dir]:\n",
    "    os.makedirs(sub_dir, exist_ok=True)"
   ]
  },
  {
   "cell_type": "markdown",
   "id": "bbe92a62-55ba-414c-9009-def26fe496ce",
   "metadata": {},
   "source": [
    "We move the files to the appropriate subdirectories."
   ]
  },
  {
   "cell_type": "code",
   "execution_count": null,
   "id": "05f3b7d3-f7fb-4b92-bda3-0680ca605808",
   "metadata": {},
   "outputs": [],
   "source": [
    "# Retrieve paths in MAST\n",
    "paths_old = sorted(glob.glob(f'{download_dir}/*/*'))\n",
    "\n",
    "# Loop through paths\n",
    "for path_old in paths_old:\n",
    "    basename_old = os.path.basename(path_old)\n",
    "    # Put direct image in appropriate subdirectory\n",
    "    if 'idps01oqq' in basename_old:\n",
    "        sub_dir = image_dir\n",
    "    # Put grism images in appropriate subdirectory\n",
    "    else:\n",
    "        sub_dir = flt_dir\n",
    "    path_new = f'{sub_dir}/{basename_old}'\n",
    "    os.rename(path_old, path_new)"
   ]
  },
  {
   "cell_type": "markdown",
   "id": "0cd665c7-b55f-485b-84c0-cfabcbcba006",
   "metadata": {},
   "source": [
    "We delete the MAST subdirectory."
   ]
  },
  {
   "cell_type": "code",
   "execution_count": null,
   "id": "018ad449-1570-43cd-8977-3c00915777b5",
   "metadata": {},
   "outputs": [],
   "source": [
    "if os.path.isdir(download_dir):\n",
    "    shutil.rmtree('mastDownload/')"
   ]
  },
  {
   "cell_type": "markdown",
   "id": "2f17c9fc-1eae-4ff9-80cc-f458b71b8c13",
   "metadata": {},
   "source": [
    "Now that we have downloaded and organized the relevant files for our time-series analysis, we can analyze them.  "
   ]
  },
  {
   "cell_type": "markdown",
   "id": "095fd15f-7989-4f9f-80cf-51935c0429ed",
   "metadata": {},
   "source": [
    "### 2.1 Direct Image\n",
    "<a id=\"direct_image\"></a> \n",
    "\n",
    "We retrieve the direct image data of the target, which was taken with the F300X filter. It is common practice for time-series transit observations to take a direct image of the target before taking spectroscopic data."
   ]
  },
  {
   "cell_type": "code",
   "execution_count": null,
   "id": "5359758e-631c-462e-802a-6b466d5d1300",
   "metadata": {},
   "outputs": [],
   "source": [
    "path_direct_image = f'{image_dir}/idps01oqq_flt.fits'\n",
    "file_direct_image = os.path.basename(path_direct_image)\n",
    "direct_image = fits.getdata(path_direct_image)"
   ]
  },
  {
   "cell_type": "markdown",
   "id": "91549993-306d-4ede-a8c0-6e43b0224b2c",
   "metadata": {},
   "source": [
    "Now, we plot the direct image using 1 and 99 percentile min and max values, respectively."
   ]
  },
  {
   "cell_type": "code",
   "execution_count": null,
   "id": "77617f35-de73-4e1f-b718-e7482cd83eee",
   "metadata": {},
   "outputs": [],
   "source": [
    "vmin, vmax = np.percentile(direct_image, (1, 99))\n",
    "plt.figure(figsize=[10, 5])\n",
    "plt.title(f'{file_direct_image} (Direct Image)')\n",
    "plt.imshow(direct_image, vmin=vmin, vmax=vmax, origin='lower', cmap='gray')\n",
    "plt.colorbar()"
   ]
  },
  {
   "cell_type": "markdown",
   "id": "3eed32ee-f75d-4290-b05f-9d0314b93366",
   "metadata": {},
   "source": [
    "By eye, we can see that our target is the bright source in the center of this image, but let's find its location more precisely. First, we find the 3-sigma clipped mean, median, and standard deviation "
   ]
  },
  {
   "cell_type": "code",
   "execution_count": null,
   "id": "0b195899-f85d-482e-8383-739e12c77567",
   "metadata": {},
   "outputs": [],
   "source": [
    "mean, median, std = sigma_clipped_stats(direct_image, sigma=3.0)"
   ]
  },
  {
   "cell_type": "markdown",
   "id": "64b7ec65-1024-4bd4-8557-9417b114c1cc",
   "metadata": {},
   "source": [
    "Next, we set our [DAOStarFinder algorithm](https://ui.adsabs.harvard.edu/abs/1987PASP...99..191S/abstract) to a full width half maximum of 5 and a threshold 1075 times the standard deviation."
   ]
  },
  {
   "cell_type": "code",
   "execution_count": null,
   "id": "273af49c-dde1-4fd4-b10f-314602be2fbd",
   "metadata": {},
   "outputs": [],
   "source": [
    "find_source = DAOStarFinder(fwhm=5, threshold=1075*std)"
   ]
  },
  {
   "cell_type": "markdown",
   "id": "71566169-b56e-449f-b16d-c929b12963d2",
   "metadata": {},
   "source": [
    "Then, we find our sources from the global background (i.e. median) subtracted image."
   ]
  },
  {
   "cell_type": "code",
   "execution_count": null,
   "id": "d1d48bcb-fcec-40e3-b954-918c836a3a3a",
   "metadata": {},
   "outputs": [],
   "source": [
    "sources = find_source(direct_image - median)"
   ]
  },
  {
   "cell_type": "markdown",
   "id": "ab8078f0-bb93-42a6-b15a-fc5a253b4d8a",
   "metadata": {},
   "source": [
    "Finally, we format our columns and return the found sources."
   ]
  },
  {
   "cell_type": "code",
   "execution_count": null,
   "id": "d4883c66-4213-4ffc-9050-2286c8de345f",
   "metadata": {},
   "outputs": [],
   "source": [
    "for column in sources.colnames:\n",
    "    sources[column].info.format = '%.8g'   \n",
    "sources"
   ]
  },
  {
   "cell_type": "markdown",
   "id": "1812c7c8-0b40-4f3d-be05-2dec15219594",
   "metadata": {},
   "source": [
    "Our target HAT-P-41b is located around (x,y) = (1070, 438). However, this is in the subarray frame. Therefore, we convert our source coordinates from the subarray frame to the full frame, which is needed later in the analysis. To do this, we use the `LTV` keywords from the `SCI` extension."
   ]
  },
  {
   "cell_type": "code",
   "execution_count": null,
   "id": "97894bd1-91e7-4715-97e0-983556f13ef2",
   "metadata": {},
   "outputs": [],
   "source": [
    "# Extract subarray offsets\n",
    "x_offset = int(-fits.getval(path_direct_image, 'ltv1', 1))\n",
    "y_offset = int(-fits.getval(path_direct_image, 'ltv2', 1))\n",
    "\n",
    "# Extract source coordinates from direct image\n",
    "source_x_direct = sources['xcentroid'].data[0]\n",
    "source_y_direct = sources['ycentroid'].data[0]\n",
    "\n",
    "# Convert coordinates from subarray to full frame\n",
    "source_x = source_x_direct + x_offset\n",
    "source_y = source_y_direct + y_offset\n",
    "\n",
    "print(f'Source Location: (x, y) = {source_x:.4f}, {source_y:.4f}')"
   ]
  },
  {
   "cell_type": "markdown",
   "id": "b603a843-dccc-4be6-8fa5-a1d0ec29a2f0",
   "metadata": {},
   "source": [
    "Our source location of HAT-P-41b is within a few hundreths of a pixel to Section 3.1 of [Wakeford et al. (2020)](https://arxiv.org/pdf/2003.00536) (2040.8756, 1063.8825)."
   ]
  },
  {
   "cell_type": "markdown",
   "id": "2218c2ad-b45d-421e-a326-089d97c03333",
   "metadata": {},
   "source": [
    "### 2.2 Example G280 Spectrum \n",
    "<a id=\"spectrum\"></a> \n",
    "We retrieve the data from one of the spectra in the time-series."
   ]
  },
  {
   "cell_type": "code",
   "execution_count": null,
   "id": "de12cd40-26d2-4793-bba6-571aeb88d3b5",
   "metadata": {},
   "outputs": [],
   "source": [
    "# Retrieve all paths\n",
    "paths_flt = sorted(glob.glob(f'{flt_dir}/*'))\n",
    "\n",
    "# Retrieve data from first path\n",
    "path_grism_image = paths_flt[0]\n",
    "file_grism_image = os.path.basename(path_grism_image)\n",
    "grism_image = fits.getdata(path_grism_image)"
   ]
  },
  {
   "cell_type": "markdown",
   "id": "56efabc8-977e-4025-ade3-ae3c843185b9",
   "metadata": {},
   "source": [
    "Now, we plot a grism image using 1 and 99 percentile min and max values, respectively."
   ]
  },
  {
   "cell_type": "code",
   "execution_count": null,
   "id": "1fb2ac2e-8482-4e70-96fd-f705fca550ba",
   "metadata": {},
   "outputs": [],
   "source": [
    "vmin, vmax = np.percentile(grism_image, (1, 99))\n",
    "plt.figure(figsize=[10, 5])\n",
    "plt.title(f'{file_grism_image} (Grism Image)')\n",
    "plt.imshow(grism_image, vmin=vmin, vmax=vmax, origin='lower', cmap='gray')\n",
    "plt.colorbar()"
   ]
  },
  {
   "cell_type": "markdown",
   "id": "09d19eeb-06ec-4a7b-b727-30019b33074f",
   "metadata": {},
   "source": [
    "G280 spectra have curved spectral traces and multiple overlapping spectral orders. The zeroth order is shown in the center of the image, and is saturated with large diffraction spikes. The spectral traces to the left of the zeroth order are the positive orders, and the traces to the right of the zeroth order are the negative orders. The brightest orders that we can see here are the +1 and -1 orders. "
   ]
  },
  {
   "cell_type": "markdown",
   "id": "73f7e87d-5fc2-4361-8bd8-4778c448156d",
   "metadata": {},
   "source": [
    "### 2.3 Examining the Time-Series\n",
    "<a id=\"time_series\"></a> \n",
    "\n",
    "We extract the data from each spectrum, and print the shape."
   ]
  },
  {
   "cell_type": "code",
   "execution_count": null,
   "id": "5bddf3a9-f6ae-42ee-8124-639e67a104bc",
   "metadata": {},
   "outputs": [],
   "source": [
    "time_series_grism = np.array([fits.getdata(path) for path in paths_flt], dtype=np.float64)\n",
    "n_spectra, y_length, x_length = time_series_grism.shape\n",
    "print(f'Spectra time-series shape {time_series_grism.shape}')"
   ]
  },
  {
   "cell_type": "markdown",
   "id": "09561887-ff80-4f85-a754-75cd2f1ae143",
   "metadata": {},
   "source": [
    "Next, we plot a standard deviation stack of the grism images to better understand outliers in the data."
   ]
  },
  {
   "cell_type": "code",
   "execution_count": null,
   "id": "61754354-5149-40cb-b896-49bc4b590403",
   "metadata": {},
   "outputs": [],
   "source": [
    "# Standard deviation stack grisms\n",
    "grism_std = np.std(time_series_grism, axis=0)\n",
    "\n",
    "# Plot\n",
    "vmin_std, vmax_std = np.percentile(grism_std, (1, 99))\n",
    "plt.figure(figsize=[10, 5])\n",
    "plt.title('WFC3/UVIS G280 HAT-P-41b Standard Deviation')\n",
    "plt.imshow(grism_std, vmin=vmin_std, vmax=vmax_std, origin='lower', cmap='gray')\n",
    "plt.colorbar()"
   ]
  },
  {
   "cell_type": "markdown",
   "id": "c38e0b18-6b8d-467f-ba28-80ec970b1770",
   "metadata": {},
   "source": [
    "Several hot/bad pixels are present in these images as seen above. The first step in the data reduction process is to clean each exposure in the time-series data and remove these bad pixels, which can affect the precision of our extracted stellar spectra and transit light curves. "
   ]
  },
  {
   "cell_type": "markdown",
   "id": "18e9af5a-f796-4480-8dda-e88422112aab",
   "metadata": {},
   "source": [
    "## 3. Background Subtraction\n",
    "<a id=\"bkgd_sub\"></a> \n",
    "\n",
    "First, we perform a background subtraction for all of the spectra in the time-series. There are a few ways to do this, but here we will use the publicly available [G280 sky frames](https://www.stsci.edu/hst/instrumentation/wfc3/documentation/grism-resources/uvis-grism-sky-images), which should be downloaded before execution. These sky frames were generated by stacking all public on-orbit science exposures on MAST (as of July 2023) and aggressively masking sources using a modified segmentation map ([Pagul et al. 2023](https://www.stsci.edu/files/live/sites/www/files/home/hst/instrumentation/wfc3/documentation/instrument-science-reports-isrs/_documents/2023/WFC3-ISR-2023-06.pdf)). Since our grisms were observed on UVIS2, we download that sky frame."
   ]
  },
  {
   "cell_type": "code",
   "execution_count": null,
   "id": "6b5a344f-9cb9-4aea-89e6-f81d4ee0a7c3",
   "metadata": {},
   "outputs": [],
   "source": [
    "!curl -O https://www.stsci.edu/~WFC3/grism-resources/uvis-grism-sky-images/G280sky_chip2_flt_v1.0.fits"
   ]
  },
  {
   "cell_type": "markdown",
   "id": "9687245a-e386-4a01-a64d-99646c0f76ba",
   "metadata": {},
   "source": [
    "Then, we load the UVIS2 G280 sky frame."
   ]
  },
  {
   "cell_type": "code",
   "execution_count": null,
   "id": "10de1901-10f1-42c8-982a-b154f853590b",
   "metadata": {},
   "outputs": [],
   "source": [
    "g280_sky_full = fits.getdata('G280sky_chip2_flt_v1.0.fits')"
   ]
  },
  {
   "cell_type": "markdown",
   "id": "382367f8-39e2-4cba-ba84-a076d9b2d246",
   "metadata": {},
   "source": [
    "We plot the sky with a box around the subarray."
   ]
  },
  {
   "cell_type": "code",
   "execution_count": null,
   "id": "5f809903-b8e6-4683-90b1-e4414e5c1ddb",
   "metadata": {},
   "outputs": [],
   "source": [
    "# Plot sky\n",
    "plt.figure(figsize=[10, 5])\n",
    "plt.title('UVIS2 G280 Sky')\n",
    "plt.imshow(g280_sky_full, vmin=0.9, vmax=1.1, origin='lower', cmap='gray')\n",
    "plt.colorbar()\n",
    "\n",
    "# Plot box around subarray\n",
    "plt.vlines(x_offset, y_offset, y_offset + y_length, label='Subarray')\n",
    "plt.vlines(x_offset + x_length, y_offset, y_offset + y_length)\n",
    "plt.hlines(y_offset, x_offset, x_offset + x_length)\n",
    "plt.hlines(y_offset + y_length, x_offset, x_offset + x_length)\n",
    "plt.legend()"
   ]
  },
  {
   "cell_type": "markdown",
   "id": "84d20dc4-f18e-482d-837f-9c1f55637de8",
   "metadata": {},
   "source": [
    "Next, we extract the subarray pixels from the sky."
   ]
  },
  {
   "cell_type": "code",
   "execution_count": null,
   "id": "b62daf64-dbf7-4343-ba82-65a7cfa2ff48",
   "metadata": {},
   "outputs": [],
   "source": [
    "g280_sky = g280_sky_full[y_offset:y_offset+y_length, x_offset:x_offset+x_length]"
   ]
  },
  {
   "cell_type": "markdown",
   "id": "27575bb0-5cc7-4b3a-b158-647e2cdc32ee",
   "metadata": {},
   "source": [
    "Then, we scale each sky by each exposure's median."
   ]
  },
  {
   "cell_type": "code",
   "execution_count": null,
   "id": "eb97ef33-8c09-4f17-90b7-0265824c7ecc",
   "metadata": {},
   "outputs": [],
   "source": [
    "time_series_grism_median = np.median(time_series_grism, axis=(1, 2)).reshape(-1, 1, 1) * np.ones_like(time_series_grism)\n",
    "time_series_g280_sky = g280_sky * time_series_grism_median"
   ]
  },
  {
   "cell_type": "markdown",
   "id": "7b80c105-824b-4fcd-a0e6-d2030da623d5",
   "metadata": {},
   "source": [
    "Now, we apply background subtraction to each science frame."
   ]
  },
  {
   "cell_type": "code",
   "execution_count": null,
   "id": "14cb6677-6a37-422a-a33a-1e738dd60419",
   "metadata": {},
   "outputs": [],
   "source": [
    "time_series_bkg_sub = time_series_grism - time_series_g280_sky"
   ]
  },
  {
   "cell_type": "markdown",
   "id": "bf11fcf5-62db-4e2a-9534-4e68f39436b8",
   "metadata": {},
   "source": [
    "## 4. Cosmic Ray Correction\n",
    "<a id=\"cr_corr_sub\"></a> \n",
    "\n",
    "Now, we remove cosmic rays, which can not only hit the detector throughout the course of the hours-long time-series observations, but may also be more frequent in G280 data due to its wide wavelength coverage. It is important to correct for cosmic rays within an exposure (spatially) and also across exposures in the time-series (temporally).\n",
    "\n",
    "First, we apply the temporal and spatial cosmic ray correction routines using `g280_transit_tools.remove_cosmic_rays_time` and `g280_transit_tools.remove_cosmic_rays_space`. These functions return the corrected data, and the masks for corrected pixels."
   ]
  },
  {
   "cell_type": "code",
   "execution_count": null,
   "id": "661ef149-4426-42c8-ae7e-9ae33e1b4a58",
   "metadata": {},
   "outputs": [],
   "source": [
    "# Temporal correction\n",
    "time_series_cr_time, mask_outliers_time = g280_transit_tools.remove_cosmic_rays_time(time_series_bkg_sub, n_sigma=4, n_iter=4)\n",
    "\n",
    "# Spatial correction\n",
    "time_series_cr_corr, mask_outliers_space = g280_transit_tools.remove_cosmic_rays_space(time_series_cr_time, n_sigma=3, size=3)"
   ]
  },
  {
   "cell_type": "markdown",
   "id": "7654a126-cd3d-41d8-8b8d-d8b30c7e6af9",
   "metadata": {},
   "source": [
    "We compare the raw 2D spectral image to the spectrum corrected for outliers."
   ]
  },
  {
   "cell_type": "code",
   "execution_count": null,
   "id": "817167af-c173-4c96-a258-128e003c7810",
   "metadata": {},
   "outputs": [],
   "source": [
    "fig, axs = plt.subplots(2, 1, figsize=[10, 10])\n",
    "\n",
    "# Plot grism image\n",
    "axs[0].set_title(file_grism_image)\n",
    "axs0 = axs[0].imshow(grism_image, vmin=vmin, vmax=vmax, origin='lower', cmap='gray')\n",
    "cbar = fig.colorbar(axs0, ax=axs[0])\n",
    "\n",
    "# Plot clean grism image\n",
    "axs[1].set_title(f'{file_grism_image} (CR Corrected)')\n",
    "axs1 = axs[1].imshow(time_series_cr_corr[0], vmin=vmin, vmax=vmax, origin='lower', cmap='gray')\n",
    "cbar = fig.colorbar(axs1, ax=axs[1])"
   ]
  },
  {
   "cell_type": "markdown",
   "id": "617cad33-9f1e-4b7d-8e04-7f515d2113b8",
   "metadata": {},
   "source": [
    "Our routine sufficiently removed the outliers. All we have left are background stars. Now, we save the cosmic ray corrected data as `_c_flt.fits` files."
   ]
  },
  {
   "cell_type": "code",
   "execution_count": null,
   "id": "6d699a8c-b53e-4054-be39-11a67beb98a0",
   "metadata": {},
   "outputs": [],
   "source": [
    "# Loop through paths\n",
    "for i, path in tqdm.tqdm(enumerate(paths_flt), total=len(paths_flt)):\n",
    "\n",
    "    # Make a copy of each file\n",
    "    file_c = os.path.basename(path.replace('flt.fits', 'c_flt.fits'))\n",
    "    path_c = f'{flt_clean_dir}/{file_c}'\n",
    "    shutil.copyfile(path, path_c)\n",
    "\n",
    "    # Update the copy\n",
    "    with fits.open(path_c, mode='update') as hdu:\n",
    "        hdu['SCI', 1].data = time_series_cr_corr[i]"
   ]
  },
  {
   "cell_type": "markdown",
   "id": "a2761724-83fb-4baa-b364-413aaefd1198",
   "metadata": {},
   "source": [
    "## 5. Embedding Subarrays\n",
    "<a id=\"embed_sub\"></a>  \n",
    "\n",
    "The G280 spectra are taken on UVIS2, but we need to embed this subarray into the full frame image in order to proceed with the spectral extraction. For this step, we use `g280_transit_tools.embedsub_uvis`, which is a derivative of [`wfc3tools.embedsub`](https://github.com/spacetelescope/wfc3tools/blob/main/wfc3tools/embedsub.py). The former function uses header keywords from the `_flt.fits` file (i.e. `NAXIS`, `LTV`), while the latter function requires keywords from the `_spt.files`."
   ]
  },
  {
   "cell_type": "code",
   "execution_count": null,
   "id": "1cacbfc3-1299-4bf6-b1d0-00dc5da814dd",
   "metadata": {},
   "outputs": [],
   "source": [
    "# Retrieve clean flt paths\n",
    "paths_c_flt = sorted(glob.glob(f'{flt_clean_dir}/*'))\n",
    "\n",
    "# Loop through cleaned paths and embed\n",
    "for path_c in tqdm.tqdm(paths_c_flt, total=len(paths_c_flt)):\n",
    "    path_c_f = g280_transit_tools.embedsub_uvis(path_c, flt_full_dir)"
   ]
  },
  {
   "cell_type": "markdown",
   "id": "4347da39-480d-470e-8af4-b2949f9cb150",
   "metadata": {},
   "source": [
    "We extract the cleaned subarray image and the full frame embedded image."
   ]
  },
  {
   "cell_type": "code",
   "execution_count": null,
   "id": "4114f255-e8c7-4ee7-b97d-c1a442529357",
   "metadata": {},
   "outputs": [],
   "source": [
    "# Define filenames and paths\n",
    "file_grism_image_c = file_grism_image.replace('flt', 'c_flt')\n",
    "file_grism_image_c_f = file_grism_image.replace('flt', 'c_f_flt')\n",
    "path_grism_image_c = f'{flt_clean_dir}/{file_grism_image_c}'\n",
    "path_grism_image_c_f = f'{flt_full_dir}/{file_grism_image_c_f}'\n",
    "\n",
    "# Extract data\n",
    "grism_image_c = fits.getdata(path_grism_image_c)\n",
    "grism_image_c_f = fits.getdata(path_grism_image_c_f)"
   ]
  },
  {
   "cell_type": "markdown",
   "id": "bd43f555-8c2e-4915-8853-65d97db38065",
   "metadata": {},
   "source": [
    "We compare the cleaned subarray image to the full frame embedded image."
   ]
  },
  {
   "cell_type": "code",
   "execution_count": null,
   "id": "6001e7e5-8fbd-43e0-8dcf-307de4c97ff6",
   "metadata": {},
   "outputs": [],
   "source": [
    "fig, axs = plt.subplots(2, 1, figsize=[10, 10])\n",
    "\n",
    "# Plot clean grism image\n",
    "axs[0].set_title(f'{file_grism_image_c} (CR Corrected)')\n",
    "axs0 = axs[0].imshow(grism_image_c, vmin=vmin, vmax=vmax, origin='lower', cmap='gray')\n",
    "cbar = fig.colorbar(axs0, ax=axs[0])\n",
    "\n",
    "# Plot clean full frame grism image\n",
    "axs[1].set_title(f'{file_grism_image_c_f} (CR Corrected; Full Frame)')\n",
    "axs1 = axs[1].imshow(grism_image_c_f, vmin=vmin, vmax=vmax, origin='lower', cmap='gray')\n",
    "cbar = fig.colorbar(axs1, ax=axs[1])"
   ]
  },
  {
   "cell_type": "markdown",
   "id": "cdd45346-c883-4324-9c09-4065cea86d6a",
   "metadata": {},
   "source": [
    "## 6. Spectral Trace Fitting\n",
    "<a id=\"trace_fitting\"></a>\n",
    "\n",
    "We fit the spectral trace using `g280_transit_tools.fit_spectral_trace`. This function uses [GRISMCONF](https://github.com/npirzkal/GRISMCONF/tree/master), which implements the grism configuration detailed in [Pirzkal & Ryan (2017)](https://www.stsci.edu/files/live/sites/www/files/home/hst/instrumentation/wfc3/documentation/instrument-science-reports-isrs/_documents/2017/WFC3-2017-01.pdf). We download the [configuration files](https://github.com/npirzkal/GRISM_WFC3/blob/master) required to fit the spectral trace."
   ]
  },
  {
   "cell_type": "code",
   "execution_count": null,
   "id": "584b6663-539c-4474-9b81-71ab5e07bd1d",
   "metadata": {},
   "outputs": [],
   "source": [
    "!git clone https://github.com/npirzkal/GRISM_WFC3.git"
   ]
  },
  {
   "cell_type": "markdown",
   "id": "57809ea1-d5f2-44ed-b5db-a2398b6183a1",
   "metadata": {},
   "source": [
    "First, we extract the +1 and -1 orders of one of the cleaned full frame images for the full width of G280 (0.2-0.8 $\\mu$m)."
   ]
  },
  {
   "cell_type": "code",
   "execution_count": null,
   "id": "32cfc042-c808-470d-9f0a-604edab4f3b9",
   "metadata": {
    "scrolled": true
   },
   "outputs": [],
   "source": [
    "# Define parameters\n",
    "path_config = 'GRISM_WFC3/UVIS/UVIS_G280_CCD2_V2.conf'\n",
    "order_p1 = '+1'\n",
    "order_m1 = '-1'\n",
    "wl_min = 2000\n",
    "wl_max = 8000\n",
    "\n",
    "# Fit +1 spectral trace\n",
    "trace_x_p1, trace_y_p1, wavelength_p1, sensitivity_p1 = g280_transit_tools.fit_spectral_trace(\n",
    "    path_config, source_x, source_y, order_p1, wl_min, wl_max\n",
    ")\n",
    "\n",
    "# Fit -1 spectral trace\n",
    "trace_x_m1, trace_y_m1, wavelength_m1, sensitivity_m1 = g280_transit_tools.fit_spectral_trace(\n",
    "    path_config, source_x, source_y, order_m1, wl_min, wl_max\n",
    ")"
   ]
  },
  {
   "cell_type": "markdown",
   "id": "90d14ca8-5c80-48a5-9404-9f337b934679",
   "metadata": {},
   "source": [
    "We plot the sensitivity profiles of each order normalized by the +1 maximum sensitivity."
   ]
  },
  {
   "cell_type": "code",
   "execution_count": null,
   "id": "3b50999a-a3cd-418b-975e-edf8876de49c",
   "metadata": {},
   "outputs": [],
   "source": [
    "plt.grid()\n",
    "plt.title('Sensitivity Profiles')\n",
    "plt.plot(wavelength_p1, sensitivity_p1/sensitivity_p1.max(), label=f'Order {order_p1}')\n",
    "plt.plot(wavelength_m1, sensitivity_m1/sensitivity_p1.max(), label=f'Order {order_m1} ')\n",
    "plt.xlabel('Wavelength (Angstrom)')\n",
    "plt.ylabel('Normalized Sensitivity')\n",
    "plt.legend()"
   ]
  },
  {
   "cell_type": "markdown",
   "id": "8710c017-6943-433e-8e6d-ba7c99d44262",
   "metadata": {},
   "source": [
    "The +1 order has a higher sensitivity than -1 order. Next, we normalize the exposure."
   ]
  },
  {
   "cell_type": "code",
   "execution_count": null,
   "id": "05a187b3-8097-4ba3-ba55-b2b6e927838a",
   "metadata": {
    "scrolled": true
   },
   "outputs": [],
   "source": [
    "exptime = fits.getval(path_grism_image_c_f, 'exptime')\n",
    "spec_data = grism_image_c_f / exptime"
   ]
  },
  {
   "cell_type": "markdown",
   "id": "cb815037-94f8-45e3-82a9-4e5227b95556",
   "metadata": {},
   "source": [
    "Now, we plot the spectral traces using an aperture of +/- 30 pixels outside of the y trace."
   ]
  },
  {
   "cell_type": "code",
   "execution_count": null,
   "id": "3833eeee-8aa3-41a0-8637-b5b049e9e234",
   "metadata": {},
   "outputs": [],
   "source": [
    "# Define aperture windows\n",
    "n = 30\n",
    "aperture_min_p1 = trace_y_p1.min() - n\n",
    "aperture_max_p1 = trace_y_p1.max() + n\n",
    "aperture_min_m1 = trace_y_m1.min() - n\n",
    "aperture_max_m1 = trace_y_m1.max() + n\n",
    "\n",
    "vmin, vmax = np.percentile(spec_data, (1, 99.95))\n",
    "fig, axs = plt.subplots(2, 1, figsize=[10, 10])\n",
    "\n",
    "# Plot +1 order\n",
    "axs[0].set_title(f'{file_grism_image_c_f} (e-/s) Order {order_p1}')\n",
    "axs0 = axs[0].imshow(spec_data, vmin=vmin, vmax=vmax, origin='lower', cmap='gray')\n",
    "axs[0].plot(trace_x_p1, trace_y_p1, color='r')\n",
    "axs[0].set_xlim(np.min(trace_x_p1), np.max(trace_x_p1))\n",
    "axs[0].set_ylim(aperture_min_p1, aperture_max_p1)\n",
    "cbar = fig.colorbar(axs0, ax=axs[0])\n",
    "\n",
    "# Plot -1 order\n",
    "axs[1].set_title(f'{file_grism_image_c_f} (e-/s) Order {order_m1}')\n",
    "axs1 = axs[1].imshow(spec_data, vmin=vmin, vmax=vmax, origin='lower', cmap='gray')\n",
    "axs[1].plot(trace_x_m1, trace_y_m1, color='r')\n",
    "axs[1].set_xlim(np.min(trace_x_m1), np.max(trace_x_m1))\n",
    "axs[1].set_ylim(aperture_min_m1, aperture_max_m1)\n",
    "cbar = fig.colorbar(axs1, ax=axs[1])"
   ]
  },
  {
   "cell_type": "markdown",
   "id": "163434f9-2eb3-47a7-b93c-7e7516f3b341",
   "metadata": {},
   "source": [
    "## 7. G280 Spectral Extraction\n",
    "<a id=\"extraction\"></a>  \n",
    "\n",
    "With our fitted spectral traces, we extract the 1D stellar spectra within a given aperture window using `g280_transit_tools.extract_spectrum`. In the example below, we use an aperture window that matches the y-axis scale in the plot above. The exact size of this aperture window is a parameter that we can refine and optimize later on in our analysis."
   ]
  },
  {
   "cell_type": "code",
   "execution_count": null,
   "id": "ccbc0ed4-63f8-4a93-b425-d188f77d9580",
   "metadata": {},
   "outputs": [],
   "source": [
    "# Extract +1 order spectrum\n",
    "counts_p1, counts_err_p1 = g280_transit_tools.extract_spectrum(\n",
    "    path_grism_image_c_f, aperture_min_p1, aperture_max_p1, trace_x_p1\n",
    ")\n",
    "\n",
    "# Extract -1 order spectrum\n",
    "counts_m1, counts_err_m1 = g280_transit_tools.extract_spectrum(\n",
    "    path_grism_image_c_f, aperture_min_m1, aperture_max_m1, trace_x_m1\n",
    ")"
   ]
  },
  {
   "cell_type": "markdown",
   "id": "92cee4b7-1e6e-4967-acab-ae06547bd32a",
   "metadata": {},
   "source": [
    "We plot our 1D spectra for the +1 and -1 orders."
   ]
  },
  {
   "cell_type": "code",
   "execution_count": null,
   "id": "8f3f9bcc-cc5f-41a8-bd1d-15cd68cafb97",
   "metadata": {},
   "outputs": [],
   "source": [
    "plt.grid()\n",
    "plt.title(f'{file_grism_image_c_f} (1D Spectrum)')\n",
    "plt.errorbar(wavelength_p1, counts_p1, counts_err_p1, label=f'Order {order_p1}')\n",
    "plt.errorbar(wavelength_m1, counts_m1, counts_err_m1, label=f'Order {order_m1}')\n",
    "plt.xlabel('Wavelength (Angstroms)')\n",
    "plt.ylabel('Counts (e-)')\n",
    "plt.legend()"
   ]
  },
  {
   "cell_type": "markdown",
   "id": "89d02db6-14e7-4d76-a06e-9e51aabd74d1",
   "metadata": {},
   "source": [
    "The +1 order has a factor of ~2 higher throughput compared to the -1 order. "
   ]
  },
  {
   "cell_type": "markdown",
   "id": "be494dcd-dcb6-421a-8d33-69357ccc0f43",
   "metadata": {},
   "source": [
    "## 8. Extracting 1D Time-Series Stellar Spectra\n",
    "<a id=\"spectra\"></a>  \n",
    "\n",
    "Using the spectral trace fitting parameters, we perform spectral extraction for all of the full frame images in the time series using the previous values for `aperture_min` and `aperture_max` for `g280_transit_tools.extract_spectrum`."
   ]
  },
  {
   "cell_type": "code",
   "execution_count": null,
   "id": "69fe30df-58be-4c66-8a96-56ba2f18ea7f",
   "metadata": {},
   "outputs": [],
   "source": [
    "# Retrieve clean embeded flt paths\n",
    "paths_c_f_flt = sorted(glob.glob(f'{flt_full_dir}/*'))\n",
    "\n",
    "# Initialize arrays \n",
    "time_series_counts_p1 = np.zeros((n_spectra, len(trace_x_p1)))\n",
    "time_series_counts_err_p1 = np.zeros((n_spectra, len(trace_x_p1)))\n",
    "time_series_counts_m1 = np.zeros((n_spectra, len(trace_x_m1)))\n",
    "time_series_counts_err_m1 = np.zeros((n_spectra, len(trace_x_m1)))\n",
    "\n",
    "# Loop over all exposures \n",
    "for i, path_c_f in tqdm.tqdm(enumerate(paths_c_f_flt), total=n_spectra):\n",
    "\n",
    "    # Extract 1D spectra +1 order\n",
    "    counts_p1, counts_err_p1 = g280_transit_tools.extract_spectrum(\n",
    "        path_c_f, aperture_min_p1, aperture_max_p1, trace_x_p1\n",
    "    )\n",
    "\n",
    "    # Extract 1D spectra -1 order\n",
    "    counts_m1, counts_err_m1 = g280_transit_tools.extract_spectrum(\n",
    "        path_c_f, aperture_min_m1, aperture_max_m1, trace_x_m1\n",
    "    )\n",
    "\n",
    "    # Record data\n",
    "    time_series_counts_p1[i] = counts_p1\n",
    "    time_series_counts_err_p1[i] = counts_err_p1\n",
    "    time_series_counts_m1[i] = counts_m1\n",
    "    time_series_counts_err_m1[i] = counts_err_m1"
   ]
  },
  {
   "cell_type": "markdown",
   "id": "e38aabe4-da59-4998-b8d2-2f91b8823c10",
   "metadata": {},
   "source": [
    "We also extract the midexposure times and hours from mid-transit of the observations."
   ]
  },
  {
   "cell_type": "code",
   "execution_count": null,
   "id": "1a4bd702-2d5d-410e-846e-afa177c16782",
   "metadata": {},
   "outputs": [],
   "source": [
    "mjd = np.median([(fits.getval(path, 'expstart'), fits.getval(path, 'expend')) for path in paths_flt], axis=1)\n",
    "hours = (mjd - mjd.mean()) * 24"
   ]
  },
  {
   "cell_type": "markdown",
   "id": "16b0c950-16ed-4a5f-a39e-07d592b7c4f3",
   "metadata": {},
   "source": [
    "Now, we plot the time-series of 1D stellar spectra colored by hours from mid-transit, and the median spectrum colored in black."
   ]
  },
  {
   "cell_type": "code",
   "execution_count": null,
   "id": "e8b60699-33a5-4fc3-8717-a84881b3902d",
   "metadata": {},
   "outputs": [],
   "source": [
    "# Configure colorbar scale\n",
    "cmap = cm.viridis\n",
    "norm = plt.Normalize(hours.min(), hours.max())\n",
    "colors = cmap(norm(hours))\n",
    "\n",
    "# Plot spectra +1 order and median\n",
    "fig, axs = plt.subplots(1, 2, figsize=[12, 5], sharey=True)\n",
    "axs[0].grid()\n",
    "axs[0].set_title(f'Time Series of 1D Stellar Spectra Order {order_p1}')\n",
    "for i, (counts, counts_err) in enumerate(zip(time_series_counts_p1, time_series_counts_err_p1)):\n",
    "    axs0 = axs[0].errorbar(wavelength_p1, counts, counts_err, alpha=0.5, color=colors[i])\n",
    "counts_median_p1 = np.median(time_series_counts_p1, axis=0)\n",
    "counts_err_median_p1 = np.median(time_series_counts_err_p1, axis=0)\n",
    "axs[0].errorbar(wavelength_p1, counts_median_p1, counts_err_median_p1, color='k', label='median')\n",
    "axs[0].set_xlabel('Wavelength (Angstroms)')\n",
    "axs[0].set_ylabel('Counts (e-)')\n",
    "axs[0].legend()\n",
    "\n",
    "# Plot spectra -1 order and median\n",
    "axs[1].grid()\n",
    "axs[1].set_title(f'Time Series of 1D Stellar Spectra Order {order_m1}')\n",
    "for i, (counts, counts_err) in enumerate(zip(time_series_counts_m1, time_series_counts_err_m1)):\n",
    "    axs1 = axs[1].errorbar(wavelength_m1, counts, counts_err, alpha=0.5, color=colors[i])\n",
    "counts_median_m1 = np.median(time_series_counts_m1, axis=0)\n",
    "counts_err_median_m1 = np.median(time_series_counts_err_m1, axis=0)\n",
    "axs[1].errorbar(wavelength_m1, counts_median_m1, counts_err_median_m1, color='k', label='median')\n",
    "axs[1].set_xlabel('Wavelength (Angstroms)')\n",
    "axs[1].set_ylabel('Counts (e-)')\n",
    "axs[1].legend()\n",
    "\n",
    "# Set colorbar\n",
    "sm = plt.cm.ScalarMappable(cmap=cmap, norm=norm)\n",
    "sm.set_array([])\n",
    "cbar = plt.colorbar(sm, ax=axs[1])\n",
    "cbar.set_label(f'Hours from Mid-transit\\n$MJD_0$={mjd.min():.3f}')\n",
    "fig.tight_layout()"
   ]
  },
  {
   "cell_type": "markdown",
   "id": "27f89495-9b62-461a-8da2-1a6d380ca3d3",
   "metadata": {},
   "source": [
    "## 9. Generating Light Curves\n",
    "<a id=\"lc\"></a>  \n",
    "\n",
    "With 1D time series stellar spectra, we generate the broadband (i.e. white light) light curves, which is extracted across the full wavelength range of the G280 grism. We generate the light curve using `g280_transit_tools.make_light_curve`."
   ]
  },
  {
   "cell_type": "code",
   "execution_count": null,
   "id": "1addc7f3-ab28-46e5-85c6-381afcc756f3",
   "metadata": {},
   "outputs": [],
   "source": [
    "# +1 order\n",
    "lc_counts_p1, lc_counts_err_p1 = g280_transit_tools.make_light_curve(\n",
    "    wavelength_p1, time_series_counts_p1, wl_min=wl_min, wl_max=wl_max\n",
    ")\n",
    "\n",
    "# -1 order\n",
    "lc_counts_m1, lc_counts_err_m1 = g280_transit_tools.make_light_curve(\n",
    "    wavelength_m1, time_series_counts_m1, wl_min=wl_min, wl_max=wl_max\n",
    ")"
   ]
  },
  {
   "cell_type": "markdown",
   "id": "bffb491e-b587-47dc-8a26-10fe631324f2",
   "metadata": {},
   "source": [
    "Finally, we plot the normalized light curves."
   ]
  },
  {
   "cell_type": "code",
   "execution_count": null,
   "id": "ade86a47-927f-4ad0-848c-9a75b8fe574a",
   "metadata": {},
   "outputs": [],
   "source": [
    "# Normalize counts by mean of first 10 measurements\n",
    "lc_counts_p1_norm = lc_counts_p1 / np.mean(lc_counts_p1[0:10])\n",
    "lc_counts_m1_norm = lc_counts_m1 / np.mean(lc_counts_m1[0:10])\n",
    "\n",
    "plt.grid()\n",
    "plt.title('WFC3/UVIS G280 HAT-P-41b Light Curves')\n",
    "plt.errorbar(hours, lc_counts_p1_norm, lc_counts_err_p1, ls='', marker='o', label=f'Order {order_p1}', alpha=0.5)\n",
    "plt.errorbar(hours, lc_counts_m1_norm, lc_counts_err_m1, ls='', marker='o', label=f'Order {order_m1}', alpha=0.5)\n",
    "plt.xlabel(f'Hours from Mid-transit \\nMJD={mjd.min():.3f}')\n",
    "plt.ylabel('Normalized Counts')\n",
    "plt.legend()"
   ]
  },
  {
   "cell_type": "markdown",
   "id": "bc577f5e-13f5-441c-8d25-ca611e38988a",
   "metadata": {},
   "source": [
    "The raw white light curves for the +1 and -1 orders look great! We can also use the above function to generate the spectroscopic light curves by changing the `wl_min` and `wl_max` values. "
   ]
  },
  {
   "cell_type": "markdown",
   "id": "929c81fd-93a6-4ba9-b66b-316bd63d134c",
   "metadata": {},
   "source": [
    "## 10. Conclusions\n",
    "<a id=\"summary\"></a>  \n",
    "\n",
    "Thank you for walking through this notebook. With G280 transit observations, you should now be familiar with:\n",
    "\n",
    "- Downloading data from MAST.\n",
    "- Performing cosmic ray correction and background subtraction for the time-series.\n",
    "- Performing trace fitting and spectral extraction for G280 data.\n",
    "- Generating white light curves.\n",
    "\n",
    "You can now assemble the G280 transmission spectrum for any exoplanet and for any of the spectral orders. Once you have extracted the white light and spectroscopic light curves, you can use various light curve fitting programs (e.g. [PACMAN](https://pacmandocs.readthedocs.io/en/latest/index.html), [WFC3 Light Curve Fitting](https://github.com/kevin218/WFC3), [Eureka!](https://eurekadocs.readthedocs.io/en/latest/index.html), etc.) to measure the transit depths.\n",
    "\n",
    "**Congratulations, you have completed this tutorial for G280 exoplanet transit data!** "
   ]
  },
  {
   "cell_type": "markdown",
   "id": "c6a080da-7f70-4074-8b9b-a503dfad670a",
   "metadata": {},
   "source": [
    "## Additional Resources\n",
    "<a id=\"add\"></a>\n",
    "\n",
    "Below are some additional resources that may be helpful. Please send any questions through the [HST Help Desk](https://stsci.service-now.com/hst).\n",
    "\n",
    "- [WFC3 Website](https://www.stsci.edu/hst/instrumentation/wfc3)\n",
    "    - [WFC3 Grism Resources](https://www.stsci.edu/hst/instrumentation/wfc3/documentation/grism-resources)\n",
    "    - [G280 Calibration & Reference Files](https://www.stsci.edu/hst/instrumentation/wfc3/documentation/grism-resources/wfc3-g280-calibrations)\n",
    "- [WFC3 Instrument Handbook](https://hst-docs.stsci.edu/wfc3ihb)\n",
    "    - [Chapter 8: Slitless Spectroscopy with WFC3](https://hst-docs.stsci.edu/wfc3ihb/chapter-8-slitless-spectroscopy-with-wfc3)\n",
    "- [WFC3 Data Handbook](https://hst-docs.stsci.edu/wfc3dhb)\n",
    "    - [Chapter 9.3: Spectroscopy](https://hst-docs.stsci.edu/wfc3dhb/chapter-9-wfc3-data-analysis/9-3-spectroscopy)\n",
    "- Papers\n",
    "    - [Into the UV: A precise transmission spectrum of HAT-P-41b using Hubble's WFC3/UVIS G280 grism (Wakeford et al. 2020)](https://arxiv.org/abs/2003.00536)\n",
    "    - [UV Absorption by Silicate Cloud Precursors in Ultra-hot Jupiter WASP-178b (Lothringer et al. 2022)](https://arxiv.org/abs/2204.03639)\n",
    "    - [The HUSTLE Program: The UV to Near-Infrared HST WFC3/UVIS G280 Transmission Spectrum of WASP-127b(Boehm et al. 2024)](https://arxiv.org/abs/2410.17368)\n",
    "- [WFC3 ISR 2023-06: The WFC3/UVIS G280 Grism Sky (Pagul et al. 2023)](https://www.stsci.edu/files/live/sites/www/files/home/hst/instrumentation/wfc3/documentation/instrument-science-reports-isrs/_documents/2023/WFC3-ISR-2023-06.pdf)\n",
    "- [GRISMCONF](https://github.com/npirzkal/GRISMCONF/tree/master)\n",
    "    - [WFC3 ISR 2017-01: A more generalized coordinate transformation approach for grisms (Pirzkal and Ryan 2017)](https://www.stsci.edu/files/live/sites/www/files/home/hst/instrumentation/wfc3/documentation/instrument-science-reports-isrs/_documents/2017/WFC3-2017-01.pdf)\n",
    "    - [GRISM_WFC3: Configuration files](https://github.com/npirzkal/GRISM_WFC3/tree/master)\n",
    "\n",
    "\n",
    "## About this Notebook\n",
    "<a id=\"about\"></a>\n",
    "\n",
    "**Author:** Munazza K. Alam, WFC3 & NIRSpec Instrument Teams\n",
    "\n",
    "**Created On:** 2025-02-28\n",
    "\n",
    "**Updated On:** 2025-03-25; Fred Dauphin, WFC3 Team\n",
    "\n",
    "## Citations\n",
    "<a id=\"cite\"></a>\n",
    "If you use the following packages for published research, please cite the authors. The links below contain for more information about citing the following:\n",
    "\n",
    "* [Citing `numpy`](https://numpy.org/citing-numpy/)\n",
    "* [Citing `matplotlib`](https://matplotlib.org/stable/project/citing.html)\n",
    "* [Citing `astropy`](https://www.astropy.org/acknowledging.html)\n",
    "* [Citing `astroquery`](https://github.com/astropy/astroquery/blob/main/astroquery/CITATION)\n",
    "* [Citing `photutils`](https://photutils.readthedocs.io/en/latest/getting_started/citation.html)\n",
    "* [Citing `grismconf`](https://www.stsci.edu/files/live/sites/www/files/home/hst/instrumentation/wfc3/documentation/instrument-science-reports-isrs/_documents/2017/WFC3-2017-01.pdf)\n",
    "<hr>\n"
   ]
  }
 ],
 "metadata": {
  "kernelspec": {
   "display_name": "Python 3 (ipykernel)",
   "language": "python",
   "name": "python3"
  },
  "language_info": {
   "codemirror_mode": {
    "name": "ipython",
    "version": 3
   },
   "file_extension": ".py",
   "mimetype": "text/x-python",
   "name": "python",
   "nbconvert_exporter": "python",
   "pygments_lexer": "ipython3",
   "version": "3.11.8"
  }
 },
 "nbformat": 4,
 "nbformat_minor": 5
}
