{
 "cells": [
  {
   "cell_type": "markdown",
   "id": "4f8f088c",
   "metadata": {},
   "source": [
    "<a id=\"title\"></a>\n",
    "# WFC3/UVIS Filter Transformations with stsynphot\n",
    "***\n",
    "## Learning Goals\n",
    "\n",
    "By the end of this tutorial, you will:\n",
    "- Generate synthetic observations using `synphot` and `stsynphot`.\n",
    "- Find color terms between WFC3/UVIS filters and non-HST filters.\n",
    "- Plot bandpasses to investigate various throughputs.\n",
    "\n",
    "\n",
    "## Table of Contents\n",
    "\n",
    "[Introduction](#intro) <br>\n",
    "[1. Imports](#imports) <br>\n",
    "[2. Select filters for the transformation](#select) <br>\n",
    "[3. Define a spectrum](#spec) <br>\n",
    "[4. Select UVIS chips](#chips) <br>\n",
    "[5. Select magnitude systems](#system) <br>\n",
    "[6. Generate outputs](#output) <br>\n",
    "[7. Plot bandpasses](#band) <br>\n",
    "[8. Conclusions](#conclusion) <br>\n",
    "[Additional Resources](#resources) <br>\n",
    "[About the Notebook](#about) <br>\n",
    "[Citations](#cite) <br>"
   ]
  },
  {
   "cell_type": "markdown",
   "id": "b3ccc9f1",
   "metadata": {},
   "source": [
    "<a id=\"intro\"></a>\n",
    "## Introduction\n",
    "This notebook computes color terms between selected WFC3/UVIS filters and non-HST filters, such as Johnson-Cousins, for a user-defined reference spectrum. The terms as given are the difference between the magnitude of the spectrum in the selected non-HST filter and the corresponding UVIS filter. \n",
    "\n",
    "This tool reproduces the methods described in section 4 of [WFC3 ISR 2014-16](https://www.stsci.edu/files/live/sites/www/files/home/hst/instrumentation/wfc3/documentation/instrument-science-reports-isrs/_documents/2014/WFC3-2014-16.pdf), but will automatically use the latest available spectra and throughput tables.\n",
    "\n",
    "`stsynphot` requires access to data distributed by the [Calibration Data Reference System](https://hst-crds.stsci.edu/) (CRDS) in order to operate. Both packages look for an environment variable called `PYSYN_CDBS` to find the directory containing these data.\n",
    "\n",
    "Users can obtain these data files from the CDRS. Information on how to obtain the most up-to-date reference files (and what they contain) can be found [here](https://www.stsci.edu/hst/instrumentation/reference-data-for-calibration-and-tools/synphot-throughput-tables). An example of how to download the files with `curl` and set up this environment variable is presented below.\n",
    "\n",
    "For detailed instructions on how to install and set up these packages, see the [synphot](https://synphot.readthedocs.io/en/latest/#installation-and-setup) and [stsynphot](https://stsynphot.readthedocs.io/en/latest/#installation-and-setup) documentation."
   ]
  },
  {
   "cell_type": "markdown",
   "id": "6884c604",
   "metadata": {},
   "source": [
    "<a id=\"imports\"></a>\n",
    "## 1. Imports\n",
    "\n",
    "This notebook assumes you have created the virtual environment in [WFC3 notebooks'](https://github.com/spacetelescope/hst_notebooks/blob/main/notebooks/WFC3/README.md) installation instructions.\n",
    "\n",
    "We import:\n",
    "\n",
    "- *os* for setting environment variables\n",
    "- *tarfile* for extracting a .tar archive\n",
    "- *numpy* for handling array functions\n",
    "- *pandas* for managing data\n",
    "- *matplotlib.pyplot* for plotting data\n",
    "- *astropy.units* and *synphot.units* for handling units\n",
    "- *synphot* and *stsynphot* for evaluating synthetic photometry\n",
    "\n",
    "Additionally, we will need to set the `PYSYN_CDBS` environment variable *before* importing stsynphot. We will also create a Vega spectrum using synphot's inbuilt `from_vega()` method, as the latter package will supercede this method's functionality and require a downloaded copy of the latest Vega spectrum to be provided."
   ]
  },
  {
   "cell_type": "code",
   "execution_count": null,
   "id": "f014a9e2",
   "metadata": {},
   "outputs": [],
   "source": [
    "import os\n",
    "import tarfile\n",
    "import numpy as np\n",
    "import pandas as pd\n",
    "import matplotlib.pyplot as plt\n",
    "import astropy.units as u\n",
    "import synphot.units as su\n",
    "import synphot as syn\n",
    "from synphot import Observation\n",
    "\n",
    "%matplotlib inline\n",
    "\n",
    "vegaspec = syn.SourceSpectrum.from_vega()"
   ]
  },
  {
   "cell_type": "markdown",
   "id": "c7a66046",
   "metadata": {},
   "source": [
    "This section obtains the WFC3 throughput component tables for use with `stsynphot`. This step only needs to be done once. If these reference files have already been downloaded, this section can be skipped."
   ]
  },
  {
   "cell_type": "code",
   "execution_count": null,
   "id": "ad199734",
   "metadata": {},
   "outputs": [],
   "source": [
    "cmd_input = 'curl -O https://archive.stsci.edu/hlsps/reference-atlases/hlsp_reference-atlases_hst_multi_everything_multi_v11_sed.tar'\n",
    "os.system(cmd_input)"
   ]
  },
  {
   "cell_type": "markdown",
   "id": "4fcb217a",
   "metadata": {},
   "source": [
    "Once the downloaded is complete, extract the file and set the environment variable `PYSYN_CDBS` to the path of the `trds` subdirectory.  The next cell will do this for you, as long as the `.tar` file downloaded above has not been moved."
   ]
  },
  {
   "cell_type": "code",
   "execution_count": null,
   "id": "5eb68a42",
   "metadata": {},
   "outputs": [],
   "source": [
    "tar_archive = 'hlsp_reference-atlases_hst_multi_everything_multi_v11_sed.tar'\n",
    "extract_to = 'hlsp_reference-atlases_hst_multi_everything_multi_v11_sed'\n",
    "with tarfile.open(tar_archive, 'r') as tar:\n",
    "    tar.extractall(path=extract_to)\n",
    "\n",
    "os.environ['PYSYN_CDBS'] = 'hlsp_reference-atlases_hst_multi_everything_multi_v11_sed/grp/redcat/trds/'"
   ]
  },
  {
   "cell_type": "markdown",
   "id": "d8654a6b",
   "metadata": {},
   "source": [
    "Now, after having set up `PYSYN_CDBS`, we import stsynphot. A warning regarding the Vega spectrum is expected here."
   ]
  },
  {
   "cell_type": "code",
   "execution_count": null,
   "id": "59b75282",
   "metadata": {},
   "outputs": [],
   "source": [
    "import stsynphot as stsyn"
   ]
  },
  {
   "cell_type": "markdown",
   "id": "e7f2ee24",
   "metadata": {},
   "source": [
    "<a id=\"select\"></a>\n",
    "## 2. Select filters for the transformation\n",
    "\n",
    "Define the filters to use for computing the transformation. One filter should be a UVIS filter, and the other a non-HST filter such as a Johnson-Cousins filter.\n",
    "\n",
    "**Filter names should be input as a list of tupled strings. Each tuple represents a pair of filters to convert between, and should contain the non-HST filter as the first element, and the UVIS filter as the second.**\n",
    "\n",
    "For non-HST filters, the filter system be included in the string, separated from the filter name by a comma (e.g. `'johnson, v'` or `'sdss, g'`). The available non-HST filters are listed here:\n",
    "\n",
    "| System    | Bands               |\n",
    "|:----------|:--------------------|\n",
    "| cousins   | r, i                |\n",
    "| galex     | nuv, fuv            |\n",
    "| johnson   | u, b, v, r, i, j, k |\n",
    "| landolt   | u, b, v, r, i       |\n",
    "| sdss      | u, g, r, i, z,      |\n",
    "| stromgren | u, v, b, y          |\n",
    "\n",
    "Furthermore, Johnson-Cousins filters with corresponding UVIS filters are listed here:\n",
    "\n",
    "| Johnson-Cousins Filter \t| UVIS Filter \t|\n",
    "|:------------------------\t|:-------------\t|\n",
    "| U                      \t| F336W       \t|\n",
    "| B                      \t| F475W       \t|\n",
    "| V                      \t| F555W/F606W \t|\n",
    "| I                      \t| F814W       \t|\n",
    "\n",
    "A summary of the UVIS filters, with descriptions, is available in [Section 6.5.1](https://hst-docs.stsci.edu/wfc3ihb/chapter-6-uvis-imaging-with-wfc3/6-5-uvis-spectral-elements#id-6.5UVISSpectralElements-6.5.1FilterandGrismSummary) of the WFC3 Instrument Handbook\n",
    "\n",
    "The notebook is currently set up to return the color terms between the V and I Johnson-Cousins filters, and corresponding UVIS filters."
   ]
  },
  {
   "cell_type": "code",
   "execution_count": null,
   "id": "9b40d583",
   "metadata": {},
   "outputs": [],
   "source": [
    "filter_pairs = [('johnson, v', 'f555w'), ('cousins, i', 'f814w')]"
   ]
  },
  {
   "cell_type": "markdown",
   "id": "7798772d",
   "metadata": {},
   "source": [
    "<a id=\"spec\"></a>\n",
    "## 3. Define a spectrum\n",
    "\n",
    "Define a spectrum to get color terms for. Some common options are embedded below. A wide array of reference spectra are available for download from spectral atlases located [here](https://www.stsci.edu/hst/instrumentation/reference-data-for-calibration-and-tools/astronomical-catalogs).\n",
    "\n",
    "```python\n",
    "# Blackbody (5000 K)\n",
    "blackbody_temperature = 5000 * u.K\n",
    "\n",
    "model = syn.models.BlackBody1D(blackbody_temperature)\n",
    "source_spectrum  = syn.SourceSpectrum(model)\n",
    "\n",
    "# Power law \n",
    "pl_index = 0\n",
    "\n",
    "model = syn.models.PowerLawFlux1D(amplitude=flux_in, x_0=wl_in, alpha=pl_index)\n",
    "source_spectrum  = syn.SourceSpectrum(model)\n",
    "                   \n",
    "# Load from a FITS table (e.g. a CALSPEC spectrum)\n",
    "source_spectrum = syn.SourceSpectrum.from_file('/path/to/your/spectrum.fits')\n",
    "```\n",
    "Currently, the notebook is configured to use a 5000 K blackbody spectrum."
   ]
  },
  {
   "cell_type": "code",
   "execution_count": null,
   "id": "64bf3cdc",
   "metadata": {},
   "outputs": [],
   "source": [
    "blackbody_temperature = 5000 * u.K\n",
    "\n",
    "model = syn.models.BlackBody1D(blackbody_temperature)\n",
    "source_spectrum = syn.SourceSpectrum(model)"
   ]
  },
  {
   "cell_type": "markdown",
   "id": "47fd42a9",
   "metadata": {},
   "source": [
    "<a id=\"chips\"></a>\n",
    "## 4. Select UVIS chips\n",
    "\n",
    "Quantum efficiency differences between the two UVIS chips mean that you must specify which chips to use for computing color terms. Simply set the chip you would like to use to `True` and the other to `False`, or set both to `True` if you would like coefficients for both."
   ]
  },
  {
   "cell_type": "code",
   "execution_count": null,
   "id": "55a83fe6",
   "metadata": {},
   "outputs": [],
   "source": [
    "use_uvis1 = True\n",
    "use_uvis2 = True\n",
    "chips = [use_uvis1, use_uvis2]"
   ]
  },
  {
   "cell_type": "markdown",
   "id": "486907f1",
   "metadata": {},
   "source": [
    "<a id=\"system\"></a>\n",
    "## 5. Select magnitude systems\n",
    "\n",
    "Select which magnitude systems you would like color terms to be provided for. Set those you would like to `True` and others to `False`."
   ]
  },
  {
   "cell_type": "code",
   "execution_count": null,
   "id": "57cc10d1",
   "metadata": {},
   "outputs": [],
   "source": [
    "ABMAG = True\n",
    "STMAG = True\n",
    "VEGAMAG = False\n",
    "\n",
    "mags = [('ABMAG', u.ABmag, ABMAG), ('STMAG', u.STmag, STMAG), ('VEGAMAG', su.VEGAMAG, VEGAMAG)]"
   ]
  },
  {
   "cell_type": "markdown",
   "id": "00b22e5b",
   "metadata": {},
   "source": [
    "<a id=\"output\"></a>\n",
    "## 6. Generate outputs\n",
    "\n",
    "Generate a data frame containing the color terms for the inputs you have specified. "
   ]
  },
  {
   "cell_type": "markdown",
   "id": "aa37e55a",
   "metadata": {},
   "source": [
    "First, let's define the column names for the output table, and a list to fill with table rows."
   ]
  },
  {
   "cell_type": "code",
   "execution_count": null,
   "id": "6d5b3050",
   "metadata": {},
   "outputs": [],
   "source": [
    "cols = ['Filter Pair', 'Chip']\n",
    "rows = []"
   ]
  },
  {
   "cell_type": "markdown",
   "id": "2a2a9dc1",
   "metadata": {},
   "source": [
    "Then, append the names of magnitude systems being used."
   ]
  },
  {
   "cell_type": "code",
   "execution_count": null,
   "id": "f1f99d2a",
   "metadata": {},
   "outputs": [],
   "source": [
    "for name, _, toggle in mags:\n",
    "    if toggle:\n",
    "        cols.append(f'{name} Color Term')"
   ]
  },
  {
   "cell_type": "markdown",
   "id": "55c45d0f",
   "metadata": {},
   "source": [
    "Next, iterate over filter pairs. For each filter pair, this loop will:\n",
    "- generate observation mode strings, bandpasses, and observations\n",
    "- calculate the color term and append it\n",
    "- append filters, chip, and color term as a row to `rows`"
   ]
  },
  {
   "cell_type": "code",
   "execution_count": null,
   "id": "4b9a7577",
   "metadata": {},
   "outputs": [],
   "source": [
    "for pair in filter_pairs:\n",
    "    comparison_filter, uvis_filter = pair  # Unpack filters\n",
    "    filt_str = comparison_filter + ' - ' + uvis_filter\n",
    "    \n",
    "    for i, toggle in enumerate(chips):\n",
    "        if not toggle:\n",
    "            continue\n",
    "        chip_str = 'UVIS' + str(i + 1)\n",
    "        \n",
    "        # Generate observation mode strings, bandpasses, observations\n",
    "        comparison_obsmode = comparison_filter\n",
    "        uvis_obsmode = 'wfc3, ' + chip_str + ', ' + uvis_filter\n",
    "\n",
    "        comparison_bp = stsyn.band(comparison_obsmode)\n",
    "        uvis_bp = stsyn.band(uvis_obsmode)\n",
    "\n",
    "        comparison_observation = Observation(source_spectrum, comparison_bp)\n",
    "        uvis_observation = Observation(source_spectrum, uvis_bp)\n",
    "        row = [filt_str, chip_str]  # Append filters and chip to row\n",
    "\n",
    "        for name, unit, toggle in mags:\n",
    "            if not toggle:\n",
    "                continue\n",
    "            comparison_countrate = comparison_observation.effstim(flux_unit=unit, vegaspec=vegaspec) \n",
    "            uvis_countrate = uvis_observation.effstim(flux_unit=unit, vegaspec=vegaspec)\n",
    "            color = comparison_countrate - uvis_countrate # Find color term\n",
    "            row.append(f'{color.value:.3f}')  # Append color term\n",
    "            \n",
    "        rows.append(row)  # Append row to list of rows"
   ]
  },
  {
   "cell_type": "markdown",
   "id": "ac4e9a7e",
   "metadata": {},
   "source": [
    "Finally, generate and return the output table."
   ]
  },
  {
   "cell_type": "code",
   "execution_count": null,
   "id": "bafd58e3",
   "metadata": {},
   "outputs": [],
   "source": [
    "df = pd.DataFrame(rows, columns=cols)\n",
    "df"
   ]
  },
  {
   "cell_type": "markdown",
   "id": "7f437658",
   "metadata": {},
   "source": [
    "If you wish to save the output table as a .txt file, please uncomment and execute the code block below."
   ]
  },
  {
   "cell_type": "code",
   "execution_count": null,
   "id": "46610393",
   "metadata": {},
   "outputs": [],
   "source": [
    "# df.to_csv('your/path/here.txt', sep='\\t')"
   ]
  },
  {
   "cell_type": "markdown",
   "id": "3e9decdc",
   "metadata": {},
   "source": [
    "<a id=\"band\"></a>\n",
    "## 7. Plot bandpasses\n",
    "\n",
    "It can be nice to see your selected bandpass pairs plotted with each other. The cell below will generate a figure with subplots for each filter pair specified above, as well as the relevant portion of the spectrum you've defined, all normalized to fit on the same axes.\n",
    "\n",
    "**Note:** For the purposes of these plots, the non-HST bandpass and spectrum have been scaled to the amplitude of the HST bandpass, which reflects the actual total system throughput as a function of wavelength."
   ]
  },
  {
   "cell_type": "code",
   "execution_count": null,
   "id": "af690657",
   "metadata": {},
   "outputs": [],
   "source": [
    "fig, axs = plt.subplots(1, len(filter_pairs), sharey=True, figsize=(4*len(filter_pairs), 5))  # Instantiate subplots\n",
    "axs[0].set_ylabel('Throughput')\n",
    "for i, pair in enumerate(filter_pairs):\n",
    "    \n",
    "    f1, f2 = pair\n",
    "    bp1 = stsyn.band(f1)\n",
    "    bp2 = stsyn.band('wfc3, uvis1,' + f2)\n",
    "    \n",
    "    # Create wavelength array for subplot based on average bandpass wavelength and width\n",
    "    avgwave = (bp1.avgwave().to(u.nm) + bp2.avgwave().to(u.nm))/2\n",
    "    width = (bp1.rectwidth().to(u.nm) + bp2.rectwidth().to(u.nm))/2\n",
    "    left = max((avgwave - 1.5 * width).value, 1)\n",
    "    right = (avgwave + 1.5 * width).value\n",
    "    \n",
    "    wl = np.arange(left, right) * u.nm\n",
    "\n",
    "    # Normalize curves to fit on one set of axes\n",
    "    bp1_norm = bp1(wl) / np.max(bp1(wl)) * np.max(bp2(wl))\n",
    "    spec_norm = source_spectrum(wl) / np.max(source_spectrum(wl)) * np.max(bp2(wl))\n",
    "    \n",
    "    # Plot bandpasses and spectrum on subplot \n",
    "    axs[i].plot(wl, bp1_norm, ls='--', label=f1, c='tab:blue')\n",
    "    axs[i].plot(wl, bp2(wl),  ls='-.', label=f2, c='tab:red')\n",
    "    axs[i].plot(wl, spec_norm, label='source spectrum', c='tab:purple')\n",
    "    axs[i].set_xlabel('Wavelength (nm)')\n",
    "    axs[i].legend(fontsize='x-small', loc='upper right')\n",
    "plt.tight_layout()"
   ]
  },
  {
   "cell_type": "markdown",
   "id": "65cd486e",
   "metadata": {},
   "source": [
    "<a id=\"conclusion\"></a>\n",
    "## 8. Conclusions\n",
    "\n",
    "Thank you for walking through this notebook. Now using WFC3 data, you should be more familiar with:\n",
    "\n",
    "- Generating synthetic observations using `synphot` and `stsynphot`.\n",
    "- Finding color terms between WFC3/UVIS filters and non-HST filters.\n",
    "- Ploting bandpasses to investigate various throughputs.\n",
    "\n",
    "#### Congratulations, you have completed the notebook!"
   ]
  },
  {
   "cell_type": "markdown",
   "id": "0c1d83ac",
   "metadata": {},
   "source": [
    "<a id=\"resources\"></a>\n",
    "## Additional Resources\n",
    "Below are some additional resources that may be helpful. Please send any questions through the [HST Helpdesk](https://stsci.service-now.com/hst).\n",
    "\n",
    "- [WFC3 Website](https://www.stsci.edu/hst/instrumentation/wfc3)\n",
    "- [WFC3 Instrument Handbook](https://hst-docs.stsci.edu/wfc3ihb)\n",
    "- [WFC3 Data Handbook](https://hst-docs.stsci.edu/wfc3dhb)\n",
    "    - see sections 9.5.2 for reference to this notebook\n",
    "    \n",
    "<a id=\"about\"></a>\n",
    "## About this Notebook\n",
    "\n",
    "**Authors:** Aidan Pidgeon, Jennifer Mack; WFC3 Instrument Team\n",
    "\n",
    "**Updated on:** 2021-09-13\n",
    "\n",
    "<a id=\"cite\"></a>\n",
    "## Citations\n",
    "\n",
    "If you use `numpy`, `astropy`, `synphot`, or `stsynphot` for published research, please cite the\n",
    "authors. Follow these links for more information about citing the libraries below:\n",
    "\n",
    "* [Citing `numpy`](https://numpy.org/citing-numpy/)\n",
    "* [Citing `astropy`](https://www.astropy.org/acknowledging.html)\n",
    "* [Citing `synphot`](https://synphot.readthedocs.io/en/latest/)\n",
    "* [Citing `stsynphot`](https://stsynphot.readthedocs.io/en/latest/index.html)\n",
    "\n",
    "***\n",
    "[Top of Page](#title)\n",
    "<img style=\"float: right;\" src=\"https://raw.githubusercontent.com/spacetelescope/notebooks/master/assets/stsci_pri_combo_mark_horizonal_white_bkgd.png\" alt=\"Space Telescope Logo\" width=\"200px\"/> "
   ]
  }
 ],
 "metadata": {
  "kernelspec": {
   "display_name": "Python 3 (ipykernel)",
   "language": "python",
   "name": "python3"
  },
  "language_info": {
   "codemirror_mode": {
    "name": "ipython",
    "version": 3
   },
   "file_extension": ".py",
   "mimetype": "text/x-python",
   "name": "python",
   "nbconvert_exporter": "python",
   "pygments_lexer": "ipython3",
   "version": "3.11.6"
  }
 },
 "nbformat": 4,
 "nbformat_minor": 5
}
