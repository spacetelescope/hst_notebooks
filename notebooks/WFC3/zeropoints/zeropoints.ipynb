{
 "cells": [
  {
   "cell_type": "markdown",
   "metadata": {},
   "source": [
    "<a id=\"title\"></a>\n",
    "# Calculating WFC3 Zeropoints with STSynphot\n",
    "***\n",
    "## Learning Goals\n",
    "By the end of this tutorial, you will:\n",
    "- Calculate zeropoints and other photometric properties using `stsynphot`.\n",
    "- Create, plot, and save 'total system throughput' tables.\n",
    "\n",
    "## Table of Contents\n",
    "[Introduction](#intro) <br>\n",
    "[1. Imports](#imports) <br>\n",
    "[2. Download throughput tables and define variables](#envvar) <br>\n",
    "[3. Set up the 'obsmode' string](#inps) <br>\n",
    "[4. Basic usage for a single 'obsmode'](#usage) <br>\n",
    "[5. Compute zeropoints and other photometric properties](#zps) <br>\n",
    "[6. Iterate over multiple 'obsmodes'](#iterate) <br>\n",
    "[7. Create and plot 'total system throughput' tables](#curves) <br>\n",
    "[8. Conclusions](#conclusions) <br>\n",
    "[Additional Resources](#resources) <br>\n",
    "[About the Notebook](#about) <br>\n",
    "[Citations](#cite) <br>"
   ]
  },
  {
   "cell_type": "markdown",
   "metadata": {},
   "source": [
    "<a id=\"intro\"></a>\n",
    "## Introduction\n",
    "This notebook shows how to calculate photometric zeropoints using the Python package `stsynphot` for any WFC3 detector, filter, date, or aperture. This tutorial is especially useful for calculating Vegamag zeropoints, which require an input spectrum. The notebook is also useful for computing time-dependent WFC3/UVIS zeropoints for any observation date, as the values listed in [WFC3 ISR 2021-04](https://www.stsci.edu/files/live/sites/www/files/home/hst/instrumentation/wfc3/documentation/instrument-science-reports-isrs/_documents/2021/WFC3_ISR_2021-04.pdf) are defined for the reference epoch. As of mid-2021, the WFC3/IR zeropoints are not time-dependent.\n",
    "\n",
    "More documentation on `stsynphot` is available [here](https://stsynphot.readthedocs.io/en/latest/index.html). Using `stsynphot` requires downloading the throughput curves for the HST instruments and optical path.  One method of doing this is shown in [Section 2](#envvar).  More information on the throughput tables can be found [here](https://www.stsci.edu/hst/instrumentation/reference-data-for-calibration-and-tools/synphot-throughput-tables)."
   ]
  },
  {
   "cell_type": "markdown",
   "metadata": {},
   "source": [
    "<a id=\"imports\"></a>\n",
    "## 1. Imports\n",
    "\n",
    "This notebook assumes you have created the virtual environment in [WFC3 Library's](https://github.com/spacetelescope/WFC3Library) installation instructions.\n",
    "\n",
    "We import:\n",
    "- *os* for setting environment variables\n",
    "\n",
    "- *numpy* for handling array functions\n",
    "- *matplotlib.pyplot* for plotting data\n",
    "- *astropy* for astronomy related functions\n",
    "\n",
    "- *synphot* and *stsynphot* for evaluating synthetic photometry"
   ]
  },
  {
   "cell_type": "code",
   "execution_count": null,
   "metadata": {},
   "outputs": [],
   "source": [
    "import os\n",
    "\n",
    "import numpy as np\n",
    "import matplotlib.pyplot as plt\n",
    "\n",
    "from astropy.table import Table\n",
    "from astropy.time import Time\n",
    "\n",
    "from synphot import Observation\n",
    "import stsynphot as stsyn"
   ]
  },
  {
   "cell_type": "markdown",
   "metadata": {},
   "source": [
    "<a class=\"anchor\" id=\"envvar\"></a>\n",
    "## 2. Download throughput tables and define variables\n",
    "\n",
    "This section obtains the WFC3 throughput component tables for use with `synphot`. If reference files need to be downloaded, please uncomment and execute the code block below."
   ]
  },
  {
   "cell_type": "code",
   "execution_count": null,
   "metadata": {},
   "outputs": [],
   "source": [
    "# cmd_input = 'curl -O https://archive.stsci.edu/hlsps/reference-atlases/hlsp_reference-atlases_hst_multi_everything_multi_v11_sed.tar'\n",
    "# os.system(cmd_input)"
   ]
  },
  {
   "cell_type": "markdown",
   "metadata": {},
   "source": [
    "Once the files are downloaded, unpack the files and set the environment variable `PYSYN_CDBS` to the path of the unpacked files."
   ]
  },
  {
   "cell_type": "code",
   "execution_count": null,
   "metadata": {},
   "outputs": [],
   "source": [
    "# os.environ['PYSYN_CDBS'] = '/path/to/my/reference/files/'"
   ]
  },
  {
   "cell_type": "markdown",
   "metadata": {},
   "source": [
    "Rather than downloading the entire calspec database (synphot6.tar.gz), we can point directly to the latest Vega spectrum which is required for computing VEGAMAG."
   ]
  },
  {
   "cell_type": "code",
   "execution_count": null,
   "metadata": {},
   "outputs": [],
   "source": [
    "vega_url = 'https://ssb.stsci.edu/trds/calspec/alpha_lyr_stis_010.fits'\n",
    "stsyn.Vega = stsyn.spectrum.SourceSpectrum.from_file(vega_url)"
   ]
  },
  {
   "cell_type": "markdown",
   "metadata": {},
   "source": [
    "<a class=\"anchor\" id=\"inps\"></a>\n",
    "## 3. Set up the 'obsmode' string"
   ]
  },
  {
   "cell_type": "markdown",
   "metadata": {},
   "source": [
    "Parameters to set in the `obsmode` string include: \n",
    "1. detector,\n",
    "2. filter,\n",
    "3. observation date (WFC3/UVIS only), and \n",
    "4. aperture size (in arcsec).  \n",
    "\n",
    "Note that a 6.0\" aperture is considered to be \"infinite\", thus containing all of the flux. The zeropoints posted on the WFC3 website are calculated for an infinite aperture, so when computing photometry for smaller radii, aperture corrections must be applied.\n",
    "\n",
    "The inputs below can be changed to any desired `obsmode`, with examples of alternate parameters shown as commented lines.\n",
    "\n",
    "First, here are some detector examples with WFC3/UVIS1 as the default, and other options including both WFC3/UVIS chips or the WFC3/IR detector. \n",
    "\n",
    "**Note: if the IR detector is chosen, the filtnames below must be updated.**"
   ]
  },
  {
   "cell_type": "code",
   "execution_count": null,
   "metadata": {},
   "outputs": [],
   "source": [
    "detectors  = ['uvis1']\n",
    "#detectors = ['uvis1', 'uvis2']\n",
    "#detectors = ['ir']"
   ]
  },
  {
   "cell_type": "markdown",
   "metadata": {},
   "source": [
    "Next, here are some filter examples with all WFC3/UVIS filters as the default, and other options including just F606W and the WFC3/IR filters. \n",
    "\n",
    "**Note: if WFC3/IR filters is chosen, the detectors above must be set to ['ir'].**"
   ]
  },
  {
   "cell_type": "code",
   "execution_count": null,
   "metadata": {},
   "outputs": [],
   "source": [
    "filtnames = ['f200lp','f218w','f225w','f275w','f280n','f300x', 'f336w','f343n','f350lp',\n",
    "             'f373n', 'f390m','f390w','f395n','f410m','f438w', 'f467m','f469n','f475w',\n",
    "             'f475x', 'f487n','f502n','f547m','f555w','f600lp','f606w','f621m','f625w',\n",
    "             'f631n', 'f645n','f656n','f657n','f658n','f665n', 'f673n','f680n','f689m',\n",
    "             'f763m', 'f775w','f814w','f845m','f850lp','f953n']\n",
    "#filtnames = ['f606w']   \n",
    "#filtnames = ['f098m','f105w','f110w','f125w','f126n','f127m','f128n','f130n','f132n','f139m','f140w','f153m','f160w','f164n','f167n']"
   ]
  },
  {
   "cell_type": "markdown",
   "metadata": {},
   "source": [
    "Now, here are some date examples with the WFC3/UVIS reference epoch (55008 in MJD;\n",
    "2009-06-26) as the default, and the other option being the time right now."
   ]
  },
  {
   "cell_type": "code",
   "execution_count": null,
   "metadata": {},
   "outputs": [],
   "source": [
    "mjd = '55008'\n",
    "# mjd = str(Time.now().mjd)"
   ]
  },
  {
   "cell_type": "markdown",
   "metadata": {},
   "source": [
    "Finally, here are some aperture radius examples with 6.0\" (151 pixels; \"infinity\") as the default, and the other options including 0.396\" (10 pixels for WFC3/UVIS) and 0.385\" (3 pixels for WFC3/IR)."
   ]
  },
  {
   "cell_type": "code",
   "execution_count": null,
   "metadata": {},
   "outputs": [],
   "source": [
    "aper = '6.0'\n",
    "#aper = '0.396'\n",
    "#aper = '0.385'"
   ]
  },
  {
   "cell_type": "markdown",
   "metadata": {},
   "source": [
    "<a class=\"anchor\" id=\"usage\"></a>\n",
    "## 4. Basic usage for a single 'obsmode'"
   ]
  },
  {
   "cell_type": "markdown",
   "metadata": {},
   "source": [
    "The calculation of the zeropoints starts with creating a specific bandpass object.  Bandpasses generally consist of at least an instrument name, detector name, and filter name, though other parameters (such as the MJD and aperture radius shown above) are optional.\n",
    "\n",
    "The cell below defines `obsmode` and creates a bandpass object."
   ]
  },
  {
   "cell_type": "code",
   "execution_count": null,
   "metadata": {},
   "outputs": [],
   "source": [
    "obsmode = 'wfc3,uvis1,f200lp'\n",
    "bp = stsyn.band(obsmode)"
   ]
  },
  {
   "cell_type": "markdown",
   "metadata": {},
   "source": [
    "Optional parameters are supplied on the end of the basic bandpass:"
   ]
  },
  {
   "cell_type": "code",
   "execution_count": null,
   "metadata": {},
   "outputs": [],
   "source": [
    "obsmode = 'wfc3,uvis1,f200lp,mjd#55008,aper#6.0'\n",
    "bp = stsyn.band(obsmode)"
   ]
  },
  {
   "cell_type": "markdown",
   "metadata": {},
   "source": [
    "In addition, we can use the parameters defined in [Section 3](#inps)."
   ]
  },
  {
   "cell_type": "code",
   "execution_count": null,
   "metadata": {},
   "outputs": [],
   "source": [
    "obsmode = 'wfc3,{},{},mjd#{},aper#{}'.format(detectors[0],filtnames[0],mjd,aper)\n",
    "bp = stsyn.band(obsmode)"
   ]
  },
  {
   "cell_type": "markdown",
   "metadata": {},
   "source": [
    " <a class=\"anchor\" id=\"zps\"></a>\n",
    "## 5. Compute zeropoints and other photometric properties"
   ]
  },
  {
   "cell_type": "markdown",
   "metadata": {},
   "source": [
    "With the bandpass objects, we can now calculate zeropoints, pivot wavelengths, and photometric bandwidths.  To calculate Vegamag zeropoints, we use the Vega spectrum to calculate the flux in a given bandpass."
   ]
  },
  {
   "cell_type": "code",
   "execution_count": null,
   "metadata": {},
   "outputs": [],
   "source": [
    "def calculate_values(detector, filt, mjd, aper):\n",
    "    # parameters can be removed from obsmode as needed\n",
    "    obsmode = 'wfc3,{},{},mjd#{},aper#{}'.format(detector, filt, mjd, aper)\n",
    "    bp = stsyn.band(obsmode)  \n",
    "    \n",
    "    # STMag\n",
    "    photflam = bp.unit_response(stsyn.conf.area)  # inverse sensitivity in flam\n",
    "    stmag = -21.1 -2.5 * np.log10(photflam.value)\n",
    "    \n",
    "    # Pivot Wavelength and bandwidth\n",
    "    photplam  = bp.pivot() # pivot wavelength in angstroms\n",
    "    bandwidth = bp.photbw() # bandwidth in angstroms\n",
    "    \n",
    "    # ABMag\n",
    "    abmag = stmag - 5 * np.log10(photplam.value) + 18.6921\n",
    "    \n",
    "    # Vegamag\n",
    "    obs = Observation(stsyn.Vega, bp, binset=bp.binset)  # synthetic observation of vega in bandpass using vega spectrum\n",
    "    vegamag = -obs.effstim(flux_unit='obmag', area=stsyn.conf.area)\n",
    "    \n",
    "    return obsmode, photplam.value, bandwidth.value, photflam.value, stmag, abmag, vegamag.value"
   ]
  },
  {
   "cell_type": "code",
   "execution_count": null,
   "metadata": {},
   "outputs": [],
   "source": [
    "obsmode, photplam, bandwidth, photflam, stmag, abmag, vegamag = calculate_values(detectors[0], filtnames[0], mjd, aper)\n",
    "\n",
    "# print values\n",
    "print('Obsmode                              PivotWave Photflam   STMAG   ABMAG   VEGAMAG')\n",
    "print(f'{obsmode}, {photplam:.1f}, {photflam:.4e}, {stmag:.3f}, {abmag:.3f}, {vegamag:.3f}')\n"
   ]
  },
  {
   "cell_type": "markdown",
   "metadata": {},
   "source": [
    "<a class=\"anchor\" id=\"iterate\"></a>\n",
    "## 6. Iterate over multiple 'obsmodes'"
   ]
  },
  {
   "cell_type": "markdown",
   "metadata": {},
   "source": [
    "To calculate zeropoints for multiple detectors and/or filters, we can use the function defined above and loop through detectors and filters defined in [Section 3](#inps)."
   ]
  },
  {
   "cell_type": "code",
   "execution_count": null,
   "metadata": {
    "scrolled": true
   },
   "outputs": [],
   "source": [
    "oms, pivots, bws, pfs, st, ab, vm = [], [], [], [], [], [], []\n",
    "\n",
    "print('Obsmode                              PivotWave Photflam   STMAG   ABMAG   VEGAMAG')\n",
    "for detector in detectors:\n",
    "    for filt in filtnames:\n",
    "        res = calculate_values(detector, filt, mjd, aper)\n",
    "        obsmode, photplam, bandwidth, photflam, stmag, abmag, vegamag = res # solely for readability\n",
    "        \n",
    "        # print values\n",
    "        print(f'{obsmode}, {photplam:.1f}, {photflam:.4e}, {stmag:.3f}, {abmag:.3f}, {vegamag:.3f}')\n",
    "        \n",
    "        oms.append(obsmode)\n",
    "        pivots.append(photplam)\n",
    "        bws.append(bandwidth)\n",
    "        pfs.append(photflam)\n",
    "        st.append(stmag)\n",
    "        ab.append(abmag)\n",
    "        vm.append(vegamag)\n"
   ]
  },
  {
   "cell_type": "markdown",
   "metadata": {},
   "source": [
    "Values can also be written into an astropy table. "
   ]
  },
  {
   "cell_type": "code",
   "execution_count": null,
   "metadata": {},
   "outputs": [],
   "source": [
    "tbl = Table([oms, pivots, bws, pfs, st, ab, vm], \n",
    "            names=['Obsmode', 'Pivot Wave', 'Bandwidth', 'Photflam', 'STMag', 'ABMag', 'VegaMag'])"
   ]
  },
  {
   "cell_type": "markdown",
   "metadata": {},
   "source": [
    "We'll also round  columns to a smaller number of decimals."
   ]
  },
  {
   "cell_type": "code",
   "execution_count": null,
   "metadata": {},
   "outputs": [],
   "source": [
    "for col in tbl.itercols():\n",
    "    if col.name == 'Photflam':\n",
    "        col.info.format = '.4e'\n",
    "    elif col.info.dtype.kind == 'f':        \n",
    "        col.info.format = '.3f'"
   ]
  },
  {
   "cell_type": "markdown",
   "metadata": {},
   "source": [
    "Let's view our astropy table:"
   ]
  },
  {
   "cell_type": "code",
   "execution_count": null,
   "metadata": {},
   "outputs": [],
   "source": [
    "tbl"
   ]
  },
  {
   "cell_type": "markdown",
   "metadata": {},
   "source": [
    "We can finally save the table as a .txt file."
   ]
  },
  {
   "cell_type": "code",
   "execution_count": null,
   "metadata": {},
   "outputs": [],
   "source": [
    "tbl.write('uvis_zp_tbl.txt', format='ascii.commented_header')"
   ]
  },
  {
   "cell_type": "markdown",
   "metadata": {},
   "source": [
    "<a class=\"anchor\" id=\"curves\"></a>\n",
    "## 7. Create and plot 'total system throughput' tables"
   ]
  },
  {
   "cell_type": "markdown",
   "metadata": {},
   "source": [
    "The function below returns a tuple containing two objects, the first being an array of wavelengths, and the second being the throughput at each of those wavelengths."
   ]
  },
  {
   "cell_type": "code",
   "execution_count": null,
   "metadata": {},
   "outputs": [],
   "source": [
    "def calculate_bands(bp, save=False, overwrite=True):\n",
    "    # Pass in bandpass object as bp\n",
    "    waves = bp.waveset\n",
    "    throughput = bp(waves)\n",
    "    \n",
    "    if save:\n",
    "        tmp = Table([waves, throughput], names=['WAVELENGTH', 'THROUGHPUT'])\n",
    "        tmp.write(','.join(bp.obsmode.modes)+'.txt', format='ascii.commented_header', overwrite=overwrite)\n",
    "        \n",
    "    return (waves, throughput)"
   ]
  },
  {
   "cell_type": "markdown",
   "metadata": {},
   "source": [
    "We'll calculate the throughput table for WFC3/UVIS1 in F200LP."
   ]
  },
  {
   "cell_type": "code",
   "execution_count": null,
   "metadata": {},
   "outputs": [],
   "source": [
    "obsmode = 'wfc3,uvis1,f200lp'\n",
    "bp = stsyn.band(obsmode)\n",
    "wl, tp = calculate_bands(bp)"
   ]
  },
  {
   "cell_type": "markdown",
   "metadata": {},
   "source": [
    "Now, let's plot our results."
   ]
  },
  {
   "cell_type": "code",
   "execution_count": null,
   "metadata": {},
   "outputs": [],
   "source": [
    "fig = plt.figure(figsize=(10,5))\n",
    "plt.plot(wl, tp)\n",
    "plt.xlim(1500, 11000) \n",
    "plt.xlabel('Wavelength [Angstroms]')\n",
    "plt.ylabel('Throughput')\n",
    "plt.title('WFC3,UVIS1,F200LP')"
   ]
  },
  {
   "cell_type": "markdown",
   "metadata": {},
   "source": [
    "To save the curve in an ascii table, simply pass the argument `save=True`:"
   ]
  },
  {
   "cell_type": "code",
   "execution_count": null,
   "metadata": {},
   "outputs": [],
   "source": [
    "calculate_bands(bp, save=True)"
   ]
  },
  {
   "cell_type": "markdown",
   "metadata": {},
   "source": [
    "To save curves for all obsmodes defined in [Section 3](#inps) in the input list, we can loop through detectors and filters."
   ]
  },
  {
   "cell_type": "code",
   "execution_count": null,
   "metadata": {},
   "outputs": [],
   "source": [
    "for det in detectors:\n",
    "    for filt in filtnames:\n",
    "        obsmode = 'wfc3,{},{}'.format(det, filt)\n",
    "        bp = stsyn.band(obsmode)\n",
    "        calculate_bands(bp, save=True)"
   ]
  },
  {
   "cell_type": "markdown",
   "metadata": {},
   "source": [
    "In addition, we'll create a directory called `obsmodes_curves` and move all the saved files to that directory."
   ]
  },
  {
   "cell_type": "code",
   "execution_count": null,
   "metadata": {},
   "outputs": [],
   "source": [
    "! mkdir obsmodes_curves\n",
    "! mv wfc3*txt obsmodes_curves\n",
    "! ls obsmodes_curves"
   ]
  },
  {
   "cell_type": "markdown",
   "metadata": {},
   "source": [
    "<a id=\"conclusions\"></a>\n",
    "## 8. Conclusions\n",
    "\n",
    "Thank you for walking through this notebook. Now using WFC3 data, you should be more familiar with:\n",
    "\n",
    "- Calculating zeropoints and other photometric properties using `stsynphot`.\n",
    "- Creating, plotting, and saving 'total system throughput' tables.\n",
    "\n",
    "#### Congratulations, you have completed the notebook!"
   ]
  },
  {
   "cell_type": "markdown",
   "metadata": {},
   "source": [
    "<a id=\"resources\"></a>\n",
    "## Additional Resources\n",
    "Below are some additional resources that may be helpful. Please send any questions through the [HST Helpdesk](https://stsci.service-now.com/hst).\n",
    "\n",
    "- [WFC3 Website](https://www.stsci.edu/hst/instrumentation/wfc3)\n",
    "- [WFC3 Instrument Handbook](https://hst-docs.stsci.edu/wfc3ihb)\n",
    "- [WFC3 Data Handbook](https://hst-docs.stsci.edu/wfc3dhb)\n",
    "    - see sections 9.5.2 for reference to this notebook\n",
    "    \n",
    "<a id=\"about\"></a>\n",
    "## About this Notebook\n",
    "\n",
    "**Authors:** Varun Bajaj, Jennifer Mack; WFC3 Instrument Team\n",
    "\n",
    "**Updated on:** 2021-09-08\n",
    "\n",
    "<a id=\"cite\"></a>\n",
    "## Citations\n",
    "\n",
    "If you use `numpy`, `astropy`, `synphot`, or `stsynphot` for published research, please cite the\n",
    "authors. Follow these links for more information about citing the libraries below:\n",
    "\n",
    "* [Citing `numpy`](https://numpy.org/citing-numpy/)\n",
    "* [Citing `astropy`](https://www.astropy.org/acknowledging.html)\n",
    "* [Citing `synphot`](https://synphot.readthedocs.io/en/latest/)\n",
    "* [Citing `stsynphot`](https://stsynphot.readthedocs.io/en/latest/index.html)\n",
    "\n",
    "***\n",
    "[Top of Page](#title)\n",
    "<img style=\"float: right;\" src=\"https://raw.githubusercontent.com/spacetelescope/notebooks/master/assets/stsci_pri_combo_mark_horizonal_white_bkgd.png\" alt=\"Space Telescope Logo\" width=\"200px\"/> "
   ]
  },
  {
   "cell_type": "code",
   "execution_count": null,
   "metadata": {},
   "outputs": [],
   "source": []
  }
 ],
 "metadata": {
  "kernelspec": {
   "display_name": "Python 3 (ipykernel)",
   "language": "python",
   "name": "python3"
  },
  "language_info": {
   "codemirror_mode": {
    "name": "ipython",
    "version": 3
   },
   "file_extension": ".py",
   "mimetype": "text/x-python",
   "name": "python",
   "nbconvert_exporter": "python",
   "pygments_lexer": "ipython3",
   "version": "3.10.6"
  }
 },
 "nbformat": 4,
 "nbformat_minor": 4
}
