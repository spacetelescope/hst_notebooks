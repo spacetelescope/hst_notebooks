{
 "cells": [
  {
   "cell_type": "markdown",
   "metadata": {},
   "source": [
    "<a id=\"title\"></a>\n",
    "# WFC3/UVIS Time-dependent Photometry\n",
    "<hr>\n",
    "## Learning Goals\n",
    "By the end of this tutorial, you will:  \n",
    "- Compute aperture photometry on FLC frames acquired at three unique epochs and apply the new time-dependent inverse sensitivity (PHOTFLAM) keywords.\n",
    "- Recompute aperture photometry on modified FLC frames with 'equalized' countrate values.\n",
    "- Redrizzle the 'equalized' FLC frames and compute aperture photometry on the DRC products. \n",
    "\n",
    "## Table of Contents\n",
    "[Introduction](#intro) <br>\n",
    "[1. Imports](#imports) <br>\n",
    "[2. Download the data](#data) <br>\n",
    "[3. Correct for distortion using the Pixel Area Map](#pam) <br>\n",
    "\n",
    "[4. Compute aperture photometry on the FLC frames](#phot) <br>\n",
    "- [4.1 Calculate countrates](#calc_phot) <br>\n",
    "- [4.2 Calculate magnitudes](#calc_mag) <br>\n",
    "- [4.3 Plot countrate vs date](#plot_count) <br>\n",
    "- [4.4 Plot magnitude vs date](#plot_mag) <br>\n",
    "\n",
    "[5. Correct the FLC frames using 'photometric equalization'](#equal) <br>\n",
    "- [5.1 Recompute countrates](#calc_equal) <br>\n",
    "- [5.2 Plot corrected countrate vs date](#plot_equal) <br>\n",
    "\n",
    "[6. Redrizzle the corrected FLC frames for each epoch](#astro) <br>\n",
    "- [6.1 Recalculate photometry on the new DRC frames](#calc_astro) <br>\n",
    "- [6.2 Plot DRC countrate vs date](#plot_astro) <br>\n",
    "\n",
    "[7. Conclusions](#conclusions) <br>\n",
    "[Additional Resources](#resources) <br>\n",
    "[About the Notebook](#about) <br>\n",
    "[Citations](#cite) <br>"
   ]
  },
  {
   "cell_type": "markdown",
   "metadata": {},
   "source": [
    "<a id=\"intro\"></a>\n",
    "## Introduction\n",
    "\n",
    "For UVIS images retrieved after October 15, 2020, new time-dependent photometry keyword values (PHOTFLAM, PHTFLAM1, PHTFLAM2 and PHTRATIO) are populated in the image header and must be applied separately for each observation epoch. This is a change from prior calibration, where a single set of keyword values were provided for each filter, independent of date. For more detail on the new calibration, see [WFC3 ISR 2021-04](https://www.stsci.edu/files/live/sites/www/files/home/hst/instrumentation/wfc3/documentation/instrument-science-reports-isrs/_documents/2021/WFC3_ISR_2021-04.pdf).\n",
    "\n",
    "In this tutorial, we show how to use the time-dependent calibration to compute aperture photometry on UVIS calibrated, CTE-corrected images (flc.fits, hereafter FLC) obtained at three epochs, spanning a total range of ~8 years and showing a loss in sensitivity of ~2%. The repository includes a CSV file containing a list of FLCs and the centroid of the star in each image, as well as the UVIS Pixel Area Maps to correct for distortion when working with FLC data.\n",
    "\n",
    "Alternately, the FLC science arrays may be 'equalized' to account for sensitivity changes prior to computing photometry, where a reference set of keywords may be then used for all images. This photometric 'equalization' must be performed before combining any set of FLC images with AstroDrizzle which span multiple epochs in time."
   ]
  },
  {
   "cell_type": "markdown",
   "metadata": {},
   "source": [
    "<a id=\"imports\"></a>\n",
    "## 1. Imports\n",
    "\n",
    "This notebook assumes you have created the virtual environment in [WFC3 Library's](https://github.com/spacetelescope/WFC3Library) installation instructions.\n",
    "\n",
    "We import:\n",
    "- *os* for setting environment variables\n",
    "- *glob* for finding lists of files\n",
    "- *shutil* for managing directories\n",
    "\n",
    "- *numpy* for handling array functions\n",
    "- *pandas* for managing data\n",
    "- *matplotlib.pyplot* for plotting data\n",
    "- *astroquery.mast Observations* for downloading data from MAST\n",
    "\n",
    "- *astropy* for astronomy related functions\n",
    "- *drizzlepac* for combining images\n",
    "- *photutils* for photometric calculations\n",
    "- *stwcs* for updating the World Coordinate System"
   ]
  },
  {
   "cell_type": "code",
   "execution_count": 1,
   "metadata": {
    "execution": {
     "iopub.execute_input": "2025-09-17T22:01:16.518913Z",
     "iopub.status.busy": "2025-09-17T22:01:16.518740Z",
     "iopub.status.idle": "2025-09-17T22:01:23.838581Z",
     "shell.execute_reply": "2025-09-17T22:01:23.838061Z"
    }
   },
   "outputs": [],
   "source": [
    "import os\n",
    "import glob\n",
    "import shutil\n",
    "\n",
    "import numpy as np\n",
    "import pandas as pd\n",
    "import matplotlib.pyplot as plt\n",
    "\n",
    "from astropy.io import fits\n",
    "from astropy.stats import sigma_clipped_stats\n",
    "from astroquery.mast import Observations\n",
    "\n",
    "from drizzlepac import photeq\n",
    "from drizzlepac import astrodrizzle\n",
    "\n",
    "from photutils.aperture import aperture_photometry, CircularAperture, CircularAnnulus\n",
    "%matplotlib inline"
   ]
  },
  {
   "cell_type": "markdown",
   "metadata": {},
   "source": [
    "<a id=\"data\"></a>\n",
    "## 2. Download the Data\n",
    "\n",
    "The following commands query MAST for WFC3/UVIS calibrated (FLC) data products in the F606W filter for three epochs of GD153 observations (acquired in 2009, 2013, and 2017) and then downloads them to the current directory. "
   ]
  },
  {
   "cell_type": "code",
   "execution_count": 2,
   "metadata": {
    "execution": {
     "iopub.execute_input": "2025-09-17T22:01:23.840553Z",
     "iopub.status.busy": "2025-09-17T22:01:23.840254Z",
     "iopub.status.idle": "2025-09-17T22:01:41.024349Z",
     "shell.execute_reply": "2025-09-17T22:01:41.023906Z"
    }
   },
   "outputs": [
    {
     "name": "stdout",
     "output_type": "stream",
     "text": [
      "Downloading URL https://mast.stsci.edu/api/v0.1/Download/file?uri=mast:HST/product/ibcda4010_asn.fits to ./data/mastDownload/HST/ibcda4010/ibcda4010_asn.fits ..."
     ]
    },
    {
     "name": "stdout",
     "output_type": "stream",
     "text": [
      " [Done]\n"
     ]
    },
    {
     "name": "stdout",
     "output_type": "stream",
     "text": [
      "Downloading URL https://mast.stsci.edu/api/v0.1/Download/file?uri=mast:HST/product/ibcda4d0q_flc.fits to ./data/mastDownload/HST/ibcda4d0q/ibcda4d0q_flc.fits ..."
     ]
    },
    {
     "name": "stdout",
     "output_type": "stream",
     "text": [
      " [Done]\n"
     ]
    },
    {
     "name": "stdout",
     "output_type": "stream",
     "text": [
      "Downloading URL https://mast.stsci.edu/api/v0.1/Download/file?uri=mast:HST/product/ibcda4d6q_flc.fits to ./data/mastDownload/HST/ibcda4d6q/ibcda4d6q_flc.fits ..."
     ]
    },
    {
     "name": "stdout",
     "output_type": "stream",
     "text": [
      " [Done]\n"
     ]
    },
    {
     "name": "stdout",
     "output_type": "stream",
     "text": [
      "Downloading URL https://mast.stsci.edu/api/v0.1/Download/file?uri=mast:HST/product/ibcda4dcq_flc.fits to ./data/mastDownload/HST/ibcda4dcq/ibcda4dcq_flc.fits ..."
     ]
    },
    {
     "name": "stdout",
     "output_type": "stream",
     "text": [
      " [Done]\n"
     ]
    },
    {
     "name": "stdout",
     "output_type": "stream",
     "text": [
      "Downloading URL https://mast.stsci.edu/api/v0.1/Download/file?uri=mast:HST/product/ibcda4diq_flc.fits to ./data/mastDownload/HST/ibcda4diq/ibcda4diq_flc.fits ..."
     ]
    },
    {
     "name": "stdout",
     "output_type": "stream",
     "text": [
      " [Done]\n"
     ]
    },
    {
     "name": "stdout",
     "output_type": "stream",
     "text": [
      "Downloading URL https://mast.stsci.edu/api/v0.1/Download/file?uri=mast:HST/product/ich3040f0_asn.fits to ./data/mastDownload/HST/ich3040f0/ich3040f0_asn.fits ..."
     ]
    },
    {
     "name": "stdout",
     "output_type": "stream",
     "text": [
      " [Done]\n"
     ]
    },
    {
     "name": "stdout",
     "output_type": "stream",
     "text": [
      "Downloading URL https://mast.stsci.edu/api/v0.1/Download/file?uri=mast:HST/product/ich304prq_flc.fits to ./data/mastDownload/HST/ich304prq/ich304prq_flc.fits ..."
     ]
    },
    {
     "name": "stdout",
     "output_type": "stream",
     "text": [
      " [Done]\n"
     ]
    },
    {
     "name": "stdout",
     "output_type": "stream",
     "text": [
      "Downloading URL https://mast.stsci.edu/api/v0.1/Download/file?uri=mast:HST/product/ich304q1q_flc.fits to ./data/mastDownload/HST/ich304q1q/ich304q1q_flc.fits ..."
     ]
    },
    {
     "name": "stdout",
     "output_type": "stream",
     "text": [
      " [Done]\n"
     ]
    },
    {
     "name": "stdout",
     "output_type": "stream",
     "text": [
      "Downloading URL https://mast.stsci.edu/api/v0.1/Download/file?uri=mast:HST/product/idbha6040_asn.fits to ./data/mastDownload/HST/idbha6040/idbha6040_asn.fits ..."
     ]
    },
    {
     "name": "stdout",
     "output_type": "stream",
     "text": [
      " [Done]\n"
     ]
    },
    {
     "name": "stdout",
     "output_type": "stream",
     "text": [
      "Downloading URL https://mast.stsci.edu/api/v0.1/Download/file?uri=mast:HST/product/idbha6ntq_flc.fits to ./data/mastDownload/HST/idbha6ntq/idbha6ntq_flc.fits ..."
     ]
    },
    {
     "name": "stdout",
     "output_type": "stream",
     "text": [
      " [Done]\n"
     ]
    },
    {
     "name": "stdout",
     "output_type": "stream",
     "text": [
      "Downloading URL https://mast.stsci.edu/api/v0.1/Download/file?uri=mast:HST/product/idbha6nyq_flc.fits to ./data/mastDownload/HST/idbha6nyq/idbha6nyq_flc.fits ..."
     ]
    },
    {
     "name": "stdout",
     "output_type": "stream",
     "text": [
      " [Done]\n"
     ]
    }
   ],
   "source": [
    "data_list = Observations.query_criteria(obs_id=['IBCDA4010', 'ICH3040F0', 'IDBHA6040'])\n",
    "\n",
    "Observations.download_products(data_list['obsid'], project='CALWF3',\n",
    "                               mrp_only=False, download_dir='./data', productSubGroupDescription=['FLC', 'ASN'])\n",
    "\n",
    "science_files = glob.glob('data/mastDownload/HST/*/*fits')\n",
    "\n",
    "for im in science_files:\n",
    "    root = os.path.basename(im)\n",
    "    new_path = os.path.join(\"./\", root)\n",
    "    os.rename(im, new_path)\n",
    "shutil.rmtree('data/')"
   ]
  },
  {
   "cell_type": "markdown",
   "metadata": {},
   "source": [
    "For convenience, the file 'GD153_F606W_public.csv' contains information about the images required for the tutorial. For each FLC image, the following is provided: filename, star x-cdt, y-cdt, filter, CCD amplifier, chip, and epoch for the 3 observation dates."
   ]
  },
  {
   "cell_type": "code",
   "execution_count": 3,
   "metadata": {
    "execution": {
     "iopub.execute_input": "2025-09-17T22:01:41.025875Z",
     "iopub.status.busy": "2025-09-17T22:01:41.025727Z",
     "iopub.status.idle": "2025-09-17T22:01:41.039802Z",
     "shell.execute_reply": "2025-09-17T22:01:41.039324Z"
    }
   },
   "outputs": [
    {
     "data": {
      "text/html": [
       "<div>\n",
       "<style scoped>\n",
       "    .dataframe tbody tr th:only-of-type {\n",
       "        vertical-align: middle;\n",
       "    }\n",
       "\n",
       "    .dataframe tbody tr th {\n",
       "        vertical-align: top;\n",
       "    }\n",
       "\n",
       "    .dataframe thead th {\n",
       "        text-align: right;\n",
       "    }\n",
       "</style>\n",
       "<table border=\"1\" class=\"dataframe\">\n",
       "  <thead>\n",
       "    <tr style=\"text-align: right;\">\n",
       "      <th></th>\n",
       "      <th>FLC</th>\n",
       "      <th>Centx</th>\n",
       "      <th>Centy</th>\n",
       "      <th>Filter</th>\n",
       "      <th>Amp</th>\n",
       "      <th>Chip</th>\n",
       "      <th>Epoch</th>\n",
       "    </tr>\n",
       "  </thead>\n",
       "  <tbody>\n",
       "    <tr>\n",
       "      <th>0</th>\n",
       "      <td>ibcda4d0q_flc.fits</td>\n",
       "      <td>289.940</td>\n",
       "      <td>285.934</td>\n",
       "      <td>F606W</td>\n",
       "      <td>C</td>\n",
       "      <td>2</td>\n",
       "      <td>1</td>\n",
       "    </tr>\n",
       "    <tr>\n",
       "      <th>1</th>\n",
       "      <td>ibcda4d6q_flc.fits</td>\n",
       "      <td>325.855</td>\n",
       "      <td>299.742</td>\n",
       "      <td>F606W</td>\n",
       "      <td>C</td>\n",
       "      <td>2</td>\n",
       "      <td>1</td>\n",
       "    </tr>\n",
       "    <tr>\n",
       "      <th>2</th>\n",
       "      <td>ibcda4dcq_flc.fits</td>\n",
       "      <td>312.830</td>\n",
       "      <td>321.911</td>\n",
       "      <td>F606W</td>\n",
       "      <td>C</td>\n",
       "      <td>2</td>\n",
       "      <td>1</td>\n",
       "    </tr>\n",
       "    <tr>\n",
       "      <th>3</th>\n",
       "      <td>ibcda4diq_flc.fits</td>\n",
       "      <td>276.756</td>\n",
       "      <td>308.288</td>\n",
       "      <td>F606W</td>\n",
       "      <td>C</td>\n",
       "      <td>2</td>\n",
       "      <td>1</td>\n",
       "    </tr>\n",
       "    <tr>\n",
       "      <th>4</th>\n",
       "      <td>ich304prq_flc.fits</td>\n",
       "      <td>246.181</td>\n",
       "      <td>331.752</td>\n",
       "      <td>F606W</td>\n",
       "      <td>C</td>\n",
       "      <td>2</td>\n",
       "      <td>2</td>\n",
       "    </tr>\n",
       "    <tr>\n",
       "      <th>5</th>\n",
       "      <td>ich304q1q_flc.fits</td>\n",
       "      <td>248.901</td>\n",
       "      <td>334.022</td>\n",
       "      <td>F606W</td>\n",
       "      <td>C</td>\n",
       "      <td>2</td>\n",
       "      <td>2</td>\n",
       "    </tr>\n",
       "    <tr>\n",
       "      <th>6</th>\n",
       "      <td>idbha6ntq_flc.fits</td>\n",
       "      <td>262.719</td>\n",
       "      <td>254.764</td>\n",
       "      <td>F606W</td>\n",
       "      <td>C</td>\n",
       "      <td>2</td>\n",
       "      <td>3</td>\n",
       "    </tr>\n",
       "    <tr>\n",
       "      <th>7</th>\n",
       "      <td>idbha6nyq_flc.fits</td>\n",
       "      <td>265.020</td>\n",
       "      <td>257.049</td>\n",
       "      <td>F606W</td>\n",
       "      <td>C</td>\n",
       "      <td>2</td>\n",
       "      <td>3</td>\n",
       "    </tr>\n",
       "  </tbody>\n",
       "</table>\n",
       "</div>"
      ],
      "text/plain": [
       "                  FLC    Centx    Centy Filter Amp  Chip  Epoch\n",
       "0  ibcda4d0q_flc.fits  289.940  285.934  F606W   C     2      1\n",
       "1  ibcda4d6q_flc.fits  325.855  299.742  F606W   C     2      1\n",
       "2  ibcda4dcq_flc.fits  312.830  321.911  F606W   C     2      1\n",
       "3  ibcda4diq_flc.fits  276.756  308.288  F606W   C     2      1\n",
       "4  ich304prq_flc.fits  246.181  331.752  F606W   C     2      2\n",
       "5  ich304q1q_flc.fits  248.901  334.022  F606W   C     2      2\n",
       "6  idbha6ntq_flc.fits  262.719  254.764  F606W   C     2      3\n",
       "7  idbha6nyq_flc.fits  265.020  257.049  F606W   C     2      3"
      ]
     },
     "execution_count": 3,
     "metadata": {},
     "output_type": "execute_result"
    }
   ],
   "source": [
    "df = pd.read_csv('GD153_F606W_public.csv')\n",
    "df"
   ]
  },
  {
   "cell_type": "markdown",
   "metadata": {},
   "source": [
    "<a id=\"pam\"></a>\n",
    "## 3. Correct for distortion using the Pixel Area Map\n",
    "\n",
    "FLC frames are not corrected for distortion and pixels therefore do not have equal area on the sky. To correct for this affect, we multiply the FLC frames by the [Pixel Area Map (PAM)](https://www.stsci.edu/hst/instrumentation/wfc3/data-analysis/pixel-area-maps). Since the GD153 data are C512C subarrays, the PAM needs to be \"cut out\" at the region corresponding to the subarray."
   ]
  },
  {
   "cell_type": "code",
   "execution_count": 4,
   "metadata": {
    "execution": {
     "iopub.execute_input": "2025-09-17T22:01:41.041268Z",
     "iopub.status.busy": "2025-09-17T22:01:41.041119Z",
     "iopub.status.idle": "2025-09-17T22:01:41.046368Z",
     "shell.execute_reply": "2025-09-17T22:01:41.045996Z"
    }
   },
   "outputs": [],
   "source": [
    "pam1 = fits.getdata('UVIS1wfc3_map.fits')\n",
    "pam2 = fits.getdata('UVIS2wfc3_map.fits')\n",
    "\n",
    "pams = {'A': pam1[-512:, :513], 'B': pam1[-512:, -513:], 'C': pam2[:512, :513], 'D': pam2[:512, -513:]}"
   ]
  },
  {
   "cell_type": "markdown",
   "metadata": {},
   "source": [
    "<a id=\"phot\"></a>\n",
    "## 4. Compute aperture photometry on the FLC frames\n",
    "\n",
    "<a id=\"calc_phot\"></a>\n",
    "### 4.1 Calculate countrates\n",
    "\n",
    "Here we set up the code that computes the photometry. We are using a standard aperture size of 10 pixels, with a sky annulus from 155 to 165 pixels. These are the steps involved in computing the photometry:\n",
    "\n",
    "1. Loop through each FLC and load the data, MJD date of exposure, exposure time, and PHOTFLAM.\n",
    "2. Divide each FLC by the exposure time to get countrates in electrons per second (FLC images are in electrons).\n",
    "3. Correct for distortion by multiplying by the appropriate cutout of the pixel area map (PAM) corresponding to the subarray region.\n",
    "4. Supply the x,y coordinate of the star in each image from the CSV file/pandas dataframe.\n",
    "5. Define the aperture, annulus aperture, and annulus mask.\n",
    "6. Compute the sigma-clipped mean of the sky annulus.\n",
    "7. Compute the photometry in the aperture.\n",
    "8. Subtract the sky background from the photometry derived in the previous step.\n",
    "9. Store all values."
   ]
  },
  {
   "cell_type": "code",
   "execution_count": 5,
   "metadata": {
    "execution": {
     "iopub.execute_input": "2025-09-17T22:01:41.047849Z",
     "iopub.status.busy": "2025-09-17T22:01:41.047701Z",
     "iopub.status.idle": "2025-09-17T22:01:41.111322Z",
     "shell.execute_reply": "2025-09-17T22:01:41.110842Z"
    }
   },
   "outputs": [],
   "source": [
    "phots = []\n",
    "mjds = []\n",
    "dates = []\n",
    "ap = 10\n",
    "skyrad = [155, 165]\n",
    "pfl = []\n",
    "for i, flc in enumerate(df['FLC'].values):\n",
    "    with fits.open(flc) as f:\n",
    "        data = f[1].data\n",
    "        mjd = f[0].header['EXPSTART']\n",
    "        date = f[0].header['DATE-OBS']\n",
    "        exptime = f[0].header['EXPTIME']\n",
    "        pfl.append(f[0].header['PHOTFLAM'])\n",
    "    data = data / exptime\n",
    "    data = data * pams[df.at[i, 'Amp']]\n",
    "\n",
    "    positions = (df.at[i, 'Centx'], df.at[i, 'Centy'])\n",
    "    aperture = CircularAperture(positions, ap)\n",
    "    annulus_aperture = CircularAnnulus(positions, r_in=skyrad[0], r_out=skyrad[1])\n",
    "    annulus_masks = annulus_aperture.to_mask(method='center')\n",
    "    annulus_data = annulus_masks.multiply(data)\n",
    "    mask = annulus_masks.data\n",
    "    annulus_data_1d = annulus_data[mask > 0]\n",
    "    mean_sigclip, _, _ = sigma_clipped_stats(annulus_data_1d)\n",
    "\n",
    "    apers = [aperture, annulus_aperture]\n",
    "    phot_table = aperture_photometry(data, apers)\n",
    "\n",
    "    background = mean_sigclip * aperture.area\n",
    "    final_sum = phot_table['aperture_sum_0'] - background\n",
    "    phots.append(final_sum[0])\n",
    "    mjds.append(mjd)\n",
    "    dates.append(date)"
   ]
  },
  {
   "cell_type": "markdown",
   "metadata": {},
   "source": [
    "Next, we append the coutrates, MJD's, and PHOTFLAM values to our dataframe."
   ]
  },
  {
   "cell_type": "code",
   "execution_count": 6,
   "metadata": {
    "execution": {
     "iopub.execute_input": "2025-09-17T22:01:41.113032Z",
     "iopub.status.busy": "2025-09-17T22:01:41.112866Z",
     "iopub.status.idle": "2025-09-17T22:01:41.122761Z",
     "shell.execute_reply": "2025-09-17T22:01:41.122371Z"
    }
   },
   "outputs": [
    {
     "data": {
      "text/html": [
       "<div>\n",
       "<style scoped>\n",
       "    .dataframe tbody tr th:only-of-type {\n",
       "        vertical-align: middle;\n",
       "    }\n",
       "\n",
       "    .dataframe tbody tr th {\n",
       "        vertical-align: top;\n",
       "    }\n",
       "\n",
       "    .dataframe thead th {\n",
       "        text-align: right;\n",
       "    }\n",
       "</style>\n",
       "<table border=\"1\" class=\"dataframe\">\n",
       "  <thead>\n",
       "    <tr style=\"text-align: right;\">\n",
       "      <th></th>\n",
       "      <th>FLC</th>\n",
       "      <th>Centx</th>\n",
       "      <th>Centy</th>\n",
       "      <th>Filter</th>\n",
       "      <th>Amp</th>\n",
       "      <th>Chip</th>\n",
       "      <th>Epoch</th>\n",
       "      <th>Countrate</th>\n",
       "      <th>MJD</th>\n",
       "      <th>DATE-OBS</th>\n",
       "      <th>PHOTFLAM</th>\n",
       "    </tr>\n",
       "  </thead>\n",
       "  <tbody>\n",
       "    <tr>\n",
       "      <th>0</th>\n",
       "      <td>ibcda4d0q_flc.fits</td>\n",
       "      <td>289.940</td>\n",
       "      <td>285.934</td>\n",
       "      <td>F606W</td>\n",
       "      <td>C</td>\n",
       "      <td>2</td>\n",
       "      <td>1</td>\n",
       "      <td>103300.375759</td>\n",
       "      <td>55170.563332</td>\n",
       "      <td>2009-12-05</td>\n",
       "      <td>1.153991e-19</td>\n",
       "    </tr>\n",
       "    <tr>\n",
       "      <th>1</th>\n",
       "      <td>ibcda4d6q_flc.fits</td>\n",
       "      <td>325.855</td>\n",
       "      <td>299.742</td>\n",
       "      <td>F606W</td>\n",
       "      <td>C</td>\n",
       "      <td>2</td>\n",
       "      <td>1</td>\n",
       "      <td>103292.263099</td>\n",
       "      <td>55170.569026</td>\n",
       "      <td>2009-12-05</td>\n",
       "      <td>1.153991e-19</td>\n",
       "    </tr>\n",
       "    <tr>\n",
       "      <th>2</th>\n",
       "      <td>ibcda4dcq_flc.fits</td>\n",
       "      <td>312.830</td>\n",
       "      <td>321.911</td>\n",
       "      <td>F606W</td>\n",
       "      <td>C</td>\n",
       "      <td>2</td>\n",
       "      <td>1</td>\n",
       "      <td>103661.304094</td>\n",
       "      <td>55170.574721</td>\n",
       "      <td>2009-12-05</td>\n",
       "      <td>1.153991e-19</td>\n",
       "    </tr>\n",
       "    <tr>\n",
       "      <th>3</th>\n",
       "      <td>ibcda4diq_flc.fits</td>\n",
       "      <td>276.756</td>\n",
       "      <td>308.288</td>\n",
       "      <td>F606W</td>\n",
       "      <td>C</td>\n",
       "      <td>2</td>\n",
       "      <td>1</td>\n",
       "      <td>103448.275067</td>\n",
       "      <td>55170.620196</td>\n",
       "      <td>2009-12-05</td>\n",
       "      <td>1.153992e-19</td>\n",
       "    </tr>\n",
       "    <tr>\n",
       "      <th>4</th>\n",
       "      <td>ich304prq_flc.fits</td>\n",
       "      <td>246.181</td>\n",
       "      <td>331.752</td>\n",
       "      <td>F606W</td>\n",
       "      <td>C</td>\n",
       "      <td>2</td>\n",
       "      <td>2</td>\n",
       "      <td>102471.856752</td>\n",
       "      <td>56629.866744</td>\n",
       "      <td>2013-12-03</td>\n",
       "      <td>1.163887e-19</td>\n",
       "    </tr>\n",
       "    <tr>\n",
       "      <th>5</th>\n",
       "      <td>ich304q1q_flc.fits</td>\n",
       "      <td>248.901</td>\n",
       "      <td>334.022</td>\n",
       "      <td>F606W</td>\n",
       "      <td>C</td>\n",
       "      <td>2</td>\n",
       "      <td>2</td>\n",
       "      <td>102744.163768</td>\n",
       "      <td>56629.877033</td>\n",
       "      <td>2013-12-03</td>\n",
       "      <td>1.163887e-19</td>\n",
       "    </tr>\n",
       "    <tr>\n",
       "      <th>6</th>\n",
       "      <td>idbha6ntq_flc.fits</td>\n",
       "      <td>262.719</td>\n",
       "      <td>254.764</td>\n",
       "      <td>F606W</td>\n",
       "      <td>C</td>\n",
       "      <td>2</td>\n",
       "      <td>3</td>\n",
       "      <td>101822.822242</td>\n",
       "      <td>58068.856082</td>\n",
       "      <td>2017-11-11</td>\n",
       "      <td>1.173665e-19</td>\n",
       "    </tr>\n",
       "    <tr>\n",
       "      <th>7</th>\n",
       "      <td>idbha6nyq_flc.fits</td>\n",
       "      <td>265.020</td>\n",
       "      <td>257.049</td>\n",
       "      <td>F606W</td>\n",
       "      <td>C</td>\n",
       "      <td>2</td>\n",
       "      <td>3</td>\n",
       "      <td>101553.087031</td>\n",
       "      <td>58068.861359</td>\n",
       "      <td>2017-11-11</td>\n",
       "      <td>1.173665e-19</td>\n",
       "    </tr>\n",
       "  </tbody>\n",
       "</table>\n",
       "</div>"
      ],
      "text/plain": [
       "                  FLC    Centx    Centy Filter Amp  Chip  Epoch  \\\n",
       "0  ibcda4d0q_flc.fits  289.940  285.934  F606W   C     2      1   \n",
       "1  ibcda4d6q_flc.fits  325.855  299.742  F606W   C     2      1   \n",
       "2  ibcda4dcq_flc.fits  312.830  321.911  F606W   C     2      1   \n",
       "3  ibcda4diq_flc.fits  276.756  308.288  F606W   C     2      1   \n",
       "4  ich304prq_flc.fits  246.181  331.752  F606W   C     2      2   \n",
       "5  ich304q1q_flc.fits  248.901  334.022  F606W   C     2      2   \n",
       "6  idbha6ntq_flc.fits  262.719  254.764  F606W   C     2      3   \n",
       "7  idbha6nyq_flc.fits  265.020  257.049  F606W   C     2      3   \n",
       "\n",
       "       Countrate           MJD    DATE-OBS      PHOTFLAM  \n",
       "0  103300.375759  55170.563332  2009-12-05  1.153991e-19  \n",
       "1  103292.263099  55170.569026  2009-12-05  1.153991e-19  \n",
       "2  103661.304094  55170.574721  2009-12-05  1.153991e-19  \n",
       "3  103448.275067  55170.620196  2009-12-05  1.153992e-19  \n",
       "4  102471.856752  56629.866744  2013-12-03  1.163887e-19  \n",
       "5  102744.163768  56629.877033  2013-12-03  1.163887e-19  \n",
       "6  101822.822242  58068.856082  2017-11-11  1.173665e-19  \n",
       "7  101553.087031  58068.861359  2017-11-11  1.173665e-19  "
      ]
     },
     "execution_count": 6,
     "metadata": {},
     "output_type": "execute_result"
    }
   ],
   "source": [
    "df['Countrate'] = phots\n",
    "df['MJD'] = mjds\n",
    "df['DATE-OBS'] = dates\n",
    "df['PHOTFLAM'] = pfl\n",
    "\n",
    "df"
   ]
  },
  {
   "cell_type": "markdown",
   "metadata": {},
   "source": [
    "<a id=\"calc_mag\"></a>\n",
    "### 4.2 Calculate magnitudes\n",
    "\n",
    "We now convert countrates into ST magnitudes using the PHOTFLAM value and the following equation. The $EE_{r10}$ is the encircled energy term for an aperture radius of r=10 pixels (0.4 arcseconds). For F606W with UVIS2, this is 0.91. This value can be computed using `stsynphot` as described in the 'Photometry Examples' notebook in this WFC3 Library repository."
   ]
  },
  {
   "cell_type": "code",
   "execution_count": 7,
   "metadata": {
    "execution": {
     "iopub.execute_input": "2025-09-17T22:01:41.124133Z",
     "iopub.status.busy": "2025-09-17T22:01:41.123982Z",
     "iopub.status.idle": "2025-09-17T22:01:41.127290Z",
     "shell.execute_reply": "2025-09-17T22:01:41.126879Z"
    }
   },
   "outputs": [],
   "source": [
    "EE_r10 = 0.91\n",
    "df[\"STMags\"] = (\n",
    "    - 21.1\n",
    "    - 2.5 * np.log10(df[\"PHOTFLAM\"])\n",
    "    - 2.5 * np.log10(df[\"Countrate\"])\n",
    "    - 2.5 * np.log10(1.0 / EE_r10)\n",
    ")"
   ]
  },
  {
   "cell_type": "code",
   "execution_count": 8,
   "metadata": {
    "execution": {
     "iopub.execute_input": "2025-09-17T22:01:41.128678Z",
     "iopub.status.busy": "2025-09-17T22:01:41.128528Z",
     "iopub.status.idle": "2025-09-17T22:01:41.137160Z",
     "shell.execute_reply": "2025-09-17T22:01:41.136635Z"
    }
   },
   "outputs": [
    {
     "data": {
      "text/html": [
       "<div>\n",
       "<style scoped>\n",
       "    .dataframe tbody tr th:only-of-type {\n",
       "        vertical-align: middle;\n",
       "    }\n",
       "\n",
       "    .dataframe tbody tr th {\n",
       "        vertical-align: top;\n",
       "    }\n",
       "\n",
       "    .dataframe thead th {\n",
       "        text-align: right;\n",
       "    }\n",
       "</style>\n",
       "<table border=\"1\" class=\"dataframe\">\n",
       "  <thead>\n",
       "    <tr style=\"text-align: right;\">\n",
       "      <th></th>\n",
       "      <th>FLC</th>\n",
       "      <th>Centx</th>\n",
       "      <th>Centy</th>\n",
       "      <th>Filter</th>\n",
       "      <th>Amp</th>\n",
       "      <th>Chip</th>\n",
       "      <th>Epoch</th>\n",
       "      <th>Countrate</th>\n",
       "      <th>MJD</th>\n",
       "      <th>DATE-OBS</th>\n",
       "      <th>PHOTFLAM</th>\n",
       "      <th>STMags</th>\n",
       "    </tr>\n",
       "  </thead>\n",
       "  <tbody>\n",
       "    <tr>\n",
       "      <th>0</th>\n",
       "      <td>ibcda4d0q_flc.fits</td>\n",
       "      <td>289.940</td>\n",
       "      <td>285.934</td>\n",
       "      <td>F606W</td>\n",
       "      <td>C</td>\n",
       "      <td>2</td>\n",
       "      <td>1</td>\n",
       "      <td>103300.375759</td>\n",
       "      <td>55170.563332</td>\n",
       "      <td>2009-12-05</td>\n",
       "      <td>1.153991e-19</td>\n",
       "      <td>13.606843</td>\n",
       "    </tr>\n",
       "    <tr>\n",
       "      <th>1</th>\n",
       "      <td>ibcda4d6q_flc.fits</td>\n",
       "      <td>325.855</td>\n",
       "      <td>299.742</td>\n",
       "      <td>F606W</td>\n",
       "      <td>C</td>\n",
       "      <td>2</td>\n",
       "      <td>1</td>\n",
       "      <td>103292.263099</td>\n",
       "      <td>55170.569026</td>\n",
       "      <td>2009-12-05</td>\n",
       "      <td>1.153991e-19</td>\n",
       "      <td>13.606928</td>\n",
       "    </tr>\n",
       "    <tr>\n",
       "      <th>2</th>\n",
       "      <td>ibcda4dcq_flc.fits</td>\n",
       "      <td>312.830</td>\n",
       "      <td>321.911</td>\n",
       "      <td>F606W</td>\n",
       "      <td>C</td>\n",
       "      <td>2</td>\n",
       "      <td>1</td>\n",
       "      <td>103661.304094</td>\n",
       "      <td>55170.574721</td>\n",
       "      <td>2009-12-05</td>\n",
       "      <td>1.153991e-19</td>\n",
       "      <td>13.603055</td>\n",
       "    </tr>\n",
       "    <tr>\n",
       "      <th>3</th>\n",
       "      <td>ibcda4diq_flc.fits</td>\n",
       "      <td>276.756</td>\n",
       "      <td>308.288</td>\n",
       "      <td>F606W</td>\n",
       "      <td>C</td>\n",
       "      <td>2</td>\n",
       "      <td>1</td>\n",
       "      <td>103448.275067</td>\n",
       "      <td>55170.620196</td>\n",
       "      <td>2009-12-05</td>\n",
       "      <td>1.153992e-19</td>\n",
       "      <td>13.605289</td>\n",
       "    </tr>\n",
       "    <tr>\n",
       "      <th>4</th>\n",
       "      <td>ich304prq_flc.fits</td>\n",
       "      <td>246.181</td>\n",
       "      <td>331.752</td>\n",
       "      <td>F606W</td>\n",
       "      <td>C</td>\n",
       "      <td>2</td>\n",
       "      <td>2</td>\n",
       "      <td>102471.856752</td>\n",
       "      <td>56629.866744</td>\n",
       "      <td>2013-12-03</td>\n",
       "      <td>1.163887e-19</td>\n",
       "      <td>13.606315</td>\n",
       "    </tr>\n",
       "    <tr>\n",
       "      <th>5</th>\n",
       "      <td>ich304q1q_flc.fits</td>\n",
       "      <td>248.901</td>\n",
       "      <td>334.022</td>\n",
       "      <td>F606W</td>\n",
       "      <td>C</td>\n",
       "      <td>2</td>\n",
       "      <td>2</td>\n",
       "      <td>102744.163768</td>\n",
       "      <td>56629.877033</td>\n",
       "      <td>2013-12-03</td>\n",
       "      <td>1.163887e-19</td>\n",
       "      <td>13.603434</td>\n",
       "    </tr>\n",
       "    <tr>\n",
       "      <th>6</th>\n",
       "      <td>idbha6ntq_flc.fits</td>\n",
       "      <td>262.719</td>\n",
       "      <td>254.764</td>\n",
       "      <td>F606W</td>\n",
       "      <td>C</td>\n",
       "      <td>2</td>\n",
       "      <td>3</td>\n",
       "      <td>101822.822242</td>\n",
       "      <td>58068.856082</td>\n",
       "      <td>2017-11-11</td>\n",
       "      <td>1.173665e-19</td>\n",
       "      <td>13.604131</td>\n",
       "    </tr>\n",
       "    <tr>\n",
       "      <th>7</th>\n",
       "      <td>idbha6nyq_flc.fits</td>\n",
       "      <td>265.020</td>\n",
       "      <td>257.049</td>\n",
       "      <td>F606W</td>\n",
       "      <td>C</td>\n",
       "      <td>2</td>\n",
       "      <td>3</td>\n",
       "      <td>101553.087031</td>\n",
       "      <td>58068.861359</td>\n",
       "      <td>2017-11-11</td>\n",
       "      <td>1.173665e-19</td>\n",
       "      <td>13.607010</td>\n",
       "    </tr>\n",
       "  </tbody>\n",
       "</table>\n",
       "</div>"
      ],
      "text/plain": [
       "                  FLC    Centx    Centy Filter Amp  Chip  Epoch  \\\n",
       "0  ibcda4d0q_flc.fits  289.940  285.934  F606W   C     2      1   \n",
       "1  ibcda4d6q_flc.fits  325.855  299.742  F606W   C     2      1   \n",
       "2  ibcda4dcq_flc.fits  312.830  321.911  F606W   C     2      1   \n",
       "3  ibcda4diq_flc.fits  276.756  308.288  F606W   C     2      1   \n",
       "4  ich304prq_flc.fits  246.181  331.752  F606W   C     2      2   \n",
       "5  ich304q1q_flc.fits  248.901  334.022  F606W   C     2      2   \n",
       "6  idbha6ntq_flc.fits  262.719  254.764  F606W   C     2      3   \n",
       "7  idbha6nyq_flc.fits  265.020  257.049  F606W   C     2      3   \n",
       "\n",
       "       Countrate           MJD    DATE-OBS      PHOTFLAM     STMags  \n",
       "0  103300.375759  55170.563332  2009-12-05  1.153991e-19  13.606843  \n",
       "1  103292.263099  55170.569026  2009-12-05  1.153991e-19  13.606928  \n",
       "2  103661.304094  55170.574721  2009-12-05  1.153991e-19  13.603055  \n",
       "3  103448.275067  55170.620196  2009-12-05  1.153992e-19  13.605289  \n",
       "4  102471.856752  56629.866744  2013-12-03  1.163887e-19  13.606315  \n",
       "5  102744.163768  56629.877033  2013-12-03  1.163887e-19  13.603434  \n",
       "6  101822.822242  58068.856082  2017-11-11  1.173665e-19  13.604131  \n",
       "7  101553.087031  58068.861359  2017-11-11  1.173665e-19  13.607010  "
      ]
     },
     "execution_count": 8,
     "metadata": {},
     "output_type": "execute_result"
    }
   ],
   "source": [
    "df"
   ]
  },
  {
   "cell_type": "markdown",
   "metadata": {},
   "source": [
    "<a id=\"plot_count\"></a>\n",
    "### 4.3 Plot countrate vs date\n",
    "\n",
    "We first plot the photometric countrates (electrons per second) vs time in MJD. The decline in the observed countrate is due to sensitivity loss in F606W at a rate of ~0.2% per year."
   ]
  },
  {
   "cell_type": "code",
   "execution_count": 9,
   "metadata": {
    "execution": {
     "iopub.execute_input": "2025-09-17T22:01:41.138573Z",
     "iopub.status.busy": "2025-09-17T22:01:41.138431Z",
     "iopub.status.idle": "2025-09-17T22:01:41.410299Z",
     "shell.execute_reply": "2025-09-17T22:01:41.409820Z"
    }
   },
   "outputs": [
    {
     "data": {
      "text/plain": [
       "<matplotlib.legend.Legend at 0x7f18f9f186d0>"
      ]
     },
     "execution_count": 9,
     "metadata": {},
     "output_type": "execute_result"
    },
    {
     "data": {
      "image/png": "[encoded data removed]",
      "text/plain": [
       "<Figure size 800x400 with 1 Axes>"
      ]
     },
     "metadata": {},
     "output_type": "display_data"
    }
   ],
   "source": [
    "fig = plt.figure(figsize=(20, 10), dpi=40)\n",
    "\n",
    "plt.plot(df['MJD'], df['Countrate'], 'o', markersize=20, label='Amp C')\n",
    "plt.grid()\n",
    "plt.xlabel('MJD', fontsize=30)\n",
    "plt.xticks(fontsize=30)\n",
    "plt.yticks(fontsize=30)\n",
    "plt.ylabel(r'Countrate (e$^-$/s)', fontsize=30)\n",
    "plt.title('FLC Countrates for GD153 in F606W', fontsize=30)\n",
    "plt.ylim(101000, 104000)\n",
    "plt.legend(loc=0, fontsize=30)"
   ]
  },
  {
   "cell_type": "markdown",
   "metadata": {},
   "source": [
    "<a id=\"plot_mag\"></a>\n",
    "### 4.4 Plot magnitude vs date\n",
    "\n",
    "Now, we plot the ST magnitude versus time in MJD. This is computed using the 'corrected' PHOTFLAM keyword, so the magnitude values are stable over time."
   ]
  },
  {
   "cell_type": "code",
   "execution_count": 10,
   "metadata": {
    "execution": {
     "iopub.execute_input": "2025-09-17T22:01:41.411820Z",
     "iopub.status.busy": "2025-09-17T22:01:41.411675Z",
     "iopub.status.idle": "2025-09-17T22:01:41.522214Z",
     "shell.execute_reply": "2025-09-17T22:01:41.521719Z"
    }
   },
   "outputs": [
    {
     "data": {
      "text/plain": [
       "<matplotlib.legend.Legend at 0x7f18f578a6d0>"
      ]
     },
     "execution_count": 10,
     "metadata": {},
     "output_type": "execute_result"
    },
    {
     "data": {
      "image/png": "[encoded data removed]",
      "text/plain": [
       "<Figure size 800x400 with 1 Axes>"
      ]
     },
     "metadata": {},
     "output_type": "display_data"
    }
   ],
   "source": [
    "fig = plt.figure(figsize=(20, 10), dpi=40)\n",
    "\n",
    "plt.plot(df['MJD'], df['STMags'], 'o', markersize=20, label='Amp C')\n",
    "plt.grid()\n",
    "plt.ticklabel_format(useOffset=False)\n",
    "plt.xlabel('MJD', fontsize=30)\n",
    "plt.xticks(fontsize=30)\n",
    "plt.yticks(fontsize=30)\n",
    "plt.ylabel('STMAG (Magnitude)', fontsize=30)\n",
    "plt.ylim(13.55, 13.65)\n",
    "plt.title('STMAG for GD153 in F606W on UVIS2', fontsize=30)\n",
    "plt.legend(loc=0, fontsize=30)"
   ]
  },
  {
   "cell_type": "markdown",
   "metadata": {},
   "source": [
    "<a id=\"equal\"></a>\n",
    "## 5. Correct the FLC frames using 'photometric equalization'\n",
    "\n",
    "This single-line step will equalize the countrates in the science array of the FLC frames to match any specified 'reference' image. For more details, see the drizzlepac documentation for [`photeq`](https://drizzlepac.readthedocs.io/en/deployment/photeq.html). Note that at this step, we overwrite the science pixels in the original FLC files. In this case the data are sorted, and the software automatically uses the PHOTFLAM value of the first 2009 image as a reference for matching the with the other images. You can supply a given reference PHOTFLAM value to the photeq call and/or ensure that your data are time-sorted.\n",
    "\n",
    "**Note: Running this cell will edit the FLCs in the local directory, and you will need to download the files again if you require the original data.**"
   ]
  },
  {
   "cell_type": "code",
   "execution_count": 11,
   "metadata": {
    "execution": {
     "iopub.execute_input": "2025-09-17T22:01:41.523743Z",
     "iopub.status.busy": "2025-09-17T22:01:41.523589Z",
     "iopub.status.idle": "2025-09-17T22:01:41.759815Z",
     "shell.execute_reply": "2025-09-17T22:01:41.759337Z"
    },
    "scrolled": true
   },
   "outputs": [
    {
     "name": "stderr",
     "output_type": "stream",
     "text": [
      "***** photeq started on 2025-09-17 22:01:41.524502\n"
     ]
    },
    {
     "name": "stderr",
     "output_type": "stream",
     "text": [
      "      Version 3.10.0 \n"
     ]
    },
    {
     "name": "stderr",
     "output_type": "stream",
     "text": [
      "\n"
     ]
    },
    {
     "name": "stderr",
     "output_type": "stream",
     "text": [
      "PRIMARY PHOTOMETRIC KEYWORD: PHOTFLAM\n"
     ]
    },
    {
     "name": "stderr",
     "output_type": "stream",
     "text": [
      "SECONDARY PHOTOMETRIC KEYWORD(S): PHOTFNU\n"
     ]
    },
    {
     "name": "stderr",
     "output_type": "stream",
     "text": [
      "REFERENCE VALUE FROM FILE: 'ibcda4d0q_flc.fits[0]'\n"
     ]
    },
    {
     "name": "stderr",
     "output_type": "stream",
     "text": [
      "REFERENCE 'PHOTFLAM' VALUE IS: 1.1539911e-19\n"
     ]
    },
    {
     "name": "stderr",
     "output_type": "stream",
     "text": [
      "\n"
     ]
    },
    {
     "name": "stderr",
     "output_type": "stream",
     "text": [
      "Processing file 'ibcda4d0q_flc.fits'\n"
     ]
    },
    {
     "name": "stderr",
     "output_type": "stream",
     "text": [
      "   * Primary header:\n"
     ]
    },
    {
     "name": "stderr",
     "output_type": "stream",
     "text": [
      "     - 'PHOTFLAM' = 1.1539911e-19 found in the primary header.\n"
     ]
    },
    {
     "name": "stderr",
     "output_type": "stream",
     "text": [
      "     - Data conversion factor based on primary header: 1.0\n"
     ]
    },
    {
     "name": "stderr",
     "output_type": "stream",
     "text": [
      "   * EXT: ('SCI', 1)\n"
     ]
    },
    {
     "name": "stderr",
     "output_type": "stream",
     "text": [
      "     - Setting PHOTFLAM to 1.1539911e-19 (old value was 1.1539911e-19)\n"
     ]
    },
    {
     "name": "stderr",
     "output_type": "stream",
     "text": [
      "     - Computed conversion factor for data: 1.0\n"
     ]
    },
    {
     "name": "stderr",
     "output_type": "stream",
     "text": [
      "     - Setting PHOTFNU to 1.3456969e-07 (old value was 1.3456969e-07)\n"
     ]
    },
    {
     "name": "stderr",
     "output_type": "stream",
     "text": [
      "     - Data have been multiplied by 1.0\n"
     ]
    },
    {
     "name": "stderr",
     "output_type": "stream",
     "text": [
      "     - Error array (ext=('ERR', 1)) has been multiplied by 1.0\n"
     ]
    },
    {
     "name": "stderr",
     "output_type": "stream",
     "text": [
      "\n"
     ]
    },
    {
     "name": "stderr",
     "output_type": "stream",
     "text": [
      "Processing file 'ibcda4d6q_flc.fits'\n"
     ]
    },
    {
     "name": "stderr",
     "output_type": "stream",
     "text": [
      "   * Primary header:\n"
     ]
    },
    {
     "name": "stderr",
     "output_type": "stream",
     "text": [
      "     - 'PHOTFLAM' found in the primary header.\n"
     ]
    },
    {
     "name": "stderr",
     "output_type": "stream",
     "text": [
      "     - Setting PHOTFLAM in the primary header to 1.1539911e-19 (old value was 1.1539913e-19)\n"
     ]
    },
    {
     "name": "stderr",
     "output_type": "stream",
     "text": [
      "     - Data conversion factor based on primary header: 1.0000001733115618\n"
     ]
    },
    {
     "name": "stderr",
     "output_type": "stream",
     "text": [
      "   * EXT: ('SCI', 1)\n"
     ]
    },
    {
     "name": "stderr",
     "output_type": "stream",
     "text": [
      "     - Setting PHOTFLAM to 1.1539911e-19 (old value was 1.1539913e-19)\n"
     ]
    },
    {
     "name": "stderr",
     "output_type": "stream",
     "text": [
      "     - Computed conversion factor for data: 1.0000001733115618\n"
     ]
    },
    {
     "name": "stderr",
     "output_type": "stream",
     "text": [
      "     - Setting PHOTFNU to 1.345696666775209e-07 (old value was 1.3456969e-07)\n"
     ]
    },
    {
     "name": "stderr",
     "output_type": "stream",
     "text": [
      "     - Data have been multiplied by 1.0000001733115618\n"
     ]
    },
    {
     "name": "stderr",
     "output_type": "stream",
     "text": [
      "     - Error array (ext=('ERR', 1)) has been multiplied by 1.0000001733115618\n"
     ]
    },
    {
     "name": "stderr",
     "output_type": "stream",
     "text": [
      "\n"
     ]
    },
    {
     "name": "stderr",
     "output_type": "stream",
     "text": [
      "Processing file 'ibcda4dcq_flc.fits'\n"
     ]
    },
    {
     "name": "stderr",
     "output_type": "stream",
     "text": [
      "   * Primary header:\n"
     ]
    },
    {
     "name": "stderr",
     "output_type": "stream",
     "text": [
      "     - 'PHOTFLAM' found in the primary header.\n"
     ]
    },
    {
     "name": "stderr",
     "output_type": "stream",
     "text": [
      "     - Setting PHOTFLAM in the primary header to 1.1539911e-19 (old value was 1.1539913e-19)\n"
     ]
    },
    {
     "name": "stderr",
     "output_type": "stream",
     "text": [
      "     - Data conversion factor based on primary header: 1.0000001733115618\n"
     ]
    },
    {
     "name": "stderr",
     "output_type": "stream",
     "text": [
      "   * EXT: ('SCI', 1)\n"
     ]
    },
    {
     "name": "stderr",
     "output_type": "stream",
     "text": [
      "     - Setting PHOTFLAM to 1.1539911e-19 (old value was 1.1539913e-19)\n"
     ]
    },
    {
     "name": "stderr",
     "output_type": "stream",
     "text": [
      "     - Computed conversion factor for data: 1.0000001733115618\n"
     ]
    },
    {
     "name": "stderr",
     "output_type": "stream",
     "text": [
      "     - Setting PHOTFNU to 1.345696666775209e-07 (old value was 1.3456969e-07)\n"
     ]
    },
    {
     "name": "stderr",
     "output_type": "stream",
     "text": [
      "     - Data have been multiplied by 1.0000001733115618\n"
     ]
    },
    {
     "name": "stderr",
     "output_type": "stream",
     "text": [
      "     - Error array (ext=('ERR', 1)) has been multiplied by 1.0000001733115618\n"
     ]
    },
    {
     "name": "stderr",
     "output_type": "stream",
     "text": [
      "\n"
     ]
    },
    {
     "name": "stderr",
     "output_type": "stream",
     "text": [
      "Processing file 'ibcda4diq_flc.fits'\n"
     ]
    },
    {
     "name": "stderr",
     "output_type": "stream",
     "text": [
      "   * Primary header:\n"
     ]
    },
    {
     "name": "stderr",
     "output_type": "stream",
     "text": [
      "     - 'PHOTFLAM' found in the primary header.\n"
     ]
    },
    {
     "name": "stderr",
     "output_type": "stream",
     "text": [
      "     - Setting PHOTFLAM in the primary header to 1.1539911e-19 (old value was 1.1539915e-19)\n"
     ]
    },
    {
     "name": "stderr",
     "output_type": "stream",
     "text": [
      "     - Data conversion factor based on primary header: 1.000000346623124\n"
     ]
    },
    {
     "name": "stderr",
     "output_type": "stream",
     "text": [
      "   * EXT: ('SCI', 1)\n"
     ]
    },
    {
     "name": "stderr",
     "output_type": "stream",
     "text": [
      "     - Setting PHOTFLAM to 1.1539911e-19 (old value was 1.1539915e-19)\n"
     ]
    },
    {
     "name": "stderr",
     "output_type": "stream",
     "text": [
      "     - Computed conversion factor for data: 1.000000346623124\n"
     ]
    },
    {
     "name": "stderr",
     "output_type": "stream",
     "text": [
      "     - Setting PHOTFNU to 1.3456968335503596e-07 (old value was 1.3456973e-07)\n"
     ]
    },
    {
     "name": "stderr",
     "output_type": "stream",
     "text": [
      "     - Data have been multiplied by 1.000000346623124\n"
     ]
    },
    {
     "name": "stderr",
     "output_type": "stream",
     "text": [
      "     - Error array (ext=('ERR', 1)) has been multiplied by 1.000000346623124\n"
     ]
    },
    {
     "name": "stderr",
     "output_type": "stream",
     "text": [
      "\n"
     ]
    },
    {
     "name": "stderr",
     "output_type": "stream",
     "text": [
      "Processing file 'ich304prq_flc.fits'\n"
     ]
    },
    {
     "name": "stderr",
     "output_type": "stream",
     "text": [
      "   * Primary header:\n"
     ]
    },
    {
     "name": "stderr",
     "output_type": "stream",
     "text": [
      "     - 'PHOTFLAM' found in the primary header.\n"
     ]
    },
    {
     "name": "stderr",
     "output_type": "stream",
     "text": [
      "     - Setting PHOTFLAM in the primary header to 1.1539911e-19 (old value was 1.1638865e-19)\n"
     ]
    },
    {
     "name": "stderr",
     "output_type": "stream",
     "text": [
      "     - Data conversion factor based on primary header: 1.0085749361498544\n"
     ]
    },
    {
     "name": "stderr",
     "output_type": "stream",
     "text": [
      "   * EXT: ('SCI', 1)\n"
     ]
    },
    {
     "name": "stderr",
     "output_type": "stream",
     "text": [
      "     - Setting PHOTFLAM to 1.1539911e-19 (old value was 1.1638865e-19)\n"
     ]
    },
    {
     "name": "stderr",
     "output_type": "stream",
     "text": [
      "     - Computed conversion factor for data: 1.0085749361498544\n"
     ]
    },
    {
     "name": "stderr",
     "output_type": "stream",
     "text": [
      "     - Setting PHOTFNU to 1.3434231324172846e-07 (old value was 1.3549429e-07)\n"
     ]
    },
    {
     "name": "stderr",
     "output_type": "stream",
     "text": [
      "     - Data have been multiplied by 1.0085749361498544\n"
     ]
    },
    {
     "name": "stderr",
     "output_type": "stream",
     "text": [
      "     - Error array (ext=('ERR', 1)) has been multiplied by 1.0085749361498544\n"
     ]
    },
    {
     "name": "stderr",
     "output_type": "stream",
     "text": [
      "\n"
     ]
    },
    {
     "name": "stderr",
     "output_type": "stream",
     "text": [
      "Processing file 'ich304q1q_flc.fits'\n"
     ]
    },
    {
     "name": "stderr",
     "output_type": "stream",
     "text": [
      "   * Primary header:\n"
     ]
    },
    {
     "name": "stderr",
     "output_type": "stream",
     "text": [
      "     - 'PHOTFLAM' found in the primary header.\n"
     ]
    },
    {
     "name": "stderr",
     "output_type": "stream",
     "text": [
      "     - Setting PHOTFLAM in the primary header to 1.1539911e-19 (old value was 1.1638865e-19)\n"
     ]
    },
    {
     "name": "stderr",
     "output_type": "stream",
     "text": [
      "     - Data conversion factor based on primary header: 1.0085749361498544\n"
     ]
    },
    {
     "name": "stderr",
     "output_type": "stream",
     "text": [
      "   * EXT: ('SCI', 1)\n"
     ]
    },
    {
     "name": "stderr",
     "output_type": "stream",
     "text": [
      "     - Setting PHOTFLAM to 1.1539911e-19 (old value was 1.1638865e-19)\n"
     ]
    },
    {
     "name": "stderr",
     "output_type": "stream",
     "text": [
      "     - Computed conversion factor for data: 1.0085749361498544\n"
     ]
    },
    {
     "name": "stderr",
     "output_type": "stream",
     "text": [
      "     - Setting PHOTFNU to 1.3434232315670814e-07 (old value was 1.354943e-07)\n"
     ]
    },
    {
     "name": "stderr",
     "output_type": "stream",
     "text": [
      "     - Data have been multiplied by 1.0085749361498544\n"
     ]
    },
    {
     "name": "stderr",
     "output_type": "stream",
     "text": [
      "     - Error array (ext=('ERR', 1)) has been multiplied by 1.0085749361498544\n"
     ]
    },
    {
     "name": "stderr",
     "output_type": "stream",
     "text": [
      "\n"
     ]
    },
    {
     "name": "stderr",
     "output_type": "stream",
     "text": [
      "Processing file 'idbha6ntq_flc.fits'\n"
     ]
    },
    {
     "name": "stderr",
     "output_type": "stream",
     "text": [
      "   * Primary header:\n"
     ]
    },
    {
     "name": "stderr",
     "output_type": "stream",
     "text": [
      "     - 'PHOTFLAM' found in the primary header.\n"
     ]
    },
    {
     "name": "stderr",
     "output_type": "stream",
     "text": [
      "     - Setting PHOTFLAM in the primary header to 1.1539911e-19 (old value was 1.1736647e-19)\n"
     ]
    },
    {
     "name": "stderr",
     "output_type": "stream",
     "text": [
      "     - Data conversion factor based on primary header: 1.0170483117244147\n"
     ]
    },
    {
     "name": "stderr",
     "output_type": "stream",
     "text": [
      "   * EXT: ('SCI', 1)\n"
     ]
    },
    {
     "name": "stderr",
     "output_type": "stream",
     "text": [
      "     - Setting PHOTFLAM to 1.1539911e-19 (old value was 1.1736647e-19)\n"
     ]
    },
    {
     "name": "stderr",
     "output_type": "stream",
     "text": [
      "     - Computed conversion factor for data: 1.0170483117244147\n"
     ]
    },
    {
     "name": "stderr",
     "output_type": "stream",
     "text": [
      "     - Setting PHOTFNU to 1.3411951863793208e-07 (old value was 1.3640603e-07)\n"
     ]
    },
    {
     "name": "stderr",
     "output_type": "stream",
     "text": [
      "     - Data have been multiplied by 1.0170483117244147\n"
     ]
    },
    {
     "name": "stderr",
     "output_type": "stream",
     "text": [
      "     - Error array (ext=('ERR', 1)) has been multiplied by 1.0170483117244147\n"
     ]
    },
    {
     "name": "stderr",
     "output_type": "stream",
     "text": [
      "\n"
     ]
    },
    {
     "name": "stderr",
     "output_type": "stream",
     "text": [
      "Processing file 'idbha6nyq_flc.fits'\n"
     ]
    },
    {
     "name": "stderr",
     "output_type": "stream",
     "text": [
      "   * Primary header:\n"
     ]
    },
    {
     "name": "stderr",
     "output_type": "stream",
     "text": [
      "     - 'PHOTFLAM' found in the primary header.\n"
     ]
    },
    {
     "name": "stderr",
     "output_type": "stream",
     "text": [
      "     - Setting PHOTFLAM in the primary header to 1.1539911e-19 (old value was 1.1736649e-19)\n"
     ]
    },
    {
     "name": "stderr",
     "output_type": "stream",
     "text": [
      "     - Data conversion factor based on primary header: 1.0170484850359764\n"
     ]
    },
    {
     "name": "stderr",
     "output_type": "stream",
     "text": [
      "   * EXT: ('SCI', 1)\n"
     ]
    },
    {
     "name": "stderr",
     "output_type": "stream",
     "text": [
      "     - Setting PHOTFLAM to 1.1539911e-19 (old value was 1.1736649e-19)\n"
     ]
    },
    {
     "name": "stderr",
     "output_type": "stream",
     "text": [
      "     - Computed conversion factor for data: 1.0170484850359764\n"
     ]
    },
    {
     "name": "stderr",
     "output_type": "stream",
     "text": [
      "     - Setting PHOTFNU to 1.3411949578310894e-07 (old value was 1.3640603e-07)\n"
     ]
    },
    {
     "name": "stderr",
     "output_type": "stream",
     "text": [
      "     - Data have been multiplied by 1.0170484850359764\n"
     ]
    },
    {
     "name": "stderr",
     "output_type": "stream",
     "text": [
      "     - Error array (ext=('ERR', 1)) has been multiplied by 1.0170484850359764\n"
     ]
    },
    {
     "name": "stderr",
     "output_type": "stream",
     "text": [
      "\n"
     ]
    },
    {
     "name": "stderr",
     "output_type": "stream",
     "text": [
      "Done.\n"
     ]
    }
   ],
   "source": [
    "photeq.photeq(','.join(df['FLC'].values), readonly=False)"
   ]
  },
  {
   "cell_type": "markdown",
   "metadata": {},
   "source": [
    "<a id=\"calc_equal\"></a>\n",
    "### 5.1 Recompute countrates\n",
    "\n",
    "We repeat the same aperture photometry as in [Section 4.1](#calc_phot) but using the photometrically equalized FLC data."
   ]
  },
  {
   "cell_type": "code",
   "execution_count": 12,
   "metadata": {
    "execution": {
     "iopub.execute_input": "2025-09-17T22:01:41.761514Z",
     "iopub.status.busy": "2025-09-17T22:01:41.761329Z",
     "iopub.status.idle": "2025-09-17T22:01:41.822835Z",
     "shell.execute_reply": "2025-09-17T22:01:41.822404Z"
    }
   },
   "outputs": [],
   "source": [
    "phots = []\n",
    "for i, flc in enumerate(df['FLC'].values):\n",
    "    with fits.open(flc) as f:\n",
    "        data = f[1].data\n",
    "        exptime = f[0].header['EXPTIME']\n",
    "    data = data / exptime\n",
    "    data = data * pams[df.at[i, 'Amp']]\n",
    "\n",
    "    positions = (df.at[i, 'Centx'], df.at[i, 'Centy'])\n",
    "    aperture = CircularAperture(positions, ap)\n",
    "    annulus_aperture = CircularAnnulus(positions, r_in=skyrad[0], r_out=skyrad[1])\n",
    "    annulus_masks = annulus_aperture.to_mask(method='center')\n",
    "    annulus_data = annulus_masks.multiply(data)\n",
    "    mask = annulus_masks.data\n",
    "    annulus_data_1d = annulus_data[mask > 0]\n",
    "    mean_sigclip, _, _ = sigma_clipped_stats(annulus_data_1d)\n",
    "    background = mean_sigclip * aperture.area\n",
    "\n",
    "    apers = [aperture, annulus_aperture]\n",
    "    phot_table = aperture_photometry(data, apers)\n",
    "\n",
    "    final_sum = phot_table['aperture_sum_0'] - background\n",
    "    phots.append(final_sum[0])\n",
    "    mjds.append(mjd)"
   ]
  },
  {
   "cell_type": "markdown",
   "metadata": {},
   "source": [
    "We'll append the photometrically equalized countrates to our dataframe."
   ]
  },
  {
   "cell_type": "code",
   "execution_count": 13,
   "metadata": {
    "execution": {
     "iopub.execute_input": "2025-09-17T22:01:41.824598Z",
     "iopub.status.busy": "2025-09-17T22:01:41.824439Z",
     "iopub.status.idle": "2025-09-17T22:01:41.827114Z",
     "shell.execute_reply": "2025-09-17T22:01:41.826682Z"
    }
   },
   "outputs": [],
   "source": [
    "df['Phot-eq'] = phots"
   ]
  },
  {
   "cell_type": "code",
   "execution_count": 14,
   "metadata": {
    "execution": {
     "iopub.execute_input": "2025-09-17T22:01:41.828504Z",
     "iopub.status.busy": "2025-09-17T22:01:41.828361Z",
     "iopub.status.idle": "2025-09-17T22:01:41.837620Z",
     "shell.execute_reply": "2025-09-17T22:01:41.837223Z"
    }
   },
   "outputs": [
    {
     "data": {
      "text/html": [
       "<div>\n",
       "<style scoped>\n",
       "    .dataframe tbody tr th:only-of-type {\n",
       "        vertical-align: middle;\n",
       "    }\n",
       "\n",
       "    .dataframe tbody tr th {\n",
       "        vertical-align: top;\n",
       "    }\n",
       "\n",
       "    .dataframe thead th {\n",
       "        text-align: right;\n",
       "    }\n",
       "</style>\n",
       "<table border=\"1\" class=\"dataframe\">\n",
       "  <thead>\n",
       "    <tr style=\"text-align: right;\">\n",
       "      <th></th>\n",
       "      <th>FLC</th>\n",
       "      <th>Centx</th>\n",
       "      <th>Centy</th>\n",
       "      <th>Filter</th>\n",
       "      <th>Amp</th>\n",
       "      <th>Chip</th>\n",
       "      <th>Epoch</th>\n",
       "      <th>Countrate</th>\n",
       "      <th>MJD</th>\n",
       "      <th>DATE-OBS</th>\n",
       "      <th>PHOTFLAM</th>\n",
       "      <th>STMags</th>\n",
       "      <th>Phot-eq</th>\n",
       "    </tr>\n",
       "  </thead>\n",
       "  <tbody>\n",
       "    <tr>\n",
       "      <th>0</th>\n",
       "      <td>ibcda4d0q_flc.fits</td>\n",
       "      <td>289.940</td>\n",
       "      <td>285.934</td>\n",
       "      <td>F606W</td>\n",
       "      <td>C</td>\n",
       "      <td>2</td>\n",
       "      <td>1</td>\n",
       "      <td>103300.375759</td>\n",
       "      <td>55170.563332</td>\n",
       "      <td>2009-12-05</td>\n",
       "      <td>1.153991e-19</td>\n",
       "      <td>13.606843</td>\n",
       "      <td>103300.375759</td>\n",
       "    </tr>\n",
       "    <tr>\n",
       "      <th>1</th>\n",
       "      <td>ibcda4d6q_flc.fits</td>\n",
       "      <td>325.855</td>\n",
       "      <td>299.742</td>\n",
       "      <td>F606W</td>\n",
       "      <td>C</td>\n",
       "      <td>2</td>\n",
       "      <td>1</td>\n",
       "      <td>103292.263099</td>\n",
       "      <td>55170.569026</td>\n",
       "      <td>2009-12-05</td>\n",
       "      <td>1.153991e-19</td>\n",
       "      <td>13.606928</td>\n",
       "      <td>103292.274260</td>\n",
       "    </tr>\n",
       "    <tr>\n",
       "      <th>2</th>\n",
       "      <td>ibcda4dcq_flc.fits</td>\n",
       "      <td>312.830</td>\n",
       "      <td>321.911</td>\n",
       "      <td>F606W</td>\n",
       "      <td>C</td>\n",
       "      <td>2</td>\n",
       "      <td>1</td>\n",
       "      <td>103661.304094</td>\n",
       "      <td>55170.574721</td>\n",
       "      <td>2009-12-05</td>\n",
       "      <td>1.153991e-19</td>\n",
       "      <td>13.603055</td>\n",
       "      <td>103661.316241</td>\n",
       "    </tr>\n",
       "    <tr>\n",
       "      <th>3</th>\n",
       "      <td>ibcda4diq_flc.fits</td>\n",
       "      <td>276.756</td>\n",
       "      <td>308.288</td>\n",
       "      <td>F606W</td>\n",
       "      <td>C</td>\n",
       "      <td>2</td>\n",
       "      <td>1</td>\n",
       "      <td>103448.275067</td>\n",
       "      <td>55170.620196</td>\n",
       "      <td>2009-12-05</td>\n",
       "      <td>1.153992e-19</td>\n",
       "      <td>13.605289</td>\n",
       "      <td>103448.313094</td>\n",
       "    </tr>\n",
       "    <tr>\n",
       "      <th>4</th>\n",
       "      <td>ich304prq_flc.fits</td>\n",
       "      <td>246.181</td>\n",
       "      <td>331.752</td>\n",
       "      <td>F606W</td>\n",
       "      <td>C</td>\n",
       "      <td>2</td>\n",
       "      <td>2</td>\n",
       "      <td>102471.856752</td>\n",
       "      <td>56629.866744</td>\n",
       "      <td>2013-12-03</td>\n",
       "      <td>1.163887e-19</td>\n",
       "      <td>13.606315</td>\n",
       "      <td>103350.548848</td>\n",
       "    </tr>\n",
       "    <tr>\n",
       "      <th>5</th>\n",
       "      <td>ich304q1q_flc.fits</td>\n",
       "      <td>248.901</td>\n",
       "      <td>334.022</td>\n",
       "      <td>F606W</td>\n",
       "      <td>C</td>\n",
       "      <td>2</td>\n",
       "      <td>2</td>\n",
       "      <td>102744.163768</td>\n",
       "      <td>56629.877033</td>\n",
       "      <td>2013-12-03</td>\n",
       "      <td>1.163887e-19</td>\n",
       "      <td>13.603434</td>\n",
       "      <td>103625.191460</td>\n",
       "    </tr>\n",
       "    <tr>\n",
       "      <th>6</th>\n",
       "      <td>idbha6ntq_flc.fits</td>\n",
       "      <td>262.719</td>\n",
       "      <td>254.764</td>\n",
       "      <td>F606W</td>\n",
       "      <td>C</td>\n",
       "      <td>2</td>\n",
       "      <td>3</td>\n",
       "      <td>101822.822242</td>\n",
       "      <td>58068.856082</td>\n",
       "      <td>2017-11-11</td>\n",
       "      <td>1.173665e-19</td>\n",
       "      <td>13.604131</td>\n",
       "      <td>103558.735918</td>\n",
       "    </tr>\n",
       "    <tr>\n",
       "      <th>7</th>\n",
       "      <td>idbha6nyq_flc.fits</td>\n",
       "      <td>265.020</td>\n",
       "      <td>257.049</td>\n",
       "      <td>F606W</td>\n",
       "      <td>C</td>\n",
       "      <td>2</td>\n",
       "      <td>3</td>\n",
       "      <td>101553.087031</td>\n",
       "      <td>58068.861359</td>\n",
       "      <td>2017-11-11</td>\n",
       "      <td>1.173665e-19</td>\n",
       "      <td>13.607010</td>\n",
       "      <td>103284.414246</td>\n",
       "    </tr>\n",
       "  </tbody>\n",
       "</table>\n",
       "</div>"
      ],
      "text/plain": [
       "                  FLC    Centx    Centy Filter Amp  Chip  Epoch  \\\n",
       "0  ibcda4d0q_flc.fits  289.940  285.934  F606W   C     2      1   \n",
       "1  ibcda4d6q_flc.fits  325.855  299.742  F606W   C     2      1   \n",
       "2  ibcda4dcq_flc.fits  312.830  321.911  F606W   C     2      1   \n",
       "3  ibcda4diq_flc.fits  276.756  308.288  F606W   C     2      1   \n",
       "4  ich304prq_flc.fits  246.181  331.752  F606W   C     2      2   \n",
       "5  ich304q1q_flc.fits  248.901  334.022  F606W   C     2      2   \n",
       "6  idbha6ntq_flc.fits  262.719  254.764  F606W   C     2      3   \n",
       "7  idbha6nyq_flc.fits  265.020  257.049  F606W   C     2      3   \n",
       "\n",
       "       Countrate           MJD    DATE-OBS      PHOTFLAM     STMags  \\\n",
       "0  103300.375759  55170.563332  2009-12-05  1.153991e-19  13.606843   \n",
       "1  103292.263099  55170.569026  2009-12-05  1.153991e-19  13.606928   \n",
       "2  103661.304094  55170.574721  2009-12-05  1.153991e-19  13.603055   \n",
       "3  103448.275067  55170.620196  2009-12-05  1.153992e-19  13.605289   \n",
       "4  102471.856752  56629.866744  2013-12-03  1.163887e-19  13.606315   \n",
       "5  102744.163768  56629.877033  2013-12-03  1.163887e-19  13.603434   \n",
       "6  101822.822242  58068.856082  2017-11-11  1.173665e-19  13.604131   \n",
       "7  101553.087031  58068.861359  2017-11-11  1.173665e-19  13.607010   \n",
       "\n",
       "         Phot-eq  \n",
       "0  103300.375759  \n",
       "1  103292.274260  \n",
       "2  103661.316241  \n",
       "3  103448.313094  \n",
       "4  103350.548848  \n",
       "5  103625.191460  \n",
       "6  103558.735918  \n",
       "7  103284.414246  "
      ]
     },
     "execution_count": 14,
     "metadata": {},
     "output_type": "execute_result"
    }
   ],
   "source": [
    "df"
   ]
  },
  {
   "cell_type": "markdown",
   "metadata": {},
   "source": [
    "<a id=\"plot_equal\"></a>\n",
    "### 5.2 Plot corrected countrate vs date\n",
    "\n",
    "We plot the photometric countrate (electrons per second) versus time in MJD. The corrected data in blue shows that the countrate is now ~flat over time to within the measurment errors. The original countrates are shown in grey and show a decline of nearly 2% over the three epochs."
   ]
  },
  {
   "cell_type": "code",
   "execution_count": 15,
   "metadata": {
    "execution": {
     "iopub.execute_input": "2025-09-17T22:01:41.838995Z",
     "iopub.status.busy": "2025-09-17T22:01:41.838828Z",
     "iopub.status.idle": "2025-09-17T22:01:41.978630Z",
     "shell.execute_reply": "2025-09-17T22:01:41.978180Z"
    }
   },
   "outputs": [
    {
     "data": {
      "text/plain": [
       "<matplotlib.legend.Legend at 0x7f18f7917f10>"
      ]
     },
     "execution_count": 15,
     "metadata": {},
     "output_type": "execute_result"
    },
    {
     "data": {
      "image/png": "[encoded data removed]",
      "text/plain": [
       "<Figure size 800x400 with 1 Axes>"
      ]
     },
     "metadata": {},
     "output_type": "display_data"
    }
   ],
   "source": [
    "fig = plt.figure(figsize=(20, 10), dpi=40)\n",
    "\n",
    "plt.plot(df['MJD'], df['Countrate'], 's', markersize=20, label='Not equalized', alpha=0.55, color='Grey')\n",
    "plt.plot(df['MJD'], df['Phot-eq'], 'o', markersize=18, label='Equalized')\n",
    "plt.grid()\n",
    "plt.xlabel('MJD', fontsize=30)\n",
    "plt.xticks(fontsize=30)\n",
    "plt.yticks(fontsize=30)\n",
    "plt.ylabel('Countrate (e-/s)', fontsize=30)\n",
    "plt.title('Original and Corrected countrates for GD153 in F606W', fontsize=30)\n",
    "plt.ylim(101000, 104000)\n",
    "plt.legend(loc=0, fontsize=30)"
   ]
  },
  {
   "cell_type": "markdown",
   "metadata": {},
   "source": [
    "<a id=\"astro\"></a>\n",
    "## 6. Redrizzle the corrected FLC frames for each epoch\n",
    "\n",
    "The corrected FLC data from each epoch can now be redrizzled to correct for distortion, to remove cosmic rays and bad pixels, and to improve the signal-to-noise in the combined DRC product at each date. (Alternately, the entire set of FLC images may be combined to produce a single DRC image to use for photometry.)\n",
    "\n",
    "**Warning: This cell may take a few minutes to complete.**"
   ]
  },
  {
   "cell_type": "code",
   "execution_count": 16,
   "metadata": {
    "execution": {
     "iopub.execute_input": "2025-09-17T22:01:41.980206Z",
     "iopub.status.busy": "2025-09-17T22:01:41.980028Z",
     "iopub.status.idle": "2025-09-17T22:01:49.069605Z",
     "shell.execute_reply": "2025-09-17T22:01:49.069179Z"
    },
    "scrolled": true
   },
   "outputs": [
    {
     "name": "stdout",
     "output_type": "stream",
     "text": [
      "Setting up logfile :  astrodrizzle.log\n"
     ]
    },
    {
     "name": "stdout",
     "output_type": "stream",
     "text": [
      "AstroDrizzle log file: astrodrizzle.log\n"
     ]
    },
    {
     "name": "stdout",
     "output_type": "stream",
     "text": [
      "AstroDrizzle Version 3.10.0 started at: 22:01:42.002 (17/09/2025)\n"
     ]
    },
    {
     "name": "stdout",
     "output_type": "stream",
     "text": [
      "\n"
     ]
    },
    {
     "name": "stdout",
     "output_type": "stream",
     "text": [
      "==== Processing Step  Initialization  started at  22:01:42.003 (17/09/2025)\n"
     ]
    },
    {
     "name": "stdout",
     "output_type": "stream",
     "text": [
      "\n"
     ]
    },
    {
     "name": "stdout",
     "output_type": "stream",
     "text": [
      "WCS Keywords\n"
     ]
    },
    {
     "name": "stdout",
     "output_type": "stream",
     "text": [
      "\n"
     ]
    },
    {
     "name": "stdout",
     "output_type": "stream",
     "text": [
      "Number of WCS axes: 2\n"
     ]
    },
    {
     "name": "stdout",
     "output_type": "stream",
     "text": [
      "CTYPE : 'RA---TAN' 'DEC--TAN' \n"
     ]
    },
    {
     "name": "stdout",
     "output_type": "stream",
     "text": [
      "CRVAL : 194.25951624762914 22.031311762662927 \n"
     ]
    },
    {
     "name": "stdout",
     "output_type": "stream",
     "text": [
      "CRPIX : 259.0 273.0 \n"
     ]
    },
    {
     "name": "stdout",
     "output_type": "stream",
     "text": [
      "CD1_1 CD1_2  : 1.0852229209196698e-05 1.8306773585025585e-06 \n"
     ]
    },
    {
     "name": "stdout",
     "output_type": "stream",
     "text": [
      "CD2_1 CD2_2  : 1.8306773585025585e-06 -1.0852229209196698e-05 \n"
     ]
    },
    {
     "name": "stdout",
     "output_type": "stream",
     "text": [
      "NAXIS : 518  546\n"
     ]
    },
    {
     "name": "stdout",
     "output_type": "stream",
     "text": [
      "********************************************************************************\n"
     ]
    },
    {
     "name": "stdout",
     "output_type": "stream",
     "text": [
      "*\n"
     ]
    },
    {
     "name": "stdout",
     "output_type": "stream",
     "text": [
      "*  Estimated memory usage:  up to 5 Mb.\n"
     ]
    },
    {
     "name": "stdout",
     "output_type": "stream",
     "text": [
      "*  Output image size:       518 X 546 pixels. \n"
     ]
    },
    {
     "name": "stdout",
     "output_type": "stream",
     "text": [
      "*  Output image file:       ~ 3 Mb. \n"
     ]
    },
    {
     "name": "stdout",
     "output_type": "stream",
     "text": [
      "*  Cores available:         1\n"
     ]
    },
    {
     "name": "stdout",
     "output_type": "stream",
     "text": [
      "*\n"
     ]
    },
    {
     "name": "stdout",
     "output_type": "stream",
     "text": [
      "********************************************************************************\n"
     ]
    },
    {
     "name": "stdout",
     "output_type": "stream",
     "text": [
      "==== Processing Step Initialization finished at 22:01:42.267 (17/09/2025)\n"
     ]
    },
    {
     "name": "stdout",
     "output_type": "stream",
     "text": [
      "==== Processing Step  Static Mask  started at  22:01:42.268 (17/09/2025)\n"
     ]
    },
    {
     "name": "stdout",
     "output_type": "stream",
     "text": [
      "\n"
     ]
    },
    {
     "name": "stdout",
     "output_type": "stream",
     "text": [
      "==== Processing Step Static Mask finished at 22:01:42.349 (17/09/2025)\n"
     ]
    },
    {
     "name": "stdout",
     "output_type": "stream",
     "text": [
      "==== Processing Step  Subtract Sky  started at  22:01:42.350 (17/09/2025)\n"
     ]
    },
    {
     "name": "stdout",
     "output_type": "stream",
     "text": [
      "\n"
     ]
    },
    {
     "name": "stdout",
     "output_type": "stream",
     "text": [
      "***** skymatch started on 2025-09-17 22:01:42.373826\n"
     ]
    },
    {
     "name": "stdout",
     "output_type": "stream",
     "text": [
      "      Version 1.0.11\n"
     ]
    },
    {
     "name": "stdout",
     "output_type": "stream",
     "text": [
      "\n"
     ]
    },
    {
     "name": "stdout",
     "output_type": "stream",
     "text": [
      "'skymatch' task will apply computed sky differences to input image file(s).\n"
     ]
    },
    {
     "name": "stdout",
     "output_type": "stream",
     "text": [
      "\n"
     ]
    },
    {
     "name": "stdout",
     "output_type": "stream",
     "text": [
      "NOTE: Computed sky values WILL NOT be subtracted from image data ('subtractsky'=False).\n"
     ]
    },
    {
     "name": "stdout",
     "output_type": "stream",
     "text": [
      "'MDRIZSKY' header keyword will represent sky value *computed* from data.\n"
     ]
    },
    {
     "name": "stdout",
     "output_type": "stream",
     "text": [
      "\n"
     ]
    },
    {
     "name": "stdout",
     "output_type": "stream",
     "text": [
      "-----  User specified keywords:  -----\n"
     ]
    },
    {
     "name": "stdout",
     "output_type": "stream",
     "text": [
      "       Sky Value Keyword:  'MDRIZSKY'\n"
     ]
    },
    {
     "name": "stdout",
     "output_type": "stream",
     "text": [
      "       Data Units Keyword: 'BUNIT'\n"
     ]
    },
    {
     "name": "stdout",
     "output_type": "stream",
     "text": [
      "\n"
     ]
    },
    {
     "name": "stdout",
     "output_type": "stream",
     "text": [
      "\n"
     ]
    },
    {
     "name": "stdout",
     "output_type": "stream",
     "text": [
      "-----  Input file list:  -----\n"
     ]
    },
    {
     "name": "stdout",
     "output_type": "stream",
     "text": [
      "\n"
     ]
    },
    {
     "name": "stdout",
     "output_type": "stream",
     "text": [
      "   **  Input image: 'ich304prq_flc.fits'\n"
     ]
    },
    {
     "name": "stdout",
     "output_type": "stream",
     "text": [
      "       EXT: 'SCI',1;\tMASK: ich304prq_skymatch_mask_sci1.fits[0]\n"
     ]
    },
    {
     "name": "stdout",
     "output_type": "stream",
     "text": [
      "\n"
     ]
    },
    {
     "name": "stdout",
     "output_type": "stream",
     "text": [
      "   **  Input image: 'ich304q1q_flc.fits'\n"
     ]
    },
    {
     "name": "stdout",
     "output_type": "stream",
     "text": [
      "       EXT: 'SCI',1;\tMASK: ich304q1q_skymatch_mask_sci1.fits[0]\n"
     ]
    },
    {
     "name": "stdout",
     "output_type": "stream",
     "text": [
      "\n"
     ]
    },
    {
     "name": "stdout",
     "output_type": "stream",
     "text": [
      "-----  Sky statistics parameters:  -----\n"
     ]
    },
    {
     "name": "stdout",
     "output_type": "stream",
     "text": [
      "       statistics function: 'mean'\n"
     ]
    },
    {
     "name": "stdout",
     "output_type": "stream",
     "text": [
      "       lower = None\n"
     ]
    },
    {
     "name": "stdout",
     "output_type": "stream",
     "text": [
      "       upper = None\n"
     ]
    },
    {
     "name": "stdout",
     "output_type": "stream",
     "text": [
      "       nclip = 5\n"
     ]
    },
    {
     "name": "stdout",
     "output_type": "stream",
     "text": [
      "       lsigma = 4.0\n"
     ]
    },
    {
     "name": "stdout",
     "output_type": "stream",
     "text": [
      "       usigma = 4.0\n"
     ]
    },
    {
     "name": "stdout",
     "output_type": "stream",
     "text": [
      "       binwidth = 0.1\n"
     ]
    },
    {
     "name": "stdout",
     "output_type": "stream",
     "text": [
      "\n"
     ]
    },
    {
     "name": "stdout",
     "output_type": "stream",
     "text": [
      "-----  Data->Brightness conversion parameters for input files:  -----\n"
     ]
    },
    {
     "name": "stdout",
     "output_type": "stream",
     "text": [
      "\n"
     ]
    },
    {
     "name": "stdout",
     "output_type": "stream",
     "text": [
      "   *   Image: ich304prq_flc.fits\n"
     ]
    },
    {
     "name": "stdout",
     "output_type": "stream",
     "text": [
      "       EXT = 'SCI',1\n"
     ]
    },
    {
     "name": "stdout",
     "output_type": "stream",
     "text": [
      "             Data units type: COUNTS\n"
     ]
    },
    {
     "name": "stdout",
     "output_type": "stream",
     "text": [
      "             EXPTIME: 3.0 [s]\n"
     ]
    },
    {
     "name": "stdout",
     "output_type": "stream",
     "text": [
      "             Conversion factor (data->brightness):  212.3487866626491\n"
     ]
    },
    {
     "name": "stdout",
     "output_type": "stream",
     "text": [
      "\n"
     ]
    },
    {
     "name": "stdout",
     "output_type": "stream",
     "text": [
      "   *   Image: ich304q1q_flc.fits\n"
     ]
    },
    {
     "name": "stdout",
     "output_type": "stream",
     "text": [
      "       EXT = 'SCI',1\n"
     ]
    },
    {
     "name": "stdout",
     "output_type": "stream",
     "text": [
      "             Data units type: COUNTS\n"
     ]
    },
    {
     "name": "stdout",
     "output_type": "stream",
     "text": [
      "             EXPTIME: 3.0 [s]\n"
     ]
    },
    {
     "name": "stdout",
     "output_type": "stream",
     "text": [
      "             Conversion factor (data->brightness):  212.3487866626491\n"
     ]
    },
    {
     "name": "stdout",
     "output_type": "stream",
     "text": [
      "\n"
     ]
    },
    {
     "name": "stdout",
     "output_type": "stream",
     "text": [
      "\n"
     ]
    },
    {
     "name": "stdout",
     "output_type": "stream",
     "text": [
      "-----  Computing differences in sky values in overlapping regions:  -----\n"
     ]
    },
    {
     "name": "stdout",
     "output_type": "stream",
     "text": [
      "\n"
     ]
    },
    {
     "name": "stdout",
     "output_type": "stream",
     "text": [
      "   *   Image 'ich304prq_flc.fits['SCI',1]' SKY = 3.05637 [brightness units]\n"
     ]
    },
    {
     "name": "stdout",
     "output_type": "stream",
     "text": [
      "       Updating sky of image extension(s) [data units]:\n"
     ]
    },
    {
     "name": "stdout",
     "output_type": "stream",
     "text": [
      "       -  EXT = 'SCI',1   delta(MDRIZSKY) = 0.0143932\n"
     ]
    },
    {
     "name": "stdout",
     "output_type": "stream",
     "text": [
      "\n"
     ]
    },
    {
     "name": "stdout",
     "output_type": "stream",
     "text": [
      "   *   Image 'ich304q1q_flc.fits['SCI',1]' SKY = 0 [brightness units]\n"
     ]
    },
    {
     "name": "stdout",
     "output_type": "stream",
     "text": [
      "       Updating sky of image extension(s) [data units]:\n"
     ]
    },
    {
     "name": "stdout",
     "output_type": "stream",
     "text": [
      "       -  EXT = 'SCI',1   delta(MDRIZSKY) = 0\n"
     ]
    },
    {
     "name": "stdout",
     "output_type": "stream",
     "text": [
      "\n"
     ]
    },
    {
     "name": "stdout",
     "output_type": "stream",
     "text": [
      "***** skymatch ended on 2025-09-17 22:01:42.513507\n"
     ]
    },
    {
     "name": "stdout",
     "output_type": "stream",
     "text": [
      "TOTAL RUN TIME: 0:00:00.139681\n"
     ]
    },
    {
     "name": "stdout",
     "output_type": "stream",
     "text": [
      "==== Processing Step Subtract Sky finished at 22:01:42.539 (17/09/2025)\n"
     ]
    },
    {
     "name": "stdout",
     "output_type": "stream",
     "text": [
      "==== Processing Step  Separate Drizzle  started at  22:01:42.540 (17/09/2025)\n"
     ]
    },
    {
     "name": "stdout",
     "output_type": "stream",
     "text": [
      "\n"
     ]
    },
    {
     "name": "stdout",
     "output_type": "stream",
     "text": [
      "WCS Keywords\n"
     ]
    },
    {
     "name": "stdout",
     "output_type": "stream",
     "text": [
      "\n"
     ]
    },
    {
     "name": "stdout",
     "output_type": "stream",
     "text": [
      "Number of WCS axes: 2\n"
     ]
    },
    {
     "name": "stdout",
     "output_type": "stream",
     "text": [
      "CTYPE : 'RA---TAN' 'DEC--TAN' \n"
     ]
    },
    {
     "name": "stdout",
     "output_type": "stream",
     "text": [
      "CRVAL : 194.25951624762914 22.031311762662927 \n"
     ]
    },
    {
     "name": "stdout",
     "output_type": "stream",
     "text": [
      "CRPIX : 259.0 273.0 \n"
     ]
    },
    {
     "name": "stdout",
     "output_type": "stream",
     "text": [
      "CD1_1 CD1_2  : 1.0852229209196698e-05 1.8306773585025585e-06 \n"
     ]
    },
    {
     "name": "stdout",
     "output_type": "stream",
     "text": [
      "CD2_1 CD2_2  : 1.8306773585025585e-06 -1.0852229209196698e-05 \n"
     ]
    },
    {
     "name": "stdout",
     "output_type": "stream",
     "text": [
      "NAXIS : 518  546\n"
     ]
    },
    {
     "name": "stdout",
     "output_type": "stream",
     "text": [
      "-Generating simple FITS output: ich304prq_single_sci.fits\n"
     ]
    },
    {
     "name": "stdout",
     "output_type": "stream",
     "text": [
      "Writing out image to disk: ich304prq_single_sci.fits\n"
     ]
    },
    {
     "name": "stdout",
     "output_type": "stream",
     "text": [
      "Writing out image to disk: ich304prq_single_wht.fits\n"
     ]
    },
    {
     "name": "stdout",
     "output_type": "stream",
     "text": [
      "-Generating simple FITS output: ich304q1q_single_sci.fits\n"
     ]
    },
    {
     "name": "stdout",
     "output_type": "stream",
     "text": [
      "Writing out image to disk: ich304q1q_single_sci.fits\n"
     ]
    },
    {
     "name": "stdout",
     "output_type": "stream",
     "text": [
      "Writing out image to disk: ich304q1q_single_wht.fits\n"
     ]
    },
    {
     "name": "stdout",
     "output_type": "stream",
     "text": [
      "==== Processing Step Separate Drizzle finished at 22:01:42.892 (17/09/2025)\n"
     ]
    },
    {
     "name": "stdout",
     "output_type": "stream",
     "text": [
      "==== Processing Step  Create Median  started at  22:01:42.892 (17/09/2025)\n"
     ]
    },
    {
     "name": "stdout",
     "output_type": "stream",
     "text": [
      "\n"
     ]
    },
    {
     "name": "stdout",
     "output_type": "stream",
     "text": [
      "reference sky value for image 'ich304prq_flc.fits' is 0.014393150806426957\n"
     ]
    },
    {
     "name": "stdout",
     "output_type": "stream",
     "text": [
      "reference sky value for image 'ich304q1q_flc.fits' is 0.0\n"
     ]
    },
    {
     "name": "stdout",
     "output_type": "stream",
     "text": [
      "Saving output median image to: 'ich3040f0_med.fits'\n"
     ]
    },
    {
     "name": "stdout",
     "output_type": "stream",
     "text": [
      "==== Processing Step Create Median finished at 22:01:42.939 (17/09/2025)\n"
     ]
    },
    {
     "name": "stdout",
     "output_type": "stream",
     "text": [
      "==== Processing Step  Blot  started at  22:01:42.939 (17/09/2025)\n"
     ]
    },
    {
     "name": "stdout",
     "output_type": "stream",
     "text": [
      "\n"
     ]
    },
    {
     "name": "stdout",
     "output_type": "stream",
     "text": [
      "    Blot: creating blotted image:  ich304prq_flc.fits[sci,1]\n"
     ]
    },
    {
     "name": "stdout",
     "output_type": "stream",
     "text": [
      "Using default C-based coordinate transformation...\n"
     ]
    },
    {
     "name": "stdout",
     "output_type": "stream",
     "text": [
      "-Generating simple FITS output: ich304prq_sci1_blt.fits\n"
     ]
    },
    {
     "name": "stdout",
     "output_type": "stream",
     "text": [
      "Writing out image to disk: ich304prq_sci1_blt.fits\n"
     ]
    },
    {
     "name": "stdout",
     "output_type": "stream",
     "text": [
      "    Blot: creating blotted image:  ich304q1q_flc.fits[sci,1]\n"
     ]
    },
    {
     "name": "stdout",
     "output_type": "stream",
     "text": [
      "Using default C-based coordinate transformation...\n"
     ]
    },
    {
     "name": "stdout",
     "output_type": "stream",
     "text": [
      "-Generating simple FITS output: ich304q1q_sci1_blt.fits\n"
     ]
    },
    {
     "name": "stdout",
     "output_type": "stream",
     "text": [
      "Writing out image to disk: ich304q1q_sci1_blt.fits\n"
     ]
    },
    {
     "name": "stdout",
     "output_type": "stream",
     "text": [
      "==== Processing Step Blot finished at 22:01:43.14 (17/09/2025)\n"
     ]
    },
    {
     "name": "stdout",
     "output_type": "stream",
     "text": [
      "==== Processing Step  Driz_CR  started at  22:01:43.147 (17/09/2025)\n"
     ]
    },
    {
     "name": "stdout",
     "output_type": "stream",
     "text": [
      "\n"
     ]
    },
    {
     "name": "stdout",
     "output_type": "stream",
     "text": [
      "Creating output: ich304prq_sci1_crmask.fits\n"
     ]
    },
    {
     "name": "stdout",
     "output_type": "stream",
     "text": [
      "Creating output: ich304q1q_sci1_crmask.fits\n"
     ]
    },
    {
     "name": "stdout",
     "output_type": "stream",
     "text": [
      "==== Processing Step Driz_CR finished at 22:01:43.226 (17/09/2025)\n"
     ]
    },
    {
     "name": "stdout",
     "output_type": "stream",
     "text": [
      "==== Processing Step  Final Drizzle  started at  22:01:43.227 (17/09/2025)\n"
     ]
    },
    {
     "name": "stdout",
     "output_type": "stream",
     "text": [
      "\n"
     ]
    },
    {
     "name": "stdout",
     "output_type": "stream",
     "text": [
      "WCS Keywords\n"
     ]
    },
    {
     "name": "stdout",
     "output_type": "stream",
     "text": [
      "\n"
     ]
    },
    {
     "name": "stdout",
     "output_type": "stream",
     "text": [
      "Number of WCS axes: 2\n"
     ]
    },
    {
     "name": "stdout",
     "output_type": "stream",
     "text": [
      "CTYPE : 'RA---TAN' 'DEC--TAN' \n"
     ]
    },
    {
     "name": "stdout",
     "output_type": "stream",
     "text": [
      "CRVAL : 194.25951624762914 22.031311762662927 \n"
     ]
    },
    {
     "name": "stdout",
     "output_type": "stream",
     "text": [
      "CRPIX : 259.0 273.0 \n"
     ]
    },
    {
     "name": "stdout",
     "output_type": "stream",
     "text": [
      "CD1_1 CD1_2  : 1.0852229209196698e-05 1.8306773585025585e-06 \n"
     ]
    },
    {
     "name": "stdout",
     "output_type": "stream",
     "text": [
      "CD2_1 CD2_2  : 1.8306773585025585e-06 -1.0852229209196698e-05 \n"
     ]
    },
    {
     "name": "stdout",
     "output_type": "stream",
     "text": [
      "NAXIS : 518  546\n"
     ]
    },
    {
     "name": "stdout",
     "output_type": "stream",
     "text": [
      "-Generating multi-extension output file:  ich3040f0_drc.fits\n"
     ]
    },
    {
     "name": "stdout",
     "output_type": "stream",
     "text": [
      "Deleted all instances of WCS with key A in extensions [1]\n"
     ]
    },
    {
     "name": "stdout",
     "output_type": "stream",
     "text": [
      "Writing out to disk: ich3040f0_drc.fits\n"
     ]
    },
    {
     "name": "stdout",
     "output_type": "stream",
     "text": [
      "==== Processing Step Final Drizzle finished at 22:01:43.880 (17/09/2025)\n"
     ]
    },
    {
     "name": "stdout",
     "output_type": "stream",
     "text": [
      "\n"
     ]
    },
    {
     "name": "stdout",
     "output_type": "stream",
     "text": [
      "AstroDrizzle Version 3.10.0 is finished processing at 22:01:43.881 (17/09/2025).\n"
     ]
    },
    {
     "name": "stdout",
     "output_type": "stream",
     "text": [
      "\n"
     ]
    },
    {
     "name": "stdout",
     "output_type": "stream",
     "text": [
      "\n"
     ]
    },
    {
     "name": "stdout",
     "output_type": "stream",
     "text": [
      "\n"
     ]
    },
    {
     "name": "stdout",
     "output_type": "stream",
     "text": [
      "   --------------------          --------------------\n"
     ]
    },
    {
     "name": "stdout",
     "output_type": "stream",
     "text": [
      "                   Step          Elapsed time\n"
     ]
    },
    {
     "name": "stdout",
     "output_type": "stream",
     "text": [
      "   --------------------          --------------------\n"
     ]
    },
    {
     "name": "stdout",
     "output_type": "stream",
     "text": [
      "\n"
     ]
    },
    {
     "name": "stdout",
     "output_type": "stream",
     "text": [
      "         Initialization          0.2634 sec.\n"
     ]
    },
    {
     "name": "stdout",
     "output_type": "stream",
     "text": [
      "            Static Mask          0.0801 sec.\n"
     ]
    },
    {
     "name": "stdout",
     "output_type": "stream",
     "text": [
      "           Subtract Sky          0.1894 sec.\n"
     ]
    },
    {
     "name": "stdout",
     "output_type": "stream",
     "text": [
      "       Separate Drizzle          0.3515 sec.\n"
     ]
    },
    {
     "name": "stdout",
     "output_type": "stream",
     "text": [
      "          Create Median          0.0462 sec.\n"
     ]
    },
    {
     "name": "stdout",
     "output_type": "stream",
     "text": [
      "                   Blot          0.2066 sec.\n"
     ]
    },
    {
     "name": "stdout",
     "output_type": "stream",
     "text": [
      "                Driz_CR          0.0798 sec.\n"
     ]
    },
    {
     "name": "stdout",
     "output_type": "stream",
     "text": [
      "          Final Drizzle          0.6529 sec.\n"
     ]
    },
    {
     "name": "stdout",
     "output_type": "stream",
     "text": [
      "   ====================          ====================\n"
     ]
    },
    {
     "name": "stdout",
     "output_type": "stream",
     "text": [
      "                  Total          1.8699 sec.\n"
     ]
    },
    {
     "name": "stdout",
     "output_type": "stream",
     "text": [
      "\n"
     ]
    },
    {
     "name": "stdout",
     "output_type": "stream",
     "text": [
      "Trailer file written to:  astrodrizzle.log\n"
     ]
    },
    {
     "name": "stdout",
     "output_type": "stream",
     "text": [
      "Setting up logfile :  astrodrizzle.log\n"
     ]
    },
    {
     "name": "stdout",
     "output_type": "stream",
     "text": [
      "AstroDrizzle log file: astrodrizzle.log\n"
     ]
    },
    {
     "name": "stdout",
     "output_type": "stream",
     "text": [
      "AstroDrizzle Version 3.10.0 started at: 22:01:43.921 (17/09/2025)\n"
     ]
    },
    {
     "name": "stdout",
     "output_type": "stream",
     "text": [
      "\n"
     ]
    },
    {
     "name": "stdout",
     "output_type": "stream",
     "text": [
      "==== Processing Step  Initialization  started at  22:01:43.922 (17/09/2025)\n"
     ]
    },
    {
     "name": "stdout",
     "output_type": "stream",
     "text": [
      "\n"
     ]
    },
    {
     "name": "stdout",
     "output_type": "stream",
     "text": [
      "WCS Keywords\n"
     ]
    },
    {
     "name": "stdout",
     "output_type": "stream",
     "text": [
      "\n"
     ]
    },
    {
     "name": "stdout",
     "output_type": "stream",
     "text": [
      "Number of WCS axes: 2\n"
     ]
    },
    {
     "name": "stdout",
     "output_type": "stream",
     "text": [
      "CTYPE : 'RA---TAN' 'DEC--TAN' \n"
     ]
    },
    {
     "name": "stdout",
     "output_type": "stream",
     "text": [
      "CRVAL : 194.2588967794268 22.031359382197184 \n"
     ]
    },
    {
     "name": "stdout",
     "output_type": "stream",
     "text": [
      "CRPIX : 282.5 290.5 \n"
     ]
    },
    {
     "name": "stdout",
     "output_type": "stream",
     "text": [
      "CD1_1 CD1_2  : 1.082347140916146e-05 1.9936712504674146e-06 \n"
     ]
    },
    {
     "name": "stdout",
     "output_type": "stream",
     "text": [
      "CD2_1 CD2_2  : 1.9936712504674146e-06 -1.082347140916146e-05 \n"
     ]
    },
    {
     "name": "stdout",
     "output_type": "stream",
     "text": [
      "NAXIS : 565  581\n"
     ]
    },
    {
     "name": "stdout",
     "output_type": "stream",
     "text": [
      "********************************************************************************\n"
     ]
    },
    {
     "name": "stdout",
     "output_type": "stream",
     "text": [
      "*\n"
     ]
    },
    {
     "name": "stdout",
     "output_type": "stream",
     "text": [
      "*  Estimated memory usage:  up to 5 Mb.\n"
     ]
    },
    {
     "name": "stdout",
     "output_type": "stream",
     "text": [
      "*  Output image size:       565 X 581 pixels. \n"
     ]
    },
    {
     "name": "stdout",
     "output_type": "stream",
     "text": [
      "*  Output image file:       ~ 3 Mb. \n"
     ]
    },
    {
     "name": "stdout",
     "output_type": "stream",
     "text": [
      "*  Cores available:         1\n"
     ]
    },
    {
     "name": "stdout",
     "output_type": "stream",
     "text": [
      "*\n"
     ]
    },
    {
     "name": "stdout",
     "output_type": "stream",
     "text": [
      "********************************************************************************\n"
     ]
    },
    {
     "name": "stdout",
     "output_type": "stream",
     "text": [
      "==== Processing Step Initialization finished at 22:01:44.392 (17/09/2025)\n"
     ]
    },
    {
     "name": "stdout",
     "output_type": "stream",
     "text": [
      "==== Processing Step  Static Mask  started at  22:01:44.393 (17/09/2025)\n"
     ]
    },
    {
     "name": "stdout",
     "output_type": "stream",
     "text": [
      "\n"
     ]
    },
    {
     "name": "stdout",
     "output_type": "stream",
     "text": [
      "==== Processing Step Static Mask finished at 22:01:44.414 (17/09/2025)\n"
     ]
    },
    {
     "name": "stdout",
     "output_type": "stream",
     "text": [
      "==== Processing Step  Subtract Sky  started at  22:01:44.415 (17/09/2025)\n"
     ]
    },
    {
     "name": "stdout",
     "output_type": "stream",
     "text": [
      "\n"
     ]
    },
    {
     "name": "stdout",
     "output_type": "stream",
     "text": [
      "***** skymatch started on 2025-09-17 22:01:44.457618\n"
     ]
    },
    {
     "name": "stdout",
     "output_type": "stream",
     "text": [
      "      Version 1.0.11\n"
     ]
    },
    {
     "name": "stdout",
     "output_type": "stream",
     "text": [
      "\n"
     ]
    },
    {
     "name": "stdout",
     "output_type": "stream",
     "text": [
      "'skymatch' task will apply computed sky differences to input image file(s).\n"
     ]
    },
    {
     "name": "stdout",
     "output_type": "stream",
     "text": [
      "\n"
     ]
    },
    {
     "name": "stdout",
     "output_type": "stream",
     "text": [
      "NOTE: Computed sky values WILL NOT be subtracted from image data ('subtractsky'=False).\n"
     ]
    },
    {
     "name": "stdout",
     "output_type": "stream",
     "text": [
      "'MDRIZSKY' header keyword will represent sky value *computed* from data.\n"
     ]
    },
    {
     "name": "stdout",
     "output_type": "stream",
     "text": [
      "\n"
     ]
    },
    {
     "name": "stdout",
     "output_type": "stream",
     "text": [
      "-----  User specified keywords:  -----\n"
     ]
    },
    {
     "name": "stdout",
     "output_type": "stream",
     "text": [
      "       Sky Value Keyword:  'MDRIZSKY'\n"
     ]
    },
    {
     "name": "stdout",
     "output_type": "stream",
     "text": [
      "       Data Units Keyword: 'BUNIT'\n"
     ]
    },
    {
     "name": "stdout",
     "output_type": "stream",
     "text": [
      "\n"
     ]
    },
    {
     "name": "stdout",
     "output_type": "stream",
     "text": [
      "\n"
     ]
    },
    {
     "name": "stdout",
     "output_type": "stream",
     "text": [
      "-----  Input file list:  -----\n"
     ]
    },
    {
     "name": "stdout",
     "output_type": "stream",
     "text": [
      "\n"
     ]
    },
    {
     "name": "stdout",
     "output_type": "stream",
     "text": [
      "   **  Input image: 'ibcda4d0q_flc.fits'\n"
     ]
    },
    {
     "name": "stdout",
     "output_type": "stream",
     "text": [
      "       EXT: 'SCI',1;\tMASK: ibcda4d0q_skymatch_mask_sci1.fits[0]\n"
     ]
    },
    {
     "name": "stdout",
     "output_type": "stream",
     "text": [
      "\n"
     ]
    },
    {
     "name": "stdout",
     "output_type": "stream",
     "text": [
      "   **  Input image: 'ibcda4d6q_flc.fits'\n"
     ]
    },
    {
     "name": "stdout",
     "output_type": "stream",
     "text": [
      "       EXT: 'SCI',1;\tMASK: ibcda4d6q_skymatch_mask_sci1.fits[0]\n"
     ]
    },
    {
     "name": "stdout",
     "output_type": "stream",
     "text": [
      "\n"
     ]
    },
    {
     "name": "stdout",
     "output_type": "stream",
     "text": [
      "   **  Input image: 'ibcda4dcq_flc.fits'\n"
     ]
    },
    {
     "name": "stdout",
     "output_type": "stream",
     "text": [
      "       EXT: 'SCI',1;\tMASK: ibcda4dcq_skymatch_mask_sci1.fits[0]\n"
     ]
    },
    {
     "name": "stdout",
     "output_type": "stream",
     "text": [
      "\n"
     ]
    },
    {
     "name": "stdout",
     "output_type": "stream",
     "text": [
      "   **  Input image: 'ibcda4diq_flc.fits'\n"
     ]
    },
    {
     "name": "stdout",
     "output_type": "stream",
     "text": [
      "       EXT: 'SCI',1;\tMASK: ibcda4diq_skymatch_mask_sci1.fits[0]\n"
     ]
    },
    {
     "name": "stdout",
     "output_type": "stream",
     "text": [
      "\n"
     ]
    },
    {
     "name": "stdout",
     "output_type": "stream",
     "text": [
      "-----  Sky statistics parameters:  -----\n"
     ]
    },
    {
     "name": "stdout",
     "output_type": "stream",
     "text": [
      "       statistics function: 'mean'\n"
     ]
    },
    {
     "name": "stdout",
     "output_type": "stream",
     "text": [
      "       lower = None\n"
     ]
    },
    {
     "name": "stdout",
     "output_type": "stream",
     "text": [
      "       upper = None\n"
     ]
    },
    {
     "name": "stdout",
     "output_type": "stream",
     "text": [
      "       nclip = 5\n"
     ]
    },
    {
     "name": "stdout",
     "output_type": "stream",
     "text": [
      "       lsigma = 4.0\n"
     ]
    },
    {
     "name": "stdout",
     "output_type": "stream",
     "text": [
      "       usigma = 4.0\n"
     ]
    },
    {
     "name": "stdout",
     "output_type": "stream",
     "text": [
      "       binwidth = 0.1\n"
     ]
    },
    {
     "name": "stdout",
     "output_type": "stream",
     "text": [
      "\n"
     ]
    },
    {
     "name": "stdout",
     "output_type": "stream",
     "text": [
      "-----  Data->Brightness conversion parameters for input files:  -----\n"
     ]
    },
    {
     "name": "stdout",
     "output_type": "stream",
     "text": [
      "\n"
     ]
    },
    {
     "name": "stdout",
     "output_type": "stream",
     "text": [
      "   *   Image: ibcda4d0q_flc.fits\n"
     ]
    },
    {
     "name": "stdout",
     "output_type": "stream",
     "text": [
      "       EXT = 'SCI',1\n"
     ]
    },
    {
     "name": "stdout",
     "output_type": "stream",
     "text": [
      "             Data units type: COUNTS\n"
     ]
    },
    {
     "name": "stdout",
     "output_type": "stream",
     "text": [
      "             EXPTIME: 1.0 [s]\n"
     ]
    },
    {
     "name": "stdout",
     "output_type": "stream",
     "text": [
      "             Conversion factor (data->brightness):  637.0463599879473\n"
     ]
    },
    {
     "name": "stdout",
     "output_type": "stream",
     "text": [
      "\n"
     ]
    },
    {
     "name": "stdout",
     "output_type": "stream",
     "text": [
      "   *   Image: ibcda4d6q_flc.fits\n"
     ]
    },
    {
     "name": "stdout",
     "output_type": "stream",
     "text": [
      "       EXT = 'SCI',1\n"
     ]
    },
    {
     "name": "stdout",
     "output_type": "stream",
     "text": [
      "             Data units type: COUNTS\n"
     ]
    },
    {
     "name": "stdout",
     "output_type": "stream",
     "text": [
      "             EXPTIME: 1.0 [s]\n"
     ]
    },
    {
     "name": "stdout",
     "output_type": "stream",
     "text": [
      "             Conversion factor (data->brightness):  637.0463599879473\n"
     ]
    },
    {
     "name": "stdout",
     "output_type": "stream",
     "text": [
      "\n"
     ]
    },
    {
     "name": "stdout",
     "output_type": "stream",
     "text": [
      "   *   Image: ibcda4dcq_flc.fits\n"
     ]
    },
    {
     "name": "stdout",
     "output_type": "stream",
     "text": [
      "       EXT = 'SCI',1\n"
     ]
    },
    {
     "name": "stdout",
     "output_type": "stream",
     "text": [
      "             Data units type: COUNTS\n"
     ]
    },
    {
     "name": "stdout",
     "output_type": "stream",
     "text": [
      "             EXPTIME: 1.0 [s]\n"
     ]
    },
    {
     "name": "stdout",
     "output_type": "stream",
     "text": [
      "             Conversion factor (data->brightness):  637.0463599879473\n"
     ]
    },
    {
     "name": "stdout",
     "output_type": "stream",
     "text": [
      "\n"
     ]
    },
    {
     "name": "stdout",
     "output_type": "stream",
     "text": [
      "   *   Image: ibcda4diq_flc.fits\n"
     ]
    },
    {
     "name": "stdout",
     "output_type": "stream",
     "text": [
      "       EXT = 'SCI',1\n"
     ]
    },
    {
     "name": "stdout",
     "output_type": "stream",
     "text": [
      "             Data units type: COUNTS\n"
     ]
    },
    {
     "name": "stdout",
     "output_type": "stream",
     "text": [
      "             EXPTIME: 1.0 [s]\n"
     ]
    },
    {
     "name": "stdout",
     "output_type": "stream",
     "text": [
      "             Conversion factor (data->brightness):  637.0463599879473\n"
     ]
    },
    {
     "name": "stdout",
     "output_type": "stream",
     "text": [
      "\n"
     ]
    },
    {
     "name": "stdout",
     "output_type": "stream",
     "text": [
      "\n"
     ]
    },
    {
     "name": "stdout",
     "output_type": "stream",
     "text": [
      "-----  Computing differences in sky values in overlapping regions:  -----\n"
     ]
    },
    {
     "name": "stdout",
     "output_type": "stream",
     "text": [
      "\n"
     ]
    },
    {
     "name": "stdout",
     "output_type": "stream",
     "text": [
      "   *   Image 'ibcda4d0q_flc.fits['SCI',1]' SKY = 68.4183 [brightness units]\n"
     ]
    },
    {
     "name": "stdout",
     "output_type": "stream",
     "text": [
      "       Updating sky of image extension(s) [data units]:\n"
     ]
    },
    {
     "name": "stdout",
     "output_type": "stream",
     "text": [
      "       -  EXT = 'SCI',1   delta(MDRIZSKY) = 0.107399\n"
     ]
    },
    {
     "name": "stdout",
     "output_type": "stream",
     "text": [
      "\n"
     ]
    },
    {
     "name": "stdout",
     "output_type": "stream",
     "text": [
      "   *   Image 'ibcda4d6q_flc.fits['SCI',1]' SKY = 10.3393 [brightness units]\n"
     ]
    },
    {
     "name": "stdout",
     "output_type": "stream",
     "text": [
      "       Updating sky of image extension(s) [data units]:\n"
     ]
    },
    {
     "name": "stdout",
     "output_type": "stream",
     "text": [
      "       -  EXT = 'SCI',1   delta(MDRIZSKY) = 0.0162301\n"
     ]
    },
    {
     "name": "stdout",
     "output_type": "stream",
     "text": [
      "\n"
     ]
    },
    {
     "name": "stdout",
     "output_type": "stream",
     "text": [
      "   *   Image 'ibcda4dcq_flc.fits['SCI',1]' SKY = 12.4503 [brightness units]\n"
     ]
    },
    {
     "name": "stdout",
     "output_type": "stream",
     "text": [
      "       Updating sky of image extension(s) [data units]:\n"
     ]
    },
    {
     "name": "stdout",
     "output_type": "stream",
     "text": [
      "       -  EXT = 'SCI',1   delta(MDRIZSKY) = 0.0195437\n"
     ]
    },
    {
     "name": "stdout",
     "output_type": "stream",
     "text": [
      "\n"
     ]
    },
    {
     "name": "stdout",
     "output_type": "stream",
     "text": [
      "   *   Image 'ibcda4diq_flc.fits['SCI',1]' SKY = 0 [brightness units]\n"
     ]
    },
    {
     "name": "stdout",
     "output_type": "stream",
     "text": [
      "       Updating sky of image extension(s) [data units]:\n"
     ]
    },
    {
     "name": "stdout",
     "output_type": "stream",
     "text": [
      "       -  EXT = 'SCI',1   delta(MDRIZSKY) = 0\n"
     ]
    },
    {
     "name": "stdout",
     "output_type": "stream",
     "text": [
      "\n"
     ]
    },
    {
     "name": "stdout",
     "output_type": "stream",
     "text": [
      "***** skymatch ended on 2025-09-17 22:01:44.962186\n"
     ]
    },
    {
     "name": "stdout",
     "output_type": "stream",
     "text": [
      "TOTAL RUN TIME: 0:00:00.504568\n"
     ]
    },
    {
     "name": "stdout",
     "output_type": "stream",
     "text": [
      "==== Processing Step Subtract Sky finished at 22:01:45.012 (17/09/2025)\n"
     ]
    },
    {
     "name": "stdout",
     "output_type": "stream",
     "text": [
      "==== Processing Step  Separate Drizzle  started at  22:01:45.013 (17/09/2025)\n"
     ]
    },
    {
     "name": "stdout",
     "output_type": "stream",
     "text": [
      "\n"
     ]
    },
    {
     "name": "stdout",
     "output_type": "stream",
     "text": [
      "WCS Keywords\n"
     ]
    },
    {
     "name": "stdout",
     "output_type": "stream",
     "text": [
      "\n"
     ]
    },
    {
     "name": "stdout",
     "output_type": "stream",
     "text": [
      "Number of WCS axes: 2\n"
     ]
    },
    {
     "name": "stdout",
     "output_type": "stream",
     "text": [
      "CTYPE : 'RA---TAN' 'DEC--TAN' \n"
     ]
    },
    {
     "name": "stdout",
     "output_type": "stream",
     "text": [
      "CRVAL : 194.2588967794268 22.031359382197184 \n"
     ]
    },
    {
     "name": "stdout",
     "output_type": "stream",
     "text": [
      "CRPIX : 282.5 290.5 \n"
     ]
    },
    {
     "name": "stdout",
     "output_type": "stream",
     "text": [
      "CD1_1 CD1_2  : 1.082347140916146e-05 1.9936712504674146e-06 \n"
     ]
    },
    {
     "name": "stdout",
     "output_type": "stream",
     "text": [
      "CD2_1 CD2_2  : 1.9936712504674146e-06 -1.082347140916146e-05 \n"
     ]
    },
    {
     "name": "stdout",
     "output_type": "stream",
     "text": [
      "NAXIS : 565  581\n"
     ]
    },
    {
     "name": "stdout",
     "output_type": "stream",
     "text": [
      "-Generating simple FITS output: ibcda4d0q_single_sci.fits\n"
     ]
    },
    {
     "name": "stdout",
     "output_type": "stream",
     "text": [
      "Writing out image to disk: ibcda4d0q_single_sci.fits\n"
     ]
    },
    {
     "name": "stdout",
     "output_type": "stream",
     "text": [
      "Writing out image to disk: ibcda4d0q_single_wht.fits\n"
     ]
    },
    {
     "name": "stdout",
     "output_type": "stream",
     "text": [
      "-Generating simple FITS output: ibcda4d6q_single_sci.fits\n"
     ]
    },
    {
     "name": "stdout",
     "output_type": "stream",
     "text": [
      "Writing out image to disk: ibcda4d6q_single_sci.fits\n"
     ]
    },
    {
     "name": "stdout",
     "output_type": "stream",
     "text": [
      "Writing out image to disk: ibcda4d6q_single_wht.fits\n"
     ]
    },
    {
     "name": "stdout",
     "output_type": "stream",
     "text": [
      "-Generating simple FITS output: ibcda4dcq_single_sci.fits\n"
     ]
    },
    {
     "name": "stdout",
     "output_type": "stream",
     "text": [
      "Writing out image to disk: ibcda4dcq_single_sci.fits\n"
     ]
    },
    {
     "name": "stdout",
     "output_type": "stream",
     "text": [
      "Writing out image to disk: ibcda4dcq_single_wht.fits\n"
     ]
    },
    {
     "name": "stdout",
     "output_type": "stream",
     "text": [
      "-Generating simple FITS output: ibcda4diq_single_sci.fits\n"
     ]
    },
    {
     "name": "stdout",
     "output_type": "stream",
     "text": [
      "Writing out image to disk: ibcda4diq_single_sci.fits\n"
     ]
    },
    {
     "name": "stdout",
     "output_type": "stream",
     "text": [
      "Writing out image to disk: ibcda4diq_single_wht.fits\n"
     ]
    },
    {
     "name": "stdout",
     "output_type": "stream",
     "text": [
      "==== Processing Step Separate Drizzle finished at 22:01:45.692 (17/09/2025)\n"
     ]
    },
    {
     "name": "stdout",
     "output_type": "stream",
     "text": [
      "==== Processing Step  Create Median  started at  22:01:45.692 (17/09/2025)\n"
     ]
    },
    {
     "name": "stdout",
     "output_type": "stream",
     "text": [
      "\n"
     ]
    },
    {
     "name": "stdout",
     "output_type": "stream",
     "text": [
      "reference sky value for image 'ibcda4d0q_flc.fits' is 0.10739920657268735\n"
     ]
    },
    {
     "name": "stdout",
     "output_type": "stream",
     "text": [
      "reference sky value for image 'ibcda4d6q_flc.fits' is 0.016230068945693298\n"
     ]
    },
    {
     "name": "stdout",
     "output_type": "stream",
     "text": [
      "reference sky value for image 'ibcda4dcq_flc.fits' is 0.01954372089581475\n"
     ]
    },
    {
     "name": "stdout",
     "output_type": "stream",
     "text": [
      "reference sky value for image 'ibcda4diq_flc.fits' is 0.0\n"
     ]
    },
    {
     "name": "stdout",
     "output_type": "stream",
     "text": [
      "Saving output median image to: 'ibcda4010_med.fits'\n"
     ]
    },
    {
     "name": "stdout",
     "output_type": "stream",
     "text": [
      "==== Processing Step Create Median finished at 22:01:45.769 (17/09/2025)\n"
     ]
    },
    {
     "name": "stdout",
     "output_type": "stream",
     "text": [
      "==== Processing Step  Blot  started at  22:01:45.770 (17/09/2025)\n"
     ]
    },
    {
     "name": "stdout",
     "output_type": "stream",
     "text": [
      "\n"
     ]
    },
    {
     "name": "stdout",
     "output_type": "stream",
     "text": [
      "    Blot: creating blotted image:  ibcda4d0q_flc.fits[sci,1]\n"
     ]
    },
    {
     "name": "stdout",
     "output_type": "stream",
     "text": [
      "Using default C-based coordinate transformation...\n"
     ]
    },
    {
     "name": "stdout",
     "output_type": "stream",
     "text": [
      "-Generating simple FITS output: ibcda4d0q_sci1_blt.fits\n"
     ]
    },
    {
     "name": "stdout",
     "output_type": "stream",
     "text": [
      "Writing out image to disk: ibcda4d0q_sci1_blt.fits\n"
     ]
    },
    {
     "name": "stdout",
     "output_type": "stream",
     "text": [
      "    Blot: creating blotted image:  ibcda4d6q_flc.fits[sci,1]\n"
     ]
    },
    {
     "name": "stdout",
     "output_type": "stream",
     "text": [
      "Using default C-based coordinate transformation...\n"
     ]
    },
    {
     "name": "stdout",
     "output_type": "stream",
     "text": [
      "-Generating simple FITS output: ibcda4d6q_sci1_blt.fits\n"
     ]
    },
    {
     "name": "stdout",
     "output_type": "stream",
     "text": [
      "Writing out image to disk: ibcda4d6q_sci1_blt.fits\n"
     ]
    },
    {
     "name": "stdout",
     "output_type": "stream",
     "text": [
      "    Blot: creating blotted image:  ibcda4dcq_flc.fits[sci,1]\n"
     ]
    },
    {
     "name": "stdout",
     "output_type": "stream",
     "text": [
      "Using default C-based coordinate transformation...\n"
     ]
    },
    {
     "name": "stdout",
     "output_type": "stream",
     "text": [
      "-Generating simple FITS output: ibcda4dcq_sci1_blt.fits\n"
     ]
    },
    {
     "name": "stdout",
     "output_type": "stream",
     "text": [
      "Writing out image to disk: ibcda4dcq_sci1_blt.fits\n"
     ]
    },
    {
     "name": "stdout",
     "output_type": "stream",
     "text": [
      "    Blot: creating blotted image:  ibcda4diq_flc.fits[sci,1]\n"
     ]
    },
    {
     "name": "stdout",
     "output_type": "stream",
     "text": [
      "Using default C-based coordinate transformation...\n"
     ]
    },
    {
     "name": "stdout",
     "output_type": "stream",
     "text": [
      "-Generating simple FITS output: ibcda4diq_sci1_blt.fits\n"
     ]
    },
    {
     "name": "stdout",
     "output_type": "stream",
     "text": [
      "Writing out image to disk: ibcda4diq_sci1_blt.fits\n"
     ]
    },
    {
     "name": "stdout",
     "output_type": "stream",
     "text": [
      "==== Processing Step Blot finished at 22:01:46.270 (17/09/2025)\n"
     ]
    },
    {
     "name": "stdout",
     "output_type": "stream",
     "text": [
      "==== Processing Step  Driz_CR  started at  22:01:46.271 (17/09/2025)\n"
     ]
    },
    {
     "name": "stdout",
     "output_type": "stream",
     "text": [
      "\n"
     ]
    },
    {
     "name": "stdout",
     "output_type": "stream",
     "text": [
      "Creating output: ibcda4d0q_sci1_crmask.fits\n"
     ]
    },
    {
     "name": "stdout",
     "output_type": "stream",
     "text": [
      "Creating output: ibcda4d6q_sci1_crmask.fits\n"
     ]
    },
    {
     "name": "stdout",
     "output_type": "stream",
     "text": [
      "Creating output: ibcda4dcq_sci1_crmask.fits\n"
     ]
    },
    {
     "name": "stdout",
     "output_type": "stream",
     "text": [
      "Creating output: ibcda4diq_sci1_crmask.fits\n"
     ]
    },
    {
     "name": "stdout",
     "output_type": "stream",
     "text": [
      "==== Processing Step Driz_CR finished at 22:01:46.426 (17/09/2025)\n"
     ]
    },
    {
     "name": "stdout",
     "output_type": "stream",
     "text": [
      "==== Processing Step  Final Drizzle  started at  22:01:46.426 (17/09/2025)\n"
     ]
    },
    {
     "name": "stdout",
     "output_type": "stream",
     "text": [
      "\n"
     ]
    },
    {
     "name": "stdout",
     "output_type": "stream",
     "text": [
      "WCS Keywords\n"
     ]
    },
    {
     "name": "stdout",
     "output_type": "stream",
     "text": [
      "\n"
     ]
    },
    {
     "name": "stdout",
     "output_type": "stream",
     "text": [
      "Number of WCS axes: 2\n"
     ]
    },
    {
     "name": "stdout",
     "output_type": "stream",
     "text": [
      "CTYPE : 'RA---TAN' 'DEC--TAN' \n"
     ]
    },
    {
     "name": "stdout",
     "output_type": "stream",
     "text": [
      "CRVAL : 194.2588967794268 22.031359382197184 \n"
     ]
    },
    {
     "name": "stdout",
     "output_type": "stream",
     "text": [
      "CRPIX : 282.5 290.5 \n"
     ]
    },
    {
     "name": "stdout",
     "output_type": "stream",
     "text": [
      "CD1_1 CD1_2  : 1.082347140916146e-05 1.9936712504674146e-06 \n"
     ]
    },
    {
     "name": "stdout",
     "output_type": "stream",
     "text": [
      "CD2_1 CD2_2  : 1.9936712504674146e-06 -1.082347140916146e-05 \n"
     ]
    },
    {
     "name": "stdout",
     "output_type": "stream",
     "text": [
      "NAXIS : 565  581\n"
     ]
    },
    {
     "name": "stdout",
     "output_type": "stream",
     "text": [
      "-Generating multi-extension output file:  ibcda4010_drc.fits\n"
     ]
    },
    {
     "name": "stdout",
     "output_type": "stream",
     "text": [
      "Deleted all instances of WCS with key A in extensions [1]\n"
     ]
    },
    {
     "name": "stdout",
     "output_type": "stream",
     "text": [
      "Writing out to disk: ibcda4010_drc.fits\n"
     ]
    },
    {
     "name": "stdout",
     "output_type": "stream",
     "text": [
      "==== Processing Step Final Drizzle finished at 22:01:47.23 (17/09/2025)\n"
     ]
    },
    {
     "name": "stdout",
     "output_type": "stream",
     "text": [
      "\n"
     ]
    },
    {
     "name": "stdout",
     "output_type": "stream",
     "text": [
      "AstroDrizzle Version 3.10.0 is finished processing at 22:01:47.238 (17/09/2025).\n"
     ]
    },
    {
     "name": "stdout",
     "output_type": "stream",
     "text": [
      "\n"
     ]
    },
    {
     "name": "stdout",
     "output_type": "stream",
     "text": [
      "\n"
     ]
    },
    {
     "name": "stdout",
     "output_type": "stream",
     "text": [
      "\n"
     ]
    },
    {
     "name": "stdout",
     "output_type": "stream",
     "text": [
      "   --------------------          --------------------\n"
     ]
    },
    {
     "name": "stdout",
     "output_type": "stream",
     "text": [
      "                   Step          Elapsed time\n"
     ]
    },
    {
     "name": "stdout",
     "output_type": "stream",
     "text": [
      "   --------------------          --------------------\n"
     ]
    },
    {
     "name": "stdout",
     "output_type": "stream",
     "text": [
      "\n"
     ]
    },
    {
     "name": "stdout",
     "output_type": "stream",
     "text": [
      "         Initialization          0.4702 sec.\n"
     ]
    },
    {
     "name": "stdout",
     "output_type": "stream",
     "text": [
      "            Static Mask          0.0208 sec.\n"
     ]
    },
    {
     "name": "stdout",
     "output_type": "stream",
     "text": [
      "           Subtract Sky          0.5965 sec.\n"
     ]
    },
    {
     "name": "stdout",
     "output_type": "stream",
     "text": [
      "       Separate Drizzle          0.6789 sec.\n"
     ]
    },
    {
     "name": "stdout",
     "output_type": "stream",
     "text": [
      "          Create Median          0.0765 sec.\n"
     ]
    },
    {
     "name": "stdout",
     "output_type": "stream",
     "text": [
      "                   Blot          0.5006 sec.\n"
     ]
    },
    {
     "name": "stdout",
     "output_type": "stream",
     "text": [
      "                Driz_CR          0.1544 sec.\n"
     ]
    },
    {
     "name": "stdout",
     "output_type": "stream",
     "text": [
      "          Final Drizzle          0.8103 sec.\n"
     ]
    },
    {
     "name": "stdout",
     "output_type": "stream",
     "text": [
      "   ====================          ====================\n"
     ]
    },
    {
     "name": "stdout",
     "output_type": "stream",
     "text": [
      "                  Total          3.3083 sec.\n"
     ]
    },
    {
     "name": "stdout",
     "output_type": "stream",
     "text": [
      "\n"
     ]
    },
    {
     "name": "stdout",
     "output_type": "stream",
     "text": [
      "Trailer file written to:  astrodrizzle.log\n"
     ]
    },
    {
     "name": "stdout",
     "output_type": "stream",
     "text": [
      "Setting up logfile :  astrodrizzle.log\n"
     ]
    },
    {
     "name": "stdout",
     "output_type": "stream",
     "text": [
      "AstroDrizzle log file: astrodrizzle.log\n"
     ]
    },
    {
     "name": "stdout",
     "output_type": "stream",
     "text": [
      "AstroDrizzle Version 3.10.0 started at: 22:01:47.282 (17/09/2025)\n"
     ]
    },
    {
     "name": "stdout",
     "output_type": "stream",
     "text": [
      "\n"
     ]
    },
    {
     "name": "stdout",
     "output_type": "stream",
     "text": [
      "==== Processing Step  Initialization  started at  22:01:47.284 (17/09/2025)\n"
     ]
    },
    {
     "name": "stdout",
     "output_type": "stream",
     "text": [
      "\n"
     ]
    },
    {
     "name": "stdout",
     "output_type": "stream",
     "text": [
      "WCS Keywords\n"
     ]
    },
    {
     "name": "stdout",
     "output_type": "stream",
     "text": [
      "\n"
     ]
    },
    {
     "name": "stdout",
     "output_type": "stream",
     "text": [
      "Number of WCS axes: 2\n"
     ]
    },
    {
     "name": "stdout",
     "output_type": "stream",
     "text": [
      "CTYPE : 'RA---TAN' 'DEC--TAN' \n"
     ]
    },
    {
     "name": "stdout",
     "output_type": "stream",
     "text": [
      "CRVAL : 194.25946702548492 22.030300403211356 \n"
     ]
    },
    {
     "name": "stdout",
     "output_type": "stream",
     "text": [
      "CRPIX : 259.0 273.0 \n"
     ]
    },
    {
     "name": "stdout",
     "output_type": "stream",
     "text": [
      "CD1_1 CD1_2  : 1.1001745311092143e-05 -2.8958333815648194e-07 \n"
     ]
    },
    {
     "name": "stdout",
     "output_type": "stream",
     "text": [
      "CD2_1 CD2_2  : -2.8958333815648194e-07 -1.1001745311092143e-05 \n"
     ]
    },
    {
     "name": "stdout",
     "output_type": "stream",
     "text": [
      "NAXIS : 518  546\n"
     ]
    },
    {
     "name": "stdout",
     "output_type": "stream",
     "text": [
      "********************************************************************************\n"
     ]
    },
    {
     "name": "stdout",
     "output_type": "stream",
     "text": [
      "*\n"
     ]
    },
    {
     "name": "stdout",
     "output_type": "stream",
     "text": [
      "*  Estimated memory usage:  up to 5 Mb.\n"
     ]
    },
    {
     "name": "stdout",
     "output_type": "stream",
     "text": [
      "*  Output image size:       518 X 546 pixels. \n"
     ]
    },
    {
     "name": "stdout",
     "output_type": "stream",
     "text": [
      "*  Output image file:       ~ 3 Mb. \n"
     ]
    },
    {
     "name": "stdout",
     "output_type": "stream",
     "text": [
      "*  Cores available:         1\n"
     ]
    },
    {
     "name": "stdout",
     "output_type": "stream",
     "text": [
      "*\n"
     ]
    },
    {
     "name": "stdout",
     "output_type": "stream",
     "text": [
      "********************************************************************************\n"
     ]
    },
    {
     "name": "stdout",
     "output_type": "stream",
     "text": [
      "==== Processing Step Initialization finished at 22:01:47.52 (17/09/2025)\n"
     ]
    },
    {
     "name": "stdout",
     "output_type": "stream",
     "text": [
      "==== Processing Step  Static Mask  started at  22:01:47.529 (17/09/2025)\n"
     ]
    },
    {
     "name": "stdout",
     "output_type": "stream",
     "text": [
      "\n"
     ]
    },
    {
     "name": "stdout",
     "output_type": "stream",
     "text": [
      "==== Processing Step Static Mask finished at 22:01:47.540 (17/09/2025)\n"
     ]
    },
    {
     "name": "stdout",
     "output_type": "stream",
     "text": [
      "==== Processing Step  Subtract Sky  started at  22:01:47.541 (17/09/2025)\n"
     ]
    },
    {
     "name": "stdout",
     "output_type": "stream",
     "text": [
      "\n"
     ]
    },
    {
     "name": "stdout",
     "output_type": "stream",
     "text": [
      "***** skymatch started on 2025-09-17 22:01:47.562158\n"
     ]
    },
    {
     "name": "stdout",
     "output_type": "stream",
     "text": [
      "      Version 1.0.11\n"
     ]
    },
    {
     "name": "stdout",
     "output_type": "stream",
     "text": [
      "\n"
     ]
    },
    {
     "name": "stdout",
     "output_type": "stream",
     "text": [
      "'skymatch' task will apply computed sky differences to input image file(s).\n"
     ]
    },
    {
     "name": "stdout",
     "output_type": "stream",
     "text": [
      "\n"
     ]
    },
    {
     "name": "stdout",
     "output_type": "stream",
     "text": [
      "NOTE: Computed sky values WILL NOT be subtracted from image data ('subtractsky'=False).\n"
     ]
    },
    {
     "name": "stdout",
     "output_type": "stream",
     "text": [
      "'MDRIZSKY' header keyword will represent sky value *computed* from data.\n"
     ]
    },
    {
     "name": "stdout",
     "output_type": "stream",
     "text": [
      "\n"
     ]
    },
    {
     "name": "stdout",
     "output_type": "stream",
     "text": [
      "-----  User specified keywords:  -----\n"
     ]
    },
    {
     "name": "stdout",
     "output_type": "stream",
     "text": [
      "       Sky Value Keyword:  'MDRIZSKY'\n"
     ]
    },
    {
     "name": "stdout",
     "output_type": "stream",
     "text": [
      "       Data Units Keyword: 'BUNIT'\n"
     ]
    },
    {
     "name": "stdout",
     "output_type": "stream",
     "text": [
      "\n"
     ]
    },
    {
     "name": "stdout",
     "output_type": "stream",
     "text": [
      "\n"
     ]
    },
    {
     "name": "stdout",
     "output_type": "stream",
     "text": [
      "-----  Input file list:  -----\n"
     ]
    },
    {
     "name": "stdout",
     "output_type": "stream",
     "text": [
      "\n"
     ]
    },
    {
     "name": "stdout",
     "output_type": "stream",
     "text": [
      "   **  Input image: 'idbha6ntq_flc.fits'\n"
     ]
    },
    {
     "name": "stdout",
     "output_type": "stream",
     "text": [
      "       EXT: 'SCI',1;\tMASK: idbha6ntq_skymatch_mask_sci1.fits[0]\n"
     ]
    },
    {
     "name": "stdout",
     "output_type": "stream",
     "text": [
      "\n"
     ]
    },
    {
     "name": "stdout",
     "output_type": "stream",
     "text": [
      "   **  Input image: 'idbha6nyq_flc.fits'\n"
     ]
    },
    {
     "name": "stdout",
     "output_type": "stream",
     "text": [
      "       EXT: 'SCI',1;\tMASK: idbha6nyq_skymatch_mask_sci1.fits[0]\n"
     ]
    },
    {
     "name": "stdout",
     "output_type": "stream",
     "text": [
      "\n"
     ]
    },
    {
     "name": "stdout",
     "output_type": "stream",
     "text": [
      "-----  Sky statistics parameters:  -----\n"
     ]
    },
    {
     "name": "stdout",
     "output_type": "stream",
     "text": [
      "       statistics function: 'mean'\n"
     ]
    },
    {
     "name": "stdout",
     "output_type": "stream",
     "text": [
      "       lower = None\n"
     ]
    },
    {
     "name": "stdout",
     "output_type": "stream",
     "text": [
      "       upper = None\n"
     ]
    },
    {
     "name": "stdout",
     "output_type": "stream",
     "text": [
      "       nclip = 5\n"
     ]
    },
    {
     "name": "stdout",
     "output_type": "stream",
     "text": [
      "       lsigma = 4.0\n"
     ]
    },
    {
     "name": "stdout",
     "output_type": "stream",
     "text": [
      "       usigma = 4.0\n"
     ]
    },
    {
     "name": "stdout",
     "output_type": "stream",
     "text": [
      "       binwidth = 0.1\n"
     ]
    },
    {
     "name": "stdout",
     "output_type": "stream",
     "text": [
      "\n"
     ]
    },
    {
     "name": "stdout",
     "output_type": "stream",
     "text": [
      "-----  Data->Brightness conversion parameters for input files:  -----\n"
     ]
    },
    {
     "name": "stdout",
     "output_type": "stream",
     "text": [
      "\n"
     ]
    },
    {
     "name": "stdout",
     "output_type": "stream",
     "text": [
      "   *   Image: idbha6ntq_flc.fits\n"
     ]
    },
    {
     "name": "stdout",
     "output_type": "stream",
     "text": [
      "       EXT = 'SCI',1\n"
     ]
    },
    {
     "name": "stdout",
     "output_type": "stream",
     "text": [
      "             Data units type: COUNTS\n"
     ]
    },
    {
     "name": "stdout",
     "output_type": "stream",
     "text": [
      "             EXPTIME: 3.0 [s]\n"
     ]
    },
    {
     "name": "stdout",
     "output_type": "stream",
     "text": [
      "             Conversion factor (data->brightness):  212.3487866626491\n"
     ]
    },
    {
     "name": "stdout",
     "output_type": "stream",
     "text": [
      "\n"
     ]
    },
    {
     "name": "stdout",
     "output_type": "stream",
     "text": [
      "   *   Image: idbha6nyq_flc.fits\n"
     ]
    },
    {
     "name": "stdout",
     "output_type": "stream",
     "text": [
      "       EXT = 'SCI',1\n"
     ]
    },
    {
     "name": "stdout",
     "output_type": "stream",
     "text": [
      "             Data units type: COUNTS\n"
     ]
    },
    {
     "name": "stdout",
     "output_type": "stream",
     "text": [
      "             EXPTIME: 3.0 [s]\n"
     ]
    },
    {
     "name": "stdout",
     "output_type": "stream",
     "text": [
      "             Conversion factor (data->brightness):  212.3487866626491\n"
     ]
    },
    {
     "name": "stdout",
     "output_type": "stream",
     "text": [
      "\n"
     ]
    },
    {
     "name": "stdout",
     "output_type": "stream",
     "text": [
      "\n"
     ]
    },
    {
     "name": "stdout",
     "output_type": "stream",
     "text": [
      "-----  Computing differences in sky values in overlapping regions:  -----\n"
     ]
    },
    {
     "name": "stdout",
     "output_type": "stream",
     "text": [
      "\n"
     ]
    },
    {
     "name": "stdout",
     "output_type": "stream",
     "text": [
      "   *   Image 'idbha6ntq_flc.fits['SCI',1]' SKY = 0 [brightness units]\n"
     ]
    },
    {
     "name": "stdout",
     "output_type": "stream",
     "text": [
      "       Updating sky of image extension(s) [data units]:\n"
     ]
    },
    {
     "name": "stdout",
     "output_type": "stream",
     "text": [
      "       -  EXT = 'SCI',1   delta(MDRIZSKY) = 0\n"
     ]
    },
    {
     "name": "stdout",
     "output_type": "stream",
     "text": [
      "\n"
     ]
    },
    {
     "name": "stdout",
     "output_type": "stream",
     "text": [
      "   *   Image 'idbha6nyq_flc.fits['SCI',1]' SKY = 0.535884 [brightness units]\n"
     ]
    },
    {
     "name": "stdout",
     "output_type": "stream",
     "text": [
      "       Updating sky of image extension(s) [data units]:\n"
     ]
    },
    {
     "name": "stdout",
     "output_type": "stream",
     "text": [
      "       -  EXT = 'SCI',1   delta(MDRIZSKY) = 0.0025236\n"
     ]
    },
    {
     "name": "stdout",
     "output_type": "stream",
     "text": [
      "\n"
     ]
    },
    {
     "name": "stdout",
     "output_type": "stream",
     "text": [
      "***** skymatch ended on 2025-09-17 22:01:47.684874\n"
     ]
    },
    {
     "name": "stdout",
     "output_type": "stream",
     "text": [
      "TOTAL RUN TIME: 0:00:00.122716\n"
     ]
    },
    {
     "name": "stdout",
     "output_type": "stream",
     "text": [
      "==== Processing Step Subtract Sky finished at 22:01:47.710 (17/09/2025)\n"
     ]
    },
    {
     "name": "stdout",
     "output_type": "stream",
     "text": [
      "==== Processing Step  Separate Drizzle  started at  22:01:47.710 (17/09/2025)\n"
     ]
    },
    {
     "name": "stdout",
     "output_type": "stream",
     "text": [
      "\n"
     ]
    },
    {
     "name": "stdout",
     "output_type": "stream",
     "text": [
      "WCS Keywords\n"
     ]
    },
    {
     "name": "stdout",
     "output_type": "stream",
     "text": [
      "\n"
     ]
    },
    {
     "name": "stdout",
     "output_type": "stream",
     "text": [
      "Number of WCS axes: 2\n"
     ]
    },
    {
     "name": "stdout",
     "output_type": "stream",
     "text": [
      "CTYPE : 'RA---TAN' 'DEC--TAN' \n"
     ]
    },
    {
     "name": "stdout",
     "output_type": "stream",
     "text": [
      "CRVAL : 194.25946702548492 22.030300403211356 \n"
     ]
    },
    {
     "name": "stdout",
     "output_type": "stream",
     "text": [
      "CRPIX : 259.0 273.0 \n"
     ]
    },
    {
     "name": "stdout",
     "output_type": "stream",
     "text": [
      "CD1_1 CD1_2  : 1.1001745311092143e-05 -2.8958333815648194e-07 \n"
     ]
    },
    {
     "name": "stdout",
     "output_type": "stream",
     "text": [
      "CD2_1 CD2_2  : -2.8958333815648194e-07 -1.1001745311092143e-05 \n"
     ]
    },
    {
     "name": "stdout",
     "output_type": "stream",
     "text": [
      "NAXIS : 518  546\n"
     ]
    },
    {
     "name": "stdout",
     "output_type": "stream",
     "text": [
      "-Generating simple FITS output: idbha6ntq_single_sci.fits\n"
     ]
    },
    {
     "name": "stdout",
     "output_type": "stream",
     "text": [
      "Writing out image to disk: idbha6ntq_single_sci.fits\n"
     ]
    },
    {
     "name": "stdout",
     "output_type": "stream",
     "text": [
      "Writing out image to disk: idbha6ntq_single_wht.fits\n"
     ]
    },
    {
     "name": "stdout",
     "output_type": "stream",
     "text": [
      "-Generating simple FITS output: idbha6nyq_single_sci.fits\n"
     ]
    },
    {
     "name": "stdout",
     "output_type": "stream",
     "text": [
      "Writing out image to disk: idbha6nyq_single_sci.fits\n"
     ]
    },
    {
     "name": "stdout",
     "output_type": "stream",
     "text": [
      "Writing out image to disk: idbha6nyq_single_wht.fits\n"
     ]
    },
    {
     "name": "stdout",
     "output_type": "stream",
     "text": [
      "==== Processing Step Separate Drizzle finished at 22:01:48.08 (17/09/2025)\n"
     ]
    },
    {
     "name": "stdout",
     "output_type": "stream",
     "text": [
      "==== Processing Step  Create Median  started at  22:01:48.081 (17/09/2025)\n"
     ]
    },
    {
     "name": "stdout",
     "output_type": "stream",
     "text": [
      "\n"
     ]
    },
    {
     "name": "stdout",
     "output_type": "stream",
     "text": [
      "reference sky value for image 'idbha6ntq_flc.fits' is 0.0\n"
     ]
    },
    {
     "name": "stdout",
     "output_type": "stream",
     "text": [
      "reference sky value for image 'idbha6nyq_flc.fits' is 0.0025236010551451834\n"
     ]
    },
    {
     "name": "stdout",
     "output_type": "stream",
     "text": [
      "Saving output median image to: 'idbha6040_med.fits'\n"
     ]
    },
    {
     "name": "stdout",
     "output_type": "stream",
     "text": [
      "==== Processing Step Create Median finished at 22:01:48.12 (17/09/2025)\n"
     ]
    },
    {
     "name": "stdout",
     "output_type": "stream",
     "text": [
      "==== Processing Step  Blot  started at  22:01:48.130 (17/09/2025)\n"
     ]
    },
    {
     "name": "stdout",
     "output_type": "stream",
     "text": [
      "\n"
     ]
    },
    {
     "name": "stdout",
     "output_type": "stream",
     "text": [
      "    Blot: creating blotted image:  idbha6ntq_flc.fits[sci,1]\n"
     ]
    },
    {
     "name": "stdout",
     "output_type": "stream",
     "text": [
      "Using default C-based coordinate transformation...\n"
     ]
    },
    {
     "name": "stdout",
     "output_type": "stream",
     "text": [
      "-Generating simple FITS output: idbha6ntq_sci1_blt.fits\n"
     ]
    },
    {
     "name": "stdout",
     "output_type": "stream",
     "text": [
      "Writing out image to disk: idbha6ntq_sci1_blt.fits\n"
     ]
    },
    {
     "name": "stdout",
     "output_type": "stream",
     "text": [
      "    Blot: creating blotted image:  idbha6nyq_flc.fits[sci,1]\n"
     ]
    },
    {
     "name": "stdout",
     "output_type": "stream",
     "text": [
      "Using default C-based coordinate transformation...\n"
     ]
    },
    {
     "name": "stdout",
     "output_type": "stream",
     "text": [
      "-Generating simple FITS output: idbha6nyq_sci1_blt.fits\n"
     ]
    },
    {
     "name": "stdout",
     "output_type": "stream",
     "text": [
      "Writing out image to disk: idbha6nyq_sci1_blt.fits\n"
     ]
    },
    {
     "name": "stdout",
     "output_type": "stream",
     "text": [
      "==== Processing Step Blot finished at 22:01:48.329 (17/09/2025)\n"
     ]
    },
    {
     "name": "stdout",
     "output_type": "stream",
     "text": [
      "==== Processing Step  Driz_CR  started at  22:01:48.330 (17/09/2025)\n"
     ]
    },
    {
     "name": "stdout",
     "output_type": "stream",
     "text": [
      "\n"
     ]
    },
    {
     "name": "stdout",
     "output_type": "stream",
     "text": [
      "Creating output: idbha6ntq_sci1_crmask.fits\n"
     ]
    },
    {
     "name": "stdout",
     "output_type": "stream",
     "text": [
      "Creating output: idbha6nyq_sci1_crmask.fits\n"
     ]
    },
    {
     "name": "stdout",
     "output_type": "stream",
     "text": [
      "==== Processing Step Driz_CR finished at 22:01:48.408 (17/09/2025)\n"
     ]
    },
    {
     "name": "stdout",
     "output_type": "stream",
     "text": [
      "==== Processing Step  Final Drizzle  started at  22:01:48.409 (17/09/2025)\n"
     ]
    },
    {
     "name": "stdout",
     "output_type": "stream",
     "text": [
      "\n"
     ]
    },
    {
     "name": "stdout",
     "output_type": "stream",
     "text": [
      "WCS Keywords\n"
     ]
    },
    {
     "name": "stdout",
     "output_type": "stream",
     "text": [
      "\n"
     ]
    },
    {
     "name": "stdout",
     "output_type": "stream",
     "text": [
      "Number of WCS axes: 2\n"
     ]
    },
    {
     "name": "stdout",
     "output_type": "stream",
     "text": [
      "CTYPE : 'RA---TAN' 'DEC--TAN' \n"
     ]
    },
    {
     "name": "stdout",
     "output_type": "stream",
     "text": [
      "CRVAL : 194.25946702548492 22.030300403211356 \n"
     ]
    },
    {
     "name": "stdout",
     "output_type": "stream",
     "text": [
      "CRPIX : 259.0 273.0 \n"
     ]
    },
    {
     "name": "stdout",
     "output_type": "stream",
     "text": [
      "CD1_1 CD1_2  : 1.1001745311092143e-05 -2.8958333815648194e-07 \n"
     ]
    },
    {
     "name": "stdout",
     "output_type": "stream",
     "text": [
      "CD2_1 CD2_2  : -2.8958333815648194e-07 -1.1001745311092143e-05 \n"
     ]
    },
    {
     "name": "stdout",
     "output_type": "stream",
     "text": [
      "NAXIS : 518  546\n"
     ]
    },
    {
     "name": "stdout",
     "output_type": "stream",
     "text": [
      "-Generating multi-extension output file:  idbha6040_drc.fits\n"
     ]
    },
    {
     "name": "stdout",
     "output_type": "stream",
     "text": [
      "Deleted all instances of WCS with key A in extensions [1]\n"
     ]
    },
    {
     "name": "stdout",
     "output_type": "stream",
     "text": [
      "Writing out to disk: idbha6040_drc.fits\n"
     ]
    },
    {
     "name": "stdout",
     "output_type": "stream",
     "text": [
      "==== Processing Step Final Drizzle finished at 22:01:49.04 (17/09/2025)\n"
     ]
    },
    {
     "name": "stdout",
     "output_type": "stream",
     "text": [
      "\n"
     ]
    },
    {
     "name": "stdout",
     "output_type": "stream",
     "text": [
      "AstroDrizzle Version 3.10.0 is finished processing at 22:01:49.0 (17/09/2025).\n"
     ]
    },
    {
     "name": "stdout",
     "output_type": "stream",
     "text": [
      "\n"
     ]
    },
    {
     "name": "stdout",
     "output_type": "stream",
     "text": [
      "\n"
     ]
    },
    {
     "name": "stdout",
     "output_type": "stream",
     "text": [
      "\n"
     ]
    },
    {
     "name": "stdout",
     "output_type": "stream",
     "text": [
      "   --------------------          --------------------\n"
     ]
    },
    {
     "name": "stdout",
     "output_type": "stream",
     "text": [
      "                   Step          Elapsed time\n"
     ]
    },
    {
     "name": "stdout",
     "output_type": "stream",
     "text": [
      "   --------------------          --------------------\n"
     ]
    },
    {
     "name": "stdout",
     "output_type": "stream",
     "text": [
      "\n"
     ]
    },
    {
     "name": "stdout",
     "output_type": "stream",
     "text": [
      "         Initialization          0.2422 sec.\n"
     ]
    },
    {
     "name": "stdout",
     "output_type": "stream",
     "text": [
      "            Static Mask          0.0112 sec.\n"
     ]
    },
    {
     "name": "stdout",
     "output_type": "stream",
     "text": [
      "           Subtract Sky          0.1687 sec.\n"
     ]
    },
    {
     "name": "stdout",
     "output_type": "stream",
     "text": [
      "       Separate Drizzle          0.3701 sec.\n"
     ]
    },
    {
     "name": "stdout",
     "output_type": "stream",
     "text": [
      "          Create Median          0.0476 sec.\n"
     ]
    },
    {
     "name": "stdout",
     "output_type": "stream",
     "text": [
      "                   Blot          0.1992 sec.\n"
     ]
    },
    {
     "name": "stdout",
     "output_type": "stream",
     "text": [
      "                Driz_CR          0.0781 sec.\n"
     ]
    },
    {
     "name": "stdout",
     "output_type": "stream",
     "text": [
      "          Final Drizzle          0.6394 sec.\n"
     ]
    },
    {
     "name": "stdout",
     "output_type": "stream",
     "text": [
      "   ====================          ====================\n"
     ]
    },
    {
     "name": "stdout",
     "output_type": "stream",
     "text": [
      "                  Total          1.7565 sec.\n"
     ]
    },
    {
     "name": "stdout",
     "output_type": "stream",
     "text": [
      "\n"
     ]
    },
    {
     "name": "stdout",
     "output_type": "stream",
     "text": [
      "Trailer file written to:  astrodrizzle.log\n"
     ]
    }
   ],
   "source": [
    "for asn in glob.glob(\"*asn.fits\"):\n",
    "    astrodrizzle.AstroDrizzle(\n",
    "        asn,\n",
    "        skymethod=\"match\",\n",
    "        skystat=\"mean\",\n",
    "        driz_sep_bits=\"80\",\n",
    "        combine_type=\"median\",\n",
    "        combine_nhigh=1,\n",
    "        driz_cr_snr=\"3.5 3.0\",\n",
    "        driz_cr_scale=\"2.0 1.5\",\n",
    "        final_bits=\"80\",\n",
    "        build=True,\n",
    "        clean=True,\n",
    "        preserve=False,\n",
    "        num_cores=1,\n",
    "    )"
   ]
  },
  {
   "cell_type": "code",
   "execution_count": 17,
   "metadata": {
    "execution": {
     "iopub.execute_input": "2025-09-17T22:01:49.071160Z",
     "iopub.status.busy": "2025-09-17T22:01:49.071008Z",
     "iopub.status.idle": "2025-09-17T22:01:49.073376Z",
     "shell.execute_reply": "2025-09-17T22:01:49.072987Z"
    }
   },
   "outputs": [],
   "source": [
    "drcs = ['ibcda4010_drc.fits', 'ich3040f0_drc.fits', 'idbha6040_drc.fits']\n",
    "drcents = [(327.9, 341.4), (251.1, 350.0), (266.6, 273.6)]"
   ]
  },
  {
   "cell_type": "markdown",
   "metadata": {},
   "source": [
    "<a id=\"calc_astro\"></a>\n",
    "### 6.1 Recalculate photometry on the new DRC frames\n",
    "\n",
    "We now perform the photometry on the drizzled (DRC) products, using similar techniques as in [Section 4.1](#calc_phot). Drizzled images are in units of electrons per second are already corrected for distortion, so we no longer need to divide by the exposure time or apply the PAM prior to computing photometry."
   ]
  },
  {
   "cell_type": "code",
   "execution_count": 18,
   "metadata": {
    "execution": {
     "iopub.execute_input": "2025-09-17T22:01:49.074760Z",
     "iopub.status.busy": "2025-09-17T22:01:49.074624Z",
     "iopub.status.idle": "2025-09-17T22:01:49.113387Z",
     "shell.execute_reply": "2025-09-17T22:01:49.112991Z"
    }
   },
   "outputs": [],
   "source": [
    "phots = []\n",
    "mjds = []\n",
    "pfls = []\n",
    "for i, drc in enumerate(drcs):\n",
    "    data = fits.getdata(drc, ext=1)\n",
    "\n",
    "    mjds.append(np.mean(df.query('Epoch == {}'.format(i+1))['MJD']))\n",
    "    pfls.append(df.query('Epoch == {}'.format(i+1))['PHOTFLAM'].values[0])\n",
    "\n",
    "    positions = drcents[i]\n",
    "    aperture = CircularAperture(positions, ap)\n",
    "    annulus_aperture = CircularAnnulus(positions, r_in=skyrad[0], r_out=skyrad[1])\n",
    "    annulus_masks = annulus_aperture.to_mask(method='center')\n",
    "    annulus_data = annulus_masks.multiply(data)\n",
    "    mask = annulus_masks.data\n",
    "    annulus_data_1d = annulus_data[mask > 0]\n",
    "    mean_sigclip, _, _ = sigma_clipped_stats(annulus_data_1d)\n",
    "    background = mean_sigclip * aperture.area\n",
    " \n",
    "    apers = [aperture, annulus_aperture]\n",
    "    phot_table = aperture_photometry(data, apers)\n",
    "\n",
    "    final_sum = phot_table['aperture_sum_0'] - background\n",
    "    phots.append(final_sum[0])"
   ]
  },
  {
   "cell_type": "code",
   "execution_count": 19,
   "metadata": {
    "execution": {
     "iopub.execute_input": "2025-09-17T22:01:49.114794Z",
     "iopub.status.busy": "2025-09-17T22:01:49.114652Z",
     "iopub.status.idle": "2025-09-17T22:01:49.117666Z",
     "shell.execute_reply": "2025-09-17T22:01:49.117165Z"
    }
   },
   "outputs": [
    {
     "name": "stdout",
     "output_type": "stream",
     "text": [
      "[13.60497411 13.60317381 13.60501243]\n"
     ]
    }
   ],
   "source": [
    "mags = -21.1 - 2.5*np.log10(pfls[0]) - 2.5*np.log10(phots) - 2.5*np.log10(1./EE_r10)\n",
    "print(mags)"
   ]
  },
  {
   "cell_type": "markdown",
   "metadata": {},
   "source": [
    "<a id=\"plot_astro\"></a>\n",
    "### 6.2 Plot DRC countrate vs date\n",
    "\n",
    "The corrected photometric countrate from the DRC and the recomputed magnitudes are plotted below. Note how they agree with the results from the previous step using the FLC and the PAM."
   ]
  },
  {
   "cell_type": "code",
   "execution_count": 20,
   "metadata": {
    "execution": {
     "iopub.execute_input": "2025-09-17T22:01:49.119055Z",
     "iopub.status.busy": "2025-09-17T22:01:49.118890Z",
     "iopub.status.idle": "2025-09-17T22:01:49.247943Z",
     "shell.execute_reply": "2025-09-17T22:01:49.247435Z"
    }
   },
   "outputs": [
    {
     "data": {
      "text/plain": [
       "<matplotlib.legend.Legend at 0x7f18f53b2b50>"
      ]
     },
     "execution_count": 20,
     "metadata": {},
     "output_type": "execute_result"
    },
    {
     "data": {
      "image/png": "[encoded data removed]",
      "text/plain": [
       "<Figure size 800x400 with 1 Axes>"
      ]
     },
     "metadata": {},
     "output_type": "display_data"
    }
   ],
   "source": [
    "fig = plt.figure(figsize=(20, 10), dpi=40)\n",
    "\n",
    "plt.plot(df['MJD'], df['Phot-eq'], 'd', markersize=20, color='grey', label='FLC photometrically equalized', alpha=0.5)\n",
    "plt.plot(mjds, phots, 'o', markersize=20, label='DRC photometry')\n",
    "plt.grid()\n",
    "plt.xlabel('MJD', fontsize=30)\n",
    "plt.xticks(fontsize=30)\n",
    "plt.yticks(fontsize=30)\n",
    "plt.ylabel('Countrate (e-/s)', fontsize=30)\n",
    "plt.title('GD153, F606W, UVIS2, DRC', fontsize=30)\n",
    "plt.ylim(101000, 104000)\n",
    "plt.legend(loc=4, fontsize=30)"
   ]
  },
  {
   "cell_type": "code",
   "execution_count": 21,
   "metadata": {
    "execution": {
     "iopub.execute_input": "2025-09-17T22:01:49.249475Z",
     "iopub.status.busy": "2025-09-17T22:01:49.249312Z",
     "iopub.status.idle": "2025-09-17T22:01:49.364288Z",
     "shell.execute_reply": "2025-09-17T22:01:49.363760Z"
    }
   },
   "outputs": [
    {
     "data": {
      "text/plain": [
       "<matplotlib.legend.Legend at 0x7f18f56eff10>"
      ]
     },
     "execution_count": 21,
     "metadata": {},
     "output_type": "execute_result"
    },
    {
     "data": {
      "image/png": "[encoded data removed]",
      "text/plain": [
       "<Figure size 800x400 with 1 Axes>"
      ]
     },
     "metadata": {},
     "output_type": "display_data"
    }
   ],
   "source": [
    "fig = plt.figure(figsize=(20, 10), dpi=40)\n",
    "\n",
    "plt.plot(df['MJD'], df['STMags'], 's', markersize=25, label='FLC', alpha=0.4, color='Grey')\n",
    "plt.plot(mjds, mags, 'o', markersize=20, label='DRC')\n",
    "plt.grid()\n",
    "plt.ticklabel_format(useOffset=False)\n",
    "plt.xlabel('MJD', fontsize=30)\n",
    "plt.xticks(fontsize=30)\n",
    "plt.yticks(fontsize=30)\n",
    "plt.ylabel('STMAG (Magnitude)', fontsize=30)\n",
    "plt.ylim(13.55, 13.65)\n",
    "plt.title('GD153, F606W, UVIS2, DRC', fontsize=30)\n",
    "plt.legend(loc=4, fontsize=30)"
   ]
  },
  {
   "cell_type": "markdown",
   "metadata": {},
   "source": [
    "<a id=\"conclusions\"></a>\n",
    "## 7. Conclusions\n",
    "\n",
    "Thank you for walking through this notebook. Now using WFC3 data, you should be more familiar with:\n",
    "\n",
    "- Computing aperture photometry and magnitudes on:\n",
    "    - FLC frames using new time-dependent photometry keywords.\n",
    "    - FLC frames with equalized countrate values.\n",
    "    - DRC frames produced from corrected FLCs.\n",
    "\n",
    "#### Congratulations, you have completed the notebook!"
   ]
  },
  {
   "cell_type": "markdown",
   "metadata": {},
   "source": [
    "<a id=\"resources\"></a>\n",
    "## Additional Resources\n",
    "Below are some additional resources that may be helpful. Please send any questions through the [HST Helpdesk](https://stsci.service-now.com/hst).\n",
    "\n",
    "- [WFC3 Website](https://www.stsci.edu/hst/instrumentation/wfc3)\n",
    "- [WFC3 Instrument Handbook](https://hst-docs.stsci.edu/wfc3ihb)\n",
    "- [WFC3 Data Handbook](https://hst-docs.stsci.edu/wfc3dhb)\n",
    "    - see section 9.5.2 for reference to this notebook\n",
    "    \n",
    "<a id=\"about\"></a>\n",
    "## About this Notebook\n",
    "\n",
    "**Authors:** Harish Khandrika, Jennifer Mack; WFC3 Instrument Team\n",
    "\n",
    "**Updated on:** 2021-09-10\n",
    "\n",
    "<a id=\"cite\"></a>\n",
    "## Citations\n",
    "\n",
    "If you use `numpy`, `astropy`, `drizzlepac`, and `photutils` for published research, please cite the\n",
    "authors. Follow these links for more information about citing the libraries below:\n",
    "\n",
    "* [Citing `numpy`](https://numpy.org/citing-numpy/)\n",
    "* [Citing `astropy`](https://www.astropy.org/acknowledging.html)\n",
    "* [Citing `drizzlepac`](https://drizzlepac.readthedocs.io/en/latest/LICENSE.html)\n",
    "* [Citing `photutils`](https://photutils.readthedocs.io/en/stable/getting_started/citation.html)\n",
    "\n",
    "<hr>\n",
    "[Top of Page](#title)\n",
    "<img style=\"float: right;\" src=\"https://raw.githubusercontent.com/spacetelescope/notebooks/master/assets/stsci_pri_combo_mark_horizonal_white_bkgd.png\" alt=\"Space Telescope Logo\" width=\"200px\"/> "
   ]
  }
 ],
 "metadata": {
  "kernelspec": {
   "display_name": "Python 3 (ipykernel)",
   "language": "python",
   "name": "python3"
  },
  "language_info": {
   "codemirror_mode": {
    "name": "ipython",
    "version": 3
   },
   "file_extension": ".py",
   "mimetype": "text/x-python",
   "name": "python",
   "nbconvert_exporter": "python",
   "pygments_lexer": "ipython3",
   "version": "3.11.13"
  }
 },
 "nbformat": 4,
 "nbformat_minor": 4
}
