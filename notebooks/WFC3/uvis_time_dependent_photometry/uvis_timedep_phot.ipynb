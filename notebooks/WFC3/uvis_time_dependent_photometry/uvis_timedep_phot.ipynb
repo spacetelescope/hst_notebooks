{
 "cells": [
  {
   "cell_type": "markdown",
   "metadata": {},
   "source": [
    "<a id=\"title\"></a>\n",
    "# WFC3/UVIS Time-dependent Photometry\n",
    "***\n",
    "## Learning Goals\n",
    "By the end of this tutorial, you will: \n",
    "- Compute aperture photometry on FLC frames acquired at three unique epochs and apply the new time-dependent inverse sensitivity (PHOTFLAM) keywords.\n",
    "- Recompute aperture photometry on modified FLC frames with 'equalized' countrate values.\n",
    "- Redrizzle the 'equalized' FLC frames and compute aperture photometry on the DRC products.\n",
    "\n",
    "## Table of Contents\n",
    "[Introduction](#intro) <br>\n",
    "[1. Imports](#imports) <br>\n",
    "[2. Download the data](#data) <br>\n",
    "[3. Correct for distortion using the Pixel Area Map](#pam) <br>\n",
    "\n",
    "[4. Compute aperture photometry on the FLC frames](#phot) <br>\n",
    "- [4.1 Calculate countrates](#calc_phot) <br>\n",
    "- [4.2 Calculate magnitudes](#calc_mag) <br>\n",
    "- [4.3 Plot countrate vs date](#plot_count) <br>\n",
    "- [4.4 Plot magnitude vs date](#plot_mag) <br>\n",
    "\n",
    "[5. Correct the FLC frames using 'photometric equalization'](#equal) <br>\n",
    "- [5.1 Recompute countrates](#calc_equal) <br>\n",
    "- [5.2 Plot corrected countrate vs date](#plot_equal) <br>\n",
    "\n",
    "[6. Redrizzle the corrected FLC frames for each epoch](#astro) <br>\n",
    "- [6.1 Recalculate photometry on the new DRC frames](#calc_astro) <br>\n",
    "- [6.2 Plot DRC countrate vs date](#plot_astro) <br>\n",
    "\n",
    "[7. Conclusions](#conclusions) <br>\n",
    "[Additional Resources](#resources) <br>\n",
    "[About the Notebook](#about) <br>\n",
    "[Citations](#cite) <br>"
   ]
  },
  {
   "cell_type": "markdown",
   "metadata": {},
   "source": [
    "<a id=\"intro\"></a>\n",
    "## Introduction\n",
    "\n",
    "For UVIS images retrieved after October 15, 2020, new time-dependent photometry keyword values (PHOTFLAM, PHTFLAM1, PHTFLAM2 and PHTRATIO) are populated in the image header and must be applied separately for each observation epoch. This is a change from prior calibration, where a single set of keyword values were provided for each filter, independent of date. For more detail on the new calibration, see [WFC3 ISR 2021-04](https://www.stsci.edu/files/live/sites/www/files/home/hst/instrumentation/wfc3/documentation/instrument-science-reports-isrs/_documents/2021/WFC3_ISR_2021-04.pdf).\n",
    "\n",
    "In this tutorial, we show how to use the time-dependent calibration to compute aperture photometry on UVIS calibrated, CTE-corrected images (flc.fits, hereafter FLC) obtained at three epochs, spanning a total range of ~8 years and showing a loss in sensitivity of ~2%. The repository includes a CSV file containing a list of FLCs and the centroid of the star in each image, as well as the UVIS Pixel Area Maps to correct for distortion when working with FLC data.\n",
    "\n",
    "Alternately, the FLC science arrays may be 'equalized' to account for sensitivity changes prior to computing photometry, where a reference set of keywords may be then used for all images. This photometric 'equalization' must be performed before combining any set of FLC images with AstroDrizzle which span multiple epochs in time."
   ]
  },
  {
   "cell_type": "markdown",
   "metadata": {},
   "source": [
    "<a id=\"imports\"></a>\n",
    "## 1. Imports\n",
    "\n",
    "This notebook assumes you have created the virtual environment in [WFC3 Library's](https://github.com/spacetelescope/WFC3Library) installation instructions.\n",
    "\n",
    "We import:\n",
    "- *os* for setting environment variables\n",
    "- *glob* for finding lists of files\n",
    "- *shutil* for managing directories\n",
    "\n",
    "- *numpy* for handling array functions\n",
    "- *pandas* for managing data\n",
    "- *matplotlib.pyplot* for plotting data\n",
    "- *astroquery.mast Observations* for downloading data from MAST\n",
    "\n",
    "- *astropy* for astronomy related functions\n",
    "- *drizzlepac* for combining images\n",
    "- *photutils* for photometric calculations\n",
    "- *stwcs* for updating the World Coordinate System"
   ]
  },
  {
   "cell_type": "code",
   "execution_count": null,
   "metadata": {},
   "outputs": [],
   "source": [
    "%matplotlib inline\n",
    "\n",
    "import os\n",
    "import glob\n",
    "import shutil\n",
    "\n",
    "import numpy as np\n",
    "import pandas as pd\n",
    "import matplotlib.pyplot as plt\n",
    "\n",
    "from astropy.io import fits\n",
    "from astropy.stats import sigma_clipped_stats\n",
    "from astropy.coordinates import SkyCoord\n",
    "from astropy import wcs\n",
    "from astroquery.mast import Observations\n",
    "\n",
    "from drizzlepac import photeq\n",
    "from drizzlepac import astrodrizzle\n",
    "\n",
    "from photutils import aperture_photometry, CircularAperture, CircularAnnulus\n",
    "\n",
    "from stwcs import updatewcs"
   ]
  },
  {
   "cell_type": "markdown",
   "metadata": {},
   "source": [
    "<a id=\"data\"></a>\n",
    "## 2. Download the Data\n",
    "\n",
    "The following commands query MAST for WFC3/UVIS calibrated (FLC) data products in the F606W filter for three epochs of GD153 observations (acquired in 2009, 2013, and 2017) and then downloads them to the current directory. "
   ]
  },
  {
   "cell_type": "code",
   "execution_count": null,
   "metadata": {},
   "outputs": [],
   "source": [
    "data_list = Observations.query_criteria(obs_id=['IBCDA4010','ICH3040F0','IDBHA6040'])\n",
    "                                        \n",
    "Observations.download_products(data_list['obsid'], project='CALWF3',\n",
    "        mrp_only=False,download_dir='./data',productSubGroupDescription=['FLC','ASN'])\n",
    "\n",
    "science_files = glob.glob('data/mastDownload/HST/*/*fits')\n",
    "\n",
    "for im in science_files:\n",
    "    root = im.split('/')[-1]\n",
    "    os.rename(im,'./'+root)\n",
    "shutil.rmtree('data/')"
   ]
  },
  {
   "cell_type": "markdown",
   "metadata": {},
   "source": [
    "For convenience, the file 'GD153_F606W_public.csv' contains information about the images required for the tutorial. For each FLC image, the following is provided: filename, star x-cdt, y-cdt, filter, CCD amplifier, chip, and epoch for the 3 observation dates."
   ]
  },
  {
   "cell_type": "code",
   "execution_count": null,
   "metadata": {},
   "outputs": [],
   "source": [
    "df = pd.read_csv('GD153_F606W_public.csv')\n",
    "\n",
    "df"
   ]
  },
  {
   "cell_type": "markdown",
   "metadata": {},
   "source": [
    "<a id=\"pam\"></a>\n",
    "## 3. Correct for distortion using the Pixel Area Map\n",
    "\n",
    "FLC frames are not corrected for distortion and pixels therefore do not have equal area on the sky. To correct for this affect, we multiply the FLC frames by the [Pixel Area Map (PAM)](https://www.stsci.edu/hst/instrumentation/wfc3/data-analysis/pixel-area-maps). Since the GD153 data are C512C subarrays, the PAM needs to be \"cut out\" at the region corresponding to the subarray."
   ]
  },
  {
   "cell_type": "code",
   "execution_count": null,
   "metadata": {},
   "outputs": [],
   "source": [
    "pam1 = fits.getdata('UVIS1wfc3_map.fits')\n",
    "pam2 = fits.getdata('UVIS2wfc3_map.fits')\n",
    "\n",
    "pams = {'A': pam1[-512:, :513], 'B': pam1[-512:, -513:], 'C': pam2[:512, :513], 'D': pam2[:512, -513:]}"
   ]
  },
  {
   "cell_type": "markdown",
   "metadata": {},
   "source": [
    "<a id=\"phot\"></a>\n",
    "## 4. Compute aperture photometry on the FLC frames\n",
    "\n",
    "<a id=\"calc_phot\"></a>\n",
    "### 4.1 Calculate countrates\n",
    "\n",
    "Here we set up the code that computes the photometry. We are using a standard aperture size of 10 pixels, with a sky annulus from 155 to 165 pixels. These are the steps involved in computing the photometry:\n",
    "\n",
    "1. Loop through each FLC and load the data, MJD date of exposure, exposure time, and PHOTFLAM.\n",
    "2. Divide each FLC by the exposure time to get countrates in electrons per second (FLC images are in electrons).\n",
    "3. Correct for distortion by multiplying by the appropriate cutout of the pixel area map (PAM) corresponding to the subarray region.\n",
    "4. Supply the x,y coordinate of the star in each image from the CSV file/pandas dataframe.\n",
    "5. Define the aperture, annulus aperture, and annulus mask.\n",
    "6. Compute the sigma-clipped mean of the sky annulus.\n",
    "7. Compute the photometry in the aperture.\n",
    "8. Subtract the sky background from the photometry derived in the previous step.\n",
    "9. Store all values."
   ]
  },
  {
   "cell_type": "code",
   "execution_count": null,
   "metadata": {},
   "outputs": [],
   "source": [
    "phots = []\n",
    "mjds = []\n",
    "dates = []\n",
    "ap = 10\n",
    "skyrad = [155, 165]\n",
    "pfl = []\n",
    "for i, flc in enumerate(df['FLC'].values):\n",
    "    with fits.open(flc) as f:\n",
    "        data = f[1].data\n",
    "        mjd = f[0].header['EXPSTART']\n",
    "        date = f[0].header['DATE-OBS']\n",
    "        exptime = f[0].header['EXPTIME']\n",
    "        pfl.append(f[0].header['PHOTFLAM'])\n",
    "    data = data / exptime\n",
    "    data = data * pams[df.at[i, 'Amp']]\n",
    "\n",
    "    positions = (df.at[i, 'Centx'], df.at[i, 'Centy'])\n",
    "    aperture = CircularAperture(positions, ap)\n",
    "    annulus_aperture = CircularAnnulus(positions, r_in=skyrad[0], r_out=skyrad[1])\n",
    "    annulus_masks = annulus_aperture.to_mask(method='center')\n",
    "    annulus_data = annulus_masks.multiply(data)\n",
    "    mask = annulus_masks.data\n",
    "    annulus_data_1d = annulus_data[mask > 0]\n",
    "    mean_sigclip, _, _ = sigma_clipped_stats(annulus_data_1d)\n",
    "    \n",
    "    apers = [aperture, annulus_aperture]\n",
    "    phot_table = aperture_photometry(data,apers)\n",
    "\n",
    "    background = mean_sigclip * aperture.area\n",
    "    final_sum = phot_table['aperture_sum_0'] - background\n",
    "    phots.append(final_sum[0])\n",
    "    mjds.append(mjd)    \n",
    "    dates.append(date)"
   ]
  },
  {
   "cell_type": "markdown",
   "metadata": {},
   "source": [
    "Next, we append the coutrates, MJD's, and PHOTFLAM values to our dataframe."
   ]
  },
  {
   "cell_type": "code",
   "execution_count": null,
   "metadata": {},
   "outputs": [],
   "source": [
    "df['Countrate'] = phots\n",
    "df['MJD'] = mjds\n",
    "df['DATE-OBS'] = dates\n",
    "df['PHOTFLAM'] = pfl\n",
    "\n",
    "df"
   ]
  },
  {
   "cell_type": "markdown",
   "metadata": {},
   "source": [
    "<a id=\"calc_mag\"></a>\n",
    "### 4.2 Calculate magnitudes\n",
    "\n",
    "We now convert countrates into ST magnitudes using the PHOTFLAM value and the following equation. The $EE_{r10}$ is the encircled energy term for an aperture radius of r=10 pixels (0.4 arcseconds). For F606W with UVIS2, this is 0.91. This value can be computed using `stsynphot` as described in the 'Photometry Examples' notebook in this WFC3 Library repository."
   ]
  },
  {
   "cell_type": "code",
   "execution_count": null,
   "metadata": {},
   "outputs": [],
   "source": [
    "EE_r10 = 0.91\n",
    "df['STMags'] = -21.1 -2.5*np.log10(df['PHOTFLAM']) -2.5*np.log10(df['Countrate']) - 2.5 * np.log10(1./EE_r10)"
   ]
  },
  {
   "cell_type": "code",
   "execution_count": null,
   "metadata": {},
   "outputs": [],
   "source": [
    "df"
   ]
  },
  {
   "cell_type": "markdown",
   "metadata": {},
   "source": [
    "<a id=\"plot_count\"></a>\n",
    "### 4.3 Plot countrate vs date\n",
    "\n",
    "We first plot the photometric countrates (electrons per second) vs time in MJD. The decline in the observed countrate is due to sensitivity loss in F606W at a rate of ~0.2% per year."
   ]
  },
  {
   "cell_type": "code",
   "execution_count": null,
   "metadata": {},
   "outputs": [],
   "source": [
    "fig = plt.figure(figsize=(20, 10), dpi=40)\n",
    "\n",
    "plt.plot(df['MJD'], df['Countrate'], 'o', markersize=20, label='Amp C')\n",
    "plt.grid()\n",
    "plt.xlabel('MJD', fontsize=30)\n",
    "plt.xticks(fontsize=30)\n",
    "plt.yticks(fontsize=30)\n",
    "plt.ylabel(r'Countrate (e$^-$/s)', fontsize=30)\n",
    "plt.title('FLC Countrates for GD153 in F606W', fontsize=30)\n",
    "plt.ylim(101000, 104000)\n",
    "plt.legend(loc=0, fontsize=30)"
   ]
  },
  {
   "cell_type": "markdown",
   "metadata": {},
   "source": [
    "<a id=\"plot_mag\"></a>\n",
    "### 4.4 Plot magnitude vs date\n",
    "\n",
    "Now, we plot the ST magnitude versus time in MJD. This is computed using the 'corrected' PHOTFLAM keyword, so the magnitude values are stable over time."
   ]
  },
  {
   "cell_type": "code",
   "execution_count": null,
   "metadata": {},
   "outputs": [],
   "source": [
    "fig = plt.figure(figsize=(20, 10), dpi=40)\n",
    "\n",
    "plt.plot(df['MJD'], df['STMags'], 'o', markersize=20, label='Amp C')\n",
    "plt.grid()\n",
    "plt.ticklabel_format(useOffset=False)\n",
    "plt.xlabel('MJD', fontsize=30)\n",
    "plt.xticks(fontsize=30)\n",
    "plt.yticks(fontsize=30)\n",
    "plt.ylabel('STMAG (Magnitude)', fontsize=30)\n",
    "plt.ylim(13.55, 13.65)\n",
    "plt.title('STMAG for GD153 in F606W on UVIS2', fontsize=30)\n",
    "plt.legend(loc=0, fontsize=30)"
   ]
  },
  {
   "cell_type": "markdown",
   "metadata": {},
   "source": [
    "<a id=\"equal\"></a>\n",
    "## 5. Correct the FLC frames using 'photometric equalization'\n",
    "\n",
    "This single-line step will equalize the countrates in the science array of the FLC frames to match any specified 'reference' image. For more details, see the drizzlepac documentation for the [phot_eq software](https://drizzlepac.readthedocs.io/en/latest/photeq.html). Note that at this step, we overwrite the science pixels in the original FLC files. In this case the data are sorted, and the software automatically uses the PHOTFLAM value of the first 2009 image as a reference for matching the with the other images. You can supply a given reference PHOTFLAM value to the photeq call and/or ensure that your data are time-sorted.\n",
    "\n",
    "**Note: Running this cell will edit the FLCs in the local directory, and you will need to download the files again if you require the original data.**"
   ]
  },
  {
   "cell_type": "code",
   "execution_count": null,
   "metadata": {
    "scrolled": true
   },
   "outputs": [],
   "source": [
    "photeq.photeq(','.join(df['FLC'].values), readonly=False)"
   ]
  },
  {
   "cell_type": "markdown",
   "metadata": {},
   "source": [
    "<a id=\"calc_equal\"></a>\n",
    "### 5.1 Recompute countrates\n",
    "\n",
    "We repeat the same aperture photometry as in [Section 4.1](#calc_phot) but using the photometrically equalized FLC data."
   ]
  },
  {
   "cell_type": "code",
   "execution_count": null,
   "metadata": {},
   "outputs": [],
   "source": [
    "phots = []\n",
    "for i, flc in enumerate(df['FLC'].values):\n",
    "    with fits.open(flc) as f:\n",
    "        data = f[1].data\n",
    "        exptime = f[0].header['EXPTIME']\n",
    "    data = data / exptime\n",
    "    data = data * pams[df.at[i, 'Amp']]\n",
    "\n",
    "    positions = (df.at[i, 'Centx'], df.at[i, 'Centy'])\n",
    "    aperture = CircularAperture(positions, ap)\n",
    "    annulus_aperture = CircularAnnulus(positions, r_in=skyrad[0], r_out=skyrad[1])\n",
    "    annulus_masks = annulus_aperture.to_mask(method='center')\n",
    "    annulus_data = annulus_masks.multiply(data)\n",
    "    mask = annulus_masks.data\n",
    "    annulus_data_1d = annulus_data[mask > 0]\n",
    "    mean_sigclip, _, _ = sigma_clipped_stats(annulus_data_1d)\n",
    "    background = mean_sigclip * aperture.area\n",
    "    \n",
    "    apers = [aperture, annulus_aperture]\n",
    "    phot_table = aperture_photometry(data,apers)\n",
    "\n",
    "    final_sum = phot_table['aperture_sum_0'] - background\n",
    "    phots.append(final_sum[0])\n",
    "    mjds.append(mjd)"
   ]
  },
  {
   "cell_type": "markdown",
   "metadata": {},
   "source": [
    "We'll append the photometrically equalized countrates to our dataframe."
   ]
  },
  {
   "cell_type": "code",
   "execution_count": null,
   "metadata": {},
   "outputs": [],
   "source": [
    "df['Phot-eq'] = phots"
   ]
  },
  {
   "cell_type": "code",
   "execution_count": null,
   "metadata": {},
   "outputs": [],
   "source": [
    "df"
   ]
  },
  {
   "cell_type": "markdown",
   "metadata": {},
   "source": [
    "<a id=\"plot_equal\"></a>\n",
    "### 5.2 Plot corrected countrate vs date\n",
    "\n",
    "We plot the photometric countrate (electrons per second) versus time in MJD. The corrected data in blue shows that the countrate is now ~flat over time to within the measurment errors. The original countrates are shown in grey and show a decline of nearly 2% over the three epochs."
   ]
  },
  {
   "cell_type": "code",
   "execution_count": null,
   "metadata": {},
   "outputs": [],
   "source": [
    "fig = plt.figure(figsize=(20, 10), dpi=40)\n",
    "\n",
    "plt.plot(df['MJD'], df['Countrate'], 's', markersize=20, label='Not equalized', alpha=0.55, color='Grey')\n",
    "plt.plot(df['MJD'], df['Phot-eq'], 'o', markersize=18, label='Equalized')\n",
    "plt.grid()\n",
    "plt.xlabel('MJD', fontsize=30)\n",
    "plt.xticks(fontsize=30)\n",
    "plt.yticks(fontsize=30)\n",
    "plt.ylabel('Countrate (e-/s)', fontsize=30)\n",
    "plt.title('Original and Corrected countrates for GD153 in F606W', fontsize=30)\n",
    "plt.ylim(101000, 104000)\n",
    "plt.legend(loc=0, fontsize=30)"
   ]
  },
  {
   "cell_type": "markdown",
   "metadata": {},
   "source": [
    "<a id=\"astro\"></a>\n",
    "## 6. Redrizzle the corrected FLC frames for each epoch\n",
    "\n",
    "The corrected FLC data from each epoch can now be redrizzled to correct for distortion, to remove cosmic rays and bad pixels, and to improve the signal-to-noise in the combined DRC product at each date. (Alternately, the entire set of FLC images may be combined to produce a single DRC image to use for photometry.)\n",
    "\n",
    "**Warning: This cell may take a few minutes to complete.**"
   ]
  },
  {
   "cell_type": "code",
   "execution_count": null,
   "metadata": {
    "scrolled": true
   },
   "outputs": [],
   "source": [
    "for asn in glob.glob('*asn.fits'):\n",
    "    astrodrizzle.AstroDrizzle(asn,\n",
    "                skymethod= 'match',\n",
    "                skystat='mean',\n",
    "                driz_sep_bits='80',\n",
    "                combine_type='median',\n",
    "                combine_nhigh=1,\n",
    "                driz_cr_snr= '3.5 3.0', \n",
    "                driz_cr_scale= '2.0 1.5',\n",
    "                final_bits= '80', \n",
    "                build=True,\n",
    "                clean=True,\n",
    "                preserve=False,\n",
    "                num_cores=1)"
   ]
  },
  {
   "cell_type": "code",
   "execution_count": null,
   "metadata": {},
   "outputs": [],
   "source": [
    "drcs = ['ibcda4010_drc.fits', 'ich3040f0_drc.fits', 'idbha6040_drc.fits']\n",
    "drcents = [(327.9, 341.4), (251.1, 350.0), (266.6, 273.6)]"
   ]
  },
  {
   "cell_type": "markdown",
   "metadata": {},
   "source": [
    "<a id=\"calc_astro\"></a>\n",
    "### 6.1 Recalculate photometry on the new DRC frames\n",
    "\n",
    "We now perform the photometry on the drizzled (DRC) products, using similar techniques as in [Section 4.1](#calc_phot). Drizzled images are in units of electrons per second are already corrected for distortion, so we no longer need to divide by the exposure time or apply the PAM prior to computing photometry."
   ]
  },
  {
   "cell_type": "code",
   "execution_count": null,
   "metadata": {},
   "outputs": [],
   "source": [
    "phots = []\n",
    "mjds = []\n",
    "pfls = []\n",
    "for i, drc in enumerate(drcs):\n",
    "    data = fits.getdata(drc, ext=1)\n",
    "    \n",
    "    mjds.append(np.mean(df.query('Epoch == {}'.format(i+1))['MJD']))\n",
    "    pfls.append(df.query('Epoch == {}'.format(i+1))['PHOTFLAM'].values[0])\n",
    "\n",
    "    positions = drcents[i]\n",
    "    aperture = CircularAperture(positions, ap)\n",
    "    annulus_aperture = CircularAnnulus(positions, r_in=skyrad[0], r_out=skyrad[1])\n",
    "    annulus_masks = annulus_aperture.to_mask(method='center')\n",
    "    annulus_data = annulus_masks.multiply(data)\n",
    "    mask = annulus_masks.data\n",
    "    annulus_data_1d = annulus_data[mask > 0]\n",
    "    mean_sigclip, _, _ = sigma_clipped_stats(annulus_data_1d)\n",
    "    background = mean_sigclip * aperture.area\n",
    "    \n",
    "    apers = [aperture, annulus_aperture]\n",
    "    phot_table = aperture_photometry(data,apers)\n",
    "\n",
    "    final_sum = phot_table['aperture_sum_0'] - background\n",
    "    phots.append(final_sum[0])"
   ]
  },
  {
   "cell_type": "code",
   "execution_count": null,
   "metadata": {},
   "outputs": [],
   "source": [
    "mags = -21.1 - 2.5*np.log10(pfls[0]) - 2.5*np.log10(phots) - 2.5*np.log10(1./EE_r10)\n",
    "print(mags)"
   ]
  },
  {
   "cell_type": "markdown",
   "metadata": {},
   "source": [
    "<a id=\"plot_astro\"></a>\n",
    "### 6.2 Plot DRC countrate vs date\n",
    "\n",
    "The corrected photometric countrate from the DRC and the recomputed magnitudes are plotted below. Note how they agree with the results from the previous step using the FLC and the PAM."
   ]
  },
  {
   "cell_type": "code",
   "execution_count": null,
   "metadata": {},
   "outputs": [],
   "source": [
    "fig = plt.figure(figsize=(20, 10), dpi=40)\n",
    "\n",
    "plt.plot(df['MJD'], df['Phot-eq'], 'd', markersize=20, color='grey', label='FLC photometrically equalized', alpha=0.5)\n",
    "plt.plot(mjds, phots, 'o', markersize=20, label='DRC photometry')\n",
    "plt.grid()\n",
    "plt.xlabel('MJD', fontsize=30)\n",
    "plt.xticks(fontsize=30)\n",
    "plt.yticks(fontsize=30)\n",
    "plt.ylabel('Countrate (e-/s)', fontsize=30)\n",
    "plt.title('GD153, F606W, UVIS2, DRC', fontsize=30)\n",
    "plt.ylim(101000, 104000)\n",
    "plt.legend(loc=4, fontsize=30)"
   ]
  },
  {
   "cell_type": "code",
   "execution_count": null,
   "metadata": {},
   "outputs": [],
   "source": [
    "fig = plt.figure(figsize=(20, 10), dpi=40)\n",
    "\n",
    "plt.plot(df['MJD'], df['STMags'], 's', markersize=25, label='FLC', alpha=0.4, color='Grey')\n",
    "plt.plot(mjds, mags, 'o', markersize=20, label='DRC')\n",
    "plt.grid()\n",
    "plt.ticklabel_format(useOffset=False)\n",
    "plt.xlabel('MJD', fontsize=30)\n",
    "plt.xticks(fontsize=30)\n",
    "plt.yticks(fontsize=30)\n",
    "plt.ylabel('STMAG (Magnitude)', fontsize=30)\n",
    "plt.ylim(13.55, 13.65)\n",
    "plt.title('GD153, F606W, UVIS2, DRC', fontsize=30)\n",
    "plt.legend(loc=4, fontsize=30)"
   ]
  },
  {
   "cell_type": "markdown",
   "metadata": {},
   "source": [
    "<a id=\"conclusions\"></a>\n",
    "## 7. Conclusions\n",
    "\n",
    "Thank you for walking through this notebook. Now using WFC3 data, you should be more familiar with:\n",
    "\n",
    "- Computing aperture photometry and magnitudes on:\n",
    "    - FLC frames using new time-dependent photometry keywords.\n",
    "    - FLC frames with equalized countrate values.\n",
    "    - DRC frames produced from corrected FLCs.\n",
    "\n",
    "#### Congratulations, you have completed the notebook!"
   ]
  },
  {
   "cell_type": "markdown",
   "metadata": {},
   "source": [
    "<a id=\"resources\"></a>\n",
    "## Additional Resources\n",
    "Below are some additional resources that may be helpful. Please send any questions through the [HST Helpdesk](https://stsci.service-now.com/hst).\n",
    "\n",
    "- [WFC3 Website](https://www.stsci.edu/hst/instrumentation/wfc3)\n",
    "- [WFC3 Instrument Handbook](https://hst-docs.stsci.edu/wfc3ihb)\n",
    "- [WFC3 Data Handbook](https://hst-docs.stsci.edu/wfc3dhb)\n",
    "    - see section 9.5.2 for reference to this notebook\n",
    "    \n",
    "<a id=\"about\"></a>\n",
    "## About this Notebook\n",
    "\n",
    "**Authors:** Harish Khandrika, Jennifer Mack; WFC3 Instrument Team\n",
    "\n",
    "**Updated on:** 2021-09-10\n",
    "\n",
    "<a id=\"cite\"></a>\n",
    "## Citations\n",
    "\n",
    "If you use `numpy`, `astropy`, `drizzlepac`, and `photutils` for published research, please cite the\n",
    "authors. Follow these links for more information about citing the libraries below:\n",
    "\n",
    "* [Citing `numpy`](https://numpy.org/citing-numpy/)\n",
    "* [Citing `astropy`](https://www.astropy.org/acknowledging.html)\n",
    "* [Citing `drizzlepac`](https://drizzlepac.readthedocs.io/en/latest/LICENSE.html)\n",
    "* [Citing `photutils`](https://photutils.readthedocs.io/en/stable/license.html)\n",
    "\n",
    "***\n",
    "[Top of Page](#title)\n",
    "<img style=\"float: right;\" src=\"https://raw.githubusercontent.com/spacetelescope/notebooks/master/assets/stsci_pri_combo_mark_horizonal_white_bkgd.png\" alt=\"Space Telescope Logo\" width=\"200px\"/> "
   ]
  }
 ],
 "metadata": {
  "kernelspec": {
   "display_name": "Python 3",
   "language": "python",
   "name": "python3"
  },
  "language_info": {
   "codemirror_mode": {
    "name": "ipython",
    "version": 3
   },
   "file_extension": ".py",
   "mimetype": "text/x-python",
   "name": "python",
   "nbconvert_exporter": "python",
   "pygments_lexer": "ipython3",
   "version": "3.7.5"
  }
 },
 "nbformat": 4,
 "nbformat_minor": 4
}
