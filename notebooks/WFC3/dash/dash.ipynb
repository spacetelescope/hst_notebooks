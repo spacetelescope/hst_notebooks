{
 "cells": [
  {
   "cell_type": "markdown",
   "metadata": {},
   "source": [
    "<a id=\"title\"></a>\n",
    "\n",
    "# How to use `wfc3_dash` on DASH data\n",
    "\n",
    "***\n",
    "## Learning Goals:\n",
    "By the end of this tutorial, you will:\n",
    "- Create difference files, association tables, and segmentation maps using `wfc3_dash`.\n",
    "- Subtract background and fix cosmic rays from newly generated FLTs.\n",
    "- Align reads to each other for a final product.\n",
    "\n",
    "## Table of Contents:\n",
    "[Introduction](#introduction) <br>\n",
    "[1. Imports](#imports) <br>\n",
    "[2. Download relevant data](#downloads) <br>\n",
    "[3. Run DASH](#DASH) <br>\n",
    "- [3.1 Create DashData object](#object) <br>\n",
    "- [3.2 Create difference files from reads](#diff_files) <br>\n",
    "- [3.3 Create an association table](#asn_table) <br>\n",
    "- [3.4 Create a segmentation map](#seg_map) <br>\n",
    "- [3.5 Subtract background from the difference files](#subtract_ext) <br>\n",
    "- [3.6 Fix cosmic rays](#cosmic_rays) <br>\n",
    "- [3.7 Align reads to each other](#align_each_other) <br>\n",
    "\n",
    "[4. Plot original IMA vs. DASH pipeline science result](#plot) <br>\n",
    "[5. Conclusions](#conclusions) <br>\n",
    "[Additional Resources](#resources) <br>\n",
    "[About the Notebook](#about) <br>\n",
    "[Citations](#cite) <br>"
   ]
  },
  {
   "cell_type": "markdown",
   "metadata": {},
   "source": [
    " <a id='introduction'></a>\n",
    "## Introduction\n",
    "\n",
    "This notebook is the first in a new Drift And SHift (DASH) pipeline workflow developed to ease the process of reducing DASH data. The pipeline is customizable, able to be changed according to scientific goals of the user, and this first tutorial walks the user from data download to a finished product ready for science analysis. For more information, see [Momcheva et. al 2016](https://arxiv.org/pdf/1603.00465.pdf) and [WFC3 ISR 2021-01](https://www.stsci.edu/files/live/sites/www/files/home/hst/instrumentation/wfc3/documentation/instrument-science-reports-isrs/_documents/2021/2021-02.pdf)."
   ]
  },
  {
   "cell_type": "markdown",
   "metadata": {},
   "source": [
    "<a id='imports'></a>\n",
    "## 1. Imports\n",
    "This notebook assumes you have created the virtual environment in [WFC3 Library's](https://github.com/spacetelescope/WFC3Library) installation instructions.\n",
    "\n",
    "We import:\n",
    "- *os* for setting environment variables\n",
    "- *glob* for querying through directories\n",
    "- *numpy* for handling array functions\n",
    "- *matplotlib.pyplot* for plotting data\n",
    "- *astropy* for astronomy related functions\n",
    "- *astroquery.Observations* for downloading data\n",
    "- *drizzlepac.astrodrizzle* for combining images\n",
    "- *reduce_dash* for reducing DASH data"
   ]
  },
  {
   "cell_type": "code",
   "execution_count": null,
   "metadata": {},
   "outputs": [],
   "source": [
    "%matplotlib notebook\n",
    "\n",
    "import os\n",
    "from glob import glob\n",
    "\n",
    "import numpy as np\n",
    "import matplotlib.pyplot as plt \n",
    "\n",
    "from astropy.io import fits \n",
    "from astropy.table import Table\n",
    "from astropy.io import ascii\n",
    "from astroquery.mast import Observations\n",
    "\n",
    "from drizzlepac import astrodrizzle \n",
    "\n",
    "from reduce_dash import DashData"
   ]
  },
  {
   "cell_type": "markdown",
   "metadata": {},
   "source": [
    "<a id='downloads'></a>\n",
    "## 2. Download relevant data\n",
    "\n",
    "Retrieve the table of observations associated with 15238."
   ]
  },
  {
   "cell_type": "code",
   "execution_count": null,
   "metadata": {},
   "outputs": [],
   "source": [
    "obsTable = Observations.query_criteria(proposal_id=['15238'], obs_id=['IDNM0J030'])"
   ]
  },
  {
   "cell_type": "markdown",
   "metadata": {},
   "source": [
    "Get the full list of products associated to the table and restrict the list to IMA files."
   ]
  },
  {
   "cell_type": "code",
   "execution_count": null,
   "metadata": {},
   "outputs": [],
   "source": [
    "product_list = Observations.get_product_list(obsTable)\n",
    "BM = (product_list['productSubGroupDescription']  == 'IMA') \n",
    "product_list = product_list[BM]\n",
    "\n",
    "product_list.show_in_notebook(display_length=5)"
   ]
  },
  {
   "cell_type": "markdown",
   "metadata": {},
   "source": [
    "Choose a single exposure file to work on. In this example, we choose the first exposure. To create usable data, you will have to follow this work flow on all individual IMA files in your dataset."
   ]
  },
  {
   "cell_type": "code",
   "execution_count": null,
   "metadata": {},
   "outputs": [],
   "source": [
    "myID = product_list['obsID'][0:1]"
   ]
  },
  {
   "cell_type": "markdown",
   "metadata": {},
   "source": [
    "Download the IMA and FLT files for that exposure. The standard pipeline-FLT will be used for comparison with the detrended final product."
   ]
  },
  {
   "cell_type": "code",
   "execution_count": null,
   "metadata": {},
   "outputs": [],
   "source": [
    "download = Observations.download_products(myID,mrp_only=False,productSubGroupDescription=['IMA','FLT'])"
   ]
  },
  {
   "cell_type": "markdown",
   "metadata": {},
   "source": [
    "Display the results of the download operation."
   ]
  },
  {
   "cell_type": "code",
   "execution_count": null,
   "metadata": {},
   "outputs": [],
   "source": [
    "download"
   ]
  },
  {
   "cell_type": "markdown",
   "metadata": {},
   "source": [
    "Read the files that were just downloaded locally. In addition, have the path be just the rootname, i.e. without the file extension."
   ]
  },
  {
   "cell_type": "code",
   "execution_count": null,
   "metadata": {
    "scrolled": true
   },
   "outputs": [],
   "source": [
    "localpathtofile = download['Local Path'][1][:-8]\n",
    "localpathtofile\n",
    "\n",
    "original_ima = fits.open(localpathtofile+'ima.fits')\n",
    "original_flt = fits.open(localpathtofile+'flt.fits')\n",
    "original_ima.info()"
   ]
  },
  {
   "cell_type": "markdown",
   "metadata": {},
   "source": [
    "Print the number of samples and plot the individual reads of the IMA file.\n",
    "\n",
    "**Note: the individual 'SCI' extensions are stored in reverse order, with 'SCI', 1 corresponding to the last read.**"
   ]
  },
  {
   "cell_type": "code",
   "execution_count": null,
   "metadata": {},
   "outputs": [],
   "source": [
    "nsamp = original_ima[0].header['NSAMP']\n",
    "print('NSAMP',nsamp)\n",
    "\n",
    "fig,axarr = plt.subplots((nsamp+3)//4,4, figsize=(9,3*((nsamp+3)//4)))\n",
    "\n",
    "for i in range(1,4*((nsamp+3)//4)+1):\n",
    "\n",
    "    row = (i-1)//4\n",
    "    col = (i-1)%4\n",
    "    if (i <= nsamp):\n",
    "        immed = np.nanmedian(original_ima['SCI',i].data)\n",
    "        stdev = np.nanstd(original_ima['SCI',i].data)\n",
    "        axarr[row,col].imshow(original_ima['SCI',i].data,clim=[immed-.3*stdev,immed+.5*stdev],cmap='Greys',origin='lower')\n",
    "        axarr[row,col].set_title('SCI '+str(i))\n",
    "        axarr[row,col].set_xticks([]) \n",
    "        axarr[row,col].set_yticks([]) \n",
    "    else:\n",
    "        fig.delaxes(axarr[row,col])\n",
    "\n",
    "fig.tight_layout()"
   ]
  },
  {
   "cell_type": "markdown",
   "metadata": {},
   "source": [
    "<a id=\"query\"></a>\n",
    "## Query CRDS for reference files \n",
    "\n",
    "Before running `reduce_dash`, we need to set some environment variables for several subsequent calibration tasks.\n",
    "\n",
    "We will point to a subdirectory called `crds_cache/` using the IREF environment variable. The IREF variable is used for WFC3 reference files. Other instruments use other variables, e.g., JREF for ACS."
   ]
  },
  {
   "cell_type": "code",
   "execution_count": null,
   "metadata": {},
   "outputs": [],
   "source": [
    "os.environ['CRDS_SERVER_URL'] = 'https://hst-crds.stsci.edu'\n",
    "os.environ['CRDS_SERVER'] = 'https://hst-crds.stsci.edu'\n",
    "os.environ['CRDS_PATH'] = './crds_cache'\n",
    "os.environ['iref'] = 'iref/'\n",
    "if not os.path.exists('iref'):\n",
    "    os.mkdir('iref')"
   ]
  },
  {
   "cell_type": "markdown",
   "metadata": {},
   "source": [
    "The code block below will query CRDS for the best reference files currently available for these datasets and update the header keywords to point to these new files. We will use the Python package `os` to run terminal commands. In the terminal, the line would be:\n",
    "\n",
    "```crds bestrefs --files [filename] --sync-references=1 --update-bestrefs```\n",
    "\n",
    "...where 'filename' is the name of your fits file."
   ]
  },
  {
   "cell_type": "code",
   "execution_count": null,
   "metadata": {},
   "outputs": [],
   "source": [
    "ima_files = glob('*_ima.fits') \n",
    "\n",
    "for file in ima_files:\n",
    "    command_line_input = 'crds bestrefs --files {:} --sync-references=1 --update-bestrefs'.format(file)\n",
    "    os.system(command_line_input)"
   ]
  },
  {
   "cell_type": "markdown",
   "metadata": {},
   "source": [
    "<a id='DASH'></a>\n",
    "## 3. Run DASH\n",
    "Run the DASH pipeline for a single exposure. This procedure showcases the capabilities and customization options of the DASH pipeline.\n",
    "\n",
    "**Note: the following will only work if you are using the notebooks inside of the Notebook directory. `wfc3_dash` submodule will be properly packaged and installed within the `wfc3_tools` module sometime in the future.**\n",
    "\n",
    "If you move the notebooks and want to use them elsewhere, you can still provide a `temp_path` to the dash codes and remove the comments below. "
   ]
  },
  {
   "cell_type": "code",
   "execution_count": null,
   "metadata": {},
   "outputs": [],
   "source": [
    "#import sys\n",
    "\n",
    "#module_path = os.path.abspath(os.path.join('..'))\n",
    "#if module_path not in sys.path:\n",
    "#    sys.path.append(module_path)\n",
    "\n",
    "#tmp_path = \".../wfc3_dash/wfc3_dash\"\n",
    "#if tmp_path not in sys.path:\n",
    "#    sys.path.append(tmp_path)"
   ]
  },
  {
   "cell_type": "markdown",
   "metadata": {},
   "source": [
    "<a id='object'></a>\n",
    "### 3.1 Create DashData object\n",
    "\n",
    "We use the both IMA and FLT extensions of our local image to create a DashData object."
   ]
  },
  {
   "cell_type": "code",
   "execution_count": null,
   "metadata": {},
   "outputs": [],
   "source": [
    "myDash = DashData(localpathtofile+'ima.fits', flt_file_name=localpathtofile+'flt.fits')\n",
    "print(myDash.root)"
   ]
  },
  {
   "cell_type": "markdown",
   "metadata": {},
   "source": [
    "<a id='diff_files'></a>\n",
    "### 3.2 Create difference files from reads\n",
    "\n",
    "A difference (diff) file contains the counts accumulated between two reads of the IMA file. The diff files are written to disk in a directory named `./diff` under the current working directory (cwd). In creating diff files from the readouts of the IMA, the first difference, between the 1-st and 0-th read is ignored because of its very short exposure time of 2.9 seconds, resulting in a noisy image. \n",
    "\n",
    "In order to create the best possible results, the `split_ima()` method uses the `bestrefs` function from [CRDS](https://hst-crds.stsci.edu/) to ensure all reference files are up to date and available."
   ]
  },
  {
   "cell_type": "code",
   "execution_count": null,
   "metadata": {},
   "outputs": [],
   "source": [
    "myDash.split_ima()"
   ]
  },
  {
   "cell_type": "markdown",
   "metadata": {},
   "source": [
    "Print the number of diff files and plot the diff files."
   ]
  },
  {
   "cell_type": "code",
   "execution_count": null,
   "metadata": {},
   "outputs": [],
   "source": [
    "ndiff = len(myDash.diff_files_list)\n",
    "print('Number of diff files',ndiff)\n",
    "\n",
    "if ndiff > 4: \n",
    "    fig,axarr = plt.subplots((ndiff+3)//4,4, figsize=(9,3*((ndiff+3)//4)))\n",
    "\n",
    "    for i in range(4*((ndiff+3)//4)):\n",
    "\n",
    "        row = (i)//4\n",
    "        col = (i)%4\n",
    "        if (i < ndiff):\n",
    "            diff_i = fits.open(myDash.diff_files_list[i]+'_diff.fits')\n",
    "            immed = np.nanmedian(diff_i['SCI'].data)\n",
    "            stdev = np.nanstd(diff_i['SCI'].data)\n",
    "            axarr[row,col].imshow(diff_i['SCI'].data,clim=[immed-.3*stdev,immed+.5*stdev],cmap='Greys',origin='lower')\n",
    "            axarr[row,col].set_title('Diff:'+str(i+1))\n",
    "            axarr[row,col].set_xticks([]) \n",
    "            axarr[row,col].set_yticks([]) \n",
    "        else:\n",
    "            fig.delaxes(axarr[row,col])\n",
    "else:\n",
    "    fig,axarr = plt.subplots(1,ndiff,figsize=(15,15))\n",
    "    for i in range(ndiff):\n",
    "        immed = np.nanmedian(diff_i['SCI'].data)\n",
    "        stdev = np.nanstd(diff_i['SCI'].data)\n",
    "        diff_i = fits.open(myDash.diff_files_list[i]+'_diff.fits')\n",
    "        axarr[i].imshow(diff_i['SCI'].data,clim=[immed-.3*stdev,immed+.5*stdev],cmap='Greys',origin='lower')\n",
    "        axarr[i].set_title('Diff:'+str(i+1))\n",
    "        axarr[i].set_xticks([]) \n",
    "        axarr[i].set_yticks([]) \n",
    "\n",
    "fig.tight_layout()"
   ]
  },
  {
   "cell_type": "markdown",
   "metadata": {},
   "source": [
    "<a id='asn_table'></a>\n",
    "### 3.3 Create an association table\n",
    "\n",
    "This file mimics a typical association file for dithered exposures, which is used by AstroDrizzle to align and stack multiple exposures taken at the same sky position with small dithers. \n",
    "\n",
    "We exploit the fact that a WFC3/IR exposure taken under gyro control can be effectively split into individual pseudo-exposures (the diff images we created in [Section 3.2](#diff_files)). From there, AstroDrizzle can treat such pseudo-expsoures as individual dithers, and combine them into a single exposure."
   ]
  },
  {
   "cell_type": "code",
   "execution_count": null,
   "metadata": {},
   "outputs": [],
   "source": [
    "myDash.make_pointing_asn()"
   ]
  },
  {
   "cell_type": "markdown",
   "metadata": {},
   "source": [
    "Show the content of the asn file, which was created in `./diff`."
   ]
  },
  {
   "cell_type": "code",
   "execution_count": null,
   "metadata": {},
   "outputs": [],
   "source": [
    "asn_filename = 'diff/{}_asn.fits'.format(myDash.root)\n",
    "asn_table = Table(fits.getdata(asn_filename, ext=1))\n",
    "asn_table.show_in_notebook()"
   ]
  },
  {
   "cell_type": "markdown",
   "metadata": {},
   "source": [
    "<a id=\"seg_map\"></a>\n",
    "### 3.4 Create a segmentation map\n",
    "\n",
    "Create segmentation map from original FLT image to assist with background subtraction and fixing of cosmic ray flags using `create_seg_map()`. This method makes a directory called `./segmentation_maps`, which holds the outputs."
   ]
  },
  {
   "cell_type": "code",
   "execution_count": null,
   "metadata": {},
   "outputs": [],
   "source": [
    "myDash.create_seg_map()"
   ]
  },
  {
   "cell_type": "markdown",
   "metadata": {},
   "source": [
    "Plot segmentation map."
   ]
  },
  {
   "cell_type": "code",
   "execution_count": null,
   "metadata": {
    "scrolled": true
   },
   "outputs": [],
   "source": [
    "rootname = myDash.root\n",
    "segmap_name = ('segmentation_maps/'+ rootname + '_seg.fits')\n",
    "segmap = fits.getdata(segmap_name)\n",
    "\n",
    "fig = plt.figure(figsize=(6, 8))\n",
    "plt.title(segmap_name)\n",
    "plt.imshow(segmap, origin='lower', vmin=0, vmax=1, cmap='Greys_r')"
   ]
  },
  {
   "cell_type": "markdown",
   "metadata": {},
   "source": [
    "Print and read source list."
   ]
  },
  {
   "cell_type": "code",
   "execution_count": null,
   "metadata": {},
   "outputs": [],
   "source": [
    "sourcelist_name = ('segmentation_maps/' + rootname + '_source_list.dat')\n",
    "sourcelist = ascii.read(sourcelist_name)\n",
    "print(sourcelist)"
   ]
  },
  {
   "cell_type": "markdown",
   "metadata": {},
   "source": [
    "Let's create a segmentation map and source list from the difference files. We need to make source lists from our difference files created from the IMA so that `TweakReg` can better align these difference files to catalogs, each other, etc.\n",
    "\n",
    "First, generate a list of difference files that contain the full path name."
   ]
  },
  {
   "cell_type": "code",
   "execution_count": null,
   "metadata": {},
   "outputs": [],
   "source": [
    "diffpath = os.path.dirname(os.path.abspath('diff/{}_*_diff.fits'.format(rootname)))\n",
    "cat_images = sorted([os.path.basename(x) for x in glob('diff/{}_*_diff.fits'.format(rootname))])\n",
    "sc_diff_files = [diffpath + '/' + s for s in cat_images]"
   ]
  },
  {
   "cell_type": "markdown",
   "metadata": {},
   "source": [
    "Then, create a difference segmentation map using `diff_seg_map()` and the diff files."
   ]
  },
  {
   "cell_type": "code",
   "execution_count": null,
   "metadata": {},
   "outputs": [],
   "source": [
    "myDash.diff_seg_map(cat_images=sc_diff_files)"
   ]
  },
  {
   "cell_type": "markdown",
   "metadata": {},
   "source": [
    "Plot the segmentation map from a diffrence files."
   ]
  },
  {
   "cell_type": "code",
   "execution_count": null,
   "metadata": {},
   "outputs": [],
   "source": [
    "segmap_name = ('segmentation_maps/' + rootname + '_01_diff_seg.fits')\n",
    "segmap = fits.getdata(segmap_name)\n",
    "fig = plt.figure(figsize=(6, 8))\n",
    "plt.title(segmap_name)\n",
    "plt.imshow(segmap, origin='lower', vmin=0, vmax=1, cmap='Greys_r')"
   ]
  },
  {
   "cell_type": "markdown",
   "metadata": {},
   "source": [
    "<a id='subtract_ext'></a>\n",
    "### 3.5 Subtract background from difference files\n",
    "\n",
    "Subtract background from the individual reads taken from the original IMA file using the DRZ and SEG images produced in the background subtraction of the original FLT. \n",
    "\n",
    "By default, `subtract_background_reads()` will subtract the background and write it to the header. By setting `subtract=False`, the background will not be subtracted and will only be written to the header. In addition, setting `reset_stars_dq=True` will reset cosmic rays within objects to 0 since the centers of the stars are flagged."
   ]
  },
  {
   "cell_type": "code",
   "execution_count": null,
   "metadata": {},
   "outputs": [],
   "source": [
    "myDash.subtract_background_reads()"
   ]
  },
  {
   "cell_type": "markdown",
   "metadata": {},
   "source": [
    "<a id='cosmic_rays'></a>\n",
    "### 3.6 Fix cosmic rays\n",
    "\n",
    "Now, we can use `fix_cosmic_rays()` to reset cosmic rays within the segmentation maps of objects and use [L.A.Cosmic](https://arxiv.org/pdf/astro-ph/0108003.pdf) to find them again."
   ]
  },
  {
   "cell_type": "code",
   "execution_count": null,
   "metadata": {},
   "outputs": [],
   "source": [
    "myDash.fix_cosmic_rays()"
   ]
  },
  {
   "cell_type": "markdown",
   "metadata": {},
   "source": [
    "<a id='align_each_other'></a>\n",
    "### 3.7 Align reads to each other\n",
    "Align reads from the IMA to one another by aligning each difference file to the first diff file.\n",
    "\n",
    "Listed below are all the parameters available to `myDash.align()`. `align()` uses `TweakReg` to update the WCS information in the headers of the diff files, then drizzles the images together using `AstroDrizzle`. There are more parameters available to users when working with `TweakReg` and `AstroDrizzle` that could be an integral part of the workflow for users of DASH. The example below lists the default values set for every input:\n",
    "\n",
    "``myDash.align(self, subtract_background = True, \n",
    "            align_method = None, \n",
    "            ref_catalog = None, \n",
    "            create_diff_source_lists = True,\n",
    "            updatehdr = True, \n",
    "            updatewcs = True, \n",
    "            wcsname = 'DASH', \n",
    "            threshold = 50., \n",
    "            cw = 3.5, \n",
    "            searchrad = 20., \n",
    "            astrodriz = True, \n",
    "            cat_file = 'catalogs/diff_catfile.cat',\n",
    "            drz_output = None, \n",
    "            move_files = False)``\n",
    "            \n",
    "Refer to documentation to customize parameters for [TweakReg](https://drizzlepac.readthedocs.io/en/latest/tweakreg.html) and [AstroDrizzle](https://drizzlepac.readthedocs.io/en/latest/astrodrizzle.html). \n",
    "\n",
    "Note: the error `UnboundLocalError: local variable 'sig' referenced before assignment` can be solved by lowering threshold parameter."
   ]
  },
  {
   "cell_type": "code",
   "execution_count": null,
   "metadata": {},
   "outputs": [],
   "source": [
    "myDash.align(updatehdr=False, updatewcs=True, astrodriz=False)"
   ]
  },
  {
   "cell_type": "markdown",
   "metadata": {},
   "source": [
    "Print the shifts file to analyze how well the alignment went. Do not update header until shifts, as seen in the `xrms` and `yrms` columns, are satisfactory. Further information about the outputs in the shift file and what is 'satisfactory' can be found in the [Drizzlepac Handbook](https://hst-docs.stsci.edu/drizzpac)."
   ]
  },
  {
   "cell_type": "code",
   "execution_count": null,
   "metadata": {},
   "outputs": [],
   "source": [
    "shift_file = glob('shifts/shifts_*.txt')\n",
    "shift_file_name = shift_file[0]\n",
    "\n",
    "\n",
    "shift_tab = Table.read(shift_file_name,\n",
    "                       format='ascii.no_header',\n",
    "                       names=['file','dx','dy','rot','scale','xrms','yrms'])\n",
    "\n",
    "formats = ['.2f', '.2f', '.3f', '.5f', '.2f', '.2f']\n",
    "for i, col in enumerate(shift_tab.colnames[1:]):\n",
    "    shift_tab[col].format = formats[i]\n",
    "shift_tab"
   ]
  },
  {
   "cell_type": "markdown",
   "metadata": {},
   "source": [
    "Let's align our images with a threshold of 20, and update the headers and WCS information."
   ]
  },
  {
   "cell_type": "code",
   "execution_count": null,
   "metadata": {},
   "outputs": [],
   "source": [
    "myDash.align(threshold = 20.)"
   ]
  },
  {
   "cell_type": "markdown",
   "metadata": {},
   "source": [
    "<a id='plot'></a>\n",
    "## 4. Plot original IMA and DASH pipeline science result\n",
    "\n",
    "Plot the final DRZ image and compare to the original IMA."
   ]
  },
  {
   "cell_type": "code",
   "execution_count": null,
   "metadata": {
    "scrolled": true
   },
   "outputs": [],
   "source": [
    "sci_name = myDash.root + '_drz_sci.fits'\n",
    "og_flt_name = 'mastDownload/HST/' + myDash.root + '/' + myDash.root + '_ima.fits'\n",
    "sci = fits.getdata(sci_name)\n",
    "og_flt = fits.getdata(og_flt_name)\n",
    "\n",
    "fig = plt.figure(figsize=(9, 4))\n",
    "ax1 = fig.add_subplot(1,2,2)\n",
    "ax2 = fig.add_subplot(1,2,1)\n",
    "\n",
    "ax1.set_title('DASH Pipeline Reduced Science File')\n",
    "ax2.set_title('Original IMA (not reduced using pipeline)')\n",
    "\n",
    "ax1.set_xlim(-10,1120)\n",
    "ax2.set_xlim(-10,1120)\n",
    "\n",
    "ax1.set_ylim(-10,1050)\n",
    "ax2.set_ylim(-10,1050)\n",
    "\n",
    "ax1.imshow(sci, vmin=0, vmax=40, cmap='Greys_r', origin='lower')\n",
    "ax2.imshow(og_flt, vmin=0, vmax=40, cmap='Greys_r', origin='lower')\n",
    "plt.show()"
   ]
  },
  {
   "cell_type": "markdown",
   "metadata": {},
   "source": [
    "<a id=\"conclusions\"></a>\n",
    "## 5. Conclusions\n",
    "\n",
    "Thank you for walking through this notebook. Now using WFC3 data, you should be more familiar with:\n",
    "\n",
    "- Creating difference files, association tables, and segmentation maps using `wfc3_dash`.\n",
    "- Subtracting background and fixing cosmic rays from newly generated FLTs.\n",
    "- Aligning reads to each other for a final product.\n",
    "\n",
    "Congratulations, you have completed the notebook!"
   ]
  },
  {
   "cell_type": "markdown",
   "metadata": {},
   "source": [
    "<a id=\"resources\"></a>\n",
    "## Additional Resources\n",
    "Below are some additional resources that may be helpful. Please send any questions through the [HST Helpdesk](https://stsci.service-now.com/hst).\n",
    "\n",
    "- [WFC3 Website](https://www.stsci.edu/hst/instrumentation/wfc3)\n",
    "- [WFC3 Instrument Handbook](https://hst-docs.stsci.edu/wfc3ihb)\n",
    "- [WFC3 Data Handbook](https://hst-docs.stsci.edu/wfc3dhb)\n",
    "    - see sections 9.5.4 for reference to this notebook\n",
    "    \n",
    "<a id=\"about\"></a>\n",
    "## About this Notebook\n",
    "\n",
    "**Authors:** Catherine Martlin; WFC3 Instrument Team\n",
    "\n",
    "**Updated on:** 2023-01-25\n",
    "\n",
    "<a id=\"cite\"></a>\n",
    "## Citations\n",
    "\n",
    "If you use `numpy`, `matplotlib`, `astropy`, `astroquery`, `photutils`, or `drizzlepac` for published research, please cite the authors. Follow these links for more information about citing the libraries below:\n",
    "\n",
    "* [Citing `numpy`](https://numpy.org/citing-numpy/)\n",
    "* [Citing `matplotlib`](https://matplotlib.org/stable/users/project/citing.html)\n",
    "* [Citing `astropy`](https://www.astropy.org/acknowledging.html)\n",
    "* [Citing `astroquery`](https://astroquery.readthedocs.io/en/latest/license.html)\n",
    "* [Citing `photutils`](https://photutils.readthedocs.io/en/stable/citation.html)\n",
    "* [Citing `drizzlepac`](https://drizzlepac.readthedocs.io/en/latest/LICENSE.html)\n",
    "\n",
    "***\n",
    "[Top of Page](#title)\n",
    "<img style=\"float: right;\" src=\"https://raw.githubusercontent.com/spacetelescope/notebooks/master/assets/stsci_pri_combo_mark_horizonal_white_bkgd.png\" alt=\"Space Telescope Logo\" width=\"200px\"/> "
   ]
  },
  {
   "cell_type": "code",
   "execution_count": null,
   "metadata": {},
   "outputs": [],
   "source": []
  }
 ],
 "metadata": {
  "kernelspec": {
   "display_name": "Python 3 (ipykernel)",
   "language": "python",
   "name": "python3"
  },
  "language_info": {
   "codemirror_mode": {
    "name": "ipython",
    "version": 3
   },
   "file_extension": ".py",
   "mimetype": "text/x-python",
   "name": "python",
   "nbconvert_exporter": "python",
   "pygments_lexer": "ipython3",
   "version": "3.9.7"
  },
  "toc": {
   "base_numbering": 1,
   "nav_menu": {},
   "number_sections": false,
   "sideBar": true,
   "skip_h1_title": false,
   "title_cell": "Table of Contents",
   "title_sidebar": "Contents",
   "toc_cell": false,
   "toc_position": {},
   "toc_section_display": true,
   "toc_window_display": true
  }
 },
 "nbformat": 4,
 "nbformat_minor": 2
}
