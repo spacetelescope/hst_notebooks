{
 "cells": [
  {
   "cell_type": "markdown",
   "metadata": {},
   "source": [
    "<a id=\"top\"></a>\n",
    "\n",
    "# Processing WFC3/UVIS Data with `calwf3` Using the v1.0 CTE-Correction  \n",
    "***\n",
    "## Learning Goals\n",
    "This notebook explains how to calibrate `raw` WFC3/UVIS data with the v1.0 pixel-based CTE correction within `calwf3`. \n",
    "<br>\n",
    "\n",
    "By the end of this tutorial, you will:\n",
    "\n",
    "- Download a raw WFC3 image from MAST.\n",
    "- Find the necessary reference files needed for calibration.\n",
    "- Edit header keywords.\n",
    "- Run `calwf3` `v3.5.2` to calibrate the raw image with the v1.0 pixel based CTE-correction.\n",
    "- Compare v1.0 and v2.0 products. \n",
    "\n",
    "## Table of Contents\n",
    " [Introduction](#intro)<br>\n",
    " \n",
    " [1. Imports](#imports) <br>\n",
    " [2. Verify `archived_drkcfiles.txt` is in CWD](#txtfile) <br>\n",
    " [3. Check that `calwf3` Version is `v3.5.2`](#checkcalver) <br>\n",
    " [4. Query MAST and Download a WFC3 `raw.fits` Image](#download) <br>\n",
    " [5. Set CRDS Environment Variable and Download Reference Files](#env_var) <br>\n",
    " &nbsp;&nbsp;&nbsp;&nbsp;&nbsp;&nbsp;[5.1 Run `crds bestrefs`](#bestrefs) <br>\n",
    " &nbsp;&nbsp;&nbsp;&nbsp;&nbsp;&nbsp;[5.2 Inspect Image Header](#imageheaders) <br>\n",
    " [6. Find the Correct v1.0 DRKCFILE](#finddark) <br>\n",
    " &nbsp;&nbsp;&nbsp;&nbsp;&nbsp;&nbsp;[6.1 Download the Correct DRKCFILE from CRDS](#sync_dkc) <br>\n",
    " &nbsp;&nbsp;&nbsp;&nbsp;&nbsp;&nbsp;[6.2 Modify the Image Header Keyword, `DRKCFILE`](#mod_dkc) <br>\n",
    " [7. Download the v1.0 PCTETAB](#sync_pctetab) <br>\n",
    " &nbsp;&nbsp;&nbsp;&nbsp;&nbsp;&nbsp;[7.1 Modify the Image Header Keyword `PCTETAB`](#mod_pcte) <br>\n",
    " [8. Re-Inspect Image Header](#reinspect) <br>\n",
    " [9. Run `calwf3`](#runcal) <br>\n",
    "[10. Inspect `FLC` Image Header](#inspectflc) <br>\n",
    "[11. Investigate v1.0 and v2.0 Differences](#verdiffs) <br>\n",
    "&nbsp;&nbsp;&nbsp;&nbsp;&nbsp;&nbsp;[11.1 Download the v2.0 FLC File](#downloadv2.0)<br>\n",
    "&nbsp;&nbsp;&nbsp;&nbsp;&nbsp;&nbsp;[11.2 Open Files](#openfiles) <br>\n",
    "&nbsp;&nbsp;&nbsp;&nbsp;&nbsp;&nbsp;[11.3 Display 50x50 Pixel Background Subsection](#bkgsub) <br>\n",
    "&nbsp;&nbsp;&nbsp;&nbsp;&nbsp;&nbsp;&nbsp;&nbsp;&nbsp;&nbsp;&nbsp;&nbsp;[11.3.1 Pixel Distribution of Background Subsections](#bkgdist) <br>\n",
    "&nbsp;&nbsp;&nbsp;&nbsp;&nbsp;&nbsp;[11.4 Display Image Subsection](#imgsub) <br>\n",
    "&nbsp;&nbsp;&nbsp;&nbsp;&nbsp;&nbsp;[11.5 Aperture Photometry](#apphot) <br>\n",
    "[12. Conclusions](#conclude) <br>\n",
    "\n",
    "[Additional Resources](#resources) <br>\n",
    "[About the Notebook](#about) <br>\n",
    "[Citations](#cite) "
   ]
  },
  {
   "cell_type": "markdown",
   "metadata": {},
   "source": [
    "<a id=\"intro\"></a>\n",
    "\n",
    "## Introduction \n",
    "\n",
    "The v1.0 pixel-based Charge Transfer Efficiency (CTE) correction was first implemented into `calwf3` `v3.3` in 2016 <br> ([Ryan et al. 2016](https://ui.adsabs.harvard.edu/abs/2016wfc..rept....1R/abstract), [Anderson & Bedin 2010](https://ui.adsabs.harvard.edu/abs/2010PASP..122.1035A/abstract), [HSTCAL release notes](https://github.com/spacetelescope/hstcal/releases/tag/1.0.0)). This also marked the first time users could directly <br> download CTE-corrected `flc & drc` files from [MAST](https://mast.stsci.edu/search/hst/ui/#/).  While the v1.0 correction was sufficient  for many years, the <br> degradation of CTE over time reduced the efficacy of the model in treating low-level pixels. The v1.0 correction adversely <br> impacts (overcorrects) both the image background and faint sources. In April 2021 the v2.0 pixel-based CTE correction <br> was implemented in `calwf3` `v3.6.0` ([Anderson et al. 2021](https://ui.adsabs.harvard.edu/abs/2021wfc..rept....9A/abstract), [Kuhn & Anderson 2021](https://ui.adsabs.harvard.edu/abs/2021wfc..rept....6K/abstract),  [HSTCAL release notes](https://github.com/spacetelescope/hstcal/releases/tag/2.7.0)). Since <br> MAST uses the latest release of `calwf3` for calibration, any WFC3/UVIS CTE corrected data retrieved from MAST, <br> regardless of observation date, will be calibrated with the v2.0 pixel-based CTE correction. Although v1.0 pixel-based <br> CTE-corrected `flc & drc` files are no longer accessable through MAST, this notebook steps through the procedure <br> required to calibrate WFC3/UVIS images using the v1.0 CTE correction. <br>\n",
    "\n",
    "\n",
    "One of the limiting factors of using the v1.0 CTE correction are the CTE corrected dark current reference files (`DRKCFILE`). <br> These dark reference files are delivered to MAST by the WFC3 team and use the same pixel-based CTE correction within <br> `calwf3`. Now that we have switched to the v2.0 CTE correction there is a cut off for dark current reference files that use <br> the v1.0 correction. Observations taken after February 2021 will not have CTE corrected dark files using the v1.0 algorithm, <br> which means **applying the v1.0 CTE correction works best for observations taken between May 2009 - February 2021.** <br> If the observation being calibrated was taken after February 2021 there are two options: **1)** use the last v1.0 CTE corrected <br> dark reference file from February 2021 or **2)** use the v2.0 CTE corrected dark with the most appropriate `USEAFTER` for the <br> science exposure's observation date. "
   ]
  },
  {
   "cell_type": "markdown",
   "metadata": {},
   "source": [
    "<a id=\"imports\"></a>\n",
    "## 1. Imports\n",
    "\n",
    "<div class=\"alert alert-block alert-warning\" style=\"color:black\" > <b> This notebook assumes you have created and activated a virtual environment using the requirements file in this notebook's repository. Please make sure you have read the README file before continuing.</b> <br> </div>\n",
    "\n",
    "We import: <br>\n",
    "\n",
    "| Package Name                             | Purpose                                                |\n",
    "|:-----------------------------------------|:-------------------------------------------------------|\n",
    "| `glob`                                   | creating list of files                                 |\n",
    "| `os`                                     | directory maintenance and setting environment variables|\n",
    "| `astropy.io.fits`                        | opening and modifying fits files                       |\n",
    "| `astroquery.mast.Observations`           | downloading data from MAST                             |\n",
    "| `astropy.table.Table`                    | creating and manipulating data tables                  |\n",
    "| `astropy.visualization.ZScaleInterval`   | finding z-scale limits when displaying images          |\n",
    "| `matplotlib.pyplot`                      | plotting and displaying images                         |\n",
    "| `numpy`                                  | finding indices and concatenating arrays               |\n",
    "| `photutils.aperture.aperture_photometry` | performing aperture photometry                         |\n",
    "| `photutils.aperture.CircularAperture`    | creating circular apertures                            |\n",
    "| `photutils.aperture.CircularAnnulus`     | creating circular annuli                               |\n",
    "| `wfc3tools.calwf3`                       | verifying the version and running pipeline             |\n",
    "| `background_median.aperture_stats_tbl`   | measuring background values within annuli              |"
   ]
  },
  {
   "cell_type": "code",
   "execution_count": null,
   "metadata": {},
   "outputs": [],
   "source": [
    "import glob\n",
    "import os\n",
    "\n",
    "from astropy.io import fits\n",
    "from astropy.table import Table\n",
    "from astroquery.mast import Observations\n",
    "from astropy.visualization import ZScaleInterval\n",
    "import matplotlib.pyplot as plt\n",
    "import numpy as np\n",
    "from photutils.aperture import aperture_photometry, CircularAperture, CircularAnnulus\n",
    "from wfc3tools import calwf3\n",
    "\n",
    "from example.background_median import aperture_stats_tbl"
   ]
  },
  {
   "cell_type": "markdown",
   "metadata": {},
   "source": [
    "<a id=\"txtfile\"></a>\n",
    "## 2. Verify `archived_drkcfiles.txt` is in CWD\n",
    "When you cloned/downloaded this notebook from [hst_notebooks](https://github.com/spacetelescope/hst_notebooks/), a .txt file should have been included. The file name is <br> `archived_drkcfiles.txt` and it is used later on in the notebook. This .txt file includes the file name, delivery date, activation <br> date, and USEAFTER date for every v1.0 CTE corrected dark reference file between May 2009 - February 2021. Below, we will use <br> this file in conjunction with the observation date of the file(s) being calibrated to pick out the most appropriate v1.0 CTE corrected <br> dark reference file(s).<br>\n",
    "\n",
    "Please make sure the `archived_drkcfiles.txt` file is in the current working directory before continuing."
   ]
  },
  {
   "cell_type": "code",
   "execution_count": null,
   "metadata": {},
   "outputs": [],
   "source": [
    "# list cwd to verify txt file is there\n",
    "!ls -l archived_drkcfiles.txt"
   ]
  },
  {
   "cell_type": "markdown",
   "metadata": {},
   "source": [
    "<a id=\"checkcalver\"></a>\n",
    "## 3. Check that `calwf3` Version is `v3.5.2`\n",
    "In April 2021, a new `calwf3` version was released that contains the v2.0 CTE-correction.\n",
    "If you would like to use the v1.0 correction, your <br> current environment must be using `calwf3` versions equal to or between `3.3` - `3.5.2`. However, in order to get the best v1.0 calibrated <br>images we must use `calwf3` `v3.5.2`. This version of `calwf3` includes the recent ([~Jan 2021](https://github.com/spacetelescope/hstcal/releases/tag/2.5.0)) update that added MJD as a parameterized <br> variable for the `PHOTMODE` keyword, which enables a time-dependent photometric correction and zeropoint.  If your version is `3.6.0` or higher, <br> you must downgrade the [`hstcal` package](https://github.com/spacetelescope/hstcal). The safer option, however, is to create a new environment using the requirements file provided in <br> the [notebook's repository](https://github.com/spacetelescope/hst_notebooks/tree/main/notebooks/WFC3/calwf3_v1.0_cte): <br>\n",
    "\n",
    "* `$ conda config --add channels http://ssb.stsci.edu/astroconda`\n",
    "* `$ conda create -n v1_PCTE hstcal==2.5.0 python=3.11`\n",
    "* `$ conda activate v1_PCTE`\n",
    "* `$ pip install -r requirements.txt`\n",
    "\n",
    "`hstcal` `v2.5.0` provides version `3.5.2` of `calwf3`, which is the last version that offers the v1.0 pixel-based CTE correction.\n"
   ]
  },
  {
   "cell_type": "code",
   "execution_count": null,
   "metadata": {},
   "outputs": [],
   "source": [
    "# print calwf3 version to make sure its equal to or between 3.3 and 3.5.2 \n",
    "!calwf3.e --version"
   ]
  },
  {
   "cell_type": "markdown",
   "metadata": {},
   "source": [
    "<a id=\"download\"></a>\n",
    "## 4. Query MAST and Download a WFC3 `raw.fits` Image \n",
    "Here, we download our image via `astroquery`. For more information, please look at the documentation for [Astroquery](https://astroquery.readthedocs.io/en/latest/),\n",
    "[Astroquery.mast](https://astroquery.readthedocs.io/en/latest/mast/mast.html), and <br> \n",
    "[CAOM Field Descriptions](https://mast.stsci.edu/api/v0/_c_a_o_mfields.html), which is used for the `obs_table` variable below. Additionally, you may download the data from MAST using either <br> the [HST MAST Search Engine](https://mast.stsci.edu/search/hst/ui/#/) or the more general [MAST Portal](https://mast.stsci.edu/portal/Mashup/Clients/Mast/Portal.html).\n",
    "\n",
    "We download a `raw` image of star cluster 47 Tucanae (47Tuc, NGC 104), offset from the core, from CAL proposal [15576](https://www.stsci.edu/cgi-bin/get-proposal-info?id=15576&submit=Go&observatory=HST) (July 2019).<br>\n",
    "After downloading the image, we move it to the current working directory (cwd)."
   ]
  },
  {
   "cell_type": "code",
   "execution_count": null,
   "metadata": {},
   "outputs": [],
   "source": [
    "# Edit this cell's first line if you would to download your own file(s)\n",
    "# Get the observation records\n",
    "obs_table = Observations.query_criteria(obs_id='idv404axq*', proposal_id=15576)\n",
    "\n",
    "# Get the listing of data products\n",
    "products = Observations.get_product_list(obs_table)\n",
    "\n",
    "# Filter the products for the RAW files\n",
    "filtered_products = Observations.filter_products(products, productSubGroupDescription='RAW')\n",
    "\n",
    "# Download all the images above\n",
    "download_table = Observations.download_products(filtered_products, mrp_only=False)\n",
    "\n",
    "# For convenience move raws to cwd and remove empty download dir\n",
    "for file in download_table['Local Path']:\n",
    "    filename = file.split('/')[-1]\n",
    "    os.rename(file, os.path.basename(file))\n",
    "    os.rmdir('mastDownload/HST/'+filename[:9])\n",
    "        \n",
    "os.rmdir('mastDownload/HST/')\n",
    "os.rmdir('mastDownload/')"
   ]
  },
  {
   "cell_type": "code",
   "execution_count": null,
   "metadata": {},
   "outputs": [],
   "source": [
    "# show list of current dir to verify fits file is there\n",
    "!ls -l *raw.fits"
   ]
  },
  {
   "cell_type": "markdown",
   "metadata": {},
   "source": [
    "<a id=\"env_var\"></a>\n",
    "## 5. Set CRDS Environment Variable and Download Reference Files"
   ]
  },
  {
   "cell_type": "markdown",
   "metadata": {},
   "source": [
    "<div class=\"alert alert-block alert-warning\" style=\"color:black\" > <b> If you already have the absolute paths set for CRDS, please skip the code cell immediately below and proceed to the crds bestrefs command in Section 5.1.</b> <br> </div>\n",
    "\n",
    "Before we run `crds bestfefs` and `calwf3`, we need to [set environment variables](https://hst-crds.stsci.edu/docs/cmdline_bestrefs/) for several subsequent calibration tasks.  We will point to a <br> subdirectory within the main `crds_cache/` using the `IREF` environment variable. The `IREF` variable is used for WFC3 reference files. Other <br> instruments use other variables, e.g., `JREF` for ACS. You have the option to permanently add these environment variables to your user profile by <br> adding the path in your shell's configuration file. If you're using bash, you would edit the `~/.bash_profile` file with lines such as:\n",
    "\n",
    "* `export CRDS_SERVER_URL=\"https://hst-crds.stsci.edu\"`\n",
    "* `export CRDS_SERVER=\"https://hst-crds.stsci.edu\"`\n",
    "* `export CRDS_PATH=\"$HOME/crds_cache\"`\n",
    "* `export iref=\"${CRDS_PATH}/references/hst/wfc3/\"`"
   ]
  },
  {
   "cell_type": "code",
   "execution_count": null,
   "metadata": {},
   "outputs": [],
   "source": [
    "os.environ['CRDS_SERVER_URL'] = 'https://hst-crds.stsci.edu'\n",
    "os.environ['CRDS_SERVER'] = 'https://hst-crds.stsci.edu'\n",
    "os.environ['CRDS_PATH'] = 'crds_cache'\n",
    "os.environ['iref'] = 'crds_cache/references/hst/wfc3/'"
   ]
  },
  {
   "cell_type": "markdown",
   "metadata": {},
   "source": [
    "<a id=\"bestrefs\"></a>\n",
    "## 5.1 Run `crds bestrefs` \n",
    "\n",
    "The cell below calls [CRDS bestref](https://hst-crds.stsci.edu/static/users_guide/basic_use.html), which will copy the necessary reference files from CRDS over to your local machine, if you do not already have <br> them. Without running this command we would not be able to calibrate the image with `calwf3`."
   ]
  },
  {
   "cell_type": "code",
   "execution_count": null,
   "metadata": {
    "scrolled": true
   },
   "outputs": [],
   "source": [
    "bestref_input = 'crds bestrefs --update-bestrefs --sync-references=1 --files idv404axq_raw.fits'\n",
    "run_bestref = os.system(bestref_input)\n",
    "if run_bestref != 0:\n",
    "    print(f\"bestref failed with exit code: {run_bestref}\")"
   ]
  },
  {
   "cell_type": "markdown",
   "metadata": {},
   "source": [
    "<a id=\"imageheaders\"></a>\n",
    "## 5.2 Inspect Image Header\n",
    "When processing a raw file through `calwf3` ,  the pipeline uses a few different header keywords to initiate and run the pixel-based CTE <br> correction. Here, we inspect the important header keywords from the raw file just downloaded.<br>\n",
    "At this step, you should see: <br>\n",
    "- `pctetab` set to `iref$54l1347ei_cte.fits`<br>\n",
    "- `drkcfile` set to `iref$54n2022fi_dkc.fits`<br>\n",
    "- `pctecorr` set to `PERFORM`.\n"
   ]
  },
  {
   "cell_type": "code",
   "execution_count": null,
   "metadata": {},
   "outputs": [],
   "source": [
    "# Collect header keyword info from raw file\n",
    "file, date, expstart, pctetab, drkcfile, pctecorr = [], [], [], [], [], []\n",
    "for f in glob.glob('*raw.fits'):\n",
    "    h = fits.getheader(f)\n",
    "    file.append(h['filename'])\n",
    "    date.append(h['date-obs'])\n",
    "    expstart.append(h['expstart'])\n",
    "    pctetab.append(h['pctetab'])\n",
    "    drkcfile.append(h['drkcfile'])\n",
    "    pctecorr.append(h['pctecorr'])\n",
    "\n",
    "image_table = Table([file, date, expstart, pctetab, drkcfile, pctecorr],\n",
    "                    names=('file', 'date-obs', 'expstart', 'pctetab', 'drkcfile', 'pctecorr'))\n",
    "image_table['expstart'].format = '5.6f'\n",
    "\n",
    "# Sort and display the table\n",
    "image_table.sort('expstart')\n",
    "image_table"
   ]
  },
  {
   "cell_type": "markdown",
   "metadata": {},
   "source": [
    "<a id=\"finddark\"></a>\n",
    "## 6. Find the Correct v1.0 `DRKCFILE` \n",
    "Below, we open the .txt file containing a list of all the `DRKCFILE` reference files created with the v1.0 pixel-based CTE correction. <br>`DRKCFILE` reference files are CTE corrected files used by the pipeline to perform the dark current subtraction during the generation <br> of the `flc` file. The `DRKCFILE` files listed in `archived_drkcfiles.txt` have been archived on the CRDS database and while <br> they are still accessible for use and download, they are not being actively used by MAST. <br>\n",
    "\n",
    "In the first cell, we generate an `astropy.Table` ( `drkc_table` ) using the data from the file `archived_drkcfiles.txt`, mentioned <br> in [Section 2](#txtfile), and create empty lists for the final table. Then, in the second cell, we index the `drkc_table` table for the best `DRKCFILE` <br> that corresponds to the `DATE-OBS`  of the `raw` file being calibrated. Lastly, in the third cell, we create and display the final `astropy.table` <br>that contains just the necessary `DRKCFILE`.<br> \n",
    "\n"
   ]
  },
  {
   "cell_type": "code",
   "execution_count": null,
   "metadata": {},
   "outputs": [],
   "source": [
    "# Generate astropy table from `archived_drkcfiles.txt`\n",
    "drkc_table = Table.read('archived_drkcfiles.txt', format='ascii.commented_header')\n",
    "\n",
    "# Create empty lists for final astropy table\n",
    "rawfiles, obsdates, dkcfiles, uafters, active_dates = [], [], [], [], []"
   ]
  },
  {
   "cell_type": "code",
   "execution_count": null,
   "metadata": {},
   "outputs": [],
   "source": [
    "# Using image header table from section 4.1 find closest drkcfile\n",
    "for expstart in image_table['expstart']:\n",
    "    table_idx = np.where(abs(drkc_table['useafter-mjd']-expstart) == abs(drkc_table['useafter-mjd']-expstart).min())[0][0]\n",
    "\n",
    "    rawfile = image_table[image_table['expstart'] == expstart]['file'][0]\n",
    "    \n",
    "    # if drkcfile has useafter date > rawfile expstart use previous drkcfile\n",
    "    if drkc_table[table_idx]['useafter-mjd'] > image_table[image_table['file'] == rawfile]['expstart'][0]:\n",
    "        table_idx -= 1\n",
    "    # append info\n",
    "    rawfiles.append(rawfile)\n",
    "    obsdates.append(image_table[image_table['file'] == rawfile]['date-obs'][0])\n",
    "    dkcfiles.append(drkc_table[table_idx]['drkcfile'])\n",
    "    uafters.append(drkc_table[table_idx]['useafter'])\n",
    "    active_dates.append(drkc_table[table_idx]['activation-date'])"
   ]
  },
  {
   "cell_type": "code",
   "execution_count": null,
   "metadata": {},
   "outputs": [],
   "source": [
    "# Generate table of filename, date-obs, drkc-filename, corresponding useafter\n",
    "raw_dkc_tab = Table([rawfiles, obsdates, dkcfiles, uafters, active_dates],\n",
    "                    names=('filename', 'date-obs', 'dkc-filename', 'dkc-useafter', 'dkc-activation'))\n",
    "# Display table\n",
    "raw_dkc_tab"
   ]
  },
  {
   "cell_type": "markdown",
   "metadata": {},
   "source": [
    "<a id=\"sync_dkc\"></a>\n",
    "## 6.1 Download the Correct `DRKCFILE` from CRDS\n",
    "Now that we know the name of the correct `DRKCFILE`, it must be retrieved from CRDS and stored on your local machine so that it can be used <br>during calibration. To copy the file from CRDS we use the [crds sync](https://hst-crds.stsci.edu/static/users_guide/command_line_tools.html#crds-sync) command. "
   ]
  },
  {
   "cell_type": "code",
   "execution_count": null,
   "metadata": {},
   "outputs": [],
   "source": [
    "for dkc in raw_dkc_tab['dkc-filename']:\n",
    "    crds_sync = f\"crds sync --hst --files {dkc} --output-dir {os.environ['iref']} \"\n",
    "    run_sync = os.system(crds_sync)\n",
    "    if run_sync != 0:\n",
    "        print(f\"crds sync failed with exit code: {run_sync}\")"
   ]
  },
  {
   "cell_type": "markdown",
   "metadata": {},
   "source": [
    "<a id=\"mod_dkc\"></a>\n",
    "## 6.2 Modify the Image Header Keyword, `DRKCFILE`\n",
    "With the v1.0 CTE-corrected dark current reference file that corresponds to our `raw` science file copied to our local machine, we're ready to <br> edit the header keyword with the proper `DRKCFILE`. "
   ]
  },
  {
   "cell_type": "code",
   "execution_count": null,
   "metadata": {},
   "outputs": [],
   "source": [
    "for file in glob.glob('i*raw.fits'):\n",
    "    # Using raw_dkc_tab from above, grab appropriate drkcfile\n",
    "    ctecorr_dark = 'iref$'+raw_dkc_tab[raw_dkc_tab['filename'] == file]['dkc-filename'][0]\n",
    "    fits.setval(file, 'DRKCFILE', value=ctecorr_dark)"
   ]
  },
  {
   "cell_type": "markdown",
   "metadata": {},
   "source": [
    "<a id=\"sync_pctetab\"></a>\n",
    "## 7. Download the v1.0 `PCTETAB`\n",
    "\n",
    "The next reference file we're going to download from CRDS is the `PCTETAB`. This is the pixel-based correction reference table and without it <br> the algorithm will not work. In order to use the v1.0 pixel based correction, we must retrieve the v1.0 `PCTETAB` and set the header keyword to <br> the proper reference file. In the cells below, we use the `crds sync` command again and then set the `raw` file's `PCTETAB` to the v1.0 <br> reference table, [zcv2057mi_cte.fits](https://hst-crds.stsci.edu/browse/zcv2057mi_cte.fits).\n"
   ]
  },
  {
   "cell_type": "code",
   "execution_count": null,
   "metadata": {},
   "outputs": [],
   "source": [
    "crds_sync = f\"crds sync --hst --files zcv2057mi_cte.fits --output-dir {os.environ['iref']}\"\n",
    "run_sync = os.system(crds_sync)\n",
    "if run_sync != 0:\n",
    "    print(f\"crds sync failed: {run_sync}\")"
   ]
  },
  {
   "cell_type": "markdown",
   "metadata": {},
   "source": [
    "<a id=\"mod_pcte\"></a>\n",
    "## 7.1 Modify the Image Header Keyword, `PCTETAB`"
   ]
  },
  {
   "cell_type": "code",
   "execution_count": null,
   "metadata": {},
   "outputs": [],
   "source": [
    "fits.setval('idv404axq_raw.fits', 'PCTETAB', value='iref$zcv2057mi_cte.fits') "
   ]
  },
  {
   "cell_type": "markdown",
   "metadata": {},
   "source": [
    "<a id=\"reinspect\"></a>\n",
    "## 8. Re-Inspect Image Header \n",
    "Now with the headers modified, we inspect the keywords one last time to verify the file was updated properly before we process <br> it through `calwf3`. At this point you should see:<br> \n",
    "- `PCTETAB` set to `iref$zcv2057mi_cte.fits`<br>\n",
    "- `DRKCFILE` set to `iref$3961719li_dkc.fits`<br>"
   ]
  },
  {
   "cell_type": "code",
   "execution_count": null,
   "metadata": {},
   "outputs": [],
   "source": [
    "# Recollect and display header keywords\n",
    "file, date, expstart, pctetab, drkcfile, pctecorr = [], [], [], [], [], []\n",
    "for f in glob.glob('*raw.fits'):\n",
    "    h = fits.getheader(f)\n",
    "    file.append(h['filename'])\n",
    "    date.append(h['date-obs'])\n",
    "    expstart.append(h['expstart'])\n",
    "    pctetab.append(h['pctetab'])\n",
    "    drkcfile.append(h['drkcfile'])\n",
    "    pctecorr.append(h['pctecorr'])\n",
    "\n",
    "updated_table = Table([file, date, expstart, pctetab, drkcfile, pctecorr],\n",
    "                      names=('file', 'date-obs', 'expstart', 'pctetab', 'drkcfile', 'pctecorr'))\n",
    "updated_table['expstart'].format = '5.6f'\n",
    "\n",
    "# Sort and display the table\n",
    "updated_table.sort('expstart')\n",
    "updated_table"
   ]
  },
  {
   "cell_type": "markdown",
   "metadata": {},
   "source": [
    "<a id=\"runcal\"></a>\n",
    "## 9. Run `calwf3` \n",
    "As a reminder, the `calwf3` version must be `3.5.2` to use the v1.0 pixel-base CTE correction with the most up-to-date calibration parameters. <br> If you are not using version `3.5.2` the below `calwf3` call will crash due to an out-of-date `IMPHTTAB` reference file. <br>"
   ]
  },
  {
   "cell_type": "code",
   "execution_count": null,
   "metadata": {
    "scrolled": true
   },
   "outputs": [],
   "source": [
    "if not os.path.exists('idv404axq_flt.fits'):\n",
    "    calwf3('idv404axq_raw.fits')"
   ]
  },
  {
   "cell_type": "code",
   "execution_count": null,
   "metadata": {},
   "outputs": [],
   "source": [
    "# show list of cwd to verify calibrated files were made\n",
    "!ls -ltr *.fits"
   ]
  },
  {
   "cell_type": "markdown",
   "metadata": {},
   "source": [
    "<a id=\"inspectflc\"></a>\n",
    "## 10. Inspect FLC Image Header\n",
    "To verify that the data was calibrated with the v1.0 pixel-based CTE-correction, header keyword `CAL_VER` should be `3.5.2`,<br> `CTE_VER` should be `1.0`, and `CTE_NAME` should be `pixelCTE 2012`"
   ]
  },
  {
   "cell_type": "code",
   "execution_count": null,
   "metadata": {},
   "outputs": [],
   "source": [
    "# Recollect and display FLC header keywords\n",
    "file, pctetab, drkcfile, pctecorr, calver, ctename, ctever = [], [], [], [], [], [], []\n",
    "for f in glob.glob('*flc.fits'):\n",
    "    h = fits.getheader(f)\n",
    "    file.append(h['filename'])\n",
    "    pctetab.append(h['pctetab'])\n",
    "    drkcfile.append(h['drkcfile'])\n",
    "    pctecorr.append(h['pctecorr'])\n",
    "    calver.append(h['cal_ver'])\n",
    "    ctename.append(h['cte_name'])\n",
    "    ctever.append(h['cte_ver'])\n",
    "\n",
    "final_table = Table([file, pctetab, drkcfile, pctecorr, calver, ctename, ctever],\n",
    "                    names=('file', 'pctetab', 'drkcfile', 'pctecorr', 'cal_ver', 'cte_name', 'cte_ver'))\n",
    "\n",
    "final_table"
   ]
  },
  {
   "cell_type": "markdown",
   "metadata": {},
   "source": [
    "<a id=\"verdiffs\"></a>\n",
    "## 11. Investigate v1.0 and v2.0 Differences \n",
    "Now that we have created a v1.0 CTE corrected image, lets compare it to the same image calibrated with the v2.0 correction.<br> \n",
    "\n",
    "<a id=\"downloadv2.0\"></a>\n",
    "## 11.1 Download the v2.0 FLC File\n",
    "First, we need to download the same FLC file from MAST that is corrected with the v2.0 pixel-based CTE correction so that we can <br> compare it to the v1.0 FLC file we just created in the notebook. In this step we rename the downloaded FLC to `idv404axq_v2.0_flc.fits`."
   ]
  },
  {
   "cell_type": "code",
   "execution_count": null,
   "metadata": {},
   "outputs": [],
   "source": [
    "# Get the observation records\n",
    "obs_table = Observations.query_criteria(obs_id='idv404axq*', proposal_id=15576)\n",
    "\n",
    "# Get the listing of data products\n",
    "products = Observations.get_product_list(obs_table)\n",
    "\n",
    "# Filter the products for the RAW files\n",
    "filtered_products = Observations.filter_products(products, productSubGroupDescription='FLC', project='CALWF3')\n",
    "\n",
    "# Download all the images above\n",
    "download_table = Observations.download_products(filtered_products, mrp_only=False)\n",
    "\n",
    "# For convenience move raws to cwd and remove empty download dir\n",
    "for file in download_table['Local Path']:\n",
    "    filename = file.split('/')[-1][:9]+'_v2.0_flc.fits'\n",
    "    os.rename(file, os.path.basename(filename))\n",
    "    os.rmdir('mastDownload/HST/'+filename[:9])\n",
    "        \n",
    "os.rmdir('mastDownload/HST/')\n",
    "os.rmdir('mastDownload/')"
   ]
  },
  {
   "cell_type": "markdown",
   "metadata": {},
   "source": [
    "<a id=\"openfiles\"></a>\n",
    "## 11.2 Open Files \n",
    "In the cell below, we open each of the different files (FLT, v1.0 and v2.0 FLC) and create full-frame ~4Kx4K arrays. Additionally, <br> we multiply the science arrays by the [pixel area maps](https://www.stsci.edu/hst/instrumentation/wfc3/data-analysis/pixel-area-maps). Due to the geometric distortion  present in WFC3 images, these pixel <br> area maps are necessary to achieve uniformity in the measured counts of an object across the field. The pixel map simply <br> reflects the area of the pixels at the location of the source, and by multiplying the images by this field-dependent correction <br> factor, we will improve the accuracy of the photometry.    "
   ]
  },
  {
   "cell_type": "code",
   "execution_count": null,
   "metadata": {},
   "outputs": [],
   "source": [
    "# Open data and set variables\n",
    "with fits.open('idv404axq_v2.0_flc.fits') as hdu:\n",
    "    v2_uvis1 = hdu[4].data\n",
    "    v2_uvis2 = hdu[1].data\n",
    "with fits.open('idv404axq_flc.fits') as hdu:\n",
    "    v1_uvis1 = hdu[4].data\n",
    "    v1_uvis2 = hdu[1].data \n",
    "with fits.open('idv404axq_flt.fits') as hdu:\n",
    "    flt_uvis1 = hdu[4].data\n",
    "    flt_uvis2 = hdu[1].data \n",
    "    \n",
    "# Load pixel area maps \n",
    "PAM_uvis1 = fits.getdata('example/UVIS1wfc3_map.fits')\n",
    "PAM_uvis2 = fits.getdata('example/UVIS2wfc3_map.fits')\n",
    "\n",
    "# Stich UVIS1 and 2 together and multiply by pixel area map\n",
    "v2sci = np.concatenate([v2_uvis2*PAM_uvis2, v2_uvis1*PAM_uvis1])\n",
    "v1sci = np.concatenate([v1_uvis2*PAM_uvis2, v1_uvis1*PAM_uvis1])\n",
    "fltsci = np.concatenate([flt_uvis2*PAM_uvis2, flt_uvis1*PAM_uvis1])"
   ]
  },
  {
   "cell_type": "markdown",
   "metadata": {},
   "source": [
    "<a id=\"bkgsub\"></a>\n",
    "## 11.3 Display 50x50 Pixel Background Subsection\n",
    "One of the differences between the v1.0 and v2.0 CTE correction is the background level. Here, we show a square 50x50 pixel <br> subsection that is mostly featureless, i.e. no known sources or cosmic ray hits. The v2.0 correction significantly reduces noise <br> amplification and improves the resulting background. To aid in the visual inspection of the background subsection, an animated <br> GIF is included in the notebook that blinks between the v1.0 and v2.0 FLC files. "
   ]
  },
  {
   "cell_type": "code",
   "execution_count": null,
   "metadata": {},
   "outputs": [],
   "source": [
    "# Generate subplots\n",
    "fig, [ax1, ax2, ax3] = plt.subplots(1, 3, figsize=(15, 10), dpi=150)\n",
    "\n",
    "# Generate background subsections\n",
    "flt_bkg = fltsci[2070:2120, 2180:2230]\n",
    "v1_bkg = v1sci[2070:2120, 2180:2230]\n",
    "v2_bkg = v2sci[2070:2120, 2180:2230]\n",
    "\n",
    "# Calculate min and max values for image scaling \n",
    "z = ZScaleInterval()\n",
    "z1, z2 = z.get_limits(v1_bkg)\n",
    "\n",
    "# Display background subsection\n",
    "im1 = ax1.imshow(flt_bkg, origin='lower', cmap='Greys_r', vmin=z1, vmax=z2)\n",
    "im2 = ax2.imshow(v1_bkg, origin='lower', cmap='Greys_r', vmin=z1, vmax=z2)\n",
    "im3 = ax3.imshow(v2_bkg, origin='lower', cmap='Greys_r', vmin=z1, vmax=z2)\n",
    "\n",
    "# Formatting\n",
    "fig.colorbar(im1, ax=ax1, shrink=0.35, pad=0.02)\n",
    "fig.colorbar(im2, ax=ax2, shrink=0.35, pad=0.02)\n",
    "fig.colorbar(im3, ax=ax3, shrink=0.35, pad=0.02)\n",
    "ax1.set_title('FLT File BKG Subsection', size=14)\n",
    "ax2.set_title('v1.0 PCTE FLC BKG Subsection', size=14)\n",
    "ax3.set_title('v2.0 PCTE FLC BKG Subsection', size=14)\n",
    "ax1.axis('off'), ax2.axis('off'), ax3.axis('off')\n",
    "fig.tight_layout()"
   ]
  },
  {
   "cell_type": "markdown",
   "metadata": {},
   "source": [
    "<div style=\"text-align: left\"> <strong> <font size =\"4\">Animated GIF of the v1.0 and v2.0 FLC image subsections: </font> </strong> </div>\n",
    "\n",
    "<img align=\"left\" width=\"800\" height=\"800\" src=\"example/v1_v2_bkg.gif\" alt=\"An animated gif blinking between a subsection of background sky using the v1.0 and V2.0 pixel-based CTE corrections. The v2.0 background appears smoother with less noise and pixel variations.\">\n"
   ]
  },
  {
   "cell_type": "markdown",
   "metadata": {},
   "source": [
    "<a id=\"bkgdist\"></a>\n",
    "## 11.3.1 Pixel Distribution of Background Subsections\n",
    "To gain a more quantitative picture of how the background pixels are changing between the different file versions, we plot <br>the distribution of pixel values from the 50x50 pixel subsection above. The increased noise level in the v1.0 correction is <br> apparent in the blue histogram below. In addition, we have also computed the difference between the file types and have <br> plotted them as histograms. These two plots illustrates how the background in the v2.0 CTE corrected image is less noisy <br> and more in-line with the values seen in the FLT image.    "
   ]
  },
  {
   "cell_type": "code",
   "execution_count": null,
   "metadata": {},
   "outputs": [],
   "source": [
    "# Generate subplots\n",
    "fig, [ax1, ax2] = plt.subplots(2, 1, figsize=(7, 10), dpi=120)\n",
    "\n",
    "# Plot background subsection histograms\n",
    "ax1.hist(flt_bkg.ravel(), bins=100, range=(-30, 100), histtype='step', color='C3', label='FLT')\n",
    "ax1.hist(v1_bkg.ravel(), bins=100, range=(-30, 100), histtype='step', color='C0', label='v1.0 FLC')\n",
    "ax1.hist(v2_bkg.ravel(), bins=100, range=(-30, 100), histtype='step', color='k', label='v2.0 FLC')\n",
    "\n",
    "# Plot background subsection differential histograms\n",
    "ax2.hist((v1_bkg-flt_bkg).ravel(), bins=100, range=(-25, 50), histtype='step', color='magenta', label='v1.0 FLC $-$ FLT')\n",
    "ax2.hist((v2_bkg-flt_bkg).ravel(), bins=100, range=(-25, 50), histtype='step', color='limegreen', label='v2.0 FLC $-$ FLT')\n",
    "ax2.hist((v1_bkg-v2_bkg).ravel(), bins=100, range=(-25, 50), histtype='step', color='C9', label='v1.0 $-$ v2.0 FLC')\n",
    "\n",
    "# Formatting\n",
    "ax1.set_title('Background Subsection Histogram', size=14)\n",
    "ax2.set_title('Background Subsection Differential Histogram', size=14)\n",
    "ax1.set_xlabel('Pixel Value [e-]', size=12)\n",
    "ax1.set_ylabel('Frequency', size=12)\n",
    "ax2.set_xlabel('Pixel Value [e-]', size=12)\n",
    "ax2.set_ylabel('Frequency', size=12)\n",
    "ax1.grid(alpha=0.5), ax2.grid(alpha=0.5)\n",
    "ax1.legend(), ax2.legend()\n",
    "ax1.set_yscale('log')\n",
    "ax2.set_yscale('log')\n",
    "fig.tight_layout()"
   ]
  },
  {
   "cell_type": "markdown",
   "metadata": {},
   "source": [
    "<a id=\"imgsub\"></a>\n",
    "## 11.4 Display Image Subsection\n",
    "Another difference between the v1.0 and v2.0 pixel-based CTE model is the amount of correction applied to fainter sources. <br> In order to reduce noise amplification, the fluxes of faint sources only receive a limited amount of correction in the v2.0 version. <br> We again provide an animated GIF of the two subsections to aid with the visual comparison. "
   ]
  },
  {
   "cell_type": "code",
   "execution_count": null,
   "metadata": {
    "tags": []
   },
   "outputs": [],
   "source": [
    "# Generate subplots\n",
    "fig, [ax1, ax2] = plt.subplots(2, 1, figsize=(8, 8), dpi=150)\n",
    "\n",
    "# Calculate min and max values for image scaling \n",
    "z = ZScaleInterval()\n",
    "z1, z2 = z.get_limits(v1_uvis1)\n",
    "\n",
    "# Display subsection\n",
    "im1 = ax1.imshow(v1_uvis1, origin='lower', cmap='Greys_r', vmin=z1, vmax=z2)\n",
    "im2 = ax2.imshow(v2_uvis1, origin='lower', cmap='Greys_r', vmin=z1, vmax=z2)\n",
    "\n",
    "# Formatting\n",
    "ax1.set_xlim(85, 325), ax2.set_xlim(85, 325)\n",
    "ax1.set_ylim(0, 149), ax2.set_ylim(0, 149)\n",
    "fig.colorbar(im1, ax=ax1, shrink=0.95, pad=0.01)\n",
    "fig.colorbar(im2, ax=ax2, shrink=0.95, pad=0.01)\n",
    "ax1.set_title('v1.0 PCTE FLC UVIS1 Subsection', size=14)\n",
    "ax2.set_title('v2.0 PCTE FLC UVIS1 Subsection', size=14)\n",
    "fig.tight_layout()"
   ]
  },
  {
   "cell_type": "markdown",
   "metadata": {},
   "source": [
    "<div style=\"text-align: left\"> <strong> <font size =\"4\">Animated GIF of the v1.0 and v2.0 FLC image subsections: </font> </strong> </div>\n",
    "<img align=\"left\" width=\"975\" height=\"975\" src=\"example/v1_v2_subsection.gif\">"
   ]
  },
  {
   "cell_type": "markdown",
   "metadata": {},
   "source": [
    "<a id=\"apphot\"></a>\n",
    "## 11.5 Aperture Photometry \n",
    "To show the quantitative difference in the observed flux of sources between the v1.0 and v2.0 pixel-based CTE correction,<br> we perform aperture photometry on six stars of varying brightness within the image subsection above. Here, we display the <br> image subsection again with the apertures, annuli, and star labels overplotted. This subsection includes the first ~150 rows <br> of UVIS 1, which means all of these stars suffer the most CTE flux loss as they transfer 1900+ rows to the readout amplifier.   "
   ]
  },
  {
   "cell_type": "markdown",
   "metadata": {},
   "source": [
    "<img align=\"left\" width=\"900\" height=\"900\" src=\"example/apphot_image.png\">"
   ]
  },
  {
   "cell_type": "markdown",
   "metadata": {},
   "source": [
    "First, we approximate the center x and y positions of the stars in the 4Kx4K science arrays, and create the apertures and <br> annuli using `photutils`. <br>\n",
    "\n",
    "Then, we use `photutils` to measure the signal in each area and subtract the background values in the annuli from the <br>aperture sum values. We define a function named `get_flux()` to do this for us."
   ]
  },
  {
   "cell_type": "code",
   "execution_count": null,
   "metadata": {},
   "outputs": [],
   "source": [
    "def get_flux(data, aperture, annulus_aperture):\n",
    "    \"\"\"\n",
    "    Function to calculate background subtracted aperture sum \n",
    "    \n",
    "    Parameters:\n",
    "    -----------\n",
    "    data : float array\n",
    "        The 2d array of science pixels being measured\n",
    "    aperture : photutils obj\n",
    "        A photutils aperture object with defined position and radius\n",
    "    annulus_aperture : photutils obj\n",
    "        A photutils circular annulus aperture object with defined position and radii\n",
    "        \n",
    "    Return:\n",
    "    -------\n",
    "    flux : float\n",
    "        The measured background subtracted aperture sum \n",
    "    \"\"\"\n",
    "    \n",
    "    # Generate photutils.aperture_photometry table object\n",
    "    phot = aperture_photometry(data, aperture)\n",
    "    \n",
    "    # Measure background around sources. aperture_stats_tbl() comes from background_median.py\n",
    "    bkg_phot = aperture_stats_tbl(data, annulus_aperture, method='exact', sigma_clip=True)\n",
    "    \n",
    "    # Calculate background subtracted aperture sum\n",
    "    flux = phot['aperture_sum'] - bkg_phot['aperture_median'] * aperture.area\n",
    "    \n",
    "    return flux\n",
    "\n",
    "\n",
    "# Approximate x,y pixel locations of each star in the 4Kx4K array\n",
    "positions = [(299.4, 2135.6),\n",
    "             (114.7, 2093.4),\n",
    "             (171.3, 2074.9),\n",
    "             (262.6, 2164.9),\n",
    "             (289.1, 2085.6),\n",
    "             (204.8, 2073.1)]\n",
    "\n",
    "# Photutils cirular aperture object with small radius\n",
    "aperture = CircularAperture(positions, r=3)\n",
    "\n",
    "# Photutils circular annulus aperture object \n",
    "annulus_aperture = CircularAnnulus(positions, r_in=13, r_out=19)\n",
    "\n",
    "# Call function to calculate flux of stars\n",
    "# THE RUNTIME WARNING MAY BE IGNORED\n",
    "fltflux = get_flux(fltsci, aperture, annulus_aperture)\n",
    "v1flux = get_flux(v1sci, aperture, annulus_aperture)\n",
    "v2flux = get_flux(v2sci, aperture, annulus_aperture)"
   ]
  },
  {
   "cell_type": "markdown",
   "metadata": {},
   "source": [
    "<div class=\"alert alert-block alert-warning\" style=\"color:black\" > <b> You can ignore the <code>RuntimeWarning: invalid value encountered in true_divide</code> message.</b> <br> </div>\n",
    "    "
   ]
  },
  {
   "cell_type": "markdown",
   "metadata": {},
   "source": [
    "Finally, we plot our results.<br>\n",
    "\n",
    "The first plot below shows the measured flux of the six stars in each of the different calibrated products. Stars 1-6 are organized <br> by increasing flux, with Star 1 being the faintest and Star 6 being the brightest. The x-axis values correspond to the median flux <br> value measured in each of the three different files (FLT, v1.0, and v2.0) per star. The y-axis values show the individual flux values <br> for each star where the different colors and symbols represent the three file types. For example, the individual flux values (y-axis) <br> of Star 1 for the FLT, v1.0, and v2.0 files are ~2467, 3056, and 2799 e- respectively. The median of the three values is ~2799 e-, <br> which is the value plotted on the x-axis. The second plot illustrates the percent differences between the three different <br> flux values per star, and uses the same x-axis values as the first plot. <br> \n",
    "\n",
    "The FLT files have no CTE correction applied and thus have the lowest measured flux for each star due to the CTE flux loss. <br> Stars 1-4 have noticably different flux values between the v1.0 and v2.0 CTE corrections. In v1.0, the CTE algorithm is actually <br> over-correcting these fainter sources resulting in higher aperture photometry measurements. The flux values for stars 1-4 range <br> from  ~3000 - 10000 e- within a 3-pixel radius aperture. The flux values between the v1.0 and v2.0 CTE corrections for stars <br> 1-4 have percent differences of ~9 - 4%. Sources with more than ~10000 e- within a 3-pixel aperture (stars 5 & 6) have more <br> compareable flux values between the v1.0 and v2.0 CTE corrections, and have percent differences less than 2%."
   ]
  },
  {
   "cell_type": "code",
   "execution_count": null,
   "metadata": {},
   "outputs": [],
   "source": [
    "# Generate subplots\n",
    "fig, [ax1, ax2] = plt.subplots(2, 1, figsize=(8, 13), dpi=120)\n",
    "ax1.grid(alpha=0.5), ax2.grid(alpha=0.5)\n",
    "\n",
    "# Find median flux values between products\n",
    "medflux = np.median([fltflux, v1flux, v2flux], axis=0)\n",
    "\n",
    "# Scatter plot of measured flux\n",
    "ax1.scatter(medflux, fltflux, 25, marker='o', c='C3', label='FLT')\n",
    "ax1.scatter(medflux, v1flux, 30, marker='^', c='C0', label='v1.0 FLC')\n",
    "ax1.scatter(medflux, v2flux, 45, marker='*', c='k', label='v2.0 FLC')\n",
    "\n",
    "# Scatter plot of percentage difference\n",
    "ax2.scatter(medflux, abs((fltflux-v1flux))/((fltflux+v1flux)/2)*100, 30,\n",
    "            marker='^', c='magenta', label=r'$\\frac{|FLT - v1.0|}{(FLT + v1.0) ÷ 2}$')\n",
    "ax2.scatter(medflux, abs((fltflux-v2flux))/((fltflux+v2flux)/2)*100, 45,\n",
    "            marker='*', c='limegreen', label=r'$\\frac{|FLT - v2.0|}{(FLT + v2.0) ÷ 2}$')\n",
    "ax2.scatter(medflux, abs((v1flux-v2flux))/((v1flux+v2flux)/2)*100, 25,\n",
    "            marker='s', c='C9', label=r'$\\frac{|v1.0 - v2.0|}{(v1.0 + v2.0) ÷ 2}$')\n",
    "\n",
    "# Formatting \n",
    "ax1.set_title('Measured Flux Within 3-pix Radius Aperture', size=14)\n",
    "ax1.set_xlabel('Median Flux [e-]', size=12)\n",
    "ax1.set_ylabel('Flux [e-]', size=12)\n",
    "ax2.set_xlabel('Median Flux [e-]', size=12)\n",
    "ax2.set_ylabel('Percent Difference [%]', size=12)\n",
    "ax1.legend(prop={'size': 11}), ax2.legend(prop={'size': 15})\n",
    "ax1.set_yscale('log')"
   ]
  },
  {
   "cell_type": "markdown",
   "metadata": {},
   "source": [
    "<a id=\"conclude\"></a>\n",
    "## 12. Conclusions\n",
    "\n",
    "Thank you for walking through this notebook. You now have everything you need to process your own files with the v1.0 CTE <br>correction within `calwf3`. Since completing this notebook you should be more familiar with:\n",
    "\n",
    "- Applying the v1.0 pixel-based CTE correction to 2009-2021 UVIS data.\n",
    "- Which header keywords of the `raw` fits file to edit in order to use the v1.0 correction.\n",
    "- How to find and download the appropriate `PCTETAB` and `DRKCFILE` reference files.\n",
    "- Verifying your version of `calwf3` and calibrating a `raw` file with the v1.0 CTE correction.\n",
    "- Investigating the differences between v1.0 and v2.0 CTE corrected files.\n",
    "\n",
    "### Congratulations, you have completed the notebook!"
   ]
  },
  {
   "cell_type": "markdown",
   "metadata": {},
   "source": [
    "<a id=\"resources\"></a>\n",
    "## Additional Resources\n",
    "Below are some additional resources that may be helpful. Please feel free to contact the [WFC3 Helpdesk](https://stsci.service-now.com/hst) for any questions.\n",
    "\n",
    "- [WFC3 CTE Website](https://www.stsci.edu/hst/instrumentation/wfc3/performance/cte)\n",
    "- [HSTCAL GitHub](https://github.com/spacetelescope/hstcal)\n",
    "- [Calwf3 Documentation](https://wfc3tools.readthedocs.io/en/latest/wfc3tools/calwf3.html)\n",
    "- [WFC3 Website](https://www.stsci.edu/hst/instrumentation/wfc3)\n",
    "- [WFC3 Instrument Handbook](https://hst-docs.stsci.edu/wfc3ihb)\n",
    "- [WFC3 Data Handbook](https://hst-docs.stsci.edu/wfc3dhb)\n",
    "- [STScI Jupyter-notebooks](https://github.com/spacetelescope/hst_notebooks)\n",
    "- [STScI Astroconda Channel](http://ssb.stsci.edu/astroconda)\n",
    "\n",
    "<a id=\"about\"></a>\n",
    "## About this Notebook\n",
    "\n",
    "**Author:** Benjamin Kuhn; WFC3 Instrument Team <br>\n",
    "**Created:** February 22, 2022 <br>\n",
    "**Last updated on:** November 15, 2023\n",
    "\n",
    "<a id=\"cite\"></a>\n",
    "## Citations\n",
    "\n",
    "If you use `astropy`, `astroquery`, `numpy`, `matplotlib`, `photutils`, or `scipy` for published research, please cite the authors.<br>\n",
    "Follow these links for more information about citing the libraries below:\n",
    "\n",
    "* [Citing `astropy`](https://www.astropy.org/acknowledging.html)\n",
    "* [Citing `astroquery`](https://github.com/astropy/astroquery/blob/main/astroquery/CITATION)\n",
    "* [Citing `matplotlib`](https://matplotlib.org/stable/users/project/citing.html)\n",
    "* [Citing `numpy`](https://numpy.org/citing-numpy/)\n",
    "* [Citing `photutils`](https://photutils.readthedocs.io/en/stable/citation.html)\n",
    "* [Citing `scipy`](https://scipy.org/citing-scipy/)\n",
    "<br>\n",
    "***\n",
    "[Top of Page](#top)\n",
    "<img style=\"float: right;\" src=\"https://raw.githubusercontent.com/spacetelescope/notebooks/master/assets/stsci_pri_combo_mark_horizonal_white_bkgd.png\" alt=\"Space Telescope Logo\" width=\"200px\"/> "
   ]
  }
 ],
 "metadata": {
  "kernelspec": {
   "display_name": "Python 3 (ipykernel)",
   "language": "python",
   "name": "python3"
  },
  "language_info": {
   "codemirror_mode": {
    "name": "ipython",
    "version": 3
   },
   "file_extension": ".py",
   "mimetype": "text/x-python",
   "name": "python",
   "nbconvert_exporter": "python",
   "pygments_lexer": "ipython3",
   "version": "3.11.0"
  },
  "varInspector": {
   "cols": {
    "lenName": 16,
    "lenType": 16,
    "lenVar": 40
   },
   "kernels_config": {
    "python": {
     "delete_cmd_postfix": "",
     "delete_cmd_prefix": "del ",
     "library": "var_list.py",
     "varRefreshCmd": "print(var_dic_list())"
    },
    "r": {
     "delete_cmd_postfix": ") ",
     "delete_cmd_prefix": "rm(",
     "library": "var_list.r",
     "varRefreshCmd": "cat(var_dic_list()) "
    }
   },
   "types_to_exclude": [
    "module",
    "function",
    "builtin_function_or_method",
    "instance",
    "_Feature"
   ],
   "window_display": false
  }
 },
 "nbformat": 4,
 "nbformat_minor": 4
}
