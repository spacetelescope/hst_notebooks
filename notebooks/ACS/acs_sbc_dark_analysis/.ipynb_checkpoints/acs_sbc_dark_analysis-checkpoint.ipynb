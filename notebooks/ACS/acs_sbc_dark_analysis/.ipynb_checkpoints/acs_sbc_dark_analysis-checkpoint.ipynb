{
 "cells": [
  {
   "cell_type": "markdown",
   "metadata": {},
   "source": [
    "<div class=\"alert alert-block alert-warning\">\n",
    "<b>REQUIREMENT:</b>\n",
    "    Before proceeding, install or update your\n",
    "    <b><a class=\"divlink\" href=\"https://astroconda.readthedocs.io\">\n",
    "    AstroConda\n",
    "    </a></b>\n",
    "     distribution. The code cells below may not work properly with older versions of AstroConda.\n",
    "</div>"
   ]
  },
  {
   "cell_type": "markdown",
   "metadata": {
    "nbpresent": {
     "id": "0d33cc02-bd22-422e-974b-893db4bc8a2e"
    }
   },
   "source": [
    "# SBC Dark Analysis\n",
    "\n",
    "\n",
    "## Introduction\n",
    "***\n",
    "\n",
    "This notebook has been prepared as a demo on how to perform aperture photometry in SBC images that contain an elevated dark rate. This problem arises when the detector temperature goes above ~25 ºC. \n",
    "\n",
    "More information on the dark rate can be found in [ISR ACS 2017-04](http://www.stsci.edu/hst/acs/documents/isrs/isr1704.pdf) (Avila 2017).\n",
    "\n",
    "### This tutorial will show you how to...\n",
    "\n",
    "#### 1. [Identify Images with Significant Dark Current](#_identify) \n",
    "\n",
    "* Open files and extract information\n",
    "* Organize information in a table\n",
    "* Sort table by temperature\n",
    "\n",
    "#### 2. [Combine Science Images](#_scidrizzle)\n",
    "\n",
    "* Use `AstroDrizzle` with ASN files to combine images.\n",
    "\n",
    "#### 3. [Combined Dark Images](#_drkdrizzle)\n",
    "\n",
    "* Identify which dark images to use for your data.\n",
    "* Use `AstroDrizzle` to combine dark images.\n",
    "\n",
    "#### 4. [Perform Photometry](#photometry)\n",
    "\n",
    "* Subtract dark current from science images using aperture photometry"
   ]
  },
  {
   "cell_type": "markdown",
   "metadata": {},
   "source": [
    "## Imports\n",
    "***\n",
    "\n",
    "Here we list the Python packages used in this notebook. Links to the documentation for each module is provided for convenience.\n",
    "\n",
    "| Package Name     | module           | docs          | used for    |\n",
    "|------------------|:-----------------|:-------------:|:------------|\n",
    "| `os`             | `system`           | <a class=\"divlink\" href=\"https://docs.python.org/2/library/os.html#os.system\">link</a>|command line input|\n",
    "| `os`             | `environ`          | <a class=\"divlink\" href=\"https://docs.python.org/2/library/os.html#os.environ\">link</a>| setting environments |\n",
    "|`shutil`          | `rmtree`           | <a class=\"divlink\" href=\"https://docs.python.org/2/library/shutil.html#shutil.rmtree\">link</a>| remove directory tree |\n",
    "|`glob`            | `glob`             | <a class=\"divlink\" href=\"https://docs.python.org/2/library/glob.html#glob.glob\">link</a>| search for files based on Unix shell rules |\n",
    "|`astropy.io`      | `fits`             | <a class=\"divlink\" href=\"http://docs.astropy.org/en/stable/io/fits/\">link</a>| access and update fits files\n",
    "|`astropy.table`   | `Table`            | <a class=\"divlink\" href=\"http://docs.astropy.org/en/stable/table/\">link</a>| constructing and editing in a tabular format\n",
    "|`numpy`           | `_s`               | <a class=\"divlink\" href=\"https://docs.scipy.org/doc/numpy-1.13.0/reference/generated/numpy.s_.html\">link</a>| functions for array handling and operations\n",
    "|`astroquery.mast` |`Observations`      | <a class=\"divlink\" href=\"https://astroquery.readthedocs.io/en/latest/mast/mast.html\">link</a>| download data from MAST\n",
    "|`stwcs`           |`updatewcs`         | <a class=\"divlink\" href=\"https://stwcs.readthedocs.io/en/latest/updatewcs_ui.html\">link</a>| update wcs solution\n",
    "|`drizzlepac`      |`astrodrizzle`      | <a class=\"divlink\" href=\"https://drizzlepac.readthedocs.io/en/deployment/astrodrizzle.html\">link</a>| drizzle combine images\n",
    "|`acs_pypack`      |`notebook_tools`    | N/A | convenience functions written for the purpose of this notebook\n",
    "|`matplotlib`      |`pyplot`            | <a class=\"divlink\" href=\"https://matplotlib.org/api/pyplot_api.html\">link</a>| plotting functions\n",
    "|`matplotlib`      |`colors.LogNorm`    | <a class=\"divlink\" href=\"https://matplotlib.org/api/_as_gen/matplotlib.colors.LogNorm.html#matplotlib.colors.LogNorm\">link</a>| data normalization used for contrast plotting\n",
    "|`photutils`       |`EllipticalAperture`| <a class=\"divlink\" href=\"https://photutils.readthedocs.io/en/stable/api/photutils.EllipticalAperture.html\">link</a>| construct aperture object for plotting"
   ]
  },
  {
   "cell_type": "code",
   "execution_count": 2,
   "metadata": {
    "nbpresent": {
     "id": "6c8b2858-62fe-40bd-a114-8257661e0b0b"
    }
   },
   "outputs": [
    {
     "name": "stdout",
     "output_type": "stream",
     "text": [
      "The following task in the stsci.skypac package can be run with TEAL:\n",
      "                                    skymatch                                    \n",
      "The following tasks in the drizzlepac package can be run with TEAL:\n",
      "    astrodrizzle       imagefindpars           mapreg              photeq       \n",
      "     pixreplace           pixtopix            pixtosky        refimagefindpars  \n",
      "     resetbits          runastrodriz          skytopix           tweakback      \n",
      "      tweakreg           updatenpol\n"
     ]
    }
   ],
   "source": [
    "import os\n",
    "import shutil\n",
    "import glob\n",
    "\n",
    "from astroquery.mast import Observations\n",
    "from drizzlepac.astrodrizzle import AstroDrizzle as adriz\n",
    "from astropy.io import fits\n",
    "from astropy.table import Table\n",
    "\n",
    "from astropy.io import fits\n",
    "from astropy import wcs\n",
    "\n",
    "from matplotlib.colors import LogNorm\n",
    "import matplotlib.pyplot as plt\n",
    "import numpy as np\n",
    "\n",
    "from photutils import EllipticalAperture\n",
    "from photutils import aperture_photometry"
   ]
  },
  {
   "cell_type": "markdown",
   "metadata": {
    "nbpresent": {
     "id": "71a61091-6c4e-4567-880e-8d9908e4dfa4"
    }
   },
   "source": [
    "## Download the Data\n",
    "***\n",
    "\n",
    "Here we download all of the data required for this notebook. This is an important step! Some of the image processing steps require all relevant files to be in the working directory. We recommend working with a brand new directory for every new set of data.\n",
    "\n",
    "Using the python package `astroquery`, we can retreive files from the [MAST](http://archive.stsci.edu) archive.\n",
    "\n",
    "#### [GO Proposal 13655](https://stdatu.stsci.edu/proposal_search.php?mission=hst&id=13655): \"How Lyman alpha bites/beats the dust\"\n",
    "\n",
    "First, we will grab the FLT and ASN files from program 13655. For this example, we only want to retreive the files from visit 11 of this program. We will specify program ID 'JCMC' along with observation set ID '11'."
   ]
  },
  {
   "cell_type": "code",
   "execution_count": 3,
   "metadata": {},
   "outputs": [
    {
     "name": "stdout",
     "output_type": "stream",
     "text": [
      "Downloading URL https://mast.stsci.edu/api/v0/download/file?uri=mast:HST/product/jcmc11010_asn.fits to ./mastDownload/HST/jcmc11010/jcmc11010_asn.fits ... [Done]\n",
      "Downloading URL https://mast.stsci.edu/api/v0/download/file?uri=mast:HST/product/jcmc11ctq_flt.fits to ./mastDownload/HST/jcmc11ctq/jcmc11ctq_flt.fits ... [Done]\n",
      "Downloading URL https://mast.stsci.edu/api/v0/download/file?uri=mast:HST/product/jcmc11e6q_flt.fits to ./mastDownload/HST/jcmc11e6q/jcmc11e6q_flt.fits ... [Done]\n",
      "Downloading URL https://mast.stsci.edu/api/v0/download/file?uri=mast:HST/product/jcmc11030_asn.fits to ./mastDownload/HST/jcmc11030/jcmc11030_asn.fits ... [Done]\n",
      "Downloading URL https://mast.stsci.edu/api/v0/download/file?uri=mast:HST/product/jcmc11cxq_flt.fits to ./mastDownload/HST/jcmc11cxq/jcmc11cxq_flt.fits ... [Done]\n",
      "Downloading URL https://mast.stsci.edu/api/v0/download/file?uri=mast:HST/product/jcmc11dsq_flt.fits to ./mastDownload/HST/jcmc11dsq/jcmc11dsq_flt.fits ... [Done]\n",
      "Downloading URL https://mast.stsci.edu/api/v0/download/file?uri=mast:HST/product/jcmc11020_asn.fits to ./mastDownload/HST/jcmc11020/jcmc11020_asn.fits ... [Done]\n",
      "Downloading URL https://mast.stsci.edu/api/v0/download/file?uri=mast:HST/product/jcmc11cwq_flt.fits to ./mastDownload/HST/jcmc11cwq/jcmc11cwq_flt.fits ... [Done]\n",
      "Downloading URL https://mast.stsci.edu/api/v0/download/file?uri=mast:HST/product/jcmc11dtq_flt.fits to ./mastDownload/HST/jcmc11dtq/jcmc11dtq_flt.fits ... [Done]\n",
      "Downloading URL https://mast.stsci.edu/api/v0/download/file?uri=mast:HST/product/jcmc11040_asn.fits to ./mastDownload/HST/jcmc11040/jcmc11040_asn.fits ... [Done]\n",
      "Downloading URL https://mast.stsci.edu/api/v0/download/file?uri=mast:HST/product/jcmc11deq_flt.fits to ./mastDownload/HST/jcmc11deq/jcmc11deq_flt.fits ... [Done]\n",
      "Downloading URL https://mast.stsci.edu/api/v0/download/file?uri=mast:HST/product/jcmc11dhq_flt.fits to ./mastDownload/HST/jcmc11dhq/jcmc11dhq_flt.fits ... [Done]\n"
     ]
    }
   ],
   "source": [
    "science_list = Observations.query_criteria(proposal_id='13655', obs_id='JCMC11*')\n",
    "\n",
    "sci_dl_table = Observations.download_products(science_list['obsid'], \n",
    "                                              productSubGroupDescription=['ASN', 'FLT'],\n",
    "                                              mrp_only=False)"
   ]
  },
  {
   "cell_type": "markdown",
   "metadata": {},
   "source": [
    "#### [GO Proposal 13961](https://stdatu.stsci.edu/proposal_search.php?mission=hst&id=13961): \"SBC Dark Current Measurement\"\n",
    "\n",
    "Here we download the RAW dark frames from the calibration program 13961."
   ]
  },
  {
   "cell_type": "markdown",
   "metadata": {},
   "source": [
    "<font color=red>How do they know which calibration program to go to for these darks?</font>"
   ]
  },
  {
   "cell_type": "code",
   "execution_count": 4,
   "metadata": {},
   "outputs": [
    {
     "name": "stdout",
     "output_type": "stream",
     "text": [
      "Downloading URL https://mast.stsci.edu/api/v0/download/file?uri=mast:HST/product/jcrx01ixq_raw.fits to ./mastDownload/HST/jcrx01ixq/jcrx01ixq_raw.fits ... [Done]\n",
      "Downloading URL https://mast.stsci.edu/api/v0/download/file?uri=mast:HST/product/jcrx01iyq_raw.fits to ./mastDownload/HST/jcrx01iyq/jcrx01iyq_raw.fits ... [Done]\n",
      "Downloading URL https://mast.stsci.edu/api/v0/download/file?uri=mast:HST/product/jcrx01j0q_raw.fits to ./mastDownload/HST/jcrx01j0q/jcrx01j0q_raw.fits ... [Done]\n",
      "Downloading URL https://mast.stsci.edu/api/v0/download/file?uri=mast:HST/product/jcrx01j1q_raw.fits to ./mastDownload/HST/jcrx01j1q/jcrx01j1q_raw.fits ... [Done]\n",
      "Downloading URL https://mast.stsci.edu/api/v0/download/file?uri=mast:HST/product/jcrx01j2q_raw.fits to ./mastDownload/HST/jcrx01j2q/jcrx01j2q_raw.fits ... [Done]\n",
      "Downloading URL https://mast.stsci.edu/api/v0/download/file?uri=mast:HST/product/jcrx01iiq_raw.fits to ./mastDownload/HST/jcrx01iiq/jcrx01iiq_raw.fits ... [Done]\n",
      "Downloading URL https://mast.stsci.edu/api/v0/download/file?uri=mast:HST/product/jcrx01ijq_raw.fits to ./mastDownload/HST/jcrx01ijq/jcrx01ijq_raw.fits ... [Done]\n",
      "Downloading URL https://mast.stsci.edu/api/v0/download/file?uri=mast:HST/product/jcrx01ikq_raw.fits to ./mastDownload/HST/jcrx01ikq/jcrx01ikq_raw.fits ... [Done]\n",
      "Downloading URL https://mast.stsci.edu/api/v0/download/file?uri=mast:HST/product/jcrx01ilq_raw.fits to ./mastDownload/HST/jcrx01ilq/jcrx01ilq_raw.fits ... [Done]\n",
      "Downloading URL https://mast.stsci.edu/api/v0/download/file?uri=mast:HST/product/jcrx01imq_raw.fits to ./mastDownload/HST/jcrx01imq/jcrx01imq_raw.fits ... [Done]\n",
      "Downloading URL https://mast.stsci.edu/api/v0/download/file?uri=mast:HST/product/jcrx01isq_raw.fits to ./mastDownload/HST/jcrx01isq/jcrx01isq_raw.fits ... [Done]\n",
      "Downloading URL https://mast.stsci.edu/api/v0/download/file?uri=mast:HST/product/jcrx01itq_raw.fits to ./mastDownload/HST/jcrx01itq/jcrx01itq_raw.fits ... [Done]\n",
      "Downloading URL https://mast.stsci.edu/api/v0/download/file?uri=mast:HST/product/jcrx01iuq_raw.fits to ./mastDownload/HST/jcrx01iuq/jcrx01iuq_raw.fits ... [Done]\n",
      "Downloading URL https://mast.stsci.edu/api/v0/download/file?uri=mast:HST/product/jcrx01ivq_raw.fits to ./mastDownload/HST/jcrx01ivq/jcrx01ivq_raw.fits ... [Done]\n",
      "Downloading URL https://mast.stsci.edu/api/v0/download/file?uri=mast:HST/product/jcrx01iwq_raw.fits to ./mastDownload/HST/jcrx01iwq/jcrx01iwq_raw.fits ... [Done]\n",
      "Downloading URL https://mast.stsci.edu/api/v0/download/file?uri=mast:HST/product/jcrx01inq_raw.fits to ./mastDownload/HST/jcrx01inq/jcrx01inq_raw.fits ... [Done]\n",
      "Downloading URL https://mast.stsci.edu/api/v0/download/file?uri=mast:HST/product/jcrx01ioq_raw.fits to ./mastDownload/HST/jcrx01ioq/jcrx01ioq_raw.fits ... [Done]\n",
      "Downloading URL https://mast.stsci.edu/api/v0/download/file?uri=mast:HST/product/jcrx01ipq_raw.fits to ./mastDownload/HST/jcrx01ipq/jcrx01ipq_raw.fits ... [Done]\n",
      "Downloading URL https://mast.stsci.edu/api/v0/download/file?uri=mast:HST/product/jcrx01iqq_raw.fits to ./mastDownload/HST/jcrx01iqq/jcrx01iqq_raw.fits ... [Done]\n",
      "Downloading URL https://mast.stsci.edu/api/v0/download/file?uri=mast:HST/product/jcrx01irq_raw.fits to ./mastDownload/HST/jcrx01irq/jcrx01irq_raw.fits ... [Done]\n"
     ]
    }
   ],
   "source": [
    "darks_list = Observations.query_criteria(proposal_id='13961', obstype='cal')\n",
    "\n",
    "drk_dl_table = Observations.download_products(darks_list['obsid'],\n",
    "                                              productSubGroupDescription=['RAW'],\n",
    "                                              mrp_only=False)"
   ]
  },
  {
   "cell_type": "markdown",
   "metadata": {},
   "source": [
    "We'll use the packages `os` and `shutil` to put all of these files in our working directory for convenience and do a little housekeeping.Placing those images in the same directory as this notebook..."
   ]
  },
  {
   "cell_type": "code",
   "execution_count": 5,
   "metadata": {},
   "outputs": [],
   "source": [
    "for dl_table in [sci_dl_table, drk_dl_table]:\n",
    "    \n",
    "    for row in dl_table:\n",
    "        oldfname = row['Local Path']\n",
    "        newfname = os.path.basename(oldfname)\n",
    "        os.rename(oldfname, newfname)\n",
    "\n",
    "shutil.rmtree('mastDownload/')"
   ]
  },
  {
   "cell_type": "markdown",
   "metadata": {},
   "source": [
    "Setting our files to variable names for convenience using `glob.glob`."
   ]
  },
  {
   "cell_type": "code",
   "execution_count": 6,
   "metadata": {},
   "outputs": [],
   "source": [
    "asn_list = glob.glob('*_asn.fits')\n",
    "flt_list = glob.glob('*_flt.fits')\n",
    "drk_list = glob.glob('*_raw.fits')"
   ]
  },
  {
   "cell_type": "markdown",
   "metadata": {},
   "source": [
    "## File Information\n",
    "\n",
    "***\n",
    "\n",
    "For more information, refer to Section <a class=\"divlink\" href=\"http://www.stsci.edu/hst/acs/documents/handbooks/currentDHB/acs_Ch23.html\">Section 2.2</a> of the ACS Data Handbook.\n",
    "\n",
    "### Association Files\n",
    "\n",
    "Association files only contain one extension which lists associated files and their types.\n",
    "\n",
    "| Ext    | Name             | Type         | Contains                                               |\n",
    "|--------|------------------|--------------|:-------------------------------------------------------|\n",
    "|<b>0</b>| PRIMARY          | (PrimaryHDU) | Meta-data related to the entire file.                  |\n",
    "|<b>1</b>| ASN (Association)| (BinTableHDU)| Table of files associated with this group.             |"
   ]
  },
  {
   "cell_type": "markdown",
   "metadata": {},
   "source": [
    "### Raw Files\n",
    "\n",
    "A standard raw image file from the SBC has the same structure as you'd expect from full frame observation from ACS.\n",
    "\n",
    "| Ext    | Name             | Type         | Contains                                               |\n",
    "|--------|------------------|--------------|:-------------------------------------------------------|\n",
    "|<b>0</b>| PRIMARY          | (PrimaryHDU) | Meta-data related to the entire file.                  |\n",
    "|<b>1</b>| SCI (Image)      | (ImageHDU)   | Raw image data.                                        |\n",
    "|<b>2</b>| ERR (Error)      | (ImageHDU)   | Error array.                                           |\n",
    "|<b>3</b>| DQ (Data Quality)| (ImageHDU)   | Data quality array.                                    |"
   ]
  },
  {
   "cell_type": "markdown",
   "metadata": {},
   "source": [
    "### FLT Files\n",
    "\n",
    "SBC flat-fielded files have the same structure as the raw files, with additional HDUs for WCS corrections.\n",
    "\n",
    "| Ext      | Name             | Type         | Contains                                               |\n",
    "|----------|------------------|--------------|:-------------------------------------------------------|\n",
    "|<b>0</b>  | PRIMARY          | (PrimaryHDU) | Meta-data related to the entire file.                  |\n",
    "|<b>1</b>  | SCI (Image)      | (ImageHDU)   | Raw image data.                                        |\n",
    "|<b>2</b>  | ERR (Error)      | (ImageHDU)   | Error array.                                           |\n",
    "|<b>3</b>  | DQ (Data Quality)| (ImageHDU)   | Data quality array.                                    |\n",
    "|<b>4-5</b>| WCSDVARR (WCS)   | (ImageHDU)   | Filter-dependent non-polynomial distortion corrections.|\n",
    "|<b>6</b>  | WCSCORR (WCS)    | (BinTableHDU)| History of changes to the WCS solution.                |"
   ]
  },
  {
   "cell_type": "markdown",
   "metadata": {},
   "source": [
    "You can always get basic information on HDUlists by using `.info()` as follows"
   ]
  },
  {
   "cell_type": "code",
   "execution_count": 12,
   "metadata": {},
   "outputs": [
    {
     "name": "stdout",
     "output_type": "stream",
     "text": [
      "Filename: jcrx01inq_raw.fits\n",
      "No.    Name      Ver    Type      Cards   Dimensions   Format\n",
      "  0  PRIMARY       1 PrimaryHDU     173   ()      \n",
      "  1  SCI           1 ImageHDU        85   (1024, 1024)   int16   \n",
      "  2  ERR           1 ImageHDU        49   ()      \n",
      "  3  DQ            1 ImageHDU        43   ()      \n"
     ]
    }
   ],
   "source": [
    "with fits.open(drk_list[0]) as hdulist:\n",
    "    hdulist.info()"
   ]
  },
  {
   "cell_type": "markdown",
   "metadata": {},
   "source": [
    "## Identify Affected Observations\n",
    "\n",
    "***\n",
    "\n",
    "Let's take a look at some information from our science images. We can organize the information in a `Table` object from `astropy.table` for convenience. **mdecodt1** and **mdecodt2** contain the temperature at the beginning and end of the exposure respectively.\n",
    "\n",
    "Here, we define a table with column names and respective data types."
   ]
  },
  {
   "cell_type": "code",
   "execution_count": 10,
   "metadata": {},
   "outputs": [],
   "source": [
    "flt_table = Table(names=('file', 'start', 'filter1', 'mdecodt1', 'mdecodt2', 'avgtemp'),\n",
    "                  dtype=('S64', 'S19', 'S6', 'f8', 'f8', 'f8'))"
   ]
  },
  {
   "cell_type": "markdown",
   "metadata": {},
   "source": [
    "Now we need to obtain information from the headers. The temperatures are stored in the science extensions, while observation information is found in the primary header.\n",
    "\n",
    "<div class=\"alert alert-block alert-info\"><b>Pro-Tip</b>: Adding rows to a table is a slow way to construct a table. For larger sets of data, consider\n",
    "<a class=\"divlink\" href=\"http://docs.astropy.org/en/stable/table/construct_table.html#empty-array-of-a-known-size\">\n",
    "    constructing a table of known size.\n",
    "</a> </div>"
   ]
  },
  {
   "cell_type": "code",
   "execution_count": null,
   "metadata": {},
   "outputs": [],
   "source": [
    "for file in flt_list:\n",
    "    filt = fits.getval(file,'FILTER1', ext=0)\n",
    "    date = fits.getval(file,'DATE-OBS', ext=0)\n",
    "    time = fits.getval(file,'TIME-OBS', ext=0)\n",
    "    \n",
    "    t1 = fits.getval(file,'MDECODT1', ext=1)\n",
    "    t2 = fits.getval(file,'MDECODT2', ext=1)\n",
    "\n",
    "    starttime = date + 'T' + time\n",
    "    avgtemp = (t1+t2) / 2\n",
    "        \n",
    "    flt_table.add_row((file, starttime, filt, t1, t2, avgtemp))\n",
    "\n",
    "print(flt_table)"
   ]
  },
  {
   "cell_type": "markdown",
   "metadata": {},
   "source": [
    "We can sort the table by column value for analysis. Since we are interested in temperature, we'll sort this table by the column 'avgtemp'"
   ]
  },
  {
   "cell_type": "code",
   "execution_count": null,
   "metadata": {},
   "outputs": [],
   "source": [
    "flt_table.sort('avgtemp')\n",
    "print(flt_table)"
   ]
  },
  {
   "cell_type": "markdown",
   "metadata": {},
   "source": [
    "Sorting the table by average temperature gives us a sense of how temperature of the SBC behaves over time. Only the last image was affected by a temperature of over 25$^o$C, and therefore the only image to be affected by elevated dark current. \n",
    "\n",
    "The table shows us that this image was taken with the filter F165LP- which is also same filter that the first image was taken with. This is not a coincidence! Take a moment to consider the time-based symmetry of the images, and what that means for the dark current of the combined images."
   ]
  },
  {
   "cell_type": "markdown",
   "metadata": {},
   "source": [
    "## Combine science images\n",
    "\n",
    "***\n",
    "\n",
    "Let's make drizzled products for each filter. We do this by using the ASN files for each filter. The ASN files will tell AstroDrizzle which flat images to combine for a given filter.  Steps 1-6 of the drizzling procedure have been turned off since their purpose is to identify and mask cosmic rays- which do not affect SBC images.\n",
    "\n",
    "The drizzle keyword parameters below are the appropriate ones for SBC data. For this notebook, we have specified a final pixel scale of 0.025 arcseconds"
   ]
  },
  {
   "cell_type": "code",
   "execution_count": null,
   "metadata": {},
   "outputs": [],
   "source": [
    "driz_kwargs = {'runfile':'',\n",
    "               'context':False,\n",
    "               'build':False,\n",
    "               'preserve':False,\n",
    "               'clean':True,\n",
    "               'static':False,\n",
    "               'skysub':False,\n",
    "               'driz_separate':False,\n",
    "               'median':False,\n",
    "               'blot':False,\n",
    "               'driz_cr':False,\n",
    "               'driz_combine':True,\n",
    "               'final_wcs':True,\n",
    "               'final_scale':0.025}"
   ]
  },
  {
   "cell_type": "markdown",
   "metadata": {},
   "source": [
    "Now we'll run AstroDrizzle on our list of association files"
   ]
  },
  {
   "cell_type": "code",
   "execution_count": null,
   "metadata": {},
   "outputs": [],
   "source": [
    "for file in asn_list:\n",
    "    output_name = fits.getheader(file)['asn_id']\n",
    "    adriz(file, output=output_name, **driz_kwargs)"
   ]
  },
  {
   "cell_type": "markdown",
   "metadata": {},
   "source": [
    "## Create dark images\n",
    "\n",
    "***\n",
    "\n",
    "We want to use dark frames to make a drizzled product that will be used to approximate the dark rate to be subtracted from the science product. Because the dark rate above 25C varies(cite ISR), we need to find the dark frame that contains a *dark rate* similar to your affected image. \n",
    "\n",
    "Below we open the two F165LP science frames, one being a high temperature image and the other being a lower-temperature image with negligible dark current. We print out the sum of the pixels inside of a 200x200 box centered at (y, x) = (750, 680), and then do the same for all of the dark frames.\n",
    "\n",
    "With the array handling package `numpy`, we can define a 2D array slice to use for later"
   ]
  },
  {
   "cell_type": "code",
   "execution_count": null,
   "metadata": {},
   "outputs": [],
   "source": [
    "cutter = np.s_[650:850,580:780]"
   ]
  },
  {
   "cell_type": "markdown",
   "metadata": {},
   "source": [
    "Now we can print out the sum of the pixels in each image cut out"
   ]
  },
  {
   "cell_type": "code",
   "execution_count": null,
   "metadata": {},
   "outputs": [],
   "source": [
    "sci_list = ['jcmc11ctq_flt.fits',\n",
    "            'jcmc11e6q_flt.fits']\n",
    "\n",
    "print('Box Sums for Science Data:\\n')\n",
    "\n",
    "for file in sci_list:\n",
    "    image = fits.getdata(file)\n",
    "    img_slice = image[cutter]\n",
    "    neatname = os.path.basename(file)\n",
    "    print('{} --> {}'.format(neatname,np.sum(img_slice)))\n",
    "\n",
    "print('\\n----------------\\n')\n",
    "print('Box Sums for Dark Frames:\\n')\n",
    "\n",
    "for file in drk_list:\n",
    "    image = fits.getdata(file)\n",
    "    img_slice = image[cutter]\n",
    "    neatname = os.path.basename(file)\n",
    "    print('{} --> {}'.format(neatname,np.sum(img_slice)))"
   ]
  },
  {
   "cell_type": "markdown",
   "metadata": {},
   "source": [
    "It looks like the two dark frames that come closest to the science frames are **jcrx01iqq** and **jcrx01iyq**. We will use those to make a combined master dark frame. Note that for programs with more exposures, you will need to do this for each input image in the combined mosaic.\n",
    "\n",
    "To do this, we will insert the data of the dark images into copies of the science images. We will do this to preserve important information in the header specific to the science image, such as the WCS solution. We also must remember to adjust the exposure time of the copies of the science frames to that of the dark frames so that the drizzled products have the correct count rates."
   ]
  },
  {
   "cell_type": "code",
   "execution_count": null,
   "metadata": {},
   "outputs": [],
   "source": [
    "flt_file = 'jcmc11ctq_flt.fits'\n",
    "drk_file = 'jcrx01iiq_raw.fits'\n",
    "new_file = 'dark1.fits'\n",
    "\n",
    "os.system('cp {:} {:}'.format(flt_file, new_file))\n",
    "\n",
    "darkdat = fits.getdata(drk_file)#.astype(np.float)\n",
    "exptime = fits.getval(drk_file, 'exptime', ext=0)\n",
    "\n",
    "with fits.open(new_file,mode='update') as hdu:\n",
    "    hdu[1].data[:,:] = darkdat\n",
    "    hdu[0].header['exptime'] = exptime"
   ]
  },
  {
   "cell_type": "code",
   "execution_count": null,
   "metadata": {},
   "outputs": [],
   "source": [
    "flt_file = 'jcmc11e6q_flt.fits'\n",
    "drk_file = 'jcrx01iyq_raw.fits'\n",
    "new_file = 'dark2.fits'\n",
    "\n",
    "os.system('cp {:} {:}'.format(flt_file, new_file))\n",
    "\n",
    "darkdat = fits.getdata(drk_file)#.astype(np.float)\n",
    "exptime = fits.getval(drk_file, 'exptime', ext=0)\n",
    "\n",
    "with fits.open(new_file,mode='update') as hdu:\n",
    "    hdu[1].data[:,:] = darkdat\n",
    "    hdu[0].header['exptime'] = exptime"
   ]
  },
  {
   "cell_type": "markdown",
   "metadata": {},
   "source": [
    "We can now make the drizzled dark frame using the two individual dark frames we just made as inputs. The drizzle parameters are the same as the ones used to make the science drizzled products."
   ]
  },
  {
   "cell_type": "markdown",
   "metadata": {},
   "source": [
    "<font color=red>Check output here</font>"
   ]
  },
  {
   "cell_type": "code",
   "execution_count": null,
   "metadata": {},
   "outputs": [],
   "source": [
    "adriz_output = adriz(['dark1.fits','dark2.fits'], output='masterdark', **driz_kwargs)"
   ]
  },
  {
   "cell_type": "markdown",
   "metadata": {},
   "source": [
    "We will now display the images to confirm that they show similar elevated dark rates. You might want do display them in DS9 (or any other viewer) outside of this notebook so you can play with the stretch a bit and so you can see bigger versions of the images."
   ]
  },
  {
   "cell_type": "code",
   "execution_count": null,
   "metadata": {},
   "outputs": [],
   "source": [
    "f165lp = fits.getdata('jcmc11010_drz_sci.fits')\n",
    "masterdark = fits.getdata('masterdark_drz_sci.fits')\n",
    "\n",
    "fig,ax = plt.subplots(1,2,figsize=(16,12))\n",
    "\n",
    "ax[0].set_title('Drizzled Science Data')\n",
    "ax[1].set_title('Drizzled Dark Frame')\n",
    "\n",
    "plt_kwargs = {'norm':LogNorm(),\n",
    "              'vmin':1e-5, \n",
    "              'vmax':0.01,\n",
    "              'interpolation':'nearest',\n",
    "              'cmap':'plasma'}\n",
    "\n",
    "ax[0].imshow(f165lp,**plt_kwargs)\n",
    "\n",
    "ax[1].imshow(masterdark,**plt_kwargs);"
   ]
  },
  {
   "cell_type": "markdown",
   "metadata": {},
   "source": [
    "The images look comparable. We will now proceed to performing some photometric analysis to estimate the dark current in the source."
   ]
  },
  {
   "cell_type": "markdown",
   "metadata": {},
   "source": [
    "## Photometry\n",
    "\n",
    "***\n",
    "\n",
    "Now we will use the `photutils` package and to set up two apertures we will use to measure the flux of different regions in the images."
   ]
  },
  {
   "cell_type": "code",
   "execution_count": null,
   "metadata": {},
   "outputs": [],
   "source": [
    "aper = EllipticalAperture([(735,710),(200,200)],\n",
    "                          a=70, b=40, theta=0.5*np.pi)"
   ]
  },
  {
   "cell_type": "markdown",
   "metadata": {},
   "source": [
    "Let's overplot the two apertures in the images so you can see their locations."
   ]
  },
  {
   "cell_type": "code",
   "execution_count": null,
   "metadata": {},
   "outputs": [],
   "source": [
    "fig,ax = plt.subplots(1,2,figsize=(16,12))\n",
    "\n",
    "ax[0].set_title('Drizzled Science Data')\n",
    "ax[1].set_title('Drizzled Dark Frames')\n",
    "\n",
    "ax[0].imshow(f165lp, **plt_kwargs)\n",
    "ax[1].imshow(masterdark, **plt_kwargs)\n",
    "aper.plot(ax=ax[0])\n",
    "aper.plot(ax=ax[1])"
   ]
  },
  {
   "cell_type": "markdown",
   "metadata": {},
   "source": [
    "Finally, we do the photometry using the two apertures on both images. We print out the tables to see the results."
   ]
  },
  {
   "cell_type": "code",
   "execution_count": null,
   "metadata": {},
   "outputs": [],
   "source": [
    "f165lp_phot = aperture_photometry(f165lp, aper)\n",
    "masterdark_phot = aperture_photometry(masterdark, aper)\n",
    "\n",
    "sumdiff = f165lp_phot['aperture_sum'] - masterdark_phot['aperture_sum']\n",
    "\n",
    "print('Science data photometry:\\n')\n",
    "print(f165lp_phot)\n",
    "print('\\n')\n",
    "\n",
    "print('Dark frame photometry:\\n')\n",
    "print(masterdark_phot)\n",
    "print('\\n')\n",
    "\n",
    "print('\\nDifference of aperture sums (science - dark):\\n')\n",
    "print(sumdiff)"
   ]
  },
  {
   "cell_type": "markdown",
   "metadata": {},
   "source": [
    "The target aperture has 2.86 cts/sec, while the same aperture in the dark frame has 0.322 cts/sec. That means that ~11% of the flux in your source comes from dark current and should be subtracted out, leaving a flux for you source of 2.543 cts/sec. "
   ]
  },
  {
   "cell_type": "markdown",
   "metadata": {},
   "source": [
    "## Final Thoughts\n",
    "\n",
    "***\n",
    "\n",
    "1. The difference in flux in the second aperture (the one in the lower left portion of the image) shows that there is a small residual background of ~0.02 cts/sec in the science frame. This could be real background from the sky (and not dark current from the detector that you might want to account for properly in your flux and error budget.\n",
    "\n",
    "2. The dark frame we created does not have the exact same dark count rate as we measured in the science frame. You could try searching for other darks that more closely resemble your science frame. \n",
    "\n",
    "3. These problems can be avoided using a few strategies detailed in [ISR ACS 2018-??](http://www.stsci.edu/hst/acs/documents/isrs/) (Avila 2018, in prep.)."
   ]
  },
  {
   "cell_type": "markdown",
   "metadata": {},
   "source": [
    "### For more help:\n",
    "\n",
    "More details may be found on the [ACS website](http://www.stsci.edu/hst/acs) and in the [ACS Instrument]() and [Data Handbooks]().\n",
    "\n",
    "Please visit the [HST Help Desk](http://hsthelp.stsci.edu). Through the help desk portal, you can explore the *HST* Knowledge Base and request additional help from experts."
   ]
  }
 ],
 "metadata": {
  "kernelspec": {
   "display_name": "Python 3",
   "language": "python",
   "name": "python3"
  },
  "language_info": {
   "codemirror_mode": {
    "name": "ipython",
    "version": 3
   },
   "file_extension": ".py",
   "mimetype": "text/x-python",
   "name": "python",
   "nbconvert_exporter": "python",
   "pygments_lexer": "ipython3",
   "version": "3.5.6"
  }
 },
 "nbformat": 4,
 "nbformat_minor": 2
}
