{
 "cells": [
  {
   "cell_type": "markdown",
   "metadata": {},
   "source": [
    "<div class=\"alert alert-block alert-warning\">\n",
    "<b>REQUIREMENT:</b>\n",
    "    Before proceeding, install or update your\n",
    "    <b><a class=\"divlink\" href=\"https://stenv.readthedocs.io/en/latest/\">\n",
    "    stenv\n",
    "    </a></b>\n",
    "    distribution. <b>stenv</b> is the replacement for AstroConda, which is unsupported as of February 2023.\n",
    "</div>"
   ]
  },
  {
   "cell_type": "markdown",
   "metadata": {
    "nbpresent": {
     "id": "0d33cc02-bd22-422e-974b-893db4bc8a2e"
    }
   },
   "source": [
    "# SBC Dark Analysis\n",
    "\n",
    "\n",
    "## Introduction\n",
    "***\n",
    "\n",
    "This notebook has been prepared as a demo on how to perform aperture photometry in SBC images that contain an elevated dark rate. This problem arises when the detector temperature goes above ~25 ºC. \n",
    "\n",
    "More information on the dark rate can be found in [ISR ACS 2017-04](http://www.stsci.edu/files/live/sites/www/files/home/hst/instrumentation/acs/documentation/instrument-science-reports-isrs/_documents/isr1704.pdf) (Avila 2017).\n",
    "\n",
    "### This tutorial will show you how to...\n",
    "\n",
    "#### 1. [Identify Images with Significant Dark Current](#_identify) \n",
    "\n",
    "* Open files and extract information\n",
    "* Organize information in a table\n",
    "* Sort table by temperature\n",
    "\n",
    "#### 2. [Combine Science Images](#_scidrizzle)\n",
    "\n",
    "* Use `AstroDrizzle` with ASN files to combine images.\n",
    "\n",
    "#### 3. [Combined Dark Images](#_drkdrizzle)\n",
    "\n",
    "* Identify which dark images to use for your data.\n",
    "* Use `AstroDrizzle` to combine dark images.\n",
    "\n",
    "#### 4. [Perform Photometry](#_photometry)\n",
    "\n",
    "* Subtract dark current from science images using aperture photometry"
   ]
  },
  {
   "cell_type": "markdown",
   "metadata": {},
   "source": [
    "## Imports\n",
    "***\n",
    "\n",
    "Here we list the Python packages used in this notebook. Links to the documentation for each module is provided for convenience.\n",
    "\n",
    "| Package Name     | module           | docs          | used for    |\n",
    "|------------------|:-----------------|:-------------:|:------------|\n",
    "| `os`             | `system`           | <a class=\"divlink\" href=\"https://docs.python.org/2/library/os.html#os.system\">link</a>|command line input|\n",
    "| `os`             | `environ`          | <a class=\"divlink\" href=\"https://docs.python.org/2/library/os.html#os.environ\">link</a>| setting environments |\n",
    "|`shutil`          | `rmtree`           | <a class=\"divlink\" href=\"https://docs.python.org/2/library/shutil.html#shutil.rmtree\">link</a>| remove directory tree |\n",
    "|`glob`            | `glob`             | <a class=\"divlink\" href=\"https://docs.python.org/2/library/glob.html#glob.glob\">link</a>| search for files based on Unix shell rules |\n",
    "|`matplotlib`      |`pyplot`    | <a class=\"divlink\" href=\"https://matplotlib.org/api/_as_gen/matplotlib.pyplot.html\">link</a>| plotting |\n",
    "|`matplotlib`      |`colors.LogNorm`    | <a class=\"divlink\" href=\"https://matplotlib.org/api/_as_gen/matplotlib.colors.LogNorm.html#matplotlib.colors.LogNorm\">link</a>| data normalization used for contrast plotting |\n",
    "|`matplotlib`      |`patches.Rectangle`   | <a class=\"divlink\" href=\"https://matplotlib.org/api/_as_gen/matplotlib.patches.Rectangle.html\">link</a>| add rectangle patch to plot |\n",
    "|`numpy`           | `_s`               | <a class=\"divlink\" href=\"https://docs.scipy.org/doc/numpy-1.13.0/reference/generated/numpy.s_.html\">link</a>| construct array slice object |\n",
    "|`astroquery.mast` |`Observations`      | <a class=\"divlink\" href=\"https://astroquery.readthedocs.io/en/latest/mast/mast.html\">link</a>| download data from MAST |\n",
    "|`drizzlepac`      |`astrodrizzle`      | <a class=\"divlink\" href=\"https://drizzlepac.readthedocs.io/en/deployment/astrodrizzle.html\">link</a>| drizzle combine images |\n",
    "|`astropy.io`      | `fits`             | <a class=\"divlink\" href=\"http://docs.astropy.org/en/stable/io/fits/\">link</a>| access and update fits files |\n",
    "|`astropy.table`   | `Table`            | <a class=\"divlink\" href=\"http://docs.astropy.org/en/stable/table/\">link</a>| constructing and editing in a tabular format |\n",
    "|`astropy.wcs`     | `WCS`              | <a class=\"divlink\" href=\"http://docs.astropy.org/en/stable/api/astropy.wcs.WCS.html#astropy.wcs.WCS\">link</a>| extract WCS information from header |\n",
    "|`photutils`       |`EllipticalAperture`| <a class=\"divlink\" href=\"https://photutils.readthedocs.io/en/stable/api/photutils.EllipticalAperture.html\">link</a>| construct aperture object for plotting\n",
    "|`photutils`       |`aperture_photometry`| <a class=\"divlink\" href=\"https://photutils.readthedocs.io/en/stable/api/photutils.aperture_photometry.html#photutils.aperture_photometry\">link</a>| extract counts from aperture"
   ]
  },
  {
   "cell_type": "code",
   "execution_count": null,
   "metadata": {
    "nbpresent": {
     "id": "6c8b2858-62fe-40bd-a114-8257661e0b0b"
    }
   },
   "outputs": [],
   "source": [
    "import os\n",
    "import shutil\n",
    "import glob\n",
    "\n",
    "import matplotlib.pyplot as plt\n",
    "import numpy as np\n",
    "\n",
    "from astroquery.mast import Observations\n",
    "from drizzlepac.astrodrizzle import AstroDrizzle as adriz\n",
    "\n",
    "from astropy.io import fits\n",
    "from astropy.table import Table\n",
    "\n",
    "\n",
    "from matplotlib.colors import LogNorm\n",
    "from matplotlib.patches import Rectangle\n",
    "\n",
    "from photutils import EllipticalAperture\n",
    "from photutils import aperture_photometry"
   ]
  },
  {
   "cell_type": "markdown",
   "metadata": {
    "nbpresent": {
     "id": "71a61091-6c4e-4567-880e-8d9908e4dfa4"
    }
   },
   "source": [
    "## Download the Data\n",
    "***\n",
    "\n",
    "Here we download all of the data required for this notebook. This is an important step! Some of the image processing steps require all relevant files to be in the working directory. We recommend working with a brand new directory for every new set of data.\n",
    "\n",
    "Using the python package `astroquery`, we can retreive files from the [MAST](http://archive.stsci.edu) archive.\n",
    "\n",
    "#### [GO Proposal 13655](https://stdatu.stsci.edu/proposal_search.php?mission=hst&id=13655): \"How Lyman alpha bites/beats the dust\"\n",
    "\n",
    "First, we will grab the FLT and ASN files from program 13655. For this example, we only want to retreive the files from visit 11 of this program. We will specify program ID 'JCMC' along with observation set ID '11'.\n",
    "\n",
    "<div class=\"alert alert-danger\">\n",
    "<b>MAY CHANGE:</b> The argument \"mrp_only\" stands for \"minimum recommended products only\". It currently needs to be set to False, although in the future, False is intended to be set as the default and can be left out.\n",
    "</div>"
   ]
  },
  {
   "cell_type": "code",
   "execution_count": null,
   "metadata": {},
   "outputs": [],
   "source": [
    "science_list = Observations.query_criteria(proposal_id='13655', obs_id='JCMC11*')\n",
    "\n",
    "sci_dl_table = Observations.download_products(science_list['obsid'], \n",
    "                                              productSubGroupDescription=['ASN', 'FLT'],\n",
    "                                              mrp_only=False)"
   ]
  },
  {
   "cell_type": "markdown",
   "metadata": {},
   "source": [
    "#### [GO Proposal 13961](https://stdatu.stsci.edu/proposal_search.php?mission=hst&id=13961): \"SBC Dark Current Measurement\"\n",
    "\n",
    "Now we need a set of dark calibration images. You can use any calibration set as long as the dark rate in the image matches that of your science image (discussed later in this notebook). For convenience, here we download the RAW dark frames from one calibration program: GO Proposal 13961."
   ]
  },
  {
   "cell_type": "code",
   "execution_count": null,
   "metadata": {},
   "outputs": [],
   "source": [
    "darks_list = Observations.query_criteria(proposal_id='13961', obstype='cal')\n",
    "\n",
    "drk_dl_table = Observations.download_products(darks_list['obsid'],\n",
    "                                              productSubGroupDescription=['RAW'],\n",
    "                                              mrp_only=False)"
   ]
  },
  {
   "cell_type": "markdown",
   "metadata": {},
   "source": [
    "We'll use the packages `os` and `shutil` to put all of these files in our working directory for convenience and do a little housekeeping. Now let's place those images in the same directory as this notebook..."
   ]
  },
  {
   "cell_type": "code",
   "execution_count": null,
   "metadata": {},
   "outputs": [],
   "source": [
    "for dl_table in [sci_dl_table, drk_dl_table]:\n",
    "    \n",
    "    for row in dl_table:\n",
    "        oldfname = row['Local Path']\n",
    "        newfname = os.path.basename(oldfname)\n",
    "        os.rename(oldfname, newfname)\n",
    "\n",
    "shutil.rmtree('mastDownload/')"
   ]
  },
  {
   "cell_type": "markdown",
   "metadata": {},
   "source": [
    "Below we define our filenames with variables for convenience using `glob.glob`."
   ]
  },
  {
   "cell_type": "code",
   "execution_count": null,
   "metadata": {},
   "outputs": [],
   "source": [
    "asn_list = glob.glob('*_asn.fits')\n",
    "flt_list = glob.glob('*_flt.fits')\n",
    "drk_list = glob.glob('*_raw.fits')"
   ]
  },
  {
   "cell_type": "markdown",
   "metadata": {},
   "source": [
    "## File Information\n",
    "\n",
    "***\n",
    "\n",
    "The structure of the fits files from ACS may be different depending on what kind of observation was made. For more information, refer to Section 2.2 of the [ACS Data Handbook](http://www.stsci.edu/files/live/sites/www/files/home/hst/instrumentation/acs/documentation/other-documents/_documents/acs_dhb.pdf).\n",
    "\n",
    "### Association Files\n",
    "\n",
    "Association files only contain one extension which lists associated files and their types.\n",
    "\n",
    "| Ext    | Name             | Type         | Contains                                               |\n",
    "|--------|------------------|--------------|:-------------------------------------------------------|\n",
    "|<b>0</b>| PRIMARY          | (PrimaryHDU) | Meta-data related to the entire file.                  |\n",
    "|<b>1</b>| ASN (Association)| (BinTableHDU)| Table of files associated with this group.             |"
   ]
  },
  {
   "cell_type": "markdown",
   "metadata": {},
   "source": [
    "### Raw Files\n",
    "\n",
    "A standard raw image file from the SBC has the same structure as you'd expect from full frame observation from ACS.\n",
    "\n",
    "| Ext    | Name             | Type         | Contains                                               |\n",
    "|--------|------------------|--------------|:-------------------------------------------------------|\n",
    "|<b>0</b>| PRIMARY          | (PrimaryHDU) | Meta-data related to the entire file.                  |\n",
    "|<b>1</b>| SCI (Image)      | (ImageHDU)   | Raw image data.                                        |\n",
    "|<b>2</b>| ERR (Error)      | (ImageHDU)   | Error array.                                           |\n",
    "|<b>3</b>| DQ (Data Quality)| (ImageHDU)   | Data quality array.                                    |"
   ]
  },
  {
   "cell_type": "markdown",
   "metadata": {},
   "source": [
    "### FLT Files\n",
    "\n",
    "SBC flat-fielded files have the same structure as the raw files, with additional HDUs for WCS corrections.\n",
    "\n",
    "| Ext      | Name             | Type         | Contains                                               |\n",
    "|----------|------------------|--------------|:-------------------------------------------------------|\n",
    "|<b>0</b>  | PRIMARY          | (PrimaryHDU) | Meta-data related to the entire file.                  |\n",
    "|<b>1</b>  | SCI (Image)      | (ImageHDU)   | Raw image data.                                        |\n",
    "|<b>2</b>  | ERR (Error)      | (ImageHDU)   | Error array.                                           |\n",
    "|<b>3</b>  | DQ (Data Quality)| (ImageHDU)   | Data quality array.                                    |\n",
    "|<b>4-5</b>| WCSDVARR (WCS)   | (ImageHDU)   | Filter-dependent non-polynomial distortion corrections.|\n",
    "|<b>6</b>  | WCSCORR (WCS)    | (BinTableHDU)| History of changes to the WCS solution.                |"
   ]
  },
  {
   "cell_type": "markdown",
   "metadata": {},
   "source": [
    "You can always use `.info()` on an HDUlist for an overview of the structure."
   ]
  },
  {
   "cell_type": "code",
   "execution_count": null,
   "metadata": {},
   "outputs": [],
   "source": [
    "with fits.open(drk_list[0]) as hdulist:\n",
    "    hdulist.info()"
   ]
  },
  {
   "cell_type": "markdown",
   "metadata": {},
   "source": [
    "## Identify Affected Observations <a id=\"_identify\"></a>\n",
    "\n",
    "***\n",
    "\n",
    "Let's take a look at some information from our science images. We want to find observations with an average temperature greater than 25$^o$C. We can organize the information in a `Table` object from `astropy.table` for convenience. Here, we define a table with column names and respective data types.\n",
    "\n",
    "<b>Note:</b> The FITS header keywords `mdecodt1` and `mdecodt2` refer to the temperature at the beginning and end of the exposure respectively."
   ]
  },
  {
   "cell_type": "code",
   "execution_count": null,
   "metadata": {},
   "outputs": [],
   "source": [
    "flt_table = Table(names=('file', 'start', 'filter1', 'mdecodt1', 'mdecodt2', 'avgtemp'),\n",
    "                  dtype=('S64', 'S19', 'S6', 'f8', 'f8', 'f8'))"
   ]
  },
  {
   "cell_type": "markdown",
   "metadata": {},
   "source": [
    "Now we need to obtain information from the headers. The temperatures are stored in the science extensions, while observation information is found in the primary header.\n",
    "\n",
    "<div class=\"alert alert-block alert-info\"><b>Pro-Tip</b>: Adding rows to a table is a slow way to construct a table. For larger sets of data, consider\n",
    "<a class=\"divlink\" href=\"http://docs.astropy.org/en/stable/table/construct_table.html#empty-array-of-a-known-size\">\n",
    "    constructing a table of known size.\n",
    "</a> </div>"
   ]
  },
  {
   "cell_type": "code",
   "execution_count": null,
   "metadata": {},
   "outputs": [],
   "source": [
    "for file in flt_list:\n",
    "    filt = fits.getval(file, 'FILTER1', ext=0)\n",
    "    date = fits.getval(file, 'DATE-OBS', ext=0)\n",
    "    time = fits.getval(file, 'TIME-OBS', ext=0)\n",
    "    \n",
    "    t1 = fits.getval(file, 'MDECODT1', ext=1)\n",
    "    t2 = fits.getval(file, 'MDECODT2', ext=1)\n",
    "\n",
    "    starttime = date + 'T' + time\n",
    "    avgtemp = (t1+t2) / 2\n",
    "        \n",
    "    flt_table.add_row((file, starttime, filt, t1, t2, avgtemp))\n",
    "\n",
    "print(flt_table)"
   ]
  },
  {
   "cell_type": "markdown",
   "metadata": {},
   "source": [
    "We can sort the table by column value for analysis. Since we are interested in temperature, we'll sort this table by the column 'avgtemp'"
   ]
  },
  {
   "cell_type": "code",
   "execution_count": null,
   "metadata": {},
   "outputs": [],
   "source": [
    "flt_table.sort('avgtemp')\n",
    "print(flt_table)"
   ]
  },
  {
   "cell_type": "markdown",
   "metadata": {},
   "source": [
    "Sorting the table by average temperature gives us a sense of how temperature of the SBC behaves over time. Only the last image was affected by a temperature of over 25$^o$C, and therefore the only image to be affected by elevated dark current. \n",
    "\n",
    "The table shows us that this image was taken with the filter F165LP- which is also same filter that the first image was taken with. This is not a coincidence! Take a moment to consider the time-based symmetry of the images, and what that means for the dark current of the combined images."
   ]
  },
  {
   "cell_type": "markdown",
   "metadata": {},
   "source": [
    "## Combine science images<a id=\"_scidrizzle\"></a>\n",
    "\n",
    "***\n",
    "\n",
    "Let's make drizzled products for each filter. We do this by using the ASN files for each filter. The ASN files will tell AstroDrizzle which flat images to combine for a given filter.  Steps 1-6 of the drizzling procedure have been turned off since their purpose is to identify and mask cosmic rays, which do not affect SBC images.\n",
    "\n",
    "The drizzle keyword parameters below are the appropriate ones for SBC data. For \"final_scale\" we use the pixel scale of SBC, 0.025 arcseconds."
   ]
  },
  {
   "cell_type": "code",
   "execution_count": null,
   "metadata": {},
   "outputs": [],
   "source": [
    "driz_kwargs = {'runfile': '',\n",
    "               'context': False,\n",
    "               'build': False,\n",
    "               'preserve': False,\n",
    "               'clean': True,\n",
    "               'static': False,\n",
    "               'skysub': False,\n",
    "               'driz_separate': False,\n",
    "               'median': False,\n",
    "               'blot': False,\n",
    "               'driz_cr': False,\n",
    "               'driz_combine': True,\n",
    "               'final_wcs': True,\n",
    "               'final_scale': 0.025}"
   ]
  },
  {
   "cell_type": "markdown",
   "metadata": {},
   "source": [
    "Now we'll run AstroDrizzle on our list of association files."
   ]
  },
  {
   "cell_type": "code",
   "execution_count": null,
   "metadata": {},
   "outputs": [],
   "source": [
    "for file in asn_list:\n",
    "    output_name = fits.getheader(file)['asn_id']\n",
    "    adriz(file, output=output_name, **driz_kwargs)"
   ]
  },
  {
   "cell_type": "markdown",
   "metadata": {},
   "source": [
    "## Create dark images <a id=\"_drkdrizzle\"></a>\n",
    "\n",
    "***\n",
    "\n",
    "We want to use dark frames to make a drizzled product that will be used to approximate the dark rate to be subtracted from the science product. The dark rate above 25C varies. We need to find the dark frame that contains a *dark rate* similar to your affected image. \n",
    "\n",
    "Below we open the two F165LP science frames, one being a high temperature image and the other being a lower temperature image with negligible dark current. \n",
    "\n",
    "To measure the dark rate, we will take the sum of the pixels within a 200x200 box. The box will be placed off-center of our SBC image where dark rate is low and consistent, at (y, x) = (750, 680). We will measure this sum for our science images as well as all of the dark frames.\n",
    "\n",
    "With the array handling package `numpy`, we can define a 2D array slice to use for later."
   ]
  },
  {
   "cell_type": "code",
   "execution_count": null,
   "metadata": {},
   "outputs": [],
   "source": [
    "cutter = np.s_[650:850, 580:780]"
   ]
  },
  {
   "cell_type": "markdown",
   "metadata": {},
   "source": [
    "Now we can print out the sum of the pixels in each image cut out."
   ]
  },
  {
   "cell_type": "code",
   "execution_count": null,
   "metadata": {},
   "outputs": [],
   "source": [
    "sci_list = ['jcmc11ctq_flt.fits',\n",
    "            'jcmc11e6q_flt.fits']\n",
    "\n",
    "print('Box Sums for Science Data:\\n')\n",
    "\n",
    "for file in sci_list:\n",
    "    image = fits.getdata(file)\n",
    "    img_slice = image[cutter]\n",
    "    neatname = os.path.basename(file)\n",
    "    print('{} --> {}'.format(neatname, np.sum(img_slice)))\n",
    "\n",
    "print('\\n----------------\\n')\n",
    "print('Box Sums for Dark Frames:\\n')\n",
    "\n",
    "for file in drk_list:\n",
    "    image = fits.getdata(file)\n",
    "    img_slice = image[cutter]\n",
    "    neatname = os.path.basename(file)\n",
    "    print('{} --> {}'.format(neatname, np.sum(img_slice)))"
   ]
  },
  {
   "cell_type": "markdown",
   "metadata": {},
   "source": [
    "It looks like the two dark frames that come closest to the science frames are **jcrx01iqq** and **jcrx01iyq**. We will use those to make a combined master dark frame. Note that for programs with more exposures, you will need to do this for each input image in the combined mosaic.\n",
    "\n",
    "For better visualization, let's take a look at one of our science images and matching dark frame. We will also highlight the dark rate extraction box in each plot."
   ]
  },
  {
   "cell_type": "code",
   "execution_count": null,
   "metadata": {},
   "outputs": [],
   "source": [
    "plt_kwargs = {'norm': LogNorm(),\n",
    "              'interpolation': 'nearest',\n",
    "              'cmap': 'plasma',\n",
    "              'origin': 'lower'}\n",
    "\n",
    "fig, ax = plt.subplots(1, 2, figsize=(16, 12))\n",
    "\n",
    "science = fits.getdata('jcmc11ctq_flt.fits')\n",
    "dark = fits.getdata('jcrx01iqq_raw.fits')\n",
    "\n",
    "ax[0].set_title('Science Data')\n",
    "ax[1].set_title('Dark Frame')\n",
    "\n",
    "ax[0].imshow(science, **plt_kwargs)\n",
    "ax[1].imshow(dark, **plt_kwargs)\n",
    "\n",
    "# Must define twice since artist objects can only be used once.\n",
    "patch0 = Rectangle((680, 750), width=200, height=200, alpha=0.5)\n",
    "patch1 = Rectangle((680, 750), width=200, height=200, alpha=0.5)\n",
    "\n",
    "ax[0].add_patch(patch0)\n",
    "ax[1].add_patch(patch1)"
   ]
  },
  {
   "cell_type": "markdown",
   "metadata": {},
   "source": [
    "To preserve important information in the header specific to the science image, such as the WCS solution, we will insert the data of the dark images into copies of the science images. We also must remember to adjust the exposure time of the copies of the science frames to that of the dark frames so that the drizzled products have the correct count rates."
   ]
  },
  {
   "cell_type": "code",
   "execution_count": null,
   "metadata": {},
   "outputs": [],
   "source": [
    "flt_file = 'jcmc11ctq_flt.fits'\n",
    "drk_file = 'jcrx01iiq_raw.fits'\n",
    "new_file = 'dark1.fits'\n",
    "\n",
    "os.system('cp {:} {:}'.format(flt_file, new_file))\n",
    "\n",
    "darkdat = fits.getdata(drk_file)\n",
    "exptime = fits.getval(drk_file, 'exptime', ext=0)\n",
    "\n",
    "with fits.open(new_file, mode='update') as hdu:\n",
    "    \n",
    "    hdu[1].data[:, :] = darkdat\n",
    "    hdu[0].header['exptime'] = exptime"
   ]
  },
  {
   "cell_type": "code",
   "execution_count": null,
   "metadata": {},
   "outputs": [],
   "source": [
    "flt_file = 'jcmc11e6q_flt.fits'\n",
    "drk_file = 'jcrx01iyq_raw.fits'\n",
    "new_file = 'dark2.fits'\n",
    "\n",
    "os.system('cp {:} {:}'.format(flt_file, new_file))\n",
    "\n",
    "darkdat = fits.getdata(drk_file)\n",
    "exptime = fits.getval(drk_file, 'exptime', ext=0)\n",
    "\n",
    "with fits.open(new_file, mode='update') as hdu:\n",
    "    \n",
    "    hdu[1].data[:, :] = darkdat\n",
    "    hdu[0].header['exptime'] = exptime"
   ]
  },
  {
   "cell_type": "markdown",
   "metadata": {},
   "source": [
    "We can now make the drizzled dark frame using the two individual dark frames we just made as inputs. The drizzle parameters are the same as the ones used to make the science drizzled products."
   ]
  },
  {
   "cell_type": "code",
   "execution_count": null,
   "metadata": {},
   "outputs": [],
   "source": [
    "adriz_output = adriz(['dark1.fits', 'dark2.fits'], output='masterdark', **driz_kwargs)"
   ]
  },
  {
   "cell_type": "markdown",
   "metadata": {},
   "source": [
    "We will now display the images to confirm that they show similar elevated dark rates. You might want do display them in DS9 (or any other viewer) outside of this notebook so you can play with the stretch a bit and so you can see bigger versions of the images."
   ]
  },
  {
   "cell_type": "code",
   "execution_count": null,
   "metadata": {},
   "outputs": [],
   "source": [
    "# Some plotting parameters\n",
    "plt_kwargs = {'norm': LogNorm(vmin=1e-5, vmax=0.01),\n",
    "              'interpolation': 'nearest',\n",
    "              'cmap': 'plasma',\n",
    "              'origin': 'lower'}\n",
    "\n",
    "f165lp = fits.getdata('jcmc11010_drz_sci.fits')\n",
    "masterdark = fits.getdata('masterdark_drz_sci.fits')\n",
    "\n",
    "fig, ax = plt.subplots(1, 2, figsize=(16, 12))\n",
    "\n",
    "ax[0].set_title('Drizzled Science Data')\n",
    "ax[1].set_title('Drizzled Dark Frame')\n",
    "\n",
    "ax[0].imshow(f165lp, **plt_kwargs)\n",
    "ax[1].imshow(masterdark, **plt_kwargs)"
   ]
  },
  {
   "cell_type": "markdown",
   "metadata": {},
   "source": [
    "The images look comparable. We will now proceed to performing some photometric analysis to estimate the dark current in the source."
   ]
  },
  {
   "cell_type": "markdown",
   "metadata": {},
   "source": [
    "## Photometry<a id=\"_photometry\"></a>\n",
    "\n",
    "***\n",
    "\n",
    "Now we will use the `photutils` package to set up the two apertures. We will use these apertures to measure the flux of different regions in the images.\n",
    "\n",
    "The first aperture is centered on our target at (735, 710), and is shaped as an elliptical to encompass all of the flux from the source. The other aperture will be the same exact shape, but located near the edge of the detector at (200, 200). "
   ]
  },
  {
   "cell_type": "code",
   "execution_count": null,
   "metadata": {},
   "outputs": [],
   "source": [
    "aper = EllipticalAperture([(735, 710), (200, 200)], a=70, b=40, theta=0.5*np.pi)"
   ]
  },
  {
   "cell_type": "markdown",
   "metadata": {},
   "source": [
    "Let's overplot the two apertures in the images so you can see their locations."
   ]
  },
  {
   "cell_type": "code",
   "execution_count": null,
   "metadata": {},
   "outputs": [],
   "source": [
    "fig, ax = plt.subplots(1, 2, figsize=(16, 12))\n",
    "\n",
    "ax[0].set_title('Drizzled Science Data')\n",
    "ax[1].set_title('Drizzled Dark Frames')\n",
    "\n",
    "ax[0].imshow(f165lp, **plt_kwargs)\n",
    "ax[1].imshow(masterdark, **plt_kwargs)\n",
    "\n",
    "aper.plot(ax[0])\n",
    "aper.plot(ax[1])"
   ]
  },
  {
   "cell_type": "markdown",
   "metadata": {},
   "source": [
    "Finally, we do the photometry using the two apertures on both images. We print out the tables to see the results."
   ]
  },
  {
   "cell_type": "code",
   "execution_count": null,
   "metadata": {},
   "outputs": [],
   "source": [
    "f165lp_phot = aperture_photometry(f165lp, aper)\n",
    "masterdark_phot = aperture_photometry(masterdark, aper)\n",
    "\n",
    "sumdiff = f165lp_phot['aperture_sum'] - masterdark_phot['aperture_sum']\n",
    "\n",
    "print('Science data photometry:\\n')\n",
    "print(f165lp_phot)\n",
    "print('\\n')\n",
    "\n",
    "print('Dark frame photometry:\\n')\n",
    "print(masterdark_phot)\n",
    "print('\\n')\n",
    "\n",
    "print('\\nDifference of aperture sums (science - dark):\\n')\n",
    "print(sumdiff)"
   ]
  },
  {
   "cell_type": "markdown",
   "metadata": {},
   "source": [
    "The target aperture has 2.89 cts/sec, while the same aperture in the dark frame has 0.322 cts/sec. That means that ~11% of the flux in your source comes from dark current and should be subtracted out, leaving a flux for you source of 2.564 cts/sec. "
   ]
  },
  {
   "cell_type": "markdown",
   "metadata": {},
   "source": [
    "## Final Thoughts\n",
    "\n",
    "***\n",
    "\n",
    "1. The difference in flux in the second aperture (the one in the lower left portion of the image) shows that there is a small residual background of ~0.02 cts/sec in the science frame. This could be real background from the sky (and not dark current from the detector that you might want to account for properly in your flux and error budget.\n",
    "\n",
    "2. The dark frame we created does not have the exact same dark count rate as we measured in the science frame. You could try searching for other darks that more closely resemble your science frame. \n",
    "\n",
    "3. These problems can be avoided using a few strategies detailed in [ISR ACS 2018-07](http://www.stsci.edu/files/live/sites/www/files/home/hst/instrumentation/acs/documentation/instrument-science-reports-isrs/_documents/isr1807.pdf) (Avila 2018)."
   ]
  },
  {
   "cell_type": "markdown",
   "metadata": {},
   "source": [
    "### For more help:\n",
    "\n",
    "More details may be found on the [ACS website](http://www.stsci.edu/hst/instrumentation/acs) and in the [ACS Instrument](https://hst-docs.stsci.edu/display/ACSIHB) and [Data Handbooks](http://www.stsci.edu/files/live/sites/www/files/home/hst/instrumentation/acs/documentation/other-documents/_documents/acs_dhb.pdf).\n",
    "\n",
    "Please visit the [HST Help Desk](http://hsthelp.stsci.edu). Through the help desk portal, you can explore the *HST* Knowledge Base and request additional help from experts."
   ]
  }
 ],
 "metadata": {
  "kernelspec": {
   "display_name": "Python 3 (ipykernel)",
   "language": "python",
   "name": "python3"
  },
  "language_info": {
   "codemirror_mode": {
    "name": "ipython",
    "version": 3
   },
   "file_extension": ".py",
   "mimetype": "text/x-python",
   "name": "python",
   "nbconvert_exporter": "python",
   "pygments_lexer": "ipython3",
   "version": "3.9.16"
  }
 },
 "nbformat": 4,
 "nbformat_minor": 4
}
