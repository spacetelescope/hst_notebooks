{
 "cells": [
  {
   "cell_type": "markdown",
   "id": "650994b9-5576-4b72-92be-69bfa137f89f",
   "metadata": {},
   "source": [
    "# Getting HST Ephemeris and Related Data for an Observation\n",
    "## Worked Examples for an ACS/SBC Observation \n",
    "#### By Chris Clark (ESA/AURA, Space Telescope Science Institute; `cclark@stsci.edu`), last edited 28th March 2025\n",
    "\n",
    "This notebook walks through how to get various information about where HST is, and where it is pointing, in relation to Earth and the Sun, for a given observation. \n",
    "\n",
    "The methods laid out in this notebook do not necessarily represent the \"official\" way that one would extract these quantities from the full NASA engineering data. However, interacting with the engineering data can be non-trivial, and there is often limited documentation.\n",
    "\n",
    "Therefore, this notebook aims to provide ways to calculate various ephemeris (and related) quantities in ways that are reliable, whilst also still being relatively straightforward.\n",
    "\n",
    "Some of the examples laid out in this notebook use information available in the FITS header, and some use the JPL `Horizons` service or `pvlib` package. To run this notebook, you will require `astropy`, `astroquery`, and `pvlib` to be installed (along with their dependences).\n",
    "\n",
    "In this example, we will be using an observation from the ACS/SBC - namely `jec0c6aeq_flc.fits`. It's an observation of part of nearby galaxy NGC7793, looking at a bunch of young stars and star-forming regions. This file will be downloaded from MAST, and put in a directory your current working directory (in general, this will automatically be the same directory as the notebook itself, under standard notebook kernel server settings).\n",
    "\n",
    "Note that the methods demonstrated in this notebook *require* you to be working with a file associated with an individual expoure (ie, a `raw`, `flt`, or `flc` file). This is because a drizzled file, or other combined data product, will consist of data from different observations, where the telescope, Earth, and Sun will have been in different relative positions.\n",
    "\n",
    "#### Table of Contents\n",
    "1. [Earth Limb Angle](#1-earth-limb-angle)\n",
    "2. [HST Lattude & Longitude During Observation](#2-hst-lattude--longitude-during-observation)\n",
    "3. [Solar Time, Solar Altitude, and Solar Cycles](#3-solar-time-solar-altitude-and-solar-cycles)"
   ]
  },
  {
   "cell_type": "code",
   "execution_count": 3,
   "id": "855bf1fb-9d02-42db-89aa-8c273c66d2bc",
   "metadata": {},
   "outputs": [
    {
     "name": "stdout",
     "output_type": "stream",
     "text": [
      "Data for this notebook will be downloaded to:\n",
      "/Users/cclark/Data/Repos/hst_notebooks/notebooks/ACS/hst_orbits_ephem\n"
     ]
    }
   ],
   "source": [
    "# Required imports all here\n",
    "import os\n",
    "import numpy as np\n",
    "import astropy.io.fits\n",
    "import astropy.wcs\n",
    "import astropy.time\n",
    "import astropy.convolution\n",
    "import astropy.units as u\n",
    "import astropy.coordinates\n",
    "import astroquery.mast\n",
    "from astroquery.jplhorizons import Horizons\n",
    "import pvlib\n",
    "\n",
    "# Report to user where data folder will be palced\n",
    "data_dir = os.path.join(os.getcwd())\n",
    "print('Data for this notebook will be downloaded to:')\n",
    "print(data_dir)"
   ]
  },
  {
   "cell_type": "markdown",
   "id": "a1f3ced1-3401-4807-891b-86bb508dbd6d",
   "metadata": {},
   "source": [
    "Before we get going, we'll download the obesrvation we want from MAST, and read in its headers."
   ]
  },
  {
   "cell_type": "code",
   "execution_count": 4,
   "id": "d46241b1-3ea3-4647-a0a5-6f20d8815d1b",
   "metadata": {},
   "outputs": [
    {
     "name": "stdout",
     "output_type": "stream",
     "text": [
      "Downloading URL https://mast.stsci.edu/api/v0.1/Download/file?uri=mast:HST/product/jec0c6aeq_flt.fits to /Users/cclark/Data/Repos/hst_notebooks/notebooks/ACS/hst_orbits_ephem/jec0c6aeq_flt.fits ... [Done]\n",
      "COMPLETE\n"
     ]
    }
   ],
   "source": [
    "# Create folder for holding downloaded files, etc\n",
    "\n",
    "if not os.path.exists(data_dir):\n",
    "    os.mkdir(data_dir)\n",
    "\n",
    "# Download our exmaple observation\n",
    "flt_filename = 'jec0c6aeq_flt.fits'\n",
    "flt_path = os.path.join(data_dir, flt_filename)\n",
    "mast_msg = astroquery.mast.Observations.download_file('mast:HST/product/'+flt_filename,\n",
    "                                                      local_path=flt_path,\n",
    "                                                      cache=False)\n",
    "print(mast_msg[0])\n",
    "\n",
    "# Read in headers for our observation; we will require info from the primary and image headers\n",
    "flt_hdr_0 = astropy.io.fits.getheader(flt_path, ext=0)\n",
    "flt_hdr_1 = astropy.io.fits.getheader(flt_path, ext=1)"
   ]
  },
  {
   "cell_type": "markdown",
   "id": "355408a5-a7ad-45b8-ba30-9faf7c1f1415",
   "metadata": {},
   "source": [
    "## 1. Earth Limb Angle\n",
    "\n",
    "Earth Limb Angle (ELA) is the angle between the locaiton where the telescope is pointing, and the limb of the Earth. As ELA gets smaller, the atmosphere can have an increasing effect on HST observations in certain wavelenghts (especially the IR and UV). So knowing the ELA is worthwhile for understanding backgrounds, etc.\n",
    "\n",
    "Establishing ELA for a given observation is a somewhat involved process, so we will deal with it first.\n",
    "\n",
    "To get the ELA, we need to get the jitter file (ie, `_jit.fits` file for this observation. If this observation was not part of an association, then the `jit` file should have the same rootname (ie, `jec0c6aeq`) as the `flt` file. However, if this oabservation was part of an assocation, then the `jit` file will have the same rootname as the associaiton. So we will check for both"
   ]
  },
  {
   "cell_type": "code",
   "execution_count": 5,
   "id": "100b0adc-80e9-4a1b-a66f-fe25e5640d45",
   "metadata": {},
   "outputs": [
    {
     "name": "stdout",
     "output_type": "stream",
     "text": [
      "Downloading URL https://mast.stsci.edu/api/v0.1/Download/file?uri=mast:HST/product/jec0c6010_jit.fits to /Users/cclark/Data/Repos/hst_notebooks/notebooks/ACS/hst_orbits_ephem/jec0c6010_jit.fits ... [Done]\n",
      "COMPLETE\n"
     ]
    }
   ],
   "source": [
    "# First, check if jit file exists with same rootname as flt\n",
    "jit_filename = flt_filename.replace('_flt.fits', '_jit.fits')\n",
    "jit_path = os.path.join(data_dir, jit_filename)\n",
    "mast_msg = astroquery.mast.Observations.download_file('mast:HST/product/'+jit_filename,\n",
    "                                                      local_path=jit_path,\n",
    "                                                      cache=False)\n",
    "if os.path.exists(jit_path) and (mast_msg[0] != 'ERROR'):\n",
    "    jit_data = astropy.io.fits.getdata(jit_path)\n",
    "\n",
    "# Otherwise, get the jit file by finding the association of this observation\n",
    "elif 'HTTPError: 404 Client Error: Not Found for url' in mast_msg[1]:\n",
    "    asn_id = flt_hdr_0['ASN_ID'].lower()\n",
    "    jit_filename = asn_id+'_jit.fits'\n",
    "    jit_path = os.path.join(data_dir, jit_filename)\n",
    "    mast_msg = astroquery.mast.Observations.download_file('mast:HST/product/'+jit_filename,\n",
    "                                                          local_path=jit_path,\n",
    "                                                          cache=False)\n",
    "    jit_data = astropy.io.fits.getdata(jit_path)\n",
    "print(mast_msg[0])"
   ]
  },
  {
   "cell_type": "markdown",
   "id": "d3cb86c9-30fd-4ba8-8818-221845bbefb6",
   "metadata": {},
   "source": [
    "Now we have the `jit` file read it, we grab the ELA data from it. This consists of an array of ELA values, as the ELA changes continually throughout the exposure."
   ]
  },
  {
   "cell_type": "code",
   "execution_count": 6,
   "id": "7fc80bac-3a22-4063-8826-c57386eaf5b1",
   "metadata": {},
   "outputs": [
    {
     "name": "stdout",
     "output_type": "stream",
     "text": [
      "ELA ranges from 39.6 deg to 52.9 deg, with a mean of 46.3 deg\n"
     ]
    }
   ],
   "source": [
    "# Get ELA data from JIT file\n",
    "ela_arr = np.array(jit_data['LimbAng'])\n",
    "\n",
    "# Check that ELA data is good (can be an empty array for certain engineering data, etc)\n",
    "try:\n",
    "    ela_min = np.min(ela_arr)\n",
    "except ValueError:\n",
    "    print('ELA array is empty')\n",
    "\n",
    "# Assuming ELA data is good, get some summary statistics\n",
    "ela_min = np.min(ela_arr)\n",
    "ela_max = np.max(ela_arr)\n",
    "ela_mean = np.mean(ela_arr)\n",
    "print(f'ELA ranges from {ela_min:.1f} deg to {ela_max:.1f} deg, with a mean of {ela_mean:.1f} deg')"
   ]
  },
  {
   "cell_type": "markdown",
   "id": "bd837eb1-80e6-48b7-894d-ed0dc942ac14",
   "metadata": {},
   "source": [
    "## 2. HST Lattude & Longitude During Observation\n",
    "\n",
    "If you want to know the position of HST over the Earth during a given observation, you have to account for the fact that HST is continually moving in three dimensions around the Earth, which is continually moving in three dimensions around the Sun (thanks, Copernicus). This is a whole bunch of 3D ephemeris maths we'd rather not do by hand.\n",
    "\n",
    "Fortunately, we don't have to! We can use `astropy.coordinates` and the JPL `Horizons` service instead.\n",
    "\n",
    "First, we have to know exactly when the observation was taken, which we can get from the header. We then use that to construct an `astropy.time.Time` object."
   ]
  },
  {
   "cell_type": "code",
   "execution_count": 7,
   "id": "d79a13e7-c604-480c-8ffa-c7b8c7df95d9",
   "metadata": {},
   "outputs": [],
   "source": [
    "# Get observation date and time fromt the header\n",
    "date_string = flt_hdr_0['DATE-OBS']\n",
    "time_string = flt_hdr_0['TIME-OBS']\n",
    "\n",
    "# Convert into an astropy Time object\n",
    "datetime_obs_start = astropy.time.Time(date_string+'T'+time_string, format='isot', scale='utc')"
   ]
  },
  {
   "cell_type": "markdown",
   "id": "afa38074-0eb3-49bd-8763-3d1196eec856",
   "metadata": {},
   "source": [
    "Now we use the datetime, and the exposure time, to find the mid-point time of the exposure, and construct an array sampling the whole duration of the observation. We also compute the Modified Julian Date (MJD) of the mid-point of the exposure, as this will be a useful number later"
   ]
  },
  {
   "cell_type": "code",
   "execution_count": 8,
   "id": "dc542c7e-16b1-4516-8c16-188f7a007c31",
   "metadata": {},
   "outputs": [
    {
     "name": "stdout",
     "output_type": "stream",
     "text": [
      "Exposure started at 2022-04-25T03:18:51.000, and ended at 2022-04-25T03:22:41.000\n",
      "The mid-point time of the exposure was at MJD of 59694.13942\n"
     ]
    }
   ],
   "source": [
    "# Use duration of exposure to find time in middle of exposure\n",
    "exp_time = flt_hdr_0['EXPTIME'] * u.second\n",
    "datetime_mid_delta = exp_time * 0.5\n",
    "datetime_obs_mid = datetime_obs_start + datetime_mid_delta\n",
    "\n",
    "# Make array densely sampling time throughot the observation (1000 points is a good arbitrary dense sampling)\n",
    "datetime_obs_arr = np.linspace(datetime_obs_start, (datetime_obs_start + exp_time), num=1000)\n",
    "\n",
    "# Record date and time info\n",
    "mjd_obs_mid = astropy.time.Time(datetime_obs_mid).mjd\n",
    "\n",
    "# Report summary of observation time\n",
    "print(f'Exposure started at {datetime_obs_arr[0]}, and ended at {datetime_obs_arr[-1]}')\n",
    "print(f'The mid-point time of the exposure was at MJD of {mjd_obs_mid:.5f}')"
   ]
  },
  {
   "cell_type": "markdown",
   "id": "a4e0938e-8227-481b-a810-32506a2ccdbd",
   "metadata": {},
   "source": [
    "With all this date & time info ready, we can now use the JPL `Horizons` service to work out exactly where HST was during this exposure.\n",
    "\n",
    "We can query the service via `astroquery.jplhorizons.Horizons`. The `Horizons` service uses Navigation and Ancillary Information Facility (NAIF) ID codes to identify objects and coordinates. HST has a dedicated NAIF ID code: namely, -48. We set the `location` of the query to `500@399`; this is combination of NAIF ID codes that corresponds to the location of Earth (the `@339` part), described in a Geocentric frame (the `500` part). The `Horizons` and `astropy.coordinates` systems are smart enough that nothing critically depends on choosing the 'correct' `location` here - but as HST orbits the Earth, this reference frame will make all the numbers involved a little more easily interpretable. "
   ]
  },
  {
   "cell_type": "code",
   "execution_count": 9,
   "id": "9d5fb64e-38c4-4d57-96e4-0f30feaf57ff",
   "metadata": {},
   "outputs": [],
   "source": [
    "# Query JPL Horizons, getting values for middle of observation\n",
    "jplhz_hst_id = -48\n",
    "jplhz_obj_obs_mid = Horizons(id=jplhz_hst_id, location='500@399', epochs=datetime_obs_mid.jd)"
   ]
  },
  {
   "cell_type": "markdown",
   "id": "5e5698c9-fba1-48c0-bc45-dfe713ef1ca9",
   "metadata": {},
   "source": [
    "Now we extract the 3D position of HST in relation to Earth, in the International Terrestrial Reference System (ITRS), and use this to construct an `astropy.coordinates` object for Earth's location."
   ]
  },
  {
   "cell_type": "code",
   "execution_count": 10,
   "id": "abd604af-246a-44e2-a26c-dd6d352ef4b4",
   "metadata": {},
   "outputs": [],
   "source": [
    "# Get HST vectors from Horizons object\n",
    "jplhz_vector = jplhz_obj_obs_mid.vectors()\n",
    "\n",
    "# Extract position in ITRS (International Terrestrial Reference System)\n",
    "hst_geo_x = jplhz_vector['x'][0] * u.AU.to(u.m)\n",
    "hst_geo_y = jplhz_vector['y'][0] * u.AU.to(u.m)\n",
    "hst_geo_z = jplhz_vector['z'][0] * u.AU.to(u.m)\n",
    "\n",
    "# Create an EarthLocation object for the HST\n",
    "hst_location = astropy.coordinates.EarthLocation.from_geocentric(hst_geo_x, hst_geo_y, hst_geo_z, unit=u.m)"
   ]
  },
  {
   "cell_type": "markdown",
   "id": "2cb76b8c-c86a-4332-971e-d37bbd7c923c",
   "metadata": {},
   "source": [
    "In order to use this to work out the terrestrial latitude and longitude that HST was above during observations, we need to convert to geodetic coordinates, and use that to build a `astropy.coordinates.EarthLocation` object."
   ]
  },
  {
   "cell_type": "code",
   "execution_count": 11,
   "id": "e90638cb-e9a5-49ac-9929-859f9e474e66",
   "metadata": {},
   "outputs": [
    {
     "name": "stdout",
     "output_type": "stream",
     "text": [
      "During exposure mid-point, HST was above lat = -46.67, lon = 46.65, at 547 km\n"
     ]
    }
   ],
   "source": [
    "# Compute HST location in map coordiantes\n",
    "hst_location = hst_location.to_geodetic()\n",
    "hst_location = astropy.coordinates.EarthLocation.from_geodetic(lat=hst_location.lat,\n",
    "                                                               lon=hst_location.lon,\n",
    "                                                               height=hst_location.height)\n",
    "\n",
    "# Report location to user\n",
    "hst_location_lat = hst_location.lat.value\n",
    "hst_location_lon = hst_location.lon.value\n",
    "hst_location_height = hst_location.height.to(u.km)\n",
    "print(f'During exposure mid-point, HST was above lat = {hst_location_lat:.2f}, lon = {hst_location_lon:.2f}, at {hst_location_height:.0f}')"
   ]
  },
  {
   "cell_type": "markdown",
   "id": "25072937-9a90-4242-9604-43bd82aae467",
   "metadata": {},
   "source": [
    "As an example use-case of this, we can compute *rough* distance from the South Atlantic Anomaly (SAA). Note that the SAA is not symmetric, and that any proper SAA calculations should take account of its contours. And the central point of the SAA changes. So this for illustrative purposes only."
   ]
  },
  {
   "cell_type": "code",
   "execution_count": 12,
   "id": "d49ba667-a982-4c6b-9cf4-5fed98eb4445",
   "metadata": {},
   "outputs": [
    {
     "name": "stdout",
     "output_type": "stream",
     "text": [
      "HST was 69.8 deg from the middle of the SAA\n"
     ]
    }
   ],
   "source": [
    "# Give approxiamte coords of centre of SAA\n",
    "saa_lat, saa_lon = -25.603*u.deg, -40.287*u.deg # Approximate coords, but good enough\n",
    "saa_location = astropy.coordinates.EarthLocation.from_geodetic(lat=saa_lat, lon=saa_lon)\n",
    "\n",
    "# Compute separation between SAA and HST, in degrees, and report to user\n",
    "saa_itrs = astropy.coordinates.SkyCoord(saa_location.get_itrs())\n",
    "hst_itrs = astropy.coordinates.SkyCoord(hst_location.get_itrs())\n",
    "saa_distance = saa_itrs.separation(hst_itrs)\n",
    "print(f'HST was {saa_distance:.1f} from the middle of the SAA')"
   ]
  },
  {
   "cell_type": "markdown",
   "id": "644545dc-726b-4071-b927-fff4e8c41e8f",
   "metadata": {},
   "source": [
    "## 3. Solar Time, Solar Altitude, and Solar Cycles\n",
    "\n",
    "Now we can do a bunch of Solar maths regarding where, and when, HST peformed this exposure.\n",
    "\n",
    "To start off, let's calculate Solar time. This is the time system where the Sun is overhead at 12 noon at whatever your location happens to be.  This can be relevant in filters where the atmosphere gets excited by Solar radiation during the course of the day, resulting in increased airglow at dusk vs dawn (even though comparable dust and dawn times may have the same Solar altitude).\n",
    "\n",
    "We get the Sun's location using the package `pvlib`, which is designed for Solar maths. Then we compute the 'equation of time' for HST during the exposure. The 'equation of time' is the difference between apparent Solar time and mean Solar time for a given time & place."
   ]
  },
  {
   "cell_type": "code",
   "execution_count": 13,
   "id": "80ae58b5-04e3-40d2-94c5-ec20189a809c",
   "metadata": {},
   "outputs": [
    {
     "name": "stdout",
     "output_type": "stream",
     "text": [
      "Solar time for HST during exposure was 06.49 hours (in 24-hour notation)\n"
     ]
    }
   ],
   "source": [
    "# First, find the Sun's location \n",
    "sun_location = pvlib.location.Location(hst_location.lat.value, hst_location.lon.value).get_solarposition(datetime_obs_mid.datetime)\n",
    "\n",
    "# Find the equation of time for HST, and thence the longitude correction required to get actual Solar time from HST's position\n",
    "hst_eot = (sun_location.equation_of_time.array[0] * u.minute).to(u.hour)\n",
    "hst_lon_corr = hst_location.lon / 15.0 * u.hour/u.deg\n",
    "\n",
    "# Use the equation fof time to calculate solar time at HST's location, as an astropy.time.Time object\n",
    "datetime_obs_mid_solar = datetime_obs_mid + hst_eot + hst_lon_corr\n",
    "\n",
    "# Get out the solar time as an actual number, hours\n",
    "hst_solar_time_hr = datetime_obs_mid_solar.datetime.hour + (datetime_obs_mid_solar.datetime.minute / 60.0) + (datetime_obs_mid_solar.datetime.second / 3600.0)\n",
    "print(f'Solar time for HST during exposure was {hst_solar_time_hr:05.2f} hours (in 24-hour notation)')"
   ]
  },
  {
   "cell_type": "markdown",
   "id": "06ae26c7-2e12-4a81-9135-38be1884a02a",
   "metadata": {},
   "source": [
    "Now, we'll calculate the altitude and azimuth of the Sun, from the position of HST. Turns out that `astropy.coordinates` has a built-in function for this, assuming you construct the right coordinate frame first.\n",
    "\n",
    "Note that the altitude and azimuth will be for the plane of HST *tangent* to the surface of the Earth, at the location of HST. Therefore, the Earth limb will be at a negative altitude, due to the height of HST's orbit above the surface."
   ]
  },
  {
   "cell_type": "code",
   "execution_count": 14,
   "id": "298dac87-62e2-45b2-ab63-b4611198a526",
   "metadata": {},
   "outputs": [
    {
     "name": "stdout",
     "output_type": "stream",
     "text": [
      "Sun's position during exposure was altitude = -4.61 deg, azimuth = 75.68 deg\n"
     ]
    }
   ],
   "source": [
    "# Use astropy coordinates to construct an alt-az reference frame object at the place and time of the exposure\n",
    "altaz_frame = astropy.coordinates.AltAz(obstime=datetime_obs_mid, location=hst_location)\n",
    "\n",
    "# Now use astropy function to compute Solar position in this reference frame\n",
    "sun_altaz = astropy.coordinates.get_sun(datetime_obs_mid).transform_to(altaz_frame)\n",
    "print(f'Sun\\'s position during exposure was altitude = {sun_altaz.alt:.2f}, azimuth = {sun_altaz.az:.2f}')"
   ]
  },
  {
   "cell_type": "markdown",
   "id": "f4488bef-0cfb-4ad2-b9e2-5beed1c10ba3",
   "metadata": {},
   "source": [
    "Now to finish with a couple of easy calculations. Firstly, lets find out how far the observations are from the closest Solar cycle maximum (either forward or backward in time). The atmosphere extends to higher altitudes during Solar maxima, so this can once again be a relevant quantitity for airglow.\n",
    "\n",
    "We take the dates of past maxima from the International Sunspot Numbers v2.0, as available at SILSO. (Maxima dates are reported as months only in ISNv2.0; here we take the middle of each month as the peak for each, for convenience.)"
   ]
  },
  {
   "cell_type": "code",
   "execution_count": 15,
   "id": "58c44fba-4203-4fe7-98b9-aadd733c8d29",
   "metadata": {},
   "outputs": [
    {
     "name": "stdout",
     "output_type": "stream",
     "text": [
      "Observation happened 782 days away from nearest Solar maximum\n"
     ]
    }
   ],
   "source": [
    "# First, state the dates of of the Solar maxima  the once before HST launch\n",
    "solar_cycle_peaks_mjd = ['2024-06-15', '2014-04-15', '2001-11-15', '1989-11-15']\n",
    "\n",
    "# Convert this date strings into astropy.time.Time objects\n",
    "solar_cycle_peaks_mjd = np.array([astropy.time.Time(solar_cycle_peak_mjd, format='iso').mjd for solar_cycle_peak_mjd in solar_cycle_peaks_mjd])\n",
    "\n",
    "# Calculate how many days, in MJD, separate our HST observation from the closest solar maximum (forward or backward in time)\n",
    "solar_peak_gap = np.min(np.abs(mjd_obs_mid - solar_cycle_peaks_mjd))\n",
    "print(f'Observation happened {solar_peak_gap:.0f} days away from nearest Solar maximum')"
   ]
  },
  {
   "cell_type": "markdown",
   "id": "13ee511a-d369-4062-ab12-69df9feb3510",
   "metadata": {},
   "source": [
    "Lastly, let's convert the ra and dec of our HST observations to ecliptic coordinates. This can be useful if we're worrdied about the potential for zodiacal light to affect our observations. For this calculation, we're going to grab the centre coord of the image in our `flt` file."
   ]
  },
  {
   "cell_type": "code",
   "execution_count": 16,
   "id": "85263709-f9c6-4712-93ec-79887f61a5c8",
   "metadata": {},
   "outputs": [
    {
     "name": "stdout",
     "output_type": "stream",
     "text": [
      "Reference pixel of observation has ecliptic coords of lat = -29.42 deg, lon = 345.26 deg\n"
     ]
    }
   ],
   "source": [
    "# Get ra and dec from header; here we just use the WCS reference coord (you may want to be more precise)\n",
    "ra = flt_hdr_1['CRVAL1A'] * u.deg\n",
    "dec = flt_hdr_1['CRVAL2A'] * u.deg\n",
    "\n",
    "# Convert coordinates to ecliptic frame, and report to user\n",
    "icrs_coords = astropy.coordinates.SkyCoord(ra=ra, dec=dec, frame='icrs')\n",
    "ecliptic_coords = icrs_coords.transform_to(astropy.coordinates.GeocentricTrueEcliptic)\n",
    "print(f'Reference pixel of observation has ecliptic coords of lat = {ecliptic_coords.lat:.2f}, lon = {ecliptic_coords.lon:.2f}')"
   ]
  },
  {
   "cell_type": "markdown",
   "id": "9bef2e64",
   "metadata": {},
   "source": [
    "If you use `astropy` or `pvlib` for published research, please cite the authors. Follow these links for more information about citing `astropy` or `pvlib`:\n",
    "\n",
    "* [Citing `astropy`](https://www.astropy.org/acknowledging.html)\n",
    "* [Citing `pvlib`](https://pvlib-python.readthedocs.io/en/stable/index.html#citing-pvlib-python)"
   ]
  },
  {
   "cell_type": "markdown",
   "id": "837e0c8d",
   "metadata": {},
   "source": [
    "<img style=\"float: right;\" src=\"https://raw.githubusercontent.com/spacetelescope/notebooks/master/assets/stsci_pri_combo_mark_horizonal_white_bkgd.png\" alt=\"Space Telescope Logo\" width=\"200px\"/>"
   ]
  }
 ],
 "metadata": {
  "kernelspec": {
   "display_name": "Python 3 (ipykernel)",
   "language": "python",
   "name": "python3"
  },
  "language_info": {
   "codemirror_mode": {
    "name": "ipython",
    "version": 3
   },
   "file_extension": ".py",
   "mimetype": "text/x-python",
   "name": "python",
   "nbconvert_exporter": "python",
   "pygments_lexer": "ipython3",
   "version": "3.12.7"
  }
 },
 "nbformat": 4,
 "nbformat_minor": 5
}
