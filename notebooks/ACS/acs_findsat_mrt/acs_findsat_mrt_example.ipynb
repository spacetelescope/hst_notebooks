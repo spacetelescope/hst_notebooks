{
 "cells": [
  {
   "cell_type": "markdown",
   "id": "b232525b",
   "metadata": {},
   "source": [
    "<div class=\"alert alert-block alert-warning\">\n",
    "<b>REQUIREMENT:</b> Before proceeding, install or update your\n",
    "<b><a class=\"divlink\" href=\"https://stenv.readthedocs.io/en/latest\">stenv</a></b> distribution.  <b>stenv</b> is the replacement for AstroConda, which is unsupported as of February 2023.\n",
    "</div>"
   ]
  },
  {
   "cell_type": "markdown",
   "id": "a3e6a89b",
   "metadata": {},
   "source": [
    "<a id=\"title_ID\"></a>\n",
    "# Satellite trail detection in ACS/WFC data using acstools.findsat_mrt\n",
    "\n",
    "This notebook provides examples of how to find and create masks for satellite trails in ACS/WFC imaging data using <a href= 'https://acstools.readthedocs.io/en/latest/findsat_mrt.html'>acstools.findsat_mrt</a>, which is based on the method described in <a href=\"https://www.stsci.edu/files/live/sites/www/files/home/hst/instrumentation/acs/documentation/instrument-science-reports-isrs/_documents/isr2208.pdf\">ACS ISR 2022-08</a>. Many of the tools presented here should be applicable to any imaging data.\n",
    "\n",
    "### Table of Contents:\n",
    "\n",
    "[Introduction](#intro_ID) <br>\n",
    "[Imports, Setup, and Data](#imports) <br>\n",
    "\n",
    "[Example 1: Step-by-step guide to find trails in an FLC image](#example1) <br>\n",
    "[Example 2: Quick run on an FLC image](#example2)<br>\n",
    "[Example 3: Find trails in an FLC image using the WFC wrapper](#example3) <br>\n",
    "[Example 4: Step-by-step guide to find trails in a DRC image](#example4) <br>\n",
    "[Example 5: Find trails in a DRC image using the WFC wrapper](#example5)<br>\n",
    "[Example 6: Create a new kernel for detection](#example6)<br>\n",
    "\n",
    "### About this Notebook\n",
    "**Author:** David V. Stark, ACS Instrument Team, Space Telescope Science Institute <br>\n",
    "**First Published On:** 5/13/2023 <br>\n",
    "**Updated On:** 5/15/2023"
   ]
  },
  {
   "cell_type": "markdown",
   "id": "e99e4ec8",
   "metadata": {},
   "source": [
    "<a id=\"intro_ID\"></a>\n",
    "## Introduction\n",
    "\n",
    "Despite being in orbit, HST imaging data still suffers from contamination by artificial satellites that can compromise science data unless they are identified and masked. This notebook presents examples of how to identify satellite trails in ACS/WFC data. The routine is also effective at identifying other linear features duch as <a href=\"https://hst-docs.stsci.edu/acsdhb/files/60243156/60243162/1/1567011208101/acs_Ch46.2.jpg\">diffraction spikes</a> and <a href=\"https://hst-docs.stsci.edu/acsdhb/files/60243156/60243160/1/1567011424969/acs_Ch46.4.jpg\">glint</a> (see <a href=\"https://hst-docs.stsci.edu/acsdhb/chapter-4-acs-data-processing-considerations/4-5-image-anomalies\">Section 4.5 of the ACS DHB</a> for further discussion on these artifacts). \n",
    "\n",
    "A full description of the algorithm is provided in <a href=\"https://www.stsci.edu/files/live/sites/www/files/home/hst/instrumentation/acs/documentation/instrument-science-reports-isrs/_documents/isr2208.pdf\">ACS ISR 2022-08</a>. To briefly summarize, the Median Radon Transform (MRT) is calculated for an input image and used to identify linear signals in the data. The MRT is similar to the standard <a href=\"https://en.wikipedia.org/wiki/Radon_transform\">Radon Transform</a> except that it calculates the median, rather than the sum, of data along all possible paths through an image. This modification makes the algorithm more robust against false signals from localized sources (e.g., stars, galaxies) but still very sensitive to persistent linear features, even well-below the background noise level. \n",
    "\n",
    "Additional post-processing is done to filter out spurious detections, primarily eliminating them based on trail S/N, width, and persistence across the image. These parameters, especially the maximum allowed trail width, are tuned for ACS/WFC data binned 2x2 and may be different for images from other instruments. Once the final set of trails is identified and characterized, a mask can be created. The routine provides numerous ways of visualizing the results, as will be demonstrated below.\n",
    "\n",
    "The following examples illustrate how to use `acstools.findsat_mrt` to identify satellite trails and then create masks for them. Examples 1 and 4 go through the analysis step by step, including how to preprocess data and run individual routines inside `findsat_mrt`. Examples 2, 3, and 5 demonstrate how to automate many of these steps. Our demonstrations stop at the creation of the masks. We leave it to the user to decide the best way to apply the masks to their own analysis."
   ]
  },
  {
   "cell_type": "markdown",
   "id": "47e71a5f",
   "metadata": {},
   "source": [
    "<a id=\"imports\"></a>\n",
    "## Imports, setup, and data\n",
    "\n",
    "It is recommended that you use the latest <a href=\"https://github.com/spacetelescope/stenv\">stenv</a> python environment when using this notebook. In particular, you <b>must</b> use acstools v3.6.0 or greater in order to run this notebook. You can check you version with\n",
    "\n",
    "`conda list acstools`\n",
    "\n",
    "and update if necessary with\n",
    "\n",
    "`conda update acstools`\n",
    "\n",
    "Set your working directory and import the needed packages with the following"
   ]
  },
  {
   "cell_type": "code",
   "execution_count": null,
   "id": "39aae42c",
   "metadata": {},
   "outputs": [],
   "source": [
    "# Import modules and setup\n",
    "import matplotlib.pyplot as plt\n",
    "import numpy as np\n",
    "from astroquery.mast import Observations\n",
    "from astropy.io import fits\n",
    "from astropy.nddata import bitmask, block_reduce, block_replicate\n",
    "from acstools.findsat_mrt import TrailFinder, WfcWrapper\n",
    "import os \n",
    "from acstools.utils_findsat_mrt import create_mrt_line_kernel\n",
    "import shutil"
   ]
  },
  {
   "cell_type": "code",
   "execution_count": null,
   "id": "2ecb79b9",
   "metadata": {},
   "outputs": [],
   "source": [
    "# Check your own working directory\n",
    "print('Current working directory is {}'.format(os.getcwd()))\n",
    "# Define working directory if needed\n",
    "# os.chdir('Insert your working directory here')"
   ]
  },
  {
   "cell_type": "code",
   "execution_count": null,
   "id": "11679561",
   "metadata": {},
   "outputs": [],
   "source": [
    "# These are optional configurations\n",
    "%matplotlib inline\n",
    "plt.rcParams[\"figure.figsize\"] = (8, 6)\n",
    "plt.rcParams['font.serif'] = \"Georgia\"\n",
    "plt.rcParams['font.family'] = \"serif\""
   ]
  },
  {
   "cell_type": "markdown",
   "id": "2cf59b69",
   "metadata": {},
   "source": [
    "Download the example data needed and place it in the working directory that you defined above. Examples 1-3 use  <a href=\"https://mast.stsci.edu/api/v0.1/Download/file?uri=mast:HST/product/jc8m32j5q_flc.fits\">jc8m32j5q_flc.fits</a>, while examples 4-5 use <a href=\"https://mast.stsci.edu/api/v0.1/Download/file?uri=mast:HST/product/hst_13498_32_acs_wfc_f606w_jc8m32j5_drc.fits\">hst_13498_32_acs_wfc_f606w_jc8m32j5_drc.fits</a>."
   ]
  },
  {
   "cell_type": "code",
   "execution_count": null,
   "id": "d7c44652",
   "metadata": {},
   "outputs": [],
   "source": [
    "# Download data files\n",
    "obs_table = Observations.query_criteria(proposal_id=13498, obs_id='JC8M32010')\n",
    "\n",
    "dl_table = Observations.download_products(obs_table['obsid'], \n",
    "                                          dataURI=['mast:HST/product/hst_13498_32_acs_wfc_f606w_jc8m32j5_drc.fits',\n",
    "                                                   'mast:HST/product/jc8m32j5q_flc.fits'])\n",
    "for row in dl_table:\n",
    "    oldfname = row['Local Path']\n",
    "    newfname = os.path.basename(oldfname)\n",
    "    os.rename(oldfname, newfname)\n",
    "    \n",
    "shutil.rmtree('mastDownload')"
   ]
  },
  {
   "cell_type": "markdown",
   "id": "8f36a30f",
   "metadata": {},
   "source": [
    "<a id=\"example1\"></a>\n",
    "\n",
    "## Example 1: Finding trails in an FLC image\n",
    "\n",
    "FLC images are individual exposures processed by the CALACS pipeline. The data contain two chips, but we only analyze one here. \n",
    "\n",
    "We start by reading in an image and doing some pre-processing to remove bad pixels, subtract a median background, and make the image a bit smaller (to speed up the calculation of the MRT)."
   ]
  },
  {
   "cell_type": "code",
   "execution_count": null,
   "id": "d67ec590",
   "metadata": {},
   "outputs": [],
   "source": [
    "# Read in the image files and header information\n",
    "image_file = 'jc8m32j5q_flc.fits'\n",
    "ext = 4  # ACS image data are in extensions 1 or 4, we'll just use 4 for now (chip 1)\n",
    "with fits.open(image_file) as h:\n",
    "    image = h[ext].data  # image data\n",
    "    dq = h[ext+2].data  # data quality bitmasks\n",
    "\n",
    "    header = h[0].header  # primary header\n",
    "    image_header = h[1].header  # image header"
   ]
  },
  {
   "cell_type": "markdown",
   "id": "bf3e40f2",
   "metadata": {},
   "source": [
    "Below, we make a mask for bad pixels. We're ignoring cosmic rays here because routines to make them often partially (but not fully) mask trails. By default, any masked pixels are set to `NaN`."
   ]
  },
  {
   "cell_type": "code",
   "execution_count": null,
   "id": "93a4ada8",
   "metadata": {},
   "outputs": [],
   "source": [
    "mask = bitmask.bitfield_to_boolean_mask(dq, ignore_flags=[4096, 8192, 16384])\n",
    "image[mask] = np.nan"
   ]
  },
  {
   "cell_type": "markdown",
   "id": "a5d6905b",
   "metadata": {},
   "source": [
    "Below we subtract Subtract the background from the image. Here we just do a simple median."
   ]
  },
  {
   "cell_type": "code",
   "execution_count": null,
   "id": "d90c5e49",
   "metadata": {},
   "outputs": [],
   "source": [
    "image = image - np.nanmedian(image)"
   ]
  },
  {
   "cell_type": "markdown",
   "id": "d27b0c53",
   "metadata": {},
   "source": [
    "The MRT is computationally demanding and WFC images are big. To help things a bit, let's rebin the images."
   ]
  },
  {
   "cell_type": "code",
   "execution_count": null,
   "id": "32e5a69c",
   "metadata": {},
   "outputs": [],
   "source": [
    "binsize = 2  # adjust this as needed\n",
    "image_rebin = block_reduce(image, binsize, func=np.nansum)"
   ]
  },
  {
   "cell_type": "markdown",
   "id": "e09d8359",
   "metadata": {},
   "source": [
    "We now set up `TrailFinder`. Many of the parameters in the call below are optional (and set to their current values by default) but we show them to illustrate the setup. Of note is that I'm explicitly defining the image header keys to save. These can be useful later when analyzing trail population properties. The keywords being saved here were chosen to ensure we know the original exposure ippsoot and which chip was analyzed. Additional keywords are saved that store information about the orientation of the telescope when the image was taken. In principle, the user can save any header keywords they like. We have also set `plot=False` in this example, so we can demonstrate how to manually create plots. Setting `plot=True` will automatically generate plots after specific processes are finished. Be aware that not all possible keyword parameters are defined below. See the <a href=\"https://acstools.readthedocs.io/en/latest/api/acstools.findsat_mrt.TrailFinder.html#acstools.findsat_mrt.TrailFinder\">documentation</a> for complete information."
   ]
  },
  {
   "cell_type": "code",
   "execution_count": null,
   "id": "4d4632ab",
   "metadata": {},
   "outputs": [],
   "source": [
    "# Now we can set up TrailFinder\n",
    "s = TrailFinder(image=image_rebin,\n",
    "                header=header,\n",
    "                image_header=image_header,\n",
    "                save_image_header_keys=['ROOTNAME', 'CCDCHIP', 'CRPIX1', 'CRPIX2', 'CRVAL1', 'CRVAL2',\n",
    "                                        'ORIENTAT', 'RA_APER', 'DEC_APER', 'PA_APER'],\n",
    "                processes=8,\n",
    "                plot=False,\n",
    "                threshold=5,\n",
    "                max_width=75,  \n",
    "                check_persistence=True,\n",
    "                min_persistence=0.5,\n",
    "                output_root='example1')"
   ]
  },
  {
   "cell_type": "markdown",
   "id": "e6d6f406",
   "metadata": {},
   "source": [
    "Before we actually run anything, let's plot the image we are analyzing. You should see two satellite trails in this example."
   ]
  },
  {
   "cell_type": "code",
   "execution_count": null,
   "id": "8397469f",
   "metadata": {},
   "outputs": [],
   "source": [
    "s.plot_image()"
   ]
  },
  {
   "cell_type": "markdown",
   "id": "63291b30",
   "metadata": {},
   "source": [
    "If you're having trouble seeing the trails, you can adjust the scale keyword (the min and max values to show given as multiples of the image standard deviation)"
   ]
  },
  {
   "cell_type": "code",
   "execution_count": null,
   "id": "a9779382",
   "metadata": {},
   "outputs": [],
   "source": [
    "s.plot_image(scale=[-1, 1])"
   ]
  },
  {
   "cell_type": "markdown",
   "id": "2ad4c287",
   "metadata": {},
   "source": [
    "Next we run the Median Radon Transform. This step can take some time depending on the image size and number of processes being used. This tutorial assumes you can run 8 processes at the same time, but adjust as needed. If you're not sure how many processes you can run, you can see how many CPU cores are available and adjust based on that."
   ]
  },
  {
   "cell_type": "code",
   "execution_count": null,
   "id": "a3a00b7a",
   "metadata": {},
   "outputs": [],
   "source": [
    "os.cpu_count()"
   ]
  },
  {
   "cell_type": "code",
   "execution_count": null,
   "id": "78cbd13a",
   "metadata": {},
   "outputs": [],
   "source": [
    "s.processes = 8  # adjust this if necessary\n",
    "s.run_mrt()"
   ]
  },
  {
   "cell_type": "markdown",
   "id": "14db26e7",
   "metadata": {},
   "source": [
    "Now we will plot the MRT. You may be able to spot the signals from the satellite trails as two somewhat wide point-like sources."
   ]
  },
  {
   "cell_type": "code",
   "execution_count": null,
   "id": "29c74a89",
   "metadata": {},
   "outputs": [],
   "source": [
    "s.plot_mrt()"
   ]
  },
  {
   "cell_type": "markdown",
   "id": "5b6b93fd",
   "metadata": {},
   "source": [
    "Note that the x axis in in pixels, not degrees or radians. The `theta` array ranges from 0 to 180 with a spacing of 0.5 degrees, hence 360 pixels.\n",
    "\n",
    "We next run the source finder on the MRT. You can create your own detection kernels, or use the defaults provided (see [Example 6](#example6) for how to create detection kernels). Depending on the settings, this can pick up a lot more than the actual trails we're interested in. There are additional steps we'll take later to filter these false detections out. The ones we found and their location on the MRT are shown below.\n",
    "\n",
    "The `threshold` in this case refers to the signal-to-noise ratio of a feature found in the MRT. The default is 5."
   ]
  },
  {
   "cell_type": "code",
   "execution_count": null,
   "id": "0d5ef5dd",
   "metadata": {
    "scrolled": true
   },
   "outputs": [],
   "source": [
    "s.threshold = 5  # detection threshold\n",
    "s.find_mrt_sources()  # finds the sources\n",
    "s.plot_mrt(show_sources=True)  # overplots the sources on top of the MRT"
   ]
  },
  {
   "cell_type": "markdown",
   "id": "2530aa32",
   "metadata": {},
   "source": [
    "We filter the sources further based on a reassessment of their S/N, width, and persistence. The default parameters (namely width) have been chosen for ACS data binned by 2 pixels in each direction. It's possible different defaults will be better for different imaging data."
   ]
  },
  {
   "cell_type": "code",
   "execution_count": null,
   "id": "82692609",
   "metadata": {
    "scrolled": true
   },
   "outputs": [],
   "source": [
    "# Parameters that affect how the filtering works\n",
    "s.threshold = 5\n",
    "s.max_width = 75\n",
    "s.check_persistence = True\n",
    "s.min_persistence = 0.5\n",
    "\n",
    "# now filter\n",
    "s.filter_sources()\n",
    "\n",
    "# note: some extra columns have been added to the source list\n",
    "s.source_list"
   ]
  },
  {
   "cell_type": "markdown",
   "id": "bdcc282a",
   "metadata": {},
   "source": [
    "Several columns have been added to the source list that characterize the observed streak. Also, the `status` array has values of 0, 1, and 2 now (it just had 0 before). Those with `status=2` are sources that passed all filtering stages (checks for SNR and width, then persistence). Those with `status=1` are sources that passed the first filtering stage (checks for SNR and width), but not the second (persistence check). And `status=0` are sources that did not pass the filtering steps.\n",
    "\n",
    "The `plot_mrt` command will overplot the different statuses"
   ]
  },
  {
   "cell_type": "code",
   "execution_count": null,
   "id": "abb07c2c",
   "metadata": {},
   "outputs": [],
   "source": [
    "s.plot_mrt(show_sources=True)"
   ]
  },
  {
   "cell_type": "markdown",
   "id": "01ddbb1b",
   "metadata": {},
   "source": [
    "Now we can make the mask itself. By default it only uses sources in the MRT with `status=2`. We make two types of masks, one a simple boolean mask, and one a segementation mask where pixels corresponding to each streak are assigned the ID number. We create these below."
   ]
  },
  {
   "cell_type": "code",
   "execution_count": null,
   "id": "35d1c54b",
   "metadata": {},
   "outputs": [],
   "source": [
    "# make the mask\n",
    "s.mask_include_status = [2]\n",
    "s.make_mask()"
   ]
  },
  {
   "cell_type": "code",
   "execution_count": null,
   "id": "852171d1",
   "metadata": {},
   "outputs": [],
   "source": [
    "# plot the mask and segmentation map\n",
    "s.plot_mask()\n",
    "s.plot_segment()"
   ]
  },
  {
   "cell_type": "markdown",
   "id": "4d9739d3",
   "metadata": {},
   "source": [
    "We can also overlay the mask on top of the image to make sure it makes sense."
   ]
  },
  {
   "cell_type": "code",
   "execution_count": null,
   "id": "db757931",
   "metadata": {},
   "outputs": [],
   "source": [
    "s.plot_image(overlay_mask=True)"
   ]
  },
  {
   "cell_type": "markdown",
   "id": "03e97d6e",
   "metadata": {},
   "source": [
    "We can save the results now. You have the optional of saving the catalog, mask, MRT, and a diagnostic image that shows the results. In this example we'll just save everything."
   ]
  },
  {
   "cell_type": "code",
   "execution_count": null,
   "id": "28e56996",
   "metadata": {},
   "outputs": [],
   "source": [
    "# define what to save\n",
    "s.save_mask = True\n",
    "s.save_mrt = True\n",
    "s.save_catalog = True\n",
    "s.save_diagnostic = True\n",
    "\n",
    "s.save_output()"
   ]
  },
  {
   "cell_type": "markdown",
   "id": "142718eb",
   "metadata": {},
   "source": [
    "Keep in mind that the mask we have created is applicable to the rebinned image. To convert it into a mask that can be applied to the original unbinned image, we need to resample it using the `block_replicate` function. The rescaled mask is plotted below. Note the difference in image size, but the mask pattern remains the same."
   ]
  },
  {
   "cell_type": "code",
   "execution_count": null,
   "id": "d601e25f",
   "metadata": {
    "scrolled": true
   },
   "outputs": [],
   "source": [
    "full_mask = block_replicate(s.mask, binsize, conserve_sum=False)\n",
    "fig, ax = plt.subplots()\n",
    "ax.imshow(full_mask, origin='lower')"
   ]
  },
  {
   "cell_type": "markdown",
   "id": "94bd6fb7",
   "metadata": {},
   "source": [
    "## <a id=\"example2\"></a>\n",
    "## Example 2: Quick run of TrailFinder on an flc image\n",
    "\n",
    "Example 1 thoroughly demonstrated the steps to read in an FLC file, pre-process it, and identify trails. This example demonstrates how one can run many of the steps simultaneously once a file is read in an all parameters set. \n",
    "\n",
    "First, we read in and preprocess the data file exactly as before."
   ]
  },
  {
   "cell_type": "code",
   "execution_count": null,
   "id": "f904d971",
   "metadata": {},
   "outputs": [],
   "source": [
    "# Read in the image files and header information\n",
    "image_file = 'jc8m32j5q_flc.fits'\n",
    "ext = 4  # ACS image data are in extensions 1 or 4, we'll just use 1 for now\n",
    "with fits.open(image_file) as h:\n",
    "    image = h[ext].data  # image data\n",
    "    dq = h[ext+2].data  # data quality bitmasks\n",
    "    \n",
    "    header = h[0].header  # primary header\n",
    "    image_header = h[1].header  # image header\n",
    "\n",
    "# make a mask for bad pixels.\n",
    "mask = bitmask.bitfield_to_boolean_mask(dq, ignore_flags=[4096, 8192, 16384])\n",
    "image[mask] = np.nan\n",
    "\n",
    "# Subtract the background from the image.\n",
    "image = image - np.nanmedian(image)\n",
    "\n",
    "# Rebin the image to speed up calculation\n",
    "image_rebin = block_reduce(image, 2, func=np.nansum)\n",
    "print(image)"
   ]
  },
  {
   "cell_type": "markdown",
   "id": "bd74bebf",
   "metadata": {},
   "source": [
    "And initialize trail finder as before"
   ]
  },
  {
   "cell_type": "code",
   "execution_count": null,
   "id": "64ac5854",
   "metadata": {},
   "outputs": [],
   "source": [
    "s2 = TrailFinder(image=image_rebin,\n",
    "                 header=header,\n",
    "                 image_header=image_header,\n",
    "                 save_image_header_keys=['ROOTNAME', 'CCDCHIP', 'CRPIX1', 'CRPIX2', 'CRVAL1', 'CRVAL2',\n",
    "                                         'ORIENTAT', 'RA_APER', 'DEC_APER', 'PA_APER'],\n",
    "                 processes=8,\n",
    "                 plot=False,\n",
    "                 threshold=5,\n",
    "                 max_width=75,  \n",
    "                 check_persistence=True,\n",
    "                 min_persistence=0.5,\n",
    "                 output_root='example2')"
   ]
  },
  {
   "cell_type": "markdown",
   "id": "2bcc16d8",
   "metadata": {},
   "source": [
    "If you're feeling ok about the setup, run all the subsequent steps together with the `run_all` command (this calculates the MRT, finds MRT sources, filters the sources, and saves the output)"
   ]
  },
  {
   "cell_type": "code",
   "execution_count": null,
   "id": "aa725eb6",
   "metadata": {},
   "outputs": [],
   "source": [
    "s2.run_all()"
   ]
  },
  {
   "cell_type": "markdown",
   "id": "023f39c6",
   "metadata": {},
   "source": [
    "If we plot the mask, it should look identical to the one in the previous example."
   ]
  },
  {
   "cell_type": "code",
   "execution_count": null,
   "id": "672c813b",
   "metadata": {},
   "outputs": [],
   "source": [
    "s2.plot_mask()"
   ]
  },
  {
   "cell_type": "markdown",
   "id": "3418fe79",
   "metadata": {},
   "source": [
    "## <a id=\"example3\"></a>\n",
    "## Example 3: find trails in an FLC image using the WFC wrapper\n",
    "\n",
    "The approaches shown in examples 1 and 2 can be useful for imaging data from any telescope, not just ACS/WFC data. However, for ACS/WFC data, we provide a convenience wrapper that performs even more of the steps all together, including reading the image and pre-processing it.\n",
    "\n",
    "The `WfcWrapper` class has the same properties as the TrailFinder class, but with a few additional keywords. It also contains the additional routines that read the image, rebin, mask, and subtract the background. By default, these will be run automatically when WfcWrapper is initialized, although this can be turned off. In most cases, you probably will only need to adjust the `binsize` keyword. The specific value of `binsize` is up to the user. Larger values speed up the MRT calculation, but keep in mind that the parameters to filter out spurious trails (e.g., `max_width`) are tuned to WFC data binned 2x2. A user may want to start with a larger value for `binsize` and reduce it once they get a sense for the computation time."
   ]
  },
  {
   "cell_type": "code",
   "execution_count": null,
   "id": "a88ab476",
   "metadata": {},
   "outputs": [],
   "source": [
    "w = WfcWrapper('jc8m32j5q_flc.fits', binsize=2, extension=4, processes=8, output_root='example3')"
   ]
  },
  {
   "cell_type": "markdown",
   "id": "6246e090",
   "metadata": {},
   "source": [
    "We can plot the image to see that it looks like the one from the last example after preprocessing."
   ]
  },
  {
   "cell_type": "code",
   "execution_count": null,
   "id": "3c8e4041",
   "metadata": {},
   "outputs": [],
   "source": [
    "w.plot_image()"
   ]
  },
  {
   "cell_type": "markdown",
   "id": "e76ab415",
   "metadata": {},
   "source": [
    "From here, everything is the same as the last example:"
   ]
  },
  {
   "cell_type": "code",
   "execution_count": null,
   "id": "59a21001",
   "metadata": {},
   "outputs": [],
   "source": [
    "w.run_mrt()\n",
    "w.find_mrt_sources()\n",
    "w.filter_sources()"
   ]
  },
  {
   "cell_type": "markdown",
   "id": "49573b7a",
   "metadata": {},
   "source": [
    "Below is the resulting MRT and sources"
   ]
  },
  {
   "cell_type": "code",
   "execution_count": null,
   "id": "dfe00c81",
   "metadata": {
    "scrolled": true
   },
   "outputs": [],
   "source": [
    "w.plot_mrt(show_sources=True)"
   ]
  },
  {
   "cell_type": "markdown",
   "id": "f32b19ac",
   "metadata": {},
   "source": [
    "Lastly, we generate the mask"
   ]
  },
  {
   "cell_type": "code",
   "execution_count": null,
   "id": "9ff107d4",
   "metadata": {},
   "outputs": [],
   "source": [
    "w.make_mask()\n",
    "w.plot_mask()"
   ]
  },
  {
   "cell_type": "markdown",
   "id": "0f752317",
   "metadata": {},
   "source": [
    "If you're really feeling very confident, you can run everything in a single line by setting `execute=True`."
   ]
  },
  {
   "cell_type": "code",
   "execution_count": null,
   "id": "c6c9d53d",
   "metadata": {
    "scrolled": true
   },
   "outputs": [],
   "source": [
    "w = WfcWrapper('jc8m32j5q_flc.fits', binsize=2, extension=4, output_root='example3', processes=8,\n",
    "               execute=True)"
   ]
  },
  {
   "cell_type": "markdown",
   "id": "6e2d8290",
   "metadata": {},
   "source": [
    "We'll plot the image and mask together to check that everything looks ok"
   ]
  },
  {
   "cell_type": "code",
   "execution_count": null,
   "id": "cd8046a6",
   "metadata": {},
   "outputs": [],
   "source": [
    "w.plot_image(overlay_mask=True)"
   ]
  },
  {
   "cell_type": "markdown",
   "id": "69675f8c",
   "metadata": {},
   "source": [
    "<a id=\"example4\"></a>\n",
    "## Example 4: Finding trails in a DRC image\n",
    "\n",
    "Applying `TrailFinder` to a DRC image (that shows both chips together) can boost sensitivity by increasing the number of pixels over which we search for trails. The DRC files also remove the distortion in the original FLC files (though this does not appear to create signficant curvature to most trails). \n",
    "\n",
    "Here, we demonstrate the steps that go into preparing a DRC image to be analyzed. The subsequent example will illustrate how to do all of this in a single line.\n",
    "\n",
    "There are no DQ arrays for the DRC files, so we ignore the pre-processing steps that incorporated those."
   ]
  },
  {
   "cell_type": "code",
   "execution_count": null,
   "id": "2611ffaf",
   "metadata": {},
   "outputs": [],
   "source": [
    "# Read in the image files and header information\n",
    "image_file = 'hst_13498_32_acs_wfc_f606w_jc8m32j5_drc.fits'\n",
    "ext = 1\n",
    "with fits.open(image_file) as h:\n",
    "    image = h[ext].data  # image data\n",
    "    wht = h[ext+1].data\n",
    "    image = image*wht  # wht is effective exposure time, so this turns it into counts\n",
    "    \n",
    "    header = h[0].header  # primary header\n",
    "    image_header = h[1].header  # image header"
   ]
  },
  {
   "cell_type": "code",
   "execution_count": null,
   "id": "e0aa5079",
   "metadata": {},
   "outputs": [],
   "source": [
    "# Flag anything with wht == 0 as bad\n",
    "image[wht == 0] = np.nan\n",
    "\n",
    "# Subtract the background from the image. \n",
    "median = np.nanmedian(image)\n",
    "image = image - np.nanmedian(image)"
   ]
  },
  {
   "cell_type": "code",
   "execution_count": null,
   "id": "01bb287c",
   "metadata": {},
   "outputs": [],
   "source": [
    "# Let's rebin the images\n",
    "binsize = 2\n",
    "image_rebin = block_reduce(image, binsize, func=np.nansum)"
   ]
  },
  {
   "cell_type": "markdown",
   "id": "6f010359",
   "metadata": {},
   "source": [
    "Setting up `TrailFinder` is essentially the same as earlier examples at this point. We'll use the default settings. In fact, about all the steps from here on out are the same."
   ]
  },
  {
   "cell_type": "code",
   "execution_count": null,
   "id": "ba69935b",
   "metadata": {},
   "outputs": [],
   "source": [
    "s4 = TrailFinder(image=image_rebin, processes=8, output_root='example4')"
   ]
  },
  {
   "cell_type": "markdown",
   "id": "66ef431e",
   "metadata": {},
   "source": [
    "We can do a quick plot of our image to make sure things look ok"
   ]
  },
  {
   "cell_type": "code",
   "execution_count": null,
   "id": "0bce4e3d",
   "metadata": {},
   "outputs": [],
   "source": [
    "s4.plot_image()"
   ]
  },
  {
   "cell_type": "markdown",
   "id": "c1cb96f9",
   "metadata": {},
   "source": [
    "Now run the MRT calculation and plot the results"
   ]
  },
  {
   "cell_type": "code",
   "execution_count": null,
   "id": "82cc852c",
   "metadata": {},
   "outputs": [],
   "source": [
    "s4.run_mrt()\n",
    "s4.plot_mrt(scale=[-1, 5])  # adjusted scale manually due to varying background in image"
   ]
  },
  {
   "cell_type": "markdown",
   "id": "26dd9c60",
   "metadata": {},
   "source": [
    "This example has a clear gradient in the background due to the cluster. This causes some large scale variation in the RT, but you can see the \"point source\" signals from the satellite trails around `x,y = (90,700)` and `x,y = (300,700)`. This is a case where we may have wanted to explore some different background subtraction methods, but we'll proceed with the simpler approach here. Now we'll try to pull the sources out."
   ]
  },
  {
   "cell_type": "code",
   "execution_count": null,
   "id": "07693400",
   "metadata": {
    "scrolled": true
   },
   "outputs": [],
   "source": [
    "s4.find_mrt_sources()"
   ]
  },
  {
   "cell_type": "markdown",
   "id": "b0b37524",
   "metadata": {},
   "source": [
    "And below we plot the MRT with the sources overlaid"
   ]
  },
  {
   "cell_type": "code",
   "execution_count": null,
   "id": "5b213dca",
   "metadata": {},
   "outputs": [],
   "source": [
    "s4.plot_mrt(show_sources=True)"
   ]
  },
  {
   "cell_type": "markdown",
   "id": "0efb4332",
   "metadata": {},
   "source": [
    "It's clearly shredding those large-scale features quite a bit, but we'll try to filter these out."
   ]
  },
  {
   "cell_type": "code",
   "execution_count": null,
   "id": "e774d81b",
   "metadata": {},
   "outputs": [],
   "source": [
    "s4.filter_sources()"
   ]
  },
  {
   "cell_type": "markdown",
   "id": "7bb302d0",
   "metadata": {},
   "source": [
    "Let's re-plot the MRT with sources to see what made it through"
   ]
  },
  {
   "cell_type": "code",
   "execution_count": null,
   "id": "039addef",
   "metadata": {},
   "outputs": [],
   "source": [
    "s4.plot_mrt(show_sources=True)"
   ]
  },
  {
   "cell_type": "markdown",
   "id": "65779354",
   "metadata": {},
   "source": [
    "That seems to have worked! Let's make the map to confirm"
   ]
  },
  {
   "cell_type": "code",
   "execution_count": null,
   "id": "5314fd66",
   "metadata": {},
   "outputs": [],
   "source": [
    "s4.make_mask()\n",
    "s4.plot_mask()\n",
    "s4.plot_segment()"
   ]
  },
  {
   "cell_type": "markdown",
   "id": "53ecf16d",
   "metadata": {},
   "source": [
    "Let's make a version plotting the mask on top of the original image"
   ]
  },
  {
   "cell_type": "code",
   "execution_count": null,
   "id": "681d29a2",
   "metadata": {},
   "outputs": [],
   "source": [
    "s4.plot_image(overlay_mask=True)"
   ]
  },
  {
   "cell_type": "markdown",
   "id": "acc92ac5",
   "metadata": {},
   "source": [
    "<a id=\"example5\"></a>\n",
    "## Example 5:  Finding trails in a DRC image using the WFC Wrapper\n",
    "\n",
    "All of the setup from the last example can be streamlined using the `WfcWrapper` class."
   ]
  },
  {
   "cell_type": "code",
   "execution_count": null,
   "id": "8a1f9771",
   "metadata": {},
   "outputs": [],
   "source": [
    "w2 = WfcWrapper('hst_13498_32_acs_wfc_f606w_jc8m32j5_drc.fits', binsize=2, extension=1, processes=8,\n",
    "                output_root='example5')"
   ]
  },
  {
   "cell_type": "markdown",
   "id": "ecbc3cf1",
   "metadata": {},
   "source": [
    "Run full pipeline now"
   ]
  },
  {
   "cell_type": "code",
   "execution_count": null,
   "id": "36bf9557",
   "metadata": {
    "scrolled": true
   },
   "outputs": [],
   "source": [
    "w2.run_all()"
   ]
  },
  {
   "cell_type": "markdown",
   "id": "177c03a2",
   "metadata": {},
   "source": [
    "Let's plot the final mask to ensure it looks the same as the earlier examples."
   ]
  },
  {
   "cell_type": "code",
   "execution_count": null,
   "id": "7dc7f533",
   "metadata": {},
   "outputs": [],
   "source": [
    "w2.plot_mask()"
   ]
  },
  {
   "cell_type": "markdown",
   "id": "d02fe703",
   "metadata": {},
   "source": [
    "And there you go!"
   ]
  },
  {
   "cell_type": "markdown",
   "id": "7cabd7a2",
   "metadata": {},
   "source": [
    "<a id=\"example6\"></a>\n",
    "## Example 6:  Create a new kernel for trail detection\n",
    "\n",
    "We include a function called create_mrt_line_kernel that can be used to generate kernels for detecting trails of s specified size in the MRT. Note that kernels with widths of 1, 3, 7, and 15 pixels (convolved with a simple Gaussian HST/ACS psf model) are included already, but perhaps you want to generate a kernel with a new width, or convolved with a different PSF."
   ]
  },
  {
   "cell_type": "markdown",
   "id": "1f5f4a32",
   "metadata": {},
   "source": [
    "Let's generate a kernel for a trail that has an inherent width of 5 pixels and is convolved with a Gaussian PSF with `sigma=3`. "
   ]
  },
  {
   "cell_type": "code",
   "execution_count": null,
   "id": "e890d06d",
   "metadata": {},
   "outputs": [],
   "source": [
    "out = create_mrt_line_kernel(5, 3, processes=8, plot=True)"
   ]
  },
  {
   "cell_type": "markdown",
   "id": "d9acfcce",
   "metadata": {},
   "source": [
    "The first plot show the model streak. The second plot shows the resulting MRT. The kernsl is created by taking a cutout around the signal in the MRT. The third double-plot shows 1D slices of the signal in the MRT, with orange lines showing the location of the maximum values. These serve as first guesses of the center, after which the center is redetermined using a Guassian fit and the cutout extracted with the kernel perfectly centered. The 4th plot above shows the final kernel.\n",
    "\n",
    "The kernel can be saved by defining the `outfile` keyword in `create_mrt_line_kernel`. By adding this file path into the `kernels` keyword in `TrailFinder` or `WfcWrapper`, it will be used for source detection when running `find_mrt_sources`."
   ]
  }
 ],
 "metadata": {
  "kernelspec": {
   "display_name": "Python 3 (ipykernel)",
   "language": "python",
   "name": "python3"
  },
  "language_info": {
   "codemirror_mode": {
    "name": "ipython",
    "version": 3
   },
   "file_extension": ".py",
   "mimetype": "text/x-python",
   "name": "python",
   "nbconvert_exporter": "python",
   "pygments_lexer": "ipython3",
   "version": "3.9.16"
  }
 },
 "nbformat": 4,
 "nbformat_minor": 5
}
