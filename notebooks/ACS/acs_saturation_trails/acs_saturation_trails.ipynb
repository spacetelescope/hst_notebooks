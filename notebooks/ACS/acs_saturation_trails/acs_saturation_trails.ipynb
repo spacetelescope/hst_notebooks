{
 "cells": [
  {
   "cell_type": "markdown",
   "metadata": {},
   "source": [
    "<div class=\"alert alert-block alert-warning\">\n",
    "<b>REQUIREMENT:</b>\n",
    "    Before proceeding, install or update your\n",
    "    <b><a class=\"divlink\" href=\"https://stenv.readthedocs.io/en/latest/\">\n",
    "    stenv\n",
    "    </a></b>\n",
    "     distribution. <b>stenv</b> is the replacement for AstroConda, which is unsupported as of February 2023.\n",
    "</div>"
   ]
  },
  {
   "cell_type": "markdown",
   "metadata": {},
   "source": [
    "# ACS Linearity with Saturated Stars\n",
    "\n",
    "## Introduction\n",
    "\n",
    "***\n",
    "\n",
    "The ACS/WFC CCD becomes saturated around 80000 counts. When this occurs, excess charge from the source spills out lengthwise along the columns of the CCD. This can lead to issues with photometry when using very bright stars, since a significant portion of the star's flux may fall outside of a reasonable extraction radius.\n",
    "\n",
    "However, accurate relative photometry can be obtained as long as a large enough aperture is selected to contain the spilled flux ([ACS ISR 2004-01](http://www.stsci.edu/files/live/sites/www/files/home/hst/instrumentation/acs/documentation/instrument-science-reports-isrs/_documents/isr0401.pdf)). While one could simply use a larger circular aperture, that may introduce error when working with a crowded field (where bright stars are often located).\n",
    "\n",
    "Here we present a method to identify and perform photometry on saturated sources by defining a custom aperture that is a combination of a standard 0.5\" arcsecond circular aperture and the pixels affected by saturation trails. This method has been tested on ACS/WFC observations of 47 Tuc in the F660W band. The plot below shows the results of using this alternative method to recover flux.\n",
    "\n",
    "![title](photometry_plot.png)\n",
    "\n",
    "### This tutorial will show you how to...\n",
    "\n",
    "#### 1. [Prepare Images](#_prep) \n",
    "\n",
    "* Apply Pixel Area Map\n",
    "* Separate by long and short exposure\n",
    "* Make sure you have images of the same field\n",
    "\n",
    "#### 2. [Identify Saturated Stars](#_identify)\n",
    "\n",
    "* Identify the saturated pixels using the data quality (DQ) array\n",
    "* Determine whether or not the saturation trails extend significantly away from the target\n",
    "\n",
    "#### 3. [Bleed the Saturation Mask](#_bleed)\n",
    "\n",
    "* Construct a convolution kernel\n",
    "* Bleed the saturation mask with the convolution kernel\n",
    "\n",
    "#### 4. [Define a Custom Aperture](#_define)\n",
    "\n",
    "* Isolate central clump from your saturation mask\n",
    "* Obtain circular aperture as a boolean mask\n",
    "* Combine circular aperture with saturation mask\n",
    "\n",
    "#### 5. [Photometry with a Custom Aperture](#_phot)\n",
    "\n",
    "* Extract counts with the custom aperture\n",
    "* Estimate background to be subtracted\n",
    "\n",
    "#### 5. [Additional Results](#_results)\n",
    "\n",
    "* A worked example with several stars"
   ]
  },
  {
   "cell_type": "markdown",
   "metadata": {},
   "source": [
    "## Imports\n",
    "\n",
    "***\n",
    "\n",
    "Here we list the Python packages used in this notebook. Links to the documentation for each module is provided for convenience.\n",
    "\n",
    "| Package Name     | module           | docs          | used for    |\n",
    "|------------------|:-----------------|:-------------:|:------------|\n",
    "| `os`             | `system`           | <a class=\"divlink\" href=\"https://docs.python.org/2/library/os.html#os.system\">link</a>|command line input|\n",
    "|`shutil`          | `rmtree`           | <a class=\"divlink\" href=\"https://docs.python.org/2/library/shutil.html#shutil.rmtree\">link</a>| remove directory tree |\n",
    "|`numpy`           | `_s`               | <a class=\"divlink\" href=\"https://docs.scipy.org/doc/numpy-1.13.0/reference/generated/numpy.s_.html\">link</a>| construct array slice object |\n",
    "|`matplotlib`      |`pyplot`    | <a class=\"divlink\" href=\"https://matplotlib.org/api/_as_gen/matplotlib.colors.LogNorm.html#matplotlib.colors.LogNorm\">link</a>| plotting |\n",
    "|`astroquery.mast` |`Observations`      | <a class=\"divlink\" href=\"https://astroquery.readthedocs.io/en/latest/mast/mast.html\">link</a>| download data from MAST |\n",
    "|`astropy.io`      | `fits`             | <a class=\"divlink\" href=\"http://docs.astropy.org/en/stable/io/fits/\">link</a>| access and update fits files |\n",
    "|`astropy.table`   | `Table`            | <a class=\"divlink\" href=\"http://docs.astropy.org/en/stable/table/\">link</a>| constructing and editing in a tabular format |\n",
    "|`astropy.stats`   |`sigma_clip`| <a class=\"divlink\" href=\"http://docs.astropy.org/en/stable/api/astropy.stats.sigma_clip.html\">link</a>| sigma clipping image for background estimation |\n",
    "|`scipy.signal`    |`convolve2d`| <a class=\"divlink\" href=\"https://docs.scipy.org/doc/scipy/reference/generated/scipy.signal.convolve2d.html\">link</a>| convolve saturation mask with kernel |\n",
    "|`stsci.skypac`    |`pamutils`| <a class=\"divlink\" href=\"https://stsci-skypac.readthedocs.io/en/stable/_modules/stsci/skypac/pamutils.html\">link</a>|obtain pixel area maps (PAM) |\n",
    "|`photutils`       |`CircularAperture`| <a class=\"divlink\" href=\"https://photutils.readthedocs.io/en/stable/api/photutils.CircularAperture.html\">link</a>| aperture object for photometry |\n",
    "|`matplotlib.patches`|`Circle`| <a class=\"divlink\" href=\"https://matplotlib.org/api/_as_gen/matplotlib.patches.Circle.html\">link</a>| draw circle on a plot |"
   ]
  },
  {
   "cell_type": "code",
   "execution_count": null,
   "metadata": {},
   "outputs": [],
   "source": [
    "import os\n",
    "import shutil\n",
    "\n",
    "import numpy as np\n",
    "import matplotlib.pyplot as plt\n",
    "\n",
    "from astroquery.mast import Observations\n",
    "\n",
    "from astropy.io import fits\n",
    "from astropy.table import Table, unique\n",
    "from astropy.stats import sigma_clip\n",
    "\n",
    "from scipy.signal import convolve2d\n",
    "from stsci.skypac import pamutils\n",
    "\n",
    "from photutils import CircularAperture\n",
    "from matplotlib.patches import Circle\n",
    "from p_module import plot"
   ]
  },
  {
   "cell_type": "markdown",
   "metadata": {},
   "source": [
    "Here we set environment variables for later use with the Calibration Reference Data System (CRDS)."
   ]
  },
  {
   "cell_type": "code",
   "execution_count": null,
   "metadata": {},
   "outputs": [],
   "source": [
    "os.environ['CRDS_SERVER_URL'] = 'https://hst-crds.stsci.edu'\n",
    "os.environ['CRDS_SERVER'] = 'https://hst-crds.stsci.edu'\n",
    "os.environ['CRDS_PATH'] = './crds_cache'\n",
    "os.environ['jref'] = './crds_cache/references/hst/acs/'"
   ]
  },
  {
   "cell_type": "markdown",
   "metadata": {},
   "source": [
    "## Download the Data\n",
    "\n",
    "***\n",
    "\n",
    "Here we download all of the data required for this notebook. This is an important step! Some of the image processing steps require all relevant files to be in the working directory. We recommend working with a brand new directory for every new set of data.\n",
    "\n",
    "#### [GO Proposal 14949](https://stdatu.stsci.edu/proposal_search.php?mission=hst&id=14949): \"ACS External CTE Monitor\"\n",
    "\n",
    "Using the python package `astroquery`, we can download files from the [MAST](http://archive.stsci.edu) archive.\n",
    "\n",
    "<div class=\"alert alert-danger\">\n",
    "<b>MAY CHANGE:</b> The argument \"mrp_only\" stands for \"minimum recommended products only\". It currently needs to be set to False, although in the future, False is intended to be set as the default and can be left out.\n",
    "</div>"
   ]
  },
  {
   "cell_type": "code",
   "execution_count": null,
   "metadata": {},
   "outputs": [],
   "source": [
    "obs_table = Observations.query_criteria(proposal_id=14949, filters='F606W')\n",
    "\n",
    "dl_table = Observations.download_products(obs_table['obsid'], project=['CALACS'],\n",
    "                                          productSubGroupDescription=['FLC'],\n",
    "                                          mrp_only=False)\n",
    "unique_table = unique(dl_table, keys='Local Path')"
   ]
  },
  {
   "cell_type": "markdown",
   "metadata": {},
   "source": [
    "We'll use the package `os` to put all of these files in our working directory for convenience."
   ]
  },
  {
   "cell_type": "code",
   "execution_count": null,
   "metadata": {},
   "outputs": [],
   "source": [
    "for row in unique_table:\n",
    "    oldfname = row['Local Path']\n",
    "    unique_fname = np.unique(oldfname)\n",
    "    newfname = os.path.basename(oldfname)\n",
    "    print(row)\n",
    "    os.rename(oldfname, newfname)"
   ]
  },
  {
   "cell_type": "markdown",
   "metadata": {},
   "source": [
    "Now that all of our files are in the current working directory, we delete the leftover MAST file structure."
   ]
  },
  {
   "cell_type": "code",
   "execution_count": null,
   "metadata": {},
   "outputs": [],
   "source": [
    "shutil.rmtree('mastDownload')"
   ]
  },
  {
   "cell_type": "markdown",
   "metadata": {},
   "source": [
    "### File Information <a id=\"_fileinfo\"></a>\n",
    "The structure of the fits files from ACS may be different depending on what kind of observation was made. \n",
    "For more information, refer to Section 2.2of the [ACS Data Handbook](http://www.stsci.edu/files/live/sites/www/files/home/hst/instrumentation/acs/documentation/other-documents/_documents/acs_dhb.pdf).\n",
    "\n",
    "#### Raw Files\n",
    "\n",
    "A standard raw image file from a subarray has the same structure as you'd expect from full frame observation from ACS/WCS.\n",
    "\n",
    "| Ext    | Name             | Type         | Contains                                               |\n",
    "|--------|------------------|--------------|:-------------------------------------------------------|\n",
    "|<b>0</b>| PRIMARY          | (PrimaryHDU) | Meta-data related to the entire file.                  |\n",
    "|<b>1</b>| SCI (Image)      | (ImageHDU)   | Raw image data.                                        |\n",
    "|<b>2</b>| ERR (Error)      | (ImageHDU)   | Error array.                                           |\n",
    "|<b>3</b>| DQ (Data Quality)| (ImageHDU)   | Data quality array.                                    |\n",
    "\n",
    "#### SPT Files\n",
    "\n",
    "SPT files contain telemetry and engineering data from the telescope.\n",
    "\n",
    "| Ext    | Name             | Type         | Contains                                               |\n",
    "|--------|------------------|--------------|:-------------------------------------------------------|\n",
    "|<b>0</b>| PRIMARY          | (PrimaryHDU) | Meta-data related to the entire file.                  |\n",
    "|<b>1</b>| UDL (Image)      | (ImageHDU)   | Raw image data.                                        |"
   ]
  },
  {
   "cell_type": "markdown",
   "metadata": {},
   "source": [
    "You can always use `.info()` on an HDUlist for an overview of the structure."
   ]
  },
  {
   "cell_type": "code",
   "execution_count": null,
   "metadata": {},
   "outputs": [],
   "source": [
    "with fits.open('jdg302ctq_flc.fits') as hdulist:\n",
    "    hdulist.info()"
   ]
  },
  {
   "cell_type": "markdown",
   "metadata": {},
   "source": [
    "## 1. Prepare Images <a id=\"_prep\"></a>\n",
    "***\n",
    "\n",
    "For this notebook, we will need two well-aligned images of the same field on the sky. One image should have a short exposure time (eg. 40 seconds) and the other should have a long exposure time (eg. 400 seconds). Here we assume you already know which images those are, and set those observation files to appropriate variable names."
   ]
  },
  {
   "cell_type": "code",
   "execution_count": null,
   "metadata": {},
   "outputs": [],
   "source": [
    "fname_short = 'jdg302ctq_flc.fits'\n",
    "fname_long = 'jdg301c4q_flc.fits'"
   ]
  },
  {
   "cell_type": "markdown",
   "metadata": {},
   "source": [
    "Before we use our images for photometry, we will need to apply a pixel area map (PAM) correction. This step corrects the difference in flux accross the CCD due to distortion. A dedicated notebook on PAM corrections can be found in the ACS notebook collection.\n",
    "\n",
    "First, we will work with the short exposure image."
   ]
  },
  {
   "cell_type": "code",
   "execution_count": null,
   "metadata": {},
   "outputs": [],
   "source": [
    "fitsfile = fname_short"
   ]
  },
  {
   "cell_type": "markdown",
   "metadata": {},
   "source": [
    "Now we can extract the image from the fits file using the python package `fits`. Here, I use the name \"raw_short\" to indicate that this image has not had the PAM correction applied, and is the short exposure image."
   ]
  },
  {
   "cell_type": "code",
   "execution_count": null,
   "metadata": {},
   "outputs": [],
   "source": [
    "raw_short = fits.getdata(fitsfile)"
   ]
  },
  {
   "cell_type": "markdown",
   "metadata": {},
   "source": [
    "Now we need to obtain the PAM for this image using the python package `pamutils`. To contruct the new filename for the PAM, we will use the python package `os` to grab the basename of our fits file, and append '_pam.fits' at the end."
   ]
  },
  {
   "cell_type": "code",
   "execution_count": null,
   "metadata": {},
   "outputs": [],
   "source": [
    "pname = os.path.basename(fitsfile).split('.')[0] + '_pam.fits'\n",
    "print(pname)"
   ]
  },
  {
   "cell_type": "markdown",
   "metadata": {},
   "source": [
    "Now we can run `pam_from_file` on our fits file to create our PAM."
   ]
  },
  {
   "cell_type": "code",
   "execution_count": null,
   "metadata": {},
   "outputs": [],
   "source": [
    "pamutils.pam_from_file(fitsfile, ext=1, output_pam=pname)"
   ]
  },
  {
   "cell_type": "markdown",
   "metadata": {},
   "source": [
    "Once our PAM has been written to file, we can extract it with `fits` for later use."
   ]
  },
  {
   "cell_type": "code",
   "execution_count": null,
   "metadata": {},
   "outputs": [],
   "source": [
    "pam_short = fits.getdata(pname)"
   ]
  },
  {
   "cell_type": "markdown",
   "metadata": {},
   "source": [
    "Finally, we can apply the PAM corrections to our \"raw\" image."
   ]
  },
  {
   "cell_type": "code",
   "execution_count": null,
   "metadata": {},
   "outputs": [],
   "source": [
    "img_short = raw_short * pam_short"
   ]
  },
  {
   "cell_type": "markdown",
   "metadata": {},
   "source": [
    "There is one more array we'll need to extract from our fits file. The data quality (DQ) array labels saturated pixels with the flag number 256. As seen from our [file information](#_fileinfo), the DQ array can be found in extension 3 of the HDU list."
   ]
  },
  {
   "cell_type": "code",
   "execution_count": null,
   "metadata": {},
   "outputs": [],
   "source": [
    "dq_short = fits.getdata(fitsfile, ext=3) == 256"
   ]
  },
  {
   "cell_type": "markdown",
   "metadata": {},
   "source": [
    "Here I repeat all of the previous steps with the long exposure image, changing variable names where necessary."
   ]
  },
  {
   "cell_type": "code",
   "execution_count": null,
   "metadata": {},
   "outputs": [],
   "source": [
    "fitsfile = fname_long\n",
    "\n",
    "dq_long = fits.getdata(fitsfile, ext=3) == 256\n",
    "raw_long = fits.getdata(fitsfile)\n",
    "\n",
    "pname = os.path.basename(fitsfile).split('.')[0] + '_pam.fits'\n",
    "pamutils.pam_from_file(fitsfile, ext=1, output_pam=pname)\n",
    "\n",
    "pam_long = fits.getdata(pname)\n",
    "\n",
    "img_long = raw_long * pam_long"
   ]
  },
  {
   "cell_type": "markdown",
   "metadata": {},
   "source": [
    "## 2. Identify Saturated Stars <a id=\"_identify\"></a>\n",
    "***\n",
    "\n",
    "Before we begin our modified aperture photometry routine, we should determine whether or not our sources are saturated. We can identify saturated stars by whether or not their saturation trails extend past a typical extraction radius.\n",
    "\n",
    "Here we have the local coordinates of a bright star in our field."
   ]
  },
  {
   "cell_type": "code",
   "execution_count": null,
   "metadata": {},
   "outputs": [],
   "source": [
    "local_coord = {'x': 1711, 'y': 225}"
   ]
  },
  {
   "cell_type": "markdown",
   "metadata": {},
   "source": [
    "We will make cutouts around our source with a radius of 100 pixels. This size cutout is typically big enough to contain saturation trails from the brightest stars. We will also assume that our extraction aperture has a radius of 0.5 arcseconds. Knowing that the ACS pixel scale is ~20 pixels/arcsecond, we can calculate our aperture radius in pixels."
   ]
  },
  {
   "cell_type": "code",
   "execution_count": null,
   "metadata": {},
   "outputs": [],
   "source": [
    "pix_per_arcsec = 20\n",
    "cutout_radius = 100\n",
    "aperture_radius = 0.5 * pix_per_arcsec"
   ]
  },
  {
   "cell_type": "markdown",
   "metadata": {},
   "source": [
    "We can make a slice object with numpy to help make cutouts around our source. It will be convenient for us to define a function to construct a cutter object with `numpy`."
   ]
  },
  {
   "cell_type": "code",
   "execution_count": null,
   "metadata": {},
   "outputs": [],
   "source": [
    "def make_cutter(x, y, cutout_radius=100):\n",
    "    \n",
    "    # Makes a 2D array slice object centered around x, y\n",
    "    \n",
    "    starty, endy = (y - cutout_radius), (y + cutout_radius)\n",
    "    startx, endx = (x - cutout_radius), (x + cutout_radius)\n",
    "    \n",
    "    return np.s_[starty:endy, startx:endx]"
   ]
  },
  {
   "cell_type": "markdown",
   "metadata": {},
   "source": [
    "Now we can take a cutout of our image around the source."
   ]
  },
  {
   "cell_type": "code",
   "execution_count": null,
   "metadata": {},
   "outputs": [],
   "source": [
    "cutter = make_cutter(local_coord['x'], local_coord['y'])"
   ]
  },
  {
   "cell_type": "markdown",
   "metadata": {},
   "source": [
    "Before we try out our cutter, let's take a look at our full frame image."
   ]
  },
  {
   "cell_type": "code",
   "execution_count": null,
   "metadata": {},
   "outputs": [],
   "source": [
    "plot.ds9_imitate(plt, img_short)"
   ]
  },
  {
   "cell_type": "markdown",
   "metadata": {},
   "source": [
    "Now by indexing our image with our cutter, we can grab just the cutout we need!"
   ]
  },
  {
   "cell_type": "code",
   "execution_count": null,
   "metadata": {},
   "outputs": [],
   "source": [
    "plot.ds9_imitate(plt, img_short[cutter])"
   ]
  },
  {
   "cell_type": "markdown",
   "metadata": {},
   "source": [
    "We can visually confirm that this source is affected by saturation trails in the short exposure. What about the long exposure image? Since our images are aligned, we can use the same coordinates (and the same cutter!) as before."
   ]
  },
  {
   "cell_type": "code",
   "execution_count": null,
   "metadata": {},
   "outputs": [],
   "source": [
    "plot.ds9_imitate(plt, img_long[cutter])"
   ]
  },
  {
   "cell_type": "markdown",
   "metadata": {},
   "source": [
    "We can also apply the same cutter to our DQ saturated pixel array!"
   ]
  },
  {
   "cell_type": "code",
   "execution_count": null,
   "metadata": {},
   "outputs": [],
   "source": [
    "plt.imshow(dq_short[cutter], cmap='bone')"
   ]
  },
  {
   "cell_type": "markdown",
   "metadata": {},
   "source": [
    "As we expect, we do not see very much saturation in our short exposure image. What about our long exposure image?"
   ]
  },
  {
   "cell_type": "code",
   "execution_count": null,
   "metadata": {},
   "outputs": [],
   "source": [
    "plt.imshow(dq_long[cutter], cmap='bone')"
   ]
  },
  {
   "cell_type": "markdown",
   "metadata": {},
   "source": [
    "Now we see a large clump of saturated pixels spilling along the y-axis!"
   ]
  },
  {
   "cell_type": "markdown",
   "metadata": {},
   "source": [
    "For both of these images, we want to see whether or not the saturated pixels fall outside the range of our typical 0.5\" extraction radius."
   ]
  },
  {
   "cell_type": "code",
   "execution_count": null,
   "metadata": {},
   "outputs": [],
   "source": [
    "fig = plt.figure(figsize=[5, 5])\n",
    "ax = fig.add_subplot(111)\n",
    "\n",
    "circ_patch = Circle((cutout_radius, cutout_radius),\n",
    "                    radius=aperture_radius,\n",
    "                    color='C1',\n",
    "                    linewidth=2,\n",
    "                    fill=False)\n",
    "\n",
    "ax.imshow(dq_short[cutter], cmap='bone')\n",
    "ax.add_patch(circ_patch)"
   ]
  },
  {
   "cell_type": "code",
   "execution_count": null,
   "metadata": {},
   "outputs": [],
   "source": [
    "fig = plt.figure(figsize=[5, 5])\n",
    "ax = fig.add_subplot(111)\n",
    "\n",
    "circ_patch = Circle((cutout_radius, cutout_radius),\n",
    "                    radius=aperture_radius,\n",
    "                    color='C1',\n",
    "                    linewidth=2,\n",
    "                    fill=False)\n",
    "ax.imshow(dq_long[cutter], cmap='bone', origin='lower')\n",
    "ax.add_patch(circ_patch)"
   ]
  },
  {
   "cell_type": "markdown",
   "metadata": {},
   "source": [
    "Since the saturated pixels extend past our extraction radius, we need to use a different method to improve photometry"
   ]
  },
  {
   "cell_type": "markdown",
   "metadata": {},
   "source": [
    "## 3. Bleed the Saturation Mask <a id=\"_bleed\"></a>\n",
    "\n",
    "First we need to define a kernel to bleed our saturation mask. We can do this by hand. Since pixels affected by saturation will spill charge along columns, all we need is to convolve our image with a column kernel."
   ]
  },
  {
   "cell_type": "code",
   "execution_count": null,
   "metadata": {},
   "outputs": [],
   "source": [
    "bleed_kernel = np.array([[0, 1, 0],\n",
    "                         [0, 1, 0],\n",
    "                         [0, 1, 0],\n",
    "                         [0, 1, 0],\n",
    "                         [0, 1, 0]])\n",
    "\n",
    "plt.imshow(bleed_kernel, origin='lower')"
   ]
  },
  {
   "cell_type": "markdown",
   "metadata": {},
   "source": [
    "We will use the `scipy` function `convolve2d()` to convolve our cutout with our kernel. Here, `mode='same'` ensures that the returned array is the same shape as the input array."
   ]
  },
  {
   "cell_type": "code",
   "execution_count": null,
   "metadata": {},
   "outputs": [],
   "source": [
    "conv_sat = convolve2d(dq_long[cutter], bleed_kernel, mode='same')"
   ]
  },
  {
   "cell_type": "markdown",
   "metadata": {},
   "source": [
    "After convolution, we need to convert to a boolean array."
   ]
  },
  {
   "cell_type": "code",
   "execution_count": null,
   "metadata": {},
   "outputs": [],
   "source": [
    "sat_aperture = np.array([x > 0 for x in conv_sat]).astype(bool)"
   ]
  },
  {
   "cell_type": "markdown",
   "metadata": {},
   "source": [
    "Finally, let's take a look at our mask to make sure it \"bled out\" properly."
   ]
  },
  {
   "cell_type": "code",
   "execution_count": null,
   "metadata": {},
   "outputs": [],
   "source": [
    "fig = plt.figure(figsize=[5, 5])\n",
    "ax = fig.add_subplot(111)\n",
    "\n",
    "ax.imshow(sat_aperture, cmap='bone', origin='lower')"
   ]
  },
  {
   "cell_type": "markdown",
   "metadata": {},
   "source": [
    "## 4. Define a Custom Aperture <a id=\"_define\"></a>\n",
    "\n",
    "Now we want to create a new aperture which includes the pixels with the spilled charge. If we want to use the saturation mask we just created, we need to isolate only the clump associated with our star.\n",
    "\n",
    "Here, we give you a function which will return a mask with only the central clump."
   ]
  },
  {
   "cell_type": "code",
   "execution_count": null,
   "metadata": {},
   "outputs": [],
   "source": [
    "# Isolate associated clump from saturation mask\n",
    "\n",
    "def find_central_clump(boolean_mask):\n",
    "    \n",
    "    print(boolean_mask)\n",
    "    \n",
    "    from scipy import ndimage\n",
    "\n",
    "    central_index = tuple((np.array(np.shape(boolean_mask))/2).astype(int))\n",
    "\n",
    "    label, num_label = ndimage.label(boolean_mask)\n",
    "    size = np.bincount(label.ravel())\n",
    "    \n",
    "    clump_labels = range(size[1:].shape[0])\n",
    "    \n",
    "    is_central_clump = False\n",
    "    \n",
    "    for cl in clump_labels:\n",
    "        \n",
    "        clump_mask = label == (cl + 1)\n",
    "        idxs = [tuple(i) for i in np.argwhere(clump_mask)]\n",
    "        is_central_clump = central_index in idxs\n",
    "\n",
    "        if is_central_clump:\n",
    "            \n",
    "            return clump_mask\n",
    "        \n",
    "    if not is_central_clump:\n",
    "        \n",
    "        return 0"
   ]
  },
  {
   "cell_type": "markdown",
   "metadata": {},
   "source": [
    "We can apply this function to our mask to isolate the central clump."
   ]
  },
  {
   "cell_type": "code",
   "execution_count": null,
   "metadata": {},
   "outputs": [],
   "source": [
    "central_clump = find_central_clump(sat_aperture)"
   ]
  },
  {
   "cell_type": "markdown",
   "metadata": {},
   "source": [
    "Now we can plot the resulting array to see the clump of interest isolated at the center."
   ]
  },
  {
   "cell_type": "code",
   "execution_count": null,
   "metadata": {},
   "outputs": [],
   "source": [
    "plt.imshow(central_clump, origin='lower')"
   ]
  },
  {
   "cell_type": "markdown",
   "metadata": {},
   "source": [
    "We can use the package `photutils` to define a circular aperture. To combine it with our mask, we need the circular aperture in mask form. Luckily, this is a built-in feature of aperture objects!"
   ]
  },
  {
   "cell_type": "code",
   "execution_count": null,
   "metadata": {},
   "outputs": [],
   "source": [
    "aperture = CircularAperture((cutout_radius, cutout_radius), aperture_radius)\n",
    "aperture_mask = np.array(aperture.to_mask())\n",
    "\n",
    "plt.imshow(aperture_mask, origin='lower')"
   ]
  },
  {
   "cell_type": "markdown",
   "metadata": {},
   "source": [
    "To match the size of our cutout, we can create a new array with our circular aperture at the center"
   ]
  },
  {
   "cell_type": "code",
   "execution_count": null,
   "metadata": {},
   "outputs": [],
   "source": [
    "circular_mask = np.zeros(np.shape(sat_aperture))\n",
    "\n",
    "aperture_dim = np.shape(aperture_mask)\n",
    "cutout_dim = np.shape(circular_mask)\n",
    "\n",
    "insert_start = int((cutout_dim[0] - aperture_dim[0]) / 2)\n",
    "insert_end = int(insert_start + aperture_dim[0])\n",
    "\n",
    "circular_mask[insert_start:insert_end, insert_start:insert_end] = aperture_mask\n",
    "    \n",
    "circular_mask = circular_mask.astype(bool)\n",
    "\n",
    "plt.imshow(circular_mask, origin='lower')"
   ]
  },
  {
   "cell_type": "markdown",
   "metadata": {},
   "source": [
    "We can use the `numpy` function `logical_or()` to combine both of our masks to form one boolean array."
   ]
  },
  {
   "cell_type": "code",
   "execution_count": null,
   "metadata": {},
   "outputs": [],
   "source": [
    "combined_aperture = np.logical_or(central_clump, circular_mask)\n",
    "\n",
    "plt.imshow(combined_aperture, origin='lower')"
   ]
  },
  {
   "cell_type": "markdown",
   "metadata": {},
   "source": [
    "## 5. Photometry with a Custom Aperture <a id=\"_phot\"></a>\n",
    "\n",
    "Now that we have our custom aperture, let's use that aperture to perform photometry for one source on boht our short and long expsure images.\n",
    "\n",
    "We'll start with the short exposure image. As before, we will use our cutter to make a cutout around the source."
   ]
  },
  {
   "cell_type": "code",
   "execution_count": null,
   "metadata": {},
   "outputs": [],
   "source": [
    "img_cutout = img_short[cutter]"
   ]
  },
  {
   "cell_type": "markdown",
   "metadata": {},
   "source": [
    "To obtain the flux in the aperture, all we need to do is to apply the mask to the cutout, and then sum the values."
   ]
  },
  {
   "cell_type": "code",
   "execution_count": null,
   "metadata": {},
   "outputs": [],
   "source": [
    "flux_sum = np.sum(img_cutout[combined_aperture])"
   ]
  },
  {
   "cell_type": "markdown",
   "metadata": {},
   "source": [
    "To get the local background for each source, we will sigma-clip the image and calculate the median background value. "
   ]
  },
  {
   "cell_type": "code",
   "execution_count": null,
   "metadata": {},
   "outputs": [],
   "source": [
    "bkg_data = sigma_clip(img_cutout, sigma=2, maxiters=10)"
   ]
  },
  {
   "cell_type": "markdown",
   "metadata": {},
   "source": [
    "We will then estimate the background in our new aperture by multiplying the median by the area covered by the aperture."
   ]
  },
  {
   "cell_type": "code",
   "execution_count": null,
   "metadata": {},
   "outputs": [],
   "source": [
    "new_aperture_area = np.sum(combined_aperture)\n",
    "bkg_sum = np.median(bkg_data) * new_aperture_area"
   ]
  },
  {
   "cell_type": "markdown",
   "metadata": {},
   "source": [
    "Subtract the estimated background from our flux sum, and you're finished!"
   ]
  },
  {
   "cell_type": "code",
   "execution_count": null,
   "metadata": {},
   "outputs": [],
   "source": [
    "final_sum_short = flux_sum - bkg_sum\n",
    "\n",
    "print(final_sum_short)"
   ]
  },
  {
   "cell_type": "markdown",
   "metadata": {},
   "source": [
    "Below, I repeat the photometry steps for this source on the long exposure image."
   ]
  },
  {
   "cell_type": "code",
   "execution_count": null,
   "metadata": {},
   "outputs": [],
   "source": [
    "img_cutout = img_long[cutter]\n",
    "flux_sum = np.sum(img_cutout[combined_aperture])\n",
    "bkg_data = sigma_clip(img_cutout, sigma=2, maxiters=10)\n",
    "bkg_sum = np.median(bkg_data) * new_aperture_area\n",
    "\n",
    "final_sum_long = flux_sum - bkg_sum\n",
    "\n",
    "print(final_sum_long)"
   ]
  },
  {
   "cell_type": "markdown",
   "metadata": {},
   "source": [
    "If we have recovered the lost flux with our new aperture, our star in the 400 second exposure should have ~10 times the flux as our star in the 40 second exposure."
   ]
  },
  {
   "cell_type": "code",
   "execution_count": null,
   "metadata": {},
   "outputs": [],
   "source": [
    "final_sum_long/final_sum_short"
   ]
  },
  {
   "cell_type": "markdown",
   "metadata": {},
   "source": [
    "## 6.  Additional Results<a id=\"_results\"></a>\n",
    "\n",
    "Here we perform all of the photometry steps on a list of three stars. This section of the notebook is intended as a worked example for multiple stars, and therefore will not guide you through each step.\n",
    "\n",
    "Since we are dealing with photometry of more than one star, it will be convenient to define a table to store information for each star. We will create a column each for x-position, y-position, and the final flux sum for each of the images. We set the table length at 'n' rows for each star, and fill it with zeros to start."
   ]
  },
  {
   "cell_type": "code",
   "execution_count": null,
   "metadata": {},
   "outputs": [],
   "source": [
    "local_coords = [(1711, 225), (1205, 238), (3159, 312)]\n",
    "n = len(local_coords)\n",
    "\n",
    "dtype = [('x', 'i4'), \n",
    "         ('y', 'i4'), \n",
    "         ('flux_short', 'f8'), \n",
    "         ('flux_long', 'f8'), \n",
    "         ('flux_ratio', 'f8')]\n",
    "\n",
    "source_table = Table(data=np.zeros(n, dtype=dtype))\n",
    "\n",
    "source_table['x'] = [c[0] for c in local_coords]\n",
    "source_table['y'] = [c[1] for c in local_coords]\n",
    "\n",
    "print(source_table)"
   ]
  },
  {
   "cell_type": "markdown",
   "metadata": {},
   "source": [
    "Below I have condensed the steps of this notebook into functions."
   ]
  },
  {
   "cell_type": "code",
   "execution_count": null,
   "metadata": {},
   "outputs": [],
   "source": [
    "def prepare_images(fname):\n",
    "    \n",
    "    pname = os.path.basename(fname).split('.')[0] + '_pam.fits'\n",
    "    pamutils.pam_from_file(fname, ext=1, output_pam=pname)\n",
    "\n",
    "    raw_array = fits.getdata(fname)\n",
    "    pam_array = fits.getdata(pname)\n",
    "    img_array = raw_array * pam_array\n",
    "\n",
    "    sat_array = fits.getdata(fname, ext=3) == 256\n",
    "    \n",
    "    return img_array, sat_array\n",
    "\n",
    "\n",
    "def bleed_saturation_mask(sat_array):\n",
    "    \n",
    "    bleed_kernel = np.array([[0, 1, 0],\n",
    "                             [0, 1, 0],\n",
    "                             [0, 1, 0],\n",
    "                             [0, 1, 0],\n",
    "                             [0, 1, 0]])\n",
    "    \n",
    "    convolved = convolve2d(sat_array, bleed_kernel, mode='same')\n",
    "    bled_mask = np.array([x > 0 for x in convolved]).astype(bool)\n",
    "    \n",
    "    return bled_mask\n",
    "\n",
    "\n",
    "def photometry_on_cutout(img_cutout, custom_aperture):\n",
    "    \n",
    "    flux_sum = np.sum(img_cutout[custom_aperture])\n",
    "    bkg_data = sigma_clip(img_cutout, sigma=3, maxiters=10)\n",
    "    \n",
    "    aperture_area = np.sum(custom_aperture)\n",
    "    bkg_flux = np.median(bkg_data) * aperture_area\n",
    "    \n",
    "    return flux_sum-bkg_flux"
   ]
  },
  {
   "cell_type": "markdown",
   "metadata": {},
   "source": [
    "The following cell performs photometry on the three stars."
   ]
  },
  {
   "cell_type": "code",
   "execution_count": null,
   "metadata": {},
   "outputs": [],
   "source": [
    "for row in source_table:\n",
    "\n",
    "    img_arr_s, _ = prepare_images(fname_short)\n",
    "    img_arr_l, sat_arr = prepare_images(fname_long)\n",
    "    sat_mask = bleed_saturation_mask(sat_arr)\n",
    "\n",
    "    cutter = make_cutter(row['x'], row['y'])\n",
    "\n",
    "    sat_aperture = find_central_clump(sat_mask[cutter])\n",
    "\n",
    "    custom_aperture = np.logical_or(sat_aperture, circular_mask)\n",
    "\n",
    "    row['flux_short'] = photometry_on_cutout(img_arr_s[cutter], custom_aperture)\n",
    "    row['flux_long'] = photometry_on_cutout(img_arr_l[cutter], custom_aperture)\n",
    "    \n",
    "source_table['flux_ratio'] = source_table['flux_long'] / source_table['flux_short']"
   ]
  },
  {
   "cell_type": "markdown",
   "metadata": {},
   "source": [
    "Let's take a look at our table..."
   ]
  },
  {
   "cell_type": "code",
   "execution_count": null,
   "metadata": {},
   "outputs": [],
   "source": [
    "source_table"
   ]
  },
  {
   "cell_type": "markdown",
   "metadata": {},
   "source": [
    "While this method is an improvement for some saturated stars, it still has limitations. We can make a quick plot to show that the percentage of recovered flux decreases for brighter stars."
   ]
  },
  {
   "cell_type": "code",
   "execution_count": null,
   "metadata": {},
   "outputs": [],
   "source": [
    "fig = plt.figure(figsize=(8, 5))\n",
    "ax = fig.add_subplot(111)\n",
    "\n",
    "ax.plot(source_table['flux_short']/np.max(source_table['flux_short']),\n",
    "        source_table['flux_ratio']*10, 'o')\n",
    "\n",
    "ax.text(.7, 101, 'Perfect Recovery', color='C1', fontsize=12)\n",
    "ax.set_ylim([60, 104])\n",
    "ax.set_xlabel('Relative Flux (40s exposure)', fontsize=12)\n",
    "ax.set_ylabel('% recovered flux (400s exposure)', fontsize=12)\n",
    "ax.axhline(y=100, linestyle='--', color='C1')\n",
    "ax.grid(True, linestyle=':')"
   ]
  },
  {
   "cell_type": "markdown",
   "metadata": {},
   "source": [
    "### References\n",
    "\n",
    "***\n",
    "\n",
    "http://iopscience.iop.org/article/10.1086/444553\n",
    "\n",
    "http://documents.stsci.edu/hst/acs/documents/handbooks/DataHandbookv3/acs_Ch57.html\n",
    "\n"
   ]
  }
 ],
 "metadata": {
  "kernelspec": {
   "display_name": "Python 3 (ipykernel)",
   "language": "python",
   "name": "python3"
  },
  "language_info": {
   "codemirror_mode": {
    "name": "ipython",
    "version": 3
   },
   "file_extension": ".py",
   "mimetype": "text/x-python",
   "name": "python",
   "nbconvert_exporter": "python",
   "pygments_lexer": "ipython3",
   "version": "3.10.9"
  }
 },
 "nbformat": 4,
 "nbformat_minor": 4
}
