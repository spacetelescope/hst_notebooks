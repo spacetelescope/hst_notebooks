{
 "cells": [
  {
   "cell_type": "markdown",
   "metadata": {},
   "source": [
    "<div class=\"alert alert-block alert-warning\">\n",
    "<b>REQUIREMENT:</b>\n",
    "    Before proceeding, install or update your\n",
    "    <b><a class=\"divlink\" href=\"https://stenv.readthedocs.io/en/latest/\">\n",
    "    stenv\n",
    "    </a></b>\n",
    "    distribution. <b>stenv</b> is the replacement for AstroConda, which is unsupported as of February 2023.\n",
    "</div>"
   ]
  },
  {
   "cell_type": "markdown",
   "metadata": {},
   "source": [
    "# ACS Image Reduction for Subarray Data\n",
    "\n",
    "## Introduction\n",
    "\n",
    "***\n",
    "\n",
    "Subarray data requires different considerations than working with full frame images. This notebook will guide you through working with standard post-SM4 subarray data and custom subarray data.\n",
    "\n",
    "After Servicing Mission 4 (SM4; May 2009), the installation of the ASIC during the repair of ACS introduced $1/f$ noise in all ACS images. In the calacs pipeline, only full-frame data have this striping removed. To correct subarray data, the alternative acs_destripe_plus pipeline must be used, which will apply all of calibration steps normally performed by calacs in addition to de-striping for subarray data. De-striping is only possible for 2K subarrays after SM4 until Cycle 24, after which a change to the flight software makes all subarrays eligible for de-striping.</div>\n",
    "\n",
    "### This tutorial will show you how to handle...\n",
    "\n",
    "#### [Post-SM4 Subarray Data](#_postsm4) \n",
    "\n",
    "* Update header keywords.\n",
    "* Clean Subarray images with the option to correct CTE losses.\n",
    "* Update WCS solution.\n",
    "\n",
    "#### [Custom Subarray Data](#_custom)\n",
    "\n",
    "* Use `AstroDrizzle` with ASN files to combine images."
   ]
  },
  {
   "cell_type": "markdown",
   "metadata": {},
   "source": [
    "## Imports\n",
    "\n",
    "***\n",
    "\n",
    "Here we list the Python packages used in this notebook. Links to the documentation for each module is provided for convenience.\n",
    "\n",
    "| Package Name     | module           | docs          | used for    |\n",
    "|------------------|:-----------------|:-------------:|:------------|\n",
    "| `os`             | `system`           | <a class=\"divlink\" href=\"https://docs.python.org/2/library/os.html#os.system\">link</a>|command line input|\n",
    "| `os`             | `environ`          | <a class=\"divlink\" href=\"https://docs.python.org/2/library/os.html#os.environ\">link</a>| setting environments |\n",
    "|`shutil`          | `rmtree`           | <a class=\"divlink\" href=\"https://docs.python.org/2/library/shutil.html#shutil.rmtree\">link</a>| remove directory tree |\n",
    "|`glob`            | `glob`             | <a class=\"divlink\" href=\"https://docs.python.org/2/library/glob.html#glob.glob\">link</a>| search for files based on Unix shell rules |\n",
    "|`astroquery.mast` |`Observations`      | <a class=\"divlink\" href=\"https://astroquery.readthedocs.io/en/latest/mast/mast.html\">link</a>| download data from MAST |\n",
    "|`astropy.io`      | `fits`             | <a class=\"divlink\" href=\"http://docs.astropy.org/en/stable/io/fits/\">link</a>| access and update fits files |\n",
    "|`astropy.table`   | `Table`            | <a class=\"divlink\" href=\"http://docs.astropy.org/en/stable/table/\">link</a>| constructing and editing in a tabular format |\n",
    "|`stwcs`           |`updatewcs`         | <a class=\"divlink\" href=\"https://stwcs.readthedocs.io/en/latest/updatewcs_ui.html\">link</a>| update wcs solution |\n",
    "|`acstools`       |`acs_destripe_plus`| <a class=\"divlink\" href=\"https://acstools.readthedocs.io/en/latest/api/acstools.acs_destripe_plus.destripe_plus.html\">link</a>| destripe acs images and optionally CTE correct |\n",
    "|`acstools`       |`utils_calib`| <a class=\"divlink\" href=\"https://acstools.readthedocs.io/en/stable/utils_calib.html\">link</a>| check for settings in oscntab |"
   ]
  },
  {
   "cell_type": "code",
   "execution_count": null,
   "metadata": {},
   "outputs": [],
   "source": [
    "import os\n",
    "import shutil\n",
    "\n",
    "from astroquery.mast import Observations\n",
    "from astropy.io import fits\n",
    "from astropy.table import Table\n",
    "\n",
    "from stwcs import updatewcs\n",
    "from acstools import (acs_destripe_plus, utils_calib)"
   ]
  },
  {
   "cell_type": "markdown",
   "metadata": {},
   "source": [
    "Here we set environment variables for later use with the Calibration Reference Data System (CRDS)."
   ]
  },
  {
   "cell_type": "code",
   "execution_count": null,
   "metadata": {},
   "outputs": [],
   "source": [
    "os.environ['CRDS_SERVER_URL'] = 'https://hst-crds.stsci.edu'\n",
    "os.environ['CRDS_SERVER'] = 'https://hst-crds.stsci.edu'\n",
    "os.environ['CRDS_PATH'] = './crds_cache'\n",
    "os.environ['jref'] = './crds_cache/references/hst/acs/'"
   ]
  },
  {
   "cell_type": "markdown",
   "metadata": {},
   "source": [
    "## Download the Data\n",
    "\n",
    "***\n",
    "\n",
    "Here we download all of the data required for this notebook. This is an important step! Some of the image processing steps require all relevant files to be in the working directory. We recommend working with a brand new directory for every new set of data.\n",
    "\n",
    "#### [GO Proposal 14511](https://stdatu.stsci.edu/proposal_search.php?mission=hst&id=14511): \"ACS CCD Stability Monitor\"\n",
    "\n",
    "Our data for the first example comes from a routine calibration program of two images using the post-Cycle 24 WFC1A-1K 1024 x 2072 subarray. We will only use the data associated with the observation id `JD5702JWQ`.\n",
    "\n",
    "Using the python package `astroquery`, we can download files from the [MAST](http://archive.stsci.edu) archive.\n",
    "\n",
    "<div class=\"alert alert-danger\">\n",
    "<b>MAY CHANGE:</b> The argument \"mrp_only\" stands for \"minimum recommended products only\". It currently needs to be set to False, although in the future, False is intended to be set as the default and can be left out.\n",
    "</div>"
   ]
  },
  {
   "cell_type": "code",
   "execution_count": null,
   "metadata": {},
   "outputs": [],
   "source": [
    "obs_table = Observations.query_criteria(proposal_id=14511, obs_id='JD5702JWQ')\n",
    "\n",
    "dl_table = Observations.download_products(obs_table['obsid'],\n",
    "                                          productSubGroupDescription=['RAW'],\n",
    "                                          mrp_only=False)"
   ]
  },
  {
   "cell_type": "markdown",
   "metadata": {},
   "source": [
    "We'll use the package `os` to put all of these files in our working directory for convenience."
   ]
  },
  {
   "cell_type": "code",
   "execution_count": null,
   "metadata": {},
   "outputs": [],
   "source": [
    "for row in dl_table:\n",
    "    oldfname = row['Local Path']\n",
    "    newfname = os.path.basename(oldfname)\n",
    "    os.rename(oldfname, newfname)"
   ]
  },
  {
   "cell_type": "markdown",
   "metadata": {},
   "source": [
    "#### [GO Proposal 10206](https://stdatu.stsci.edu/proposal_search.php?mission=hst&id=10206): \"What drives the outflows in powerful radio galaxies?\"\n",
    "\n",
    "For the second example, we will use a ramp filter observation of the galaxy PLS1345+12 (*HST* proposal 10206). The association name is J92SA0010, and we will only use one image in the association: J92SA0W6Q.\n",
    "\n",
    "Again, we use `astroquery`, to download files from the [MAST](http://archive.stsci.edu) archive. Along with the raw images, we will also need the spt (telemetry) files to reduce our custom subarray data."
   ]
  },
  {
   "cell_type": "code",
   "execution_count": null,
   "metadata": {},
   "outputs": [],
   "source": [
    "obs_table = Observations.query_criteria(proposal_id=10206, obs_id='J92SA0010')\n",
    "\n",
    "dl_table = Observations.download_products(obs_table['obsid'],\n",
    "                                          productSubGroupDescription=['RAW', 'SPT'],\n",
    "                                          mrp_only=False)"
   ]
  },
  {
   "cell_type": "markdown",
   "metadata": {},
   "source": [
    "Again, we'll use the package `os` to put all of these files in our working directory for convenience."
   ]
  },
  {
   "cell_type": "code",
   "execution_count": null,
   "metadata": {},
   "outputs": [],
   "source": [
    "for row in dl_table:\n",
    "    oldfname = row['Local Path']\n",
    "    newfname = os.path.basename(oldfname)\n",
    "    os.rename(oldfname, newfname)"
   ]
  },
  {
   "cell_type": "markdown",
   "metadata": {},
   "source": [
    "Now that all of our files are in the current working directory, we delete the leftover MAST file structure."
   ]
  },
  {
   "cell_type": "code",
   "execution_count": null,
   "metadata": {},
   "outputs": [],
   "source": [
    "shutil.rmtree('mastDownload')"
   ]
  },
  {
   "cell_type": "markdown",
   "metadata": {},
   "source": [
    "### File Information\n",
    "\n",
    "The structure of the fits files from ACS may be different depending on what kind of observation was made. For more information, refer to Section 2.2 of the [ACS Data Handbook](https://hst-docs.stsci.edu/display/ACSIHB).\n",
    "\n",
    "#### Raw Files\n",
    "\n",
    "A standard raw image file from a subarray has the same structure as you'd expect from full frame observation from ACS/WCS.\n",
    "\n",
    "| Ext    | Name             | Type         | Contains                                               |\n",
    "|--------|------------------|--------------|:-------------------------------------------------------|\n",
    "|<b>0</b>| PRIMARY          | (PrimaryHDU) | Meta-data related to the entire file.                  |\n",
    "|<b>1</b>| SCI (Image)      | (ImageHDU)   | Raw image data.                                        |\n",
    "|<b>2</b>| ERR (Error)      | (ImageHDU)   | Error array.                                           |\n",
    "|<b>3</b>| DQ (Data Quality)| (ImageHDU)   | Data quality array.                                    |\n",
    "\n",
    "#### SPT Files\n",
    "\n",
    "SPT files contain telemetry and engineering data from the telescope.\n",
    "\n",
    "| Ext    | Name             | Type         | Contains                                               |\n",
    "|--------|------------------|--------------|:-------------------------------------------------------|\n",
    "|<b>0</b>| PRIMARY          | (PrimaryHDU) | Meta-data related to the entire file.                  |\n",
    "|<b>1</b>| UDL (Image)      | (ImageHDU)   | Raw image data.                                        |"
   ]
  },
  {
   "cell_type": "markdown",
   "metadata": {},
   "source": [
    "You can always use `.info()` on an HDUlist for an overview of the structure"
   ]
  },
  {
   "cell_type": "code",
   "execution_count": null,
   "metadata": {},
   "outputs": [],
   "source": [
    "with fits.open('j92sa0w6q_raw.fits') as hdulist:\n",
    "    hdulist.info()\n",
    "    \n",
    "with fits.open('j92sa0w6q_spt.fits') as hdulist:\n",
    "    hdulist.info()"
   ]
  },
  {
   "cell_type": "markdown",
   "metadata": {},
   "source": [
    "## De-striping and CTE Correction of Post-SM4 Subarray Observations<a id=\"_postsm4\"></a>\n",
    "\n",
    "***\n",
    "\n",
    "#### Download Calibration Files: Update Header Keywords\n",
    "\n",
    "We can call the [Calibration Reference Data System](https://hst-crds.stsci.edu/) (CRDS) to get the associated calibration files for this image.\n",
    "\n",
    "First we will need to turn on the CTE correction switch in the primary header. Turning on this switch will notify the [CRDS](https://hst-crds.stsci.edu) `bestrefs` tool to add the names of the CTE correction parameters table '`PCTETAB`' and CTE-corrected dark current image '`DRKCFILE`' reference files to the header."
   ]
  },
  {
   "cell_type": "code",
   "execution_count": null,
   "metadata": {},
   "outputs": [],
   "source": [
    "sbc_fits = 'jd5702jwq_raw.fits'\n",
    "\n",
    "with fits.open(sbc_fits, mode='update') as hdulist:\n",
    "    hdulist[0].header['PCTECORR'] = 'PERFORM'"
   ]
  },
  {
   "cell_type": "markdown",
   "metadata": {},
   "source": [
    "#### Download Calibration Files\n",
    "\n",
    "The CRDS program can be run from the terminal to download the files specific to your observation. This program is packaged with astroconda. \n",
    "\n",
    "The command line input to download our files for `jd5702jwq_raw.fits` is as follows:\n",
    "\n",
    "    crds bestrefs --files jd5702jwq_raw.fits --sync-references=1 --update-bestrefs\n",
    "    \n",
    "Here, we use the python package `os` to run this command."
   ]
  },
  {
   "cell_type": "code",
   "execution_count": null,
   "metadata": {},
   "outputs": [],
   "source": [
    "cmd_input = 'crds bestrefs --files {:} --sync-references=1 --update-bestrefs'.format(sbc_fits)\n",
    "os.system(cmd_input)"
   ]
  },
  {
   "cell_type": "markdown",
   "metadata": {},
   "source": [
    "#### Clean Subarray Images\n",
    "\n",
    "Next we will run the [acs_destripe_plus](http://acstools.readthedocs.io/en/stable/acs_destripe_plus.html) code on our image. This will execute all of the calibration steps that are set to 'PERFORM' in the primary header of the FITS file. \n",
    "\n",
    "The `acs_destripe_plus` code will produce the FLT file is the calibrated output product from `CALACS`, `jd5702jmq_flt.fits`. With the CTE correction turned on, an FLC file will also be produced, which is the same as the FLT file but with the CTE correction applied."
   ]
  },
  {
   "cell_type": "code",
   "execution_count": null,
   "metadata": {},
   "outputs": [],
   "source": [
    "acs_destripe_plus.destripe_plus(sbc_fits, cte_correct=True)"
   ]
  },
  {
   "cell_type": "markdown",
   "metadata": {},
   "source": [
    "#### Correct the WCS\n",
    "\n",
    "The subarray products produced by this process do not have the proper WCS information in the header. The WCS is normally updated by the pipeline via an additional call to AstroDrizzle. Here, we can manually update the WCS of our FLC product using `stwcs.updatewcs`."
   ]
  },
  {
   "cell_type": "code",
   "execution_count": null,
   "metadata": {},
   "outputs": [],
   "source": [
    "updatewcs.updatewcs('jd5702jwq_flc.fits', use_db=False)"
   ]
  },
  {
   "cell_type": "markdown",
   "metadata": {},
   "source": [
    "## Reducing Custom Subarray Data<a id=\"_custom\"></a>\n",
    "\n",
    "***\n",
    "\n",
    "#### Download Calibration Files\n",
    "\n",
    "Like before, we can use CRDS to get the associated calibration files for this image."
   ]
  },
  {
   "cell_type": "code",
   "execution_count": null,
   "metadata": {},
   "outputs": [],
   "source": [
    "sbc_fits = 'j92sa0w6q_raw.fits'\n",
    "cmd_input = 'crds bestrefs --files {:} --sync-references=1 --update-bestrefs'.format(sbc_fits)\n",
    "os.system(cmd_input)"
   ]
  },
  {
   "cell_type": "markdown",
   "metadata": {},
   "source": [
    "#### Access OSCN Table\n",
    "\n",
    "The name in the header is of the format '<font face='courier'>ref\\\\$oscn_name.fits</font>', therefore we need to split the string on the '$' character."
   ]
  },
  {
   "cell_type": "code",
   "execution_count": null,
   "metadata": {},
   "outputs": [],
   "source": [
    "prihdr = fits.getheader(sbc_fits)\n",
    "scihdr = fits.getheader(sbc_fits, ext=1)"
   ]
  },
  {
   "cell_type": "markdown",
   "metadata": {},
   "source": [
    "We also want to retrieve the `OSCNTAB` reference file from the JREF directory. We can get the name of the file from the primary header of the image."
   ]
  },
  {
   "cell_type": "code",
   "execution_count": null,
   "metadata": {},
   "outputs": [],
   "source": [
    "oscn_name = prihdr['OSCNTAB'].split('$')[-1]\n",
    "path_to_oscn = os.path.join(os.environ['jref'], oscn_name)\n",
    "\n",
    "print(path_to_oscn)"
   ]
  },
  {
   "cell_type": "markdown",
   "metadata": {},
   "source": [
    "The `utils_calib.check_oscntab` from [acstools](http://acstools.readthedocs.io) checks the `OSCNTAB` file if any entry matches the combination of readout amplifier, image size, and number of bias prescan columns for a given subarray observation. We will need to use several header keyword values to test if a subarray is in `OSCNTAB`."
   ]
  },
  {
   "cell_type": "code",
   "execution_count": null,
   "metadata": {},
   "outputs": [],
   "source": [
    "oscnrec = fits.getdata(path_to_oscn)\n",
    "oscnhdr = fits.getheader(path_to_oscn)\n",
    "\n",
    "oscntable = Table(oscnrec)"
   ]
  },
  {
   "cell_type": "markdown",
   "metadata": {},
   "source": [
    "The raw image has 1180 columns and 1200 rows, which does not correspond to any entry in the `OSCNTAB` file, but a visual examination of the image shows that it contains bias prescan columns."
   ]
  },
  {
   "cell_type": "markdown",
   "metadata": {},
   "source": [
    "#### Get the Bias Prescan Information\n",
    "\n",
    "From the science image PRI and SCI extension headers that we opened earlier, we can get the information about the readout amplifier and dimensions of the image."
   ]
  },
  {
   "cell_type": "code",
   "execution_count": null,
   "metadata": {},
   "outputs": [],
   "source": [
    "amp = prihdr['CCDAMP']\n",
    "xsize = scihdr['NAXIS1']\n",
    "ysize = scihdr['NAXIS2']\n",
    "\n",
    "print(xsize, ysize)"
   ]
  },
  {
   "cell_type": "markdown",
   "metadata": {},
   "source": [
    "To get information on the number of prescan columns (if any), we need to access the SPT first extension header."
   ]
  },
  {
   "cell_type": "code",
   "execution_count": null,
   "metadata": {},
   "outputs": [],
   "source": [
    "spthdr = fits.getheader('j92sa0w6q_spt.fits', ext=1)\n",
    "\n",
    "leading = spthdr['OVERSCNA']\n",
    "trailing = spthdr['OVERSCNB']"
   ]
  },
  {
   "cell_type": "markdown",
   "metadata": {},
   "source": [
    "Finally, we check if this subarray definition is in the OSCNTAB file. The code returns a boolean result, which we have saved as the variable supported, to describe this."
   ]
  },
  {
   "cell_type": "code",
   "execution_count": null,
   "metadata": {},
   "outputs": [],
   "source": [
    "supported = utils_calib.check_oscntab(path_to_oscn, amp, xsize, ysize, leading, trailing)\n",
    "print(supported)"
   ]
  },
  {
   "cell_type": "markdown",
   "metadata": {},
   "source": [
    "#### Update OSCNTAB\n",
    "\n",
    "Now that we have confirmed that the `OSCNTAB` file does not contain information about our subarray data, we need to add a new row to the table with our definitions. Let's first view the first few rows of `OSCNTAB` to see what our new entry needs to look like."
   ]
  },
  {
   "cell_type": "code",
   "execution_count": null,
   "metadata": {},
   "outputs": [],
   "source": [
    "print(oscntable)"
   ]
  },
  {
   "cell_type": "markdown",
   "metadata": {},
   "source": [
    "We can also choose to just view all of the columns names"
   ]
  },
  {
   "cell_type": "code",
   "execution_count": null,
   "metadata": {},
   "outputs": [],
   "source": [
    "print(oscntable.colnames)"
   ]
  },
  {
   "cell_type": "markdown",
   "metadata": {},
   "source": [
    "Several column names are obvious, but here we define the less obvious ones. \n",
    "\n",
    "| Column Name   | Description |\n",
    "| --- | --- |\n",
    "| BINX, BINY    | Binning in X and Y. ACS data are never binned, so these will always be 1. |\n",
    "| TRIMXn        | Number of prescan columns on the left (1) and right (2) sides of the image to remove. |\n",
    "| TRIMYn        | Number of virtual rows on the bottom (1) and top (2) sides of the image to remove. For subarray data, these are always 0. |\n",
    "| BIASSECTAn    | Start and end columns to use for the bias level estimation on the left (A) side of the image. |\n",
    "| BIASSECTBn    | Start and end columns to use for the bias level estimation on the right (B) side of the image. |\n",
    "| VXn, VYn      | The coordinates of the bottom-left (VX1, VY1) and top-right (VX2, VY2) corners of the virtual overscan region |"
   ]
  },
  {
   "cell_type": "markdown",
   "metadata": {},
   "source": [
    "The following line sets `chip` to 1 if the subarray is on WFC1, and 2 if the subarray is on WFC2."
   ]
  },
  {
   "cell_type": "code",
   "execution_count": null,
   "metadata": {},
   "outputs": [],
   "source": [
    "chip = 1 if amp in ['A', 'B'] else 2"
   ]
  },
  {
   "cell_type": "markdown",
   "metadata": {},
   "source": [
    "For the BIASSECTAn and BIASSECTBn values, we want to use the six columns of prescan nearest the exposed area of the CCD. "
   ]
  },
  {
   "cell_type": "code",
   "execution_count": null,
   "metadata": {},
   "outputs": [],
   "source": [
    "bias_a = [0, 0]\n",
    "if leading > 0:\n",
    "    bias_a[1] = leading\n",
    "    bias_a[0] = leading-5 if leading > 5 else 0\n",
    "        \n",
    "bias_b = [0, 0]\n",
    "if trailing > 0:\n",
    "    bias_b[0] = xsize+1\n",
    "    bias_b[1] = xsize+5 if trailing > 5 else xsize+trailing"
   ]
  },
  {
   "cell_type": "markdown",
   "metadata": {},
   "source": [
    "Now we can define a new row for our settings. For subarray data, as there is no virtual overscan, the VXn and VYn values will always be 0. Here we use a dictionary to explicitly define the new values."
   ]
  },
  {
   "cell_type": "code",
   "execution_count": null,
   "metadata": {},
   "outputs": [],
   "source": [
    "new_row = {'CCDAMP': amp,\n",
    "           'CCDCHIP': chip, \n",
    "           'BINX': 1, \n",
    "           'BINY': 1, \n",
    "           'NX': xsize,\n",
    "           'NY': ysize, \n",
    "           'TRIMX1': leading, \n",
    "           'TRIMX2': trailing, \n",
    "           'TRIMY1': 0, \n",
    "           'TRIMY2': 0, \n",
    "           'BIASSECTA1': bias_a[0], \n",
    "           'BIASSECTA2': bias_a[1], \n",
    "           'BIASSECTB1': bias_b[0], \n",
    "           'BIASSECTB2': bias_b[1], \n",
    "           'DESCRIPTION': 'Custom OSCN', \n",
    "           'VX1': 0, \n",
    "           'VX2': 0, \n",
    "           'VY1': 0, \n",
    "           'VY2': 0}"
   ]
  },
  {
   "cell_type": "markdown",
   "metadata": {},
   "source": [
    "Now we need to open the custom `OSCTNAB` file and update the table to have our new definition. We will also need to update the raw FITS file to point to the new custom `OSCNTAB` reference file."
   ]
  },
  {
   "cell_type": "code",
   "execution_count": null,
   "metadata": {},
   "outputs": [],
   "source": [
    "oscntable.add_row(new_row)\n",
    "print(oscntable)"
   ]
  },
  {
   "cell_type": "markdown",
   "metadata": {},
   "source": [
    "Now we have an idential FITS rec table, but with an additional row for our new information."
   ]
  },
  {
   "cell_type": "code",
   "execution_count": null,
   "metadata": {},
   "outputs": [],
   "source": [
    "oscnrec_new = fits.FITS_rec.from_columns(oscnrec.columns, \n",
    "                                         nrows=len(oscntable))\n",
    "print(Table(oscnrec_new))"
   ]
  },
  {
   "cell_type": "markdown",
   "metadata": {},
   "source": [
    "Let's populate that last row with our new data!"
   ]
  },
  {
   "cell_type": "code",
   "execution_count": null,
   "metadata": {},
   "outputs": [],
   "source": [
    "oscnrec_new[-1] = tuple(oscntable[-1])"
   ]
  },
  {
   "cell_type": "markdown",
   "metadata": {},
   "source": [
    "Reprint the table and check that we have entered it correctly."
   ]
  },
  {
   "cell_type": "code",
   "execution_count": null,
   "metadata": {},
   "outputs": [],
   "source": [
    "print(Table(oscnrec_new))"
   ]
  },
  {
   "cell_type": "markdown",
   "metadata": {},
   "source": [
    "Now we can open up our oscn table and replace the old fits rec with our new one"
   ]
  },
  {
   "cell_type": "code",
   "execution_count": null,
   "metadata": {},
   "outputs": [],
   "source": [
    "with fits.open(path_to_oscn, mode='update') as hdu:\n",
    "    hdu[1].data = oscnrec_new"
   ]
  },
  {
   "cell_type": "markdown",
   "metadata": {},
   "source": [
    "Using the same check we did earlier, we can use `check_oscntab` to see if our settings are defined. If everything was done correctly, the following line should print \"True\"!"
   ]
  },
  {
   "cell_type": "code",
   "execution_count": null,
   "metadata": {},
   "outputs": [],
   "source": [
    "supported = utils_calib.check_oscntab(path_to_oscn, amp, xsize, ysize, leading, trailing)\n",
    "\n",
    "print('Defined in OSCNTAB? {}'.format(supported))"
   ]
  },
  {
   "cell_type": "markdown",
   "metadata": {},
   "source": [
    "### For more help:\n",
    "\n",
    "More details may be found on the [ACS website](http://www.stsci.edu/hst/instrumentation/acs) and in the [ACS Instrument](https://hst-docs.stsci.edu/display/ACSIHB) and [Data Handbooks](http://www.stsci.edu/files/live/sites/www/files/home/hst/instrumentation/acs/documentation/other-documents/_documents/acs_dhb.pdf).\n",
    "\n",
    "Please visit the [HST Help Desk](http://hsthelp.stsci.edu). Through the help desk portal, you can explore the *HST* Knowledge Base and request additional help from experts."
   ]
  }
 ],
 "metadata": {
  "kernelspec": {
   "display_name": "Python 3 (ipykernel)",
   "language": "python",
   "name": "python3"
  },
  "language_info": {
   "codemirror_mode": {
    "name": "ipython",
    "version": 3
   },
   "file_extension": ".py",
   "mimetype": "text/x-python",
   "name": "python",
   "nbconvert_exporter": "python",
   "pygments_lexer": "ipython3",
   "version": "3.9.16"
  }
 },
 "nbformat": 4,
 "nbformat_minor": 4
}
