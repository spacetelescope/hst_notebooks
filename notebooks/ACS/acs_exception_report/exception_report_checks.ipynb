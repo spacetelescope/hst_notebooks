{
 "cells": [
  {
   "cell_type": "markdown",
   "id": "cb5792c4-7632-46eb-b5d4-d9e9c65fd20d",
   "metadata": {},
   "source": [
    "<a id=\"top\"></a>\n",
    "# HST Exception Report - Investigate your ACS Data\n",
    "\n",
    "## Learning Goals\n",
    "In this notebook, we will walk through steps to check your ACS data and observing logs for possible data quality problems indicated by an HST Exception Report and determine if a HOPR or Help Desk ticket needs to be filed.\n",
    "\n",
    "By the end of this notebook, you will learn to:\n",
    "- Download your data\n",
    "- Display the data\n",
    "- Check data quality and any anomalies\n",
    "- Inspect JIF header keywords for problems\n",
    "- Run hst1pass on your data and evaluate the results\n",
    "- Determine if a HOPR or help desk ticket is warranted\n",
    "\n",
    "## Table of Contents\n",
    "\n",
    "[0. Introduction](#intro) <br>\n",
    "[1. Imports](#imports) <br>\n",
    "[2. Download data](#download) <br>\n",
    "[3. View data](#view) <br>\n",
    "[4. Inspect JIF header keywords](#inspect) <br>\n",
    "[5. Check jitter](jitter) <br>\n",
    "[6. Check PSF quality with hst1pass (Optional)](#hst1pass) <br>\n",
    "[7. Summary & Additional Resources](#summary) <br>\n",
    "[About this Notebook](#about) <br>\n",
    "[Citations](#citations)"
   ]
  },
  {
   "cell_type": "markdown",
   "id": "c51c3046-4c79-479f-bbb3-490e99983118",
   "metadata": {},
   "source": [
    "## 0. Introduction <a id=\"intro\"></a>\n",
    "[HST exception reports](https://www.stsci.edu/hst/observing/post-observation/exception-reports) are sent via email to the PIs of programs that encounter observing problems during a given visit. Often times these are due to guide star acquisition failures, but there can be other causes, including unexpected safings of the telescope. Sometimes a report is sent out of an abundance of caution, in that the observing problem in question did not affect the data in the exception report. If you receive one of these reports, it is highly recommended that you inspect your data and the observing logs immediately in order to determine if your data quality is affected in any way. \n",
    "\n",
    "If you determine your data are compromised by an observing problem, you can file a [Hubble Observation Problem Report (HOPR)](https://www.stsci.edu/hst/observing/post-observation/reporting-problems). There is a 90-day time limit from the date the data were made available to file a HOPR.\n",
    "\n",
    "If you have any issues with this notebook or any further questions, please contact the [ACS Help Desk](https://stsci.service-now.com/hst).\n",
    "\n",
    "Some text and code in this notebook was adapted from the [WFC3 Exception Report Checklist notebook (Kuhn 2022)](https://spacetelescope.github.io/hst_notebooks/notebooks/WFC3/exception_report/wfc3_exception_report.html)."
   ]
  },
  {
   "cell_type": "markdown",
   "id": "090c913d-407f-4150-bb32-9f90412063f9",
   "metadata": {},
   "source": [
    "## 1. Environment Setup and Imports <a id=\"imports\"></a>\n",
    "\n",
    "We recommend installing the `stenv` Conda environment maintained by STScI. Instructions, including installation of a Conda distribution, can be found in the [stenv documentation](https://stenv.readthedocs.io/en/latest/getting_started.html). If you already have Conda, and would prefer to create an environment with only the packages required by this notebook, please see the `requirements.txt` file included in this notebook's repository.\n",
    "\n",
    "Finally, this notebook contains an optional step to check PSF quality with a Fortran software package `hst1pass`. Instructions to install Fortran, download and compile `hst1pass`, download a PSF model, and run `hst1pass` are provided in Step [6. Check PSF quality with hst1pass (Optional)](#hst1pass).\n",
    "\n",
    "For the Python-based steps in this notebook, we import: <br>\n",
    "\n",
    "| Package Name                        | Purpose                               |\n",
    "|:------------------------------------|:--------------------------------------|\n",
    "| `glob`                              | creating list of files                |\n",
    "| `shutil`                            | directory clean up                    |\n",
    "| `os`                                | setting environment variables         |\n",
    "| `urllib`                            | downloading hst1pass files            |\n",
    "| `astroquery.mast.Observations`      | downloading data from MAST            |\n",
    "| `astropy.io.fits`                   | opening and modifying fits files      |\n",
    "| `astropy.io.ascii`                  | reading text files                    |\n",
    "| `astropy.visualization.simple_norm` | normalize image for display           |\n",
    "| `matplotlib.pyplot`                 | plotting and displaying images        |"
   ]
  },
  {
   "cell_type": "code",
   "execution_count": null,
   "id": "30e8d719-bc9d-43f0-bbf1-dd02e5b7c512",
   "metadata": {},
   "outputs": [],
   "source": [
    "import glob\n",
    "import shutil\n",
    "import os\n",
    "import urllib\n",
    "import subprocess\n",
    "from astroquery.mast import Observations\n",
    "from astropy.io import fits, ascii\n",
    "from astropy.visualization import simple_norm\n",
    "import matplotlib.pyplot as plt"
   ]
  },
  {
   "cell_type": "markdown",
   "id": "7f6be57b-437c-4b0d-a5ae-edead1e29463",
   "metadata": {},
   "source": [
    "## 2. Download data <a id=\"download\"></a>\n",
    "\n",
    "Here we download an example dataset with `astroquery.mast`. We choose visit 57 from program [16380 (PI Chiaberge)](https://www.stsci.edu/hst-program-info/program/?program=16380), which consists of three ACS/WFC observations: `JEG057010`, `JEG057020`, and `JEG057030`. Each contains two exposures. The target is a region of Omega Centauri, a Milky Way globular cluster, so successful exposures contain a large population of resolved stars. We download the FLT, JIF, and JIT files, and move them into a directory named for the program ID. \n",
    "\n",
    "To use this notebook with your data, edit the cell below with your program ID and exposure IDs ([association names or IPPPSSOOTs](https://archive.stsci.edu/hlsp/ipppssoot.html)), which are listed in your exception report.\n",
    "\n",
    "For more information on this method of downloading data, see the documentation for [astroquery.mast](https://astroquery.readthedocs.io/en/latest/mast/mast.html). This list of [parameters](https://mast.stsci.edu/api/v0/_c_a_o_mfields.html) for the `query_criteria()` function may be particularly useful. Other methods for downloading data include the [MAST HST Search](https://mast.stsci.edu/search/ui/#/hst) and the [MAST Portal](https://mast.stsci.edu/portal/Mashup/Clients/Mast/Portal.html), the latter of which includes data from missions other than HST."
   ]
  },
  {
   "cell_type": "code",
   "execution_count": null,
   "id": "db48adf1-77a9-4146-9820-cfafa18269eb",
   "metadata": {},
   "outputs": [],
   "source": [
    "# Edit this cell with your info\n",
    "program_id = 16380\n",
    "exp_id = ['JEG057010', 'JEG057020', 'JEG057030']\n",
    "data_products = ['FLT', 'JIF', 'JIT']"
   ]
  },
  {
   "cell_type": "code",
   "execution_count": null,
   "id": "b2f518cf-d7d8-47f8-8f9a-c2f259c99eb2",
   "metadata": {
    "scrolled": true
   },
   "outputs": [],
   "source": [
    "program_dir = '{}/p{}'.format(os.getcwd(), program_id)\n",
    "\n",
    "# Check if directory for program exists already\n",
    "try:\n",
    "    os.mkdir(program_dir)\n",
    "except Exception:\n",
    "    print('Directory {} exists.\\n'.format(program_dir))\n",
    "\n",
    "# Check that all dataset names are 9 characters long\n",
    "# if not, add a q to the end\n",
    "datasets = ['{}q'.format(set) if len(set) == 8 else set for set in exp_id]\n",
    "\n",
    "print('Visits to be downloaded')\n",
    "print('{}\\n'.format(datasets))\n",
    "\n",
    "# Query MAST for datasets\n",
    "obs_table = Observations.query_criteria(obs_id=datasets)\n",
    "product_table = Observations.get_product_list(obs_table)\n",
    "files_for_download = product_table['productFilename']\n",
    "download_table = Observations.download_products(product_table, mrp_only=False,\n",
    "                                                productSubGroupDescription=data_products)\n",
    "\n",
    "# For convenience move downloaded files to program dir and remove empty download dir\n",
    "for file in download_table['Local Path']:\n",
    "    shutil.move(file, program_dir)\n",
    "    \n",
    "shutil.rmtree('mastDownload')"
   ]
  },
  {
   "cell_type": "markdown",
   "id": "3d9683df-8637-4c07-a4ef-14d9ddc97acb",
   "metadata": {},
   "source": [
    "## 3. View data <a id=\"view\"></a>\n",
    "Next, we use `matplotlib.pyplot.imshow` to display the SCI arrays of the FLT images. We also print the filter information for each image at the top of the plot. In some cases, a quick visual inspection can reveal poor data quality due to guiding problems. In other cases, a deeper level of analysis is needed to determine if there are problems with the data."
   ]
  },
  {
   "cell_type": "code",
   "execution_count": null,
   "id": "400e2451-3417-4b43-b3ad-1d002a94c28c",
   "metadata": {},
   "outputs": [],
   "source": [
    "flt_files = sorted(glob.glob(f'p{program_id}/*flt.fits'))"
   ]
  },
  {
   "cell_type": "code",
   "execution_count": null,
   "id": "adf14601-377e-4d74-b168-874402b7aafd",
   "metadata": {},
   "outputs": [],
   "source": [
    "for flt in flt_files:\n",
    "\n",
    "    hdu = fits.open(flt)\n",
    "    hdr = hdu[0].header\n",
    "\n",
    "    # Only 1 SCI extension for SBC images\n",
    "    if hdr['DETECTOR'] == 'SBC':\n",
    "        sci1 = hdu[1].data\n",
    "            \n",
    "        filter1 = hdr['FILTER1']\n",
    "\n",
    "        norm = simple_norm(sci1, 'linear', percent=90)\n",
    "        \n",
    "        fig, ax0 = plt.subplots(1, 1)\n",
    "\n",
    "        im = ax0.imshow(sci1, origin='lower', norm=norm, cmap='Greys_r')\n",
    "\n",
    "        ax0.set_xlabel('x (pixels)')\n",
    "        ax0.set_ylabel('y (pixels)')\n",
    "        ax0.set_title(f'{flt.split(\"/\")[-1]}\\n{filter1}')\n",
    "        fig.colorbar(im, ax=ax0)\n",
    "\n",
    "    # 2 SCI extensions for WFC images\n",
    "    elif hdr['DETECTOR'] == 'WFC':\n",
    "        sci1 = hdu[4].data\n",
    "        sci2 = hdu[1].data\n",
    "        \n",
    "        filter1 = hdr['FILTER1']\n",
    "        filter2 = hdr['FILTER2']\n",
    "        \n",
    "        norm = simple_norm(sci1, 'linear', percent=90)\n",
    "\n",
    "        fig, (ax0, ax1) = plt.subplots(2, 1, sharex=True)\n",
    "\n",
    "        im = ax0.imshow(sci1, origin='lower', norm=norm, cmap='Greys_r')\n",
    "        ax1.imshow(sci2, origin='lower', norm=norm, cmap='Greys_r')\n",
    "\n",
    "        ax1.set_xlabel('x (pixels)')\n",
    "        ax0.set_ylabel('y (pixels)')\n",
    "        ax1.set_ylabel('y (pixels)')\n",
    "        ax0.set_title(f'{flt.split(\"/\")[-1]}\\n{filter1}/{filter2}')\n",
    "        fig.colorbar(im, ax=(ax0, ax1))"
   ]
  },
  {
   "cell_type": "markdown",
   "id": "2c006225-7d1f-4c78-8032-351a3586afd9",
   "metadata": {},
   "source": [
    "In this example, the third and fourth images, `jeg057cmq` and `jeg057coq`, consist of streaked stars. This is a very clear example of a guiding failure. The other images appear normal with many bright point-like stars in the field of view.\n",
    "\n",
    "Often, the shutter will close if a guiding failure occurs. These images will not be blank, but will contain normal detector features such as cosmic rays and hot pixels."
   ]
  },
  {
   "cell_type": "markdown",
   "id": "25ea5643-bb7c-4f32-a88b-5afaea69409b",
   "metadata": {},
   "source": [
    "## 4. Inspect JIF header keywords <a id=\"inspect\"></a>\n",
    "\n",
    "To further investigate any guiding issues in the dataset, we inspect certain header keywords in the [observing log (JIF) files](https://www.stsci.edu/hst/instrumentation/focus-and-pointing/pointing/jitter-file-format-definition). There are two JIF files, one for each association, each listing observing information for two exposures. There is a section in the zeroth extension of the JIF files that lists problem flags for the dataset, which we print and inspect first."
   ]
  },
  {
   "cell_type": "code",
   "execution_count": null,
   "id": "66841b90-5c97-4258-b4fe-3b1f2e0a05bf",
   "metadata": {},
   "outputs": [],
   "source": [
    "# Define color strings and expected JIF keyword values\n",
    "colorstr_WARNING = '\\033[91m' # red\n",
    "colorstr_RESET = '\\033[0m' # reset\n",
    "\n",
    "jif_header_keys = {'T_GDACT': {'expected': True},\n",
    "                   'T_ACTGSP': {'expected': True},\n",
    "                   'T_GSFAIL': {'expected': False},\n",
    "                   'T_SGSTAR': {'expected': False},\n",
    "                   'T_TLMPRB': {'expected': False},\n",
    "                   'T_NOTLM': {'expected': False},\n",
    "                   'T_NTMGAP': {'expected': 0},\n",
    "                   'T_TMGAP': {'expected': 0},\n",
    "                   'T_GSGAP': {'expected': False},\n",
    "                   'T_SLEWNG': {'expected': False},\n",
    "                   'T_TDFDWN': {'expected': False}}\n",
    "\n",
    "jif_list = sorted(glob.glob(f'p{program_id}/*jif.fits'))\n",
    "\n",
    "for jif in jif_list:\n",
    "    \n",
    "    with fits.open(jif) as hdu:\n",
    "        jif_hdr = hdu[0].header\n",
    "\n",
    "    print(jif.split('/')[-1])\n",
    "\n",
    "    # print section of JIF header with problem flags\n",
    "    for i in range(-18, -7):\n",
    "        key = list(jif_hdr.keys())[i]\n",
    "        \n",
    "        # Highlight unexpected values in red\n",
    "        if jif_hdr[key] != jif_header_keys[key]['expected']:\n",
    "            print(colorstr_WARNING + repr(jif_hdr[i:i+1]) + colorstr_RESET)        \n",
    "        else:\n",
    "            print(repr(jif_hdr[i:i+1]))\n",
    "    print('\\n')"
   ]
  },
  {
   "cell_type": "markdown",
   "id": "800c6c24-c9b2-48b3-b1ed-7a178988bd47",
   "metadata": {},
   "source": [
    "The only problem flag in these JIF files is that `T_TDFDWN` is True in the second file, which is highlighted in red to show it is different than the expected value (False). This means that the Take Data Flag was down at some point during the third and fourth exposures. If the Take Data Flag is up, that means an observation can proceed. If it goes down, the observation may stop, shutters may close, and generally, no more science data is taken until the flag goes back up. Interestingly, the shutter clearly opened during the third and fourth exposures shown in the figures above.\n",
    "\n",
    "We may expect `T_GSFAIL` to be True in the second JIF file, since the TDF went down, but it is False, suggesting that the guiding problem that led to streaked images likely happened before the exposures began.\n",
    "\n",
    "Next, we look at the header keywords in the first and subsequent extensions of the JIF file to learn more about observing problems in the individual exposures."
   ]
  },
  {
   "cell_type": "code",
   "execution_count": null,
   "id": "1959c92c-d8c0-4952-83d3-73cc65f2aad3",
   "metadata": {},
   "outputs": [],
   "source": [
    "def further_ext(jif_file):\n",
    "\n",
    "    numexts = fits.getheader(jif_file, 0)['NEXTEND'] # number of extensions i.e. exposures\n",
    "\n",
    "    keywords = ['EXPNAME*', 'GUIDEACT*', 'GSACQ*', 'ACTGSSEP*',\n",
    "                'GSSEPRMS*', ' NLOSSES*',\n",
    "                'V2_RMS*', 'V3_RMS*', 'GSFAIL*', 'TDF-DOWN*']\n",
    "\n",
    "    for ext in range(1, numexts+1):\n",
    "        print(\"JIF Header Ext Number:\", ext)\n",
    "        print('-'*80)\n",
    "        header = fits.getheader(jif_file, ext)\n",
    "        for keyword in keywords:\n",
    "            # try to display keyword because it may not be present \n",
    "            details = header[keyword]\n",
    "            if details is not None:\n",
    "                print(repr(details))\n",
    "            else:\n",
    "                print(f'Keyword {keyword} not found in extension {ext}')\n",
    "        print('\\n')"
   ]
  },
  {
   "cell_type": "code",
   "execution_count": null,
   "id": "4390a9d0-e5ed-4db1-899c-bd1181580103",
   "metadata": {
    "scrolled": true
   },
   "outputs": [],
   "source": [
    "for jif in jif_list:\n",
    "\n",
    "    further_ext(jif)"
   ]
  },
  {
   "cell_type": "markdown",
   "id": "9e0d7ef1-8e2f-45aa-a594-c3be8d278d77",
   "metadata": {},
   "source": [
    "Keywords from the JIF files indicate that the third and fourth exposures were taken without a lock on guide stars. The actual guiding mode, `GUIDEACT`, was `GYRO`, meaning the guiding was controlled by the telescope gyro alone, which explains the detector motion. The guide star keywords `ACTGSSEP`, `GSSEPRMS`, `V2_RMS` and `V3_RMS` are set to the nonphysical value `-32767`, and `TDF-DOWN` is True. \n",
    "\n",
    "The other exposures had two guide stars acquired, as indicated by `GUIDEACT = FINE LOCK`. (When a single guide star is acquired, `GUIDEACT` is set to `FINE/GYRO`.) The guide star keywords `ACTGSSEP`, `GSSEPRMS`, `V2_RMS`, and `V3_RMS` are set to realistic, typical values."
   ]
  },
  {
   "cell_type": "markdown",
   "id": "f4fcc9d5-ce81-433b-aa25-07235499c26c",
   "metadata": {},
   "source": [
    "## 5. Check jitter <a id=\"jitter\"></a>\n",
    "\n",
    "Sometimes the telescope may shake or move slightly during an observation, while guiding in `FINE LOCK`. This is called jitter. Motion of the detector in the V2, V3 coordinate system is saved in the jitter (JIT) file, and can be inspected for any extreme excursions that could affect data quality."
   ]
  },
  {
   "cell_type": "code",
   "execution_count": null,
   "id": "66357e48-00aa-4e3c-8004-2501f745ac10",
   "metadata": {},
   "outputs": [],
   "source": [
    "def jitter_plots(jit_file):\n",
    "    \n",
    "    numexts = fits.getheader(jit_file, 0)['NEXTEND'] \n",
    "\n",
    "    for ext in range(1, numexts+1):\n",
    "\n",
    "        jit_data = fits.getdata(jit_file, ext)\n",
    "        expname = fits.getheader(jit_file, ext)['EXPNAME']\n",
    "        \n",
    "        plt.figure()\n",
    "        plt.grid(alpha=0.5)\n",
    "        plt.scatter(jit_data['Seconds'], jit_data['SI_V2_AVG'], 15, \n",
    "                    alpha=0.5, marker='o', label='V2_AVG')\n",
    "        plt.scatter(jit_data['Seconds'], jit_data['SI_V3_AVG'], 15, \n",
    "                    alpha=0.5, marker='o', label='V3_AVG')\n",
    "        plt.scatter(jit_data['Seconds'], jit_data['SI_V2_RMS'], 10, \n",
    "                    alpha=0.5, marker='s', label='V2_RMS')\n",
    "        plt.scatter(jit_data['Seconds'], jit_data['SI_V3_RMS'], 10, \n",
    "                    alpha=0.5, marker='s', label='V3_RMS')\n",
    "        \n",
    "        plt.xlabel('Exposure Time [Seconds]', size=13)\n",
    "        plt.ylabel('Coordinate Axis [Arcsec]', size=13)\n",
    "        plt.title(f\"Jitter File Ext Number: {ext}\\n Exposure: {expname}\", size=14)\n",
    "        plt.legend(ncol=2)\n",
    "        plt.minorticks_on()"
   ]
  },
  {
   "cell_type": "code",
   "execution_count": null,
   "id": "75c37ef2-f66f-4f5c-a1f1-62fd15523caf",
   "metadata": {},
   "outputs": [],
   "source": [
    "jit_list = sorted(glob.glob(f'p{program_id}/*jit.fits'))"
   ]
  },
  {
   "cell_type": "code",
   "execution_count": null,
   "id": "ec66ba42-bb3c-4cb4-940e-33ef6cd5ab4e",
   "metadata": {},
   "outputs": [],
   "source": [
    "for jit in jit_list:\n",
    "    \n",
    "    jitter_plots(jit)"
   ]
  },
  {
   "cell_type": "markdown",
   "id": "2c20117b-f558-4d45-863e-2fc3e65138ca",
   "metadata": {},
   "source": [
    "The third and fourth exposures have jitter values pegged at a nonphysical value of 1.6e38, which is simply a placeholder for observations in which the guide stars were not acquired. The remaining exposures show a very minor amount of telescope motion, typically <3 mas, and the jitter RMS is typically <2 mas.\n",
    "\n",
    "This further confirms there were no guide stars acquired for the third and fourth images, but the remaining images were not affected by guide star problems. The above analysis is enough to determine that a HOPR is warranted for the two images for which the telescope was guiding in GYRO mode.\n",
    "\n",
    "If data quality is still unclear at this point, proceeding to the next section may be useful. Another avenue for futher analysis that we recommend, radial profile fitting of stars, is thoroughly covered in Step 6 in the [WFC3 Exception Report Checklist notebook](https://spacetelescope.github.io/hst_notebooks/notebooks/WFC3/exception_report/wfc3_exception_report.html#further-analysis)."
   ]
  },
  {
   "cell_type": "markdown",
   "id": "0ebdc847-188c-4719-9262-eb1707a7ca05",
   "metadata": {},
   "source": [
    "## (Optional) 6. Check PSF quality with hst1pass <a id=\"hst1pass\"></a>\n",
    "\n",
    "If your images have at least a handful of unsaturated stars, running the PSF-fitting photometry package [hst1pass](https://www.stsci.edu/files/live/sites/www/files/home/hst/instrumentation/acs/documentation/instrument-science-reports-isrs/_documents/isr2202.pdf) on your data can provide an independent check of PSF quality, and may help you decide if a HOPR is warranted.\n",
    "\n",
    "### 6.1 Environment Setup\n",
    "\n",
    "We first install Fortran by typing `conda install -c conda-forge gfortran` in the terminal. You may need to save and close this notebook, install Fortran, and then restart this notebook to ensure Fortran is active in your environment.\n",
    "\n",
    "Next, we download the hst1pass Fortran package from [https://www.stsci.edu/~jayander/HST1PASS/CODE/hst1pass/](https://www.stsci.edu/~jayander/HST1PASS/CODE/hst1pass/) and compile it. Alternatively, this can be done manually by downloading the latest file from the website directly, and compiling it on the command line with the command `gfortran hst1pass.2025.02.14_v1h.F`. This is the most recent version of the Fortran package as of the writing of this notebook, so it would be prudent to check for a newer version on the website above."
   ]
  },
  {
   "cell_type": "code",
   "execution_count": null,
   "id": "89a4017a-5a8d-4674-841c-ae66b1f8b8d9",
   "metadata": {},
   "outputs": [],
   "source": [
    "file = 'hst1pass.2025.02.14_v1h.F'\n",
    "file_url = f'https://www.stsci.edu/~jayander/HST1PASS/CODE/hst1pass/{file}'\n",
    "\n",
    "# Download the fortran file if it doesn't exist\n",
    "if not os.path.exists(f'./{file}'):\n",
    "    print('Downloading:', file_url)\n",
    "    urllib.request.urlretrieve(file_url, f'./{file}')\n",
    "\n",
    "# Compile hst1pass if it hasn't been yet\n",
    "if not os.path.exists('./hst1pass.e'):\n",
    "    subprocess.run([\"gfortran\", file, \"-o\", \"hst1pass.e\"], check=True)\n",
    "    print('The executable hst1pass.e has been compiled')\n",
    "else:\n",
    "    print('The executable hst1pass.e already exists')"
   ]
  },
  {
   "cell_type": "markdown",
   "id": "f6eace5e-07c3-4d4d-8463-c234d27f6518",
   "metadata": {},
   "source": [
    "Next, we download the [standard library PSF](https://www.stsci.edu/~jayander/HST1PASS/LIB/PSFs/STDPSFs/) for the filter used for your data. See the figure titles in step 3 above for filter information: ACS/WFC F606W in this example. Note that PSFs are not available for all ACS filters, so that may limit your ability to complete this step."
   ]
  },
  {
   "cell_type": "code",
   "execution_count": null,
   "id": "1d2402b5-41b0-4444-b367-9d47e51307ec",
   "metadata": {},
   "outputs": [],
   "source": [
    "psf_name = 'STDPSF_ACSWFC_F606W_SM4.fits'\n",
    "psf_url = f'https://www.stsci.edu/~jayander/HST1PASS/LIB/PSFs/STDPSFs/ACSWFC/{psf_name}'\n",
    "\n",
    "# Download the PSF file if it doesn't exist.\n",
    "if not os.path.exists(f'./{psf_name}'):\n",
    "    print('Downloading:', psf_url)\n",
    "    urllib.request.urlretrieve(psf_url, f'./{psf_name}')"
   ]
  },
  {
   "cell_type": "markdown",
   "id": "fb5681b8-01bc-492c-a4f9-b8821fe4a3fc",
   "metadata": {},
   "source": [
    "### 6.2 Run hst1pass\n",
    "\n",
    "Here we run hst1pass on the FLT files with a simple set of input parameters:\n",
    "- `HMIN = 5` requires that a given pixel have no brighter pixels within 5 pixels radius\n",
    "- `FMIN = 150` requires that source contain at least 150 electrons in a 2x2 pixel box\n",
    "- `PSF` lists the PSF file\n",
    "- `PERT = 1` allows the library PSF to be perturbed to find the single best PSF for a given image\n",
    "- `OUT = xymeq` specifies the output quantities: detector coordinates `x` and `y`, instrumental magnitude and error `m` and `e`, and the quality of fit metric for the PSF fit `q`."
   ]
  },
  {
   "cell_type": "code",
   "execution_count": null,
   "id": "6cfac736-182b-422c-bddc-942683323677",
   "metadata": {
    "scrolled": true
   },
   "outputs": [],
   "source": [
    "for flt in flt_files:\n",
    "    cmd_list = [\"./hst1pass.e\", \"HMIN=5\", \"FMIN=150\", \"PSF=STDPSF_ACSWFC_F606W_SM4.fits\", \"PERT=1\", \"OUT=xymeq\", flt]\n",
    "    subprocess.run(cmd_list, check=True)"
   ]
  },
  {
   "cell_type": "markdown",
   "id": "b649fa1f-8b5f-470e-bd1b-77a99488f445",
   "metadata": {},
   "source": [
    "Now we read in the hst1pass output and plot the `q` metric as a function of instrumental magnitude `m`."
   ]
  },
  {
   "cell_type": "code",
   "execution_count": null,
   "id": "1acf5231-bdd8-40a1-b7c5-530f76dce5d4",
   "metadata": {
    "scrolled": true
   },
   "outputs": [],
   "source": [
    "for flt in flt_files:\n",
    "\n",
    "    root = flt.split('/')[-1].split('_flt.fits')[0]\n",
    "\n",
    "    tab = ascii.read(f'{root}_flt.xymeq', names=['x', 'y', 'mag', 'error', 'q'])\n",
    "\n",
    "    plt.figure()\n",
    "\n",
    "    plt.scatter(tab['mag'], tab['q'], 2, alpha=0.5, marker='.') \n",
    "    plt.ylim(-0.03, 0.5)\n",
    "\n",
    "    plt.xlabel('Instrumental Magnitude (mag)')\n",
    "    plt.ylabel('q')\n",
    "    plt.title(f'{root}_flt.fits')\n",
    "    plt.grid(alpha=0.3)"
   ]
  },
  {
   "cell_type": "markdown",
   "id": "895f1c55-5280-49a6-96a3-2c8474fe23ad",
   "metadata": {},
   "source": [
    "The above plots show a rather typical distribution of `q` as a function of instrumental magnitude for the first, second, fifth, and sixth images. Saturated stars on the lower left of the plots have `q` defined as 0. Bright, well-fit stars have `q` values <~0.2. \n",
    "\n",
    "As expected, the library PSF is not a good match for the smeared sources in the third and fourth images, in which all sources have `q` values above 0.2-0.3. Cosmic rays typically fall in this range too. "
   ]
  },
  {
   "cell_type": "markdown",
   "id": "a7dfa0dd-2e0f-4e3f-b3a1-24ad07c604f3",
   "metadata": {},
   "source": [
    "## 7. Summary & Additional Resources <a id=\"summary\"></a>"
   ]
  },
  {
   "cell_type": "markdown",
   "id": "bee5ea47-9f22-4a60-aa01-2ba1789a2281",
   "metadata": {},
   "source": [
    "In this notebook, we've shown you how to download data from an ACS exception report, display that data and the observing log information, interpret the observing log information for guide star problems, plot and inspect jitter information, and if desired, run hst1pass to further investigate PSF quality in the images. \n",
    "\n",
    "More details may be found on the [ACS website](http://www.stsci.edu/hst/instrumentation/acs) and in the [ACS Instrument](https://hst-docs.stsci.edu/display/ACSIHB) and [Data Handbooks](https://hst-docs.stsci.edu/acsdhb).\n",
    "\n",
    "Please visit the [HST Help Desk](http://hsthelp.stsci.edu). Through the help desk portal, you can explore the HST Knowledge Base and request additional help from experts.\n",
    "\n",
    "Additional resources that may be helpful:\n",
    "- [Hubble Observation Problem Report (HOPR)](https://www.stsci.edu/hst/observing/post-observation/reporting-problems)\n",
    "- [ACS Anomalies and Artifacts](https://www.stsci.edu/hst/instrumentation/acs/performance/anomalies-and-artifacts)"
   ]
  },
  {
   "cell_type": "markdown",
   "id": "2b96ab5a-35c2-4135-95ca-2b9f80e1a970",
   "metadata": {},
   "source": [
    "## About this Notebook <a id=\"about\"></a>\n",
    "Author: Jenna Ryon\n",
    "Last Updated: June 2025"
   ]
  },
  {
   "cell_type": "markdown",
   "id": "3d93d354-cad5-4b57-bb40-29b0272750d5",
   "metadata": {},
   "source": [
    "## Citations <a id=\"citations\"></a>\n",
    "If you use Python packages for published research, please cite the authors. Follow these links for more <br>\n",
    "information about citing packages such as `astropy`, `astroquery`, `matplotlib`, `photutils`, etc.:\n",
    "\n",
    "* [Citing `astropy`](https://www.astropy.org/acknowledging.html)\n",
    "* [Citing `astroquery`](https://github.com/astropy/astroquery/blob/main/astroquery/CITATION)\n",
    "* [Citing `matplotlib`](https://matplotlib.org/stable/users/project/citing.html)\n",
    "* [Citing `numpy`](https://numpy.org/citing-numpy/)\n",
    "* [Citing `photutils`](https://photutils.readthedocs.io/en/stable/getting_started/citation.html)\n",
    "* [Citing `scipy`](https://scipy.org/citing-scipy/)\n",
    "<br>\n",
    "\n",
    "<hr>\n"
   ]
  },
  {
   "cell_type": "markdown",
   "id": "a0f8c0a2-b4e7-422c-88b2-3b9357854c46",
   "metadata": {},
   "source": [
    "[Top of Page](#top)\n",
    "<img style=\"float: right;\" src=\"https://raw.githubusercontent.com/spacetelescope/notebooks/master/assets/stsci_pri_combo_mark_horizonal_white_bkgd.png\" alt=\"Space Telescope Logo\" width=\"200px\"/> "
   ]
  }
 ],
 "metadata": {
  "kernelspec": {
   "display_name": "Python 3 (ipykernel)",
   "language": "python",
   "name": "python3"
  },
  "language_info": {
   "codemirror_mode": {
    "name": "ipython",
    "version": 3
   },
   "file_extension": ".py",
   "mimetype": "text/x-python",
   "name": "python",
   "nbconvert_exporter": "python",
   "pygments_lexer": "ipython3",
   "version": "3.9.23"
  }
 },
 "nbformat": 4,
 "nbformat_minor": 5
}
