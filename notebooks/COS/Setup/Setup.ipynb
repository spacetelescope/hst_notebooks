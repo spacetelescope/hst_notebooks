{
 "cells": [
  {
   "cell_type": "markdown",
   "metadata": {},
   "source": [
    "<a id=\"topS\"></a>\n",
    "\n",
    "# Setting up your computer environment for working with COS data\n",
    "\n",
    "# Learning Goals\n",
    "\n",
    "<font size=\"4\"> This Notebook is designed to walk the user (<em>you</em>) through: </font>\n",
    "\n",
    "\n",
    "**1. [Setting up a `conda` environment for working with COS data](#setupEnvS)**\n",
    "\n",
    "\\- 1.1. [Installing `conda`](#installcondaS)\n",
    "\n",
    "\\- 1.2. [Creating a `conda` environment](#createenvS)\n",
    "\n",
    "**2. [Setting up the Git repo of COS tutorials](#tutS)** (*optional*)\n",
    "\n",
    "**3. [Downloading up-to-date reference files](#crdsS)**\n",
    "\n",
    "\\- 3.1. [Downloading the most recent context](#newcC)\n",
    "\n",
    "\\- 3.2. [Downloading an older context](#oldcC)\n",
    "\n",
    "\n",
    "# 0. Introduction\n",
    "**The Cosmic Origins Spectrograph ([*COS*](https://www.nasa.gov/content/hubble-space-telescope-cosmic-origins-spectrograph)) is an ultraviolet spectrograph on-board the Hubble Space Telescope ([*HST*](https://www.stsci.edu/hst/about)) with capabilities in the near ultraviolet (*NUV*) and far ultraviolet (*FUV*).**\n",
    "\n",
    "**This tutorial will walk you through setting up a `Python` environment for COS data analysis on your computer.**\n",
    "\n",
    "- For an in-depth manual to working with COS data and a discussion of caveats and user tips, see the [COS Data Handbook](https://hst-docs.stsci.edu/display/COSDHB/).\n",
    "- For a detailed overview of the COS instrument, see the [COS Instrument Handbook](https://hst-docs.stsci.edu/display/COSIHB/).\n"
   ]
  },
  {
   "cell_type": "markdown",
   "metadata": {},
   "source": [
    "#### Notes for those new to Python/Jupyter/Coding:\n",
    "\n",
    "- You will frequently see exclamation points (**\\!**) or dollar signs (**\\$**) at the beginning of a line of code. These are not part of the actual commands. The exclamation points tell a Jupyter Notebook to pass the following line to the command line, and the dollar sign merely indicates the start of a terminal prompt. \n",
    "- Similarly, when a variable or argument in a line of code is surrounded by sharp brackets, like \\<these words are\\>, this is an indication that the variable or argument is something which you should change to suit your data.\n",
    "\n",
    "- If you install the full Anaconda distribution with the [*Anaconda Navigator* tool](https://docs.anaconda.com/anaconda/navigator/), (see Section 1) you will also have access to a graphical interface (AKA a way to use windows and a point-and-click interface instead of the terminal for installing packages and managing environments).\n",
    "\n",
    "#### Other notes:\n",
    "\n",
    "- It is sometimes preferable to use another package manager - `pip` - to install necessary packages, however `conda` can be used to create `Python` environments as well as install packages. You may see both `pip` and `conda` used in these Notebooks."
   ]
  },
  {
   "cell_type": "markdown",
   "metadata": {},
   "source": [
    "<a id = setupEnvS></a>\n",
    "# 1. Setting up a `conda` environment for working with COS data\n",
    "<a id = installcondaS></a>\n",
    "## 1.1. Installing `conda`\n",
    "You may already have a working `conda` tool. To check whether you have `conda` installed, open a terminal window and type `conda -V`, `conda --version`, or run the next cell. If your `conda` is installed and working, the terminal or cell will return the version of `conda`."
   ]
  },
  {
   "cell_type": "code",
   "execution_count": null,
   "metadata": {},
   "outputs": [],
   "source": [
    "!conda -V"
   ]
  },
  {
   "cell_type": "markdown",
   "metadata": {},
   "source": [
    "If you receive a message that the command is unknown or not found, you must install `conda`. We recommend installing either the Anaconda or Minicoda distributions. See [this page](https://stenv.readthedocs.io/en/latest/getting_started.html#getting-started) for instructions, and install either of the following: \n",
    "\n",
    "|Conda Distribution (with link to download)|Short Description|Size|\n",
    "|-|-|-|\n",
    "|[`Anaconda` Distribution](https://docs.anaconda.com/anaconda/install/) | More beginner friendly, with lots of extras you likely won't use| \\~ 3 GB|\n",
    "|[`Miniconda` Distribution](https://docs.conda.io/en/latest/miniconda.html)| Bare-bones `conda` distribution, which allows you to download only what you need|\\~ 400 MB|\n",
    "|[`Mamba` Distribution](https://mamba.readthedocs.io/en/latest/installation.html)| Similar to `Miniconda`, rewritten in C++. Allows for faster speeds over `conda` for resolving environment dependencies. |\\~ 85 MB|"
   ]
  },
  {
   "cell_type": "markdown",
   "metadata": {},
   "source": [
    "<a id = createenvS></a>\n",
    "## 1.2. Creating a `conda` environment\n",
    "\n",
    "`conda` allows for separate sets of packages to be installed on the same system in different environments, and for these environments to be shared so that other users can install the packages you used to get your code running. These packages are vital parts of your programming toolkit, and allow you to avoid \"reinventing the wheel\" by leveraging other peoples' code. Thus, packages should be treated as any resource created by other person, and cited to avoid plagiarizing. \n",
    "\n",
    "One package which is often necessary for working with COS data is `calcos`, which runs the [CalCOS data pipeline](https://hst-docs.stsci.edu/cosdhb/chapter-3-cos-calibration/3-2-pipeline-processing-overview). However, this package will not, by default, be installed on your computer. We will install CalCOS, as well as all the packages you will need to run any of these COS Notebooks.\n",
    "\n",
    "Open your terminal app, likely `Terminal` or `iTerm` on a Mac or `Windows Terminal` or `Powershell` on Windows. We'll begin by adding the `conda-forge` channel to `conda`'s channel list. This enables `conda` to look in the right place to find all the packages we want to install.\n",
    "\n",
    "``` $ conda config --add channels conda-forge```"
   ]
  },
  {
   "cell_type": "markdown",
   "metadata": {},
   "source": [
    "Now we can create our new environment. We'll call it `cos_analysis_env`, and initialize it with `Python` version `3.10`.\n",
    "\n",
    "<!-- Substitute for working astroconda - This will revert to using astroconda once the astroconda software is updated  -->\n",
    "\n",
    "``` $ conda create -n cos_analysis_env python=3.10```\n",
    "\n",
    "Allow `conda` to install some necessary packages (when prompted, type `y` then enter/return). Then, `conda` will need a few minutes, depending on your internet speed to complete the installation. After this installation finishes, you can see all of your environments with:\n",
    "\n",
    "``` $ conda env list```\n",
    "\n",
    "Now, activate your new environment with:\n",
    "\n",
    "``` $ conda activate cos_analysis_env ```\n",
    "\n",
    "*Note* that you will need to activate your environment every time you open a new terminal or shell using `conda activate cos_analysis_env`. You can also do this automatically by appending `conda activate cos_analysis_env` to the end of your `.bashrc` or equivalent file. You must activate your desired `conda` environment *before* starting a Jupyter Notebook kernel in that terminal.\n",
    "\n",
    "Finally, install `CalCOS`, `COSTools`, `CRDS`, and some other packages we'll need using `pip`:\n",
    "\n",
    "``` $ pip install calcos costools crds notebook jupyterlab matplotlib astroquery```\n",
    "\n",
    "Note that this will also likely take a few minutes to install as well. "
   ]
  },
  {
   "cell_type": "markdown",
   "metadata": {},
   "source": [
    "### Testing our installation\n",
    "We can test our installation by importing some of these packages. From the command line, try running:\n",
    "\n",
    "``` $ python --version; python -c \"import numpy, calcos, costools, crds; print('Imports succesful')\"```\n",
    "\n",
    "This should return:\n",
    "\n",
    "```\n",
    "Python 3.10.4    # (or a similar version number)\n",
    "Imports successful\n",
    "```"
   ]
  },
  {
   "cell_type": "markdown",
   "metadata": {},
   "source": [
    "### Installing other packages\n",
    "We can add any other packages we need with this command:\n",
    "\n",
    "```$ pip install <first package name> <second package name> ... <last package name>```\n",
    "\n",
    "Now, go ahead and install the [`specutils` package](https://specutils.readthedocs.io/en/stable/), which is briefly discussed in the [ViewData.ipynb](https://github.com/spacetelescope/hst_notebooks/blob/main/notebooks/COS/ViewData/ViewData.ipynb) Notebook, using the following command:\n",
    "\n",
    "```$ pip install specutils```\n",
    "\n",
    "We'll finish our installations by using the `pip install` command to download [SciPy](https://scipy.org/) and [Pandas](https://pandas.pydata.org/):\n",
    "\n",
    "```pip install pandas scipy```"
   ]
  },
  {
   "cell_type": "markdown",
   "metadata": {},
   "source": [
    "<a id = tutS></a>\n",
    "# 2. Setting up the git repo of other COS tutorials (*optional for some Notebooks*)\n",
    "\n",
    "While most of the tutorial Notebooks can generally be downloaded and run independently, this is not true at present for **ViewData.ipynb**, which needs both the Scripts and ViewData directories installed side-by-side.\n",
    "For the best experience, we recommend cloning the entire repository of Notebooks.\n",
    "\n",
    "You almost certainly have the `git` command line tool installed. To test it, type `git --version` into the command line, which should respond with a version number. If you don't have Git installed, follow the instructions to install it [here](https://www.atlassian.com/git/tutorials/install-git).\n",
    "\n",
    "All of the tutorial Notebooks are hosted at this [GitHub repo](https://github.com/spacetelescope/hst_notebooks). \n",
    "\n",
    "Clicking on the green \"Code\" button on this GitHub page gives you several options for downloading the code. Enter the directory that will store the downloaded notebooks, then copy either the `https` or `ssh` text under the `Clone` heading and type into your command line: \n",
    "\n",
    "```$ git clone <the text you copied>``` without the <>.\n",
    "\n",
    "This will create a new directory that contains all of the tutorial notebooks you just cloned."
   ]
  },
  {
   "cell_type": "markdown",
   "metadata": {},
   "source": [
    "<a id = crdsS></a>\n",
    "# 3. Downloading up-to-date reference files (*recommended for running `CalCOS`*)\n",
    "\n",
    "**This step is suggested if you intend to process or re-process COS data using the [COS calibration pipeline: `CalCOS`](https://hst-docs.stsci.edu/cosdhb/chapter-3-cos-calibration).**\n",
    "\n",
    "### `CalCOS` and reference files\n",
    "The `CalCOS` pipeline processes science data obtained with the COS instrument using a set of reference files, such as:\n",
    "* **Bad pixel tables** to subtract off bad pixels\n",
    "* **Flat field files** to flat-field a spectrum *pixel-by-pixel*\n",
    "* **Time-dependent sensitivity (TDS) tables** to correct for [COS' long-term loss of sensitivity](https://www.stsci.edu/hst/instrumentation/cos/performance/sensitivity)\n",
    "* **And many more** - see [COS Data Handbook Section 3.4](https://hst-docs.stsci.edu/cosdhb/chapter-3-cos-calibration/3-4-descriptions-of-spectroscopic-calibration-steps)\n",
    "\n",
    "These reference files are regularly updated by the COS team to provide the best possible calibration. The current and prior files are all hosted by the [HST Calibration Reference Data System (CRDS)](https://hst-crds.stsci.edu). To get the most up-to-date COS reference files, you can use the `crds` command line tool which we installed in [Section 1](#setupEnvS) of this Notebook. \n",
    "\n",
    "**Because some of these files are quite large, it is *highly recommended* you create a cache on your computer of all the COS files, which you may then update as necessary. We'll explain how to set up that cache below.**\n",
    "\n",
    "<!-- Alternatives for downloading *just the reference files you need at that moment* are offered in the walkthrough Notebooks which pertain to running the pipeline, i.e. [\"Calcos.ipynb\"](https://github.com/spacetelescope/hst_notebooks/blob/main/notebooks/COS/Setup/Setup.ipynb). -->"
   ]
  },
  {
   "cell_type": "markdown",
   "metadata": {},
   "source": [
    "### Reference file **contexts**\n",
    "**First we must briefly explain \"contexts\":**\n",
    "The history of reference files is stored in **context files**, which list the most up-to-date reference files at their time of creation. \n",
    "* If you wish to calibrate your data with the newest files provided by the COS team, (*which is highly likely*) you should download and use the files indicated by the current COS instrument context file, called an `imap` file. To download the files listed in the current context, see [Section 3.1](#newcC).\n",
    "* However, there are circumstances in which you may wish to use an older context, such as when you are trying to recreate the exact steps taken by another researcher. For this, see [Section 3.2](#oldcC). \n",
    "* Finally, you may wish to tweak the individual reference files used, such that they don't correspond to any particular instrument context. This is discussed in our [notebook on running the `CalCOS` pipeline](https://github.com/spacetelescope/hst_notebooks/blob/main/notebooks/COS/CalCOS/CalCOS.ipynb)."
   ]
  },
  {
   "cell_type": "markdown",
   "metadata": {},
   "source": [
    "<a id = newcC></a>\n",
    "## 3.1. Downloading the most recent context\n",
    "\n",
    "First, we will check the CRDS website to determine what the current context is, as it changes regularly. In your browser, navigate to [the HST CRDS homepage](https://hst-crds.stsci.edu), and you will see a page as in Fig. 3.1:\n",
    "\n",
    "### Fig 3.1\n",
    "<center><img src=./figures/crds1.png width =\"900\" title=\"CRDS Homepage\" alt=\"The CRDS homepage. There is a dropdown which lists all Hubble instruments. The table at the bottom of the page lists historical contexts.\"> </center>\n",
    "\n",
    "At the bottom of this page is a list of recent contexts, titled \"Context History\". Clicking the context listed with the Status \"Operational\" (circled in red in Fig 3.1) will take you to that context's page, as shown in Fig. 3.2:\n",
    "\n",
    "### Fig 3.2\n",
    "<center><img src=./figures/crds2.png width =\"900\" title=\"CRDS current 'Historical References' context page\" alt=\"The CRDS Historical References context page on the CRDS site. Each instrument is listed on the dropdown.\"> </center>\n",
    "\n",
    "By clicking the \"cos\" tab, (circled in red), you will be open up the tab, showing a page similar to Fig. 3.3, where you can find the current COS instrument context file: `hst_cos_<context number>.imap`. This filename is circled in red in Fig. 3.3.\n",
    "\n",
    "### Fig 3.3\n",
    "<center><img src=./figures/crds3.png width =\"900\" title=\"Current COS context on the CRDS site\" alt=\"Showing the current COS context on the CRDS site. There is a large list of reference files, and the imap file labeled at the top of this list as hst_cos_0320.imap\"> </center>\n",
    "\n",
    "Note down or copy the filename you just found."
   ]
  },
  {
   "cell_type": "markdown",
   "metadata": {},
   "source": [
    "### The CRDS Command line tool\n",
    "\n",
    "Now we can download all the files in this context. Remember to first activate the `conda` environment you created in [Section 1.2](#createenvS), or you may not have the necessary `crds` package installed.\n",
    "\n",
    "In the next cells, we will now set several environment variables: "
   ]
  },
  {
   "cell_type": "code",
   "execution_count": null,
   "metadata": {},
   "outputs": [],
   "source": [
    "# First we will import OS to set environment variables\n",
    "import os"
   ]
  },
  {
   "cell_type": "markdown",
   "metadata": {},
   "source": [
    "We determine where to save the files on your computer. As long as you are consistent, this can be wherever you like:"
   ]
  },
  {
   "cell_type": "code",
   "execution_count": null,
   "metadata": {},
   "outputs": [],
   "source": [
    "# Getting your home environment\n",
    "home_dir = os.environ[\"HOME\"]\n",
    "\n",
    "# Then we will set the CRDS_PATH environment_variable\n",
    "# Creating path to where the files are saved\n",
    "crds_path = os.path.join(home_dir, \"crds_cache\")\n",
    "# Setting the environment variable CRDS_PATH to our CRDS path\n",
    "os.environ[\"CRDS_PATH\"] = crds_path"
   ]
  },
  {
   "cell_type": "markdown",
   "metadata": {},
   "source": [
    "Here we are setting an environment variable to our CRDS server so we can access the files online:"
   ]
  },
  {
   "cell_type": "code",
   "execution_count": null,
   "metadata": {},
   "outputs": [],
   "source": [
    "# Set the CRDS_SERVER_URL environment_variable\n",
    "\n",
    "# URL for the STScI CRDS page\n",
    "crds_server_url = \"https://hst-crds.stsci.edu\"\n",
    "# Setting env variable to URL\n",
    "os.environ[\"CRDS_SERVER_URL\"] = crds_server_url"
   ]
  },
  {
   "cell_type": "markdown",
   "metadata": {},
   "source": [
    "Now we can run the initial command to sync all the files we might need. The ```<context number>``` is the last four digits of the `imap` filename, circled in red in Fig 3.3, without the <>. *This may take from a few minutes to several hours, depending on your internet connection*:"
   ]
  },
  {
   "cell_type": "markdown",
   "metadata": {},
   "source": [
    "`$ crds sync --contexts hst_cos_<context number>.imap --fetch-references`"
   ]
  },
  {
   "cell_type": "markdown",
   "metadata": {},
   "source": [
    "For running CalCOS, we recommend creating an environment variable pointing to this directory called `lref`."
   ]
  },
  {
   "cell_type": "code",
   "execution_count": null,
   "metadata": {},
   "outputs": [],
   "source": [
    "# Set the lref environment variable\n",
    "lref = os.path.join(crds_path, \"references/hst/cos\")\n",
    "os.environ[\"lref\"] = lref"
   ]
  },
  {
   "cell_type": "markdown",
   "metadata": {},
   "source": [
    "**Well done.** Your reference files are now all downloaded to the cache you set up, in subdirectories for the observatory and instrument they pertain to.\n",
    "To see the COS reference files you just downloaded:"
   ]
  },
  {
   "cell_type": "code",
   "execution_count": null,
   "metadata": {},
   "outputs": [],
   "source": [
    "!ls $lref"
   ]
  },
  {
   "cell_type": "markdown",
   "metadata": {},
   "source": [
    "<a id = oldcC></a>\n",
    "## 3.2. Downloading an older context\n",
    "\n",
    "**If you know the `imap` context you wish to download files from,** simply run the initial sync command with that context file:\n",
    "\n",
    "```$ crds sync --contexts hst_cos_<context number>.imap --fetch-references```\n",
    "\n",
    "**If you instead know the observatory-wide pipeline context, (called a `pmap` file,)** you can determine the relevant `imap` file by going to the [\"more history\"](https://hst-crds.stsci.edu/display_context_history/) or [\"all contexts\"](https://hst-crds.stsci.edu/display_all_contexts/) tabs of the CRDS website.\n",
    "\n",
    "These pages are accessible either via the links above, or the buttons boxed in blue in Fig. 3.1. Clicking on the `pmap` filename and then on the cos tab will show you the cos `imap` filename as in Fig. 3.3. You can then run the above `crds sync` command with this `imap` file as your context.\n",
    "\n",
    "**Finally, if you instead have a FITS file of processed COS data whose context you would like to match,** simply open its FITS header to find the `CRDS_CTX` keyword. \n",
    "The value for this keyword should be a `pmap` file, which you can search for as in the above case. Then run the above `crds sync` command with this `imap` file as your context.\n",
    "\n",
    "Again, we recommend creating an environment variable pointing to this directory called `lref`:"
   ]
  },
  {
   "cell_type": "code",
   "execution_count": null,
   "metadata": {},
   "outputs": [],
   "source": [
    "# Set the lref environment variable\n",
    "lref = os.path.join(crds_path, \"references/hst/cos\")\n",
    "os.environ[\"lref\"] = lref"
   ]
  },
  {
   "cell_type": "markdown",
   "metadata": {},
   "source": [
    "## Congratulations! You finished this Notebook!\n",
    "### There are more COS data walkthrough Notebooks on different topics. You can find them [here](https://github.com/spacetelescope/hst_notebooks/tree/main/notebooks/COS)."
   ]
  },
  {
   "cell_type": "markdown",
   "metadata": {},
   "source": [
    "\n",
    "---\n",
    "## About this Notebook\n",
    "**Author:** Nat Kerman <nkerman@stsci.edu>\n",
    "\n",
    "**Updated On:** 2023-03-23\n",
    "\n",
    "\n",
    "> *This tutorial was generated to be in compliance with the [STScI style guides](https://github.com/spacetelescope/style-guides) and would like to cite the [Jupyter guide](https://github.com/spacetelescope/style-guides/blob/master/templates/example_notebook.ipynb) in particular.*\n",
    "\n",
    "[Top of Page](#topS)\n",
    "<img style=\"float: right;\" src=\"https://raw.githubusercontent.com/spacetelescope/notebooks/master/assets/stsci_pri_combo_mark_horizonal_white_bkgd.png\" alt=\"Space Telescope Logo\" width=\"200px\"/> \n",
    "\n"
   ]
  }
 ],
 "metadata": {
  "kernelspec": {
   "display_name": "Python 3 (ipykernel)",
   "language": "python",
   "name": "python3"
  },
  "language_info": {
   "codemirror_mode": {
    "name": "ipython",
    "version": 3
   },
   "file_extension": ".py",
   "mimetype": "text/x-python",
   "name": "python",
   "nbconvert_exporter": "python",
   "pygments_lexer": "ipython3",
   "version": "3.10.9"
  }
 },
 "nbformat": 4,
 "nbformat_minor": 4
}
