{
 "cells": [
  {
   "cell_type": "markdown",
   "metadata": {},
   "source": [
    "<a id=\"topD\"></a>\n",
    "\n",
    "# Downloading COS Data\n",
    "\n",
    "# Learning Goals\n",
    "<font size=\"5\"> This Notebook is designed to walk the user (<em>you</em>) through: <b>Downloading existing Cosmic Origins Spectrograph (<em>COS</em>) data from the online archive</b></font>\n",
    "\n",
    "**0. [Introduction](#introDl)**\n",
    "\n",
    "\\- 0.1. [Choosing how to access the data](#dataaccess)\n",
    "\n",
    "\\- 0.2. [A one-cell summary of this Notebook's key points](#onecellDl)\n",
    "\n",
    "**1. [Using the web browser interface](#mastD)**\n",
    "\n",
    "\\- 1.1. [The HST-specific Web Search](#mastD)\n",
    "\n",
    "\\- 1.2. [Searching for a Series of Observations on the HST-specific Web Search](#WebSearchSeriesD)\n",
    "\n",
    "\\- 1.3. [The MAST Portal](#mastportD)\n",
    "\n",
    "\\- 1.4. [Searching for a Series of Observations on the MAST Portal](#mastportSeriesD)\n",
    "\n",
    "**2. [Using the `Python` module `Astroquery`](#astroqueryD)**\n",
    "\n",
    "\\- 2.1. [Searching for a single source with Astroquery](#Astroquery1D)\n",
    "\n",
    "\\- 2.2. [Narrowing Search with Observational Parameters](#NarrowSearchD)\n",
    "\n",
    "\\- 2.3. [Choosing and Downloading Data Products](#dataprodsD)\n",
    "\n",
    "\\- 2.4. [Using astroquery to find data on a series of sources](#Astroquery2D)\n"
   ]
  },
  {
   "cell_type": "markdown",
   "metadata": {},
   "source": [
    "<a id=introDl></a>\n",
    "\n",
    "# 0. Introduction\n",
    "**The Cosmic Origins Spectrograph ([*COS*](https://www.nasa.gov/content/hubble-space-telescope-cosmic-origins-spectrograph)) is an ultraviolet spectrograph on-board the Hubble Space Telescope ([*HST*](https://www.stsci.edu/hst/about)) with capabilities in the near ultraviolet (*NUV*) and far ultraviolet (*FUV*).**\n",
    "\n",
    "**This tutorial aims to prepare you to access the existing COS data of your choice by walking you through downloading a processed spectrum, as well as various calibration files obtained with COS.**\n",
    "\n",
    "- For an in-depth manual to working with COS data and a discussion of caveats and user tips, see the [COS Data Handbook](https://hst-docs.stsci.edu/display/COSDHB/).\n",
    "- For a detailed overview of the COS instrument, see the [COS Instrument Handbook](https://hst-docs.stsci.edu/display/COSIHB/).\n"
   ]
  },
  {
   "cell_type": "markdown",
   "metadata": {},
   "source": [
    "<a id=dataaccess></a>\n",
    "### 0.1. Choosing how to access the data \n",
    "\n",
    "**This Notebook explains three methods of accessing COS data hosted by the STScI Mikulski Archive for Space Telescopes (MAST).**\n",
    "You may read through all three, or you may wish to focus on a particular method which best suits your needs. \n",
    "**Please use the table below to determine which section on which to focus.**\n",
    "\n",
    "||The [HST-specific Search (Web Interface)](https://mast.stsci.edu/search/ui/#/hst)|The [MAST Portal (Web Interface)](https://mast.stsci.edu/portal/Mashup/Clients/Mast/Portal.html)|The [`Astroquery` (`Python` Interface)](http://astroquery.readthedocs.io/)|\n",
    "|-|-|-|-|\n",
    "||- User-friendly point-and-click searching|- User-friendly point-and-click searching|- Requires a bit of `Python` experience|\n",
    "||- Advanced **mission-specific** search parameters, including: central wavelength, detector, etc.|- Lacks some mission-specific search parameters but has non-HST data|- Allows for programmatic searching and downloads|\n",
    "||- Easy to select and download specific datasets|- Easy to select and download specific datasets|- Best for downloading very large datasets|\n",
    "|||||\n",
    "|***Use this method if...***   |*...You're unfamiliar with `Python` and need to search for data by cenwave*|*...You're exploring the data from multiple observatories and you don't need to search by cenwave*|*...You know `Python` and have an idea of what data you're looking for, or you have a lot of data*|\n",
    "|***Described in...***|*[Section 1.1](#mastD)*|*[Section 1.3](#mastportD)*|*[Section 2.1](#astroqueryD)*|\n",
    "\n",
    "*Note* that these are only recommendations, and you may prefer another option. For most purposes, the writer of this tutorial recommends exploring your data first with one of the Web interfaces. Then, if repeatability is important to your application, you can implement this using the `Astroquery` `Python` interface.\n"
   ]
  },
  {
   "cell_type": "markdown",
   "metadata": {},
   "source": [
    "<a id=onecellDl></a>\n",
    "\n",
    "### 0.2. A one-cell summary of this Notebook's key points:\n",
    "\n",
    "While the rest of this Notebook will walk you through each step and decision made when downloading COS data, the following code cell serves as a summary for the Notebook. It contains the key material condensed into a single code cell, without much explanation. In the rest of this Notebook, we explain other methods of downloading data which require less `Python` experience and which may be more useful for exploring data when you don't know *exactly* what you're looking for.\n",
    "\n",
    "If this cell is all the help you need, great! If you still have questions, read on!"
   ]
  },
  {
   "cell_type": "code",
   "execution_count": null,
   "metadata": {},
   "outputs": [],
   "source": [
    "# 1. Import the necessary libraries:\n",
    "# For searching and downloading from the MAST archive:\n",
    "from astroquery.mast import Observations\n",
    "# For handling system paths:\n",
    "from pathlib import Path\n",
    "\n",
    "# 2. Download an example dataset using astroquery:\n",
    "# 2.1. Find all the observations from a single HST Proposal:\n",
    "# We'll search for a program with Proposal ID 15366\n",
    "# A list of search criteria can be found by running:\n",
    "#    Observations.get_metadata('observations')\n",
    "obs_from_proposal = Observations.query_criteria(proposal_id=\"15366\")\n",
    "\n",
    "# 2.2. Find all the data products for these observations:\n",
    "# These include all the files associated with your observation\n",
    "products_from_proposal = Observations.get_product_list(obs_from_proposal)\n",
    "\n",
    "# 2.3. Tell the user how many total files were found:\n",
    "print(f\"Found {len(products_from_proposal)} data products\")\n",
    "\n",
    "# 2.4. Filter to a specific subset of these products:\n",
    "# Here we filter X1DSUM files, which are the final 1-D extracted spectra\n",
    "# and association files, which list related exposures combined into the X1DSUM\n",
    "products_to_download = Observations.filter_products(\n",
    "    products_from_proposal,\n",
    "    productSubGroupDescription=[\"X1DSUM\", \"ASN\"]\n",
    ")\n",
    "\n",
    "# 2.5. Download the filtered products:\n",
    "dl_table = Observations.download_products(products_to_download)\n",
    "\n",
    "# 2.6. Gather the downloaded files:\n",
    "# Turn string paths to the files into python pathlib.Path objects\n",
    "# Then make lists of these local paths, aggregated by type of file\n",
    "onecell_x1dsum_products = [Path(local_path) for local_path in\n",
    "                           dl_table[\"Local Path\"] if \"x1dsum\" in local_path]\n",
    "\n",
    "onecell_asn_products = [Path(local_path) for local_path in\n",
    "                        dl_table[\"Local Path\"] if \"asn\" in local_path]\n",
    "\n",
    "print(\"Downloaded X1DSUM Files: \\n\", onecell_x1dsum_products,\n",
    "      \"\\nDownloaded ASN Files: \\n\", onecell_asn_products)"
   ]
  },
  {
   "cell_type": "markdown",
   "metadata": {},
   "source": [
    "### Now, returning to our more detailed walkthrough...\n",
    "\n",
    "<font size=\"5\"> We will define a few directories in which to place our data.</font>\n",
    "\n",
    "And to create new directories, we'll import `pathlib.Path`:"
   ]
  },
  {
   "cell_type": "code",
   "execution_count": null,
   "metadata": {},
   "outputs": [],
   "source": [
    "# Import for: working with system paths\n",
    "from pathlib import Path\n",
    "\n",
    "# This will be an important directory for the Notebook, where we save data\n",
    "data_dir = Path('./data/')\n",
    "# If directory doesn't exist, it'll be created\n",
    "data_dir.mkdir(exist_ok=True)"
   ]
  },
  {
   "cell_type": "markdown",
   "metadata": {},
   "source": [
    "<a id=\"downloadD\"></a>\n",
    "# 1. Downloading the data through the browser interface\n",
    "\n",
    "One can search for COS data from both a browser-based Graphical User Interface (*gui*) and a `Python` interface. This Section will examine two web interfaces. [Section 2](#astroqueryD) will explain the `Python` interface.\n",
    "\n",
    "*Note, there are other, more specialized ways to query the mast API not discussed in this Notebook. An in-depth MAST API tutorial can be found [here](https://mast.stsci.edu/api/v0/MastApiTutorial.html).*"
   ]
  },
  {
   "cell_type": "markdown",
   "metadata": {},
   "source": [
    "<a id=\"mastD\"></a>\n",
    "## 1.1 The HST-specific Web Search\n",
    "**The browser GUI for searching *specifically* through [HST archival data can be found here](https://mast.stsci.edu/search/ui/#/hst).** \n",
    "Full documentation of the HST-specific search can be found [here](https://outerspace.stsci.edu/display/MASTDOCS/Mission+Search+Guide). In this section of the Notebook, we'll show examples of searching for COS data using the HST-specific form. A more general MAST GUI, which allows access to data from other telescopes such as TESS, but does not offer all HST-specific search parameters, will be discussed in [Section 1.3](#mastportD)."
   ]
  },
  {
   "cell_type": "markdown",
   "metadata": {},
   "source": [
    "The search page  of the HST-specific interface is laid out as in Figure 1.1:\n",
    "### Fig 1.1\n",
    "<img src=./figures/new_hst_search_login.png width =\"900\" title=\"New HST-specific search website\" alt=\"An image of the MAST search site. On the page there are boxes for each different criteria that you want in your search, such as Object Name in the top left, active instruments below that, and at the bottom of the page there is a box that you can fill with a certain column name and your desired criteria (if the criteria is not already on the page). At the top right is the 'My ST' button.\">\n",
    "\n",
    "If you are accessing proprietary data, you will need to make an account or log in at the top right under \"MY ST\" (Fig 1.1, boxed in red). If you are accessing non-proprietary data, you may continue without logging in.\n"
   ]
  },
  {
   "cell_type": "markdown",
   "metadata": {},
   "source": [
    "Figure 1.2 shows a filled-in search form, which will query the MAST archive for observations which:\n",
    "* Fall within 3 arcminutes of either of the resolved stars: AV75 or AV80\n",
    "* Are spectroscopic observations, rather than images\n",
    "* Have exposure times of greater than 1000 seconds\n",
    "* Are taken with the COS instrument, using the G160M grating and either the 1533 or the 1577 cenwave setting\n",
    "\n",
    "### Fig 1.2\n",
    "<img src=figures/hst_search_query_updated.png width =\"900\" title=\"New HST-specific website search filled out with a COS data query, boxes with each criteria from above are highlighted with a red box. The central wavelength condition was added to the bottom box where you choose columns for criteria, since the central wavelength is not a pre-given criteria.\" alt=\"New HST-specific website search filled out with a COS data query, boxes with each criteria from above are highlighted with a red box. The central wavelength condition was added to the bottom box where you choose columns for criteria, since the central wavelength is not a pre-given criteria.\">"
   ]
  },
  {
   "cell_type": "markdown",
   "metadata": {},
   "source": [
    "The above search results in the table shown in Figure 1.3. \n",
    "\n",
    "### Fig 1.3\n",
    "<img src =figures/new_hst_search_results.png width =\"900\" title=\"Results from new HST-specific search website query\" alt=\"The page is now the search results page. At the top left are the 'Edit Search' box highlighted in dashed red. Below that is the 'Download Dataset' button highlighted with a green circle. Under that is the list of datasets, with each row beginning with a empty checkbox, followed by information about the dataset, such as search position, dataset name, target name, etc.\">\n",
    "\n",
    "If you need to change some parameters in your search - for instance, to also find data from the G130M grating - click on \"Edit Search\" (Fig 1.3, red dashed box).\n",
    "\n",
    "If you are happy with your search, you may now select all the observations whose data you would like to download. Do this by clicking on the checkbox for those observations (Fig 1.3, blue box), and then clicking \"Download Data\" (Fig 1.3, green oval).\n",
    "\n"
   ]
  },
  {
   "cell_type": "markdown",
   "metadata": {},
   "source": [
    "Most COS spectra have preview images (simple plots of flux by wavelength) which can be viewed before downloading the data. Clicking the dataset name (Fig 1.3, blue dashed oval) will take you to a page which shows the preview image, as well as some basic information about the data and whether there were any known failures during the operation. An example of such a page is shown in Figure 1.4.\n",
    "\n",
    "### Fig 1.4\n",
    "<img src=figures/preview_spectrum_small.png width =\"900\" title=\"Preview spectrum page\" alt=\"The page is now an image of a spectrum preview for dataset LPXK51020. It shows two plots of wavelength vs flux. Below is a list of exposure information, such as observation data, exposure time, release date, mode. At the very bottom of the page is the proposal ID along with the PI and CoIs.\">"
   ]
  },
  {
   "cell_type": "markdown",
   "metadata": {},
   "source": [
    "Returning to the results page shown in Fig 1.3 and clicking \"Download Data\" opens a window as shown in Figure 1.5. In this window you can search for filetypes using the search bar, and unselect/select all the data products shown in the filtered list (Fig 1.5, green circle). Clicking the \"Showing all filetypes\" box (Figure 1.5, red box) shows a drop-down (Figure 1.6) where you can choose to show/hide certain types of data such as the uncalibrated data.  \n",
    "\n",
    "### Fig 1.5\n",
    "<img src =figures/new_hst_search_downloading_all_files.png width =\"900\" title=\"Choosing what to download in the new HST search website\" alt=\"The image shows the a table of files in dataset LDJ1010. Each row shows different CalCOS products, such as the ASN file, X1DSUM, JIT, etc. The title of the table is the dataset name, and to the left of the name is the button to check all or none exposures, highlighted with a green circle. There are columns on the table that give information about the insturment used (COS) and the filter/grating (G140L). Above the table is a dropdown that allows you to choose the filetypes you wish to download.\">\n",
    "\n",
    "### Fig 1.6\n",
    "<img src =figures/new_hst_search_downloading_filetypes.png width =\"900\" title=\"Choosing which data to download (calibrated/uncalibrated/etc.\" alt=\"The image shows the same page as Figure 1.5, but the 'Showing all file types' dropdown button has been clicked. There are rows that have checkboxes on the left, each row from top to bottom is labled 'Calibrated', 'Uncalibrated', 'Aux/Other', 'Reference', 'Log/Jitter\">\n",
    "\n",
    "When all of your desired data products are checked, click \"Start Download\" (Fig 1.5, yellow dashed box). This will download a compressed \"zipped\" folder of all of your data, divided into subdirectories by the observation. Most operating systems can decompress these folders by default. For help decompressing the zipped files, you can follow these links for: [Windows](https://support.microsoft.com/en-us/windows/zip-and-unzip-files-8d28fa72-f2f9-712f-67df-f80cf89fd4e5) and [Mac](https://support.apple.com/guide/mac-help/zip-and-unzip-files-and-folders-on-mac-mchlp2528/mac). There are numerous ways to do this on Linux, however we have not vetted them."
   ]
  },
  {
   "cell_type": "markdown",
   "metadata": {},
   "source": [
    "Let's briefly return to the initial HST-specific search form to discuss another way to find data.\n",
    "Rather than specifying parameters about the data we're searching for, we can instead search by a dataset's ID (Figure 1.7, pink box). As an example of this, we rather arbitrarily select **`LCXV13050`** because of its long exposure time, taken under an observing program described as:\n",
    "> \"Project AMIGA: Mapping the Circumgalactic Medium of Andromeda\"\n",
    "\n",
    "This is a Quasar known as [3C48](http://simbad.u-strasbg.fr/simbad/sim-basic?Ident=3c48&submit=SIMBAD+search), one of the first quasars discovered.\n",
    "\n",
    "### Fig 1.7\n",
    "\n",
    "<img src=figures/new_hst_search_query2_small.png width =\"900\" title=\"New HST-specific website search filled out with a specific dataset ID\" alt=\"The image is showing the search page for MAST again. Halfway down the page is a box to input dataset name criteria. Above that is the obervation type box, which is composed of three check boxes. These boxes from left to right are 'All', 'Science', and 'Calibration'. The science box is the only one that is checked.\">"
   ]
  },
  {
   "cell_type": "markdown",
   "metadata": {},
   "source": [
    "<font size=\"5\"> <b>Well done making it this far!</b></font>\n",
    "\n",
    "You can attempt the exercise below for some extra practice."
   ]
  },
  {
   "cell_type": "markdown",
   "metadata": {},
   "source": [
    "### Exercise 1: *Searching the archive for TRAPPIST-1 data*\n",
    "\n",
    "[TRAPPIST-1](https://en.wikipedia.org/wiki/TRAPPIST-1) is a cool red dwarf with a multiple-exoplanet system. \n",
    "- Find its coordinates using the [SIMBAD Basic Search](http://simbad.u-strasbg.fr/simbad/sim-fbasic).\n",
    "- Use those coordinates in the [HST web search](https://mast.stsci.edu/search/ui/#/hst) or the [MAST portal](https://mast.stsci.edu/portal/Mashup/Clients/Mast/Portal.html) to find all COS exposures of the system.\n",
    "- Limit the search terms to find the COS dataset taken in the COS far-UV configuration with the grating G130M.\n",
    "\n",
    "**What is the dataset ID, and how long was the exposure?**\n",
    "\n",
    "Place your answer in the cell below."
   ]
  },
  {
   "cell_type": "code",
   "execution_count": null,
   "metadata": {},
   "outputs": [],
   "source": [
    "# Your answer here"
   ]
  },
  {
   "cell_type": "markdown",
   "metadata": {},
   "source": [
    "<a id=WebSearchSeriesD></a>\n",
    "## 1.2. Searching for a Series of Observations on the HST-specific Web Search\n",
    "\n",
    "Now let's try using the HST-specific web interface's [file upload form](http://archive.stsci.edu/hst/search.php?form=fuf) to search for a series of observations by their dataset IDs. We're going to look for three observations of the same object, the white dwarf WD1057+719, taken with three different COS gratings. Two are in the FUV and one in the NUV. The dataset IDs are\n",
    "- LDYR52010\n",
    "- LBNM01040\n",
    "- LBBD04040\n",
    "\n",
    "So that we have an example list of datasets to input to the web search, we make a comma-separated-value text file with these three `obs_ids`, and save it as `obsId_list.txt`.\n",
    "You can also search by right ascension and declination, instead of by dataset ID."
   ]
  },
  {
   "cell_type": "code",
   "execution_count": null,
   "metadata": {},
   "outputs": [],
   "source": [
    "# The three observation IDs we want to gather\n",
    "obsIdList = ['LDYR52010', 'LBNM01040', 'LBBD04040']\n",
    "\n",
    "# Open up this new file in \"write\" mode\n",
    "with open('./obsId_list.txt', 'w') as f:\n",
    "    # The first line tells the search what type of parameter we're searching\n",
    "    # Here, it's the dataset ID.\n",
    "    # It could be RA, DEC. In that case each row has two values\n",
    "    f.write(\"Dataset_id\\n\")\n",
    "    # We want a newline after each obs_id except the last one\n",
    "    for obsId in obsIdList[:-1]:\n",
    "        f.write(obsId + \",\" + \"\\n\")\n",
    "    # Make sure we don't end the file with a blank line (below)\n",
    "    f.write(obsIdList[-1])"
   ]
  },
  {
   "cell_type": "markdown",
   "metadata": {},
   "source": [
    "Then we can click **Upload List of Objects** on the HST-specific search form, and then choose `obsId_list.txt` under the browse menu which opens (Figure 1.8, pink box).\n",
    "Because we are searching by Dataset ID, we don't need to specify any additional parameters to narrow down the data.\n",
    "\n",
    "### Fig 1.8\n",
    "<img src =figures/new_search_file_list_small.png width =\"900\" title=\"File Upload Search Form\" alt=\"The image shows the MAST search page, with the top box filled in. The title of this box is 'Object name(s) and/or RA and Dec pair(s). The filled in box is the text file obsId_list.txt. The observations box below it has only the science box checked off.\">\n"
   ]
  },
  {
   "cell_type": "markdown",
   "metadata": {},
   "source": [
    "We now can access all the datasets specified in `obsId_list.txt`, as shown in Figure 1.9:\n",
    "\n",
    "### Fig 1.9\n",
    "<img src =figures/new_search_file_list_res_small.png width =\"900\" title=\"Upload List of Objects Search Results\" alt=\"The image shows the MAST search results page, with the three datasets from our text file shows in each row.\">\n",
    "\n",
    "We can select and download their data products as before."
   ]
  },
  {
   "cell_type": "markdown",
   "metadata": {},
   "source": [
    "<a id = mastportD></a>\n",
    "## 1.3. The MAST Portal\n",
    "\n",
    "STScI hosts another web-based gui for accessing data, the [MAST Portal](https://mast.stsci.edu/portal/Mashup/Clients/Mast/Portal.html). This is a newer interface which hosts data from across many missions and allows the user to visualize the target in survey images, take quick looks at spectra or lightcurves, and manage multiple search tabs at once. Additionally, it handles downloads in a slightly more beginner-friendly manner than the current implementation of the Classic HST Search. This guide will only cover the basics of accessing COS data through the MAST Portal; you can find more in-depth documentation in the form of helpful video guides on the [MAST YouTube Channel](https://www.youtube.com/user/STScIMAST).\n",
    "\n",
    "**Let's find the same data we found in [Section 1.1](#mastD), on the QSO 3C48:**\n",
    "\n",
    "Navigate to the MAST Portal at <https://mast.stsci.edu/portal/Mashup/Clients/Mast/Portal.html>, and you will be greeted by a screen where the top looks like Figure 1.10. \n",
    "### Fig 1.10\n",
    "<img src =figures/mastp_top.png width =\"900\" title=\"Top of MAST Portal Home\" alt=\"The image shows the MAST portal, specifically the search box at the top.\">\n",
    "\n",
    "Click on \"Advanced Search\" (boxed in red in Figure 1.10). This will open up a new search tab, as shown in Figure 1.11:\n",
    "### Fig 1.11\n",
    "<img src =figures/mastp_adv.png width =\"900\" title=\"The advanced search tab\" alt=\"The image shows the advanced search pop-up. On the left of the pop-up is a list of check boxes for different search criteria, such as Target name, instrument, mission, etc. To the left of that are larger boxes for different critera, and inside these mobes are rows with checkboxes. For example, there is a larger box labeled 'Observation type' with two checkbox rows labeled 'science' and 'calibration'.\">\n",
    "\n",
    "Fig 1.11 (above) shows the default search fields which appear. Depending on what you are looking for, these may or may not be the most helpful search fields. By unchecking some of the fields which we are not interested in searching by right now (Figure 1.12, boxed in green), and then entering the parameter values by which to narrow the search into each parameter's box, we generate Fig 1.12. One of the six fields (Mission) by which we are narrowing is boxed in a dashed blue line. The list of applied filters is boxed in red. A dashed pink box at the top left indicates that 2 records were found matching all of these parameters. To its left is an orange box around the \"Search\" button to press to bring up the list of results.\n",
    "\n",
    "Here we are searching by:\n",
    "\n",
    "|**Search Parameter**|**Value**|\n",
    "|-|-|\n",
    "|Mission|HST|\n",
    "|Instrument|COS/FUV|\n",
    "|Filters|G160M|\n",
    "|Target Name|3C48|\n",
    "|Observation ID|LCXV\\* (*the star is a \"wild card\" value, so the search will find any file whose `obs_id` begins with LCXV*)|\n",
    "|Product Type|spectrum|\n",
    "\n",
    "### Fig 1.12\n",
    "<img src =figures/mastp_adv_2.png width =\"900\" title=\"The advanced search tab with some selections\" alt=\"The image shows the same advanced search pop-up, filled out with our desired criteria. The criteria is highlighted, and above it is a list of the applied filters highlighted in red. The top of the pop-up has a 'Search' button, and also lists the records found. There are two records for our search.\">\n",
    "\n"
   ]
  },
  {
   "cell_type": "markdown",
   "metadata": {},
   "source": [
    "Click the \"Search\" button (boxed in orange), and you will be brought to a page resembling Figure 1.13. \n",
    "\n",
    "### Fig 1.13\n",
    "<img src =figures/mastp_res1.png width =\"900\" title=\"Results of MAST Portal search\" alt=\"The image shows the search results list, with consists of two rows for our search. To the left of the rows are checkboxes, then there is are images of a disk, spectra, and three dots. The rest of the columns of the rows show some criteria, such as the mission, observation type, etc. To the far right is the image of our object.\">"
   ]
  },
  {
   "cell_type": "markdown",
   "metadata": {},
   "source": [
    "<font size=\"4\"> <b>Above, in Fig 1.13</b>:</font>\n",
    "- The yellow box to the right shows the AstroView panel, where you can interactively explore the area around your target:\n",
    "  - Click and drag to pan around\n",
    "  - Scroll to zoom in/out\n",
    "- The dashed-blue box highlights additional filters you can use to narrow your search results.\n",
    "- The red box highlights a button you can click with *some* spectral datasets to pull up an interactive spectrum.\n",
    "- The green box highlights the \"Mark\" checkboxes for each dataset. \n",
    "- The black circle highlights the single dataset download button:\n",
    "   - **If you only need to download one or two datasets, you may simply click this button for each dataset**\n",
    "   - Clicking the single dataset download button will attempt to open a \"pop-up\" window, which you must allow in order to download the file. Some browsers will require you to manually allow pop-ups.\n"
   ]
  },
  {
   "cell_type": "markdown",
   "metadata": {},
   "source": []
  },
  {
   "cell_type": "markdown",
   "metadata": {},
   "source": [
    "<a id=\"mastportSeriesD\"></a>\n",
    "## 1.4. Searching for a Series of Observations on the MAST Portal\n",
    "\n",
    "<font size=\"4\"> <b>To download multiple datasets</b>:</font>\n",
    "The MAST portal acts a bit like an online shopping website, where you add your *data products* to the checkout *cart*/*basket*, then open up your cart to *checkout* and download the files.\n",
    "\n",
    "Using the checkboxes, mark all the datasets you wish to download (in this case, we'll download both LCXV13040 and LCXV13050). Then, click the \"Add data products to Download Basket\" button (Fig 1.13, dashed-purple line), which will take you to a \"Download Basket\" screen resembling Figure 1.14:"
   ]
  },
  {
   "cell_type": "markdown",
   "metadata": {},
   "source": [
    "### Fig 1.14\n",
    "<img src =figures/mastp_cart2.png width =\"900\" title=\"MAST Portal Download Basket\" alt=\"The image shows the Download Manager. The left is a list of filters, where you can choose recommended products, product categories, extensions, and groups. To the left is a file list of all files for the observations. There are columns that label the file size, name, product type, etc.\">\n",
    "\n",
    "Each dataset contains *many* files, most of which are calibration files or intermediate processing files. You may or may not want some of these intermediate files in addition to the final product file.\n",
    "In the leftmost \"Filters\" section of the Download Basket page, you can narrow which files will be downloaded (Fig 1.14, boxed in red).\n",
    "By default, only the **minimum recommended products** (*mrp*) will be selected. In the case of most COS data, this will be the final spectrum `x1dsum` file and association `asn` file for each dataset. The mrp files for the first dataset (`LCXV13040`) are highlighted in yellow. These two mrp filetypes are fine for our purposes here; however if you want to download files associated with specific exposures, or any calibration files or intermediate files, you can select those you wish to download with the checkboxes in the file tree system (Fig 1.14, dashed-green box)."
   ]
  },
  {
   "cell_type": "markdown",
   "metadata": {},
   "source": [
    "**For this tutorial, we simply select \"Minimum Recommended Products\" at the top left. With this box checked, all of the folders representing individual exposures are no longer visible.**\n",
    "Check the box labelled \"HST\" to select all files included by the filters, and click the \"Download Selected Items\" button at the top right (Fig 1.14, dashed-black circle). This will bring up a small window asking you what format to download your files as. For datasets smaller than several Gigabytes, the `Zip` format will do fine. Click Download, and a pop-up window will try to open to download the files. If no download begins, make sure to enable this particular pop-up, or allow pop-ups on the MAST page.\n",
    "\n",
    "**Your files should now be downloaded as a compressed `Zip` folder.**"
   ]
  },
  {
   "cell_type": "markdown",
   "metadata": {},
   "source": [
    "<a id = astroqueryD></a>\n",
    "# 2. The Python Package `astroquery.mast`\n",
    "Another way to search for and download archived datasets is from within `Python` using the module [`astroquery.mast`](https://astroquery.readthedocs.io/en/latest/mast/mast.html). We will import one of this module's key submodules: `Observations`.\n",
    "\n",
    "*Please note* that the canonical source of information on this package is the [`astroquery` docs](https://astroquery.readthedocs.io/en/latest/) - please look there for the most up-to-date instructions."
   ]
  },
  {
   "cell_type": "markdown",
   "metadata": {},
   "source": [
    "## We will import the following packages:\n",
    "\n",
    "- `astroquery.mast`'s submodule `Observations` for finding and downloading data from the [MAST](https://mast.stsci.edu/portal/Mashup/Clients/Mast/Portal.html) archive\n",
    "- `csv`'s submodule `reader` for reading in/out from a `csv` file of source names."
   ]
  },
  {
   "cell_type": "code",
   "execution_count": null,
   "metadata": {},
   "outputs": [],
   "source": [
    "from astroquery.mast import Observations\n",
    "from csv import reader"
   ]
  },
  {
   "cell_type": "markdown",
   "metadata": {},
   "source": [
    "<a id=Astroquery1D></a>\n",
    "## 2.1. Searching for a single source with [`Astroquery`](https://astroquery.readthedocs.io/en/latest/)\n",
    "\n",
    "There are *many* options for searching the archive with [`astroquery`](https://astroquery.readthedocs.io/en/latest/), but we will begin with a very general search using the coordinates we found for WD1057+719 in the last section to find the dataset with the longest exposure time using the COS/FUV mode through the G160M filter. We could also search by object name to have it resolved to a set of coordinates, with the function `Observations.query_object(objectname = '3C48')`.\n",
    "- Our coordinates were:      (11:00:34.126 +71:38:02.80). \n",
    "    - We can search these coordinates as sexagesimal coordinates, or convert them to decimal degrees."
   ]
  },
  {
   "cell_type": "code",
   "execution_count": null,
   "metadata": {},
   "outputs": [],
   "source": [
    "WD_query = Observations.query_object(\n",
    "    # Searching for objects within 5 arcseconds of coordinates\n",
    "    \"11:00:34.126 +71:38:02.80\", radius=\"5 sec\")"
   ]
  },
  {
   "cell_type": "markdown",
   "metadata": {},
   "source": [
    "This command has generated a table of objects called **\"WD_query\"**. We can see what information we have on the objects in the table by printing its *`keys`*, and see how many objects are in the table with `len(WD_query)`."
   ]
  },
  {
   "cell_type": "code",
   "execution_count": null,
   "metadata": {},
   "outputs": [],
   "source": [
    "print(f\"We have table information on {len(WD_query)} \" +\n",
    "      \"observations in the following categories/columns:\\n\")\n",
    "WD_q_keys = (WD_query.keys())\n",
    "WD_q_keys"
   ]
  },
  {
   "cell_type": "markdown",
   "metadata": {},
   "source": [
    "<a id=NarrowSearchD></a>\n",
    "## 2.2. Narrowing Search with Observational Parameters\n",
    "Now we narrow down a bit with some additional parameters and sort by exposure time.\n",
    "The parameter limits we add to the search are:\n",
    "- *Only look for sources in the coordinate range between right ascension 165 to 166 degrees and declination +71 to +72 degrees*\n",
    "- *Only find observations in the UV*\n",
    "- *Only find observations taken with the COS instrument (either in its FUV or NUV configuration).*\n",
    "- *Only find spectrographic observations*\n",
    "- *Only find observations made using the COS grating \"G160M\"*"
   ]
  },
  {
   "cell_type": "code",
   "execution_count": null,
   "metadata": {},
   "outputs": [],
   "source": [
    "# Searching MAST for objects with our desired parameter values\n",
    "WD_query_narrow = Observations.query_criteria(\n",
    "                                      s_ra=[165., 166.],\n",
    "                                      s_dec=[+71., +72.],\n",
    "                                      wavelength_region=\"UV\",\n",
    "                                      instrument_name=[\"COS/NUV\", \"COS/FUV\"],\n",
    "                                      dataproduct_type=\"spectrum\",\n",
    "                                      filters='G160M')\n",
    "\n",
    "# Next lines simplifies the columns of data we see to some useful data\n",
    "col_data = WD_query_narrow[\n",
    "                'obsid',\n",
    "                'obs_id',\n",
    "                'target_name',\n",
    "                'dataproduct_type',\n",
    "                'instrument_name',\n",
    "                'project',\n",
    "                'filters',\n",
    "                'wavelength_region',\n",
    "                't_exptime']\n",
    "\n",
    "# This is the index list in order of exposure time, increasing\n",
    "sort_order = WD_query_narrow.argsort('t_exptime')\n",
    "print(col_data[sort_order])\n",
    "\n",
    "chosenObs = col_data[sort_order][-1]  # Grab the last value of the sorted list\n",
    "print(\"\\n\\nThe longest COS/FUV exposure with the G160M filter is:\" +\n",
    "      f\"\\n\\n{chosenObs}\")"
   ]
  },
  {
   "cell_type": "markdown",
   "metadata": {},
   "source": [
    "<font size=\"5\">Caution! </font>\n",
    "    \n",
    "<img src=./figures/warning.png width =\"60\" title=\"CAUTION\" alt=\"This image is a warning symbol.\"> \n",
    "\n",
    "Please note that these queries are `Astropy` tables and do not always respond as expected for other data structures like `Pandas DataFrames`. For instance, the first way of filtering a table shown below is correct, but the second will consistently produce the *wrong result*. You *must* search and filter these tables by masking them, as in the first example below."
   ]
  },
  {
   "cell_type": "code",
   "execution_count": null,
   "metadata": {},
   "outputs": [],
   "source": [
    "# Searching a table generated with a query\n",
    "# First, correct way using masking\n",
    "mask = (WD_query['obs_id'] == 'lbbd01020')  # NOTE, obs_id must be lower-case\n",
    "print(\"Correct way yields: \\n\", WD_query[mask]['obs_id'], \"\\n\\n\")\n",
    "\n",
    "# Second INCORRECT way, done with Pandas DataFrames data structures\n",
    "print(\"Incorrect way yields: \\n\",\n",
    "      WD_query['obs_id' == 'LBBD01020']['obs_id'],\n",
    "      \"\\nwhich is NOT what we're looking for!\")"
   ]
  },
  {
   "cell_type": "markdown",
   "metadata": {},
   "source": [
    "<a id=dataprodsD></a>\n",
    "## 2.3. Choosing and Downloading Data Products\n",
    "\n",
    "**Now we can choose and download our data products from the archive dataset.**\n",
    "\n",
    "We will first generate a list of data products in the dataset: `product_list`. This will generate a large list, but we will only show the first 10 values."
   ]
  },
  {
   "cell_type": "code",
   "execution_count": null,
   "metadata": {},
   "outputs": [],
   "source": [
    "product_list = Observations.get_product_list(chosenObs)\n",
    "# Not the whole dataset, just first 10 lines/observations\n",
    "product_list[:10]"
   ]
  },
  {
   "cell_type": "markdown",
   "metadata": {},
   "source": [
    "Now, we will download *just the* **minimum recommended products** (*mrp*) which are the fully calibrated spectrum (denoted by the suffix `_x1d` or here `x1dsum`) and the association file (denoted by the suffix `_asn`). We do this by setting the parameter `mrp_only` to `True`. The association file contains no data, but rather the metadata explaining which exposures produced the `x1dsum` dataset. The `x1dsum` file is the final product summed across all of the [fixed pattern noise positions](https://hst-docs.stsci.edu/cosdhb/chapter-1-cos-overview/1-1-instrument-capabilities-and-design#id-1.1InstrumentCapabilitiesandDesign-GratingOffset(FP-POS)GratingOffsetPositions(FP-POS)) (`FP-POS`). The `x1d` and `x1dsum<n>` files are intermediate spectra. Much more information can be found in the [COS Instrument Handbook](https://hst-docs.stsci.edu/display/COSIHB/).\n",
    "\n",
    "We would set `mrp_only` to `False`, if we wanted to download ***all*** the data from the observation, including: \n",
    "- Support files such as the spacecraft's pointing data over time (`jit` files).\n",
    "- Intermediate data products such as calibrated TIME-TAG data (`corrtag` or `corrtag_a`/`corrtag_b` files) and extracted 1-dimensional spectra averaged over exposures with a specific `FP-POS` value (`x1dsum` files).\n",
    "\n",
    "<img src=./figures/warning.png width =\"60\" title=\"CAUTION\" alt=\"This image is a warning symbol.\">\n",
    "\n",
    "However, use caution with downloading all files, as in this case, setting `mrp_only` to `False` results in the transfer of **7 Gigabytes** of data, which can take a long time to transfer and eat away at your computer's storage! In general, only download the files you need. On the other hand, often researchers will download only the raw data, so that they can process it for themselves. Since here we only need the final `x1dsum` and `asn` files, we only need to download 2 Megabytes."
   ]
  },
  {
   "cell_type": "code",
   "execution_count": null,
   "metadata": {},
   "outputs": [],
   "source": [
    "downloads = Observations.download_products(\n",
    "                            product_list,\n",
    "                            download_dir=str(data_dir),\n",
    "                            extension='fits',\n",
    "                            mrp_only=True,\n",
    "                            cache=False)"
   ]
  },
  {
   "cell_type": "markdown",
   "metadata": {},
   "source": [
    "### Exercise 2: *Download the raw counts data on TRAPPIST-1*\n",
    "\n",
    "In the previous exercise, we found an observation COS took on TRAPPIST-1 system. In case you skipped Exercise 1, the observation's Dataset ID is `LDLM40010`.\n",
    "\n",
    "Use `Astroquery.mast` to download the raw `TIME-TAG` data, rather than the `x1d` spectra files. See the [COS Data Handbook Ch. 2](https://hst-docs.stsci.edu/cosdhb/chapter-2-cos-data-files/2-4-cos-data-products) for details on TIME-TAG data files. Make sure to get the data from both segments of the FUV detector (i.e. both `RAWTAG_A` and `RAWTAG_B` files). If you do this correctly, there should be five data files for each detector segment.\n",
    "\n",
    "*Note that some of the `obs_id` may appear in the table as slightly different, i.e.: ldlm40alq and ldlm40axq, rather than ldlm40010. The main `obs_id` they fall under is still ldlm40010, and this will still work as a search term. They are linked together by the association file described here in Section 2.3.*"
   ]
  },
  {
   "cell_type": "code",
   "execution_count": null,
   "metadata": {},
   "outputs": [],
   "source": [
    "# Your answer here"
   ]
  },
  {
   "cell_type": "markdown",
   "metadata": {},
   "source": [
    "<a id=Astroquery2D></a>\n",
    "## 2.4. Using astroquery to find data on a series of sources\n",
    "In this case, we'll look for COS data around several bright globular clusters:\n",
    "- Omega Centauri\n",
    "- M5\n",
    "- M13\n",
    "- M15\n",
    "- M53\n",
    "\n",
    "We will first write a comma-separated-value (`csv`) file `objectname_list.csv` listing these sources by their common name. This is a bit redundant here, as we will immediately read back in what we have written; however it is done here to deliberately teach both sides of the writing/reading process, and as many users will find themselves with a `csv` sourcelist they must search."
   ]
  },
  {
   "cell_type": "code",
   "execution_count": null,
   "metadata": {},
   "outputs": [],
   "source": [
    "# The 5 sources we want to look for\n",
    "sourcelist = ['omega Centauri', 'M5', 'M13', 'M15', 'M53']\n",
    "\n",
    "# Open this new file in \"write\" mode\n",
    "with open('./objectname_list.csv', 'w') as f:\n",
    "    # We want a comma after each source name except the last one\n",
    "    for item in sourcelist[:-1]:\n",
    "        f.writelines(item + \",\")\n",
    "    # No comma after the last entry\n",
    "    f.writelines(sourcelist[-1])"
   ]
  },
  {
   "cell_type": "code",
   "execution_count": null,
   "metadata": {},
   "outputs": [],
   "source": [
    "# Open the file we just wrote in \"read\" mode\n",
    "with open('./objectname_list.csv', 'r', newline='') as csvFile:\n",
    "    # This is the exact same list as `sourcelist`!\n",
    "    objList = list(reader(csvFile, delimiter=','))[0]\n",
    "\n",
    "print(\"The input csv file contained the following sources:\\n\", objList)\n",
    "\n",
    "# Make a dictionary, where each source name\n",
    "# corresponds to a list of its observations with COS\n",
    "globular_cluster_queries = {}\n",
    "\n",
    "# Each \"obj\" is a source name\n",
    "for obj in objList:\n",
    "    query_x = Observations.query_criteria(\n",
    "                            objectname=obj,\n",
    "                            # Query the area in +/- 5 arcminutes\n",
    "                            radius=\"5 min\",\n",
    "                            instrument_name=['COS/FUV', 'COS/NUV'])\n",
    "    # Add this entry to the dictionary\n",
    "    globular_cluster_queries[obj] = (query_x)\n",
    "\n",
    "# Show the dictionary\n",
    "globular_cluster_queries"
   ]
  },
  {
   "cell_type": "markdown",
   "metadata": {},
   "source": [
    "**Excellent! You've now done the hardest part - finding and downloading the right data.** From here, it's generally straightforward to read in and plot the spectrum. We recommend you look into our tutorial on [Viewing a COS Spectrum](https://github.com/spacetelescope/hst_notebooks/blob/main/notebooks/COS/ViewData/ViewData.ipynb)."
   ]
  },
  {
   "cell_type": "markdown",
   "metadata": {},
   "source": [
    "## Congratulations! You finished this Notebook!\n",
    "### There are more COS data walkthrough Notebooks on different topics. You can find them [here](https://github.com/spacetelescope/hst_notebooks/tree/main/notebooks/COS)."
   ]
  },
  {
   "cell_type": "markdown",
   "metadata": {},
   "source": [
    "\n",
    "---\n",
    "## About this Notebook\n",
    "**Author:** Nat Kerman <nkerman@stsci.edu>\n",
    "\n",
    "**Updated On:** 2023-03-24\n",
    "\n",
    "> *This tutorial was generated to be in compliance with the [STScI style guides](https://github.com/spacetelescope/style-guides) and would like to cite the [Jupyter guide](https://github.com/spacetelescope/style-guides/blob/master/templates/example_notebook.ipynb) in particular.*\n",
    "\n",
    "## Citations\n",
    "\n",
    "If you use `astropy`, `astroquery`, or `numpy` for published research, please cite the\n",
    "authors. Follow these links for more information about citations:\n",
    "\n",
    "* [Citing `astropy`](https://docs.astropy.org/en/stable/index.html)\n",
    "* [Citing `numpy`](https://numpy.org/citing-numpy/)\n",
    "* [Citing `astroquery`](https://astroquery.readthedocs.io/en/latest/)\n",
    "\n",
    "---\n",
    "\n",
    "[Top of Page](#topD)\n",
    "<img style=\"float: right;\" src=\"https://raw.githubusercontent.com/spacetelescope/notebooks/master/assets/stsci_pri_combo_mark_horizonal_white_bkgd.png\" alt=\"Space Telescope Logo\" width=\"200px\"/> \n",
    "\n",
    "<br></br>\n",
    "<br></br>\n",
    "<br></br>"
   ]
  },
  {
   "cell_type": "markdown",
   "metadata": {},
   "source": [
    "## Exercise Solutions:\n",
    "Note, that for many of these, there are multiple ways to get an answer."
   ]
  },
  {
   "cell_type": "markdown",
   "metadata": {},
   "source": [
    "**We will import:**\n",
    "- `numpy` to handle array functions\n",
    "- `astropy.table` Table for reading in and creating tidy tables of the data"
   ]
  },
  {
   "cell_type": "code",
   "execution_count": null,
   "metadata": {},
   "outputs": [],
   "source": [
    "import numpy as np\n",
    "from astropy.table import Table"
   ]
  },
  {
   "cell_type": "code",
   "execution_count": null,
   "metadata": {},
   "outputs": [],
   "source": [
    "# Ex. 1 solution:\n",
    "dataset_id_ = 'LDLM40010'\n",
    "exptime_ = 12403.904\n",
    "print(f\"The TRAPPIST-1 COS data is in dataset {dataset_id_},\" +\n",
    "      f\" taken with an exosure time of {exptime_}\")"
   ]
  },
  {
   "cell_type": "code",
   "execution_count": null,
   "metadata": {
    "tags": []
   },
   "outputs": [],
   "source": [
    "# Ex. 2 solution:\n",
    "query_3 = Observations.query_criteria(\n",
    "                        obs_id='LDLM40010',\n",
    "                        wavelength_region=\"UV\",\n",
    "                        instrument_name=\"COS/FUV\",\n",
    "                        filters='G130M')\n",
    "\n",
    "product_list2 = Observations.get_product_list(query_3)\n",
    "rawRowsA = np.where(product_list2['productSubGroupDescription'] == \"RAWTAG_A\")\n",
    "rawRowsB = np.where(product_list2['productSubGroupDescription'] == \"RAWTAG_B\")\n",
    "rawRows = np.append(rawRowsA, rawRowsB)\n",
    "!mkdir ./data/Ex2/\n",
    "downloads2 = Observations.download_products(\n",
    "                            product_list2[rawRows],\n",
    "                            download_dir=str(data_dir/'Ex2/'),\n",
    "                            extension='fits',\n",
    "                            mrp_only=False,\n",
    "                            cache=True)\n",
    "downloads3 = Observations.download_products(\n",
    "                            product_list2,\n",
    "                            download_dir=str(data_dir/'Ex2/'),\n",
    "                            extension='fits',\n",
    "                            mrp_only=True,\n",
    "                            cache=True)\n",
    "\n",
    "asn_data = Table.read(\n",
    "    './data/Ex2/mastDownload/HST/ldlm40010/ldlm40010_asn.fits', hdu=1)\n",
    "\n",
    "print(asn_data)"
   ]
  }
 ],
 "metadata": {
  "kernelspec": {
   "display_name": "Python 3 (ipykernel)",
   "language": "python",
   "name": "python3"
  },
  "language_info": {
   "codemirror_mode": {
    "name": "ipython",
    "version": 3
   },
   "file_extension": ".py",
   "mimetype": "text/x-python",
   "name": "python",
   "nbconvert_exporter": "python",
   "pygments_lexer": "ipython3",
   "version": "3.8.12"
  },
  "vscode": {
   "interpreter": {
    "hash": "e5784b3e3be4ffa319eb7c9e4ac489bbbf191ad109372c471204ed1d5c08c61e"
   }
  }
 },
 "nbformat": 4,
 "nbformat_minor": 4
}
