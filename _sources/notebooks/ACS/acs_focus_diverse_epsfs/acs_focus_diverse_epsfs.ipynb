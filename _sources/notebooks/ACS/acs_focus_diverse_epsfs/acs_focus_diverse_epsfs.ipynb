{
 "cells": [
  {
   "cell_type": "markdown",
   "id": "0b649b46-bb95-40f8-9bb2-0d32903064ac",
   "metadata": {},
   "source": [
    "# Focus Diverse ePSFs for ACS/WFC"
   ]
  },
  {
   "cell_type": "markdown",
   "id": "a9d01468",
   "metadata": {},
   "source": [
    "This notebook highlights how to use the focus_diverse_psfs module within acstools to retrieve empirical, focus-diverse ePSFs for ACS/WFC data. Please see the [webtool](https://acspsf.stsci.edu/), [ACS ISR 2018-08](https://ui.adsabs.harvard.edu/abs/2018acs..rept....8B/abstract), and [ACS ISR 2023-06](https://ui.adsabs.harvard.edu/abs/2023acs..rept....6A/abstract) for more details.\n",
    "\n",
    "## About this Notebook\n",
    "**Curator:** Gagandeep Anand, ACS Instrument Team, Space Telescope Science Institute <br>"
   ]
  },
  {
   "cell_type": "markdown",
   "id": "133fe01a",
   "metadata": {},
   "source": [
    "## Imports"
   ]
  },
  {
   "cell_type": "code",
   "execution_count": 1,
   "id": "a81500b6",
   "metadata": {
    "execution": {
     "iopub.execute_input": "2025-09-19T19:11:45.587444Z",
     "iopub.status.busy": "2025-09-19T19:11:45.587282Z",
     "iopub.status.idle": "2025-09-19T19:11:52.457032Z",
     "shell.execute_reply": "2025-09-19T19:11:52.456471Z"
    }
   },
   "outputs": [
    {
     "name": "stderr",
     "output_type": "stream",
     "text": [
      "/home/runner/micromamba/envs/hstcal/lib/python3.11/site-packages/acstools/utils_findsat_mrt.py:24: UserWarning: skimage not installed. MRT calculation will not work: ModuleNotFoundError(\"No module named 'skimage'\")\n",
      "  warnings.warn(f'skimage not installed. MRT calculation will not work: {repr(e)}')  # noqa\n"
     ]
    }
   ],
   "source": [
    "import os\n",
    "\n",
    "from astropy.io import fits\n",
    "from astroquery.mast import Observations\n",
    "\n",
    "import ipywidgets as widgets\n",
    "import matplotlib.colors as colors\n",
    "import matplotlib.pyplot as plt\n",
    "\n",
    "# import the focus_diverse_psfs functions from acstools\n",
    "from acstools.focus_diverse_epsfs import psf_retriever, multi_psf_retriever, interp_epsf"
   ]
  },
  {
   "cell_type": "markdown",
   "id": "a319cda8",
   "metadata": {},
   "source": [
    "## Downloading and Examining a Single Focus-Diverse ePSF file"
   ]
  },
  {
   "cell_type": "markdown",
   "id": "c5ce3a38",
   "metadata": {},
   "source": [
    "Let's begin with downloading the focus-diverse ePSF FITS file that matches a single observation of our choosing. For this example, we will aim to retrieve the ePSF file for the observation rootname \"jds408jsq\", from GO-15445 (PI W. Keel).\n",
    "\n",
    "Please note that only IPPPSSOOT formats will work (e.g. jds408jsq), and the tool does not support inputs in the form of association IDs or product names (e.g. jds408010 or jds408011).\n",
    "\n",
    "\n",
    "Make sure to change the variable \"download_location\" to an existing folder on your local machine. "
   ]
  },
  {
   "cell_type": "code",
   "execution_count": 2,
   "id": "f2529639",
   "metadata": {
    "execution": {
     "iopub.execute_input": "2025-09-19T19:11:52.459096Z",
     "iopub.status.busy": "2025-09-19T19:11:52.458837Z",
     "iopub.status.idle": "2025-09-19T19:11:56.627615Z",
     "shell.execute_reply": "2025-09-19T19:11:56.627136Z"
    }
   },
   "outputs": [
    {
     "name": "stdout",
     "output_type": "stream",
     "text": [
      "CPU times: user 34.4 ms, sys: 11 ms, total: 45.3 ms\n",
      "Wall time: 4.16 s\n"
     ]
    }
   ],
   "source": [
    "%%time \n",
    "\n",
    "# example of a single retrieval\n",
    "\n",
    "\n",
    "# Set the download location to the current working directory\n",
    "download_location = os.path.join(os.getcwd(), 'downloads')\n",
    "os.makedirs(download_location, exist_ok=True)\n",
    "\n",
    "# call the psf_retriever function with observation rootname\n",
    "retrieved_download = psf_retriever('jds408jsq', download_location) "
   ]
  },
  {
   "cell_type": "markdown",
   "id": "bdd9632d",
   "metadata": {},
   "source": [
    "<hr>\n"
   ]
  },
  {
   "cell_type": "markdown",
   "id": "6791eb95",
   "metadata": {},
   "source": [
    "The direct return of the psf_retriever function is the retrieved file name. The name has the format %ROOTNAME-STDPBF_ACSWFC_%FILTER_%SM_%F.fits, where the variables are:\n",
    "\n",
    "%ROOTNAME- this is the image rootname that you passed to psf_retriever, which is appended to allow for easier bookkeeping of retrieved files\n",
    "\n",
    "%FILTER- this is the ACS/WFC filter that was used in the observation\n",
    "\n",
    "%SM- Short for \"Servicing Mission\", SM3 or SM4, depending on when the observation was taken.\n",
    "\n",
    "%F- Best fit focus group that the individual exposures lies within."
   ]
  },
  {
   "cell_type": "markdown",
   "id": "cb0ea63d",
   "metadata": {},
   "source": [
    "<hr>\n"
   ]
  },
  {
   "cell_type": "markdown",
   "id": "e8e695f8",
   "metadata": {},
   "source": [
    "We can now examine the retrieved FITS file."
   ]
  },
  {
   "cell_type": "code",
   "execution_count": 3,
   "id": "9bddab16",
   "metadata": {
    "execution": {
     "iopub.execute_input": "2025-09-19T19:11:56.629302Z",
     "iopub.status.busy": "2025-09-19T19:11:56.629140Z",
     "iopub.status.idle": "2025-09-19T19:11:56.634019Z",
     "shell.execute_reply": "2025-09-19T19:11:56.633531Z"
    }
   },
   "outputs": [
    {
     "name": "stdout",
     "output_type": "stream",
     "text": [
      "Filename: /home/runner/work/hst_notebooks/hst_notebooks/notebooks/ACS/acs_focus_diverse_epsfs/downloads/jds408jsq-STDPBF_ACSWFC_F606W_SM4_F11.2.fits\n",
      "No.    Name      Ver    Type      Cards   Dimensions   Format\n",
      "  0  PRIMARY       1 PrimaryHDU      35   (101, 101, 90)   float32   \n"
     ]
    }
   ],
   "source": [
    "# give path to downloaded file\n",
    "retrieved_filepath = os.path.abspath(retrieved_download)\n",
    "\n",
    "if not os.path.isfile(retrieved_filepath):\n",
    "    raise FileNotFoundError(f\"Expected file not found at {retrieved_filepath}\")\n",
    "\n",
    "# open the file with astropy.io\n",
    "with fits.open(retrieved_filepath) as hdu:\n",
    "    hdu.info()  # Display basic information about the file"
   ]
  },
  {
   "cell_type": "markdown",
   "id": "edcf4f10",
   "metadata": {},
   "source": [
    "With the output above, we can see that the dimensions of the file are 101 x 101 x 90. This corresponds to a total of 90 ePSFs, each one with x,y dimensions of 101 x 101. The 90 ePSFs span the range of the two WFC chips and correspond to a 9 x 10 spatial grid (see Figure 1 in [ACS ISR 2018-08](https://ui.adsabs.harvard.edu/abs/2018acs..rept....8B/abstract)). \n",
    "\n",
    "We show these ePSFs below in a widget which allows you to quickly scroll through and get a sense of the spatial differences. "
   ]
  },
  {
   "cell_type": "code",
   "execution_count": 4,
   "id": "5a434e3c",
   "metadata": {
    "execution": {
     "iopub.execute_input": "2025-09-19T19:11:56.635413Z",
     "iopub.status.busy": "2025-09-19T19:11:56.635237Z",
     "iopub.status.idle": "2025-09-19T19:11:56.962629Z",
     "shell.execute_reply": "2025-09-19T19:11:56.962178Z"
    }
   },
   "outputs": [
    {
     "data": {
      "application/vnd.jupyter.widget-view+json": {
       "model_id": "ebc2aa63a58a48eca2efd9e28755301b",
       "version_major": 2,
       "version_minor": 0
      },
      "text/plain": [
       "interactive(children=(IntSlider(value=44, description='grid_index', max=89), Output()), _dom_classes=('widget-…"
      ]
     },
     "metadata": {},
     "output_type": "display_data"
    },
    {
     "data": {
      "text/plain": [
       "<function __main__.show_ePSF(grid_index)>"
      ]
     },
     "execution_count": 4,
     "metadata": {},
     "output_type": "execute_result"
    }
   ],
   "source": [
    "# # First, lets grab the image data from the retrieved FITS file\n",
    "ePSFs = fits.getdata(retrieved_filepath, ext=0)\n",
    "\n",
    "\n",
    "def show_ePSF(grid_index):\n",
    "    plt.imshow(ePSFs[grid_index], cmap='viridis',\n",
    "               norm=colors.LogNorm(vmin=1e-4), origin='lower')\n",
    "    cbar = plt.colorbar()\n",
    "    cbar.set_label('Fractional Energy')\n",
    "\n",
    "\n",
    "widgets.interact(show_ePSF, grid_index=(0, 89, 1))"
   ]
  },
  {
   "cell_type": "markdown",
   "id": "c4038320",
   "metadata": {},
   "source": [
    "## Batch Downloads"
   ]
  },
  {
   "cell_type": "markdown",
   "id": "fe76b86a",
   "metadata": {},
   "source": [
    "Here we show how to perform batch downloads for a large set of input rootnames, via two separate methods."
   ]
  },
  {
   "cell_type": "markdown",
   "id": "782eba8b",
   "metadata": {},
   "source": [
    "<hr>\n"
   ]
  },
  {
   "cell_type": "markdown",
   "id": "3c205482",
   "metadata": {},
   "source": [
    "### via an Input Text File"
   ]
  },
  {
   "cell_type": "markdown",
   "id": "b063b257",
   "metadata": {},
   "source": [
    "With an input text file of one rootname per line, we can use the multi_psf_retriever function with the \"fromTextFile\" parameter set to True to batch download the desired focus-diverse ePSFs."
   ]
  },
  {
   "cell_type": "code",
   "execution_count": 5,
   "id": "7f05f8ff",
   "metadata": {
    "execution": {
     "iopub.execute_input": "2025-09-19T19:11:56.965247Z",
     "iopub.status.busy": "2025-09-19T19:11:56.965093Z",
     "iopub.status.idle": "2025-09-19T19:11:56.967544Z",
     "shell.execute_reply": "2025-09-19T19:11:56.967005Z"
    }
   },
   "outputs": [],
   "source": [
    "# specify the name of the input text file (with one rootname per line),\n",
    "# as well as the desired download location for our focus-diverse ePSFs\n",
    "\n",
    "input_list = 'input_ipsoots.txt'"
   ]
  },
  {
   "cell_type": "code",
   "execution_count": 6,
   "id": "8d0a5472",
   "metadata": {
    "execution": {
     "iopub.execute_input": "2025-09-19T19:11:56.968963Z",
     "iopub.status.busy": "2025-09-19T19:11:56.968823Z",
     "iopub.status.idle": "2025-09-19T19:12:08.778003Z",
     "shell.execute_reply": "2025-09-19T19:12:08.777490Z"
    },
    "scrolled": true
   },
   "outputs": [
    {
     "name": "stdout",
     "output_type": "stream",
     "text": [
      "\r",
      "[                                        ] | 0% Completed | 151.84 us"
     ]
    },
    {
     "name": "stdout",
     "output_type": "stream",
     "text": [
      "\r",
      "[                                        ] | 0% Completed | 101.23 ms"
     ]
    },
    {
     "name": "stdout",
     "output_type": "stream",
     "text": [
      "\r",
      "[                                        ] | 0% Completed | 206.14 ms"
     ]
    },
    {
     "name": "stdout",
     "output_type": "stream",
     "text": [
      "\r",
      "[                                        ] | 0% Completed | 312.22 ms"
     ]
    },
    {
     "name": "stdout",
     "output_type": "stream",
     "text": [
      "\r",
      "[                                        ] | 0% Completed | 414.01 ms"
     ]
    },
    {
     "name": "stdout",
     "output_type": "stream",
     "text": [
      "\r",
      "[                                        ] | 0% Completed | 515.81 ms"
     ]
    },
    {
     "name": "stdout",
     "output_type": "stream",
     "text": [
      "\r",
      "[                                        ] | 0% Completed | 617.24 ms"
     ]
    },
    {
     "name": "stdout",
     "output_type": "stream",
     "text": [
      "\r",
      "[                                        ] | 0% Completed | 717.93 ms"
     ]
    },
    {
     "name": "stdout",
     "output_type": "stream",
     "text": [
      "\r",
      "[                                        ] | 0% Completed | 818.66 ms"
     ]
    },
    {
     "name": "stdout",
     "output_type": "stream",
     "text": [
      "\r",
      "[                                        ] | 0% Completed | 922.15 ms"
     ]
    },
    {
     "name": "stdout",
     "output_type": "stream",
     "text": [
      "\r",
      "[                                        ] | 0% Completed | 1.02 s"
     ]
    },
    {
     "name": "stderr",
     "output_type": "stream",
     "text": [
      "/home/runner/micromamba/envs/hstcal/lib/python3.11/site-packages/acstools/utils_findsat_mrt.py:24: UserWarning: skimage not installed. MRT calculation will not work: ModuleNotFoundError(\"No module named 'skimage'\")\n",
      "  warnings.warn(f'skimage not installed. MRT calculation will not work: {repr(e)}')  # noqa\n",
      "/home/runner/micromamba/envs/hstcal/lib/python3.11/site-packages/acstools/utils_findsat_mrt.py:24: UserWarning: skimage not installed. MRT calculation will not work: ModuleNotFoundError(\"No module named 'skimage'\")\n",
      "  warnings.warn(f'skimage not installed. MRT calculation will not work: {repr(e)}')  # noqa\n"
     ]
    },
    {
     "name": "stdout",
     "output_type": "stream",
     "text": [
      "\r",
      "[                                        ] | 0% Completed | 1.12 s"
     ]
    },
    {
     "name": "stdout",
     "output_type": "stream",
     "text": [
      "\r",
      "[                                        ] | 0% Completed | 1.22 s"
     ]
    },
    {
     "name": "stdout",
     "output_type": "stream",
     "text": [
      "\r",
      "[                                        ] | 0% Completed | 1.32 s"
     ]
    },
    {
     "name": "stdout",
     "output_type": "stream",
     "text": [
      "\r",
      "[                                        ] | 0% Completed | 1.43 s"
     ]
    },
    {
     "name": "stdout",
     "output_type": "stream",
     "text": [
      "\r",
      "[                                        ] | 0% Completed | 1.53 s"
     ]
    },
    {
     "name": "stdout",
     "output_type": "stream",
     "text": [
      "\r",
      "[                                        ] | 0% Completed | 1.63 s"
     ]
    },
    {
     "name": "stdout",
     "output_type": "stream",
     "text": [
      "\r",
      "[                                        ] | 0% Completed | 1.73 s"
     ]
    },
    {
     "name": "stdout",
     "output_type": "stream",
     "text": [
      "\r",
      "[                                        ] | 0% Completed | 1.83 s"
     ]
    },
    {
     "name": "stdout",
     "output_type": "stream",
     "text": [
      "\r",
      "[                                        ] | 0% Completed | 1.93 s"
     ]
    },
    {
     "name": "stdout",
     "output_type": "stream",
     "text": [
      "\r",
      "[                                        ] | 0% Completed | 2.03 s"
     ]
    },
    {
     "name": "stdout",
     "output_type": "stream",
     "text": [
      "\r",
      "[                                        ] | 0% Completed | 2.13 s"
     ]
    },
    {
     "name": "stdout",
     "output_type": "stream",
     "text": [
      "\r",
      "[                                        ] | 0% Completed | 2.23 s"
     ]
    },
    {
     "name": "stdout",
     "output_type": "stream",
     "text": [
      "\r",
      "[                                        ] | 0% Completed | 2.33 s"
     ]
    },
    {
     "name": "stdout",
     "output_type": "stream",
     "text": [
      "\r",
      "[                                        ] | 0% Completed | 2.43 s"
     ]
    },
    {
     "name": "stdout",
     "output_type": "stream",
     "text": [
      "\r",
      "[                                        ] | 0% Completed | 2.53 s"
     ]
    },
    {
     "name": "stdout",
     "output_type": "stream",
     "text": [
      "\r",
      "[                                        ] | 0% Completed | 2.63 s"
     ]
    },
    {
     "name": "stdout",
     "output_type": "stream",
     "text": [
      "\r",
      "[                                        ] | 0% Completed | 2.73 s"
     ]
    },
    {
     "name": "stdout",
     "output_type": "stream",
     "text": [
      "\r",
      "[                                        ] | 0% Completed | 2.83 s"
     ]
    },
    {
     "name": "stdout",
     "output_type": "stream",
     "text": [
      "\r",
      "[                                        ] | 0% Completed | 2.94 s"
     ]
    },
    {
     "name": "stdout",
     "output_type": "stream",
     "text": [
      "\r",
      "[                                        ] | 0% Completed | 3.04 s"
     ]
    },
    {
     "name": "stdout",
     "output_type": "stream",
     "text": [
      "\r",
      "[                                        ] | 0% Completed | 3.14 s"
     ]
    },
    {
     "name": "stdout",
     "output_type": "stream",
     "text": [
      "\r",
      "[                                        ] | 0% Completed | 3.24 s"
     ]
    },
    {
     "name": "stdout",
     "output_type": "stream",
     "text": [
      "\r",
      "[                                        ] | 0% Completed | 3.34 s"
     ]
    },
    {
     "name": "stdout",
     "output_type": "stream",
     "text": [
      "\r",
      "[                                        ] | 0% Completed | 3.44 s"
     ]
    },
    {
     "name": "stdout",
     "output_type": "stream",
     "text": [
      "\r",
      "[                                        ] | 0% Completed | 3.54 s"
     ]
    },
    {
     "name": "stdout",
     "output_type": "stream",
     "text": [
      "\r",
      "[                                        ] | 0% Completed | 3.64 s"
     ]
    },
    {
     "name": "stdout",
     "output_type": "stream",
     "text": [
      "\r",
      "[                                        ] | 0% Completed | 3.74 s"
     ]
    },
    {
     "name": "stdout",
     "output_type": "stream",
     "text": [
      "\r",
      "[                                        ] | 0% Completed | 3.84 s"
     ]
    },
    {
     "name": "stdout",
     "output_type": "stream",
     "text": [
      "\r",
      "[                                        ] | 0% Completed | 3.94 s"
     ]
    },
    {
     "name": "stdout",
     "output_type": "stream",
     "text": [
      "\r",
      "[                                        ] | 0% Completed | 4.04 s"
     ]
    },
    {
     "name": "stdout",
     "output_type": "stream",
     "text": [
      "\r",
      "[                                        ] | 0% Completed | 4.14 s"
     ]
    },
    {
     "name": "stdout",
     "output_type": "stream",
     "text": [
      "\r",
      "[                                        ] | 0% Completed | 4.24 s"
     ]
    },
    {
     "name": "stdout",
     "output_type": "stream",
     "text": [
      "\r",
      "[                                        ] | 0% Completed | 4.34 s"
     ]
    },
    {
     "name": "stdout",
     "output_type": "stream",
     "text": [
      "\r",
      "[                                        ] | 0% Completed | 4.45 s"
     ]
    },
    {
     "name": "stdout",
     "output_type": "stream",
     "text": [
      "\r",
      "[                                        ] | 0% Completed | 4.55 s"
     ]
    },
    {
     "name": "stdout",
     "output_type": "stream",
     "text": [
      "\r",
      "[                                        ] | 0% Completed | 4.65 s"
     ]
    },
    {
     "name": "stdout",
     "output_type": "stream",
     "text": [
      "\r",
      "[                                        ] | 0% Completed | 4.75 s"
     ]
    },
    {
     "name": "stdout",
     "output_type": "stream",
     "text": [
      "\r",
      "[                                        ] | 0% Completed | 4.85 s"
     ]
    },
    {
     "name": "stdout",
     "output_type": "stream",
     "text": [
      "\r",
      "[                                        ] | 0% Completed | 4.95 s"
     ]
    },
    {
     "name": "stdout",
     "output_type": "stream",
     "text": [
      "\r",
      "[                                        ] | 0% Completed | 5.05 s"
     ]
    },
    {
     "name": "stdout",
     "output_type": "stream",
     "text": [
      "\r",
      "[                                        ] | 0% Completed | 5.15 s"
     ]
    },
    {
     "name": "stdout",
     "output_type": "stream",
     "text": [
      "\r",
      "[                                        ] | 0% Completed | 5.25 s"
     ]
    },
    {
     "name": "stdout",
     "output_type": "stream",
     "text": [
      "\r",
      "[                                        ] | 0% Completed | 5.35 s"
     ]
    },
    {
     "name": "stdout",
     "output_type": "stream",
     "text": [
      "\r",
      "[                                        ] | 0% Completed | 5.45 s"
     ]
    },
    {
     "name": "stdout",
     "output_type": "stream",
     "text": [
      "\r",
      "[                                        ] | 0% Completed | 5.55 s"
     ]
    },
    {
     "name": "stdout",
     "output_type": "stream",
     "text": [
      "\r",
      "[                                        ] | 0% Completed | 5.65 s"
     ]
    },
    {
     "name": "stdout",
     "output_type": "stream",
     "text": [
      "\r",
      "[                                        ] | 0% Completed | 5.75 s"
     ]
    },
    {
     "name": "stdout",
     "output_type": "stream",
     "text": [
      "\r",
      "[                                        ] | 0% Completed | 5.86 s"
     ]
    },
    {
     "name": "stdout",
     "output_type": "stream",
     "text": [
      "\r",
      "[                                        ] | 0% Completed | 5.96 s"
     ]
    },
    {
     "name": "stdout",
     "output_type": "stream",
     "text": [
      "\r",
      "[                                        ] | 0% Completed | 6.06 s"
     ]
    },
    {
     "name": "stdout",
     "output_type": "stream",
     "text": [
      "\r",
      "[                                        ] | 0% Completed | 6.16 s"
     ]
    },
    {
     "name": "stdout",
     "output_type": "stream",
     "text": [
      "\r",
      "[                                        ] | 0% Completed | 6.26 s"
     ]
    },
    {
     "name": "stdout",
     "output_type": "stream",
     "text": [
      "\r",
      "[                                        ] | 0% Completed | 6.36 s"
     ]
    },
    {
     "name": "stdout",
     "output_type": "stream",
     "text": [
      "\r",
      "[                                        ] | 0% Completed | 6.46 s"
     ]
    },
    {
     "name": "stdout",
     "output_type": "stream",
     "text": [
      "\r",
      "[                                        ] | 0% Completed | 6.56 s"
     ]
    },
    {
     "name": "stdout",
     "output_type": "stream",
     "text": [
      "\r",
      "[################                        ] | 40% Completed | 6.66 s"
     ]
    },
    {
     "name": "stdout",
     "output_type": "stream",
     "text": [
      "\r",
      "[################                        ] | 40% Completed | 6.76 s"
     ]
    },
    {
     "name": "stdout",
     "output_type": "stream",
     "text": [
      "\r",
      "[################                        ] | 40% Completed | 6.86 s"
     ]
    },
    {
     "name": "stdout",
     "output_type": "stream",
     "text": [
      "\r",
      "[################                        ] | 40% Completed | 6.96 s"
     ]
    },
    {
     "name": "stdout",
     "output_type": "stream",
     "text": [
      "\r",
      "[################                        ] | 40% Completed | 7.06 s"
     ]
    },
    {
     "name": "stdout",
     "output_type": "stream",
     "text": [
      "\r",
      "[################                        ] | 40% Completed | 7.16 s"
     ]
    },
    {
     "name": "stdout",
     "output_type": "stream",
     "text": [
      "\r",
      "[################                        ] | 40% Completed | 7.26 s"
     ]
    },
    {
     "name": "stdout",
     "output_type": "stream",
     "text": [
      "\r",
      "[################                        ] | 40% Completed | 7.36 s"
     ]
    },
    {
     "name": "stdout",
     "output_type": "stream",
     "text": [
      "\r",
      "[################                        ] | 40% Completed | 7.47 s"
     ]
    },
    {
     "name": "stdout",
     "output_type": "stream",
     "text": [
      "\r",
      "[################                        ] | 40% Completed | 7.57 s"
     ]
    },
    {
     "name": "stdout",
     "output_type": "stream",
     "text": [
      "\r",
      "[################                        ] | 40% Completed | 7.67 s"
     ]
    },
    {
     "name": "stdout",
     "output_type": "stream",
     "text": [
      "\r",
      "[################                        ] | 40% Completed | 7.77 s"
     ]
    },
    {
     "name": "stdout",
     "output_type": "stream",
     "text": [
      "\r",
      "[################                        ] | 40% Completed | 7.87 s"
     ]
    },
    {
     "name": "stdout",
     "output_type": "stream",
     "text": [
      "\r",
      "[################                        ] | 40% Completed | 7.97 s"
     ]
    },
    {
     "name": "stdout",
     "output_type": "stream",
     "text": [
      "\r",
      "[################                        ] | 40% Completed | 8.07 s"
     ]
    },
    {
     "name": "stdout",
     "output_type": "stream",
     "text": [
      "\r",
      "[################                        ] | 40% Completed | 8.17 s"
     ]
    },
    {
     "name": "stdout",
     "output_type": "stream",
     "text": [
      "\r",
      "[################                        ] | 40% Completed | 8.27 s"
     ]
    },
    {
     "name": "stdout",
     "output_type": "stream",
     "text": [
      "\r",
      "[################                        ] | 40% Completed | 8.37 s"
     ]
    },
    {
     "name": "stdout",
     "output_type": "stream",
     "text": [
      "\r",
      "[################                        ] | 40% Completed | 8.47 s"
     ]
    },
    {
     "name": "stdout",
     "output_type": "stream",
     "text": [
      "\r",
      "[################                        ] | 40% Completed | 8.57 s"
     ]
    },
    {
     "name": "stdout",
     "output_type": "stream",
     "text": [
      "\r",
      "[################                        ] | 40% Completed | 8.67 s"
     ]
    },
    {
     "name": "stdout",
     "output_type": "stream",
     "text": [
      "\r",
      "[################                        ] | 40% Completed | 8.77 s"
     ]
    },
    {
     "name": "stdout",
     "output_type": "stream",
     "text": [
      "\r",
      "[################                        ] | 40% Completed | 8.87 s"
     ]
    },
    {
     "name": "stdout",
     "output_type": "stream",
     "text": [
      "\r",
      "[################                        ] | 40% Completed | 8.98 s"
     ]
    },
    {
     "name": "stdout",
     "output_type": "stream",
     "text": [
      "\r",
      "[################                        ] | 40% Completed | 9.08 s"
     ]
    },
    {
     "name": "stdout",
     "output_type": "stream",
     "text": [
      "\r",
      "[################                        ] | 40% Completed | 9.18 s"
     ]
    },
    {
     "name": "stdout",
     "output_type": "stream",
     "text": [
      "\r",
      "[################                        ] | 40% Completed | 9.28 s"
     ]
    },
    {
     "name": "stdout",
     "output_type": "stream",
     "text": [
      "\r",
      "[################                        ] | 40% Completed | 9.38 s"
     ]
    },
    {
     "name": "stdout",
     "output_type": "stream",
     "text": [
      "\r",
      "[################                        ] | 40% Completed | 9.48 s"
     ]
    },
    {
     "name": "stdout",
     "output_type": "stream",
     "text": [
      "\r",
      "[################                        ] | 40% Completed | 9.58 s"
     ]
    },
    {
     "name": "stdout",
     "output_type": "stream",
     "text": [
      "\r",
      "[################                        ] | 40% Completed | 9.68 s"
     ]
    },
    {
     "name": "stdout",
     "output_type": "stream",
     "text": [
      "\r",
      "[################                        ] | 40% Completed | 9.78 s"
     ]
    },
    {
     "name": "stdout",
     "output_type": "stream",
     "text": [
      "\r",
      "[################                        ] | 40% Completed | 9.88 s"
     ]
    },
    {
     "name": "stdout",
     "output_type": "stream",
     "text": [
      "\r",
      "[################                        ] | 40% Completed | 9.98 s"
     ]
    },
    {
     "name": "stdout",
     "output_type": "stream",
     "text": [
      "\r",
      "[################                        ] | 40% Completed | 10.08 s"
     ]
    },
    {
     "name": "stdout",
     "output_type": "stream",
     "text": [
      "\r",
      "[################                        ] | 40% Completed | 10.18 s"
     ]
    },
    {
     "name": "stdout",
     "output_type": "stream",
     "text": [
      "\r",
      "[################                        ] | 40% Completed | 10.28 s"
     ]
    },
    {
     "name": "stdout",
     "output_type": "stream",
     "text": [
      "\r",
      "[################                        ] | 40% Completed | 10.38 s"
     ]
    },
    {
     "name": "stdout",
     "output_type": "stream",
     "text": [
      "\r",
      "[################                        ] | 40% Completed | 10.49 s"
     ]
    },
    {
     "name": "stdout",
     "output_type": "stream",
     "text": [
      "\r",
      "[################                        ] | 40% Completed | 10.59 s"
     ]
    },
    {
     "name": "stdout",
     "output_type": "stream",
     "text": [
      "\r",
      "[################                        ] | 40% Completed | 10.69 s"
     ]
    },
    {
     "name": "stdout",
     "output_type": "stream",
     "text": [
      "\r",
      "[################                        ] | 40% Completed | 10.79 s"
     ]
    },
    {
     "name": "stdout",
     "output_type": "stream",
     "text": [
      "\r",
      "[################                        ] | 40% Completed | 10.89 s"
     ]
    },
    {
     "name": "stdout",
     "output_type": "stream",
     "text": [
      "\r",
      "[################                        ] | 40% Completed | 10.99 s"
     ]
    },
    {
     "name": "stdout",
     "output_type": "stream",
     "text": [
      "\r",
      "[################                        ] | 40% Completed | 11.09 s"
     ]
    },
    {
     "name": "stdout",
     "output_type": "stream",
     "text": [
      "\r",
      "[################                        ] | 40% Completed | 11.19 s"
     ]
    },
    {
     "name": "stdout",
     "output_type": "stream",
     "text": [
      "\r",
      "[################                        ] | 40% Completed | 11.29 s"
     ]
    },
    {
     "name": "stdout",
     "output_type": "stream",
     "text": [
      "\r",
      "[################                        ] | 40% Completed | 11.39 s"
     ]
    },
    {
     "name": "stdout",
     "output_type": "stream",
     "text": [
      "\r",
      "[########################################] | 100% Completed | 11.49 s"
     ]
    },
    {
     "name": "stdout",
     "output_type": "stream",
     "text": [
      "\n"
     ]
    },
    {
     "name": "stdout",
     "output_type": "stream",
     "text": [
      "# of matching files:  10\n",
      "CPU times: user 198 ms, sys: 42.5 ms, total: 241 ms\n",
      "Wall time: 11.8 s\n"
     ]
    }
   ],
   "source": [
    "%%time \n",
    "\n",
    "# use the multi_psf_retriever function to retrieve our ePSFs\n",
    "retrieved_downloads = multi_psf_retriever(input_list, download_location)\n",
    "\n",
    "print('# of matching files: ', len(retrieved_downloads))"
   ]
  },
  {
   "cell_type": "markdown",
   "id": "1bb2de4e",
   "metadata": {},
   "source": [
    "<hr>\n"
   ]
  },
  {
   "cell_type": "markdown",
   "id": "78c17035",
   "metadata": {},
   "source": [
    "## via *astroquery*"
   ]
  },
  {
   "cell_type": "markdown",
   "id": "713cd3ef",
   "metadata": {},
   "source": [
    "Alternatively, we can use *astroquery* to simply grab the rootnames for all ACS/WFC images within a given HST proposal and retrieve the corresponding focus-diverse ePSFs. \n",
    "\n",
    "Here we provide an example of using astroquery and the multi_psf_retriever function to grab all matching focus-diverse ePSFs for observations of the Leo P galaxy from GO-13376 (PI K. McQuinn)."
   ]
  },
  {
   "cell_type": "code",
   "execution_count": 7,
   "id": "68519edf",
   "metadata": {
    "execution": {
     "iopub.execute_input": "2025-09-19T19:12:08.779806Z",
     "iopub.status.busy": "2025-09-19T19:12:08.779538Z",
     "iopub.status.idle": "2025-09-19T19:12:11.378829Z",
     "shell.execute_reply": "2025-09-19T19:12:11.378386Z"
    }
   },
   "outputs": [],
   "source": [
    "# # use astroquery to grab ACS/WFC observations from GO-13376 (PI K. McQuinn)\n",
    "obsTable = Observations.query_criteria(obs_collection='HST', proposal_id=\"13376\",\n",
    "                                       instrument_name=\"ACS/WFC\", provenance_name=\"CALACS\")\n",
    "\n",
    "# retrieve the data products for the above observations\n",
    "dataProducts = Observations.get_product_list(obsTable)\n",
    "\n",
    "# filter the data products for just the FLC files from HST, and not the Hubble Advanced Products (HAP) project\n",
    "dataProducts = dataProducts[(dataProducts['productSubGroupDescription'] == 'FLC') &\n",
    "                            (dataProducts['type'] == 'S')]\n",
    "\n",
    "# create a list of corresponding rootnames\n",
    "obs_rootnames = list(dataProducts['obs_id'])"
   ]
  },
  {
   "cell_type": "code",
   "execution_count": 8,
   "id": "00e3296a",
   "metadata": {
    "execution": {
     "iopub.execute_input": "2025-09-19T19:12:11.380527Z",
     "iopub.status.busy": "2025-09-19T19:12:11.380369Z",
     "iopub.status.idle": "2025-09-19T19:12:23.880792Z",
     "shell.execute_reply": "2025-09-19T19:12:23.880254Z"
    },
    "scrolled": true
   },
   "outputs": [
    {
     "name": "stdout",
     "output_type": "stream",
     "text": [
      "\r",
      "[                                        ] | 0% Completed | 106.04 us"
     ]
    },
    {
     "name": "stdout",
     "output_type": "stream",
     "text": [
      "\r",
      "[                                        ] | 0% Completed | 104.90 ms"
     ]
    },
    {
     "name": "stdout",
     "output_type": "stream",
     "text": [
      "\r",
      "[                                        ] | 0% Completed | 206.07 ms"
     ]
    },
    {
     "name": "stdout",
     "output_type": "stream",
     "text": [
      "\r",
      "[                                        ] | 0% Completed | 306.97 ms"
     ]
    },
    {
     "name": "stdout",
     "output_type": "stream",
     "text": [
      "\r",
      "[                                        ] | 0% Completed | 407.77 ms"
     ]
    },
    {
     "name": "stdout",
     "output_type": "stream",
     "text": [
      "\r",
      "[                                        ] | 0% Completed | 512.90 ms"
     ]
    },
    {
     "name": "stdout",
     "output_type": "stream",
     "text": [
      "\r",
      "[                                        ] | 0% Completed | 620.90 ms"
     ]
    },
    {
     "name": "stdout",
     "output_type": "stream",
     "text": [
      "\r",
      "[                                        ] | 0% Completed | 721.81 ms"
     ]
    },
    {
     "name": "stdout",
     "output_type": "stream",
     "text": [
      "\r",
      "[                                        ] | 0% Completed | 822.42 ms"
     ]
    },
    {
     "name": "stdout",
     "output_type": "stream",
     "text": [
      "\r",
      "[                                        ] | 0% Completed | 924.60 ms"
     ]
    },
    {
     "name": "stdout",
     "output_type": "stream",
     "text": [
      "\r",
      "[                                        ] | 0% Completed | 1.03 s"
     ]
    },
    {
     "name": "stdout",
     "output_type": "stream",
     "text": [
      "\r",
      "[                                        ] | 0% Completed | 1.13 s"
     ]
    },
    {
     "name": "stdout",
     "output_type": "stream",
     "text": [
      "\r",
      "[                                        ] | 0% Completed | 1.23 s"
     ]
    },
    {
     "name": "stdout",
     "output_type": "stream",
     "text": [
      "\r",
      "[                                        ] | 0% Completed | 1.33 s"
     ]
    },
    {
     "name": "stdout",
     "output_type": "stream",
     "text": [
      "\r",
      "[                                        ] | 0% Completed | 1.45 s"
     ]
    },
    {
     "name": "stdout",
     "output_type": "stream",
     "text": [
      "\r",
      "[                                        ] | 0% Completed | 1.56 s"
     ]
    },
    {
     "name": "stdout",
     "output_type": "stream",
     "text": [
      "\r",
      "[                                        ] | 0% Completed | 1.66 s"
     ]
    },
    {
     "name": "stdout",
     "output_type": "stream",
     "text": [
      "\r",
      "[                                        ] | 0% Completed | 1.76 s"
     ]
    },
    {
     "name": "stdout",
     "output_type": "stream",
     "text": [
      "\r",
      "[                                        ] | 0% Completed | 1.86 s"
     ]
    },
    {
     "name": "stdout",
     "output_type": "stream",
     "text": [
      "\r",
      "[                                        ] | 0% Completed | 1.97 s"
     ]
    },
    {
     "name": "stderr",
     "output_type": "stream",
     "text": [
      "/home/runner/micromamba/envs/hstcal/lib/python3.11/site-packages/acstools/utils_findsat_mrt.py:24: UserWarning: skimage not installed. MRT calculation will not work: ModuleNotFoundError(\"No module named 'skimage'\")\n",
      "  warnings.warn(f'skimage not installed. MRT calculation will not work: {repr(e)}')  # noqa\n"
     ]
    },
    {
     "name": "stdout",
     "output_type": "stream",
     "text": [
      "\r",
      "[                                        ] | 0% Completed | 2.07 s"
     ]
    },
    {
     "name": "stdout",
     "output_type": "stream",
     "text": [
      "\r",
      "[                                        ] | 0% Completed | 2.17 s"
     ]
    },
    {
     "name": "stderr",
     "output_type": "stream",
     "text": [
      "/home/runner/micromamba/envs/hstcal/lib/python3.11/site-packages/acstools/utils_findsat_mrt.py:24: UserWarning: skimage not installed. MRT calculation will not work: ModuleNotFoundError(\"No module named 'skimage'\")\n",
      "  warnings.warn(f'skimage not installed. MRT calculation will not work: {repr(e)}')  # noqa\n",
      "/home/runner/micromamba/envs/hstcal/lib/python3.11/site-packages/acstools/utils_findsat_mrt.py:24: UserWarning: skimage not installed. MRT calculation will not work: ModuleNotFoundError(\"No module named 'skimage'\")\n",
      "  warnings.warn(f'skimage not installed. MRT calculation will not work: {repr(e)}')  # noqa\n"
     ]
    },
    {
     "name": "stdout",
     "output_type": "stream",
     "text": [
      "\r",
      "[                                        ] | 0% Completed | 2.27 s"
     ]
    },
    {
     "name": "stdout",
     "output_type": "stream",
     "text": [
      "\r",
      "[                                        ] | 0% Completed | 2.37 s"
     ]
    },
    {
     "name": "stdout",
     "output_type": "stream",
     "text": [
      "\r",
      "[                                        ] | 0% Completed | 2.49 s"
     ]
    },
    {
     "name": "stderr",
     "output_type": "stream",
     "text": [
      "/home/runner/micromamba/envs/hstcal/lib/python3.11/site-packages/acstools/utils_findsat_mrt.py:24: UserWarning: skimage not installed. MRT calculation will not work: ModuleNotFoundError(\"No module named 'skimage'\")\n",
      "  warnings.warn(f'skimage not installed. MRT calculation will not work: {repr(e)}')  # noqa\n",
      "/home/runner/micromamba/envs/hstcal/lib/python3.11/site-packages/acstools/utils_findsat_mrt.py:24: UserWarning: skimage not installed. MRT calculation will not work: ModuleNotFoundError(\"No module named 'skimage'\")\n",
      "  warnings.warn(f'skimage not installed. MRT calculation will not work: {repr(e)}')  # noqa\n",
      "/home/runner/micromamba/envs/hstcal/lib/python3.11/site-packages/acstools/utils_findsat_mrt.py:24: UserWarning: skimage not installed. MRT calculation will not work: ModuleNotFoundError(\"No module named 'skimage'\")\n",
      "  warnings.warn(f'skimage not installed. MRT calculation will not work: {repr(e)}')  # noqa\n"
     ]
    },
    {
     "name": "stdout",
     "output_type": "stream",
     "text": [
      "\r",
      "[                                        ] | 0% Completed | 2.59 s"
     ]
    },
    {
     "name": "stdout",
     "output_type": "stream",
     "text": [
      "\r",
      "[                                        ] | 0% Completed | 2.69 s"
     ]
    },
    {
     "name": "stdout",
     "output_type": "stream",
     "text": [
      "\r",
      "[                                        ] | 0% Completed | 2.79 s"
     ]
    },
    {
     "name": "stdout",
     "output_type": "stream",
     "text": [
      "\r",
      "[                                        ] | 0% Completed | 2.89 s"
     ]
    },
    {
     "name": "stdout",
     "output_type": "stream",
     "text": [
      "\r",
      "[                                        ] | 0% Completed | 2.99 s"
     ]
    },
    {
     "name": "stdout",
     "output_type": "stream",
     "text": [
      "\r",
      "[                                        ] | 0% Completed | 3.09 s"
     ]
    },
    {
     "name": "stdout",
     "output_type": "stream",
     "text": [
      "\r",
      "[                                        ] | 0% Completed | 3.19 s"
     ]
    },
    {
     "name": "stdout",
     "output_type": "stream",
     "text": [
      "\r",
      "[                                        ] | 0% Completed | 3.29 s"
     ]
    },
    {
     "name": "stdout",
     "output_type": "stream",
     "text": [
      "\r",
      "[                                        ] | 0% Completed | 3.39 s"
     ]
    },
    {
     "name": "stdout",
     "output_type": "stream",
     "text": [
      "\r",
      "[                                        ] | 0% Completed | 3.49 s"
     ]
    },
    {
     "name": "stdout",
     "output_type": "stream",
     "text": [
      "\r",
      "[                                        ] | 0% Completed | 3.59 s"
     ]
    },
    {
     "name": "stdout",
     "output_type": "stream",
     "text": [
      "\r",
      "[                                        ] | 0% Completed | 3.69 s"
     ]
    },
    {
     "name": "stdout",
     "output_type": "stream",
     "text": [
      "\r",
      "[                                        ] | 0% Completed | 3.79 s"
     ]
    },
    {
     "name": "stdout",
     "output_type": "stream",
     "text": [
      "\r",
      "[                                        ] | 0% Completed | 3.90 s"
     ]
    },
    {
     "name": "stdout",
     "output_type": "stream",
     "text": [
      "\r",
      "[                                        ] | 0% Completed | 4.00 s"
     ]
    },
    {
     "name": "stdout",
     "output_type": "stream",
     "text": [
      "\r",
      "[                                        ] | 0% Completed | 4.10 s"
     ]
    },
    {
     "name": "stdout",
     "output_type": "stream",
     "text": [
      "\r",
      "[                                        ] | 0% Completed | 4.20 s"
     ]
    },
    {
     "name": "stdout",
     "output_type": "stream",
     "text": [
      "\r",
      "[                                        ] | 0% Completed | 4.30 s"
     ]
    },
    {
     "name": "stdout",
     "output_type": "stream",
     "text": [
      "\r",
      "[                                        ] | 0% Completed | 4.40 s"
     ]
    },
    {
     "name": "stdout",
     "output_type": "stream",
     "text": [
      "\r",
      "[                                        ] | 0% Completed | 4.50 s"
     ]
    },
    {
     "name": "stdout",
     "output_type": "stream",
     "text": [
      "\r",
      "[                                        ] | 0% Completed | 4.60 s"
     ]
    },
    {
     "name": "stdout",
     "output_type": "stream",
     "text": [
      "\r",
      "[                                        ] | 0% Completed | 4.70 s"
     ]
    },
    {
     "name": "stdout",
     "output_type": "stream",
     "text": [
      "\r",
      "[                                        ] | 0% Completed | 4.80 s"
     ]
    },
    {
     "name": "stdout",
     "output_type": "stream",
     "text": [
      "\r",
      "[                                        ] | 0% Completed | 4.90 s"
     ]
    },
    {
     "name": "stdout",
     "output_type": "stream",
     "text": [
      "\r",
      "[                                        ] | 0% Completed | 5.00 s"
     ]
    },
    {
     "name": "stdout",
     "output_type": "stream",
     "text": [
      "\r",
      "[                                        ] | 0% Completed | 5.10 s"
     ]
    },
    {
     "name": "stdout",
     "output_type": "stream",
     "text": [
      "\r",
      "[                                        ] | 0% Completed | 5.20 s"
     ]
    },
    {
     "name": "stdout",
     "output_type": "stream",
     "text": [
      "\r",
      "[                                        ] | 0% Completed | 5.30 s"
     ]
    },
    {
     "name": "stdout",
     "output_type": "stream",
     "text": [
      "\r",
      "[                                        ] | 0% Completed | 5.41 s"
     ]
    },
    {
     "name": "stdout",
     "output_type": "stream",
     "text": [
      "\r",
      "[                                        ] | 0% Completed | 5.51 s"
     ]
    },
    {
     "name": "stdout",
     "output_type": "stream",
     "text": [
      "\r",
      "[                                        ] | 0% Completed | 5.61 s"
     ]
    },
    {
     "name": "stdout",
     "output_type": "stream",
     "text": [
      "\r",
      "[                                        ] | 0% Completed | 5.71 s"
     ]
    },
    {
     "name": "stdout",
     "output_type": "stream",
     "text": [
      "\r",
      "[                                        ] | 0% Completed | 5.81 s"
     ]
    },
    {
     "name": "stdout",
     "output_type": "stream",
     "text": [
      "\r",
      "[                                        ] | 0% Completed | 5.91 s"
     ]
    },
    {
     "name": "stdout",
     "output_type": "stream",
     "text": [
      "\r",
      "[                                        ] | 0% Completed | 6.01 s"
     ]
    },
    {
     "name": "stdout",
     "output_type": "stream",
     "text": [
      "\r",
      "[                                        ] | 0% Completed | 6.11 s"
     ]
    },
    {
     "name": "stdout",
     "output_type": "stream",
     "text": [
      "\r",
      "[                                        ] | 0% Completed | 6.21 s"
     ]
    },
    {
     "name": "stdout",
     "output_type": "stream",
     "text": [
      "\r",
      "[                                        ] | 0% Completed | 6.31 s"
     ]
    },
    {
     "name": "stdout",
     "output_type": "stream",
     "text": [
      "\r",
      "[                                        ] | 0% Completed | 6.41 s"
     ]
    },
    {
     "name": "stdout",
     "output_type": "stream",
     "text": [
      "\r",
      "[                                        ] | 0% Completed | 6.51 s"
     ]
    },
    {
     "name": "stdout",
     "output_type": "stream",
     "text": [
      "\r",
      "[                                        ] | 0% Completed | 6.61 s"
     ]
    },
    {
     "name": "stdout",
     "output_type": "stream",
     "text": [
      "\r",
      "[                                        ] | 0% Completed | 6.71 s"
     ]
    },
    {
     "name": "stdout",
     "output_type": "stream",
     "text": [
      "\r",
      "[                                        ] | 0% Completed | 6.81 s"
     ]
    },
    {
     "name": "stdout",
     "output_type": "stream",
     "text": [
      "\r",
      "[                                        ] | 0% Completed | 6.91 s"
     ]
    },
    {
     "name": "stdout",
     "output_type": "stream",
     "text": [
      "\r",
      "[                                        ] | 0% Completed | 7.01 s"
     ]
    },
    {
     "name": "stdout",
     "output_type": "stream",
     "text": [
      "\r",
      "[                                        ] | 0% Completed | 7.12 s"
     ]
    },
    {
     "name": "stdout",
     "output_type": "stream",
     "text": [
      "\r",
      "[                                        ] | 0% Completed | 7.22 s"
     ]
    },
    {
     "name": "stdout",
     "output_type": "stream",
     "text": [
      "\r",
      "[                                        ] | 0% Completed | 7.32 s"
     ]
    },
    {
     "name": "stdout",
     "output_type": "stream",
     "text": [
      "\r",
      "[                                        ] | 0% Completed | 7.42 s"
     ]
    },
    {
     "name": "stdout",
     "output_type": "stream",
     "text": [
      "\r",
      "[                                        ] | 0% Completed | 7.52 s"
     ]
    },
    {
     "name": "stdout",
     "output_type": "stream",
     "text": [
      "\r",
      "[                                        ] | 0% Completed | 7.62 s"
     ]
    },
    {
     "name": "stdout",
     "output_type": "stream",
     "text": [
      "\r",
      "[                                        ] | 0% Completed | 7.72 s"
     ]
    },
    {
     "name": "stdout",
     "output_type": "stream",
     "text": [
      "\r",
      "[                                        ] | 0% Completed | 7.82 s"
     ]
    },
    {
     "name": "stdout",
     "output_type": "stream",
     "text": [
      "\r",
      "[                                        ] | 0% Completed | 7.92 s"
     ]
    },
    {
     "name": "stdout",
     "output_type": "stream",
     "text": [
      "\r",
      "[                                        ] | 0% Completed | 8.02 s"
     ]
    },
    {
     "name": "stdout",
     "output_type": "stream",
     "text": [
      "\r",
      "[                                        ] | 0% Completed | 8.12 s"
     ]
    },
    {
     "name": "stdout",
     "output_type": "stream",
     "text": [
      "\r",
      "[                                        ] | 0% Completed | 8.22 s"
     ]
    },
    {
     "name": "stdout",
     "output_type": "stream",
     "text": [
      "\r",
      "[                                        ] | 0% Completed | 8.32 s"
     ]
    },
    {
     "name": "stdout",
     "output_type": "stream",
     "text": [
      "\r",
      "[                                        ] | 0% Completed | 8.42 s"
     ]
    },
    {
     "name": "stdout",
     "output_type": "stream",
     "text": [
      "\r",
      "[                                        ] | 0% Completed | 8.52 s"
     ]
    },
    {
     "name": "stdout",
     "output_type": "stream",
     "text": [
      "\r",
      "[                                        ] | 0% Completed | 8.62 s"
     ]
    },
    {
     "name": "stdout",
     "output_type": "stream",
     "text": [
      "\r",
      "[                                        ] | 0% Completed | 8.73 s"
     ]
    },
    {
     "name": "stdout",
     "output_type": "stream",
     "text": [
      "\r",
      "[                                        ] | 0% Completed | 8.83 s"
     ]
    },
    {
     "name": "stdout",
     "output_type": "stream",
     "text": [
      "\r",
      "[                                        ] | 0% Completed | 8.93 s"
     ]
    },
    {
     "name": "stdout",
     "output_type": "stream",
     "text": [
      "\r",
      "[                                        ] | 0% Completed | 9.03 s"
     ]
    },
    {
     "name": "stdout",
     "output_type": "stream",
     "text": [
      "\r",
      "[                                        ] | 0% Completed | 9.13 s"
     ]
    },
    {
     "name": "stdout",
     "output_type": "stream",
     "text": [
      "\r",
      "[                                        ] | 0% Completed | 9.23 s"
     ]
    },
    {
     "name": "stdout",
     "output_type": "stream",
     "text": [
      "\r",
      "[#######                                 ] | 17% Completed | 9.33 s"
     ]
    },
    {
     "name": "stdout",
     "output_type": "stream",
     "text": [
      "\r",
      "[#######                                 ] | 17% Completed | 9.43 s"
     ]
    },
    {
     "name": "stdout",
     "output_type": "stream",
     "text": [
      "\r",
      "[###########                             ] | 29% Completed | 9.53 s"
     ]
    },
    {
     "name": "stdout",
     "output_type": "stream",
     "text": [
      "\r",
      "[###########                             ] | 29% Completed | 9.63 s"
     ]
    },
    {
     "name": "stdout",
     "output_type": "stream",
     "text": [
      "\r",
      "[###########                             ] | 29% Completed | 9.73 s"
     ]
    },
    {
     "name": "stdout",
     "output_type": "stream",
     "text": [
      "\r",
      "[###########                             ] | 29% Completed | 9.83 s"
     ]
    },
    {
     "name": "stdout",
     "output_type": "stream",
     "text": [
      "\r",
      "[##################                      ] | 47% Completed | 9.93 s"
     ]
    },
    {
     "name": "stdout",
     "output_type": "stream",
     "text": [
      "\r",
      "[##################                      ] | 47% Completed | 10.03 s"
     ]
    },
    {
     "name": "stdout",
     "output_type": "stream",
     "text": [
      "\r",
      "[##################                      ] | 47% Completed | 10.13 s"
     ]
    },
    {
     "name": "stdout",
     "output_type": "stream",
     "text": [
      "\r",
      "[##################                      ] | 47% Completed | 10.23 s"
     ]
    },
    {
     "name": "stdout",
     "output_type": "stream",
     "text": [
      "\r",
      "[##################                      ] | 47% Completed | 10.34 s"
     ]
    },
    {
     "name": "stdout",
     "output_type": "stream",
     "text": [
      "\r",
      "[##################                      ] | 47% Completed | 10.44 s"
     ]
    },
    {
     "name": "stdout",
     "output_type": "stream",
     "text": [
      "\r",
      "[##################                      ] | 47% Completed | 10.54 s"
     ]
    },
    {
     "name": "stdout",
     "output_type": "stream",
     "text": [
      "\r",
      "[##################                      ] | 47% Completed | 10.64 s"
     ]
    },
    {
     "name": "stdout",
     "output_type": "stream",
     "text": [
      "\r",
      "[#########################               ] | 64% Completed | 10.74 s"
     ]
    },
    {
     "name": "stdout",
     "output_type": "stream",
     "text": [
      "\r",
      "[#########################               ] | 64% Completed | 10.84 s"
     ]
    },
    {
     "name": "stdout",
     "output_type": "stream",
     "text": [
      "\r",
      "[#########################               ] | 64% Completed | 10.94 s"
     ]
    },
    {
     "name": "stdout",
     "output_type": "stream",
     "text": [
      "\r",
      "[#########################               ] | 64% Completed | 11.04 s"
     ]
    },
    {
     "name": "stdout",
     "output_type": "stream",
     "text": [
      "\r",
      "[#########################               ] | 64% Completed | 11.14 s"
     ]
    },
    {
     "name": "stdout",
     "output_type": "stream",
     "text": [
      "\r",
      "[#########################               ] | 64% Completed | 11.24 s"
     ]
    },
    {
     "name": "stdout",
     "output_type": "stream",
     "text": [
      "\r",
      "[#########################               ] | 64% Completed | 11.34 s"
     ]
    },
    {
     "name": "stdout",
     "output_type": "stream",
     "text": [
      "\r",
      "[#########################               ] | 64% Completed | 11.44 s"
     ]
    },
    {
     "name": "stdout",
     "output_type": "stream",
     "text": [
      "\r",
      "[#########################               ] | 64% Completed | 11.54 s"
     ]
    },
    {
     "name": "stdout",
     "output_type": "stream",
     "text": [
      "\r",
      "[#########################               ] | 64% Completed | 11.64 s"
     ]
    },
    {
     "name": "stdout",
     "output_type": "stream",
     "text": [
      "\r",
      "[#########################               ] | 64% Completed | 11.74 s"
     ]
    },
    {
     "name": "stdout",
     "output_type": "stream",
     "text": [
      "\r",
      "[################################        ] | 82% Completed | 11.84 s"
     ]
    },
    {
     "name": "stdout",
     "output_type": "stream",
     "text": [
      "\r",
      "[################################        ] | 82% Completed | 11.94 s"
     ]
    },
    {
     "name": "stdout",
     "output_type": "stream",
     "text": [
      "\r",
      "[########################################] | 100% Completed | 12.05 s"
     ]
    },
    {
     "name": "stdout",
     "output_type": "stream",
     "text": [
      "\n"
     ]
    },
    {
     "name": "stdout",
     "output_type": "stream",
     "text": [
      "# of matching files:  34\n",
      "CPU times: user 105 ms, sys: 29.5 ms, total: 134 ms\n",
      "Wall time: 12.5 s\n"
     ]
    }
   ],
   "source": [
    "%%time\n",
    "\n",
    "# use the multi_psf_retriever function to retrieve our ePSFs \n",
    "retrieved_downloads = multi_psf_retriever(obs_rootnames, download_location)\n",
    "\n",
    "print('# of matching files: ', len(retrieved_downloads))"
   ]
  },
  {
   "cell_type": "markdown",
   "id": "91ab33c5",
   "metadata": {},
   "source": [
    "# Further Spatial Interpolations"
   ]
  },
  {
   "cell_type": "markdown",
   "id": "7bf751ae",
   "metadata": {},
   "source": [
    "Users may be interested in further interpolating the provided ePSF array to any arbitrary (x,y) coordinate. The function interp_epsf() allows us to retrieve this (using bi-linear interpolation)."
   ]
  },
  {
   "cell_type": "markdown",
   "id": "ea152867",
   "metadata": {},
   "source": [
    "For example, we can retrieve the ePSF loaded from its FITS file above and interpolate to x,y = (2000,2000) on WFC1, which is near the middle of the detector along the x-axis, and near the top of the WFC1 chip (and the detector overall). "
   ]
  },
  {
   "cell_type": "code",
   "execution_count": 9,
   "id": "6fbeebf6",
   "metadata": {
    "execution": {
     "iopub.execute_input": "2025-09-19T19:12:23.882536Z",
     "iopub.status.busy": "2025-09-19T19:12:23.882305Z",
     "iopub.status.idle": "2025-09-19T19:12:24.127313Z",
     "shell.execute_reply": "2025-09-19T19:12:24.126864Z"
    }
   },
   "outputs": [
    {
     "data": {
      "text/plain": [
       "<matplotlib.colorbar.Colorbar at 0x7f638b9bed10>"
      ]
     },
     "execution_count": 9,
     "metadata": {},
     "output_type": "execute_result"
    },
    {
     "data": {
      "image/png": "[encoded data removed]",
      "text/plain": [
       "<Figure size 640x480 with 2 Axes>"
      ]
     },
     "metadata": {},
     "output_type": "display_data"
    }
   ],
   "source": [
    "x = 2000\n",
    "y = 2000\n",
    "chip = \"WFC1\"\n",
    "\n",
    "# get interpolated ePSF in supersampled space\n",
    "P = interp_epsf(ePSFs, x, y, chip)\n",
    "plt.imshow(P, cmap='viridis', norm=colors.LogNorm(vmin=1e-4), origin='lower')\n",
    "plt.title('jds408jsq at x,y = (2000,2000) on WFC1')\n",
    "plt.colorbar()"
   ]
  },
  {
   "cell_type": "markdown",
   "id": "f821d862",
   "metadata": {},
   "source": [
    "By default, the ePSFs come with 4x supersampling. We can output them in detector space by setting the \"pixel_space\" = True."
   ]
  },
  {
   "cell_type": "code",
   "execution_count": 10,
   "id": "590fb332",
   "metadata": {
    "execution": {
     "iopub.execute_input": "2025-09-19T19:12:24.128843Z",
     "iopub.status.busy": "2025-09-19T19:12:24.128694Z",
     "iopub.status.idle": "2025-09-19T19:12:24.395292Z",
     "shell.execute_reply": "2025-09-19T19:12:24.394820Z"
    }
   },
   "outputs": [
    {
     "data": {
      "text/plain": [
       "<matplotlib.colorbar.Colorbar at 0x7f638b3d7610>"
      ]
     },
     "execution_count": 10,
     "metadata": {},
     "output_type": "execute_result"
    },
    {
     "data": {
      "image/png": "[encoded data removed]",
      "text/plain": [
       "<Figure size 640x480 with 2 Axes>"
      ]
     },
     "metadata": {},
     "output_type": "display_data"
    }
   ],
   "source": [
    "# get interpolated ePSF in detector space\n",
    "P = interp_epsf(ePSFs, x, y, chip,\n",
    "                pixel_space=True)\n",
    "plt.imshow(P, cmap='viridis', norm=colors.LogNorm(vmin=1e-4), origin='lower')\n",
    "plt.title('(2000,2000) on WFC1 (Detector Space)')\n",
    "plt.colorbar()"
   ]
  },
  {
   "cell_type": "markdown",
   "id": "d6460c6d",
   "metadata": {},
   "source": [
    "Lastly, we can shift the ePSF to any sub-pixel phase by specifying the individual x and y subpixel offsets. The code uses bi-cubic interpolation to perform these sub-pixel phase shifts. \n",
    "\n",
    "Note that pixel_space must be set to True to use these subpixel offsets. Also note that the code only supports this bi-cubic interpolation to the second decimal place (e.g. subpixel_x = 0.77 and subpixel_y = 0.33)"
   ]
  },
  {
   "cell_type": "code",
   "execution_count": 11,
   "id": "f74f8caa",
   "metadata": {
    "execution": {
     "iopub.execute_input": "2025-09-19T19:12:24.396789Z",
     "iopub.status.busy": "2025-09-19T19:12:24.396638Z",
     "iopub.status.idle": "2025-09-19T19:12:24.711734Z",
     "shell.execute_reply": "2025-09-19T19:12:24.711172Z"
    }
   },
   "outputs": [
    {
     "data": {
      "text/plain": [
       "<matplotlib.colorbar.Colorbar at 0x7f638b177610>"
      ]
     },
     "execution_count": 11,
     "metadata": {},
     "output_type": "execute_result"
    },
    {
     "data": {
      "image/png": "[encoded data removed]",
      "text/plain": [
       "<Figure size 640x480 with 2 Axes>"
      ]
     },
     "metadata": {},
     "output_type": "display_data"
    }
   ],
   "source": [
    "# # get interpolated ePSF in detector space with specified sub-pixel shifts\n",
    "P = interp_epsf(ePSFs, x, y, chip,\n",
    "                pixel_space=True,\n",
    "                subpixel_x=0.77, subpixel_y=0.33)\n",
    "\n",
    "plt.imshow(P, cmap='viridis', norm=colors.LogNorm(vmin=1e-4), origin='lower')\n",
    "plt.title('(2000.77,2000.33) on WFC1 (Detector Space)')\n",
    "plt.colorbar()"
   ]
  },
  {
   "cell_type": "markdown",
   "id": "041df5ae",
   "metadata": {},
   "source": [
    "## For more help:\n",
    "\n",
    "More details may be found on the [ACS website](http://www.stsci.edu/hst/instrumentation/acs) and in the [ACS Instrument](https://hst-docs.stsci.edu/display/ACSIHB) and [Data Handbooks](https://hst-docs.stsci.edu/acsdhb).\n",
    "\n",
    "Please visit the [HST Help Desk](http://hsthelp.stsci.edu). Through the help desk portal, you can explore the HST Knowledge Base and request additional help from experts."
   ]
  }
 ],
 "metadata": {
  "kernelspec": {
   "display_name": "Python 3 (ipykernel)",
   "language": "python",
   "name": "python3"
  },
  "language_info": {
   "codemirror_mode": {
    "name": "ipython",
    "version": 3
   },
   "file_extension": ".py",
   "mimetype": "text/x-python",
   "name": "python",
   "nbconvert_exporter": "python",
   "pygments_lexer": "ipython3",
   "version": "3.11.13"
  },
  "widgets": {
   "application/vnd.jupyter.widget-state+json": {
    "state": {
     "257932f742bb44db9b281cbf9e4180e3": {
      "model_module": "@jupyter-widgets/base",
      "model_module_version": "2.0.0",
      "model_name": "LayoutModel",
      "state": {
       "_model_module": "@jupyter-widgets/base",
       "_model_module_version": "2.0.0",
       "_model_name": "LayoutModel",
       "_view_count": null,
       "_view_module": "@jupyter-widgets/base",
       "_view_module_version": "2.0.0",
       "_view_name": "LayoutView",
       "align_content": null,
       "align_items": null,
       "align_self": null,
       "border_bottom": null,
       "border_left": null,
       "border_right": null,
       "border_top": null,
       "bottom": null,
       "display": null,
       "flex": null,
       "flex_flow": null,
       "grid_area": null,
       "grid_auto_columns": null,
       "grid_auto_flow": null,
       "grid_auto_rows": null,
       "grid_column": null,
       "grid_gap": null,
       "grid_row": null,
       "grid_template_areas": null,
       "grid_template_columns": null,
       "grid_template_rows": null,
       "height": null,
       "justify_content": null,
       "justify_items": null,
       "left": null,
       "margin": null,
       "max_height": null,
       "max_width": null,
       "min_height": null,
       "min_width": null,
       "object_fit": null,
       "object_position": null,
       "order": null,
       "overflow": null,
       "padding": null,
       "right": null,
       "top": null,
       "visibility": null,
       "width": null
      }
     },
     "2a291b52261e417ea9feac5006270ad0": {
      "model_module": "@jupyter-widgets/base",
      "model_module_version": "2.0.0",
      "model_name": "LayoutModel",
      "state": {
       "_model_module": "@jupyter-widgets/base",
       "_model_module_version": "2.0.0",
       "_model_name": "LayoutModel",
       "_view_count": null,
       "_view_module": "@jupyter-widgets/base",
       "_view_module_version": "2.0.0",
       "_view_name": "LayoutView",
       "align_content": null,
       "align_items": null,
       "align_self": null,
       "border_bottom": null,
       "border_left": null,
       "border_right": null,
       "border_top": null,
       "bottom": null,
       "display": null,
       "flex": null,
       "flex_flow": null,
       "grid_area": null,
       "grid_auto_columns": null,
       "grid_auto_flow": null,
       "grid_auto_rows": null,
       "grid_column": null,
       "grid_gap": null,
       "grid_row": null,
       "grid_template_areas": null,
       "grid_template_columns": null,
       "grid_template_rows": null,
       "height": null,
       "justify_content": null,
       "justify_items": null,
       "left": null,
       "margin": null,
       "max_height": null,
       "max_width": null,
       "min_height": null,
       "min_width": null,
       "object_fit": null,
       "object_position": null,
       "order": null,
       "overflow": null,
       "padding": null,
       "right": null,
       "top": null,
       "visibility": null,
       "width": null
      }
     },
     "4c9a0c37d3014d7bb1581f0d2736f387": {
      "model_module": "@jupyter-widgets/controls",
      "model_module_version": "2.0.0",
      "model_name": "IntSliderModel",
      "state": {
       "_dom_classes": [],
       "_model_module": "@jupyter-widgets/controls",
       "_model_module_version": "2.0.0",
       "_model_name": "IntSliderModel",
       "_view_count": null,
       "_view_module": "@jupyter-widgets/controls",
       "_view_module_version": "2.0.0",
       "_view_name": "IntSliderView",
       "behavior": "drag-tap",
       "continuous_update": true,
       "description": "grid_index",
       "description_allow_html": false,
       "disabled": false,
       "layout": "IPY_MODEL_257932f742bb44db9b281cbf9e4180e3",
       "max": 89,
       "min": 0,
       "orientation": "horizontal",
       "readout": true,
       "readout_format": "d",
       "step": 1,
       "style": "IPY_MODEL_e180c279fe204c2eb46e980003fde646",
       "tabbable": null,
       "tooltip": null,
       "value": 44
      }
     },
     "e180c279fe204c2eb46e980003fde646": {
      "model_module": "@jupyter-widgets/controls",
      "model_module_version": "2.0.0",
      "model_name": "SliderStyleModel",
      "state": {
       "_model_module": "@jupyter-widgets/controls",
       "_model_module_version": "2.0.0",
       "_model_name": "SliderStyleModel",
       "_view_count": null,
       "_view_module": "@jupyter-widgets/base",
       "_view_module_version": "2.0.0",
       "_view_name": "StyleView",
       "description_width": "",
       "handle_color": null
      }
     },
     "ebc2aa63a58a48eca2efd9e28755301b": {
      "model_module": "@jupyter-widgets/controls",
      "model_module_version": "2.0.0",
      "model_name": "VBoxModel",
      "state": {
       "_dom_classes": [
        "widget-interact"
       ],
       "_model_module": "@jupyter-widgets/controls",
       "_model_module_version": "2.0.0",
       "_model_name": "VBoxModel",
       "_view_count": null,
       "_view_module": "@jupyter-widgets/controls",
       "_view_module_version": "2.0.0",
       "_view_name": "VBoxView",
       "box_style": "",
       "children": [
        "IPY_MODEL_4c9a0c37d3014d7bb1581f0d2736f387",
        "IPY_MODEL_f9c11e870cd44c80aaf67ddb717f3f7e"
       ],
       "layout": "IPY_MODEL_f1996292a1fa492ea1d8e83248d1fb1c",
       "tabbable": null,
       "tooltip": null
      }
     },
     "f1996292a1fa492ea1d8e83248d1fb1c": {
      "model_module": "@jupyter-widgets/base",
      "model_module_version": "2.0.0",
      "model_name": "LayoutModel",
      "state": {
       "_model_module": "@jupyter-widgets/base",
       "_model_module_version": "2.0.0",
       "_model_name": "LayoutModel",
       "_view_count": null,
       "_view_module": "@jupyter-widgets/base",
       "_view_module_version": "2.0.0",
       "_view_name": "LayoutView",
       "align_content": null,
       "align_items": null,
       "align_self": null,
       "border_bottom": null,
       "border_left": null,
       "border_right": null,
       "border_top": null,
       "bottom": null,
       "display": null,
       "flex": null,
       "flex_flow": null,
       "grid_area": null,
       "grid_auto_columns": null,
       "grid_auto_flow": null,
       "grid_auto_rows": null,
       "grid_column": null,
       "grid_gap": null,
       "grid_row": null,
       "grid_template_areas": null,
       "grid_template_columns": null,
       "grid_template_rows": null,
       "height": null,
       "justify_content": null,
       "justify_items": null,
       "left": null,
       "margin": null,
       "max_height": null,
       "max_width": null,
       "min_height": null,
       "min_width": null,
       "object_fit": null,
       "object_position": null,
       "order": null,
       "overflow": null,
       "padding": null,
       "right": null,
       "top": null,
       "visibility": null,
       "width": null
      }
     },
     "f9c11e870cd44c80aaf67ddb717f3f7e": {
      "model_module": "@jupyter-widgets/output",
      "model_module_version": "1.0.0",
      "model_name": "OutputModel",
      "state": {
       "_dom_classes": [],
       "_model_module": "@jupyter-widgets/output",
       "_model_module_version": "1.0.0",
       "_model_name": "OutputModel",
       "_view_count": null,
       "_view_module": "@jupyter-widgets/output",
       "_view_module_version": "1.0.0",
       "_view_name": "OutputView",
       "layout": "IPY_MODEL_2a291b52261e417ea9feac5006270ad0",
       "msg_id": "",
       "outputs": [
        {
         "data": {
          "image/png": "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",
          "text/plain": "<Figure size 640x480 with 2 Axes>"
         },
         "metadata": {},
         "output_type": "display_data"
        }
       ],
       "tabbable": null,
       "tooltip": null
      }
     }
    },
    "version_major": 2,
    "version_minor": 0
   }
  }
 },
 "nbformat": 4,
 "nbformat_minor": 5
}
