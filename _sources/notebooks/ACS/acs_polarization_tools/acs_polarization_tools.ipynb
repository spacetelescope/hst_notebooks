{
 "cells": [
  {
   "cell_type": "markdown",
   "metadata": {},
   "source": [
    "<a id=\"titlePolarization\"></a>\n",
    "# Using ACS Polarization Tools\n",
    "\n",
    "## Introduction\n",
    "\n",
    "***\n",
    "\n",
    "In December 2020, the ACS Team made available a Python module called `polarization_tools` in the `acstools` package to facilitate data analysis of ACS polarization data. This package contains both tables of calibration terms and class methods for polarization calculations. \n",
    "\n",
    "Note that this example does not use imaging data (i.e., FITS files). Where necessary, we will indicate values that come from ACS FITS files.\n",
    "\n",
    "### This tutorial will show you how to...\n",
    "\n",
    "#### 1. [Retrieve Polarization Calibration Coefficients](#_coeffs) \n",
    "\n",
    "* Get the latest calibration coefficients that are used in `acstools`\n",
    "\n",
    "#### 2. [Calculate Polarization Properties](#_properties)\n",
    "\n",
    "* Use the `acstools.polarization_tools` module to compute:\n",
    "    * Stokes parameters\n",
    "    * Fractional polarization\n",
    "    * Electric field vector position angle"
   ]
  },
  {
   "cell_type": "markdown",
   "metadata": {},
   "source": [
    "## Imports\n",
    "\n",
    "***\n",
    "\n",
    "Here we list the Python packages used in this notebook. Links to the documentation for each module is provided for convenience.\n",
    "\n",
    "| Package Name     | module           | docs          | used for    |\n",
    "|------------------|:-----------------|:-------------:|:------------|\n",
    "|`acstools`       |`polarization_tools`| <a class=\"divlink\" href=\"https://acstools.readthedocs.io/en/latest/polarization_tools.html\">link</a>| polarization information and methods| "
   ]
  },
  {
   "cell_type": "code",
   "execution_count": 1,
   "metadata": {
    "execution": {
     "iopub.execute_input": "2025-06-16T13:19:25.099597Z",
     "iopub.status.busy": "2025-06-16T13:19:25.099444Z",
     "iopub.status.idle": "2025-06-16T13:19:26.225548Z",
     "shell.execute_reply": "2025-06-16T13:19:26.225039Z"
    }
   },
   "outputs": [
    {
     "name": "stderr",
     "output_type": "stream",
     "text": [
      "WARNING: matplotlib not found, plotting is disabled [acstools.satdet]\n",
      "WARNING:astropy:matplotlib not found, plotting is disabled\n"
     ]
    },
    {
     "name": "stderr",
     "output_type": "stream",
     "text": [
      "/home/runner/micromamba/envs/hstcal/lib/python3.12/site-packages/acstools/utils_findsat_mrt.py:24: UserWarning: skimage not installed. MRT calculation will not work: ModuleNotFoundError(\"No module named 'skimage'\")\n",
      "  warnings.warn(f'skimage not installed. MRT calculation will not work: {repr(e)}')  # noqa\n",
      "/home/runner/micromamba/envs/hstcal/lib/python3.12/site-packages/acstools/utils_findsat_mrt.py:30: UserWarning: scipy not installed. Kernel generation will not work\n",
      "  warnings.warn('scipy not installed. Kernel generation will not work')\n",
      "/home/runner/micromamba/envs/hstcal/lib/python3.12/site-packages/acstools/utils_findsat_mrt.py:37: UserWarning: matplotlib not found, plotting is disabled\n",
      "  warnings.warn('matplotlib not found, plotting is disabled')\n",
      "/home/runner/micromamba/envs/hstcal/lib/python3.12/site-packages/acstools/findsat_mrt.py:117: UserWarning: matplotlib not found, plotting is disabled\n",
      "  warnings.warn('matplotlib not found, plotting is disabled')\n"
     ]
    }
   ],
   "source": [
    "from acstools import polarization_tools"
   ]
  },
  {
   "cell_type": "markdown",
   "metadata": {},
   "source": [
    "### Retrieve Polarization Calibration Coefficients<a id=\"_coeffs\"></a>\n",
    "\n",
    "***\n",
    "\n",
    "The `polarization_tools` module contains all of the necessary calibration terms from the tables in section 5.3 of the ACS Data Handbook (see tables 5.6 and 5.7). These coefficients are stored in YAML files in `acstools` and may be retrieved as `astropy.Table` tables:"
   ]
  },
  {
   "cell_type": "code",
   "execution_count": 2,
   "metadata": {
    "execution": {
     "iopub.execute_input": "2025-06-16T13:19:26.227197Z",
     "iopub.status.busy": "2025-06-16T13:19:26.227002Z",
     "iopub.status.idle": "2025-06-16T13:19:26.239777Z",
     "shell.execute_reply": "2025-06-16T13:19:26.239315Z"
    }
   },
   "outputs": [
    {
     "data": {
      "text/html": [
       "<div><i>Table length=3</i>\n",
       "<table id=\"table140501875373744\" class=\"table-striped table-bordered table-condensed\">\n",
       "<thead><tr><th>filter</th><th>pol0</th><th>pol60</th><th>pol120</th></tr></thead>\n",
       "<thead><tr><th>str5</th><th>float64</th><th>float64</th><th>float64</th></tr></thead>\n",
       "<tr><td>F475W</td><td>1.4303</td><td>1.4717</td><td>1.4269</td></tr>\n",
       "<tr><td>F606W</td><td>1.3314</td><td>1.3607</td><td>1.3094</td></tr>\n",
       "<tr><td>F775W</td><td>0.9965</td><td>1.0255</td><td>1.0071</td></tr>\n",
       "</table></div>"
      ],
      "text/plain": [
       "<Table length=3>\n",
       "filter   pol0   pol60   pol120\n",
       " str5  float64 float64 float64\n",
       "------ ------- ------- -------\n",
       " F475W  1.4303  1.4717  1.4269\n",
       " F606W  1.3314  1.3607  1.3094\n",
       " F775W  0.9965  1.0255  1.0071"
      ]
     },
     "execution_count": 2,
     "metadata": {},
     "output_type": "execute_result"
    }
   ],
   "source": [
    "polarizer_tables = polarization_tools.PolarizerTables.from_package_data()\n",
    "\n",
    "# print the ACS/WFC polarizer efficiencies\n",
    "polarizer_tables.wfc_efficiency"
   ]
  },
  {
   "cell_type": "code",
   "execution_count": 3,
   "metadata": {
    "execution": {
     "iopub.execute_input": "2025-06-16T13:19:26.241184Z",
     "iopub.status.busy": "2025-06-16T13:19:26.240989Z",
     "iopub.status.idle": "2025-06-16T13:19:26.244808Z",
     "shell.execute_reply": "2025-06-16T13:19:26.244345Z"
    }
   },
   "outputs": [
    {
     "data": {
      "text/html": [
       "<div><i>Table length=3</i>\n",
       "<table id=\"table140501875399600\" class=\"table-striped table-bordered table-condensed\">\n",
       "<thead><tr><th>filter</th><th>t_para</th><th>t_perp</th><th>correction</th></tr></thead>\n",
       "<thead><tr><th>str5</th><th>float64</th><th>float64</th><th>float64</th></tr></thead>\n",
       "<tr><td>F475W</td><td>0.4239276798513098</td><td>0.00015240583841551956</td><td>1.000719276691027</td></tr>\n",
       "<tr><td>F606W</td><td>0.5156734594049419</td><td>5.5908749369641956e-05</td><td>1.000216861312415</td></tr>\n",
       "<tr><td>F775W</td><td>0.6040891283746557</td><td>0.07367364117759412</td><td>1.2777959654493372</td></tr>\n",
       "</table></div>"
      ],
      "text/plain": [
       "<Table length=3>\n",
       "filter       t_para               t_perp             correction    \n",
       " str5       float64              float64              float64      \n",
       "------ ------------------ ---------------------- ------------------\n",
       " F475W 0.4239276798513098 0.00015240583841551956  1.000719276691027\n",
       " F606W 0.5156734594049419 5.5908749369641956e-05  1.000216861312415\n",
       " F775W 0.6040891283746557    0.07367364117759412 1.2777959654493372"
      ]
     },
     "execution_count": 3,
     "metadata": {},
     "output_type": "execute_result"
    }
   ],
   "source": [
    "# print the average ACS/WFC cross-polarization leak corrections\n",
    "polarizer_tables.wfc_transmission"
   ]
  },
  {
   "cell_type": "markdown",
   "metadata": {},
   "source": [
    "In addition, the tables contain metadata that describe their derivation:"
   ]
  },
  {
   "cell_type": "code",
   "execution_count": 4,
   "metadata": {
    "execution": {
     "iopub.execute_input": "2025-06-16T13:19:26.246275Z",
     "iopub.status.busy": "2025-06-16T13:19:26.246126Z",
     "iopub.status.idle": "2025-06-16T13:19:26.249081Z",
     "shell.execute_reply": "2025-06-16T13:19:26.248693Z"
    }
   },
   "outputs": [
    {
     "data": {
      "text/plain": [
       "{'description': 'WFC filters use MJD corresponding to 2020-01-01. HRC filters use MJD corresponding to 2007-01-01.'}"
      ]
     },
     "execution_count": 4,
     "metadata": {},
     "output_type": "execute_result"
    }
   ],
   "source": [
    "# print the ACS/WFC cross-polarization leak correction metadata\n",
    "polarizer_tables.wfc_transmission.meta"
   ]
  },
  {
   "cell_type": "markdown",
   "metadata": {},
   "source": [
    "### Calculate Polarization Properties<a id=\"_properties\"></a>\n",
    "\n",
    "***\n",
    "\n",
    "The `acstools.polarization_tools.Polarizer` class contains methods for calculating the polarization properties of a source given ACS photometry as input. The inputs may be either in electrons or electrons/second, as long as all three (for each POL0, POL60, and POL120) are consistently in the same units. In addition, the class can accept either a single float value for each photometric measurement or a `numpy` array. This has the advantage that the class can construct Stokes images from the ACS photometry.\n",
    "\n",
    "For this example, we will use photometry measurements of the polarizated calibration star Vela 1-81 (an OB supergiant). The observations were taken using the ACS/WFC detector and by crossing the polarization filters with the F606W filter. The average PA_V3 value from the primary headers of the FITS files is 294.41272 degrees."
   ]
  },
  {
   "cell_type": "code",
   "execution_count": 5,
   "metadata": {
    "execution": {
     "iopub.execute_input": "2025-06-16T13:19:26.250481Z",
     "iopub.status.busy": "2025-06-16T13:19:26.250335Z",
     "iopub.status.idle": "2025-06-16T13:19:26.260074Z",
     "shell.execute_reply": "2025-06-16T13:19:26.259635Z"
    }
   },
   "outputs": [
    {
     "name": "stdout",
     "output_type": "stream",
     "text": [
      "Stokes I = 169652.47890399996, Stokes Q = -8276.254216000001, Stokes U = -4644.582265627395\n",
      "Fractional polarization = 5.60%, Position Angle = 180.8631543698736 deg\n"
     ]
    }
   ],
   "source": [
    "# Measured photometry from ACS/WFC data\n",
    "pol0 = 60603.96\n",
    "pol60 = 62382.70\n",
    "pol120 = 67898.63\n",
    "\n",
    "# PA_V3 angle\n",
    "pa_v3 = 294.41272\n",
    "\n",
    "pol_data = polarization_tools.Polarization(pol0, pol60, pol120, 'F606W', 'WFC', pa_v3)\n",
    "pol_data.calc_stokes()\n",
    "pol_data.calc_polarization()\n",
    "print(f'Stokes I = {pol_data.stokes_i}, Stokes Q = {pol_data.stokes_q}, Stokes U = {pol_data.stokes_u}')\n",
    "print(f'Fractional polarization = {pol_data.polarization:0.2%}, Position Angle = {pol_data.angle}')"
   ]
  },
  {
   "cell_type": "markdown",
   "metadata": {},
   "source": [
    "Notice that we did not provide any of the calibration coefficients from the Data Handbook or from the [Retrieve Polarization Calibration Coefficients](#_coeffs) section. This is because the `Polarization` class retrieves the values using the spectral filter and detector information. These calibration values may be overwritten manually by setting the appropriate attributes:"
   ]
  },
  {
   "cell_type": "code",
   "execution_count": 6,
   "metadata": {
    "execution": {
     "iopub.execute_input": "2025-06-16T13:19:26.261652Z",
     "iopub.status.busy": "2025-06-16T13:19:26.261395Z",
     "iopub.status.idle": "2025-06-16T13:19:26.264276Z",
     "shell.execute_reply": "2025-06-16T13:19:26.263854Z"
    }
   },
   "outputs": [
    {
     "name": "stdout",
     "output_type": "stream",
     "text": [
      "c0 = 1.3314, c60 = 1.3607, c120 = 1.3094, cross-leak = 1.000216861312415\n"
     ]
    }
   ],
   "source": [
    "# print the efficiency coefficients cross-polarization leak term used\n",
    "print(f'c0 = {pol_data.c0}, c60 = {pol_data.c60}, c120 = {pol_data.c120}, cross-leak = {pol_data.transmission_correction}')"
   ]
  },
  {
   "cell_type": "markdown",
   "metadata": {},
   "source": [
    "### For more help:\n",
    "\n",
    "More details may be found on the [ACS website](http://www.stsci.edu/hst/instrumentation/acs) and in the [ACS Instrument](https://hst-docs.stsci.edu/display/ACSIHB) and [Data Handbooks](http://www.stsci.edu/files/live/sites/www/files/home/hst/instrumentation/acs/documentation/other-documents/_documents/acs_dhb.pdf).\n",
    "\n",
    "Please visit the [HST Help Desk](http://hsthelp.stsci.edu). Through the help desk portal, you can explore the *HST* Knowledge Base and request additional help from experts.\n",
    "\n",
    "---\n",
    "[Top of Page](#titlePolarization)\n",
    "<img style=\"float: right;\" src=\"https://raw.githubusercontent.com/spacetelescope/notebooks/master/assets/stsci_pri_combo_mark_horizonal_white_bkgd.png\" alt=\"Space Telescope Logo\" width=\"200px\"/> \n",
    "<br></br>\n",
    "<br></br>"
   ]
  },
  {
   "cell_type": "code",
   "execution_count": null,
   "metadata": {},
   "outputs": [],
   "source": []
  }
 ],
 "metadata": {
  "kernelspec": {
   "display_name": "Python 3 (ipykernel)",
   "language": "python",
   "name": "python3"
  },
  "language_info": {
   "codemirror_mode": {
    "name": "ipython",
    "version": 3
   },
   "file_extension": ".py",
   "mimetype": "text/x-python",
   "name": "python",
   "nbconvert_exporter": "python",
   "pygments_lexer": "ipython3",
   "version": "3.12.11"
  }
 },
 "nbformat": 4,
 "nbformat_minor": 4
}
