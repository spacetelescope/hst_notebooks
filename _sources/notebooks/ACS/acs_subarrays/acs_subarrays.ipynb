{
 "cells": [
  {
   "cell_type": "markdown",
   "metadata": {},
   "source": [
    "<a id=\"titleImageReduction\"></a>\n",
    "# ACS Image Reduction for Subarray Data\n",
    "\n",
    "## Introduction\n",
    "\n",
    "***\n",
    "\n",
    "Subarray data requires different considerations than working with full frame images. This notebook will guide you through working with standard post-SM4 subarray data and custom subarray data. \n",
    "\n",
    "After Servicing Mission 4 (SM4; May 2009), the installation of the ASIC during the repair of ACS introduced $1/f$ noise in all ACS images. In the calacs pipeline, only full-frame data have this striping removed. To correct subarray data, the alternative acs_destripe_plus pipeline must be used, which will apply all of calibration steps normally performed by calacs in addition to de-striping for subarray data. De-striping is only possible for 2K subarrays after SM4 until Cycle 24, after which a change to the flight software makes all subarrays eligible for de-striping.<!-- </div> -->\n",
    "\n",
    "### This tutorial will show you how to handle...\n",
    "\n",
    "#### 1. [Post-SM4 Subarray Data](#_postsm4) \n",
    "\n",
    "* Update header keywords.\n",
    "* Clean Subarray images with the option to correct CTE losses. \n",
    "* Update WCS solution.\n",
    "\n",
    "#### 2. [Custom Subarray Data](#_custom)\n",
    "\n",
    "* Use `AstroDrizzle` with ASN files to combine images."
   ]
  },
  {
   "cell_type": "markdown",
   "metadata": {},
   "source": [
    "## Imports\n",
    "\n",
    "***\n",
    "\n",
    "Here we list the Python packages used in this notebook. Links to the documentation for each module is provided for convenience.\n",
    "\n",
    "| Package Name     | module           | docs          | used for    |\n",
    "|------------------|:-----------------|:-------------:|:------------|\n",
    "| `os`             | `system`           | <a class=\"divlink\" href=\"https://docs.python.org/2/library/os.html#os.system\">link</a>|command line input|\n",
    "| `os`             | `environ`          | <a class=\"divlink\" href=\"https://docs.python.org/2/library/os.html#os.environ\">link</a>| setting environments |\n",
    "|`shutil`          | `rmtree`           | <a class=\"divlink\" href=\"https://docs.python.org/2/library/shutil.html#shutil.rmtree\">link</a>| remove directory tree |\n",
    "|`glob`            | `glob`             | <a class=\"divlink\" href=\"https://docs.python.org/2/library/glob.html#glob.glob\">link</a>| search for files based on Unix shell rules |\n",
    "|`astroquery.mast` |`Observations`      | <a class=\"divlink\" href=\"https://astroquery.readthedocs.io/en/latest/mast/mast.html\">link</a>| download data from MAST |\n",
    "|`astropy.io`      | `fits`             | <a class=\"divlink\" href=\"http://docs.astropy.org/en/stable/io/fits/\">link</a>| access and update fits files |\n",
    "|`astropy.table`   | `Table`            | <a class=\"divlink\" href=\"http://docs.astropy.org/en/stable/table/\">link</a>| constructing and editing in a tabular format |\n",
    "|`stwcs`           |`updatewcs`         | <a class=\"divlink\" href=\"https://stwcs.readthedocs.io/en/latest/updatewcs_ui.html\">link</a>| update wcs solution |\n",
    "|`acstools`       |`acs_destripe_plus`| <a class=\"divlink\" href=\"https://acstools.readthedocs.io/en/latest/api/acstools.acs_destripe_plus.destripe_plus.html\">link</a>| destripe acs images and optionally CTE correct |\n",
    "|`acstools`       |`utils_calib`| <a class=\"divlink\" href=\"https://acstools.readthedocs.io/en/stable/utils_calib.html\">link</a>| check for settings in oscntab |"
   ]
  },
  {
   "cell_type": "code",
   "execution_count": 1,
   "metadata": {
    "execution": {
     "iopub.execute_input": "2025-06-16T13:19:58.411336Z",
     "iopub.status.busy": "2025-06-16T13:19:58.410902Z",
     "iopub.status.idle": "2025-06-16T13:20:00.058714Z",
     "shell.execute_reply": "2025-06-16T13:20:00.058201Z"
    }
   },
   "outputs": [
    {
     "name": "stderr",
     "output_type": "stream",
     "text": [
      "/home/runner/micromamba/envs/hstcal/lib/python3.12/site-packages/stwcs/wcsutil/hstwcs.py:481: SyntaxWarning: invalid escape sequence '\\*'\n",
      "  all_world2pix(\\*arg, tolerance=1.0e-4, maxiter=20, adaptive=False,\n",
      "WARNING: matplotlib not found, plotting is disabled [acstools.satdet]\n",
      "WARNING:astroquery:matplotlib not found, plotting is disabled\n"
     ]
    },
    {
     "name": "stdout",
     "output_type": "stream",
     "text": [
      "\n",
      "\n"
     ]
    },
    {
     "name": "stderr",
     "output_type": "stream",
     "text": [
      "/home/runner/micromamba/envs/hstcal/lib/python3.12/site-packages/acstools/utils_findsat_mrt.py:24: UserWarning: skimage not installed. MRT calculation will not work: ModuleNotFoundError(\"No module named 'skimage'\")\n",
      "  warnings.warn(f'skimage not installed. MRT calculation will not work: {repr(e)}')  # noqa\n",
      "/home/runner/micromamba/envs/hstcal/lib/python3.12/site-packages/acstools/utils_findsat_mrt.py:30: UserWarning: scipy not installed. Kernel generation will not work\n",
      "  warnings.warn('scipy not installed. Kernel generation will not work')\n",
      "/home/runner/micromamba/envs/hstcal/lib/python3.12/site-packages/acstools/utils_findsat_mrt.py:37: UserWarning: matplotlib not found, plotting is disabled\n",
      "  warnings.warn('matplotlib not found, plotting is disabled')\n",
      "/home/runner/micromamba/envs/hstcal/lib/python3.12/site-packages/acstools/findsat_mrt.py:117: UserWarning: matplotlib not found, plotting is disabled\n",
      "  warnings.warn('matplotlib not found, plotting is disabled')\n"
     ]
    }
   ],
   "source": [
    "import os\n",
    "import shutil\n",
    "\n",
    "from astroquery.mast import Observations\n",
    "from astropy.io import fits\n",
    "from astropy.table import Table\n",
    "\n",
    "from stwcs import updatewcs\n",
    "from acstools import (acs_destripe_plus, utils_calib)\n",
    "from IPython.display import clear_output"
   ]
  },
  {
   "cell_type": "markdown",
   "metadata": {},
   "source": [
    "Here we set environment variables for later use with the Calibration Reference Data System (CRDS). "
   ]
  },
  {
   "cell_type": "code",
   "execution_count": 2,
   "metadata": {
    "execution": {
     "iopub.execute_input": "2025-06-16T13:20:00.060463Z",
     "iopub.status.busy": "2025-06-16T13:20:00.060210Z",
     "iopub.status.idle": "2025-06-16T13:20:00.063121Z",
     "shell.execute_reply": "2025-06-16T13:20:00.062712Z"
    }
   },
   "outputs": [],
   "source": [
    "os.environ['CRDS_SERVER_URL'] = 'https://hst-crds.stsci.edu'\n",
    "os.environ['CRDS_SERVER'] = 'https://hst-crds.stsci.edu'\n",
    "os.environ['CRDS_PATH'] = './crds_cache'\n",
    "os.environ['jref'] = './crds_cache/references/hst/acs/'"
   ]
  },
  {
   "cell_type": "markdown",
   "metadata": {},
   "source": [
    "## Download the Data\n",
    "\n",
    "***\n",
    "\n",
    "Here we download all of the data required for this notebook. This is an important step! Some of the image processing steps require all relevant files to be in the working directory. We recommend working with a brand new directory for every new set of data.\n",
    "\n",
    "#### [GO Proposal 14511](https://stdatu.stsci.edu/proposal_search.php?mission=hst&id=14511): \"ACS CCD Stability Monitor\"\n",
    "\n",
    "Our data for the first example comes from a routine calibration program of two images using the post-Cycle 24 WFC1A-1K 1024 x 2072 subarray. We will only use the data associated with the observation id `JD5702JWQ`.\n",
    "\n",
    "Using the python package `astroquery`, we can download files from the [MAST](http://archive.stsci.edu) archive.\n",
    "\n",
    "<div class=\"alert alert-danger\">\n",
    "<b>MAY CHANGE:</b> The argument \"mrp_only\" stands for \"minimum recommended products only\". It currently needs to be set to False, although in the future, False is intended to be set as the default and can be left out.\n",
    "</div>"
   ]
  },
  {
   "cell_type": "code",
   "execution_count": 3,
   "metadata": {
    "execution": {
     "iopub.execute_input": "2025-06-16T13:20:00.064674Z",
     "iopub.status.busy": "2025-06-16T13:20:00.064515Z",
     "iopub.status.idle": "2025-06-16T13:20:01.051330Z",
     "shell.execute_reply": "2025-06-16T13:20:01.050816Z"
    }
   },
   "outputs": [
    {
     "name": "stdout",
     "output_type": "stream",
     "text": [
      "Downloading URL https://mast.stsci.edu/api/v0.1/Download/file?uri=mast:HST/product/jd5702jwq_raw.fits to ./mastDownload/HST/jd5702jwq/jd5702jwq_raw.fits ..."
     ]
    },
    {
     "name": "stdout",
     "output_type": "stream",
     "text": [
      " [Done]\n"
     ]
    }
   ],
   "source": [
    "obs_table = Observations.query_criteria(proposal_id=14511, obs_id='JD5702JWQ')\n",
    "\n",
    "dl_table = Observations.download_products(obs_table['obsid'],\n",
    "                                          productSubGroupDescription=['RAW'],\n",
    "                                          mrp_only=False)"
   ]
  },
  {
   "cell_type": "markdown",
   "metadata": {},
   "source": [
    "We'll use the package `os` to put all of these files in our working directory for convenience."
   ]
  },
  {
   "cell_type": "code",
   "execution_count": 4,
   "metadata": {
    "execution": {
     "iopub.execute_input": "2025-06-16T13:20:01.053322Z",
     "iopub.status.busy": "2025-06-16T13:20:01.052925Z",
     "iopub.status.idle": "2025-06-16T13:20:01.055808Z",
     "shell.execute_reply": "2025-06-16T13:20:01.055322Z"
    }
   },
   "outputs": [],
   "source": [
    "for row in dl_table:\n",
    "    oldfname = row['Local Path']\n",
    "    newfname = os.path.basename(oldfname)\n",
    "    os.rename(oldfname, newfname)"
   ]
  },
  {
   "cell_type": "markdown",
   "metadata": {},
   "source": [
    "#### [GO Proposal 10206](https://stdatu.stsci.edu/proposal_search.php?mission=hst&id=10206): \"What drives the outflows in powerful radio galaxies?\"\n",
    "\n",
    "For the second example, we will use a ramp filter observation of the galaxy PLS1345+12 (*HST* proposal 10206). The association name is J92SA0010, and we will only use one image in the association: J92SA0W6Q.\n",
    "\n",
    "Again, we use `astroquery`, to download files from the [MAST](http://archive.stsci.edu) archive. Along with the raw images, we will also need the spt (telemetry) files to reduce our custom subarray data."
   ]
  },
  {
   "cell_type": "code",
   "execution_count": 5,
   "metadata": {
    "execution": {
     "iopub.execute_input": "2025-06-16T13:20:01.057509Z",
     "iopub.status.busy": "2025-06-16T13:20:01.057189Z",
     "iopub.status.idle": "2025-06-16T13:20:04.442765Z",
     "shell.execute_reply": "2025-06-16T13:20:04.442241Z"
    }
   },
   "outputs": [
    {
     "name": "stdout",
     "output_type": "stream",
     "text": [
      "Downloading URL https://mast.stsci.edu/api/v0.1/Download/file?uri=mast:HST/product/j92sa0010_spt.fits to ./mastDownload/HST/j92sa0010/j92sa0010_spt.fits ..."
     ]
    },
    {
     "name": "stdout",
     "output_type": "stream",
     "text": [
      " [Done]\n"
     ]
    },
    {
     "name": "stdout",
     "output_type": "stream",
     "text": [
      "Downloading URL https://mast.stsci.edu/api/v0.1/Download/file?uri=mast:HST/product/j92sa0w6q_raw.fits to ./mastDownload/HST/j92sa0w6q/j92sa0w6q_raw.fits ..."
     ]
    },
    {
     "name": "stdout",
     "output_type": "stream",
     "text": [
      " [Done]\n"
     ]
    },
    {
     "name": "stdout",
     "output_type": "stream",
     "text": [
      "Downloading URL https://mast.stsci.edu/api/v0.1/Download/file?uri=mast:HST/product/j92sa0w6q_spt.fits to ./mastDownload/HST/j92sa0w6q/j92sa0w6q_spt.fits ..."
     ]
    },
    {
     "name": "stdout",
     "output_type": "stream",
     "text": [
      " [Done]\n"
     ]
    },
    {
     "name": "stdout",
     "output_type": "stream",
     "text": [
      "Downloading URL https://mast.stsci.edu/api/v0.1/Download/file?uri=mast:HST/product/j92sa0w7q_raw.fits to ./mastDownload/HST/j92sa0w7q/j92sa0w7q_raw.fits ..."
     ]
    },
    {
     "name": "stdout",
     "output_type": "stream",
     "text": [
      " [Done]\n"
     ]
    },
    {
     "name": "stdout",
     "output_type": "stream",
     "text": [
      "Downloading URL https://mast.stsci.edu/api/v0.1/Download/file?uri=mast:HST/product/j92sa0w7q_spt.fits to ./mastDownload/HST/j92sa0w7q/j92sa0w7q_spt.fits ..."
     ]
    },
    {
     "name": "stdout",
     "output_type": "stream",
     "text": [
      " [Done]\n"
     ]
    },
    {
     "name": "stdout",
     "output_type": "stream",
     "text": [
      "Downloading URL https://mast.stsci.edu/api/v0.1/Download/file?uri=mast:HST/product/j92sa0w8q_raw.fits to ./mastDownload/HST/j92sa0w8q/j92sa0w8q_raw.fits ..."
     ]
    },
    {
     "name": "stdout",
     "output_type": "stream",
     "text": [
      " [Done]\n"
     ]
    },
    {
     "name": "stdout",
     "output_type": "stream",
     "text": [
      "Downloading URL https://mast.stsci.edu/api/v0.1/Download/file?uri=mast:HST/product/j92sa0w8q_spt.fits to ./mastDownload/HST/j92sa0w8q/j92sa0w8q_spt.fits ..."
     ]
    },
    {
     "name": "stdout",
     "output_type": "stream",
     "text": [
      " [Done]\n"
     ]
    },
    {
     "name": "stdout",
     "output_type": "stream",
     "text": [
      "Downloading URL https://mast.stsci.edu/api/v0.1/Download/file?uri=mast:HST/product/j92sa0w9q_raw.fits to ./mastDownload/HST/j92sa0w9q/j92sa0w9q_raw.fits ..."
     ]
    },
    {
     "name": "stdout",
     "output_type": "stream",
     "text": [
      " [Done]\n"
     ]
    },
    {
     "name": "stdout",
     "output_type": "stream",
     "text": [
      "Downloading URL https://mast.stsci.edu/api/v0.1/Download/file?uri=mast:HST/product/j92sa0w9q_spt.fits to ./mastDownload/HST/j92sa0w9q/j92sa0w9q_spt.fits ..."
     ]
    },
    {
     "name": "stdout",
     "output_type": "stream",
     "text": [
      " [Done]\n"
     ]
    }
   ],
   "source": [
    "obs_table = Observations.query_criteria(proposal_id=10206, obs_id='J92SA0010')\n",
    "\n",
    "dl_table = Observations.download_products(obs_table['obsid'],\n",
    "                                          productSubGroupDescription=['RAW', 'SPT'],\n",
    "                                          mrp_only=False)"
   ]
  },
  {
   "cell_type": "markdown",
   "metadata": {},
   "source": [
    "Again, we'll use the package `os` to put all of these files in our working directory for convenience."
   ]
  },
  {
   "cell_type": "code",
   "execution_count": 6,
   "metadata": {
    "execution": {
     "iopub.execute_input": "2025-06-16T13:20:04.444470Z",
     "iopub.status.busy": "2025-06-16T13:20:04.444200Z",
     "iopub.status.idle": "2025-06-16T13:20:04.447254Z",
     "shell.execute_reply": "2025-06-16T13:20:04.446881Z"
    }
   },
   "outputs": [],
   "source": [
    "for row in dl_table:\n",
    "    oldfname = row['Local Path']\n",
    "    newfname = os.path.basename(oldfname)\n",
    "    os.rename(oldfname, newfname)"
   ]
  },
  {
   "cell_type": "markdown",
   "metadata": {},
   "source": [
    "Now that all of our files are in the current working directory, we delete the leftover MAST file structure."
   ]
  },
  {
   "cell_type": "code",
   "execution_count": 7,
   "metadata": {
    "execution": {
     "iopub.execute_input": "2025-06-16T13:20:04.448700Z",
     "iopub.status.busy": "2025-06-16T13:20:04.448550Z",
     "iopub.status.idle": "2025-06-16T13:20:04.451651Z",
     "shell.execute_reply": "2025-06-16T13:20:04.451251Z"
    }
   },
   "outputs": [],
   "source": [
    "shutil.rmtree('mastDownload')"
   ]
  },
  {
   "cell_type": "markdown",
   "metadata": {},
   "source": [
    "### File Information\n",
    "\n",
    "The structure of the fits files from ACS may be different depending on what kind of observation was made. For more information, refer to Section 2.2 of the [ACS Data Handbook](https://hst-docs.stsci.edu/display/ACSIHB).\n",
    "\n",
    "#### Raw Files\n",
    "\n",
    "A standard raw image file from a subarray has the same structure as you'd expect from full frame observation from ACS/WCS.\n",
    "\n",
    "| Ext    | Name             | Type         | Contains                                               |\n",
    "|--------|------------------|--------------|:-------------------------------------------------------|\n",
    "|<b>0</b>| PRIMARY          | (PrimaryHDU) | Meta-data related to the entire file.                  |\n",
    "|<b>1</b>| SCI (Image)      | (ImageHDU)   | Raw image data.                                        |\n",
    "|<b>2</b>| ERR (Error)      | (ImageHDU)   | Error array.                                           |\n",
    "|<b>3</b>| DQ (Data Quality)| (ImageHDU)   | Data quality array.                                    |\n",
    "\n",
    "#### SPT Files\n",
    "\n",
    "SPT files contain telemetry and engineering data from the telescope.\n",
    "\n",
    "| Ext    | Name             | Type         | Contains                                               |\n",
    "|--------|------------------|--------------|:-------------------------------------------------------|\n",
    "|<b>0</b>| PRIMARY          | (PrimaryHDU) | Meta-data related to the entire file.                  |\n",
    "|<b>1</b>| UDL (Image)      | (ImageHDU)   | Raw image data.                                        |"
   ]
  },
  {
   "cell_type": "markdown",
   "metadata": {},
   "source": [
    "You can always use `.info()` on an HDUlist for an overview of the structure"
   ]
  },
  {
   "cell_type": "code",
   "execution_count": 8,
   "metadata": {
    "execution": {
     "iopub.execute_input": "2025-06-16T13:20:04.453251Z",
     "iopub.status.busy": "2025-06-16T13:20:04.452953Z",
     "iopub.status.idle": "2025-06-16T13:20:04.463146Z",
     "shell.execute_reply": "2025-06-16T13:20:04.462783Z"
    }
   },
   "outputs": [
    {
     "name": "stdout",
     "output_type": "stream",
     "text": [
      "Filename: j92sa0w6q_raw.fits\n",
      "No.    Name      Ver    Type      Cards   Dimensions   Format\n",
      "  0  PRIMARY       1 PrimaryHDU     216   ()      \n",
      "  1  SCI           1 ImageHDU        97   (1180, 1200)   int16 (rescales to uint16)   \n",
      "  2  ERR           1 ImageHDU        49   ()      \n",
      "  3  DQ            1 ImageHDU        43   ()      \n"
     ]
    },
    {
     "name": "stdout",
     "output_type": "stream",
     "text": [
      "Filename: j92sa0w6q_spt.fits\n",
      "No.    Name      Ver    Type      Cards   Dimensions   Format\n",
      "  0  PRIMARY       1 PrimaryHDU     341   ()      \n",
      "  1  UDL           1 ImageHDU       305   (965,)   int16   \n"
     ]
    }
   ],
   "source": [
    "with fits.open('j92sa0w6q_raw.fits') as hdulist:\n",
    "    hdulist.info()\n",
    "    \n",
    "with fits.open('j92sa0w6q_spt.fits') as hdulist:\n",
    "    hdulist.info()"
   ]
  },
  {
   "cell_type": "markdown",
   "metadata": {},
   "source": [
    "## De-striping and CTE Correction of Post-SM4 Subarray Observations<a id=\"_postsm4\"></a>\n",
    "\n",
    "***\n",
    "\n",
    "#### Download Calibration Files: Update Header Keywords\n",
    "\n",
    "We can call the [Calibration Reference Data System](https://hst-crds.stsci.edu/) (CRDS) to get the associated calibration files for this image.\n",
    "\n",
    "First we will need to turn on the CTE correction switch in the primary header. Turning on this switch will notify the [CRDS](https://hst-crds.stsci.edu) `bestrefs` tool to add the names of the CTE correction parameters table '`PCTETAB`' and CTE-corrected dark current image '`DRKCFILE`' reference files to the header."
   ]
  },
  {
   "cell_type": "code",
   "execution_count": 9,
   "metadata": {
    "execution": {
     "iopub.execute_input": "2025-06-16T13:20:04.464667Z",
     "iopub.status.busy": "2025-06-16T13:20:04.464390Z",
     "iopub.status.idle": "2025-06-16T13:20:04.510375Z",
     "shell.execute_reply": "2025-06-16T13:20:04.509891Z"
    }
   },
   "outputs": [],
   "source": [
    "sbc_fits = 'jd5702jwq_raw.fits'\n",
    "\n",
    "with fits.open(sbc_fits, mode='update') as hdulist:\n",
    "    hdulist[0].header['PCTECORR'] = 'PERFORM'"
   ]
  },
  {
   "cell_type": "markdown",
   "metadata": {},
   "source": [
    "#### Download Calibration Files\n",
    "\n",
    "The CRDS program can be run from the terminal to download the files specific to your observation. This program is packaged with astroconda. \n",
    "\n",
    "The command line input to download our files for `jd5702jwq_raw.fits` is as follows:\n",
    "\n",
    "    crds bestrefs --files jd5702jwq_raw.fits --sync-references=1 --update-bestrefs\n",
    "    \n",
    "Here, we use the python package `os` to run this command."
   ]
  },
  {
   "cell_type": "code",
   "execution_count": 10,
   "metadata": {
    "execution": {
     "iopub.execute_input": "2025-06-16T13:20:04.512110Z",
     "iopub.status.busy": "2025-06-16T13:20:04.511944Z",
     "iopub.status.idle": "2025-06-16T13:20:52.504601Z",
     "shell.execute_reply": "2025-06-16T13:20:52.504083Z"
    }
   },
   "outputs": [],
   "source": [
    "!crds bestrefs --files {sbc_fits} --sync-references=1 --update-bestrefs\n",
    "clear_output()"
   ]
  },
  {
   "cell_type": "markdown",
   "metadata": {},
   "source": [
    "#### Clean Subarray Images\n",
    "\n",
    "Next we will run the [acs_destripe_plus](https://acstools.readthedocs.io/en/latest/api/acstools.acs_destripe_plus.destripe_plus.html#acstools.acs_destripe_plus.destripe_plus) code on our image. This will execute all of the calibration steps that are set to 'PERFORM' in the primary header of the FITS file. \n",
    "\n",
    "The `acs_destripe_plus` code will produce the FLT file is the calibrated output product from `CALACS`, `jd5702jmq_flt.fits`. With the CTE correction turned on, an FLC file will also be produced, which is the same as the FLT file but with the CTE correction applied."
   ]
  },
  {
   "cell_type": "code",
   "execution_count": 11,
   "metadata": {
    "execution": {
     "iopub.execute_input": "2025-06-16T13:20:52.506525Z",
     "iopub.status.busy": "2025-06-16T13:20:52.506150Z",
     "iopub.status.idle": "2025-06-16T13:26:19.920933Z",
     "shell.execute_reply": "2025-06-16T13:26:19.920456Z"
    }
   },
   "outputs": [
    {
     "name": "stdout",
     "output_type": "stream",
     "text": [
      "git tag: 48adcbb1-dirty\n",
      "git branch: HEAD\n",
      "HEAD @: 48adcbb17475310414e925e7b30031fa0aad52d3\n"
     ]
    },
    {
     "name": "stdout",
     "output_type": "stream",
     "text": [
      "Trying to open jd5702jwq_raw.fits...\n",
      "Read in Primary header from jd5702jwq_raw.fits...\n",
      "\n",
      "\n",
      "CALBEG*** ACSCCD -- Version 10.4.0 (07-May-2024) ***\n",
      "Begin    16-Jun-2025 13:20:52 UTC\n",
      "Input    jd5702jwq_raw.fits\n",
      "Output   jd5702jwq_blv_tmp.fits\n",
      "Trying to open jd5702jwq_raw.fits...\n",
      "Read in Primary header from jd5702jwq_raw.fits...\n",
      "APERTURE WFC1A-2K\n",
      "FILTER1 F606W\n",
      "FILTER2 CLEAR2L\n",
      "DETECTOR WFC\n",
      "\n",
      "\n",
      "CCDTAB   jref$72m1821dj_ccd.fits\n",
      "CCDTAB   PEDIGREE=inflight\n",
      "CCDTAB   DESCRIP =CCD table with updated readnoise values for CCDGAIN=2.-------------\n",
      "CCDTAB   DESCRIP =July 2009\n",
      "\n",
      "\n",
      "DQICORR  PERFORM\n",
      "DQITAB   jref$25g1256nj_bpx.fits\n",
      "DQITAB   PEDIGREE=INFLIGHT 30/03/2002 30/05/2002\n",
      "DQITAB   DESCRIP =FITS reference table for bad pixel locations on ACS WFC\n",
      "DQICORR  COMPLETE\n",
      "\n",
      "\n",
      "BIASCORR PERFORM\n",
      "BIASFILE jref$6641832dj_bia.fits\n",
      "BIASFILE PEDIGREE=INFLIGHT 08/02/2017 08/03/2017\n",
      "BIASFILE DESCRIP =Standard full-frame bias for data taken after Feb 07 2017 11:26:21-\n"
     ]
    },
    {
     "name": "stdout",
     "output_type": "stream",
     "text": [
      "BIASCORR COMPLETE\n",
      "\n",
      "\n",
      "BLEVCORR PERFORM\n",
      "OSCNTAB  jref$17717071j_osc.fits\n",
      "OSCNTAB  PEDIGREE=GROUND\n",
      "OSCNTAB  DESCRIP =New OSCNTAB which includes entries for all subarrays.--------------\n",
      "This subarray data is supported for the bias shift correction.\n",
      "BLEVCORR PERFORM\n",
      "Performing bias-shift correction for subarray data.\n",
      "BLEVCORR PERFORM\n"
     ]
    },
    {
     "name": "stdout",
     "output_type": "stream",
     "text": [
      "Bias shift correcting for bias level in Amp A of 4197.2216 electrons.\n",
      "BLEVCORR COMPLETE\n",
      "Supported Subarray adjusted Darktime: 43.094452 for aperture: WFC1A-2K\n",
      "\n",
      "DARKTIME from SCI header: 43.094452  Offset from CCDTAB: 0.000000  Final DARKTIME: 43.094452\n",
      "\n",
      "Full-well saturation flagging being performed for imset 1.\n",
      "\n",
      "Subarray full-well saturation image flagging step being performed.\n",
      "\n",
      "Subarray full-well saturation image flagging step done.\n",
      "\n",
      "\n",
      "    Uncertainty array initialized,\n",
      "    readnoise =4.35,\n",
      "    gain =2.02,\n",
      "   default bias levels =4242,\n",
      "\n",
      "\n",
      "SINKCORR PERFORM\n",
      "SNKCFILE jref$25e1542jj_snk.fits\n",
      "SNKCFILE PEDIGREE=INFLIGHT 08/02/2017 08/03/2017\n",
      "SNKCFILE DESCRIP =Sink pixel reference file ----------------------------\n",
      "SINKCORR COMPLETE\n"
     ]
    },
    {
     "name": "stderr",
     "output_type": "stream",
     "text": [
      "INFO:acs_destripe:Processing jd5702jwq_blv_tmp.fits\n"
     ]
    },
    {
     "name": "stdout",
     "output_type": "stream",
     "text": [
      "\n",
      "\n",
      "End      16-Jun-2025 13:20:52 UTC\n",
      "\n",
      "\n",
      "*** ACSCCD complete ***\n"
     ]
    },
    {
     "name": "stderr",
     "output_type": "stream",
     "text": [
      "INFO:acs_destripe:clean_streak - Performing image bias de-stripe:\n"
     ]
    },
    {
     "name": "stderr",
     "output_type": "stream",
     "text": [
      "INFO:acs_destripe:clean_streak - Image bias de-stripe: Done.\n"
     ]
    },
    {
     "name": "stderr",
     "output_type": "stream",
     "text": [
      "WARNING:acs_destripe:clean_streak - Maximum number of clipping iterations specified by the user (15) has been reached.\n"
     ]
    },
    {
     "name": "stderr",
     "output_type": "stream",
     "text": [
      "INFO:acs_destripe:perform_correction - =====  Overall statistics for de-stripe corrections:  =====\n"
     ]
    },
    {
     "name": "stderr",
     "output_type": "stream",
     "text": [
      "INFO:acs_destripe:perform_correction - STDDEV of applied de-stripe corrections 0.952.\n"
     ]
    },
    {
     "name": "stderr",
     "output_type": "stream",
     "text": [
      "INFO:acs_destripe:perform_correction - Estimated background: 4.6138.\n"
     ]
    },
    {
     "name": "stderr",
     "output_type": "stream",
     "text": [
      "INFO:acs_destripe:perform_correction - Maximum applied correction: 3.51.\n"
     ]
    },
    {
     "name": "stderr",
     "output_type": "stream",
     "text": [
      "INFO:acs_destripe:perform_correction - Effective number of clipping iterations: 15.\n"
     ]
    },
    {
     "name": "stderr",
     "output_type": "stream",
     "text": [
      "INFO:acs_destripe:perform_correction - Effective number of additional (repeated) cleanings: 0.\n"
     ]
    },
    {
     "name": "stderr",
     "output_type": "stream",
     "text": [
      "INFO:acs_destripe:perform_correction - Total number of corrected rows: 2048.\n"
     ]
    },
    {
     "name": "stderr",
     "output_type": "stream",
     "text": [
      "INFO:acs_destripe:jd5702jwq_blv_tmp_strp.fits created\n"
     ]
    },
    {
     "name": "stdout",
     "output_type": "stream",
     "text": [
      "git tag: 48adcbb1-dirty\n",
      "git branch: HEAD\n",
      "HEAD @: 48adcbb17475310414e925e7b30031fa0aad52d3\n",
      "Setting max threads to 4 out of 4 available\n",
      "Trying to open jd5702jwq_blv_tmp.fits...\n",
      "Read in Primary header from jd5702jwq_blv_tmp.fits...\n",
      "\n",
      "\n",
      "CALBEG*** ACSCTE -- Version 10.4.0 (07-May-2024) ***\n",
      "Begin    16-Jun-2025 13:20:54 UTC\n",
      "Input    jd5702jwq_blv_tmp.fits\n",
      "Output   jd5702jwq_blc_tmp.fits\n",
      "Trying to open jd5702jwq_blv_tmp.fits...\n",
      "Read in Primary header from jd5702jwq_blv_tmp.fits...\n",
      "APERTURE WFC1A-2K\n",
      "FILTER1 F606W\n",
      "FILTER2 CLEAR2L\n",
      "DETECTOR WFC\n",
      "\n",
      "\n",
      "CCDTAB   jref$72m1821dj_ccd.fits\n",
      "CCDTAB   PEDIGREE=inflight\n",
      "CCDTAB   DESCRIP =CCD table with updated readnoise values for CCDGAIN=2.-------------\n",
      "CCDTAB   DESCRIP =July 2009\n",
      "\n",
      "\n",
      "PCTECORR PERFORM\n",
      "PCTEFILE jref$8ch1518tj_cte.fits\n",
      "PCTEFILE PEDIGREE=INFLIGHT 01/03/2002 22/07/2010\n",
      "PCTEFILE DESCRIP =Parameters needed for gen3 pixel-based CTE correction -----------\n",
      "Trying to open jref$8ch1518tj_cte.fits...\n",
      "Read in Primary header from jref$8ch1518tj_cte.fits...\n",
      "(pctecorr) Parallel and Serial PCTETAB file auto-detected.\n",
      "(pctecorr) Reading CTE parameters from PCTETAB file: 'jref$8ch1518tj_cte.fits'...\n",
      "(pctecorr) Collecting data for Correction Type: parallel.\n",
      "\n",
      "Trying to open jref$8ch1518tj_cte.fits...\n",
      "Read in Primary header from jref$8ch1518tj_cte.fits...\n",
      "\n",
      "CTE_NAME: Par/Serial PixelCTE 2023\n",
      "CTE_VER: 3.0\n",
      "PCTERNOI: 4.300000\n",
      "PCTENSMD: 0\n",
      "PCTETRSH: -10\n",
      "FIXROCR: 1\n",
      "Opening jref$8ch1518tj_cte.fits[1] to read QPROF table.\n",
      "CTEDATE0: 52334.9\n",
      "CTEDATE1: 57710.4\n",
      "PCTETLEN: 60\n",
      "PCTENFOR: 5\n",
      "PCTENPAR: 7\n",
      "Opening jref$8ch1518tj_cte.fits[2] to read SCLBYCOL table.\n",
      "Reading in image from RPROF EXTVER 1.\n",
      "Reading in image from CPROF EXTVER 1.\n",
      "Begin attempt to read CTE keywords from input image header. Missing CTE keywords\n",
      "from input image header are not a fatal error as the values from PCTETAB will be used.\n",
      "ERROR:    Keyword = `PCTENSMD'.\n",
      "ERROR:    Keyword = `PCTETLEN'.\n",
      "ERROR:    Keyword = `PCTERNOI'.\n",
      "ERROR:    Keyword = `PCTENFOR'.\n",
      "ERROR:    Keyword = `PCTENPAR'.\n",
      "ERROR:    Keyword = `FIXROCR'.\n",
      "End attempt to read CTE keywords from input image header.\n",
      "(pctecorr) The parallel CTE processing parameters have been read.\n",
      "Warning    (pctecorr) IGNORING read noise level PCTERNOI from PCTETAB: 4.300000. Using amp dependent values from CCDTAB instead\n",
      "(pctecorr) Readout simulation forward modeling iterations PCTENFOR: 5\n",
      "(pctecorr) Number of iterations used in the parallel transfer PCTENPAR: 7\n",
      "(pctecorr) CTE_FRAC: 1.020340\n",
      "\n",
      "(pctecorr) NOTE: No serial CTE correction is done for any subarray data.\n",
      "\n",
      "(pctecorr) Using multiprocessing provided by OpenMP inside CTE routine.\n",
      "(pctecorr) Performing CTE correction type parallel for amp A.\n",
      "(pctecorr) Read noise level from CCDTAB: 4.350000.\n",
      "(pctecorr) Calculating smooth readnoise image...\n"
     ]
    },
    {
     "name": "stdout",
     "output_type": "stream",
     "text": [
      "(pctecorr) Time taken to smooth image: 2.09(s) with 4 threads\n",
      "(pctecorr) ...complete.\n",
      "(pctecorr) Creating charge trap image...\n",
      "(pctecorr) Time taken to populate pixel trap map image: 0.01(s) with 4 threads\n",
      "(pctecorr) ...complete.\n",
      "(pctecorr) Running correction algorithm...\n"
     ]
    },
    {
     "name": "stdout",
     "output_type": "stream",
     "text": [
      "(pctecorr) ...complete.\n",
      "(pctecorr) Total count difference (corrected-raw) incurred from correction: 530760.750000 (0.575928%)\n",
      "(pctecorr) CTE run time for current chip: 323.44(s) with 4 procs/threads\n",
      "\n",
      "PCTECORR COMPLETE\n",
      "\n",
      "\n",
      "End      16-Jun-2025 13:26:19 UTC\n",
      "\n",
      "\n",
      "*** ACSCTE complete ***\n",
      "git tag: 48adcbb1-dirty\n",
      "git branch: HEAD\n",
      "HEAD @: 48adcbb17475310414e925e7b30031fa0aad52d3\n",
      "Trying to open jd5702jwq_blv_tmp.fits...\n",
      "Read in Primary header from jd5702jwq_blv_tmp.fits...\n",
      "\n",
      "\n",
      "CALBEG*** ACS2D -- Version 10.4.0 (07-May-2024) ***\n",
      "Begin    16-Jun-2025 13:26:19 UTC\n",
      "Input    jd5702jwq_blv_tmp.fits\n",
      "Output   jd5702jwq_flt.fits\n",
      "Trying to open jd5702jwq_blv_tmp.fits...\n",
      "Read in Primary header from jd5702jwq_blv_tmp.fits...\n",
      "APERTURE WFC1A-2K\n",
      "FILTER1 F606W\n",
      "FILTER2 CLEAR2L\n",
      "DETECTOR WFC\n",
      "\n",
      "\n",
      "Imset 1  Begin 13:26:19 UTC\n",
      "\n",
      "\n",
      "CCDTAB   jref$72m1821dj_ccd.fits\n",
      "CCDTAB   PEDIGREE=inflight\n",
      "CCDTAB   DESCRIP =CCD table with updated readnoise values for CCDGAIN=2.-------------\n",
      "CCDTAB   DESCRIP =July 2009\n",
      "\n",
      "\n",
      "DQICORR  OMIT\n",
      "\n",
      "\n",
      "DARKCORR PERFORM\n",
      "DARKFILE jref$78f1759ej_drk.fits\n",
      "DARKFILE PEDIGREE=INFLIGHT 08/02/2017 08/03/2017\n",
      "DARKFILE DESCRIP =Standard full-frame dark for data taken after Feb 07 2017 11:26:21-\n",
      "Darktime from header 43.094452\n",
      "Mean of dark image (MEANDARK) = 0.503474\n",
      "DARKCORR COMPLETE\n",
      "\n",
      "\n",
      "FLSHCORR OMIT\n",
      "\n",
      "\n",
      "FLATCORR PERFORM\n",
      "PFLTFILE jref$qb12257sj_pfl.fits\n",
      "PFLTFILE PEDIGREE=INFLIGHT 18/04/2002 - 04/07/2006\n",
      "PFLTFILE DESCRIP =F606W step +1 flat w/ mote shifted to -1 step\n"
     ]
    },
    {
     "name": "stdout",
     "output_type": "stream",
     "text": [
      "FLATCORR COMPLETE\n",
      "\n",
      "\n",
      "SHADCORR OMIT\n",
      "\n",
      "\n",
      "PHOTCORR PERFORM\n",
      "Found parameterized variable 1.\n",
      "NUMPAR=1, N=1\n",
      "Allocated 1 parnames\n",
      "Adding parameter mjd#57819.7836 as parnames[0]\n",
      "==> Value of PHOTFLAM = 7.8819263e-20\n",
      "==> Value of PHOTPLAM = 5921.892\n",
      "==> Value of PHOTBW = 672.48329\n",
      "IMPHTTAB jref$4af1559ij_imp.fits\n",
      "IMPHTTAB PEDIGREE=INFLIGHT 18/04/2000 29/09/2020\n",
      "IMPHTTAB DESCRIP =photometry keywords reference file---------------------------------\n",
      "PHOTCORR COMPLETE\n",
      "Imset 1  End 13:26:19 UTC\n",
      "\n",
      "\n",
      "End      16-Jun-2025 13:26:19 UTC\n",
      "\n",
      "\n",
      "*** ACS2D complete ***\n",
      "git tag: 48adcbb1-dirty\n",
      "git branch: HEAD\n",
      "HEAD @: 48adcbb17475310414e925e7b30031fa0aad52d3\n",
      "Trying to open jd5702jwq_blc_tmp.fits...\n",
      "Read in Primary header from jd5702jwq_blc_tmp.fits...\n",
      "\n",
      "\n",
      "CALBEG*** ACS2D -- Version 10.4.0 (07-May-2024) ***\n",
      "Begin    16-Jun-2025 13:26:19 UTC\n",
      "Input    jd5702jwq_blc_tmp.fits\n",
      "Output   jd5702jwq_flc.fits\n",
      "Trying to open jd5702jwq_blc_tmp.fits...\n",
      "Read in Primary header from jd5702jwq_blc_tmp.fits...\n",
      "APERTURE WFC1A-2K\n",
      "FILTER1 F606W\n",
      "FILTER2 CLEAR2L\n",
      "DETECTOR WFC\n",
      "\n",
      "\n",
      "Imset 1  Begin 13:26:19 UTC\n",
      "\n",
      "\n",
      "CCDTAB   jref$72m1821dj_ccd.fits\n",
      "CCDTAB   PEDIGREE=inflight\n",
      "CCDTAB   DESCRIP =CCD table with updated readnoise values for CCDGAIN=2.-------------\n",
      "CCDTAB   DESCRIP =July 2009\n",
      "\n",
      "\n",
      "DQICORR  OMIT\n",
      "\n",
      "\n",
      "DARKCORR PERFORM\n",
      "DARKFILE jref$9362018jj_dkc.fits\n",
      "DARKFILE PEDIGREE=INFLIGHT 08/02/2017 08/03/2017\n",
      "DARKFILE DESCRIP =CTE corrected dark for WFC data taken after Feb 07 2017 11:26:21---\n",
      "Darktime from header 43.094452\n",
      "Mean of dark image (MEANDARK) = 0.404206\n",
      "DARKCORR COMPLETE\n",
      "\n",
      "\n",
      "FLSHCORR OMIT\n",
      "\n",
      "\n",
      "FLATCORR PERFORM\n",
      "PFLTFILE jref$qb12257sj_pfl.fits\n",
      "PFLTFILE PEDIGREE=INFLIGHT 18/04/2002 - 04/07/2006\n",
      "PFLTFILE DESCRIP =F606W step +1 flat w/ mote shifted to -1 step\n"
     ]
    },
    {
     "name": "stderr",
     "output_type": "stream",
     "text": [
      "INFO:acs_destripe_plus:Done.\n",
      "FLT: jd5702jwq_flt.fits\n",
      "FLC: jd5702jwq_flc.fits\n",
      "\n"
     ]
    },
    {
     "name": "stdout",
     "output_type": "stream",
     "text": [
      "FLATCORR COMPLETE\n",
      "\n",
      "\n",
      "SHADCORR OMIT\n",
      "\n",
      "\n",
      "PHOTCORR PERFORM\n",
      "Found parameterized variable 1.\n",
      "NUMPAR=1, N=1\n",
      "Allocated 1 parnames\n",
      "Adding parameter mjd#57819.7836 as parnames[0]\n",
      "==> Value of PHOTFLAM = 7.8819263e-20\n",
      "==> Value of PHOTPLAM = 5921.892\n",
      "==> Value of PHOTBW = 672.48329\n",
      "IMPHTTAB jref$4af1559ij_imp.fits\n",
      "IMPHTTAB PEDIGREE=INFLIGHT 18/04/2000 29/09/2020\n",
      "IMPHTTAB DESCRIP =photometry keywords reference file---------------------------------\n",
      "PHOTCORR COMPLETE\n",
      "Imset 1  End 13:26:19 UTC\n",
      "\n",
      "\n",
      "End      16-Jun-2025 13:26:19 UTC\n",
      "\n",
      "\n",
      "*** ACS2D complete ***\n"
     ]
    }
   ],
   "source": [
    "acs_destripe_plus.destripe_plus(sbc_fits, cte_correct=True)"
   ]
  },
  {
   "cell_type": "markdown",
   "metadata": {},
   "source": [
    "#### Correct the WCS\n",
    "\n",
    "The subarray products produced by this process do not have the proper WCS information in the header. The WCS is normally updated by the pipeline via an additional call to AstroDrizzle. Here, we can manually update the WCS of our FLC product using `stwcs.updatewcs`."
   ]
  },
  {
   "cell_type": "code",
   "execution_count": 12,
   "metadata": {
    "execution": {
     "iopub.execute_input": "2025-06-16T13:26:19.922632Z",
     "iopub.status.busy": "2025-06-16T13:26:19.922439Z",
     "iopub.status.idle": "2025-06-16T13:26:20.106978Z",
     "shell.execute_reply": "2025-06-16T13:26:20.106512Z"
    }
   },
   "outputs": [
    {
     "name": "stdout",
     "output_type": "stream",
     "text": [
      "Using 2015-calibrated VAFACTOR-corrected TDD correction...\n",
      "- IDCTAB: Distortion model from row 443 for chip 1 : F606W\n",
      "Using 2015-calibrated VAFACTOR-corrected TDD correction...\n",
      "- IDCTAB: Distortion model from row 443 for chip 1 : F606W\n"
     ]
    },
    {
     "data": {
      "text/plain": [
       "['jd5702jwq_flc.fits']"
      ]
     },
     "execution_count": 12,
     "metadata": {},
     "output_type": "execute_result"
    }
   ],
   "source": [
    "updatewcs.updatewcs('jd5702jwq_flc.fits', use_db=False)"
   ]
  },
  {
   "cell_type": "markdown",
   "metadata": {},
   "source": [
    "## Reducing Custom Subarray Data<a id=\"_custom\"></a>\n",
    "\n",
    "***\n",
    "\n",
    "#### Download Calibration Files\n",
    "\n",
    "Like before, we can use CRDS to get the associated calibration files for this image."
   ]
  },
  {
   "cell_type": "code",
   "execution_count": 13,
   "metadata": {
    "execution": {
     "iopub.execute_input": "2025-06-16T13:26:20.108711Z",
     "iopub.status.busy": "2025-06-16T13:26:20.108393Z",
     "iopub.status.idle": "2025-06-16T13:26:37.843465Z",
     "shell.execute_reply": "2025-06-16T13:26:37.842863Z"
    }
   },
   "outputs": [],
   "source": [
    "sbc_fits = 'j92sa0w6q_raw.fits'\n",
    "!crds bestrefs --files {sbc_fits} --sync-references=1 --update-bestrefs\n",
    "clear_output()"
   ]
  },
  {
   "cell_type": "markdown",
   "metadata": {},
   "source": [
    "#### Access OSCN Table\n",
    "\n",
    "The name in the header is of the format '<font face='courier'>ref\\\\$oscn_name.fits</font>', therefore we need to split the string on the '$' character."
   ]
  },
  {
   "cell_type": "code",
   "execution_count": 14,
   "metadata": {
    "execution": {
     "iopub.execute_input": "2025-06-16T13:26:37.845457Z",
     "iopub.status.busy": "2025-06-16T13:26:37.845267Z",
     "iopub.status.idle": "2025-06-16T13:26:37.852879Z",
     "shell.execute_reply": "2025-06-16T13:26:37.852516Z"
    }
   },
   "outputs": [],
   "source": [
    "prihdr = fits.getheader(sbc_fits)\n",
    "scihdr = fits.getheader(sbc_fits, ext=1)"
   ]
  },
  {
   "cell_type": "markdown",
   "metadata": {},
   "source": [
    "We also want to retrieve the `OSCNTAB` reference file from the JREF directory. We can get the name of the file from the primary header of the image."
   ]
  },
  {
   "cell_type": "code",
   "execution_count": 15,
   "metadata": {
    "execution": {
     "iopub.execute_input": "2025-06-16T13:26:37.854507Z",
     "iopub.status.busy": "2025-06-16T13:26:37.854110Z",
     "iopub.status.idle": "2025-06-16T13:26:37.857224Z",
     "shell.execute_reply": "2025-06-16T13:26:37.856754Z"
    }
   },
   "outputs": [
    {
     "name": "stdout",
     "output_type": "stream",
     "text": [
      "./crds_cache/references/hst/acs/17717071j_osc.fits\n"
     ]
    }
   ],
   "source": [
    "oscn_name = prihdr['OSCNTAB'].split('$')[-1]\n",
    "path_to_oscn = os.path.join(os.environ['jref'], oscn_name)\n",
    "\n",
    "print(path_to_oscn)"
   ]
  },
  {
   "cell_type": "markdown",
   "metadata": {},
   "source": [
    "The `utils_calib.check_oscntab` from [acstools](http://acstools.readthedocs.io) checks the `OSCNTAB` file if any entry matches the combination of readout amplifier, image size, and number of bias prescan columns for a given subarray observation. We will need to use several header keyword values to test if a subarray is in `OSCNTAB`."
   ]
  },
  {
   "cell_type": "code",
   "execution_count": 16,
   "metadata": {
    "execution": {
     "iopub.execute_input": "2025-06-16T13:26:37.858646Z",
     "iopub.status.busy": "2025-06-16T13:26:37.858502Z",
     "iopub.status.idle": "2025-06-16T13:26:37.921234Z",
     "shell.execute_reply": "2025-06-16T13:26:37.920728Z"
    }
   },
   "outputs": [],
   "source": [
    "oscnrec = fits.getdata(path_to_oscn)\n",
    "oscnhdr = fits.getheader(path_to_oscn)\n",
    "\n",
    "oscntable = Table(oscnrec)"
   ]
  },
  {
   "cell_type": "markdown",
   "metadata": {},
   "source": [
    "The raw image has 1180 columns and 1200 rows, which does not correspond to any entry in the `OSCNTAB` file, but a visual examination of the image shows that it contains bias prescan columns."
   ]
  },
  {
   "cell_type": "markdown",
   "metadata": {},
   "source": [
    "#### Get the Bias Prescan Information\n",
    "\n",
    "From the science image PRI and SCI extension headers that we opened earlier, we can get the information about the readout amplifier and dimensions of the image."
   ]
  },
  {
   "cell_type": "code",
   "execution_count": 17,
   "metadata": {
    "execution": {
     "iopub.execute_input": "2025-06-16T13:26:37.923132Z",
     "iopub.status.busy": "2025-06-16T13:26:37.922969Z",
     "iopub.status.idle": "2025-06-16T13:26:37.926060Z",
     "shell.execute_reply": "2025-06-16T13:26:37.925649Z"
    }
   },
   "outputs": [
    {
     "name": "stdout",
     "output_type": "stream",
     "text": [
      "1180 1200\n"
     ]
    }
   ],
   "source": [
    "amp = prihdr['CCDAMP']\n",
    "xsize = scihdr['NAXIS1']\n",
    "ysize = scihdr['NAXIS2']\n",
    "\n",
    "print(xsize, ysize)"
   ]
  },
  {
   "cell_type": "markdown",
   "metadata": {},
   "source": [
    "To get information on the number of prescan columns (if any), we need to access the SPT first extension header."
   ]
  },
  {
   "cell_type": "code",
   "execution_count": 18,
   "metadata": {
    "execution": {
     "iopub.execute_input": "2025-06-16T13:26:37.927662Z",
     "iopub.status.busy": "2025-06-16T13:26:37.927391Z",
     "iopub.status.idle": "2025-06-16T13:26:37.933245Z",
     "shell.execute_reply": "2025-06-16T13:26:37.932779Z"
    }
   },
   "outputs": [],
   "source": [
    "spthdr = fits.getheader('j92sa0w6q_spt.fits', ext=1)\n",
    "\n",
    "leading = spthdr['OVERSCNA']\n",
    "trailing = spthdr['OVERSCNB']"
   ]
  },
  {
   "cell_type": "markdown",
   "metadata": {},
   "source": [
    "Finally, we check if this subarray definition is in the OSCNTAB file. The code returns a boolean result, which we have saved as the variable supported, to describe this."
   ]
  },
  {
   "cell_type": "code",
   "execution_count": 19,
   "metadata": {
    "execution": {
     "iopub.execute_input": "2025-06-16T13:26:37.934807Z",
     "iopub.status.busy": "2025-06-16T13:26:37.934658Z",
     "iopub.status.idle": "2025-06-16T13:26:37.965997Z",
     "shell.execute_reply": "2025-06-16T13:26:37.965588Z"
    }
   },
   "outputs": [
    {
     "name": "stderr",
     "output_type": "stream",
     "text": [
      "WARNING: UnitsWarning: 'pixels' did not parse as fits unit: At col 0, Unit 'pixels' not supported by the FITS standard. Did you mean pixel? If this is meant to be a custom unit, define it with 'u.def_unit'. To have it recognized inside a file reader or other code, enable it with 'u.add_enabled_units'. For details, see https://docs.astropy.org/en/latest/units/combining_and_defining.html [astropy.units.core]\n",
      "WARNING:astroquery:UnitsWarning: 'pixels' did not parse as fits unit: At col 0, Unit 'pixels' not supported by the FITS standard. Did you mean pixel? If this is meant to be a custom unit, define it with 'u.def_unit'. To have it recognized inside a file reader or other code, enable it with 'u.add_enabled_units'. For details, see https://docs.astropy.org/en/latest/units/combining_and_defining.html\n"
     ]
    },
    {
     "name": "stdout",
     "output_type": "stream",
     "text": [
      "False\n"
     ]
    }
   ],
   "source": [
    "supported = utils_calib.check_oscntab(path_to_oscn, amp, xsize, ysize, leading, trailing)\n",
    "print(supported)"
   ]
  },
  {
   "cell_type": "markdown",
   "metadata": {},
   "source": [
    "#### Update OSCNTAB\n",
    "\n",
    "Now that we have confirmed that the `OSCNTAB` file does not contain information about our subarray data, we need to add a new row to the table with our definitions. Let's first view the first few rows of `OSCNTAB` to see what our new entry needs to look like."
   ]
  },
  {
   "cell_type": "code",
   "execution_count": 20,
   "metadata": {
    "execution": {
     "iopub.execute_input": "2025-06-16T13:26:37.967514Z",
     "iopub.status.busy": "2025-06-16T13:26:37.967320Z",
     "iopub.status.idle": "2025-06-16T13:26:37.971573Z",
     "shell.execute_reply": "2025-06-16T13:26:37.971141Z"
    }
   },
   "outputs": [
    {
     "name": "stdout",
     "output_type": "stream",
     "text": [
      "CCDAMP CCDCHIP BINX BINY  NX  ... VX1 VX2 VY1 VY2\n",
      "------ ------- ---- ---- ---- ... --- --- --- ---\n",
      "     C       2    1    1 4144 ...   0   0   0   0\n",
      "     C       2    1    1 2072 ...   0   0   0   0\n",
      "     C       2    1    1 2072 ...   0   0   0   0\n",
      "     C       2    1    1 2072 ...   0   0   0   0\n",
      "     C       2    1    1 2070 ...   0   0   0   0\n",
      "  C          2    1    1  534 ...   0   0   0   0\n",
      "  D          2    1    1 4144 ...   0   0   0   0\n",
      "  D          2    1    1 2072 ...   0   0   0   0\n",
      "  D          2    1    1 2072 ...   0   0   0   0\n",
      "  D          2    1    1 2072 ...   0   0   0   0\n",
      "   ...     ...  ...  ...  ... ... ... ... ... ...\n",
      "  B          1    1    1 2072 ...   0   0   0   0\n",
      "  B          1    1    1 2072 ...   0   0   0   0\n",
      "  B          1    1    1 2070 ...   0   0   0   0\n",
      "  B          1    1    1 1046 ...   0   0   0   0\n",
      "  B          1    1    1  534 ...   0   0   0   0\n",
      "  AC         1    1    1 4144 ...   0   0   0   0\n",
      "  AD         1    1    1 4144 ...   0   0   0   0\n",
      "  BC         1    1    1 4144 ...   0   0   0   0\n",
      "  BD         1    1    1 4144 ...   0   0   0   0\n",
      "  ABCD       1    1    1 4144 ...   0   0   0   0\n",
      "Length = 35 rows\n"
     ]
    }
   ],
   "source": [
    "print(oscntable)"
   ]
  },
  {
   "cell_type": "markdown",
   "metadata": {},
   "source": [
    "We can also choose to just view all of the columns names"
   ]
  },
  {
   "cell_type": "code",
   "execution_count": 21,
   "metadata": {
    "execution": {
     "iopub.execute_input": "2025-06-16T13:26:37.973085Z",
     "iopub.status.busy": "2025-06-16T13:26:37.972926Z",
     "iopub.status.idle": "2025-06-16T13:26:37.975580Z",
     "shell.execute_reply": "2025-06-16T13:26:37.975086Z"
    }
   },
   "outputs": [
    {
     "name": "stdout",
     "output_type": "stream",
     "text": [
      "['CCDAMP', 'CCDCHIP', 'BINX', 'BINY', 'NX', 'NY', 'TRIMX1', 'TRIMX2', 'TRIMY1', 'TRIMY2', 'BIASSECTA1', 'BIASSECTA2', 'BIASSECTB1', 'BIASSECTB2', 'DESCRIPTION', 'VX1', 'VX2', 'VY1', 'VY2']\n"
     ]
    }
   ],
   "source": [
    "print(oscntable.colnames)"
   ]
  },
  {
   "cell_type": "markdown",
   "metadata": {},
   "source": [
    "Several column names are obvious, but here we define the less obvious ones. \n",
    "\n",
    "| Column Name   | Description |\n",
    "| --- | --- |\n",
    "| BINX, BINY    | Binning in X and Y. ACS data are never binned, so these will always be 1. |\n",
    "| TRIMXn        | Number of prescan columns on the left (1) and right (2) sides of the image to remove. |\n",
    "| TRIMYn        | Number of virtual rows on the bottom (1) and top (2) sides of the image to remove. For subarray data, these are always 0. |\n",
    "| BIASSECTAn    | Start and end columns to use for the bias level estimation on the left (A) side of the image. |\n",
    "| BIASSECTBn    | Start and end columns to use for the bias level estimation on the right (B) side of the image. |\n",
    "| VXn, VYn      | The coordinates of the bottom-left (VX1, VY1) and top-right (VX2, VY2) corners of the virtual overscan region |"
   ]
  },
  {
   "cell_type": "markdown",
   "metadata": {},
   "source": [
    "The following line sets `chip` to 1 if the subarray is on WFC1, and 2 if the subarray is on WFC2."
   ]
  },
  {
   "cell_type": "code",
   "execution_count": 22,
   "metadata": {
    "execution": {
     "iopub.execute_input": "2025-06-16T13:26:37.977166Z",
     "iopub.status.busy": "2025-06-16T13:26:37.977008Z",
     "iopub.status.idle": "2025-06-16T13:26:37.979427Z",
     "shell.execute_reply": "2025-06-16T13:26:37.979032Z"
    }
   },
   "outputs": [],
   "source": [
    "chip = 1 if amp in ['A', 'B'] else 2"
   ]
  },
  {
   "cell_type": "markdown",
   "metadata": {},
   "source": [
    "For the BIASSECTAn and BIASSECTBn values, we want to use the six columns of prescan nearest the exposed area of the CCD. "
   ]
  },
  {
   "cell_type": "code",
   "execution_count": 23,
   "metadata": {
    "execution": {
     "iopub.execute_input": "2025-06-16T13:26:37.980929Z",
     "iopub.status.busy": "2025-06-16T13:26:37.980769Z",
     "iopub.status.idle": "2025-06-16T13:26:37.983511Z",
     "shell.execute_reply": "2025-06-16T13:26:37.983126Z"
    }
   },
   "outputs": [],
   "source": [
    "bias_a = [0, 0]\n",
    "if leading > 0:\n",
    "    bias_a[1] = leading\n",
    "    bias_a[0] = leading-5 if leading > 5 else 0\n",
    "        \n",
    "bias_b = [0, 0]\n",
    "if trailing > 0:\n",
    "    bias_b[0] = xsize+1\n",
    "    bias_b[1] = xsize+5 if trailing > 5 else xsize+trailing"
   ]
  },
  {
   "cell_type": "markdown",
   "metadata": {},
   "source": [
    "Now we can define a new row for our settings. For subarray data, as there is no virtual overscan, the VXn and VYn values will always be 0. Here we use a dictionary to explicitly define the new values."
   ]
  },
  {
   "cell_type": "code",
   "execution_count": 24,
   "metadata": {
    "execution": {
     "iopub.execute_input": "2025-06-16T13:26:37.985022Z",
     "iopub.status.busy": "2025-06-16T13:26:37.984767Z",
     "iopub.status.idle": "2025-06-16T13:26:37.987579Z",
     "shell.execute_reply": "2025-06-16T13:26:37.987195Z"
    }
   },
   "outputs": [],
   "source": [
    "new_row = {'CCDAMP': amp,\n",
    "           'CCDCHIP': chip, \n",
    "           'BINX': 1, \n",
    "           'BINY': 1, \n",
    "           'NX': xsize,\n",
    "           'NY': ysize, \n",
    "           'TRIMX1': leading, \n",
    "           'TRIMX2': trailing, \n",
    "           'TRIMY1': 0, \n",
    "           'TRIMY2': 0, \n",
    "           'BIASSECTA1': bias_a[0], \n",
    "           'BIASSECTA2': bias_a[1], \n",
    "           'BIASSECTB1': bias_b[0], \n",
    "           'BIASSECTB2': bias_b[1], \n",
    "           'DESCRIPTION': 'Custom OSCN', \n",
    "           'VX1': 0, \n",
    "           'VX2': 0, \n",
    "           'VY1': 0, \n",
    "           'VY2': 0}"
   ]
  },
  {
   "cell_type": "markdown",
   "metadata": {},
   "source": [
    "Now we need to open the custom `OSCTNAB` file and update the table to have our new definition. We will also need to update the raw FITS file to point to the new custom `OSCNTAB` reference file."
   ]
  },
  {
   "cell_type": "code",
   "execution_count": 25,
   "metadata": {
    "execution": {
     "iopub.execute_input": "2025-06-16T13:26:37.989239Z",
     "iopub.status.busy": "2025-06-16T13:26:37.988881Z",
     "iopub.status.idle": "2025-06-16T13:26:37.994089Z",
     "shell.execute_reply": "2025-06-16T13:26:37.993627Z"
    }
   },
   "outputs": [
    {
     "name": "stdout",
     "output_type": "stream",
     "text": [
      "CCDAMP CCDCHIP BINX BINY  NX  ... VX1 VX2 VY1 VY2\n",
      "------ ------- ---- ---- ---- ... --- --- --- ---\n",
      "     C       2    1    1 4144 ...   0   0   0   0\n",
      "     C       2    1    1 2072 ...   0   0   0   0\n",
      "     C       2    1    1 2072 ...   0   0   0   0\n",
      "     C       2    1    1 2072 ...   0   0   0   0\n",
      "     C       2    1    1 2070 ...   0   0   0   0\n",
      "  C          2    1    1  534 ...   0   0   0   0\n",
      "  D          2    1    1 4144 ...   0   0   0   0\n",
      "  D          2    1    1 2072 ...   0   0   0   0\n",
      "  D          2    1    1 2072 ...   0   0   0   0\n",
      "  D          2    1    1 2072 ...   0   0   0   0\n",
      "   ...     ...  ...  ...  ... ... ... ... ... ...\n",
      "  B          1    1    1 2072 ...   0   0   0   0\n",
      "  B          1    1    1 2070 ...   0   0   0   0\n",
      "  B          1    1    1 1046 ...   0   0   0   0\n",
      "  B          1    1    1  534 ...   0   0   0   0\n",
      "  AC         1    1    1 4144 ...   0   0   0   0\n",
      "  AD         1    1    1 4144 ...   0   0   0   0\n",
      "  BC         1    1    1 4144 ...   0   0   0   0\n",
      "  BD         1    1    1 4144 ...   0   0   0   0\n",
      "  ABCD       1    1    1 4144 ...   0   0   0   0\n",
      "     A       1    1    1 1180 ...   0   0   0   0\n",
      "Length = 36 rows\n"
     ]
    }
   ],
   "source": [
    "oscntable.add_row(new_row)\n",
    "print(oscntable)"
   ]
  },
  {
   "cell_type": "markdown",
   "metadata": {},
   "source": [
    "Now we have an idential FITS rec table, but with an additional row for our new information."
   ]
  },
  {
   "cell_type": "code",
   "execution_count": 26,
   "metadata": {
    "execution": {
     "iopub.execute_input": "2025-06-16T13:26:37.995866Z",
     "iopub.status.busy": "2025-06-16T13:26:37.995453Z",
     "iopub.status.idle": "2025-06-16T13:26:38.002907Z",
     "shell.execute_reply": "2025-06-16T13:26:38.002422Z"
    }
   },
   "outputs": [
    {
     "name": "stdout",
     "output_type": "stream",
     "text": [
      "CCDAMP CCDCHIP BINX BINY  NX  ... VX1 VX2 VY1 VY2\n",
      "------ ------- ---- ---- ---- ... --- --- --- ---\n",
      "     C       2    1    1 4144 ...   0   0   0   0\n",
      "     C       2    1    1 2072 ...   0   0   0   0\n",
      "     C       2    1    1 2072 ...   0   0   0   0\n",
      "     C       2    1    1 2072 ...   0   0   0   0\n",
      "     C       2    1    1 2070 ...   0   0   0   0\n",
      "  C          2    1    1  534 ...   0   0   0   0\n",
      "  D          2    1    1 4144 ...   0   0   0   0\n",
      "  D          2    1    1 2072 ...   0   0   0   0\n",
      "  D          2    1    1 2072 ...   0   0   0   0\n",
      "  D          2    1    1 2072 ...   0   0   0   0\n",
      "   ...     ...  ...  ...  ... ... ... ... ... ...\n",
      "  B          1    1    1 2072 ...   0   0   0   0\n",
      "  B          1    1    1 2070 ...   0   0   0   0\n",
      "  B          1    1    1 1046 ...   0   0   0   0\n",
      "  B          1    1    1  534 ...   0   0   0   0\n",
      "  AC         1    1    1 4144 ...   0   0   0   0\n",
      "  AD         1    1    1 4144 ...   0   0   0   0\n",
      "  BC         1    1    1 4144 ...   0   0   0   0\n",
      "  BD         1    1    1 4144 ...   0   0   0   0\n",
      "  ABCD       1    1    1 4144 ...   0   0   0   0\n",
      "             0    0    0    0 ...   0   0   0   0\n",
      "Length = 36 rows\n"
     ]
    }
   ],
   "source": [
    "oscnrec_new = fits.FITS_rec.from_columns(oscnrec.columns, \n",
    "                                         nrows=len(oscntable))\n",
    "print(Table(oscnrec_new))"
   ]
  },
  {
   "cell_type": "markdown",
   "metadata": {},
   "source": [
    "Let's populate that last row with our new data!"
   ]
  },
  {
   "cell_type": "code",
   "execution_count": 27,
   "metadata": {
    "execution": {
     "iopub.execute_input": "2025-06-16T13:26:38.004581Z",
     "iopub.status.busy": "2025-06-16T13:26:38.004164Z",
     "iopub.status.idle": "2025-06-16T13:26:38.006955Z",
     "shell.execute_reply": "2025-06-16T13:26:38.006476Z"
    }
   },
   "outputs": [],
   "source": [
    "oscnrec_new[-1] = tuple(oscntable[-1])"
   ]
  },
  {
   "cell_type": "markdown",
   "metadata": {},
   "source": [
    "Reprint the table and check that we have entered it correctly."
   ]
  },
  {
   "cell_type": "code",
   "execution_count": 28,
   "metadata": {
    "execution": {
     "iopub.execute_input": "2025-06-16T13:26:38.008313Z",
     "iopub.status.busy": "2025-06-16T13:26:38.008172Z",
     "iopub.status.idle": "2025-06-16T13:26:38.012662Z",
     "shell.execute_reply": "2025-06-16T13:26:38.012230Z"
    }
   },
   "outputs": [
    {
     "name": "stdout",
     "output_type": "stream",
     "text": [
      "CCDAMP CCDCHIP BINX BINY  NX  ... VX1 VX2 VY1 VY2\n",
      "------ ------- ---- ---- ---- ... --- --- --- ---\n",
      "     C       2    1    1 4144 ...   0   0   0   0\n",
      "     C       2    1    1 2072 ...   0   0   0   0\n",
      "     C       2    1    1 2072 ...   0   0   0   0\n",
      "     C       2    1    1 2072 ...   0   0   0   0\n",
      "     C       2    1    1 2070 ...   0   0   0   0\n",
      "  C          2    1    1  534 ...   0   0   0   0\n",
      "  D          2    1    1 4144 ...   0   0   0   0\n",
      "  D          2    1    1 2072 ...   0   0   0   0\n",
      "  D          2    1    1 2072 ...   0   0   0   0\n",
      "  D          2    1    1 2072 ...   0   0   0   0\n",
      "   ...     ...  ...  ...  ... ... ... ... ... ...\n",
      "  B          1    1    1 2072 ...   0   0   0   0\n",
      "  B          1    1    1 2070 ...   0   0   0   0\n",
      "  B          1    1    1 1046 ...   0   0   0   0\n",
      "  B          1    1    1  534 ...   0   0   0   0\n",
      "  AC         1    1    1 4144 ...   0   0   0   0\n",
      "  AD         1    1    1 4144 ...   0   0   0   0\n",
      "  BC         1    1    1 4144 ...   0   0   0   0\n",
      "  BD         1    1    1 4144 ...   0   0   0   0\n",
      "  ABCD       1    1    1 4144 ...   0   0   0   0\n",
      "     A       1    1    1 1180 ...   0   0   0   0\n",
      "Length = 36 rows\n"
     ]
    }
   ],
   "source": [
    "print(Table(oscnrec_new))"
   ]
  },
  {
   "cell_type": "markdown",
   "metadata": {},
   "source": [
    "Now we can open up our oscn table and replace the old fits rec with our new one"
   ]
  },
  {
   "cell_type": "code",
   "execution_count": 29,
   "metadata": {
    "execution": {
     "iopub.execute_input": "2025-06-16T13:26:38.014146Z",
     "iopub.status.busy": "2025-06-16T13:26:38.013980Z",
     "iopub.status.idle": "2025-06-16T13:26:38.027767Z",
     "shell.execute_reply": "2025-06-16T13:26:38.027277Z"
    }
   },
   "outputs": [],
   "source": [
    "with fits.open(path_to_oscn, mode='update') as hdu:\n",
    "    hdu[1].data = oscnrec_new"
   ]
  },
  {
   "cell_type": "markdown",
   "metadata": {},
   "source": [
    "Using the same check we did earlier, we can use `check_oscntab` to see if our settings are defined. If everything was done correctly, the following line should print \"True\"!"
   ]
  },
  {
   "cell_type": "code",
   "execution_count": 30,
   "metadata": {
    "execution": {
     "iopub.execute_input": "2025-06-16T13:26:38.029528Z",
     "iopub.status.busy": "2025-06-16T13:26:38.029057Z",
     "iopub.status.idle": "2025-06-16T13:26:38.056431Z",
     "shell.execute_reply": "2025-06-16T13:26:38.055957Z"
    }
   },
   "outputs": [
    {
     "name": "stderr",
     "output_type": "stream",
     "text": [
      "WARNING: UnitsWarning: 'pixels' did not parse as fits unit: At col 0, Unit 'pixels' not supported by the FITS standard. Did you mean pixel? If this is meant to be a custom unit, define it with 'u.def_unit'. To have it recognized inside a file reader or other code, enable it with 'u.add_enabled_units'. For details, see https://docs.astropy.org/en/latest/units/combining_and_defining.html [astropy.units.core]\n",
      "WARNING:astroquery:UnitsWarning: 'pixels' did not parse as fits unit: At col 0, Unit 'pixels' not supported by the FITS standard. Did you mean pixel? If this is meant to be a custom unit, define it with 'u.def_unit'. To have it recognized inside a file reader or other code, enable it with 'u.add_enabled_units'. For details, see https://docs.astropy.org/en/latest/units/combining_and_defining.html\n"
     ]
    },
    {
     "name": "stdout",
     "output_type": "stream",
     "text": [
      "Defined in OSCNTAB? True\n"
     ]
    }
   ],
   "source": [
    "supported = utils_calib.check_oscntab(path_to_oscn, amp, xsize, ysize, leading, trailing)\n",
    "\n",
    "print('Defined in OSCNTAB? {}'.format(supported))"
   ]
  },
  {
   "cell_type": "markdown",
   "metadata": {},
   "source": [
    "### For more help:\n",
    "\n",
    "More details may be found on the [ACS website](http://www.stsci.edu/hst/instrumentation/acs) and in the [ACS Instrument](https://hst-docs.stsci.edu/display/ACSIHB) and [Data Handbooks](http://www.stsci.edu/files/live/sites/www/files/home/hst/instrumentation/acs/documentation/other-documents/_documents/acs_dhb.pdf).\n",
    "\n",
    "Please visit the [HST Help Desk](http://hsthelp.stsci.edu). Through the help desk portal, you can explore the *HST* Knowledge Base and request additional help from experts.\n",
    "\n",
    "---\n",
    "[Top of Page](#titleImageReduction)\n",
    "<img style=\"float: right;\" src=\"https://raw.githubusercontent.com/spacetelescope/notebooks/master/assets/stsci_pri_combo_mark_horizonal_white_bkgd.png\" alt=\"Space Telescope Logo\" width=\"200px\"/> \n",
    "<br></br>\n",
    "<br></br>"
   ]
  }
 ],
 "metadata": {
  "kernelspec": {
   "display_name": "Python 3 (ipykernel)",
   "language": "python",
   "name": "python3"
  },
  "language_info": {
   "codemirror_mode": {
    "name": "ipython",
    "version": 3
   },
   "file_extension": ".py",
   "mimetype": "text/x-python",
   "name": "python",
   "nbconvert_exporter": "python",
   "pygments_lexer": "ipython3",
   "version": "3.12.11"
  }
 },
 "nbformat": 4,
 "nbformat_minor": 4
}
