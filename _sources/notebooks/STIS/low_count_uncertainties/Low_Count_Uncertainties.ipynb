{
 "cells": [
  {
   "cell_type": "markdown",
   "id": "cce8c543-a04b-4fc1-b1b0-a163fa29a8da",
   "metadata": {},
   "source": [
    "<a id=top></a>\n",
    "# Low Count Uncertainties in STIS <a class=\"tocSkip\">"
   ]
  },
  {
   "cell_type": "markdown",
   "id": "73b2a09d-d669-414a-a828-0efa956b8661",
   "metadata": {},
   "source": [
    "<h2>Learning Goals<span class=\"tocSkip\"></span></h2>\n",
    "By the end of this tutorial, you will:\n",
    "\n",
    "- Understand how the `calstis` pipeline calculates uncertainties with the root-N approximation\n",
    "- Know in what situations this approximation breaks down (i.e., low counts)\n",
    "- Calculate more appropriate Poisson confidence intervals\n",
    "- Compare uncertainties with STIS to those calculated for COS\n",
    "- Know about a bug in the uncertainties calculated in `inttag` when making sub-exposures from TIME-TAG data\n",
    "\n",
    "<div class=\"toc\">\n",
    "<ul class=\"toc-item\"><li><span><a href=\"#Introduction\" data-toc-modified-id=\"0-Introduction-0\">0 Introduction</a></span></li></ul>\n",
    "<ul class=\"toc-item\"><li><span><a href=\"#Fetch-and-Read-In-Data\" data-toc-modified-id=\"1-Fetch-and-Read-In-Data-1\">1 Fetch and Read In Data</a></span></li></ul>\n",
    "<ul class=\"toc-item\"><li><span><a href=\"#Pipeline-Uncertainties\" data-toc-modified-id=\"2-Pipeline-Uncertainties-2\">2 Pipeline Uncertainties</a></span></li></ul>\n",
    "<ul class=\"toc-item\"><li><span><a href=\"#Poisson-Uncertainties\" data-toc-modified-id=\"3-Poisson-Uncertainties-3\">3 Poisson Uncertainties</a></span></li></ul>\n",
    "<ul class=\"toc-item\"><li><span><a href=\"#Poisson-Uncertainties-Applied-to-STIS\" data-toc-modified-id=\"4-Poisson-Uncertainties-Applied-to-STIS-4\">4 Poisson Uncertainties Applied to STIS</a></span></li></ul>\n",
    "<ul class=\"toc-item\"><li><span><a href=\"#New-stistools-Functionality\" data-toc-modified-id=\"5-New-stistools-Functionality-5\">5 New stistools Functionality</a><span></li></ul>\n",
    "<ul class=\"toc-item\"><li><span><a href=\"#Comparison-to-COS\" data-toc-modified-id=\"6-Comparison-to-COS-6\">6 Comparison to COS</a></span></li></ul>\n",
    "<ul class=\"toc-item\"><li><span><a href=\"#Recommendations\" data-toc-modified-id=\"7-Recommendations-7\">7 Recommendations</a></span></li></ul>\n",
    "<ul class=\"toc-item\"><li><span><a href=\"#Appendix:-INTTAG\" data-toc-modified-id=\"Appendix:-INTTAG\">Appendix: INTTAG</a></span></li></ul>\n",
    "</div>"
   ]
  },
  {
   "cell_type": "markdown",
   "id": "b12bd0ce-fe69-4fb3-a0cf-c6f044d9219d",
   "metadata": {},
   "source": [
    "## Introduction\n",
    "The root-N approximation for error calculation is ubiquitous in astronomy and is appropriate for a wide-range of observing scenarios. The root-N approximation means that the 1-$\\sigma$ uncertainty associated with any measurement of counts (i.e., electrons on a CCD detector) can be approximated by just taking the square root of the number of counts, $N$. However, this approximation *does* break down for low counts $\\lesssim10$ (inclusive of dark rate and read noise) sometimes seen in UV observations with instruments like HST/STIS and HST/COS.\n",
    "\n",
    "In this notebook, we will look at where and why the root-N approximation breaks down, how the calculate appropriate Poisson confidence intervals, and how to apply that to HST/STIS observations. Some of these issues have been address in the HST/COS pipeline, CalCOS, so we compare to that in Section 5 as well.\n",
    "\n",
    "For more information about calstis see:\n",
    "- [STIS Calibration in the STIS Data Handbook](https://hst-docs.stsci.edu/stisdhb/chapter-3-stis-calibration)\n",
    "- [the `stistools` package documentation](https://stistools.readthedocs.io/en/latest/calstis.html)"
   ]
  },
  {
   "cell_type": "markdown",
   "id": "255e9cb0-15f1-4c72-87b1-c2db908e31f6",
   "metadata": {},
   "source": [
    "### Import Necessary Packages\n",
    "- `astropy.io.fits` for accessing FITS files\n",
    "- `astroquery.mast.Observations` for finding and downloading data from the [MAST](https://mast.stsci.edu/portal/Mashup/Clients/Mast/Portal.html) archive\n",
    "- `os`, `shutil`, & `pathlib` for managing system paths\n",
    "- `matplotlib` for plotting data\n",
    "- `numpy` to handle array functions\n",
    "- `stistools` for operations on STIS Data, including the new poisson_err.py\n",
    "- `astropy.stats` and `scipy.stats` for the Poisson confidence interval function(s)"
   ]
  },
  {
   "cell_type": "code",
   "execution_count": 1,
   "id": "60ff5736-2646-4bee-a08f-b50b903dce17",
   "metadata": {
    "execution": {
     "iopub.execute_input": "2025-10-02T18:09:22.805268Z",
     "iopub.status.busy": "2025-10-02T18:09:22.805106Z",
     "iopub.status.idle": "2025-10-02T18:09:28.099256Z",
     "shell.execute_reply": "2025-10-02T18:09:28.098797Z"
    }
   },
   "outputs": [
    {
     "name": "stderr",
     "output_type": "stream",
     "text": [
      "/home/runner/micromamba/envs/hstcal/lib/python3.11/site-packages/stsci/tools/nmpfit.py:8: UserWarning: NMPFIT is deprecated - stsci.tools v 3.5 is the last version to contain it.\n",
      "  warnings.warn(\"NMPFIT is deprecated - stsci.tools v 3.5 is the last version to contain it.\")\n",
      "/home/runner/micromamba/envs/hstcal/lib/python3.11/site-packages/stsci/tools/gfit.py:18: UserWarning: GFIT is deprecated - stsci.tools v 3.4.12 is the last version to contain it.Use astropy.modeling instead.\n",
      "  warnings.warn(\"GFIT is deprecated - stsci.tools v 3.4.12 is the last version to contain it.\"\n"
     ]
    },
    {
     "name": "stdout",
     "output_type": "stream",
     "text": [
      "The following tasks in the stistools package can be run with TEAL:\n",
      "   basic2d      calstis     ocrreject     wavecal        x1d          x2d\n"
     ]
    }
   ],
   "source": [
    "# Import for: Reading in fits file\n",
    "from astropy.io import fits\n",
    "\n",
    "# Import for: Downloading necessary files\n",
    "# (Not necessary if you choose to collect data from MAST)\n",
    "from astroquery.mast import Observations\n",
    "\n",
    "# Import for: Managing system variables and paths\n",
    "import os\n",
    "import shutil\n",
    "import glob\n",
    "\n",
    "# Import for: Plotting and specifying plotting parameters\n",
    "import matplotlib.pyplot as plt\n",
    "%matplotlib inline\n",
    "\n",
    "# Import for: Operations on STIS Data\n",
    "import stistools\n",
    "\n",
    "# Import numpy\n",
    "import numpy as np\n",
    "\n",
    "# Import astropy and scipy stat stuff\n",
    "from astropy.stats import poisson_conf_interval\n",
    "from scipy.stats import norm, poisson\n",
    "\n",
    "# Import for image display\n",
    "from IPython.display import Image\n",
    "\n",
    "# Using a colorblind friendly style\n",
    "plt.style.use('tableau-colorblind10')"
   ]
  },
  {
   "cell_type": "markdown",
   "id": "4669e3ab-4b83-4204-96d6-a1f7b334aa37",
   "metadata": {},
   "source": [
    "## Fetch and Read In Data\n",
    "We're now going to fetch FUV observations to demonstrate where the root-N approximation breaks down. These observations are one orbit of a four-orbit transit time-series of HST/STIS/G140M that observed the Neptune-sized exoplanet GJ 436b transit across the disk of the M-dwarf host star, GJ 436. These observations were used to find hydrogen gas escaping from the planet's atmosphere in a comet-like tail ([Kulow et al. 2014](https://ui.adsabs.harvard.edu/abs/2014ApJ...786..132K/abstract), [Ehrenreich et al. 2015](https://ui.adsabs.harvard.edu/abs/2015Natur.522..459E/abstract))."
   ]
  },
  {
   "cell_type": "code",
   "execution_count": 2,
   "id": "7ede8a42-02e6-40db-8985-ae71171521b9",
   "metadata": {
    "execution": {
     "iopub.execute_input": "2025-10-02T18:09:28.101060Z",
     "iopub.status.busy": "2025-10-02T18:09:28.100791Z",
     "iopub.status.idle": "2025-10-02T18:09:31.299884Z",
     "shell.execute_reply": "2025-10-02T18:09:31.299440Z"
    }
   },
   "outputs": [
    {
     "name": "stdout",
     "output_type": "stream",
     "text": [
      "Downloading URL https://mast.stsci.edu/api/v0.1/Download/file?uri=mast:HST/product/obgh07020_x1d.fits to ./mastDownload/HST/obgh07020/obgh07020_x1d.fits ..."
     ]
    },
    {
     "name": "stdout",
     "output_type": "stream",
     "text": [
      " [Done]\n"
     ]
    },
    {
     "name": "stdout",
     "output_type": "stream",
     "text": [
      "HST STIS FUV-MAMA G140M 52X0.1\n",
      "Program: 12034\n",
      "PI: James Carswell       Green\n",
      "Target: GJ436\n",
      "Time: 2012-12-07 10:58:55\n"
     ]
    }
   ],
   "source": [
    "# remove downlaod directory if it already exists\n",
    "if os.path.exists(\"./mastDownload\"):\n",
    "    shutil.rmtree(\"./mastDownload\")\n",
    "\n",
    "# Search target object by obs_id\n",
    "target_id = \"obgh07020\"\n",
    "target = Observations.query_criteria(obs_id=[target_id])\n",
    "\n",
    "# get a list of files assiciated with that target\n",
    "target_list = Observations.get_product_list(target)\n",
    "\n",
    "# download only the x1d file\n",
    "Observations.download_products(target_list, extension='x1d.fits')\n",
    "\n",
    "# get file path\n",
    "file_path_obgh07020 = os.path.join(\n",
    "                    'mastDownload', 'HST', target_id, f'{target_id}_x1d.fits')\n",
    "\n",
    "# read in x1d\n",
    "with fits.open(file_path_obgh07020) as hdu:\n",
    "    header = hdu[0].header\n",
    "    data = hdu[1].data\n",
    "    exptime = hdu[1].header['EXPTIME']\n",
    "    darkcount = hdu[1].header['MEANDARK']\n",
    "    extrsize = hdu[1].data['EXTRSIZE']\n",
    "    flux = hdu[1].data['FLUX'][0]\n",
    "    flux_err = hdu[1].data['ERROR'][0]\n",
    "    net = hdu[1].data['NET'][0]\n",
    "    net_err = hdu[1].data['NET_ERROR'][0]\n",
    "    gross = hdu[1].data['GROSS'][0]\n",
    "    bg = hdu[1].data['BACKGROUND'][0]\n",
    "    waves = hdu[1].data['WAVELENGTH'][0]\n",
    "\n",
    "# Print some relevant information for reference...\n",
    "print(hdu[0].header['TELESCOP'], hdu[0].header['INSTRUME'],\n",
    "      hdu[0].header['DETECTOR'], hdu[0].header['OPT_ELEM'],\n",
    "      hdu[0].header['APERTURE'])\n",
    "print(f\"Program: {hdu[0].header['PROPOSID']}\")\n",
    "print(f\"PI: {hdu[0].header['PR_INV_F']} {hdu[0].header['PR_INV_M']} \\\n",
    "      {hdu[0].header['PR_INV_L']}\")\n",
    "print(f\"Target: {hdu[0].header['TARGNAME']}\")\n",
    "print(f\"Time: {hdu[0].header['TDATEOBS']} {hdu[0].header['TTIMEOBS']}\")"
   ]
  },
  {
   "cell_type": "markdown",
   "id": "5f6c34f3-43ed-48d9-b527-ae6487ffa048",
   "metadata": {},
   "source": [
    "## Pipeline Uncertainties\n",
    "\n",
    "Here, we will re-create the root-N approximated uncertainties calculated in the pipeline so that we can be sure of what the pipeline is doing. Let's first plot the data, just so we know what were dealing with:"
   ]
  },
  {
   "cell_type": "code",
   "execution_count": 3,
   "id": "14813e1b-e335-4343-a7a2-028477ec88ac",
   "metadata": {
    "execution": {
     "iopub.execute_input": "2025-10-02T18:09:31.301452Z",
     "iopub.status.busy": "2025-10-02T18:09:31.301229Z",
     "iopub.status.idle": "2025-10-02T18:09:31.402973Z",
     "shell.execute_reply": "2025-10-02T18:09:31.402518Z"
    }
   },
   "outputs": [],
   "source": [
    "# Let's plot the flux to see what's going on\n",
    "fig, ax = plt.subplots()\n",
    "ax.plot(waves, gross*exptime, label='Gross')\n",
    "ax.plot(waves, net*exptime, label='Net')\n",
    "ax.plot(waves, bg*exptime, label='Background')\n",
    "\n",
    "ax.vlines(1215.67, -10, 2000, color='k', linestyles=':',\n",
    "          label='Ly-$\\\\alpha$')\n",
    "ax.set_xlim(1214.5, 1220)\n",
    "ax.set_ylim(-5, 450)\n",
    "\n",
    "ax.set_ylabel('Flux (Counts)', fontsize=12)\n",
    "ax.set_xlabel('Wavelength ($\\\\mathrm{\\\\AA}$)', fontsize=12)\n",
    "\n",
    "ax.legend(ncol=1, fontsize=11)\n",
    "ax.tick_params(labelsize=11)\n",
    "plt.title('GJ-436 with STIS/G140M')\n",
    "\n",
    "plt.tight_layout()"
   ]
  },
  {
   "cell_type": "markdown",
   "id": "79c36000-b19a-4f57-836b-a97cba135794",
   "metadata": {},
   "source": [
    "You can see large flux from the star's Lyman-$\\alpha$ emission. The core of the line is getting absorbed by the interstellar medium, or \"ISM\", yet the wide wings of the line do show appreciable flux. This is an important indicator of chromospheric activity in low-mass stars. But if you look outside the line, you'll see almost no flux! This is because low-mass stars, like GJ436, will have very little UV-continuum, mostly because of their relatively cool temperatures."
   ]
  },
  {
   "cell_type": "markdown",
   "id": "c45c1745-2a53-4eb8-8d97-a503728ab63a",
   "metadata": {},
   "source": [
    "Now let's look at the uncertainties associated with these measurements. The error in the net counts (and subsequently the flux measurement) is initialized in `calstis`. For MAMA data such as this, the pipeline simply takes the square-root of the counts, $I$, as the error in the counts: $\\sigma = \\sqrt{I}$. For CCD data, we must also account for the gain and readnoise, such that $\\sigma = \\sqrt{\\frac{I-bias}{gain}+(\\frac{readnoise}{gain})^2}$. [See ISR 98-26](https://www.stsci.edu/files/live/sites/www/files/home/hst/instrumentation/stis/documentation/instrument-science-reports/_documents/199826.pdf). Note that the square-root must be taken on the *counts*, not the *count rate* or the *flux*.\n",
    "\n",
    "Below, we plot the pipeline uncertainty, as well as a re-creation of the uncertainties from the values in the X1D files."
   ]
  },
  {
   "cell_type": "code",
   "execution_count": 4,
   "id": "a7b37f03-d9e7-4151-9b5d-b70ce7bc0daf",
   "metadata": {
    "execution": {
     "iopub.execute_input": "2025-10-02T18:09:31.404791Z",
     "iopub.status.busy": "2025-10-02T18:09:31.404636Z",
     "iopub.status.idle": "2025-10-02T18:09:31.463990Z",
     "shell.execute_reply": "2025-10-02T18:09:31.463555Z"
    }
   },
   "outputs": [],
   "source": [
    "# Let's recreate the errors by taking square root of counts...\n",
    "# Some of the low flux values may be negative\n",
    "# especially after dark subtraction,\n",
    "# so we place a min error at zero (as does the pipeline)\n",
    "# (Remember, we need to convert to counts, not just the count rate)\n",
    "count_err = np.sqrt(np.max([gross*exptime, np.zeros(len(gross))],\n",
    "                           axis=0))\n",
    "# Let's also calculate the counts with the mean dark subtracted\n",
    "# count added back in, because that will also contribute to error\n",
    "count_err_dark = np.sqrt(np.max([gross*exptime+darkcount*extrsize,\n",
    "                                 np.zeros(len(gross))], axis=0))\n",
    "\n",
    "\n",
    "# Let's plot the flux to see how we compare to the pipeline\n",
    "fig, ax = plt.subplots()\n",
    "ax.plot(waves, net_err*exptime, label='Net Error (Pipeline)', linewidth=2)\n",
    "ax.plot(waves, count_err, '--', label='Calc Error (Root-N)', linewidth=2)\n",
    "ax.plot(waves, count_err_dark, ':',\n",
    "        label='Calc Error (Root-N) plus Dark', linewidth=2)\n",
    "\n",
    "ax.set_xlim(1214.5, 1220)\n",
    "\n",
    "ax.set_ylabel('Error (Counts)', fontsize=12)\n",
    "ax.set_xlabel('Wavelength ($\\\\mathrm{\\\\AA}$)', fontsize=12)\n",
    "\n",
    "ax.legend(ncol=1, fontsize=11)\n",
    "plt.gca().tick_params(labelsize=11)\n",
    "plt.title('GJ-436 with STIS/G140M')\n",
    "\n",
    "plt.tight_layout()"
   ]
  },
  {
   "cell_type": "markdown",
   "id": "57b62acd-858f-48cd-b62d-49550f12f98c",
   "metadata": {},
   "source": [
    "As you can see, the pipeline uncertainties are mostly just the square root of the counts. Error from dark subtraction is generally pretty small in the FUV; In our observations, the science header states the the mean dark count was 0.0184 counts per pixel (`hdu[1].header['MEANDARK']`) and that's over the whole 2,905 s exposure. In the extraction routines, the pipeline defaults to an extraction height of 11 pixels, so the dark rate is still adding less than a count per wavelength. In the NUV, however, dark rates can be as much as 0.002 counts per second per pixel, which can result in dozens of \"extra\" counts and thus do need to be taken into account in the errors. Errors in the flat-field division will also contribute minutely to the flux error. \n",
    "\n",
    "For this notebook, since we're looking at FUV data, we therefore assume the majority of our error comes from photon noise."
   ]
  },
  {
   "cell_type": "markdown",
   "id": "90db0bf5-b7e4-4565-824c-dadcac643021",
   "metadata": {},
   "source": [
    "## Poisson Uncertainties\n",
    "\n",
    "Because we are measuring a discrete, positive number of counts when we read out an astronomical detector, our measurement comes from a Poisson disstribution. The uncertainty associated with a measurement of a variable described by a Poisson distribution is very often assumed to be the square-root of the value measured, as seen above. This is because the Poisson distribution is a univariate distrbution, defined only by its mean, $\\lambda$. The probability of $N$ events is defined as $\\frac{\\lambda^N*e^{-\\lambda}}{N!}$.\n",
    "\n",
    "\n",
    "The Poisson distribution has the special feature that its <u>variance</u> is also equal to $\\lambda$. Thus, we usually take the standard-deviation of a measurement to be $\\sqrt{\\lambda}$.\n",
    "\n",
    "However, the assumption of \"square-root N\" uncertainties is only valid for large $N$. In this large-$n$ regime, the Poisson distribution is relatively symmetric and well-approximated by a Gaussian distribution with standard deviation of $\\sqrt{N}$. At low-$N$, however, the discrete and positive nature of the Poisson distribution results in the distribution becoming highly asymmetric and the Gaussian approximation breaks down. This is demonstrated in the plot below for $\\lambda = 1$ and $\\lambda = 15$:"
   ]
  },
  {
   "cell_type": "code",
   "execution_count": 5,
   "id": "a581ca1b-225a-4d02-848c-d20ea324eba4",
   "metadata": {
    "execution": {
     "iopub.execute_input": "2025-10-02T18:09:31.465798Z",
     "iopub.status.busy": "2025-10-02T18:09:31.465627Z",
     "iopub.status.idle": "2025-10-02T18:09:31.543740Z",
     "shell.execute_reply": "2025-10-02T18:09:31.543282Z"
    }
   },
   "outputs": [],
   "source": [
    "# Define color cycle that we'll be using\n",
    "# cs = ['#1f77b4', '#ff7f0e', '#d62728', '#2ca02c', '#9467bd',\n",
    "#      '#8c564b', '#e377c2', '#7f7f7f', '#bcbd22', '#17becf']\n",
    "\n",
    "# Tableau colorblind 10 color cycle\n",
    "cs = ['#006BA4', '#FF800E', '#ABABAB', '#595959',\n",
    "      '#5F9ED1', '#C85200', '#898989', '#A2C8EC',\n",
    "      '#FFBC79', '#CFCFCF']\n",
    "\n",
    "# Define figure\n",
    "plt.figure(figsize=(10, 5))\n",
    "\n",
    "# Define contiuous and discrete N grids (xc and xd)\n",
    "xc = np.linspace(-2, 30, 1000)\n",
    "xd = range(30)\n",
    "\n",
    "# Define and draw our population mean for our first example, mu=lambda=1\n",
    "# as well as the Gaussian (i.e., root-N) 1-sigma bounds\n",
    "mu = 1\n",
    "plt.vlines(1, 0, 1.15, color='k', linestyle=':')\n",
    "plt.vlines(1+np.sqrt(1), 0, 1.15, color='k', linestyle=':', alpha=0.4)\n",
    "plt.vlines(1-np.sqrt(1), 0, 1.15, color='k', linestyle=':', alpha=0.4)\n",
    "\n",
    "plt.plot(xc, norm.pdf(xc, mu, np.sqrt(mu)) /\n",
    "         np.max(norm.pdf(xc, mu, np.sqrt(mu))),\n",
    "         color=cs[3], label='Gaussian, $\\\\lambda$=1, $\\\\sigma = \\\\sqrt{1}$',\n",
    "         linewidth=3)\n",
    "\n",
    "# Do the same for mu=15\n",
    "mu = 15\n",
    "plt.vlines(15, 0, 1.15, color='k', linestyle='--')\n",
    "plt.vlines(15+np.sqrt(15), 0, 1.15, color='k', linestyle='--', alpha=0.4)\n",
    "plt.vlines(15-np.sqrt(15), 0, 1.15, color='k', linestyle='--', alpha=0.4)\n",
    "\n",
    "plt.plot(xc, norm.pdf(xc, mu, np.sqrt(mu)) /\n",
    "         np.max(norm.pdf(xc, mu, np.sqrt(mu))),\n",
    "         color=cs[1], label='Gaussian, $\\\\lambda$=15, $\\\\sigma = \\\\sqrt{15}$',\n",
    "         linewidth=3)\n",
    "\n",
    "# Draw a limit at N=0 to make clear that Gaussian distribution goes beyond\n",
    "plt.vlines(0, 0, 1.15, color='k')\n",
    "\n",
    "# Now do the same for mu=1 and mu=15 but plotting the Poisson distribution\n",
    "mu = 1\n",
    "plt.plot(xd, poisson.pmf(xd, mu)/np.max(poisson.pmf(xd, mu)), 'o', color=cs[2],\n",
    "         label='Poisson, $\\\\lambda$=1', markersize=8)\n",
    "plt.plot(xd, poisson.pmf(xd, mu)/np.max(poisson.pmf(xd, mu)),\n",
    "         color=cs[2], alpha=0.9)\n",
    "mu = 15\n",
    "plt.plot(xd, poisson.pmf(xd, mu)/np.max(poisson.pmf(xd, mu)), 'o', color=cs[0],\n",
    "         label='Poisson, $\\\\lambda$=15', markersize=8)\n",
    "plt.plot(xd, poisson.pmf(xd, mu)/np.max(poisson.pmf(xd, mu)),\n",
    "         color=cs[0], alpha=0.9)\n",
    "\n",
    "plt.ylim(0, 1.15)\n",
    "plt.xlim(-2, 25)\n",
    "plt.legend(ncol=1, fontsize=12, loc='upper right')\n",
    "plt.gca().tick_params(labelsize=12)\n",
    "plt.ylabel('PDF/PMF (Normalized to Max=1)', fontsize=14)\n",
    "plt.xlabel('N', fontsize=14)\n",
    "plt.tight_layout()"
   ]
  },
  {
   "cell_type": "markdown",
   "id": "52d6ec47-6839-46dd-9f55-497cf0fcfaae",
   "metadata": {},
   "source": [
    "The asymmetry in the Poisson distribution therefore implies we need a different approach to estimate our uncertainties. For that, we'll need to define an upper- and lower-limits on the confidence interval (CI). Formally, [Geherels (1986)](https://ui.adsabs.harvard.edu/abs/1986ApJ...303..336G/abstract) defines these, respectively, as:\n",
    "\n",
    "$\\sum_{x=0}^{N}\\frac{\\lambda_u^x e^{-\\lambda_u}}{x!} = 1 - CL$\n",
    "\n",
    "$\\sum_{x=0}^{N-1}\\frac{\\lambda_l^x e^{-\\lambda_l}}{x!} = CL $     $(n \\neq 0)$\n",
    "\n",
    "Unfortunately, there is no closed form solution to these for $\\lambda_u$ and $\\lambda_l$. To calculate $\\lambda_u$ and $\\lambda_l$, various analytic approximations have been developed based on numerical tabulations, as in [Gehrels (1986)](https://ui.adsabs.harvard.edu/abs/1986ApJ...303..336G/abstract). In that work, Neil Gehrels finds the following 1-$\\sigma$ limit approximations that we'll demonsrate here:\n",
    "\n",
    "$\\lambda_u = N + \\sqrt{N+\\frac{3}{4}} + 1 $\n",
    "\n",
    "$\\lambda_d = N (1 - \\frac{1}{9N} - \\frac{1}{3\\sqrt{N}})^3 $\n",
    "\n",
    "As $N \\to \\infty$, the approximation will approach the Gaussian $\\sqrt{N}$ approximation. Within astropy.stats, these approximations are implemented in \"poisson_conf_interval\". To get the correct confidence interval method, we choose \"frequentist-confidence\", which recreates these limits closely (confusingly, don't use the \"sherpagehrels\" method, which just uses the upper limit symmetrically).\n",
    "\n",
    "\n",
    "Let's see how this is done and compare to root-N estimates."
   ]
  },
  {
   "cell_type": "code",
   "execution_count": 6,
   "id": "74c71132-4536-4a7c-bbd3-64f1c08c0679",
   "metadata": {
    "execution": {
     "iopub.execute_input": "2025-10-02T18:09:31.545395Z",
     "iopub.status.busy": "2025-10-02T18:09:31.545244Z",
     "iopub.status.idle": "2025-10-02T18:09:31.601225Z",
     "shell.execute_reply": "2025-10-02T18:09:31.600807Z"
    }
   },
   "outputs": [],
   "source": [
    "# Define a function that gives us our 1-sigma Poisson\n",
    "# confidence interval and (subtracting off N)\n",
    "def gehrels_pci(ns):\n",
    "    up = 1+np.sqrt(ns+0.75)\n",
    "    lo = np.array([n-(n*(1-(1/(9*n))-(1/(3*np.sqrt(n))))**3)\n",
    "                   if n > 0 else 0.0 for n in ns])\n",
    "    return [lo, up]\n",
    "\n",
    "\n",
    "lw = 3\n",
    "ms = 9\n",
    "N = np.arange(10)\n",
    "plt.figure()\n",
    "plt.plot(N, np.sqrt(N), label='Root-N Approximation', linewidth=lw)\n",
    "plt.plot(N, N-poisson_conf_interval(N, interval='frequentist-confidence')[0],\n",
    "         '-', label='Astropy Lower PCI', linewidth=lw)\n",
    "plt.plot(N, poisson_conf_interval(N, interval='frequentist-confidence')[1]-N,\n",
    "         '-', label='Astropy Upper PCI', linewidth=lw)\n",
    "plt.plot(N, gehrels_pci(N)[1], 'o', label='Gehrels Upper PCI', markersize=ms)\n",
    "plt.plot(N, gehrels_pci(N)[0], 'o', label='Gehrels Lower PCI', markersize=ms)\n",
    "plt.legend(ncol=1, fontsize=12, loc='lower right')\n",
    "plt.gca().tick_params(labelsize=14)\n",
    "plt.ylabel('1-$\\\\sigma$ Uncertainties', fontsize=16)\n",
    "plt.xlabel('N', fontsize=16)\n",
    "plt.tight_layout()"
   ]
  },
  {
   "cell_type": "markdown",
   "id": "83863d6e-50d5-41aa-89c0-38044e142554",
   "metadata": {},
   "source": [
    "As you can see, the uncertainties calculated for a measurement from the Poisson distribution are not well-approximated by the Gaussian root-N approximation, especially for the upper bounds. This is because the upper bounds is basically the root-N approximation plus 1. Futhermore, and importantly, at N=0, the root-N approximation says that our uncertinaity goes to zero, which is clearly absurd! If we don't measure any counts on a pixel, we shouldn't somehow be inifintely sure there were no photons there. The Poisson distribution handles N=0 with an upper limit of 1.866 (while the lower limit does indeed go to zero; we cannot have negative counts!)."
   ]
  },
  {
   "cell_type": "markdown",
   "id": "1555cfd6-b8bb-4876-b7d1-a079ed43a12c",
   "metadata": {},
   "source": [
    "## Poisson Uncertainties Applied to STIS\n",
    "As explained above in Section 2, there are some scenarios on STIS where count rates are low enough that the Gaussian approximation should break down. And in Section 3, we saw explicitly how it breaks down and how to properly apply Poisson Confidence Intervals might work. Here, we'll apply Poisson Confidence Intervals to the same FUV STIS data we saw above.\n",
    "\n",
    "Let's zoom into the wavelengths longward of Ly-$\\alpha$, where our signal is very, very low."
   ]
  },
  {
   "cell_type": "code",
   "execution_count": 7,
   "id": "1a65b4a9-05dc-4435-ba8d-012c045bd4b6",
   "metadata": {
    "execution": {
     "iopub.execute_input": "2025-10-02T18:09:31.602911Z",
     "iopub.status.busy": "2025-10-02T18:09:31.602758Z",
     "iopub.status.idle": "2025-10-02T18:09:31.728883Z",
     "shell.execute_reply": "2025-10-02T18:09:31.728434Z"
    }
   },
   "outputs": [],
   "source": [
    "# Plot our flux longward of Ly-A\n",
    "fig, ax = plt.subplots(2, 1, figsize=(10, 6))\n",
    "ax[0].plot(waves, gross*exptime, label='Gross')\n",
    "ax[0].plot(waves, net*exptime, label='Net')\n",
    "ax[0].plot(waves, bg*exptime, label='Background')\n",
    "\n",
    "ax[0].set_xlim(1217, 1220)\n",
    "ax[0].set_ylim(-1, 5)\n",
    "\n",
    "ax[0].set_ylabel('Flux (Counts)', fontsize=12)\n",
    "\n",
    "ax[0].legend(ncol=1, fontsize=11)\n",
    "ax[0].tick_params(labelsize=11)\n",
    "plt.title('GJ-436 with STIS/G140M')\n",
    "\n",
    "fig.tight_layout()\n",
    "\n",
    "# Plot errors in this low-count regime\n",
    "ax[1].plot(waves, net_err*exptime, label='Net Error (Pipeline)', linewidth=2)\n",
    "ax[1].plot(waves, count_err, '--', label='Calc Error (Root-N)', linewidth=2)\n",
    "ax[1].plot(waves, count_err_dark, ':',\n",
    "           label='Calc Error (Root-N) plus Dark', linewidth=2)\n",
    "\n",
    "ax[1].set_xlim(1217, 1220)\n",
    "ax[1].set_ylim(-0.2, 3.5)\n",
    "\n",
    "ax[1].set_ylabel('Error (Counts)', fontsize=12)\n",
    "ax[1].set_xlabel('Wavelength ($\\\\mathrm{\\\\AA}$)', fontsize=12)\n",
    "\n",
    "ax[1].legend(ncol=1, fontsize=11)\n",
    "ax[1].tick_params(labelsize=11)\n",
    "\n",
    "fig.tight_layout()"
   ]
  },
  {
   "cell_type": "markdown",
   "id": "bc0ddb61-add4-47a9-9901-f6b58a0addf2",
   "metadata": {},
   "source": [
    "You can see just what we were warning about above at the end of Section 3: when the measured counts go to (or near) zero, our uncertainty now becomes infintesimal... or equivalently, our certainty becomes infinite! So let's see what the proper Poisson unceratinties are."
   ]
  },
  {
   "cell_type": "code",
   "execution_count": 8,
   "id": "6c60f5b2-b58c-4a95-a5e3-bf93116d3d0a",
   "metadata": {
    "execution": {
     "iopub.execute_input": "2025-10-02T18:09:31.730648Z",
     "iopub.status.busy": "2025-10-02T18:09:31.730453Z",
     "iopub.status.idle": "2025-10-02T18:09:31.868645Z",
     "shell.execute_reply": "2025-10-02T18:09:31.868225Z"
    }
   },
   "outputs": [],
   "source": [
    "fig, ax = plt.subplots(figsize=(9, 5))\n",
    "\n",
    "ax.plot(waves, net_err*exptime, label='Net Error', linewidth=2)\n",
    "\n",
    "N = gross*exptime\n",
    "# need nan to num b/c some negative values...\n",
    "ax.plot(waves, np.nan_to_num(\n",
    "        N-poisson_conf_interval(N, interval='frequentist-confidence')[0]),\n",
    "        '-', label='Astropy Lower PCI', linewidth=lw)\n",
    "ax.plot(waves,\n",
    "        poisson_conf_interval(N, interval='frequentist-confidence')[1]-N,\n",
    "        '-', label='Astropy Upper PCI', linewidth=lw)\n",
    "\n",
    "ax.set_xlim(1217, 1220)\n",
    "ax.set_ylim(-0.2, 3.5)\n",
    "\n",
    "ax.set_ylabel('Error (Counts)', fontsize=12)\n",
    "ax.set_xlabel('Wavelength ($\\\\mathrm{\\\\AA}$)', fontsize=12)\n",
    "\n",
    "ax.legend(ncol=1, fontsize=11)\n",
    "ax.tick_params(labelsize=11)\n",
    "\n",
    "fig.tight_layout()"
   ]
  },
  {
   "cell_type": "markdown",
   "id": "2c138b49-7d82-4e21-b021-8950eba1de41",
   "metadata": {},
   "source": [
    "When just assuming root-N errors, as the `calstis` pipeline currently does, we are therefore clearly underestimating the true Poisson uncertainty in this low-count regime."
   ]
  },
  {
   "cell_type": "markdown",
   "id": "2535cbe1-1c09-4e06-b278-47f20c32073a",
   "metadata": {},
   "source": [
    "## New `stistools` Functionality\n",
    "\n",
    "To address this concern, we have implemented a new function within `stistools` to calculate these Poisson confidence intervals for you. `stistools.poisson_err.poisson_err(x1dfile, output,  verbose=True)` takes in any _x1d.fits file, calculates the Poisson confidence interval, and adds new columns for the upper and lower error intervals for the net count rate (`NET_ERROR_PCI_UP` and `NET_ERROR_PCI_LOW`) and fluxes (`ERROR_PCI_UP` and `ERROR_PCI_LOW`). We have also added a `N_COUNTS` column with the number of counts used to calculate these errors with Astropy (N = (NET_ERROR*exptime)$^2$). By calculating the total counts from the net error, we can include the counts from the dark frame that were included in the noise calculation.\n",
    "\n",
    "Let's try it out on our file:"
   ]
  },
  {
   "cell_type": "code",
   "execution_count": 9,
   "id": "b03af70f-dc31-404a-bb4d-081ea95c16ff",
   "metadata": {
    "execution": {
     "iopub.execute_input": "2025-10-02T18:09:31.870426Z",
     "iopub.status.busy": "2025-10-02T18:09:31.870253Z",
     "iopub.status.idle": "2025-10-02T18:09:31.917218Z",
     "shell.execute_reply": "2025-10-02T18:09:31.916486Z"
    }
   },
   "outputs": [
    {
     "name": "stdout",
     "output_type": "stream",
     "text": [
      "Added ERROR_PCI_LOW, ERROR_PCI_UP, NET_ERROR_PCI_LOW, NET_ERROR_PCI_UP, and N_counts columns to mastDownload/HST/obgh07020/obgh07020_x1d.fits in mastDownload/HST/obgh07020/obgh07020_PCI_x1d.fits\n"
     ]
    }
   ],
   "source": [
    "x1dfile = 'mastDownload/HST/obgh07020/obgh07020_x1d.fits'\n",
    "output = 'mastDownload/HST/obgh07020/obgh07020_PCI_x1d.fits'\n",
    "\n",
    "try:\n",
    "    stistools.poisson_err.poisson_err(x1dfile, output)\n",
    "except AttributeError:\n",
    "    print('Need to install latest version of stistools (>=1.4.5)')\n",
    "\n",
    "with fits.open(output) as hdu:\n",
    "    new_header = hdu[0].header\n",
    "    new_exptime = hdu[1].header['EXPTIME']\n",
    "    new_extrsize = hdu[1].data['EXTRSIZE']\n",
    "    new_flux = hdu[1].data['FLUX'][0]\n",
    "    new_flux_err = hdu[1].data['ERROR'][0]\n",
    "    new_net = hdu[1].data['NET'][0]\n",
    "    new_net_err = hdu[1].data['NET_ERROR'][0]\n",
    "    new_net_err_pci_up = hdu[1].data['NET_ERROR_PCI_UP'][0]\n",
    "    new_net_err_pci_low = hdu[1].data['NET_ERROR_PCI_LOW'][0]\n",
    "    new_waves = hdu[1].data['WAVELENGTH'][0]"
   ]
  },
  {
   "cell_type": "code",
   "execution_count": 10,
   "id": "519529a5-68f9-4d23-b6e7-449be8e13f0e",
   "metadata": {
    "execution": {
     "iopub.execute_input": "2025-10-02T18:09:31.918768Z",
     "iopub.status.busy": "2025-10-02T18:09:31.918592Z",
     "iopub.status.idle": "2025-10-02T18:09:31.997967Z",
     "shell.execute_reply": "2025-10-02T18:09:31.997506Z"
    }
   },
   "outputs": [
    {
     "name": "stdout",
     "output_type": "stream",
     "text": [
      "ColDefs(\n",
      "    name = 'SPORDER'; format = '1I'; null = -32767; disp = 'I11'\n",
      "    name = 'NELEM'; format = '1I'; null = -32767; disp = 'I11'\n",
      "    name = 'WAVELENGTH'; format = '1024D'; unit = 'Angstroms'; disp = 'G25.16'\n",
      "    name = 'GROSS'; format = '1024E'; unit = 'Counts/s'; disp = 'G15.7'\n",
      "    name = 'BACKGROUND'; format = '1024E'; unit = 'Counts/s'; disp = 'G15.7'\n",
      "    name = 'NET'; format = '1024E'; unit = 'Counts/s'; disp = 'G15.7'\n",
      "    name = 'FLUX'; format = '1024E'; unit = 'erg/s/cm**2/Angstrom'; disp = 'G15.7'\n",
      "    name = 'ERROR'; format = '1024E'; unit = 'erg/s/cm**2/Angstrom'; disp = 'G15.7'\n",
      "    name = 'NET_ERROR'; format = '1024E'; unit = 'Counts/s'; disp = 'G15.7'\n",
      "    name = 'DQ'; format = '1024I'; null = -32767; disp = 'I11'\n",
      "    name = 'A2CENTER'; format = '1E'; unit = 'pixel'; disp = 'G15.7'\n",
      "    name = 'EXTRSIZE'; format = '1E'; unit = 'pixel'; disp = 'G15.7'\n",
      "    name = 'MAXSRCH'; format = '1I'; unit = 'pixel'; null = -32767; disp = 'I11'\n",
      "    name = 'BK1SIZE'; format = '1E'; unit = 'pixel'; disp = 'G15.7'\n",
      "    name = 'BK2SIZE'; format = '1E'; unit = 'pixel'; disp = 'G15.7'\n",
      "    name = 'BK1OFFST'; format = '1E'; unit = 'pixel'; disp = 'G15.7'\n",
      "    name = 'BK2OFFST'; format = '1E'; unit = 'pixel'; disp = 'G15.7'\n",
      "    name = 'EXTRLOCY'; format = '1024E'; unit = 'pixel'; disp = 'G15.7'\n",
      "    name = 'OFFSET'; format = '1E'; unit = 'pixel'; disp = 'G15.7'\n",
      "    name = 'NET_ERROR_PCI_LOW'; format = '1024E'; unit = 'Counts/s'; disp = 'G15.7'\n",
      "    name = 'NET_ERROR_PCI_UP'; format = '1024E'; unit = 'Counts/s'; disp = 'G15.7'\n",
      "    name = 'ERROR_PCI_LOW'; format = '1024E'; unit = 'erg/s/cm**2/Angstrom'; disp = 'G15.7'\n",
      "    name = 'ERROR_PCI_UP'; format = '1024E'; unit = 'erg/s/cm**2/Angstrom'; disp = 'G15.7'\n",
      "    name = 'N_COUNTS'; format = '1024E'; unit = 'Counts'; disp = 'G15.7'\n",
      ")\n"
     ]
    }
   ],
   "source": [
    "fig, ax = plt.subplots(figsize=(9, 5))\n",
    "\n",
    "ax.plot(waves, net_err*exptime, label='Net Error', linewidth=2)\n",
    "\n",
    "N = (net_err*exptime)**2\n",
    "# need nan to num b/c some negative values...\n",
    "ax.plot(waves, np.nan_to_num(\n",
    "        N-poisson_conf_interval(N, interval='frequentist-confidence')[0]),\n",
    "        '-', label='Manual Astropy Lower PCI', linewidth=lw)\n",
    "ax.plot(waves,\n",
    "        poisson_conf_interval(N, interval='frequentist-confidence')[1]-N,\n",
    "        '-', label='Manual Astropy Upper PCI', linewidth=lw)\n",
    "\n",
    "ax.plot(new_waves, new_net_err_pci_low*new_exptime,\n",
    "        '--', label='stistools Lower PCI', linewidth=lw)\n",
    "\n",
    "ax.plot(new_waves, new_net_err_pci_up*new_exptime,\n",
    "        '--', label='stistools Upper PCI', linewidth=lw)\n",
    "\n",
    "ax.set_xlim(1217, 1220)\n",
    "ax.set_ylim(-0.2, 3.5)\n",
    "\n",
    "ax.set_ylabel('Error (Counts)', fontsize=12)\n",
    "ax.set_xlabel('Wavelength ($\\\\mathrm{\\\\AA}$)', fontsize=12)\n",
    "\n",
    "ax.legend(ncol=1, fontsize=11)\n",
    "ax.tick_params(labelsize=11)\n",
    "\n",
    "fig.tight_layout()\n",
    "print(hdu[1].columns)"
   ]
  },
  {
   "cell_type": "markdown",
   "id": "faac0f20-3e7c-4953-b56f-3e9c9a87a9a6",
   "metadata": {},
   "source": [
    "As you can see, the stistools.poisson_err.poisson_err function re-creates our manual calculation of the Poisson confidence interval with Astropy."
   ]
  },
  {
   "cell_type": "markdown",
   "id": "51e344fd-4987-4f5f-93a3-da924644540e",
   "metadata": {},
   "source": [
    "## Comparison to COS\n",
    "STIS is not the only FUV instrument on HST! The Cosmic Origins Spectrograph has similar UV channels where the regime of low-signal will be relevant. [COS ISR 2021-03](https://www.stsci.edu/files/live/sites/www/files/home/hst/instrumentation/cos/documentation/instrument-science-reports-isrs/_documents/COS_ISR_2021_03.pdf) describes updates to the HST/COS pipeline, [CalCOS](https://github.com/spacetelescope/calcos), that takes into account Poisson uncertainties.\n",
    "\n",
    "Let's take a look at COS observations of our now-favorite exoplanet system, GJ-436."
   ]
  },
  {
   "cell_type": "code",
   "execution_count": 11,
   "id": "094f4709-ad56-4d3a-8b66-35a6fb69d471",
   "metadata": {
    "execution": {
     "iopub.execute_input": "2025-10-02T18:09:31.999625Z",
     "iopub.status.busy": "2025-10-02T18:09:31.999447Z",
     "iopub.status.idle": "2025-10-02T18:09:37.171489Z",
     "shell.execute_reply": "2025-10-02T18:09:37.171063Z"
    }
   },
   "outputs": [
    {
     "name": "stdout",
     "output_type": "stream",
     "text": [
      "Downloading URL https://mast.stsci.edu/api/v0.1/Download/file?uri=mast:HST/product/ld9m12erq_x1d.fits to ./mastDownload/HST/ld9m12erq/ld9m12erq_x1d.fits ..."
     ]
    },
    {
     "name": "stdout",
     "output_type": "stream",
     "text": [
      " [Done]\n"
     ]
    },
    {
     "name": "stdout",
     "output_type": "stream",
     "text": [
      "HST COS FUV G130M PSA\n",
      "Program: 14767\n",
      "PI: David K.      Sing\n",
      "Target: GJ-436\n",
      "Date: 2025-10-02\n"
     ]
    }
   ],
   "source": [
    "# Download a COS file for observations of GJ 436\n",
    "target_id = \"LD9M12010\"\n",
    "target = Observations.query_criteria(obs_id=[target_id])\n",
    "\n",
    "# get a list of files assiciated with that target\n",
    "target_list = Observations.get_product_list(target)\n",
    "\n",
    "# Download just the x1d file\n",
    "Observations.download_products(target_list, extension='ld9m12erq_x1d.fits')\n",
    "\n",
    "# get file path\n",
    "file_path_ld9m12erq = os.path.join('.', 'mastDownload',\n",
    "                                   'HST', 'ld9m12erq', 'ld9m12erq_x1d.fits')\n",
    "\n",
    "# read in x1d\n",
    "with fits.open(file_path_ld9m12erq) as hdu:\n",
    "    header = hdu[0].header\n",
    "    data = hdu[1].data\n",
    "    exptime = hdu[1].header['EXPTIME']\n",
    "    # no meandark calculated\n",
    "    # darkcount = hdu[1].header['MEANDARK']\n",
    "    # extrsize = hdu[1].data['EXTRSIZE']\n",
    "    flux = hdu[1].data['FLUX'][0]\n",
    "    flux_err_up = hdu[1].data['ERROR'][0]\n",
    "    flux_err_lo = hdu[1].data['ERROR_lower'][0]\n",
    "    net = hdu[1].data['NET'][0]\n",
    "    var_counts = hdu[1].data['VARIANCE_COUNTS'][0]\n",
    "    var_bkg = hdu[1].data['VARIANCE_BKG'][0]\n",
    "    var_flat = hdu[1].data['VARIANCE_FLAT'][0]\n",
    "    gross = hdu[1].data['GROSS'][0]\n",
    "    bg = hdu[1].data['BACKGROUND'][0]\n",
    "    waves = hdu[1].data['WAVELENGTH'][0]\n",
    "\n",
    "# Print some relevant information for reference...\n",
    "print(hdu[0].header['TELESCOP'], hdu[0].header['INSTRUME'],\n",
    "      hdu[0].header['DETECTOR'], hdu[0].header['OPT_ELEM'],\n",
    "      hdu[0].header['APERTURE'])\n",
    "print(f\"Program: {hdu[0].header['PROPOSID']}\")\n",
    "print(f\"PI: {hdu[0].header['PR_INV_F']} {hdu[0].header['PR_INV_M']}\\\n",
    "      {hdu[0].header['PR_INV_L']}\")\n",
    "print(f\"Target: {hdu[0].header['TARGNAME']}\")\n",
    "print(f\"Date: {hdu[0].header['DATE']}\")"
   ]
  },
  {
   "cell_type": "markdown",
   "id": "401d37e4-bba4-4333-b83f-30d0dfd78310",
   "metadata": {},
   "source": [
    "For COS, columns have been added to the to the processed files (see the list printed below), giving both the Poisson upper and lower errors as well as the equivalent counts from the flux, background, and flat-fields that contribute to the error. The \"equivalent counts\" are listed in the \"VARIANCE_*\" columns in the x1d files can be used to recreate the Poisson confidence interval calculated in the ERROR and ERROR_LOWER columns.\n",
    "\n",
    "Also printed below are the maximum and mean VARIANCE_BKG, VARIANCE_FLAT, and VARIANCE_COUNTS values. You can see that the equivalent counts and therefore the subsequent uncertainties are dominated by the measurement of the signal itself, not the background or flat-field reduction steps."
   ]
  },
  {
   "cell_type": "code",
   "execution_count": 12,
   "id": "dfc3e2c2-1743-49fe-8c47-5f14eee69b7b",
   "metadata": {
    "execution": {
     "iopub.execute_input": "2025-10-02T18:09:37.173292Z",
     "iopub.status.busy": "2025-10-02T18:09:37.173142Z",
     "iopub.status.idle": "2025-10-02T18:09:37.177014Z",
     "shell.execute_reply": "2025-10-02T18:09:37.176558Z"
    }
   },
   "outputs": [
    {
     "name": "stdout",
     "output_type": "stream",
     "text": [
      "ColDefs(\n",
      "    name = 'SEGMENT'; format = '4A'\n",
      "    name = 'EXPTIME'; format = '1D'; unit = 's'; disp = 'F8.3'\n",
      "    name = 'NELEM'; format = '1J'; disp = 'I6'\n",
      "    name = 'WAVELENGTH'; format = '16384D'; unit = 'angstrom'\n",
      "    name = 'FLUX'; format = '16384E'; unit = 'erg /s /cm**2 /angstrom'\n",
      "    name = 'ERROR'; format = '16384E'; unit = 'erg /s /cm**2 /angstrom'\n",
      "    name = 'ERROR_LOWER'; format = '16384E'; unit = 'erg /s /cm**2 /angstrom'\n",
      "    name = 'VARIANCE_FLAT'; format = '16384E'\n",
      "    name = 'VARIANCE_COUNTS'; format = '16384E'\n",
      "    name = 'VARIANCE_BKG'; format = '16384E'\n",
      "    name = 'GROSS'; format = '16384E'; unit = 'count /s'\n",
      "    name = 'GCOUNTS'; format = '16384E'; unit = 'count'\n",
      "    name = 'NET'; format = '16384E'; unit = 'count /s'\n",
      "    name = 'BACKGROUND'; format = '16384E'; unit = 'count /s'\n",
      "    name = 'DQ'; format = '16384I'\n",
      "    name = 'DQ_WGT'; format = '16384E'\n",
      "    name = 'DQ_OUTER'; format = '16384I'\n",
      "    name = 'BACKGROUND_PER_PIXEL'; format = '16384E'; unit = 'count /s /pixel'\n",
      "    name = 'NUM_EXTRACT_ROWS'; format = '16384I'\n",
      "    name = 'ACTUAL_EE'; format = '16384D'\n",
      "    name = 'Y_LOWER_OUTER'; format = '16384D'\n",
      "    name = 'Y_UPPER_OUTER'; format = '16384D'\n",
      "    name = 'Y_LOWER_INNER'; format = '16384D'\n",
      "    name = 'Y_UPPER_INNER'; format = '16384D'\n",
      ")\n",
      "Max of VARIANCE_BKG, VARIANCE_FLAT, and VARIANCE_COUNTS:\n",
      "0.001043762 0.000855 50.10091\n",
      "Mean of VARIANCE_BKG, VARIANCE_FLAT, and VARIANCE_COUNTS:\n",
      "6.0306025e-05 3.6391452e-06 0.54548216\n"
     ]
    }
   ],
   "source": [
    "print(data.columns)\n",
    "\n",
    "# Print some invo about the VARIANCE counts\n",
    "print('Max of VARIANCE_BKG, VARIANCE_FLAT, and VARIANCE_COUNTS:')\n",
    "print(np.max(var_bkg), np.max(var_flat), np.max(var_counts))\n",
    "\n",
    "print('Mean of VARIANCE_BKG, VARIANCE_FLAT, and VARIANCE_COUNTS:')\n",
    "print(np.mean(var_bkg), np.mean(var_flat), np.mean(var_counts))"
   ]
  },
  {
   "cell_type": "markdown",
   "id": "a31c966e-3bab-4518-925d-d5785a8b9118",
   "metadata": {},
   "source": [
    "Now, let's look at what the spectrum and errors look like. While we're looking at the same system, GJ 436, these COS observations are taken at a somewhat longer wavelength range, but otherwise the behavior is the similar to what is seen in STIS (i.e., some strong stellar emission lines surrounded by a very low-count FUV continuum)."
   ]
  },
  {
   "cell_type": "code",
   "execution_count": 13,
   "id": "413e5664-457f-4b16-b066-5b586ffa89ba",
   "metadata": {
    "execution": {
     "iopub.execute_input": "2025-10-02T18:09:37.178374Z",
     "iopub.status.busy": "2025-10-02T18:09:37.178237Z",
     "iopub.status.idle": "2025-10-02T18:09:37.300163Z",
     "shell.execute_reply": "2025-10-02T18:09:37.299745Z"
    }
   },
   "outputs": [],
   "source": [
    "# Now let's look at what the spectrum and errors really look like\n",
    "fig, ax = plt.subplots()\n",
    "\n",
    "ax.plot(waves, gross*exptime, label='Gross Counts', zorder=999)\n",
    "ax.plot(waves, net*exptime, label='Net Counts', zorder=998)\n",
    "ax.plot(waves, var_counts, label='Var Counts', zorder=997)\n",
    "\n",
    "ax.set_xlim(1290, 1310)\n",
    "ax.legend()\n",
    "\n",
    "ax.set_ylabel('Flux (counts)', fontsize=12)\n",
    "ax.set_xlabel('Wavelength ($\\\\mathrm{\\\\AA}$)', fontsize=12)\n",
    "\n",
    "ax.tick_params(labelsize=11)\n",
    "\n",
    "fig.tight_layout()\n",
    "\n",
    "# Zoom in on low_SNR region\n",
    "fig, ax = plt.subplots()\n",
    "\n",
    "ax.plot(waves, gross*exptime, label='Gross Counts', zorder=999)\n",
    "ax.plot(waves, net*exptime, label='Net Counts', zorder=998)\n",
    "ax.plot(waves, var_counts, label='Var Counts', zorder=997)\n",
    "\n",
    "ax.set_xlim(1380, 1390)\n",
    "ax.set_ylim(-0.5, 2.5)\n",
    "\n",
    "ax.set_ylabel('Flux (counts)', fontsize=12)\n",
    "ax.set_xlabel('Wavelength ($\\\\mathrm{\\\\AA}$)', fontsize=12)\n",
    "\n",
    "ax.tick_params(labelsize=11)\n",
    "\n",
    "fig.tight_layout()"
   ]
  },
  {
   "cell_type": "markdown",
   "id": "bdbd5d8d-f554-419f-a1cb-d658df43bee2",
   "metadata": {},
   "source": [
    "You can see that outside of the emission lines seen between 1300 and 1307 Angstrom, counts are varying between 0, 1, or 2. This is the regime where the Gaussian root-N approximation breaks down. Below, we show how the pipeline Poisson Confidence Interval upper and lower limits compare to the root-N approximation."
   ]
  },
  {
   "cell_type": "code",
   "execution_count": 14,
   "id": "3aa90399-623c-40c2-afa2-51a7402709c8",
   "metadata": {
    "execution": {
     "iopub.execute_input": "2025-10-02T18:09:37.301932Z",
     "iopub.status.busy": "2025-10-02T18:09:37.301770Z",
     "iopub.status.idle": "2025-10-02T18:09:37.390870Z",
     "shell.execute_reply": "2025-10-02T18:09:37.390449Z"
    }
   },
   "outputs": [
    {
     "name": "stderr",
     "output_type": "stream",
     "text": [
      "/tmp/ipykernel_2896/1276255037.py:4: RuntimeWarning: invalid value encountered in divide\n",
      "  sensitivity = net/flux  # counts per second per flux\n"
     ]
    },
    {
     "data": {
      "text/plain": [
       "Text(0.5, 0, 'Wavelength ($\\\\mathrm{\\\\AA}$)')"
      ]
     },
     "execution_count": 14,
     "metadata": {},
     "output_type": "execute_result"
    }
   ],
   "source": [
    "# Convert flux errors to counts/s and then to counts\n",
    "# You'll get a RuntimeWarning here because some of the values of net and\n",
    "# flux are zero at the edges of the detector, so it is dividing by zero...\n",
    "sensitivity = net/flux  # counts per second per flux\n",
    "count_err_up = flux_err_up * exptime * sensitivity\n",
    "count_err_low = flux_err_lo * exptime * sensitivity\n",
    "\n",
    "fig, ax = plt.subplots()\n",
    "ax.plot(waves, np.sqrt(var_counts), label='Root-N')\n",
    "ax.plot(waves, count_err_up, label='COS Pipeline PCI Upper')\n",
    "ax.plot(waves, count_err_low, label='COS Pipeline PCI Lower')\n",
    "ax.legend()\n",
    "ax.set_xlim(1380, 1390)\n",
    "ax.set_ylim(-0.25, 2.75)\n",
    "\n",
    "plt.gca().set_ylabel('Error (counts)', fontsize=12)\n",
    "plt.gca().set_xlabel('Wavelength ($\\\\mathrm{\\\\AA}$)', fontsize=12)"
   ]
  },
  {
   "cell_type": "markdown",
   "id": "09e4fc7f-0df4-448a-b55b-09d81ffca6e8",
   "metadata": {},
   "source": [
    "You can see that the COS pipeline gives lower bound uncertainties lower than root-N, but the upper bound uncertainties are significantly higher than root-N (coming from the \"extra +1\" in the Poisson upper confidence interval, related to the \"continuity correction\" between the discrete Poisson and continuous Gaussian distributions). This is crucial for quantifying non-detections. For example, the sorts of upper limits you can place on something like the FUV continuum of an M-dwarf can come down to how you treat these sorts of uncertainties.\n",
    "\n",
    "Thus, the COS pipeline does indeed give the correct Poisson uncertainties. This must be kept in mind when comparing STIS and COS data, especially when taken directly from the pipelines. Make sure you're uncertainties are calculated in the way you expect/desire."
   ]
  },
  {
   "cell_type": "markdown",
   "id": "2f883e71-7715-4688-8765-17e0c6efea3f",
   "metadata": {},
   "source": [
    "## Recommendations\n",
    "\n",
    "As of 04/2025, the `calstis` pipeline calculates all errors according to the root-N approximation. We have therefore implemented a `stistools` function, `poisson_err.poisson_err` that calculates Poisson confidence intervals for STIS data. The function adds columns with the new errors to any x1d file.\n",
    "\n",
    "In the NUV, long exposures generally have enough dark counts to be in the regime where the Gaussian approximation is at least somewhat valid. For short exposures, however, measured counts may indeed be and users may want to opt for a Poisson confidence interval. Because the FUV dark rate is significantly lower than in the NUV, users will want to add the dark counts to the measured number of counts for NUV observations before calculating the Poisson confidence intervals, which is done in `poisson_err.poisson_err` by reconstructing the measured counts from the NET_ERROR, which will include the wavelength-specific dark counts as well."
   ]
  },
  {
   "cell_type": "markdown",
   "id": "4b706da9-86eb-4f6b-b5a3-dd722223a870",
   "metadata": {},
   "source": [
    "## Appendix: INTTAG"
   ]
  },
  {
   "cell_type": "markdown",
   "id": "364e3d0f-4908-4a3b-a61c-3e808bff4c29",
   "metadata": {},
   "source": [
    "There was recently a bug discovered in the procedure to split STIS TIME-TAG data into sub-exposures. That procedure is carried out with the [`inttag` task in stistools](https://stistools.readthedocs.io/en/latest/inttag.html). `inttag` takes the TIME-TAG table and splits them into sub-exposures with a user-defined duration (*increment* argument) or into a user-defined number of sub-exposures (*rcount* argument). The bug was resulting in errors that were significantly inflated, especially in regions of low flux.\n",
    "\n",
    "Let's download the TIME-TAG file that is associated with the STIS/G140L spectrum of GJ-436 we used above. Previously, we were just using the orbit-long exposure, but let's use the .tag file to split up the file into 3 subexposures using `inttag`.\n",
    "\n",
    "After we split the file up, we'll then run `calstis` to compare the new calibrated x1d file to the original, non-split x1d file. To do this, we'll need to set some paths for the CRDS reference files. You can read more about them here: https://hst-crds.stsci.edu/"
   ]
  },
  {
   "cell_type": "code",
   "execution_count": 15,
   "id": "e769f40d-7095-4ec8-8f18-e7caf69d4cc7",
   "metadata": {
    "execution": {
     "iopub.execute_input": "2025-10-02T18:09:37.392551Z",
     "iopub.status.busy": "2025-10-02T18:09:37.392398Z",
     "iopub.status.idle": "2025-10-02T18:12:26.092054Z",
     "shell.execute_reply": "2025-10-02T18:12:26.091562Z"
    }
   },
   "outputs": [
    {
     "name": "stdout",
     "output_type": "stream",
     "text": [
      "Downloading URL https://mast.stsci.edu/api/v0.1/Download/file?uri=mast:HST/product/obgh07020_tag.fits to ./mastDownload/HST/obgh07020/obgh07020_tag.fits ..."
     ]
    },
    {
     "name": "stdout",
     "output_type": "stream",
     "text": [
      " [Done]\n"
     ]
    },
    {
     "name": "stdout",
     "output_type": "stream",
     "text": [
      "imset: 1, start: 0.092375, stop: 968.4659166666667, exposure time: 968.3735416666667\n",
      "imset: 2, start: 968.4659166666667, stop: 1936.8394583333334, exposure time: 968.3735416666667\n",
      "imset: 3, start: 1936.8394583333334, stop: 2905.213, exposure time: 968.3735416666668\n"
     ]
    },
    {
     "name": "stdout",
     "output_type": "stream",
     "text": [
      "Downloading URL https://mast.stsci.edu/api/v0.1/Download/file?uri=mast:HST/product/obgh07020_wav.fits to ./mastDownload/HST/obgh07020/obgh07020_wav.fits ..."
     ]
    },
    {
     "name": "stdout",
     "output_type": "stream",
     "text": [
      " [Done]\n"
     ]
    },
    {
     "name": "stdout",
     "output_type": "stream",
     "text": [
      "CRDS - INFO -  Fetching  /home/runner/crds_cache/mappings/hst/hst_wfpc2_wf4tfile_0250.rmap      678 bytes  (1 / 142 files) (0 / 1.8 M bytes)\r\n"
     ]
    },
    {
     "name": "stdout",
     "output_type": "stream",
     "text": [
      "CRDS - INFO -  Fetching  /home/runner/crds_cache/mappings/hst/hst_wfpc2_shadfile_0250.rmap      977 bytes  (2 / 142 files) (678 / 1.8 M bytes)\r\n"
     ]
    },
    {
     "name": "stdout",
     "output_type": "stream",
     "text": [
      "CRDS - INFO -  Fetching  /home/runner/crds_cache/mappings/hst/hst_wfpc2_offtab_0250.rmap      642 bytes  (3 / 142 files) (1.7 K / 1.8 M bytes)\r\n"
     ]
    },
    {
     "name": "stdout",
     "output_type": "stream",
     "text": [
      "CRDS - INFO -  Fetching  /home/runner/crds_cache/mappings/hst/hst_wfpc2_maskfile_0250.rmap      685 bytes  (4 / 142 files) (2.3 K / 1.8 M bytes)\r\n"
     ]
    },
    {
     "name": "stdout",
     "output_type": "stream",
     "text": [
      "CRDS - INFO -  Fetching  /home/runner/crds_cache/mappings/hst/hst_wfpc2_idctab_0250.rmap      696 bytes  (5 / 142 files) (3.0 K / 1.8 M bytes)\r\n"
     ]
    },
    {
     "name": "stdout",
     "output_type": "stream",
     "text": [
      "CRDS - INFO -  Fetching  /home/runner/crds_cache/mappings/hst/hst_wfpc2_flatfile_0250.rmap   30.0 K bytes  (6 / 142 files) (3.7 K / 1.8 M bytes)\r\n"
     ]
    },
    {
     "name": "stdout",
     "output_type": "stream",
     "text": [
      "CRDS - INFO -  Fetching  /home/runner/crds_cache/mappings/hst/hst_wfpc2_dgeofile_0250.rmap      801 bytes  (7 / 142 files) (33.7 K / 1.8 M bytes)\r\n"
     ]
    },
    {
     "name": "stdout",
     "output_type": "stream",
     "text": [
      "CRDS - INFO -  Fetching  /home/runner/crds_cache/mappings/hst/hst_wfpc2_darkfile_0250.rmap  178.4 K bytes  (8 / 142 files) (34.5 K / 1.8 M bytes)\r\n"
     ]
    },
    {
     "name": "stdout",
     "output_type": "stream",
     "text": [
      "CRDS - INFO -  Fetching  /home/runner/crds_cache/mappings/hst/hst_wfpc2_biasfile_0250.rmap    3.3 K bytes  (9 / 142 files) (212.8 K / 1.8 M bytes)\r\n"
     ]
    },
    {
     "name": "stdout",
     "output_type": "stream",
     "text": [
      "CRDS - INFO -  Fetching  /home/runner/crds_cache/mappings/hst/hst_wfpc2_atodfile_0250.rmap      874 bytes  (10 / 142 files) (216.1 K / 1.8 M bytes)\r\n"
     ]
    },
    {
     "name": "stdout",
     "output_type": "stream",
     "text": [
      "CRDS - INFO -  Fetching  /home/runner/crds_cache/mappings/hst/hst_wfpc2_0250.imap      782 bytes  (11 / 142 files) (217.0 K / 1.8 M bytes)\r\n"
     ]
    },
    {
     "name": "stdout",
     "output_type": "stream",
     "text": [
      "CRDS - INFO -  Fetching  /home/runner/crds_cache/mappings/hst/hst_wfc3_snkcfile_0003.rmap      681 bytes  (12 / 142 files) (217.8 K / 1.8 M bytes)\r\n"
     ]
    },
    {
     "name": "stdout",
     "output_type": "stream",
     "text": [
      "CRDS - INFO -  Fetching  /home/runner/crds_cache/mappings/hst/hst_wfc3_satufile_0003.rmap    1.0 K bytes  (13 / 142 files) (218.5 K / 1.8 M bytes)\r\n"
     ]
    },
    {
     "name": "stdout",
     "output_type": "stream",
     "text": [
      "CRDS - INFO -  Fetching  /home/runner/crds_cache/mappings/hst/hst_wfc3_pfltfile_0253.rmap   34.2 K bytes  (14 / 142 files) (219.5 K / 1.8 M bytes)\r\n"
     ]
    },
    {
     "name": "stdout",
     "output_type": "stream",
     "text": [
      "CRDS - INFO -  Fetching  /home/runner/crds_cache/mappings/hst/hst_wfc3_pctetab_0004.rmap      698 bytes  (15 / 142 files) (253.7 K / 1.8 M bytes)\r\n"
     ]
    },
    {
     "name": "stdout",
     "output_type": "stream",
     "text": [
      "CRDS - INFO -  Fetching  /home/runner/crds_cache/mappings/hst/hst_wfc3_oscntab_0250.rmap      747 bytes  (16 / 142 files) (254.4 K / 1.8 M bytes)\r\n"
     ]
    },
    {
     "name": "stdout",
     "output_type": "stream",
     "text": [
      "CRDS - INFO -  Fetching  /home/runner/crds_cache/mappings/hst/hst_wfc3_npolfile_0254.rmap    4.0 K bytes  (17 / 142 files) (255.1 K / 1.8 M bytes)\r\n"
     ]
    },
    {
     "name": "stdout",
     "output_type": "stream",
     "text": [
      "CRDS - INFO -  Fetching  /home/runner/crds_cache/mappings/hst/hst_wfc3_nlinfile_0250.rmap      726 bytes  (18 / 142 files) (259.2 K / 1.8 M bytes)\r\n"
     ]
    },
    {
     "name": "stdout",
     "output_type": "stream",
     "text": [
      "CRDS - INFO -  Fetching  /home/runner/crds_cache/mappings/hst/hst_wfc3_mdriztab_0254.rmap      845 bytes  (19 / 142 files) (259.9 K / 1.8 M bytes)\r\n"
     ]
    },
    {
     "name": "stdout",
     "output_type": "stream",
     "text": [
      "CRDS - INFO -  Fetching  /home/runner/crds_cache/mappings/hst/hst_wfc3_imphttab_0257.rmap      683 bytes  (20 / 142 files) (260.7 K / 1.8 M bytes)\r\n"
     ]
    },
    {
     "name": "stdout",
     "output_type": "stream",
     "text": [
      "CRDS - INFO -  Fetching  /home/runner/crds_cache/mappings/hst/hst_wfc3_idctab_0254.rmap      661 bytes  (21 / 142 files) (261.4 K / 1.8 M bytes)\r\n"
     ]
    },
    {
     "name": "stdout",
     "output_type": "stream",
     "text": [
      "CRDS - INFO -  Fetching  /home/runner/crds_cache/mappings/hst/hst_wfc3_flshfile_0257.rmap    6.0 K bytes  (22 / 142 files) (262.1 K / 1.8 M bytes)\r\n"
     ]
    },
    {
     "name": "stdout",
     "output_type": "stream",
     "text": [
      "CRDS - INFO -  Fetching  /home/runner/crds_cache/mappings/hst/hst_wfc3_drkcfile_0208.rmap  252.5 K bytes  (23 / 142 files) (268.1 K / 1.8 M bytes)\r\n"
     ]
    },
    {
     "name": "stdout",
     "output_type": "stream",
     "text": [
      "CRDS - INFO -  Fetching  /home/runner/crds_cache/mappings/hst/hst_wfc3_dfltfile_0002.rmap   17.1 K bytes  (24 / 142 files) (520.6 K / 1.8 M bytes)\r\n"
     ]
    },
    {
     "name": "stdout",
     "output_type": "stream",
     "text": [
      "CRDS - INFO -  Fetching  /home/runner/crds_cache/mappings/hst/hst_wfc3_darkfile_0508.rmap  299.8 K bytes  (25 / 142 files) (537.7 K / 1.8 M bytes)\r\n"
     ]
    },
    {
     "name": "stdout",
     "output_type": "stream",
     "text": [
      "CRDS - INFO -  Fetching  /home/runner/crds_cache/mappings/hst/hst_wfc3_d2imfile_0251.rmap      605 bytes  (26 / 142 files) (837.5 K / 1.8 M bytes)\r\n"
     ]
    },
    {
     "name": "stdout",
     "output_type": "stream",
     "text": [
      "CRDS - INFO -  Fetching  /home/runner/crds_cache/mappings/hst/hst_wfc3_crrejtab_0250.rmap      803 bytes  (27 / 142 files) (838.1 K / 1.8 M bytes)\r\n"
     ]
    },
    {
     "name": "stdout",
     "output_type": "stream",
     "text": [
      "CRDS - INFO -  Fetching  /home/runner/crds_cache/mappings/hst/hst_wfc3_ccdtab_0250.rmap      799 bytes  (28 / 142 files) (838.9 K / 1.8 M bytes)\r\n"
     ]
    },
    {
     "name": "stdout",
     "output_type": "stream",
     "text": [
      "CRDS - INFO -  Fetching  /home/runner/crds_cache/mappings/hst/hst_wfc3_bpixtab_0328.rmap   12.6 K bytes  (29 / 142 files) (839.7 K / 1.8 M bytes)\r\n"
     ]
    },
    {
     "name": "stdout",
     "output_type": "stream",
     "text": [
      "CRDS - INFO -  Fetching  /home/runner/crds_cache/mappings/hst/hst_wfc3_biasfile_0268.rmap   23.6 K bytes  (30 / 142 files) (852.3 K / 1.8 M bytes)\r\n"
     ]
    },
    {
     "name": "stdout",
     "output_type": "stream",
     "text": [
      "CRDS - INFO -  Fetching  /home/runner/crds_cache/mappings/hst/hst_wfc3_biacfile_0003.rmap      692 bytes  (31 / 142 files) (875.9 K / 1.8 M bytes)\r\n"
     ]
    },
    {
     "name": "stdout",
     "output_type": "stream",
     "text": [
      "CRDS - INFO -  Fetching  /home/runner/crds_cache/mappings/hst/hst_wfc3_atodtab_0250.rmap      651 bytes  (32 / 142 files) (876.6 K / 1.8 M bytes)\r\n"
     ]
    },
    {
     "name": "stdout",
     "output_type": "stream",
     "text": [
      "CRDS - INFO -  Fetching  /home/runner/crds_cache/mappings/hst/hst_wfc3_0631.imap    1.3 K bytes  (33 / 142 files) (877.3 K / 1.8 M bytes)\r\n"
     ]
    },
    {
     "name": "stdout",
     "output_type": "stream",
     "text": [
      "CRDS - INFO -  Fetching  /home/runner/crds_cache/mappings/hst/hst_synphot_tmttab_0002.rmap      745 bytes  (34 / 142 files) (878.6 K / 1.8 M bytes)\r\n"
     ]
    },
    {
     "name": "stdout",
     "output_type": "stream",
     "text": [
      "CRDS - INFO -  Fetching  /home/runner/crds_cache/mappings/hst/hst_synphot_tmgtab_0013.rmap      767 bytes  (35 / 142 files) (879.3 K / 1.8 M bytes)\r\n"
     ]
    },
    {
     "name": "stdout",
     "output_type": "stream",
     "text": [
      "CRDS - INFO -  Fetching  /home/runner/crds_cache/mappings/hst/hst_synphot_tmctab_0061.rmap      743 bytes  (36 / 142 files) (880.1 K / 1.8 M bytes)\r\n"
     ]
    },
    {
     "name": "stdout",
     "output_type": "stream",
     "text": [
      "CRDS - INFO -  Fetching  /home/runner/crds_cache/mappings/hst/hst_synphot_thruput_0065.rmap  332.2 K bytes  (37 / 142 files) (880.8 K / 1.8 M bytes)\r\n"
     ]
    },
    {
     "name": "stdout",
     "output_type": "stream",
     "text": [
      "CRDS - INFO -  Fetching  /home/runner/crds_cache/mappings/hst/hst_synphot_thermal_0003.rmap   20.4 K bytes  (38 / 142 files) (1.2 M / 1.8 M bytes)\r\n"
     ]
    },
    {
     "name": "stdout",
     "output_type": "stream",
     "text": [
      "CRDS - INFO -  Fetching  /home/runner/crds_cache/mappings/hst/hst_synphot_obsmodes_0004.rmap      743 bytes  (39 / 142 files) (1.2 M / 1.8 M bytes)\r\n"
     ]
    },
    {
     "name": "stdout",
     "output_type": "stream",
     "text": [
      "CRDS - INFO -  Fetching  /home/runner/crds_cache/mappings/hst/hst_synphot_0075.imap      579 bytes  (40 / 142 files) (1.2 M / 1.8 M bytes)\r\n"
     ]
    },
    {
     "name": "stdout",
     "output_type": "stream",
     "text": [
      "CRDS - INFO -  Fetching  /home/runner/crds_cache/mappings/hst/hst_stis_xtractab_0250.rmap      815 bytes  (41 / 142 files) (1.2 M / 1.8 M bytes)\r\n"
     ]
    },
    {
     "name": "stdout",
     "output_type": "stream",
     "text": [
      "CRDS - INFO -  Fetching  /home/runner/crds_cache/mappings/hst/hst_stis_wcptab_0251.rmap      578 bytes  (42 / 142 files) (1.2 M / 1.8 M bytes)\r\n"
     ]
    },
    {
     "name": "stdout",
     "output_type": "stream",
     "text": [
      "CRDS - INFO -  Fetching  /home/runner/crds_cache/mappings/hst/hst_stis_teltab_0250.rmap      745 bytes  (43 / 142 files) (1.2 M / 1.8 M bytes)\r\n"
     ]
    },
    {
     "name": "stdout",
     "output_type": "stream",
     "text": [
      "CRDS - INFO -  Fetching  /home/runner/crds_cache/mappings/hst/hst_stis_tdstab_0256.rmap      921 bytes  (44 / 142 files) (1.2 M / 1.8 M bytes)\r\n"
     ]
    },
    {
     "name": "stdout",
     "output_type": "stream",
     "text": [
      "CRDS - INFO -  Fetching  /home/runner/crds_cache/mappings/hst/hst_stis_tdctab_0253.rmap      650 bytes  (45 / 142 files) (1.2 M / 1.8 M bytes)\r\n"
     ]
    },
    {
     "name": "stdout",
     "output_type": "stream",
     "text": [
      "CRDS - INFO -  Fetching  /home/runner/crds_cache/mappings/hst/hst_stis_srwtab_0250.rmap      745 bytes  (46 / 142 files) (1.2 M / 1.8 M bytes)\r\n"
     ]
    },
    {
     "name": "stdout",
     "output_type": "stream",
     "text": [
      "CRDS - INFO -  Fetching  /home/runner/crds_cache/mappings/hst/hst_stis_sptrctab_0251.rmap      895 bytes  (47 / 142 files) (1.2 M / 1.8 M bytes)\r\n"
     ]
    },
    {
     "name": "stdout",
     "output_type": "stream",
     "text": [
      "CRDS - INFO -  Fetching  /home/runner/crds_cache/mappings/hst/hst_stis_sdctab_0251.rmap      889 bytes  (48 / 142 files) (1.2 M / 1.8 M bytes)\r\n"
     ]
    },
    {
     "name": "stdout",
     "output_type": "stream",
     "text": [
      "CRDS - INFO -  Fetching  /home/runner/crds_cache/mappings/hst/hst_stis_riptab_0254.rmap      877 bytes  (49 / 142 files) (1.2 M / 1.8 M bytes)\r\n"
     ]
    },
    {
     "name": "stdout",
     "output_type": "stream",
     "text": [
      "CRDS - INFO -  Fetching  /home/runner/crds_cache/mappings/hst/hst_stis_phottab_0259.rmap    1.6 K bytes  (50 / 142 files) (1.2 M / 1.8 M bytes)\r\n"
     ]
    },
    {
     "name": "stdout",
     "output_type": "stream",
     "text": [
      "CRDS - INFO -  Fetching  /home/runner/crds_cache/mappings/hst/hst_stis_pfltfile_0250.rmap   23.7 K bytes  (51 / 142 files) (1.2 M / 1.8 M bytes)\r\n"
     ]
    },
    {
     "name": "stdout",
     "output_type": "stream",
     "text": [
      "CRDS - INFO -  Fetching  /home/runner/crds_cache/mappings/hst/hst_stis_pctab_0250.rmap    3.1 K bytes  (52 / 142 files) (1.3 M / 1.8 M bytes)\r\n"
     ]
    },
    {
     "name": "stdout",
     "output_type": "stream",
     "text": [
      "CRDS - INFO -  Fetching  /home/runner/crds_cache/mappings/hst/hst_stis_mofftab_0250.rmap      747 bytes  (53 / 142 files) (1.3 M / 1.8 M bytes)\r\n"
     ]
    },
    {
     "name": "stdout",
     "output_type": "stream",
     "text": [
      "CRDS - INFO -  Fetching  /home/runner/crds_cache/mappings/hst/hst_stis_mlintab_0250.rmap      601 bytes  (54 / 142 files) (1.3 M / 1.8 M bytes)\r\n"
     ]
    },
    {
     "name": "stdout",
     "output_type": "stream",
     "text": [
      "CRDS - INFO -  Fetching  /home/runner/crds_cache/mappings/hst/hst_stis_lfltfile_0250.rmap   11.8 K bytes  (55 / 142 files) (1.3 M / 1.8 M bytes)\r\n"
     ]
    },
    {
     "name": "stdout",
     "output_type": "stream",
     "text": [
      "CRDS - INFO -  Fetching  /home/runner/crds_cache/mappings/hst/hst_stis_lamptab_0250.rmap      610 bytes  (56 / 142 files) (1.3 M / 1.8 M bytes)\r\n"
     ]
    },
    {
     "name": "stdout",
     "output_type": "stream",
     "text": [
      "CRDS - INFO -  Fetching  /home/runner/crds_cache/mappings/hst/hst_stis_inangtab_0250.rmap      815 bytes  (57 / 142 files) (1.3 M / 1.8 M bytes)\r\n"
     ]
    },
    {
     "name": "stdout",
     "output_type": "stream",
     "text": [
      "CRDS - INFO -  Fetching  /home/runner/crds_cache/mappings/hst/hst_stis_imphttab_0253.rmap      616 bytes  (58 / 142 files) (1.3 M / 1.8 M bytes)\r\n"
     ]
    },
    {
     "name": "stdout",
     "output_type": "stream",
     "text": [
      "CRDS - INFO -  Fetching  /home/runner/crds_cache/mappings/hst/hst_stis_idctab_0251.rmap      775 bytes  (59 / 142 files) (1.3 M / 1.8 M bytes)\r\n"
     ]
    },
    {
     "name": "stdout",
     "output_type": "stream",
     "text": [
      "CRDS - INFO -  Fetching  /home/runner/crds_cache/mappings/hst/hst_stis_halotab_0250.rmap      747 bytes  (60 / 142 files) (1.3 M / 1.8 M bytes)\r\n"
     ]
    },
    {
     "name": "stdout",
     "output_type": "stream",
     "text": [
      "CRDS - INFO -  Fetching  /home/runner/crds_cache/mappings/hst/hst_stis_gactab_0250.rmap      651 bytes  (61 / 142 files) (1.3 M / 1.8 M bytes)\r\n"
     ]
    },
    {
     "name": "stdout",
     "output_type": "stream",
     "text": [
      "CRDS - INFO -  Fetching  /home/runner/crds_cache/mappings/hst/hst_stis_exstab_0250.rmap      745 bytes  (62 / 142 files) (1.3 M / 1.8 M bytes)\r\n"
     ]
    },
    {
     "name": "stdout",
     "output_type": "stream",
     "text": [
      "CRDS - INFO -  Fetching  /home/runner/crds_cache/mappings/hst/hst_stis_echsctab_0250.rmap      749 bytes  (63 / 142 files) (1.3 M / 1.8 M bytes)\r\n"
     ]
    },
    {
     "name": "stdout",
     "output_type": "stream",
     "text": [
      "CRDS - INFO -  Fetching  /home/runner/crds_cache/mappings/hst/hst_stis_disptab_0250.rmap      813 bytes  (64 / 142 files) (1.3 M / 1.8 M bytes)\r\n"
     ]
    },
    {
     "name": "stdout",
     "output_type": "stream",
     "text": [
      "CRDS - INFO -  Fetching  /home/runner/crds_cache/mappings/hst/hst_stis_darkfile_0369.rmap   63.4 K bytes  (65 / 142 files) (1.3 M / 1.8 M bytes)\r\n"
     ]
    },
    {
     "name": "stdout",
     "output_type": "stream",
     "text": [
      "CRDS - INFO -  Fetching  /home/runner/crds_cache/mappings/hst/hst_stis_crrejtab_0250.rmap      711 bytes  (66 / 142 files) (1.4 M / 1.8 M bytes)\r\n"
     ]
    },
    {
     "name": "stdout",
     "output_type": "stream",
     "text": [
      "CRDS - INFO -  Fetching  /home/runner/crds_cache/mappings/hst/hst_stis_cdstab_0250.rmap      745 bytes  (67 / 142 files) (1.4 M / 1.8 M bytes)\r\n"
     ]
    },
    {
     "name": "stdout",
     "output_type": "stream",
     "text": [
      "CRDS - INFO -  Fetching  /home/runner/crds_cache/mappings/hst/hst_stis_ccdtab_0252.rmap      893 bytes  (68 / 142 files) (1.4 M / 1.8 M bytes)\r\n"
     ]
    },
    {
     "name": "stdout",
     "output_type": "stream",
     "text": [
      "CRDS - INFO -  Fetching  /home/runner/crds_cache/mappings/hst/hst_stis_bpixtab_0250.rmap      845 bytes  (69 / 142 files) (1.4 M / 1.8 M bytes)\r\n"
     ]
    },
    {
     "name": "stdout",
     "output_type": "stream",
     "text": [
      "CRDS - INFO -  Fetching  /home/runner/crds_cache/mappings/hst/hst_stis_biasfile_0370.rmap  124.8 K bytes  (70 / 142 files) (1.4 M / 1.8 M bytes)\r\n"
     ]
    },
    {
     "name": "stdout",
     "output_type": "stream",
     "text": [
      "CRDS - INFO -  Fetching  /home/runner/crds_cache/mappings/hst/hst_stis_apertab_0250.rmap      588 bytes  (71 / 142 files) (1.5 M / 1.8 M bytes)\r\n"
     ]
    },
    {
     "name": "stdout",
     "output_type": "stream",
     "text": [
      "CRDS - INFO -  Fetching  /home/runner/crds_cache/mappings/hst/hst_stis_apdestab_0252.rmap      636 bytes  (72 / 142 files) (1.5 M / 1.8 M bytes)\r\n"
     ]
    },
    {
     "name": "stdout",
     "output_type": "stream",
     "text": [
      "CRDS - INFO -  Fetching  /home/runner/crds_cache/mappings/hst/hst_stis_0390.imap    1.7 K bytes  (73 / 142 files) (1.5 M / 1.8 M bytes)\r\n"
     ]
    },
    {
     "name": "stdout",
     "output_type": "stream",
     "text": [
      "CRDS - INFO -  Fetching  /home/runner/crds_cache/mappings/hst/hst_nicmos_zprattab_0250.rmap      646 bytes  (74 / 142 files) (1.5 M / 1.8 M bytes)\r\n"
     ]
    },
    {
     "name": "stdout",
     "output_type": "stream",
     "text": [
      "CRDS - INFO -  Fetching  /home/runner/crds_cache/mappings/hst/hst_nicmos_tempfile_0250.rmap    1.1 K bytes  (75 / 142 files) (1.5 M / 1.8 M bytes)\r\n"
     ]
    },
    {
     "name": "stdout",
     "output_type": "stream",
     "text": [
      "CRDS - INFO -  Fetching  /home/runner/crds_cache/mappings/hst/hst_nicmos_tdffile_0250.rmap    8.9 K bytes  (76 / 142 files) (1.5 M / 1.8 M bytes)\r\n"
     ]
    },
    {
     "name": "stdout",
     "output_type": "stream",
     "text": [
      "CRDS - INFO -  Fetching  /home/runner/crds_cache/mappings/hst/hst_nicmos_saadfile_0250.rmap      771 bytes  (77 / 142 files) (1.5 M / 1.8 M bytes)\r\n"
     ]
    },
    {
     "name": "stdout",
     "output_type": "stream",
     "text": [
      "CRDS - INFO -  Fetching  /home/runner/crds_cache/mappings/hst/hst_nicmos_saacntab_0250.rmap      594 bytes  (78 / 142 files) (1.5 M / 1.8 M bytes)\r\n"
     ]
    },
    {
     "name": "stdout",
     "output_type": "stream",
     "text": [
      "CRDS - INFO -  Fetching  /home/runner/crds_cache/mappings/hst/hst_nicmos_rnlcortb_0250.rmap      771 bytes  (79 / 142 files) (1.5 M / 1.8 M bytes)\r\n"
     ]
    },
    {
     "name": "stdout",
     "output_type": "stream",
     "text": [
      "CRDS - INFO -  Fetching  /home/runner/crds_cache/mappings/hst/hst_nicmos_pmskfile_0250.rmap      603 bytes  (80 / 142 files) (1.5 M / 1.8 M bytes)\r\n"
     ]
    },
    {
     "name": "stdout",
     "output_type": "stream",
     "text": [
      "CRDS - INFO -  Fetching  /home/runner/crds_cache/mappings/hst/hst_nicmos_pmodfile_0250.rmap      603 bytes  (81 / 142 files) (1.5 M / 1.8 M bytes)\r\n"
     ]
    },
    {
     "name": "stdout",
     "output_type": "stream",
     "text": [
      "CRDS - INFO -  Fetching  /home/runner/crds_cache/mappings/hst/hst_nicmos_phottab_0250.rmap      862 bytes  (82 / 142 files) (1.5 M / 1.8 M bytes)\r\n"
     ]
    },
    {
     "name": "stdout",
     "output_type": "stream",
     "text": [
      "CRDS - INFO -  Fetching  /home/runner/crds_cache/mappings/hst/hst_nicmos_pedsbtab_0250.rmap      594 bytes  (83 / 142 files) (1.5 M / 1.8 M bytes)\r\n"
     ]
    },
    {
     "name": "stdout",
     "output_type": "stream",
     "text": [
      "CRDS - INFO -  Fetching  /home/runner/crds_cache/mappings/hst/hst_nicmos_noisfile_0250.rmap    2.6 K bytes  (84 / 142 files) (1.5 M / 1.8 M bytes)\r\n"
     ]
    },
    {
     "name": "stdout",
     "output_type": "stream",
     "text": [
      "CRDS - INFO -  Fetching  /home/runner/crds_cache/mappings/hst/hst_nicmos_nlinfile_0250.rmap    1.7 K bytes  (85 / 142 files) (1.5 M / 1.8 M bytes)\r\n"
     ]
    },
    {
     "name": "stdout",
     "output_type": "stream",
     "text": [
      "CRDS - INFO -  Fetching  /home/runner/crds_cache/mappings/hst/hst_nicmos_maskfile_0250.rmap    1.2 K bytes  (86 / 142 files) (1.5 M / 1.8 M bytes)\r\n"
     ]
    },
    {
     "name": "stdout",
     "output_type": "stream",
     "text": [
      "CRDS - INFO -  Fetching  /home/runner/crds_cache/mappings/hst/hst_nicmos_illmfile_0250.rmap    5.8 K bytes  (87 / 142 files) (1.5 M / 1.8 M bytes)\r\n"
     ]
    },
    {
     "name": "stdout",
     "output_type": "stream",
     "text": [
      "CRDS - INFO -  Fetching  /home/runner/crds_cache/mappings/hst/hst_nicmos_idctab_0250.rmap      767 bytes  (88 / 142 files) (1.5 M / 1.8 M bytes)\r\n"
     ]
    },
    {
     "name": "stdout",
     "output_type": "stream",
     "text": [
      "CRDS - INFO -  Fetching  /home/runner/crds_cache/mappings/hst/hst_nicmos_flatfile_0250.rmap   11.0 K bytes  (89 / 142 files) (1.5 M / 1.8 M bytes)\r\n"
     ]
    },
    {
     "name": "stdout",
     "output_type": "stream",
     "text": [
      "CRDS - INFO -  Fetching  /home/runner/crds_cache/mappings/hst/hst_nicmos_darkfile_0250.rmap   14.9 K bytes  (90 / 142 files) (1.5 M / 1.8 M bytes)\r\n"
     ]
    },
    {
     "name": "stdout",
     "output_type": "stream",
     "text": [
      "CRDS - INFO -  Fetching  /home/runner/crds_cache/mappings/hst/hst_nicmos_0250.imap    1.1 K bytes  (91 / 142 files) (1.5 M / 1.8 M bytes)\r\n"
     ]
    },
    {
     "name": "stdout",
     "output_type": "stream",
     "text": [
      "CRDS - INFO -  Fetching  /home/runner/crds_cache/mappings/hst/hst_cos_ywlkfile_0004.rmap      922 bytes  (92 / 142 files) (1.5 M / 1.8 M bytes)\r\n"
     ]
    },
    {
     "name": "stdout",
     "output_type": "stream",
     "text": [
      "CRDS - INFO -  Fetching  /home/runner/crds_cache/mappings/hst/hst_cos_xwlkfile_0003.rmap      922 bytes  (93 / 142 files) (1.5 M / 1.8 M bytes)\r\n"
     ]
    },
    {
     "name": "stdout",
     "output_type": "stream",
     "text": [
      "CRDS - INFO -  Fetching  /home/runner/crds_cache/mappings/hst/hst_cos_xtractab_0272.rmap    1.9 K bytes  (94 / 142 files) (1.5 M / 1.8 M bytes)\r\n"
     ]
    },
    {
     "name": "stdout",
     "output_type": "stream",
     "text": [
      "CRDS - INFO -  Fetching  /home/runner/crds_cache/mappings/hst/hst_cos_wcptab_0262.rmap    1.2 K bytes  (95 / 142 files) (1.5 M / 1.8 M bytes)\r\n"
     ]
    },
    {
     "name": "stdout",
     "output_type": "stream",
     "text": [
      "CRDS - INFO -  Fetching  /home/runner/crds_cache/mappings/hst/hst_cos_twozxtab_0282.rmap    1.5 K bytes  (96 / 142 files) (1.5 M / 1.8 M bytes)\r\n"
     ]
    },
    {
     "name": "stdout",
     "output_type": "stream",
     "text": [
      "CRDS - INFO -  Fetching  /home/runner/crds_cache/mappings/hst/hst_cos_tracetab_0280.rmap    1.5 K bytes  (97 / 142 files) (1.5 M / 1.8 M bytes)\r\n"
     ]
    },
    {
     "name": "stdout",
     "output_type": "stream",
     "text": [
      "CRDS - INFO -  Fetching  /home/runner/crds_cache/mappings/hst/hst_cos_tdstab_0274.rmap      749 bytes  (98 / 142 files) (1.5 M / 1.8 M bytes)\r\n"
     ]
    },
    {
     "name": "stdout",
     "output_type": "stream",
     "text": [
      "CRDS - INFO -  Fetching  /home/runner/crds_cache/mappings/hst/hst_cos_spwcstab_0255.rmap    1.1 K bytes  (99 / 142 files) (1.5 M / 1.8 M bytes)\r\n"
     ]
    },
    {
     "name": "stdout",
     "output_type": "stream",
     "text": [
      "CRDS - INFO -  Fetching  /home/runner/crds_cache/mappings/hst/hst_cos_spottab_0008.rmap      766 bytes  (100 / 142 files) (1.5 M / 1.8 M bytes)\r\n"
     ]
    },
    {
     "name": "stdout",
     "output_type": "stream",
     "text": [
      "CRDS - INFO -  Fetching  /home/runner/crds_cache/mappings/hst/hst_cos_proftab_0280.rmap    1.5 K bytes  (101 / 142 files) (1.5 M / 1.8 M bytes)\r\n"
     ]
    },
    {
     "name": "stdout",
     "output_type": "stream",
     "text": [
      "CRDS - INFO -  Fetching  /home/runner/crds_cache/mappings/hst/hst_cos_phatab_0250.rmap      668 bytes  (102 / 142 files) (1.6 M / 1.8 M bytes)\r\n"
     ]
    },
    {
     "name": "stdout",
     "output_type": "stream",
     "text": [
      "CRDS - INFO -  Fetching  /home/runner/crds_cache/mappings/hst/hst_cos_lamptab_0268.rmap    1.7 K bytes  (103 / 142 files) (1.6 M / 1.8 M bytes)\r\n"
     ]
    },
    {
     "name": "stdout",
     "output_type": "stream",
     "text": [
      "CRDS - INFO -  Fetching  /home/runner/crds_cache/mappings/hst/hst_cos_hvtab_0259.rmap      567 bytes  (104 / 142 files) (1.6 M / 1.8 M bytes)\r\n"
     ]
    },
    {
     "name": "stdout",
     "output_type": "stream",
     "text": [
      "CRDS - INFO -  Fetching  /home/runner/crds_cache/mappings/hst/hst_cos_hvdstab_0003.rmap    1.0 K bytes  (105 / 142 files) (1.6 M / 1.8 M bytes)\r\n"
     ]
    },
    {
     "name": "stdout",
     "output_type": "stream",
     "text": [
      "CRDS - INFO -  Fetching  /home/runner/crds_cache/mappings/hst/hst_cos_gsagtab_0263.rmap      603 bytes  (106 / 142 files) (1.6 M / 1.8 M bytes)\r\n"
     ]
    },
    {
     "name": "stdout",
     "output_type": "stream",
     "text": [
      "CRDS - INFO -  Fetching  /home/runner/crds_cache/mappings/hst/hst_cos_geofile_0251.rmap      640 bytes  (107 / 142 files) (1.6 M / 1.8 M bytes)\r\n"
     ]
    },
    {
     "name": "stdout",
     "output_type": "stream",
     "text": [
      "CRDS - INFO -  Fetching  /home/runner/crds_cache/mappings/hst/hst_cos_fluxtab_0289.rmap    1.8 K bytes  (108 / 142 files) (1.6 M / 1.8 M bytes)\r\n"
     ]
    },
    {
     "name": "stdout",
     "output_type": "stream",
     "text": [
      "CRDS - INFO -  Fetching  /home/runner/crds_cache/mappings/hst/hst_cos_flatfile_0268.rmap    2.3 K bytes  (109 / 142 files) (1.6 M / 1.8 M bytes)\r\n"
     ]
    },
    {
     "name": "stdout",
     "output_type": "stream",
     "text": [
      "CRDS - INFO -  Fetching  /home/runner/crds_cache/mappings/hst/hst_cos_disptab_0279.rmap    1.8 K bytes  (110 / 142 files) (1.6 M / 1.8 M bytes)\r\n"
     ]
    },
    {
     "name": "stdout",
     "output_type": "stream",
     "text": [
      "CRDS - INFO -  Fetching  /home/runner/crds_cache/mappings/hst/hst_cos_dgeofile_0003.rmap      909 bytes  (111 / 142 files) (1.6 M / 1.8 M bytes)\r\n"
     ]
    },
    {
     "name": "stdout",
     "output_type": "stream",
     "text": [
      "CRDS - INFO -  Fetching  /home/runner/crds_cache/mappings/hst/hst_cos_deadtab_0250.rmap      711 bytes  (112 / 142 files) (1.6 M / 1.8 M bytes)\r\n"
     ]
    },
    {
     "name": "stdout",
     "output_type": "stream",
     "text": [
      "CRDS - INFO -  Fetching  /home/runner/crds_cache/mappings/hst/hst_cos_brsttab_0250.rmap      696 bytes  (113 / 142 files) (1.6 M / 1.8 M bytes)\r\n"
     ]
    },
    {
     "name": "stdout",
     "output_type": "stream",
     "text": [
      "CRDS - INFO -  Fetching  /home/runner/crds_cache/mappings/hst/hst_cos_brftab_0251.rmap      583 bytes  (114 / 142 files) (1.6 M / 1.8 M bytes)\r\n"
     ]
    },
    {
     "name": "stdout",
     "output_type": "stream",
     "text": [
      "CRDS - INFO -  Fetching  /home/runner/crds_cache/mappings/hst/hst_cos_bpixtab_0261.rmap      773 bytes  (115 / 142 files) (1.6 M / 1.8 M bytes)\r\n"
     ]
    },
    {
     "name": "stdout",
     "output_type": "stream",
     "text": [
      "CRDS - INFO -  Fetching  /home/runner/crds_cache/mappings/hst/hst_cos_badttab_0252.rmap      643 bytes  (116 / 142 files) (1.6 M / 1.8 M bytes)\r\n"
     ]
    },
    {
     "name": "stdout",
     "output_type": "stream",
     "text": [
      "CRDS - INFO -  Fetching  /home/runner/crds_cache/mappings/hst/hst_cos_0374.imap     1.4 K bytes  (117 / 142 files) (1.6 M / 1.8 M bytes)\r\n"
     ]
    },
    {
     "name": "stdout",
     "output_type": "stream",
     "text": [
      "CRDS - INFO -  Fetching  /home/runner/crds_cache/mappings/hst/hst_acs_spottab_0251.rmap      641 bytes  (118 / 142 files) (1.6 M / 1.8 M bytes)\r\n"
     ]
    },
    {
     "name": "stdout",
     "output_type": "stream",
     "text": [
      "CRDS - INFO -  Fetching  /home/runner/crds_cache/mappings/hst/hst_acs_snkcfile_0113.rmap    8.2 K bytes  (119 / 142 files) (1.6 M / 1.8 M bytes)\r\n"
     ]
    },
    {
     "name": "stdout",
     "output_type": "stream",
     "text": [
      "CRDS - INFO -  Fetching  /home/runner/crds_cache/mappings/hst/hst_acs_shadfile_0251.rmap      531 bytes  (120 / 142 files) (1.6 M / 1.8 M bytes)\r\n"
     ]
    },
    {
     "name": "stdout",
     "output_type": "stream",
     "text": [
      "CRDS - INFO -  Fetching  /home/runner/crds_cache/mappings/hst/hst_acs_satufile_0002.rmap    1.2 K bytes  (121 / 142 files) (1.6 M / 1.8 M bytes)\r\n"
     ]
    },
    {
     "name": "stdout",
     "output_type": "stream",
     "text": [
      "CRDS - INFO -  Fetching  /home/runner/crds_cache/mappings/hst/hst_acs_pfltfile_0253.rmap   69.2 K bytes  (122 / 142 files) (1.6 M / 1.8 M bytes)\r\n"
     ]
    },
    {
     "name": "stdout",
     "output_type": "stream",
     "text": [
      "CRDS - INFO -  Fetching  /home/runner/crds_cache/mappings/hst/hst_acs_pctetab_0254.rmap      615 bytes  (123 / 142 files) (1.6 M / 1.8 M bytes)\r\n"
     ]
    },
    {
     "name": "stdout",
     "output_type": "stream",
     "text": [
      "CRDS - INFO -  Fetching  /home/runner/crds_cache/mappings/hst/hst_acs_oscntab_0251.rmap      781 bytes  (124 / 142 files) (1.6 M / 1.8 M bytes)\r\n"
     ]
    },
    {
     "name": "stdout",
     "output_type": "stream",
     "text": [
      "CRDS - INFO -  Fetching  /home/runner/crds_cache/mappings/hst/hst_acs_npolfile_0253.rmap    3.2 K bytes  (125 / 142 files) (1.6 M / 1.8 M bytes)\r\n"
     ]
    },
    {
     "name": "stdout",
     "output_type": "stream",
     "text": [
      "CRDS - INFO -  Fetching  /home/runner/crds_cache/mappings/hst/hst_acs_mlintab_0250.rmap      646 bytes  (126 / 142 files) (1.7 M / 1.8 M bytes)\r\n"
     ]
    },
    {
     "name": "stdout",
     "output_type": "stream",
     "text": [
      "CRDS - INFO -  Fetching  /home/runner/crds_cache/mappings/hst/hst_acs_mdriztab_0253.rmap      769 bytes  (127 / 142 files) (1.7 M / 1.8 M bytes)\r\n"
     ]
    },
    {
     "name": "stdout",
     "output_type": "stream",
     "text": [
      "CRDS - INFO -  Fetching  /home/runner/crds_cache/mappings/hst/hst_acs_imphttab_0261.rmap      769 bytes  (128 / 142 files) (1.7 M / 1.8 M bytes)\r\n"
     ]
    },
    {
     "name": "stdout",
     "output_type": "stream",
     "text": [
      "CRDS - INFO -  Fetching  /home/runner/crds_cache/mappings/hst/hst_acs_idctab_0256.rmap    1.5 K bytes  (129 / 142 files) (1.7 M / 1.8 M bytes)\r\n"
     ]
    },
    {
     "name": "stdout",
     "output_type": "stream",
     "text": [
      "CRDS - INFO -  Fetching  /home/runner/crds_cache/mappings/hst/hst_acs_flshfile_0270.rmap    3.5 K bytes  (130 / 142 files) (1.7 M / 1.8 M bytes)\r\n"
     ]
    },
    {
     "name": "stdout",
     "output_type": "stream",
     "text": [
      "CRDS - INFO -  Fetching  /home/runner/crds_cache/mappings/hst/hst_acs_drkcfile_0466.rmap   15.7 K bytes  (131 / 142 files) (1.7 M / 1.8 M bytes)\r\n"
     ]
    },
    {
     "name": "stdout",
     "output_type": "stream",
     "text": [
      "CRDS - INFO -  Fetching  /home/runner/crds_cache/mappings/hst/hst_acs_dgeofile_0250.rmap    3.2 K bytes  (132 / 142 files) (1.7 M / 1.8 M bytes)\r\n"
     ]
    },
    {
     "name": "stdout",
     "output_type": "stream",
     "text": [
      "CRDS - INFO -  Fetching  /home/runner/crds_cache/mappings/hst/hst_acs_darkfile_0456.rmap   87.7 K bytes  (133 / 142 files) (1.7 M / 1.8 M bytes)\r\n"
     ]
    },
    {
     "name": "stdout",
     "output_type": "stream",
     "text": [
      "CRDS - INFO -  Fetching  /home/runner/crds_cache/mappings/hst/hst_acs_d2imfile_0253.rmap      601 bytes  (134 / 142 files) (1.8 M / 1.8 M bytes)\r\n"
     ]
    },
    {
     "name": "stdout",
     "output_type": "stream",
     "text": [
      "CRDS - INFO -  Fetching  /home/runner/crds_cache/mappings/hst/hst_acs_crrejtab_0251.rmap      945 bytes  (135 / 142 files) (1.8 M / 1.8 M bytes)\r\n"
     ]
    },
    {
     "name": "stdout",
     "output_type": "stream",
     "text": [
      "CRDS - INFO -  Fetching  /home/runner/crds_cache/mappings/hst/hst_acs_cfltfile_0250.rmap    1.2 K bytes  (136 / 142 files) (1.8 M / 1.8 M bytes)\r\n"
     ]
    },
    {
     "name": "stdout",
     "output_type": "stream",
     "text": [
      "CRDS - INFO -  Fetching  /home/runner/crds_cache/mappings/hst/hst_acs_ccdtab_0256.rmap    1.4 K bytes  (137 / 142 files) (1.8 M / 1.8 M bytes)\r\n"
     ]
    },
    {
     "name": "stdout",
     "output_type": "stream",
     "text": [
      "CRDS - INFO -  Fetching  /home/runner/crds_cache/mappings/hst/hst_acs_bpixtab_0253.rmap    1.1 K bytes  (138 / 142 files) (1.8 M / 1.8 M bytes)\r\n"
     ]
    },
    {
     "name": "stdout",
     "output_type": "stream",
     "text": [
      "CRDS - INFO -  Fetching  /home/runner/crds_cache/mappings/hst/hst_acs_biasfile_0453.rmap   57.7 K bytes  (139 / 142 files) (1.8 M / 1.8 M bytes)\r\n"
     ]
    },
    {
     "name": "stdout",
     "output_type": "stream",
     "text": [
      "CRDS - INFO -  Fetching  /home/runner/crds_cache/mappings/hst/hst_acs_atodtab_0251.rmap      528 bytes  (140 / 142 files) (1.8 M / 1.8 M bytes)\r\n"
     ]
    },
    {
     "name": "stdout",
     "output_type": "stream",
     "text": [
      "CRDS - INFO -  Fetching  /home/runner/crds_cache/mappings/hst/hst_acs_0562.imap     1.3 K bytes  (141 / 142 files) (1.8 M / 1.8 M bytes)\r\n"
     ]
    },
    {
     "name": "stdout",
     "output_type": "stream",
     "text": [
      "CRDS - INFO -  Fetching  /home/runner/crds_cache/mappings/hst/hst_1283.pmap           495 bytes  (142 / 142 files) (1.8 M / 1.8 M bytes)\r\n"
     ]
    },
    {
     "name": "stdout",
     "output_type": "stream",
     "text": [
      "CRDS - INFO -  No comparison context or source comparison requested.\r\n"
     ]
    },
    {
     "name": "stdout",
     "output_type": "stream",
     "text": [
      "CRDS - INFO -  ===> Processing ./mastDownload/HST/obgh07020/obgh07020_raw.fits\r\n"
     ]
    },
    {
     "name": "stdout",
     "output_type": "stream",
     "text": [
      "CRDS - INFO -  Fetching  /home/runner/crds_cache/references/hst/stis/16j16005o_apd.fits   49.0 K bytes  (1 / 26 files) (0 / 187.6 M bytes)\r\n"
     ]
    },
    {
     "name": "stdout",
     "output_type": "stream",
     "text": [
      "CRDS - INFO -  Fetching  /home/runner/crds_cache/references/hst/stis/16j1600ao_sdc.fits  167.0 K bytes  (2 / 26 files) (49.0 K / 187.6 M bytes)\r\n"
     ]
    },
    {
     "name": "stdout",
     "output_type": "stream",
     "text": [
      "CRDS - INFO -  Fetching  /home/runner/crds_cache/references/hst/stis/16j1600co_wcp.fits   20.2 K bytes  (3 / 26 files) (216.0 K / 187.6 M bytes)\r\n"
     ]
    },
    {
     "name": "stdout",
     "output_type": "stream",
     "text": [
      "CRDS - INFO -  Fetching  /home/runner/crds_cache/references/hst/stis/6471931ao_rip.fits    4.1 M bytes  (4 / 26 files) (236.2 K / 187.6 M bytes)\r\n"
     ]
    },
    {
     "name": "stdout",
     "output_type": "stream",
     "text": [
      "CRDS - INFO -  Fetching  /home/runner/crds_cache/references/hst/stis/77o1827do_1dt.fits    4.4 M bytes  (5 / 26 files) (4.4 M / 187.6 M bytes)\r\n"
     ]
    },
    {
     "name": "stdout",
     "output_type": "stream",
     "text": [
      "CRDS - INFO -  Fetching  /home/runner/crds_cache/references/hst/stis/93q1947bo_tds.fits   57.6 K bytes  (6 / 26 files) (8.8 M / 187.6 M bytes)\r\n"
     ]
    },
    {
     "name": "stdout",
     "output_type": "stream",
     "text": [
      "CRDS - INFO -  Fetching  /home/runner/crds_cache/references/hst/stis/95118570o_pht.fits    4.3 M bytes  (7 / 26 files) (8.8 M / 187.6 M bytes)\r\n"
     ]
    },
    {
     "name": "stdout",
     "output_type": "stream",
     "text": [
      "CRDS - INFO -  Fetching  /home/runner/crds_cache/references/hst/stis/97a1641fo_imp.fits  817.9 K bytes  (8 / 26 files) (13.1 M / 187.6 M bytes)\r\n"
     ]
    },
    {
     "name": "stdout",
     "output_type": "stream",
     "text": [
      "CRDS - INFO -  Fetching  /home/runner/crds_cache/references/hst/stis/h1v1541eo_iac.fits   11.5 K bytes  (9 / 26 files) (13.9 M / 187.6 M bytes)\r\n"
     ]
    },
    {
     "name": "stdout",
     "output_type": "stream",
     "text": [
      "CRDS - INFO -  Fetching  /home/runner/crds_cache/references/hst/stis/h4s1350io_moc.fits   11.5 K bytes  (10 / 26 files) (14.0 M / 187.6 M bytes)\r\n"
     ]
    },
    {
     "name": "stdout",
     "output_type": "stream",
     "text": [
      "CRDS - INFO -  Fetching  /home/runner/crds_cache/references/hst/stis/j9r16559o_lin.fits   11.5 K bytes  (11 / 26 files) (14.0 M / 187.6 M bytes)\r\n"
     ]
    },
    {
     "name": "stdout",
     "output_type": "stream",
     "text": [
      "CRDS - INFO -  Fetching  /home/runner/crds_cache/references/hst/stis/k8m09584o_cds.fits    8.6 K bytes  (12 / 26 files) (14.0 M / 187.6 M bytes)\r\n"
     ]
    },
    {
     "name": "stdout",
     "output_type": "stream",
     "text": [
      "CRDS - INFO -  Fetching  /home/runner/crds_cache/references/hst/stis/k8m09585o_ech.fits    1.0 M bytes  (13 / 26 files) (14.0 M / 187.6 M bytes)\r\n"
     ]
    },
    {
     "name": "stdout",
     "output_type": "stream",
     "text": [
      "CRDS - INFO -  Fetching  /home/runner/crds_cache/references/hst/stis/k8m09586o_exs.fits   11.5 K bytes  (14 / 26 files) (15.0 M / 187.6 M bytes)\r\n"
     ]
    },
    {
     "name": "stdout",
     "output_type": "stream",
     "text": [
      "CRDS - INFO -  Fetching  /home/runner/crds_cache/references/hst/stis/k8m09587o_hal.fits   67.1 M bytes  (15 / 26 files) (15.0 M / 187.6 M bytes)\r\n"
     ]
    },
    {
     "name": "stdout",
     "output_type": "stream",
     "text": [
      "CRDS - INFO -  Fetching  /home/runner/crds_cache/references/hst/stis/k8m09589o_srw.fits   11.5 K bytes  (16 / 26 files) (82.1 M / 187.6 M bytes)\r\n"
     ]
    },
    {
     "name": "stdout",
     "output_type": "stream",
     "text": [
      "CRDS - INFO -  Fetching  /home/runner/crds_cache/references/hst/stis/k8m0958ao_tel.fits  933.1 K bytes  (17 / 26 files) (82.1 M / 187.6 M bytes)\r\n"
     ]
    },
    {
     "name": "stdout",
     "output_type": "stream",
     "text": [
      "CRDS - INFO -  Fetching  /home/runner/crds_cache/references/hst/stis/l421050oo_lmp.fits    7.2 M bytes  (18 / 26 files) (83.1 M / 187.6 M bytes)\r\n"
     ]
    },
    {
     "name": "stdout",
     "output_type": "stream",
     "text": [
      "CRDS - INFO -  Fetching  /home/runner/crds_cache/references/hst/stis/m1b2139no_lfl.fits  673.9 K bytes  (19 / 26 files) (90.3 M / 187.6 M bytes)\r\n"
     ]
    },
    {
     "name": "stdout",
     "output_type": "stream",
     "text": [
      "CRDS - INFO -  Fetching  /home/runner/crds_cache/references/hst/stis/m7p16110o_dsp.fits  342.7 K bytes  (20 / 26 files) (91.0 M / 187.6 M bytes)\r\n"
     ]
    },
    {
     "name": "stdout",
     "output_type": "stream",
     "text": [
      "CRDS - INFO -  Fetching  /home/runner/crds_cache/references/hst/stis/mbj1658bo_pfl.fits   42.0 M bytes  (21 / 26 files) (91.3 M / 187.6 M bytes)\r\n"
     ]
    },
    {
     "name": "stdout",
     "output_type": "stream",
     "text": [
      "CRDS - INFO -  Fetching  /home/runner/crds_cache/references/hst/stis/n7p10323o_1dx.fits  129.6 K bytes  (22 / 26 files) (133.3 M / 187.6 M bytes)\r\n"
     ]
    },
    {
     "name": "stdout",
     "output_type": "stream",
     "text": [
      "CRDS - INFO -  Fetching  /home/runner/crds_cache/references/hst/stis/q591955ro_drk.fits   42.0 M bytes  (23 / 26 files) (133.4 M / 187.6 M bytes)\r\n"
     ]
    },
    {
     "name": "stdout",
     "output_type": "stream",
     "text": [
      "CRDS - INFO -  Fetching  /home/runner/crds_cache/references/hst/stis/uce15153o_bpx.fits  521.3 K bytes  (24 / 26 files) (175.4 M / 187.6 M bytes)\r\n"
     ]
    },
    {
     "name": "stdout",
     "output_type": "stream",
     "text": [
      "CRDS - INFO -  Fetching  /home/runner/crds_cache/references/hst/stis/y2r1559to_apt.fits   11.6 M bytes  (25 / 26 files) (175.9 M / 187.6 M bytes)\r\n"
     ]
    },
    {
     "name": "stdout",
     "output_type": "stream",
     "text": [
      "CRDS - INFO -  Fetching  /home/runner/crds_cache/references/hst/stis/y2r16005o_pct.fits   89.3 K bytes  (26 / 26 files) (187.5 M / 187.6 M bytes)\r\n"
     ]
    },
    {
     "name": "stdout",
     "output_type": "stream",
     "text": [
      "CRDS - INFO -  0 errors\r\n",
      "CRDS - INFO -  0 warnings\r\n",
      "CRDS - INFO -  170 infos\r\n"
     ]
    },
    {
     "name": "stdout",
     "output_type": "stream",
     "text": [
      "\n",
      "*** CALSTIS-0 -- Version 3.4.2 (19-Jan-2018) ***\n",
      "Begin    02-Oct-2025 18:12:24 UTC\n",
      "\n",
      "Input    ./mastDownload/HST/obgh07020/obgh07020_raw.fits\n",
      "Outroot  ./mastDownload/HST/obgh07020/inttag\n",
      "Wavecal  ./mastDownload/HST/obgh07020/obgh07020_wav.fits\n"
     ]
    },
    {
     "name": "stdout",
     "output_type": "stream",
     "text": [
      "\n",
      "*** CALSTIS-1 -- Version 3.4.2 (19-Jan-2018) ***\n",
      "Begin    02-Oct-2025 18:12:24 UTC\n",
      "Input    ./mastDownload/HST/obgh07020/obgh07020_raw.fits\n",
      "Output   ./mastDownload/HST/obgh07020/inttag_flt.fits\n",
      "OBSMODE  TIME-TAG\n",
      "APERTURE 52X0.1\n",
      "OPT_ELEM G140M\n",
      "DETECTOR FUV-MAMA\n",
      "\n",
      "Imset 1  Begin 18:12:24 UTC\n",
      "\n",
      "DQICORR  PERFORM\n",
      "DQITAB   oref$uce15153o_bpx.fits\n",
      "DQITAB   PEDIGREE=GROUND\n",
      "DQITAB   DESCRIP =New BPIXTAB with opt_elem column and correct repeller wire flag----\n",
      "DQICORR  COMPLETE\n",
      "         Uncertainty array initialized.\n",
      "\n",
      "LORSCORR OMIT\n",
      "\n",
      "GLINCORR PERFORM\n",
      "LFLGCORR PERFORM\n",
      "MLINTAB  oref$j9r16559o_lin.fits\n",
      "MLINTAB  PEDIGREE=GROUND\n",
      "MLINTAB  DESCRIP =T. Danks gathered Info\n",
      "MLINTAB  DESCRIP =T. Danks Gathered Info\n",
      "GLINCORR COMPLETE\n",
      "LFLGCORR COMPLETE\n",
      "\n",
      "DARKCORR PERFORM\n",
      "DARKFILE oref$q591955ro_drk.fits\n",
      "DARKFILE PEDIGREE=INFLIGHT 29/01/2003 03/08/2004\n",
      "DARKFILE DESCRIP =Avg of 152 1380s darks from 9615 10034\n"
     ]
    },
    {
     "name": "stdout",
     "output_type": "stream",
     "text": [
      "DARKCORR COMPLETE\n",
      "\n",
      "FLATCORR PERFORM\n",
      "PFLTFILE oref$mbj1658bo_pfl.fits\n",
      "PFLTFILE PEDIGREE=INFLIGHT 17/03/1998 17/05/2002\n",
      "PFLTFILE DESCRIP =On-orbit FUV P-flat created from proposals 7645,8428,8862,8922\n",
      "LFLTFILE oref$m1b2139no_lfl.fits\n",
      "LFLTFILE PEDIGREE=DUMMY\n",
      "LFLTFILE DESCRIP =Dummy file created by M. Mcgrath. Modified by C Proffitt\n"
     ]
    },
    {
     "name": "stdout",
     "output_type": "stream",
     "text": [
      "FLATCORR COMPLETE\n",
      "\n",
      "PHOTCORR OMIT\n",
      "\n",
      "DOPPCORR applied to DQICORR, DARKCORR, FLATCORR\n",
      "\n",
      "STATFLAG PERFORM\n",
      "STATFLAG COMPLETE\n",
      "Imset 1  End 18:12:24 UTC\n",
      "\n",
      "Imset 2  Begin 18:12:24 UTC\n",
      "\n",
      "DQICORR  PERFORM\n",
      "DQICORR  COMPLETE\n",
      "         Uncertainty array initialized.\n",
      "\n",
      "LORSCORR OMIT\n",
      "\n",
      "GLINCORR PERFORM\n",
      "LFLGCORR PERFORM\n",
      "GLINCORR COMPLETE\n",
      "LFLGCORR COMPLETE\n",
      "\n",
      "DARKCORR PERFORM\n"
     ]
    },
    {
     "name": "stdout",
     "output_type": "stream",
     "text": [
      "DARKCORR COMPLETE\n",
      "\n",
      "FLATCORR PERFORM\n"
     ]
    },
    {
     "name": "stdout",
     "output_type": "stream",
     "text": [
      "FLATCORR COMPLETE\n",
      "\n",
      "DOPPCORR applied to DQICORR, DARKCORR, FLATCORR\n",
      "\n",
      "STATFLAG PERFORM\n",
      "STATFLAG COMPLETE\n",
      "Imset 2  End 18:12:24 UTC\n",
      "\n",
      "Imset 3  Begin 18:12:24 UTC\n",
      "\n",
      "DQICORR  PERFORM\n",
      "DQICORR  COMPLETE\n",
      "         Uncertainty array initialized.\n",
      "\n",
      "LORSCORR OMIT\n",
      "\n",
      "GLINCORR PERFORM\n",
      "LFLGCORR PERFORM\n",
      "GLINCORR COMPLETE\n",
      "LFLGCORR COMPLETE\n",
      "\n",
      "DARKCORR PERFORM\n"
     ]
    },
    {
     "name": "stdout",
     "output_type": "stream",
     "text": [
      "DARKCORR COMPLETE\n",
      "\n",
      "FLATCORR PERFORM\n"
     ]
    },
    {
     "name": "stdout",
     "output_type": "stream",
     "text": [
      "FLATCORR COMPLETE\n",
      "\n",
      "DOPPCORR applied to DQICORR, DARKCORR, FLATCORR\n",
      "\n",
      "STATFLAG PERFORM\n",
      "STATFLAG COMPLETE\n",
      "Imset 3  End 18:12:25 UTC\n",
      "\n",
      "End      02-Oct-2025 18:12:25 UTC\n",
      "\n",
      "*** CALSTIS-1 complete ***\n",
      "\n",
      "*** CALSTIS-1 -- Version 3.4.2 (19-Jan-2018) ***\n",
      "Begin    02-Oct-2025 18:12:25 UTC\n",
      "Input    ./mastDownload/HST/obgh07020/obgh07020_wav.fits\n",
      "Output   ./mastDownload/HST/obgh07020/inttag_fwv_tmp.fits\n",
      "OBSMODE  ACCUM\n",
      "APERTURE 52X0.1\n",
      "OPT_ELEM G140M\n",
      "DETECTOR FUV-MAMA\n",
      "\n",
      "Imset 1  Begin 18:12:25 UTC\n",
      "\n",
      "DQICORR  PERFORM\n",
      "DQITAB   oref$uce15153o_bpx.fits\n",
      "DQITAB   PEDIGREE=GROUND\n",
      "DQITAB   DESCRIP =New BPIXTAB with opt_elem column and correct repeller wire flag----\n",
      "DQICORR  COMPLETE\n",
      "         Uncertainty array initialized.\n",
      "\n",
      "LORSCORR OMIT\n",
      "\n",
      "GLINCORR PERFORM\n",
      "LFLGCORR PERFORM\n",
      "MLINTAB  oref$j9r16559o_lin.fits\n",
      "MLINTAB  PEDIGREE=GROUND\n",
      "MLINTAB  DESCRIP =T. Danks gathered Info\n",
      "MLINTAB  DESCRIP =T. Danks Gathered Info\n",
      "GLINCORR COMPLETE\n",
      "LFLGCORR COMPLETE\n",
      "\n",
      "DARKCORR PERFORM\n",
      "DARKFILE oref$q591955ro_drk.fits\n",
      "DARKFILE PEDIGREE=INFLIGHT 29/01/2003 03/08/2004\n",
      "DARKFILE DESCRIP =Avg of 152 1380s darks from 9615 10034\n",
      "DARKCORR COMPLETE\n",
      "\n",
      "FLATCORR PERFORM\n",
      "PFLTFILE oref$mbj1658bo_pfl.fits\n",
      "PFLTFILE PEDIGREE=INFLIGHT 17/03/1998 17/05/2002\n",
      "PFLTFILE DESCRIP =On-orbit FUV P-flat created from proposals 7645,8428,8862,8922\n",
      "LFLTFILE oref$m1b2139no_lfl.fits\n",
      "LFLTFILE PEDIGREE=DUMMY\n",
      "LFLTFILE DESCRIP =Dummy file created by M. Mcgrath. Modified by C Proffitt\n"
     ]
    },
    {
     "name": "stdout",
     "output_type": "stream",
     "text": [
      "FLATCORR COMPLETE\n",
      "\n",
      "PHOTCORR OMIT\n",
      "\n",
      "DOPPCORR OMIT\n",
      "\n",
      "STATFLAG PERFORM\n",
      "STATFLAG COMPLETE\n",
      "Imset 1  End 18:12:25 UTC\n",
      "\n",
      "Imset 2  Begin 18:12:25 UTC\n",
      "\n",
      "DQICORR  PERFORM\n",
      "DQICORR  COMPLETE\n",
      "         Uncertainty array initialized.\n",
      "\n",
      "LORSCORR OMIT\n",
      "\n",
      "GLINCORR PERFORM\n",
      "LFLGCORR PERFORM\n",
      "GLINCORR COMPLETE\n",
      "LFLGCORR COMPLETE\n",
      "\n",
      "DARKCORR PERFORM\n"
     ]
    },
    {
     "name": "stdout",
     "output_type": "stream",
     "text": [
      "DARKCORR COMPLETE\n",
      "\n",
      "FLATCORR PERFORM\n",
      "FLATCORR COMPLETE\n",
      "\n",
      "DOPPCORR OMIT\n",
      "\n",
      "STATFLAG PERFORM\n",
      "STATFLAG COMPLETE\n",
      "Imset 2  End 18:12:25 UTC\n",
      "\n",
      "End      02-Oct-2025 18:12:25 UTC\n",
      "\n",
      "*** CALSTIS-1 complete ***\n",
      "\n",
      "*** CALSTIS-7 -- Version 3.4.2 (19-Jan-2018) ***\n",
      "Begin    02-Oct-2025 18:12:25 UTC\n",
      "Input    ./mastDownload/HST/obgh07020/inttag_fwv_tmp.fits\n",
      "Output   ./mastDownload/HST/obgh07020/inttag_w2d_tmp.fits\n",
      "OBSMODE  ACCUM\n",
      "APERTURE 52X0.1\n",
      "OPT_ELEM G140M\n",
      "DETECTOR FUV-MAMA\n",
      "Imset 1  Begin 18:12:25 UTC\n",
      "\n",
      "Order 1  Begin 18:12:25 UTC\n"
     ]
    },
    {
     "name": "stdout",
     "output_type": "stream",
     "text": [
      "\n",
      "X2DCORR  PERFORM\n",
      "DISPCORR PERFORM\n",
      "APDESTAB oref$16j16005o_apd.fits\n",
      "APDESTAB PEDIGREE=INFLIGHT 01/03/1997 13/06/2017\n",
      "APDESTAB DESCRIP =Aligned long-slit bar positions for single-bar cases.--------------\n",
      "APDESTAB DESCRIP =Microscope Meas./Hartig Post-launch Offsets\n",
      "SDCTAB   oref$16j1600ao_sdc.fits\n",
      "SDCTAB   PEDIGREE=INFLIGHT 13/07/1997 13/06/2017\n",
      "SDCTAB   DESCRIP =Co-aligned fiducial bars via an update to the CDELT2 plate scales.-\n",
      "SDCTAB   DESCRIP =updated CDELT2 with inflight data, others Lindler-prelaunch\n",
      "DISPTAB  oref$m7p16110o_dsp.fits\n",
      "DISPTAB  PEDIGREE=INFLIGHT 04/03/1999 04/03/1999\n",
      "DISPTAB  DESCRIP =Dispersion coefficients reference table\n",
      "DISPTAB  DESCRIP =INFLIGHT Cal. Disp. Coeffs\n",
      "INANGTAB oref$h1v1541eo_iac.fits\n",
      "INANGTAB PEDIGREE=GROUND\n",
      "INANGTAB DESCRIP =Prelaunch Calibration/Lindler and Models\n",
      "INANGTAB DESCRIP =Model\n",
      "SPTRCTAB oref$77o1827do_1dt.fits\n",
      "SPTRCTAB PEDIGREE=INFLIGHT 27/02/1997 30/06/1998\n",
      "SPTRCTAB DESCRIP =New traces for select echelle secondary modes\n",
      "SPTRCTAB DESCRIP =Sandoval, Initial Postlaunch Calibration\n",
      "X2DCORR  COMPLETE\n",
      "DISPCORR COMPLETE\n",
      "Order 1  End 18:12:25 UTC\n",
      "Imset 1  End 18:12:25 UTC\n",
      "Imset 2  Begin 18:12:25 UTC\n",
      "\n",
      "Order 1  Begin 18:12:25 UTC\n",
      "\n",
      "X2DCORR  PERFORM\n",
      "DISPCORR PERFORM\n",
      "X2DCORR  COMPLETE\n",
      "DISPCORR COMPLETE\n",
      "Order 1  End 18:12:25 UTC\n",
      "Imset 2  End 18:12:25 UTC\n",
      "\n",
      "End      02-Oct-2025 18:12:25 UTC\n",
      "\n",
      "*** CALSTIS-7 complete ***\n",
      "\n",
      "*** CALSTIS-4 -- Version 3.4.2 (19-Jan-2018) ***\n",
      "Begin    02-Oct-2025 18:12:25 UTC\n",
      "Input    ./mastDownload/HST/obgh07020/inttag_w2d_tmp.fits\n",
      "OBSMODE  ACCUM\n",
      "APERTURE 52X0.1\n",
      "OPT_ELEM G140M\n",
      "DETECTOR FUV-MAMA\n"
     ]
    },
    {
     "name": "stdout",
     "output_type": "stream",
     "text": [
      "\n",
      "Imset 1  Begin 18:12:25 UTC\n",
      "\n",
      "WAVECORR PERFORM\n",
      "WCPTAB   oref$16j1600co_wcp.fits\n",
      "WCPTAB   PEDIGREE=INFLIGHT 09/11/1998 13/06/2017\n",
      "WCPTAB   DESCRIP =Force G140M and G230L SHIFTA2 into single-bar mode via SP_TRIM2.---\n",
      "WCPTAB   DESCRIP =TRIM values modified, WL_RANGE and SP_RANGE increased\n",
      "LAMPTAB  oref$l421050oo_lmp.fits\n",
      "LAMPTAB  PEDIGREE=GROUND\n",
      "LAMPTAB  DESCRIP =Ground+Inflight Cal PT lamp, 3.8 & 10 mA\n",
      "LAMPTAB  DESCRIP =Ground Cal for non-PRISM, PT lamp 10 mA\n",
      "APDESTAB oref$16j16005o_apd.fits\n",
      "APDESTAB PEDIGREE=INFLIGHT 01/03/1997 13/06/2017\n",
      "APDESTAB DESCRIP =Aligned long-slit bar positions for single-bar cases.--------------\n",
      "APDESTAB DESCRIP =Microscope Meas./Hartig Post-launch Offsets\n",
      "Warning  Skipping current occulting bar ... \\\n",
      "Warning  Peak of cross correlation is 0.0208563 of the expected value, \\\n",
      "Warning  which is outside the allowed range 0.5 to 1.5\n",
      "         Shift in dispersion direction is -2.254 pixels.\n",
      "         Shift in spatial direction is 6.357 pixels.\n",
      "WAVECORR COMPLETE\n",
      "Imset 1  End 18:12:25 UTC\n",
      "\n",
      "Imset 2  Begin 18:12:25 UTC\n",
      "\n",
      "WAVECORR PERFORM\n",
      "Warning  Skipping current occulting bar ... \\\n",
      "Warning  Peak of cross correlation is 0.0244969 of the expected value, \\\n",
      "Warning  which is outside the allowed range 0.5 to 1.5\n",
      "         Shift in dispersion direction is -2.312 pixels.\n",
      "         Shift in spatial direction is 7.221 pixels.\n",
      "WAVECORR COMPLETE\n",
      "Imset 2  End 18:12:25 UTC\n",
      "\n",
      "End      02-Oct-2025 18:12:25 UTC\n",
      "\n",
      "*** CALSTIS-4 complete ***\n",
      "\n",
      "*** CALSTIS-12 -- Version 3.4.2 (19-Jan-2018) ***\n",
      "Begin    02-Oct-2025 18:12:25 UTC\n",
      "Wavecal  ./mastDownload/HST/obgh07020/inttag_w2d_tmp.fits\n",
      "Science  ./mastDownload/HST/obgh07020/inttag_flt.fits\n",
      "OBSMODE  TIME-TAG\n",
      "APERTURE 52X0.1\n",
      "OPT_ELEM G140M\n",
      "DETECTOR FUV-MAMA\n",
      "Imset 1  Begin 18:12:25 UTC\n",
      "         SHIFTA1 set to -2.29187\n",
      "         SHIFTA2 set to 6.92031\n",
      "Imset 1  End 18:12:25 UTC\n",
      "Imset 2  Begin 18:12:25 UTC\n",
      "         SHIFTA1 set to -2.29918\n",
      "         SHIFTA2 set to 7.03006\n",
      "Imset 2  End 18:12:25 UTC\n",
      "Imset 3  Begin 18:12:25 UTC\n",
      "         SHIFTA1 set to -2.30648\n",
      "         SHIFTA2 set to 7.1398\n",
      "Imset 3  End 18:12:25 UTC\n",
      "\n",
      "End      02-Oct-2025 18:12:25 UTC\n",
      "\n",
      "*** CALSTIS-12 complete ***\n",
      "\n",
      "*** CALSTIS-7 -- Version 3.4.2 (19-Jan-2018) ***\n",
      "Begin    02-Oct-2025 18:12:25 UTC\n",
      "Input    ./mastDownload/HST/obgh07020/inttag_flt.fits\n",
      "Output   ./mastDownload/HST/obgh07020/inttag_x2d.fits\n",
      "OBSMODE  TIME-TAG\n",
      "APERTURE 52X0.1\n",
      "OPT_ELEM G140M\n",
      "DETECTOR FUV-MAMA\n",
      "Imset 1  Begin 18:12:25 UTC\n",
      "\n",
      "HELCORR  PERFORM\n",
      "HELCORR  COMPLETE\n",
      "\n",
      "Order 1  Begin 18:12:25 UTC\n",
      "\n",
      "X2DCORR  PERFORM\n",
      "DISPCORR PERFORM\n",
      "APDESTAB oref$16j16005o_apd.fits\n",
      "APDESTAB PEDIGREE=INFLIGHT 01/03/1997 13/06/2017\n",
      "APDESTAB DESCRIP =Aligned long-slit bar positions for single-bar cases.--------------\n",
      "APDESTAB DESCRIP =Microscope Meas./Hartig Post-launch Offsets\n",
      "SDCTAB   oref$16j1600ao_sdc.fits\n",
      "SDCTAB   PEDIGREE=INFLIGHT 13/07/1997 13/06/2017\n",
      "SDCTAB   DESCRIP =Co-aligned fiducial bars via an update to the CDELT2 plate scales.-\n",
      "SDCTAB   DESCRIP =updated CDELT2 with inflight data, others Lindler-prelaunch\n",
      "DISPTAB  oref$m7p16110o_dsp.fits\n",
      "DISPTAB  PEDIGREE=INFLIGHT 04/03/1999 04/03/1999\n",
      "DISPTAB  DESCRIP =Dispersion coefficients reference table\n",
      "DISPTAB  DESCRIP =INFLIGHT Cal. Disp. Coeffs\n",
      "INANGTAB oref$h1v1541eo_iac.fits\n",
      "INANGTAB PEDIGREE=GROUND\n",
      "INANGTAB DESCRIP =Prelaunch Calibration/Lindler and Models\n",
      "INANGTAB DESCRIP =Model\n",
      "SPTRCTAB oref$77o1827do_1dt.fits\n",
      "SPTRCTAB PEDIGREE=INFLIGHT 27/02/1997 30/06/1998\n",
      "SPTRCTAB DESCRIP =New traces for select echelle secondary modes\n",
      "SPTRCTAB DESCRIP =Sandoval, Initial Postlaunch Calibration\n",
      "\n",
      "FLUXCORR PERFORM\n",
      "PHOTTAB  oref$95118570o_pht.fits\n",
      "PHOTTAB  PEDIGREE=INFLIGHT 28/02/2000 21/11/2001\n",
      "PHOTTAB  DESCRIP =Fullerton 2025 calibration\n",
      "PHOTTAB  DESCRIP =Updated Sensitivities 2025 (CALSPEC v11 models)\n",
      "APERTAB  oref$y2r1559to_apt.fits\n",
      "APERTAB  PEDIGREE=MODEL\n",
      "APERTAB  DESCRIP =Added/updated values for 31X0.05NDA,31X0.05NDB,31X0.05NDC apertures\n",
      "APERTAB  DESCRIP =Bohlin/Hartig TIM Models Nov. 1998\n",
      "PCTAB    oref$y2r16005o_pct.fits\n",
      "PCTAB    PEDIGREE=INFLIGHT 18/5/1997 19/12/1998\n",
      "PCTAB    DESCRIP =Added/updated values for 31X0.05NDA,31X0.05NDB,31X0.05NDC apertures\n",
      "PCTAB    DESCRIP = 2 STIS observations averaged\n",
      "TDSTAB   oref$93q1947bo_tds.fits\n",
      "TDSTAB   PEDIGREE=INFLIGHT 01/04/1997 06/02/2025\n",
      "TDSTAB   DESCRIP =Updated time and slope arrays for all optical elements.\n",
      "Warning  Keyword `BUNIT' is being added to header.\n",
      "Warning  Keyword `BUNIT' is being added to header.\n",
      "FLUXCORR COMPLETE\n",
      "X2DCORR  COMPLETE\n",
      "DISPCORR COMPLETE\n",
      "Order 1  End 18:12:25 UTC\n",
      "Imset 1  End 18:12:25 UTC\n",
      "Imset 2  Begin 18:12:25 UTC\n"
     ]
    },
    {
     "name": "stdout",
     "output_type": "stream",
     "text": [
      "\n",
      "HELCORR  PERFORM\n",
      "HELCORR  COMPLETE\n",
      "\n",
      "Order 1  Begin 18:12:25 UTC\n",
      "\n",
      "X2DCORR  PERFORM\n",
      "DISPCORR PERFORM\n",
      "\n",
      "FLUXCORR PERFORM\n",
      "Warning  Keyword `BUNIT' is being added to header.\n",
      "Warning  Keyword `BUNIT' is being added to header.\n",
      "FLUXCORR COMPLETE\n",
      "X2DCORR  COMPLETE\n",
      "DISPCORR COMPLETE\n",
      "Order 1  End 18:12:25 UTC\n",
      "Imset 2  End 18:12:25 UTC\n",
      "Imset 3  Begin 18:12:25 UTC\n",
      "\n",
      "HELCORR  PERFORM\n",
      "HELCORR  COMPLETE\n",
      "\n",
      "Order 1  Begin 18:12:25 UTC\n"
     ]
    },
    {
     "name": "stdout",
     "output_type": "stream",
     "text": [
      "\n",
      "X2DCORR  PERFORM\n",
      "DISPCORR PERFORM\n",
      "\n",
      "FLUXCORR PERFORM\n",
      "Warning  Keyword `BUNIT' is being added to header.\n",
      "Warning  Keyword `BUNIT' is being added to header.\n",
      "FLUXCORR COMPLETE\n",
      "X2DCORR  COMPLETE\n",
      "DISPCORR COMPLETE\n",
      "Order 1  End 18:12:25 UTC\n",
      "Imset 3  End 18:12:25 UTC\n",
      "\n",
      "End      02-Oct-2025 18:12:25 UTC\n",
      "\n",
      "*** CALSTIS-7 complete ***\n",
      "\n",
      "*** CALSTIS-6 -- Version 3.4.2 (19-Jan-2018) ***\n",
      "Begin    02-Oct-2025 18:12:25 UTC\n",
      "\n",
      "Warning  Grating-aperture throughput correction table (GACTAB) was not found,\n",
      "         and no gac corrections will be applied\n",
      "Input    ./mastDownload/HST/obgh07020/inttag_flt.fits\n",
      "Output   ./mastDownload/HST/obgh07020/inttag_x1d.fits\n",
      "Rootname obgh07020\n",
      "OBSMODE  TIME-TAG\n",
      "APERTURE 52X0.1\n",
      "OPT_ELEM G140M\n",
      "DETECTOR FUV-MAMA\n",
      "\n",
      "XTRACTAB oref$n7p10323o_1dx.fits\n",
      "XTRACTAB PEDIGREE=INFLIGHT 29/05/97\n",
      "XTRACTAB DESCRIP =Analysis from prop. 7064 and ground data\n",
      "XTRACTAB DESCRIP =Analysis from prop. 7064\n",
      "SPTRCTAB oref$77o1827do_1dt.fits\n",
      "SPTRCTAB PEDIGREE=INFLIGHT 27/02/1997 01/12/2009\n",
      "SPTRCTAB DESCRIP =New traces for select echelle secondary modes\n",
      "\n",
      "Imset 1  Begin 18:12:25 UTC\n",
      "         Input read into memory.\n",
      "Order 1  Begin 18:12:25 UTC\n",
      "X1DCORR  PERFORM\n",
      "BACKCORR PERFORM\n",
      "******** Calling Slfit ***********BACKCORR COMPLETE\n",
      "X1DCORR  COMPLETE\n",
      "         Spectrum extracted at y position = 404.909\n",
      "\n",
      "DISPCORR PERFORM\n",
      "DISPTAB  oref$m7p16110o_dsp.fits\n",
      "DISPTAB  PEDIGREE=INFLIGHT 04/03/1999 04/03/1999\n",
      "DISPTAB  DESCRIP =Dispersion coefficients reference table\n",
      "DISPTAB  DESCRIP =INFLIGHT Cal. Disp. Coeffs\n",
      "APDESTAB oref$16j16005o_apd.fits\n",
      "APDESTAB PEDIGREE=INFLIGHT 01/03/1997 13/06/2017\n",
      "APDESTAB DESCRIP =Aligned long-slit bar positions for single-bar cases.--------------\n",
      "APDESTAB DESCRIP =Microscope Meas./Hartig Post-launch Offsets\n",
      "INANGTAB oref$h1v1541eo_iac.fits\n",
      "INANGTAB DESCRIP =Prelaunch Calibration/Lindler and Models\n",
      "DISPCORR COMPLETE\n",
      "\n",
      "HELCORR  PERFORM\n",
      "HELCORR  COMPLETE\n",
      "\n",
      "PHOTTAB  oref$95118570o_pht.fits\n",
      "PHOTTAB  PEDIGREE=INFLIGHT 27/02/1997 13/05/2019\n",
      "PHOTTAB  DESCRIP =Fullerton 2025 calibration\n",
      "APERTAB  oref$y2r1559to_apt.fits\n",
      "APERTAB  PEDIGREE=MODEL\n",
      "APERTAB  DESCRIP =Added/updated values for 31X0.05NDA,31X0.05NDB,31X0.05NDC apertures\n",
      "APERTAB  DESCRIP =Bohlin/Hartig TIM Models Nov. 1998\n",
      "PCTAB    oref$y2r16005o_pct.fits\n",
      "PCTAB    PEDIGREE=INFLIGHT 18/05/1997 19/12/1998\n",
      "PCTAB    DESCRIP =Added/updated values for 31X0.05NDA,31X0.05NDB,31X0.05NDC apertures\n",
      "TDSTAB   oref$93q1947bo_tds.fits\n",
      "TDSTAB   PEDIGREE=INFLIGHT 01/04/1997 06/02/2025\n",
      "TDSTAB   DESCRIP =Updated time and slope arrays for all optical elements.\n",
      "FLUXCORR PERFORM\n",
      "FLUXCORR COMPLETE\n",
      "SGEOCORR OMIT\n",
      "\n",
      "         Row 1 written to disk.\n",
      "Order 1  End 18:12:25 UTC\n",
      "\n",
      "Imset 1  End 18:12:25 UTC\n",
      "\n",
      "Imset 2  Begin 18:12:25 UTC\n",
      "         Input read into memory.\n",
      "Order 1  Begin 18:12:26 UTC\n",
      "X1DCORR  PERFORM\n"
     ]
    },
    {
     "name": "stdout",
     "output_type": "stream",
     "text": [
      "BACKCORR PERFORM\n",
      "******** Calling Slfit ***********BACKCORR COMPLETE\n",
      "X1DCORR  COMPLETE\n",
      "         Spectrum extracted at y position = 405.962\n",
      "\n",
      "DISPCORR PERFORM\n",
      "DISPCORR COMPLETE\n",
      "\n",
      "HELCORR  PERFORM\n",
      "HELCORR  COMPLETE\n",
      "\n",
      "FLUXCORR PERFORM\n",
      "FLUXCORR COMPLETE\n",
      "SGEOCORR OMIT\n",
      "\n",
      "         Row 1 written to disk.\n",
      "Order 1  End 18:12:26 UTC\n",
      "\n",
      "Imset 2  End 18:12:26 UTC\n",
      "\n",
      "Imset 3  Begin 18:12:26 UTC\n",
      "         Input read into memory.\n",
      "Order 1  Begin 18:12:26 UTC\n",
      "X1DCORR  PERFORM\n",
      "BACKCORR PERFORM\n",
      "******** Calling Slfit ***********BACKCORR COMPLETE\n",
      "X1DCORR  COMPLETE\n",
      "         Spectrum extracted at y position = 405.22\n",
      "\n",
      "DISPCORR PERFORM\n",
      "DISPCORR COMPLETE\n",
      "\n",
      "HELCORR  PERFORM\n",
      "HELCORR  COMPLETE\n",
      "\n",
      "FLUXCORR PERFORM\n",
      "FLUXCORR COMPLETE\n",
      "SGEOCORR OMIT\n",
      "\n",
      "         Row 1 written to disk.\n",
      "Order 1  End 18:12:26 UTC\n",
      "\n",
      "Imset 3  End 18:12:26 UTC\n",
      "\n",
      "Warning  Keyword `XTRACALG' is being added to header.\n",
      "End      02-Oct-2025 18:12:26 UTC\n",
      "\n",
      "*** CALSTIS-6 complete ***\n",
      "\n",
      "End      02-Oct-2025 18:12:26 UTC\n",
      "\n",
      "*** CALSTIS-0 complete ***\n"
     ]
    },
    {
     "data": {
      "text/plain": [
       "0"
      ]
     },
     "execution_count": 15,
     "metadata": {},
     "output_type": "execute_result"
    }
   ],
   "source": [
    "# Let's grab the tag file associated with the x1d STIS file\n",
    "# that we downloaded above\n",
    "target_id = \"obgh07020\"\n",
    "target = Observations.query_criteria(obs_id=[target_id])\n",
    "\n",
    "# get a list of files assiciated with that target\n",
    "target_list = Observations.get_product_list(target)\n",
    "\n",
    "# Download the tag file for this observation\n",
    "Observations.download_products(target_list, extension='tag.fits')\n",
    "\n",
    "# get file paths\n",
    "tag_file = os.path.join('.', 'mastDownload',\n",
    "                        'HST', target_id, f'{target_id}_tag.fits')\n",
    "raw_file = os.path.join('.', 'mastDownload',\n",
    "                        'HST', target_id, f'{target_id}_raw.fits')\n",
    "\n",
    "# Split up the time-tag file into 10 subexposures\n",
    "stistools.inttag.inttag(tag_file, raw_file, rcount=3)\n",
    "\n",
    "# We then want to re-reduced the raw data to get x1d files,\n",
    "# and then we'll compare:\n",
    "# To do this, we also need to download the *_wav.fits file for the wavcal\n",
    "Observations.download_products(target_list, extension='wav.fits')\n",
    "\n",
    "# Set up CRDS\n",
    "crds_path = os.path.expanduser(\"~\") + \"/crds_cache\"\n",
    "os.environ[\"CRDS_PATH\"] = crds_path\n",
    "os.environ[\"CRDS_SERVER_URL\"] = \"https://hst-crds.stsci.edu\"\n",
    "os.environ[\"oref\"] = os.path.join(crds_path, \"references/hst/oref/\")\n",
    "!crds bestrefs --update-bestrefs --sync-references=1 --files {raw_file}\n",
    "\n",
    "# We need to remove the x1d file we downloaded before\n",
    "# because we'll replace it with the inttag version\n",
    "inttag_path = os.path.join('.', 'mastDownload',\n",
    "                           'HST', target_id, 'inttag*.fits')\n",
    "inttag_files = glob.glob(inttag_path)\n",
    "for file in inttag_files:\n",
    "    try:\n",
    "        os.remove(file)\n",
    "    except OSError:\n",
    "        print('No need to remove...')\n",
    "\n",
    "# Now run calstis...\n",
    "wave_file = os.path.join('.', 'mastDownload',\n",
    "                         'HST', target_id, f'{target_id}_wav.fits')\n",
    "output_path = os.path.join('.', 'mastDownload',\n",
    "                           'HST', target_id, 'inttag')\n",
    "stistools.calstis.calstis(raw_file, wavecal=wave_file, verbose=False,\n",
    "                          outroot=output_path)"
   ]
  },
  {
   "cell_type": "markdown",
   "id": "1a823269-4ce8-4749-9882-f4142ed6933a",
   "metadata": {},
   "source": [
    "It was noticed that the uncertainties associated with the subexposures were higher than the root-N expectation. For example, if we plot the uncertainties in the extracted spectrum, the resulting uncertainties on those sub-exposures was far larger than just $\\sqrt{N_\\mathrm{frames}}$ times the uncertainty on the full exposure. We see this below. \n",
    "\n",
    "The top plot shows the errors from the new `inttag` script, while the bottom plot shows the errors from the former implimentation. As you can see, the former implementation was greatly overestimating the errors in the low-flux region."
   ]
  },
  {
   "cell_type": "code",
   "execution_count": 16,
   "id": "a362f2aa-fd4a-4a29-9744-973088bdc259",
   "metadata": {
    "execution": {
     "iopub.execute_input": "2025-10-02T18:12:26.093602Z",
     "iopub.status.busy": "2025-10-02T18:12:26.093441Z",
     "iopub.status.idle": "2025-10-02T18:12:26.166773Z",
     "shell.execute_reply": "2025-10-02T18:12:26.166247Z"
    }
   },
   "outputs": [
    {
     "data": {
      "text/plain": [
       "Text(0.5, 1.0, 'New INTTAG Implementation')"
      ]
     },
     "execution_count": 16,
     "metadata": {},
     "output_type": "execute_result"
    }
   ],
   "source": [
    "# Read in the files\n",
    "hdu = fits.open(file_path_obgh07020)\n",
    "inttag_x1d_path = os.path.join('.', 'mastDownload',\n",
    "                               'HST', target_id, 'inttag_x1d.fits')\n",
    "hdu_int = fits.open(inttag_x1d_path)\n",
    "\n",
    "# Plot the files\n",
    "plt.figure()\n",
    "plt.plot(hdu[1].data['WAVELENGTH'][0],\n",
    "         hdu[1].data['NET_ERROR'][0],\n",
    "         label='Full exposure errors')\n",
    "plt.plot(hdu[1].data['WAVELENGTH'][0],\n",
    "         hdu[1].data['NET_ERROR'][0]*np.sqrt(3),\n",
    "         label='$\\\\sqrt{3}$ Sub-exposure expectation')\n",
    "\n",
    "plt.plot(hdu_int[2].data['WAVELENGTH'][0],\n",
    "         hdu_int[2].data['NET_ERROR'][0],\n",
    "         label='Sub-exposure pipeline error')\n",
    "plt.xlim(1210, 1220)\n",
    "plt.legend()\n",
    "\n",
    "plt.gca().set_ylabel('Error (counts/s)', fontsize=12)\n",
    "plt.gca().set_xlabel('Wavelength ($\\\\mathrm{\\\\AA}$)', fontsize=12)\n",
    "plt.gca().set_title('New INTTAG Implementation', fontsize=12)"
   ]
  },
  {
   "cell_type": "code",
   "execution_count": 17,
   "id": "52eb8f2b-a29b-453e-befc-cb6dbe9f42b7",
   "metadata": {
    "execution": {
     "iopub.execute_input": "2025-10-02T18:12:26.168620Z",
     "iopub.status.busy": "2025-10-02T18:12:26.168391Z",
     "iopub.status.idle": "2025-10-02T18:12:26.178049Z",
     "shell.execute_reply": "2025-10-02T18:12:26.177590Z"
    }
   },
   "outputs": [
    {
     "data": {
      "image/png": "[encoded data removed]",
      "text/plain": [
       "<IPython.core.display.Image object>"
      ]
     },
     "execution_count": 17,
     "metadata": {
      "image/png": {
       "height": 600,
       "width": 600
      }
     },
     "output_type": "execute_result"
    }
   ],
   "source": [
    "Image(filename=\"STIS_GJ436b_inttag.png\", width=600, height=600)"
   ]
  },
  {
   "cell_type": "markdown",
   "id": "e2811e06-2524-4822-8fe9-b89fe9800f15",
   "metadata": {},
   "source": [
    "Upon further inspection, it was found that this bug was related to these Poisson confidence intervals! When `inttag` fills the error arrays for the sub-exposure, rather than taking the square-root of the counts (as the pipeline would normally do), *inttag* actually used to use Astropy's poisson_confidence_interval. Unfortunately, `inttag` uses the incorrect method, choosing \"sherpagehrels\" over the more correct \"frequentist-confidence\". As we explored above, \"sherpagehrels\" actually gives symmetric lower and upper bounds, fixed to the upper bound calculated in [Gehrels (1986)](https://ui.adsabs.harvard.edu/abs/1986ApJ...303..336G/abstract). This was probably originally done because there was only room for one value in the error array, so the more conservative upper confidence interval was chosen. \n",
    "\n",
    "Furthermore, the Poisson errors are calculated at the pixel level, rather than after spectral extraction where the counts have been added up along columns. In the root-N approximation, this doesn't matter, because adding the root-N errors in quadrature is equivalent to taking the square root of the summed column:\n",
    "\n",
    "$\\sqrt{\\sum_i{(\\sqrt{n_i})^2}} = \\sqrt{\\sum_i{n_i}} = \\sqrt{N}$,\n",
    "\n",
    "where $n_i$ is the count measured on the $i$th pixel of a column and $N$ is the count for the entire column. In other words, it doesn't matter how the counts are arranged on a pixel column, all that matters is their sum. **But this is not true for Poisson errors.** Whether all your counts are centered on one pixel or whether your counts are distributed evenly accross your extraction window will change what the uncertainty on your spectrum is! \n",
    "\n",
    "You can see that in the following example, where we have to scenarios for how the flux is distributed along a column: either all the flux is in one pixel or it is evenly distributed. We then calculate the uncertainty on the extracted flux using the root-N approximation, first adding the error of each pixel in quadrature and then by summing the column and *then* calculating the error. These two methods give the same answer in both scenarios.\n",
    "\n",
    "Then, we do the same thing but using Poisson confidence intervals with `astropy`. Now, when we calculate the errors pixel-by-pixel or on the extracted flux, we get different answers depending on how the counts are distributed and depending on how we add them up!"
   ]
  },
  {
   "cell_type": "code",
   "execution_count": 18,
   "id": "c4c214f8-3ffa-4871-95e4-a302bfecf6ac",
   "metadata": {
    "execution": {
     "iopub.execute_input": "2025-10-02T18:12:26.179780Z",
     "iopub.status.busy": "2025-10-02T18:12:26.179643Z",
     "iopub.status.idle": "2025-10-02T18:12:26.197310Z",
     "shell.execute_reply": "2025-10-02T18:12:26.196896Z"
    }
   },
   "outputs": [
    {
     "name": "stdout",
     "output_type": "stream",
     "text": [
      "Scenario 1:  [0, 0, 10, 0, 0]\n",
      "Scenario 2:  [2, 2, 2, 2, 2]\n",
      "---\n",
      "Root-N Approximation\n",
      "---\n",
      "Scenario 1\n",
      "---\n",
      "Root-N approximation, add in quadrature:  3.1622776601683795\n",
      "Root-N approximation, sum column, then take sqrt:  3.1622776601683795\n",
      "---\n",
      "Poisson, pixel-by-pixel error calculation:  5.63598288256348\n",
      "Poisson upper limit, sum column, then calculate error:  4.266949761009391\n",
      "---\n",
      "Scenario 2\n",
      "---\n",
      "Root-N approximation, add in quadrature:  3.1622776601683795\n",
      "Root-N approximation, sum column, then take sqrt:  3.1622776601683795\n",
      "---\n",
      "Poisson, pixel-by-pixel error calculation:  5.898433433147927\n",
      "Poisson upper limit, sum column, then calculate error:  4.266949761009391\n"
     ]
    }
   ],
   "source": [
    "# Take two scenarios for how the counts are distributed across\n",
    "# a fictional extraction window (i.e., column)\n",
    "scenario1 = [0, 0, 10, 0, 0]\n",
    "scenario2 = [2, 2, 2, 2, 2]\n",
    "\n",
    "\n",
    "# define helper functions for the following print statements\n",
    "def quadrature(scenario):\n",
    "    return np.sqrt(np.sum([np.sqrt(i)**2 for i in scenario]))\n",
    "\n",
    "\n",
    "def sum_sq(scenario):\n",
    "    return np.sqrt(np.sum(scenario))\n",
    "\n",
    "\n",
    "def pixel_err(scenario):\n",
    "    return np.sqrt(np.sum(\n",
    "        [(poisson_conf_interval(i, interval='frequentist-confidence')[1]-i)**2\n",
    "         for i in scenario]))\n",
    "\n",
    "\n",
    "def upper_err(scenario):\n",
    "    return (poisson_conf_interval(\n",
    "            np.sum(scenario), interval='frequentist-confidence')[1]\n",
    "            - np.sum(scenario))\n",
    "\n",
    "\n",
    "# Print the errors calculated in the various scenarios\n",
    "print('Scenario 1: ', scenario1)\n",
    "print('Scenario 2: ', scenario2)\n",
    "print('---')\n",
    "print('Root-N Approximation')\n",
    "print('---')\n",
    "print('Scenario 1')\n",
    "print('---')\n",
    "print('Root-N approximation, add in quadrature: ', quadrature(scenario1))\n",
    "print('Root-N approximation, sum column, then take sqrt: ', sum_sq(scenario1))\n",
    "print('---')\n",
    "print('Poisson, pixel-by-pixel error calculation: ', pixel_err(scenario1))\n",
    "print('Poisson upper limit, sum column, then calculate error: ',\n",
    "      upper_err(scenario1))\n",
    "print('---')\n",
    "print('Scenario 2')\n",
    "print('---')\n",
    "print('Root-N approximation, add in quadrature: ', quadrature(scenario2))\n",
    "print('Root-N approximation, sum column, then take sqrt: ', sum_sq(scenario2))\n",
    "print('---')\n",
    "print('Poisson, pixel-by-pixel error calculation: ', pixel_err(scenario2))\n",
    "print('Poisson upper limit, sum column, then calculate error: ',\n",
    "      upper_err(scenario2))"
   ]
  },
  {
   "cell_type": "markdown",
   "id": "06c966da-3dc5-40a3-9b31-843c40fedd9d",
   "metadata": {},
   "source": [
    "**Recommendation:** In the end, our recommendation is to use the Poisson confidence intervals, but not at the pixel level because measurements along a column are not independent events. You would therefore be justified in calculating the Poisson confidence interval on the summed flux at each wavelength/column.\n",
    "\n",
    "This bug has been fixed in `stistools.inttag` [here](https://github.com/spacetelescope/stistools/releases/tag/1.4.5)."
   ]
  },
  {
   "cell_type": "markdown",
   "id": "a80c5585-ba00-44a1-8bab-1acb2c9b8412",
   "metadata": {},
   "source": [
    "---\n",
    "## About this Notebook <a class=\"tocSkip\">\n",
    "**Author:** [Joshua Lothringer](jlothringer@stsci.edu) with help from [Leo dos Santos](ldsantos@stsci.edu)\n",
    "\n",
    "**Updated On:** 2025-04-10\n",
    "\n",
    "\n",
    "> *This tutorial was generated to be in compliance with the [STScI style guides](https://github.com/spacetelescope/style-guides) and would like to cite the [Jupyter guide](https://github.com/spacetelescope/style-guides/blob/master/templates/example_notebook.ipynb) in particular.*\n",
    "## Citations <a class=\"tocSkip\">\n",
    "\n",
    "If you use `astropy`, `matplotlib`, `astroquery`, `scipy`, or `numpy` for published research, please cite the\n",
    "authors. Follow these links for more information about citations:\n",
    "\n",
    "* [Citing `scipy`](https://scipy.org/citing-scipy/)\n",
    "* [Citing `matplotlib`](https://matplotlib.org/stable/users/project/citing.html)\n",
    "* [Citing `numpy`](https://numpy.org/citing-numpy/)\n",
    "* [Citing `astroquery`](https://astroquery.readthedocs.io/en/latest/)\n",
    "* [Citing `astropy`](https://www.astropy.org/acknowledging.html)\n",
    "\n",
    "<hr>\n",
    "\n",
    "[Top of Page](#top)\n",
    "<img style=\"float: right;\" src=\"https://raw.githubusercontent.com/spacetelescope/notebooks/master/assets/stsci_pri_combo_mark_horizonal_white_bkgd.png\" alt=\"Space Telescope Logo\" width=\"200px\"/> "
   ]
  },
  {
   "cell_type": "code",
   "execution_count": null,
   "id": "7334ba08",
   "metadata": {},
   "outputs": [],
   "source": []
  }
 ],
 "metadata": {
  "kernelspec": {
   "display_name": "stenv_py312",
   "language": "python",
   "name": "python3"
  },
  "language_info": {
   "codemirror_mode": {
    "name": "ipython",
    "version": 3
   },
   "file_extension": ".py",
   "mimetype": "text/x-python",
   "name": "python",
   "nbconvert_exporter": "python",
   "pygments_lexer": "ipython3",
   "version": "3.11.13"
  }
 },
 "nbformat": 4,
 "nbformat_minor": 5
}
