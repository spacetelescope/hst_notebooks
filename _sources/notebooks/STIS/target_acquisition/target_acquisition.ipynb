{
 "cells": [
  {
   "cell_type": "markdown",
   "id": "6f4ff43d",
   "metadata": {},
   "source": [
    "<a id=top></a>\n",
    "# Evaluating STIS Target Acquisitions <a class=\"tocSkip\">"
   ]
  },
  {
   "cell_type": "markdown",
   "id": "c1c53d1f",
   "metadata": {
    "toc": true
   },
   "source": [
    "<h2>Learning Goals<span class=\"tocSkip\"></span></h2>\n",
    "<div class=\"toc\"><ul class=\"toc-item\"><li><span><a href=\"#Introduction\" data-toc-modified-id=\"Introduction-1\"><span class=\"toc-item-num\">1&nbsp;&nbsp;</span>Introduction</a></span><ul class=\"toc-item\"><li><span><a href=\"#Import-necessary-packages\" data-toc-modified-id=\"Import-necessary-packages-1.1\"><span class=\"toc-item-num\">1.1&nbsp;&nbsp;</span>Import necessary packages</a></span></li></ul></li><li><span><a href=\"#Define-Function-for-Plotting-Acquisition-Images-and-Performing-Target-Acquisition\" data-toc-modified-id=\"Define-Function-for-Plotting-Acquisition-Images-and-Performing-Target-Acquisition-2\"><span class=\"toc-item-num\">2&nbsp;&nbsp;</span>Define Function for Plotting Acquisition Images and Performing Target Acquisition</a></span></li><li><span><a href=\"#Successful-Target-Acquisition\" data-toc-modified-id=\"Successful-Target-Acquisition-3\"><span class=\"toc-item-num\">3&nbsp;&nbsp;</span>Successful Target Acquisition</a></span></li><li><span><a href=\"#Target-Acquisition-Failure-Cases\" data-toc-modified-id=\"Target-Acquisition-Failure-Cases-4\"><span class=\"toc-item-num\">4&nbsp;&nbsp;</span>Target Acquisition Failure Cases</a></span><ul class=\"toc-item\"><li><span><a href=\"#Guide-Stars-not-Acquired\" data-toc-modified-id=\"Guide-Stars-not-Acquired-4.1\"><span class=\"toc-item-num\">4.1&nbsp;&nbsp;</span>Guide Stars not Acquired</a></span></li><li><span><a href=\"#Guide-Star-Acquisition-Delayed\" data-toc-modified-id=\"Guide-Star-Acquisition-Delayed-4.2\"><span class=\"toc-item-num\">4.2&nbsp;&nbsp;</span>Guide Star Acquisition Delayed</a></span></li><li><span><a href=\"#Lamp-not-illuminated\" data-toc-modified-id=\"Lamp-not-illuminated-4.3\"><span class=\"toc-item-num\">4.3&nbsp;&nbsp;</span>Lamp not illuminated</a></span></li><li><span><a href=\"#Multiple-Bright-Sources\" data-toc-modified-id=\"Multiple-Bright-Sources-4.4\"><span class=\"toc-item-num\">4.4&nbsp;&nbsp;</span>Multiple Bright Sources</a></span></li><li><span><a href=\"#Saturation-of-Pixels\" data-toc-modified-id=\"Saturation-of-Pixels-4.5\"><span class=\"toc-item-num\">4.5&nbsp;&nbsp;</span>Saturation of Pixels</a></span></li><li><span><a href=\"#No-Target-in-the-Acquisition-Image\" data-toc-modified-id=\"No-Target-in-the-Acquisition-Image-4.6\"><span class=\"toc-item-num\">4.6&nbsp;&nbsp;</span>No Target in the Acquisition Image</a></span></li></ul></li></ul></div>"
   ]
  },
  {
   "cell_type": "markdown",
   "id": "add2fc32",
   "metadata": {},
   "source": [
    "## Introduction\n",
    "There are two types of STIS target acquisitions: ACQ and ACQ/PEAKUP. The ACQ is used in almost all STIS observations to center the target. The ACQ/PEAKUP can be taken after the ACQ to further refine the centering and is recommended for observations using slits with widths less than 0.2”. In this notebook, we will go through the steps for ACQ observations, and explore some success and failure cases. \n",
    "\n",
    "\n",
    "For ACQ observations, the target acquisition data has three science extensions:\n",
    "- Before Coarse Slew\n",
    "- Before Fine Slew\n",
    "- 0.2$\\times$0.2 Reference Aperture with HITM lamp\n",
    "\n",
    "The first science extension (Coarse Phase) of the acquisition raw file is an image of target in the target acquisition sub-array based on initial pointing. Then the coarse centering is performed: the software determines the position of the target with a flux weighted pointing algorithm, and calculates the slew needed to place the target at a reference point in the target acquisition sub-array; the coarse centered image is stored in the second science extension (Fine Phase). The next step is to perform fine centering: a 32 $\\times$ 32 pixel image of the reference aperture is obtained and stored in the third science extension (Reference Aperture), the location of the aperture on the detector is determined, and a fine slew is performed to center the taret in the reference aperture (to place the object precisely in a slit).\n",
    "\n",
    "For more information on ACQ target acquisition, see [Evaluating Target Acquisitions and Guiding](https://hst-docs.stsci.edu/stisdhb/chapter-5-stis-data-analysis/5-2-evaluating-target-acquisitions-and-guiding)."
   ]
  },
  {
   "cell_type": "markdown",
   "id": "ff831fcf",
   "metadata": {},
   "source": [
    "### Import necessary packages\n",
    "\n",
    "**We will import the following packages:**\n",
    "\n",
    "- `astropy.io fits` for accessing FITS files\n",
    "- `astroquery.mast Observations` for finding and downloading data from the [MAST](https://mast.stsci.edu/portal/Mashup/Clients/Mast/Portal.html) archive\n",
    "- `os` for managing system paths\n",
    "- `matplotlib` for plotting data\n",
    "- `stistools` for quick operations on STIS Data"
   ]
  },
  {
   "cell_type": "code",
   "execution_count": 1,
   "id": "5373f06c",
   "metadata": {
    "execution": {
     "iopub.execute_input": "2025-10-09T18:36:23.119918Z",
     "iopub.status.busy": "2025-10-09T18:36:23.119710Z",
     "iopub.status.idle": "2025-10-09T18:36:29.932363Z",
     "shell.execute_reply": "2025-10-09T18:36:29.931765Z"
    }
   },
   "outputs": [
    {
     "name": "stderr",
     "output_type": "stream",
     "text": [
      "/home/runner/micromamba/envs/hstcal/lib/python3.11/site-packages/stsci/tools/nmpfit.py:8: UserWarning: NMPFIT is deprecated - stsci.tools v 3.5 is the last version to contain it.\n",
      "  warnings.warn(\"NMPFIT is deprecated - stsci.tools v 3.5 is the last version to contain it.\")\n",
      "/home/runner/micromamba/envs/hstcal/lib/python3.11/site-packages/stsci/tools/gfit.py:18: UserWarning: GFIT is deprecated - stsci.tools v 3.4.12 is the last version to contain it.Use astropy.modeling instead.\n",
      "  warnings.warn(\"GFIT is deprecated - stsci.tools v 3.4.12 is the last version to contain it.\"\n"
     ]
    },
    {
     "name": "stdout",
     "output_type": "stream",
     "text": [
      "The following tasks in the stistools package can be run with TEAL:\n",
      "   basic2d      calstis     ocrreject     wavecal        x1d          x2d\n"
     ]
    }
   ],
   "source": [
    "# Import for: Reading in fits file\n",
    "from astropy.io import fits\n",
    "\n",
    "# Import for: Downloading necessary files. (Not necessary if you choose to collect data from MAST)\n",
    "from astroquery.mast import Observations\n",
    "\n",
    "# Import for: Managing system variables and paths\n",
    "import os\n",
    "\n",
    "# Import for operations on STIS Data\n",
    "import stistools\n",
    "\n",
    "# Import for: Plotting and specifying plotting parameters\n",
    "import matplotlib.pyplot as plt\n",
    "import matplotlib\n",
    "from astropy.visualization import ZScaleInterval\n",
    "matplotlib.rcParams['image.origin'] = 'lower'\n",
    "matplotlib.rcParams['image.cmap'] = 'plasma'\n",
    "matplotlib.rcParams['image.interpolation'] = 'none'\n",
    "matplotlib.rcParams['figure.figsize'] = (20, 7)"
   ]
  },
  {
   "cell_type": "markdown",
   "id": "f997c065",
   "metadata": {},
   "source": [
    "## Define Function for Plotting Acquisition Images and Performing Target Acquisition\n",
    "\n",
    "We define a function to plot the three science image extensions mentioned above, and run the stistools_tastis target acquisition method to show the result and associated information of target acquisition."
   ]
  },
  {
   "cell_type": "code",
   "execution_count": 2,
   "id": "598cbe75",
   "metadata": {
    "execution": {
     "iopub.execute_input": "2025-10-09T18:36:29.934322Z",
     "iopub.status.busy": "2025-10-09T18:36:29.934013Z",
     "iopub.status.idle": "2025-10-09T18:36:29.940893Z",
     "shell.execute_reply": "2025-10-09T18:36:29.940493Z"
    }
   },
   "outputs": [],
   "source": [
    "def acq(obs_id):\n",
    "    # Search target object by obs_id\n",
    "    target = Observations.query_criteria(obs_id=obs_id)\n",
    "    # Get a list of files associated with that target\n",
    "    acq_list = Observations.get_product_list(target)\n",
    "    # Download only the _raw and _spt fits files\n",
    "    Observations.download_products(acq_list, extension=['raw.fits', 'spt.fits'])\n",
    "    raw = os.path.join(\"./mastDownload/HST\", \"{}\".format(obs_id), \"{}_raw.fits\".format(obs_id))\n",
    "    \n",
    "    # Plot the acquisition raw images\n",
    "    with fits.open(raw) as hdu:\n",
    "        initial = hdu[1].data\n",
    "        confirm = hdu[4].data\n",
    "        lamp = hdu[7].data\n",
    "    zscaler = ZScaleInterval(contrast=0.10).get_limits \n",
    "    _, initial_max = zscaler(initial)\n",
    "    _, confirm_max = zscaler(confirm)\n",
    "    vmax = max(initial_max, confirm_max)\n",
    "    \n",
    "    # Plot the initial target position in coarse phase\n",
    "    TARGA1_1 = fits.getheader(raw, 1)[\"TARGA1\"]\n",
    "    TARGA2_1 = fits.getheader(raw, 1)[\"TARGA2\"]\n",
    "    TARGA1_2 = fits.getheader(raw, 4)[\"TARGA1\"]\n",
    "    TARGA2_2 = fits.getheader(raw, 4)[\"TARGA2\"]\n",
    "    centera1 = fits.getheader(raw, 0)[\"CENTERA1\"]\n",
    "    centera2 = fits.getheader(raw, 0)[\"CENTERA2\"]\n",
    "    sizaxis1 = fits.getheader(raw, 0)[\"sizaxis1\"]\n",
    "    sizaxis2 = fits.getheader(raw, 0)[\"sizaxis2\"]\n",
    "    corner1 = centera1 - sizaxis1/2 \n",
    "    corner2 = centera2 - sizaxis2/2\n",
    "    \n",
    "    plt.subplot(1, 3, 1)\n",
    "    plt.imshow(initial, vmin=0, vmax=vmax)\n",
    "    plt.plot([TARGA1_1-corner1+1], [TARGA2_1-corner2+1], \"x\", c=\"white\", markersize=12)\n",
    "    plt.plot([TARGA1_1-corner1+1], [TARGA2_1-corner2+1], \"x\", c=\"black\", markersize=10)\n",
    "    plt.title(\"Before Coarse Slew\")\n",
    "    plt.subplot(1, 3, 2)\n",
    "    plt.imshow(confirm, vmin=0, vmax=vmax)\n",
    "    plt.plot([TARGA1_2-corner1+1], [TARGA2_2-corner2+1], \"x\", c=\"white\", markersize=12)\n",
    "    plt.plot([TARGA1_2-corner1+1], [TARGA2_2-corner2+1], \"x\", c=\"black\", markersize=10)\n",
    "    plt.title(\"Before Fine Slew\")\n",
    "    plt.subplot(1, 3, 3)\n",
    "    plt.imshow(lamp, vmin=0, vmax=6000)\n",
    "    plt.title(r\"$0.2 \\times 0.2$ Reference Aperture with HITM lamp\")\n",
    "    plt.tight_layout()\n",
    "    \n",
    "    stistools.tastis.tastis(raw)"
   ]
  },
  {
   "cell_type": "markdown",
   "id": "269f033e",
   "metadata": {},
   "source": [
    "The PDQ quality flags of the dataset are indicated in the \"QUALITY\" field of the raw fits file 0th header, and telemetry comments are saved in the \"QUALCOM\" fields of the 0th header. The same comments can also be seen on the Preview page of the dataset on the [`MAST`](https://mast.stsci.edu/search/ui/#/hst) archive. We can get those fields to confirm the potential reasons for acquisition failure:"
   ]
  },
  {
   "cell_type": "code",
   "execution_count": 3,
   "id": "1f8e4f61",
   "metadata": {
    "execution": {
     "iopub.execute_input": "2025-10-09T18:36:29.942425Z",
     "iopub.status.busy": "2025-10-09T18:36:29.942250Z",
     "iopub.status.idle": "2025-10-09T18:36:29.945190Z",
     "shell.execute_reply": "2025-10-09T18:36:29.944798Z"
    }
   },
   "outputs": [],
   "source": [
    "def get_telemetry(obs_id):\n",
    "    raw_file = \"./mastDownload/HST/{id}/{id}_raw.fits\".format(id=obs_id)\n",
    "    quality = fits.getval(raw_file, \"QUALITY\", ext=0)\n",
    "    QUALCOM1 = fits.getval(raw_file, \"QUALCOM1\", ext=0)\n",
    "    QUALCOM2 = fits.getval(raw_file, \"QUALCOM2\", ext=0)\n",
    "    QUALCOM3 = fits.getval(raw_file, \"QUALCOM3\", ext=0)\n",
    "    print(f'The quality of this exposure is {quality}. {QUALCOM1} {QUALCOM2} {QUALCOM3}')"
   ]
  },
  {
   "cell_type": "markdown",
   "id": "a4710f99",
   "metadata": {},
   "source": [
    "## Successful Target Acquisition\n",
    "Here we present a successful target acquisition case in which the target is correctly selected from the initial pointing image, coarse centering and fine centering are successfully performed, and the target is eventually centered in the slit. The target location, coarse slew, and fine slew data are printed by stistools.tastis. Note here that the coordinate system of tastis is 1-indexed while Python is 0-indexed."
   ]
  },
  {
   "cell_type": "code",
   "execution_count": 4,
   "id": "f4199c86",
   "metadata": {
    "execution": {
     "iopub.execute_input": "2025-10-09T18:36:29.946626Z",
     "iopub.status.busy": "2025-10-09T18:36:29.946478Z",
     "iopub.status.idle": "2025-10-09T18:36:31.323643Z",
     "shell.execute_reply": "2025-10-09T18:36:31.323139Z"
    }
   },
   "outputs": [
    {
     "name": "stdout",
     "output_type": "stream",
     "text": [
      "Downloading URL https://mast.stsci.edu/api/v0.1/Download/file?uri=mast:HST/product/octka2daq_spt.fits to ./mastDownload/HST/octka2daq/octka2daq_spt.fits ..."
     ]
    },
    {
     "name": "stdout",
     "output_type": "stream",
     "text": [
      " [Done]\n"
     ]
    },
    {
     "name": "stdout",
     "output_type": "stream",
     "text": [
      "Downloading URL https://mast.stsci.edu/api/v0.1/Download/file?uri=mast:HST/product/octka2daq_raw.fits to ./mastDownload/HST/octka2daq/octka2daq_raw.fits ..."
     ]
    },
    {
     "name": "stdout",
     "output_type": "stream",
     "text": [
      " [Done]\n"
     ]
    },
    {
     "name": "stdout",
     "output_type": "stream",
     "text": [
      "===============================================================================\n",
      "octka2daq       HST/STIS    MIRVIS      F25ND3             ACQ/POINT\n",
      "prop: 14161      visit: A2    line: 1   target: HD-84937\n",
      "obs date, time: 2016-04-30    10:09:43   exposure time:  2.10\n",
      "dom GS/FGS: N6U6000023F2    sub-dom GS/FGS: N6U7000178F1\n",
      "ACQ params:     bias sub: 1510   checkbox: 3      method: FLUX CENTROID\n",
      "subarray (axis1,axis2):   size=(100,100)          corner=(487,466)\n",
      "-------------------------------------------------------------------------------\n",
      "Coarse locate phase:           Target flux in max checkbox (DN): 3194\n",
      "\n",
      "                       global          local\n",
      "                    axis1 axis2     axis1 axis2\n",
      "Target location:    531.9  516.2    45.9  51.2\n",
      "\n",
      "                    axis1 axis2     axis1  axis2         V2      V3\n",
      "                      (pixels)        (arcsec)            (arcsec)\n",
      "Estimated slew:     -3.8   0.2    -0.196  0.010       -0.131 -0.145\n",
      "-------------------------------------------------------------------------------\n",
      "Fine locate phase:            Target flux in max checkbox (DN): 3194\n",
      "\n",
      "                       global            local\n",
      "                    axis1 axis2     axis1 axis2\n",
      "Target location:    534.1  516.9    48.1  51.9\n",
      "Ref ap location:    537.4  516.3    19.4  16.3\n",
      "\n",
      "                    axis1 axis2     axis1  axis2         V2      V3\n",
      "                      (pixels)        (arcsec)           (arcsec)\n",
      "Estimated slew:     -2.1   0.6     -0.104  0.030      -0.052 -0.095\n",
      "-------------------------------------------------------------------------------\n",
      "Total est. slew:    -5.9   0.8    -0.300  0.041        -0.183 -0.241\n",
      "-------------------------------------------------------------------------------\n",
      "Your ACQ appears to have succeeded, as the fluxes in the coarse\n",
      "and fine stages agree within 25% and the fine slews were less than\n",
      "4 pixels as expected\n",
      "\n",
      "===============================================================================\n"
     ]
    }
   ],
   "source": [
    "acq(\"octka2daq\")"
   ]
  },
  {
   "cell_type": "markdown",
   "id": "0941cbd1",
   "metadata": {},
   "source": [
    "## Target Acquisition Failure Cases\n",
    "The tastis analyzes STIS target acquisitions, and prints warning information if the acquisition fails. The possible tastis failures are: \n",
    " - Telemetry indicates that the intended exposures may not have been performed.  Check the images for signal.\n",
    " - The fine slew (to center the target in the reference aperture) is larger than 4 pixels.  This may indicate a problem with your acquisition.\n",
    " - The fluxes in the maximum checkbox in the fine and coarse stages differ by more than 25%.  This may indicate a problem with your acquisition.\n",
    " - The flux in the third image of the ACQ is lower than the typical value for the lamp; the image should be checked to see if the lamp was illuminated.\n",
    " - Saturation of pixels in the second image may have affected the final centering.\n",
    " \n",
    "Sometimes a failure case might be caused by multiple acquisition warnings. In this section, we will go through several typical cases of acquisition failure. "
   ]
  },
  {
   "cell_type": "markdown",
   "id": "7fc2a958",
   "metadata": {},
   "source": [
    "### Guide Stars not Acquired\n",
    "The Take Data Flag (TDF) is an onboard pointing control system flag which, when ON, indicates that the spacecraft is ready for an observation and that the guide star tracking performance is nomial. If the TDF is down, exposures are not performed until TDF comes up.\n",
    "\n",
    "If the guide stars are not acquired during acquisition, the TDF will be turned down and no exposures will be performed. Therefore all acquisition images will be dark.\n",
    "\n",
    "In this failure case, as telemetry indicates, the TDF is down at the start and no exposure was performed. Thus there is not a clear bright source in the Before Coarse Slew and Before Fine Slew images. Usually, exposure failures can also cause other issues such as fine slew larger than 4 pixels or Ratio of Flux in Max Checkbox in Fine & Coarse Stages Greater than 25%, because the tastis algorithm cannot pick up the proper bright source in the image to perform the following steps of acquisition."
   ]
  },
  {
   "cell_type": "code",
   "execution_count": 5,
   "id": "755e15d6",
   "metadata": {
    "execution": {
     "iopub.execute_input": "2025-10-09T18:36:31.325368Z",
     "iopub.status.busy": "2025-10-09T18:36:31.325178Z",
     "iopub.status.idle": "2025-10-09T18:36:32.185291Z",
     "shell.execute_reply": "2025-10-09T18:36:32.184810Z"
    }
   },
   "outputs": [
    {
     "name": "stdout",
     "output_type": "stream",
     "text": [
      "Downloading URL https://mast.stsci.edu/api/v0.1/Download/file?uri=mast:HST/product/oeds03rzq_spt.fits to ./mastDownload/HST/oeds03rzq/oeds03rzq_spt.fits ..."
     ]
    },
    {
     "name": "stdout",
     "output_type": "stream",
     "text": [
      " [Done]\n"
     ]
    },
    {
     "name": "stdout",
     "output_type": "stream",
     "text": [
      "Downloading URL https://mast.stsci.edu/api/v0.1/Download/file?uri=mast:HST/product/oeds03rzq_raw.fits to ./mastDownload/HST/oeds03rzq/oeds03rzq_raw.fits ..."
     ]
    },
    {
     "name": "stdout",
     "output_type": "stream",
     "text": [
      " [Done]\n"
     ]
    },
    {
     "name": "stdout",
     "output_type": "stream",
     "text": [
      "===============================================================================\n",
      "oeds03rzq       HST/STIS    MIRVIS     F28X50LP             ACQ/POINT\n",
      "prop: 16218      visit: 03    line: 1   target: 47TUC-OFFSET1\n",
      "obs date, time: 2022-02-24    05:53:24   exposure time:  2.27\n",
      "dom GS/FGS: S0W5000538F2    sub-dom GS/FGS: S0WC000284F1\n",
      "ACQ params:     bias sub: 1536   checkbox: 3      method: FLUX CENTROID\n",
      "subarray (axis1,axis2):   size=(100,100)          corner=(487,466)\n",
      "-------------------------------------------------------------------------------\n",
      "Coarse locate phase:           Target flux in max checkbox (DN): 106\n",
      "\n",
      "                       global          local\n",
      "                    axis1 axis2     axis1 axis2\n",
      "Target location:    533.0  564.0    47.0  99.0\n",
      "\n",
      "                    axis1 axis2     axis1  axis2         V2      V3\n",
      "                      (pixels)        (arcsec)            (arcsec)\n",
      "Estimated slew:     -2.7  48.0    -0.139  2.438        1.626 -1.822\n",
      "-------------------------------------------------------------------------------\n",
      "Fine locate phase:            Target flux in max checkbox (DN): 103\n",
      "\n",
      "                       global            local\n",
      "                    axis1 axis2     axis1 axis2\n",
      "Target location:    536.0  563.0    50.0  98.0\n",
      "Ref ap location:     1.0   1.0    -517.0  -499.0\n",
      "\n",
      "                    axis1 axis2     axis1  axis2         V2      V3\n",
      "                      (pixels)        (arcsec)           (arcsec)\n",
      "Estimated slew:     536.3  562.0     27.242 28.550      39.451 -0.924\n",
      "-------------------------------------------------------------------------------\n",
      "Total est. slew:    533.5  610.0    27.104 30.988        41.077 -2.746\n",
      "-------------------------------------------------------------------------------\n",
      "Telemetry indicates that the intended exposures may not have\n",
      "been performed.  Check the images for signal.\n",
      "\n",
      "The fine slew (to center the target in the reference aperture) is larger\n",
      "than 4 pixels.  This may indicate a problem with your acquisition.\n",
      "\n",
      "The flux in the third image of the ACQ is lower than the typical value for\n",
      ")the lamp; the image should be checked to see if the lamp was illuminated.\n",
      "\n",
      "===============================================================================\n"
     ]
    }
   ],
   "source": [
    "acq(\"oeds03rzq\")"
   ]
  },
  {
   "cell_type": "markdown",
   "id": "f1bf2601",
   "metadata": {},
   "source": [
    "Telemetry of this observation confirms that the guide star acquisition failed and the aperture door was closed throughout the exposure:"
   ]
  },
  {
   "cell_type": "code",
   "execution_count": 6,
   "id": "35fd0606",
   "metadata": {
    "execution": {
     "iopub.execute_input": "2025-10-09T18:36:32.186932Z",
     "iopub.status.busy": "2025-10-09T18:36:32.186779Z",
     "iopub.status.idle": "2025-10-09T18:36:32.193461Z",
     "shell.execute_reply": "2025-10-09T18:36:32.193020Z"
    }
   },
   "outputs": [
    {
     "name": "stdout",
     "output_type": "stream",
     "text": [
      "The quality of this exposure is GSFAIL. Guide star acquisition failed. Observation taken on gyros only. STIS CCD aperture door shut throughout exposure. \n"
     ]
    }
   ],
   "source": [
    "get_telemetry(\"oeds03rzq\")"
   ]
  },
  {
   "cell_type": "markdown",
   "id": "89b1d515",
   "metadata": {},
   "source": [
    "### Guide Star Acquisition Delayed\n",
    "In this failure case, the guide star acquisition is delayed during the coarse phase, but the guide stars are then acquired in the fine phase. Therefore the first acquisition image is dark while the target is in the second acquisition image. Eventually the target will still be centered, but the large fine slews may result in less precise positioning."
   ]
  },
  {
   "cell_type": "code",
   "execution_count": 7,
   "id": "b9550b38",
   "metadata": {
    "execution": {
     "iopub.execute_input": "2025-10-09T18:36:32.194953Z",
     "iopub.status.busy": "2025-10-09T18:36:32.194794Z",
     "iopub.status.idle": "2025-10-09T18:36:33.033607Z",
     "shell.execute_reply": "2025-10-09T18:36:33.033017Z"
    }
   },
   "outputs": [
    {
     "name": "stdout",
     "output_type": "stream",
     "text": [
      "Downloading URL https://mast.stsci.edu/api/v0.1/Download/file?uri=mast:HST/product/oe1l55vjq_spt.fits to ./mastDownload/HST/oe1l55vjq/oe1l55vjq_spt.fits ..."
     ]
    },
    {
     "name": "stdout",
     "output_type": "stream",
     "text": [
      " [Done]\n"
     ]
    },
    {
     "name": "stdout",
     "output_type": "stream",
     "text": [
      "Downloading URL https://mast.stsci.edu/api/v0.1/Download/file?uri=mast:HST/product/oe1l55vjq_raw.fits to ./mastDownload/HST/oe1l55vjq/oe1l55vjq_raw.fits ..."
     ]
    },
    {
     "name": "stdout",
     "output_type": "stream",
     "text": [
      " [Done]\n"
     ]
    },
    {
     "name": "stdout",
     "output_type": "stream",
     "text": [
      "===============================================================================\n",
      "oe1l55vjq       HST/STIS    MIRVIS      F25ND5             ACQ/POINT\n",
      "prop: 15905      visit: 55    line: 1   target: FOMALHAUT2\n",
      "obs date, time: 2021-08-20    08:11:54   exposure time:  2.87\n",
      "dom GS/FGS: SBKK000020F3    sub-dom GS/FGS: SBLC000216F2\n",
      "ACQ params:     bias sub: 1536   checkbox: 3      method: FLUX CENTROID\n",
      "subarray (axis1,axis2):   size=(100,100)          corner=(487,466)\n",
      "-------------------------------------------------------------------------------\n",
      "Coarse locate phase:           Target flux in max checkbox (DN): 106\n",
      "\n",
      "                       global          local\n",
      "                    axis1 axis2     axis1 axis2\n",
      "Target location:    541.0  516.9    55.0  51.9\n",
      "\n",
      "                    axis1 axis2     axis1  axis2         V2      V3\n",
      "                      (pixels)        (arcsec)            (arcsec)\n",
      "Estimated slew:      5.3   0.9     0.267  0.046        0.221  0.156\n",
      "-------------------------------------------------------------------------------\n",
      "Fine locate phase:            Target flux in max checkbox (DN): 21788\n",
      "\n",
      "                       global            local\n",
      "                    axis1 axis2     axis1 axis2\n",
      "Target location:    538.0  513.9    52.0  48.9\n",
      "Ref ap location:    536.6  516.3    18.6  16.3\n",
      "\n",
      "                    axis1 axis2     axis1  axis2         V2      V3\n",
      "                      (pixels)        (arcsec)           (arcsec)\n",
      "Estimated slew:      2.6  -2.4      0.135 -0.122       0.009  0.181\n",
      "-------------------------------------------------------------------------------\n",
      "Total est. slew:     7.9  -1.5     0.401 -0.076         0.230  0.338\n",
      "-------------------------------------------------------------------------------\n",
      "Telemetry indicates that the intended exposures may not have\n",
      "been performed.  Check the images for signal.\n",
      "\n",
      "The fluxes in the maximum checkbox in the fine and coarse stages differ\n",
      "by more than 25%.  This may indicate a problem with your acquisition.\n",
      "\n",
      "===============================================================================\n"
     ]
    }
   ],
   "source": [
    "acq(\"oe1l55vjq\")"
   ]
  },
  {
   "cell_type": "markdown",
   "id": "40854764",
   "metadata": {},
   "source": [
    "Telemetry of this observation suggests that the guide star acquisition was delayed and the exposure was shortened:"
   ]
  },
  {
   "cell_type": "code",
   "execution_count": 8,
   "id": "06354433",
   "metadata": {
    "execution": {
     "iopub.execute_input": "2025-10-09T18:36:33.035305Z",
     "iopub.status.busy": "2025-10-09T18:36:33.035111Z",
     "iopub.status.idle": "2025-10-09T18:36:33.041897Z",
     "shell.execute_reply": "2025-10-09T18:36:33.041462Z"
    }
   },
   "outputs": [
    {
     "name": "stdout",
     "output_type": "stream",
     "text": [
      "The quality of this exposure is GSFAIL; EXPSHORT; TDF-DOWN. Guide star acquisition delayed. STIS CCD aperture door shut throughout exposure. \n"
     ]
    }
   ],
   "source": [
    "get_telemetry(\"oe1l55vjq\")"
   ]
  },
  {
   "cell_type": "markdown",
   "id": "e3eb86d5",
   "metadata": {},
   "source": [
    "### Lamp not illuminated\n",
    "As shown in the reference aperture, the reference aperture HITM lamp is dark and it has a flux smaller than the typical minumun value for the lamp. Usually, this kind of failure occurs if the TDF is down when the lamp image is taken; however, in some rare cases, the lamp might not be functioning. If the lamp image is blank, the target might not be centered in the reference aperture."
   ]
  },
  {
   "cell_type": "code",
   "execution_count": 9,
   "id": "51a70119",
   "metadata": {
    "execution": {
     "iopub.execute_input": "2025-10-09T18:36:33.043334Z",
     "iopub.status.busy": "2025-10-09T18:36:33.043170Z",
     "iopub.status.idle": "2025-10-09T18:36:33.917762Z",
     "shell.execute_reply": "2025-10-09T18:36:33.917307Z"
    }
   },
   "outputs": [
    {
     "name": "stdout",
     "output_type": "stream",
     "text": [
      "Downloading URL https://mast.stsci.edu/api/v0.1/Download/file?uri=mast:HST/product/oec62hj6q_spt.fits to ./mastDownload/HST/oec62hj6q/oec62hj6q_spt.fits ..."
     ]
    },
    {
     "name": "stdout",
     "output_type": "stream",
     "text": [
      " [Done]\n"
     ]
    },
    {
     "name": "stdout",
     "output_type": "stream",
     "text": [
      "Downloading URL https://mast.stsci.edu/api/v0.1/Download/file?uri=mast:HST/product/oec62hj6q_raw.fits to ./mastDownload/HST/oec62hj6q/oec62hj6q_raw.fits ..."
     ]
    },
    {
     "name": "stdout",
     "output_type": "stream",
     "text": [
      " [Done]\n"
     ]
    },
    {
     "name": "stdout",
     "output_type": "stream",
     "text": [
      "===============================================================================\n",
      "oec62hj6q       HST/STIS    MIRVIS     F28X50LP             ACQ/POINT\n",
      "prop: 16230      visit: 2H    line: 1   target: LMC-X-4\n",
      "obs date, time: 2021-04-11    23:09:27   exposure time:  4.77\n",
      "dom GS/FGS: S13H000373F1    sub-dom GS/FGS: S13H000845F2\n",
      "ACQ params:     bias sub: 1536   checkbox: 3      method: FLUX CENTROID\n",
      "subarray (axis1,axis2):   size=(100,100)          corner=(487,466)\n",
      "-------------------------------------------------------------------------------\n",
      "Coarse locate phase:           Target flux in max checkbox (DN): 3788\n",
      "\n",
      "                       global          local\n",
      "                    axis1 axis2     axis1 axis2\n",
      "Target location:    534.7  515.0    48.7  50.0\n",
      "\n",
      "                    axis1 axis2     axis1  axis2         V2      V3\n",
      "                      (pixels)        (arcsec)            (arcsec)\n",
      "Estimated slew:     -1.0  -1.0    -0.052 -0.051       -0.073 -0.001\n",
      "-------------------------------------------------------------------------------\n",
      "Fine locate phase:            Target flux in max checkbox (DN): 3955\n",
      "\n",
      "                       global            local\n",
      "                    axis1 axis2     axis1 axis2\n",
      "Target location:    533.9  516.3    47.9  51.3\n",
      "Ref ap location:     1.0   1.0    -517.0  -499.0\n",
      "\n",
      "                    axis1 axis2     axis1  axis2         V2      V3\n",
      "                      (pixels)        (arcsec)           (arcsec)\n",
      "Estimated slew:     534.2  515.3     27.136 26.177      37.698  0.678\n",
      "-------------------------------------------------------------------------------\n",
      "Total est. slew:    533.1  514.3    27.084 26.126        37.625  0.677\n",
      "-------------------------------------------------------------------------------\n",
      "The fine slew (to center the target in the reference aperture) is larger\n",
      "than 4 pixels.  This may indicate a problem with your acquisition.\n",
      "\n",
      "The flux in the third image of the ACQ is lower than the typical value for\n",
      ")the lamp; the image should be checked to see if the lamp was illuminated.\n",
      "\n",
      "===============================================================================\n"
     ]
    }
   ],
   "source": [
    "acq(\"oec62hj6q\")"
   ]
  },
  {
   "cell_type": "markdown",
   "id": "3d26dbed",
   "metadata": {},
   "source": [
    "The LOCKLOST quality flag suggests that guide star was lost during the guide period, and thus the exposure was shortened and the lamp was not illuminated:"
   ]
  },
  {
   "cell_type": "code",
   "execution_count": 10,
   "id": "a497ad38",
   "metadata": {
    "execution": {
     "iopub.execute_input": "2025-10-09T18:36:33.919469Z",
     "iopub.status.busy": "2025-10-09T18:36:33.919190Z",
     "iopub.status.idle": "2025-10-09T18:36:33.925947Z",
     "shell.execute_reply": "2025-10-09T18:36:33.925536Z"
    }
   },
   "outputs": [
    {
     "name": "stdout",
     "output_type": "stream",
     "text": [
      "The quality of this exposure is EXPSHORT; LOCKLOST; TDF-DOWN. Take Data Flag NOT on throughout observation. STIS CCD shutter closed during all or part of exposure. \n"
     ]
    }
   ],
   "source": [
    "get_telemetry(\"oec62hj6q\")"
   ]
  },
  {
   "cell_type": "markdown",
   "id": "99afd19b",
   "metadata": {},
   "source": [
    "### Multiple Bright Sources\n",
    "If there are multiple bright sources in a single acquisition image, the maximum checkbox will go through the image and find the brightest one. However, the presence of a source brighter than the target might confuse the algorithm and the acquisition might center at the wrong target."
   ]
  },
  {
   "cell_type": "code",
   "execution_count": 11,
   "id": "1b76ea7a",
   "metadata": {
    "execution": {
     "iopub.execute_input": "2025-10-09T18:36:33.927423Z",
     "iopub.status.busy": "2025-10-09T18:36:33.927193Z",
     "iopub.status.idle": "2025-10-09T18:36:34.775180Z",
     "shell.execute_reply": "2025-10-09T18:36:34.774701Z"
    }
   },
   "outputs": [
    {
     "name": "stdout",
     "output_type": "stream",
     "text": [
      "Downloading URL https://mast.stsci.edu/api/v0.1/Download/file?uri=mast:HST/product/odkt01bvq_spt.fits to ./mastDownload/HST/odkt01bvq/odkt01bvq_spt.fits ..."
     ]
    },
    {
     "name": "stdout",
     "output_type": "stream",
     "text": [
      " [Done]\n"
     ]
    },
    {
     "name": "stdout",
     "output_type": "stream",
     "text": [
      "Downloading URL https://mast.stsci.edu/api/v0.1/Download/file?uri=mast:HST/product/odkt01bvq_raw.fits to ./mastDownload/HST/odkt01bvq/odkt01bvq_raw.fits ..."
     ]
    },
    {
     "name": "stdout",
     "output_type": "stream",
     "text": [
      " [Done]\n"
     ]
    },
    {
     "name": "stdout",
     "output_type": "stream",
     "text": [
      "===============================================================================\n",
      "odkt01bvq       HST/STIS    MIRVIS     F28X50LP             ACQ/POINT\n",
      "prop: 15273      visit: 01    line: 1   target: V838HER\n",
      "obs date, time: 2018-10-01    06:13:32   exposure time: 50.10\n",
      "dom GS/FGS: N28G000937F2    sub-dom GS/FGS: N28G000392F1\n",
      "ACQ params:     bias sub: 1536   checkbox: 3      method: FLUX CENTROID\n",
      "subarray (axis1,axis2):   size=(100,100)          corner=(487,466)\n",
      "-------------------------------------------------------------------------------\n",
      "Coarse locate phase:           Target flux in max checkbox (DN): 1935\n",
      "\n",
      "                       global          local\n",
      "                    axis1 axis2     axis1 axis2\n",
      "Target location:    488.1  515.8     2.1  50.8\n",
      "\n",
      "                    axis1 axis2     axis1  axis2         V2      V3\n",
      "                      (pixels)        (arcsec)            (arcsec)\n",
      "Estimated slew:     -47.6  -0.2    -2.420 -0.010       -1.718 -1.704\n",
      "-------------------------------------------------------------------------------\n",
      "Fine locate phase:            Target flux in max checkbox (DN): 1989\n",
      "\n",
      "                       global            local\n",
      "                    axis1 axis2     axis1 axis2\n",
      "Target location:    533.2  516.2    47.2  51.2\n",
      "Ref ap location:    537.6  516.3    19.6  16.3\n",
      "\n",
      "                    axis1 axis2     axis1  axis2         V2      V3\n",
      "                      (pixels)        (arcsec)           (arcsec)\n",
      "Estimated slew:     -3.1  -0.1     -0.159 -0.005      -0.116 -0.109\n",
      "-------------------------------------------------------------------------------\n",
      "Total est. slew:    -50.8  -0.3    -2.579 -0.015        -1.834 -1.813\n",
      "-------------------------------------------------------------------------------\n",
      "Your ACQ appears to have succeeded, as the fluxes in the coarse\n",
      "and fine stages agree within 25% and the fine slews were less than\n",
      "4 pixels as expected\n",
      "\n",
      "===============================================================================\n"
     ]
    }
   ],
   "source": [
    "acq(\"odkt01bvq\")"
   ]
  },
  {
   "cell_type": "markdown",
   "id": "ed853e94",
   "metadata": {},
   "source": [
    "### Saturation of Pixels\n",
    "For the CCD detector, if a pixel is saturated, the excess charge will leak to adjacent pixels in the column. Saturations of pixels will affect the target flux in the max checkbox and the final centering."
   ]
  },
  {
   "cell_type": "code",
   "execution_count": 12,
   "id": "c9ccebc4",
   "metadata": {
    "execution": {
     "iopub.execute_input": "2025-10-09T18:36:34.776777Z",
     "iopub.status.busy": "2025-10-09T18:36:34.776612Z",
     "iopub.status.idle": "2025-10-09T18:36:35.556013Z",
     "shell.execute_reply": "2025-10-09T18:36:35.555475Z"
    }
   },
   "outputs": [
    {
     "name": "stdout",
     "output_type": "stream",
     "text": [
      "Downloading URL https://mast.stsci.edu/api/v0.1/Download/file?uri=mast:HST/product/oe4h03rdq_spt.fits to ./mastDownload/HST/oe4h03rdq/oe4h03rdq_spt.fits ..."
     ]
    },
    {
     "name": "stdout",
     "output_type": "stream",
     "text": [
      " [Done]\n"
     ]
    },
    {
     "name": "stdout",
     "output_type": "stream",
     "text": [
      "Downloading URL https://mast.stsci.edu/api/v0.1/Download/file?uri=mast:HST/product/oe4h03rdq_raw.fits to ./mastDownload/HST/oe4h03rdq/oe4h03rdq_raw.fits ..."
     ]
    },
    {
     "name": "stdout",
     "output_type": "stream",
     "text": [
      " [Done]\n"
     ]
    },
    {
     "name": "stdout",
     "output_type": "stream",
     "text": [
      "===============================================================================\n",
      "oe4h03rdq       HST/STIS    MIRVIS     F28X50LP             ACQ/POINT\n",
      "prop: 15836      visit: 03    line: 1   target: V-AU-MIC-1\n",
      "obs date, time: 2020-07-03    00:20:25   exposure time:  0.50\n",
      "dom GS/FGS: SCLW000169F1    sub-dom GS/FGS: SCLW000085F2\n",
      "ACQ params:     bias sub: 1536   checkbox: 3      method: FLUX CENTROID\n",
      "subarray (axis1,axis2):   size=(100,100)          corner=(487,466)\n",
      "-------------------------------------------------------------------------------\n",
      "Coarse locate phase:           Target flux in max checkbox (DN): 233847\n",
      "\n",
      "                       global          local\n",
      "                    axis1 axis2     axis1 axis2\n",
      "Target location:    534.8  513.0    48.8  48.0\n",
      "\n",
      "                    axis1 axis2     axis1  axis2         V2      V3\n",
      "                      (pixels)        (arcsec)            (arcsec)\n",
      "Estimated slew:     -0.9  -3.0    -0.047 -0.152       -0.141  0.074\n",
      "-------------------------------------------------------------------------------\n",
      "Fine locate phase:            Target flux in max checkbox (DN): 218485\n",
      "\n",
      "                       global            local\n",
      "                    axis1 axis2     axis1 axis2\n",
      "Target location:    533.9  516.9    47.9  51.9\n",
      "Ref ap location:    537.5  515.5    19.5  15.5\n",
      "\n",
      "                    axis1 axis2     axis1  axis2         V2      V3\n",
      "                      (pixels)        (arcsec)           (arcsec)\n",
      "Estimated slew:     -2.3   1.4     -0.118  0.071      -0.033 -0.134\n",
      "-------------------------------------------------------------------------------\n",
      "Total est. slew:    -3.3  -1.6    -0.166 -0.081        -0.175 -0.060\n",
      "-------------------------------------------------------------------------------\n",
      "Saturation of pixels in the second image may have affected\n",
      "the final centering.\n",
      "\n",
      "===============================================================================\n"
     ]
    }
   ],
   "source": [
    "acq(\"oe4h03rdq\")"
   ]
  },
  {
   "cell_type": "markdown",
   "id": "bf5a726b",
   "metadata": {},
   "source": [
    "If we zoom in to the center of the second acquisition image and change the color scale, we can see that the pixels in the center are saturated, and the excess charges follow downward along the column so that the pixels below are affected."
   ]
  },
  {
   "cell_type": "code",
   "execution_count": 13,
   "id": "b7c1ccae",
   "metadata": {
    "execution": {
     "iopub.execute_input": "2025-10-09T18:36:35.557579Z",
     "iopub.status.busy": "2025-10-09T18:36:35.557413Z",
     "iopub.status.idle": "2025-10-09T18:36:35.567199Z",
     "shell.execute_reply": "2025-10-09T18:36:35.566667Z"
    }
   },
   "outputs": [
    {
     "data": {
      "text/plain": [
       "(35.0, 65.0)"
      ]
     },
     "execution_count": 13,
     "metadata": {},
     "output_type": "execute_result"
    }
   ],
   "source": [
    "raw = os.path.join(\"./mastDownload/HST\", \"{}\".format(\"oe4h03rdq\"), \"{}_raw.fits\".format(\"oe4h03rdq\"))\n",
    "with fits.open(raw) as hdu:\n",
    "    confirm = hdu[4].data\n",
    "plt.imshow(confirm, vmin=0, vmax=1e4)\n",
    "plt.xlim(32, 62)\n",
    "plt.ylim(35, 65)"
   ]
  },
  {
   "cell_type": "markdown",
   "id": "3dda1eaa",
   "metadata": {},
   "source": [
    "### No Target in the Acquisition Image\n",
    "In this failure case, the guide stars were acquired successfully, and the TDF is always on through the exposure. However, the first and second acquisition images are blank and no target is acquired. This kind of failure happens if the submitted target location/orientation is wrong, or the source is too faint to be observed."
   ]
  },
  {
   "cell_type": "code",
   "execution_count": 14,
   "id": "9d262bfd",
   "metadata": {
    "execution": {
     "iopub.execute_input": "2025-10-09T18:36:35.568772Z",
     "iopub.status.busy": "2025-10-09T18:36:35.568608Z",
     "iopub.status.idle": "2025-10-09T18:36:36.439424Z",
     "shell.execute_reply": "2025-10-09T18:36:36.438842Z"
    }
   },
   "outputs": [
    {
     "name": "stdout",
     "output_type": "stream",
     "text": [
      "Downloading URL https://mast.stsci.edu/api/v0.1/Download/file?uri=mast:HST/product/ocyg39yoq_spt.fits to ./mastDownload/HST/ocyg39yoq/ocyg39yoq_spt.fits ..."
     ]
    },
    {
     "name": "stdout",
     "output_type": "stream",
     "text": [
      " [Done]\n"
     ]
    },
    {
     "name": "stdout",
     "output_type": "stream",
     "text": [
      "Downloading URL https://mast.stsci.edu/api/v0.1/Download/file?uri=mast:HST/product/ocyg39yoq_raw.fits to ./mastDownload/HST/ocyg39yoq/ocyg39yoq_raw.fits ..."
     ]
    },
    {
     "name": "stdout",
     "output_type": "stream",
     "text": [
      " [Done]\n"
     ]
    },
    {
     "name": "stdout",
     "output_type": "stream",
     "text": [
      "===============================================================================\n",
      "ocyg39yoq       HST/STIS    MIRVIS     F28X50LP             ACQ/POINT\n",
      "prop: 14257      visit: 39    line: 1   target: C2013X1\n",
      "obs date, time: 2016-06-10    12:33:13   exposure time:  2.10\n",
      "dom GS/FGS: SCJV000223F1    sub-dom GS/FGS: NONE\n",
      "ACQ params:     bias sub: 1510   checkbox: 3      method: FLUX CENTROID\n",
      "subarray (axis1,axis2):   size=(100,100)          corner=(487,466)\n",
      "-------------------------------------------------------------------------------\n",
      "Coarse locate phase:           Target flux in max checkbox (DN): 295\n",
      "\n",
      "                       global          local\n",
      "                    axis1 axis2     axis1 axis2\n",
      "Target location:    537.0  549.0    51.0  84.0\n",
      "\n",
      "                    axis1 axis2     axis1  axis2         V2      V3\n",
      "                      (pixels)        (arcsec)            (arcsec)\n",
      "Estimated slew:      1.3  33.0     0.065  1.676        1.231 -1.140\n",
      "-------------------------------------------------------------------------------\n",
      "Fine locate phase:            Target flux in max checkbox (DN): 304\n",
      "\n",
      "                       global            local\n",
      "                    axis1 axis2     axis1 axis2\n",
      "Target location:    493.0  555.0     7.0  90.0\n",
      "Ref ap location:    537.5  515.5    19.5  15.5\n",
      "\n",
      "                    axis1 axis2     axis1  axis2         V2      V3\n",
      "                      (pixels)        (arcsec)           (arcsec)\n",
      "Estimated slew:     -43.2  39.5     -2.196  2.007      -0.134 -2.972\n",
      "-------------------------------------------------------------------------------\n",
      "Total est. slew:    -42.0  72.5    -2.132  3.683         1.097 -4.112\n",
      "-------------------------------------------------------------------------------\n",
      "The fine slew (to center the target in the reference aperture) is larger\n",
      "than 4 pixels.  This may indicate a problem with your acquisition.\n",
      "\n",
      "===============================================================================\n"
     ]
    }
   ],
   "source": [
    "acq(\"ocyg39yoq\")"
   ]
  },
  {
   "cell_type": "markdown",
   "id": "9245c4f8",
   "metadata": {},
   "source": [
    "\n",
    "---\n",
    "## About this Notebook <a class=\"tocSkip\">\n",
    "**Author:** [Keyi Ding](kding@stsci.edu)\n",
    "\n",
    "**Updated On:** 2023-04-12\n",
    "\n",
    "\n",
    "> *This tutorial was generated to be in compliance with the [STScI style guides](https://github.com/spacetelescope/style-guides) and would like to cite the [Jupyter guide](https://github.com/spacetelescope/style-guides/blob/master/templates/example_notebook.ipynb) in particular.*\n",
    "## Citations <a class=\"tocSkip\">\n",
    "\n",
    "If you use `astropy`, `matplotlib`, `astroquery`, or `numpy` for published research, please cite the\n",
    "authors. Follow these links for more information about citations:\n",
    "\n",
    "* [Citing `matplotlib`](https://matplotlib.org/stable/users/project/citing.html)\n",
    "* [Citing `numpy`](https://numpy.org/citing-numpy/)\n",
    "* [Citing `astroquery`](https://astroquery.readthedocs.io/en/latest/)\n",
    "* [Citing `astropy`](https://www.astropy.org/acknowledging.html)\n",
    "\n",
    "<hr>\n",
    "\n",
    "[Top of Page](#top)\n",
    "<img style=\"float: right;\" src=\"https://raw.githubusercontent.com/spacetelescope/notebooks/master/assets/stsci_pri_combo_mark_horizonal_white_bkgd.png\" alt=\"Space Telescope Logo\" width=\"200px\"/> "
   ]
  },
  {
   "cell_type": "code",
   "execution_count": null,
   "id": "a4d13e9e",
   "metadata": {},
   "outputs": [],
   "source": []
  }
 ],
 "metadata": {
  "kernelspec": {
   "display_name": "Python 3 (ipykernel)",
   "language": "python",
   "name": "python3"
  },
  "language_info": {
   "codemirror_mode": {
    "name": "ipython",
    "version": 3
   },
   "file_extension": ".py",
   "mimetype": "text/x-python",
   "name": "python",
   "nbconvert_exporter": "python",
   "pygments_lexer": "ipython3",
   "version": "3.11.13"
  },
  "toc": {
   "base_numbering": 1,
   "nav_menu": {},
   "number_sections": true,
   "sideBar": true,
   "skip_h1_title": true,
   "title_cell": "Learning Goals",
   "title_sidebar": "Contents",
   "toc_cell": true,
   "toc_position": {
    "height": "calc(100% - 180px)",
    "left": "10px",
    "top": "150px",
    "width": "409.6px"
   },
   "toc_section_display": true,
   "toc_window_display": true
  }
 },
 "nbformat": 4,
 "nbformat_minor": 5
}
